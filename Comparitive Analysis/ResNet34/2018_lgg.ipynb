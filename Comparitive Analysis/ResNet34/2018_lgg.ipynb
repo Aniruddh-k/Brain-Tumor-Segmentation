{
 "cells": [
  {
   "cell_type": "code",
   "execution_count": 1,
   "id": "64483d85",
   "metadata": {},
   "outputs": [
    {
     "name": "stdout",
     "output_type": "stream",
     "text": [
      "🔍 Checking Dataset Path...\n",
      "['Brats18_2013_0_1', 'Brats18_2013_15_1', 'Brats18_2013_16_1', 'Brats18_2013_1_1', 'Brats18_2013_24_1']\n"
     ]
    }
   ],
   "source": [
    "import os\n",
    "\n",
    "DATASET_PATH = r\"C:\\Users\\Dell\\.cache\\kagglehub\\datasets\\sanglequang\\brats2018\\versions\\10\\MICCAI_BraTS_2018_Data_Training\\LGG\"\n",
    "\n",
    "\n",
    "print(\"🔍 Checking Dataset Path...\")\n",
    "print(os.listdir(DATASET_PATH)[:5])"
   ]
  },
  {
   "cell_type": "code",
   "execution_count": 2,
   "id": "7d764b82",
   "metadata": {},
   "outputs": [],
   "source": [
    "from torch.utils.data import Dataset\n",
    "import os, glob\n",
    "import torch\n",
    "import numpy as np\n",
    "import nibabel as nib\n",
    "import torch.nn.functional as F\n",
    "from torchvision import transforms\n",
    "\n",
    "class BraTSDataset(Dataset):\n",
    "    def __init__(self, dataset_path):\n",
    "        self.dataset_path = dataset_path\n",
    "        self.modalities = [\"flair\", \"t1\", \"t1ce\", \"t2\"]\n",
    "        self.patients = []\n",
    "\n",
    "        # Pretrained model normalization (ImageNet)\n",
    "        self.img_transform = transforms.Normalize(\n",
    "            mean=[0.485, 0.456, 0.406],\n",
    "            std=[0.229, 0.224, 0.225]\n",
    "        )\n",
    "\n",
    "        all_patients = sorted(os.listdir(dataset_path))\n",
    "        for patient in all_patients:\n",
    "            patient_path = os.path.join(dataset_path, patient)\n",
    "            try:\n",
    "                _ = [self.load_nii(patient_path, mod) for mod in self.modalities]\n",
    "                _ = self.load_nii(patient_path, \"seg\")\n",
    "                self.patients.append(patient)\n",
    "            except:\n",
    "                print(f\"⚠️ Skipping {patient} in init due to missing files\")\n",
    "\n",
    "    def __len__(self):\n",
    "        return len(self.patients)\n",
    "\n",
    "    def load_nii(self, patient_folder, modality):\n",
    "        possible_files = glob.glob(os.path.join(patient_folder, f\"*{modality}*.nii*\"))\n",
    "        if not possible_files and modality == \"t1\":\n",
    "            possible_files = glob.glob(os.path.join(patient_folder, f\"*ROI*{modality}*.nii*\"))\n",
    "        if not possible_files:\n",
    "            raise FileNotFoundError(f\"❌ No file found for modality '{modality}' in {patient_folder}\")\n",
    "        possible_files.sort(key=lambda x: x.endswith(\".gz\"), reverse=True)\n",
    "        file_path = possible_files[0]\n",
    "        return nib.load(file_path).get_fdata()\n",
    "\n",
    "    def __getitem__(self, idx):\n",
    "        patient = self.patients[idx]\n",
    "        patient_path = os.path.join(self.dataset_path, patient)\n",
    "\n",
    "        try:\n",
    "            # Only load the first 3 modalities (flair, t1, t2)\n",
    "            images = [self.load_nii(patient_path, mod) for mod in self.modalities[:3]]  # [3, 240, 240, 155]\n",
    "            images = np.stack(images, axis=0)  # [3, 240, 240, 155]\n",
    "\n",
    "            mask = self.load_nii(patient_path, \"seg\")  # [240, 240, 155]\n",
    "            slice_idx = mask.shape[-1] // 2\n",
    "\n",
    "            # Select the slice and create a 3-channel image\n",
    "            image = images[:, :, :, slice_idx]  # [3, 240, 240]\n",
    "            mask = mask[:, :, slice_idx]         # [240, 240]\n",
    "\n",
    "            # Normalize image to [0, 1]\n",
    "            image = image.astype(np.float32)\n",
    "            image = (image - image.min()) / (image.max() - image.min() + 1e-8)\n",
    "\n",
    "            # Convert to torch tensor\n",
    "            image_tensor = torch.tensor(image, dtype=torch.float32)  # [3, 240, 240]\n",
    "            mask_tensor = torch.tensor(mask, dtype=torch.long)       # [240, 240]\n",
    "\n",
    "            # Resize both to 224x224\n",
    "            image_tensor = F.interpolate(image_tensor.unsqueeze(0), size=(224, 224), mode=\"bilinear\", align_corners=False).squeeze(0)\n",
    "            mask_tensor = mask_tensor.unsqueeze(0).unsqueeze(0).float()\n",
    "            mask_tensor = F.interpolate(mask_tensor, size=(224, 224), mode=\"nearest\").squeeze(0).squeeze(0).long()\n",
    "\n",
    "            # Apply normalization for pretrained model\n",
    "            image_tensor = self.img_transform(image_tensor)\n",
    "\n",
    "            print(f\"✅ Loaded {patient}: Image {image_tensor.shape}, Mask {mask_tensor.shape}\")\n",
    "            return image_tensor, mask_tensor\n",
    "\n",
    "        except FileNotFoundError as e:\n",
    "            print(f\"⚠️ Skipping {patient} due to missing files: {e}\")\n",
    "            return None\n",
    "\n",
    "\n",
    "# ➕ Custom collate_fn to skip Nones in batches\n",
    "def skip_none_collate(batch):\n",
    "    batch = [b for b in batch if b is not None]\n",
    "    if len(batch) == 0:\n",
    "        return torch.empty(0), torch.empty(0, dtype=torch.long)\n",
    "    return torch.utils.data.dataloader.default_collate(batch)\n"
   ]
  },
  {
   "cell_type": "code",
   "execution_count": 5,
   "id": "00034a3e",
   "metadata": {},
   "outputs": [],
   "source": [
    "from torch.utils.data import Dataset, DataLoader"
   ]
  },
  {
   "cell_type": "code",
   "execution_count": 6,
   "id": "d59b5ff5",
   "metadata": {},
   "outputs": [
    {
     "name": "stdout",
     "output_type": "stream",
     "text": [
      "✅ Loaded Brats18_2013_0_1: Image torch.Size([3, 224, 224]), Mask torch.Size([224, 224])\n",
      "✅ Loaded Brats18_2013_15_1: Image torch.Size([3, 224, 224]), Mask torch.Size([224, 224])\n",
      "✅ Loaded Brats18_2013_16_1: Image torch.Size([3, 224, 224]), Mask torch.Size([224, 224])\n",
      "✅ Loaded Brats18_2013_1_1: Image torch.Size([3, 224, 224]), Mask torch.Size([224, 224])\n",
      "✅ Loaded Brats18_2013_24_1: Image torch.Size([3, 224, 224]), Mask torch.Size([224, 224])\n",
      "✅ Loaded Brats18_2013_28_1: Image torch.Size([3, 224, 224]), Mask torch.Size([224, 224])\n",
      "✅ Loaded Brats18_2013_29_1: Image torch.Size([3, 224, 224]), Mask torch.Size([224, 224])\n",
      "✅ Loaded Brats18_2013_6_1: Image torch.Size([3, 224, 224]), Mask torch.Size([224, 224])\n",
      "✅ Loaded Brats18_2013_8_1: Image torch.Size([3, 224, 224]), Mask torch.Size([224, 224])\n",
      "✅ Loaded Brats18_2013_9_1: Image torch.Size([3, 224, 224]), Mask torch.Size([224, 224])\n",
      "✅ Loaded Brats18_TCIA09_141_1: Image torch.Size([3, 224, 224]), Mask torch.Size([224, 224])\n",
      "✅ Loaded Brats18_TCIA09_177_1: Image torch.Size([3, 224, 224]), Mask torch.Size([224, 224])\n",
      "✅ Loaded Brats18_TCIA09_254_1: Image torch.Size([3, 224, 224]), Mask torch.Size([224, 224])\n",
      "✅ Loaded Brats18_TCIA09_255_1: Image torch.Size([3, 224, 224]), Mask torch.Size([224, 224])\n",
      "✅ Loaded Brats18_TCIA09_312_1: Image torch.Size([3, 224, 224]), Mask torch.Size([224, 224])\n",
      "✅ Loaded Brats18_TCIA09_402_1: Image torch.Size([3, 224, 224]), Mask torch.Size([224, 224])\n",
      "✅ Loaded Brats18_TCIA09_428_1: Image torch.Size([3, 224, 224]), Mask torch.Size([224, 224])\n",
      "✅ Loaded Brats18_TCIA09_451_1: Image torch.Size([3, 224, 224]), Mask torch.Size([224, 224])\n",
      "✅ Loaded Brats18_TCIA09_462_1: Image torch.Size([3, 224, 224]), Mask torch.Size([224, 224])\n",
      "✅ Loaded Brats18_TCIA09_493_1: Image torch.Size([3, 224, 224]), Mask torch.Size([224, 224])\n",
      "✅ Loaded Brats18_TCIA09_620_1: Image torch.Size([3, 224, 224]), Mask torch.Size([224, 224])\n",
      "✅ Loaded Brats18_TCIA10_103_1: Image torch.Size([3, 224, 224]), Mask torch.Size([224, 224])\n",
      "✅ Loaded Brats18_TCIA10_109_1: Image torch.Size([3, 224, 224]), Mask torch.Size([224, 224])\n",
      "✅ Loaded Brats18_TCIA10_130_1: Image torch.Size([3, 224, 224]), Mask torch.Size([224, 224])\n",
      "✅ Loaded Brats18_TCIA10_152_1: Image torch.Size([3, 224, 224]), Mask torch.Size([224, 224])\n",
      "✅ Loaded Brats18_TCIA10_175_1: Image torch.Size([3, 224, 224]), Mask torch.Size([224, 224])\n",
      "✅ Loaded Brats18_TCIA10_202_1: Image torch.Size([3, 224, 224]), Mask torch.Size([224, 224])\n",
      "✅ Loaded Brats18_TCIA10_241_1: Image torch.Size([3, 224, 224]), Mask torch.Size([224, 224])\n",
      "✅ Loaded Brats18_TCIA10_261_1: Image torch.Size([3, 224, 224]), Mask torch.Size([224, 224])\n",
      "✅ Loaded Brats18_TCIA10_266_1: Image torch.Size([3, 224, 224]), Mask torch.Size([224, 224])\n",
      "✅ Loaded Brats18_TCIA10_276_1: Image torch.Size([3, 224, 224]), Mask torch.Size([224, 224])\n",
      "✅ Loaded Brats18_TCIA10_282_1: Image torch.Size([3, 224, 224]), Mask torch.Size([224, 224])\n",
      "✅ Loaded Brats18_TCIA10_299_1: Image torch.Size([3, 224, 224]), Mask torch.Size([224, 224])\n",
      "✅ Loaded Brats18_TCIA10_307_1: Image torch.Size([3, 224, 224]), Mask torch.Size([224, 224])\n",
      "✅ Loaded Brats18_TCIA10_310_1: Image torch.Size([3, 224, 224]), Mask torch.Size([224, 224])\n",
      "✅ Loaded Brats18_TCIA10_325_1: Image torch.Size([3, 224, 224]), Mask torch.Size([224, 224])\n",
      "✅ Loaded Brats18_TCIA10_330_1: Image torch.Size([3, 224, 224]), Mask torch.Size([224, 224])\n",
      "✅ Loaded Brats18_TCIA10_346_1: Image torch.Size([3, 224, 224]), Mask torch.Size([224, 224])\n",
      "✅ Loaded Brats18_TCIA10_351_1: Image torch.Size([3, 224, 224]), Mask torch.Size([224, 224])\n",
      "✅ Loaded Brats18_TCIA10_387_1: Image torch.Size([3, 224, 224]), Mask torch.Size([224, 224])\n",
      "✅ Loaded Brats18_TCIA10_393_1: Image torch.Size([3, 224, 224]), Mask torch.Size([224, 224])\n",
      "✅ Loaded Brats18_TCIA10_408_1: Image torch.Size([3, 224, 224]), Mask torch.Size([224, 224])\n",
      "✅ Loaded Brats18_TCIA10_410_1: Image torch.Size([3, 224, 224]), Mask torch.Size([224, 224])\n",
      "✅ Loaded Brats18_TCIA10_413_1: Image torch.Size([3, 224, 224]), Mask torch.Size([224, 224])\n",
      "✅ Loaded Brats18_TCIA10_420_1: Image torch.Size([3, 224, 224]), Mask torch.Size([224, 224])\n",
      "✅ Loaded Brats18_TCIA10_442_1: Image torch.Size([3, 224, 224]), Mask torch.Size([224, 224])\n",
      "✅ Loaded Brats18_TCIA10_449_1: Image torch.Size([3, 224, 224]), Mask torch.Size([224, 224])\n",
      "✅ Loaded Brats18_TCIA10_490_1: Image torch.Size([3, 224, 224]), Mask torch.Size([224, 224])\n",
      "✅ Loaded Brats18_TCIA10_625_1: Image torch.Size([3, 224, 224]), Mask torch.Size([224, 224])\n",
      "✅ Loaded Brats18_TCIA10_628_1: Image torch.Size([3, 224, 224]), Mask torch.Size([224, 224])\n",
      "✅ Loaded Brats18_TCIA10_629_1: Image torch.Size([3, 224, 224]), Mask torch.Size([224, 224])\n",
      "✅ Loaded Brats18_TCIA10_632_1: Image torch.Size([3, 224, 224]), Mask torch.Size([224, 224])\n",
      "✅ Loaded Brats18_TCIA10_637_1: Image torch.Size([3, 224, 224]), Mask torch.Size([224, 224])\n",
      "✅ Loaded Brats18_TCIA10_639_1: Image torch.Size([3, 224, 224]), Mask torch.Size([224, 224])\n",
      "✅ Loaded Brats18_TCIA10_640_1: Image torch.Size([3, 224, 224]), Mask torch.Size([224, 224])\n",
      "✅ Loaded Brats18_TCIA10_644_1: Image torch.Size([3, 224, 224]), Mask torch.Size([224, 224])\n",
      "✅ Loaded Brats18_TCIA12_101_1: Image torch.Size([3, 224, 224]), Mask torch.Size([224, 224])\n",
      "✅ Loaded Brats18_TCIA12_249_1: Image torch.Size([3, 224, 224]), Mask torch.Size([224, 224])\n",
      "✅ Loaded Brats18_TCIA12_298_1: Image torch.Size([3, 224, 224]), Mask torch.Size([224, 224])\n",
      "✅ Loaded Brats18_TCIA12_466_1: Image torch.Size([3, 224, 224]), Mask torch.Size([224, 224])\n",
      "✅ Loaded Brats18_TCIA12_470_1: Image torch.Size([3, 224, 224]), Mask torch.Size([224, 224])\n",
      "✅ Loaded Brats18_TCIA12_480_1: Image torch.Size([3, 224, 224]), Mask torch.Size([224, 224])\n",
      "✅ Loaded Brats18_TCIA13_615_1: Image torch.Size([3, 224, 224]), Mask torch.Size([224, 224])\n",
      "✅ Loaded Brats18_TCIA13_618_1: Image torch.Size([3, 224, 224]), Mask torch.Size([224, 224])\n",
      "✅ Loaded Brats18_TCIA13_621_1: Image torch.Size([3, 224, 224]), Mask torch.Size([224, 224])\n",
      "✅ Loaded Brats18_TCIA13_623_1: Image torch.Size([3, 224, 224]), Mask torch.Size([224, 224])\n",
      "✅ Loaded Brats18_TCIA13_624_1: Image torch.Size([3, 224, 224]), Mask torch.Size([224, 224])\n",
      "✅ Loaded Brats18_TCIA13_630_1: Image torch.Size([3, 224, 224]), Mask torch.Size([224, 224])\n",
      "✅ Loaded Brats18_TCIA13_633_1: Image torch.Size([3, 224, 224]), Mask torch.Size([224, 224])\n",
      "✅ Loaded Brats18_TCIA13_634_1: Image torch.Size([3, 224, 224]), Mask torch.Size([224, 224])\n",
      "✅ Loaded Brats18_TCIA13_642_1: Image torch.Size([3, 224, 224]), Mask torch.Size([224, 224])\n",
      "✅ Loaded Brats18_TCIA13_645_1: Image torch.Size([3, 224, 224]), Mask torch.Size([224, 224])\n",
      "✅ Loaded Brats18_TCIA13_650_1: Image torch.Size([3, 224, 224]), Mask torch.Size([224, 224])\n",
      "✅ Loaded Brats18_TCIA13_653_1: Image torch.Size([3, 224, 224]), Mask torch.Size([224, 224])\n",
      "✅ Loaded Brats18_TCIA13_654_1: Image torch.Size([3, 224, 224]), Mask torch.Size([224, 224])\n",
      "✅ Loaded 75 valid patients from BraTS 2018.\n"
     ]
    }
   ],
   "source": [
    "import glob\n",
    "import torch.nn.functional as F\n",
    "\n",
    "# Load Dataset\n",
    "train_dataset = BraTSDataset(DATASET_PATH)\n",
    "\n",
    "valid_samples = [d for d in train_dataset if d is not None]\n",
    "\n",
    "\n",
    "if len(valid_samples) == 0:\n",
    "    raise ValueError(\"❌ No valid samples found. Check dataset paths and file integrity.\")\n",
    "\n",
    "\n",
    "#train_loader = DataLoader(valid_samples, batch_size=2, shuffle=True, num_workers=0)\n",
    "train_loader = DataLoader(valid_samples, batch_size=4, shuffle=True, collate_fn=skip_none_collate, num_workers=0)\n",
    "print(f\"✅ Loaded {len(train_loader.dataset)} valid patients from BraTS 2018.\")"
   ]
  },
  {
   "cell_type": "code",
   "execution_count": 7,
   "id": "eac93a12",
   "metadata": {},
   "outputs": [],
   "source": [
    "device = torch.device('cpu')"
   ]
  },
  {
   "cell_type": "code",
   "execution_count": 8,
   "id": "b52909eb",
   "metadata": {},
   "outputs": [
    {
     "name": "stderr",
     "output_type": "stream",
     "text": [
      "c:\\Users\\Dell\\Desktop\\Group_4_sem_6_AIML\\.venv\\lib\\site-packages\\tqdm\\auto.py:21: TqdmWarning: IProgress not found. Please update jupyter and ipywidgets. See https://ipywidgets.readthedocs.io/en/stable/user_install.html\n",
      "  from .autonotebook import tqdm as notebook_tqdm\n"
     ]
    }
   ],
   "source": [
    "import segmentation_models_pytorch as smp\n",
    "\n",
    "model = smp.Unet(\n",
    "    encoder_name=\"resnet34\",        # pretrained encoder\n",
    "    encoder_weights=\"imagenet\",     # use ImageNet pre-trained weights\n",
    "    in_channels=3,                  # we modified dataset to return 3 channels\n",
    "    classes=4,                      \n",
    ")"
   ]
  },
  {
   "cell_type": "code",
   "execution_count": 9,
   "id": "61c636a3",
   "metadata": {},
   "outputs": [
    {
     "name": "stdout",
     "output_type": "stream",
     "text": [
      "✅ Loaded pretrained weights from 2020 dataset\n"
     ]
    }
   ],
   "source": [
    "\n",
    "model.load_state_dict(torch.load(r\"C:\\Users\\Dell\\Desktop\\Group_4_sem_6_AIML\\comparativeAnalysisModel\\UNet + ResNet34\\saved_model\\2020_pretrained_resNet34.pth\"))\n",
    "print(\"✅ Loaded pretrained weights from 2020 dataset\")"
   ]
  },
  {
   "cell_type": "code",
   "execution_count": 10,
   "id": "2b5f3fb3",
   "metadata": {},
   "outputs": [],
   "source": [
    "import torch.optim as optim"
   ]
  },
  {
   "cell_type": "code",
   "execution_count": 11,
   "id": "7a7ed521",
   "metadata": {},
   "outputs": [],
   "source": [
    "import torch\n",
    "import torch.nn as nn\n",
    "import torch.nn.functional as F\n",
    "\n",
    "# Soft Dice Loss\n",
    "class SoftDiceLoss(nn.Module):\n",
    "    def __init__(self, smooth=1e-6):\n",
    "        super(SoftDiceLoss, self).__init__()\n",
    "        self.smooth = smooth\n",
    "\n",
    "    def forward(self, pred, target):\n",
    "        pred = torch.softmax(pred, dim=1)  # Apply softmax to logits\n",
    "        target_one_hot = F.one_hot(target, num_classes=pred.shape[1])  # [B, H, W, C]\n",
    "        target_one_hot = target_one_hot.permute(0, 3, 1, 2).float()     # [B, C, H, W]\n",
    "\n",
    "        dims = (0, 2, 3)  # Batch, Height, Width\n",
    "        intersection = (pred * target_one_hot).sum(dim=dims)\n",
    "        union = pred.sum(dim=dims) + target_one_hot.sum(dim=dims)\n",
    "        dice = (2. * intersection + self.smooth) / (union + self.smooth)\n",
    "        return 1 - dice.mean()\n",
    "\n",
    "# Combined Dice + CrossEntropy loss for SMP models\n",
    "def combined_loss(preds, target):\n",
    "    # If the model only outputs one prediction, adjust the loss function accordingly\n",
    "    dice_loss = SoftDiceLoss()(preds, target)\n",
    "    ce_loss = nn.CrossEntropyLoss(weight=torch.tensor([0.1, 1.0, 1.0, 3.0]).to(preds.device))(preds, target)\n",
    "\n",
    "    total_loss = dice_loss + ce_loss\n",
    "    return total_loss\n"
   ]
  },
  {
   "cell_type": "code",
   "execution_count": 12,
   "id": "142e9761",
   "metadata": {},
   "outputs": [
    {
     "name": "stdout",
     "output_type": "stream",
     "text": [
      "✅ Train Set: 60 samples | Val Set: 15 samples\n"
     ]
    }
   ],
   "source": [
    "from torch.utils.data import random_split, DataLoader\n",
    "\n",
    "# Split Dataset into 80% Train, 20% Validation\n",
    "dataset_size = len(train_dataset)\n",
    "train_size = int(0.8 * dataset_size)\n",
    "val_size = dataset_size - train_size\n",
    "train_dataset, val_dataset = random_split(train_dataset, [train_size, val_size])\n",
    "\n",
    "\n",
    "train_loader = DataLoader(train_dataset, batch_size=2, shuffle=True, num_workers=0)\n",
    "val_loader = DataLoader(val_dataset, batch_size=2, shuffle=False, num_workers=0)\n",
    "\n",
    "print(f\"✅ Train Set: {len(train_dataset)} samples | Val Set: {len(val_dataset)} samples\")\n"
   ]
  },
  {
   "cell_type": "code",
   "execution_count": 13,
   "id": "9f8aceca",
   "metadata": {},
   "outputs": [],
   "source": [
    "import torch\n",
    "import torch.nn.functional as F\n",
    "from tqdm import tqdm\n",
    "import copy\n",
    "\n",
    "def train_model_smp(model, train_loader, optimizer, loss_fn, device, epochs=10, patience=3, save_path=\"best_unet_resnet34.pth\"):\n",
    "    best_loss = float('inf')\n",
    "    best_model_wts = copy.deepcopy(model.state_dict())\n",
    "    no_improve_epochs = 0\n",
    "\n",
    "    for epoch in range(epochs):\n",
    "        model.train()\n",
    "        train_loss = 0.0\n",
    "        loop = tqdm(train_loader, desc=f\"Epoch [{epoch+1}/{epochs}]\", leave=False)\n",
    "\n",
    "        for images, masks in loop:\n",
    "            images, masks = images.to(device), masks.to(device)\n",
    "            masks = torch.clamp(masks, 0, 3)  # Ensure valid class range\n",
    "\n",
    "            optimizer.zero_grad()\n",
    "            preds = model(images)  # SMP models directly output logits of shape [B, C, H, W]\n",
    "            loss = loss_fn(preds, masks)\n",
    "\n",
    "            loss.backward()\n",
    "            optimizer.step()\n",
    "\n",
    "            train_loss += loss.item()\n",
    "            loop.set_postfix({\"Loss\": loss.item()})\n",
    "\n",
    "        avg_train_loss = train_loss / len(train_loader)\n",
    "        print(f\"\\n✅ Epoch {epoch+1}: Train Loss: {avg_train_loss:.4f}\")\n",
    "\n",
    "        # Early stopping\n",
    "        if avg_train_loss < best_loss:\n",
    "            best_loss = avg_train_loss\n",
    "            best_model_wts = copy.deepcopy(model.state_dict())\n",
    "            torch.save(best_model_wts, save_path)\n",
    "            print(f\"💾 Saved model at epoch {epoch+1} with train loss {best_loss:.4f}\")\n",
    "            no_improve_epochs = 0\n",
    "        else:\n",
    "            no_improve_epochs += 1\n",
    "            print(f\"⚠️ No improvement for {no_improve_epochs} epoch(s)\")\n",
    "            if no_improve_epochs >= patience:\n",
    "                print(f\"⏹️ Early stopping triggered at epoch {epoch+1}\")\n",
    "                break\n",
    "\n",
    "    model.load_state_dict(best_model_wts)\n",
    "    print(\"🏁 Training complete.\")\n"
   ]
  },
  {
   "cell_type": "code",
   "execution_count": 14,
   "id": "69bd65e6",
   "metadata": {},
   "outputs": [
    {
     "name": "stderr",
     "output_type": "stream",
     "text": [
      "Epoch [1/15]:   0%|          | 0/30 [00:00<?, ?it/s]"
     ]
    },
    {
     "name": "stdout",
     "output_type": "stream",
     "text": [
      "✅ Loaded Brats18_TCIA10_346_1: Image torch.Size([3, 224, 224]), Mask torch.Size([224, 224])\n",
      "✅ Loaded Brats18_TCIA10_632_1: Image torch.Size([3, 224, 224]), Mask torch.Size([224, 224])\n"
     ]
    },
    {
     "name": "stderr",
     "output_type": "stream",
     "text": [
      "Epoch [1/15]:   3%|▎         | 1/30 [00:02<01:07,  2.32s/it, Loss=0.538]"
     ]
    },
    {
     "name": "stdout",
     "output_type": "stream",
     "text": [
      "✅ Loaded Brats18_2013_24_1: Image torch.Size([3, 224, 224]), Mask torch.Size([224, 224])\n",
      "✅ Loaded Brats18_TCIA12_298_1: Image torch.Size([3, 224, 224]), Mask torch.Size([224, 224])\n"
     ]
    },
    {
     "name": "stderr",
     "output_type": "stream",
     "text": [
      "Epoch [1/15]:   7%|▋         | 2/30 [00:02<00:33,  1.20s/it, Loss=0.819]"
     ]
    },
    {
     "name": "stdout",
     "output_type": "stream",
     "text": [
      "✅ Loaded Brats18_TCIA12_480_1: Image torch.Size([3, 224, 224]), Mask torch.Size([224, 224])\n",
      "✅ Loaded Brats18_TCIA09_402_1: Image torch.Size([3, 224, 224]), Mask torch.Size([224, 224])\n"
     ]
    },
    {
     "name": "stderr",
     "output_type": "stream",
     "text": [
      "Epoch [1/15]:  10%|█         | 3/30 [00:03<00:22,  1.20it/s, Loss=0.699]"
     ]
    },
    {
     "name": "stdout",
     "output_type": "stream",
     "text": [
      "✅ Loaded Brats18_2013_28_1: Image torch.Size([3, 224, 224]), Mask torch.Size([224, 224])\n",
      "✅ Loaded Brats18_TCIA13_630_1: Image torch.Size([3, 224, 224]), Mask torch.Size([224, 224])\n"
     ]
    },
    {
     "name": "stderr",
     "output_type": "stream",
     "text": [
      "Epoch [1/15]:  13%|█▎        | 4/30 [00:03<00:17,  1.51it/s, Loss=0.995]"
     ]
    },
    {
     "name": "stdout",
     "output_type": "stream",
     "text": [
      "✅ Loaded Brats18_TCIA10_276_1: Image torch.Size([3, 224, 224]), Mask torch.Size([224, 224])\n",
      "✅ Loaded Brats18_TCIA10_449_1: Image torch.Size([3, 224, 224]), Mask torch.Size([224, 224])\n"
     ]
    },
    {
     "name": "stderr",
     "output_type": "stream",
     "text": [
      "Epoch [1/15]:  17%|█▋        | 5/30 [00:03<00:14,  1.75it/s, Loss=0.488]"
     ]
    },
    {
     "name": "stdout",
     "output_type": "stream",
     "text": [
      "✅ Loaded Brats18_TCIA13_615_1: Image torch.Size([3, 224, 224]), Mask torch.Size([224, 224])\n",
      "✅ Loaded Brats18_TCIA10_393_1: Image torch.Size([3, 224, 224]), Mask torch.Size([224, 224])\n"
     ]
    },
    {
     "name": "stderr",
     "output_type": "stream",
     "text": [
      "Epoch [1/15]:  20%|██        | 6/30 [00:04<00:12,  1.93it/s, Loss=0.826]"
     ]
    },
    {
     "name": "stdout",
     "output_type": "stream",
     "text": [
      "✅ Loaded Brats18_TCIA10_420_1: Image torch.Size([3, 224, 224]), Mask torch.Size([224, 224])\n",
      "✅ Loaded Brats18_TCIA13_634_1: Image torch.Size([3, 224, 224]), Mask torch.Size([224, 224])\n"
     ]
    },
    {
     "name": "stderr",
     "output_type": "stream",
     "text": [
      "Epoch [1/15]:  23%|██▎       | 7/30 [00:04<00:11,  2.08it/s, Loss=0.675]"
     ]
    },
    {
     "name": "stdout",
     "output_type": "stream",
     "text": [
      "✅ Loaded Brats18_TCIA12_249_1: Image torch.Size([3, 224, 224]), Mask torch.Size([224, 224])\n",
      "✅ Loaded Brats18_TCIA10_307_1: Image torch.Size([3, 224, 224]), Mask torch.Size([224, 224])\n"
     ]
    },
    {
     "name": "stderr",
     "output_type": "stream",
     "text": [
      "Epoch [1/15]:  27%|██▋       | 8/30 [00:05<00:10,  2.19it/s, Loss=0.762]"
     ]
    },
    {
     "name": "stdout",
     "output_type": "stream",
     "text": [
      "✅ Loaded Brats18_TCIA09_462_1: Image torch.Size([3, 224, 224]), Mask torch.Size([224, 224])\n",
      "✅ Loaded Brats18_TCIA13_645_1: Image torch.Size([3, 224, 224]), Mask torch.Size([224, 224])\n"
     ]
    },
    {
     "name": "stderr",
     "output_type": "stream",
     "text": [
      "Epoch [1/15]:  30%|███       | 9/30 [00:05<00:09,  2.27it/s, Loss=0.677]"
     ]
    },
    {
     "name": "stdout",
     "output_type": "stream",
     "text": [
      "✅ Loaded Brats18_TCIA10_282_1: Image torch.Size([3, 224, 224]), Mask torch.Size([224, 224])\n",
      "✅ Loaded Brats18_2013_15_1: Image torch.Size([3, 224, 224]), Mask torch.Size([224, 224])\n"
     ]
    },
    {
     "name": "stderr",
     "output_type": "stream",
     "text": [
      "Epoch [1/15]:  33%|███▎      | 10/30 [00:05<00:08,  2.31it/s, Loss=0.916]"
     ]
    },
    {
     "name": "stdout",
     "output_type": "stream",
     "text": [
      "✅ Loaded Brats18_2013_9_1: Image torch.Size([3, 224, 224]), Mask torch.Size([224, 224])\n",
      "✅ Loaded Brats18_TCIA13_623_1: Image torch.Size([3, 224, 224]), Mask torch.Size([224, 224])\n"
     ]
    },
    {
     "name": "stderr",
     "output_type": "stream",
     "text": [
      "Epoch [1/15]:  37%|███▋      | 11/30 [00:06<00:08,  2.36it/s, Loss=1.14] "
     ]
    },
    {
     "name": "stdout",
     "output_type": "stream",
     "text": [
      "✅ Loaded Brats18_TCIA12_101_1: Image torch.Size([3, 224, 224]), Mask torch.Size([224, 224])\n",
      "✅ Loaded Brats18_TCIA10_629_1: Image torch.Size([3, 224, 224]), Mask torch.Size([224, 224])\n"
     ]
    },
    {
     "name": "stderr",
     "output_type": "stream",
     "text": [
      "Epoch [1/15]:  40%|████      | 12/30 [00:06<00:07,  2.41it/s, Loss=1.06]"
     ]
    },
    {
     "name": "stdout",
     "output_type": "stream",
     "text": [
      "✅ Loaded Brats18_TCIA09_493_1: Image torch.Size([3, 224, 224]), Mask torch.Size([224, 224])\n",
      "✅ Loaded Brats18_TCIA10_330_1: Image torch.Size([3, 224, 224]), Mask torch.Size([224, 224])\n"
     ]
    },
    {
     "name": "stderr",
     "output_type": "stream",
     "text": [
      "Epoch [1/15]:  43%|████▎     | 13/30 [00:07<00:07,  2.40it/s, Loss=0.582]"
     ]
    },
    {
     "name": "stdout",
     "output_type": "stream",
     "text": [
      "✅ Loaded Brats18_2013_6_1: Image torch.Size([3, 224, 224]), Mask torch.Size([224, 224])\n",
      "✅ Loaded Brats18_TCIA10_351_1: Image torch.Size([3, 224, 224]), Mask torch.Size([224, 224])\n"
     ]
    },
    {
     "name": "stderr",
     "output_type": "stream",
     "text": [
      "Epoch [1/15]:  47%|████▋     | 14/30 [00:07<00:06,  2.39it/s, Loss=0.765]"
     ]
    },
    {
     "name": "stdout",
     "output_type": "stream",
     "text": [
      "✅ Loaded Brats18_TCIA10_408_1: Image torch.Size([3, 224, 224]), Mask torch.Size([224, 224])\n",
      "✅ Loaded Brats18_2013_8_1: Image torch.Size([3, 224, 224]), Mask torch.Size([224, 224])\n"
     ]
    },
    {
     "name": "stderr",
     "output_type": "stream",
     "text": [
      "Epoch [1/15]:  50%|█████     | 15/30 [00:08<00:06,  2.40it/s, Loss=0.747]"
     ]
    },
    {
     "name": "stdout",
     "output_type": "stream",
     "text": [
      "✅ Loaded Brats18_TCIA10_175_1: Image torch.Size([3, 224, 224]), Mask torch.Size([224, 224])\n",
      "✅ Loaded Brats18_TCIA12_466_1: Image torch.Size([3, 224, 224]), Mask torch.Size([224, 224])\n"
     ]
    },
    {
     "name": "stderr",
     "output_type": "stream",
     "text": [
      "Epoch [1/15]:  53%|█████▎    | 16/30 [00:08<00:05,  2.41it/s, Loss=0.522]"
     ]
    },
    {
     "name": "stdout",
     "output_type": "stream",
     "text": [
      "✅ Loaded Brats18_TCIA09_428_1: Image torch.Size([3, 224, 224]), Mask torch.Size([224, 224])\n",
      "✅ Loaded Brats18_TCIA10_325_1: Image torch.Size([3, 224, 224]), Mask torch.Size([224, 224])\n"
     ]
    },
    {
     "name": "stderr",
     "output_type": "stream",
     "text": [
      "Epoch [1/15]:  57%|█████▋    | 17/30 [00:08<00:05,  2.40it/s, Loss=0.903]"
     ]
    },
    {
     "name": "stdout",
     "output_type": "stream",
     "text": [
      "✅ Loaded Brats18_TCIA12_470_1: Image torch.Size([3, 224, 224]), Mask torch.Size([224, 224])\n",
      "✅ Loaded Brats18_2013_29_1: Image torch.Size([3, 224, 224]), Mask torch.Size([224, 224])\n"
     ]
    },
    {
     "name": "stderr",
     "output_type": "stream",
     "text": [
      "Epoch [1/15]:  60%|██████    | 18/30 [00:09<00:04,  2.41it/s, Loss=0.822]"
     ]
    },
    {
     "name": "stdout",
     "output_type": "stream",
     "text": [
      "✅ Loaded Brats18_TCIA09_177_1: Image torch.Size([3, 224, 224]), Mask torch.Size([224, 224])\n",
      "✅ Loaded Brats18_TCIA13_650_1: Image torch.Size([3, 224, 224]), Mask torch.Size([224, 224])\n"
     ]
    },
    {
     "name": "stderr",
     "output_type": "stream",
     "text": [
      "Epoch [1/15]:  63%|██████▎   | 19/30 [00:09<00:04,  2.44it/s, Loss=0.795]"
     ]
    },
    {
     "name": "stdout",
     "output_type": "stream",
     "text": [
      "✅ Loaded Brats18_TCIA10_202_1: Image torch.Size([3, 224, 224]), Mask torch.Size([224, 224])\n",
      "✅ Loaded Brats18_TCIA13_624_1: Image torch.Size([3, 224, 224]), Mask torch.Size([224, 224])\n"
     ]
    },
    {
     "name": "stderr",
     "output_type": "stream",
     "text": [
      "Epoch [1/15]:  67%|██████▋   | 20/30 [00:10<00:04,  2.45it/s, Loss=0.545]"
     ]
    },
    {
     "name": "stdout",
     "output_type": "stream",
     "text": [
      "✅ Loaded Brats18_TCIA13_642_1: Image torch.Size([3, 224, 224]), Mask torch.Size([224, 224])\n",
      "✅ Loaded Brats18_TCIA10_266_1: Image torch.Size([3, 224, 224]), Mask torch.Size([224, 224])\n"
     ]
    },
    {
     "name": "stderr",
     "output_type": "stream",
     "text": [
      "Epoch [1/15]:  70%|███████   | 21/30 [00:10<00:03,  2.44it/s, Loss=1.08] "
     ]
    },
    {
     "name": "stdout",
     "output_type": "stream",
     "text": [
      "✅ Loaded Brats18_TCIA10_109_1: Image torch.Size([3, 224, 224]), Mask torch.Size([224, 224])\n",
      "✅ Loaded Brats18_TCIA10_387_1: Image torch.Size([3, 224, 224]), Mask torch.Size([224, 224])\n"
     ]
    },
    {
     "name": "stderr",
     "output_type": "stream",
     "text": [
      "Epoch [1/15]:  73%|███████▎  | 22/30 [00:10<00:03,  2.45it/s, Loss=0.755]"
     ]
    },
    {
     "name": "stdout",
     "output_type": "stream",
     "text": [
      "✅ Loaded Brats18_TCIA13_633_1: Image torch.Size([3, 224, 224]), Mask torch.Size([224, 224])\n",
      "✅ Loaded Brats18_TCIA10_241_1: Image torch.Size([3, 224, 224]), Mask torch.Size([224, 224])\n"
     ]
    },
    {
     "name": "stderr",
     "output_type": "stream",
     "text": [
      "Epoch [1/15]:  77%|███████▋  | 23/30 [00:11<00:02,  2.46it/s, Loss=1.28] "
     ]
    },
    {
     "name": "stdout",
     "output_type": "stream",
     "text": [
      "✅ Loaded Brats18_TCIA10_644_1: Image torch.Size([3, 224, 224]), Mask torch.Size([224, 224])\n",
      "✅ Loaded Brats18_TCIA10_130_1: Image torch.Size([3, 224, 224]), Mask torch.Size([224, 224])\n"
     ]
    },
    {
     "name": "stderr",
     "output_type": "stream",
     "text": [
      "Epoch [1/15]:  80%|████████  | 24/30 [00:11<00:02,  2.47it/s, Loss=0.552]"
     ]
    },
    {
     "name": "stdout",
     "output_type": "stream",
     "text": [
      "✅ Loaded Brats18_TCIA10_625_1: Image torch.Size([3, 224, 224]), Mask torch.Size([224, 224])\n",
      "✅ Loaded Brats18_TCIA10_261_1: Image torch.Size([3, 224, 224]), Mask torch.Size([224, 224])\n"
     ]
    },
    {
     "name": "stderr",
     "output_type": "stream",
     "text": [
      "Epoch [1/15]:  83%|████████▎ | 25/30 [00:12<00:02,  2.47it/s, Loss=0.766]"
     ]
    },
    {
     "name": "stdout",
     "output_type": "stream",
     "text": [
      "✅ Loaded Brats18_TCIA10_413_1: Image torch.Size([3, 224, 224]), Mask torch.Size([224, 224])\n",
      "✅ Loaded Brats18_TCIA09_254_1: Image torch.Size([3, 224, 224]), Mask torch.Size([224, 224])\n"
     ]
    },
    {
     "name": "stderr",
     "output_type": "stream",
     "text": [
      "Epoch [1/15]:  87%|████████▋ | 26/30 [00:12<00:01,  2.46it/s, Loss=0.652]"
     ]
    },
    {
     "name": "stdout",
     "output_type": "stream",
     "text": [
      "✅ Loaded Brats18_TCIA10_103_1: Image torch.Size([3, 224, 224]), Mask torch.Size([224, 224])\n",
      "✅ Loaded Brats18_TCIA13_653_1: Image torch.Size([3, 224, 224]), Mask torch.Size([224, 224])\n"
     ]
    },
    {
     "name": "stderr",
     "output_type": "stream",
     "text": [
      "Epoch [1/15]:  90%|█████████ | 27/30 [00:12<00:01,  2.45it/s, Loss=0.813]"
     ]
    },
    {
     "name": "stdout",
     "output_type": "stream",
     "text": [
      "✅ Loaded Brats18_TCIA10_628_1: Image torch.Size([3, 224, 224]), Mask torch.Size([224, 224])\n",
      "✅ Loaded Brats18_TCIA10_299_1: Image torch.Size([3, 224, 224]), Mask torch.Size([224, 224])\n"
     ]
    },
    {
     "name": "stderr",
     "output_type": "stream",
     "text": [
      "Epoch [1/15]:  93%|█████████▎| 28/30 [00:13<00:00,  2.47it/s, Loss=0.663]"
     ]
    },
    {
     "name": "stdout",
     "output_type": "stream",
     "text": [
      "✅ Loaded Brats18_2013_0_1: Image torch.Size([3, 224, 224]), Mask torch.Size([224, 224])\n",
      "✅ Loaded Brats18_TCIA13_654_1: Image torch.Size([3, 224, 224]), Mask torch.Size([224, 224])\n"
     ]
    },
    {
     "name": "stderr",
     "output_type": "stream",
     "text": [
      "Epoch [1/15]:  97%|█████████▋| 29/30 [00:13<00:00,  2.47it/s, Loss=0.683]"
     ]
    },
    {
     "name": "stdout",
     "output_type": "stream",
     "text": [
      "✅ Loaded Brats18_TCIA10_442_1: Image torch.Size([3, 224, 224]), Mask torch.Size([224, 224])\n",
      "✅ Loaded Brats18_TCIA10_310_1: Image torch.Size([3, 224, 224]), Mask torch.Size([224, 224])\n"
     ]
    },
    {
     "name": "stderr",
     "output_type": "stream",
     "text": [
      "                                                                         \r"
     ]
    },
    {
     "name": "stdout",
     "output_type": "stream",
     "text": [
      "\n",
      "✅ Epoch 1: Train Loss: 0.7709\n",
      "💾 Saved model at epoch 1 with train loss 0.7709\n"
     ]
    },
    {
     "name": "stderr",
     "output_type": "stream",
     "text": [
      "Epoch [2/15]:   0%|          | 0/30 [00:00<?, ?it/s]"
     ]
    },
    {
     "name": "stdout",
     "output_type": "stream",
     "text": [
      "✅ Loaded Brats18_TCIA13_645_1: Image torch.Size([3, 224, 224]), Mask torch.Size([224, 224])\n",
      "✅ Loaded Brats18_TCIA10_351_1: Image torch.Size([3, 224, 224]), Mask torch.Size([224, 224])\n"
     ]
    },
    {
     "name": "stderr",
     "output_type": "stream",
     "text": [
      "Epoch [2/15]:   3%|▎         | 1/30 [00:00<00:11,  2.51it/s, Loss=0.752]"
     ]
    },
    {
     "name": "stdout",
     "output_type": "stream",
     "text": [
      "✅ Loaded Brats18_TCIA10_241_1: Image torch.Size([3, 224, 224]), Mask torch.Size([224, 224])\n",
      "✅ Loaded Brats18_TCIA10_103_1: Image torch.Size([3, 224, 224]), Mask torch.Size([224, 224])\n"
     ]
    },
    {
     "name": "stderr",
     "output_type": "stream",
     "text": [
      "Epoch [2/15]:   7%|▋         | 2/30 [00:00<00:11,  2.51it/s, Loss=0.582]"
     ]
    },
    {
     "name": "stdout",
     "output_type": "stream",
     "text": [
      "✅ Loaded Brats18_2013_9_1: Image torch.Size([3, 224, 224]), Mask torch.Size([224, 224])\n",
      "✅ Loaded Brats18_TCIA13_624_1: Image torch.Size([3, 224, 224]), Mask torch.Size([224, 224])\n"
     ]
    },
    {
     "name": "stderr",
     "output_type": "stream",
     "text": [
      "Epoch [2/15]:  10%|█         | 3/30 [00:01<00:10,  2.46it/s, Loss=0.966]"
     ]
    },
    {
     "name": "stdout",
     "output_type": "stream",
     "text": [
      "✅ Loaded Brats18_TCIA10_130_1: Image torch.Size([3, 224, 224]), Mask torch.Size([224, 224])\n",
      "✅ Loaded Brats18_2013_15_1: Image torch.Size([3, 224, 224]), Mask torch.Size([224, 224])\n"
     ]
    },
    {
     "name": "stderr",
     "output_type": "stream",
     "text": [
      "Epoch [2/15]:  13%|█▎        | 4/30 [00:01<00:10,  2.50it/s, Loss=0.906]"
     ]
    },
    {
     "name": "stdout",
     "output_type": "stream",
     "text": [
      "✅ Loaded Brats18_TCIA10_310_1: Image torch.Size([3, 224, 224]), Mask torch.Size([224, 224])\n",
      "✅ Loaded Brats18_TCIA10_408_1: Image torch.Size([3, 224, 224]), Mask torch.Size([224, 224])\n"
     ]
    },
    {
     "name": "stderr",
     "output_type": "stream",
     "text": [
      "Epoch [2/15]:  17%|█▋        | 5/30 [00:02<00:10,  2.47it/s, Loss=0.852]"
     ]
    },
    {
     "name": "stdout",
     "output_type": "stream",
     "text": [
      "✅ Loaded Brats18_TCIA10_330_1: Image torch.Size([3, 224, 224]), Mask torch.Size([224, 224])\n",
      "✅ Loaded Brats18_TCIA13_642_1: Image torch.Size([3, 224, 224]), Mask torch.Size([224, 224])\n"
     ]
    },
    {
     "name": "stderr",
     "output_type": "stream",
     "text": [
      "Epoch [2/15]:  20%|██        | 6/30 [00:02<00:09,  2.44it/s, Loss=0.663]"
     ]
    },
    {
     "name": "stdout",
     "output_type": "stream",
     "text": [
      "✅ Loaded Brats18_TCIA09_177_1: Image torch.Size([3, 224, 224]), Mask torch.Size([224, 224])\n",
      "✅ Loaded Brats18_TCIA10_266_1: Image torch.Size([3, 224, 224]), Mask torch.Size([224, 224])\n"
     ]
    },
    {
     "name": "stderr",
     "output_type": "stream",
     "text": [
      "Epoch [2/15]:  23%|██▎       | 7/30 [00:02<00:09,  2.46it/s, Loss=0.697]"
     ]
    },
    {
     "name": "stdout",
     "output_type": "stream",
     "text": [
      "✅ Loaded Brats18_TCIA12_298_1: Image torch.Size([3, 224, 224]), Mask torch.Size([224, 224])\n",
      "✅ Loaded Brats18_2013_29_1: Image torch.Size([3, 224, 224]), Mask torch.Size([224, 224])\n"
     ]
    },
    {
     "name": "stderr",
     "output_type": "stream",
     "text": [
      "Epoch [2/15]:  27%|██▋       | 8/30 [00:03<00:09,  2.41it/s, Loss=0.612]"
     ]
    },
    {
     "name": "stdout",
     "output_type": "stream",
     "text": [
      "✅ Loaded Brats18_TCIA10_307_1: Image torch.Size([3, 224, 224]), Mask torch.Size([224, 224])\n",
      "✅ Loaded Brats18_TCIA13_623_1: Image torch.Size([3, 224, 224]), Mask torch.Size([224, 224])\n"
     ]
    },
    {
     "name": "stderr",
     "output_type": "stream",
     "text": [
      "Epoch [2/15]:  30%|███       | 9/30 [00:03<00:08,  2.45it/s, Loss=0.695]"
     ]
    },
    {
     "name": "stdout",
     "output_type": "stream",
     "text": [
      "✅ Loaded Brats18_TCIA12_470_1: Image torch.Size([3, 224, 224]), Mask torch.Size([224, 224])\n",
      "✅ Loaded Brats18_TCIA10_387_1: Image torch.Size([3, 224, 224]), Mask torch.Size([224, 224])\n"
     ]
    },
    {
     "name": "stderr",
     "output_type": "stream",
     "text": [
      "Epoch [2/15]:  33%|███▎      | 10/30 [00:04<00:08,  2.45it/s, Loss=0.688]"
     ]
    },
    {
     "name": "stdout",
     "output_type": "stream",
     "text": [
      "✅ Loaded Brats18_TCIA09_254_1: Image torch.Size([3, 224, 224]), Mask torch.Size([224, 224])\n",
      "✅ Loaded Brats18_TCIA10_442_1: Image torch.Size([3, 224, 224]), Mask torch.Size([224, 224])\n"
     ]
    },
    {
     "name": "stderr",
     "output_type": "stream",
     "text": [
      "Epoch [2/15]:  37%|███▋      | 11/30 [00:04<00:07,  2.46it/s, Loss=0.551]"
     ]
    },
    {
     "name": "stdout",
     "output_type": "stream",
     "text": [
      "✅ Loaded Brats18_TCIA13_615_1: Image torch.Size([3, 224, 224]), Mask torch.Size([224, 224])\n",
      "✅ Loaded Brats18_TCIA12_480_1: Image torch.Size([3, 224, 224]), Mask torch.Size([224, 224])\n"
     ]
    },
    {
     "name": "stderr",
     "output_type": "stream",
     "text": [
      "Epoch [2/15]:  40%|████      | 12/30 [00:04<00:07,  2.46it/s, Loss=0.794]"
     ]
    },
    {
     "name": "stdout",
     "output_type": "stream",
     "text": [
      "✅ Loaded Brats18_TCIA10_420_1: Image torch.Size([3, 224, 224]), Mask torch.Size([224, 224])\n",
      "✅ Loaded Brats18_2013_8_1: Image torch.Size([3, 224, 224]), Mask torch.Size([224, 224])\n"
     ]
    },
    {
     "name": "stderr",
     "output_type": "stream",
     "text": [
      "Epoch [2/15]:  43%|████▎     | 13/30 [00:05<00:06,  2.46it/s, Loss=0.691]"
     ]
    },
    {
     "name": "stdout",
     "output_type": "stream",
     "text": [
      "✅ Loaded Brats18_TCIA12_466_1: Image torch.Size([3, 224, 224]), Mask torch.Size([224, 224])\n",
      "✅ Loaded Brats18_TCIA13_634_1: Image torch.Size([3, 224, 224]), Mask torch.Size([224, 224])\n"
     ]
    },
    {
     "name": "stderr",
     "output_type": "stream",
     "text": [
      "Epoch [2/15]:  47%|████▋     | 14/30 [00:05<00:06,  2.47it/s, Loss=0.649]"
     ]
    },
    {
     "name": "stdout",
     "output_type": "stream",
     "text": [
      "✅ Loaded Brats18_TCIA10_449_1: Image torch.Size([3, 224, 224]), Mask torch.Size([224, 224])\n",
      "✅ Loaded Brats18_TCIA10_644_1: Image torch.Size([3, 224, 224]), Mask torch.Size([224, 224])\n"
     ]
    },
    {
     "name": "stderr",
     "output_type": "stream",
     "text": [
      "Epoch [2/15]:  50%|█████     | 15/30 [00:06<00:06,  2.47it/s, Loss=0.491]"
     ]
    },
    {
     "name": "stdout",
     "output_type": "stream",
     "text": [
      "✅ Loaded Brats18_2013_24_1: Image torch.Size([3, 224, 224]), Mask torch.Size([224, 224])\n",
      "✅ Loaded Brats18_TCIA10_261_1: Image torch.Size([3, 224, 224]), Mask torch.Size([224, 224])\n"
     ]
    },
    {
     "name": "stderr",
     "output_type": "stream",
     "text": [
      "Epoch [2/15]:  53%|█████▎    | 16/30 [00:06<00:05,  2.45it/s, Loss=0.553]"
     ]
    },
    {
     "name": "stdout",
     "output_type": "stream",
     "text": [
      "✅ Loaded Brats18_TCIA10_276_1: Image torch.Size([3, 224, 224]), Mask torch.Size([224, 224])\n",
      "✅ Loaded Brats18_TCIA10_346_1: Image torch.Size([3, 224, 224]), Mask torch.Size([224, 224])\n"
     ]
    },
    {
     "name": "stderr",
     "output_type": "stream",
     "text": [
      "Epoch [2/15]:  57%|█████▋    | 17/30 [00:06<00:05,  2.45it/s, Loss=0.503]"
     ]
    },
    {
     "name": "stdout",
     "output_type": "stream",
     "text": [
      "✅ Loaded Brats18_TCIA10_632_1: Image torch.Size([3, 224, 224]), Mask torch.Size([224, 224])\n",
      "✅ Loaded Brats18_TCIA10_202_1: Image torch.Size([3, 224, 224]), Mask torch.Size([224, 224])\n"
     ]
    },
    {
     "name": "stderr",
     "output_type": "stream",
     "text": [
      "Epoch [2/15]:  60%|██████    | 18/30 [00:07<00:04,  2.46it/s, Loss=0.559]"
     ]
    },
    {
     "name": "stdout",
     "output_type": "stream",
     "text": [
      "✅ Loaded Brats18_TCIA10_109_1: Image torch.Size([3, 224, 224]), Mask torch.Size([224, 224])\n",
      "✅ Loaded Brats18_TCIA12_249_1: Image torch.Size([3, 224, 224]), Mask torch.Size([224, 224])\n"
     ]
    },
    {
     "name": "stderr",
     "output_type": "stream",
     "text": [
      "Epoch [2/15]:  63%|██████▎   | 19/30 [00:07<00:04,  2.50it/s, Loss=0.544]"
     ]
    },
    {
     "name": "stdout",
     "output_type": "stream",
     "text": [
      "✅ Loaded Brats18_TCIA09_428_1: Image torch.Size([3, 224, 224]), Mask torch.Size([224, 224])\n",
      "✅ Loaded Brats18_TCIA09_493_1: Image torch.Size([3, 224, 224]), Mask torch.Size([224, 224])\n"
     ]
    },
    {
     "name": "stderr",
     "output_type": "stream",
     "text": [
      "Epoch [2/15]:  67%|██████▋   | 20/30 [00:08<00:04,  2.47it/s, Loss=0.607]"
     ]
    },
    {
     "name": "stdout",
     "output_type": "stream",
     "text": [
      "✅ Loaded Brats18_TCIA10_175_1: Image torch.Size([3, 224, 224]), Mask torch.Size([224, 224])\n",
      "✅ Loaded Brats18_TCIA13_654_1: Image torch.Size([3, 224, 224]), Mask torch.Size([224, 224])\n"
     ]
    },
    {
     "name": "stderr",
     "output_type": "stream",
     "text": [
      "Epoch [2/15]:  70%|███████   | 21/30 [00:08<00:03,  2.48it/s, Loss=0.551]"
     ]
    },
    {
     "name": "stdout",
     "output_type": "stream",
     "text": [
      "✅ Loaded Brats18_2013_28_1: Image torch.Size([3, 224, 224]), Mask torch.Size([224, 224])\n",
      "✅ Loaded Brats18_TCIA13_633_1: Image torch.Size([3, 224, 224]), Mask torch.Size([224, 224])\n"
     ]
    },
    {
     "name": "stderr",
     "output_type": "stream",
     "text": [
      "Epoch [2/15]:  73%|███████▎  | 22/30 [00:08<00:03,  2.49it/s, Loss=0.854]"
     ]
    },
    {
     "name": "stdout",
     "output_type": "stream",
     "text": [
      "✅ Loaded Brats18_TCIA09_402_1: Image torch.Size([3, 224, 224]), Mask torch.Size([224, 224])\n",
      "✅ Loaded Brats18_TCIA10_628_1: Image torch.Size([3, 224, 224]), Mask torch.Size([224, 224])\n"
     ]
    },
    {
     "name": "stderr",
     "output_type": "stream",
     "text": [
      "Epoch [2/15]:  77%|███████▋  | 23/30 [00:09<00:02,  2.49it/s, Loss=0.548]"
     ]
    },
    {
     "name": "stdout",
     "output_type": "stream",
     "text": [
      "✅ Loaded Brats18_TCIA10_325_1: Image torch.Size([3, 224, 224]), Mask torch.Size([224, 224])\n",
      "✅ Loaded Brats18_TCIA10_413_1: Image torch.Size([3, 224, 224]), Mask torch.Size([224, 224])\n"
     ]
    },
    {
     "name": "stderr",
     "output_type": "stream",
     "text": [
      "Epoch [2/15]:  80%|████████  | 24/30 [00:09<00:02,  2.49it/s, Loss=0.749]"
     ]
    },
    {
     "name": "stdout",
     "output_type": "stream",
     "text": [
      "✅ Loaded Brats18_TCIA10_629_1: Image torch.Size([3, 224, 224]), Mask torch.Size([224, 224])\n",
      "✅ Loaded Brats18_TCIA09_462_1: Image torch.Size([3, 224, 224]), Mask torch.Size([224, 224])\n"
     ]
    },
    {
     "name": "stderr",
     "output_type": "stream",
     "text": [
      "Epoch [2/15]:  83%|████████▎ | 25/30 [00:10<00:02,  2.50it/s, Loss=0.565]"
     ]
    },
    {
     "name": "stdout",
     "output_type": "stream",
     "text": [
      "✅ Loaded Brats18_TCIA10_282_1: Image torch.Size([3, 224, 224]), Mask torch.Size([224, 224])\n",
      "✅ Loaded Brats18_TCIA13_630_1: Image torch.Size([3, 224, 224]), Mask torch.Size([224, 224])\n"
     ]
    },
    {
     "name": "stderr",
     "output_type": "stream",
     "text": [
      "Epoch [2/15]:  87%|████████▋ | 26/30 [00:10<00:01,  2.46it/s, Loss=0.761]"
     ]
    },
    {
     "name": "stdout",
     "output_type": "stream",
     "text": [
      "✅ Loaded Brats18_TCIA10_625_1: Image torch.Size([3, 224, 224]), Mask torch.Size([224, 224])\n",
      "✅ Loaded Brats18_TCIA12_101_1: Image torch.Size([3, 224, 224]), Mask torch.Size([224, 224])\n"
     ]
    },
    {
     "name": "stderr",
     "output_type": "stream",
     "text": [
      "Epoch [2/15]:  90%|█████████ | 27/30 [00:10<00:01,  2.48it/s, Loss=0.86] "
     ]
    },
    {
     "name": "stdout",
     "output_type": "stream",
     "text": [
      "✅ Loaded Brats18_2013_6_1: Image torch.Size([3, 224, 224]), Mask torch.Size([224, 224])\n",
      "✅ Loaded Brats18_TCIA13_650_1: Image torch.Size([3, 224, 224]), Mask torch.Size([224, 224])\n"
     ]
    },
    {
     "name": "stderr",
     "output_type": "stream",
     "text": [
      "Epoch [2/15]:  93%|█████████▎| 28/30 [00:11<00:00,  2.48it/s, Loss=0.408]"
     ]
    },
    {
     "name": "stdout",
     "output_type": "stream",
     "text": [
      "✅ Loaded Brats18_2013_0_1: Image torch.Size([3, 224, 224]), Mask torch.Size([224, 224])\n",
      "✅ Loaded Brats18_TCIA10_393_1: Image torch.Size([3, 224, 224]), Mask torch.Size([224, 224])\n"
     ]
    },
    {
     "name": "stderr",
     "output_type": "stream",
     "text": [
      "Epoch [2/15]:  97%|█████████▋| 29/30 [00:11<00:00,  2.49it/s, Loss=0.658]"
     ]
    },
    {
     "name": "stdout",
     "output_type": "stream",
     "text": [
      "✅ Loaded Brats18_TCIA10_299_1: Image torch.Size([3, 224, 224]), Mask torch.Size([224, 224])\n",
      "✅ Loaded Brats18_TCIA13_653_1: Image torch.Size([3, 224, 224]), Mask torch.Size([224, 224])\n"
     ]
    },
    {
     "name": "stderr",
     "output_type": "stream",
     "text": [
      "                                                                         \r"
     ]
    },
    {
     "name": "stdout",
     "output_type": "stream",
     "text": [
      "\n",
      "✅ Epoch 2: Train Loss: 0.6704\n",
      "💾 Saved model at epoch 2 with train loss 0.6704\n"
     ]
    },
    {
     "name": "stderr",
     "output_type": "stream",
     "text": [
      "Epoch [3/15]:   0%|          | 0/30 [00:00<?, ?it/s]"
     ]
    },
    {
     "name": "stdout",
     "output_type": "stream",
     "text": [
      "✅ Loaded Brats18_TCIA10_307_1: Image torch.Size([3, 224, 224]), Mask torch.Size([224, 224])\n",
      "✅ Loaded Brats18_TCIA09_462_1: Image torch.Size([3, 224, 224]), Mask torch.Size([224, 224])\n"
     ]
    },
    {
     "name": "stderr",
     "output_type": "stream",
     "text": [
      "Epoch [3/15]:   3%|▎         | 1/30 [00:00<00:11,  2.52it/s, Loss=0.573]"
     ]
    },
    {
     "name": "stdout",
     "output_type": "stream",
     "text": [
      "✅ Loaded Brats18_TCIA13_642_1: Image torch.Size([3, 224, 224]), Mask torch.Size([224, 224])\n",
      "✅ Loaded Brats18_TCIA10_629_1: Image torch.Size([3, 224, 224]), Mask torch.Size([224, 224])\n"
     ]
    },
    {
     "name": "stderr",
     "output_type": "stream",
     "text": [
      "Epoch [3/15]:   7%|▋         | 2/30 [00:00<00:11,  2.52it/s, Loss=0.676]"
     ]
    },
    {
     "name": "stdout",
     "output_type": "stream",
     "text": [
      "✅ Loaded Brats18_TCIA12_249_1: Image torch.Size([3, 224, 224]), Mask torch.Size([224, 224])\n",
      "✅ Loaded Brats18_TCIA12_466_1: Image torch.Size([3, 224, 224]), Mask torch.Size([224, 224])\n"
     ]
    },
    {
     "name": "stderr",
     "output_type": "stream",
     "text": [
      "Epoch [3/15]:  10%|█         | 3/30 [00:01<00:10,  2.51it/s, Loss=0.737]"
     ]
    },
    {
     "name": "stdout",
     "output_type": "stream",
     "text": [
      "✅ Loaded Brats18_TCIA10_103_1: Image torch.Size([3, 224, 224]), Mask torch.Size([224, 224])\n",
      "✅ Loaded Brats18_TCIA13_650_1: Image torch.Size([3, 224, 224]), Mask torch.Size([224, 224])\n"
     ]
    },
    {
     "name": "stderr",
     "output_type": "stream",
     "text": [
      "Epoch [3/15]:  13%|█▎        | 4/30 [00:01<00:10,  2.51it/s, Loss=0.622]"
     ]
    },
    {
     "name": "stdout",
     "output_type": "stream",
     "text": [
      "✅ Loaded Brats18_TCIA10_325_1: Image torch.Size([3, 224, 224]), Mask torch.Size([224, 224])\n",
      "✅ Loaded Brats18_TCIA12_470_1: Image torch.Size([3, 224, 224]), Mask torch.Size([224, 224])\n"
     ]
    },
    {
     "name": "stderr",
     "output_type": "stream",
     "text": [
      "Epoch [3/15]:  17%|█▋        | 5/30 [00:01<00:09,  2.50it/s, Loss=0.714]"
     ]
    },
    {
     "name": "stdout",
     "output_type": "stream",
     "text": [
      "✅ Loaded Brats18_TCIA10_420_1: Image torch.Size([3, 224, 224]), Mask torch.Size([224, 224])\n",
      "✅ Loaded Brats18_TCIA10_628_1: Image torch.Size([3, 224, 224]), Mask torch.Size([224, 224])\n"
     ]
    },
    {
     "name": "stderr",
     "output_type": "stream",
     "text": [
      "Epoch [3/15]:  20%|██        | 6/30 [00:02<00:09,  2.47it/s, Loss=0.491]"
     ]
    },
    {
     "name": "stdout",
     "output_type": "stream",
     "text": [
      "✅ Loaded Brats18_TCIA13_645_1: Image torch.Size([3, 224, 224]), Mask torch.Size([224, 224])\n",
      "✅ Loaded Brats18_2013_8_1: Image torch.Size([3, 224, 224]), Mask torch.Size([224, 224])\n"
     ]
    },
    {
     "name": "stderr",
     "output_type": "stream",
     "text": [
      "Epoch [3/15]:  23%|██▎       | 7/30 [00:02<00:09,  2.47it/s, Loss=0.626]"
     ]
    },
    {
     "name": "stdout",
     "output_type": "stream",
     "text": [
      "✅ Loaded Brats18_TCIA10_130_1: Image torch.Size([3, 224, 224]), Mask torch.Size([224, 224])\n",
      "✅ Loaded Brats18_2013_0_1: Image torch.Size([3, 224, 224]), Mask torch.Size([224, 224])\n"
     ]
    },
    {
     "name": "stderr",
     "output_type": "stream",
     "text": [
      "Epoch [3/15]:  27%|██▋       | 8/30 [00:03<00:08,  2.46it/s, Loss=0.775]"
     ]
    },
    {
     "name": "stdout",
     "output_type": "stream",
     "text": [
      "✅ Loaded Brats18_TCIA10_241_1: Image torch.Size([3, 224, 224]), Mask torch.Size([224, 224])\n",
      "✅ Loaded Brats18_TCIA13_630_1: Image torch.Size([3, 224, 224]), Mask torch.Size([224, 224])\n"
     ]
    },
    {
     "name": "stderr",
     "output_type": "stream",
     "text": [
      "Epoch [3/15]:  30%|███       | 9/30 [00:03<00:08,  2.47it/s, Loss=0.584]"
     ]
    },
    {
     "name": "stdout",
     "output_type": "stream",
     "text": [
      "✅ Loaded Brats18_TCIA13_633_1: Image torch.Size([3, 224, 224]), Mask torch.Size([224, 224])\n",
      "✅ Loaded Brats18_TCIA10_276_1: Image torch.Size([3, 224, 224]), Mask torch.Size([224, 224])\n"
     ]
    },
    {
     "name": "stderr",
     "output_type": "stream",
     "text": [
      "Epoch [3/15]:  33%|███▎      | 10/30 [00:04<00:08,  2.48it/s, Loss=0.785]"
     ]
    },
    {
     "name": "stdout",
     "output_type": "stream",
     "text": [
      "✅ Loaded Brats18_2013_9_1: Image torch.Size([3, 224, 224]), Mask torch.Size([224, 224])\n",
      "✅ Loaded Brats18_TCIA12_480_1: Image torch.Size([3, 224, 224]), Mask torch.Size([224, 224])\n"
     ]
    },
    {
     "name": "stderr",
     "output_type": "stream",
     "text": [
      "Epoch [3/15]:  37%|███▋      | 11/30 [00:04<00:07,  2.48it/s, Loss=0.565]"
     ]
    },
    {
     "name": "stdout",
     "output_type": "stream",
     "text": [
      "✅ Loaded Brats18_TCIA09_177_1: Image torch.Size([3, 224, 224]), Mask torch.Size([224, 224])\n",
      "✅ Loaded Brats18_2013_6_1: Image torch.Size([3, 224, 224]), Mask torch.Size([224, 224])\n"
     ]
    },
    {
     "name": "stderr",
     "output_type": "stream",
     "text": [
      "Epoch [3/15]:  40%|████      | 12/30 [00:04<00:07,  2.48it/s, Loss=0.399]"
     ]
    },
    {
     "name": "stdout",
     "output_type": "stream",
     "text": [
      "✅ Loaded Brats18_TCIA10_330_1: Image torch.Size([3, 224, 224]), Mask torch.Size([224, 224])\n",
      "✅ Loaded Brats18_TCIA10_310_1: Image torch.Size([3, 224, 224]), Mask torch.Size([224, 224])\n"
     ]
    },
    {
     "name": "stderr",
     "output_type": "stream",
     "text": [
      "Epoch [3/15]:  43%|████▎     | 13/30 [00:05<00:06,  2.50it/s, Loss=0.644]"
     ]
    },
    {
     "name": "stdout",
     "output_type": "stream",
     "text": [
      "✅ Loaded Brats18_TCIA13_653_1: Image torch.Size([3, 224, 224]), Mask torch.Size([224, 224])\n",
      "✅ Loaded Brats18_TCIA10_299_1: Image torch.Size([3, 224, 224]), Mask torch.Size([224, 224])\n"
     ]
    },
    {
     "name": "stderr",
     "output_type": "stream",
     "text": [
      "Epoch [3/15]:  47%|████▋     | 14/30 [00:05<00:06,  2.50it/s, Loss=0.782]"
     ]
    },
    {
     "name": "stdout",
     "output_type": "stream",
     "text": [
      "✅ Loaded Brats18_TCIA10_387_1: Image torch.Size([3, 224, 224]), Mask torch.Size([224, 224])\n",
      "✅ Loaded Brats18_TCIA09_402_1: Image torch.Size([3, 224, 224]), Mask torch.Size([224, 224])\n"
     ]
    },
    {
     "name": "stderr",
     "output_type": "stream",
     "text": [
      "Epoch [3/15]:  50%|█████     | 15/30 [00:06<00:06,  2.47it/s, Loss=0.592]"
     ]
    },
    {
     "name": "stdout",
     "output_type": "stream",
     "text": [
      "✅ Loaded Brats18_TCIA09_254_1: Image torch.Size([3, 224, 224]), Mask torch.Size([224, 224])\n",
      "✅ Loaded Brats18_2013_29_1: Image torch.Size([3, 224, 224]), Mask torch.Size([224, 224])\n"
     ]
    },
    {
     "name": "stderr",
     "output_type": "stream",
     "text": [
      "Epoch [3/15]:  53%|█████▎    | 16/30 [00:06<00:05,  2.48it/s, Loss=0.443]"
     ]
    },
    {
     "name": "stdout",
     "output_type": "stream",
     "text": [
      "✅ Loaded Brats18_TCIA10_449_1: Image torch.Size([3, 224, 224]), Mask torch.Size([224, 224])\n",
      "✅ Loaded Brats18_TCIA13_654_1: Image torch.Size([3, 224, 224]), Mask torch.Size([224, 224])\n"
     ]
    },
    {
     "name": "stderr",
     "output_type": "stream",
     "text": [
      "Epoch [3/15]:  57%|█████▋    | 17/30 [00:06<00:05,  2.48it/s, Loss=0.502]"
     ]
    },
    {
     "name": "stdout",
     "output_type": "stream",
     "text": [
      "✅ Loaded Brats18_TCIA10_644_1: Image torch.Size([3, 224, 224]), Mask torch.Size([224, 224])\n",
      "✅ Loaded Brats18_TCIA10_202_1: Image torch.Size([3, 224, 224]), Mask torch.Size([224, 224])\n"
     ]
    },
    {
     "name": "stderr",
     "output_type": "stream",
     "text": [
      "Epoch [3/15]:  60%|██████    | 18/30 [00:07<00:04,  2.49it/s, Loss=0.663]"
     ]
    },
    {
     "name": "stdout",
     "output_type": "stream",
     "text": [
      "✅ Loaded Brats18_TCIA10_625_1: Image torch.Size([3, 224, 224]), Mask torch.Size([224, 224])\n",
      "✅ Loaded Brats18_TCIA10_109_1: Image torch.Size([3, 224, 224]), Mask torch.Size([224, 224])\n"
     ]
    },
    {
     "name": "stderr",
     "output_type": "stream",
     "text": [
      "Epoch [3/15]:  63%|██████▎   | 19/30 [00:07<00:04,  2.49it/s, Loss=0.574]"
     ]
    },
    {
     "name": "stdout",
     "output_type": "stream",
     "text": [
      "✅ Loaded Brats18_TCIA13_623_1: Image torch.Size([3, 224, 224]), Mask torch.Size([224, 224])\n",
      "✅ Loaded Brats18_2013_28_1: Image torch.Size([3, 224, 224]), Mask torch.Size([224, 224])\n"
     ]
    },
    {
     "name": "stderr",
     "output_type": "stream",
     "text": [
      "Epoch [3/15]:  67%|██████▋   | 20/30 [00:08<00:04,  2.49it/s, Loss=0.845]"
     ]
    },
    {
     "name": "stdout",
     "output_type": "stream",
     "text": [
      "✅ Loaded Brats18_2013_15_1: Image torch.Size([3, 224, 224]), Mask torch.Size([224, 224])\n",
      "✅ Loaded Brats18_2013_24_1: Image torch.Size([3, 224, 224]), Mask torch.Size([224, 224])\n"
     ]
    },
    {
     "name": "stderr",
     "output_type": "stream",
     "text": [
      "Epoch [3/15]:  70%|███████   | 21/30 [00:08<00:03,  2.47it/s, Loss=0.644]"
     ]
    },
    {
     "name": "stdout",
     "output_type": "stream",
     "text": [
      "✅ Loaded Brats18_TCIA10_175_1: Image torch.Size([3, 224, 224]), Mask torch.Size([224, 224])\n",
      "✅ Loaded Brats18_TCIA10_282_1: Image torch.Size([3, 224, 224]), Mask torch.Size([224, 224])\n"
     ]
    },
    {
     "name": "stderr",
     "output_type": "stream",
     "text": [
      "Epoch [3/15]:  73%|███████▎  | 22/30 [00:08<00:03,  2.48it/s, Loss=0.649]"
     ]
    },
    {
     "name": "stdout",
     "output_type": "stream",
     "text": [
      "✅ Loaded Brats18_TCIA13_624_1: Image torch.Size([3, 224, 224]), Mask torch.Size([224, 224])\n",
      "✅ Loaded Brats18_TCIA13_634_1: Image torch.Size([3, 224, 224]), Mask torch.Size([224, 224])\n"
     ]
    },
    {
     "name": "stderr",
     "output_type": "stream",
     "text": [
      "Epoch [3/15]:  77%|███████▋  | 23/30 [00:09<00:02,  2.48it/s, Loss=0.432]"
     ]
    },
    {
     "name": "stdout",
     "output_type": "stream",
     "text": [
      "✅ Loaded Brats18_TCIA13_615_1: Image torch.Size([3, 224, 224]), Mask torch.Size([224, 224])\n",
      "✅ Loaded Brats18_TCIA10_351_1: Image torch.Size([3, 224, 224]), Mask torch.Size([224, 224])\n"
     ]
    },
    {
     "name": "stderr",
     "output_type": "stream",
     "text": [
      "Epoch [3/15]:  80%|████████  | 24/30 [00:09<00:02,  2.49it/s, Loss=0.649]"
     ]
    },
    {
     "name": "stdout",
     "output_type": "stream",
     "text": [
      "✅ Loaded Brats18_TCIA12_101_1: Image torch.Size([3, 224, 224]), Mask torch.Size([224, 224])\n",
      "✅ Loaded Brats18_TCIA09_428_1: Image torch.Size([3, 224, 224]), Mask torch.Size([224, 224])\n"
     ]
    },
    {
     "name": "stderr",
     "output_type": "stream",
     "text": [
      "Epoch [3/15]:  83%|████████▎ | 25/30 [00:10<00:02,  2.49it/s, Loss=0.569]"
     ]
    },
    {
     "name": "stdout",
     "output_type": "stream",
     "text": [
      "✅ Loaded Brats18_TCIA10_393_1: Image torch.Size([3, 224, 224]), Mask torch.Size([224, 224])\n",
      "✅ Loaded Brats18_TCIA10_346_1: Image torch.Size([3, 224, 224]), Mask torch.Size([224, 224])\n"
     ]
    },
    {
     "name": "stderr",
     "output_type": "stream",
     "text": [
      "Epoch [3/15]:  87%|████████▋ | 26/30 [00:10<00:01,  2.50it/s, Loss=0.62] "
     ]
    },
    {
     "name": "stdout",
     "output_type": "stream",
     "text": [
      "✅ Loaded Brats18_TCIA10_408_1: Image torch.Size([3, 224, 224]), Mask torch.Size([224, 224])\n",
      "✅ Loaded Brats18_TCIA10_413_1: Image torch.Size([3, 224, 224]), Mask torch.Size([224, 224])\n"
     ]
    },
    {
     "name": "stderr",
     "output_type": "stream",
     "text": [
      "Epoch [3/15]:  90%|█████████ | 27/30 [00:10<00:01,  2.49it/s, Loss=0.622]"
     ]
    },
    {
     "name": "stdout",
     "output_type": "stream",
     "text": [
      "✅ Loaded Brats18_TCIA10_261_1: Image torch.Size([3, 224, 224]), Mask torch.Size([224, 224])\n",
      "✅ Loaded Brats18_TCIA10_442_1: Image torch.Size([3, 224, 224]), Mask torch.Size([224, 224])\n"
     ]
    },
    {
     "name": "stderr",
     "output_type": "stream",
     "text": [
      "Epoch [3/15]:  93%|█████████▎| 28/30 [00:11<00:00,  2.48it/s, Loss=0.423]"
     ]
    },
    {
     "name": "stdout",
     "output_type": "stream",
     "text": [
      "✅ Loaded Brats18_TCIA10_266_1: Image torch.Size([3, 224, 224]), Mask torch.Size([224, 224])\n",
      "✅ Loaded Brats18_TCIA09_493_1: Image torch.Size([3, 224, 224]), Mask torch.Size([224, 224])\n"
     ]
    },
    {
     "name": "stderr",
     "output_type": "stream",
     "text": [
      "Epoch [3/15]:  97%|█████████▋| 29/30 [00:11<00:00,  2.50it/s, Loss=0.564]"
     ]
    },
    {
     "name": "stdout",
     "output_type": "stream",
     "text": [
      "✅ Loaded Brats18_TCIA10_632_1: Image torch.Size([3, 224, 224]), Mask torch.Size([224, 224])\n",
      "✅ Loaded Brats18_TCIA12_298_1: Image torch.Size([3, 224, 224]), Mask torch.Size([224, 224])\n"
     ]
    },
    {
     "name": "stderr",
     "output_type": "stream",
     "text": [
      "                                                                         \r"
     ]
    },
    {
     "name": "stdout",
     "output_type": "stream",
     "text": [
      "\n",
      "✅ Epoch 3: Train Loss: 0.6102\n",
      "💾 Saved model at epoch 3 with train loss 0.6102\n"
     ]
    },
    {
     "name": "stderr",
     "output_type": "stream",
     "text": [
      "Epoch [4/15]:   0%|          | 0/30 [00:00<?, ?it/s]"
     ]
    },
    {
     "name": "stdout",
     "output_type": "stream",
     "text": [
      "✅ Loaded Brats18_TCIA12_480_1: Image torch.Size([3, 224, 224]), Mask torch.Size([224, 224])\n",
      "✅ Loaded Brats18_TCIA10_632_1: Image torch.Size([3, 224, 224]), Mask torch.Size([224, 224])\n"
     ]
    },
    {
     "name": "stderr",
     "output_type": "stream",
     "text": [
      "Epoch [4/15]:   3%|▎         | 1/30 [00:00<00:11,  2.47it/s, Loss=0.508]"
     ]
    },
    {
     "name": "stdout",
     "output_type": "stream",
     "text": [
      "✅ Loaded Brats18_TCIA10_325_1: Image torch.Size([3, 224, 224]), Mask torch.Size([224, 224])\n",
      "✅ Loaded Brats18_2013_28_1: Image torch.Size([3, 224, 224]), Mask torch.Size([224, 224])\n"
     ]
    },
    {
     "name": "stderr",
     "output_type": "stream",
     "text": [
      "Epoch [4/15]:   7%|▋         | 2/30 [00:00<00:11,  2.49it/s, Loss=0.67] "
     ]
    },
    {
     "name": "stdout",
     "output_type": "stream",
     "text": [
      "✅ Loaded Brats18_TCIA09_177_1: Image torch.Size([3, 224, 224]), Mask torch.Size([224, 224])\n",
      "✅ Loaded Brats18_TCIA10_629_1: Image torch.Size([3, 224, 224]), Mask torch.Size([224, 224])\n"
     ]
    },
    {
     "name": "stderr",
     "output_type": "stream",
     "text": [
      "Epoch [4/15]:  10%|█         | 3/30 [00:01<00:10,  2.46it/s, Loss=0.613]"
     ]
    },
    {
     "name": "stdout",
     "output_type": "stream",
     "text": [
      "✅ Loaded Brats18_TCIA10_282_1: Image torch.Size([3, 224, 224]), Mask torch.Size([224, 224])\n",
      "✅ Loaded Brats18_2013_6_1: Image torch.Size([3, 224, 224]), Mask torch.Size([224, 224])\n"
     ]
    },
    {
     "name": "stderr",
     "output_type": "stream",
     "text": [
      "Epoch [4/15]:  13%|█▎        | 4/30 [00:01<00:10,  2.48it/s, Loss=0.519]"
     ]
    },
    {
     "name": "stdout",
     "output_type": "stream",
     "text": [
      "✅ Loaded Brats18_2013_0_1: Image torch.Size([3, 224, 224]), Mask torch.Size([224, 224])\n",
      "✅ Loaded Brats18_TCIA13_650_1: Image torch.Size([3, 224, 224]), Mask torch.Size([224, 224])\n"
     ]
    },
    {
     "name": "stderr",
     "output_type": "stream",
     "text": [
      "Epoch [4/15]:  17%|█▋        | 5/30 [00:02<00:10,  2.45it/s, Loss=0.55] "
     ]
    },
    {
     "name": "stdout",
     "output_type": "stream",
     "text": [
      "✅ Loaded Brats18_TCIA12_101_1: Image torch.Size([3, 224, 224]), Mask torch.Size([224, 224])\n",
      "✅ Loaded Brats18_TCIA10_307_1: Image torch.Size([3, 224, 224]), Mask torch.Size([224, 224])\n"
     ]
    },
    {
     "name": "stderr",
     "output_type": "stream",
     "text": [
      "Epoch [4/15]:  20%|██        | 6/30 [00:02<00:09,  2.46it/s, Loss=0.765]"
     ]
    },
    {
     "name": "stdout",
     "output_type": "stream",
     "text": [
      "✅ Loaded Brats18_TCIA10_202_1: Image torch.Size([3, 224, 224]), Mask torch.Size([224, 224])\n",
      "✅ Loaded Brats18_TCIA12_249_1: Image torch.Size([3, 224, 224]), Mask torch.Size([224, 224])\n"
     ]
    },
    {
     "name": "stderr",
     "output_type": "stream",
     "text": [
      "Epoch [4/15]:  23%|██▎       | 7/30 [00:02<00:09,  2.48it/s, Loss=0.519]"
     ]
    },
    {
     "name": "stdout",
     "output_type": "stream",
     "text": [
      "✅ Loaded Brats18_TCIA10_130_1: Image torch.Size([3, 224, 224]), Mask torch.Size([224, 224])\n",
      "✅ Loaded Brats18_TCIA10_175_1: Image torch.Size([3, 224, 224]), Mask torch.Size([224, 224])\n"
     ]
    },
    {
     "name": "stderr",
     "output_type": "stream",
     "text": [
      "Epoch [4/15]:  27%|██▋       | 8/30 [00:03<00:08,  2.45it/s, Loss=0.433]"
     ]
    },
    {
     "name": "stdout",
     "output_type": "stream",
     "text": [
      "✅ Loaded Brats18_TCIA13_634_1: Image torch.Size([3, 224, 224]), Mask torch.Size([224, 224])\n",
      "✅ Loaded Brats18_TCIA12_470_1: Image torch.Size([3, 224, 224]), Mask torch.Size([224, 224])\n"
     ]
    },
    {
     "name": "stderr",
     "output_type": "stream",
     "text": [
      "Epoch [4/15]:  30%|███       | 9/30 [00:03<00:08,  2.46it/s, Loss=0.385]"
     ]
    },
    {
     "name": "stdout",
     "output_type": "stream",
     "text": [
      "✅ Loaded Brats18_TCIA12_466_1: Image torch.Size([3, 224, 224]), Mask torch.Size([224, 224])\n",
      "✅ Loaded Brats18_TCIA10_109_1: Image torch.Size([3, 224, 224]), Mask torch.Size([224, 224])\n"
     ]
    },
    {
     "name": "stderr",
     "output_type": "stream",
     "text": [
      "Epoch [4/15]:  33%|███▎      | 10/30 [00:04<00:08,  2.46it/s, Loss=0.451]"
     ]
    },
    {
     "name": "stdout",
     "output_type": "stream",
     "text": [
      "✅ Loaded Brats18_TCIA10_442_1: Image torch.Size([3, 224, 224]), Mask torch.Size([224, 224])\n",
      "✅ Loaded Brats18_TCIA10_449_1: Image torch.Size([3, 224, 224]), Mask torch.Size([224, 224])\n"
     ]
    },
    {
     "name": "stderr",
     "output_type": "stream",
     "text": [
      "Epoch [4/15]:  37%|███▋      | 11/30 [00:04<00:07,  2.48it/s, Loss=0.489]"
     ]
    },
    {
     "name": "stdout",
     "output_type": "stream",
     "text": [
      "✅ Loaded Brats18_TCIA13_623_1: Image torch.Size([3, 224, 224]), Mask torch.Size([224, 224])\n",
      "✅ Loaded Brats18_TCIA09_402_1: Image torch.Size([3, 224, 224]), Mask torch.Size([224, 224])\n"
     ]
    },
    {
     "name": "stderr",
     "output_type": "stream",
     "text": [
      "Epoch [4/15]:  40%|████      | 12/30 [00:04<00:07,  2.48it/s, Loss=0.745]"
     ]
    },
    {
     "name": "stdout",
     "output_type": "stream",
     "text": [
      "✅ Loaded Brats18_2013_29_1: Image torch.Size([3, 224, 224]), Mask torch.Size([224, 224])\n",
      "✅ Loaded Brats18_TCIA10_628_1: Image torch.Size([3, 224, 224]), Mask torch.Size([224, 224])\n"
     ]
    },
    {
     "name": "stderr",
     "output_type": "stream",
     "text": [
      "Epoch [4/15]:  43%|████▎     | 13/30 [00:05<00:06,  2.47it/s, Loss=0.493]"
     ]
    },
    {
     "name": "stdout",
     "output_type": "stream",
     "text": [
      "✅ Loaded Brats18_TCIA13_645_1: Image torch.Size([3, 224, 224]), Mask torch.Size([224, 224])\n",
      "✅ Loaded Brats18_2013_9_1: Image torch.Size([3, 224, 224]), Mask torch.Size([224, 224])\n"
     ]
    },
    {
     "name": "stderr",
     "output_type": "stream",
     "text": [
      "Epoch [4/15]:  47%|████▋     | 14/30 [00:05<00:06,  2.47it/s, Loss=0.549]"
     ]
    },
    {
     "name": "stdout",
     "output_type": "stream",
     "text": [
      "✅ Loaded Brats18_TCIA10_261_1: Image torch.Size([3, 224, 224]), Mask torch.Size([224, 224])\n",
      "✅ Loaded Brats18_TCIA09_462_1: Image torch.Size([3, 224, 224]), Mask torch.Size([224, 224])\n"
     ]
    },
    {
     "name": "stderr",
     "output_type": "stream",
     "text": [
      "Epoch [4/15]:  50%|█████     | 15/30 [00:06<00:06,  2.49it/s, Loss=0.496]"
     ]
    },
    {
     "name": "stdout",
     "output_type": "stream",
     "text": [
      "✅ Loaded Brats18_2013_8_1: Image torch.Size([3, 224, 224]), Mask torch.Size([224, 224])\n",
      "✅ Loaded Brats18_TCIA10_310_1: Image torch.Size([3, 224, 224]), Mask torch.Size([224, 224])\n"
     ]
    },
    {
     "name": "stderr",
     "output_type": "stream",
     "text": [
      "Epoch [4/15]:  53%|█████▎    | 16/30 [00:06<00:05,  2.49it/s, Loss=0.532]"
     ]
    },
    {
     "name": "stdout",
     "output_type": "stream",
     "text": [
      "✅ Loaded Brats18_2013_24_1: Image torch.Size([3, 224, 224]), Mask torch.Size([224, 224])\n",
      "✅ Loaded Brats18_TCIA10_351_1: Image torch.Size([3, 224, 224]), Mask torch.Size([224, 224])\n"
     ]
    },
    {
     "name": "stderr",
     "output_type": "stream",
     "text": [
      "Epoch [4/15]:  57%|█████▋    | 17/30 [00:06<00:05,  2.47it/s, Loss=0.663]"
     ]
    },
    {
     "name": "stdout",
     "output_type": "stream",
     "text": [
      "✅ Loaded Brats18_TCIA10_330_1: Image torch.Size([3, 224, 224]), Mask torch.Size([224, 224])\n",
      "✅ Loaded Brats18_TCIA10_393_1: Image torch.Size([3, 224, 224]), Mask torch.Size([224, 224])\n"
     ]
    },
    {
     "name": "stderr",
     "output_type": "stream",
     "text": [
      "Epoch [4/15]:  60%|██████    | 18/30 [00:07<00:04,  2.50it/s, Loss=0.536]"
     ]
    },
    {
     "name": "stdout",
     "output_type": "stream",
     "text": [
      "✅ Loaded Brats18_TCIA10_346_1: Image torch.Size([3, 224, 224]), Mask torch.Size([224, 224])\n",
      "✅ Loaded Brats18_TCIA13_615_1: Image torch.Size([3, 224, 224]), Mask torch.Size([224, 224])\n"
     ]
    },
    {
     "name": "stderr",
     "output_type": "stream",
     "text": [
      "Epoch [4/15]:  63%|██████▎   | 19/30 [00:07<00:04,  2.50it/s, Loss=0.622]"
     ]
    },
    {
     "name": "stdout",
     "output_type": "stream",
     "text": [
      "✅ Loaded Brats18_TCIA13_630_1: Image torch.Size([3, 224, 224]), Mask torch.Size([224, 224])\n",
      "✅ Loaded Brats18_TCIA10_266_1: Image torch.Size([3, 224, 224]), Mask torch.Size([224, 224])\n"
     ]
    },
    {
     "name": "stderr",
     "output_type": "stream",
     "text": [
      "Epoch [4/15]:  67%|██████▋   | 20/30 [00:08<00:03,  2.51it/s, Loss=0.57] "
     ]
    },
    {
     "name": "stdout",
     "output_type": "stream",
     "text": [
      "✅ Loaded Brats18_TCIA10_625_1: Image torch.Size([3, 224, 224]), Mask torch.Size([224, 224])\n",
      "✅ Loaded Brats18_TCIA10_644_1: Image torch.Size([3, 224, 224]), Mask torch.Size([224, 224])\n"
     ]
    },
    {
     "name": "stderr",
     "output_type": "stream",
     "text": [
      "Epoch [4/15]:  70%|███████   | 21/30 [00:08<00:03,  2.48it/s, Loss=0.516]"
     ]
    },
    {
     "name": "stdout",
     "output_type": "stream",
     "text": [
      "✅ Loaded Brats18_TCIA13_633_1: Image torch.Size([3, 224, 224]), Mask torch.Size([224, 224])\n",
      "✅ Loaded Brats18_TCIA13_653_1: Image torch.Size([3, 224, 224]), Mask torch.Size([224, 224])\n"
     ]
    },
    {
     "name": "stderr",
     "output_type": "stream",
     "text": [
      "Epoch [4/15]:  73%|███████▎  | 22/30 [00:08<00:03,  2.48it/s, Loss=0.58] "
     ]
    },
    {
     "name": "stdout",
     "output_type": "stream",
     "text": [
      "✅ Loaded Brats18_TCIA10_299_1: Image torch.Size([3, 224, 224]), Mask torch.Size([224, 224])\n",
      "✅ Loaded Brats18_TCIA13_624_1: Image torch.Size([3, 224, 224]), Mask torch.Size([224, 224])\n"
     ]
    },
    {
     "name": "stderr",
     "output_type": "stream",
     "text": [
      "Epoch [4/15]:  77%|███████▋  | 23/30 [00:09<00:02,  2.49it/s, Loss=0.485]"
     ]
    },
    {
     "name": "stdout",
     "output_type": "stream",
     "text": [
      "✅ Loaded Brats18_TCIA10_387_1: Image torch.Size([3, 224, 224]), Mask torch.Size([224, 224])\n",
      "✅ Loaded Brats18_TCIA09_254_1: Image torch.Size([3, 224, 224]), Mask torch.Size([224, 224])\n"
     ]
    },
    {
     "name": "stderr",
     "output_type": "stream",
     "text": [
      "Epoch [4/15]:  80%|████████  | 24/30 [00:09<00:02,  2.49it/s, Loss=0.536]"
     ]
    },
    {
     "name": "stdout",
     "output_type": "stream",
     "text": [
      "✅ Loaded Brats18_TCIA09_493_1: Image torch.Size([3, 224, 224]), Mask torch.Size([224, 224])\n",
      "✅ Loaded Brats18_TCIA13_642_1: Image torch.Size([3, 224, 224]), Mask torch.Size([224, 224])\n"
     ]
    },
    {
     "name": "stderr",
     "output_type": "stream",
     "text": [
      "Epoch [4/15]:  83%|████████▎ | 25/30 [00:10<00:02,  2.49it/s, Loss=0.515]"
     ]
    },
    {
     "name": "stdout",
     "output_type": "stream",
     "text": [
      "✅ Loaded Brats18_TCIA10_241_1: Image torch.Size([3, 224, 224]), Mask torch.Size([224, 224])\n",
      "✅ Loaded Brats18_TCIA09_428_1: Image torch.Size([3, 224, 224]), Mask torch.Size([224, 224])\n"
     ]
    },
    {
     "name": "stderr",
     "output_type": "stream",
     "text": [
      "Epoch [4/15]:  87%|████████▋ | 26/30 [00:10<00:01,  2.50it/s, Loss=0.465]"
     ]
    },
    {
     "name": "stdout",
     "output_type": "stream",
     "text": [
      "✅ Loaded Brats18_TCIA13_654_1: Image torch.Size([3, 224, 224]), Mask torch.Size([224, 224])\n",
      "✅ Loaded Brats18_TCIA10_103_1: Image torch.Size([3, 224, 224]), Mask torch.Size([224, 224])\n"
     ]
    },
    {
     "name": "stderr",
     "output_type": "stream",
     "text": [
      "Epoch [4/15]:  90%|█████████ | 27/30 [00:10<00:01,  2.50it/s, Loss=0.445]"
     ]
    },
    {
     "name": "stdout",
     "output_type": "stream",
     "text": [
      "✅ Loaded Brats18_TCIA10_276_1: Image torch.Size([3, 224, 224]), Mask torch.Size([224, 224])\n",
      "✅ Loaded Brats18_TCIA12_298_1: Image torch.Size([3, 224, 224]), Mask torch.Size([224, 224])\n"
     ]
    },
    {
     "name": "stderr",
     "output_type": "stream",
     "text": [
      "Epoch [4/15]:  93%|█████████▎| 28/30 [00:11<00:00,  2.50it/s, Loss=0.537]"
     ]
    },
    {
     "name": "stdout",
     "output_type": "stream",
     "text": [
      "✅ Loaded Brats18_2013_15_1: Image torch.Size([3, 224, 224]), Mask torch.Size([224, 224])\n",
      "✅ Loaded Brats18_TCIA10_413_1: Image torch.Size([3, 224, 224]), Mask torch.Size([224, 224])\n"
     ]
    },
    {
     "name": "stderr",
     "output_type": "stream",
     "text": [
      "Epoch [4/15]:  97%|█████████▋| 29/30 [00:11<00:00,  2.49it/s, Loss=0.616]"
     ]
    },
    {
     "name": "stdout",
     "output_type": "stream",
     "text": [
      "✅ Loaded Brats18_TCIA10_420_1: Image torch.Size([3, 224, 224]), Mask torch.Size([224, 224])\n",
      "✅ Loaded Brats18_TCIA10_408_1: Image torch.Size([3, 224, 224]), Mask torch.Size([224, 224])\n"
     ]
    },
    {
     "name": "stderr",
     "output_type": "stream",
     "text": [
      "                                                                         \r"
     ]
    },
    {
     "name": "stdout",
     "output_type": "stream",
     "text": [
      "\n",
      "✅ Epoch 4: Train Loss: 0.5528\n",
      "💾 Saved model at epoch 4 with train loss 0.5528\n"
     ]
    },
    {
     "name": "stderr",
     "output_type": "stream",
     "text": [
      "Epoch [5/15]:   0%|          | 0/30 [00:00<?, ?it/s]"
     ]
    },
    {
     "name": "stdout",
     "output_type": "stream",
     "text": [
      "✅ Loaded Brats18_TCIA10_325_1: Image torch.Size([3, 224, 224]), Mask torch.Size([224, 224])\n",
      "✅ Loaded Brats18_TCIA12_470_1: Image torch.Size([3, 224, 224]), Mask torch.Size([224, 224])\n"
     ]
    },
    {
     "name": "stderr",
     "output_type": "stream",
     "text": [
      "Epoch [5/15]:   3%|▎         | 1/30 [00:00<00:11,  2.51it/s, Loss=0.633]"
     ]
    },
    {
     "name": "stdout",
     "output_type": "stream",
     "text": [
      "✅ Loaded Brats18_TCIA09_254_1: Image torch.Size([3, 224, 224]), Mask torch.Size([224, 224])\n",
      "✅ Loaded Brats18_TCIA12_298_1: Image torch.Size([3, 224, 224]), Mask torch.Size([224, 224])\n"
     ]
    },
    {
     "name": "stderr",
     "output_type": "stream",
     "text": [
      "Epoch [5/15]:   7%|▋         | 2/30 [00:00<00:11,  2.52it/s, Loss=0.49] "
     ]
    },
    {
     "name": "stdout",
     "output_type": "stream",
     "text": [
      "✅ Loaded Brats18_TCIA12_466_1: Image torch.Size([3, 224, 224]), Mask torch.Size([224, 224])\n",
      "✅ Loaded Brats18_2013_6_1: Image torch.Size([3, 224, 224]), Mask torch.Size([224, 224])\n"
     ]
    },
    {
     "name": "stderr",
     "output_type": "stream",
     "text": [
      "Epoch [5/15]:  10%|█         | 3/30 [00:01<00:10,  2.50it/s, Loss=0.448]"
     ]
    },
    {
     "name": "stdout",
     "output_type": "stream",
     "text": [
      "✅ Loaded Brats18_TCIA10_109_1: Image torch.Size([3, 224, 224]), Mask torch.Size([224, 224])\n",
      "✅ Loaded Brats18_TCIA10_261_1: Image torch.Size([3, 224, 224]), Mask torch.Size([224, 224])\n"
     ]
    },
    {
     "name": "stderr",
     "output_type": "stream",
     "text": [
      "Epoch [5/15]:  13%|█▎        | 4/30 [00:01<00:10,  2.50it/s, Loss=0.523]"
     ]
    },
    {
     "name": "stdout",
     "output_type": "stream",
     "text": [
      "✅ Loaded Brats18_TCIA10_629_1: Image torch.Size([3, 224, 224]), Mask torch.Size([224, 224])\n",
      "✅ Loaded Brats18_TCIA10_420_1: Image torch.Size([3, 224, 224]), Mask torch.Size([224, 224])\n"
     ]
    },
    {
     "name": "stderr",
     "output_type": "stream",
     "text": [
      "Epoch [5/15]:  17%|█▋        | 5/30 [00:02<00:10,  2.49it/s, Loss=0.606]"
     ]
    },
    {
     "name": "stdout",
     "output_type": "stream",
     "text": [
      "✅ Loaded Brats18_2013_9_1: Image torch.Size([3, 224, 224]), Mask torch.Size([224, 224])\n",
      "✅ Loaded Brats18_TCIA13_633_1: Image torch.Size([3, 224, 224]), Mask torch.Size([224, 224])\n"
     ]
    },
    {
     "name": "stderr",
     "output_type": "stream",
     "text": [
      "Epoch [5/15]:  20%|██        | 6/30 [00:02<00:09,  2.47it/s, Loss=0.712]"
     ]
    },
    {
     "name": "stdout",
     "output_type": "stream",
     "text": [
      "✅ Loaded Brats18_TCIA13_654_1: Image torch.Size([3, 224, 224]), Mask torch.Size([224, 224])\n",
      "✅ Loaded Brats18_TCIA10_449_1: Image torch.Size([3, 224, 224]), Mask torch.Size([224, 224])\n"
     ]
    },
    {
     "name": "stderr",
     "output_type": "stream",
     "text": [
      "Epoch [5/15]:  23%|██▎       | 7/30 [00:02<00:09,  2.51it/s, Loss=0.435]"
     ]
    },
    {
     "name": "stdout",
     "output_type": "stream",
     "text": [
      "✅ Loaded Brats18_2013_24_1: Image torch.Size([3, 224, 224]), Mask torch.Size([224, 224])\n",
      "✅ Loaded Brats18_2013_28_1: Image torch.Size([3, 224, 224]), Mask torch.Size([224, 224])\n"
     ]
    },
    {
     "name": "stderr",
     "output_type": "stream",
     "text": [
      "Epoch [5/15]:  27%|██▋       | 8/30 [00:03<00:08,  2.48it/s, Loss=0.541]"
     ]
    },
    {
     "name": "stdout",
     "output_type": "stream",
     "text": [
      "✅ Loaded Brats18_TCIA10_241_1: Image torch.Size([3, 224, 224]), Mask torch.Size([224, 224])\n",
      "✅ Loaded Brats18_TCIA10_103_1: Image torch.Size([3, 224, 224]), Mask torch.Size([224, 224])\n"
     ]
    },
    {
     "name": "stderr",
     "output_type": "stream",
     "text": [
      "Epoch [5/15]:  30%|███       | 9/30 [00:03<00:08,  2.48it/s, Loss=0.584]"
     ]
    },
    {
     "name": "stdout",
     "output_type": "stream",
     "text": [
      "✅ Loaded Brats18_TCIA13_630_1: Image torch.Size([3, 224, 224]), Mask torch.Size([224, 224])\n",
      "✅ Loaded Brats18_TCIA10_393_1: Image torch.Size([3, 224, 224]), Mask torch.Size([224, 224])\n"
     ]
    },
    {
     "name": "stderr",
     "output_type": "stream",
     "text": [
      "Epoch [5/15]:  33%|███▎      | 10/30 [00:04<00:08,  2.48it/s, Loss=0.515]"
     ]
    },
    {
     "name": "stdout",
     "output_type": "stream",
     "text": [
      "✅ Loaded Brats18_TCIA09_462_1: Image torch.Size([3, 224, 224]), Mask torch.Size([224, 224])\n",
      "✅ Loaded Brats18_TCIA10_644_1: Image torch.Size([3, 224, 224]), Mask torch.Size([224, 224])\n"
     ]
    },
    {
     "name": "stderr",
     "output_type": "stream",
     "text": [
      "Epoch [5/15]:  37%|███▋      | 11/30 [00:04<00:07,  2.46it/s, Loss=0.496]"
     ]
    },
    {
     "name": "stdout",
     "output_type": "stream",
     "text": [
      "✅ Loaded Brats18_TCIA10_130_1: Image torch.Size([3, 224, 224]), Mask torch.Size([224, 224])\n",
      "✅ Loaded Brats18_TCIA10_628_1: Image torch.Size([3, 224, 224]), Mask torch.Size([224, 224])\n"
     ]
    },
    {
     "name": "stderr",
     "output_type": "stream",
     "text": [
      "Epoch [5/15]:  40%|████      | 12/30 [00:04<00:07,  2.48it/s, Loss=0.459]"
     ]
    },
    {
     "name": "stdout",
     "output_type": "stream",
     "text": [
      "✅ Loaded Brats18_TCIA10_282_1: Image torch.Size([3, 224, 224]), Mask torch.Size([224, 224])\n",
      "✅ Loaded Brats18_TCIA13_615_1: Image torch.Size([3, 224, 224]), Mask torch.Size([224, 224])\n"
     ]
    },
    {
     "name": "stderr",
     "output_type": "stream",
     "text": [
      "Epoch [5/15]:  43%|████▎     | 13/30 [00:05<00:06,  2.48it/s, Loss=0.417]"
     ]
    },
    {
     "name": "stdout",
     "output_type": "stream",
     "text": [
      "✅ Loaded Brats18_2013_8_1: Image torch.Size([3, 224, 224]), Mask torch.Size([224, 224])\n",
      "✅ Loaded Brats18_TCIA09_428_1: Image torch.Size([3, 224, 224]), Mask torch.Size([224, 224])\n"
     ]
    },
    {
     "name": "stderr",
     "output_type": "stream",
     "text": [
      "Epoch [5/15]:  47%|████▋     | 14/30 [00:05<00:06,  2.48it/s, Loss=0.431]"
     ]
    },
    {
     "name": "stdout",
     "output_type": "stream",
     "text": [
      "✅ Loaded Brats18_TCIA10_299_1: Image torch.Size([3, 224, 224]), Mask torch.Size([224, 224])\n",
      "✅ Loaded Brats18_TCIA10_625_1: Image torch.Size([3, 224, 224]), Mask torch.Size([224, 224])\n"
     ]
    },
    {
     "name": "stderr",
     "output_type": "stream",
     "text": [
      "Epoch [5/15]:  50%|█████     | 15/30 [00:06<00:06,  2.49it/s, Loss=0.448]"
     ]
    },
    {
     "name": "stdout",
     "output_type": "stream",
     "text": [
      "✅ Loaded Brats18_TCIA13_653_1: Image torch.Size([3, 224, 224]), Mask torch.Size([224, 224])\n",
      "✅ Loaded Brats18_TCIA10_175_1: Image torch.Size([3, 224, 224]), Mask torch.Size([224, 224])\n"
     ]
    },
    {
     "name": "stderr",
     "output_type": "stream",
     "text": [
      "Epoch [5/15]:  53%|█████▎    | 16/30 [00:06<00:05,  2.47it/s, Loss=0.43] "
     ]
    },
    {
     "name": "stdout",
     "output_type": "stream",
     "text": [
      "✅ Loaded Brats18_TCIA10_202_1: Image torch.Size([3, 224, 224]), Mask torch.Size([224, 224])\n",
      "✅ Loaded Brats18_TCIA10_276_1: Image torch.Size([3, 224, 224]), Mask torch.Size([224, 224])\n"
     ]
    },
    {
     "name": "stderr",
     "output_type": "stream",
     "text": [
      "Epoch [5/15]:  57%|█████▋    | 17/30 [00:06<00:05,  2.50it/s, Loss=0.523]"
     ]
    },
    {
     "name": "stdout",
     "output_type": "stream",
     "text": [
      "✅ Loaded Brats18_TCIA13_624_1: Image torch.Size([3, 224, 224]), Mask torch.Size([224, 224])\n",
      "✅ Loaded Brats18_TCIA13_645_1: Image torch.Size([3, 224, 224]), Mask torch.Size([224, 224])\n"
     ]
    },
    {
     "name": "stderr",
     "output_type": "stream",
     "text": [
      "Epoch [5/15]:  60%|██████    | 18/30 [00:07<00:04,  2.48it/s, Loss=0.313]"
     ]
    },
    {
     "name": "stdout",
     "output_type": "stream",
     "text": [
      "✅ Loaded Brats18_TCIA10_310_1: Image torch.Size([3, 224, 224]), Mask torch.Size([224, 224])\n",
      "✅ Loaded Brats18_TCIA10_632_1: Image torch.Size([3, 224, 224]), Mask torch.Size([224, 224])\n"
     ]
    },
    {
     "name": "stderr",
     "output_type": "stream",
     "text": [
      "Epoch [5/15]:  63%|██████▎   | 19/30 [00:07<00:04,  2.50it/s, Loss=0.758]"
     ]
    },
    {
     "name": "stdout",
     "output_type": "stream",
     "text": [
      "✅ Loaded Brats18_TCIA10_442_1: Image torch.Size([3, 224, 224]), Mask torch.Size([224, 224])\n",
      "✅ Loaded Brats18_2013_15_1: Image torch.Size([3, 224, 224]), Mask torch.Size([224, 224])\n"
     ]
    },
    {
     "name": "stderr",
     "output_type": "stream",
     "text": [
      "Epoch [5/15]:  67%|██████▋   | 20/30 [00:08<00:04,  2.48it/s, Loss=0.504]"
     ]
    },
    {
     "name": "stdout",
     "output_type": "stream",
     "text": [
      "✅ Loaded Brats18_TCIA10_330_1: Image torch.Size([3, 224, 224]), Mask torch.Size([224, 224])\n",
      "✅ Loaded Brats18_TCIA13_634_1: Image torch.Size([3, 224, 224]), Mask torch.Size([224, 224])\n"
     ]
    },
    {
     "name": "stderr",
     "output_type": "stream",
     "text": [
      "Epoch [5/15]:  70%|███████   | 21/30 [00:08<00:03,  2.48it/s, Loss=0.47] "
     ]
    },
    {
     "name": "stdout",
     "output_type": "stream",
     "text": [
      "✅ Loaded Brats18_TCIA13_623_1: Image torch.Size([3, 224, 224]), Mask torch.Size([224, 224])\n",
      "✅ Loaded Brats18_TCIA10_351_1: Image torch.Size([3, 224, 224]), Mask torch.Size([224, 224])\n"
     ]
    },
    {
     "name": "stderr",
     "output_type": "stream",
     "text": [
      "Epoch [5/15]:  73%|███████▎  | 22/30 [00:08<00:03,  2.49it/s, Loss=0.618]"
     ]
    },
    {
     "name": "stdout",
     "output_type": "stream",
     "text": [
      "✅ Loaded Brats18_TCIA10_307_1: Image torch.Size([3, 224, 224]), Mask torch.Size([224, 224])\n",
      "✅ Loaded Brats18_TCIA10_387_1: Image torch.Size([3, 224, 224]), Mask torch.Size([224, 224])\n"
     ]
    },
    {
     "name": "stderr",
     "output_type": "stream",
     "text": [
      "Epoch [5/15]:  77%|███████▋  | 23/30 [00:09<00:02,  2.49it/s, Loss=0.658]"
     ]
    },
    {
     "name": "stdout",
     "output_type": "stream",
     "text": [
      "✅ Loaded Brats18_2013_0_1: Image torch.Size([3, 224, 224]), Mask torch.Size([224, 224])\n",
      "✅ Loaded Brats18_TCIA12_480_1: Image torch.Size([3, 224, 224]), Mask torch.Size([224, 224])\n"
     ]
    },
    {
     "name": "stderr",
     "output_type": "stream",
     "text": [
      "Epoch [5/15]:  80%|████████  | 24/30 [00:09<00:02,  2.47it/s, Loss=0.472]"
     ]
    },
    {
     "name": "stdout",
     "output_type": "stream",
     "text": [
      "✅ Loaded Brats18_TCIA09_493_1: Image torch.Size([3, 224, 224]), Mask torch.Size([224, 224])\n",
      "✅ Loaded Brats18_TCIA10_266_1: Image torch.Size([3, 224, 224]), Mask torch.Size([224, 224])\n"
     ]
    },
    {
     "name": "stderr",
     "output_type": "stream",
     "text": [
      "Epoch [5/15]:  83%|████████▎ | 25/30 [00:10<00:01,  2.51it/s, Loss=0.493]"
     ]
    },
    {
     "name": "stdout",
     "output_type": "stream",
     "text": [
      "✅ Loaded Brats18_TCIA09_402_1: Image torch.Size([3, 224, 224]), Mask torch.Size([224, 224])\n",
      "✅ Loaded Brats18_TCIA10_413_1: Image torch.Size([3, 224, 224]), Mask torch.Size([224, 224])\n"
     ]
    },
    {
     "name": "stderr",
     "output_type": "stream",
     "text": [
      "Epoch [5/15]:  87%|████████▋ | 26/30 [00:10<00:01,  2.48it/s, Loss=0.415]"
     ]
    },
    {
     "name": "stdout",
     "output_type": "stream",
     "text": [
      "✅ Loaded Brats18_TCIA10_346_1: Image torch.Size([3, 224, 224]), Mask torch.Size([224, 224])\n",
      "✅ Loaded Brats18_TCIA12_249_1: Image torch.Size([3, 224, 224]), Mask torch.Size([224, 224])\n"
     ]
    },
    {
     "name": "stderr",
     "output_type": "stream",
     "text": [
      "Epoch [5/15]:  90%|█████████ | 27/30 [00:10<00:01,  2.51it/s, Loss=0.404]"
     ]
    },
    {
     "name": "stdout",
     "output_type": "stream",
     "text": [
      "✅ Loaded Brats18_2013_29_1: Image torch.Size([3, 224, 224]), Mask torch.Size([224, 224])\n",
      "✅ Loaded Brats18_TCIA12_101_1: Image torch.Size([3, 224, 224]), Mask torch.Size([224, 224])\n"
     ]
    },
    {
     "name": "stderr",
     "output_type": "stream",
     "text": [
      "Epoch [5/15]:  93%|█████████▎| 28/30 [00:11<00:00,  2.48it/s, Loss=0.701]"
     ]
    },
    {
     "name": "stdout",
     "output_type": "stream",
     "text": [
      "✅ Loaded Brats18_TCIA09_177_1: Image torch.Size([3, 224, 224]), Mask torch.Size([224, 224])\n",
      "✅ Loaded Brats18_TCIA10_408_1: Image torch.Size([3, 224, 224]), Mask torch.Size([224, 224])\n"
     ]
    },
    {
     "name": "stderr",
     "output_type": "stream",
     "text": [
      "Epoch [5/15]:  97%|█████████▋| 29/30 [00:11<00:00,  2.49it/s, Loss=0.762]"
     ]
    },
    {
     "name": "stdout",
     "output_type": "stream",
     "text": [
      "✅ Loaded Brats18_TCIA13_650_1: Image torch.Size([3, 224, 224]), Mask torch.Size([224, 224])\n",
      "✅ Loaded Brats18_TCIA13_642_1: Image torch.Size([3, 224, 224]), Mask torch.Size([224, 224])\n"
     ]
    },
    {
     "name": "stderr",
     "output_type": "stream",
     "text": [
      "                                                                         \r"
     ]
    },
    {
     "name": "stdout",
     "output_type": "stream",
     "text": [
      "\n",
      "✅ Epoch 5: Train Loss: 0.5265\n",
      "💾 Saved model at epoch 5 with train loss 0.5265\n"
     ]
    },
    {
     "name": "stderr",
     "output_type": "stream",
     "text": [
      "Epoch [6/15]:   0%|          | 0/30 [00:00<?, ?it/s]"
     ]
    },
    {
     "name": "stdout",
     "output_type": "stream",
     "text": [
      "✅ Loaded Brats18_2013_9_1: Image torch.Size([3, 224, 224]), Mask torch.Size([224, 224])\n",
      "✅ Loaded Brats18_TCIA13_645_1: Image torch.Size([3, 224, 224]), Mask torch.Size([224, 224])\n"
     ]
    },
    {
     "name": "stderr",
     "output_type": "stream",
     "text": [
      "Epoch [6/15]:   3%|▎         | 1/30 [00:00<00:11,  2.46it/s, Loss=0.599]"
     ]
    },
    {
     "name": "stdout",
     "output_type": "stream",
     "text": [
      "✅ Loaded Brats18_TCIA09_177_1: Image torch.Size([3, 224, 224]), Mask torch.Size([224, 224])\n",
      "✅ Loaded Brats18_TCIA13_615_1: Image torch.Size([3, 224, 224]), Mask torch.Size([224, 224])\n"
     ]
    },
    {
     "name": "stderr",
     "output_type": "stream",
     "text": [
      "Epoch [6/15]:   7%|▋         | 2/30 [00:00<00:11,  2.46it/s, Loss=0.552]"
     ]
    },
    {
     "name": "stdout",
     "output_type": "stream",
     "text": [
      "✅ Loaded Brats18_TCIA12_249_1: Image torch.Size([3, 224, 224]), Mask torch.Size([224, 224])\n",
      "✅ Loaded Brats18_TCIA10_625_1: Image torch.Size([3, 224, 224]), Mask torch.Size([224, 224])\n"
     ]
    },
    {
     "name": "stderr",
     "output_type": "stream",
     "text": [
      "Epoch [6/15]:  10%|█         | 3/30 [00:01<00:10,  2.48it/s, Loss=0.428]"
     ]
    },
    {
     "name": "stdout",
     "output_type": "stream",
     "text": [
      "✅ Loaded Brats18_TCIA10_629_1: Image torch.Size([3, 224, 224]), Mask torch.Size([224, 224])\n",
      "✅ Loaded Brats18_TCIA12_480_1: Image torch.Size([3, 224, 224]), Mask torch.Size([224, 224])\n"
     ]
    },
    {
     "name": "stderr",
     "output_type": "stream",
     "text": [
      "Epoch [6/15]:  13%|█▎        | 4/30 [00:01<00:10,  2.49it/s, Loss=0.397]"
     ]
    },
    {
     "name": "stdout",
     "output_type": "stream",
     "text": [
      "✅ Loaded Brats18_TCIA10_632_1: Image torch.Size([3, 224, 224]), Mask torch.Size([224, 224])\n",
      "✅ Loaded Brats18_2013_0_1: Image torch.Size([3, 224, 224]), Mask torch.Size([224, 224])\n"
     ]
    },
    {
     "name": "stderr",
     "output_type": "stream",
     "text": [
      "Epoch [6/15]:  17%|█▋        | 5/30 [00:02<00:10,  2.46it/s, Loss=0.585]"
     ]
    },
    {
     "name": "stdout",
     "output_type": "stream",
     "text": [
      "✅ Loaded Brats18_TCIA10_202_1: Image torch.Size([3, 224, 224]), Mask torch.Size([224, 224])\n",
      "✅ Loaded Brats18_TCIA13_624_1: Image torch.Size([3, 224, 224]), Mask torch.Size([224, 224])\n"
     ]
    },
    {
     "name": "stderr",
     "output_type": "stream",
     "text": [
      "Epoch [6/15]:  20%|██        | 6/30 [00:02<00:09,  2.47it/s, Loss=0.29] "
     ]
    },
    {
     "name": "stdout",
     "output_type": "stream",
     "text": [
      "✅ Loaded Brats18_TCIA10_408_1: Image torch.Size([3, 224, 224]), Mask torch.Size([224, 224])\n",
      "✅ Loaded Brats18_TCIA10_310_1: Image torch.Size([3, 224, 224]), Mask torch.Size([224, 224])\n"
     ]
    },
    {
     "name": "stderr",
     "output_type": "stream",
     "text": [
      "Epoch [6/15]:  23%|██▎       | 7/30 [00:02<00:09,  2.47it/s, Loss=0.763]"
     ]
    },
    {
     "name": "stdout",
     "output_type": "stream",
     "text": [
      "✅ Loaded Brats18_TCIA10_449_1: Image torch.Size([3, 224, 224]), Mask torch.Size([224, 224])\n",
      "✅ Loaded Brats18_TCIA09_462_1: Image torch.Size([3, 224, 224]), Mask torch.Size([224, 224])\n"
     ]
    },
    {
     "name": "stderr",
     "output_type": "stream",
     "text": [
      "Epoch [6/15]:  27%|██▋       | 8/30 [00:03<00:08,  2.46it/s, Loss=0.413]"
     ]
    },
    {
     "name": "stdout",
     "output_type": "stream",
     "text": [
      "✅ Loaded Brats18_TCIA10_346_1: Image torch.Size([3, 224, 224]), Mask torch.Size([224, 224])\n",
      "✅ Loaded Brats18_TCIA12_101_1: Image torch.Size([3, 224, 224]), Mask torch.Size([224, 224])\n"
     ]
    },
    {
     "name": "stderr",
     "output_type": "stream",
     "text": [
      "Epoch [6/15]:  30%|███       | 9/30 [00:03<00:08,  2.47it/s, Loss=0.357]"
     ]
    },
    {
     "name": "stdout",
     "output_type": "stream",
     "text": [
      "✅ Loaded Brats18_TCIA10_413_1: Image torch.Size([3, 224, 224]), Mask torch.Size([224, 224])\n",
      "✅ Loaded Brats18_TCIA09_493_1: Image torch.Size([3, 224, 224]), Mask torch.Size([224, 224])\n"
     ]
    },
    {
     "name": "stderr",
     "output_type": "stream",
     "text": [
      "Epoch [6/15]:  33%|███▎      | 10/30 [00:04<00:08,  2.48it/s, Loss=0.436]"
     ]
    },
    {
     "name": "stdout",
     "output_type": "stream",
     "text": [
      "✅ Loaded Brats18_TCIA10_442_1: Image torch.Size([3, 224, 224]), Mask torch.Size([224, 224])\n",
      "✅ Loaded Brats18_TCIA10_325_1: Image torch.Size([3, 224, 224]), Mask torch.Size([224, 224])\n"
     ]
    },
    {
     "name": "stderr",
     "output_type": "stream",
     "text": [
      "Epoch [6/15]:  37%|███▋      | 11/30 [00:04<00:07,  2.48it/s, Loss=0.528]"
     ]
    },
    {
     "name": "stdout",
     "output_type": "stream",
     "text": [
      "✅ Loaded Brats18_TCIA09_254_1: Image torch.Size([3, 224, 224]), Mask torch.Size([224, 224])\n",
      "✅ Loaded Brats18_TCIA10_330_1: Image torch.Size([3, 224, 224]), Mask torch.Size([224, 224])\n"
     ]
    },
    {
     "name": "stderr",
     "output_type": "stream",
     "text": [
      "Epoch [6/15]:  40%|████      | 12/30 [00:04<00:07,  2.48it/s, Loss=0.406]"
     ]
    },
    {
     "name": "stdout",
     "output_type": "stream",
     "text": [
      "✅ Loaded Brats18_TCIA10_299_1: Image torch.Size([3, 224, 224]), Mask torch.Size([224, 224])\n",
      "✅ Loaded Brats18_TCIA09_428_1: Image torch.Size([3, 224, 224]), Mask torch.Size([224, 224])\n"
     ]
    },
    {
     "name": "stderr",
     "output_type": "stream",
     "text": [
      "Epoch [6/15]:  43%|████▎     | 13/30 [00:05<00:06,  2.45it/s, Loss=0.535]"
     ]
    },
    {
     "name": "stdout",
     "output_type": "stream",
     "text": [
      "✅ Loaded Brats18_TCIA10_644_1: Image torch.Size([3, 224, 224]), Mask torch.Size([224, 224])\n",
      "✅ Loaded Brats18_TCIA10_109_1: Image torch.Size([3, 224, 224]), Mask torch.Size([224, 224])\n"
     ]
    },
    {
     "name": "stderr",
     "output_type": "stream",
     "text": [
      "Epoch [6/15]:  47%|████▋     | 14/30 [00:05<00:06,  2.45it/s, Loss=0.508]"
     ]
    },
    {
     "name": "stdout",
     "output_type": "stream",
     "text": [
      "✅ Loaded Brats18_TCIA13_642_1: Image torch.Size([3, 224, 224]), Mask torch.Size([224, 224])\n",
      "✅ Loaded Brats18_2013_28_1: Image torch.Size([3, 224, 224]), Mask torch.Size([224, 224])\n"
     ]
    },
    {
     "name": "stderr",
     "output_type": "stream",
     "text": [
      "Epoch [6/15]:  50%|█████     | 15/30 [00:06<00:06,  2.46it/s, Loss=0.519]"
     ]
    },
    {
     "name": "stdout",
     "output_type": "stream",
     "text": [
      "✅ Loaded Brats18_2013_29_1: Image torch.Size([3, 224, 224]), Mask torch.Size([224, 224])\n",
      "✅ Loaded Brats18_2013_6_1: Image torch.Size([3, 224, 224]), Mask torch.Size([224, 224])\n"
     ]
    },
    {
     "name": "stderr",
     "output_type": "stream",
     "text": [
      "Epoch [6/15]:  53%|█████▎    | 16/30 [00:06<00:05,  2.44it/s, Loss=0.399]"
     ]
    },
    {
     "name": "stdout",
     "output_type": "stream",
     "text": [
      "✅ Loaded Brats18_2013_15_1: Image torch.Size([3, 224, 224]), Mask torch.Size([224, 224])\n",
      "✅ Loaded Brats18_TCIA13_653_1: Image torch.Size([3, 224, 224]), Mask torch.Size([224, 224])\n"
     ]
    },
    {
     "name": "stderr",
     "output_type": "stream",
     "text": [
      "Epoch [6/15]:  57%|█████▋    | 17/30 [00:06<00:05,  2.46it/s, Loss=0.756]"
     ]
    },
    {
     "name": "stdout",
     "output_type": "stream",
     "text": [
      "✅ Loaded Brats18_TCIA12_298_1: Image torch.Size([3, 224, 224]), Mask torch.Size([224, 224])\n",
      "✅ Loaded Brats18_TCIA10_261_1: Image torch.Size([3, 224, 224]), Mask torch.Size([224, 224])\n"
     ]
    },
    {
     "name": "stderr",
     "output_type": "stream",
     "text": [
      "Epoch [6/15]:  60%|██████    | 18/30 [00:07<00:04,  2.47it/s, Loss=0.373]"
     ]
    },
    {
     "name": "stdout",
     "output_type": "stream",
     "text": [
      "✅ Loaded Brats18_TCIA10_130_1: Image torch.Size([3, 224, 224]), Mask torch.Size([224, 224])\n",
      "✅ Loaded Brats18_TCIA10_241_1: Image torch.Size([3, 224, 224]), Mask torch.Size([224, 224])\n"
     ]
    },
    {
     "name": "stderr",
     "output_type": "stream",
     "text": [
      "Epoch [6/15]:  63%|██████▎   | 19/30 [00:07<00:04,  2.48it/s, Loss=0.451]"
     ]
    },
    {
     "name": "stdout",
     "output_type": "stream",
     "text": [
      "✅ Loaded Brats18_TCIA13_633_1: Image torch.Size([3, 224, 224]), Mask torch.Size([224, 224])\n",
      "✅ Loaded Brats18_TCIA09_402_1: Image torch.Size([3, 224, 224]), Mask torch.Size([224, 224])\n"
     ]
    },
    {
     "name": "stderr",
     "output_type": "stream",
     "text": [
      "Epoch [6/15]:  67%|██████▋   | 20/30 [00:08<00:04,  2.46it/s, Loss=0.62] "
     ]
    },
    {
     "name": "stdout",
     "output_type": "stream",
     "text": [
      "✅ Loaded Brats18_TCIA10_351_1: Image torch.Size([3, 224, 224]), Mask torch.Size([224, 224])\n",
      "✅ Loaded Brats18_TCIA13_650_1: Image torch.Size([3, 224, 224]), Mask torch.Size([224, 224])\n"
     ]
    },
    {
     "name": "stderr",
     "output_type": "stream",
     "text": [
      "Epoch [6/15]:  70%|███████   | 21/30 [00:08<00:03,  2.47it/s, Loss=0.716]"
     ]
    },
    {
     "name": "stdout",
     "output_type": "stream",
     "text": [
      "✅ Loaded Brats18_TCIA10_266_1: Image torch.Size([3, 224, 224]), Mask torch.Size([224, 224])\n",
      "✅ Loaded Brats18_2013_8_1: Image torch.Size([3, 224, 224]), Mask torch.Size([224, 224])\n"
     ]
    },
    {
     "name": "stderr",
     "output_type": "stream",
     "text": [
      "Epoch [6/15]:  73%|███████▎  | 22/30 [00:08<00:03,  2.43it/s, Loss=0.587]"
     ]
    },
    {
     "name": "stdout",
     "output_type": "stream",
     "text": [
      "✅ Loaded Brats18_TCIA10_276_1: Image torch.Size([3, 224, 224]), Mask torch.Size([224, 224])\n",
      "✅ Loaded Brats18_TCIA10_282_1: Image torch.Size([3, 224, 224]), Mask torch.Size([224, 224])\n"
     ]
    },
    {
     "name": "stderr",
     "output_type": "stream",
     "text": [
      "Epoch [6/15]:  77%|███████▋  | 23/30 [00:09<00:02,  2.40it/s, Loss=0.659]"
     ]
    },
    {
     "name": "stdout",
     "output_type": "stream",
     "text": [
      "✅ Loaded Brats18_TCIA10_103_1: Image torch.Size([3, 224, 224]), Mask torch.Size([224, 224])\n",
      "✅ Loaded Brats18_TCIA12_470_1: Image torch.Size([3, 224, 224]), Mask torch.Size([224, 224])\n"
     ]
    },
    {
     "name": "stderr",
     "output_type": "stream",
     "text": [
      "Epoch [6/15]:  80%|████████  | 24/30 [00:09<00:02,  2.40it/s, Loss=0.528]"
     ]
    },
    {
     "name": "stdout",
     "output_type": "stream",
     "text": [
      "✅ Loaded Brats18_TCIA13_654_1: Image torch.Size([3, 224, 224]), Mask torch.Size([224, 224])\n",
      "✅ Loaded Brats18_TCIA10_175_1: Image torch.Size([3, 224, 224]), Mask torch.Size([224, 224])\n"
     ]
    },
    {
     "name": "stderr",
     "output_type": "stream",
     "text": [
      "Epoch [6/15]:  83%|████████▎ | 25/30 [00:10<00:02,  2.41it/s, Loss=0.337]"
     ]
    },
    {
     "name": "stdout",
     "output_type": "stream",
     "text": [
      "✅ Loaded Brats18_TCIA10_393_1: Image torch.Size([3, 224, 224]), Mask torch.Size([224, 224])\n",
      "✅ Loaded Brats18_TCIA13_623_1: Image torch.Size([3, 224, 224]), Mask torch.Size([224, 224])\n"
     ]
    },
    {
     "name": "stderr",
     "output_type": "stream",
     "text": [
      "Epoch [6/15]:  87%|████████▋ | 26/30 [00:10<00:01,  2.44it/s, Loss=0.57] "
     ]
    },
    {
     "name": "stdout",
     "output_type": "stream",
     "text": [
      "✅ Loaded Brats18_TCIA10_628_1: Image torch.Size([3, 224, 224]), Mask torch.Size([224, 224])\n",
      "✅ Loaded Brats18_TCIA13_634_1: Image torch.Size([3, 224, 224]), Mask torch.Size([224, 224])\n"
     ]
    },
    {
     "name": "stderr",
     "output_type": "stream",
     "text": [
      "Epoch [6/15]:  90%|█████████ | 27/30 [00:11<00:01,  2.43it/s, Loss=0.511]"
     ]
    },
    {
     "name": "stdout",
     "output_type": "stream",
     "text": [
      "✅ Loaded Brats18_TCIA13_630_1: Image torch.Size([3, 224, 224]), Mask torch.Size([224, 224])\n",
      "✅ Loaded Brats18_TCIA10_307_1: Image torch.Size([3, 224, 224]), Mask torch.Size([224, 224])\n"
     ]
    },
    {
     "name": "stderr",
     "output_type": "stream",
     "text": [
      "Epoch [6/15]:  93%|█████████▎| 28/30 [00:11<00:00,  2.45it/s, Loss=0.516]"
     ]
    },
    {
     "name": "stdout",
     "output_type": "stream",
     "text": [
      "✅ Loaded Brats18_TCIA12_466_1: Image torch.Size([3, 224, 224]), Mask torch.Size([224, 224])\n",
      "✅ Loaded Brats18_TCIA10_420_1: Image torch.Size([3, 224, 224]), Mask torch.Size([224, 224])\n"
     ]
    },
    {
     "name": "stderr",
     "output_type": "stream",
     "text": [
      "Epoch [6/15]:  97%|█████████▋| 29/30 [00:11<00:00,  2.46it/s, Loss=0.717]"
     ]
    },
    {
     "name": "stdout",
     "output_type": "stream",
     "text": [
      "✅ Loaded Brats18_TCIA10_387_1: Image torch.Size([3, 224, 224]), Mask torch.Size([224, 224])\n",
      "✅ Loaded Brats18_2013_24_1: Image torch.Size([3, 224, 224]), Mask torch.Size([224, 224])\n"
     ]
    },
    {
     "name": "stderr",
     "output_type": "stream",
     "text": [
      "                                                                         \r"
     ]
    },
    {
     "name": "stdout",
     "output_type": "stream",
     "text": [
      "\n",
      "✅ Epoch 6: Train Loss: 0.5190\n",
      "💾 Saved model at epoch 6 with train loss 0.5190\n"
     ]
    },
    {
     "name": "stderr",
     "output_type": "stream",
     "text": [
      "Epoch [7/15]:   0%|          | 0/30 [00:00<?, ?it/s]"
     ]
    },
    {
     "name": "stdout",
     "output_type": "stream",
     "text": [
      "✅ Loaded Brats18_2013_28_1: Image torch.Size([3, 224, 224]), Mask torch.Size([224, 224])\n",
      "✅ Loaded Brats18_TCIA13_645_1: Image torch.Size([3, 224, 224]), Mask torch.Size([224, 224])\n"
     ]
    },
    {
     "name": "stderr",
     "output_type": "stream",
     "text": [
      "Epoch [7/15]:   3%|▎         | 1/30 [00:00<00:11,  2.48it/s, Loss=0.453]"
     ]
    },
    {
     "name": "stdout",
     "output_type": "stream",
     "text": [
      "✅ Loaded Brats18_TCIA12_470_1: Image torch.Size([3, 224, 224]), Mask torch.Size([224, 224])\n",
      "✅ Loaded Brats18_TCIA13_633_1: Image torch.Size([3, 224, 224]), Mask torch.Size([224, 224])\n"
     ]
    },
    {
     "name": "stderr",
     "output_type": "stream",
     "text": [
      "Epoch [7/15]:   7%|▋         | 2/30 [00:00<00:11,  2.44it/s, Loss=0.427]"
     ]
    },
    {
     "name": "stdout",
     "output_type": "stream",
     "text": [
      "✅ Loaded Brats18_TCIA10_413_1: Image torch.Size([3, 224, 224]), Mask torch.Size([224, 224])\n",
      "✅ Loaded Brats18_TCIA10_266_1: Image torch.Size([3, 224, 224]), Mask torch.Size([224, 224])\n"
     ]
    },
    {
     "name": "stderr",
     "output_type": "stream",
     "text": [
      "Epoch [7/15]:  10%|█         | 3/30 [00:01<00:10,  2.46it/s, Loss=0.396]"
     ]
    },
    {
     "name": "stdout",
     "output_type": "stream",
     "text": [
      "✅ Loaded Brats18_TCIA10_387_1: Image torch.Size([3, 224, 224]), Mask torch.Size([224, 224])\n",
      "✅ Loaded Brats18_TCIA13_654_1: Image torch.Size([3, 224, 224]), Mask torch.Size([224, 224])\n"
     ]
    },
    {
     "name": "stderr",
     "output_type": "stream",
     "text": [
      "Epoch [7/15]:  13%|█▎        | 4/30 [00:01<00:10,  2.47it/s, Loss=0.471]"
     ]
    },
    {
     "name": "stdout",
     "output_type": "stream",
     "text": [
      "✅ Loaded Brats18_TCIA10_109_1: Image torch.Size([3, 224, 224]), Mask torch.Size([224, 224])\n",
      "✅ Loaded Brats18_TCIA13_650_1: Image torch.Size([3, 224, 224]), Mask torch.Size([224, 224])\n"
     ]
    },
    {
     "name": "stderr",
     "output_type": "stream",
     "text": [
      "Epoch [7/15]:  17%|█▋        | 5/30 [00:02<00:10,  2.44it/s, Loss=0.417]"
     ]
    },
    {
     "name": "stdout",
     "output_type": "stream",
     "text": [
      "✅ Loaded Brats18_2013_8_1: Image torch.Size([3, 224, 224]), Mask torch.Size([224, 224])\n",
      "✅ Loaded Brats18_TCIA13_623_1: Image torch.Size([3, 224, 224]), Mask torch.Size([224, 224])\n"
     ]
    },
    {
     "name": "stderr",
     "output_type": "stream",
     "text": [
      "Epoch [7/15]:  20%|██        | 6/30 [00:02<00:09,  2.45it/s, Loss=0.463]"
     ]
    },
    {
     "name": "stdout",
     "output_type": "stream",
     "text": [
      "✅ Loaded Brats18_TCIA12_101_1: Image torch.Size([3, 224, 224]), Mask torch.Size([224, 224])\n",
      "✅ Loaded Brats18_TCIA10_261_1: Image torch.Size([3, 224, 224]), Mask torch.Size([224, 224])\n"
     ]
    },
    {
     "name": "stderr",
     "output_type": "stream",
     "text": [
      "Epoch [7/15]:  23%|██▎       | 7/30 [00:02<00:09,  2.47it/s, Loss=0.405]"
     ]
    },
    {
     "name": "stdout",
     "output_type": "stream",
     "text": [
      "✅ Loaded Brats18_TCIA09_462_1: Image torch.Size([3, 224, 224]), Mask torch.Size([224, 224])\n",
      "✅ Loaded Brats18_TCIA10_241_1: Image torch.Size([3, 224, 224]), Mask torch.Size([224, 224])\n"
     ]
    },
    {
     "name": "stderr",
     "output_type": "stream",
     "text": [
      "Epoch [7/15]:  27%|██▋       | 8/30 [00:03<00:08,  2.47it/s, Loss=0.378]"
     ]
    },
    {
     "name": "stdout",
     "output_type": "stream",
     "text": [
      "✅ Loaded Brats18_TCIA10_625_1: Image torch.Size([3, 224, 224]), Mask torch.Size([224, 224])\n",
      "✅ Loaded Brats18_TCIA13_615_1: Image torch.Size([3, 224, 224]), Mask torch.Size([224, 224])\n"
     ]
    },
    {
     "name": "stderr",
     "output_type": "stream",
     "text": [
      "Epoch [7/15]:  30%|███       | 9/30 [00:03<00:08,  2.47it/s, Loss=0.53] "
     ]
    },
    {
     "name": "stdout",
     "output_type": "stream",
     "text": [
      "✅ Loaded Brats18_TCIA10_408_1: Image torch.Size([3, 224, 224]), Mask torch.Size([224, 224])\n",
      "✅ Loaded Brats18_TCIA10_202_1: Image torch.Size([3, 224, 224]), Mask torch.Size([224, 224])\n"
     ]
    },
    {
     "name": "stderr",
     "output_type": "stream",
     "text": [
      "Epoch [7/15]:  33%|███▎      | 10/30 [00:04<00:08,  2.48it/s, Loss=0.452]"
     ]
    },
    {
     "name": "stdout",
     "output_type": "stream",
     "text": [
      "✅ Loaded Brats18_TCIA13_630_1: Image torch.Size([3, 224, 224]), Mask torch.Size([224, 224])\n",
      "✅ Loaded Brats18_TCIA10_351_1: Image torch.Size([3, 224, 224]), Mask torch.Size([224, 224])\n"
     ]
    },
    {
     "name": "stderr",
     "output_type": "stream",
     "text": [
      "Epoch [7/15]:  37%|███▋      | 11/30 [00:04<00:07,  2.49it/s, Loss=0.524]"
     ]
    },
    {
     "name": "stdout",
     "output_type": "stream",
     "text": [
      "✅ Loaded Brats18_TCIA13_653_1: Image torch.Size([3, 224, 224]), Mask torch.Size([224, 224])\n",
      "✅ Loaded Brats18_TCIA10_442_1: Image torch.Size([3, 224, 224]), Mask torch.Size([224, 224])\n"
     ]
    },
    {
     "name": "stderr",
     "output_type": "stream",
     "text": [
      "Epoch [7/15]:  40%|████      | 12/30 [00:04<00:07,  2.47it/s, Loss=0.49] "
     ]
    },
    {
     "name": "stdout",
     "output_type": "stream",
     "text": [
      "✅ Loaded Brats18_TCIA13_634_1: Image torch.Size([3, 224, 224]), Mask torch.Size([224, 224])\n",
      "✅ Loaded Brats18_TCIA10_632_1: Image torch.Size([3, 224, 224]), Mask torch.Size([224, 224])\n"
     ]
    },
    {
     "name": "stderr",
     "output_type": "stream",
     "text": [
      "Epoch [7/15]:  43%|████▎     | 13/30 [00:05<00:06,  2.50it/s, Loss=0.396]"
     ]
    },
    {
     "name": "stdout",
     "output_type": "stream",
     "text": [
      "✅ Loaded Brats18_TCIA10_299_1: Image torch.Size([3, 224, 224]), Mask torch.Size([224, 224])\n",
      "✅ Loaded Brats18_TCIA12_298_1: Image torch.Size([3, 224, 224]), Mask torch.Size([224, 224])\n"
     ]
    },
    {
     "name": "stderr",
     "output_type": "stream",
     "text": [
      "Epoch [7/15]:  47%|████▋     | 14/30 [00:05<00:06,  2.47it/s, Loss=0.455]"
     ]
    },
    {
     "name": "stdout",
     "output_type": "stream",
     "text": [
      "✅ Loaded Brats18_TCIA10_629_1: Image torch.Size([3, 224, 224]), Mask torch.Size([224, 224])\n",
      "✅ Loaded Brats18_TCIA10_310_1: Image torch.Size([3, 224, 224]), Mask torch.Size([224, 224])\n"
     ]
    },
    {
     "name": "stderr",
     "output_type": "stream",
     "text": [
      "Epoch [7/15]:  50%|█████     | 15/30 [00:06<00:06,  2.48it/s, Loss=0.54] "
     ]
    },
    {
     "name": "stdout",
     "output_type": "stream",
     "text": [
      "✅ Loaded Brats18_TCIA10_393_1: Image torch.Size([3, 224, 224]), Mask torch.Size([224, 224])\n",
      "✅ Loaded Brats18_TCIA09_493_1: Image torch.Size([3, 224, 224]), Mask torch.Size([224, 224])\n"
     ]
    },
    {
     "name": "stderr",
     "output_type": "stream",
     "text": [
      "Epoch [7/15]:  53%|█████▎    | 16/30 [00:06<00:05,  2.48it/s, Loss=0.47]"
     ]
    },
    {
     "name": "stdout",
     "output_type": "stream",
     "text": [
      "✅ Loaded Brats18_TCIA10_175_1: Image torch.Size([3, 224, 224]), Mask torch.Size([224, 224])\n",
      "✅ Loaded Brats18_TCIA13_642_1: Image torch.Size([3, 224, 224]), Mask torch.Size([224, 224])\n"
     ]
    },
    {
     "name": "stderr",
     "output_type": "stream",
     "text": [
      "Epoch [7/15]:  57%|█████▋    | 17/30 [00:06<00:05,  2.48it/s, Loss=0.457]"
     ]
    },
    {
     "name": "stdout",
     "output_type": "stream",
     "text": [
      "✅ Loaded Brats18_TCIA12_466_1: Image torch.Size([3, 224, 224]), Mask torch.Size([224, 224])\n",
      "✅ Loaded Brats18_TCIA09_254_1: Image torch.Size([3, 224, 224]), Mask torch.Size([224, 224])\n"
     ]
    },
    {
     "name": "stderr",
     "output_type": "stream",
     "text": [
      "Epoch [7/15]:  60%|██████    | 18/30 [00:07<00:04,  2.49it/s, Loss=0.439]"
     ]
    },
    {
     "name": "stdout",
     "output_type": "stream",
     "text": [
      "✅ Loaded Brats18_TCIA09_402_1: Image torch.Size([3, 224, 224]), Mask torch.Size([224, 224])\n",
      "✅ Loaded Brats18_TCIA10_103_1: Image torch.Size([3, 224, 224]), Mask torch.Size([224, 224])\n"
     ]
    },
    {
     "name": "stderr",
     "output_type": "stream",
     "text": [
      "Epoch [7/15]:  63%|██████▎   | 19/30 [00:07<00:04,  2.50it/s, Loss=0.467]"
     ]
    },
    {
     "name": "stdout",
     "output_type": "stream",
     "text": [
      "✅ Loaded Brats18_TCIA09_177_1: Image torch.Size([3, 224, 224]), Mask torch.Size([224, 224])\n",
      "✅ Loaded Brats18_TCIA10_130_1: Image torch.Size([3, 224, 224]), Mask torch.Size([224, 224])\n"
     ]
    },
    {
     "name": "stderr",
     "output_type": "stream",
     "text": [
      "Epoch [7/15]:  67%|██████▋   | 20/30 [00:08<00:04,  2.48it/s, Loss=0.754]"
     ]
    },
    {
     "name": "stdout",
     "output_type": "stream",
     "text": [
      "✅ Loaded Brats18_TCIA10_282_1: Image torch.Size([3, 224, 224]), Mask torch.Size([224, 224])\n",
      "✅ Loaded Brats18_2013_29_1: Image torch.Size([3, 224, 224]), Mask torch.Size([224, 224])\n"
     ]
    },
    {
     "name": "stderr",
     "output_type": "stream",
     "text": [
      "Epoch [7/15]:  70%|███████   | 21/30 [00:08<00:03,  2.47it/s, Loss=0.622]"
     ]
    },
    {
     "name": "stdout",
     "output_type": "stream",
     "text": [
      "✅ Loaded Brats18_2013_15_1: Image torch.Size([3, 224, 224]), Mask torch.Size([224, 224])\n",
      "✅ Loaded Brats18_TCIA10_276_1: Image torch.Size([3, 224, 224]), Mask torch.Size([224, 224])\n"
     ]
    },
    {
     "name": "stderr",
     "output_type": "stream",
     "text": [
      "Epoch [7/15]:  73%|███████▎  | 22/30 [00:08<00:03,  2.45it/s, Loss=0.436]"
     ]
    },
    {
     "name": "stdout",
     "output_type": "stream",
     "text": [
      "✅ Loaded Brats18_TCIA10_330_1: Image torch.Size([3, 224, 224]), Mask torch.Size([224, 224])\n",
      "✅ Loaded Brats18_TCIA10_449_1: Image torch.Size([3, 224, 224]), Mask torch.Size([224, 224])\n"
     ]
    },
    {
     "name": "stderr",
     "output_type": "stream",
     "text": [
      "Epoch [7/15]:  77%|███████▋  | 23/30 [00:09<00:02,  2.47it/s, Loss=0.487]"
     ]
    },
    {
     "name": "stdout",
     "output_type": "stream",
     "text": [
      "✅ Loaded Brats18_TCIA10_420_1: Image torch.Size([3, 224, 224]), Mask torch.Size([224, 224])\n",
      "✅ Loaded Brats18_2013_24_1: Image torch.Size([3, 224, 224]), Mask torch.Size([224, 224])\n"
     ]
    },
    {
     "name": "stderr",
     "output_type": "stream",
     "text": [
      "Epoch [7/15]:  80%|████████  | 24/30 [00:09<00:02,  2.47it/s, Loss=0.51] "
     ]
    },
    {
     "name": "stdout",
     "output_type": "stream",
     "text": [
      "✅ Loaded Brats18_TCIA12_480_1: Image torch.Size([3, 224, 224]), Mask torch.Size([224, 224])\n",
      "✅ Loaded Brats18_2013_9_1: Image torch.Size([3, 224, 224]), Mask torch.Size([224, 224])\n"
     ]
    },
    {
     "name": "stderr",
     "output_type": "stream",
     "text": [
      "Epoch [7/15]:  83%|████████▎ | 25/30 [00:10<00:02,  2.48it/s, Loss=0.439]"
     ]
    },
    {
     "name": "stdout",
     "output_type": "stream",
     "text": [
      "✅ Loaded Brats18_TCIA10_325_1: Image torch.Size([3, 224, 224]), Mask torch.Size([224, 224])\n",
      "✅ Loaded Brats18_2013_0_1: Image torch.Size([3, 224, 224]), Mask torch.Size([224, 224])\n"
     ]
    },
    {
     "name": "stderr",
     "output_type": "stream",
     "text": [
      "Epoch [7/15]:  87%|████████▋ | 26/30 [00:10<00:01,  2.46it/s, Loss=0.461]"
     ]
    },
    {
     "name": "stdout",
     "output_type": "stream",
     "text": [
      "✅ Loaded Brats18_2013_6_1: Image torch.Size([3, 224, 224]), Mask torch.Size([224, 224])\n",
      "✅ Loaded Brats18_TCIA12_249_1: Image torch.Size([3, 224, 224]), Mask torch.Size([224, 224])\n"
     ]
    },
    {
     "name": "stderr",
     "output_type": "stream",
     "text": [
      "Epoch [7/15]:  90%|█████████ | 27/30 [00:10<00:01,  2.47it/s, Loss=0.376]"
     ]
    },
    {
     "name": "stdout",
     "output_type": "stream",
     "text": [
      "✅ Loaded Brats18_TCIA10_307_1: Image torch.Size([3, 224, 224]), Mask torch.Size([224, 224])\n",
      "✅ Loaded Brats18_TCIA09_428_1: Image torch.Size([3, 224, 224]), Mask torch.Size([224, 224])\n"
     ]
    },
    {
     "name": "stderr",
     "output_type": "stream",
     "text": [
      "Epoch [7/15]:  93%|█████████▎| 28/30 [00:11<00:00,  2.47it/s, Loss=0.551]"
     ]
    },
    {
     "name": "stdout",
     "output_type": "stream",
     "text": [
      "✅ Loaded Brats18_TCIA10_628_1: Image torch.Size([3, 224, 224]), Mask torch.Size([224, 224])\n",
      "✅ Loaded Brats18_TCIA10_644_1: Image torch.Size([3, 224, 224]), Mask torch.Size([224, 224])\n"
     ]
    },
    {
     "name": "stderr",
     "output_type": "stream",
     "text": [
      "Epoch [7/15]:  97%|█████████▋| 29/30 [00:11<00:00,  2.49it/s, Loss=0.493]"
     ]
    },
    {
     "name": "stdout",
     "output_type": "stream",
     "text": [
      "✅ Loaded Brats18_TCIA10_346_1: Image torch.Size([3, 224, 224]), Mask torch.Size([224, 224])\n",
      "✅ Loaded Brats18_TCIA13_624_1: Image torch.Size([3, 224, 224]), Mask torch.Size([224, 224])\n"
     ]
    },
    {
     "name": "stderr",
     "output_type": "stream",
     "text": [
      "                                                                         \r"
     ]
    },
    {
     "name": "stdout",
     "output_type": "stream",
     "text": [
      "\n",
      "✅ Epoch 7: Train Loss: 0.4645\n",
      "💾 Saved model at epoch 7 with train loss 0.4645\n"
     ]
    },
    {
     "name": "stderr",
     "output_type": "stream",
     "text": [
      "Epoch [8/15]:   0%|          | 0/30 [00:00<?, ?it/s]"
     ]
    },
    {
     "name": "stdout",
     "output_type": "stream",
     "text": [
      "✅ Loaded Brats18_2013_6_1: Image torch.Size([3, 224, 224]), Mask torch.Size([224, 224])\n",
      "✅ Loaded Brats18_TCIA10_449_1: Image torch.Size([3, 224, 224]), Mask torch.Size([224, 224])\n"
     ]
    },
    {
     "name": "stderr",
     "output_type": "stream",
     "text": [
      "Epoch [8/15]:   3%|▎         | 1/30 [00:00<00:11,  2.45it/s, Loss=0.313]"
     ]
    },
    {
     "name": "stdout",
     "output_type": "stream",
     "text": [
      "✅ Loaded Brats18_TCIA10_413_1: Image torch.Size([3, 224, 224]), Mask torch.Size([224, 224])\n",
      "✅ Loaded Brats18_TCIA10_261_1: Image torch.Size([3, 224, 224]), Mask torch.Size([224, 224])\n"
     ]
    },
    {
     "name": "stderr",
     "output_type": "stream",
     "text": [
      "Epoch [8/15]:   7%|▋         | 2/30 [00:00<00:11,  2.48it/s, Loss=0.384]"
     ]
    },
    {
     "name": "stdout",
     "output_type": "stream",
     "text": [
      "✅ Loaded Brats18_TCIA09_402_1: Image torch.Size([3, 224, 224]), Mask torch.Size([224, 224])\n",
      "✅ Loaded Brats18_TCIA10_282_1: Image torch.Size([3, 224, 224]), Mask torch.Size([224, 224])\n"
     ]
    },
    {
     "name": "stderr",
     "output_type": "stream",
     "text": [
      "Epoch [8/15]:  10%|█         | 3/30 [00:01<00:10,  2.49it/s, Loss=0.408]"
     ]
    },
    {
     "name": "stdout",
     "output_type": "stream",
     "text": [
      "✅ Loaded Brats18_TCIA13_650_1: Image torch.Size([3, 224, 224]), Mask torch.Size([224, 224])\n",
      "✅ Loaded Brats18_TCIA10_109_1: Image torch.Size([3, 224, 224]), Mask torch.Size([224, 224])\n"
     ]
    },
    {
     "name": "stderr",
     "output_type": "stream",
     "text": [
      "Epoch [8/15]:  13%|█▎        | 4/30 [00:01<00:10,  2.45it/s, Loss=0.407]"
     ]
    },
    {
     "name": "stdout",
     "output_type": "stream",
     "text": [
      "✅ Loaded Brats18_TCIA10_393_1: Image torch.Size([3, 224, 224]), Mask torch.Size([224, 224])\n",
      "✅ Loaded Brats18_TCIA13_654_1: Image torch.Size([3, 224, 224]), Mask torch.Size([224, 224])\n"
     ]
    },
    {
     "name": "stderr",
     "output_type": "stream",
     "text": [
      "Epoch [8/15]:  17%|█▋        | 5/30 [00:02<00:10,  2.47it/s, Loss=0.566]"
     ]
    },
    {
     "name": "stdout",
     "output_type": "stream",
     "text": [
      "✅ Loaded Brats18_TCIA10_420_1: Image torch.Size([3, 224, 224]), Mask torch.Size([224, 224])\n",
      "✅ Loaded Brats18_TCIA10_632_1: Image torch.Size([3, 224, 224]), Mask torch.Size([224, 224])\n"
     ]
    },
    {
     "name": "stderr",
     "output_type": "stream",
     "text": [
      "Epoch [8/15]:  20%|██        | 6/30 [00:02<00:09,  2.48it/s, Loss=0.637]"
     ]
    },
    {
     "name": "stdout",
     "output_type": "stream",
     "text": [
      "✅ Loaded Brats18_TCIA09_462_1: Image torch.Size([3, 224, 224]), Mask torch.Size([224, 224])\n",
      "✅ Loaded Brats18_TCIA10_276_1: Image torch.Size([3, 224, 224]), Mask torch.Size([224, 224])\n"
     ]
    },
    {
     "name": "stderr",
     "output_type": "stream",
     "text": [
      "Epoch [8/15]:  23%|██▎       | 7/30 [00:02<00:09,  2.46it/s, Loss=0.446]"
     ]
    },
    {
     "name": "stdout",
     "output_type": "stream",
     "text": [
      "✅ Loaded Brats18_TCIA10_351_1: Image torch.Size([3, 224, 224]), Mask torch.Size([224, 224])\n",
      "✅ Loaded Brats18_TCIA09_254_1: Image torch.Size([3, 224, 224]), Mask torch.Size([224, 224])\n"
     ]
    },
    {
     "name": "stderr",
     "output_type": "stream",
     "text": [
      "Epoch [8/15]:  27%|██▋       | 8/30 [00:03<00:08,  2.45it/s, Loss=0.457]"
     ]
    },
    {
     "name": "stdout",
     "output_type": "stream",
     "text": [
      "✅ Loaded Brats18_TCIA13_633_1: Image torch.Size([3, 224, 224]), Mask torch.Size([224, 224])\n",
      "✅ Loaded Brats18_TCIA13_623_1: Image torch.Size([3, 224, 224]), Mask torch.Size([224, 224])\n"
     ]
    },
    {
     "name": "stderr",
     "output_type": "stream",
     "text": [
      "Epoch [8/15]:  30%|███       | 9/30 [00:03<00:08,  2.46it/s, Loss=0.536]"
     ]
    },
    {
     "name": "stdout",
     "output_type": "stream",
     "text": [
      "✅ Loaded Brats18_TCIA10_629_1: Image torch.Size([3, 224, 224]), Mask torch.Size([224, 224])\n",
      "✅ Loaded Brats18_2013_15_1: Image torch.Size([3, 224, 224]), Mask torch.Size([224, 224])\n"
     ]
    },
    {
     "name": "stderr",
     "output_type": "stream",
     "text": [
      "Epoch [8/15]:  33%|███▎      | 10/30 [00:04<00:08,  2.47it/s, Loss=0.602]"
     ]
    },
    {
     "name": "stdout",
     "output_type": "stream",
     "text": [
      "✅ Loaded Brats18_TCIA13_645_1: Image torch.Size([3, 224, 224]), Mask torch.Size([224, 224])\n",
      "✅ Loaded Brats18_TCIA10_103_1: Image torch.Size([3, 224, 224]), Mask torch.Size([224, 224])\n"
     ]
    },
    {
     "name": "stderr",
     "output_type": "stream",
     "text": [
      "Epoch [8/15]:  37%|███▋      | 11/30 [00:04<00:07,  2.47it/s, Loss=0.462]"
     ]
    },
    {
     "name": "stdout",
     "output_type": "stream",
     "text": [
      "✅ Loaded Brats18_TCIA12_101_1: Image torch.Size([3, 224, 224]), Mask torch.Size([224, 224])\n",
      "✅ Loaded Brats18_TCIA12_249_1: Image torch.Size([3, 224, 224]), Mask torch.Size([224, 224])\n"
     ]
    },
    {
     "name": "stderr",
     "output_type": "stream",
     "text": [
      "Epoch [8/15]:  40%|████      | 12/30 [00:04<00:07,  2.48it/s, Loss=0.666]"
     ]
    },
    {
     "name": "stdout",
     "output_type": "stream",
     "text": [
      "✅ Loaded Brats18_TCIA12_470_1: Image torch.Size([3, 224, 224]), Mask torch.Size([224, 224])\n",
      "✅ Loaded Brats18_TCIA09_428_1: Image torch.Size([3, 224, 224]), Mask torch.Size([224, 224])\n"
     ]
    },
    {
     "name": "stderr",
     "output_type": "stream",
     "text": [
      "Epoch [8/15]:  43%|████▎     | 13/30 [00:05<00:06,  2.49it/s, Loss=0.337]"
     ]
    },
    {
     "name": "stdout",
     "output_type": "stream",
     "text": [
      "✅ Loaded Brats18_2013_9_1: Image torch.Size([3, 224, 224]), Mask torch.Size([224, 224])\n",
      "✅ Loaded Brats18_TCIA10_628_1: Image torch.Size([3, 224, 224]), Mask torch.Size([224, 224])\n"
     ]
    },
    {
     "name": "stderr",
     "output_type": "stream",
     "text": [
      "Epoch [8/15]:  47%|████▋     | 14/30 [00:05<00:06,  2.46it/s, Loss=0.497]"
     ]
    },
    {
     "name": "stdout",
     "output_type": "stream",
     "text": [
      "✅ Loaded Brats18_2013_8_1: Image torch.Size([3, 224, 224]), Mask torch.Size([224, 224])\n",
      "✅ Loaded Brats18_TCIA10_346_1: Image torch.Size([3, 224, 224]), Mask torch.Size([224, 224])\n"
     ]
    },
    {
     "name": "stderr",
     "output_type": "stream",
     "text": [
      "Epoch [8/15]:  50%|█████     | 15/30 [00:06<00:06,  2.47it/s, Loss=0.497]"
     ]
    },
    {
     "name": "stdout",
     "output_type": "stream",
     "text": [
      "✅ Loaded Brats18_TCIA10_202_1: Image torch.Size([3, 224, 224]), Mask torch.Size([224, 224])\n",
      "✅ Loaded Brats18_TCIA12_298_1: Image torch.Size([3, 224, 224]), Mask torch.Size([224, 224])\n"
     ]
    },
    {
     "name": "stderr",
     "output_type": "stream",
     "text": [
      "Epoch [8/15]:  53%|█████▎    | 16/30 [00:06<00:05,  2.47it/s, Loss=0.482]"
     ]
    },
    {
     "name": "stdout",
     "output_type": "stream",
     "text": [
      "✅ Loaded Brats18_2013_0_1: Image torch.Size([3, 224, 224]), Mask torch.Size([224, 224])\n",
      "✅ Loaded Brats18_TCIA10_442_1: Image torch.Size([3, 224, 224]), Mask torch.Size([224, 224])\n"
     ]
    },
    {
     "name": "stderr",
     "output_type": "stream",
     "text": [
      "Epoch [8/15]:  57%|█████▋    | 17/30 [00:06<00:05,  2.48it/s, Loss=0.336]"
     ]
    },
    {
     "name": "stdout",
     "output_type": "stream",
     "text": [
      "✅ Loaded Brats18_TCIA10_299_1: Image torch.Size([3, 224, 224]), Mask torch.Size([224, 224])\n",
      "✅ Loaded Brats18_TCIA13_642_1: Image torch.Size([3, 224, 224]), Mask torch.Size([224, 224])\n"
     ]
    },
    {
     "name": "stderr",
     "output_type": "stream",
     "text": [
      "Epoch [8/15]:  60%|██████    | 18/30 [00:07<00:04,  2.46it/s, Loss=0.436]"
     ]
    },
    {
     "name": "stdout",
     "output_type": "stream",
     "text": [
      "✅ Loaded Brats18_TCIA13_630_1: Image torch.Size([3, 224, 224]), Mask torch.Size([224, 224])\n",
      "✅ Loaded Brats18_TCIA09_177_1: Image torch.Size([3, 224, 224]), Mask torch.Size([224, 224])\n"
     ]
    },
    {
     "name": "stderr",
     "output_type": "stream",
     "text": [
      "Epoch [8/15]:  63%|██████▎   | 19/30 [00:07<00:04,  2.47it/s, Loss=0.483]"
     ]
    },
    {
     "name": "stdout",
     "output_type": "stream",
     "text": [
      "✅ Loaded Brats18_TCIA13_634_1: Image torch.Size([3, 224, 224]), Mask torch.Size([224, 224])\n",
      "✅ Loaded Brats18_TCIA10_408_1: Image torch.Size([3, 224, 224]), Mask torch.Size([224, 224])\n"
     ]
    },
    {
     "name": "stderr",
     "output_type": "stream",
     "text": [
      "Epoch [8/15]:  67%|██████▋   | 20/30 [00:08<00:04,  2.45it/s, Loss=0.377]"
     ]
    },
    {
     "name": "stdout",
     "output_type": "stream",
     "text": [
      "✅ Loaded Brats18_TCIA13_615_1: Image torch.Size([3, 224, 224]), Mask torch.Size([224, 224])\n",
      "✅ Loaded Brats18_TCIA10_175_1: Image torch.Size([3, 224, 224]), Mask torch.Size([224, 224])\n"
     ]
    },
    {
     "name": "stderr",
     "output_type": "stream",
     "text": [
      "Epoch [8/15]:  70%|███████   | 21/30 [00:08<00:03,  2.47it/s, Loss=0.388]"
     ]
    },
    {
     "name": "stdout",
     "output_type": "stream",
     "text": [
      "✅ Loaded Brats18_TCIA13_653_1: Image torch.Size([3, 224, 224]), Mask torch.Size([224, 224])\n",
      "✅ Loaded Brats18_TCIA10_310_1: Image torch.Size([3, 224, 224]), Mask torch.Size([224, 224])\n"
     ]
    },
    {
     "name": "stderr",
     "output_type": "stream",
     "text": [
      "Epoch [8/15]:  73%|███████▎  | 22/30 [00:08<00:03,  2.48it/s, Loss=0.754]"
     ]
    },
    {
     "name": "stdout",
     "output_type": "stream",
     "text": [
      "✅ Loaded Brats18_2013_29_1: Image torch.Size([3, 224, 224]), Mask torch.Size([224, 224])\n",
      "✅ Loaded Brats18_TCIA10_625_1: Image torch.Size([3, 224, 224]), Mask torch.Size([224, 224])\n"
     ]
    },
    {
     "name": "stderr",
     "output_type": "stream",
     "text": [
      "Epoch [8/15]:  77%|███████▋  | 23/30 [00:09<00:02,  2.47it/s, Loss=0.471]"
     ]
    },
    {
     "name": "stdout",
     "output_type": "stream",
     "text": [
      "✅ Loaded Brats18_TCIA10_644_1: Image torch.Size([3, 224, 224]), Mask torch.Size([224, 224])\n",
      "✅ Loaded Brats18_TCIA10_330_1: Image torch.Size([3, 224, 224]), Mask torch.Size([224, 224])\n"
     ]
    },
    {
     "name": "stderr",
     "output_type": "stream",
     "text": [
      "Epoch [8/15]:  80%|████████  | 24/30 [00:09<00:02,  2.49it/s, Loss=0.53] "
     ]
    },
    {
     "name": "stdout",
     "output_type": "stream",
     "text": [
      "✅ Loaded Brats18_TCIA09_493_1: Image torch.Size([3, 224, 224]), Mask torch.Size([224, 224])\n",
      "✅ Loaded Brats18_TCIA10_266_1: Image torch.Size([3, 224, 224]), Mask torch.Size([224, 224])\n"
     ]
    },
    {
     "name": "stderr",
     "output_type": "stream",
     "text": [
      "Epoch [8/15]:  83%|████████▎ | 25/30 [00:10<00:02,  2.47it/s, Loss=0.386]"
     ]
    },
    {
     "name": "stdout",
     "output_type": "stream",
     "text": [
      "✅ Loaded Brats18_TCIA10_307_1: Image torch.Size([3, 224, 224]), Mask torch.Size([224, 224])\n",
      "✅ Loaded Brats18_2013_28_1: Image torch.Size([3, 224, 224]), Mask torch.Size([224, 224])\n"
     ]
    },
    {
     "name": "stderr",
     "output_type": "stream",
     "text": [
      "Epoch [8/15]:  87%|████████▋ | 26/30 [00:10<00:01,  2.47it/s, Loss=0.439]"
     ]
    },
    {
     "name": "stdout",
     "output_type": "stream",
     "text": [
      "✅ Loaded Brats18_TCIA12_466_1: Image torch.Size([3, 224, 224]), Mask torch.Size([224, 224])\n",
      "✅ Loaded Brats18_TCIA10_387_1: Image torch.Size([3, 224, 224]), Mask torch.Size([224, 224])\n"
     ]
    },
    {
     "name": "stderr",
     "output_type": "stream",
     "text": [
      "Epoch [8/15]:  90%|█████████ | 27/30 [00:10<00:01,  2.48it/s, Loss=0.703]"
     ]
    },
    {
     "name": "stdout",
     "output_type": "stream",
     "text": [
      "✅ Loaded Brats18_TCIA10_325_1: Image torch.Size([3, 224, 224]), Mask torch.Size([224, 224])\n",
      "✅ Loaded Brats18_2013_24_1: Image torch.Size([3, 224, 224]), Mask torch.Size([224, 224])\n"
     ]
    },
    {
     "name": "stderr",
     "output_type": "stream",
     "text": [
      "Epoch [8/15]:  93%|█████████▎| 28/30 [00:11<00:00,  2.46it/s, Loss=0.561]"
     ]
    },
    {
     "name": "stdout",
     "output_type": "stream",
     "text": [
      "✅ Loaded Brats18_TCIA13_624_1: Image torch.Size([3, 224, 224]), Mask torch.Size([224, 224])\n",
      "✅ Loaded Brats18_TCIA12_480_1: Image torch.Size([3, 224, 224]), Mask torch.Size([224, 224])\n"
     ]
    },
    {
     "name": "stderr",
     "output_type": "stream",
     "text": [
      "Epoch [8/15]:  97%|█████████▋| 29/30 [00:11<00:00,  2.47it/s, Loss=0.256]"
     ]
    },
    {
     "name": "stdout",
     "output_type": "stream",
     "text": [
      "✅ Loaded Brats18_TCIA10_130_1: Image torch.Size([3, 224, 224]), Mask torch.Size([224, 224])\n",
      "✅ Loaded Brats18_TCIA10_241_1: Image torch.Size([3, 224, 224]), Mask torch.Size([224, 224])\n"
     ]
    },
    {
     "name": "stderr",
     "output_type": "stream",
     "text": [
      "                                                                         \r"
     ]
    },
    {
     "name": "stdout",
     "output_type": "stream",
     "text": [
      "\n",
      "✅ Epoch 8: Train Loss: 0.4712\n",
      "⚠️ No improvement for 1 epoch(s)\n"
     ]
    },
    {
     "name": "stderr",
     "output_type": "stream",
     "text": [
      "Epoch [9/15]:   0%|          | 0/30 [00:00<?, ?it/s]"
     ]
    },
    {
     "name": "stdout",
     "output_type": "stream",
     "text": [
      "✅ Loaded Brats18_TCIA13_642_1: Image torch.Size([3, 224, 224]), Mask torch.Size([224, 224])\n",
      "✅ Loaded Brats18_TCIA10_442_1: Image torch.Size([3, 224, 224]), Mask torch.Size([224, 224])\n"
     ]
    },
    {
     "name": "stderr",
     "output_type": "stream",
     "text": [
      "Epoch [9/15]:   3%|▎         | 1/30 [00:00<00:11,  2.49it/s, Loss=0.568]"
     ]
    },
    {
     "name": "stdout",
     "output_type": "stream",
     "text": [
      "✅ Loaded Brats18_TCIA10_330_1: Image torch.Size([3, 224, 224]), Mask torch.Size([224, 224])\n",
      "✅ Loaded Brats18_TCIA13_645_1: Image torch.Size([3, 224, 224]), Mask torch.Size([224, 224])\n"
     ]
    },
    {
     "name": "stderr",
     "output_type": "stream",
     "text": [
      "Epoch [9/15]:   7%|▋         | 2/30 [00:00<00:11,  2.49it/s, Loss=0.466]"
     ]
    },
    {
     "name": "stdout",
     "output_type": "stream",
     "text": [
      "✅ Loaded Brats18_TCIA09_428_1: Image torch.Size([3, 224, 224]), Mask torch.Size([224, 224])\n",
      "✅ Loaded Brats18_TCIA10_387_1: Image torch.Size([3, 224, 224]), Mask torch.Size([224, 224])\n"
     ]
    },
    {
     "name": "stderr",
     "output_type": "stream",
     "text": [
      "Epoch [9/15]:  10%|█         | 3/30 [00:01<00:10,  2.48it/s, Loss=0.631]"
     ]
    },
    {
     "name": "stdout",
     "output_type": "stream",
     "text": [
      "✅ Loaded Brats18_TCIA10_307_1: Image torch.Size([3, 224, 224]), Mask torch.Size([224, 224])\n",
      "✅ Loaded Brats18_TCIA10_413_1: Image torch.Size([3, 224, 224]), Mask torch.Size([224, 224])\n"
     ]
    },
    {
     "name": "stderr",
     "output_type": "stream",
     "text": [
      "Epoch [9/15]:  13%|█▎        | 4/30 [00:01<00:10,  2.46it/s, Loss=0.639]"
     ]
    },
    {
     "name": "stdout",
     "output_type": "stream",
     "text": [
      "✅ Loaded Brats18_TCIA10_644_1: Image torch.Size([3, 224, 224]), Mask torch.Size([224, 224])\n",
      "✅ Loaded Brats18_TCIA10_175_1: Image torch.Size([3, 224, 224]), Mask torch.Size([224, 224])\n"
     ]
    },
    {
     "name": "stderr",
     "output_type": "stream",
     "text": [
      "Epoch [9/15]:  17%|█▋        | 5/30 [00:02<00:10,  2.47it/s, Loss=0.515]"
     ]
    },
    {
     "name": "stdout",
     "output_type": "stream",
     "text": [
      "✅ Loaded Brats18_TCIA10_103_1: Image torch.Size([3, 224, 224]), Mask torch.Size([224, 224])\n",
      "✅ Loaded Brats18_TCIA10_393_1: Image torch.Size([3, 224, 224]), Mask torch.Size([224, 224])\n"
     ]
    },
    {
     "name": "stderr",
     "output_type": "stream",
     "text": [
      "Epoch [9/15]:  20%|██        | 6/30 [00:02<00:09,  2.52it/s, Loss=0.476]"
     ]
    },
    {
     "name": "stdout",
     "output_type": "stream",
     "text": [
      "✅ Loaded Brats18_TCIA13_630_1: Image torch.Size([3, 224, 224]), Mask torch.Size([224, 224])\n",
      "✅ Loaded Brats18_TCIA12_466_1: Image torch.Size([3, 224, 224]), Mask torch.Size([224, 224])\n"
     ]
    },
    {
     "name": "stderr",
     "output_type": "stream",
     "text": [
      "Epoch [9/15]:  23%|██▎       | 7/30 [00:02<00:09,  2.48it/s, Loss=0.523]"
     ]
    },
    {
     "name": "stdout",
     "output_type": "stream",
     "text": [
      "✅ Loaded Brats18_2013_8_1: Image torch.Size([3, 224, 224]), Mask torch.Size([224, 224])\n",
      "✅ Loaded Brats18_TCIA13_634_1: Image torch.Size([3, 224, 224]), Mask torch.Size([224, 224])\n"
     ]
    },
    {
     "name": "stderr",
     "output_type": "stream",
     "text": [
      "Epoch [9/15]:  27%|██▋       | 8/30 [00:03<00:08,  2.48it/s, Loss=0.424]"
     ]
    },
    {
     "name": "stdout",
     "output_type": "stream",
     "text": [
      "✅ Loaded Brats18_TCIA10_632_1: Image torch.Size([3, 224, 224]), Mask torch.Size([224, 224])\n",
      "✅ Loaded Brats18_2013_9_1: Image torch.Size([3, 224, 224]), Mask torch.Size([224, 224])\n"
     ]
    },
    {
     "name": "stderr",
     "output_type": "stream",
     "text": [
      "Epoch [9/15]:  30%|███       | 9/30 [00:03<00:08,  2.49it/s, Loss=0.682]"
     ]
    },
    {
     "name": "stdout",
     "output_type": "stream",
     "text": [
      "✅ Loaded Brats18_TCIA13_654_1: Image torch.Size([3, 224, 224]), Mask torch.Size([224, 224])\n",
      "✅ Loaded Brats18_TCIA10_202_1: Image torch.Size([3, 224, 224]), Mask torch.Size([224, 224])\n"
     ]
    },
    {
     "name": "stderr",
     "output_type": "stream",
     "text": [
      "Epoch [9/15]:  33%|███▎      | 10/30 [00:04<00:08,  2.48it/s, Loss=0.398]"
     ]
    },
    {
     "name": "stdout",
     "output_type": "stream",
     "text": [
      "✅ Loaded Brats18_TCIA10_625_1: Image torch.Size([3, 224, 224]), Mask torch.Size([224, 224])\n",
      "✅ Loaded Brats18_2013_6_1: Image torch.Size([3, 224, 224]), Mask torch.Size([224, 224])\n"
     ]
    },
    {
     "name": "stderr",
     "output_type": "stream",
     "text": [
      "Epoch [9/15]:  37%|███▋      | 11/30 [00:04<00:07,  2.50it/s, Loss=0.404]"
     ]
    },
    {
     "name": "stdout",
     "output_type": "stream",
     "text": [
      "✅ Loaded Brats18_TCIA09_402_1: Image torch.Size([3, 224, 224]), Mask torch.Size([224, 224])\n",
      "✅ Loaded Brats18_TCIA10_130_1: Image torch.Size([3, 224, 224]), Mask torch.Size([224, 224])\n"
     ]
    },
    {
     "name": "stderr",
     "output_type": "stream",
     "text": [
      "Epoch [9/15]:  40%|████      | 12/30 [00:04<00:07,  2.47it/s, Loss=0.438]"
     ]
    },
    {
     "name": "stdout",
     "output_type": "stream",
     "text": [
      "✅ Loaded Brats18_TCIA12_101_1: Image torch.Size([3, 224, 224]), Mask torch.Size([224, 224])\n",
      "✅ Loaded Brats18_TCIA10_325_1: Image torch.Size([3, 224, 224]), Mask torch.Size([224, 224])\n"
     ]
    },
    {
     "name": "stderr",
     "output_type": "stream",
     "text": [
      "Epoch [9/15]:  43%|████▎     | 13/30 [00:05<00:06,  2.48it/s, Loss=0.514]"
     ]
    },
    {
     "name": "stdout",
     "output_type": "stream",
     "text": [
      "✅ Loaded Brats18_2013_28_1: Image torch.Size([3, 224, 224]), Mask torch.Size([224, 224])\n",
      "✅ Loaded Brats18_TCIA13_624_1: Image torch.Size([3, 224, 224]), Mask torch.Size([224, 224])\n"
     ]
    },
    {
     "name": "stderr",
     "output_type": "stream",
     "text": [
      "Epoch [9/15]:  47%|████▋     | 14/30 [00:05<00:06,  2.46it/s, Loss=0.219]"
     ]
    },
    {
     "name": "stdout",
     "output_type": "stream",
     "text": [
      "✅ Loaded Brats18_TCIA10_346_1: Image torch.Size([3, 224, 224]), Mask torch.Size([224, 224])\n",
      "✅ Loaded Brats18_TCIA12_249_1: Image torch.Size([3, 224, 224]), Mask torch.Size([224, 224])\n"
     ]
    },
    {
     "name": "stderr",
     "output_type": "stream",
     "text": [
      "Epoch [9/15]:  50%|█████     | 15/30 [00:06<00:06,  2.49it/s, Loss=0.401]"
     ]
    },
    {
     "name": "stdout",
     "output_type": "stream",
     "text": [
      "✅ Loaded Brats18_TCIA10_109_1: Image torch.Size([3, 224, 224]), Mask torch.Size([224, 224])\n",
      "✅ Loaded Brats18_TCIA09_177_1: Image torch.Size([3, 224, 224]), Mask torch.Size([224, 224])\n"
     ]
    },
    {
     "name": "stderr",
     "output_type": "stream",
     "text": [
      "Epoch [9/15]:  53%|█████▎    | 16/30 [00:06<00:05,  2.46it/s, Loss=0.436]"
     ]
    },
    {
     "name": "stdout",
     "output_type": "stream",
     "text": [
      "✅ Loaded Brats18_TCIA10_629_1: Image torch.Size([3, 224, 224]), Mask torch.Size([224, 224])\n",
      "✅ Loaded Brats18_TCIA13_615_1: Image torch.Size([3, 224, 224]), Mask torch.Size([224, 224])\n"
     ]
    },
    {
     "name": "stderr",
     "output_type": "stream",
     "text": [
      "Epoch [9/15]:  57%|█████▋    | 17/30 [00:06<00:05,  2.48it/s, Loss=0.35] "
     ]
    },
    {
     "name": "stdout",
     "output_type": "stream",
     "text": [
      "✅ Loaded Brats18_TCIA13_650_1: Image torch.Size([3, 224, 224]), Mask torch.Size([224, 224])\n",
      "✅ Loaded Brats18_TCIA10_408_1: Image torch.Size([3, 224, 224]), Mask torch.Size([224, 224])\n"
     ]
    },
    {
     "name": "stderr",
     "output_type": "stream",
     "text": [
      "Epoch [9/15]:  60%|██████    | 18/30 [00:07<00:04,  2.46it/s, Loss=0.758]"
     ]
    },
    {
     "name": "stdout",
     "output_type": "stream",
     "text": [
      "✅ Loaded Brats18_TCIA12_480_1: Image torch.Size([3, 224, 224]), Mask torch.Size([224, 224])\n",
      "✅ Loaded Brats18_TCIA10_420_1: Image torch.Size([3, 224, 224]), Mask torch.Size([224, 224])\n"
     ]
    },
    {
     "name": "stderr",
     "output_type": "stream",
     "text": [
      "Epoch [9/15]:  63%|██████▎   | 19/30 [00:07<00:04,  2.47it/s, Loss=0.449]"
     ]
    },
    {
     "name": "stdout",
     "output_type": "stream",
     "text": [
      "✅ Loaded Brats18_2013_15_1: Image torch.Size([3, 224, 224]), Mask torch.Size([224, 224])\n",
      "✅ Loaded Brats18_TCIA09_462_1: Image torch.Size([3, 224, 224]), Mask torch.Size([224, 224])\n"
     ]
    },
    {
     "name": "stderr",
     "output_type": "stream",
     "text": [
      "Epoch [9/15]:  67%|██████▋   | 20/30 [00:08<00:04,  2.48it/s, Loss=0.413]"
     ]
    },
    {
     "name": "stdout",
     "output_type": "stream",
     "text": [
      "✅ Loaded Brats18_TCIA10_449_1: Image torch.Size([3, 224, 224]), Mask torch.Size([224, 224])\n",
      "✅ Loaded Brats18_TCIA13_633_1: Image torch.Size([3, 224, 224]), Mask torch.Size([224, 224])\n"
     ]
    },
    {
     "name": "stderr",
     "output_type": "stream",
     "text": [
      "Epoch [9/15]:  70%|███████   | 21/30 [00:08<00:03,  2.48it/s, Loss=0.492]"
     ]
    },
    {
     "name": "stdout",
     "output_type": "stream",
     "text": [
      "✅ Loaded Brats18_TCIA10_266_1: Image torch.Size([3, 224, 224]), Mask torch.Size([224, 224])\n",
      "✅ Loaded Brats18_TCIA10_351_1: Image torch.Size([3, 224, 224]), Mask torch.Size([224, 224])\n"
     ]
    },
    {
     "name": "stderr",
     "output_type": "stream",
     "text": [
      "Epoch [9/15]:  73%|███████▎  | 22/30 [00:08<00:03,  2.47it/s, Loss=0.558]"
     ]
    },
    {
     "name": "stdout",
     "output_type": "stream",
     "text": [
      "✅ Loaded Brats18_TCIA10_261_1: Image torch.Size([3, 224, 224]), Mask torch.Size([224, 224])\n",
      "✅ Loaded Brats18_TCIA13_653_1: Image torch.Size([3, 224, 224]), Mask torch.Size([224, 224])\n"
     ]
    },
    {
     "name": "stderr",
     "output_type": "stream",
     "text": [
      "Epoch [9/15]:  77%|███████▋  | 23/30 [00:09<00:02,  2.47it/s, Loss=0.302]"
     ]
    },
    {
     "name": "stdout",
     "output_type": "stream",
     "text": [
      "✅ Loaded Brats18_TCIA10_276_1: Image torch.Size([3, 224, 224]), Mask torch.Size([224, 224])\n",
      "✅ Loaded Brats18_TCIA10_310_1: Image torch.Size([3, 224, 224]), Mask torch.Size([224, 224])\n"
     ]
    },
    {
     "name": "stderr",
     "output_type": "stream",
     "text": [
      "Epoch [9/15]:  80%|████████  | 24/30 [00:09<00:02,  2.46it/s, Loss=0.416]"
     ]
    },
    {
     "name": "stdout",
     "output_type": "stream",
     "text": [
      "✅ Loaded Brats18_2013_0_1: Image torch.Size([3, 224, 224]), Mask torch.Size([224, 224])\n",
      "✅ Loaded Brats18_TCIA12_298_1: Image torch.Size([3, 224, 224]), Mask torch.Size([224, 224])\n"
     ]
    },
    {
     "name": "stderr",
     "output_type": "stream",
     "text": [
      "Epoch [9/15]:  83%|████████▎ | 25/30 [00:10<00:02,  2.47it/s, Loss=0.332]"
     ]
    },
    {
     "name": "stdout",
     "output_type": "stream",
     "text": [
      "✅ Loaded Brats18_TCIA10_628_1: Image torch.Size([3, 224, 224]), Mask torch.Size([224, 224])\n",
      "✅ Loaded Brats18_2013_29_1: Image torch.Size([3, 224, 224]), Mask torch.Size([224, 224])\n"
     ]
    },
    {
     "name": "stderr",
     "output_type": "stream",
     "text": [
      "Epoch [9/15]:  87%|████████▋ | 26/30 [00:10<00:01,  2.45it/s, Loss=0.42] "
     ]
    },
    {
     "name": "stdout",
     "output_type": "stream",
     "text": [
      "✅ Loaded Brats18_TCIA10_241_1: Image torch.Size([3, 224, 224]), Mask torch.Size([224, 224])\n",
      "✅ Loaded Brats18_TCIA10_282_1: Image torch.Size([3, 224, 224]), Mask torch.Size([224, 224])\n"
     ]
    },
    {
     "name": "stderr",
     "output_type": "stream",
     "text": [
      "Epoch [9/15]:  90%|█████████ | 27/30 [00:10<00:01,  2.46it/s, Loss=0.338]"
     ]
    },
    {
     "name": "stdout",
     "output_type": "stream",
     "text": [
      "✅ Loaded Brats18_TCIA09_493_1: Image torch.Size([3, 224, 224]), Mask torch.Size([224, 224])\n",
      "✅ Loaded Brats18_TCIA09_254_1: Image torch.Size([3, 224, 224]), Mask torch.Size([224, 224])\n"
     ]
    },
    {
     "name": "stderr",
     "output_type": "stream",
     "text": [
      "Epoch [9/15]:  93%|█████████▎| 28/30 [00:11<00:00,  2.47it/s, Loss=0.448]"
     ]
    },
    {
     "name": "stdout",
     "output_type": "stream",
     "text": [
      "✅ Loaded Brats18_TCIA13_623_1: Image torch.Size([3, 224, 224]), Mask torch.Size([224, 224])\n",
      "✅ Loaded Brats18_TCIA10_299_1: Image torch.Size([3, 224, 224]), Mask torch.Size([224, 224])\n"
     ]
    },
    {
     "name": "stderr",
     "output_type": "stream",
     "text": [
      "Epoch [9/15]:  97%|█████████▋| 29/30 [00:11<00:00,  2.45it/s, Loss=0.366]"
     ]
    },
    {
     "name": "stdout",
     "output_type": "stream",
     "text": [
      "✅ Loaded Brats18_2013_24_1: Image torch.Size([3, 224, 224]), Mask torch.Size([224, 224])\n",
      "✅ Loaded Brats18_TCIA12_470_1: Image torch.Size([3, 224, 224]), Mask torch.Size([224, 224])\n"
     ]
    },
    {
     "name": "stderr",
     "output_type": "stream",
     "text": [
      "                                                                         \r"
     ]
    },
    {
     "name": "stdout",
     "output_type": "stream",
     "text": [
      "\n",
      "✅ Epoch 9: Train Loss: 0.4598\n",
      "💾 Saved model at epoch 9 with train loss 0.4598\n"
     ]
    },
    {
     "name": "stderr",
     "output_type": "stream",
     "text": [
      "Epoch [10/15]:   0%|          | 0/30 [00:00<?, ?it/s]"
     ]
    },
    {
     "name": "stdout",
     "output_type": "stream",
     "text": [
      "✅ Loaded Brats18_TCIA13_653_1: Image torch.Size([3, 224, 224]), Mask torch.Size([224, 224])\n",
      "✅ Loaded Brats18_TCIA10_629_1: Image torch.Size([3, 224, 224]), Mask torch.Size([224, 224])\n"
     ]
    },
    {
     "name": "stderr",
     "output_type": "stream",
     "text": [
      "Epoch [10/15]:   3%|▎         | 1/30 [00:00<00:11,  2.54it/s, Loss=0.477]"
     ]
    },
    {
     "name": "stdout",
     "output_type": "stream",
     "text": [
      "✅ Loaded Brats18_TCIA10_310_1: Image torch.Size([3, 224, 224]), Mask torch.Size([224, 224])\n",
      "✅ Loaded Brats18_TCIA10_266_1: Image torch.Size([3, 224, 224]), Mask torch.Size([224, 224])\n"
     ]
    },
    {
     "name": "stderr",
     "output_type": "stream",
     "text": [
      "Epoch [10/15]:   7%|▋         | 2/30 [00:00<00:11,  2.51it/s, Loss=0.53] "
     ]
    },
    {
     "name": "stdout",
     "output_type": "stream",
     "text": [
      "✅ Loaded Brats18_2013_0_1: Image torch.Size([3, 224, 224]), Mask torch.Size([224, 224])\n",
      "✅ Loaded Brats18_TCIA09_177_1: Image torch.Size([3, 224, 224]), Mask torch.Size([224, 224])\n"
     ]
    },
    {
     "name": "stderr",
     "output_type": "stream",
     "text": [
      "Epoch [10/15]:  10%|█         | 3/30 [00:01<00:10,  2.51it/s, Loss=0.365]"
     ]
    },
    {
     "name": "stdout",
     "output_type": "stream",
     "text": [
      "✅ Loaded Brats18_TCIA10_393_1: Image torch.Size([3, 224, 224]), Mask torch.Size([224, 224])\n",
      "✅ Loaded Brats18_2013_28_1: Image torch.Size([3, 224, 224]), Mask torch.Size([224, 224])\n"
     ]
    },
    {
     "name": "stderr",
     "output_type": "stream",
     "text": [
      "Epoch [10/15]:  13%|█▎        | 4/30 [00:01<00:10,  2.48it/s, Loss=0.566]"
     ]
    },
    {
     "name": "stdout",
     "output_type": "stream",
     "text": [
      "✅ Loaded Brats18_2013_8_1: Image torch.Size([3, 224, 224]), Mask torch.Size([224, 224])\n",
      "✅ Loaded Brats18_2013_15_1: Image torch.Size([3, 224, 224]), Mask torch.Size([224, 224])\n"
     ]
    },
    {
     "name": "stderr",
     "output_type": "stream",
     "text": [
      "Epoch [10/15]:  17%|█▋        | 5/30 [00:02<00:10,  2.47it/s, Loss=0.487]"
     ]
    },
    {
     "name": "stdout",
     "output_type": "stream",
     "text": [
      "✅ Loaded Brats18_TCIA12_466_1: Image torch.Size([3, 224, 224]), Mask torch.Size([224, 224])\n",
      "✅ Loaded Brats18_TCIA10_202_1: Image torch.Size([3, 224, 224]), Mask torch.Size([224, 224])\n"
     ]
    },
    {
     "name": "stderr",
     "output_type": "stream",
     "text": [
      "Epoch [10/15]:  20%|██        | 6/30 [00:02<00:09,  2.51it/s, Loss=0.422]"
     ]
    },
    {
     "name": "stdout",
     "output_type": "stream",
     "text": [
      "✅ Loaded Brats18_2013_29_1: Image torch.Size([3, 224, 224]), Mask torch.Size([224, 224])\n",
      "✅ Loaded Brats18_TCIA10_351_1: Image torch.Size([3, 224, 224]), Mask torch.Size([224, 224])\n"
     ]
    },
    {
     "name": "stderr",
     "output_type": "stream",
     "text": [
      "Epoch [10/15]:  23%|██▎       | 7/30 [00:02<00:09,  2.48it/s, Loss=0.764]"
     ]
    },
    {
     "name": "stdout",
     "output_type": "stream",
     "text": [
      "✅ Loaded Brats18_TCIA10_330_1: Image torch.Size([3, 224, 224]), Mask torch.Size([224, 224])\n",
      "✅ Loaded Brats18_TCIA10_276_1: Image torch.Size([3, 224, 224]), Mask torch.Size([224, 224])\n"
     ]
    },
    {
     "name": "stderr",
     "output_type": "stream",
     "text": [
      "Epoch [10/15]:  27%|██▋       | 8/30 [00:03<00:08,  2.51it/s, Loss=0.429]"
     ]
    },
    {
     "name": "stdout",
     "output_type": "stream",
     "text": [
      "✅ Loaded Brats18_TCIA12_298_1: Image torch.Size([3, 224, 224]), Mask torch.Size([224, 224])\n",
      "✅ Loaded Brats18_TCIA10_644_1: Image torch.Size([3, 224, 224]), Mask torch.Size([224, 224])\n"
     ]
    },
    {
     "name": "stderr",
     "output_type": "stream",
     "text": [
      "Epoch [10/15]:  30%|███       | 9/30 [00:03<00:08,  2.51it/s, Loss=0.49] "
     ]
    },
    {
     "name": "stdout",
     "output_type": "stream",
     "text": [
      "✅ Loaded Brats18_TCIA10_387_1: Image torch.Size([3, 224, 224]), Mask torch.Size([224, 224])\n",
      "✅ Loaded Brats18_TCIA10_628_1: Image torch.Size([3, 224, 224]), Mask torch.Size([224, 224])\n"
     ]
    },
    {
     "name": "stderr",
     "output_type": "stream",
     "text": [
      "Epoch [10/15]:  33%|███▎      | 10/30 [00:04<00:08,  2.50it/s, Loss=0.428]"
     ]
    },
    {
     "name": "stdout",
     "output_type": "stream",
     "text": [
      "✅ Loaded Brats18_TCIA13_630_1: Image torch.Size([3, 224, 224]), Mask torch.Size([224, 224])\n",
      "✅ Loaded Brats18_TCIA13_642_1: Image torch.Size([3, 224, 224]), Mask torch.Size([224, 224])\n"
     ]
    },
    {
     "name": "stderr",
     "output_type": "stream",
     "text": [
      "Epoch [10/15]:  37%|███▋      | 11/30 [00:04<00:07,  2.51it/s, Loss=0.472]"
     ]
    },
    {
     "name": "stdout",
     "output_type": "stream",
     "text": [
      "✅ Loaded Brats18_TCIA10_103_1: Image torch.Size([3, 224, 224]), Mask torch.Size([224, 224])\n",
      "✅ Loaded Brats18_TCIA10_625_1: Image torch.Size([3, 224, 224]), Mask torch.Size([224, 224])\n"
     ]
    },
    {
     "name": "stderr",
     "output_type": "stream",
     "text": [
      "Epoch [10/15]:  40%|████      | 12/30 [00:04<00:07,  2.51it/s, Loss=0.511]"
     ]
    },
    {
     "name": "stdout",
     "output_type": "stream",
     "text": [
      "✅ Loaded Brats18_TCIA10_420_1: Image torch.Size([3, 224, 224]), Mask torch.Size([224, 224])\n",
      "✅ Loaded Brats18_2013_9_1: Image torch.Size([3, 224, 224]), Mask torch.Size([224, 224])\n"
     ]
    },
    {
     "name": "stderr",
     "output_type": "stream",
     "text": [
      "Epoch [10/15]:  43%|████▎     | 13/30 [00:05<00:06,  2.50it/s, Loss=0.497]"
     ]
    },
    {
     "name": "stdout",
     "output_type": "stream",
     "text": [
      "✅ Loaded Brats18_TCIA10_241_1: Image torch.Size([3, 224, 224]), Mask torch.Size([224, 224])\n",
      "✅ Loaded Brats18_TCIA10_442_1: Image torch.Size([3, 224, 224]), Mask torch.Size([224, 224])\n"
     ]
    },
    {
     "name": "stderr",
     "output_type": "stream",
     "text": [
      "Epoch [10/15]:  47%|████▋     | 14/30 [00:05<00:06,  2.50it/s, Loss=0.283]"
     ]
    },
    {
     "name": "stdout",
     "output_type": "stream",
     "text": [
      "✅ Loaded Brats18_TCIA10_307_1: Image torch.Size([3, 224, 224]), Mask torch.Size([224, 224])\n",
      "✅ Loaded Brats18_TCIA10_408_1: Image torch.Size([3, 224, 224]), Mask torch.Size([224, 224])\n"
     ]
    },
    {
     "name": "stderr",
     "output_type": "stream",
     "text": [
      "Epoch [10/15]:  50%|█████     | 15/30 [00:05<00:05,  2.51it/s, Loss=0.6]  "
     ]
    },
    {
     "name": "stdout",
     "output_type": "stream",
     "text": [
      "✅ Loaded Brats18_TCIA13_615_1: Image torch.Size([3, 224, 224]), Mask torch.Size([224, 224])\n",
      "✅ Loaded Brats18_TCIA12_101_1: Image torch.Size([3, 224, 224]), Mask torch.Size([224, 224])\n"
     ]
    },
    {
     "name": "stderr",
     "output_type": "stream",
     "text": [
      "Epoch [10/15]:  53%|█████▎    | 16/30 [00:06<00:05,  2.51it/s, Loss=0.283]"
     ]
    },
    {
     "name": "stdout",
     "output_type": "stream",
     "text": [
      "✅ Loaded Brats18_TCIA10_261_1: Image torch.Size([3, 224, 224]), Mask torch.Size([224, 224])\n",
      "✅ Loaded Brats18_TCIA10_325_1: Image torch.Size([3, 224, 224]), Mask torch.Size([224, 224])\n"
     ]
    },
    {
     "name": "stderr",
     "output_type": "stream",
     "text": [
      "Epoch [10/15]:  57%|█████▋    | 17/30 [00:06<00:05,  2.50it/s, Loss=0.344]"
     ]
    },
    {
     "name": "stdout",
     "output_type": "stream",
     "text": [
      "✅ Loaded Brats18_2013_6_1: Image torch.Size([3, 224, 224]), Mask torch.Size([224, 224])\n",
      "✅ Loaded Brats18_TCIA13_654_1: Image torch.Size([3, 224, 224]), Mask torch.Size([224, 224])\n"
     ]
    },
    {
     "name": "stderr",
     "output_type": "stream",
     "text": [
      "Epoch [10/15]:  60%|██████    | 18/30 [00:07<00:04,  2.51it/s, Loss=0.55] "
     ]
    },
    {
     "name": "stdout",
     "output_type": "stream",
     "text": [
      "✅ Loaded Brats18_TCIA10_449_1: Image torch.Size([3, 224, 224]), Mask torch.Size([224, 224])\n",
      "✅ Loaded Brats18_TCIA10_346_1: Image torch.Size([3, 224, 224]), Mask torch.Size([224, 224])\n"
     ]
    },
    {
     "name": "stderr",
     "output_type": "stream",
     "text": [
      "Epoch [10/15]:  63%|██████▎   | 19/30 [00:07<00:04,  2.51it/s, Loss=0.368]"
     ]
    },
    {
     "name": "stdout",
     "output_type": "stream",
     "text": [
      "✅ Loaded Brats18_TCIA09_493_1: Image torch.Size([3, 224, 224]), Mask torch.Size([224, 224])\n",
      "✅ Loaded Brats18_TCIA09_462_1: Image torch.Size([3, 224, 224]), Mask torch.Size([224, 224])\n"
     ]
    },
    {
     "name": "stderr",
     "output_type": "stream",
     "text": [
      "Epoch [10/15]:  67%|██████▋   | 20/30 [00:07<00:03,  2.50it/s, Loss=0.423]"
     ]
    },
    {
     "name": "stdout",
     "output_type": "stream",
     "text": [
      "✅ Loaded Brats18_TCIA10_282_1: Image torch.Size([3, 224, 224]), Mask torch.Size([224, 224])\n",
      "✅ Loaded Brats18_TCIA10_299_1: Image torch.Size([3, 224, 224]), Mask torch.Size([224, 224])\n"
     ]
    },
    {
     "name": "stderr",
     "output_type": "stream",
     "text": [
      "Epoch [10/15]:  70%|███████   | 21/30 [00:08<00:03,  2.50it/s, Loss=0.585]"
     ]
    },
    {
     "name": "stdout",
     "output_type": "stream",
     "text": [
      "✅ Loaded Brats18_TCIA12_249_1: Image torch.Size([3, 224, 224]), Mask torch.Size([224, 224])\n",
      "✅ Loaded Brats18_TCIA10_130_1: Image torch.Size([3, 224, 224]), Mask torch.Size([224, 224])\n"
     ]
    },
    {
     "name": "stderr",
     "output_type": "stream",
     "text": [
      "Epoch [10/15]:  73%|███████▎  | 22/30 [00:08<00:03,  2.49it/s, Loss=0.592]"
     ]
    },
    {
     "name": "stdout",
     "output_type": "stream",
     "text": [
      "✅ Loaded Brats18_TCIA10_413_1: Image torch.Size([3, 224, 224]), Mask torch.Size([224, 224])\n",
      "✅ Loaded Brats18_2013_24_1: Image torch.Size([3, 224, 224]), Mask torch.Size([224, 224])\n"
     ]
    },
    {
     "name": "stderr",
     "output_type": "stream",
     "text": [
      "Epoch [10/15]:  77%|███████▋  | 23/30 [00:09<00:02,  2.49it/s, Loss=0.441]"
     ]
    },
    {
     "name": "stdout",
     "output_type": "stream",
     "text": [
      "✅ Loaded Brats18_TCIA12_480_1: Image torch.Size([3, 224, 224]), Mask torch.Size([224, 224])\n",
      "✅ Loaded Brats18_TCIA13_623_1: Image torch.Size([3, 224, 224]), Mask torch.Size([224, 224])\n"
     ]
    },
    {
     "name": "stderr",
     "output_type": "stream",
     "text": [
      "Epoch [10/15]:  80%|████████  | 24/30 [00:09<00:02,  2.47it/s, Loss=0.484]"
     ]
    },
    {
     "name": "stdout",
     "output_type": "stream",
     "text": [
      "✅ Loaded Brats18_TCIA09_402_1: Image torch.Size([3, 224, 224]), Mask torch.Size([224, 224])\n",
      "✅ Loaded Brats18_TCIA10_632_1: Image torch.Size([3, 224, 224]), Mask torch.Size([224, 224])\n"
     ]
    },
    {
     "name": "stderr",
     "output_type": "stream",
     "text": [
      "Epoch [10/15]:  83%|████████▎ | 25/30 [00:10<00:02,  2.47it/s, Loss=0.397]"
     ]
    },
    {
     "name": "stdout",
     "output_type": "stream",
     "text": [
      "✅ Loaded Brats18_TCIA13_624_1: Image torch.Size([3, 224, 224]), Mask torch.Size([224, 224])\n",
      "✅ Loaded Brats18_TCIA10_175_1: Image torch.Size([3, 224, 224]), Mask torch.Size([224, 224])\n"
     ]
    },
    {
     "name": "stderr",
     "output_type": "stream",
     "text": [
      "Epoch [10/15]:  87%|████████▋ | 26/30 [00:10<00:01,  2.48it/s, Loss=0.273]"
     ]
    },
    {
     "name": "stdout",
     "output_type": "stream",
     "text": [
      "✅ Loaded Brats18_TCIA09_428_1: Image torch.Size([3, 224, 224]), Mask torch.Size([224, 224])\n",
      "✅ Loaded Brats18_TCIA13_633_1: Image torch.Size([3, 224, 224]), Mask torch.Size([224, 224])\n"
     ]
    },
    {
     "name": "stderr",
     "output_type": "stream",
     "text": [
      "Epoch [10/15]:  90%|█████████ | 27/30 [00:10<00:01,  2.48it/s, Loss=0.462]"
     ]
    },
    {
     "name": "stdout",
     "output_type": "stream",
     "text": [
      "✅ Loaded Brats18_TCIA10_109_1: Image torch.Size([3, 224, 224]), Mask torch.Size([224, 224])\n",
      "✅ Loaded Brats18_TCIA13_645_1: Image torch.Size([3, 224, 224]), Mask torch.Size([224, 224])\n"
     ]
    },
    {
     "name": "stderr",
     "output_type": "stream",
     "text": [
      "Epoch [10/15]:  93%|█████████▎| 28/30 [00:11<00:00,  2.49it/s, Loss=0.454]"
     ]
    },
    {
     "name": "stdout",
     "output_type": "stream",
     "text": [
      "✅ Loaded Brats18_TCIA12_470_1: Image torch.Size([3, 224, 224]), Mask torch.Size([224, 224])\n",
      "✅ Loaded Brats18_TCIA13_650_1: Image torch.Size([3, 224, 224]), Mask torch.Size([224, 224])\n"
     ]
    },
    {
     "name": "stderr",
     "output_type": "stream",
     "text": [
      "Epoch [10/15]:  97%|█████████▋| 29/30 [00:11<00:00,  2.50it/s, Loss=0.322]"
     ]
    },
    {
     "name": "stdout",
     "output_type": "stream",
     "text": [
      "✅ Loaded Brats18_TCIA13_634_1: Image torch.Size([3, 224, 224]), Mask torch.Size([224, 224])\n",
      "✅ Loaded Brats18_TCIA09_254_1: Image torch.Size([3, 224, 224]), Mask torch.Size([224, 224])\n"
     ]
    },
    {
     "name": "stderr",
     "output_type": "stream",
     "text": [
      "                                                                          \r"
     ]
    },
    {
     "name": "stdout",
     "output_type": "stream",
     "text": [
      "\n",
      "✅ Epoch 10: Train Loss: 0.4595\n",
      "💾 Saved model at epoch 10 with train loss 0.4595\n"
     ]
    },
    {
     "name": "stderr",
     "output_type": "stream",
     "text": [
      "Epoch [11/15]:   0%|          | 0/30 [00:00<?, ?it/s]"
     ]
    },
    {
     "name": "stdout",
     "output_type": "stream",
     "text": [
      "✅ Loaded Brats18_TCIA10_330_1: Image torch.Size([3, 224, 224]), Mask torch.Size([224, 224])\n",
      "✅ Loaded Brats18_TCIA10_109_1: Image torch.Size([3, 224, 224]), Mask torch.Size([224, 224])\n"
     ]
    },
    {
     "name": "stderr",
     "output_type": "stream",
     "text": [
      "Epoch [11/15]:   3%|▎         | 1/30 [00:00<00:11,  2.48it/s, Loss=0.406]"
     ]
    },
    {
     "name": "stdout",
     "output_type": "stream",
     "text": [
      "✅ Loaded Brats18_TCIA13_645_1: Image torch.Size([3, 224, 224]), Mask torch.Size([224, 224])\n",
      "✅ Loaded Brats18_2013_6_1: Image torch.Size([3, 224, 224]), Mask torch.Size([224, 224])\n"
     ]
    },
    {
     "name": "stderr",
     "output_type": "stream",
     "text": [
      "Epoch [11/15]:   7%|▋         | 2/30 [00:00<00:11,  2.50it/s, Loss=0.368]"
     ]
    },
    {
     "name": "stdout",
     "output_type": "stream",
     "text": [
      "✅ Loaded Brats18_TCIA09_493_1: Image torch.Size([3, 224, 224]), Mask torch.Size([224, 224])\n",
      "✅ Loaded Brats18_TCIA13_615_1: Image torch.Size([3, 224, 224]), Mask torch.Size([224, 224])\n"
     ]
    },
    {
     "name": "stderr",
     "output_type": "stream",
     "text": [
      "Epoch [11/15]:  10%|█         | 3/30 [00:01<00:10,  2.50it/s, Loss=0.526]"
     ]
    },
    {
     "name": "stdout",
     "output_type": "stream",
     "text": [
      "✅ Loaded Brats18_TCIA10_175_1: Image torch.Size([3, 224, 224]), Mask torch.Size([224, 224])\n",
      "✅ Loaded Brats18_TCIA10_644_1: Image torch.Size([3, 224, 224]), Mask torch.Size([224, 224])\n"
     ]
    },
    {
     "name": "stderr",
     "output_type": "stream",
     "text": [
      "Epoch [11/15]:  13%|█▎        | 4/30 [00:01<00:10,  2.50it/s, Loss=0.418]"
     ]
    },
    {
     "name": "stdout",
     "output_type": "stream",
     "text": [
      "✅ Loaded Brats18_2013_9_1: Image torch.Size([3, 224, 224]), Mask torch.Size([224, 224])\n",
      "✅ Loaded Brats18_2013_0_1: Image torch.Size([3, 224, 224]), Mask torch.Size([224, 224])\n"
     ]
    },
    {
     "name": "stderr",
     "output_type": "stream",
     "text": [
      "Epoch [11/15]:  17%|█▋        | 5/30 [00:02<00:10,  2.49it/s, Loss=0.37] "
     ]
    },
    {
     "name": "stdout",
     "output_type": "stream",
     "text": [
      "✅ Loaded Brats18_TCIA10_299_1: Image torch.Size([3, 224, 224]), Mask torch.Size([224, 224])\n",
      "✅ Loaded Brats18_TCIA10_351_1: Image torch.Size([3, 224, 224]), Mask torch.Size([224, 224])\n"
     ]
    },
    {
     "name": "stderr",
     "output_type": "stream",
     "text": [
      "Epoch [11/15]:  20%|██        | 6/30 [00:02<00:09,  2.47it/s, Loss=0.661]"
     ]
    },
    {
     "name": "stdout",
     "output_type": "stream",
     "text": [
      "✅ Loaded Brats18_2013_8_1: Image torch.Size([3, 224, 224]), Mask torch.Size([224, 224])\n",
      "✅ Loaded Brats18_TCIA09_462_1: Image torch.Size([3, 224, 224]), Mask torch.Size([224, 224])\n"
     ]
    },
    {
     "name": "stderr",
     "output_type": "stream",
     "text": [
      "Epoch [11/15]:  23%|██▎       | 7/30 [00:02<00:09,  2.48it/s, Loss=0.409]"
     ]
    },
    {
     "name": "stdout",
     "output_type": "stream",
     "text": [
      "✅ Loaded Brats18_TCIA13_633_1: Image torch.Size([3, 224, 224]), Mask torch.Size([224, 224])\n",
      "✅ Loaded Brats18_TCIA10_103_1: Image torch.Size([3, 224, 224]), Mask torch.Size([224, 224])\n"
     ]
    },
    {
     "name": "stderr",
     "output_type": "stream",
     "text": [
      "Epoch [11/15]:  27%|██▋       | 8/30 [00:03<00:08,  2.48it/s, Loss=0.438]"
     ]
    },
    {
     "name": "stdout",
     "output_type": "stream",
     "text": [
      "✅ Loaded Brats18_TCIA09_254_1: Image torch.Size([3, 224, 224]), Mask torch.Size([224, 224])\n",
      "✅ Loaded Brats18_TCIA10_310_1: Image torch.Size([3, 224, 224]), Mask torch.Size([224, 224])\n"
     ]
    },
    {
     "name": "stderr",
     "output_type": "stream",
     "text": [
      "Epoch [11/15]:  30%|███       | 9/30 [00:03<00:08,  2.49it/s, Loss=0.351]"
     ]
    },
    {
     "name": "stdout",
     "output_type": "stream",
     "text": [
      "✅ Loaded Brats18_TCIA12_470_1: Image torch.Size([3, 224, 224]), Mask torch.Size([224, 224])\n",
      "✅ Loaded Brats18_TCIA10_387_1: Image torch.Size([3, 224, 224]), Mask torch.Size([224, 224])\n"
     ]
    },
    {
     "name": "stderr",
     "output_type": "stream",
     "text": [
      "Epoch [11/15]:  33%|███▎      | 10/30 [00:04<00:07,  2.51it/s, Loss=0.349]"
     ]
    },
    {
     "name": "stdout",
     "output_type": "stream",
     "text": [
      "✅ Loaded Brats18_TCIA10_282_1: Image torch.Size([3, 224, 224]), Mask torch.Size([224, 224])\n",
      "✅ Loaded Brats18_TCIA12_480_1: Image torch.Size([3, 224, 224]), Mask torch.Size([224, 224])\n"
     ]
    },
    {
     "name": "stderr",
     "output_type": "stream",
     "text": [
      "Epoch [11/15]:  37%|███▋      | 11/30 [00:04<00:07,  2.51it/s, Loss=0.407]"
     ]
    },
    {
     "name": "stdout",
     "output_type": "stream",
     "text": [
      "✅ Loaded Brats18_2013_29_1: Image torch.Size([3, 224, 224]), Mask torch.Size([224, 224])\n",
      "✅ Loaded Brats18_2013_15_1: Image torch.Size([3, 224, 224]), Mask torch.Size([224, 224])\n"
     ]
    },
    {
     "name": "stderr",
     "output_type": "stream",
     "text": [
      "Epoch [11/15]:  40%|████      | 12/30 [00:04<00:07,  2.49it/s, Loss=0.698]"
     ]
    },
    {
     "name": "stdout",
     "output_type": "stream",
     "text": [
      "✅ Loaded Brats18_TCIA12_249_1: Image torch.Size([3, 224, 224]), Mask torch.Size([224, 224])\n",
      "✅ Loaded Brats18_TCIA13_653_1: Image torch.Size([3, 224, 224]), Mask torch.Size([224, 224])\n"
     ]
    },
    {
     "name": "stderr",
     "output_type": "stream",
     "text": [
      "Epoch [11/15]:  43%|████▎     | 13/30 [00:05<00:06,  2.49it/s, Loss=0.598]"
     ]
    },
    {
     "name": "stdout",
     "output_type": "stream",
     "text": [
      "✅ Loaded Brats18_TCIA10_241_1: Image torch.Size([3, 224, 224]), Mask torch.Size([224, 224])\n",
      "✅ Loaded Brats18_TCIA10_413_1: Image torch.Size([3, 224, 224]), Mask torch.Size([224, 224])\n"
     ]
    },
    {
     "name": "stderr",
     "output_type": "stream",
     "text": [
      "Epoch [11/15]:  47%|████▋     | 14/30 [00:05<00:06,  2.48it/s, Loss=0.313]"
     ]
    },
    {
     "name": "stdout",
     "output_type": "stream",
     "text": [
      "✅ Loaded Brats18_TCIA12_466_1: Image torch.Size([3, 224, 224]), Mask torch.Size([224, 224])\n",
      "✅ Loaded Brats18_TCIA10_266_1: Image torch.Size([3, 224, 224]), Mask torch.Size([224, 224])\n"
     ]
    },
    {
     "name": "stderr",
     "output_type": "stream",
     "text": [
      "Epoch [11/15]:  50%|█████     | 15/30 [00:06<00:06,  2.49it/s, Loss=0.5]  "
     ]
    },
    {
     "name": "stdout",
     "output_type": "stream",
     "text": [
      "✅ Loaded Brats18_TCIA10_202_1: Image torch.Size([3, 224, 224]), Mask torch.Size([224, 224])\n",
      "✅ Loaded Brats18_TCIA10_325_1: Image torch.Size([3, 224, 224]), Mask torch.Size([224, 224])\n"
     ]
    },
    {
     "name": "stderr",
     "output_type": "stream",
     "text": [
      "Epoch [11/15]:  53%|█████▎    | 16/30 [00:06<00:05,  2.47it/s, Loss=0.478]"
     ]
    },
    {
     "name": "stdout",
     "output_type": "stream",
     "text": [
      "✅ Loaded Brats18_TCIA10_261_1: Image torch.Size([3, 224, 224]), Mask torch.Size([224, 224])\n",
      "✅ Loaded Brats18_TCIA10_307_1: Image torch.Size([3, 224, 224]), Mask torch.Size([224, 224])\n"
     ]
    },
    {
     "name": "stderr",
     "output_type": "stream",
     "text": [
      "Epoch [11/15]:  57%|█████▋    | 17/30 [00:06<00:05,  2.51it/s, Loss=0.262]"
     ]
    },
    {
     "name": "stdout",
     "output_type": "stream",
     "text": [
      "✅ Loaded Brats18_TCIA10_276_1: Image torch.Size([3, 224, 224]), Mask torch.Size([224, 224])\n",
      "✅ Loaded Brats18_TCIA10_628_1: Image torch.Size([3, 224, 224]), Mask torch.Size([224, 224])\n"
     ]
    },
    {
     "name": "stderr",
     "output_type": "stream",
     "text": [
      "Epoch [11/15]:  60%|██████    | 18/30 [00:07<00:04,  2.47it/s, Loss=0.465]"
     ]
    },
    {
     "name": "stdout",
     "output_type": "stream",
     "text": [
      "✅ Loaded Brats18_TCIA13_630_1: Image torch.Size([3, 224, 224]), Mask torch.Size([224, 224])\n",
      "✅ Loaded Brats18_TCIA13_624_1: Image torch.Size([3, 224, 224]), Mask torch.Size([224, 224])\n"
     ]
    },
    {
     "name": "stderr",
     "output_type": "stream",
     "text": [
      "Epoch [11/15]:  63%|██████▎   | 19/30 [00:07<00:04,  2.48it/s, Loss=0.165]"
     ]
    },
    {
     "name": "stdout",
     "output_type": "stream",
     "text": [
      "✅ Loaded Brats18_TCIA10_393_1: Image torch.Size([3, 224, 224]), Mask torch.Size([224, 224])\n",
      "✅ Loaded Brats18_TCIA13_654_1: Image torch.Size([3, 224, 224]), Mask torch.Size([224, 224])\n"
     ]
    },
    {
     "name": "stderr",
     "output_type": "stream",
     "text": [
      "Epoch [11/15]:  67%|██████▋   | 20/30 [00:08<00:04,  2.49it/s, Loss=0.38] "
     ]
    },
    {
     "name": "stdout",
     "output_type": "stream",
     "text": [
      "✅ Loaded Brats18_TCIA10_449_1: Image torch.Size([3, 224, 224]), Mask torch.Size([224, 224])\n",
      "✅ Loaded Brats18_TCIA10_625_1: Image torch.Size([3, 224, 224]), Mask torch.Size([224, 224])\n"
     ]
    },
    {
     "name": "stderr",
     "output_type": "stream",
     "text": [
      "Epoch [11/15]:  70%|███████   | 21/30 [00:08<00:03,  2.49it/s, Loss=0.39]"
     ]
    },
    {
     "name": "stdout",
     "output_type": "stream",
     "text": [
      "✅ Loaded Brats18_TCIA12_101_1: Image torch.Size([3, 224, 224]), Mask torch.Size([224, 224])\n",
      "✅ Loaded Brats18_TCIA12_298_1: Image torch.Size([3, 224, 224]), Mask torch.Size([224, 224])\n"
     ]
    },
    {
     "name": "stderr",
     "output_type": "stream",
     "text": [
      "Epoch [11/15]:  73%|███████▎  | 22/30 [00:08<00:03,  2.49it/s, Loss=0.301]"
     ]
    },
    {
     "name": "stdout",
     "output_type": "stream",
     "text": [
      "✅ Loaded Brats18_TCIA10_420_1: Image torch.Size([3, 224, 224]), Mask torch.Size([224, 224])\n",
      "✅ Loaded Brats18_TCIA10_130_1: Image torch.Size([3, 224, 224]), Mask torch.Size([224, 224])\n"
     ]
    },
    {
     "name": "stderr",
     "output_type": "stream",
     "text": [
      "Epoch [11/15]:  77%|███████▋  | 23/30 [00:09<00:02,  2.50it/s, Loss=0.63] "
     ]
    },
    {
     "name": "stdout",
     "output_type": "stream",
     "text": [
      "✅ Loaded Brats18_TCIA09_428_1: Image torch.Size([3, 224, 224]), Mask torch.Size([224, 224])\n",
      "✅ Loaded Brats18_TCIA13_623_1: Image torch.Size([3, 224, 224]), Mask torch.Size([224, 224])\n"
     ]
    },
    {
     "name": "stderr",
     "output_type": "stream",
     "text": [
      "Epoch [11/15]:  80%|████████  | 24/30 [00:09<00:02,  2.49it/s, Loss=0.382]"
     ]
    },
    {
     "name": "stdout",
     "output_type": "stream",
     "text": [
      "✅ Loaded Brats18_TCIA10_442_1: Image torch.Size([3, 224, 224]), Mask torch.Size([224, 224])\n",
      "✅ Loaded Brats18_2013_28_1: Image torch.Size([3, 224, 224]), Mask torch.Size([224, 224])\n"
     ]
    },
    {
     "name": "stderr",
     "output_type": "stream",
     "text": [
      "Epoch [11/15]:  83%|████████▎ | 25/30 [00:10<00:01,  2.50it/s, Loss=0.431]"
     ]
    },
    {
     "name": "stdout",
     "output_type": "stream",
     "text": [
      "✅ Loaded Brats18_TCIA09_177_1: Image torch.Size([3, 224, 224]), Mask torch.Size([224, 224])\n",
      "✅ Loaded Brats18_TCIA10_346_1: Image torch.Size([3, 224, 224]), Mask torch.Size([224, 224])\n"
     ]
    },
    {
     "name": "stderr",
     "output_type": "stream",
     "text": [
      "Epoch [11/15]:  87%|████████▋ | 26/30 [00:10<00:01,  2.47it/s, Loss=0.363]"
     ]
    },
    {
     "name": "stdout",
     "output_type": "stream",
     "text": [
      "✅ Loaded Brats18_TCIA13_650_1: Image torch.Size([3, 224, 224]), Mask torch.Size([224, 224])\n",
      "✅ Loaded Brats18_TCIA09_402_1: Image torch.Size([3, 224, 224]), Mask torch.Size([224, 224])\n"
     ]
    },
    {
     "name": "stderr",
     "output_type": "stream",
     "text": [
      "Epoch [11/15]:  90%|█████████ | 27/30 [00:10<00:01,  2.48it/s, Loss=0.401]"
     ]
    },
    {
     "name": "stdout",
     "output_type": "stream",
     "text": [
      "✅ Loaded Brats18_TCIA13_642_1: Image torch.Size([3, 224, 224]), Mask torch.Size([224, 224])\n",
      "✅ Loaded Brats18_TCIA10_408_1: Image torch.Size([3, 224, 224]), Mask torch.Size([224, 224])\n"
     ]
    },
    {
     "name": "stderr",
     "output_type": "stream",
     "text": [
      "Epoch [11/15]:  93%|█████████▎| 28/30 [00:11<00:00,  2.49it/s, Loss=0.368]"
     ]
    },
    {
     "name": "stdout",
     "output_type": "stream",
     "text": [
      "✅ Loaded Brats18_2013_24_1: Image torch.Size([3, 224, 224]), Mask torch.Size([224, 224])\n",
      "✅ Loaded Brats18_TCIA13_634_1: Image torch.Size([3, 224, 224]), Mask torch.Size([224, 224])\n"
     ]
    },
    {
     "name": "stderr",
     "output_type": "stream",
     "text": [
      "Epoch [11/15]:  97%|█████████▋| 29/30 [00:11<00:00,  2.49it/s, Loss=0.413]"
     ]
    },
    {
     "name": "stdout",
     "output_type": "stream",
     "text": [
      "✅ Loaded Brats18_TCIA10_629_1: Image torch.Size([3, 224, 224]), Mask torch.Size([224, 224])\n",
      "✅ Loaded Brats18_TCIA10_632_1: Image torch.Size([3, 224, 224]), Mask torch.Size([224, 224])\n"
     ]
    },
    {
     "name": "stderr",
     "output_type": "stream",
     "text": [
      "                                                                          \r"
     ]
    },
    {
     "name": "stdout",
     "output_type": "stream",
     "text": [
      "\n",
      "✅ Epoch 11: Train Loss: 0.4232\n",
      "💾 Saved model at epoch 11 with train loss 0.4232\n"
     ]
    },
    {
     "name": "stderr",
     "output_type": "stream",
     "text": [
      "Epoch [12/15]:   0%|          | 0/30 [00:00<?, ?it/s]"
     ]
    },
    {
     "name": "stdout",
     "output_type": "stream",
     "text": [
      "✅ Loaded Brats18_TCIA10_282_1: Image torch.Size([3, 224, 224]), Mask torch.Size([224, 224])\n",
      "✅ Loaded Brats18_TCIA10_387_1: Image torch.Size([3, 224, 224]), Mask torch.Size([224, 224])\n"
     ]
    },
    {
     "name": "stderr",
     "output_type": "stream",
     "text": [
      "Epoch [12/15]:   3%|▎         | 1/30 [00:00<00:11,  2.61it/s, Loss=0.65]"
     ]
    },
    {
     "name": "stdout",
     "output_type": "stream",
     "text": [
      "✅ Loaded Brats18_2013_28_1: Image torch.Size([3, 224, 224]), Mask torch.Size([224, 224])\n",
      "✅ Loaded Brats18_TCIA10_346_1: Image torch.Size([3, 224, 224]), Mask torch.Size([224, 224])\n"
     ]
    },
    {
     "name": "stderr",
     "output_type": "stream",
     "text": [
      "Epoch [12/15]:   7%|▋         | 2/30 [00:00<00:11,  2.54it/s, Loss=0.381]"
     ]
    },
    {
     "name": "stdout",
     "output_type": "stream",
     "text": [
      "✅ Loaded Brats18_TCIA13_653_1: Image torch.Size([3, 224, 224]), Mask torch.Size([224, 224])\n",
      "✅ Loaded Brats18_TCIA12_470_1: Image torch.Size([3, 224, 224]), Mask torch.Size([224, 224])\n"
     ]
    },
    {
     "name": "stderr",
     "output_type": "stream",
     "text": [
      "Epoch [12/15]:  10%|█         | 3/30 [00:01<00:10,  2.46it/s, Loss=0.286]"
     ]
    },
    {
     "name": "stdout",
     "output_type": "stream",
     "text": [
      "✅ Loaded Brats18_TCIA13_650_1: Image torch.Size([3, 224, 224]), Mask torch.Size([224, 224])\n",
      "✅ Loaded Brats18_TCIA09_177_1: Image torch.Size([3, 224, 224]), Mask torch.Size([224, 224])\n"
     ]
    },
    {
     "name": "stderr",
     "output_type": "stream",
     "text": [
      "Epoch [12/15]:  13%|█▎        | 4/30 [00:01<00:10,  2.48it/s, Loss=0.752]"
     ]
    },
    {
     "name": "stdout",
     "output_type": "stream",
     "text": [
      "✅ Loaded Brats18_2013_8_1: Image torch.Size([3, 224, 224]), Mask torch.Size([224, 224])\n",
      "✅ Loaded Brats18_TCIA10_442_1: Image torch.Size([3, 224, 224]), Mask torch.Size([224, 224])\n"
     ]
    },
    {
     "name": "stderr",
     "output_type": "stream",
     "text": [
      "Epoch [12/15]:  17%|█▋        | 5/30 [00:02<00:10,  2.47it/s, Loss=0.492]"
     ]
    },
    {
     "name": "stdout",
     "output_type": "stream",
     "text": [
      "✅ Loaded Brats18_TCIA10_408_1: Image torch.Size([3, 224, 224]), Mask torch.Size([224, 224])\n",
      "✅ Loaded Brats18_TCIA10_632_1: Image torch.Size([3, 224, 224]), Mask torch.Size([224, 224])\n"
     ]
    },
    {
     "name": "stderr",
     "output_type": "stream",
     "text": [
      "Epoch [12/15]:  20%|██        | 6/30 [00:02<00:09,  2.50it/s, Loss=0.753]"
     ]
    },
    {
     "name": "stdout",
     "output_type": "stream",
     "text": [
      "✅ Loaded Brats18_TCIA12_298_1: Image torch.Size([3, 224, 224]), Mask torch.Size([224, 224])\n",
      "✅ Loaded Brats18_TCIA10_130_1: Image torch.Size([3, 224, 224]), Mask torch.Size([224, 224])\n"
     ]
    },
    {
     "name": "stderr",
     "output_type": "stream",
     "text": [
      "Epoch [12/15]:  23%|██▎       | 7/30 [00:02<00:09,  2.54it/s, Loss=0.425]"
     ]
    },
    {
     "name": "stdout",
     "output_type": "stream",
     "text": [
      "✅ Loaded Brats18_TCIA10_175_1: Image torch.Size([3, 224, 224]), Mask torch.Size([224, 224])\n",
      "✅ Loaded Brats18_TCIA10_644_1: Image torch.Size([3, 224, 224]), Mask torch.Size([224, 224])\n"
     ]
    },
    {
     "name": "stderr",
     "output_type": "stream",
     "text": [
      "Epoch [12/15]:  27%|██▋       | 8/30 [00:03<00:08,  2.49it/s, Loss=0.417]"
     ]
    },
    {
     "name": "stdout",
     "output_type": "stream",
     "text": [
      "✅ Loaded Brats18_TCIA10_241_1: Image torch.Size([3, 224, 224]), Mask torch.Size([224, 224])\n",
      "✅ Loaded Brats18_TCIA10_413_1: Image torch.Size([3, 224, 224]), Mask torch.Size([224, 224])\n"
     ]
    },
    {
     "name": "stderr",
     "output_type": "stream",
     "text": [
      "Epoch [12/15]:  30%|███       | 9/30 [00:03<00:08,  2.53it/s, Loss=0.281]"
     ]
    },
    {
     "name": "stdout",
     "output_type": "stream",
     "text": [
      "✅ Loaded Brats18_TCIA10_393_1: Image torch.Size([3, 224, 224]), Mask torch.Size([224, 224])\n",
      "✅ Loaded Brats18_TCIA12_249_1: Image torch.Size([3, 224, 224]), Mask torch.Size([224, 224])\n"
     ]
    },
    {
     "name": "stderr",
     "output_type": "stream",
     "text": [
      "Epoch [12/15]:  33%|███▎      | 10/30 [00:03<00:07,  2.52it/s, Loss=0.427]"
     ]
    },
    {
     "name": "stdout",
     "output_type": "stream",
     "text": [
      "✅ Loaded Brats18_TCIA09_402_1: Image torch.Size([3, 224, 224]), Mask torch.Size([224, 224])\n",
      "✅ Loaded Brats18_TCIA10_351_1: Image torch.Size([3, 224, 224]), Mask torch.Size([224, 224])\n"
     ]
    },
    {
     "name": "stderr",
     "output_type": "stream",
     "text": [
      "Epoch [12/15]:  37%|███▋      | 11/30 [00:04<00:07,  2.48it/s, Loss=0.52] "
     ]
    },
    {
     "name": "stdout",
     "output_type": "stream",
     "text": [
      "✅ Loaded Brats18_TCIA13_642_1: Image torch.Size([3, 224, 224]), Mask torch.Size([224, 224])\n",
      "✅ Loaded Brats18_TCIA13_615_1: Image torch.Size([3, 224, 224]), Mask torch.Size([224, 224])\n"
     ]
    },
    {
     "name": "stderr",
     "output_type": "stream",
     "text": [
      "Epoch [12/15]:  40%|████      | 12/30 [00:04<00:07,  2.49it/s, Loss=0.497]"
     ]
    },
    {
     "name": "stdout",
     "output_type": "stream",
     "text": [
      "✅ Loaded Brats18_TCIA12_101_1: Image torch.Size([3, 224, 224]), Mask torch.Size([224, 224])\n",
      "✅ Loaded Brats18_TCIA13_630_1: Image torch.Size([3, 224, 224]), Mask torch.Size([224, 224])\n"
     ]
    },
    {
     "name": "stderr",
     "output_type": "stream",
     "text": [
      "Epoch [12/15]:  43%|████▎     | 13/30 [00:05<00:06,  2.46it/s, Loss=0.299]"
     ]
    },
    {
     "name": "stdout",
     "output_type": "stream",
     "text": [
      "✅ Loaded Brats18_TCIA13_645_1: Image torch.Size([3, 224, 224]), Mask torch.Size([224, 224])\n",
      "✅ Loaded Brats18_TCIA10_109_1: Image torch.Size([3, 224, 224]), Mask torch.Size([224, 224])\n"
     ]
    },
    {
     "name": "stderr",
     "output_type": "stream",
     "text": [
      "Epoch [12/15]:  47%|████▋     | 14/30 [00:05<00:06,  2.50it/s, Loss=0.403]"
     ]
    },
    {
     "name": "stdout",
     "output_type": "stream",
     "text": [
      "✅ Loaded Brats18_TCIA10_629_1: Image torch.Size([3, 224, 224]), Mask torch.Size([224, 224])\n",
      "✅ Loaded Brats18_TCIA09_462_1: Image torch.Size([3, 224, 224]), Mask torch.Size([224, 224])\n"
     ]
    },
    {
     "name": "stderr",
     "output_type": "stream",
     "text": [
      "Epoch [12/15]:  50%|█████     | 15/30 [00:06<00:05,  2.50it/s, Loss=0.321]"
     ]
    },
    {
     "name": "stdout",
     "output_type": "stream",
     "text": [
      "✅ Loaded Brats18_TCIA10_330_1: Image torch.Size([3, 224, 224]), Mask torch.Size([224, 224])\n",
      "✅ Loaded Brats18_TCIA10_299_1: Image torch.Size([3, 224, 224]), Mask torch.Size([224, 224])\n"
     ]
    },
    {
     "name": "stderr",
     "output_type": "stream",
     "text": [
      "Epoch [12/15]:  53%|█████▎    | 16/30 [00:06<00:05,  2.49it/s, Loss=0.419]"
     ]
    },
    {
     "name": "stdout",
     "output_type": "stream",
     "text": [
      "✅ Loaded Brats18_TCIA10_628_1: Image torch.Size([3, 224, 224]), Mask torch.Size([224, 224])\n",
      "✅ Loaded Brats18_TCIA13_633_1: Image torch.Size([3, 224, 224]), Mask torch.Size([224, 224])\n"
     ]
    },
    {
     "name": "stderr",
     "output_type": "stream",
     "text": [
      "Epoch [12/15]:  57%|█████▋    | 17/30 [00:06<00:05,  2.49it/s, Loss=0.496]"
     ]
    },
    {
     "name": "stdout",
     "output_type": "stream",
     "text": [
      "✅ Loaded Brats18_TCIA13_654_1: Image torch.Size([3, 224, 224]), Mask torch.Size([224, 224])\n",
      "✅ Loaded Brats18_TCIA10_449_1: Image torch.Size([3, 224, 224]), Mask torch.Size([224, 224])\n"
     ]
    },
    {
     "name": "stderr",
     "output_type": "stream",
     "text": [
      "Epoch [12/15]:  60%|██████    | 18/30 [00:07<00:04,  2.50it/s, Loss=0.314]"
     ]
    },
    {
     "name": "stdout",
     "output_type": "stream",
     "text": [
      "✅ Loaded Brats18_TCIA12_466_1: Image torch.Size([3, 224, 224]), Mask torch.Size([224, 224])\n",
      "✅ Loaded Brats18_TCIA10_103_1: Image torch.Size([3, 224, 224]), Mask torch.Size([224, 224])\n"
     ]
    },
    {
     "name": "stderr",
     "output_type": "stream",
     "text": [
      "Epoch [12/15]:  63%|██████▎   | 19/30 [00:07<00:04,  2.51it/s, Loss=0.725]"
     ]
    },
    {
     "name": "stdout",
     "output_type": "stream",
     "text": [
      "✅ Loaded Brats18_2013_29_1: Image torch.Size([3, 224, 224]), Mask torch.Size([224, 224])\n",
      "✅ Loaded Brats18_2013_15_1: Image torch.Size([3, 224, 224]), Mask torch.Size([224, 224])\n"
     ]
    },
    {
     "name": "stderr",
     "output_type": "stream",
     "text": [
      "Epoch [12/15]:  67%|██████▋   | 20/30 [00:08<00:04,  2.47it/s, Loss=0.622]"
     ]
    },
    {
     "name": "stdout",
     "output_type": "stream",
     "text": [
      "✅ Loaded Brats18_TCIA09_254_1: Image torch.Size([3, 224, 224]), Mask torch.Size([224, 224])\n",
      "✅ Loaded Brats18_2013_9_1: Image torch.Size([3, 224, 224]), Mask torch.Size([224, 224])\n"
     ]
    },
    {
     "name": "stderr",
     "output_type": "stream",
     "text": [
      "Epoch [12/15]:  70%|███████   | 21/30 [00:08<00:03,  2.48it/s, Loss=0.416]"
     ]
    },
    {
     "name": "stdout",
     "output_type": "stream",
     "text": [
      "✅ Loaded Brats18_TCIA09_493_1: Image torch.Size([3, 224, 224]), Mask torch.Size([224, 224])\n",
      "✅ Loaded Brats18_TCIA10_261_1: Image torch.Size([3, 224, 224]), Mask torch.Size([224, 224])\n"
     ]
    },
    {
     "name": "stderr",
     "output_type": "stream",
     "text": [
      "Epoch [12/15]:  73%|███████▎  | 22/30 [00:08<00:03,  2.45it/s, Loss=0.299]"
     ]
    },
    {
     "name": "stdout",
     "output_type": "stream",
     "text": [
      "✅ Loaded Brats18_TCIA10_307_1: Image torch.Size([3, 224, 224]), Mask torch.Size([224, 224])\n",
      "✅ Loaded Brats18_2013_24_1: Image torch.Size([3, 224, 224]), Mask torch.Size([224, 224])\n"
     ]
    },
    {
     "name": "stderr",
     "output_type": "stream",
     "text": [
      "Epoch [12/15]:  77%|███████▋  | 23/30 [00:09<00:02,  2.46it/s, Loss=0.413]"
     ]
    },
    {
     "name": "stdout",
     "output_type": "stream",
     "text": [
      "✅ Loaded Brats18_TCIA10_420_1: Image torch.Size([3, 224, 224]), Mask torch.Size([224, 224])\n",
      "✅ Loaded Brats18_TCIA12_480_1: Image torch.Size([3, 224, 224]), Mask torch.Size([224, 224])\n"
     ]
    },
    {
     "name": "stderr",
     "output_type": "stream",
     "text": [
      "Epoch [12/15]:  80%|████████  | 24/30 [00:09<00:02,  2.47it/s, Loss=0.429]"
     ]
    },
    {
     "name": "stdout",
     "output_type": "stream",
     "text": [
      "✅ Loaded Brats18_2013_0_1: Image torch.Size([3, 224, 224]), Mask torch.Size([224, 224])\n",
      "✅ Loaded Brats18_TCIA10_325_1: Image torch.Size([3, 224, 224]), Mask torch.Size([224, 224])\n"
     ]
    },
    {
     "name": "stderr",
     "output_type": "stream",
     "text": [
      "Epoch [12/15]:  83%|████████▎ | 25/30 [00:10<00:02,  2.45it/s, Loss=0.33] "
     ]
    },
    {
     "name": "stdout",
     "output_type": "stream",
     "text": [
      "✅ Loaded Brats18_TCIA10_310_1: Image torch.Size([3, 224, 224]), Mask torch.Size([224, 224])\n",
      "✅ Loaded Brats18_2013_6_1: Image torch.Size([3, 224, 224]), Mask torch.Size([224, 224])\n"
     ]
    },
    {
     "name": "stderr",
     "output_type": "stream",
     "text": [
      "Epoch [12/15]:  87%|████████▋ | 26/30 [00:10<00:01,  2.47it/s, Loss=0.315]"
     ]
    },
    {
     "name": "stdout",
     "output_type": "stream",
     "text": [
      "✅ Loaded Brats18_TCIA10_625_1: Image torch.Size([3, 224, 224]), Mask torch.Size([224, 224])\n",
      "✅ Loaded Brats18_TCIA13_634_1: Image torch.Size([3, 224, 224]), Mask torch.Size([224, 224])\n"
     ]
    },
    {
     "name": "stderr",
     "output_type": "stream",
     "text": [
      "Epoch [12/15]:  90%|█████████ | 27/30 [00:10<00:01,  2.45it/s, Loss=0.407]"
     ]
    },
    {
     "name": "stdout",
     "output_type": "stream",
     "text": [
      "✅ Loaded Brats18_TCIA10_276_1: Image torch.Size([3, 224, 224]), Mask torch.Size([224, 224])\n",
      "✅ Loaded Brats18_TCIA09_428_1: Image torch.Size([3, 224, 224]), Mask torch.Size([224, 224])\n"
     ]
    },
    {
     "name": "stderr",
     "output_type": "stream",
     "text": [
      "Epoch [12/15]:  93%|█████████▎| 28/30 [00:11<00:00,  2.47it/s, Loss=0.42] "
     ]
    },
    {
     "name": "stdout",
     "output_type": "stream",
     "text": [
      "✅ Loaded Brats18_TCIA13_623_1: Image torch.Size([3, 224, 224]), Mask torch.Size([224, 224])\n",
      "✅ Loaded Brats18_TCIA13_624_1: Image torch.Size([3, 224, 224]), Mask torch.Size([224, 224])\n"
     ]
    },
    {
     "name": "stderr",
     "output_type": "stream",
     "text": [
      "Epoch [12/15]:  97%|█████████▋| 29/30 [00:11<00:00,  2.46it/s, Loss=0.33]"
     ]
    },
    {
     "name": "stdout",
     "output_type": "stream",
     "text": [
      "✅ Loaded Brats18_TCIA10_266_1: Image torch.Size([3, 224, 224]), Mask torch.Size([224, 224])\n",
      "✅ Loaded Brats18_TCIA10_202_1: Image torch.Size([3, 224, 224]), Mask torch.Size([224, 224])\n"
     ]
    },
    {
     "name": "stderr",
     "output_type": "stream",
     "text": [
      "                                                                         \r"
     ]
    },
    {
     "name": "stdout",
     "output_type": "stream",
     "text": [
      "\n",
      "✅ Epoch 12: Train Loss: 0.4436\n",
      "⚠️ No improvement for 1 epoch(s)\n"
     ]
    },
    {
     "name": "stderr",
     "output_type": "stream",
     "text": [
      "Epoch [13/15]:   0%|          | 0/30 [00:00<?, ?it/s]"
     ]
    },
    {
     "name": "stdout",
     "output_type": "stream",
     "text": [
      "✅ Loaded Brats18_TCIA10_175_1: Image torch.Size([3, 224, 224]), Mask torch.Size([224, 224])\n",
      "✅ Loaded Brats18_2013_15_1: Image torch.Size([3, 224, 224]), Mask torch.Size([224, 224])\n"
     ]
    },
    {
     "name": "stderr",
     "output_type": "stream",
     "text": [
      "Epoch [13/15]:   3%|▎         | 1/30 [00:00<00:11,  2.46it/s, Loss=0.339]"
     ]
    },
    {
     "name": "stdout",
     "output_type": "stream",
     "text": [
      "✅ Loaded Brats18_TCIA10_393_1: Image torch.Size([3, 224, 224]), Mask torch.Size([224, 224])\n",
      "✅ Loaded Brats18_TCIA10_387_1: Image torch.Size([3, 224, 224]), Mask torch.Size([224, 224])\n"
     ]
    },
    {
     "name": "stderr",
     "output_type": "stream",
     "text": [
      "Epoch [13/15]:   7%|▋         | 2/30 [00:00<00:11,  2.49it/s, Loss=0.507]"
     ]
    },
    {
     "name": "stdout",
     "output_type": "stream",
     "text": [
      "✅ Loaded Brats18_TCIA12_249_1: Image torch.Size([3, 224, 224]), Mask torch.Size([224, 224])\n",
      "✅ Loaded Brats18_TCIA09_177_1: Image torch.Size([3, 224, 224]), Mask torch.Size([224, 224])\n"
     ]
    },
    {
     "name": "stderr",
     "output_type": "stream",
     "text": [
      "Epoch [13/15]:  10%|█         | 3/30 [00:01<00:10,  2.48it/s, Loss=0.589]"
     ]
    },
    {
     "name": "stdout",
     "output_type": "stream",
     "text": [
      "✅ Loaded Brats18_2013_24_1: Image torch.Size([3, 224, 224]), Mask torch.Size([224, 224])\n",
      "✅ Loaded Brats18_TCIA13_624_1: Image torch.Size([3, 224, 224]), Mask torch.Size([224, 224])\n"
     ]
    },
    {
     "name": "stderr",
     "output_type": "stream",
     "text": [
      "Epoch [13/15]:  13%|█▎        | 4/30 [00:01<00:10,  2.45it/s, Loss=0.244]"
     ]
    },
    {
     "name": "stdout",
     "output_type": "stream",
     "text": [
      "✅ Loaded Brats18_TCIA12_466_1: Image torch.Size([3, 224, 224]), Mask torch.Size([224, 224])\n",
      "✅ Loaded Brats18_TCIA13_630_1: Image torch.Size([3, 224, 224]), Mask torch.Size([224, 224])\n"
     ]
    },
    {
     "name": "stderr",
     "output_type": "stream",
     "text": [
      "Epoch [13/15]:  17%|█▋        | 5/30 [00:02<00:10,  2.47it/s, Loss=0.455]"
     ]
    },
    {
     "name": "stdout",
     "output_type": "stream",
     "text": [
      "✅ Loaded Brats18_TCIA10_310_1: Image torch.Size([3, 224, 224]), Mask torch.Size([224, 224])\n",
      "✅ Loaded Brats18_TCIA09_402_1: Image torch.Size([3, 224, 224]), Mask torch.Size([224, 224])\n"
     ]
    },
    {
     "name": "stderr",
     "output_type": "stream",
     "text": [
      "Epoch [13/15]:  20%|██        | 6/30 [00:02<00:09,  2.44it/s, Loss=0.389]"
     ]
    },
    {
     "name": "stdout",
     "output_type": "stream",
     "text": [
      "✅ Loaded Brats18_TCIA13_642_1: Image torch.Size([3, 224, 224]), Mask torch.Size([224, 224])\n",
      "✅ Loaded Brats18_2013_9_1: Image torch.Size([3, 224, 224]), Mask torch.Size([224, 224])\n"
     ]
    },
    {
     "name": "stderr",
     "output_type": "stream",
     "text": [
      "Epoch [13/15]:  23%|██▎       | 7/30 [00:02<00:09,  2.47it/s, Loss=0.316]"
     ]
    },
    {
     "name": "stdout",
     "output_type": "stream",
     "text": [
      "✅ Loaded Brats18_TCIA12_470_1: Image torch.Size([3, 224, 224]), Mask torch.Size([224, 224])\n",
      "✅ Loaded Brats18_TCIA12_298_1: Image torch.Size([3, 224, 224]), Mask torch.Size([224, 224])\n"
     ]
    },
    {
     "name": "stderr",
     "output_type": "stream",
     "text": [
      "Epoch [13/15]:  27%|██▋       | 8/30 [00:03<00:08,  2.45it/s, Loss=0.29] "
     ]
    },
    {
     "name": "stdout",
     "output_type": "stream",
     "text": [
      "✅ Loaded Brats18_TCIA10_202_1: Image torch.Size([3, 224, 224]), Mask torch.Size([224, 224])\n",
      "✅ Loaded Brats18_TCIA09_493_1: Image torch.Size([3, 224, 224]), Mask torch.Size([224, 224])\n"
     ]
    },
    {
     "name": "stderr",
     "output_type": "stream",
     "text": [
      "Epoch [13/15]:  30%|███       | 9/30 [00:03<00:08,  2.49it/s, Loss=0.42]"
     ]
    },
    {
     "name": "stdout",
     "output_type": "stream",
     "text": [
      "✅ Loaded Brats18_TCIA10_644_1: Image torch.Size([3, 224, 224]), Mask torch.Size([224, 224])\n",
      "✅ Loaded Brats18_TCIA10_266_1: Image torch.Size([3, 224, 224]), Mask torch.Size([224, 224])\n"
     ]
    },
    {
     "name": "stderr",
     "output_type": "stream",
     "text": [
      "Epoch [13/15]:  33%|███▎      | 10/30 [00:04<00:08,  2.50it/s, Loss=0.436]"
     ]
    },
    {
     "name": "stdout",
     "output_type": "stream",
     "text": [
      "✅ Loaded Brats18_TCIA10_330_1: Image torch.Size([3, 224, 224]), Mask torch.Size([224, 224])\n",
      "✅ Loaded Brats18_TCIA10_625_1: Image torch.Size([3, 224, 224]), Mask torch.Size([224, 224])\n"
     ]
    },
    {
     "name": "stderr",
     "output_type": "stream",
     "text": [
      "Epoch [13/15]:  37%|███▋      | 11/30 [00:04<00:07,  2.50it/s, Loss=0.407]"
     ]
    },
    {
     "name": "stdout",
     "output_type": "stream",
     "text": [
      "✅ Loaded Brats18_TCIA10_420_1: Image torch.Size([3, 224, 224]), Mask torch.Size([224, 224])\n",
      "✅ Loaded Brats18_TCIA12_480_1: Image torch.Size([3, 224, 224]), Mask torch.Size([224, 224])\n"
     ]
    },
    {
     "name": "stderr",
     "output_type": "stream",
     "text": [
      "Epoch [13/15]:  40%|████      | 12/30 [00:04<00:07,  2.50it/s, Loss=0.404]"
     ]
    },
    {
     "name": "stdout",
     "output_type": "stream",
     "text": [
      "✅ Loaded Brats18_TCIA10_276_1: Image torch.Size([3, 224, 224]), Mask torch.Size([224, 224])\n",
      "✅ Loaded Brats18_TCIA13_623_1: Image torch.Size([3, 224, 224]), Mask torch.Size([224, 224])\n"
     ]
    },
    {
     "name": "stderr",
     "output_type": "stream",
     "text": [
      "Epoch [13/15]:  43%|████▎     | 13/30 [00:05<00:06,  2.52it/s, Loss=0.333]"
     ]
    },
    {
     "name": "stdout",
     "output_type": "stream",
     "text": [
      "✅ Loaded Brats18_2013_28_1: Image torch.Size([3, 224, 224]), Mask torch.Size([224, 224])\n",
      "✅ Loaded Brats18_TCIA10_261_1: Image torch.Size([3, 224, 224]), Mask torch.Size([224, 224])\n"
     ]
    },
    {
     "name": "stderr",
     "output_type": "stream",
     "text": [
      "Epoch [13/15]:  47%|████▋     | 14/30 [00:05<00:06,  2.50it/s, Loss=0.285]"
     ]
    },
    {
     "name": "stdout",
     "output_type": "stream",
     "text": [
      "✅ Loaded Brats18_2013_6_1: Image torch.Size([3, 224, 224]), Mask torch.Size([224, 224])\n",
      "✅ Loaded Brats18_2013_0_1: Image torch.Size([3, 224, 224]), Mask torch.Size([224, 224])\n"
     ]
    },
    {
     "name": "stderr",
     "output_type": "stream",
     "text": [
      "Epoch [13/15]:  50%|█████     | 15/30 [00:06<00:06,  2.49it/s, Loss=0.327]"
     ]
    },
    {
     "name": "stdout",
     "output_type": "stream",
     "text": [
      "✅ Loaded Brats18_TCIA10_442_1: Image torch.Size([3, 224, 224]), Mask torch.Size([224, 224])\n",
      "✅ Loaded Brats18_TCIA09_254_1: Image torch.Size([3, 224, 224]), Mask torch.Size([224, 224])\n"
     ]
    },
    {
     "name": "stderr",
     "output_type": "stream",
     "text": [
      "Epoch [13/15]:  53%|█████▎    | 16/30 [00:06<00:05,  2.49it/s, Loss=0.365]"
     ]
    },
    {
     "name": "stdout",
     "output_type": "stream",
     "text": [
      "✅ Loaded Brats18_TCIA10_325_1: Image torch.Size([3, 224, 224]), Mask torch.Size([224, 224])\n",
      "✅ Loaded Brats18_TCIA10_628_1: Image torch.Size([3, 224, 224]), Mask torch.Size([224, 224])\n"
     ]
    },
    {
     "name": "stderr",
     "output_type": "stream",
     "text": [
      "Epoch [13/15]:  57%|█████▋    | 17/30 [00:06<00:05,  2.47it/s, Loss=0.486]"
     ]
    },
    {
     "name": "stdout",
     "output_type": "stream",
     "text": [
      "✅ Loaded Brats18_TCIA10_307_1: Image torch.Size([3, 224, 224]), Mask torch.Size([224, 224])\n",
      "✅ Loaded Brats18_TCIA10_241_1: Image torch.Size([3, 224, 224]), Mask torch.Size([224, 224])\n"
     ]
    },
    {
     "name": "stderr",
     "output_type": "stream",
     "text": [
      "Epoch [13/15]:  60%|██████    | 18/30 [00:07<00:04,  2.48it/s, Loss=0.335]"
     ]
    },
    {
     "name": "stdout",
     "output_type": "stream",
     "text": [
      "✅ Loaded Brats18_TCIA10_103_1: Image torch.Size([3, 224, 224]), Mask torch.Size([224, 224])\n",
      "✅ Loaded Brats18_TCIA10_346_1: Image torch.Size([3, 224, 224]), Mask torch.Size([224, 224])\n"
     ]
    },
    {
     "name": "stderr",
     "output_type": "stream",
     "text": [
      "Epoch [13/15]:  63%|██████▎   | 19/30 [00:07<00:04,  2.48it/s, Loss=0.391]"
     ]
    },
    {
     "name": "stdout",
     "output_type": "stream",
     "text": [
      "✅ Loaded Brats18_TCIA10_408_1: Image torch.Size([3, 224, 224]), Mask torch.Size([224, 224])\n",
      "✅ Loaded Brats18_TCIA10_413_1: Image torch.Size([3, 224, 224]), Mask torch.Size([224, 224])\n"
     ]
    },
    {
     "name": "stderr",
     "output_type": "stream",
     "text": [
      "Epoch [13/15]:  67%|██████▋   | 20/30 [00:08<00:04,  2.49it/s, Loss=0.58] "
     ]
    },
    {
     "name": "stdout",
     "output_type": "stream",
     "text": [
      "✅ Loaded Brats18_TCIA13_634_1: Image torch.Size([3, 224, 224]), Mask torch.Size([224, 224])\n",
      "✅ Loaded Brats18_TCIA09_462_1: Image torch.Size([3, 224, 224]), Mask torch.Size([224, 224])\n"
     ]
    },
    {
     "name": "stderr",
     "output_type": "stream",
     "text": [
      "Epoch [13/15]:  70%|███████   | 21/30 [00:08<00:03,  2.50it/s, Loss=0.435]"
     ]
    },
    {
     "name": "stdout",
     "output_type": "stream",
     "text": [
      "✅ Loaded Brats18_TCIA10_351_1: Image torch.Size([3, 224, 224]), Mask torch.Size([224, 224])\n",
      "✅ Loaded Brats18_TCIA13_653_1: Image torch.Size([3, 224, 224]), Mask torch.Size([224, 224])\n"
     ]
    },
    {
     "name": "stderr",
     "output_type": "stream",
     "text": [
      "Epoch [13/15]:  73%|███████▎  | 22/30 [00:08<00:03,  2.50it/s, Loss=0.595]"
     ]
    },
    {
     "name": "stdout",
     "output_type": "stream",
     "text": [
      "✅ Loaded Brats18_TCIA10_299_1: Image torch.Size([3, 224, 224]), Mask torch.Size([224, 224])\n",
      "✅ Loaded Brats18_TCIA10_449_1: Image torch.Size([3, 224, 224]), Mask torch.Size([224, 224])\n"
     ]
    },
    {
     "name": "stderr",
     "output_type": "stream",
     "text": [
      "Epoch [13/15]:  77%|███████▋  | 23/30 [00:09<00:02,  2.47it/s, Loss=0.751]"
     ]
    },
    {
     "name": "stdout",
     "output_type": "stream",
     "text": [
      "✅ Loaded Brats18_2013_29_1: Image torch.Size([3, 224, 224]), Mask torch.Size([224, 224])\n",
      "✅ Loaded Brats18_TCIA13_633_1: Image torch.Size([3, 224, 224]), Mask torch.Size([224, 224])\n"
     ]
    },
    {
     "name": "stderr",
     "output_type": "stream",
     "text": [
      "Epoch [13/15]:  80%|████████  | 24/30 [00:09<00:02,  2.48it/s, Loss=0.444]"
     ]
    },
    {
     "name": "stdout",
     "output_type": "stream",
     "text": [
      "✅ Loaded Brats18_2013_8_1: Image torch.Size([3, 224, 224]), Mask torch.Size([224, 224])\n",
      "✅ Loaded Brats18_TCIA10_632_1: Image torch.Size([3, 224, 224]), Mask torch.Size([224, 224])\n"
     ]
    },
    {
     "name": "stderr",
     "output_type": "stream",
     "text": [
      "Epoch [13/15]:  83%|████████▎ | 25/30 [00:10<00:02,  2.48it/s, Loss=0.446]"
     ]
    },
    {
     "name": "stdout",
     "output_type": "stream",
     "text": [
      "✅ Loaded Brats18_TCIA10_282_1: Image torch.Size([3, 224, 224]), Mask torch.Size([224, 224])\n",
      "✅ Loaded Brats18_TCIA13_645_1: Image torch.Size([3, 224, 224]), Mask torch.Size([224, 224])\n"
     ]
    },
    {
     "name": "stderr",
     "output_type": "stream",
     "text": [
      "Epoch [13/15]:  87%|████████▋ | 26/30 [00:10<00:01,  2.49it/s, Loss=0.408]"
     ]
    },
    {
     "name": "stdout",
     "output_type": "stream",
     "text": [
      "✅ Loaded Brats18_TCIA10_130_1: Image torch.Size([3, 224, 224]), Mask torch.Size([224, 224])\n",
      "✅ Loaded Brats18_TCIA13_615_1: Image torch.Size([3, 224, 224]), Mask torch.Size([224, 224])\n"
     ]
    },
    {
     "name": "stderr",
     "output_type": "stream",
     "text": [
      "Epoch [13/15]:  90%|█████████ | 27/30 [00:10<00:01,  2.49it/s, Loss=0.532]"
     ]
    },
    {
     "name": "stdout",
     "output_type": "stream",
     "text": [
      "✅ Loaded Brats18_TCIA10_109_1: Image torch.Size([3, 224, 224]), Mask torch.Size([224, 224])\n",
      "✅ Loaded Brats18_TCIA12_101_1: Image torch.Size([3, 224, 224]), Mask torch.Size([224, 224])\n"
     ]
    },
    {
     "name": "stderr",
     "output_type": "stream",
     "text": [
      "Epoch [13/15]:  93%|█████████▎| 28/30 [00:11<00:00,  2.50it/s, Loss=0.324]"
     ]
    },
    {
     "name": "stdout",
     "output_type": "stream",
     "text": [
      "✅ Loaded Brats18_TCIA13_650_1: Image torch.Size([3, 224, 224]), Mask torch.Size([224, 224])\n",
      "✅ Loaded Brats18_TCIA13_654_1: Image torch.Size([3, 224, 224]), Mask torch.Size([224, 224])\n"
     ]
    },
    {
     "name": "stderr",
     "output_type": "stream",
     "text": [
      "Epoch [13/15]:  97%|█████████▋| 29/30 [00:11<00:00,  2.50it/s, Loss=0.356]"
     ]
    },
    {
     "name": "stdout",
     "output_type": "stream",
     "text": [
      "✅ Loaded Brats18_TCIA10_629_1: Image torch.Size([3, 224, 224]), Mask torch.Size([224, 224])\n",
      "✅ Loaded Brats18_TCIA09_428_1: Image torch.Size([3, 224, 224]), Mask torch.Size([224, 224])\n"
     ]
    },
    {
     "name": "stderr",
     "output_type": "stream",
     "text": [
      "                                                                          \r"
     ]
    },
    {
     "name": "stdout",
     "output_type": "stream",
     "text": [
      "\n",
      "✅ Epoch 13: Train Loss: 0.4214\n",
      "💾 Saved model at epoch 13 with train loss 0.4214\n"
     ]
    },
    {
     "name": "stderr",
     "output_type": "stream",
     "text": [
      "Epoch [14/15]:   0%|          | 0/30 [00:00<?, ?it/s]"
     ]
    },
    {
     "name": "stdout",
     "output_type": "stream",
     "text": [
      "✅ Loaded Brats18_TCIA12_101_1: Image torch.Size([3, 224, 224]), Mask torch.Size([224, 224])\n",
      "✅ Loaded Brats18_2013_9_1: Image torch.Size([3, 224, 224]), Mask torch.Size([224, 224])\n"
     ]
    },
    {
     "name": "stderr",
     "output_type": "stream",
     "text": [
      "Epoch [14/15]:   3%|▎         | 1/30 [00:00<00:11,  2.51it/s, Loss=0.301]"
     ]
    },
    {
     "name": "stdout",
     "output_type": "stream",
     "text": [
      "✅ Loaded Brats18_TCIA09_402_1: Image torch.Size([3, 224, 224]), Mask torch.Size([224, 224])\n",
      "✅ Loaded Brats18_TCIA12_470_1: Image torch.Size([3, 224, 224]), Mask torch.Size([224, 224])\n"
     ]
    },
    {
     "name": "stderr",
     "output_type": "stream",
     "text": [
      "Epoch [14/15]:   7%|▋         | 2/30 [00:00<00:11,  2.50it/s, Loss=0.259]"
     ]
    },
    {
     "name": "stdout",
     "output_type": "stream",
     "text": [
      "✅ Loaded Brats18_TCIA10_420_1: Image torch.Size([3, 224, 224]), Mask torch.Size([224, 224])\n",
      "✅ Loaded Brats18_TCIA12_249_1: Image torch.Size([3, 224, 224]), Mask torch.Size([224, 224])\n"
     ]
    },
    {
     "name": "stderr",
     "output_type": "stream",
     "text": [
      "Epoch [14/15]:  10%|█         | 3/30 [00:01<00:10,  2.50it/s, Loss=0.436]"
     ]
    },
    {
     "name": "stdout",
     "output_type": "stream",
     "text": [
      "✅ Loaded Brats18_TCIA10_130_1: Image torch.Size([3, 224, 224]), Mask torch.Size([224, 224])\n",
      "✅ Loaded Brats18_TCIA13_623_1: Image torch.Size([3, 224, 224]), Mask torch.Size([224, 224])\n"
     ]
    },
    {
     "name": "stderr",
     "output_type": "stream",
     "text": [
      "Epoch [14/15]:  13%|█▎        | 4/30 [00:01<00:10,  2.54it/s, Loss=0.412]"
     ]
    },
    {
     "name": "stdout",
     "output_type": "stream",
     "text": [
      "✅ Loaded Brats18_TCIA10_330_1: Image torch.Size([3, 224, 224]), Mask torch.Size([224, 224])\n",
      "✅ Loaded Brats18_TCIA13_634_1: Image torch.Size([3, 224, 224]), Mask torch.Size([224, 224])\n"
     ]
    },
    {
     "name": "stderr",
     "output_type": "stream",
     "text": [
      "Epoch [14/15]:  17%|█▋        | 5/30 [00:01<00:09,  2.53it/s, Loss=0.37] "
     ]
    },
    {
     "name": "stdout",
     "output_type": "stream",
     "text": [
      "✅ Loaded Brats18_TCIA13_630_1: Image torch.Size([3, 224, 224]), Mask torch.Size([224, 224])\n",
      "✅ Loaded Brats18_TCIA12_466_1: Image torch.Size([3, 224, 224]), Mask torch.Size([224, 224])\n"
     ]
    },
    {
     "name": "stderr",
     "output_type": "stream",
     "text": [
      "Epoch [14/15]:  20%|██        | 6/30 [00:02<00:09,  2.48it/s, Loss=0.413]"
     ]
    },
    {
     "name": "stdout",
     "output_type": "stream",
     "text": [
      "✅ Loaded Brats18_TCIA13_654_1: Image torch.Size([3, 224, 224]), Mask torch.Size([224, 224])\n",
      "✅ Loaded Brats18_TCIA10_261_1: Image torch.Size([3, 224, 224]), Mask torch.Size([224, 224])\n"
     ]
    },
    {
     "name": "stderr",
     "output_type": "stream",
     "text": [
      "Epoch [14/15]:  23%|██▎       | 7/30 [00:02<00:09,  2.48it/s, Loss=0.316]"
     ]
    },
    {
     "name": "stdout",
     "output_type": "stream",
     "text": [
      "✅ Loaded Brats18_TCIA13_650_1: Image torch.Size([3, 224, 224]), Mask torch.Size([224, 224])\n",
      "✅ Loaded Brats18_TCIA10_299_1: Image torch.Size([3, 224, 224]), Mask torch.Size([224, 224])\n"
     ]
    },
    {
     "name": "stderr",
     "output_type": "stream",
     "text": [
      "Epoch [14/15]:  27%|██▋       | 8/30 [00:03<00:08,  2.49it/s, Loss=0.751]"
     ]
    },
    {
     "name": "stdout",
     "output_type": "stream",
     "text": [
      "✅ Loaded Brats18_TCIA09_254_1: Image torch.Size([3, 224, 224]), Mask torch.Size([224, 224])\n",
      "✅ Loaded Brats18_TCIA10_325_1: Image torch.Size([3, 224, 224]), Mask torch.Size([224, 224])\n"
     ]
    },
    {
     "name": "stderr",
     "output_type": "stream",
     "text": [
      "Epoch [14/15]:  30%|███       | 9/30 [00:03<00:08,  2.50it/s, Loss=0.385]"
     ]
    },
    {
     "name": "stdout",
     "output_type": "stream",
     "text": [
      "✅ Loaded Brats18_2013_24_1: Image torch.Size([3, 224, 224]), Mask torch.Size([224, 224])\n",
      "✅ Loaded Brats18_2013_28_1: Image torch.Size([3, 224, 224]), Mask torch.Size([224, 224])\n"
     ]
    },
    {
     "name": "stderr",
     "output_type": "stream",
     "text": [
      "Epoch [14/15]:  33%|███▎      | 10/30 [00:04<00:08,  2.49it/s, Loss=0.424]"
     ]
    },
    {
     "name": "stdout",
     "output_type": "stream",
     "text": [
      "✅ Loaded Brats18_TCIA10_393_1: Image torch.Size([3, 224, 224]), Mask torch.Size([224, 224])\n",
      "✅ Loaded Brats18_2013_15_1: Image torch.Size([3, 224, 224]), Mask torch.Size([224, 224])\n"
     ]
    },
    {
     "name": "stderr",
     "output_type": "stream",
     "text": [
      "Epoch [14/15]:  37%|███▋      | 11/30 [00:04<00:07,  2.50it/s, Loss=0.383]"
     ]
    },
    {
     "name": "stdout",
     "output_type": "stream",
     "text": [
      "✅ Loaded Brats18_TCIA13_633_1: Image torch.Size([3, 224, 224]), Mask torch.Size([224, 224])\n",
      "✅ Loaded Brats18_TCIA10_644_1: Image torch.Size([3, 224, 224]), Mask torch.Size([224, 224])\n"
     ]
    },
    {
     "name": "stderr",
     "output_type": "stream",
     "text": [
      "Epoch [14/15]:  40%|████      | 12/30 [00:04<00:07,  2.50it/s, Loss=0.479]"
     ]
    },
    {
     "name": "stdout",
     "output_type": "stream",
     "text": [
      "✅ Loaded Brats18_TCIA10_449_1: Image torch.Size([3, 224, 224]), Mask torch.Size([224, 224])\n",
      "✅ Loaded Brats18_TCIA10_175_1: Image torch.Size([3, 224, 224]), Mask torch.Size([224, 224])\n"
     ]
    },
    {
     "name": "stderr",
     "output_type": "stream",
     "text": [
      "Epoch [14/15]:  43%|████▎     | 13/30 [00:05<00:06,  2.49it/s, Loss=0.375]"
     ]
    },
    {
     "name": "stdout",
     "output_type": "stream",
     "text": [
      "✅ Loaded Brats18_2013_0_1: Image torch.Size([3, 224, 224]), Mask torch.Size([224, 224])\n",
      "✅ Loaded Brats18_TCIA10_241_1: Image torch.Size([3, 224, 224]), Mask torch.Size([224, 224])\n"
     ]
    },
    {
     "name": "stderr",
     "output_type": "stream",
     "text": [
      "Epoch [14/15]:  47%|████▋     | 14/30 [00:05<00:06,  2.50it/s, Loss=0.299]"
     ]
    },
    {
     "name": "stdout",
     "output_type": "stream",
     "text": [
      "✅ Loaded Brats18_TCIA10_266_1: Image torch.Size([3, 224, 224]), Mask torch.Size([224, 224])\n",
      "✅ Loaded Brats18_TCIA09_462_1: Image torch.Size([3, 224, 224]), Mask torch.Size([224, 224])\n"
     ]
    },
    {
     "name": "stderr",
     "output_type": "stream",
     "text": [
      "Epoch [14/15]:  50%|█████     | 15/30 [00:06<00:06,  2.49it/s, Loss=0.36] "
     ]
    },
    {
     "name": "stdout",
     "output_type": "stream",
     "text": [
      "✅ Loaded Brats18_TCIA10_442_1: Image torch.Size([3, 224, 224]), Mask torch.Size([224, 224])\n",
      "✅ Loaded Brats18_TCIA13_645_1: Image torch.Size([3, 224, 224]), Mask torch.Size([224, 224])\n"
     ]
    },
    {
     "name": "stderr",
     "output_type": "stream",
     "text": [
      "Epoch [14/15]:  53%|█████▎    | 16/30 [00:06<00:05,  2.51it/s, Loss=0.445]"
     ]
    },
    {
     "name": "stdout",
     "output_type": "stream",
     "text": [
      "✅ Loaded Brats18_TCIA12_480_1: Image torch.Size([3, 224, 224]), Mask torch.Size([224, 224])\n",
      "✅ Loaded Brats18_TCIA13_653_1: Image torch.Size([3, 224, 224]), Mask torch.Size([224, 224])\n"
     ]
    },
    {
     "name": "stderr",
     "output_type": "stream",
     "text": [
      "Epoch [14/15]:  57%|█████▋    | 17/30 [00:06<00:05,  2.49it/s, Loss=0.377]"
     ]
    },
    {
     "name": "stdout",
     "output_type": "stream",
     "text": [
      "✅ Loaded Brats18_2013_8_1: Image torch.Size([3, 224, 224]), Mask torch.Size([224, 224])\n",
      "✅ Loaded Brats18_TCIA10_625_1: Image torch.Size([3, 224, 224]), Mask torch.Size([224, 224])\n"
     ]
    },
    {
     "name": "stderr",
     "output_type": "stream",
     "text": [
      "Epoch [14/15]:  60%|██████    | 18/30 [00:07<00:04,  2.46it/s, Loss=0.403]"
     ]
    },
    {
     "name": "stdout",
     "output_type": "stream",
     "text": [
      "✅ Loaded Brats18_TCIA10_276_1: Image torch.Size([3, 224, 224]), Mask torch.Size([224, 224])\n",
      "✅ Loaded Brats18_TCIA10_387_1: Image torch.Size([3, 224, 224]), Mask torch.Size([224, 224])\n"
     ]
    },
    {
     "name": "stderr",
     "output_type": "stream",
     "text": [
      "Epoch [14/15]:  63%|██████▎   | 19/30 [00:07<00:04,  2.49it/s, Loss=0.392]"
     ]
    },
    {
     "name": "stdout",
     "output_type": "stream",
     "text": [
      "✅ Loaded Brats18_TCIA10_408_1: Image torch.Size([3, 224, 224]), Mask torch.Size([224, 224])\n",
      "✅ Loaded Brats18_TCIA10_632_1: Image torch.Size([3, 224, 224]), Mask torch.Size([224, 224])\n"
     ]
    },
    {
     "name": "stderr",
     "output_type": "stream",
     "text": [
      "Epoch [14/15]:  67%|██████▋   | 20/30 [00:08<00:04,  2.49it/s, Loss=0.742]"
     ]
    },
    {
     "name": "stdout",
     "output_type": "stream",
     "text": [
      "✅ Loaded Brats18_TCIA10_413_1: Image torch.Size([3, 224, 224]), Mask torch.Size([224, 224])\n",
      "✅ Loaded Brats18_TCIA13_624_1: Image torch.Size([3, 224, 224]), Mask torch.Size([224, 224])\n"
     ]
    },
    {
     "name": "stderr",
     "output_type": "stream",
     "text": [
      "Epoch [14/15]:  70%|███████   | 21/30 [00:08<00:03,  2.49it/s, Loss=0.415]"
     ]
    },
    {
     "name": "stdout",
     "output_type": "stream",
     "text": [
      "✅ Loaded Brats18_TCIA10_109_1: Image torch.Size([3, 224, 224]), Mask torch.Size([224, 224])\n",
      "✅ Loaded Brats18_2013_6_1: Image torch.Size([3, 224, 224]), Mask torch.Size([224, 224])\n"
     ]
    },
    {
     "name": "stderr",
     "output_type": "stream",
     "text": [
      "Epoch [14/15]:  73%|███████▎  | 22/30 [00:08<00:03,  2.49it/s, Loss=0.366]"
     ]
    },
    {
     "name": "stdout",
     "output_type": "stream",
     "text": [
      "✅ Loaded Brats18_2013_29_1: Image torch.Size([3, 224, 224]), Mask torch.Size([224, 224])\n",
      "✅ Loaded Brats18_TCIA10_202_1: Image torch.Size([3, 224, 224]), Mask torch.Size([224, 224])\n"
     ]
    },
    {
     "name": "stderr",
     "output_type": "stream",
     "text": [
      "Epoch [14/15]:  77%|███████▋  | 23/30 [00:09<00:02,  2.50it/s, Loss=0.399]"
     ]
    },
    {
     "name": "stdout",
     "output_type": "stream",
     "text": [
      "✅ Loaded Brats18_TCIA10_628_1: Image torch.Size([3, 224, 224]), Mask torch.Size([224, 224])\n",
      "✅ Loaded Brats18_TCIA13_642_1: Image torch.Size([3, 224, 224]), Mask torch.Size([224, 224])\n"
     ]
    },
    {
     "name": "stderr",
     "output_type": "stream",
     "text": [
      "Epoch [14/15]:  80%|████████  | 24/30 [00:09<00:02,  2.50it/s, Loss=0.323]"
     ]
    },
    {
     "name": "stdout",
     "output_type": "stream",
     "text": [
      "✅ Loaded Brats18_TCIA10_310_1: Image torch.Size([3, 224, 224]), Mask torch.Size([224, 224])\n",
      "✅ Loaded Brats18_TCIA10_351_1: Image torch.Size([3, 224, 224]), Mask torch.Size([224, 224])\n"
     ]
    },
    {
     "name": "stderr",
     "output_type": "stream",
     "text": [
      "Epoch [14/15]:  83%|████████▎ | 25/30 [00:10<00:02,  2.50it/s, Loss=0.547]"
     ]
    },
    {
     "name": "stdout",
     "output_type": "stream",
     "text": [
      "✅ Loaded Brats18_TCIA12_298_1: Image torch.Size([3, 224, 224]), Mask torch.Size([224, 224])\n",
      "✅ Loaded Brats18_TCIA10_629_1: Image torch.Size([3, 224, 224]), Mask torch.Size([224, 224])\n"
     ]
    },
    {
     "name": "stderr",
     "output_type": "stream",
     "text": [
      "Epoch [14/15]:  87%|████████▋ | 26/30 [00:10<00:01,  2.50it/s, Loss=0.237]"
     ]
    },
    {
     "name": "stdout",
     "output_type": "stream",
     "text": [
      "✅ Loaded Brats18_TCIA10_103_1: Image torch.Size([3, 224, 224]), Mask torch.Size([224, 224])\n",
      "✅ Loaded Brats18_TCIA09_428_1: Image torch.Size([3, 224, 224]), Mask torch.Size([224, 224])\n"
     ]
    },
    {
     "name": "stderr",
     "output_type": "stream",
     "text": [
      "Epoch [14/15]:  90%|█████████ | 27/30 [00:10<00:01,  2.46it/s, Loss=0.618]"
     ]
    },
    {
     "name": "stdout",
     "output_type": "stream",
     "text": [
      "✅ Loaded Brats18_TCIA10_282_1: Image torch.Size([3, 224, 224]), Mask torch.Size([224, 224])\n",
      "✅ Loaded Brats18_TCIA09_177_1: Image torch.Size([3, 224, 224]), Mask torch.Size([224, 224])\n"
     ]
    },
    {
     "name": "stderr",
     "output_type": "stream",
     "text": [
      "Epoch [14/15]:  93%|█████████▎| 28/30 [00:11<00:00,  2.51it/s, Loss=0.597]"
     ]
    },
    {
     "name": "stdout",
     "output_type": "stream",
     "text": [
      "✅ Loaded Brats18_TCIA10_346_1: Image torch.Size([3, 224, 224]), Mask torch.Size([224, 224])\n",
      "✅ Loaded Brats18_TCIA13_615_1: Image torch.Size([3, 224, 224]), Mask torch.Size([224, 224])\n"
     ]
    },
    {
     "name": "stderr",
     "output_type": "stream",
     "text": [
      "Epoch [14/15]:  97%|█████████▋| 29/30 [00:11<00:00,  2.47it/s, Loss=0.429]"
     ]
    },
    {
     "name": "stdout",
     "output_type": "stream",
     "text": [
      "✅ Loaded Brats18_TCIA10_307_1: Image torch.Size([3, 224, 224]), Mask torch.Size([224, 224])\n",
      "✅ Loaded Brats18_TCIA09_493_1: Image torch.Size([3, 224, 224]), Mask torch.Size([224, 224])\n"
     ]
    },
    {
     "name": "stderr",
     "output_type": "stream",
     "text": [
      "                                                                          \r"
     ]
    },
    {
     "name": "stdout",
     "output_type": "stream",
     "text": [
      "\n",
      "✅ Epoch 14: Train Loss: 0.4210\n",
      "💾 Saved model at epoch 14 with train loss 0.4210\n"
     ]
    },
    {
     "name": "stderr",
     "output_type": "stream",
     "text": [
      "Epoch [15/15]:   0%|          | 0/30 [00:00<?, ?it/s]"
     ]
    },
    {
     "name": "stdout",
     "output_type": "stream",
     "text": [
      "✅ Loaded Brats18_TCIA10_330_1: Image torch.Size([3, 224, 224]), Mask torch.Size([224, 224])\n",
      "✅ Loaded Brats18_TCIA13_634_1: Image torch.Size([3, 224, 224]), Mask torch.Size([224, 224])\n"
     ]
    },
    {
     "name": "stderr",
     "output_type": "stream",
     "text": [
      "Epoch [15/15]:   3%|▎         | 1/30 [00:00<00:11,  2.50it/s, Loss=0.399]"
     ]
    },
    {
     "name": "stdout",
     "output_type": "stream",
     "text": [
      "✅ Loaded Brats18_TCIA09_462_1: Image torch.Size([3, 224, 224]), Mask torch.Size([224, 224])\n",
      "✅ Loaded Brats18_TCIA09_402_1: Image torch.Size([3, 224, 224]), Mask torch.Size([224, 224])\n"
     ]
    },
    {
     "name": "stderr",
     "output_type": "stream",
     "text": [
      "Epoch [15/15]:   7%|▋         | 2/30 [00:00<00:11,  2.51it/s, Loss=0.414]"
     ]
    },
    {
     "name": "stdout",
     "output_type": "stream",
     "text": [
      "✅ Loaded Brats18_2013_24_1: Image torch.Size([3, 224, 224]), Mask torch.Size([224, 224])\n",
      "✅ Loaded Brats18_TCIA13_642_1: Image torch.Size([3, 224, 224]), Mask torch.Size([224, 224])\n"
     ]
    },
    {
     "name": "stderr",
     "output_type": "stream",
     "text": [
      "Epoch [15/15]:  10%|█         | 3/30 [00:01<00:10,  2.46it/s, Loss=0.341]"
     ]
    },
    {
     "name": "stdout",
     "output_type": "stream",
     "text": [
      "✅ Loaded Brats18_TCIA10_632_1: Image torch.Size([3, 224, 224]), Mask torch.Size([224, 224])\n",
      "✅ Loaded Brats18_TCIA10_413_1: Image torch.Size([3, 224, 224]), Mask torch.Size([224, 224])\n"
     ]
    },
    {
     "name": "stderr",
     "output_type": "stream",
     "text": [
      "Epoch [15/15]:  13%|█▎        | 4/30 [00:01<00:10,  2.48it/s, Loss=0.576]"
     ]
    },
    {
     "name": "stdout",
     "output_type": "stream",
     "text": [
      "✅ Loaded Brats18_2013_28_1: Image torch.Size([3, 224, 224]), Mask torch.Size([224, 224])\n",
      "✅ Loaded Brats18_TCIA13_615_1: Image torch.Size([3, 224, 224]), Mask torch.Size([224, 224])\n"
     ]
    },
    {
     "name": "stderr",
     "output_type": "stream",
     "text": [
      "Epoch [15/15]:  17%|█▋        | 5/30 [00:02<00:10,  2.45it/s, Loss=0.387]"
     ]
    },
    {
     "name": "stdout",
     "output_type": "stream",
     "text": [
      "✅ Loaded Brats18_TCIA10_109_1: Image torch.Size([3, 224, 224]), Mask torch.Size([224, 224])\n",
      "✅ Loaded Brats18_TCIA10_387_1: Image torch.Size([3, 224, 224]), Mask torch.Size([224, 224])\n"
     ]
    },
    {
     "name": "stderr",
     "output_type": "stream",
     "text": [
      "Epoch [15/15]:  20%|██        | 6/30 [00:02<00:09,  2.46it/s, Loss=0.398]"
     ]
    },
    {
     "name": "stdout",
     "output_type": "stream",
     "text": [
      "✅ Loaded Brats18_2013_29_1: Image torch.Size([3, 224, 224]), Mask torch.Size([224, 224])\n",
      "✅ Loaded Brats18_TCIA10_299_1: Image torch.Size([3, 224, 224]), Mask torch.Size([224, 224])\n"
     ]
    },
    {
     "name": "stderr",
     "output_type": "stream",
     "text": [
      "Epoch [15/15]:  23%|██▎       | 7/30 [00:02<00:09,  2.46it/s, Loss=0.571]"
     ]
    },
    {
     "name": "stdout",
     "output_type": "stream",
     "text": [
      "✅ Loaded Brats18_TCIA10_282_1: Image torch.Size([3, 224, 224]), Mask torch.Size([224, 224])\n",
      "✅ Loaded Brats18_TCIA12_480_1: Image torch.Size([3, 224, 224]), Mask torch.Size([224, 224])\n"
     ]
    },
    {
     "name": "stderr",
     "output_type": "stream",
     "text": [
      "Epoch [15/15]:  27%|██▋       | 8/30 [00:03<00:08,  2.48it/s, Loss=0.448]"
     ]
    },
    {
     "name": "stdout",
     "output_type": "stream",
     "text": [
      "✅ Loaded Brats18_TCIA12_249_1: Image torch.Size([3, 224, 224]), Mask torch.Size([224, 224])\n",
      "✅ Loaded Brats18_TCIA10_175_1: Image torch.Size([3, 224, 224]), Mask torch.Size([224, 224])\n"
     ]
    },
    {
     "name": "stderr",
     "output_type": "stream",
     "text": [
      "Epoch [15/15]:  30%|███       | 9/30 [00:03<00:08,  2.49it/s, Loss=0.442]"
     ]
    },
    {
     "name": "stdout",
     "output_type": "stream",
     "text": [
      "✅ Loaded Brats18_TCIA10_310_1: Image torch.Size([3, 224, 224]), Mask torch.Size([224, 224])\n",
      "✅ Loaded Brats18_TCIA09_177_1: Image torch.Size([3, 224, 224]), Mask torch.Size([224, 224])\n"
     ]
    },
    {
     "name": "stderr",
     "output_type": "stream",
     "text": [
      "Epoch [15/15]:  33%|███▎      | 10/30 [00:04<00:08,  2.49it/s, Loss=0.751]"
     ]
    },
    {
     "name": "stdout",
     "output_type": "stream",
     "text": [
      "✅ Loaded Brats18_TCIA10_408_1: Image torch.Size([3, 224, 224]), Mask torch.Size([224, 224])\n",
      "✅ Loaded Brats18_2013_0_1: Image torch.Size([3, 224, 224]), Mask torch.Size([224, 224])\n"
     ]
    },
    {
     "name": "stderr",
     "output_type": "stream",
     "text": [
      "Epoch [15/15]:  37%|███▋      | 11/30 [00:04<00:07,  2.49it/s, Loss=0.297]"
     ]
    },
    {
     "name": "stdout",
     "output_type": "stream",
     "text": [
      "✅ Loaded Brats18_TCIA13_653_1: Image torch.Size([3, 224, 224]), Mask torch.Size([224, 224])\n",
      "✅ Loaded Brats18_TCIA10_420_1: Image torch.Size([3, 224, 224]), Mask torch.Size([224, 224])\n"
     ]
    },
    {
     "name": "stderr",
     "output_type": "stream",
     "text": [
      "Epoch [15/15]:  40%|████      | 12/30 [00:04<00:07,  2.49it/s, Loss=0.609]"
     ]
    },
    {
     "name": "stdout",
     "output_type": "stream",
     "text": [
      "✅ Loaded Brats18_TCIA10_625_1: Image torch.Size([3, 224, 224]), Mask torch.Size([224, 224])\n",
      "✅ Loaded Brats18_TCIA13_633_1: Image torch.Size([3, 224, 224]), Mask torch.Size([224, 224])\n"
     ]
    },
    {
     "name": "stderr",
     "output_type": "stream",
     "text": [
      "Epoch [15/15]:  43%|████▎     | 13/30 [00:05<00:06,  2.48it/s, Loss=0.447]"
     ]
    },
    {
     "name": "stdout",
     "output_type": "stream",
     "text": [
      "✅ Loaded Brats18_TCIA12_470_1: Image torch.Size([3, 224, 224]), Mask torch.Size([224, 224])\n",
      "✅ Loaded Brats18_TCIA10_442_1: Image torch.Size([3, 224, 224]), Mask torch.Size([224, 224])\n"
     ]
    },
    {
     "name": "stderr",
     "output_type": "stream",
     "text": [
      "Epoch [15/15]:  47%|████▋     | 14/30 [00:05<00:06,  2.49it/s, Loss=0.199]"
     ]
    },
    {
     "name": "stdout",
     "output_type": "stream",
     "text": [
      "✅ Loaded Brats18_2013_9_1: Image torch.Size([3, 224, 224]), Mask torch.Size([224, 224])\n",
      "✅ Loaded Brats18_TCIA09_493_1: Image torch.Size([3, 224, 224]), Mask torch.Size([224, 224])\n"
     ]
    },
    {
     "name": "stderr",
     "output_type": "stream",
     "text": [
      "Epoch [15/15]:  50%|█████     | 15/30 [00:06<00:06,  2.48it/s, Loss=0.4]  "
     ]
    },
    {
     "name": "stdout",
     "output_type": "stream",
     "text": [
      "✅ Loaded Brats18_TCIA09_428_1: Image torch.Size([3, 224, 224]), Mask torch.Size([224, 224])\n",
      "✅ Loaded Brats18_TCIA10_241_1: Image torch.Size([3, 224, 224]), Mask torch.Size([224, 224])\n"
     ]
    },
    {
     "name": "stderr",
     "output_type": "stream",
     "text": [
      "Epoch [15/15]:  53%|█████▎    | 16/30 [00:06<00:05,  2.49it/s, Loss=0.233]"
     ]
    },
    {
     "name": "stdout",
     "output_type": "stream",
     "text": [
      "✅ Loaded Brats18_TCIA13_630_1: Image torch.Size([3, 224, 224]), Mask torch.Size([224, 224])\n",
      "✅ Loaded Brats18_TCIA10_103_1: Image torch.Size([3, 224, 224]), Mask torch.Size([224, 224])\n"
     ]
    },
    {
     "name": "stderr",
     "output_type": "stream",
     "text": [
      "Epoch [15/15]:  57%|█████▋    | 17/30 [00:06<00:05,  2.49it/s, Loss=0.37] "
     ]
    },
    {
     "name": "stdout",
     "output_type": "stream",
     "text": [
      "✅ Loaded Brats18_TCIA10_261_1: Image torch.Size([3, 224, 224]), Mask torch.Size([224, 224])\n",
      "✅ Loaded Brats18_TCIA13_654_1: Image torch.Size([3, 224, 224]), Mask torch.Size([224, 224])\n"
     ]
    },
    {
     "name": "stderr",
     "output_type": "stream",
     "text": [
      "Epoch [15/15]:  60%|██████    | 18/30 [00:07<00:04,  2.49it/s, Loss=0.289]"
     ]
    },
    {
     "name": "stdout",
     "output_type": "stream",
     "text": [
      "✅ Loaded Brats18_TCIA13_645_1: Image torch.Size([3, 224, 224]), Mask torch.Size([224, 224])\n",
      "✅ Loaded Brats18_TCIA12_298_1: Image torch.Size([3, 224, 224]), Mask torch.Size([224, 224])\n"
     ]
    },
    {
     "name": "stderr",
     "output_type": "stream",
     "text": [
      "Epoch [15/15]:  63%|██████▎   | 19/30 [00:07<00:04,  2.47it/s, Loss=0.457]"
     ]
    },
    {
     "name": "stdout",
     "output_type": "stream",
     "text": [
      "✅ Loaded Brats18_TCIA10_351_1: Image torch.Size([3, 224, 224]), Mask torch.Size([224, 224])\n",
      "✅ Loaded Brats18_2013_6_1: Image torch.Size([3, 224, 224]), Mask torch.Size([224, 224])\n"
     ]
    },
    {
     "name": "stderr",
     "output_type": "stream",
     "text": [
      "Epoch [15/15]:  67%|██████▋   | 20/30 [00:08<00:04,  2.47it/s, Loss=0.419]"
     ]
    },
    {
     "name": "stdout",
     "output_type": "stream",
     "text": [
      "✅ Loaded Brats18_TCIA10_644_1: Image torch.Size([3, 224, 224]), Mask torch.Size([224, 224])\n",
      "✅ Loaded Brats18_TCIA09_254_1: Image torch.Size([3, 224, 224]), Mask torch.Size([224, 224])\n"
     ]
    },
    {
     "name": "stderr",
     "output_type": "stream",
     "text": [
      "Epoch [15/15]:  70%|███████   | 21/30 [00:08<00:03,  2.42it/s, Loss=0.419]"
     ]
    },
    {
     "name": "stdout",
     "output_type": "stream",
     "text": [
      "✅ Loaded Brats18_TCIA10_628_1: Image torch.Size([3, 224, 224]), Mask torch.Size([224, 224])\n",
      "✅ Loaded Brats18_TCIA10_346_1: Image torch.Size([3, 224, 224]), Mask torch.Size([224, 224])\n"
     ]
    },
    {
     "name": "stderr",
     "output_type": "stream",
     "text": [
      "Epoch [15/15]:  73%|███████▎  | 22/30 [00:08<00:03,  2.48it/s, Loss=0.38] "
     ]
    },
    {
     "name": "stdout",
     "output_type": "stream",
     "text": [
      "✅ Loaded Brats18_TCIA13_650_1: Image torch.Size([3, 224, 224]), Mask torch.Size([224, 224])\n",
      "✅ Loaded Brats18_TCIA12_101_1: Image torch.Size([3, 224, 224]), Mask torch.Size([224, 224])\n"
     ]
    },
    {
     "name": "stderr",
     "output_type": "stream",
     "text": [
      "Epoch [15/15]:  77%|███████▋  | 23/30 [00:09<00:02,  2.48it/s, Loss=0.487]"
     ]
    },
    {
     "name": "stdout",
     "output_type": "stream",
     "text": [
      "✅ Loaded Brats18_TCIA10_325_1: Image torch.Size([3, 224, 224]), Mask torch.Size([224, 224])\n",
      "✅ Loaded Brats18_TCIA10_276_1: Image torch.Size([3, 224, 224]), Mask torch.Size([224, 224])\n"
     ]
    },
    {
     "name": "stderr",
     "output_type": "stream",
     "text": [
      "Epoch [15/15]:  80%|████████  | 24/30 [00:09<00:02,  2.48it/s, Loss=0.489]"
     ]
    },
    {
     "name": "stdout",
     "output_type": "stream",
     "text": [
      "✅ Loaded Brats18_TCIA13_624_1: Image torch.Size([3, 224, 224]), Mask torch.Size([224, 224])\n",
      "✅ Loaded Brats18_TCIA10_393_1: Image torch.Size([3, 224, 224]), Mask torch.Size([224, 224])\n"
     ]
    },
    {
     "name": "stderr",
     "output_type": "stream",
     "text": [
      "Epoch [15/15]:  83%|████████▎ | 25/30 [00:10<00:02,  2.47it/s, Loss=0.178]"
     ]
    },
    {
     "name": "stdout",
     "output_type": "stream",
     "text": [
      "✅ Loaded Brats18_TCIA12_466_1: Image torch.Size([3, 224, 224]), Mask torch.Size([224, 224])\n",
      "✅ Loaded Brats18_TCIA13_623_1: Image torch.Size([3, 224, 224]), Mask torch.Size([224, 224])\n"
     ]
    },
    {
     "name": "stderr",
     "output_type": "stream",
     "text": [
      "Epoch [15/15]:  87%|████████▋ | 26/30 [00:10<00:01,  2.45it/s, Loss=0.31] "
     ]
    },
    {
     "name": "stdout",
     "output_type": "stream",
     "text": [
      "✅ Loaded Brats18_2013_8_1: Image torch.Size([3, 224, 224]), Mask torch.Size([224, 224])\n",
      "✅ Loaded Brats18_TCIA10_130_1: Image torch.Size([3, 224, 224]), Mask torch.Size([224, 224])\n"
     ]
    },
    {
     "name": "stderr",
     "output_type": "stream",
     "text": [
      "Epoch [15/15]:  90%|█████████ | 27/30 [00:10<00:01,  2.46it/s, Loss=0.422]"
     ]
    },
    {
     "name": "stdout",
     "output_type": "stream",
     "text": [
      "✅ Loaded Brats18_TCIA10_202_1: Image torch.Size([3, 224, 224]), Mask torch.Size([224, 224])\n",
      "✅ Loaded Brats18_TCIA10_629_1: Image torch.Size([3, 224, 224]), Mask torch.Size([224, 224])\n"
     ]
    },
    {
     "name": "stderr",
     "output_type": "stream",
     "text": [
      "Epoch [15/15]:  93%|█████████▎| 28/30 [00:11<00:00,  2.50it/s, Loss=0.284]"
     ]
    },
    {
     "name": "stdout",
     "output_type": "stream",
     "text": [
      "✅ Loaded Brats18_TCIA10_449_1: Image torch.Size([3, 224, 224]), Mask torch.Size([224, 224])\n",
      "✅ Loaded Brats18_TCIA10_307_1: Image torch.Size([3, 224, 224]), Mask torch.Size([224, 224])\n"
     ]
    },
    {
     "name": "stderr",
     "output_type": "stream",
     "text": [
      "Epoch [15/15]:  97%|█████████▋| 29/30 [00:11<00:00,  2.49it/s, Loss=0.56] "
     ]
    },
    {
     "name": "stdout",
     "output_type": "stream",
     "text": [
      "✅ Loaded Brats18_TCIA10_266_1: Image torch.Size([3, 224, 224]), Mask torch.Size([224, 224])\n",
      "✅ Loaded Brats18_2013_15_1: Image torch.Size([3, 224, 224]), Mask torch.Size([224, 224])\n"
     ]
    },
    {
     "name": "stderr",
     "output_type": "stream",
     "text": [
      "                                                                          "
     ]
    },
    {
     "name": "stdout",
     "output_type": "stream",
     "text": [
      "\n",
      "✅ Epoch 15: Train Loss: 0.4147\n",
      "💾 Saved model at epoch 15 with train loss 0.4147\n",
      "🏁 Training complete.\n"
     ]
    },
    {
     "name": "stderr",
     "output_type": "stream",
     "text": [
      "\r"
     ]
    }
   ],
   "source": [
    "optimizer = torch.optim.Adam(model.parameters(), lr=1e-4)\n",
    "train_model_smp(\n",
    "    model=model,\n",
    "    train_loader=train_loader,\n",
    "    optimizer=optimizer,\n",
    "    loss_fn=combined_loss,  # your defined function\n",
    "    device=device,\n",
    "    epochs=15,\n",
    "    patience=3,\n",
    "    save_path=\"preTrained_unet_resnet34_2018_hgg.pth\"\n",
    ")\n"
   ]
  },
  {
   "cell_type": "code",
   "execution_count": null,
   "id": "5325f853",
   "metadata": {},
   "outputs": [],
   "source": []
  }
 ],
 "metadata": {
  "kernelspec": {
   "display_name": ".venv",
   "language": "python",
   "name": "python3"
  },
  "language_info": {
   "codemirror_mode": {
    "name": "ipython",
    "version": 3
   },
   "file_extension": ".py",
   "mimetype": "text/x-python",
   "name": "python",
   "nbconvert_exporter": "python",
   "pygments_lexer": "ipython3",
   "version": "3.9.13"
  }
 },
 "nbformat": 4,
 "nbformat_minor": 5
}
