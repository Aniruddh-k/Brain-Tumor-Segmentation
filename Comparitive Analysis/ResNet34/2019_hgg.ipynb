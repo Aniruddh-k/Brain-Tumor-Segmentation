{
 "cells": [
  {
   "cell_type": "code",
   "execution_count": 1,
   "id": "9b5940e4",
   "metadata": {},
   "outputs": [
    {
     "name": "stdout",
     "output_type": "stream",
     "text": [
      "🔍 Checking Dataset Path...\n",
      "['BraTS19_2013_10_1', 'BraTS19_2013_11_1', 'BraTS19_2013_12_1', 'BraTS19_2013_13_1', 'BraTS19_2013_14_1']\n"
     ]
    }
   ],
   "source": [
    "import os\n",
    "\n",
    "DATASET_PATH = r\"C:\\Users\\Dell\\.cache\\kagglehub\\datasets\\aryashah2k\\brain-tumor-segmentation-brats-2019\\versions\\1\\MICCAI_BraTS_2019_Data_Training\\HGG\"\n",
    "\n",
    "\n",
    "print(\"🔍 Checking Dataset Path...\")\n",
    "print(os.listdir(DATASET_PATH)[:5])"
   ]
  },
  {
   "cell_type": "code",
   "execution_count": 2,
   "id": "f85d6924",
   "metadata": {},
   "outputs": [],
   "source": [
    "from torch.utils.data import Dataset\n",
    "import os, glob\n",
    "import torch\n",
    "import numpy as np\n",
    "import nibabel as nib\n",
    "import torch.nn.functional as F\n",
    "from torchvision import transforms\n",
    "\n",
    "class BraTSDataset(Dataset):\n",
    "    def __init__(self, dataset_path):\n",
    "        self.dataset_path = dataset_path\n",
    "        self.modalities = [\"flair\", \"t1\", \"t1ce\", \"t2\"]\n",
    "        self.patients = []\n",
    "\n",
    "        # Pretrained model normalization (ImageNet)\n",
    "        self.img_transform = transforms.Normalize(\n",
    "            mean=[0.485, 0.456, 0.406],\n",
    "            std=[0.229, 0.224, 0.225]\n",
    "        )\n",
    "\n",
    "        all_patients = sorted(os.listdir(dataset_path))\n",
    "        for patient in all_patients:\n",
    "            patient_path = os.path.join(dataset_path, patient)\n",
    "            try:\n",
    "                _ = [self.load_nii(patient_path, mod) for mod in self.modalities]\n",
    "                _ = self.load_nii(patient_path, \"seg\")\n",
    "                self.patients.append(patient)\n",
    "            except:\n",
    "                print(f\"⚠️ Skipping {patient} in init due to missing files\")\n",
    "\n",
    "    def __len__(self):\n",
    "        return len(self.patients)\n",
    "\n",
    "    def load_nii(self, patient_folder, modality):\n",
    "        possible_files = glob.glob(os.path.join(patient_folder, f\"*{modality}*.nii*\"))\n",
    "        if not possible_files and modality == \"t1\":\n",
    "            possible_files = glob.glob(os.path.join(patient_folder, f\"*ROI*{modality}*.nii*\"))\n",
    "        if not possible_files:\n",
    "            raise FileNotFoundError(f\"❌ No file found for modality '{modality}' in {patient_folder}\")\n",
    "        possible_files.sort(key=lambda x: x.endswith(\".gz\"), reverse=True)\n",
    "        file_path = possible_files[0]\n",
    "        return nib.load(file_path).get_fdata()\n",
    "\n",
    "    def __getitem__(self, idx):\n",
    "        patient = self.patients[idx]\n",
    "        patient_path = os.path.join(self.dataset_path, patient)\n",
    "\n",
    "        try:\n",
    "            # Only load the first 3 modalities (flair, t1, t2)\n",
    "            images = [self.load_nii(patient_path, mod) for mod in self.modalities[:3]]  # [3, 240, 240, 155]\n",
    "            images = np.stack(images, axis=0)  # [3, 240, 240, 155]\n",
    "\n",
    "            mask = self.load_nii(patient_path, \"seg\")  # [240, 240, 155]\n",
    "            slice_idx = mask.shape[-1] // 2\n",
    "\n",
    "            # Select the slice and create a 3-channel image\n",
    "            image = images[:, :, :, slice_idx]  # [3, 240, 240]\n",
    "            mask = mask[:, :, slice_idx]         # [240, 240]\n",
    "\n",
    "            # Normalize image to [0, 1]\n",
    "            image = image.astype(np.float32)\n",
    "            image = (image - image.min()) / (image.max() - image.min() + 1e-8)\n",
    "\n",
    "            # Convert to torch tensor\n",
    "            image_tensor = torch.tensor(image, dtype=torch.float32)  # [3, 240, 240]\n",
    "            mask_tensor = torch.tensor(mask, dtype=torch.long)       # [240, 240]\n",
    "\n",
    "            # Resize both to 224x224\n",
    "            image_tensor = F.interpolate(image_tensor.unsqueeze(0), size=(224, 224), mode=\"bilinear\", align_corners=False).squeeze(0)\n",
    "            mask_tensor = mask_tensor.unsqueeze(0).unsqueeze(0).float()\n",
    "            mask_tensor = F.interpolate(mask_tensor, size=(224, 224), mode=\"nearest\").squeeze(0).squeeze(0).long()\n",
    "\n",
    "            # Apply normalization for pretrained model\n",
    "            image_tensor = self.img_transform(image_tensor)\n",
    "\n",
    "            print(f\"✅ Loaded {patient}: Image {image_tensor.shape}, Mask {mask_tensor.shape}\")\n",
    "            return image_tensor, mask_tensor\n",
    "\n",
    "        except FileNotFoundError as e:\n",
    "            print(f\"⚠️ Skipping {patient} due to missing files: {e}\")\n",
    "            return None\n",
    "\n",
    "\n",
    "# ➕ Custom collate_fn to skip Nones in batches\n",
    "def skip_none_collate(batch):\n",
    "    batch = [b for b in batch if b is not None]\n",
    "    if len(batch) == 0:\n",
    "        return torch.empty(0), torch.empty(0, dtype=torch.long)\n",
    "    return torch.utils.data.dataloader.default_collate(batch)\n"
   ]
  },
  {
   "cell_type": "code",
   "execution_count": 3,
   "id": "74d800b6",
   "metadata": {},
   "outputs": [],
   "source": [
    "from torch.utils.data import Dataset, DataLoader"
   ]
  },
  {
   "cell_type": "code",
   "execution_count": 4,
   "id": "f0cbecda",
   "metadata": {},
   "outputs": [
    {
     "name": "stdout",
     "output_type": "stream",
     "text": [
      "✅ Loaded BraTS19_2013_10_1: Image torch.Size([3, 224, 224]), Mask torch.Size([224, 224])\n",
      "✅ Loaded BraTS19_2013_11_1: Image torch.Size([3, 224, 224]), Mask torch.Size([224, 224])\n",
      "✅ Loaded BraTS19_2013_12_1: Image torch.Size([3, 224, 224]), Mask torch.Size([224, 224])\n",
      "✅ Loaded BraTS19_2013_13_1: Image torch.Size([3, 224, 224]), Mask torch.Size([224, 224])\n",
      "✅ Loaded BraTS19_2013_14_1: Image torch.Size([3, 224, 224]), Mask torch.Size([224, 224])\n",
      "✅ Loaded BraTS19_2013_17_1: Image torch.Size([3, 224, 224]), Mask torch.Size([224, 224])\n",
      "✅ Loaded BraTS19_2013_18_1: Image torch.Size([3, 224, 224]), Mask torch.Size([224, 224])\n",
      "✅ Loaded BraTS19_2013_19_1: Image torch.Size([3, 224, 224]), Mask torch.Size([224, 224])\n",
      "✅ Loaded BraTS19_2013_20_1: Image torch.Size([3, 224, 224]), Mask torch.Size([224, 224])\n",
      "✅ Loaded BraTS19_2013_21_1: Image torch.Size([3, 224, 224]), Mask torch.Size([224, 224])\n",
      "✅ Loaded BraTS19_2013_22_1: Image torch.Size([3, 224, 224]), Mask torch.Size([224, 224])\n",
      "✅ Loaded BraTS19_2013_23_1: Image torch.Size([3, 224, 224]), Mask torch.Size([224, 224])\n",
      "✅ Loaded BraTS19_2013_25_1: Image torch.Size([3, 224, 224]), Mask torch.Size([224, 224])\n",
      "✅ Loaded BraTS19_2013_26_1: Image torch.Size([3, 224, 224]), Mask torch.Size([224, 224])\n",
      "✅ Loaded BraTS19_2013_27_1: Image torch.Size([3, 224, 224]), Mask torch.Size([224, 224])\n",
      "✅ Loaded BraTS19_2013_2_1: Image torch.Size([3, 224, 224]), Mask torch.Size([224, 224])\n",
      "✅ Loaded BraTS19_2013_3_1: Image torch.Size([3, 224, 224]), Mask torch.Size([224, 224])\n",
      "✅ Loaded BraTS19_2013_4_1: Image torch.Size([3, 224, 224]), Mask torch.Size([224, 224])\n",
      "✅ Loaded BraTS19_2013_5_1: Image torch.Size([3, 224, 224]), Mask torch.Size([224, 224])\n",
      "✅ Loaded BraTS19_2013_7_1: Image torch.Size([3, 224, 224]), Mask torch.Size([224, 224])\n",
      "✅ Loaded BraTS19_CBICA_AAB_1: Image torch.Size([3, 224, 224]), Mask torch.Size([224, 224])\n",
      "✅ Loaded BraTS19_CBICA_AAG_1: Image torch.Size([3, 224, 224]), Mask torch.Size([224, 224])\n",
      "✅ Loaded BraTS19_CBICA_AAL_1: Image torch.Size([3, 224, 224]), Mask torch.Size([224, 224])\n",
      "✅ Loaded BraTS19_CBICA_AAP_1: Image torch.Size([3, 224, 224]), Mask torch.Size([224, 224])\n",
      "✅ Loaded BraTS19_CBICA_ABB_1: Image torch.Size([3, 224, 224]), Mask torch.Size([224, 224])\n",
      "✅ Loaded BraTS19_CBICA_ABE_1: Image torch.Size([3, 224, 224]), Mask torch.Size([224, 224])\n",
      "✅ Loaded BraTS19_CBICA_ABM_1: Image torch.Size([3, 224, 224]), Mask torch.Size([224, 224])\n",
      "✅ Loaded BraTS19_CBICA_ABN_1: Image torch.Size([3, 224, 224]), Mask torch.Size([224, 224])\n",
      "✅ Loaded BraTS19_CBICA_ABO_1: Image torch.Size([3, 224, 224]), Mask torch.Size([224, 224])\n",
      "✅ Loaded BraTS19_CBICA_ABY_1: Image torch.Size([3, 224, 224]), Mask torch.Size([224, 224])\n",
      "✅ Loaded BraTS19_CBICA_ALN_1: Image torch.Size([3, 224, 224]), Mask torch.Size([224, 224])\n",
      "✅ Loaded BraTS19_CBICA_ALU_1: Image torch.Size([3, 224, 224]), Mask torch.Size([224, 224])\n",
      "✅ Loaded BraTS19_CBICA_ALX_1: Image torch.Size([3, 224, 224]), Mask torch.Size([224, 224])\n",
      "✅ Loaded BraTS19_CBICA_AME_1: Image torch.Size([3, 224, 224]), Mask torch.Size([224, 224])\n",
      "✅ Loaded BraTS19_CBICA_AMH_1: Image torch.Size([3, 224, 224]), Mask torch.Size([224, 224])\n",
      "✅ Loaded BraTS19_CBICA_ANG_1: Image torch.Size([3, 224, 224]), Mask torch.Size([224, 224])\n",
      "✅ Loaded BraTS19_CBICA_ANI_1: Image torch.Size([3, 224, 224]), Mask torch.Size([224, 224])\n",
      "✅ Loaded BraTS19_CBICA_ANP_1: Image torch.Size([3, 224, 224]), Mask torch.Size([224, 224])\n",
      "✅ Loaded BraTS19_CBICA_ANV_1: Image torch.Size([3, 224, 224]), Mask torch.Size([224, 224])\n",
      "✅ Loaded BraTS19_CBICA_ANZ_1: Image torch.Size([3, 224, 224]), Mask torch.Size([224, 224])\n",
      "✅ Loaded BraTS19_CBICA_AOC_1: Image torch.Size([3, 224, 224]), Mask torch.Size([224, 224])\n",
      "✅ Loaded BraTS19_CBICA_AOD_1: Image torch.Size([3, 224, 224]), Mask torch.Size([224, 224])\n",
      "✅ Loaded BraTS19_CBICA_AOH_1: Image torch.Size([3, 224, 224]), Mask torch.Size([224, 224])\n",
      "✅ Loaded BraTS19_CBICA_AOO_1: Image torch.Size([3, 224, 224]), Mask torch.Size([224, 224])\n",
      "✅ Loaded BraTS19_CBICA_AOP_1: Image torch.Size([3, 224, 224]), Mask torch.Size([224, 224])\n",
      "✅ Loaded BraTS19_CBICA_AOS_1: Image torch.Size([3, 224, 224]), Mask torch.Size([224, 224])\n",
      "✅ Loaded BraTS19_CBICA_AOZ_1: Image torch.Size([3, 224, 224]), Mask torch.Size([224, 224])\n",
      "✅ Loaded BraTS19_CBICA_APK_1: Image torch.Size([3, 224, 224]), Mask torch.Size([224, 224])\n",
      "✅ Loaded BraTS19_CBICA_APR_1: Image torch.Size([3, 224, 224]), Mask torch.Size([224, 224])\n",
      "✅ Loaded BraTS19_CBICA_APY_1: Image torch.Size([3, 224, 224]), Mask torch.Size([224, 224])\n",
      "✅ Loaded BraTS19_CBICA_APZ_1: Image torch.Size([3, 224, 224]), Mask torch.Size([224, 224])\n",
      "✅ Loaded BraTS19_CBICA_AQA_1: Image torch.Size([3, 224, 224]), Mask torch.Size([224, 224])\n",
      "✅ Loaded BraTS19_CBICA_AQD_1: Image torch.Size([3, 224, 224]), Mask torch.Size([224, 224])\n",
      "✅ Loaded BraTS19_CBICA_AQG_1: Image torch.Size([3, 224, 224]), Mask torch.Size([224, 224])\n",
      "✅ Loaded BraTS19_CBICA_AQJ_1: Image torch.Size([3, 224, 224]), Mask torch.Size([224, 224])\n",
      "✅ Loaded BraTS19_CBICA_AQN_1: Image torch.Size([3, 224, 224]), Mask torch.Size([224, 224])\n",
      "✅ Loaded BraTS19_CBICA_AQO_1: Image torch.Size([3, 224, 224]), Mask torch.Size([224, 224])\n",
      "✅ Loaded BraTS19_CBICA_AQP_1: Image torch.Size([3, 224, 224]), Mask torch.Size([224, 224])\n",
      "✅ Loaded BraTS19_CBICA_AQQ_1: Image torch.Size([3, 224, 224]), Mask torch.Size([224, 224])\n",
      "✅ Loaded BraTS19_CBICA_AQR_1: Image torch.Size([3, 224, 224]), Mask torch.Size([224, 224])\n",
      "✅ Loaded BraTS19_CBICA_AQT_1: Image torch.Size([3, 224, 224]), Mask torch.Size([224, 224])\n",
      "✅ Loaded BraTS19_CBICA_AQU_1: Image torch.Size([3, 224, 224]), Mask torch.Size([224, 224])\n",
      "✅ Loaded BraTS19_CBICA_AQV_1: Image torch.Size([3, 224, 224]), Mask torch.Size([224, 224])\n",
      "✅ Loaded BraTS19_CBICA_AQY_1: Image torch.Size([3, 224, 224]), Mask torch.Size([224, 224])\n",
      "✅ Loaded BraTS19_CBICA_AQZ_1: Image torch.Size([3, 224, 224]), Mask torch.Size([224, 224])\n",
      "✅ Loaded BraTS19_CBICA_ARF_1: Image torch.Size([3, 224, 224]), Mask torch.Size([224, 224])\n",
      "✅ Loaded BraTS19_CBICA_ARW_1: Image torch.Size([3, 224, 224]), Mask torch.Size([224, 224])\n",
      "✅ Loaded BraTS19_CBICA_ARZ_1: Image torch.Size([3, 224, 224]), Mask torch.Size([224, 224])\n",
      "✅ Loaded BraTS19_CBICA_ASA_1: Image torch.Size([3, 224, 224]), Mask torch.Size([224, 224])\n",
      "✅ Loaded BraTS19_CBICA_ASE_1: Image torch.Size([3, 224, 224]), Mask torch.Size([224, 224])\n",
      "✅ Loaded BraTS19_CBICA_ASF_1: Image torch.Size([3, 224, 224]), Mask torch.Size([224, 224])\n",
      "✅ Loaded BraTS19_CBICA_ASG_1: Image torch.Size([3, 224, 224]), Mask torch.Size([224, 224])\n",
      "✅ Loaded BraTS19_CBICA_ASH_1: Image torch.Size([3, 224, 224]), Mask torch.Size([224, 224])\n",
      "✅ Loaded BraTS19_CBICA_ASK_1: Image torch.Size([3, 224, 224]), Mask torch.Size([224, 224])\n",
      "✅ Loaded BraTS19_CBICA_ASN_1: Image torch.Size([3, 224, 224]), Mask torch.Size([224, 224])\n",
      "✅ Loaded BraTS19_CBICA_ASO_1: Image torch.Size([3, 224, 224]), Mask torch.Size([224, 224])\n",
      "✅ Loaded BraTS19_CBICA_ASR_1: Image torch.Size([3, 224, 224]), Mask torch.Size([224, 224])\n",
      "✅ Loaded BraTS19_CBICA_ASU_1: Image torch.Size([3, 224, 224]), Mask torch.Size([224, 224])\n",
      "✅ Loaded BraTS19_CBICA_ASV_1: Image torch.Size([3, 224, 224]), Mask torch.Size([224, 224])\n",
      "✅ Loaded BraTS19_CBICA_ASW_1: Image torch.Size([3, 224, 224]), Mask torch.Size([224, 224])\n",
      "✅ Loaded BraTS19_CBICA_ASY_1: Image torch.Size([3, 224, 224]), Mask torch.Size([224, 224])\n",
      "✅ Loaded BraTS19_CBICA_ATB_1: Image torch.Size([3, 224, 224]), Mask torch.Size([224, 224])\n",
      "✅ Loaded BraTS19_CBICA_ATD_1: Image torch.Size([3, 224, 224]), Mask torch.Size([224, 224])\n",
      "✅ Loaded BraTS19_CBICA_ATF_1: Image torch.Size([3, 224, 224]), Mask torch.Size([224, 224])\n",
      "✅ Loaded BraTS19_CBICA_ATN_1: Image torch.Size([3, 224, 224]), Mask torch.Size([224, 224])\n",
      "✅ Loaded BraTS19_CBICA_ATP_1: Image torch.Size([3, 224, 224]), Mask torch.Size([224, 224])\n",
      "✅ Loaded BraTS19_CBICA_ATV_1: Image torch.Size([3, 224, 224]), Mask torch.Size([224, 224])\n",
      "✅ Loaded BraTS19_CBICA_ATX_1: Image torch.Size([3, 224, 224]), Mask torch.Size([224, 224])\n",
      "✅ Loaded BraTS19_CBICA_AUA_1: Image torch.Size([3, 224, 224]), Mask torch.Size([224, 224])\n",
      "✅ Loaded BraTS19_CBICA_AUN_1: Image torch.Size([3, 224, 224]), Mask torch.Size([224, 224])\n",
      "✅ Loaded BraTS19_CBICA_AUQ_1: Image torch.Size([3, 224, 224]), Mask torch.Size([224, 224])\n",
      "✅ Loaded BraTS19_CBICA_AUR_1: Image torch.Size([3, 224, 224]), Mask torch.Size([224, 224])\n",
      "✅ Loaded BraTS19_CBICA_AUW_1: Image torch.Size([3, 224, 224]), Mask torch.Size([224, 224])\n",
      "✅ Loaded BraTS19_CBICA_AUX_1: Image torch.Size([3, 224, 224]), Mask torch.Size([224, 224])\n",
      "✅ Loaded BraTS19_CBICA_AVB_1: Image torch.Size([3, 224, 224]), Mask torch.Size([224, 224])\n",
      "✅ Loaded BraTS19_CBICA_AVF_1: Image torch.Size([3, 224, 224]), Mask torch.Size([224, 224])\n",
      "✅ Loaded BraTS19_CBICA_AVG_1: Image torch.Size([3, 224, 224]), Mask torch.Size([224, 224])\n",
      "✅ Loaded BraTS19_CBICA_AVJ_1: Image torch.Size([3, 224, 224]), Mask torch.Size([224, 224])\n",
      "✅ Loaded BraTS19_CBICA_AVT_1: Image torch.Size([3, 224, 224]), Mask torch.Size([224, 224])\n",
      "✅ Loaded BraTS19_CBICA_AVV_1: Image torch.Size([3, 224, 224]), Mask torch.Size([224, 224])\n",
      "✅ Loaded BraTS19_CBICA_AWG_1: Image torch.Size([3, 224, 224]), Mask torch.Size([224, 224])\n",
      "✅ Loaded BraTS19_CBICA_AWH_1: Image torch.Size([3, 224, 224]), Mask torch.Size([224, 224])\n",
      "✅ Loaded BraTS19_CBICA_AWI_1: Image torch.Size([3, 224, 224]), Mask torch.Size([224, 224])\n",
      "✅ Loaded BraTS19_CBICA_AWV_1: Image torch.Size([3, 224, 224]), Mask torch.Size([224, 224])\n",
      "✅ Loaded BraTS19_CBICA_AWX_1: Image torch.Size([3, 224, 224]), Mask torch.Size([224, 224])\n",
      "✅ Loaded BraTS19_CBICA_AXJ_1: Image torch.Size([3, 224, 224]), Mask torch.Size([224, 224])\n",
      "✅ Loaded BraTS19_CBICA_AXL_1: Image torch.Size([3, 224, 224]), Mask torch.Size([224, 224])\n",
      "✅ Loaded BraTS19_CBICA_AXM_1: Image torch.Size([3, 224, 224]), Mask torch.Size([224, 224])\n",
      "✅ Loaded BraTS19_CBICA_AXN_1: Image torch.Size([3, 224, 224]), Mask torch.Size([224, 224])\n",
      "✅ Loaded BraTS19_CBICA_AXO_1: Image torch.Size([3, 224, 224]), Mask torch.Size([224, 224])\n",
      "✅ Loaded BraTS19_CBICA_AXQ_1: Image torch.Size([3, 224, 224]), Mask torch.Size([224, 224])\n",
      "✅ Loaded BraTS19_CBICA_AXW_1: Image torch.Size([3, 224, 224]), Mask torch.Size([224, 224])\n",
      "✅ Loaded BraTS19_CBICA_AYA_1: Image torch.Size([3, 224, 224]), Mask torch.Size([224, 224])\n",
      "✅ Loaded BraTS19_CBICA_AYC_1: Image torch.Size([3, 224, 224]), Mask torch.Size([224, 224])\n",
      "✅ Loaded BraTS19_CBICA_AYG_1: Image torch.Size([3, 224, 224]), Mask torch.Size([224, 224])\n",
      "✅ Loaded BraTS19_CBICA_AYI_1: Image torch.Size([3, 224, 224]), Mask torch.Size([224, 224])\n",
      "✅ Loaded BraTS19_CBICA_AYU_1: Image torch.Size([3, 224, 224]), Mask torch.Size([224, 224])\n",
      "✅ Loaded BraTS19_CBICA_AYW_1: Image torch.Size([3, 224, 224]), Mask torch.Size([224, 224])\n",
      "✅ Loaded BraTS19_CBICA_AZD_1: Image torch.Size([3, 224, 224]), Mask torch.Size([224, 224])\n",
      "✅ Loaded BraTS19_CBICA_AZH_1: Image torch.Size([3, 224, 224]), Mask torch.Size([224, 224])\n",
      "✅ Loaded BraTS19_CBICA_BAN_1: Image torch.Size([3, 224, 224]), Mask torch.Size([224, 224])\n",
      "✅ Loaded BraTS19_CBICA_BAP_1: Image torch.Size([3, 224, 224]), Mask torch.Size([224, 224])\n",
      "✅ Loaded BraTS19_CBICA_BAX_1: Image torch.Size([3, 224, 224]), Mask torch.Size([224, 224])\n",
      "✅ Loaded BraTS19_CBICA_BBG_1: Image torch.Size([3, 224, 224]), Mask torch.Size([224, 224])\n",
      "✅ Loaded BraTS19_CBICA_BCF_1: Image torch.Size([3, 224, 224]), Mask torch.Size([224, 224])\n",
      "✅ Loaded BraTS19_CBICA_BCL_1: Image torch.Size([3, 224, 224]), Mask torch.Size([224, 224])\n",
      "✅ Loaded BraTS19_CBICA_BDK_1: Image torch.Size([3, 224, 224]), Mask torch.Size([224, 224])\n",
      "✅ Loaded BraTS19_CBICA_BEM_1: Image torch.Size([3, 224, 224]), Mask torch.Size([224, 224])\n",
      "✅ Loaded BraTS19_CBICA_BFB_1: Image torch.Size([3, 224, 224]), Mask torch.Size([224, 224])\n",
      "✅ Loaded BraTS19_CBICA_BFP_1: Image torch.Size([3, 224, 224]), Mask torch.Size([224, 224])\n",
      "✅ Loaded BraTS19_CBICA_BGE_1: Image torch.Size([3, 224, 224]), Mask torch.Size([224, 224])\n",
      "✅ Loaded BraTS19_CBICA_BGG_1: Image torch.Size([3, 224, 224]), Mask torch.Size([224, 224])\n",
      "✅ Loaded BraTS19_CBICA_BGN_1: Image torch.Size([3, 224, 224]), Mask torch.Size([224, 224])\n",
      "✅ Loaded BraTS19_CBICA_BGO_1: Image torch.Size([3, 224, 224]), Mask torch.Size([224, 224])\n",
      "✅ Loaded BraTS19_CBICA_BGR_1: Image torch.Size([3, 224, 224]), Mask torch.Size([224, 224])\n",
      "✅ Loaded BraTS19_CBICA_BGT_1: Image torch.Size([3, 224, 224]), Mask torch.Size([224, 224])\n",
      "✅ Loaded BraTS19_CBICA_BGW_1: Image torch.Size([3, 224, 224]), Mask torch.Size([224, 224])\n",
      "✅ Loaded BraTS19_CBICA_BGX_1: Image torch.Size([3, 224, 224]), Mask torch.Size([224, 224])\n",
      "✅ Loaded BraTS19_CBICA_BHB_1: Image torch.Size([3, 224, 224]), Mask torch.Size([224, 224])\n",
      "✅ Loaded BraTS19_CBICA_BHK_1: Image torch.Size([3, 224, 224]), Mask torch.Size([224, 224])\n",
      "✅ Loaded BraTS19_CBICA_BHM_1: Image torch.Size([3, 224, 224]), Mask torch.Size([224, 224])\n",
      "✅ Loaded BraTS19_CBICA_BHQ_1: Image torch.Size([3, 224, 224]), Mask torch.Size([224, 224])\n",
      "✅ Loaded BraTS19_CBICA_BHV_1: Image torch.Size([3, 224, 224]), Mask torch.Size([224, 224])\n",
      "✅ Loaded BraTS19_CBICA_BHZ_1: Image torch.Size([3, 224, 224]), Mask torch.Size([224, 224])\n",
      "✅ Loaded BraTS19_CBICA_BIC_1: Image torch.Size([3, 224, 224]), Mask torch.Size([224, 224])\n",
      "✅ Loaded BraTS19_CBICA_BJY_1: Image torch.Size([3, 224, 224]), Mask torch.Size([224, 224])\n",
      "✅ Loaded BraTS19_CBICA_BKV_1: Image torch.Size([3, 224, 224]), Mask torch.Size([224, 224])\n",
      "✅ Loaded BraTS19_CBICA_BLJ_1: Image torch.Size([3, 224, 224]), Mask torch.Size([224, 224])\n",
      "✅ Loaded BraTS19_CBICA_BNR_1: Image torch.Size([3, 224, 224]), Mask torch.Size([224, 224])\n",
      "✅ Loaded BraTS19_TCIA01_131_1: Image torch.Size([3, 224, 224]), Mask torch.Size([224, 224])\n",
      "✅ Loaded BraTS19_TCIA01_147_1: Image torch.Size([3, 224, 224]), Mask torch.Size([224, 224])\n",
      "✅ Loaded BraTS19_TCIA01_150_1: Image torch.Size([3, 224, 224]), Mask torch.Size([224, 224])\n",
      "✅ Loaded BraTS19_TCIA01_180_1: Image torch.Size([3, 224, 224]), Mask torch.Size([224, 224])\n",
      "✅ Loaded BraTS19_TCIA01_186_1: Image torch.Size([3, 224, 224]), Mask torch.Size([224, 224])\n",
      "✅ Loaded BraTS19_TCIA01_190_1: Image torch.Size([3, 224, 224]), Mask torch.Size([224, 224])\n",
      "✅ Loaded BraTS19_TCIA01_201_1: Image torch.Size([3, 224, 224]), Mask torch.Size([224, 224])\n",
      "✅ Loaded BraTS19_TCIA01_203_1: Image torch.Size([3, 224, 224]), Mask torch.Size([224, 224])\n",
      "✅ Loaded BraTS19_TCIA01_221_1: Image torch.Size([3, 224, 224]), Mask torch.Size([224, 224])\n",
      "✅ Loaded BraTS19_TCIA01_231_1: Image torch.Size([3, 224, 224]), Mask torch.Size([224, 224])\n",
      "✅ Loaded BraTS19_TCIA01_235_1: Image torch.Size([3, 224, 224]), Mask torch.Size([224, 224])\n",
      "✅ Loaded BraTS19_TCIA01_335_1: Image torch.Size([3, 224, 224]), Mask torch.Size([224, 224])\n",
      "✅ Loaded BraTS19_TCIA01_378_1: Image torch.Size([3, 224, 224]), Mask torch.Size([224, 224])\n",
      "✅ Loaded BraTS19_TCIA01_390_1: Image torch.Size([3, 224, 224]), Mask torch.Size([224, 224])\n",
      "✅ Loaded BraTS19_TCIA01_401_1: Image torch.Size([3, 224, 224]), Mask torch.Size([224, 224])\n",
      "✅ Loaded BraTS19_TCIA01_411_1: Image torch.Size([3, 224, 224]), Mask torch.Size([224, 224])\n",
      "✅ Loaded BraTS19_TCIA01_412_1: Image torch.Size([3, 224, 224]), Mask torch.Size([224, 224])\n",
      "✅ Loaded BraTS19_TCIA01_425_1: Image torch.Size([3, 224, 224]), Mask torch.Size([224, 224])\n",
      "✅ Loaded BraTS19_TCIA01_429_1: Image torch.Size([3, 224, 224]), Mask torch.Size([224, 224])\n",
      "✅ Loaded BraTS19_TCIA01_448_1: Image torch.Size([3, 224, 224]), Mask torch.Size([224, 224])\n",
      "✅ Loaded BraTS19_TCIA01_460_1: Image torch.Size([3, 224, 224]), Mask torch.Size([224, 224])\n",
      "✅ Loaded BraTS19_TCIA01_499_1: Image torch.Size([3, 224, 224]), Mask torch.Size([224, 224])\n",
      "✅ Loaded BraTS19_TCIA02_117_1: Image torch.Size([3, 224, 224]), Mask torch.Size([224, 224])\n",
      "✅ Loaded BraTS19_TCIA02_118_1: Image torch.Size([3, 224, 224]), Mask torch.Size([224, 224])\n",
      "✅ Loaded BraTS19_TCIA02_135_1: Image torch.Size([3, 224, 224]), Mask torch.Size([224, 224])\n",
      "✅ Loaded BraTS19_TCIA02_151_1: Image torch.Size([3, 224, 224]), Mask torch.Size([224, 224])\n",
      "✅ Loaded BraTS19_TCIA02_168_1: Image torch.Size([3, 224, 224]), Mask torch.Size([224, 224])\n",
      "✅ Loaded BraTS19_TCIA02_171_1: Image torch.Size([3, 224, 224]), Mask torch.Size([224, 224])\n",
      "✅ Loaded BraTS19_TCIA02_179_1: Image torch.Size([3, 224, 224]), Mask torch.Size([224, 224])\n",
      "✅ Loaded BraTS19_TCIA02_198_1: Image torch.Size([3, 224, 224]), Mask torch.Size([224, 224])\n",
      "✅ Loaded BraTS19_TCIA02_208_1: Image torch.Size([3, 224, 224]), Mask torch.Size([224, 224])\n",
      "✅ Loaded BraTS19_TCIA02_222_1: Image torch.Size([3, 224, 224]), Mask torch.Size([224, 224])\n",
      "✅ Loaded BraTS19_TCIA02_226_1: Image torch.Size([3, 224, 224]), Mask torch.Size([224, 224])\n",
      "✅ Loaded BraTS19_TCIA02_274_1: Image torch.Size([3, 224, 224]), Mask torch.Size([224, 224])\n",
      "✅ Loaded BraTS19_TCIA02_283_1: Image torch.Size([3, 224, 224]), Mask torch.Size([224, 224])\n",
      "✅ Loaded BraTS19_TCIA02_290_1: Image torch.Size([3, 224, 224]), Mask torch.Size([224, 224])\n",
      "✅ Loaded BraTS19_TCIA02_300_1: Image torch.Size([3, 224, 224]), Mask torch.Size([224, 224])\n",
      "✅ Loaded BraTS19_TCIA02_309_1: Image torch.Size([3, 224, 224]), Mask torch.Size([224, 224])\n",
      "✅ Loaded BraTS19_TCIA02_314_1: Image torch.Size([3, 224, 224]), Mask torch.Size([224, 224])\n",
      "✅ Loaded BraTS19_TCIA02_321_1: Image torch.Size([3, 224, 224]), Mask torch.Size([224, 224])\n",
      "✅ Loaded BraTS19_TCIA02_322_1: Image torch.Size([3, 224, 224]), Mask torch.Size([224, 224])\n",
      "✅ Loaded BraTS19_TCIA02_331_1: Image torch.Size([3, 224, 224]), Mask torch.Size([224, 224])\n",
      "✅ Loaded BraTS19_TCIA02_368_1: Image torch.Size([3, 224, 224]), Mask torch.Size([224, 224])\n",
      "✅ Loaded BraTS19_TCIA02_370_1: Image torch.Size([3, 224, 224]), Mask torch.Size([224, 224])\n",
      "✅ Loaded BraTS19_TCIA02_374_1: Image torch.Size([3, 224, 224]), Mask torch.Size([224, 224])\n",
      "✅ Loaded BraTS19_TCIA02_377_1: Image torch.Size([3, 224, 224]), Mask torch.Size([224, 224])\n",
      "✅ Loaded BraTS19_TCIA02_394_1: Image torch.Size([3, 224, 224]), Mask torch.Size([224, 224])\n",
      "✅ Loaded BraTS19_TCIA02_430_1: Image torch.Size([3, 224, 224]), Mask torch.Size([224, 224])\n",
      "✅ Loaded BraTS19_TCIA02_455_1: Image torch.Size([3, 224, 224]), Mask torch.Size([224, 224])\n",
      "✅ Loaded BraTS19_TCIA02_471_1: Image torch.Size([3, 224, 224]), Mask torch.Size([224, 224])\n",
      "✅ Loaded BraTS19_TCIA02_473_1: Image torch.Size([3, 224, 224]), Mask torch.Size([224, 224])\n",
      "✅ Loaded BraTS19_TCIA02_491_1: Image torch.Size([3, 224, 224]), Mask torch.Size([224, 224])\n",
      "✅ Loaded BraTS19_TCIA02_605_1: Image torch.Size([3, 224, 224]), Mask torch.Size([224, 224])\n",
      "✅ Loaded BraTS19_TCIA02_606_1: Image torch.Size([3, 224, 224]), Mask torch.Size([224, 224])\n",
      "✅ Loaded BraTS19_TCIA02_607_1: Image torch.Size([3, 224, 224]), Mask torch.Size([224, 224])\n",
      "✅ Loaded BraTS19_TCIA02_608_1: Image torch.Size([3, 224, 224]), Mask torch.Size([224, 224])\n",
      "✅ Loaded BraTS19_TCIA03_121_1: Image torch.Size([3, 224, 224]), Mask torch.Size([224, 224])\n",
      "✅ Loaded BraTS19_TCIA03_133_1: Image torch.Size([3, 224, 224]), Mask torch.Size([224, 224])\n",
      "✅ Loaded BraTS19_TCIA03_138_1: Image torch.Size([3, 224, 224]), Mask torch.Size([224, 224])\n",
      "✅ Loaded BraTS19_TCIA03_199_1: Image torch.Size([3, 224, 224]), Mask torch.Size([224, 224])\n",
      "✅ Loaded BraTS19_TCIA03_257_1: Image torch.Size([3, 224, 224]), Mask torch.Size([224, 224])\n",
      "✅ Loaded BraTS19_TCIA03_265_1: Image torch.Size([3, 224, 224]), Mask torch.Size([224, 224])\n",
      "✅ Loaded BraTS19_TCIA03_296_1: Image torch.Size([3, 224, 224]), Mask torch.Size([224, 224])\n",
      "✅ Loaded BraTS19_TCIA03_338_1: Image torch.Size([3, 224, 224]), Mask torch.Size([224, 224])\n",
      "✅ Loaded BraTS19_TCIA03_375_1: Image torch.Size([3, 224, 224]), Mask torch.Size([224, 224])\n",
      "✅ Loaded BraTS19_TCIA03_419_1: Image torch.Size([3, 224, 224]), Mask torch.Size([224, 224])\n",
      "✅ Loaded BraTS19_TCIA03_474_1: Image torch.Size([3, 224, 224]), Mask torch.Size([224, 224])\n",
      "✅ Loaded BraTS19_TCIA03_498_1: Image torch.Size([3, 224, 224]), Mask torch.Size([224, 224])\n",
      "✅ Loaded BraTS19_TCIA04_111_1: Image torch.Size([3, 224, 224]), Mask torch.Size([224, 224])\n",
      "✅ Loaded BraTS19_TCIA04_149_1: Image torch.Size([3, 224, 224]), Mask torch.Size([224, 224])\n",
      "✅ Loaded BraTS19_TCIA04_192_1: Image torch.Size([3, 224, 224]), Mask torch.Size([224, 224])\n",
      "✅ Loaded BraTS19_TCIA04_328_1: Image torch.Size([3, 224, 224]), Mask torch.Size([224, 224])\n",
      "✅ Loaded BraTS19_TCIA04_343_1: Image torch.Size([3, 224, 224]), Mask torch.Size([224, 224])\n",
      "✅ Loaded BraTS19_TCIA04_361_1: Image torch.Size([3, 224, 224]), Mask torch.Size([224, 224])\n",
      "✅ Loaded BraTS19_TCIA04_437_1: Image torch.Size([3, 224, 224]), Mask torch.Size([224, 224])\n",
      "✅ Loaded BraTS19_TCIA04_479_1: Image torch.Size([3, 224, 224]), Mask torch.Size([224, 224])\n",
      "✅ Loaded BraTS19_TCIA05_277_1: Image torch.Size([3, 224, 224]), Mask torch.Size([224, 224])\n",
      "✅ Loaded BraTS19_TCIA05_396_1: Image torch.Size([3, 224, 224]), Mask torch.Size([224, 224])\n",
      "✅ Loaded BraTS19_TCIA05_444_1: Image torch.Size([3, 224, 224]), Mask torch.Size([224, 224])\n",
      "✅ Loaded BraTS19_TCIA05_478_1: Image torch.Size([3, 224, 224]), Mask torch.Size([224, 224])\n",
      "✅ Loaded BraTS19_TCIA06_165_1: Image torch.Size([3, 224, 224]), Mask torch.Size([224, 224])\n",
      "✅ Loaded BraTS19_TCIA06_184_1: Image torch.Size([3, 224, 224]), Mask torch.Size([224, 224])\n",
      "✅ Loaded BraTS19_TCIA06_211_1: Image torch.Size([3, 224, 224]), Mask torch.Size([224, 224])\n",
      "✅ Loaded BraTS19_TCIA06_247_1: Image torch.Size([3, 224, 224]), Mask torch.Size([224, 224])\n",
      "✅ Loaded BraTS19_TCIA06_332_1: Image torch.Size([3, 224, 224]), Mask torch.Size([224, 224])\n",
      "✅ Loaded BraTS19_TCIA06_372_1: Image torch.Size([3, 224, 224]), Mask torch.Size([224, 224])\n",
      "✅ Loaded BraTS19_TCIA06_409_1: Image torch.Size([3, 224, 224]), Mask torch.Size([224, 224])\n",
      "✅ Loaded BraTS19_TCIA06_603_1: Image torch.Size([3, 224, 224]), Mask torch.Size([224, 224])\n",
      "✅ Loaded BraTS19_TCIA08_105_1: Image torch.Size([3, 224, 224]), Mask torch.Size([224, 224])\n",
      "✅ Loaded BraTS19_TCIA08_113_1: Image torch.Size([3, 224, 224]), Mask torch.Size([224, 224])\n",
      "✅ Loaded BraTS19_TCIA08_162_1: Image torch.Size([3, 224, 224]), Mask torch.Size([224, 224])\n",
      "✅ Loaded BraTS19_TCIA08_167_1: Image torch.Size([3, 224, 224]), Mask torch.Size([224, 224])\n",
      "✅ Loaded BraTS19_TCIA08_205_1: Image torch.Size([3, 224, 224]), Mask torch.Size([224, 224])\n",
      "✅ Loaded BraTS19_TCIA08_218_1: Image torch.Size([3, 224, 224]), Mask torch.Size([224, 224])\n",
      "✅ Loaded BraTS19_TCIA08_234_1: Image torch.Size([3, 224, 224]), Mask torch.Size([224, 224])\n",
      "✅ Loaded BraTS19_TCIA08_242_1: Image torch.Size([3, 224, 224]), Mask torch.Size([224, 224])\n",
      "✅ Loaded BraTS19_TCIA08_278_1: Image torch.Size([3, 224, 224]), Mask torch.Size([224, 224])\n",
      "✅ Loaded BraTS19_TCIA08_280_1: Image torch.Size([3, 224, 224]), Mask torch.Size([224, 224])\n",
      "✅ Loaded BraTS19_TCIA08_319_1: Image torch.Size([3, 224, 224]), Mask torch.Size([224, 224])\n",
      "✅ Loaded BraTS19_TCIA08_406_1: Image torch.Size([3, 224, 224]), Mask torch.Size([224, 224])\n",
      "✅ Loaded BraTS19_TCIA08_436_1: Image torch.Size([3, 224, 224]), Mask torch.Size([224, 224])\n",
      "✅ Loaded BraTS19_TCIA08_469_1: Image torch.Size([3, 224, 224]), Mask torch.Size([224, 224])\n",
      "✅ Loaded BraTS19_TMC_06290_1: Image torch.Size([3, 224, 224]), Mask torch.Size([224, 224])\n",
      "✅ Loaded BraTS19_TMC_06643_1: Image torch.Size([3, 224, 224]), Mask torch.Size([224, 224])\n",
      "✅ Loaded BraTS19_TMC_11964_1: Image torch.Size([3, 224, 224]), Mask torch.Size([224, 224])\n",
      "✅ Loaded BraTS19_TMC_12866_1: Image torch.Size([3, 224, 224]), Mask torch.Size([224, 224])\n",
      "✅ Loaded BraTS19_TMC_15477_1: Image torch.Size([3, 224, 224]), Mask torch.Size([224, 224])\n",
      "✅ Loaded BraTS19_TMC_21360_1: Image torch.Size([3, 224, 224]), Mask torch.Size([224, 224])\n",
      "✅ Loaded BraTS19_TMC_27374_1: Image torch.Size([3, 224, 224]), Mask torch.Size([224, 224])\n",
      "✅ Loaded BraTS19_TMC_30014_1: Image torch.Size([3, 224, 224]), Mask torch.Size([224, 224])\n",
      "✅ Loaded 259 valid patients from BraTS 2019.\n"
     ]
    }
   ],
   "source": [
    "import glob\n",
    "import torch.nn.functional as F\n",
    "\n",
    "# Load Dataset\n",
    "train_dataset = BraTSDataset(DATASET_PATH)\n",
    "\n",
    "valid_samples = [d for d in train_dataset if d is not None]\n",
    "\n",
    "\n",
    "if len(valid_samples) == 0:\n",
    "    raise ValueError(\"❌ No valid samples found. Check dataset paths and file integrity.\")\n",
    "\n",
    "\n",
    "#train_loader = DataLoader(valid_samples, batch_size=2, shuffle=True, num_workers=0)\n",
    "train_loader = DataLoader(valid_samples, batch_size=4, shuffle=True, collate_fn=skip_none_collate, num_workers=0)\n",
    "print(f\"✅ Loaded {len(train_loader.dataset)} valid patients from BraTS 2019.\")"
   ]
  },
  {
   "cell_type": "code",
   "execution_count": 5,
   "id": "ff7aa9cb",
   "metadata": {},
   "outputs": [],
   "source": [
    "device = torch.device('cpu')"
   ]
  },
  {
   "cell_type": "code",
   "execution_count": 6,
   "id": "248bc348",
   "metadata": {},
   "outputs": [
    {
     "name": "stderr",
     "output_type": "stream",
     "text": [
      "c:\\Users\\Dell\\Desktop\\Group_4_sem_6_AIML\\.venv\\lib\\site-packages\\tqdm\\auto.py:21: TqdmWarning: IProgress not found. Please update jupyter and ipywidgets. See https://ipywidgets.readthedocs.io/en/stable/user_install.html\n",
      "  from .autonotebook import tqdm as notebook_tqdm\n"
     ]
    }
   ],
   "source": [
    "import segmentation_models_pytorch as smp\n",
    "\n",
    "model = smp.Unet(\n",
    "    encoder_name=\"resnet34\",        # pretrained encoder\n",
    "    encoder_weights=\"imagenet\",     # use ImageNet pre-trained weights\n",
    "    in_channels=3,                  # we modified dataset to return 3 channels\n",
    "    classes=4,                      \n",
    ")"
   ]
  },
  {
   "cell_type": "code",
   "execution_count": 13,
   "id": "c3e60268",
   "metadata": {},
   "outputs": [
    {
     "name": "stdout",
     "output_type": "stream",
     "text": [
      "✅ Loaded pretrained weights from 2018_HGG dataset\n"
     ]
    }
   ],
   "source": [
    "\n",
    "model.load_state_dict(torch.load(r\"C:\\Users\\Dell\\Desktop\\Group_4_sem_6_AIML\\comparativeAnalysisModel\\UNet + ResNet34\\saved_model\\preTrained_unet_resnet34_2018_hgg.pth\"))\n",
    "print(\"✅ Loaded pretrained weights from 2018_HGG dataset\")"
   ]
  },
  {
   "cell_type": "code",
   "execution_count": 8,
   "id": "66e4765f",
   "metadata": {},
   "outputs": [],
   "source": [
    "import torch.optim as optim\n",
    "import torch\n",
    "import torch.nn as nn\n",
    "import torch.nn.functional as F\n",
    "\n",
    "# Soft Dice Loss\n",
    "class SoftDiceLoss(nn.Module):\n",
    "    def __init__(self, smooth=1e-6):\n",
    "        super(SoftDiceLoss, self).__init__()\n",
    "        self.smooth = smooth\n",
    "\n",
    "    def forward(self, pred, target):\n",
    "        pred = torch.softmax(pred, dim=1)  # Apply softmax to logits\n",
    "        target_one_hot = F.one_hot(target, num_classes=pred.shape[1])  # [B, H, W, C]\n",
    "        target_one_hot = target_one_hot.permute(0, 3, 1, 2).float()     # [B, C, H, W]\n",
    "\n",
    "        dims = (0, 2, 3)  # Batch, Height, Width\n",
    "        intersection = (pred * target_one_hot).sum(dim=dims)\n",
    "        union = pred.sum(dim=dims) + target_one_hot.sum(dim=dims)\n",
    "        dice = (2. * intersection + self.smooth) / (union + self.smooth)\n",
    "        return 1 - dice.mean()\n",
    "\n",
    "# Combined Dice + CrossEntropy loss for SMP models\n",
    "def combined_loss(preds, target):\n",
    "    # If the model only outputs one prediction, adjust the loss function accordingly\n",
    "    dice_loss = SoftDiceLoss()(preds, target)\n",
    "    ce_loss = nn.CrossEntropyLoss(weight=torch.tensor([0.1, 1.0, 1.0, 3.0]).to(preds.device))(preds, target)\n",
    "\n",
    "    total_loss = dice_loss + ce_loss\n",
    "    return total_loss\n"
   ]
  },
  {
   "cell_type": "code",
   "execution_count": 9,
   "id": "88df6905",
   "metadata": {},
   "outputs": [
    {
     "name": "stdout",
     "output_type": "stream",
     "text": [
      "✅ Train Set: 207 samples | Val Set: 52 samples\n"
     ]
    }
   ],
   "source": [
    "from torch.utils.data import random_split, DataLoader\n",
    "\n",
    "# Split Dataset into 80% Train, 20% Validation\n",
    "dataset_size = len(train_dataset)\n",
    "train_size = int(0.8 * dataset_size)\n",
    "val_size = dataset_size - train_size\n",
    "train_dataset, val_dataset = random_split(train_dataset, [train_size, val_size])\n",
    "\n",
    "\n",
    "train_loader = DataLoader(train_dataset, batch_size=2, shuffle=True, num_workers=0)\n",
    "val_loader = DataLoader(val_dataset, batch_size=2, shuffle=False, num_workers=0)\n",
    "\n",
    "print(f\"✅ Train Set: {len(train_dataset)} samples | Val Set: {len(val_dataset)} samples\")\n"
   ]
  },
  {
   "cell_type": "code",
   "execution_count": 10,
   "id": "804d1886",
   "metadata": {},
   "outputs": [],
   "source": [
    "import torch\n",
    "import torch.nn.functional as F\n",
    "from tqdm import tqdm\n",
    "import copy\n",
    "\n",
    "def train_model_smp(model, train_loader, optimizer, loss_fn, device, epochs=15, patience=3, save_path=\"best_unet_resnet34.pth\"):\n",
    "    best_loss = float('inf')\n",
    "    best_model_wts = copy.deepcopy(model.state_dict())\n",
    "    no_improve_epochs = 0\n",
    "\n",
    "    for epoch in range(epochs):\n",
    "        model.train()\n",
    "        train_loss = 0.0\n",
    "        loop = tqdm(train_loader, desc=f\"Epoch [{epoch+1}/{epochs}]\", leave=False)\n",
    "\n",
    "        for images, masks in loop:\n",
    "            images, masks = images.to(device), masks.to(device)\n",
    "            masks = torch.clamp(masks, 0, 3)  # Ensure valid class range\n",
    "\n",
    "            optimizer.zero_grad()\n",
    "            preds = model(images)  # SMP models directly output logits of shape [B, C, H, W]\n",
    "            loss = loss_fn(preds, masks)\n",
    "\n",
    "            loss.backward()\n",
    "            optimizer.step()\n",
    "\n",
    "            train_loss += loss.item()\n",
    "            loop.set_postfix({\"Loss\": loss.item()})\n",
    "\n",
    "        avg_train_loss = train_loss / len(train_loader)\n",
    "        print(f\"\\n✅ Epoch {epoch+1}: Train Loss: {avg_train_loss:.4f}\")\n",
    "\n",
    "        # Early stopping\n",
    "        if avg_train_loss < best_loss:\n",
    "            best_loss = avg_train_loss\n",
    "            best_model_wts = copy.deepcopy(model.state_dict())\n",
    "            torch.save(best_model_wts, save_path)\n",
    "            print(f\"💾 Saved model at epoch {epoch+1} with train loss {best_loss:.4f}\")\n",
    "            no_improve_epochs = 0\n",
    "        else:\n",
    "            no_improve_epochs += 1\n",
    "            print(f\"⚠️ No improvement for {no_improve_epochs} epoch(s)\")\n",
    "            if no_improve_epochs >= patience:\n",
    "                print(f\"⏹️ Early stopping triggered at epoch {epoch+1}\")\n",
    "                break\n",
    "\n",
    "    model.load_state_dict(best_model_wts)\n",
    "    print(\"🏁 Training complete.\")\n"
   ]
  },
  {
   "cell_type": "code",
   "execution_count": 11,
   "id": "51b23051",
   "metadata": {},
   "outputs": [
    {
     "name": "stderr",
     "output_type": "stream",
     "text": [
      "Epoch [1/15]:   0%|          | 0/104 [00:00<?, ?it/s]"
     ]
    },
    {
     "name": "stdout",
     "output_type": "stream",
     "text": [
      "✅ Loaded BraTS19_TCIA02_198_1: Image torch.Size([3, 224, 224]), Mask torch.Size([224, 224])\n",
      "✅ Loaded BraTS19_TCIA03_199_1: Image torch.Size([3, 224, 224]), Mask torch.Size([224, 224])\n"
     ]
    },
    {
     "name": "stderr",
     "output_type": "stream",
     "text": [
      "Epoch [1/15]:   1%|          | 1/104 [00:02<04:06,  2.39s/it, Loss=0.236]"
     ]
    },
    {
     "name": "stdout",
     "output_type": "stream",
     "text": [
      "✅ Loaded BraTS19_CBICA_AME_1: Image torch.Size([3, 224, 224]), Mask torch.Size([224, 224])\n",
      "✅ Loaded BraTS19_2013_3_1: Image torch.Size([3, 224, 224]), Mask torch.Size([224, 224])\n"
     ]
    },
    {
     "name": "stderr",
     "output_type": "stream",
     "text": [
      "Epoch [1/15]:   2%|▏         | 2/104 [00:02<02:11,  1.29s/it, Loss=0.366]"
     ]
    },
    {
     "name": "stdout",
     "output_type": "stream",
     "text": [
      "✅ Loaded BraTS19_TCIA06_165_1: Image torch.Size([3, 224, 224]), Mask torch.Size([224, 224])\n",
      "✅ Loaded BraTS19_2013_14_1: Image torch.Size([3, 224, 224]), Mask torch.Size([224, 224])\n"
     ]
    },
    {
     "name": "stderr",
     "output_type": "stream",
     "text": [
      "Epoch [1/15]:   3%|▎         | 3/104 [00:03<01:31,  1.10it/s, Loss=0.325]"
     ]
    },
    {
     "name": "stdout",
     "output_type": "stream",
     "text": [
      "✅ Loaded BraTS19_CBICA_APR_1: Image torch.Size([3, 224, 224]), Mask torch.Size([224, 224])\n",
      "✅ Loaded BraTS19_CBICA_ATN_1: Image torch.Size([3, 224, 224]), Mask torch.Size([224, 224])\n"
     ]
    },
    {
     "name": "stderr",
     "output_type": "stream",
     "text": [
      "Epoch [1/15]:   4%|▍         | 4/104 [00:03<01:11,  1.39it/s, Loss=0.664]"
     ]
    },
    {
     "name": "stdout",
     "output_type": "stream",
     "text": [
      "✅ Loaded BraTS19_CBICA_AQO_1: Image torch.Size([3, 224, 224]), Mask torch.Size([224, 224])\n",
      "✅ Loaded BraTS19_2013_21_1: Image torch.Size([3, 224, 224]), Mask torch.Size([224, 224])\n"
     ]
    },
    {
     "name": "stderr",
     "output_type": "stream",
     "text": [
      "Epoch [1/15]:   5%|▍         | 5/104 [00:04<01:00,  1.64it/s, Loss=0.197]"
     ]
    },
    {
     "name": "stdout",
     "output_type": "stream",
     "text": [
      "✅ Loaded BraTS19_CBICA_ABB_1: Image torch.Size([3, 224, 224]), Mask torch.Size([224, 224])\n",
      "✅ Loaded BraTS19_TCIA01_499_1: Image torch.Size([3, 224, 224]), Mask torch.Size([224, 224])\n"
     ]
    },
    {
     "name": "stderr",
     "output_type": "stream",
     "text": [
      "Epoch [1/15]:   6%|▌         | 6/104 [00:04<00:54,  1.81it/s, Loss=0.676]"
     ]
    },
    {
     "name": "stdout",
     "output_type": "stream",
     "text": [
      "✅ Loaded BraTS19_TCIA06_211_1: Image torch.Size([3, 224, 224]), Mask torch.Size([224, 224])\n",
      "✅ Loaded BraTS19_TMC_27374_1: Image torch.Size([3, 224, 224]), Mask torch.Size([224, 224])\n"
     ]
    },
    {
     "name": "stderr",
     "output_type": "stream",
     "text": [
      "Epoch [1/15]:   7%|▋         | 7/104 [00:05<00:49,  1.95it/s, Loss=0.226]"
     ]
    },
    {
     "name": "stdout",
     "output_type": "stream",
     "text": [
      "✅ Loaded BraTS19_CBICA_ASW_1: Image torch.Size([3, 224, 224]), Mask torch.Size([224, 224])\n",
      "✅ Loaded BraTS19_2013_23_1: Image torch.Size([3, 224, 224]), Mask torch.Size([224, 224])\n"
     ]
    },
    {
     "name": "stderr",
     "output_type": "stream",
     "text": [
      "Epoch [1/15]:   8%|▊         | 8/104 [00:05<00:46,  2.07it/s, Loss=0.357]"
     ]
    },
    {
     "name": "stdout",
     "output_type": "stream",
     "text": [
      "✅ Loaded BraTS19_2013_17_1: Image torch.Size([3, 224, 224]), Mask torch.Size([224, 224])\n",
      "✅ Loaded BraTS19_CBICA_AVG_1: Image torch.Size([3, 224, 224]), Mask torch.Size([224, 224])\n"
     ]
    },
    {
     "name": "stderr",
     "output_type": "stream",
     "text": [
      "Epoch [1/15]:   9%|▊         | 9/104 [00:05<00:44,  2.15it/s, Loss=0.226]"
     ]
    },
    {
     "name": "stdout",
     "output_type": "stream",
     "text": [
      "✅ Loaded BraTS19_CBICA_AYG_1: Image torch.Size([3, 224, 224]), Mask torch.Size([224, 224])\n",
      "✅ Loaded BraTS19_TCIA01_150_1: Image torch.Size([3, 224, 224]), Mask torch.Size([224, 224])\n"
     ]
    },
    {
     "name": "stderr",
     "output_type": "stream",
     "text": [
      "Epoch [1/15]:  10%|▉         | 10/104 [00:06<00:42,  2.19it/s, Loss=0.426]"
     ]
    },
    {
     "name": "stdout",
     "output_type": "stream",
     "text": [
      "✅ Loaded BraTS19_CBICA_ASA_1: Image torch.Size([3, 224, 224]), Mask torch.Size([224, 224])\n",
      "✅ Loaded BraTS19_TCIA01_390_1: Image torch.Size([3, 224, 224]), Mask torch.Size([224, 224])\n"
     ]
    },
    {
     "name": "stderr",
     "output_type": "stream",
     "text": [
      "Epoch [1/15]:  11%|█         | 11/104 [00:06<00:41,  2.25it/s, Loss=0.299]"
     ]
    },
    {
     "name": "stdout",
     "output_type": "stream",
     "text": [
      "✅ Loaded BraTS19_CBICA_BGT_1: Image torch.Size([3, 224, 224]), Mask torch.Size([224, 224])\n",
      "✅ Loaded BraTS19_TCIA02_606_1: Image torch.Size([3, 224, 224]), Mask torch.Size([224, 224])\n"
     ]
    },
    {
     "name": "stderr",
     "output_type": "stream",
     "text": [
      "Epoch [1/15]:  12%|█▏        | 12/104 [00:07<00:40,  2.27it/s, Loss=0.281]"
     ]
    },
    {
     "name": "stdout",
     "output_type": "stream",
     "text": [
      "✅ Loaded BraTS19_CBICA_AVB_1: Image torch.Size([3, 224, 224]), Mask torch.Size([224, 224])\n",
      "✅ Loaded BraTS19_TCIA02_135_1: Image torch.Size([3, 224, 224]), Mask torch.Size([224, 224])\n"
     ]
    },
    {
     "name": "stderr",
     "output_type": "stream",
     "text": [
      "Epoch [1/15]:  12%|█▎        | 13/104 [00:07<00:39,  2.30it/s, Loss=0.411]"
     ]
    },
    {
     "name": "stdout",
     "output_type": "stream",
     "text": [
      "✅ Loaded BraTS19_CBICA_AOH_1: Image torch.Size([3, 224, 224]), Mask torch.Size([224, 224])\n",
      "✅ Loaded BraTS19_TCIA01_221_1: Image torch.Size([3, 224, 224]), Mask torch.Size([224, 224])\n"
     ]
    },
    {
     "name": "stderr",
     "output_type": "stream",
     "text": [
      "Epoch [1/15]:  13%|█▎        | 14/104 [00:08<00:39,  2.31it/s, Loss=0.568]"
     ]
    },
    {
     "name": "stdout",
     "output_type": "stream",
     "text": [
      "✅ Loaded BraTS19_TCIA01_401_1: Image torch.Size([3, 224, 224]), Mask torch.Size([224, 224])\n",
      "✅ Loaded BraTS19_TCIA02_608_1: Image torch.Size([3, 224, 224]), Mask torch.Size([224, 224])\n"
     ]
    },
    {
     "name": "stderr",
     "output_type": "stream",
     "text": [
      "Epoch [1/15]:  14%|█▍        | 15/104 [00:08<00:38,  2.31it/s, Loss=0.171]"
     ]
    },
    {
     "name": "stdout",
     "output_type": "stream",
     "text": [
      "✅ Loaded BraTS19_TCIA02_274_1: Image torch.Size([3, 224, 224]), Mask torch.Size([224, 224])\n",
      "✅ Loaded BraTS19_CBICA_ATX_1: Image torch.Size([3, 224, 224]), Mask torch.Size([224, 224])\n"
     ]
    },
    {
     "name": "stderr",
     "output_type": "stream",
     "text": [
      "Epoch [1/15]:  15%|█▌        | 16/104 [00:08<00:38,  2.28it/s, Loss=0.222]"
     ]
    },
    {
     "name": "stdout",
     "output_type": "stream",
     "text": [
      "✅ Loaded BraTS19_TCIA01_378_1: Image torch.Size([3, 224, 224]), Mask torch.Size([224, 224])\n",
      "✅ Loaded BraTS19_TCIA05_444_1: Image torch.Size([3, 224, 224]), Mask torch.Size([224, 224])\n"
     ]
    },
    {
     "name": "stderr",
     "output_type": "stream",
     "text": [
      "Epoch [1/15]:  16%|█▋        | 17/104 [00:09<00:38,  2.28it/s, Loss=0.208]"
     ]
    },
    {
     "name": "stdout",
     "output_type": "stream",
     "text": [
      "✅ Loaded BraTS19_CBICA_BNR_1: Image torch.Size([3, 224, 224]), Mask torch.Size([224, 224])\n",
      "✅ Loaded BraTS19_CBICA_ANV_1: Image torch.Size([3, 224, 224]), Mask torch.Size([224, 224])\n"
     ]
    },
    {
     "name": "stderr",
     "output_type": "stream",
     "text": [
      "Epoch [1/15]:  17%|█▋        | 18/104 [00:09<00:36,  2.33it/s, Loss=0.582]"
     ]
    },
    {
     "name": "stdout",
     "output_type": "stream",
     "text": [
      "✅ Loaded BraTS19_TCIA06_409_1: Image torch.Size([3, 224, 224]), Mask torch.Size([224, 224])\n",
      "✅ Loaded BraTS19_CBICA_ARW_1: Image torch.Size([3, 224, 224]), Mask torch.Size([224, 224])\n"
     ]
    },
    {
     "name": "stderr",
     "output_type": "stream",
     "text": [
      "Epoch [1/15]:  18%|█▊        | 19/104 [00:10<00:35,  2.37it/s, Loss=0.307]"
     ]
    },
    {
     "name": "stdout",
     "output_type": "stream",
     "text": [
      "✅ Loaded BraTS19_CBICA_ASO_1: Image torch.Size([3, 224, 224]), Mask torch.Size([224, 224])\n",
      "✅ Loaded BraTS19_TCIA01_231_1: Image torch.Size([3, 224, 224]), Mask torch.Size([224, 224])\n"
     ]
    },
    {
     "name": "stderr",
     "output_type": "stream",
     "text": [
      "Epoch [1/15]:  19%|█▉        | 20/104 [00:10<00:34,  2.41it/s, Loss=0.303]"
     ]
    },
    {
     "name": "stdout",
     "output_type": "stream",
     "text": [
      "✅ Loaded BraTS19_TCIA03_338_1: Image torch.Size([3, 224, 224]), Mask torch.Size([224, 224])\n",
      "✅ Loaded BraTS19_CBICA_ALN_1: Image torch.Size([3, 224, 224]), Mask torch.Size([224, 224])\n"
     ]
    },
    {
     "name": "stderr",
     "output_type": "stream",
     "text": [
      "Epoch [1/15]:  20%|██        | 21/104 [00:11<00:34,  2.41it/s, Loss=0.215]"
     ]
    },
    {
     "name": "stdout",
     "output_type": "stream",
     "text": [
      "✅ Loaded BraTS19_CBICA_BDK_1: Image torch.Size([3, 224, 224]), Mask torch.Size([224, 224])\n",
      "✅ Loaded BraTS19_TCIA02_226_1: Image torch.Size([3, 224, 224]), Mask torch.Size([224, 224])\n"
     ]
    },
    {
     "name": "stderr",
     "output_type": "stream",
     "text": [
      "Epoch [1/15]:  21%|██        | 22/104 [00:11<00:33,  2.42it/s, Loss=0.5]  "
     ]
    },
    {
     "name": "stdout",
     "output_type": "stream",
     "text": [
      "✅ Loaded BraTS19_CBICA_ALU_1: Image torch.Size([3, 224, 224]), Mask torch.Size([224, 224])\n",
      "✅ Loaded BraTS19_CBICA_BGR_1: Image torch.Size([3, 224, 224]), Mask torch.Size([224, 224])\n"
     ]
    },
    {
     "name": "stderr",
     "output_type": "stream",
     "text": [
      "Epoch [1/15]:  22%|██▏       | 23/104 [00:11<00:33,  2.43it/s, Loss=0.328]"
     ]
    },
    {
     "name": "stdout",
     "output_type": "stream",
     "text": [
      "✅ Loaded BraTS19_2013_18_1: Image torch.Size([3, 224, 224]), Mask torch.Size([224, 224])\n",
      "✅ Loaded BraTS19_CBICA_AYU_1: Image torch.Size([3, 224, 224]), Mask torch.Size([224, 224])\n"
     ]
    },
    {
     "name": "stderr",
     "output_type": "stream",
     "text": [
      "Epoch [1/15]:  23%|██▎       | 24/104 [00:12<00:33,  2.39it/s, Loss=0.344]"
     ]
    },
    {
     "name": "stdout",
     "output_type": "stream",
     "text": [
      "✅ Loaded BraTS19_CBICA_ANG_1: Image torch.Size([3, 224, 224]), Mask torch.Size([224, 224])\n",
      "✅ Loaded BraTS19_CBICA_AZD_1: Image torch.Size([3, 224, 224]), Mask torch.Size([224, 224])\n"
     ]
    },
    {
     "name": "stderr",
     "output_type": "stream",
     "text": [
      "Epoch [1/15]:  24%|██▍       | 25/104 [00:12<00:32,  2.40it/s, Loss=0.218]"
     ]
    },
    {
     "name": "stdout",
     "output_type": "stream",
     "text": [
      "✅ Loaded BraTS19_CBICA_BHV_1: Image torch.Size([3, 224, 224]), Mask torch.Size([224, 224])\n",
      "✅ Loaded BraTS19_CBICA_ARF_1: Image torch.Size([3, 224, 224]), Mask torch.Size([224, 224])\n"
     ]
    },
    {
     "name": "stderr",
     "output_type": "stream",
     "text": [
      "Epoch [1/15]:  25%|██▌       | 26/104 [00:13<00:32,  2.41it/s, Loss=0.215]"
     ]
    },
    {
     "name": "stdout",
     "output_type": "stream",
     "text": [
      "✅ Loaded BraTS19_TMC_12866_1: Image torch.Size([3, 224, 224]), Mask torch.Size([224, 224])\n",
      "✅ Loaded BraTS19_CBICA_ANP_1: Image torch.Size([3, 224, 224]), Mask torch.Size([224, 224])\n"
     ]
    },
    {
     "name": "stderr",
     "output_type": "stream",
     "text": [
      "Epoch [1/15]:  26%|██▌       | 27/104 [00:13<00:31,  2.43it/s, Loss=0.556]"
     ]
    },
    {
     "name": "stdout",
     "output_type": "stream",
     "text": [
      "✅ Loaded BraTS19_CBICA_BHZ_1: Image torch.Size([3, 224, 224]), Mask torch.Size([224, 224])\n",
      "✅ Loaded BraTS19_CBICA_AUR_1: Image torch.Size([3, 224, 224]), Mask torch.Size([224, 224])\n"
     ]
    },
    {
     "name": "stderr",
     "output_type": "stream",
     "text": [
      "Epoch [1/15]:  27%|██▋       | 28/104 [00:13<00:31,  2.39it/s, Loss=0.266]"
     ]
    },
    {
     "name": "stdout",
     "output_type": "stream",
     "text": [
      "✅ Loaded BraTS19_TMC_30014_1: Image torch.Size([3, 224, 224]), Mask torch.Size([224, 224])\n",
      "✅ Loaded BraTS19_TCIA02_322_1: Image torch.Size([3, 224, 224]), Mask torch.Size([224, 224])\n"
     ]
    },
    {
     "name": "stderr",
     "output_type": "stream",
     "text": [
      "Epoch [1/15]:  28%|██▊       | 29/104 [00:14<00:31,  2.37it/s, Loss=0.759]"
     ]
    },
    {
     "name": "stdout",
     "output_type": "stream",
     "text": [
      "✅ Loaded BraTS19_CBICA_ASU_1: Image torch.Size([3, 224, 224]), Mask torch.Size([224, 224])\n",
      "✅ Loaded BraTS19_CBICA_AXO_1: Image torch.Size([3, 224, 224]), Mask torch.Size([224, 224])\n"
     ]
    },
    {
     "name": "stderr",
     "output_type": "stream",
     "text": [
      "Epoch [1/15]:  29%|██▉       | 30/104 [00:14<00:30,  2.41it/s, Loss=0.438]"
     ]
    },
    {
     "name": "stdout",
     "output_type": "stream",
     "text": [
      "✅ Loaded BraTS19_TCIA02_309_1: Image torch.Size([3, 224, 224]), Mask torch.Size([224, 224])\n",
      "✅ Loaded BraTS19_TCIA01_186_1: Image torch.Size([3, 224, 224]), Mask torch.Size([224, 224])\n"
     ]
    },
    {
     "name": "stderr",
     "output_type": "stream",
     "text": [
      "Epoch [1/15]:  30%|██▉       | 31/104 [00:15<00:30,  2.40it/s, Loss=0.403]"
     ]
    },
    {
     "name": "stdout",
     "output_type": "stream",
     "text": [
      "✅ Loaded BraTS19_2013_10_1: Image torch.Size([3, 224, 224]), Mask torch.Size([224, 224])\n",
      "✅ Loaded BraTS19_TCIA01_201_1: Image torch.Size([3, 224, 224]), Mask torch.Size([224, 224])\n"
     ]
    },
    {
     "name": "stderr",
     "output_type": "stream",
     "text": [
      "Epoch [1/15]:  31%|███       | 32/104 [00:15<00:30,  2.39it/s, Loss=0.394]"
     ]
    },
    {
     "name": "stdout",
     "output_type": "stream",
     "text": [
      "✅ Loaded BraTS19_TCIA03_296_1: Image torch.Size([3, 224, 224]), Mask torch.Size([224, 224])\n",
      "✅ Loaded BraTS19_2013_19_1: Image torch.Size([3, 224, 224]), Mask torch.Size([224, 224])\n"
     ]
    },
    {
     "name": "stderr",
     "output_type": "stream",
     "text": [
      "Epoch [1/15]:  32%|███▏      | 33/104 [00:16<00:30,  2.36it/s, Loss=0.392]"
     ]
    },
    {
     "name": "stdout",
     "output_type": "stream",
     "text": [
      "✅ Loaded BraTS19_CBICA_ANZ_1: Image torch.Size([3, 224, 224]), Mask torch.Size([224, 224])\n",
      "✅ Loaded BraTS19_CBICA_AMH_1: Image torch.Size([3, 224, 224]), Mask torch.Size([224, 224])\n"
     ]
    },
    {
     "name": "stderr",
     "output_type": "stream",
     "text": [
      "Epoch [1/15]:  33%|███▎      | 34/104 [00:16<00:29,  2.36it/s, Loss=0.363]"
     ]
    },
    {
     "name": "stdout",
     "output_type": "stream",
     "text": [
      "✅ Loaded BraTS19_CBICA_ABO_1: Image torch.Size([3, 224, 224]), Mask torch.Size([224, 224])\n",
      "✅ Loaded BraTS19_CBICA_APK_1: Image torch.Size([3, 224, 224]), Mask torch.Size([224, 224])\n"
     ]
    },
    {
     "name": "stderr",
     "output_type": "stream",
     "text": [
      "Epoch [1/15]:  34%|███▎      | 35/104 [00:16<00:29,  2.37it/s, Loss=0.374]"
     ]
    },
    {
     "name": "stdout",
     "output_type": "stream",
     "text": [
      "✅ Loaded BraTS19_CBICA_AVJ_1: Image torch.Size([3, 224, 224]), Mask torch.Size([224, 224])\n",
      "✅ Loaded BraTS19_TCIA01_412_1: Image torch.Size([3, 224, 224]), Mask torch.Size([224, 224])\n"
     ]
    },
    {
     "name": "stderr",
     "output_type": "stream",
     "text": [
      "Epoch [1/15]:  35%|███▍      | 36/104 [00:17<00:28,  2.37it/s, Loss=0.311]"
     ]
    },
    {
     "name": "stdout",
     "output_type": "stream",
     "text": [
      "✅ Loaded BraTS19_CBICA_ABE_1: Image torch.Size([3, 224, 224]), Mask torch.Size([224, 224])\n",
      "✅ Loaded BraTS19_CBICA_BCL_1: Image torch.Size([3, 224, 224]), Mask torch.Size([224, 224])\n"
     ]
    },
    {
     "name": "stderr",
     "output_type": "stream",
     "text": [
      "Epoch [1/15]:  36%|███▌      | 37/104 [00:17<00:28,  2.36it/s, Loss=0.505]"
     ]
    },
    {
     "name": "stdout",
     "output_type": "stream",
     "text": [
      "✅ Loaded BraTS19_CBICA_AQZ_1: Image torch.Size([3, 224, 224]), Mask torch.Size([224, 224])\n",
      "✅ Loaded BraTS19_CBICA_AXW_1: Image torch.Size([3, 224, 224]), Mask torch.Size([224, 224])\n"
     ]
    },
    {
     "name": "stderr",
     "output_type": "stream",
     "text": [
      "Epoch [1/15]:  37%|███▋      | 38/104 [00:18<00:27,  2.37it/s, Loss=0.478]"
     ]
    },
    {
     "name": "stdout",
     "output_type": "stream",
     "text": [
      "✅ Loaded BraTS19_CBICA_BHK_1: Image torch.Size([3, 224, 224]), Mask torch.Size([224, 224])\n",
      "✅ Loaded BraTS19_TCIA08_319_1: Image torch.Size([3, 224, 224]), Mask torch.Size([224, 224])\n"
     ]
    },
    {
     "name": "stderr",
     "output_type": "stream",
     "text": [
      "Epoch [1/15]:  38%|███▊      | 39/104 [00:18<00:27,  2.34it/s, Loss=0.328]"
     ]
    },
    {
     "name": "stdout",
     "output_type": "stream",
     "text": [
      "✅ Loaded BraTS19_TCIA02_151_1: Image torch.Size([3, 224, 224]), Mask torch.Size([224, 224])\n",
      "✅ Loaded BraTS19_CBICA_AUQ_1: Image torch.Size([3, 224, 224]), Mask torch.Size([224, 224])\n"
     ]
    },
    {
     "name": "stderr",
     "output_type": "stream",
     "text": [
      "Epoch [1/15]:  38%|███▊      | 40/104 [00:19<00:27,  2.34it/s, Loss=0.221]"
     ]
    },
    {
     "name": "stdout",
     "output_type": "stream",
     "text": [
      "✅ Loaded BraTS19_CBICA_AXL_1: Image torch.Size([3, 224, 224]), Mask torch.Size([224, 224])\n",
      "✅ Loaded BraTS19_TCIA02_290_1: Image torch.Size([3, 224, 224]), Mask torch.Size([224, 224])\n"
     ]
    },
    {
     "name": "stderr",
     "output_type": "stream",
     "text": [
      "Epoch [1/15]:  39%|███▉      | 41/104 [00:19<00:26,  2.36it/s, Loss=0.301]"
     ]
    },
    {
     "name": "stdout",
     "output_type": "stream",
     "text": [
      "✅ Loaded BraTS19_TCIA02_491_1: Image torch.Size([3, 224, 224]), Mask torch.Size([224, 224])\n",
      "✅ Loaded BraTS19_CBICA_BGN_1: Image torch.Size([3, 224, 224]), Mask torch.Size([224, 224])\n"
     ]
    },
    {
     "name": "stderr",
     "output_type": "stream",
     "text": [
      "Epoch [1/15]:  40%|████      | 42/104 [00:19<00:26,  2.38it/s, Loss=0.314]"
     ]
    },
    {
     "name": "stdout",
     "output_type": "stream",
     "text": [
      "✅ Loaded BraTS19_TCIA02_605_1: Image torch.Size([3, 224, 224]), Mask torch.Size([224, 224])\n",
      "✅ Loaded BraTS19_CBICA_ANI_1: Image torch.Size([3, 224, 224]), Mask torch.Size([224, 224])\n"
     ]
    },
    {
     "name": "stderr",
     "output_type": "stream",
     "text": [
      "Epoch [1/15]:  41%|████▏     | 43/104 [00:20<00:25,  2.44it/s, Loss=0.309]"
     ]
    },
    {
     "name": "stdout",
     "output_type": "stream",
     "text": [
      "✅ Loaded BraTS19_CBICA_ATD_1: Image torch.Size([3, 224, 224]), Mask torch.Size([224, 224])\n",
      "✅ Loaded BraTS19_CBICA_BHQ_1: Image torch.Size([3, 224, 224]), Mask torch.Size([224, 224])\n"
     ]
    },
    {
     "name": "stderr",
     "output_type": "stream",
     "text": [
      "Epoch [1/15]:  42%|████▏     | 44/104 [00:20<00:24,  2.43it/s, Loss=0.656]"
     ]
    },
    {
     "name": "stdout",
     "output_type": "stream",
     "text": [
      "✅ Loaded BraTS19_TCIA08_436_1: Image torch.Size([3, 224, 224]), Mask torch.Size([224, 224])\n",
      "✅ Loaded BraTS19_TCIA02_368_1: Image torch.Size([3, 224, 224]), Mask torch.Size([224, 224])\n"
     ]
    },
    {
     "name": "stderr",
     "output_type": "stream",
     "text": [
      "Epoch [1/15]:  43%|████▎     | 45/104 [00:21<00:24,  2.45it/s, Loss=0.233]"
     ]
    },
    {
     "name": "stdout",
     "output_type": "stream",
     "text": [
      "✅ Loaded BraTS19_TCIA02_321_1: Image torch.Size([3, 224, 224]), Mask torch.Size([224, 224])\n",
      "✅ Loaded BraTS19_TCIA02_283_1: Image torch.Size([3, 224, 224]), Mask torch.Size([224, 224])\n"
     ]
    },
    {
     "name": "stderr",
     "output_type": "stream",
     "text": [
      "Epoch [1/15]:  44%|████▍     | 46/104 [00:21<00:23,  2.46it/s, Loss=0.595]"
     ]
    },
    {
     "name": "stdout",
     "output_type": "stream",
     "text": [
      "✅ Loaded BraTS19_TMC_06643_1: Image torch.Size([3, 224, 224]), Mask torch.Size([224, 224])\n",
      "✅ Loaded BraTS19_CBICA_AAB_1: Image torch.Size([3, 224, 224]), Mask torch.Size([224, 224])\n"
     ]
    },
    {
     "name": "stderr",
     "output_type": "stream",
     "text": [
      "Epoch [1/15]:  45%|████▌     | 47/104 [00:21<00:23,  2.45it/s, Loss=0.29] "
     ]
    },
    {
     "name": "stdout",
     "output_type": "stream",
     "text": [
      "✅ Loaded BraTS19_TCIA01_448_1: Image torch.Size([3, 224, 224]), Mask torch.Size([224, 224])\n",
      "✅ Loaded BraTS19_TCIA03_133_1: Image torch.Size([3, 224, 224]), Mask torch.Size([224, 224])\n"
     ]
    },
    {
     "name": "stderr",
     "output_type": "stream",
     "text": [
      "Epoch [1/15]:  46%|████▌     | 48/104 [00:22<00:22,  2.46it/s, Loss=0.549]"
     ]
    },
    {
     "name": "stdout",
     "output_type": "stream",
     "text": [
      "✅ Loaded BraTS19_CBICA_AQP_1: Image torch.Size([3, 224, 224]), Mask torch.Size([224, 224])\n",
      "✅ Loaded BraTS19_TCIA02_331_1: Image torch.Size([3, 224, 224]), Mask torch.Size([224, 224])\n"
     ]
    },
    {
     "name": "stderr",
     "output_type": "stream",
     "text": [
      "Epoch [1/15]:  47%|████▋     | 49/104 [00:22<00:22,  2.47it/s, Loss=0.206]"
     ]
    },
    {
     "name": "stdout",
     "output_type": "stream",
     "text": [
      "✅ Loaded BraTS19_CBICA_ABY_1: Image torch.Size([3, 224, 224]), Mask torch.Size([224, 224])\n",
      "✅ Loaded BraTS19_TCIA01_131_1: Image torch.Size([3, 224, 224]), Mask torch.Size([224, 224])\n"
     ]
    },
    {
     "name": "stderr",
     "output_type": "stream",
     "text": [
      "Epoch [1/15]:  48%|████▊     | 50/104 [00:23<00:21,  2.48it/s, Loss=0.437]"
     ]
    },
    {
     "name": "stdout",
     "output_type": "stream",
     "text": [
      "✅ Loaded BraTS19_TCIA08_234_1: Image torch.Size([3, 224, 224]), Mask torch.Size([224, 224])\n",
      "✅ Loaded BraTS19_CBICA_AAL_1: Image torch.Size([3, 224, 224]), Mask torch.Size([224, 224])\n"
     ]
    },
    {
     "name": "stderr",
     "output_type": "stream",
     "text": [
      "Epoch [1/15]:  49%|████▉     | 51/104 [00:23<00:21,  2.49it/s, Loss=0.283]"
     ]
    },
    {
     "name": "stdout",
     "output_type": "stream",
     "text": [
      "✅ Loaded BraTS19_CBICA_ASV_1: Image torch.Size([3, 224, 224]), Mask torch.Size([224, 224])\n",
      "✅ Loaded BraTS19_CBICA_BGO_1: Image torch.Size([3, 224, 224]), Mask torch.Size([224, 224])\n"
     ]
    },
    {
     "name": "stderr",
     "output_type": "stream",
     "text": [
      "Epoch [1/15]:  50%|█████     | 52/104 [00:23<00:21,  2.46it/s, Loss=0.2]  "
     ]
    },
    {
     "name": "stdout",
     "output_type": "stream",
     "text": [
      "✅ Loaded BraTS19_TCIA04_343_1: Image torch.Size([3, 224, 224]), Mask torch.Size([224, 224])\n",
      "✅ Loaded BraTS19_TCIA01_203_1: Image torch.Size([3, 224, 224]), Mask torch.Size([224, 224])\n"
     ]
    },
    {
     "name": "stderr",
     "output_type": "stream",
     "text": [
      "Epoch [1/15]:  51%|█████     | 53/104 [00:24<00:20,  2.44it/s, Loss=0.31]"
     ]
    },
    {
     "name": "stdout",
     "output_type": "stream",
     "text": [
      "✅ Loaded BraTS19_CBICA_AUX_1: Image torch.Size([3, 224, 224]), Mask torch.Size([224, 224])\n",
      "✅ Loaded BraTS19_TCIA02_607_1: Image torch.Size([3, 224, 224]), Mask torch.Size([224, 224])\n"
     ]
    },
    {
     "name": "stderr",
     "output_type": "stream",
     "text": [
      "Epoch [1/15]:  52%|█████▏    | 54/104 [00:24<00:20,  2.46it/s, Loss=0.372]"
     ]
    },
    {
     "name": "stdout",
     "output_type": "stream",
     "text": [
      "✅ Loaded BraTS19_TCIA04_479_1: Image torch.Size([3, 224, 224]), Mask torch.Size([224, 224])\n",
      "✅ Loaded BraTS19_2013_12_1: Image torch.Size([3, 224, 224]), Mask torch.Size([224, 224])\n"
     ]
    },
    {
     "name": "stderr",
     "output_type": "stream",
     "text": [
      "Epoch [1/15]:  53%|█████▎    | 55/104 [00:25<00:20,  2.44it/s, Loss=0.229]"
     ]
    },
    {
     "name": "stdout",
     "output_type": "stream",
     "text": [
      "✅ Loaded BraTS19_TCIA05_396_1: Image torch.Size([3, 224, 224]), Mask torch.Size([224, 224])\n",
      "✅ Loaded BraTS19_CBICA_AVF_1: Image torch.Size([3, 224, 224]), Mask torch.Size([224, 224])\n"
     ]
    },
    {
     "name": "stderr",
     "output_type": "stream",
     "text": [
      "Epoch [1/15]:  54%|█████▍    | 56/104 [00:25<00:19,  2.46it/s, Loss=0.252]"
     ]
    },
    {
     "name": "stdout",
     "output_type": "stream",
     "text": [
      "✅ Loaded BraTS19_CBICA_AWG_1: Image torch.Size([3, 224, 224]), Mask torch.Size([224, 224])\n",
      "✅ Loaded BraTS19_CBICA_ALX_1: Image torch.Size([3, 224, 224]), Mask torch.Size([224, 224])\n"
     ]
    },
    {
     "name": "stderr",
     "output_type": "stream",
     "text": [
      "Epoch [1/15]:  55%|█████▍    | 57/104 [00:25<00:19,  2.44it/s, Loss=0.297]"
     ]
    },
    {
     "name": "stdout",
     "output_type": "stream",
     "text": [
      "✅ Loaded BraTS19_TCIA02_168_1: Image torch.Size([3, 224, 224]), Mask torch.Size([224, 224])\n",
      "✅ Loaded BraTS19_CBICA_AXQ_1: Image torch.Size([3, 224, 224]), Mask torch.Size([224, 224])\n"
     ]
    },
    {
     "name": "stderr",
     "output_type": "stream",
     "text": [
      "Epoch [1/15]:  56%|█████▌    | 58/104 [00:26<00:18,  2.48it/s, Loss=0.166]"
     ]
    },
    {
     "name": "stdout",
     "output_type": "stream",
     "text": [
      "✅ Loaded BraTS19_CBICA_ASG_1: Image torch.Size([3, 224, 224]), Mask torch.Size([224, 224])\n",
      "✅ Loaded BraTS19_TCIA08_162_1: Image torch.Size([3, 224, 224]), Mask torch.Size([224, 224])\n"
     ]
    },
    {
     "name": "stderr",
     "output_type": "stream",
     "text": [
      "Epoch [1/15]:  57%|█████▋    | 59/104 [00:26<00:18,  2.46it/s, Loss=0.269]"
     ]
    },
    {
     "name": "stdout",
     "output_type": "stream",
     "text": [
      "✅ Loaded BraTS19_2013_13_1: Image torch.Size([3, 224, 224]), Mask torch.Size([224, 224])\n",
      "✅ Loaded BraTS19_TCIA01_411_1: Image torch.Size([3, 224, 224]), Mask torch.Size([224, 224])\n"
     ]
    },
    {
     "name": "stderr",
     "output_type": "stream",
     "text": [
      "Epoch [1/15]:  58%|█████▊    | 60/104 [00:27<00:18,  2.44it/s, Loss=0.644]"
     ]
    },
    {
     "name": "stdout",
     "output_type": "stream",
     "text": [
      "✅ Loaded BraTS19_CBICA_ASR_1: Image torch.Size([3, 224, 224]), Mask torch.Size([224, 224])\n",
      "✅ Loaded BraTS19_CBICA_BFP_1: Image torch.Size([3, 224, 224]), Mask torch.Size([224, 224])\n"
     ]
    },
    {
     "name": "stderr",
     "output_type": "stream",
     "text": [
      "Epoch [1/15]:  59%|█████▊    | 61/104 [00:27<00:17,  2.43it/s, Loss=0.569]"
     ]
    },
    {
     "name": "stdout",
     "output_type": "stream",
     "text": [
      "✅ Loaded BraTS19_CBICA_AWI_1: Image torch.Size([3, 224, 224]), Mask torch.Size([224, 224])\n",
      "✅ Loaded BraTS19_CBICA_AVV_1: Image torch.Size([3, 224, 224]), Mask torch.Size([224, 224])\n"
     ]
    },
    {
     "name": "stderr",
     "output_type": "stream",
     "text": [
      "Epoch [1/15]:  60%|█████▉    | 62/104 [00:27<00:17,  2.42it/s, Loss=0.392]"
     ]
    },
    {
     "name": "stdout",
     "output_type": "stream",
     "text": [
      "✅ Loaded BraTS19_TCIA01_460_1: Image torch.Size([3, 224, 224]), Mask torch.Size([224, 224])\n",
      "✅ Loaded BraTS19_CBICA_AUN_1: Image torch.Size([3, 224, 224]), Mask torch.Size([224, 224])\n"
     ]
    },
    {
     "name": "stderr",
     "output_type": "stream",
     "text": [
      "Epoch [1/15]:  61%|██████    | 63/104 [00:28<00:16,  2.44it/s, Loss=0.541]"
     ]
    },
    {
     "name": "stdout",
     "output_type": "stream",
     "text": [
      "✅ Loaded BraTS19_CBICA_AQG_1: Image torch.Size([3, 224, 224]), Mask torch.Size([224, 224])\n",
      "✅ Loaded BraTS19_CBICA_AYC_1: Image torch.Size([3, 224, 224]), Mask torch.Size([224, 224])\n"
     ]
    },
    {
     "name": "stderr",
     "output_type": "stream",
     "text": [
      "Epoch [1/15]:  62%|██████▏   | 64/104 [00:28<00:16,  2.43it/s, Loss=0.205]"
     ]
    },
    {
     "name": "stdout",
     "output_type": "stream",
     "text": [
      "✅ Loaded BraTS19_CBICA_ABM_1: Image torch.Size([3, 224, 224]), Mask torch.Size([224, 224])\n",
      "✅ Loaded BraTS19_CBICA_AYI_1: Image torch.Size([3, 224, 224]), Mask torch.Size([224, 224])\n"
     ]
    },
    {
     "name": "stderr",
     "output_type": "stream",
     "text": [
      "Epoch [1/15]:  62%|██████▎   | 65/104 [00:29<00:15,  2.45it/s, Loss=0.538]"
     ]
    },
    {
     "name": "stdout",
     "output_type": "stream",
     "text": [
      "✅ Loaded BraTS19_CBICA_BKV_1: Image torch.Size([3, 224, 224]), Mask torch.Size([224, 224])\n",
      "✅ Loaded BraTS19_CBICA_AOP_1: Image torch.Size([3, 224, 224]), Mask torch.Size([224, 224])\n"
     ]
    },
    {
     "name": "stderr",
     "output_type": "stream",
     "text": [
      "Epoch [1/15]:  63%|██████▎   | 66/104 [00:29<00:15,  2.44it/s, Loss=0.534]"
     ]
    },
    {
     "name": "stdout",
     "output_type": "stream",
     "text": [
      "✅ Loaded BraTS19_CBICA_AYW_1: Image torch.Size([3, 224, 224]), Mask torch.Size([224, 224])\n",
      "✅ Loaded BraTS19_TCIA06_332_1: Image torch.Size([3, 224, 224]), Mask torch.Size([224, 224])\n"
     ]
    },
    {
     "name": "stderr",
     "output_type": "stream",
     "text": [
      "Epoch [1/15]:  64%|██████▍   | 67/104 [00:30<00:15,  2.42it/s, Loss=0.579]"
     ]
    },
    {
     "name": "stdout",
     "output_type": "stream",
     "text": [
      "✅ Loaded BraTS19_CBICA_AQU_1: Image torch.Size([3, 224, 224]), Mask torch.Size([224, 224])\n",
      "✅ Loaded BraTS19_TCIA06_184_1: Image torch.Size([3, 224, 224]), Mask torch.Size([224, 224])\n"
     ]
    },
    {
     "name": "stderr",
     "output_type": "stream",
     "text": [
      "Epoch [1/15]:  65%|██████▌   | 68/104 [00:30<00:14,  2.41it/s, Loss=0.342]"
     ]
    },
    {
     "name": "stdout",
     "output_type": "stream",
     "text": [
      "✅ Loaded BraTS19_TCIA03_498_1: Image torch.Size([3, 224, 224]), Mask torch.Size([224, 224])\n",
      "✅ Loaded BraTS19_TCIA08_167_1: Image torch.Size([3, 224, 224]), Mask torch.Size([224, 224])\n"
     ]
    },
    {
     "name": "stderr",
     "output_type": "stream",
     "text": [
      "Epoch [1/15]:  66%|██████▋   | 69/104 [00:30<00:14,  2.41it/s, Loss=0.203]"
     ]
    },
    {
     "name": "stdout",
     "output_type": "stream",
     "text": [
      "✅ Loaded BraTS19_CBICA_BCF_1: Image torch.Size([3, 224, 224]), Mask torch.Size([224, 224])\n",
      "✅ Loaded BraTS19_TCIA06_247_1: Image torch.Size([3, 224, 224]), Mask torch.Size([224, 224])\n"
     ]
    },
    {
     "name": "stderr",
     "output_type": "stream",
     "text": [
      "Epoch [1/15]:  67%|██████▋   | 70/104 [00:31<00:14,  2.38it/s, Loss=0.751]"
     ]
    },
    {
     "name": "stdout",
     "output_type": "stream",
     "text": [
      "✅ Loaded BraTS19_CBICA_ATF_1: Image torch.Size([3, 224, 224]), Mask torch.Size([224, 224])\n",
      "✅ Loaded BraTS19_TCIA03_474_1: Image torch.Size([3, 224, 224]), Mask torch.Size([224, 224])\n"
     ]
    },
    {
     "name": "stderr",
     "output_type": "stream",
     "text": [
      "Epoch [1/15]:  68%|██████▊   | 71/104 [00:31<00:13,  2.38it/s, Loss=0.344]"
     ]
    },
    {
     "name": "stdout",
     "output_type": "stream",
     "text": [
      "✅ Loaded BraTS19_CBICA_BEM_1: Image torch.Size([3, 224, 224]), Mask torch.Size([224, 224])\n",
      "✅ Loaded BraTS19_CBICA_AXM_1: Image torch.Size([3, 224, 224]), Mask torch.Size([224, 224])\n"
     ]
    },
    {
     "name": "stderr",
     "output_type": "stream",
     "text": [
      "Epoch [1/15]:  69%|██████▉   | 72/104 [00:32<00:13,  2.39it/s, Loss=0.453]"
     ]
    },
    {
     "name": "stdout",
     "output_type": "stream",
     "text": [
      "✅ Loaded BraTS19_CBICA_AVT_1: Image torch.Size([3, 224, 224]), Mask torch.Size([224, 224])\n",
      "✅ Loaded BraTS19_TCIA03_265_1: Image torch.Size([3, 224, 224]), Mask torch.Size([224, 224])\n"
     ]
    },
    {
     "name": "stderr",
     "output_type": "stream",
     "text": [
      "Epoch [1/15]:  70%|███████   | 73/104 [00:32<00:12,  2.42it/s, Loss=0.533]"
     ]
    },
    {
     "name": "stdout",
     "output_type": "stream",
     "text": [
      "✅ Loaded BraTS19_CBICA_AQR_1: Image torch.Size([3, 224, 224]), Mask torch.Size([224, 224])\n",
      "✅ Loaded BraTS19_CBICA_APY_1: Image torch.Size([3, 224, 224]), Mask torch.Size([224, 224])\n"
     ]
    },
    {
     "name": "stderr",
     "output_type": "stream",
     "text": [
      "Epoch [1/15]:  71%|███████   | 74/104 [00:32<00:12,  2.37it/s, Loss=0.283]"
     ]
    },
    {
     "name": "stdout",
     "output_type": "stream",
     "text": [
      "✅ Loaded BraTS19_CBICA_BIC_1: Image torch.Size([3, 224, 224]), Mask torch.Size([224, 224])\n",
      "✅ Loaded BraTS19_TCIA02_370_1: Image torch.Size([3, 224, 224]), Mask torch.Size([224, 224])\n"
     ]
    },
    {
     "name": "stderr",
     "output_type": "stream",
     "text": [
      "Epoch [1/15]:  72%|███████▏  | 75/104 [00:33<00:12,  2.37it/s, Loss=0.292]"
     ]
    },
    {
     "name": "stdout",
     "output_type": "stream",
     "text": [
      "✅ Loaded BraTS19_CBICA_AQD_1: Image torch.Size([3, 224, 224]), Mask torch.Size([224, 224])\n",
      "✅ Loaded BraTS19_CBICA_AAG_1: Image torch.Size([3, 224, 224]), Mask torch.Size([224, 224])\n"
     ]
    },
    {
     "name": "stderr",
     "output_type": "stream",
     "text": [
      "Epoch [1/15]:  73%|███████▎  | 76/104 [00:33<00:11,  2.40it/s, Loss=0.246]"
     ]
    },
    {
     "name": "stdout",
     "output_type": "stream",
     "text": [
      "✅ Loaded BraTS19_CBICA_AAP_1: Image torch.Size([3, 224, 224]), Mask torch.Size([224, 224])\n",
      "✅ Loaded BraTS19_TCIA02_300_1: Image torch.Size([3, 224, 224]), Mask torch.Size([224, 224])\n"
     ]
    },
    {
     "name": "stderr",
     "output_type": "stream",
     "text": [
      "Epoch [1/15]:  74%|███████▍  | 77/104 [00:34<00:11,  2.38it/s, Loss=0.237]"
     ]
    },
    {
     "name": "stdout",
     "output_type": "stream",
     "text": [
      "✅ Loaded BraTS19_CBICA_AUA_1: Image torch.Size([3, 224, 224]), Mask torch.Size([224, 224])\n",
      "✅ Loaded BraTS19_CBICA_AQV_1: Image torch.Size([3, 224, 224]), Mask torch.Size([224, 224])\n"
     ]
    },
    {
     "name": "stderr",
     "output_type": "stream",
     "text": [
      "Epoch [1/15]:  75%|███████▌  | 78/104 [00:34<00:10,  2.38it/s, Loss=0.318]"
     ]
    },
    {
     "name": "stdout",
     "output_type": "stream",
     "text": [
      "✅ Loaded BraTS19_CBICA_AQQ_1: Image torch.Size([3, 224, 224]), Mask torch.Size([224, 224])\n",
      "✅ Loaded BraTS19_TCIA08_406_1: Image torch.Size([3, 224, 224]), Mask torch.Size([224, 224])\n"
     ]
    },
    {
     "name": "stderr",
     "output_type": "stream",
     "text": [
      "Epoch [1/15]:  76%|███████▌  | 79/104 [00:35<00:10,  2.38it/s, Loss=0.413]"
     ]
    },
    {
     "name": "stdout",
     "output_type": "stream",
     "text": [
      "✅ Loaded BraTS19_TCIA01_147_1: Image torch.Size([3, 224, 224]), Mask torch.Size([224, 224])\n",
      "✅ Loaded BraTS19_CBICA_AOZ_1: Image torch.Size([3, 224, 224]), Mask torch.Size([224, 224])\n"
     ]
    },
    {
     "name": "stderr",
     "output_type": "stream",
     "text": [
      "Epoch [1/15]:  77%|███████▋  | 80/104 [00:35<00:10,  2.39it/s, Loss=0.303]"
     ]
    },
    {
     "name": "stdout",
     "output_type": "stream",
     "text": [
      "✅ Loaded BraTS19_CBICA_BHB_1: Image torch.Size([3, 224, 224]), Mask torch.Size([224, 224])\n",
      "✅ Loaded BraTS19_TCIA08_105_1: Image torch.Size([3, 224, 224]), Mask torch.Size([224, 224])\n"
     ]
    },
    {
     "name": "stderr",
     "output_type": "stream",
     "text": [
      "Epoch [1/15]:  78%|███████▊  | 81/104 [00:35<00:09,  2.34it/s, Loss=0.335]"
     ]
    },
    {
     "name": "stdout",
     "output_type": "stream",
     "text": [
      "✅ Loaded BraTS19_CBICA_AXJ_1: Image torch.Size([3, 224, 224]), Mask torch.Size([224, 224])\n",
      "✅ Loaded BraTS19_TCIA03_138_1: Image torch.Size([3, 224, 224]), Mask torch.Size([224, 224])\n"
     ]
    },
    {
     "name": "stderr",
     "output_type": "stream",
     "text": [
      "Epoch [1/15]:  79%|███████▉  | 82/104 [00:36<00:09,  2.36it/s, Loss=0.285]"
     ]
    },
    {
     "name": "stdout",
     "output_type": "stream",
     "text": [
      "✅ Loaded BraTS19_TCIA03_121_1: Image torch.Size([3, 224, 224]), Mask torch.Size([224, 224])\n",
      "✅ Loaded BraTS19_CBICA_ASK_1: Image torch.Size([3, 224, 224]), Mask torch.Size([224, 224])\n"
     ]
    },
    {
     "name": "stderr",
     "output_type": "stream",
     "text": [
      "Epoch [1/15]:  80%|███████▉  | 83/104 [00:36<00:08,  2.40it/s, Loss=0.288]"
     ]
    },
    {
     "name": "stdout",
     "output_type": "stream",
     "text": [
      "✅ Loaded BraTS19_CBICA_ATP_1: Image torch.Size([3, 224, 224]), Mask torch.Size([224, 224])\n",
      "✅ Loaded BraTS19_TCIA04_192_1: Image torch.Size([3, 224, 224]), Mask torch.Size([224, 224])\n"
     ]
    },
    {
     "name": "stderr",
     "output_type": "stream",
     "text": [
      "Epoch [1/15]:  81%|████████  | 84/104 [00:37<00:08,  2.46it/s, Loss=0.585]"
     ]
    },
    {
     "name": "stdout",
     "output_type": "stream",
     "text": [
      "✅ Loaded BraTS19_TCIA02_118_1: Image torch.Size([3, 224, 224]), Mask torch.Size([224, 224])\n",
      "✅ Loaded BraTS19_CBICA_AQY_1: Image torch.Size([3, 224, 224]), Mask torch.Size([224, 224])\n"
     ]
    },
    {
     "name": "stderr",
     "output_type": "stream",
     "text": [
      "Epoch [1/15]:  82%|████████▏ | 85/104 [00:37<00:07,  2.44it/s, Loss=0.27] "
     ]
    },
    {
     "name": "stdout",
     "output_type": "stream",
     "text": [
      "✅ Loaded BraTS19_CBICA_AWH_1: Image torch.Size([3, 224, 224]), Mask torch.Size([224, 224])\n",
      "✅ Loaded BraTS19_TCIA01_190_1: Image torch.Size([3, 224, 224]), Mask torch.Size([224, 224])\n"
     ]
    },
    {
     "name": "stderr",
     "output_type": "stream",
     "text": [
      "Epoch [1/15]:  83%|████████▎ | 86/104 [00:37<00:07,  2.46it/s, Loss=0.46]"
     ]
    },
    {
     "name": "stdout",
     "output_type": "stream",
     "text": [
      "✅ Loaded BraTS19_TCIA06_372_1: Image torch.Size([3, 224, 224]), Mask torch.Size([224, 224])\n",
      "✅ Loaded BraTS19_CBICA_BLJ_1: Image torch.Size([3, 224, 224]), Mask torch.Size([224, 224])\n"
     ]
    },
    {
     "name": "stderr",
     "output_type": "stream",
     "text": [
      "Epoch [1/15]:  84%|████████▎ | 87/104 [00:38<00:06,  2.47it/s, Loss=0.223]"
     ]
    },
    {
     "name": "stdout",
     "output_type": "stream",
     "text": [
      "✅ Loaded BraTS19_CBICA_AYA_1: Image torch.Size([3, 224, 224]), Mask torch.Size([224, 224])\n",
      "✅ Loaded BraTS19_TCIA06_603_1: Image torch.Size([3, 224, 224]), Mask torch.Size([224, 224])\n"
     ]
    },
    {
     "name": "stderr",
     "output_type": "stream",
     "text": [
      "Epoch [1/15]:  85%|████████▍ | 88/104 [00:38<00:06,  2.48it/s, Loss=0.208]"
     ]
    },
    {
     "name": "stdout",
     "output_type": "stream",
     "text": [
      "✅ Loaded BraTS19_CBICA_ABN_1: Image torch.Size([3, 224, 224]), Mask torch.Size([224, 224])\n",
      "✅ Loaded BraTS19_TCIA02_455_1: Image torch.Size([3, 224, 224]), Mask torch.Size([224, 224])\n"
     ]
    },
    {
     "name": "stderr",
     "output_type": "stream",
     "text": [
      "Epoch [1/15]:  86%|████████▌ | 89/104 [00:39<00:06,  2.46it/s, Loss=0.75] "
     ]
    },
    {
     "name": "stdout",
     "output_type": "stream",
     "text": [
      "✅ Loaded BraTS19_TCIA01_335_1: Image torch.Size([3, 224, 224]), Mask torch.Size([224, 224])\n",
      "✅ Loaded BraTS19_CBICA_BHM_1: Image torch.Size([3, 224, 224]), Mask torch.Size([224, 224])\n"
     ]
    },
    {
     "name": "stderr",
     "output_type": "stream",
     "text": [
      "Epoch [1/15]:  87%|████████▋ | 90/104 [00:39<00:05,  2.47it/s, Loss=0.169]"
     ]
    },
    {
     "name": "stdout",
     "output_type": "stream",
     "text": [
      "✅ Loaded BraTS19_CBICA_AOC_1: Image torch.Size([3, 224, 224]), Mask torch.Size([224, 224])\n",
      "✅ Loaded BraTS19_TCIA01_180_1: Image torch.Size([3, 224, 224]), Mask torch.Size([224, 224])\n"
     ]
    },
    {
     "name": "stderr",
     "output_type": "stream",
     "text": [
      "Epoch [1/15]:  88%|████████▊ | 91/104 [00:39<00:05,  2.43it/s, Loss=0.323]"
     ]
    },
    {
     "name": "stdout",
     "output_type": "stream",
     "text": [
      "✅ Loaded BraTS19_TCIA03_257_1: Image torch.Size([3, 224, 224]), Mask torch.Size([224, 224])\n",
      "✅ Loaded BraTS19_2013_5_1: Image torch.Size([3, 224, 224]), Mask torch.Size([224, 224])\n"
     ]
    },
    {
     "name": "stderr",
     "output_type": "stream",
     "text": [
      "Epoch [1/15]:  88%|████████▊ | 92/104 [00:40<00:04,  2.42it/s, Loss=0.391]"
     ]
    },
    {
     "name": "stdout",
     "output_type": "stream",
     "text": [
      "✅ Loaded BraTS19_CBICA_AZH_1: Image torch.Size([3, 224, 224]), Mask torch.Size([224, 224])\n",
      "✅ Loaded BraTS19_TMC_21360_1: Image torch.Size([3, 224, 224]), Mask torch.Size([224, 224])\n"
     ]
    },
    {
     "name": "stderr",
     "output_type": "stream",
     "text": [
      "Epoch [1/15]:  89%|████████▉ | 93/104 [00:40<00:04,  2.40it/s, Loss=0.182]"
     ]
    },
    {
     "name": "stdout",
     "output_type": "stream",
     "text": [
      "✅ Loaded BraTS19_CBICA_AUW_1: Image torch.Size([3, 224, 224]), Mask torch.Size([224, 224])\n",
      "✅ Loaded BraTS19_CBICA_AQN_1: Image torch.Size([3, 224, 224]), Mask torch.Size([224, 224])\n"
     ]
    },
    {
     "name": "stderr",
     "output_type": "stream",
     "text": [
      "Epoch [1/15]:  90%|█████████ | 94/104 [00:41<00:04,  2.40it/s, Loss=0.45] "
     ]
    },
    {
     "name": "stdout",
     "output_type": "stream",
     "text": [
      "✅ Loaded BraTS19_TCIA02_430_1: Image torch.Size([3, 224, 224]), Mask torch.Size([224, 224])\n",
      "✅ Loaded BraTS19_TCIA01_235_1: Image torch.Size([3, 224, 224]), Mask torch.Size([224, 224])\n"
     ]
    },
    {
     "name": "stderr",
     "output_type": "stream",
     "text": [
      "Epoch [1/15]:  91%|█████████▏| 95/104 [00:41<00:03,  2.43it/s, Loss=0.373]"
     ]
    },
    {
     "name": "stdout",
     "output_type": "stream",
     "text": [
      "✅ Loaded BraTS19_CBICA_AQJ_1: Image torch.Size([3, 224, 224]), Mask torch.Size([224, 224])\n",
      "✅ Loaded BraTS19_2013_26_1: Image torch.Size([3, 224, 224]), Mask torch.Size([224, 224])\n"
     ]
    },
    {
     "name": "stderr",
     "output_type": "stream",
     "text": [
      "Epoch [1/15]:  92%|█████████▏| 96/104 [00:42<00:03,  2.40it/s, Loss=0.257]"
     ]
    },
    {
     "name": "stdout",
     "output_type": "stream",
     "text": [
      "✅ Loaded BraTS19_2013_11_1: Image torch.Size([3, 224, 224]), Mask torch.Size([224, 224])\n",
      "✅ Loaded BraTS19_TCIA08_218_1: Image torch.Size([3, 224, 224]), Mask torch.Size([224, 224])\n"
     ]
    },
    {
     "name": "stderr",
     "output_type": "stream",
     "text": [
      "Epoch [1/15]:  93%|█████████▎| 97/104 [00:42<00:02,  2.40it/s, Loss=0.346]"
     ]
    },
    {
     "name": "stdout",
     "output_type": "stream",
     "text": [
      "✅ Loaded BraTS19_TCIA02_208_1: Image torch.Size([3, 224, 224]), Mask torch.Size([224, 224])\n",
      "✅ Loaded BraTS19_TCIA02_377_1: Image torch.Size([3, 224, 224]), Mask torch.Size([224, 224])\n"
     ]
    },
    {
     "name": "stderr",
     "output_type": "stream",
     "text": [
      "Epoch [1/15]:  94%|█████████▍| 98/104 [00:42<00:02,  2.39it/s, Loss=0.174]"
     ]
    },
    {
     "name": "stdout",
     "output_type": "stream",
     "text": [
      "✅ Loaded BraTS19_CBICA_AOO_1: Image torch.Size([3, 224, 224]), Mask torch.Size([224, 224])\n",
      "✅ Loaded BraTS19_TCIA02_179_1: Image torch.Size([3, 224, 224]), Mask torch.Size([224, 224])\n"
     ]
    },
    {
     "name": "stderr",
     "output_type": "stream",
     "text": [
      "Epoch [1/15]:  95%|█████████▌| 99/104 [00:43<00:02,  2.37it/s, Loss=0.335]"
     ]
    },
    {
     "name": "stdout",
     "output_type": "stream",
     "text": [
      "✅ Loaded BraTS19_TCIA02_314_1: Image torch.Size([3, 224, 224]), Mask torch.Size([224, 224])\n",
      "✅ Loaded BraTS19_CBICA_AOD_1: Image torch.Size([3, 224, 224]), Mask torch.Size([224, 224])\n"
     ]
    },
    {
     "name": "stderr",
     "output_type": "stream",
     "text": [
      "Epoch [1/15]:  96%|█████████▌| 100/104 [00:43<00:01,  2.38it/s, Loss=0.359]"
     ]
    },
    {
     "name": "stdout",
     "output_type": "stream",
     "text": [
      "✅ Loaded BraTS19_TCIA02_394_1: Image torch.Size([3, 224, 224]), Mask torch.Size([224, 224])\n",
      "✅ Loaded BraTS19_CBICA_BGX_1: Image torch.Size([3, 224, 224]), Mask torch.Size([224, 224])\n"
     ]
    },
    {
     "name": "stderr",
     "output_type": "stream",
     "text": [
      "Epoch [1/15]:  97%|█████████▋| 101/104 [00:44<00:01,  2.38it/s, Loss=0.198]"
     ]
    },
    {
     "name": "stdout",
     "output_type": "stream",
     "text": [
      "✅ Loaded BraTS19_TCIA05_277_1: Image torch.Size([3, 224, 224]), Mask torch.Size([224, 224])\n",
      "✅ Loaded BraTS19_TMC_06290_1: Image torch.Size([3, 224, 224]), Mask torch.Size([224, 224])\n"
     ]
    },
    {
     "name": "stderr",
     "output_type": "stream",
     "text": [
      "Epoch [1/15]:  98%|█████████▊| 102/104 [00:44<00:00,  2.37it/s, Loss=0.354]"
     ]
    },
    {
     "name": "stdout",
     "output_type": "stream",
     "text": [
      "✅ Loaded BraTS19_CBICA_ARZ_1: Image torch.Size([3, 224, 224]), Mask torch.Size([224, 224])\n",
      "✅ Loaded BraTS19_CBICA_AWV_1: Image torch.Size([3, 224, 224]), Mask torch.Size([224, 224])\n"
     ]
    },
    {
     "name": "stderr",
     "output_type": "stream",
     "text": [
      "                                                                           "
     ]
    },
    {
     "name": "stdout",
     "output_type": "stream",
     "text": [
      "✅ Loaded BraTS19_TCIA08_469_1: Image torch.Size([3, 224, 224]), Mask torch.Size([224, 224])\n",
      "\n",
      "✅ Epoch 1: Train Loss: 0.3644\n"
     ]
    },
    {
     "name": "stderr",
     "output_type": "stream",
     "text": [
      "\r"
     ]
    },
    {
     "name": "stdout",
     "output_type": "stream",
     "text": [
      "💾 Saved model at epoch 1 with train loss 0.3644\n"
     ]
    },
    {
     "name": "stderr",
     "output_type": "stream",
     "text": [
      "Epoch [2/15]:   0%|          | 0/104 [00:00<?, ?it/s]"
     ]
    },
    {
     "name": "stdout",
     "output_type": "stream",
     "text": [
      "✅ Loaded BraTS19_CBICA_AQY_1: Image torch.Size([3, 224, 224]), Mask torch.Size([224, 224])\n",
      "✅ Loaded BraTS19_TCIA03_265_1: Image torch.Size([3, 224, 224]), Mask torch.Size([224, 224])\n"
     ]
    },
    {
     "name": "stderr",
     "output_type": "stream",
     "text": [
      "Epoch [2/15]:   1%|          | 1/104 [00:00<00:42,  2.40it/s, Loss=0.24]"
     ]
    },
    {
     "name": "stdout",
     "output_type": "stream",
     "text": [
      "✅ Loaded BraTS19_TCIA01_499_1: Image torch.Size([3, 224, 224]), Mask torch.Size([224, 224])\n",
      "✅ Loaded BraTS19_CBICA_AXW_1: Image torch.Size([3, 224, 224]), Mask torch.Size([224, 224])\n"
     ]
    },
    {
     "name": "stderr",
     "output_type": "stream",
     "text": [
      "Epoch [2/15]:   2%|▏         | 2/104 [00:00<00:42,  2.40it/s, Loss=0.456]"
     ]
    },
    {
     "name": "stdout",
     "output_type": "stream",
     "text": [
      "✅ Loaded BraTS19_CBICA_AQQ_1: Image torch.Size([3, 224, 224]), Mask torch.Size([224, 224])\n",
      "✅ Loaded BraTS19_TCIA06_165_1: Image torch.Size([3, 224, 224]), Mask torch.Size([224, 224])\n"
     ]
    },
    {
     "name": "stderr",
     "output_type": "stream",
     "text": [
      "Epoch [2/15]:   3%|▎         | 3/104 [00:01<00:42,  2.36it/s, Loss=0.354]"
     ]
    },
    {
     "name": "stdout",
     "output_type": "stream",
     "text": [
      "✅ Loaded BraTS19_2013_17_1: Image torch.Size([3, 224, 224]), Mask torch.Size([224, 224])\n",
      "✅ Loaded BraTS19_TCIA01_448_1: Image torch.Size([3, 224, 224]), Mask torch.Size([224, 224])\n"
     ]
    },
    {
     "name": "stderr",
     "output_type": "stream",
     "text": [
      "Epoch [2/15]:   4%|▍         | 4/104 [00:01<00:42,  2.34it/s, Loss=0.215]"
     ]
    },
    {
     "name": "stdout",
     "output_type": "stream",
     "text": [
      "✅ Loaded BraTS19_TCIA01_460_1: Image torch.Size([3, 224, 224]), Mask torch.Size([224, 224])\n",
      "✅ Loaded BraTS19_TCIA02_179_1: Image torch.Size([3, 224, 224]), Mask torch.Size([224, 224])\n"
     ]
    },
    {
     "name": "stderr",
     "output_type": "stream",
     "text": [
      "Epoch [2/15]:   5%|▍         | 5/104 [00:02<00:41,  2.36it/s, Loss=0.303]"
     ]
    },
    {
     "name": "stdout",
     "output_type": "stream",
     "text": [
      "✅ Loaded BraTS19_CBICA_ARW_1: Image torch.Size([3, 224, 224]), Mask torch.Size([224, 224])\n",
      "✅ Loaded BraTS19_2013_5_1: Image torch.Size([3, 224, 224]), Mask torch.Size([224, 224])\n"
     ]
    },
    {
     "name": "stderr",
     "output_type": "stream",
     "text": [
      "Epoch [2/15]:   6%|▌         | 6/104 [00:02<00:41,  2.37it/s, Loss=0.35] "
     ]
    },
    {
     "name": "stdout",
     "output_type": "stream",
     "text": [
      "✅ Loaded BraTS19_TCIA05_444_1: Image torch.Size([3, 224, 224]), Mask torch.Size([224, 224])\n",
      "✅ Loaded BraTS19_CBICA_BGR_1: Image torch.Size([3, 224, 224]), Mask torch.Size([224, 224])\n"
     ]
    },
    {
     "name": "stderr",
     "output_type": "stream",
     "text": [
      "Epoch [2/15]:   7%|▋         | 7/104 [00:02<00:40,  2.41it/s, Loss=0.238]"
     ]
    },
    {
     "name": "stdout",
     "output_type": "stream",
     "text": [
      "✅ Loaded BraTS19_TCIA01_180_1: Image torch.Size([3, 224, 224]), Mask torch.Size([224, 224])\n",
      "✅ Loaded BraTS19_CBICA_BGO_1: Image torch.Size([3, 224, 224]), Mask torch.Size([224, 224])\n"
     ]
    },
    {
     "name": "stderr",
     "output_type": "stream",
     "text": [
      "Epoch [2/15]:   8%|▊         | 8/104 [00:03<00:39,  2.41it/s, Loss=0.31] "
     ]
    },
    {
     "name": "stdout",
     "output_type": "stream",
     "text": [
      "✅ Loaded BraTS19_CBICA_BIC_1: Image torch.Size([3, 224, 224]), Mask torch.Size([224, 224])\n",
      "✅ Loaded BraTS19_TCIA01_390_1: Image torch.Size([3, 224, 224]), Mask torch.Size([224, 224])\n"
     ]
    },
    {
     "name": "stderr",
     "output_type": "stream",
     "text": [
      "Epoch [2/15]:   9%|▊         | 9/104 [00:03<00:39,  2.41it/s, Loss=0.321]"
     ]
    },
    {
     "name": "stdout",
     "output_type": "stream",
     "text": [
      "✅ Loaded BraTS19_TCIA03_474_1: Image torch.Size([3, 224, 224]), Mask torch.Size([224, 224])\n",
      "✅ Loaded BraTS19_CBICA_AQG_1: Image torch.Size([3, 224, 224]), Mask torch.Size([224, 224])\n"
     ]
    },
    {
     "name": "stderr",
     "output_type": "stream",
     "text": [
      "Epoch [2/15]:  10%|▉         | 10/104 [00:04<00:39,  2.40it/s, Loss=0.42]"
     ]
    },
    {
     "name": "stdout",
     "output_type": "stream",
     "text": [
      "✅ Loaded BraTS19_CBICA_ATX_1: Image torch.Size([3, 224, 224]), Mask torch.Size([224, 224])\n",
      "✅ Loaded BraTS19_2013_18_1: Image torch.Size([3, 224, 224]), Mask torch.Size([224, 224])\n"
     ]
    },
    {
     "name": "stderr",
     "output_type": "stream",
     "text": [
      "Epoch [2/15]:  11%|█         | 11/104 [00:04<00:38,  2.40it/s, Loss=0.264]"
     ]
    },
    {
     "name": "stdout",
     "output_type": "stream",
     "text": [
      "✅ Loaded BraTS19_TCIA02_198_1: Image torch.Size([3, 224, 224]), Mask torch.Size([224, 224])\n",
      "✅ Loaded BraTS19_TCIA02_309_1: Image torch.Size([3, 224, 224]), Mask torch.Size([224, 224])\n"
     ]
    },
    {
     "name": "stderr",
     "output_type": "stream",
     "text": [
      "Epoch [2/15]:  12%|█▏        | 12/104 [00:04<00:37,  2.43it/s, Loss=0.291]"
     ]
    },
    {
     "name": "stdout",
     "output_type": "stream",
     "text": [
      "✅ Loaded BraTS19_TCIA02_135_1: Image torch.Size([3, 224, 224]), Mask torch.Size([224, 224])\n",
      "✅ Loaded BraTS19_CBICA_ASR_1: Image torch.Size([3, 224, 224]), Mask torch.Size([224, 224])\n"
     ]
    },
    {
     "name": "stderr",
     "output_type": "stream",
     "text": [
      "Epoch [2/15]:  12%|█▎        | 13/104 [00:05<00:37,  2.42it/s, Loss=0.372]"
     ]
    },
    {
     "name": "stdout",
     "output_type": "stream",
     "text": [
      "✅ Loaded BraTS19_CBICA_ALX_1: Image torch.Size([3, 224, 224]), Mask torch.Size([224, 224])\n",
      "✅ Loaded BraTS19_TCIA02_151_1: Image torch.Size([3, 224, 224]), Mask torch.Size([224, 224])\n"
     ]
    },
    {
     "name": "stderr",
     "output_type": "stream",
     "text": [
      "Epoch [2/15]:  13%|█▎        | 14/104 [00:05<00:37,  2.40it/s, Loss=0.23] "
     ]
    },
    {
     "name": "stdout",
     "output_type": "stream",
     "text": [
      "✅ Loaded BraTS19_TCIA03_338_1: Image torch.Size([3, 224, 224]), Mask torch.Size([224, 224])\n",
      "✅ Loaded BraTS19_CBICA_AYI_1: Image torch.Size([3, 224, 224]), Mask torch.Size([224, 224])\n"
     ]
    },
    {
     "name": "stderr",
     "output_type": "stream",
     "text": [
      "Epoch [2/15]:  14%|█▍        | 15/104 [00:06<00:36,  2.41it/s, Loss=0.751]"
     ]
    },
    {
     "name": "stdout",
     "output_type": "stream",
     "text": [
      "✅ Loaded BraTS19_TCIA06_211_1: Image torch.Size([3, 224, 224]), Mask torch.Size([224, 224])\n",
      "✅ Loaded BraTS19_TCIA02_370_1: Image torch.Size([3, 224, 224]), Mask torch.Size([224, 224])\n"
     ]
    },
    {
     "name": "stderr",
     "output_type": "stream",
     "text": [
      "Epoch [2/15]:  15%|█▌        | 16/104 [00:06<00:36,  2.41it/s, Loss=0.275]"
     ]
    },
    {
     "name": "stdout",
     "output_type": "stream",
     "text": [
      "✅ Loaded BraTS19_CBICA_AQU_1: Image torch.Size([3, 224, 224]), Mask torch.Size([224, 224])\n",
      "✅ Loaded BraTS19_CBICA_ALN_1: Image torch.Size([3, 224, 224]), Mask torch.Size([224, 224])\n"
     ]
    },
    {
     "name": "stderr",
     "output_type": "stream",
     "text": [
      "Epoch [2/15]:  16%|█▋        | 17/104 [00:07<00:35,  2.44it/s, Loss=0.34] "
     ]
    },
    {
     "name": "stdout",
     "output_type": "stream",
     "text": [
      "✅ Loaded BraTS19_CBICA_APY_1: Image torch.Size([3, 224, 224]), Mask torch.Size([224, 224])\n",
      "✅ Loaded BraTS19_CBICA_ANI_1: Image torch.Size([3, 224, 224]), Mask torch.Size([224, 224])\n"
     ]
    },
    {
     "name": "stderr",
     "output_type": "stream",
     "text": [
      "Epoch [2/15]:  17%|█▋        | 18/104 [00:07<00:35,  2.43it/s, Loss=0.298]"
     ]
    },
    {
     "name": "stdout",
     "output_type": "stream",
     "text": [
      "✅ Loaded BraTS19_CBICA_ASG_1: Image torch.Size([3, 224, 224]), Mask torch.Size([224, 224])\n",
      "✅ Loaded BraTS19_TCIA01_401_1: Image torch.Size([3, 224, 224]), Mask torch.Size([224, 224])\n"
     ]
    },
    {
     "name": "stderr",
     "output_type": "stream",
     "text": [
      "Epoch [2/15]:  18%|█▊        | 19/104 [00:07<00:35,  2.42it/s, Loss=0.227]"
     ]
    },
    {
     "name": "stdout",
     "output_type": "stream",
     "text": [
      "✅ Loaded BraTS19_2013_12_1: Image torch.Size([3, 224, 224]), Mask torch.Size([224, 224])\n",
      "✅ Loaded BraTS19_CBICA_ANV_1: Image torch.Size([3, 224, 224]), Mask torch.Size([224, 224])\n"
     ]
    },
    {
     "name": "stderr",
     "output_type": "stream",
     "text": [
      "Epoch [2/15]:  19%|█▉        | 20/104 [00:08<00:34,  2.41it/s, Loss=0.264]"
     ]
    },
    {
     "name": "stdout",
     "output_type": "stream",
     "text": [
      "✅ Loaded BraTS19_CBICA_BFP_1: Image torch.Size([3, 224, 224]), Mask torch.Size([224, 224])\n",
      "✅ Loaded BraTS19_CBICA_AOZ_1: Image torch.Size([3, 224, 224]), Mask torch.Size([224, 224])\n"
     ]
    },
    {
     "name": "stderr",
     "output_type": "stream",
     "text": [
      "Epoch [2/15]:  20%|██        | 21/104 [00:08<00:34,  2.41it/s, Loss=0.357]"
     ]
    },
    {
     "name": "stdout",
     "output_type": "stream",
     "text": [
      "✅ Loaded BraTS19_TCIA01_190_1: Image torch.Size([3, 224, 224]), Mask torch.Size([224, 224])\n",
      "✅ Loaded BraTS19_TCIA01_235_1: Image torch.Size([3, 224, 224]), Mask torch.Size([224, 224])\n"
     ]
    },
    {
     "name": "stderr",
     "output_type": "stream",
     "text": [
      "Epoch [2/15]:  21%|██        | 22/104 [00:09<00:34,  2.35it/s, Loss=0.629]"
     ]
    },
    {
     "name": "stdout",
     "output_type": "stream",
     "text": [
      "✅ Loaded BraTS19_CBICA_ATP_1: Image torch.Size([3, 224, 224]), Mask torch.Size([224, 224])\n",
      "✅ Loaded BraTS19_CBICA_AOH_1: Image torch.Size([3, 224, 224]), Mask torch.Size([224, 224])\n"
     ]
    },
    {
     "name": "stderr",
     "output_type": "stream",
     "text": [
      "Epoch [2/15]:  22%|██▏       | 23/104 [00:09<00:35,  2.26it/s, Loss=0.578]"
     ]
    },
    {
     "name": "stdout",
     "output_type": "stream",
     "text": [
      "✅ Loaded BraTS19_CBICA_AXL_1: Image torch.Size([3, 224, 224]), Mask torch.Size([224, 224])\n",
      "✅ Loaded BraTS19_CBICA_AOD_1: Image torch.Size([3, 224, 224]), Mask torch.Size([224, 224])\n"
     ]
    },
    {
     "name": "stderr",
     "output_type": "stream",
     "text": [
      "Epoch [2/15]:  23%|██▎       | 24/104 [00:10<00:35,  2.25it/s, Loss=0.265]"
     ]
    },
    {
     "name": "stdout",
     "output_type": "stream",
     "text": [
      "✅ Loaded BraTS19_CBICA_BGN_1: Image torch.Size([3, 224, 224]), Mask torch.Size([224, 224])\n",
      "✅ Loaded BraTS19_TMC_06290_1: Image torch.Size([3, 224, 224]), Mask torch.Size([224, 224])\n"
     ]
    },
    {
     "name": "stderr",
     "output_type": "stream",
     "text": [
      "Epoch [2/15]:  24%|██▍       | 25/104 [00:10<00:35,  2.21it/s, Loss=0.389]"
     ]
    },
    {
     "name": "stdout",
     "output_type": "stream",
     "text": [
      "✅ Loaded BraTS19_CBICA_AWH_1: Image torch.Size([3, 224, 224]), Mask torch.Size([224, 224])\n",
      "✅ Loaded BraTS19_CBICA_BHB_1: Image torch.Size([3, 224, 224]), Mask torch.Size([224, 224])\n"
     ]
    },
    {
     "name": "stderr",
     "output_type": "stream",
     "text": [
      "Epoch [2/15]:  25%|██▌       | 26/104 [00:11<00:35,  2.19it/s, Loss=0.527]"
     ]
    },
    {
     "name": "stdout",
     "output_type": "stream",
     "text": [
      "✅ Loaded BraTS19_CBICA_AAB_1: Image torch.Size([3, 224, 224]), Mask torch.Size([224, 224])\n",
      "✅ Loaded BraTS19_CBICA_APR_1: Image torch.Size([3, 224, 224]), Mask torch.Size([224, 224])\n"
     ]
    },
    {
     "name": "stderr",
     "output_type": "stream",
     "text": [
      "Epoch [2/15]:  26%|██▌       | 27/104 [00:11<00:35,  2.18it/s, Loss=0.361]"
     ]
    },
    {
     "name": "stdout",
     "output_type": "stream",
     "text": [
      "✅ Loaded BraTS19_TCIA02_368_1: Image torch.Size([3, 224, 224]), Mask torch.Size([224, 224])\n",
      "✅ Loaded BraTS19_CBICA_AWV_1: Image torch.Size([3, 224, 224]), Mask torch.Size([224, 224])\n"
     ]
    },
    {
     "name": "stderr",
     "output_type": "stream",
     "text": [
      "Epoch [2/15]:  27%|██▋       | 28/104 [00:11<00:35,  2.17it/s, Loss=0.205]"
     ]
    },
    {
     "name": "stdout",
     "output_type": "stream",
     "text": [
      "✅ Loaded BraTS19_TCIA02_226_1: Image torch.Size([3, 224, 224]), Mask torch.Size([224, 224])\n",
      "✅ Loaded BraTS19_TCIA04_343_1: Image torch.Size([3, 224, 224]), Mask torch.Size([224, 224])\n"
     ]
    },
    {
     "name": "stderr",
     "output_type": "stream",
     "text": [
      "Epoch [2/15]:  28%|██▊       | 29/104 [00:12<00:34,  2.18it/s, Loss=0.367]"
     ]
    },
    {
     "name": "stdout",
     "output_type": "stream",
     "text": [
      "✅ Loaded BraTS19_TCIA02_118_1: Image torch.Size([3, 224, 224]), Mask torch.Size([224, 224])\n",
      "✅ Loaded BraTS19_TCIA03_296_1: Image torch.Size([3, 224, 224]), Mask torch.Size([224, 224])\n"
     ]
    },
    {
     "name": "stderr",
     "output_type": "stream",
     "text": [
      "Epoch [2/15]:  29%|██▉       | 30/104 [00:12<00:34,  2.14it/s, Loss=0.352]"
     ]
    },
    {
     "name": "stdout",
     "output_type": "stream",
     "text": [
      "✅ Loaded BraTS19_TCIA01_412_1: Image torch.Size([3, 224, 224]), Mask torch.Size([224, 224])\n",
      "✅ Loaded BraTS19_CBICA_ABO_1: Image torch.Size([3, 224, 224]), Mask torch.Size([224, 224])\n"
     ]
    },
    {
     "name": "stderr",
     "output_type": "stream",
     "text": [
      "Epoch [2/15]:  30%|██▉       | 31/104 [00:13<00:34,  2.15it/s, Loss=0.293]"
     ]
    },
    {
     "name": "stdout",
     "output_type": "stream",
     "text": [
      "✅ Loaded BraTS19_CBICA_AQD_1: Image torch.Size([3, 224, 224]), Mask torch.Size([224, 224])\n",
      "✅ Loaded BraTS19_CBICA_ABE_1: Image torch.Size([3, 224, 224]), Mask torch.Size([224, 224])\n"
     ]
    },
    {
     "name": "stderr",
     "output_type": "stream",
     "text": [
      "Epoch [2/15]:  31%|███       | 32/104 [00:13<00:33,  2.14it/s, Loss=0.37] "
     ]
    },
    {
     "name": "stdout",
     "output_type": "stream",
     "text": [
      "✅ Loaded BraTS19_CBICA_AME_1: Image torch.Size([3, 224, 224]), Mask torch.Size([224, 224])\n",
      "✅ Loaded BraTS19_CBICA_AYA_1: Image torch.Size([3, 224, 224]), Mask torch.Size([224, 224])\n"
     ]
    },
    {
     "name": "stderr",
     "output_type": "stream",
     "text": [
      "Epoch [2/15]:  32%|███▏      | 33/104 [00:14<00:33,  2.15it/s, Loss=0.573]"
     ]
    },
    {
     "name": "stdout",
     "output_type": "stream",
     "text": [
      "✅ Loaded BraTS19_CBICA_ASU_1: Image torch.Size([3, 224, 224]), Mask torch.Size([224, 224])\n",
      "✅ Loaded BraTS19_CBICA_AMH_1: Image torch.Size([3, 224, 224]), Mask torch.Size([224, 224])\n"
     ]
    },
    {
     "name": "stderr",
     "output_type": "stream",
     "text": [
      "Epoch [2/15]:  33%|███▎      | 34/104 [00:14<00:32,  2.17it/s, Loss=0.272]"
     ]
    },
    {
     "name": "stdout",
     "output_type": "stream",
     "text": [
      "✅ Loaded BraTS19_TCIA02_300_1: Image torch.Size([3, 224, 224]), Mask torch.Size([224, 224])\n",
      "✅ Loaded BraTS19_CBICA_AWG_1: Image torch.Size([3, 224, 224]), Mask torch.Size([224, 224])\n"
     ]
    },
    {
     "name": "stderr",
     "output_type": "stream",
     "text": [
      "Epoch [2/15]:  34%|███▎      | 35/104 [00:15<00:32,  2.13it/s, Loss=0.21] "
     ]
    },
    {
     "name": "stdout",
     "output_type": "stream",
     "text": [
      "✅ Loaded BraTS19_CBICA_BEM_1: Image torch.Size([3, 224, 224]), Mask torch.Size([224, 224])\n",
      "✅ Loaded BraTS19_CBICA_AQP_1: Image torch.Size([3, 224, 224]), Mask torch.Size([224, 224])\n"
     ]
    },
    {
     "name": "stderr",
     "output_type": "stream",
     "text": [
      "Epoch [2/15]:  35%|███▍      | 36/104 [00:15<00:31,  2.14it/s, Loss=0.402]"
     ]
    },
    {
     "name": "stdout",
     "output_type": "stream",
     "text": [
      "✅ Loaded BraTS19_CBICA_AQN_1: Image torch.Size([3, 224, 224]), Mask torch.Size([224, 224])\n",
      "✅ Loaded BraTS19_CBICA_AWI_1: Image torch.Size([3, 224, 224]), Mask torch.Size([224, 224])\n"
     ]
    },
    {
     "name": "stderr",
     "output_type": "stream",
     "text": [
      "Epoch [2/15]:  36%|███▌      | 37/104 [00:16<00:30,  2.17it/s, Loss=0.564]"
     ]
    },
    {
     "name": "stdout",
     "output_type": "stream",
     "text": [
      "✅ Loaded BraTS19_CBICA_ABN_1: Image torch.Size([3, 224, 224]), Mask torch.Size([224, 224])\n",
      "✅ Loaded BraTS19_CBICA_BHK_1: Image torch.Size([3, 224, 224]), Mask torch.Size([224, 224])\n"
     ]
    },
    {
     "name": "stderr",
     "output_type": "stream",
     "text": [
      "Epoch [2/15]:  37%|███▋      | 38/104 [00:16<00:29,  2.21it/s, Loss=0.381]"
     ]
    },
    {
     "name": "stdout",
     "output_type": "stream",
     "text": [
      "✅ Loaded BraTS19_TCIA01_411_1: Image torch.Size([3, 224, 224]), Mask torch.Size([224, 224])\n",
      "✅ Loaded BraTS19_TCIA01_378_1: Image torch.Size([3, 224, 224]), Mask torch.Size([224, 224])\n"
     ]
    },
    {
     "name": "stderr",
     "output_type": "stream",
     "text": [
      "Epoch [2/15]:  38%|███▊      | 39/104 [00:16<00:28,  2.29it/s, Loss=0.252]"
     ]
    },
    {
     "name": "stdout",
     "output_type": "stream",
     "text": [
      "✅ Loaded BraTS19_CBICA_ALU_1: Image torch.Size([3, 224, 224]), Mask torch.Size([224, 224])\n",
      "✅ Loaded BraTS19_TCIA02_168_1: Image torch.Size([3, 224, 224]), Mask torch.Size([224, 224])\n"
     ]
    },
    {
     "name": "stderr",
     "output_type": "stream",
     "text": [
      "Epoch [2/15]:  38%|███▊      | 40/104 [00:17<00:27,  2.32it/s, Loss=0.296]"
     ]
    },
    {
     "name": "stdout",
     "output_type": "stream",
     "text": [
      "✅ Loaded BraTS19_TCIA06_409_1: Image torch.Size([3, 224, 224]), Mask torch.Size([224, 224])\n",
      "✅ Loaded BraTS19_2013_3_1: Image torch.Size([3, 224, 224]), Mask torch.Size([224, 224])\n"
     ]
    },
    {
     "name": "stderr",
     "output_type": "stream",
     "text": [
      "Epoch [2/15]:  39%|███▉      | 41/104 [00:17<00:26,  2.34it/s, Loss=0.208]"
     ]
    },
    {
     "name": "stdout",
     "output_type": "stream",
     "text": [
      "✅ Loaded BraTS19_TCIA02_331_1: Image torch.Size([3, 224, 224]), Mask torch.Size([224, 224])\n",
      "✅ Loaded BraTS19_CBICA_ASV_1: Image torch.Size([3, 224, 224]), Mask torch.Size([224, 224])\n"
     ]
    },
    {
     "name": "stderr",
     "output_type": "stream",
     "text": [
      "Epoch [2/15]:  40%|████      | 42/104 [00:18<00:25,  2.39it/s, Loss=0.178]"
     ]
    },
    {
     "name": "stdout",
     "output_type": "stream",
     "text": [
      "✅ Loaded BraTS19_2013_21_1: Image torch.Size([3, 224, 224]), Mask torch.Size([224, 224])\n",
      "✅ Loaded BraTS19_TCIA06_603_1: Image torch.Size([3, 224, 224]), Mask torch.Size([224, 224])\n"
     ]
    },
    {
     "name": "stderr",
     "output_type": "stream",
     "text": [
      "Epoch [2/15]:  41%|████▏     | 43/104 [00:18<00:25,  2.39it/s, Loss=0.235]"
     ]
    },
    {
     "name": "stdout",
     "output_type": "stream",
     "text": [
      "✅ Loaded BraTS19_TCIA02_606_1: Image torch.Size([3, 224, 224]), Mask torch.Size([224, 224])\n",
      "✅ Loaded BraTS19_CBICA_AUA_1: Image torch.Size([3, 224, 224]), Mask torch.Size([224, 224])\n"
     ]
    },
    {
     "name": "stderr",
     "output_type": "stream",
     "text": [
      "Epoch [2/15]:  42%|████▏     | 44/104 [00:19<00:25,  2.39it/s, Loss=0.24] "
     ]
    },
    {
     "name": "stdout",
     "output_type": "stream",
     "text": [
      "✅ Loaded BraTS19_2013_14_1: Image torch.Size([3, 224, 224]), Mask torch.Size([224, 224])\n",
      "✅ Loaded BraTS19_CBICA_AUN_1: Image torch.Size([3, 224, 224]), Mask torch.Size([224, 224])\n"
     ]
    },
    {
     "name": "stderr",
     "output_type": "stream",
     "text": [
      "Epoch [2/15]:  43%|████▎     | 45/104 [00:19<00:24,  2.40it/s, Loss=0.275]"
     ]
    },
    {
     "name": "stdout",
     "output_type": "stream",
     "text": [
      "✅ Loaded BraTS19_CBICA_AVT_1: Image torch.Size([3, 224, 224]), Mask torch.Size([224, 224])\n",
      "✅ Loaded BraTS19_CBICA_BCF_1: Image torch.Size([3, 224, 224]), Mask torch.Size([224, 224])\n"
     ]
    },
    {
     "name": "stderr",
     "output_type": "stream",
     "text": [
      "Epoch [2/15]:  44%|████▍     | 46/104 [00:19<00:24,  2.34it/s, Loss=0.383]"
     ]
    },
    {
     "name": "stdout",
     "output_type": "stream",
     "text": [
      "✅ Loaded BraTS19_2013_11_1: Image torch.Size([3, 224, 224]), Mask torch.Size([224, 224])\n",
      "✅ Loaded BraTS19_TCIA02_274_1: Image torch.Size([3, 224, 224]), Mask torch.Size([224, 224])\n"
     ]
    },
    {
     "name": "stderr",
     "output_type": "stream",
     "text": [
      "Epoch [2/15]:  45%|████▌     | 47/104 [00:20<00:25,  2.27it/s, Loss=0.34] "
     ]
    },
    {
     "name": "stdout",
     "output_type": "stream",
     "text": [
      "✅ Loaded BraTS19_2013_23_1: Image torch.Size([3, 224, 224]), Mask torch.Size([224, 224])\n",
      "✅ Loaded BraTS19_TCIA03_121_1: Image torch.Size([3, 224, 224]), Mask torch.Size([224, 224])\n"
     ]
    },
    {
     "name": "stderr",
     "output_type": "stream",
     "text": [
      "Epoch [2/15]:  46%|████▌     | 48/104 [00:20<00:23,  2.34it/s, Loss=0.247]"
     ]
    },
    {
     "name": "stdout",
     "output_type": "stream",
     "text": [
      "✅ Loaded BraTS19_TCIA02_290_1: Image torch.Size([3, 224, 224]), Mask torch.Size([224, 224])\n",
      "✅ Loaded BraTS19_TMC_06643_1: Image torch.Size([3, 224, 224]), Mask torch.Size([224, 224])\n"
     ]
    },
    {
     "name": "stderr",
     "output_type": "stream",
     "text": [
      "Epoch [2/15]:  47%|████▋     | 49/104 [00:21<00:23,  2.34it/s, Loss=0.258]"
     ]
    },
    {
     "name": "stdout",
     "output_type": "stream",
     "text": [
      "✅ Loaded BraTS19_CBICA_BHV_1: Image torch.Size([3, 224, 224]), Mask torch.Size([224, 224])\n",
      "✅ Loaded BraTS19_TMC_21360_1: Image torch.Size([3, 224, 224]), Mask torch.Size([224, 224])\n"
     ]
    },
    {
     "name": "stderr",
     "output_type": "stream",
     "text": [
      "Epoch [2/15]:  48%|████▊     | 50/104 [00:21<00:22,  2.37it/s, Loss=0.23] "
     ]
    },
    {
     "name": "stdout",
     "output_type": "stream",
     "text": [
      "✅ Loaded BraTS19_TCIA02_394_1: Image torch.Size([3, 224, 224]), Mask torch.Size([224, 224])\n",
      "✅ Loaded BraTS19_CBICA_AXQ_1: Image torch.Size([3, 224, 224]), Mask torch.Size([224, 224])\n"
     ]
    },
    {
     "name": "stderr",
     "output_type": "stream",
     "text": [
      "Epoch [2/15]:  49%|████▉     | 51/104 [00:22<00:22,  2.39it/s, Loss=0.539]"
     ]
    },
    {
     "name": "stdout",
     "output_type": "stream",
     "text": [
      "✅ Loaded BraTS19_CBICA_AUW_1: Image torch.Size([3, 224, 224]), Mask torch.Size([224, 224])\n",
      "✅ Loaded BraTS19_TCIA03_257_1: Image torch.Size([3, 224, 224]), Mask torch.Size([224, 224])\n"
     ]
    },
    {
     "name": "stderr",
     "output_type": "stream",
     "text": [
      "Epoch [2/15]:  50%|█████     | 52/104 [00:22<00:21,  2.39it/s, Loss=0.296]"
     ]
    },
    {
     "name": "stdout",
     "output_type": "stream",
     "text": [
      "✅ Loaded BraTS19_TCIA08_167_1: Image torch.Size([3, 224, 224]), Mask torch.Size([224, 224])\n",
      "✅ Loaded BraTS19_CBICA_AXJ_1: Image torch.Size([3, 224, 224]), Mask torch.Size([224, 224])\n"
     ]
    },
    {
     "name": "stderr",
     "output_type": "stream",
     "text": [
      "Epoch [2/15]:  51%|█████     | 53/104 [00:22<00:21,  2.42it/s, Loss=0.175]"
     ]
    },
    {
     "name": "stdout",
     "output_type": "stream",
     "text": [
      "✅ Loaded BraTS19_CBICA_ARF_1: Image torch.Size([3, 224, 224]), Mask torch.Size([224, 224])\n",
      "✅ Loaded BraTS19_TCIA02_430_1: Image torch.Size([3, 224, 224]), Mask torch.Size([224, 224])\n"
     ]
    },
    {
     "name": "stderr",
     "output_type": "stream",
     "text": [
      "Epoch [2/15]:  52%|█████▏    | 54/104 [00:23<00:20,  2.40it/s, Loss=0.195]"
     ]
    },
    {
     "name": "stdout",
     "output_type": "stream",
     "text": [
      "✅ Loaded BraTS19_TCIA01_203_1: Image torch.Size([3, 224, 224]), Mask torch.Size([224, 224])\n",
      "✅ Loaded BraTS19_TCIA08_234_1: Image torch.Size([3, 224, 224]), Mask torch.Size([224, 224])\n"
     ]
    },
    {
     "name": "stderr",
     "output_type": "stream",
     "text": [
      "Epoch [2/15]:  53%|█████▎    | 55/104 [00:23<00:20,  2.39it/s, Loss=0.215]"
     ]
    },
    {
     "name": "stdout",
     "output_type": "stream",
     "text": [
      "✅ Loaded BraTS19_TCIA02_321_1: Image torch.Size([3, 224, 224]), Mask torch.Size([224, 224])\n",
      "✅ Loaded BraTS19_CBICA_ATD_1: Image torch.Size([3, 224, 224]), Mask torch.Size([224, 224])\n"
     ]
    },
    {
     "name": "stderr",
     "output_type": "stream",
     "text": [
      "Epoch [2/15]:  54%|█████▍    | 56/104 [00:24<00:20,  2.39it/s, Loss=0.219]"
     ]
    },
    {
     "name": "stdout",
     "output_type": "stream",
     "text": [
      "✅ Loaded BraTS19_CBICA_ABM_1: Image torch.Size([3, 224, 224]), Mask torch.Size([224, 224])\n",
      "✅ Loaded BraTS19_CBICA_BDK_1: Image torch.Size([3, 224, 224]), Mask torch.Size([224, 224])\n"
     ]
    },
    {
     "name": "stderr",
     "output_type": "stream",
     "text": [
      "Epoch [2/15]:  55%|█████▍    | 57/104 [00:24<00:19,  2.39it/s, Loss=0.376]"
     ]
    },
    {
     "name": "stdout",
     "output_type": "stream",
     "text": [
      "✅ Loaded BraTS19_TMC_30014_1: Image torch.Size([3, 224, 224]), Mask torch.Size([224, 224])\n",
      "✅ Loaded BraTS19_CBICA_ANP_1: Image torch.Size([3, 224, 224]), Mask torch.Size([224, 224])\n"
     ]
    },
    {
     "name": "stderr",
     "output_type": "stream",
     "text": [
      "Epoch [2/15]:  56%|█████▌    | 58/104 [00:24<00:19,  2.40it/s, Loss=0.609]"
     ]
    },
    {
     "name": "stdout",
     "output_type": "stream",
     "text": [
      "✅ Loaded BraTS19_TCIA04_192_1: Image torch.Size([3, 224, 224]), Mask torch.Size([224, 224])\n",
      "✅ Loaded BraTS19_TCIA01_231_1: Image torch.Size([3, 224, 224]), Mask torch.Size([224, 224])\n"
     ]
    },
    {
     "name": "stderr",
     "output_type": "stream",
     "text": [
      "Epoch [2/15]:  57%|█████▋    | 59/104 [00:25<00:18,  2.40it/s, Loss=0.308]"
     ]
    },
    {
     "name": "stdout",
     "output_type": "stream",
     "text": [
      "✅ Loaded BraTS19_CBICA_AOC_1: Image torch.Size([3, 224, 224]), Mask torch.Size([224, 224])\n",
      "✅ Loaded BraTS19_CBICA_AQR_1: Image torch.Size([3, 224, 224]), Mask torch.Size([224, 224])\n"
     ]
    },
    {
     "name": "stderr",
     "output_type": "stream",
     "text": [
      "Epoch [2/15]:  58%|█████▊    | 60/104 [00:25<00:18,  2.40it/s, Loss=0.206]"
     ]
    },
    {
     "name": "stdout",
     "output_type": "stream",
     "text": [
      "✅ Loaded BraTS19_CBICA_AUR_1: Image torch.Size([3, 224, 224]), Mask torch.Size([224, 224])\n",
      "✅ Loaded BraTS19_CBICA_BGT_1: Image torch.Size([3, 224, 224]), Mask torch.Size([224, 224])\n"
     ]
    },
    {
     "name": "stderr",
     "output_type": "stream",
     "text": [
      "Epoch [2/15]:  59%|█████▊    | 61/104 [00:26<00:17,  2.40it/s, Loss=0.361]"
     ]
    },
    {
     "name": "stdout",
     "output_type": "stream",
     "text": [
      "✅ Loaded BraTS19_CBICA_ASA_1: Image torch.Size([3, 224, 224]), Mask torch.Size([224, 224])\n",
      "✅ Loaded BraTS19_TCIA01_147_1: Image torch.Size([3, 224, 224]), Mask torch.Size([224, 224])\n"
     ]
    },
    {
     "name": "stderr",
     "output_type": "stream",
     "text": [
      "Epoch [2/15]:  60%|█████▉    | 62/104 [00:26<00:17,  2.39it/s, Loss=0.296]"
     ]
    },
    {
     "name": "stdout",
     "output_type": "stream",
     "text": [
      "✅ Loaded BraTS19_CBICA_ATF_1: Image torch.Size([3, 224, 224]), Mask torch.Size([224, 224])\n",
      "✅ Loaded BraTS19_TCIA01_131_1: Image torch.Size([3, 224, 224]), Mask torch.Size([224, 224])\n"
     ]
    },
    {
     "name": "stderr",
     "output_type": "stream",
     "text": [
      "Epoch [2/15]:  61%|██████    | 63/104 [00:27<00:17,  2.40it/s, Loss=0.431]"
     ]
    },
    {
     "name": "stdout",
     "output_type": "stream",
     "text": [
      "✅ Loaded BraTS19_TCIA02_322_1: Image torch.Size([3, 224, 224]), Mask torch.Size([224, 224])\n",
      "✅ Loaded BraTS19_CBICA_ABY_1: Image torch.Size([3, 224, 224]), Mask torch.Size([224, 224])\n"
     ]
    },
    {
     "name": "stderr",
     "output_type": "stream",
     "text": [
      "Epoch [2/15]:  62%|██████▏   | 64/104 [00:27<00:16,  2.37it/s, Loss=0.422]"
     ]
    },
    {
     "name": "stdout",
     "output_type": "stream",
     "text": [
      "✅ Loaded BraTS19_TMC_12866_1: Image torch.Size([3, 224, 224]), Mask torch.Size([224, 224])\n",
      "✅ Loaded BraTS19_CBICA_BHM_1: Image torch.Size([3, 224, 224]), Mask torch.Size([224, 224])\n"
     ]
    },
    {
     "name": "stderr",
     "output_type": "stream",
     "text": [
      "Epoch [2/15]:  62%|██████▎   | 65/104 [00:27<00:16,  2.35it/s, Loss=0.417]"
     ]
    },
    {
     "name": "stdout",
     "output_type": "stream",
     "text": [
      "✅ Loaded BraTS19_TCIA01_335_1: Image torch.Size([3, 224, 224]), Mask torch.Size([224, 224])\n",
      "✅ Loaded BraTS19_CBICA_AOP_1: Image torch.Size([3, 224, 224]), Mask torch.Size([224, 224])\n"
     ]
    },
    {
     "name": "stderr",
     "output_type": "stream",
     "text": [
      "Epoch [2/15]:  63%|██████▎   | 66/104 [00:28<00:16,  2.34it/s, Loss=0.172]"
     ]
    },
    {
     "name": "stdout",
     "output_type": "stream",
     "text": [
      "✅ Loaded BraTS19_CBICA_AQV_1: Image torch.Size([3, 224, 224]), Mask torch.Size([224, 224])\n",
      "✅ Loaded BraTS19_TCIA02_608_1: Image torch.Size([3, 224, 224]), Mask torch.Size([224, 224])\n"
     ]
    },
    {
     "name": "stderr",
     "output_type": "stream",
     "text": [
      "Epoch [2/15]:  64%|██████▍   | 67/104 [00:28<00:15,  2.36it/s, Loss=0.219]"
     ]
    },
    {
     "name": "stdout",
     "output_type": "stream",
     "text": [
      "✅ Loaded BraTS19_CBICA_ARZ_1: Image torch.Size([3, 224, 224]), Mask torch.Size([224, 224])\n",
      "✅ Loaded BraTS19_TCIA03_199_1: Image torch.Size([3, 224, 224]), Mask torch.Size([224, 224])\n"
     ]
    },
    {
     "name": "stderr",
     "output_type": "stream",
     "text": [
      "Epoch [2/15]:  65%|██████▌   | 68/104 [00:29<00:15,  2.39it/s, Loss=0.257]"
     ]
    },
    {
     "name": "stdout",
     "output_type": "stream",
     "text": [
      "✅ Loaded BraTS19_CBICA_AQZ_1: Image torch.Size([3, 224, 224]), Mask torch.Size([224, 224])\n",
      "✅ Loaded BraTS19_CBICA_AZD_1: Image torch.Size([3, 224, 224]), Mask torch.Size([224, 224])\n"
     ]
    },
    {
     "name": "stderr",
     "output_type": "stream",
     "text": [
      "Epoch [2/15]:  66%|██████▋   | 69/104 [00:29<00:14,  2.40it/s, Loss=0.348]"
     ]
    },
    {
     "name": "stdout",
     "output_type": "stream",
     "text": [
      "✅ Loaded BraTS19_TCIA06_247_1: Image torch.Size([3, 224, 224]), Mask torch.Size([224, 224])\n",
      "✅ Loaded BraTS19_2013_10_1: Image torch.Size([3, 224, 224]), Mask torch.Size([224, 224])\n"
     ]
    },
    {
     "name": "stderr",
     "output_type": "stream",
     "text": [
      "Epoch [2/15]:  67%|██████▋   | 70/104 [00:29<00:13,  2.43it/s, Loss=0.122]"
     ]
    },
    {
     "name": "stdout",
     "output_type": "stream",
     "text": [
      "✅ Loaded BraTS19_TCIA03_133_1: Image torch.Size([3, 224, 224]), Mask torch.Size([224, 224])\n",
      "✅ Loaded BraTS19_CBICA_AZH_1: Image torch.Size([3, 224, 224]), Mask torch.Size([224, 224])\n"
     ]
    },
    {
     "name": "stderr",
     "output_type": "stream",
     "text": [
      "Epoch [2/15]:  68%|██████▊   | 71/104 [00:30<00:13,  2.45it/s, Loss=0.33] "
     ]
    },
    {
     "name": "stdout",
     "output_type": "stream",
     "text": [
      "✅ Loaded BraTS19_CBICA_BGX_1: Image torch.Size([3, 224, 224]), Mask torch.Size([224, 224])\n",
      "✅ Loaded BraTS19_TCIA02_491_1: Image torch.Size([3, 224, 224]), Mask torch.Size([224, 224])\n"
     ]
    },
    {
     "name": "stderr",
     "output_type": "stream",
     "text": [
      "Epoch [2/15]:  69%|██████▉   | 72/104 [00:30<00:13,  2.44it/s, Loss=0.167]"
     ]
    },
    {
     "name": "stdout",
     "output_type": "stream",
     "text": [
      "✅ Loaded BraTS19_TCIA03_138_1: Image torch.Size([3, 224, 224]), Mask torch.Size([224, 224])\n",
      "✅ Loaded BraTS19_CBICA_AUQ_1: Image torch.Size([3, 224, 224]), Mask torch.Size([224, 224])\n"
     ]
    },
    {
     "name": "stderr",
     "output_type": "stream",
     "text": [
      "Epoch [2/15]:  70%|███████   | 73/104 [00:31<00:12,  2.45it/s, Loss=0.284]"
     ]
    },
    {
     "name": "stdout",
     "output_type": "stream",
     "text": [
      "✅ Loaded BraTS19_CBICA_ANZ_1: Image torch.Size([3, 224, 224]), Mask torch.Size([224, 224])\n",
      "✅ Loaded BraTS19_CBICA_AYW_1: Image torch.Size([3, 224, 224]), Mask torch.Size([224, 224])\n"
     ]
    },
    {
     "name": "stderr",
     "output_type": "stream",
     "text": [
      "Epoch [2/15]:  71%|███████   | 74/104 [00:31<00:12,  2.45it/s, Loss=0.491]"
     ]
    },
    {
     "name": "stdout",
     "output_type": "stream",
     "text": [
      "✅ Loaded BraTS19_TCIA02_377_1: Image torch.Size([3, 224, 224]), Mask torch.Size([224, 224])\n",
      "✅ Loaded BraTS19_TCIA05_396_1: Image torch.Size([3, 224, 224]), Mask torch.Size([224, 224])\n"
     ]
    },
    {
     "name": "stderr",
     "output_type": "stream",
     "text": [
      "Epoch [2/15]:  72%|███████▏  | 75/104 [00:32<00:11,  2.45it/s, Loss=0.195]"
     ]
    },
    {
     "name": "stdout",
     "output_type": "stream",
     "text": [
      "✅ Loaded BraTS19_TCIA02_607_1: Image torch.Size([3, 224, 224]), Mask torch.Size([224, 224])\n",
      "✅ Loaded BraTS19_TCIA01_150_1: Image torch.Size([3, 224, 224]), Mask torch.Size([224, 224])\n"
     ]
    },
    {
     "name": "stderr",
     "output_type": "stream",
     "text": [
      "Epoch [2/15]:  73%|███████▎  | 76/104 [00:32<00:11,  2.44it/s, Loss=0.487]"
     ]
    },
    {
     "name": "stdout",
     "output_type": "stream",
     "text": [
      "✅ Loaded BraTS19_CBICA_AYC_1: Image torch.Size([3, 224, 224]), Mask torch.Size([224, 224])\n",
      "✅ Loaded BraTS19_CBICA_BNR_1: Image torch.Size([3, 224, 224]), Mask torch.Size([224, 224])\n"
     ]
    },
    {
     "name": "stderr",
     "output_type": "stream",
     "text": [
      "Epoch [2/15]:  74%|███████▍  | 77/104 [00:32<00:11,  2.43it/s, Loss=0.262]"
     ]
    },
    {
     "name": "stdout",
     "output_type": "stream",
     "text": [
      "✅ Loaded BraTS19_CBICA_BHQ_1: Image torch.Size([3, 224, 224]), Mask torch.Size([224, 224])\n",
      "✅ Loaded BraTS19_CBICA_ASO_1: Image torch.Size([3, 224, 224]), Mask torch.Size([224, 224])\n"
     ]
    },
    {
     "name": "stderr",
     "output_type": "stream",
     "text": [
      "Epoch [2/15]:  75%|███████▌  | 78/104 [00:33<00:10,  2.44it/s, Loss=0.637]"
     ]
    },
    {
     "name": "stdout",
     "output_type": "stream",
     "text": [
      "✅ Loaded BraTS19_TCIA08_162_1: Image torch.Size([3, 224, 224]), Mask torch.Size([224, 224])\n",
      "✅ Loaded BraTS19_CBICA_ASK_1: Image torch.Size([3, 224, 224]), Mask torch.Size([224, 224])\n"
     ]
    },
    {
     "name": "stderr",
     "output_type": "stream",
     "text": [
      "Epoch [2/15]:  76%|███████▌  | 79/104 [00:33<00:10,  2.43it/s, Loss=0.197]"
     ]
    },
    {
     "name": "stdout",
     "output_type": "stream",
     "text": [
      "✅ Loaded BraTS19_CBICA_AUX_1: Image torch.Size([3, 224, 224]), Mask torch.Size([224, 224])\n",
      "✅ Loaded BraTS19_2013_19_1: Image torch.Size([3, 224, 224]), Mask torch.Size([224, 224])\n"
     ]
    },
    {
     "name": "stderr",
     "output_type": "stream",
     "text": [
      "Epoch [2/15]:  77%|███████▋  | 80/104 [00:34<00:09,  2.41it/s, Loss=0.2]  "
     ]
    },
    {
     "name": "stdout",
     "output_type": "stream",
     "text": [
      "✅ Loaded BraTS19_TCIA08_319_1: Image torch.Size([3, 224, 224]), Mask torch.Size([224, 224])\n",
      "✅ Loaded BraTS19_TCIA03_498_1: Image torch.Size([3, 224, 224]), Mask torch.Size([224, 224])\n"
     ]
    },
    {
     "name": "stderr",
     "output_type": "stream",
     "text": [
      "Epoch [2/15]:  78%|███████▊  | 81/104 [00:34<00:09,  2.44it/s, Loss=0.312]"
     ]
    },
    {
     "name": "stdout",
     "output_type": "stream",
     "text": [
      "✅ Loaded BraTS19_CBICA_AVV_1: Image torch.Size([3, 224, 224]), Mask torch.Size([224, 224])\n",
      "✅ Loaded BraTS19_CBICA_AYU_1: Image torch.Size([3, 224, 224]), Mask torch.Size([224, 224])\n"
     ]
    },
    {
     "name": "stderr",
     "output_type": "stream",
     "text": [
      "Epoch [2/15]:  79%|███████▉  | 82/104 [00:34<00:09,  2.44it/s, Loss=0.312]"
     ]
    },
    {
     "name": "stdout",
     "output_type": "stream",
     "text": [
      "✅ Loaded BraTS19_TCIA06_372_1: Image torch.Size([3, 224, 224]), Mask torch.Size([224, 224])\n",
      "✅ Loaded BraTS19_2013_13_1: Image torch.Size([3, 224, 224]), Mask torch.Size([224, 224])\n"
     ]
    },
    {
     "name": "stderr",
     "output_type": "stream",
     "text": [
      "Epoch [2/15]:  80%|███████▉  | 83/104 [00:35<00:08,  2.43it/s, Loss=0.189]"
     ]
    },
    {
     "name": "stdout",
     "output_type": "stream",
     "text": [
      "✅ Loaded BraTS19_TCIA05_277_1: Image torch.Size([3, 224, 224]), Mask torch.Size([224, 224])\n",
      "✅ Loaded BraTS19_TCIA04_479_1: Image torch.Size([3, 224, 224]), Mask torch.Size([224, 224])\n"
     ]
    },
    {
     "name": "stderr",
     "output_type": "stream",
     "text": [
      "Epoch [2/15]:  81%|████████  | 84/104 [00:35<00:08,  2.45it/s, Loss=0.217]"
     ]
    },
    {
     "name": "stdout",
     "output_type": "stream",
     "text": [
      "✅ Loaded BraTS19_CBICA_AXO_1: Image torch.Size([3, 224, 224]), Mask torch.Size([224, 224])\n",
      "✅ Loaded BraTS19_CBICA_AVB_1: Image torch.Size([3, 224, 224]), Mask torch.Size([224, 224])\n"
     ]
    },
    {
     "name": "stderr",
     "output_type": "stream",
     "text": [
      "Epoch [2/15]:  82%|████████▏ | 85/104 [00:36<00:07,  2.42it/s, Loss=0.353]"
     ]
    },
    {
     "name": "stdout",
     "output_type": "stream",
     "text": [
      "✅ Loaded BraTS19_TCIA08_469_1: Image torch.Size([3, 224, 224]), Mask torch.Size([224, 224])\n",
      "✅ Loaded BraTS19_CBICA_BHZ_1: Image torch.Size([3, 224, 224]), Mask torch.Size([224, 224])\n"
     ]
    },
    {
     "name": "stderr",
     "output_type": "stream",
     "text": [
      "Epoch [2/15]:  83%|████████▎ | 86/104 [00:36<00:07,  2.43it/s, Loss=0.236]"
     ]
    },
    {
     "name": "stdout",
     "output_type": "stream",
     "text": [
      "✅ Loaded BraTS19_CBICA_AAP_1: Image torch.Size([3, 224, 224]), Mask torch.Size([224, 224])\n",
      "✅ Loaded BraTS19_CBICA_BLJ_1: Image torch.Size([3, 224, 224]), Mask torch.Size([224, 224])\n"
     ]
    },
    {
     "name": "stderr",
     "output_type": "stream",
     "text": [
      "Epoch [2/15]:  84%|████████▎ | 87/104 [00:36<00:07,  2.42it/s, Loss=0.323]"
     ]
    },
    {
     "name": "stdout",
     "output_type": "stream",
     "text": [
      "✅ Loaded BraTS19_TCIA01_221_1: Image torch.Size([3, 224, 224]), Mask torch.Size([224, 224])\n",
      "✅ Loaded BraTS19_TCIA06_184_1: Image torch.Size([3, 224, 224]), Mask torch.Size([224, 224])\n"
     ]
    },
    {
     "name": "stderr",
     "output_type": "stream",
     "text": [
      "Epoch [2/15]:  85%|████████▍ | 88/104 [00:37<00:06,  2.36it/s, Loss=0.228]"
     ]
    },
    {
     "name": "stdout",
     "output_type": "stream",
     "text": [
      "✅ Loaded BraTS19_TCIA08_105_1: Image torch.Size([3, 224, 224]), Mask torch.Size([224, 224])\n",
      "✅ Loaded BraTS19_CBICA_AQJ_1: Image torch.Size([3, 224, 224]), Mask torch.Size([224, 224])\n"
     ]
    },
    {
     "name": "stderr",
     "output_type": "stream",
     "text": [
      "Epoch [2/15]:  86%|████████▌ | 89/104 [00:37<00:06,  2.29it/s, Loss=0.309]"
     ]
    },
    {
     "name": "stdout",
     "output_type": "stream",
     "text": [
      "✅ Loaded BraTS19_CBICA_ANG_1: Image torch.Size([3, 224, 224]), Mask torch.Size([224, 224])\n",
      "✅ Loaded BraTS19_CBICA_APK_1: Image torch.Size([3, 224, 224]), Mask torch.Size([224, 224])\n"
     ]
    },
    {
     "name": "stderr",
     "output_type": "stream",
     "text": [
      "Epoch [2/15]:  87%|████████▋ | 90/104 [00:38<00:06,  2.24it/s, Loss=0.187]"
     ]
    },
    {
     "name": "stdout",
     "output_type": "stream",
     "text": [
      "✅ Loaded BraTS19_CBICA_AVJ_1: Image torch.Size([3, 224, 224]), Mask torch.Size([224, 224])\n",
      "✅ Loaded BraTS19_CBICA_AVF_1: Image torch.Size([3, 224, 224]), Mask torch.Size([224, 224])\n"
     ]
    },
    {
     "name": "stderr",
     "output_type": "stream",
     "text": [
      "Epoch [2/15]:  88%|████████▊ | 91/104 [00:38<00:05,  2.18it/s, Loss=0.261]"
     ]
    },
    {
     "name": "stdout",
     "output_type": "stream",
     "text": [
      "✅ Loaded BraTS19_CBICA_AOO_1: Image torch.Size([3, 224, 224]), Mask torch.Size([224, 224])\n",
      "✅ Loaded BraTS19_CBICA_BKV_1: Image torch.Size([3, 224, 224]), Mask torch.Size([224, 224])\n"
     ]
    },
    {
     "name": "stderr",
     "output_type": "stream",
     "text": [
      "Epoch [2/15]:  88%|████████▊ | 92/104 [00:39<00:05,  2.15it/s, Loss=0.336]"
     ]
    },
    {
     "name": "stdout",
     "output_type": "stream",
     "text": [
      "✅ Loaded BraTS19_CBICA_AAG_1: Image torch.Size([3, 224, 224]), Mask torch.Size([224, 224])\n",
      "✅ Loaded BraTS19_CBICA_AXM_1: Image torch.Size([3, 224, 224]), Mask torch.Size([224, 224])\n"
     ]
    },
    {
     "name": "stderr",
     "output_type": "stream",
     "text": [
      "Epoch [2/15]:  89%|████████▉ | 93/104 [00:39<00:05,  2.13it/s, Loss=0.203]"
     ]
    },
    {
     "name": "stdout",
     "output_type": "stream",
     "text": [
      "✅ Loaded BraTS19_CBICA_BCL_1: Image torch.Size([3, 224, 224]), Mask torch.Size([224, 224])\n",
      "✅ Loaded BraTS19_CBICA_ATN_1: Image torch.Size([3, 224, 224]), Mask torch.Size([224, 224])\n"
     ]
    },
    {
     "name": "stderr",
     "output_type": "stream",
     "text": [
      "Epoch [2/15]:  90%|█████████ | 94/104 [00:40<00:04,  2.13it/s, Loss=0.493]"
     ]
    },
    {
     "name": "stdout",
     "output_type": "stream",
     "text": [
      "✅ Loaded BraTS19_TCIA08_218_1: Image torch.Size([3, 224, 224]), Mask torch.Size([224, 224])\n",
      "✅ Loaded BraTS19_CBICA_AVG_1: Image torch.Size([3, 224, 224]), Mask torch.Size([224, 224])\n"
     ]
    },
    {
     "name": "stderr",
     "output_type": "stream",
     "text": [
      "Epoch [2/15]:  91%|█████████▏| 95/104 [00:40<00:04,  2.14it/s, Loss=0.18] "
     ]
    },
    {
     "name": "stdout",
     "output_type": "stream",
     "text": [
      "✅ Loaded BraTS19_TCIA02_314_1: Image torch.Size([3, 224, 224]), Mask torch.Size([224, 224])\n",
      "✅ Loaded BraTS19_TCIA06_332_1: Image torch.Size([3, 224, 224]), Mask torch.Size([224, 224])\n"
     ]
    },
    {
     "name": "stderr",
     "output_type": "stream",
     "text": [
      "Epoch [2/15]:  92%|█████████▏| 96/104 [00:41<00:03,  2.14it/s, Loss=0.298]"
     ]
    },
    {
     "name": "stdout",
     "output_type": "stream",
     "text": [
      "✅ Loaded BraTS19_TCIA02_605_1: Image torch.Size([3, 224, 224]), Mask torch.Size([224, 224])\n",
      "✅ Loaded BraTS19_CBICA_ASW_1: Image torch.Size([3, 224, 224]), Mask torch.Size([224, 224])\n"
     ]
    },
    {
     "name": "stderr",
     "output_type": "stream",
     "text": [
      "Epoch [2/15]:  93%|█████████▎| 97/104 [00:41<00:03,  2.14it/s, Loss=0.273]"
     ]
    },
    {
     "name": "stdout",
     "output_type": "stream",
     "text": [
      "✅ Loaded BraTS19_TCIA08_406_1: Image torch.Size([3, 224, 224]), Mask torch.Size([224, 224])\n",
      "✅ Loaded BraTS19_CBICA_ABB_1: Image torch.Size([3, 224, 224]), Mask torch.Size([224, 224])\n"
     ]
    },
    {
     "name": "stderr",
     "output_type": "stream",
     "text": [
      "Epoch [2/15]:  94%|█████████▍| 98/104 [00:42<00:02,  2.14it/s, Loss=0.625]"
     ]
    },
    {
     "name": "stdout",
     "output_type": "stream",
     "text": [
      "✅ Loaded BraTS19_TMC_27374_1: Image torch.Size([3, 224, 224]), Mask torch.Size([224, 224])\n",
      "✅ Loaded BraTS19_CBICA_AYG_1: Image torch.Size([3, 224, 224]), Mask torch.Size([224, 224])\n"
     ]
    },
    {
     "name": "stderr",
     "output_type": "stream",
     "text": [
      "Epoch [2/15]:  95%|█████████▌| 99/104 [00:42<00:02,  2.10it/s, Loss=0.33] "
     ]
    },
    {
     "name": "stdout",
     "output_type": "stream",
     "text": [
      "✅ Loaded BraTS19_2013_26_1: Image torch.Size([3, 224, 224]), Mask torch.Size([224, 224])\n",
      "✅ Loaded BraTS19_TCIA02_208_1: Image torch.Size([3, 224, 224]), Mask torch.Size([224, 224])\n"
     ]
    },
    {
     "name": "stderr",
     "output_type": "stream",
     "text": [
      "Epoch [2/15]:  96%|█████████▌| 100/104 [00:43<00:01,  2.09it/s, Loss=0.558]"
     ]
    },
    {
     "name": "stdout",
     "output_type": "stream",
     "text": [
      "✅ Loaded BraTS19_TCIA02_283_1: Image torch.Size([3, 224, 224]), Mask torch.Size([224, 224])\n",
      "✅ Loaded BraTS19_TCIA01_201_1: Image torch.Size([3, 224, 224]), Mask torch.Size([224, 224])\n"
     ]
    },
    {
     "name": "stderr",
     "output_type": "stream",
     "text": [
      "Epoch [2/15]:  97%|█████████▋| 101/104 [00:43<00:01,  2.13it/s, Loss=0.575]"
     ]
    },
    {
     "name": "stdout",
     "output_type": "stream",
     "text": [
      "✅ Loaded BraTS19_CBICA_AAL_1: Image torch.Size([3, 224, 224]), Mask torch.Size([224, 224])\n",
      "✅ Loaded BraTS19_TCIA01_186_1: Image torch.Size([3, 224, 224]), Mask torch.Size([224, 224])\n"
     ]
    },
    {
     "name": "stderr",
     "output_type": "stream",
     "text": [
      "Epoch [2/15]:  98%|█████████▊| 102/104 [00:44<00:00,  2.15it/s, Loss=0.487]"
     ]
    },
    {
     "name": "stdout",
     "output_type": "stream",
     "text": [
      "✅ Loaded BraTS19_CBICA_AQO_1: Image torch.Size([3, 224, 224]), Mask torch.Size([224, 224])\n",
      "✅ Loaded BraTS19_TCIA02_455_1: Image torch.Size([3, 224, 224]), Mask torch.Size([224, 224])\n"
     ]
    },
    {
     "name": "stderr",
     "output_type": "stream",
     "text": [
      "Epoch [2/15]:  99%|█████████▉| 103/104 [00:44<00:00,  2.18it/s, Loss=0.466]"
     ]
    },
    {
     "name": "stdout",
     "output_type": "stream",
     "text": [
      "✅ Loaded BraTS19_TCIA08_436_1: Image torch.Size([3, 224, 224]), Mask torch.Size([224, 224])\n"
     ]
    },
    {
     "name": "stderr",
     "output_type": "stream",
     "text": [
      "                                                                           \r"
     ]
    },
    {
     "name": "stdout",
     "output_type": "stream",
     "text": [
      "\n",
      "✅ Epoch 2: Train Loss: 0.3284\n",
      "💾 Saved model at epoch 2 with train loss 0.3284\n"
     ]
    },
    {
     "name": "stderr",
     "output_type": "stream",
     "text": [
      "Epoch [3/15]:   0%|          | 0/104 [00:00<?, ?it/s]"
     ]
    },
    {
     "name": "stdout",
     "output_type": "stream",
     "text": [
      "✅ Loaded BraTS19_CBICA_BCL_1: Image torch.Size([3, 224, 224]), Mask torch.Size([224, 224])\n",
      "✅ Loaded BraTS19_CBICA_AQZ_1: Image torch.Size([3, 224, 224]), Mask torch.Size([224, 224])\n"
     ]
    },
    {
     "name": "stderr",
     "output_type": "stream",
     "text": [
      "Epoch [3/15]:   1%|          | 1/104 [00:00<00:50,  2.06it/s, Loss=0.384]"
     ]
    },
    {
     "name": "stdout",
     "output_type": "stream",
     "text": [
      "✅ Loaded BraTS19_TCIA02_226_1: Image torch.Size([3, 224, 224]), Mask torch.Size([224, 224])\n",
      "✅ Loaded BraTS19_CBICA_ABM_1: Image torch.Size([3, 224, 224]), Mask torch.Size([224, 224])\n"
     ]
    },
    {
     "name": "stderr",
     "output_type": "stream",
     "text": [
      "Epoch [3/15]:   2%|▏         | 2/104 [00:00<00:47,  2.16it/s, Loss=0.243]"
     ]
    },
    {
     "name": "stdout",
     "output_type": "stream",
     "text": [
      "✅ Loaded BraTS19_2013_18_1: Image torch.Size([3, 224, 224]), Mask torch.Size([224, 224])\n",
      "✅ Loaded BraTS19_CBICA_AME_1: Image torch.Size([3, 224, 224]), Mask torch.Size([224, 224])\n"
     ]
    },
    {
     "name": "stderr",
     "output_type": "stream",
     "text": [
      "Epoch [3/15]:   3%|▎         | 3/104 [00:01<00:45,  2.22it/s, Loss=0.285]"
     ]
    },
    {
     "name": "stdout",
     "output_type": "stream",
     "text": [
      "✅ Loaded BraTS19_TCIA03_257_1: Image torch.Size([3, 224, 224]), Mask torch.Size([224, 224])\n",
      "✅ Loaded BraTS19_TCIA02_377_1: Image torch.Size([3, 224, 224]), Mask torch.Size([224, 224])\n"
     ]
    },
    {
     "name": "stderr",
     "output_type": "stream",
     "text": [
      "Epoch [3/15]:   4%|▍         | 4/104 [00:01<00:43,  2.28it/s, Loss=0.282]"
     ]
    },
    {
     "name": "stdout",
     "output_type": "stream",
     "text": [
      "✅ Loaded BraTS19_CBICA_AXQ_1: Image torch.Size([3, 224, 224]), Mask torch.Size([224, 224])\n",
      "✅ Loaded BraTS19_CBICA_APY_1: Image torch.Size([3, 224, 224]), Mask torch.Size([224, 224])\n"
     ]
    },
    {
     "name": "stderr",
     "output_type": "stream",
     "text": [
      "Epoch [3/15]:   5%|▍         | 5/104 [00:02<00:43,  2.30it/s, Loss=0.397]"
     ]
    },
    {
     "name": "stdout",
     "output_type": "stream",
     "text": [
      "✅ Loaded BraTS19_2013_17_1: Image torch.Size([3, 224, 224]), Mask torch.Size([224, 224])\n",
      "✅ Loaded BraTS19_CBICA_ANZ_1: Image torch.Size([3, 224, 224]), Mask torch.Size([224, 224])\n"
     ]
    },
    {
     "name": "stderr",
     "output_type": "stream",
     "text": [
      "Epoch [3/15]:   6%|▌         | 6/104 [00:02<00:41,  2.36it/s, Loss=0.26] "
     ]
    },
    {
     "name": "stdout",
     "output_type": "stream",
     "text": [
      "✅ Loaded BraTS19_CBICA_AYC_1: Image torch.Size([3, 224, 224]), Mask torch.Size([224, 224])\n",
      "✅ Loaded BraTS19_TCIA08_436_1: Image torch.Size([3, 224, 224]), Mask torch.Size([224, 224])\n"
     ]
    },
    {
     "name": "stderr",
     "output_type": "stream",
     "text": [
      "Epoch [3/15]:   7%|▋         | 7/104 [00:03<00:41,  2.35it/s, Loss=0.191]"
     ]
    },
    {
     "name": "stdout",
     "output_type": "stream",
     "text": [
      "✅ Loaded BraTS19_TCIA06_409_1: Image torch.Size([3, 224, 224]), Mask torch.Size([224, 224])\n",
      "✅ Loaded BraTS19_CBICA_BDK_1: Image torch.Size([3, 224, 224]), Mask torch.Size([224, 224])\n"
     ]
    },
    {
     "name": "stderr",
     "output_type": "stream",
     "text": [
      "Epoch [3/15]:   8%|▊         | 8/104 [00:03<00:41,  2.34it/s, Loss=0.359]"
     ]
    },
    {
     "name": "stdout",
     "output_type": "stream",
     "text": [
      "✅ Loaded BraTS19_CBICA_AOD_1: Image torch.Size([3, 224, 224]), Mask torch.Size([224, 224])\n",
      "✅ Loaded BraTS19_TMC_06643_1: Image torch.Size([3, 224, 224]), Mask torch.Size([224, 224])\n"
     ]
    },
    {
     "name": "stderr",
     "output_type": "stream",
     "text": [
      "Epoch [3/15]:   9%|▊         | 9/104 [00:03<00:41,  2.29it/s, Loss=0.223]"
     ]
    },
    {
     "name": "stdout",
     "output_type": "stream",
     "text": [
      "✅ Loaded BraTS19_TCIA05_444_1: Image torch.Size([3, 224, 224]), Mask torch.Size([224, 224])\n",
      "✅ Loaded BraTS19_2013_23_1: Image torch.Size([3, 224, 224]), Mask torch.Size([224, 224])\n"
     ]
    },
    {
     "name": "stderr",
     "output_type": "stream",
     "text": [
      "Epoch [3/15]:  10%|▉         | 10/104 [00:04<00:40,  2.29it/s, Loss=0.339]"
     ]
    },
    {
     "name": "stdout",
     "output_type": "stream",
     "text": [
      "✅ Loaded BraTS19_TCIA02_370_1: Image torch.Size([3, 224, 224]), Mask torch.Size([224, 224])\n",
      "✅ Loaded BraTS19_TCIA01_190_1: Image torch.Size([3, 224, 224]), Mask torch.Size([224, 224])\n"
     ]
    },
    {
     "name": "stderr",
     "output_type": "stream",
     "text": [
      "Epoch [3/15]:  11%|█         | 11/104 [00:04<00:40,  2.29it/s, Loss=0.277]"
     ]
    },
    {
     "name": "stdout",
     "output_type": "stream",
     "text": [
      "✅ Loaded BraTS19_TCIA03_138_1: Image torch.Size([3, 224, 224]), Mask torch.Size([224, 224])\n",
      "✅ Loaded BraTS19_CBICA_ASV_1: Image torch.Size([3, 224, 224]), Mask torch.Size([224, 224])\n"
     ]
    },
    {
     "name": "stderr",
     "output_type": "stream",
     "text": [
      "Epoch [3/15]:  12%|█▏        | 12/104 [00:05<00:39,  2.34it/s, Loss=0.296]"
     ]
    },
    {
     "name": "stdout",
     "output_type": "stream",
     "text": [
      "✅ Loaded BraTS19_CBICA_BHQ_1: Image torch.Size([3, 224, 224]), Mask torch.Size([224, 224])\n",
      "✅ Loaded BraTS19_CBICA_AMH_1: Image torch.Size([3, 224, 224]), Mask torch.Size([224, 224])\n"
     ]
    },
    {
     "name": "stderr",
     "output_type": "stream",
     "text": [
      "Epoch [3/15]:  12%|█▎        | 13/104 [00:05<00:39,  2.30it/s, Loss=0.267]"
     ]
    },
    {
     "name": "stdout",
     "output_type": "stream",
     "text": [
      "✅ Loaded BraTS19_2013_5_1: Image torch.Size([3, 224, 224]), Mask torch.Size([224, 224])\n",
      "✅ Loaded BraTS19_TCIA03_121_1: Image torch.Size([3, 224, 224]), Mask torch.Size([224, 224])\n"
     ]
    },
    {
     "name": "stderr",
     "output_type": "stream",
     "text": [
      "Epoch [3/15]:  13%|█▎        | 14/104 [00:06<00:39,  2.30it/s, Loss=0.375]"
     ]
    },
    {
     "name": "stdout",
     "output_type": "stream",
     "text": [
      "✅ Loaded BraTS19_CBICA_ASU_1: Image torch.Size([3, 224, 224]), Mask torch.Size([224, 224])\n",
      "✅ Loaded BraTS19_TCIA01_335_1: Image torch.Size([3, 224, 224]), Mask torch.Size([224, 224])\n"
     ]
    },
    {
     "name": "stderr",
     "output_type": "stream",
     "text": [
      "Epoch [3/15]:  14%|█▍        | 15/104 [00:06<00:38,  2.30it/s, Loss=0.15] "
     ]
    },
    {
     "name": "stdout",
     "output_type": "stream",
     "text": [
      "✅ Loaded BraTS19_CBICA_AQD_1: Image torch.Size([3, 224, 224]), Mask torch.Size([224, 224])\n",
      "✅ Loaded BraTS19_TCIA06_184_1: Image torch.Size([3, 224, 224]), Mask torch.Size([224, 224])\n"
     ]
    },
    {
     "name": "stderr",
     "output_type": "stream",
     "text": [
      "Epoch [3/15]:  15%|█▌        | 16/104 [00:06<00:37,  2.36it/s, Loss=0.256]"
     ]
    },
    {
     "name": "stdout",
     "output_type": "stream",
     "text": [
      "✅ Loaded BraTS19_CBICA_AVV_1: Image torch.Size([3, 224, 224]), Mask torch.Size([224, 224])\n",
      "✅ Loaded BraTS19_CBICA_AAG_1: Image torch.Size([3, 224, 224]), Mask torch.Size([224, 224])\n"
     ]
    },
    {
     "name": "stderr",
     "output_type": "stream",
     "text": [
      "Epoch [3/15]:  16%|█▋        | 17/104 [00:07<00:36,  2.40it/s, Loss=0.366]"
     ]
    },
    {
     "name": "stdout",
     "output_type": "stream",
     "text": [
      "✅ Loaded BraTS19_CBICA_APR_1: Image torch.Size([3, 224, 224]), Mask torch.Size([224, 224])\n",
      "✅ Loaded BraTS19_TCIA08_162_1: Image torch.Size([3, 224, 224]), Mask torch.Size([224, 224])\n"
     ]
    },
    {
     "name": "stderr",
     "output_type": "stream",
     "text": [
      "Epoch [3/15]:  17%|█▋        | 18/104 [00:07<00:35,  2.43it/s, Loss=0.214]"
     ]
    },
    {
     "name": "stdout",
     "output_type": "stream",
     "text": [
      "✅ Loaded BraTS19_TCIA05_396_1: Image torch.Size([3, 224, 224]), Mask torch.Size([224, 224])\n",
      "✅ Loaded BraTS19_CBICA_ALX_1: Image torch.Size([3, 224, 224]), Mask torch.Size([224, 224])\n"
     ]
    },
    {
     "name": "stderr",
     "output_type": "stream",
     "text": [
      "Epoch [3/15]:  18%|█▊        | 19/104 [00:08<00:34,  2.45it/s, Loss=0.218]"
     ]
    },
    {
     "name": "stdout",
     "output_type": "stream",
     "text": [
      "✅ Loaded BraTS19_TCIA02_607_1: Image torch.Size([3, 224, 224]), Mask torch.Size([224, 224])\n",
      "✅ Loaded BraTS19_TCIA02_368_1: Image torch.Size([3, 224, 224]), Mask torch.Size([224, 224])\n"
     ]
    },
    {
     "name": "stderr",
     "output_type": "stream",
     "text": [
      "Epoch [3/15]:  19%|█▉        | 20/104 [00:08<00:34,  2.44it/s, Loss=0.297]"
     ]
    },
    {
     "name": "stdout",
     "output_type": "stream",
     "text": [
      "✅ Loaded BraTS19_TCIA01_147_1: Image torch.Size([3, 224, 224]), Mask torch.Size([224, 224])\n",
      "✅ Loaded BraTS19_CBICA_AAL_1: Image torch.Size([3, 224, 224]), Mask torch.Size([224, 224])\n"
     ]
    },
    {
     "name": "stderr",
     "output_type": "stream",
     "text": [
      "Epoch [3/15]:  20%|██        | 21/104 [00:08<00:33,  2.45it/s, Loss=0.218]"
     ]
    },
    {
     "name": "stdout",
     "output_type": "stream",
     "text": [
      "✅ Loaded BraTS19_CBICA_AOO_1: Image torch.Size([3, 224, 224]), Mask torch.Size([224, 224])\n",
      "✅ Loaded BraTS19_CBICA_ABB_1: Image torch.Size([3, 224, 224]), Mask torch.Size([224, 224])\n"
     ]
    },
    {
     "name": "stderr",
     "output_type": "stream",
     "text": [
      "Epoch [3/15]:  21%|██        | 22/104 [00:09<00:33,  2.44it/s, Loss=0.543]"
     ]
    },
    {
     "name": "stdout",
     "output_type": "stream",
     "text": [
      "✅ Loaded BraTS19_CBICA_AQJ_1: Image torch.Size([3, 224, 224]), Mask torch.Size([224, 224])\n",
      "✅ Loaded BraTS19_CBICA_AXL_1: Image torch.Size([3, 224, 224]), Mask torch.Size([224, 224])\n"
     ]
    },
    {
     "name": "stderr",
     "output_type": "stream",
     "text": [
      "Epoch [3/15]:  22%|██▏       | 23/104 [00:09<00:32,  2.46it/s, Loss=0.302]"
     ]
    },
    {
     "name": "stdout",
     "output_type": "stream",
     "text": [
      "✅ Loaded BraTS19_CBICA_ATD_1: Image torch.Size([3, 224, 224]), Mask torch.Size([224, 224])\n",
      "✅ Loaded BraTS19_TCIA06_332_1: Image torch.Size([3, 224, 224]), Mask torch.Size([224, 224])\n"
     ]
    },
    {
     "name": "stderr",
     "output_type": "stream",
     "text": [
      "Epoch [3/15]:  23%|██▎       | 24/104 [00:10<00:32,  2.44it/s, Loss=0.564]"
     ]
    },
    {
     "name": "stdout",
     "output_type": "stream",
     "text": [
      "✅ Loaded BraTS19_CBICA_AWG_1: Image torch.Size([3, 224, 224]), Mask torch.Size([224, 224])\n",
      "✅ Loaded BraTS19_CBICA_AZH_1: Image torch.Size([3, 224, 224]), Mask torch.Size([224, 224])\n"
     ]
    },
    {
     "name": "stderr",
     "output_type": "stream",
     "text": [
      "Epoch [3/15]:  24%|██▍       | 25/104 [00:10<00:32,  2.43it/s, Loss=0.217]"
     ]
    },
    {
     "name": "stdout",
     "output_type": "stream",
     "text": [
      "✅ Loaded BraTS19_CBICA_AOP_1: Image torch.Size([3, 224, 224]), Mask torch.Size([224, 224])\n",
      "✅ Loaded BraTS19_2013_19_1: Image torch.Size([3, 224, 224]), Mask torch.Size([224, 224])\n"
     ]
    },
    {
     "name": "stderr",
     "output_type": "stream",
     "text": [
      "Epoch [3/15]:  25%|██▌       | 26/104 [00:11<00:32,  2.39it/s, Loss=0.238]"
     ]
    },
    {
     "name": "stdout",
     "output_type": "stream",
     "text": [
      "✅ Loaded BraTS19_CBICA_ABY_1: Image torch.Size([3, 224, 224]), Mask torch.Size([224, 224])\n",
      "✅ Loaded BraTS19_CBICA_BIC_1: Image torch.Size([3, 224, 224]), Mask torch.Size([224, 224])\n"
     ]
    },
    {
     "name": "stderr",
     "output_type": "stream",
     "text": [
      "Epoch [3/15]:  26%|██▌       | 27/104 [00:11<00:32,  2.38it/s, Loss=0.402]"
     ]
    },
    {
     "name": "stdout",
     "output_type": "stream",
     "text": [
      "✅ Loaded BraTS19_CBICA_AQR_1: Image torch.Size([3, 224, 224]), Mask torch.Size([224, 224])\n",
      "✅ Loaded BraTS19_TCIA02_430_1: Image torch.Size([3, 224, 224]), Mask torch.Size([224, 224])\n"
     ]
    },
    {
     "name": "stderr",
     "output_type": "stream",
     "text": [
      "Epoch [3/15]:  27%|██▋       | 28/104 [00:11<00:34,  2.19it/s, Loss=0.247]"
     ]
    },
    {
     "name": "stdout",
     "output_type": "stream",
     "text": [
      "✅ Loaded BraTS19_CBICA_AUX_1: Image torch.Size([3, 224, 224]), Mask torch.Size([224, 224])\n",
      "✅ Loaded BraTS19_TCIA03_199_1: Image torch.Size([3, 224, 224]), Mask torch.Size([224, 224])\n"
     ]
    },
    {
     "name": "stderr",
     "output_type": "stream",
     "text": [
      "Epoch [3/15]:  28%|██▊       | 29/104 [00:12<00:33,  2.25it/s, Loss=0.232]"
     ]
    },
    {
     "name": "stdout",
     "output_type": "stream",
     "text": [
      "✅ Loaded BraTS19_CBICA_BGT_1: Image torch.Size([3, 224, 224]), Mask torch.Size([224, 224])\n",
      "✅ Loaded BraTS19_TCIA01_231_1: Image torch.Size([3, 224, 224]), Mask torch.Size([224, 224])\n"
     ]
    },
    {
     "name": "stderr",
     "output_type": "stream",
     "text": [
      "Epoch [3/15]:  29%|██▉       | 30/104 [00:12<00:32,  2.29it/s, Loss=0.265]"
     ]
    },
    {
     "name": "stdout",
     "output_type": "stream",
     "text": [
      "✅ Loaded BraTS19_TCIA02_322_1: Image torch.Size([3, 224, 224]), Mask torch.Size([224, 224])\n",
      "✅ Loaded BraTS19_CBICA_ASW_1: Image torch.Size([3, 224, 224]), Mask torch.Size([224, 224])\n"
     ]
    },
    {
     "name": "stderr",
     "output_type": "stream",
     "text": [
      "Epoch [3/15]:  30%|██▉       | 31/104 [00:13<00:31,  2.35it/s, Loss=0.247]"
     ]
    },
    {
     "name": "stdout",
     "output_type": "stream",
     "text": [
      "✅ Loaded BraTS19_TCIA08_167_1: Image torch.Size([3, 224, 224]), Mask torch.Size([224, 224])\n",
      "✅ Loaded BraTS19_TCIA02_135_1: Image torch.Size([3, 224, 224]), Mask torch.Size([224, 224])\n"
     ]
    },
    {
     "name": "stderr",
     "output_type": "stream",
     "text": [
      "Epoch [3/15]:  31%|███       | 32/104 [00:13<00:30,  2.40it/s, Loss=0.176]"
     ]
    },
    {
     "name": "stdout",
     "output_type": "stream",
     "text": [
      "✅ Loaded BraTS19_CBICA_ABE_1: Image torch.Size([3, 224, 224]), Mask torch.Size([224, 224])\n",
      "✅ Loaded BraTS19_CBICA_AQO_1: Image torch.Size([3, 224, 224]), Mask torch.Size([224, 224])\n"
     ]
    },
    {
     "name": "stderr",
     "output_type": "stream",
     "text": [
      "Epoch [3/15]:  32%|███▏      | 33/104 [00:14<00:29,  2.42it/s, Loss=0.355]"
     ]
    },
    {
     "name": "stdout",
     "output_type": "stream",
     "text": [
      "✅ Loaded BraTS19_CBICA_AXJ_1: Image torch.Size([3, 224, 224]), Mask torch.Size([224, 224])\n",
      "✅ Loaded BraTS19_2013_13_1: Image torch.Size([3, 224, 224]), Mask torch.Size([224, 224])\n"
     ]
    },
    {
     "name": "stderr",
     "output_type": "stream",
     "text": [
      "Epoch [3/15]:  33%|███▎      | 34/104 [00:14<00:28,  2.45it/s, Loss=0.603]"
     ]
    },
    {
     "name": "stdout",
     "output_type": "stream",
     "text": [
      "✅ Loaded BraTS19_TCIA05_277_1: Image torch.Size([3, 224, 224]), Mask torch.Size([224, 224])\n",
      "✅ Loaded BraTS19_TCIA02_179_1: Image torch.Size([3, 224, 224]), Mask torch.Size([224, 224])\n"
     ]
    },
    {
     "name": "stderr",
     "output_type": "stream",
     "text": [
      "Epoch [3/15]:  34%|███▎      | 35/104 [00:14<00:28,  2.42it/s, Loss=0.296]"
     ]
    },
    {
     "name": "stdout",
     "output_type": "stream",
     "text": [
      "✅ Loaded BraTS19_2013_26_1: Image torch.Size([3, 224, 224]), Mask torch.Size([224, 224])\n",
      "✅ Loaded BraTS19_CBICA_BGN_1: Image torch.Size([3, 224, 224]), Mask torch.Size([224, 224])\n"
     ]
    },
    {
     "name": "stderr",
     "output_type": "stream",
     "text": [
      "Epoch [3/15]:  35%|███▍      | 36/104 [00:15<00:28,  2.42it/s, Loss=0.317]"
     ]
    },
    {
     "name": "stdout",
     "output_type": "stream",
     "text": [
      "✅ Loaded BraTS19_TCIA02_198_1: Image torch.Size([3, 224, 224]), Mask torch.Size([224, 224])\n",
      "✅ Loaded BraTS19_CBICA_AUW_1: Image torch.Size([3, 224, 224]), Mask torch.Size([224, 224])\n"
     ]
    },
    {
     "name": "stderr",
     "output_type": "stream",
     "text": [
      "Epoch [3/15]:  36%|███▌      | 37/104 [00:15<00:28,  2.39it/s, Loss=0.219]"
     ]
    },
    {
     "name": "stdout",
     "output_type": "stream",
     "text": [
      "✅ Loaded BraTS19_TCIA02_331_1: Image torch.Size([3, 224, 224]), Mask torch.Size([224, 224])\n",
      "✅ Loaded BraTS19_TCIA01_131_1: Image torch.Size([3, 224, 224]), Mask torch.Size([224, 224])\n"
     ]
    },
    {
     "name": "stderr",
     "output_type": "stream",
     "text": [
      "Epoch [3/15]:  37%|███▋      | 38/104 [00:16<00:27,  2.39it/s, Loss=0.22] "
     ]
    },
    {
     "name": "stdout",
     "output_type": "stream",
     "text": [
      "✅ Loaded BraTS19_CBICA_AAP_1: Image torch.Size([3, 224, 224]), Mask torch.Size([224, 224])\n",
      "✅ Loaded BraTS19_CBICA_ATX_1: Image torch.Size([3, 224, 224]), Mask torch.Size([224, 224])\n"
     ]
    },
    {
     "name": "stderr",
     "output_type": "stream",
     "text": [
      "Epoch [3/15]:  38%|███▊      | 39/104 [00:16<00:27,  2.39it/s, Loss=0.275]"
     ]
    },
    {
     "name": "stdout",
     "output_type": "stream",
     "text": [
      "✅ Loaded BraTS19_2013_10_1: Image torch.Size([3, 224, 224]), Mask torch.Size([224, 224])\n",
      "✅ Loaded BraTS19_TCIA02_455_1: Image torch.Size([3, 224, 224]), Mask torch.Size([224, 224])\n"
     ]
    },
    {
     "name": "stderr",
     "output_type": "stream",
     "text": [
      "Epoch [3/15]:  38%|███▊      | 40/104 [00:16<00:26,  2.43it/s, Loss=0.129]"
     ]
    },
    {
     "name": "stdout",
     "output_type": "stream",
     "text": [
      "✅ Loaded BraTS19_CBICA_AYG_1: Image torch.Size([3, 224, 224]), Mask torch.Size([224, 224])\n",
      "✅ Loaded BraTS19_CBICA_ASO_1: Image torch.Size([3, 224, 224]), Mask torch.Size([224, 224])\n"
     ]
    },
    {
     "name": "stderr",
     "output_type": "stream",
     "text": [
      "Epoch [3/15]:  39%|███▉      | 41/104 [00:17<00:26,  2.41it/s, Loss=0.577]"
     ]
    },
    {
     "name": "stdout",
     "output_type": "stream",
     "text": [
      "✅ Loaded BraTS19_TCIA01_412_1: Image torch.Size([3, 224, 224]), Mask torch.Size([224, 224])\n",
      "✅ Loaded BraTS19_2013_21_1: Image torch.Size([3, 224, 224]), Mask torch.Size([224, 224])\n"
     ]
    },
    {
     "name": "stderr",
     "output_type": "stream",
     "text": [
      "Epoch [3/15]:  40%|████      | 42/104 [00:17<00:25,  2.42it/s, Loss=0.257]"
     ]
    },
    {
     "name": "stdout",
     "output_type": "stream",
     "text": [
      "✅ Loaded BraTS19_TCIA03_296_1: Image torch.Size([3, 224, 224]), Mask torch.Size([224, 224])\n",
      "✅ Loaded BraTS19_TCIA02_314_1: Image torch.Size([3, 224, 224]), Mask torch.Size([224, 224])\n"
     ]
    },
    {
     "name": "stderr",
     "output_type": "stream",
     "text": [
      "Epoch [3/15]:  41%|████▏     | 43/104 [00:18<00:25,  2.41it/s, Loss=0.275]"
     ]
    },
    {
     "name": "stdout",
     "output_type": "stream",
     "text": [
      "✅ Loaded BraTS19_TCIA06_165_1: Image torch.Size([3, 224, 224]), Mask torch.Size([224, 224])\n",
      "✅ Loaded BraTS19_CBICA_ARZ_1: Image torch.Size([3, 224, 224]), Mask torch.Size([224, 224])\n"
     ]
    },
    {
     "name": "stderr",
     "output_type": "stream",
     "text": [
      "Epoch [3/15]:  42%|████▏     | 44/104 [00:18<00:25,  2.40it/s, Loss=0.255]"
     ]
    },
    {
     "name": "stdout",
     "output_type": "stream",
     "text": [
      "✅ Loaded BraTS19_CBICA_ALU_1: Image torch.Size([3, 224, 224]), Mask torch.Size([224, 224])\n",
      "✅ Loaded BraTS19_CBICA_ASG_1: Image torch.Size([3, 224, 224]), Mask torch.Size([224, 224])\n"
     ]
    },
    {
     "name": "stderr",
     "output_type": "stream",
     "text": [
      "Epoch [3/15]:  43%|████▎     | 45/104 [00:19<00:24,  2.41it/s, Loss=0.299]"
     ]
    },
    {
     "name": "stdout",
     "output_type": "stream",
     "text": [
      "✅ Loaded BraTS19_CBICA_AUQ_1: Image torch.Size([3, 224, 224]), Mask torch.Size([224, 224])\n",
      "✅ Loaded BraTS19_TCIA01_448_1: Image torch.Size([3, 224, 224]), Mask torch.Size([224, 224])\n"
     ]
    },
    {
     "name": "stderr",
     "output_type": "stream",
     "text": [
      "Epoch [3/15]:  44%|████▍     | 46/104 [00:19<00:23,  2.43it/s, Loss=0.342]"
     ]
    },
    {
     "name": "stdout",
     "output_type": "stream",
     "text": [
      "✅ Loaded BraTS19_TCIA03_265_1: Image torch.Size([3, 224, 224]), Mask torch.Size([224, 224])\n",
      "✅ Loaded BraTS19_CBICA_AVG_1: Image torch.Size([3, 224, 224]), Mask torch.Size([224, 224])\n"
     ]
    },
    {
     "name": "stderr",
     "output_type": "stream",
     "text": [
      "Epoch [3/15]:  45%|████▌     | 47/104 [00:19<00:23,  2.42it/s, Loss=0.252]"
     ]
    },
    {
     "name": "stdout",
     "output_type": "stream",
     "text": [
      "✅ Loaded BraTS19_CBICA_ATN_1: Image torch.Size([3, 224, 224]), Mask torch.Size([224, 224])\n",
      "✅ Loaded BraTS19_TCIA02_290_1: Image torch.Size([3, 224, 224]), Mask torch.Size([224, 224])\n"
     ]
    },
    {
     "name": "stderr",
     "output_type": "stream",
     "text": [
      "Epoch [3/15]:  46%|████▌     | 48/104 [00:20<00:23,  2.41it/s, Loss=0.331]"
     ]
    },
    {
     "name": "stdout",
     "output_type": "stream",
     "text": [
      "✅ Loaded BraTS19_CBICA_AYI_1: Image torch.Size([3, 224, 224]), Mask torch.Size([224, 224])\n",
      "✅ Loaded BraTS19_CBICA_AVF_1: Image torch.Size([3, 224, 224]), Mask torch.Size([224, 224])\n"
     ]
    },
    {
     "name": "stderr",
     "output_type": "stream",
     "text": [
      "Epoch [3/15]:  47%|████▋     | 49/104 [00:20<00:22,  2.41it/s, Loss=0.19] "
     ]
    },
    {
     "name": "stdout",
     "output_type": "stream",
     "text": [
      "✅ Loaded BraTS19_CBICA_AOH_1: Image torch.Size([3, 224, 224]), Mask torch.Size([224, 224])\n",
      "✅ Loaded BraTS19_CBICA_AXM_1: Image torch.Size([3, 224, 224]), Mask torch.Size([224, 224])\n"
     ]
    },
    {
     "name": "stderr",
     "output_type": "stream",
     "text": [
      "Epoch [3/15]:  48%|████▊     | 50/104 [00:21<00:22,  2.41it/s, Loss=0.187]"
     ]
    },
    {
     "name": "stdout",
     "output_type": "stream",
     "text": [
      "✅ Loaded BraTS19_CBICA_ABN_1: Image torch.Size([3, 224, 224]), Mask torch.Size([224, 224])\n",
      "✅ Loaded BraTS19_TMC_12866_1: Image torch.Size([3, 224, 224]), Mask torch.Size([224, 224])\n"
     ]
    },
    {
     "name": "stderr",
     "output_type": "stream",
     "text": [
      "Epoch [3/15]:  49%|████▉     | 51/104 [00:21<00:22,  2.38it/s, Loss=0.328]"
     ]
    },
    {
     "name": "stdout",
     "output_type": "stream",
     "text": [
      "✅ Loaded BraTS19_CBICA_AWH_1: Image torch.Size([3, 224, 224]), Mask torch.Size([224, 224])\n",
      "✅ Loaded BraTS19_CBICA_ARF_1: Image torch.Size([3, 224, 224]), Mask torch.Size([224, 224])\n"
     ]
    },
    {
     "name": "stderr",
     "output_type": "stream",
     "text": [
      "Epoch [3/15]:  50%|█████     | 52/104 [00:21<00:21,  2.37it/s, Loss=0.208]"
     ]
    },
    {
     "name": "stdout",
     "output_type": "stream",
     "text": [
      "✅ Loaded BraTS19_2013_11_1: Image torch.Size([3, 224, 224]), Mask torch.Size([224, 224])\n",
      "✅ Loaded BraTS19_CBICA_AVB_1: Image torch.Size([3, 224, 224]), Mask torch.Size([224, 224])\n"
     ]
    },
    {
     "name": "stderr",
     "output_type": "stream",
     "text": [
      "Epoch [3/15]:  51%|█████     | 53/104 [00:22<00:21,  2.36it/s, Loss=0.372]"
     ]
    },
    {
     "name": "stdout",
     "output_type": "stream",
     "text": [
      "✅ Loaded BraTS19_CBICA_AQY_1: Image torch.Size([3, 224, 224]), Mask torch.Size([224, 224])\n",
      "✅ Loaded BraTS19_CBICA_BHM_1: Image torch.Size([3, 224, 224]), Mask torch.Size([224, 224])\n"
     ]
    },
    {
     "name": "stderr",
     "output_type": "stream",
     "text": [
      "Epoch [3/15]:  52%|█████▏    | 54/104 [00:22<00:21,  2.37it/s, Loss=0.496]"
     ]
    },
    {
     "name": "stdout",
     "output_type": "stream",
     "text": [
      "✅ Loaded BraTS19_CBICA_AWI_1: Image torch.Size([3, 224, 224]), Mask torch.Size([224, 224])\n",
      "✅ Loaded BraTS19_CBICA_AYA_1: Image torch.Size([3, 224, 224]), Mask torch.Size([224, 224])\n"
     ]
    },
    {
     "name": "stderr",
     "output_type": "stream",
     "text": [
      "Epoch [3/15]:  53%|█████▎    | 55/104 [00:23<00:20,  2.38it/s, Loss=0.59] "
     ]
    },
    {
     "name": "stdout",
     "output_type": "stream",
     "text": [
      "✅ Loaded BraTS19_CBICA_BHB_1: Image torch.Size([3, 224, 224]), Mask torch.Size([224, 224])\n",
      "✅ Loaded BraTS19_TCIA02_283_1: Image torch.Size([3, 224, 224]), Mask torch.Size([224, 224])\n"
     ]
    },
    {
     "name": "stderr",
     "output_type": "stream",
     "text": [
      "Epoch [3/15]:  54%|█████▍    | 56/104 [00:23<00:20,  2.39it/s, Loss=0.455]"
     ]
    },
    {
     "name": "stdout",
     "output_type": "stream",
     "text": [
      "✅ Loaded BraTS19_CBICA_BCF_1: Image torch.Size([3, 224, 224]), Mask torch.Size([224, 224])\n",
      "✅ Loaded BraTS19_TCIA04_343_1: Image torch.Size([3, 224, 224]), Mask torch.Size([224, 224])\n"
     ]
    },
    {
     "name": "stderr",
     "output_type": "stream",
     "text": [
      "Epoch [3/15]:  55%|█████▍    | 57/104 [00:24<00:19,  2.36it/s, Loss=0.614]"
     ]
    },
    {
     "name": "stdout",
     "output_type": "stream",
     "text": [
      "✅ Loaded BraTS19_CBICA_AUN_1: Image torch.Size([3, 224, 224]), Mask torch.Size([224, 224])\n",
      "✅ Loaded BraTS19_CBICA_ANV_1: Image torch.Size([3, 224, 224]), Mask torch.Size([224, 224])\n"
     ]
    },
    {
     "name": "stderr",
     "output_type": "stream",
     "text": [
      "Epoch [3/15]:  56%|█████▌    | 58/104 [00:24<00:19,  2.34it/s, Loss=0.299]"
     ]
    },
    {
     "name": "stdout",
     "output_type": "stream",
     "text": [
      "✅ Loaded BraTS19_CBICA_BGX_1: Image torch.Size([3, 224, 224]), Mask torch.Size([224, 224])\n",
      "✅ Loaded BraTS19_CBICA_AYW_1: Image torch.Size([3, 224, 224]), Mask torch.Size([224, 224])\n"
     ]
    },
    {
     "name": "stderr",
     "output_type": "stream",
     "text": [
      "Epoch [3/15]:  57%|█████▋    | 59/104 [00:24<00:19,  2.37it/s, Loss=0.148]"
     ]
    },
    {
     "name": "stdout",
     "output_type": "stream",
     "text": [
      "✅ Loaded BraTS19_CBICA_ARW_1: Image torch.Size([3, 224, 224]), Mask torch.Size([224, 224])\n",
      "✅ Loaded BraTS19_CBICA_ATF_1: Image torch.Size([3, 224, 224]), Mask torch.Size([224, 224])\n"
     ]
    },
    {
     "name": "stderr",
     "output_type": "stream",
     "text": [
      "Epoch [3/15]:  58%|█████▊    | 60/104 [00:25<00:18,  2.40it/s, Loss=0.328]"
     ]
    },
    {
     "name": "stdout",
     "output_type": "stream",
     "text": [
      "✅ Loaded BraTS19_TCIA08_105_1: Image torch.Size([3, 224, 224]), Mask torch.Size([224, 224])\n",
      "✅ Loaded BraTS19_CBICA_BGR_1: Image torch.Size([3, 224, 224]), Mask torch.Size([224, 224])\n"
     ]
    },
    {
     "name": "stderr",
     "output_type": "stream",
     "text": [
      "Epoch [3/15]:  59%|█████▊    | 61/104 [00:25<00:17,  2.43it/s, Loss=0.251]"
     ]
    },
    {
     "name": "stdout",
     "output_type": "stream",
     "text": [
      "✅ Loaded BraTS19_TCIA03_133_1: Image torch.Size([3, 224, 224]), Mask torch.Size([224, 224])\n",
      "✅ Loaded BraTS19_CBICA_BNR_1: Image torch.Size([3, 224, 224]), Mask torch.Size([224, 224])\n"
     ]
    },
    {
     "name": "stderr",
     "output_type": "stream",
     "text": [
      "Epoch [3/15]:  60%|█████▉    | 62/104 [00:26<00:17,  2.45it/s, Loss=0.489]"
     ]
    },
    {
     "name": "stdout",
     "output_type": "stream",
     "text": [
      "✅ Loaded BraTS19_TCIA02_208_1: Image torch.Size([3, 224, 224]), Mask torch.Size([224, 224])\n",
      "✅ Loaded BraTS19_TCIA08_469_1: Image torch.Size([3, 224, 224]), Mask torch.Size([224, 224])\n"
     ]
    },
    {
     "name": "stderr",
     "output_type": "stream",
     "text": [
      "Epoch [3/15]:  61%|██████    | 63/104 [00:26<00:16,  2.44it/s, Loss=0.192]"
     ]
    },
    {
     "name": "stdout",
     "output_type": "stream",
     "text": [
      "✅ Loaded BraTS19_CBICA_ANI_1: Image torch.Size([3, 224, 224]), Mask torch.Size([224, 224])\n",
      "✅ Loaded BraTS19_TCIA06_372_1: Image torch.Size([3, 224, 224]), Mask torch.Size([224, 224])\n"
     ]
    },
    {
     "name": "stderr",
     "output_type": "stream",
     "text": [
      "Epoch [3/15]:  62%|██████▏   | 64/104 [00:26<00:16,  2.46it/s, Loss=0.227]"
     ]
    },
    {
     "name": "stdout",
     "output_type": "stream",
     "text": [
      "✅ Loaded BraTS19_CBICA_AUR_1: Image torch.Size([3, 224, 224]), Mask torch.Size([224, 224])\n",
      "✅ Loaded BraTS19_TCIA02_118_1: Image torch.Size([3, 224, 224]), Mask torch.Size([224, 224])\n"
     ]
    },
    {
     "name": "stderr",
     "output_type": "stream",
     "text": [
      "Epoch [3/15]:  62%|██████▎   | 65/104 [00:27<00:15,  2.46it/s, Loss=0.377]"
     ]
    },
    {
     "name": "stdout",
     "output_type": "stream",
     "text": [
      "✅ Loaded BraTS19_2013_3_1: Image torch.Size([3, 224, 224]), Mask torch.Size([224, 224])\n",
      "✅ Loaded BraTS19_CBICA_AAB_1: Image torch.Size([3, 224, 224]), Mask torch.Size([224, 224])\n"
     ]
    },
    {
     "name": "stderr",
     "output_type": "stream",
     "text": [
      "Epoch [3/15]:  63%|██████▎   | 66/104 [00:27<00:15,  2.48it/s, Loss=0.385]"
     ]
    },
    {
     "name": "stdout",
     "output_type": "stream",
     "text": [
      "✅ Loaded BraTS19_TCIA08_406_1: Image torch.Size([3, 224, 224]), Mask torch.Size([224, 224])\n",
      "✅ Loaded BraTS19_TCIA06_211_1: Image torch.Size([3, 224, 224]), Mask torch.Size([224, 224])\n"
     ]
    },
    {
     "name": "stderr",
     "output_type": "stream",
     "text": [
      "Epoch [3/15]:  64%|██████▍   | 67/104 [00:28<00:14,  2.48it/s, Loss=0.385]"
     ]
    },
    {
     "name": "stdout",
     "output_type": "stream",
     "text": [
      "✅ Loaded BraTS19_TCIA04_192_1: Image torch.Size([3, 224, 224]), Mask torch.Size([224, 224])\n",
      "✅ Loaded BraTS19_TCIA02_394_1: Image torch.Size([3, 224, 224]), Mask torch.Size([224, 224])\n"
     ]
    },
    {
     "name": "stderr",
     "output_type": "stream",
     "text": [
      "Epoch [3/15]:  65%|██████▌   | 68/104 [00:28<00:14,  2.49it/s, Loss=0.592]"
     ]
    },
    {
     "name": "stdout",
     "output_type": "stream",
     "text": [
      "✅ Loaded BraTS19_TCIA04_479_1: Image torch.Size([3, 224, 224]), Mask torch.Size([224, 224])\n",
      "✅ Loaded BraTS19_CBICA_AOC_1: Image torch.Size([3, 224, 224]), Mask torch.Size([224, 224])\n"
     ]
    },
    {
     "name": "stderr",
     "output_type": "stream",
     "text": [
      "Epoch [3/15]:  66%|██████▋   | 69/104 [00:28<00:14,  2.45it/s, Loss=0.215]"
     ]
    },
    {
     "name": "stdout",
     "output_type": "stream",
     "text": [
      "✅ Loaded BraTS19_CBICA_ANP_1: Image torch.Size([3, 224, 224]), Mask torch.Size([224, 224])\n",
      "✅ Loaded BraTS19_CBICA_ABO_1: Image torch.Size([3, 224, 224]), Mask torch.Size([224, 224])\n"
     ]
    },
    {
     "name": "stderr",
     "output_type": "stream",
     "text": [
      "Epoch [3/15]:  67%|██████▋   | 70/104 [00:29<00:13,  2.47it/s, Loss=0.298]"
     ]
    },
    {
     "name": "stdout",
     "output_type": "stream",
     "text": [
      "✅ Loaded BraTS19_TCIA01_401_1: Image torch.Size([3, 224, 224]), Mask torch.Size([224, 224])\n",
      "✅ Loaded BraTS19_CBICA_AWV_1: Image torch.Size([3, 224, 224]), Mask torch.Size([224, 224])\n"
     ]
    },
    {
     "name": "stderr",
     "output_type": "stream",
     "text": [
      "Epoch [3/15]:  68%|██████▊   | 71/104 [00:29<00:13,  2.49it/s, Loss=0.0969]"
     ]
    },
    {
     "name": "stdout",
     "output_type": "stream",
     "text": [
      "✅ Loaded BraTS19_TCIA02_605_1: Image torch.Size([3, 224, 224]), Mask torch.Size([224, 224])\n",
      "✅ Loaded BraTS19_CBICA_AQN_1: Image torch.Size([3, 224, 224]), Mask torch.Size([224, 224])\n"
     ]
    },
    {
     "name": "stderr",
     "output_type": "stream",
     "text": [
      "Epoch [3/15]:  69%|██████▉   | 72/104 [00:30<00:12,  2.47it/s, Loss=0.571] "
     ]
    },
    {
     "name": "stdout",
     "output_type": "stream",
     "text": [
      "✅ Loaded BraTS19_TCIA06_247_1: Image torch.Size([3, 224, 224]), Mask torch.Size([224, 224])\n",
      "✅ Loaded BraTS19_TCIA01_203_1: Image torch.Size([3, 224, 224]), Mask torch.Size([224, 224])\n"
     ]
    },
    {
     "name": "stderr",
     "output_type": "stream",
     "text": [
      "Epoch [3/15]:  70%|███████   | 73/104 [00:30<00:12,  2.47it/s, Loss=0.215]"
     ]
    },
    {
     "name": "stdout",
     "output_type": "stream",
     "text": [
      "✅ Loaded BraTS19_TMC_30014_1: Image torch.Size([3, 224, 224]), Mask torch.Size([224, 224])\n",
      "✅ Loaded BraTS19_TCIA03_474_1: Image torch.Size([3, 224, 224]), Mask torch.Size([224, 224])\n"
     ]
    },
    {
     "name": "stderr",
     "output_type": "stream",
     "text": [
      "Epoch [3/15]:  71%|███████   | 74/104 [00:30<00:12,  2.44it/s, Loss=0.269]"
     ]
    },
    {
     "name": "stdout",
     "output_type": "stream",
     "text": [
      "✅ Loaded BraTS19_TCIA02_606_1: Image torch.Size([3, 224, 224]), Mask torch.Size([224, 224])\n",
      "✅ Loaded BraTS19_TCIA01_411_1: Image torch.Size([3, 224, 224]), Mask torch.Size([224, 224])\n"
     ]
    },
    {
     "name": "stderr",
     "output_type": "stream",
     "text": [
      "Epoch [3/15]:  72%|███████▏  | 75/104 [00:31<00:11,  2.44it/s, Loss=0.234]"
     ]
    },
    {
     "name": "stdout",
     "output_type": "stream",
     "text": [
      "✅ Loaded BraTS19_CBICA_ANG_1: Image torch.Size([3, 224, 224]), Mask torch.Size([224, 224])\n",
      "✅ Loaded BraTS19_CBICA_ASA_1: Image torch.Size([3, 224, 224]), Mask torch.Size([224, 224])\n"
     ]
    },
    {
     "name": "stderr",
     "output_type": "stream",
     "text": [
      "Epoch [3/15]:  73%|███████▎  | 76/104 [00:31<00:11,  2.45it/s, Loss=0.265]"
     ]
    },
    {
     "name": "stdout",
     "output_type": "stream",
     "text": [
      "✅ Loaded BraTS19_TCIA02_274_1: Image torch.Size([3, 224, 224]), Mask torch.Size([224, 224])\n",
      "✅ Loaded BraTS19_TCIA02_168_1: Image torch.Size([3, 224, 224]), Mask torch.Size([224, 224])\n"
     ]
    },
    {
     "name": "stderr",
     "output_type": "stream",
     "text": [
      "Epoch [3/15]:  74%|███████▍  | 77/104 [00:32<00:11,  2.43it/s, Loss=0.161]"
     ]
    },
    {
     "name": "stdout",
     "output_type": "stream",
     "text": [
      "✅ Loaded BraTS19_TCIA06_603_1: Image torch.Size([3, 224, 224]), Mask torch.Size([224, 224])\n",
      "✅ Loaded BraTS19_TCIA03_338_1: Image torch.Size([3, 224, 224]), Mask torch.Size([224, 224])\n"
     ]
    },
    {
     "name": "stderr",
     "output_type": "stream",
     "text": [
      "Epoch [3/15]:  75%|███████▌  | 78/104 [00:32<00:10,  2.42it/s, Loss=0.191]"
     ]
    },
    {
     "name": "stdout",
     "output_type": "stream",
     "text": [
      "✅ Loaded BraTS19_TCIA01_499_1: Image torch.Size([3, 224, 224]), Mask torch.Size([224, 224])\n",
      "✅ Loaded BraTS19_TMC_06290_1: Image torch.Size([3, 224, 224]), Mask torch.Size([224, 224])\n"
     ]
    },
    {
     "name": "stderr",
     "output_type": "stream",
     "text": [
      "Epoch [3/15]:  76%|███████▌  | 79/104 [00:33<00:10,  2.40it/s, Loss=0.381]"
     ]
    },
    {
     "name": "stdout",
     "output_type": "stream",
     "text": [
      "✅ Loaded BraTS19_CBICA_AZD_1: Image torch.Size([3, 224, 224]), Mask torch.Size([224, 224])\n",
      "✅ Loaded BraTS19_TCIA01_150_1: Image torch.Size([3, 224, 224]), Mask torch.Size([224, 224])\n"
     ]
    },
    {
     "name": "stderr",
     "output_type": "stream",
     "text": [
      "Epoch [3/15]:  77%|███████▋  | 80/104 [00:33<00:09,  2.42it/s, Loss=0.396]"
     ]
    },
    {
     "name": "stdout",
     "output_type": "stream",
     "text": [
      "✅ Loaded BraTS19_CBICA_BGO_1: Image torch.Size([3, 224, 224]), Mask torch.Size([224, 224])\n",
      "✅ Loaded BraTS19_CBICA_ASK_1: Image torch.Size([3, 224, 224]), Mask torch.Size([224, 224])\n"
     ]
    },
    {
     "name": "stderr",
     "output_type": "stream",
     "text": [
      "Epoch [3/15]:  78%|███████▊  | 81/104 [00:33<00:09,  2.42it/s, Loss=0.187]"
     ]
    },
    {
     "name": "stdout",
     "output_type": "stream",
     "text": [
      "✅ Loaded BraTS19_TMC_21360_1: Image torch.Size([3, 224, 224]), Mask torch.Size([224, 224])\n",
      "✅ Loaded BraTS19_CBICA_AXW_1: Image torch.Size([3, 224, 224]), Mask torch.Size([224, 224])\n"
     ]
    },
    {
     "name": "stderr",
     "output_type": "stream",
     "text": [
      "Epoch [3/15]:  79%|███████▉  | 82/104 [00:34<00:09,  2.44it/s, Loss=0.155]"
     ]
    },
    {
     "name": "stdout",
     "output_type": "stream",
     "text": [
      "✅ Loaded BraTS19_TMC_27374_1: Image torch.Size([3, 224, 224]), Mask torch.Size([224, 224])\n",
      "✅ Loaded BraTS19_TCIA01_221_1: Image torch.Size([3, 224, 224]), Mask torch.Size([224, 224])\n"
     ]
    },
    {
     "name": "stderr",
     "output_type": "stream",
     "text": [
      "Epoch [3/15]:  80%|███████▉  | 83/104 [00:34<00:08,  2.43it/s, Loss=0.19] "
     ]
    },
    {
     "name": "stdout",
     "output_type": "stream",
     "text": [
      "✅ Loaded BraTS19_CBICA_AQV_1: Image torch.Size([3, 224, 224]), Mask torch.Size([224, 224])\n",
      "✅ Loaded BraTS19_CBICA_BEM_1: Image torch.Size([3, 224, 224]), Mask torch.Size([224, 224])\n"
     ]
    },
    {
     "name": "stderr",
     "output_type": "stream",
     "text": [
      "Epoch [3/15]:  81%|████████  | 84/104 [00:35<00:08,  2.39it/s, Loss=0.255]"
     ]
    },
    {
     "name": "stdout",
     "output_type": "stream",
     "text": [
      "✅ Loaded BraTS19_TCIA01_460_1: Image torch.Size([3, 224, 224]), Mask torch.Size([224, 224])\n",
      "✅ Loaded BraTS19_TCIA02_151_1: Image torch.Size([3, 224, 224]), Mask torch.Size([224, 224])\n"
     ]
    },
    {
     "name": "stderr",
     "output_type": "stream",
     "text": [
      "Epoch [3/15]:  82%|████████▏ | 85/104 [00:35<00:07,  2.38it/s, Loss=0.282]"
     ]
    },
    {
     "name": "stdout",
     "output_type": "stream",
     "text": [
      "✅ Loaded BraTS19_2013_14_1: Image torch.Size([3, 224, 224]), Mask torch.Size([224, 224])\n",
      "✅ Loaded BraTS19_TCIA01_378_1: Image torch.Size([3, 224, 224]), Mask torch.Size([224, 224])\n"
     ]
    },
    {
     "name": "stderr",
     "output_type": "stream",
     "text": [
      "Epoch [3/15]:  83%|████████▎ | 86/104 [00:35<00:07,  2.40it/s, Loss=0.272]"
     ]
    },
    {
     "name": "stdout",
     "output_type": "stream",
     "text": [
      "✅ Loaded BraTS19_CBICA_AYU_1: Image torch.Size([3, 224, 224]), Mask torch.Size([224, 224])\n",
      "✅ Loaded BraTS19_CBICA_BHV_1: Image torch.Size([3, 224, 224]), Mask torch.Size([224, 224])\n"
     ]
    },
    {
     "name": "stderr",
     "output_type": "stream",
     "text": [
      "Epoch [3/15]:  84%|████████▎ | 87/104 [00:36<00:07,  2.40it/s, Loss=0.241]"
     ]
    },
    {
     "name": "stdout",
     "output_type": "stream",
     "text": [
      "✅ Loaded BraTS19_CBICA_AOZ_1: Image torch.Size([3, 224, 224]), Mask torch.Size([224, 224])\n",
      "✅ Loaded BraTS19_CBICA_AUA_1: Image torch.Size([3, 224, 224]), Mask torch.Size([224, 224])\n"
     ]
    },
    {
     "name": "stderr",
     "output_type": "stream",
     "text": [
      "Epoch [3/15]:  85%|████████▍ | 88/104 [00:36<00:06,  2.37it/s, Loss=0.243]"
     ]
    },
    {
     "name": "stdout",
     "output_type": "stream",
     "text": [
      "✅ Loaded BraTS19_TCIA08_234_1: Image torch.Size([3, 224, 224]), Mask torch.Size([224, 224])\n",
      "✅ Loaded BraTS19_CBICA_AQU_1: Image torch.Size([3, 224, 224]), Mask torch.Size([224, 224])\n"
     ]
    },
    {
     "name": "stderr",
     "output_type": "stream",
     "text": [
      "Epoch [3/15]:  86%|████████▌ | 89/104 [00:37<00:06,  2.38it/s, Loss=0.28] "
     ]
    },
    {
     "name": "stdout",
     "output_type": "stream",
     "text": [
      "✅ Loaded BraTS19_TCIA02_309_1: Image torch.Size([3, 224, 224]), Mask torch.Size([224, 224])\n",
      "✅ Loaded BraTS19_CBICA_ASR_1: Image torch.Size([3, 224, 224]), Mask torch.Size([224, 224])\n"
     ]
    },
    {
     "name": "stderr",
     "output_type": "stream",
     "text": [
      "Epoch [3/15]:  87%|████████▋ | 90/104 [00:37<00:05,  2.36it/s, Loss=0.304]"
     ]
    },
    {
     "name": "stdout",
     "output_type": "stream",
     "text": [
      "✅ Loaded BraTS19_TCIA02_608_1: Image torch.Size([3, 224, 224]), Mask torch.Size([224, 224])\n",
      "✅ Loaded BraTS19_CBICA_AQQ_1: Image torch.Size([3, 224, 224]), Mask torch.Size([224, 224])\n"
     ]
    },
    {
     "name": "stderr",
     "output_type": "stream",
     "text": [
      "Epoch [3/15]:  88%|████████▊ | 91/104 [00:38<00:05,  2.37it/s, Loss=0.302]"
     ]
    },
    {
     "name": "stdout",
     "output_type": "stream",
     "text": [
      "✅ Loaded BraTS19_CBICA_BLJ_1: Image torch.Size([3, 224, 224]), Mask torch.Size([224, 224])\n",
      "✅ Loaded BraTS19_2013_12_1: Image torch.Size([3, 224, 224]), Mask torch.Size([224, 224])\n"
     ]
    },
    {
     "name": "stderr",
     "output_type": "stream",
     "text": [
      "Epoch [3/15]:  88%|████████▊ | 92/104 [00:38<00:05,  2.36it/s, Loss=0.271]"
     ]
    },
    {
     "name": "stdout",
     "output_type": "stream",
     "text": [
      "✅ Loaded BraTS19_TCIA01_186_1: Image torch.Size([3, 224, 224]), Mask torch.Size([224, 224])\n",
      "✅ Loaded BraTS19_TCIA02_491_1: Image torch.Size([3, 224, 224]), Mask torch.Size([224, 224])\n"
     ]
    },
    {
     "name": "stderr",
     "output_type": "stream",
     "text": [
      "Epoch [3/15]:  89%|████████▉ | 93/104 [00:38<00:04,  2.39it/s, Loss=0.313]"
     ]
    },
    {
     "name": "stdout",
     "output_type": "stream",
     "text": [
      "✅ Loaded BraTS19_CBICA_BHK_1: Image torch.Size([3, 224, 224]), Mask torch.Size([224, 224])\n",
      "✅ Loaded BraTS19_TCIA01_201_1: Image torch.Size([3, 224, 224]), Mask torch.Size([224, 224])\n"
     ]
    },
    {
     "name": "stderr",
     "output_type": "stream",
     "text": [
      "Epoch [3/15]:  90%|█████████ | 94/104 [00:39<00:04,  2.39it/s, Loss=0.317]"
     ]
    },
    {
     "name": "stdout",
     "output_type": "stream",
     "text": [
      "✅ Loaded BraTS19_TCIA02_321_1: Image torch.Size([3, 224, 224]), Mask torch.Size([224, 224])\n",
      "✅ Loaded BraTS19_CBICA_AQG_1: Image torch.Size([3, 224, 224]), Mask torch.Size([224, 224])\n"
     ]
    },
    {
     "name": "stderr",
     "output_type": "stream",
     "text": [
      "Epoch [3/15]:  91%|█████████▏| 95/104 [00:39<00:03,  2.37it/s, Loss=0.295]"
     ]
    },
    {
     "name": "stdout",
     "output_type": "stream",
     "text": [
      "✅ Loaded BraTS19_CBICA_BFP_1: Image torch.Size([3, 224, 224]), Mask torch.Size([224, 224])\n",
      "✅ Loaded BraTS19_CBICA_AVJ_1: Image torch.Size([3, 224, 224]), Mask torch.Size([224, 224])\n"
     ]
    },
    {
     "name": "stderr",
     "output_type": "stream",
     "text": [
      "Epoch [3/15]:  92%|█████████▏| 96/104 [00:40<00:03,  2.35it/s, Loss=0.241]"
     ]
    },
    {
     "name": "stdout",
     "output_type": "stream",
     "text": [
      "✅ Loaded BraTS19_CBICA_AXO_1: Image torch.Size([3, 224, 224]), Mask torch.Size([224, 224])\n",
      "✅ Loaded BraTS19_CBICA_AVT_1: Image torch.Size([3, 224, 224]), Mask torch.Size([224, 224])\n"
     ]
    },
    {
     "name": "stderr",
     "output_type": "stream",
     "text": [
      "Epoch [3/15]:  93%|█████████▎| 97/104 [00:40<00:02,  2.36it/s, Loss=0.445]"
     ]
    },
    {
     "name": "stdout",
     "output_type": "stream",
     "text": [
      "✅ Loaded BraTS19_TCIA01_390_1: Image torch.Size([3, 224, 224]), Mask torch.Size([224, 224])\n",
      "✅ Loaded BraTS19_CBICA_BHZ_1: Image torch.Size([3, 224, 224]), Mask torch.Size([224, 224])\n"
     ]
    },
    {
     "name": "stderr",
     "output_type": "stream",
     "text": [
      "Epoch [3/15]:  94%|█████████▍| 98/104 [00:41<00:02,  2.38it/s, Loss=0.256]"
     ]
    },
    {
     "name": "stdout",
     "output_type": "stream",
     "text": [
      "✅ Loaded BraTS19_CBICA_AQP_1: Image torch.Size([3, 224, 224]), Mask torch.Size([224, 224])\n",
      "✅ Loaded BraTS19_TCIA08_319_1: Image torch.Size([3, 224, 224]), Mask torch.Size([224, 224])\n"
     ]
    },
    {
     "name": "stderr",
     "output_type": "stream",
     "text": [
      "Epoch [3/15]:  95%|█████████▌| 99/104 [00:41<00:02,  2.44it/s, Loss=0.285]"
     ]
    },
    {
     "name": "stdout",
     "output_type": "stream",
     "text": [
      "✅ Loaded BraTS19_TCIA02_300_1: Image torch.Size([3, 224, 224]), Mask torch.Size([224, 224])\n",
      "✅ Loaded BraTS19_TCIA01_180_1: Image torch.Size([3, 224, 224]), Mask torch.Size([224, 224])\n"
     ]
    },
    {
     "name": "stderr",
     "output_type": "stream",
     "text": [
      "Epoch [3/15]:  96%|█████████▌| 100/104 [00:41<00:01,  2.46it/s, Loss=0.3] "
     ]
    },
    {
     "name": "stdout",
     "output_type": "stream",
     "text": [
      "✅ Loaded BraTS19_CBICA_ALN_1: Image torch.Size([3, 224, 224]), Mask torch.Size([224, 224])\n",
      "✅ Loaded BraTS19_CBICA_BKV_1: Image torch.Size([3, 224, 224]), Mask torch.Size([224, 224])\n"
     ]
    },
    {
     "name": "stderr",
     "output_type": "stream",
     "text": [
      "Epoch [3/15]:  97%|█████████▋| 101/104 [00:42<00:01,  2.43it/s, Loss=0.186]"
     ]
    },
    {
     "name": "stdout",
     "output_type": "stream",
     "text": [
      "✅ Loaded BraTS19_TCIA03_498_1: Image torch.Size([3, 224, 224]), Mask torch.Size([224, 224])\n",
      "✅ Loaded BraTS19_TCIA01_235_1: Image torch.Size([3, 224, 224]), Mask torch.Size([224, 224])\n"
     ]
    },
    {
     "name": "stderr",
     "output_type": "stream",
     "text": [
      "Epoch [3/15]:  98%|█████████▊| 102/104 [00:42<00:00,  2.41it/s, Loss=0.357]"
     ]
    },
    {
     "name": "stdout",
     "output_type": "stream",
     "text": [
      "✅ Loaded BraTS19_TCIA08_218_1: Image torch.Size([3, 224, 224]), Mask torch.Size([224, 224])\n",
      "✅ Loaded BraTS19_CBICA_APK_1: Image torch.Size([3, 224, 224]), Mask torch.Size([224, 224])\n"
     ]
    },
    {
     "name": "stderr",
     "output_type": "stream",
     "text": [
      "                                                                           "
     ]
    },
    {
     "name": "stdout",
     "output_type": "stream",
     "text": [
      "✅ Loaded BraTS19_CBICA_ATP_1: Image torch.Size([3, 224, 224]), Mask torch.Size([224, 224])\n",
      "\n",
      "✅ Epoch 3: Train Loss: 0.3030\n"
     ]
    },
    {
     "name": "stderr",
     "output_type": "stream",
     "text": [
      "\r"
     ]
    },
    {
     "name": "stdout",
     "output_type": "stream",
     "text": [
      "💾 Saved model at epoch 3 with train loss 0.3030\n"
     ]
    },
    {
     "name": "stderr",
     "output_type": "stream",
     "text": [
      "Epoch [4/15]:   0%|          | 0/104 [00:00<?, ?it/s]"
     ]
    },
    {
     "name": "stdout",
     "output_type": "stream",
     "text": [
      "✅ Loaded BraTS19_2013_14_1: Image torch.Size([3, 224, 224]), Mask torch.Size([224, 224])\n",
      "✅ Loaded BraTS19_CBICA_AXL_1: Image torch.Size([3, 224, 224]), Mask torch.Size([224, 224])\n"
     ]
    },
    {
     "name": "stderr",
     "output_type": "stream",
     "text": [
      "Epoch [4/15]:   1%|          | 1/104 [00:00<00:44,  2.29it/s, Loss=0.282]"
     ]
    },
    {
     "name": "stdout",
     "output_type": "stream",
     "text": [
      "✅ Loaded BraTS19_TCIA05_444_1: Image torch.Size([3, 224, 224]), Mask torch.Size([224, 224])\n",
      "✅ Loaded BraTS19_TMC_06290_1: Image torch.Size([3, 224, 224]), Mask torch.Size([224, 224])\n"
     ]
    },
    {
     "name": "stderr",
     "output_type": "stream",
     "text": [
      "Epoch [4/15]:   2%|▏         | 2/104 [00:00<00:43,  2.32it/s, Loss=0.181]"
     ]
    },
    {
     "name": "stdout",
     "output_type": "stream",
     "text": [
      "✅ Loaded BraTS19_CBICA_AUQ_1: Image torch.Size([3, 224, 224]), Mask torch.Size([224, 224])\n",
      "✅ Loaded BraTS19_CBICA_ARZ_1: Image torch.Size([3, 224, 224]), Mask torch.Size([224, 224])\n"
     ]
    },
    {
     "name": "stderr",
     "output_type": "stream",
     "text": [
      "Epoch [4/15]:   3%|▎         | 3/104 [00:01<00:42,  2.38it/s, Loss=0.426]"
     ]
    },
    {
     "name": "stdout",
     "output_type": "stream",
     "text": [
      "✅ Loaded BraTS19_CBICA_ABM_1: Image torch.Size([3, 224, 224]), Mask torch.Size([224, 224])\n",
      "✅ Loaded BraTS19_2013_5_1: Image torch.Size([3, 224, 224]), Mask torch.Size([224, 224])\n"
     ]
    },
    {
     "name": "stderr",
     "output_type": "stream",
     "text": [
      "Epoch [4/15]:   4%|▍         | 4/104 [00:01<00:41,  2.40it/s, Loss=0.359]"
     ]
    },
    {
     "name": "stdout",
     "output_type": "stream",
     "text": [
      "✅ Loaded BraTS19_TCIA02_226_1: Image torch.Size([3, 224, 224]), Mask torch.Size([224, 224])\n",
      "✅ Loaded BraTS19_TCIA04_479_1: Image torch.Size([3, 224, 224]), Mask torch.Size([224, 224])\n"
     ]
    },
    {
     "name": "stderr",
     "output_type": "stream",
     "text": [
      "Epoch [4/15]:   5%|▍         | 5/104 [00:02<00:41,  2.37it/s, Loss=0.209]"
     ]
    },
    {
     "name": "stdout",
     "output_type": "stream",
     "text": [
      "✅ Loaded BraTS19_CBICA_BHZ_1: Image torch.Size([3, 224, 224]), Mask torch.Size([224, 224])\n",
      "✅ Loaded BraTS19_CBICA_BLJ_1: Image torch.Size([3, 224, 224]), Mask torch.Size([224, 224])\n"
     ]
    },
    {
     "name": "stderr",
     "output_type": "stream",
     "text": [
      "Epoch [4/15]:   6%|▌         | 6/104 [00:02<00:41,  2.38it/s, Loss=0.181]"
     ]
    },
    {
     "name": "stdout",
     "output_type": "stream",
     "text": [
      "✅ Loaded BraTS19_TCIA02_198_1: Image torch.Size([3, 224, 224]), Mask torch.Size([224, 224])\n",
      "✅ Loaded BraTS19_TCIA02_368_1: Image torch.Size([3, 224, 224]), Mask torch.Size([224, 224])\n"
     ]
    },
    {
     "name": "stderr",
     "output_type": "stream",
     "text": [
      "Epoch [4/15]:   7%|▋         | 7/104 [00:02<00:41,  2.36it/s, Loss=0.206]"
     ]
    },
    {
     "name": "stdout",
     "output_type": "stream",
     "text": [
      "✅ Loaded BraTS19_CBICA_ASW_1: Image torch.Size([3, 224, 224]), Mask torch.Size([224, 224])\n",
      "✅ Loaded BraTS19_CBICA_BGN_1: Image torch.Size([3, 224, 224]), Mask torch.Size([224, 224])\n"
     ]
    },
    {
     "name": "stderr",
     "output_type": "stream",
     "text": [
      "Epoch [4/15]:   8%|▊         | 8/104 [00:03<00:40,  2.37it/s, Loss=0.197]"
     ]
    },
    {
     "name": "stdout",
     "output_type": "stream",
     "text": [
      "✅ Loaded BraTS19_CBICA_AQQ_1: Image torch.Size([3, 224, 224]), Mask torch.Size([224, 224])\n",
      "✅ Loaded BraTS19_TCIA08_167_1: Image torch.Size([3, 224, 224]), Mask torch.Size([224, 224])\n"
     ]
    },
    {
     "name": "stderr",
     "output_type": "stream",
     "text": [
      "Epoch [4/15]:   9%|▊         | 9/104 [00:03<00:40,  2.35it/s, Loss=0.248]"
     ]
    },
    {
     "name": "stdout",
     "output_type": "stream",
     "text": [
      "✅ Loaded BraTS19_CBICA_ANP_1: Image torch.Size([3, 224, 224]), Mask torch.Size([224, 224])\n",
      "✅ Loaded BraTS19_CBICA_AVJ_1: Image torch.Size([3, 224, 224]), Mask torch.Size([224, 224])\n"
     ]
    },
    {
     "name": "stderr",
     "output_type": "stream",
     "text": [
      "Epoch [4/15]:  10%|▉         | 10/104 [00:04<00:39,  2.39it/s, Loss=0.254]"
     ]
    },
    {
     "name": "stdout",
     "output_type": "stream",
     "text": [
      "✅ Loaded BraTS19_TCIA01_201_1: Image torch.Size([3, 224, 224]), Mask torch.Size([224, 224])\n",
      "✅ Loaded BraTS19_CBICA_AXW_1: Image torch.Size([3, 224, 224]), Mask torch.Size([224, 224])\n"
     ]
    },
    {
     "name": "stderr",
     "output_type": "stream",
     "text": [
      "Epoch [4/15]:  11%|█         | 11/104 [00:04<00:38,  2.40it/s, Loss=0.435]"
     ]
    },
    {
     "name": "stdout",
     "output_type": "stream",
     "text": [
      "✅ Loaded BraTS19_CBICA_ASO_1: Image torch.Size([3, 224, 224]), Mask torch.Size([224, 224])\n",
      "✅ Loaded BraTS19_TCIA06_372_1: Image torch.Size([3, 224, 224]), Mask torch.Size([224, 224])\n"
     ]
    },
    {
     "name": "stderr",
     "output_type": "stream",
     "text": [
      "Epoch [4/15]:  12%|█▏        | 12/104 [00:05<00:37,  2.46it/s, Loss=0.211]"
     ]
    },
    {
     "name": "stdout",
     "output_type": "stream",
     "text": [
      "✅ Loaded BraTS19_TCIA01_460_1: Image torch.Size([3, 224, 224]), Mask torch.Size([224, 224])\n",
      "✅ Loaded BraTS19_CBICA_ABE_1: Image torch.Size([3, 224, 224]), Mask torch.Size([224, 224])\n"
     ]
    },
    {
     "name": "stderr",
     "output_type": "stream",
     "text": [
      "Epoch [4/15]:  12%|█▎        | 13/104 [00:05<00:36,  2.47it/s, Loss=0.272]"
     ]
    },
    {
     "name": "stdout",
     "output_type": "stream",
     "text": [
      "✅ Loaded BraTS19_TCIA02_151_1: Image torch.Size([3, 224, 224]), Mask torch.Size([224, 224])\n",
      "✅ Loaded BraTS19_CBICA_AUR_1: Image torch.Size([3, 224, 224]), Mask torch.Size([224, 224])\n"
     ]
    },
    {
     "name": "stderr",
     "output_type": "stream",
     "text": [
      "Epoch [4/15]:  13%|█▎        | 14/104 [00:05<00:36,  2.48it/s, Loss=0.274]"
     ]
    },
    {
     "name": "stdout",
     "output_type": "stream",
     "text": [
      "✅ Loaded BraTS19_CBICA_AYC_1: Image torch.Size([3, 224, 224]), Mask torch.Size([224, 224])\n",
      "✅ Loaded BraTS19_CBICA_APK_1: Image torch.Size([3, 224, 224]), Mask torch.Size([224, 224])\n"
     ]
    },
    {
     "name": "stderr",
     "output_type": "stream",
     "text": [
      "Epoch [4/15]:  14%|█▍        | 15/104 [00:06<00:36,  2.44it/s, Loss=0.16] "
     ]
    },
    {
     "name": "stdout",
     "output_type": "stream",
     "text": [
      "✅ Loaded BraTS19_CBICA_AVF_1: Image torch.Size([3, 224, 224]), Mask torch.Size([224, 224])\n",
      "✅ Loaded BraTS19_TCIA02_394_1: Image torch.Size([3, 224, 224]), Mask torch.Size([224, 224])\n"
     ]
    },
    {
     "name": "stderr",
     "output_type": "stream",
     "text": [
      "Epoch [4/15]:  15%|█▌        | 16/104 [00:06<00:35,  2.47it/s, Loss=0.173]"
     ]
    },
    {
     "name": "stdout",
     "output_type": "stream",
     "text": [
      "✅ Loaded BraTS19_2013_19_1: Image torch.Size([3, 224, 224]), Mask torch.Size([224, 224])\n",
      "✅ Loaded BraTS19_TCIA03_265_1: Image torch.Size([3, 224, 224]), Mask torch.Size([224, 224])\n"
     ]
    },
    {
     "name": "stderr",
     "output_type": "stream",
     "text": [
      "Epoch [4/15]:  16%|█▋        | 17/104 [00:07<00:35,  2.45it/s, Loss=0.342]"
     ]
    },
    {
     "name": "stdout",
     "output_type": "stream",
     "text": [
      "✅ Loaded BraTS19_TCIA02_118_1: Image torch.Size([3, 224, 224]), Mask torch.Size([224, 224])\n",
      "✅ Loaded BraTS19_CBICA_ASV_1: Image torch.Size([3, 224, 224]), Mask torch.Size([224, 224])\n"
     ]
    },
    {
     "name": "stderr",
     "output_type": "stream",
     "text": [
      "Epoch [4/15]:  17%|█▋        | 18/104 [00:07<00:35,  2.44it/s, Loss=0.296]"
     ]
    },
    {
     "name": "stdout",
     "output_type": "stream",
     "text": [
      "✅ Loaded BraTS19_TCIA02_274_1: Image torch.Size([3, 224, 224]), Mask torch.Size([224, 224])\n",
      "✅ Loaded BraTS19_CBICA_BHQ_1: Image torch.Size([3, 224, 224]), Mask torch.Size([224, 224])\n"
     ]
    },
    {
     "name": "stderr",
     "output_type": "stream",
     "text": [
      "Epoch [4/15]:  18%|█▊        | 19/104 [00:07<00:34,  2.45it/s, Loss=0.165]"
     ]
    },
    {
     "name": "stdout",
     "output_type": "stream",
     "text": [
      "✅ Loaded BraTS19_TCIA01_150_1: Image torch.Size([3, 224, 224]), Mask torch.Size([224, 224])\n",
      "✅ Loaded BraTS19_TCIA01_180_1: Image torch.Size([3, 224, 224]), Mask torch.Size([224, 224])\n"
     ]
    },
    {
     "name": "stderr",
     "output_type": "stream",
     "text": [
      "Epoch [4/15]:  19%|█▉        | 20/104 [00:08<00:34,  2.42it/s, Loss=0.246]"
     ]
    },
    {
     "name": "stdout",
     "output_type": "stream",
     "text": [
      "✅ Loaded BraTS19_TCIA02_168_1: Image torch.Size([3, 224, 224]), Mask torch.Size([224, 224])\n",
      "✅ Loaded BraTS19_CBICA_AAP_1: Image torch.Size([3, 224, 224]), Mask torch.Size([224, 224])\n"
     ]
    },
    {
     "name": "stderr",
     "output_type": "stream",
     "text": [
      "Epoch [4/15]:  20%|██        | 21/104 [00:08<00:33,  2.45it/s, Loss=0.205]"
     ]
    },
    {
     "name": "stdout",
     "output_type": "stream",
     "text": [
      "✅ Loaded BraTS19_TCIA01_401_1: Image torch.Size([3, 224, 224]), Mask torch.Size([224, 224])\n",
      "✅ Loaded BraTS19_TCIA01_390_1: Image torch.Size([3, 224, 224]), Mask torch.Size([224, 224])\n"
     ]
    },
    {
     "name": "stderr",
     "output_type": "stream",
     "text": [
      "Epoch [4/15]:  21%|██        | 22/104 [00:09<00:33,  2.44it/s, Loss=0.166]"
     ]
    },
    {
     "name": "stdout",
     "output_type": "stream",
     "text": [
      "✅ Loaded BraTS19_CBICA_APY_1: Image torch.Size([3, 224, 224]), Mask torch.Size([224, 224])\n",
      "✅ Loaded BraTS19_TCIA01_190_1: Image torch.Size([3, 224, 224]), Mask torch.Size([224, 224])\n"
     ]
    },
    {
     "name": "stderr",
     "output_type": "stream",
     "text": [
      "Epoch [4/15]:  22%|██▏       | 23/104 [00:09<00:32,  2.46it/s, Loss=0.27] "
     ]
    },
    {
     "name": "stdout",
     "output_type": "stream",
     "text": [
      "✅ Loaded BraTS19_TCIA02_430_1: Image torch.Size([3, 224, 224]), Mask torch.Size([224, 224])\n",
      "✅ Loaded BraTS19_CBICA_BCF_1: Image torch.Size([3, 224, 224]), Mask torch.Size([224, 224])\n"
     ]
    },
    {
     "name": "stderr",
     "output_type": "stream",
     "text": [
      "Epoch [4/15]:  23%|██▎       | 24/104 [00:09<00:32,  2.44it/s, Loss=0.235]"
     ]
    },
    {
     "name": "stdout",
     "output_type": "stream",
     "text": [
      "✅ Loaded BraTS19_CBICA_BHM_1: Image torch.Size([3, 224, 224]), Mask torch.Size([224, 224])\n",
      "✅ Loaded BraTS19_CBICA_BGX_1: Image torch.Size([3, 224, 224]), Mask torch.Size([224, 224])\n"
     ]
    },
    {
     "name": "stderr",
     "output_type": "stream",
     "text": [
      "Epoch [4/15]:  24%|██▍       | 25/104 [00:10<00:32,  2.43it/s, Loss=0.19] "
     ]
    },
    {
     "name": "stdout",
     "output_type": "stream",
     "text": [
      "✅ Loaded BraTS19_CBICA_BNR_1: Image torch.Size([3, 224, 224]), Mask torch.Size([224, 224])\n",
      "✅ Loaded BraTS19_TCIA08_469_1: Image torch.Size([3, 224, 224]), Mask torch.Size([224, 224])\n"
     ]
    },
    {
     "name": "stderr",
     "output_type": "stream",
     "text": [
      "Epoch [4/15]:  25%|██▌       | 26/104 [00:10<00:32,  2.43it/s, Loss=0.205]"
     ]
    },
    {
     "name": "stdout",
     "output_type": "stream",
     "text": [
      "✅ Loaded BraTS19_TCIA08_218_1: Image torch.Size([3, 224, 224]), Mask torch.Size([224, 224])\n",
      "✅ Loaded BraTS19_CBICA_ASK_1: Image torch.Size([3, 224, 224]), Mask torch.Size([224, 224])\n"
     ]
    },
    {
     "name": "stderr",
     "output_type": "stream",
     "text": [
      "Epoch [4/15]:  26%|██▌       | 27/104 [00:11<00:31,  2.44it/s, Loss=0.198]"
     ]
    },
    {
     "name": "stdout",
     "output_type": "stream",
     "text": [
      "✅ Loaded BraTS19_TCIA03_133_1: Image torch.Size([3, 224, 224]), Mask torch.Size([224, 224])\n",
      "✅ Loaded BraTS19_CBICA_AQY_1: Image torch.Size([3, 224, 224]), Mask torch.Size([224, 224])\n"
     ]
    },
    {
     "name": "stderr",
     "output_type": "stream",
     "text": [
      "Epoch [4/15]:  27%|██▋       | 28/104 [00:11<00:30,  2.46it/s, Loss=0.534]"
     ]
    },
    {
     "name": "stdout",
     "output_type": "stream",
     "text": [
      "✅ Loaded BraTS19_CBICA_AAG_1: Image torch.Size([3, 224, 224]), Mask torch.Size([224, 224])\n",
      "✅ Loaded BraTS19_TCIA03_257_1: Image torch.Size([3, 224, 224]), Mask torch.Size([224, 224])\n"
     ]
    },
    {
     "name": "stderr",
     "output_type": "stream",
     "text": [
      "Epoch [4/15]:  28%|██▊       | 29/104 [00:11<00:30,  2.44it/s, Loss=0.251]"
     ]
    },
    {
     "name": "stdout",
     "output_type": "stream",
     "text": [
      "✅ Loaded BraTS19_TMC_12866_1: Image torch.Size([3, 224, 224]), Mask torch.Size([224, 224])\n",
      "✅ Loaded BraTS19_2013_10_1: Image torch.Size([3, 224, 224]), Mask torch.Size([224, 224])\n"
     ]
    },
    {
     "name": "stderr",
     "output_type": "stream",
     "text": [
      "Epoch [4/15]:  29%|██▉       | 30/104 [00:12<00:30,  2.40it/s, Loss=0.166]"
     ]
    },
    {
     "name": "stdout",
     "output_type": "stream",
     "text": [
      "✅ Loaded BraTS19_CBICA_ATX_1: Image torch.Size([3, 224, 224]), Mask torch.Size([224, 224])\n",
      "✅ Loaded BraTS19_TCIA02_377_1: Image torch.Size([3, 224, 224]), Mask torch.Size([224, 224])\n"
     ]
    },
    {
     "name": "stderr",
     "output_type": "stream",
     "text": [
      "Epoch [4/15]:  30%|██▉       | 31/104 [00:12<00:30,  2.40it/s, Loss=0.194]"
     ]
    },
    {
     "name": "stdout",
     "output_type": "stream",
     "text": [
      "✅ Loaded BraTS19_TMC_21360_1: Image torch.Size([3, 224, 224]), Mask torch.Size([224, 224])\n",
      "✅ Loaded BraTS19_CBICA_ABB_1: Image torch.Size([3, 224, 224]), Mask torch.Size([224, 224])\n"
     ]
    },
    {
     "name": "stderr",
     "output_type": "stream",
     "text": [
      "Epoch [4/15]:  31%|███       | 32/104 [00:13<00:29,  2.42it/s, Loss=0.165]"
     ]
    },
    {
     "name": "stdout",
     "output_type": "stream",
     "text": [
      "✅ Loaded BraTS19_2013_18_1: Image torch.Size([3, 224, 224]), Mask torch.Size([224, 224])\n",
      "✅ Loaded BraTS19_2013_23_1: Image torch.Size([3, 224, 224]), Mask torch.Size([224, 224])\n"
     ]
    },
    {
     "name": "stderr",
     "output_type": "stream",
     "text": [
      "Epoch [4/15]:  32%|███▏      | 33/104 [00:13<00:29,  2.41it/s, Loss=0.244]"
     ]
    },
    {
     "name": "stdout",
     "output_type": "stream",
     "text": [
      "✅ Loaded BraTS19_TCIA06_211_1: Image torch.Size([3, 224, 224]), Mask torch.Size([224, 224])\n",
      "✅ Loaded BraTS19_CBICA_AXJ_1: Image torch.Size([3, 224, 224]), Mask torch.Size([224, 224])\n"
     ]
    },
    {
     "name": "stderr",
     "output_type": "stream",
     "text": [
      "Epoch [4/15]:  33%|███▎      | 34/104 [00:14<00:28,  2.42it/s, Loss=0.288]"
     ]
    },
    {
     "name": "stdout",
     "output_type": "stream",
     "text": [
      "✅ Loaded BraTS19_CBICA_ASU_1: Image torch.Size([3, 224, 224]), Mask torch.Size([224, 224])\n",
      "✅ Loaded BraTS19_TCIA02_179_1: Image torch.Size([3, 224, 224]), Mask torch.Size([224, 224])\n"
     ]
    },
    {
     "name": "stderr",
     "output_type": "stream",
     "text": [
      "Epoch [4/15]:  34%|███▎      | 35/104 [00:14<00:28,  2.41it/s, Loss=0.533]"
     ]
    },
    {
     "name": "stdout",
     "output_type": "stream",
     "text": [
      "✅ Loaded BraTS19_TCIA02_135_1: Image torch.Size([3, 224, 224]), Mask torch.Size([224, 224])\n",
      "✅ Loaded BraTS19_CBICA_AOC_1: Image torch.Size([3, 224, 224]), Mask torch.Size([224, 224])\n"
     ]
    },
    {
     "name": "stderr",
     "output_type": "stream",
     "text": [
      "Epoch [4/15]:  35%|███▍      | 36/104 [00:14<00:27,  2.44it/s, Loss=0.149]"
     ]
    },
    {
     "name": "stdout",
     "output_type": "stream",
     "text": [
      "✅ Loaded BraTS19_CBICA_BGR_1: Image torch.Size([3, 224, 224]), Mask torch.Size([224, 224])\n",
      "✅ Loaded BraTS19_TCIA02_321_1: Image torch.Size([3, 224, 224]), Mask torch.Size([224, 224])\n"
     ]
    },
    {
     "name": "stderr",
     "output_type": "stream",
     "text": [
      "Epoch [4/15]:  36%|███▌      | 37/104 [00:15<00:27,  2.40it/s, Loss=0.249]"
     ]
    },
    {
     "name": "stdout",
     "output_type": "stream",
     "text": [
      "✅ Loaded BraTS19_CBICA_AAL_1: Image torch.Size([3, 224, 224]), Mask torch.Size([224, 224])\n",
      "✅ Loaded BraTS19_CBICA_ANG_1: Image torch.Size([3, 224, 224]), Mask torch.Size([224, 224])\n"
     ]
    },
    {
     "name": "stderr",
     "output_type": "stream",
     "text": [
      "Epoch [4/15]:  37%|███▋      | 38/104 [00:15<00:27,  2.40it/s, Loss=0.217]"
     ]
    },
    {
     "name": "stdout",
     "output_type": "stream",
     "text": [
      "✅ Loaded BraTS19_CBICA_AYU_1: Image torch.Size([3, 224, 224]), Mask torch.Size([224, 224])\n",
      "✅ Loaded BraTS19_CBICA_ALU_1: Image torch.Size([3, 224, 224]), Mask torch.Size([224, 224])\n"
     ]
    },
    {
     "name": "stderr",
     "output_type": "stream",
     "text": [
      "Epoch [4/15]:  38%|███▊      | 39/104 [00:16<00:27,  2.37it/s, Loss=0.313]"
     ]
    },
    {
     "name": "stdout",
     "output_type": "stream",
     "text": [
      "✅ Loaded BraTS19_CBICA_ATD_1: Image torch.Size([3, 224, 224]), Mask torch.Size([224, 224])\n",
      "✅ Loaded BraTS19_CBICA_ASG_1: Image torch.Size([3, 224, 224]), Mask torch.Size([224, 224])\n"
     ]
    },
    {
     "name": "stderr",
     "output_type": "stream",
     "text": [
      "Epoch [4/15]:  38%|███▊      | 40/104 [00:16<00:27,  2.35it/s, Loss=0.249]"
     ]
    },
    {
     "name": "stdout",
     "output_type": "stream",
     "text": [
      "✅ Loaded BraTS19_CBICA_ABO_1: Image torch.Size([3, 224, 224]), Mask torch.Size([224, 224])\n",
      "✅ Loaded BraTS19_2013_21_1: Image torch.Size([3, 224, 224]), Mask torch.Size([224, 224])\n"
     ]
    },
    {
     "name": "stderr",
     "output_type": "stream",
     "text": [
      "Epoch [4/15]:  39%|███▉      | 41/104 [00:17<00:26,  2.37it/s, Loss=0.256]"
     ]
    },
    {
     "name": "stdout",
     "output_type": "stream",
     "text": [
      "✅ Loaded BraTS19_CBICA_AVV_1: Image torch.Size([3, 224, 224]), Mask torch.Size([224, 224])\n",
      "✅ Loaded BraTS19_CBICA_AZH_1: Image torch.Size([3, 224, 224]), Mask torch.Size([224, 224])\n"
     ]
    },
    {
     "name": "stderr",
     "output_type": "stream",
     "text": [
      "Epoch [4/15]:  40%|████      | 42/104 [00:17<00:25,  2.41it/s, Loss=0.346]"
     ]
    },
    {
     "name": "stdout",
     "output_type": "stream",
     "text": [
      "✅ Loaded BraTS19_CBICA_AQN_1: Image torch.Size([3, 224, 224]), Mask torch.Size([224, 224])\n",
      "✅ Loaded BraTS19_TCIA03_474_1: Image torch.Size([3, 224, 224]), Mask torch.Size([224, 224])\n"
     ]
    },
    {
     "name": "stderr",
     "output_type": "stream",
     "text": [
      "Epoch [4/15]:  41%|████▏     | 43/104 [00:17<00:25,  2.43it/s, Loss=0.242]"
     ]
    },
    {
     "name": "stdout",
     "output_type": "stream",
     "text": [
      "✅ Loaded BraTS19_TCIA03_296_1: Image torch.Size([3, 224, 224]), Mask torch.Size([224, 224])\n",
      "✅ Loaded BraTS19_TCIA02_309_1: Image torch.Size([3, 224, 224]), Mask torch.Size([224, 224])\n"
     ]
    },
    {
     "name": "stderr",
     "output_type": "stream",
     "text": [
      "Epoch [4/15]:  42%|████▏     | 44/104 [00:18<00:24,  2.45it/s, Loss=0.229]"
     ]
    },
    {
     "name": "stdout",
     "output_type": "stream",
     "text": [
      "✅ Loaded BraTS19_TCIA02_300_1: Image torch.Size([3, 224, 224]), Mask torch.Size([224, 224])\n",
      "✅ Loaded BraTS19_TCIA06_247_1: Image torch.Size([3, 224, 224]), Mask torch.Size([224, 224])\n"
     ]
    },
    {
     "name": "stderr",
     "output_type": "stream",
     "text": [
      "Epoch [4/15]:  43%|████▎     | 45/104 [00:18<00:24,  2.44it/s, Loss=0.154]"
     ]
    },
    {
     "name": "stdout",
     "output_type": "stream",
     "text": [
      "✅ Loaded BraTS19_CBICA_AQR_1: Image torch.Size([3, 224, 224]), Mask torch.Size([224, 224])\n",
      "✅ Loaded BraTS19_TCIA06_184_1: Image torch.Size([3, 224, 224]), Mask torch.Size([224, 224])\n"
     ]
    },
    {
     "name": "stderr",
     "output_type": "stream",
     "text": [
      "Epoch [4/15]:  44%|████▍     | 46/104 [00:19<00:23,  2.42it/s, Loss=0.289]"
     ]
    },
    {
     "name": "stdout",
     "output_type": "stream",
     "text": [
      "✅ Loaded BraTS19_TCIA08_234_1: Image torch.Size([3, 224, 224]), Mask torch.Size([224, 224])\n",
      "✅ Loaded BraTS19_TCIA02_208_1: Image torch.Size([3, 224, 224]), Mask torch.Size([224, 224])\n"
     ]
    },
    {
     "name": "stderr",
     "output_type": "stream",
     "text": [
      "Epoch [4/15]:  45%|████▌     | 47/104 [00:19<00:23,  2.43it/s, Loss=0.26] "
     ]
    },
    {
     "name": "stdout",
     "output_type": "stream",
     "text": [
      "✅ Loaded BraTS19_TCIA01_186_1: Image torch.Size([3, 224, 224]), Mask torch.Size([224, 224])\n",
      "✅ Loaded BraTS19_CBICA_ATF_1: Image torch.Size([3, 224, 224]), Mask torch.Size([224, 224])\n"
     ]
    },
    {
     "name": "stderr",
     "output_type": "stream",
     "text": [
      "Epoch [4/15]:  46%|████▌     | 48/104 [00:19<00:22,  2.44it/s, Loss=0.3] "
     ]
    },
    {
     "name": "stdout",
     "output_type": "stream",
     "text": [
      "✅ Loaded BraTS19_CBICA_ALN_1: Image torch.Size([3, 224, 224]), Mask torch.Size([224, 224])\n",
      "✅ Loaded BraTS19_TMC_27374_1: Image torch.Size([3, 224, 224]), Mask torch.Size([224, 224])\n"
     ]
    },
    {
     "name": "stderr",
     "output_type": "stream",
     "text": [
      "Epoch [4/15]:  47%|████▋     | 49/104 [00:20<00:22,  2.43it/s, Loss=0.247]"
     ]
    },
    {
     "name": "stdout",
     "output_type": "stream",
     "text": [
      "✅ Loaded BraTS19_TCIA01_131_1: Image torch.Size([3, 224, 224]), Mask torch.Size([224, 224])\n",
      "✅ Loaded BraTS19_CBICA_ASA_1: Image torch.Size([3, 224, 224]), Mask torch.Size([224, 224])\n"
     ]
    },
    {
     "name": "stderr",
     "output_type": "stream",
     "text": [
      "Epoch [4/15]:  48%|████▊     | 50/104 [00:20<00:22,  2.45it/s, Loss=0.275]"
     ]
    },
    {
     "name": "stdout",
     "output_type": "stream",
     "text": [
      "✅ Loaded BraTS19_TCIA06_165_1: Image torch.Size([3, 224, 224]), Mask torch.Size([224, 224])\n",
      "✅ Loaded BraTS19_2013_13_1: Image torch.Size([3, 224, 224]), Mask torch.Size([224, 224])\n"
     ]
    },
    {
     "name": "stderr",
     "output_type": "stream",
     "text": [
      "Epoch [4/15]:  49%|████▉     | 51/104 [00:21<00:21,  2.46it/s, Loss=0.216]"
     ]
    },
    {
     "name": "stdout",
     "output_type": "stream",
     "text": [
      "✅ Loaded BraTS19_CBICA_BHB_1: Image torch.Size([3, 224, 224]), Mask torch.Size([224, 224])\n",
      "✅ Loaded BraTS19_CBICA_AUN_1: Image torch.Size([3, 224, 224]), Mask torch.Size([224, 224])\n"
     ]
    },
    {
     "name": "stderr",
     "output_type": "stream",
     "text": [
      "Epoch [4/15]:  50%|█████     | 52/104 [00:21<00:21,  2.47it/s, Loss=0.246]"
     ]
    },
    {
     "name": "stdout",
     "output_type": "stream",
     "text": [
      "✅ Loaded BraTS19_TCIA06_332_1: Image torch.Size([3, 224, 224]), Mask torch.Size([224, 224])\n",
      "✅ Loaded BraTS19_CBICA_ASR_1: Image torch.Size([3, 224, 224]), Mask torch.Size([224, 224])\n"
     ]
    },
    {
     "name": "stderr",
     "output_type": "stream",
     "text": [
      "Epoch [4/15]:  51%|█████     | 53/104 [00:21<00:20,  2.46it/s, Loss=0.561]"
     ]
    },
    {
     "name": "stdout",
     "output_type": "stream",
     "text": [
      "✅ Loaded BraTS19_CBICA_ABY_1: Image torch.Size([3, 224, 224]), Mask torch.Size([224, 224])\n",
      "✅ Loaded BraTS19_CBICA_AMH_1: Image torch.Size([3, 224, 224]), Mask torch.Size([224, 224])\n"
     ]
    },
    {
     "name": "stderr",
     "output_type": "stream",
     "text": [
      "Epoch [4/15]:  52%|█████▏    | 54/104 [00:22<00:20,  2.47it/s, Loss=0.274]"
     ]
    },
    {
     "name": "stdout",
     "output_type": "stream",
     "text": [
      "✅ Loaded BraTS19_TCIA08_162_1: Image torch.Size([3, 224, 224]), Mask torch.Size([224, 224])\n",
      "✅ Loaded BraTS19_TCIA03_121_1: Image torch.Size([3, 224, 224]), Mask torch.Size([224, 224])\n"
     ]
    },
    {
     "name": "stderr",
     "output_type": "stream",
     "text": [
      "Epoch [4/15]:  53%|█████▎    | 55/104 [00:22<00:19,  2.48it/s, Loss=0.179]"
     ]
    },
    {
     "name": "stdout",
     "output_type": "stream",
     "text": [
      "✅ Loaded BraTS19_TCIA01_235_1: Image torch.Size([3, 224, 224]), Mask torch.Size([224, 224])\n",
      "✅ Loaded BraTS19_CBICA_AYI_1: Image torch.Size([3, 224, 224]), Mask torch.Size([224, 224])\n"
     ]
    },
    {
     "name": "stderr",
     "output_type": "stream",
     "text": [
      "Epoch [4/15]:  54%|█████▍    | 56/104 [00:23<00:19,  2.45it/s, Loss=0.547]"
     ]
    },
    {
     "name": "stdout",
     "output_type": "stream",
     "text": [
      "✅ Loaded BraTS19_TCIA05_277_1: Image torch.Size([3, 224, 224]), Mask torch.Size([224, 224])\n",
      "✅ Loaded BraTS19_CBICA_AVG_1: Image torch.Size([3, 224, 224]), Mask torch.Size([224, 224])\n"
     ]
    },
    {
     "name": "stderr",
     "output_type": "stream",
     "text": [
      "Epoch [4/15]:  55%|█████▍    | 57/104 [00:23<00:19,  2.44it/s, Loss=0.207]"
     ]
    },
    {
     "name": "stdout",
     "output_type": "stream",
     "text": [
      "✅ Loaded BraTS19_TCIA01_411_1: Image torch.Size([3, 224, 224]), Mask torch.Size([224, 224])\n",
      "✅ Loaded BraTS19_TCIA02_608_1: Image torch.Size([3, 224, 224]), Mask torch.Size([224, 224])\n"
     ]
    },
    {
     "name": "stderr",
     "output_type": "stream",
     "text": [
      "Epoch [4/15]:  56%|█████▌    | 58/104 [00:23<00:18,  2.43it/s, Loss=0.186]"
     ]
    },
    {
     "name": "stdout",
     "output_type": "stream",
     "text": [
      "✅ Loaded BraTS19_CBICA_ATP_1: Image torch.Size([3, 224, 224]), Mask torch.Size([224, 224])\n",
      "✅ Loaded BraTS19_CBICA_AOP_1: Image torch.Size([3, 224, 224]), Mask torch.Size([224, 224])\n"
     ]
    },
    {
     "name": "stderr",
     "output_type": "stream",
     "text": [
      "Epoch [4/15]:  57%|█████▋    | 59/104 [00:24<00:18,  2.42it/s, Loss=0.575]"
     ]
    },
    {
     "name": "stdout",
     "output_type": "stream",
     "text": [
      "✅ Loaded BraTS19_CBICA_AWV_1: Image torch.Size([3, 224, 224]), Mask torch.Size([224, 224])\n",
      "✅ Loaded BraTS19_CBICA_AOZ_1: Image torch.Size([3, 224, 224]), Mask torch.Size([224, 224])\n"
     ]
    },
    {
     "name": "stderr",
     "output_type": "stream",
     "text": [
      "Epoch [4/15]:  58%|█████▊    | 60/104 [00:24<00:18,  2.41it/s, Loss=0.303]"
     ]
    },
    {
     "name": "stdout",
     "output_type": "stream",
     "text": [
      "✅ Loaded BraTS19_CBICA_AQU_1: Image torch.Size([3, 224, 224]), Mask torch.Size([224, 224])\n",
      "✅ Loaded BraTS19_CBICA_AVT_1: Image torch.Size([3, 224, 224]), Mask torch.Size([224, 224])\n"
     ]
    },
    {
     "name": "stderr",
     "output_type": "stream",
     "text": [
      "Epoch [4/15]:  59%|█████▊    | 61/104 [00:25<00:17,  2.41it/s, Loss=0.352]"
     ]
    },
    {
     "name": "stdout",
     "output_type": "stream",
     "text": [
      "✅ Loaded BraTS19_CBICA_AUA_1: Image torch.Size([3, 224, 224]), Mask torch.Size([224, 224])\n",
      "✅ Loaded BraTS19_TMC_30014_1: Image torch.Size([3, 224, 224]), Mask torch.Size([224, 224])\n"
     ]
    },
    {
     "name": "stderr",
     "output_type": "stream",
     "text": [
      "Epoch [4/15]:  60%|█████▉    | 62/104 [00:25<00:17,  2.41it/s, Loss=0.272]"
     ]
    },
    {
     "name": "stdout",
     "output_type": "stream",
     "text": [
      "✅ Loaded BraTS19_CBICA_AQO_1: Image torch.Size([3, 224, 224]), Mask torch.Size([224, 224])\n",
      "✅ Loaded BraTS19_CBICA_AQD_1: Image torch.Size([3, 224, 224]), Mask torch.Size([224, 224])\n"
     ]
    },
    {
     "name": "stderr",
     "output_type": "stream",
     "text": [
      "Epoch [4/15]:  61%|██████    | 63/104 [00:26<00:16,  2.43it/s, Loss=0.21] "
     ]
    },
    {
     "name": "stdout",
     "output_type": "stream",
     "text": [
      "✅ Loaded BraTS19_TCIA02_314_1: Image torch.Size([3, 224, 224]), Mask torch.Size([224, 224])\n",
      "✅ Loaded BraTS19_CBICA_BFP_1: Image torch.Size([3, 224, 224]), Mask torch.Size([224, 224])\n"
     ]
    },
    {
     "name": "stderr",
     "output_type": "stream",
     "text": [
      "Epoch [4/15]:  62%|██████▏   | 64/104 [00:26<00:16,  2.42it/s, Loss=0.206]"
     ]
    },
    {
     "name": "stdout",
     "output_type": "stream",
     "text": [
      "✅ Loaded BraTS19_TCIA08_436_1: Image torch.Size([3, 224, 224]), Mask torch.Size([224, 224])\n",
      "✅ Loaded BraTS19_TCIA04_343_1: Image torch.Size([3, 224, 224]), Mask torch.Size([224, 224])\n"
     ]
    },
    {
     "name": "stderr",
     "output_type": "stream",
     "text": [
      "Epoch [4/15]:  62%|██████▎   | 65/104 [00:26<00:16,  2.39it/s, Loss=0.252]"
     ]
    },
    {
     "name": "stdout",
     "output_type": "stream",
     "text": [
      "✅ Loaded BraTS19_CBICA_BCL_1: Image torch.Size([3, 224, 224]), Mask torch.Size([224, 224])\n",
      "✅ Loaded BraTS19_CBICA_AQZ_1: Image torch.Size([3, 224, 224]), Mask torch.Size([224, 224])\n"
     ]
    },
    {
     "name": "stderr",
     "output_type": "stream",
     "text": [
      "Epoch [4/15]:  63%|██████▎   | 66/104 [00:27<00:15,  2.39it/s, Loss=0.395]"
     ]
    },
    {
     "name": "stdout",
     "output_type": "stream",
     "text": [
      "✅ Loaded BraTS19_CBICA_AAB_1: Image torch.Size([3, 224, 224]), Mask torch.Size([224, 224])\n",
      "✅ Loaded BraTS19_TCIA03_498_1: Image torch.Size([3, 224, 224]), Mask torch.Size([224, 224])\n"
     ]
    },
    {
     "name": "stderr",
     "output_type": "stream",
     "text": [
      "Epoch [4/15]:  64%|██████▍   | 67/104 [00:27<00:15,  2.37it/s, Loss=0.395]"
     ]
    },
    {
     "name": "stdout",
     "output_type": "stream",
     "text": [
      "✅ Loaded BraTS19_TCIA03_138_1: Image torch.Size([3, 224, 224]), Mask torch.Size([224, 224])\n",
      "✅ Loaded BraTS19_CBICA_AXM_1: Image torch.Size([3, 224, 224]), Mask torch.Size([224, 224])\n"
     ]
    },
    {
     "name": "stderr",
     "output_type": "stream",
     "text": [
      "Epoch [4/15]:  65%|██████▌   | 68/104 [00:28<00:14,  2.40it/s, Loss=0.273]"
     ]
    },
    {
     "name": "stdout",
     "output_type": "stream",
     "text": [
      "✅ Loaded BraTS19_CBICA_BHK_1: Image torch.Size([3, 224, 224]), Mask torch.Size([224, 224])\n",
      "✅ Loaded BraTS19_TCIA01_231_1: Image torch.Size([3, 224, 224]), Mask torch.Size([224, 224])\n"
     ]
    },
    {
     "name": "stderr",
     "output_type": "stream",
     "text": [
      "Epoch [4/15]:  66%|██████▋   | 69/104 [00:28<00:14,  2.40it/s, Loss=0.188]"
     ]
    },
    {
     "name": "stdout",
     "output_type": "stream",
     "text": [
      "✅ Loaded BraTS19_TCIA08_406_1: Image torch.Size([3, 224, 224]), Mask torch.Size([224, 224])\n",
      "✅ Loaded BraTS19_TCIA02_370_1: Image torch.Size([3, 224, 224]), Mask torch.Size([224, 224])\n"
     ]
    },
    {
     "name": "stderr",
     "output_type": "stream",
     "text": [
      "Epoch [4/15]:  67%|██████▋   | 70/104 [00:28<00:14,  2.39it/s, Loss=0.308]"
     ]
    },
    {
     "name": "stdout",
     "output_type": "stream",
     "text": [
      "✅ Loaded BraTS19_TCIA02_607_1: Image torch.Size([3, 224, 224]), Mask torch.Size([224, 224])\n",
      "✅ Loaded BraTS19_2013_17_1: Image torch.Size([3, 224, 224]), Mask torch.Size([224, 224])\n"
     ]
    },
    {
     "name": "stderr",
     "output_type": "stream",
     "text": [
      "Epoch [4/15]:  68%|██████▊   | 71/104 [00:29<00:13,  2.38it/s, Loss=0.202]"
     ]
    },
    {
     "name": "stdout",
     "output_type": "stream",
     "text": [
      "✅ Loaded BraTS19_CBICA_AQP_1: Image torch.Size([3, 224, 224]), Mask torch.Size([224, 224])\n",
      "✅ Loaded BraTS19_CBICA_ANV_1: Image torch.Size([3, 224, 224]), Mask torch.Size([224, 224])\n"
     ]
    },
    {
     "name": "stderr",
     "output_type": "stream",
     "text": [
      "Epoch [4/15]:  69%|██████▉   | 72/104 [00:29<00:13,  2.35it/s, Loss=0.624]"
     ]
    },
    {
     "name": "stdout",
     "output_type": "stream",
     "text": [
      "✅ Loaded BraTS19_CBICA_AQV_1: Image torch.Size([3, 224, 224]), Mask torch.Size([224, 224])\n",
      "✅ Loaded BraTS19_CBICA_AXO_1: Image torch.Size([3, 224, 224]), Mask torch.Size([224, 224])\n"
     ]
    },
    {
     "name": "stderr",
     "output_type": "stream",
     "text": [
      "Epoch [4/15]:  70%|███████   | 73/104 [00:30<00:12,  2.40it/s, Loss=0.301]"
     ]
    },
    {
     "name": "stdout",
     "output_type": "stream",
     "text": [
      "✅ Loaded BraTS19_CBICA_AYG_1: Image torch.Size([3, 224, 224]), Mask torch.Size([224, 224])\n",
      "✅ Loaded BraTS19_TCIA02_331_1: Image torch.Size([3, 224, 224]), Mask torch.Size([224, 224])\n"
     ]
    },
    {
     "name": "stderr",
     "output_type": "stream",
     "text": [
      "Epoch [4/15]:  71%|███████   | 74/104 [00:30<00:12,  2.43it/s, Loss=0.184]"
     ]
    },
    {
     "name": "stdout",
     "output_type": "stream",
     "text": [
      "✅ Loaded BraTS19_TCIA01_221_1: Image torch.Size([3, 224, 224]), Mask torch.Size([224, 224])\n",
      "✅ Loaded BraTS19_TCIA01_147_1: Image torch.Size([3, 224, 224]), Mask torch.Size([224, 224])\n"
     ]
    },
    {
     "name": "stderr",
     "output_type": "stream",
     "text": [
      "Epoch [4/15]:  72%|███████▏  | 75/104 [00:31<00:11,  2.45it/s, Loss=0.216]"
     ]
    },
    {
     "name": "stdout",
     "output_type": "stream",
     "text": [
      "✅ Loaded BraTS19_CBICA_AOO_1: Image torch.Size([3, 224, 224]), Mask torch.Size([224, 224])\n",
      "✅ Loaded BraTS19_TCIA02_491_1: Image torch.Size([3, 224, 224]), Mask torch.Size([224, 224])\n"
     ]
    },
    {
     "name": "stderr",
     "output_type": "stream",
     "text": [
      "Epoch [4/15]:  73%|███████▎  | 76/104 [00:31<00:11,  2.43it/s, Loss=0.345]"
     ]
    },
    {
     "name": "stdout",
     "output_type": "stream",
     "text": [
      "✅ Loaded BraTS19_TCIA03_338_1: Image torch.Size([3, 224, 224]), Mask torch.Size([224, 224])\n",
      "✅ Loaded BraTS19_CBICA_AUW_1: Image torch.Size([3, 224, 224]), Mask torch.Size([224, 224])\n"
     ]
    },
    {
     "name": "stderr",
     "output_type": "stream",
     "text": [
      "Epoch [4/15]:  74%|███████▍  | 77/104 [00:31<00:11,  2.45it/s, Loss=0.229]"
     ]
    },
    {
     "name": "stdout",
     "output_type": "stream",
     "text": [
      "✅ Loaded BraTS19_2013_3_1: Image torch.Size([3, 224, 224]), Mask torch.Size([224, 224])\n",
      "✅ Loaded BraTS19_CBICA_AWG_1: Image torch.Size([3, 224, 224]), Mask torch.Size([224, 224])\n"
     ]
    },
    {
     "name": "stderr",
     "output_type": "stream",
     "text": [
      "Epoch [4/15]:  75%|███████▌  | 78/104 [00:32<00:10,  2.46it/s, Loss=0.206]"
     ]
    },
    {
     "name": "stdout",
     "output_type": "stream",
     "text": [
      "✅ Loaded BraTS19_CBICA_AXQ_1: Image torch.Size([3, 224, 224]), Mask torch.Size([224, 224])\n",
      "✅ Loaded BraTS19_TMC_06643_1: Image torch.Size([3, 224, 224]), Mask torch.Size([224, 224])\n"
     ]
    },
    {
     "name": "stderr",
     "output_type": "stream",
     "text": [
      "Epoch [4/15]:  76%|███████▌  | 79/104 [00:32<00:10,  2.44it/s, Loss=0.197]"
     ]
    },
    {
     "name": "stdout",
     "output_type": "stream",
     "text": [
      "✅ Loaded BraTS19_TCIA08_105_1: Image torch.Size([3, 224, 224]), Mask torch.Size([224, 224])\n",
      "✅ Loaded BraTS19_CBICA_ARW_1: Image torch.Size([3, 224, 224]), Mask torch.Size([224, 224])\n"
     ]
    },
    {
     "name": "stderr",
     "output_type": "stream",
     "text": [
      "Epoch [4/15]:  77%|███████▋  | 80/104 [00:33<00:09,  2.46it/s, Loss=0.241]"
     ]
    },
    {
     "name": "stdout",
     "output_type": "stream",
     "text": [
      "✅ Loaded BraTS19_TCIA03_199_1: Image torch.Size([3, 224, 224]), Mask torch.Size([224, 224])\n",
      "✅ Loaded BraTS19_CBICA_BDK_1: Image torch.Size([3, 224, 224]), Mask torch.Size([224, 224])\n"
     ]
    },
    {
     "name": "stderr",
     "output_type": "stream",
     "text": [
      "Epoch [4/15]:  78%|███████▊  | 81/104 [00:33<00:09,  2.47it/s, Loss=0.322]"
     ]
    },
    {
     "name": "stdout",
     "output_type": "stream",
     "text": [
      "✅ Loaded BraTS19_TCIA01_499_1: Image torch.Size([3, 224, 224]), Mask torch.Size([224, 224])\n",
      "✅ Loaded BraTS19_CBICA_BHV_1: Image torch.Size([3, 224, 224]), Mask torch.Size([224, 224])\n"
     ]
    },
    {
     "name": "stderr",
     "output_type": "stream",
     "text": [
      "Epoch [4/15]:  79%|███████▉  | 82/104 [00:33<00:08,  2.47it/s, Loss=0.24] "
     ]
    },
    {
     "name": "stdout",
     "output_type": "stream",
     "text": [
      "✅ Loaded BraTS19_CBICA_BIC_1: Image torch.Size([3, 224, 224]), Mask torch.Size([224, 224])\n",
      "✅ Loaded BraTS19_TCIA02_283_1: Image torch.Size([3, 224, 224]), Mask torch.Size([224, 224])\n"
     ]
    },
    {
     "name": "stderr",
     "output_type": "stream",
     "text": [
      "Epoch [4/15]:  80%|███████▉  | 83/104 [00:34<00:08,  2.47it/s, Loss=0.381]"
     ]
    },
    {
     "name": "stdout",
     "output_type": "stream",
     "text": [
      "✅ Loaded BraTS19_CBICA_AWH_1: Image torch.Size([3, 224, 224]), Mask torch.Size([224, 224])\n",
      "✅ Loaded BraTS19_TCIA02_606_1: Image torch.Size([3, 224, 224]), Mask torch.Size([224, 224])\n"
     ]
    },
    {
     "name": "stderr",
     "output_type": "stream",
     "text": [
      "Epoch [4/15]:  81%|████████  | 84/104 [00:34<00:08,  2.49it/s, Loss=0.271]"
     ]
    },
    {
     "name": "stdout",
     "output_type": "stream",
     "text": [
      "✅ Loaded BraTS19_2013_12_1: Image torch.Size([3, 224, 224]), Mask torch.Size([224, 224])\n",
      "✅ Loaded BraTS19_CBICA_AWI_1: Image torch.Size([3, 224, 224]), Mask torch.Size([224, 224])\n"
     ]
    },
    {
     "name": "stderr",
     "output_type": "stream",
     "text": [
      "Epoch [4/15]:  82%|████████▏ | 85/104 [00:35<00:07,  2.48it/s, Loss=0.237]"
     ]
    },
    {
     "name": "stdout",
     "output_type": "stream",
     "text": [
      "✅ Loaded BraTS19_CBICA_ATN_1: Image torch.Size([3, 224, 224]), Mask torch.Size([224, 224])\n",
      "✅ Loaded BraTS19_CBICA_BGT_1: Image torch.Size([3, 224, 224]), Mask torch.Size([224, 224])\n"
     ]
    },
    {
     "name": "stderr",
     "output_type": "stream",
     "text": [
      "Epoch [4/15]:  83%|████████▎ | 86/104 [00:35<00:07,  2.46it/s, Loss=0.458]"
     ]
    },
    {
     "name": "stdout",
     "output_type": "stream",
     "text": [
      "✅ Loaded BraTS19_TCIA01_378_1: Image torch.Size([3, 224, 224]), Mask torch.Size([224, 224])\n",
      "✅ Loaded BraTS19_CBICA_ABN_1: Image torch.Size([3, 224, 224]), Mask torch.Size([224, 224])\n"
     ]
    },
    {
     "name": "stderr",
     "output_type": "stream",
     "text": [
      "Epoch [4/15]:  84%|████████▎ | 87/104 [00:35<00:06,  2.47it/s, Loss=0.22] "
     ]
    },
    {
     "name": "stdout",
     "output_type": "stream",
     "text": [
      "✅ Loaded BraTS19_CBICA_AVB_1: Image torch.Size([3, 224, 224]), Mask torch.Size([224, 224])\n",
      "✅ Loaded BraTS19_TCIA02_290_1: Image torch.Size([3, 224, 224]), Mask torch.Size([224, 224])\n"
     ]
    },
    {
     "name": "stderr",
     "output_type": "stream",
     "text": [
      "Epoch [4/15]:  85%|████████▍ | 88/104 [00:36<00:06,  2.44it/s, Loss=0.209]"
     ]
    },
    {
     "name": "stdout",
     "output_type": "stream",
     "text": [
      "✅ Loaded BraTS19_CBICA_AQG_1: Image torch.Size([3, 224, 224]), Mask torch.Size([224, 224])\n",
      "✅ Loaded BraTS19_TCIA01_335_1: Image torch.Size([3, 224, 224]), Mask torch.Size([224, 224])\n"
     ]
    },
    {
     "name": "stderr",
     "output_type": "stream",
     "text": [
      "Epoch [4/15]:  86%|████████▌ | 89/104 [00:36<00:06,  2.47it/s, Loss=0.196]"
     ]
    },
    {
     "name": "stdout",
     "output_type": "stream",
     "text": [
      "✅ Loaded BraTS19_CBICA_AQJ_1: Image torch.Size([3, 224, 224]), Mask torch.Size([224, 224])\n",
      "✅ Loaded BraTS19_CBICA_ARF_1: Image torch.Size([3, 224, 224]), Mask torch.Size([224, 224])\n"
     ]
    },
    {
     "name": "stderr",
     "output_type": "stream",
     "text": [
      "Epoch [4/15]:  87%|████████▋ | 90/104 [00:37<00:05,  2.45it/s, Loss=0.195]"
     ]
    },
    {
     "name": "stdout",
     "output_type": "stream",
     "text": [
      "✅ Loaded BraTS19_CBICA_ANI_1: Image torch.Size([3, 224, 224]), Mask torch.Size([224, 224])\n",
      "✅ Loaded BraTS19_CBICA_AOH_1: Image torch.Size([3, 224, 224]), Mask torch.Size([224, 224])\n"
     ]
    },
    {
     "name": "stderr",
     "output_type": "stream",
     "text": [
      "Epoch [4/15]:  88%|████████▊ | 91/104 [00:37<00:05,  2.43it/s, Loss=0.263]"
     ]
    },
    {
     "name": "stdout",
     "output_type": "stream",
     "text": [
      "✅ Loaded BraTS19_TCIA02_322_1: Image torch.Size([3, 224, 224]), Mask torch.Size([224, 224])\n",
      "✅ Loaded BraTS19_CBICA_BKV_1: Image torch.Size([3, 224, 224]), Mask torch.Size([224, 224])\n"
     ]
    },
    {
     "name": "stderr",
     "output_type": "stream",
     "text": [
      "Epoch [4/15]:  88%|████████▊ | 92/104 [00:37<00:05,  2.39it/s, Loss=0.449]"
     ]
    },
    {
     "name": "stdout",
     "output_type": "stream",
     "text": [
      "✅ Loaded BraTS19_TCIA02_605_1: Image torch.Size([3, 224, 224]), Mask torch.Size([224, 224])\n",
      "✅ Loaded BraTS19_CBICA_AME_1: Image torch.Size([3, 224, 224]), Mask torch.Size([224, 224])\n"
     ]
    },
    {
     "name": "stderr",
     "output_type": "stream",
     "text": [
      "Epoch [4/15]:  89%|████████▉ | 93/104 [00:38<00:04,  2.42it/s, Loss=0.559]"
     ]
    },
    {
     "name": "stdout",
     "output_type": "stream",
     "text": [
      "✅ Loaded BraTS19_CBICA_AZD_1: Image torch.Size([3, 224, 224]), Mask torch.Size([224, 224])\n",
      "✅ Loaded BraTS19_CBICA_AOD_1: Image torch.Size([3, 224, 224]), Mask torch.Size([224, 224])\n"
     ]
    },
    {
     "name": "stderr",
     "output_type": "stream",
     "text": [
      "Epoch [4/15]:  90%|█████████ | 94/104 [00:38<00:04,  2.39it/s, Loss=0.439]"
     ]
    },
    {
     "name": "stdout",
     "output_type": "stream",
     "text": [
      "✅ Loaded BraTS19_TCIA01_448_1: Image torch.Size([3, 224, 224]), Mask torch.Size([224, 224])\n",
      "✅ Loaded BraTS19_CBICA_BEM_1: Image torch.Size([3, 224, 224]), Mask torch.Size([224, 224])\n"
     ]
    },
    {
     "name": "stderr",
     "output_type": "stream",
     "text": [
      "Epoch [4/15]:  91%|█████████▏| 95/104 [00:39<00:03,  2.40it/s, Loss=0.293]"
     ]
    },
    {
     "name": "stdout",
     "output_type": "stream",
     "text": [
      "✅ Loaded BraTS19_2013_26_1: Image torch.Size([3, 224, 224]), Mask torch.Size([224, 224])\n",
      "✅ Loaded BraTS19_TCIA01_203_1: Image torch.Size([3, 224, 224]), Mask torch.Size([224, 224])\n"
     ]
    },
    {
     "name": "stderr",
     "output_type": "stream",
     "text": [
      "Epoch [4/15]:  92%|█████████▏| 96/104 [00:39<00:03,  2.39it/s, Loss=0.213]"
     ]
    },
    {
     "name": "stdout",
     "output_type": "stream",
     "text": [
      "✅ Loaded BraTS19_2013_11_1: Image torch.Size([3, 224, 224]), Mask torch.Size([224, 224])\n",
      "✅ Loaded BraTS19_TCIA04_192_1: Image torch.Size([3, 224, 224]), Mask torch.Size([224, 224])\n"
     ]
    },
    {
     "name": "stderr",
     "output_type": "stream",
     "text": [
      "Epoch [4/15]:  93%|█████████▎| 97/104 [00:40<00:02,  2.43it/s, Loss=0.366]"
     ]
    },
    {
     "name": "stdout",
     "output_type": "stream",
     "text": [
      "✅ Loaded BraTS19_TCIA01_412_1: Image torch.Size([3, 224, 224]), Mask torch.Size([224, 224])\n",
      "✅ Loaded BraTS19_CBICA_AYA_1: Image torch.Size([3, 224, 224]), Mask torch.Size([224, 224])\n"
     ]
    },
    {
     "name": "stderr",
     "output_type": "stream",
     "text": [
      "Epoch [4/15]:  94%|█████████▍| 98/104 [00:40<00:02,  2.39it/s, Loss=0.232]"
     ]
    },
    {
     "name": "stdout",
     "output_type": "stream",
     "text": [
      "✅ Loaded BraTS19_TCIA06_409_1: Image torch.Size([3, 224, 224]), Mask torch.Size([224, 224])\n",
      "✅ Loaded BraTS19_CBICA_APR_1: Image torch.Size([3, 224, 224]), Mask torch.Size([224, 224])\n"
     ]
    },
    {
     "name": "stderr",
     "output_type": "stream",
     "text": [
      "Epoch [4/15]:  95%|█████████▌| 99/104 [00:40<00:02,  2.39it/s, Loss=0.333]"
     ]
    },
    {
     "name": "stdout",
     "output_type": "stream",
     "text": [
      "✅ Loaded BraTS19_CBICA_AYW_1: Image torch.Size([3, 224, 224]), Mask torch.Size([224, 224])\n",
      "✅ Loaded BraTS19_CBICA_AUX_1: Image torch.Size([3, 224, 224]), Mask torch.Size([224, 224])\n"
     ]
    },
    {
     "name": "stderr",
     "output_type": "stream",
     "text": [
      "Epoch [4/15]:  96%|█████████▌| 100/104 [00:41<00:01,  2.39it/s, Loss=0.53]"
     ]
    },
    {
     "name": "stdout",
     "output_type": "stream",
     "text": [
      "✅ Loaded BraTS19_TCIA08_319_1: Image torch.Size([3, 224, 224]), Mask torch.Size([224, 224])\n",
      "✅ Loaded BraTS19_CBICA_ALX_1: Image torch.Size([3, 224, 224]), Mask torch.Size([224, 224])\n"
     ]
    },
    {
     "name": "stderr",
     "output_type": "stream",
     "text": [
      "Epoch [4/15]:  97%|█████████▋| 101/104 [00:41<00:01,  2.40it/s, Loss=0.241]"
     ]
    },
    {
     "name": "stdout",
     "output_type": "stream",
     "text": [
      "✅ Loaded BraTS19_CBICA_BGO_1: Image torch.Size([3, 224, 224]), Mask torch.Size([224, 224])\n",
      "✅ Loaded BraTS19_TCIA06_603_1: Image torch.Size([3, 224, 224]), Mask torch.Size([224, 224])\n"
     ]
    },
    {
     "name": "stderr",
     "output_type": "stream",
     "text": [
      "Epoch [4/15]:  98%|█████████▊| 102/104 [00:42<00:00,  2.40it/s, Loss=0.179]"
     ]
    },
    {
     "name": "stdout",
     "output_type": "stream",
     "text": [
      "✅ Loaded BraTS19_CBICA_ANZ_1: Image torch.Size([3, 224, 224]), Mask torch.Size([224, 224])\n",
      "✅ Loaded BraTS19_TCIA05_396_1: Image torch.Size([3, 224, 224]), Mask torch.Size([224, 224])\n"
     ]
    },
    {
     "name": "stderr",
     "output_type": "stream",
     "text": [
      "                                                                           "
     ]
    },
    {
     "name": "stdout",
     "output_type": "stream",
     "text": [
      "✅ Loaded BraTS19_TCIA02_455_1: Image torch.Size([3, 224, 224]), Mask torch.Size([224, 224])\n",
      "\n",
      "✅ Epoch 4: Train Loss: 0.2828\n"
     ]
    },
    {
     "name": "stderr",
     "output_type": "stream",
     "text": [
      "\r"
     ]
    },
    {
     "name": "stdout",
     "output_type": "stream",
     "text": [
      "💾 Saved model at epoch 4 with train loss 0.2828\n"
     ]
    },
    {
     "name": "stderr",
     "output_type": "stream",
     "text": [
      "Epoch [5/15]:   0%|          | 0/104 [00:00<?, ?it/s]"
     ]
    },
    {
     "name": "stdout",
     "output_type": "stream",
     "text": [
      "✅ Loaded BraTS19_CBICA_AVJ_1: Image torch.Size([3, 224, 224]), Mask torch.Size([224, 224])\n",
      "✅ Loaded BraTS19_TCIA02_322_1: Image torch.Size([3, 224, 224]), Mask torch.Size([224, 224])\n"
     ]
    },
    {
     "name": "stderr",
     "output_type": "stream",
     "text": [
      "Epoch [5/15]:   1%|          | 1/104 [00:00<00:44,  2.30it/s, Loss=0.192]"
     ]
    },
    {
     "name": "stdout",
     "output_type": "stream",
     "text": [
      "✅ Loaded BraTS19_TMC_12866_1: Image torch.Size([3, 224, 224]), Mask torch.Size([224, 224])\n",
      "✅ Loaded BraTS19_TCIA05_444_1: Image torch.Size([3, 224, 224]), Mask torch.Size([224, 224])\n"
     ]
    },
    {
     "name": "stderr",
     "output_type": "stream",
     "text": [
      "Epoch [5/15]:   2%|▏         | 2/104 [00:00<00:44,  2.30it/s, Loss=0.174]"
     ]
    },
    {
     "name": "stdout",
     "output_type": "stream",
     "text": [
      "✅ Loaded BraTS19_TCIA06_372_1: Image torch.Size([3, 224, 224]), Mask torch.Size([224, 224])\n",
      "✅ Loaded BraTS19_TCIA01_231_1: Image torch.Size([3, 224, 224]), Mask torch.Size([224, 224])\n"
     ]
    },
    {
     "name": "stderr",
     "output_type": "stream",
     "text": [
      "Epoch [5/15]:   3%|▎         | 3/104 [00:01<00:42,  2.40it/s, Loss=0.187]"
     ]
    },
    {
     "name": "stdout",
     "output_type": "stream",
     "text": [
      "✅ Loaded BraTS19_TCIA02_208_1: Image torch.Size([3, 224, 224]), Mask torch.Size([224, 224])\n",
      "✅ Loaded BraTS19_CBICA_AOO_1: Image torch.Size([3, 224, 224]), Mask torch.Size([224, 224])\n"
     ]
    },
    {
     "name": "stderr",
     "output_type": "stream",
     "text": [
      "Epoch [5/15]:   4%|▍         | 4/104 [00:01<00:41,  2.44it/s, Loss=0.363]"
     ]
    },
    {
     "name": "stdout",
     "output_type": "stream",
     "text": [
      "✅ Loaded BraTS19_CBICA_BKV_1: Image torch.Size([3, 224, 224]), Mask torch.Size([224, 224])\n",
      "✅ Loaded BraTS19_2013_17_1: Image torch.Size([3, 224, 224]), Mask torch.Size([224, 224])\n"
     ]
    },
    {
     "name": "stderr",
     "output_type": "stream",
     "text": [
      "Epoch [5/15]:   5%|▍         | 5/104 [00:02<00:40,  2.42it/s, Loss=0.2]  "
     ]
    },
    {
     "name": "stdout",
     "output_type": "stream",
     "text": [
      "✅ Loaded BraTS19_2013_13_1: Image torch.Size([3, 224, 224]), Mask torch.Size([224, 224])\n",
      "✅ Loaded BraTS19_TCIA01_235_1: Image torch.Size([3, 224, 224]), Mask torch.Size([224, 224])\n"
     ]
    },
    {
     "name": "stderr",
     "output_type": "stream",
     "text": [
      "Epoch [5/15]:   6%|▌         | 6/104 [00:02<00:40,  2.45it/s, Loss=0.546]"
     ]
    },
    {
     "name": "stdout",
     "output_type": "stream",
     "text": [
      "✅ Loaded BraTS19_CBICA_AOZ_1: Image torch.Size([3, 224, 224]), Mask torch.Size([224, 224])\n",
      "✅ Loaded BraTS19_CBICA_AUN_1: Image torch.Size([3, 224, 224]), Mask torch.Size([224, 224])\n"
     ]
    },
    {
     "name": "stderr",
     "output_type": "stream",
     "text": [
      "Epoch [5/15]:   7%|▋         | 7/104 [00:02<00:39,  2.46it/s, Loss=0.355]"
     ]
    },
    {
     "name": "stdout",
     "output_type": "stream",
     "text": [
      "✅ Loaded BraTS19_CBICA_AOH_1: Image torch.Size([3, 224, 224]), Mask torch.Size([224, 224])\n",
      "✅ Loaded BraTS19_CBICA_AUW_1: Image torch.Size([3, 224, 224]), Mask torch.Size([224, 224])\n"
     ]
    },
    {
     "name": "stderr",
     "output_type": "stream",
     "text": [
      "Epoch [5/15]:   8%|▊         | 8/104 [00:03<00:38,  2.48it/s, Loss=0.189]"
     ]
    },
    {
     "name": "stdout",
     "output_type": "stream",
     "text": [
      "✅ Loaded BraTS19_TCIA01_147_1: Image torch.Size([3, 224, 224]), Mask torch.Size([224, 224])\n",
      "✅ Loaded BraTS19_CBICA_AQZ_1: Image torch.Size([3, 224, 224]), Mask torch.Size([224, 224])\n"
     ]
    },
    {
     "name": "stderr",
     "output_type": "stream",
     "text": [
      "Epoch [5/15]:   9%|▊         | 9/104 [00:03<00:38,  2.48it/s, Loss=0.146]"
     ]
    },
    {
     "name": "stdout",
     "output_type": "stream",
     "text": [
      "✅ Loaded BraTS19_TCIA03_474_1: Image torch.Size([3, 224, 224]), Mask torch.Size([224, 224])\n",
      "✅ Loaded BraTS19_TCIA08_436_1: Image torch.Size([3, 224, 224]), Mask torch.Size([224, 224])\n"
     ]
    },
    {
     "name": "stderr",
     "output_type": "stream",
     "text": [
      "Epoch [5/15]:  10%|▉         | 10/104 [00:04<00:38,  2.46it/s, Loss=0.144]"
     ]
    },
    {
     "name": "stdout",
     "output_type": "stream",
     "text": [
      "✅ Loaded BraTS19_CBICA_ARW_1: Image torch.Size([3, 224, 224]), Mask torch.Size([224, 224])\n",
      "✅ Loaded BraTS19_TCIA02_283_1: Image torch.Size([3, 224, 224]), Mask torch.Size([224, 224])\n"
     ]
    },
    {
     "name": "stderr",
     "output_type": "stream",
     "text": [
      "Epoch [5/15]:  11%|█         | 11/104 [00:04<00:37,  2.47it/s, Loss=0.32] "
     ]
    },
    {
     "name": "stdout",
     "output_type": "stream",
     "text": [
      "✅ Loaded BraTS19_TCIA02_274_1: Image torch.Size([3, 224, 224]), Mask torch.Size([224, 224])\n",
      "✅ Loaded BraTS19_CBICA_APY_1: Image torch.Size([3, 224, 224]), Mask torch.Size([224, 224])\n"
     ]
    },
    {
     "name": "stderr",
     "output_type": "stream",
     "text": [
      "Epoch [5/15]:  12%|█▏        | 12/104 [00:04<00:37,  2.48it/s, Loss=0.188]"
     ]
    },
    {
     "name": "stdout",
     "output_type": "stream",
     "text": [
      "✅ Loaded BraTS19_TCIA08_406_1: Image torch.Size([3, 224, 224]), Mask torch.Size([224, 224])\n",
      "✅ Loaded BraTS19_CBICA_AAP_1: Image torch.Size([3, 224, 224]), Mask torch.Size([224, 224])\n"
     ]
    },
    {
     "name": "stderr",
     "output_type": "stream",
     "text": [
      "Epoch [5/15]:  12%|█▎        | 13/104 [00:05<00:36,  2.47it/s, Loss=0.247]"
     ]
    },
    {
     "name": "stdout",
     "output_type": "stream",
     "text": [
      "✅ Loaded BraTS19_CBICA_ATX_1: Image torch.Size([3, 224, 224]), Mask torch.Size([224, 224])\n",
      "✅ Loaded BraTS19_CBICA_BHZ_1: Image torch.Size([3, 224, 224]), Mask torch.Size([224, 224])\n"
     ]
    },
    {
     "name": "stderr",
     "output_type": "stream",
     "text": [
      "Epoch [5/15]:  13%|█▎        | 14/104 [00:05<00:36,  2.46it/s, Loss=0.188]"
     ]
    },
    {
     "name": "stdout",
     "output_type": "stream",
     "text": [
      "✅ Loaded BraTS19_2013_19_1: Image torch.Size([3, 224, 224]), Mask torch.Size([224, 224])\n",
      "✅ Loaded BraTS19_CBICA_BIC_1: Image torch.Size([3, 224, 224]), Mask torch.Size([224, 224])\n"
     ]
    },
    {
     "name": "stderr",
     "output_type": "stream",
     "text": [
      "Epoch [5/15]:  14%|█▍        | 15/104 [00:06<00:36,  2.44it/s, Loss=0.241]"
     ]
    },
    {
     "name": "stdout",
     "output_type": "stream",
     "text": [
      "✅ Loaded BraTS19_TCIA06_332_1: Image torch.Size([3, 224, 224]), Mask torch.Size([224, 224])\n",
      "✅ Loaded BraTS19_CBICA_AZH_1: Image torch.Size([3, 224, 224]), Mask torch.Size([224, 224])\n"
     ]
    },
    {
     "name": "stderr",
     "output_type": "stream",
     "text": [
      "Epoch [5/15]:  15%|█▌        | 16/104 [00:06<00:35,  2.46it/s, Loss=0.379]"
     ]
    },
    {
     "name": "stdout",
     "output_type": "stream",
     "text": [
      "✅ Loaded BraTS19_CBICA_AAB_1: Image torch.Size([3, 224, 224]), Mask torch.Size([224, 224])\n",
      "✅ Loaded BraTS19_CBICA_ANG_1: Image torch.Size([3, 224, 224]), Mask torch.Size([224, 224])\n"
     ]
    },
    {
     "name": "stderr",
     "output_type": "stream",
     "text": [
      "Epoch [5/15]:  16%|█▋        | 17/104 [00:06<00:35,  2.47it/s, Loss=0.185]"
     ]
    },
    {
     "name": "stdout",
     "output_type": "stream",
     "text": [
      "✅ Loaded BraTS19_TCIA01_180_1: Image torch.Size([3, 224, 224]), Mask torch.Size([224, 224])\n",
      "✅ Loaded BraTS19_TCIA02_135_1: Image torch.Size([3, 224, 224]), Mask torch.Size([224, 224])\n"
     ]
    },
    {
     "name": "stderr",
     "output_type": "stream",
     "text": [
      "Epoch [5/15]:  17%|█▋        | 18/104 [00:07<00:35,  2.45it/s, Loss=0.277]"
     ]
    },
    {
     "name": "stdout",
     "output_type": "stream",
     "text": [
      "✅ Loaded BraTS19_CBICA_BLJ_1: Image torch.Size([3, 224, 224]), Mask torch.Size([224, 224])\n",
      "✅ Loaded BraTS19_CBICA_BHQ_1: Image torch.Size([3, 224, 224]), Mask torch.Size([224, 224])\n"
     ]
    },
    {
     "name": "stderr",
     "output_type": "stream",
     "text": [
      "Epoch [5/15]:  18%|█▊        | 19/104 [00:07<00:34,  2.44it/s, Loss=0.5]  "
     ]
    },
    {
     "name": "stdout",
     "output_type": "stream",
     "text": [
      "✅ Loaded BraTS19_TCIA06_211_1: Image torch.Size([3, 224, 224]), Mask torch.Size([224, 224])\n",
      "✅ Loaded BraTS19_TCIA02_290_1: Image torch.Size([3, 224, 224]), Mask torch.Size([224, 224])\n"
     ]
    },
    {
     "name": "stderr",
     "output_type": "stream",
     "text": [
      "Epoch [5/15]:  19%|█▉        | 20/104 [00:08<00:34,  2.44it/s, Loss=0.223]"
     ]
    },
    {
     "name": "stdout",
     "output_type": "stream",
     "text": [
      "✅ Loaded BraTS19_CBICA_BGR_1: Image torch.Size([3, 224, 224]), Mask torch.Size([224, 224])\n",
      "✅ Loaded BraTS19_CBICA_ALX_1: Image torch.Size([3, 224, 224]), Mask torch.Size([224, 224])\n"
     ]
    },
    {
     "name": "stderr",
     "output_type": "stream",
     "text": [
      "Epoch [5/15]:  20%|██        | 21/104 [00:08<00:34,  2.44it/s, Loss=0.211]"
     ]
    },
    {
     "name": "stdout",
     "output_type": "stream",
     "text": [
      "✅ Loaded BraTS19_CBICA_AQR_1: Image torch.Size([3, 224, 224]), Mask torch.Size([224, 224])\n",
      "✅ Loaded BraTS19_TCIA02_314_1: Image torch.Size([3, 224, 224]), Mask torch.Size([224, 224])\n"
     ]
    },
    {
     "name": "stderr",
     "output_type": "stream",
     "text": [
      "Epoch [5/15]:  21%|██        | 22/104 [00:09<00:33,  2.43it/s, Loss=0.262]"
     ]
    },
    {
     "name": "stdout",
     "output_type": "stream",
     "text": [
      "✅ Loaded BraTS19_CBICA_ATF_1: Image torch.Size([3, 224, 224]), Mask torch.Size([224, 224])\n",
      "✅ Loaded BraTS19_CBICA_ARF_1: Image torch.Size([3, 224, 224]), Mask torch.Size([224, 224])\n"
     ]
    },
    {
     "name": "stderr",
     "output_type": "stream",
     "text": [
      "Epoch [5/15]:  22%|██▏       | 23/104 [00:09<00:33,  2.44it/s, Loss=0.267]"
     ]
    },
    {
     "name": "stdout",
     "output_type": "stream",
     "text": [
      "✅ Loaded BraTS19_CBICA_AWG_1: Image torch.Size([3, 224, 224]), Mask torch.Size([224, 224])\n",
      "✅ Loaded BraTS19_CBICA_AXM_1: Image torch.Size([3, 224, 224]), Mask torch.Size([224, 224])\n"
     ]
    },
    {
     "name": "stderr",
     "output_type": "stream",
     "text": [
      "Epoch [5/15]:  23%|██▎       | 24/104 [00:09<00:33,  2.42it/s, Loss=0.237]"
     ]
    },
    {
     "name": "stdout",
     "output_type": "stream",
     "text": [
      "✅ Loaded BraTS19_TCIA02_118_1: Image torch.Size([3, 224, 224]), Mask torch.Size([224, 224])\n",
      "✅ Loaded BraTS19_CBICA_ASR_1: Image torch.Size([3, 224, 224]), Mask torch.Size([224, 224])\n"
     ]
    },
    {
     "name": "stderr",
     "output_type": "stream",
     "text": [
      "Epoch [5/15]:  24%|██▍       | 25/104 [00:10<00:32,  2.42it/s, Loss=0.294]"
     ]
    },
    {
     "name": "stdout",
     "output_type": "stream",
     "text": [
      "✅ Loaded BraTS19_2013_26_1: Image torch.Size([3, 224, 224]), Mask torch.Size([224, 224])\n",
      "✅ Loaded BraTS19_CBICA_ATP_1: Image torch.Size([3, 224, 224]), Mask torch.Size([224, 224])\n"
     ]
    },
    {
     "name": "stderr",
     "output_type": "stream",
     "text": [
      "Epoch [5/15]:  25%|██▌       | 26/104 [00:10<00:32,  2.42it/s, Loss=0.562]"
     ]
    },
    {
     "name": "stdout",
     "output_type": "stream",
     "text": [
      "✅ Loaded BraTS19_2013_11_1: Image torch.Size([3, 224, 224]), Mask torch.Size([224, 224])\n",
      "✅ Loaded BraTS19_CBICA_AYU_1: Image torch.Size([3, 224, 224]), Mask torch.Size([224, 224])\n"
     ]
    },
    {
     "name": "stderr",
     "output_type": "stream",
     "text": [
      "Epoch [5/15]:  26%|██▌       | 27/104 [00:11<00:32,  2.39it/s, Loss=0.363]"
     ]
    },
    {
     "name": "stdout",
     "output_type": "stream",
     "text": [
      "✅ Loaded BraTS19_TCIA02_226_1: Image torch.Size([3, 224, 224]), Mask torch.Size([224, 224])\n",
      "✅ Loaded BraTS19_CBICA_AUQ_1: Image torch.Size([3, 224, 224]), Mask torch.Size([224, 224])\n"
     ]
    },
    {
     "name": "stderr",
     "output_type": "stream",
     "text": [
      "Epoch [5/15]:  27%|██▋       | 28/104 [00:11<00:31,  2.39it/s, Loss=0.309]"
     ]
    },
    {
     "name": "stdout",
     "output_type": "stream",
     "text": [
      "✅ Loaded BraTS19_CBICA_BCF_1: Image torch.Size([3, 224, 224]), Mask torch.Size([224, 224])\n",
      "✅ Loaded BraTS19_CBICA_AVF_1: Image torch.Size([3, 224, 224]), Mask torch.Size([224, 224])\n"
     ]
    },
    {
     "name": "stderr",
     "output_type": "stream",
     "text": [
      "Epoch [5/15]:  28%|██▊       | 29/104 [00:11<00:31,  2.38it/s, Loss=0.157]"
     ]
    },
    {
     "name": "stdout",
     "output_type": "stream",
     "text": [
      "✅ Loaded BraTS19_TCIA08_234_1: Image torch.Size([3, 224, 224]), Mask torch.Size([224, 224])\n",
      "✅ Loaded BraTS19_TCIA08_319_1: Image torch.Size([3, 224, 224]), Mask torch.Size([224, 224])\n"
     ]
    },
    {
     "name": "stderr",
     "output_type": "stream",
     "text": [
      "Epoch [5/15]:  29%|██▉       | 30/104 [00:12<00:30,  2.39it/s, Loss=0.261]"
     ]
    },
    {
     "name": "stdout",
     "output_type": "stream",
     "text": [
      "✅ Loaded BraTS19_CBICA_AXQ_1: Image torch.Size([3, 224, 224]), Mask torch.Size([224, 224])\n",
      "✅ Loaded BraTS19_TCIA06_184_1: Image torch.Size([3, 224, 224]), Mask torch.Size([224, 224])\n"
     ]
    },
    {
     "name": "stderr",
     "output_type": "stream",
     "text": [
      "Epoch [5/15]:  30%|██▉       | 31/104 [00:12<00:30,  2.40it/s, Loss=0.305]"
     ]
    },
    {
     "name": "stdout",
     "output_type": "stream",
     "text": [
      "✅ Loaded BraTS19_TCIA04_479_1: Image torch.Size([3, 224, 224]), Mask torch.Size([224, 224])\n",
      "✅ Loaded BraTS19_TCIA01_411_1: Image torch.Size([3, 224, 224]), Mask torch.Size([224, 224])\n"
     ]
    },
    {
     "name": "stderr",
     "output_type": "stream",
     "text": [
      "Epoch [5/15]:  31%|███       | 32/104 [00:13<00:30,  2.38it/s, Loss=0.75] "
     ]
    },
    {
     "name": "stdout",
     "output_type": "stream",
     "text": [
      "✅ Loaded BraTS19_CBICA_AQV_1: Image torch.Size([3, 224, 224]), Mask torch.Size([224, 224])\n",
      "✅ Loaded BraTS19_TCIA02_309_1: Image torch.Size([3, 224, 224]), Mask torch.Size([224, 224])\n"
     ]
    },
    {
     "name": "stderr",
     "output_type": "stream",
     "text": [
      "Epoch [5/15]:  32%|███▏      | 33/104 [00:13<00:29,  2.37it/s, Loss=0.158]"
     ]
    },
    {
     "name": "stdout",
     "output_type": "stream",
     "text": [
      "✅ Loaded BraTS19_TCIA01_190_1: Image torch.Size([3, 224, 224]), Mask torch.Size([224, 224])\n",
      "✅ Loaded BraTS19_TCIA02_491_1: Image torch.Size([3, 224, 224]), Mask torch.Size([224, 224])\n"
     ]
    },
    {
     "name": "stderr",
     "output_type": "stream",
     "text": [
      "Epoch [5/15]:  33%|███▎      | 34/104 [00:14<00:29,  2.38it/s, Loss=0.286]"
     ]
    },
    {
     "name": "stdout",
     "output_type": "stream",
     "text": [
      "✅ Loaded BraTS19_2013_23_1: Image torch.Size([3, 224, 224]), Mask torch.Size([224, 224])\n",
      "✅ Loaded BraTS19_CBICA_ABY_1: Image torch.Size([3, 224, 224]), Mask torch.Size([224, 224])\n"
     ]
    },
    {
     "name": "stderr",
     "output_type": "stream",
     "text": [
      "Epoch [5/15]:  34%|███▎      | 35/104 [00:14<00:28,  2.39it/s, Loss=0.283]"
     ]
    },
    {
     "name": "stdout",
     "output_type": "stream",
     "text": [
      "✅ Loaded BraTS19_TCIA02_179_1: Image torch.Size([3, 224, 224]), Mask torch.Size([224, 224])\n",
      "✅ Loaded BraTS19_2013_10_1: Image torch.Size([3, 224, 224]), Mask torch.Size([224, 224])\n"
     ]
    },
    {
     "name": "stderr",
     "output_type": "stream",
     "text": [
      "Epoch [5/15]:  35%|███▍      | 36/104 [00:14<00:28,  2.36it/s, Loss=0.222]"
     ]
    },
    {
     "name": "stdout",
     "output_type": "stream",
     "text": [
      "✅ Loaded BraTS19_CBICA_AWV_1: Image torch.Size([3, 224, 224]), Mask torch.Size([224, 224])\n",
      "✅ Loaded BraTS19_CBICA_AXJ_1: Image torch.Size([3, 224, 224]), Mask torch.Size([224, 224])\n"
     ]
    },
    {
     "name": "stderr",
     "output_type": "stream",
     "text": [
      "Epoch [5/15]:  36%|███▌      | 37/104 [00:15<00:28,  2.35it/s, Loss=0.546]"
     ]
    },
    {
     "name": "stdout",
     "output_type": "stream",
     "text": [
      "✅ Loaded BraTS19_CBICA_ARZ_1: Image torch.Size([3, 224, 224]), Mask torch.Size([224, 224])\n",
      "✅ Loaded BraTS19_CBICA_AQQ_1: Image torch.Size([3, 224, 224]), Mask torch.Size([224, 224])\n"
     ]
    },
    {
     "name": "stderr",
     "output_type": "stream",
     "text": [
      "Epoch [5/15]:  37%|███▋      | 38/104 [00:15<00:27,  2.39it/s, Loss=0.294]"
     ]
    },
    {
     "name": "stdout",
     "output_type": "stream",
     "text": [
      "✅ Loaded BraTS19_CBICA_ABE_1: Image torch.Size([3, 224, 224]), Mask torch.Size([224, 224])\n",
      "✅ Loaded BraTS19_TCIA01_150_1: Image torch.Size([3, 224, 224]), Mask torch.Size([224, 224])\n"
     ]
    },
    {
     "name": "stderr",
     "output_type": "stream",
     "text": [
      "Epoch [5/15]:  38%|███▊      | 39/104 [00:16<00:26,  2.43it/s, Loss=0.318]"
     ]
    },
    {
     "name": "stdout",
     "output_type": "stream",
     "text": [
      "✅ Loaded BraTS19_CBICA_AUX_1: Image torch.Size([3, 224, 224]), Mask torch.Size([224, 224])\n",
      "✅ Loaded BraTS19_TCIA03_257_1: Image torch.Size([3, 224, 224]), Mask torch.Size([224, 224])\n"
     ]
    },
    {
     "name": "stderr",
     "output_type": "stream",
     "text": [
      "Epoch [5/15]:  38%|███▊      | 40/104 [00:16<00:26,  2.44it/s, Loss=0.238]"
     ]
    },
    {
     "name": "stdout",
     "output_type": "stream",
     "text": [
      "✅ Loaded BraTS19_TCIA02_300_1: Image torch.Size([3, 224, 224]), Mask torch.Size([224, 224])\n",
      "✅ Loaded BraTS19_TCIA05_277_1: Image torch.Size([3, 224, 224]), Mask torch.Size([224, 224])\n"
     ]
    },
    {
     "name": "stderr",
     "output_type": "stream",
     "text": [
      "Epoch [5/15]:  39%|███▉      | 41/104 [00:16<00:25,  2.46it/s, Loss=0.188]"
     ]
    },
    {
     "name": "stdout",
     "output_type": "stream",
     "text": [
      "✅ Loaded BraTS19_TCIA01_201_1: Image torch.Size([3, 224, 224]), Mask torch.Size([224, 224])\n",
      "✅ Loaded BraTS19_TCIA04_192_1: Image torch.Size([3, 224, 224]), Mask torch.Size([224, 224])\n"
     ]
    },
    {
     "name": "stderr",
     "output_type": "stream",
     "text": [
      "Epoch [5/15]:  40%|████      | 42/104 [00:17<00:25,  2.47it/s, Loss=0.396]"
     ]
    },
    {
     "name": "stdout",
     "output_type": "stream",
     "text": [
      "✅ Loaded BraTS19_2013_12_1: Image torch.Size([3, 224, 224]), Mask torch.Size([224, 224])\n",
      "✅ Loaded BraTS19_TCIA02_608_1: Image torch.Size([3, 224, 224]), Mask torch.Size([224, 224])\n"
     ]
    },
    {
     "name": "stderr",
     "output_type": "stream",
     "text": [
      "Epoch [5/15]:  41%|████▏     | 43/104 [00:17<00:24,  2.45it/s, Loss=0.236]"
     ]
    },
    {
     "name": "stdout",
     "output_type": "stream",
     "text": [
      "✅ Loaded BraTS19_TCIA06_409_1: Image torch.Size([3, 224, 224]), Mask torch.Size([224, 224])\n",
      "✅ Loaded BraTS19_TCIA01_131_1: Image torch.Size([3, 224, 224]), Mask torch.Size([224, 224])\n"
     ]
    },
    {
     "name": "stderr",
     "output_type": "stream",
     "text": [
      "Epoch [5/15]:  42%|████▏     | 44/104 [00:18<00:24,  2.44it/s, Loss=0.317]"
     ]
    },
    {
     "name": "stdout",
     "output_type": "stream",
     "text": [
      "✅ Loaded BraTS19_CBICA_ALN_1: Image torch.Size([3, 224, 224]), Mask torch.Size([224, 224])\n",
      "✅ Loaded BraTS19_CBICA_ASU_1: Image torch.Size([3, 224, 224]), Mask torch.Size([224, 224])\n"
     ]
    },
    {
     "name": "stderr",
     "output_type": "stream",
     "text": [
      "Epoch [5/15]:  43%|████▎     | 45/104 [00:18<00:23,  2.46it/s, Loss=0.204]"
     ]
    },
    {
     "name": "stdout",
     "output_type": "stream",
     "text": [
      "✅ Loaded BraTS19_CBICA_ATN_1: Image torch.Size([3, 224, 224]), Mask torch.Size([224, 224])\n",
      "✅ Loaded BraTS19_CBICA_ANP_1: Image torch.Size([3, 224, 224]), Mask torch.Size([224, 224])\n"
     ]
    },
    {
     "name": "stderr",
     "output_type": "stream",
     "text": [
      "Epoch [5/15]:  44%|████▍     | 46/104 [00:18<00:23,  2.47it/s, Loss=0.443]"
     ]
    },
    {
     "name": "stdout",
     "output_type": "stream",
     "text": [
      "✅ Loaded BraTS19_TCIA01_460_1: Image torch.Size([3, 224, 224]), Mask torch.Size([224, 224])\n",
      "✅ Loaded BraTS19_CBICA_ASA_1: Image torch.Size([3, 224, 224]), Mask torch.Size([224, 224])\n"
     ]
    },
    {
     "name": "stderr",
     "output_type": "stream",
     "text": [
      "Epoch [5/15]:  45%|████▌     | 47/104 [00:19<00:23,  2.44it/s, Loss=0.38] "
     ]
    },
    {
     "name": "stdout",
     "output_type": "stream",
     "text": [
      "✅ Loaded BraTS19_CBICA_BHK_1: Image torch.Size([3, 224, 224]), Mask torch.Size([224, 224])\n",
      "✅ Loaded BraTS19_TMC_27374_1: Image torch.Size([3, 224, 224]), Mask torch.Size([224, 224])\n"
     ]
    },
    {
     "name": "stderr",
     "output_type": "stream",
     "text": [
      "Epoch [5/15]:  46%|████▌     | 48/104 [00:19<00:22,  2.44it/s, Loss=0.286]"
     ]
    },
    {
     "name": "stdout",
     "output_type": "stream",
     "text": [
      "✅ Loaded BraTS19_CBICA_AWI_1: Image torch.Size([3, 224, 224]), Mask torch.Size([224, 224])\n",
      "✅ Loaded BraTS19_TCIA08_218_1: Image torch.Size([3, 224, 224]), Mask torch.Size([224, 224])\n"
     ]
    },
    {
     "name": "stderr",
     "output_type": "stream",
     "text": [
      "Epoch [5/15]:  47%|████▋     | 49/104 [00:20<00:22,  2.43it/s, Loss=0.169]"
     ]
    },
    {
     "name": "stdout",
     "output_type": "stream",
     "text": [
      "✅ Loaded BraTS19_CBICA_AQJ_1: Image torch.Size([3, 224, 224]), Mask torch.Size([224, 224])\n",
      "✅ Loaded BraTS19_TCIA08_105_1: Image torch.Size([3, 224, 224]), Mask torch.Size([224, 224])\n"
     ]
    },
    {
     "name": "stderr",
     "output_type": "stream",
     "text": [
      "Epoch [5/15]:  48%|████▊     | 50/104 [00:20<00:22,  2.45it/s, Loss=0.263]"
     ]
    },
    {
     "name": "stdout",
     "output_type": "stream",
     "text": [
      "✅ Loaded BraTS19_CBICA_ASG_1: Image torch.Size([3, 224, 224]), Mask torch.Size([224, 224])\n",
      "✅ Loaded BraTS19_CBICA_AME_1: Image torch.Size([3, 224, 224]), Mask torch.Size([224, 224])\n"
     ]
    },
    {
     "name": "stderr",
     "output_type": "stream",
     "text": [
      "Epoch [5/15]:  49%|████▉     | 51/104 [00:20<00:21,  2.43it/s, Loss=0.22] "
     ]
    },
    {
     "name": "stdout",
     "output_type": "stream",
     "text": [
      "✅ Loaded BraTS19_CBICA_AVB_1: Image torch.Size([3, 224, 224]), Mask torch.Size([224, 224])\n",
      "✅ Loaded BraTS19_CBICA_BGN_1: Image torch.Size([3, 224, 224]), Mask torch.Size([224, 224])\n"
     ]
    },
    {
     "name": "stderr",
     "output_type": "stream",
     "text": [
      "Epoch [5/15]:  50%|█████     | 52/104 [00:21<00:21,  2.45it/s, Loss=0.291]"
     ]
    },
    {
     "name": "stdout",
     "output_type": "stream",
     "text": [
      "✅ Loaded BraTS19_CBICA_ASW_1: Image torch.Size([3, 224, 224]), Mask torch.Size([224, 224])\n",
      "✅ Loaded BraTS19_CBICA_AQN_1: Image torch.Size([3, 224, 224]), Mask torch.Size([224, 224])\n"
     ]
    },
    {
     "name": "stderr",
     "output_type": "stream",
     "text": [
      "Epoch [5/15]:  51%|█████     | 53/104 [00:21<00:20,  2.43it/s, Loss=0.226]"
     ]
    },
    {
     "name": "stdout",
     "output_type": "stream",
     "text": [
      "✅ Loaded BraTS19_TCIA03_199_1: Image torch.Size([3, 224, 224]), Mask torch.Size([224, 224])\n",
      "✅ Loaded BraTS19_TCIA03_265_1: Image torch.Size([3, 224, 224]), Mask torch.Size([224, 224])\n"
     ]
    },
    {
     "name": "stderr",
     "output_type": "stream",
     "text": [
      "Epoch [5/15]:  52%|█████▏    | 54/104 [00:22<00:20,  2.40it/s, Loss=0.21] "
     ]
    },
    {
     "name": "stdout",
     "output_type": "stream",
     "text": [
      "✅ Loaded BraTS19_CBICA_APK_1: Image torch.Size([3, 224, 224]), Mask torch.Size([224, 224])\n",
      "✅ Loaded BraTS19_CBICA_AMH_1: Image torch.Size([3, 224, 224]), Mask torch.Size([224, 224])\n"
     ]
    },
    {
     "name": "stderr",
     "output_type": "stream",
     "text": [
      "Epoch [5/15]:  53%|█████▎    | 55/104 [00:22<00:20,  2.40it/s, Loss=0.251]"
     ]
    },
    {
     "name": "stdout",
     "output_type": "stream",
     "text": [
      "✅ Loaded BraTS19_TCIA02_430_1: Image torch.Size([3, 224, 224]), Mask torch.Size([224, 224])\n",
      "✅ Loaded BraTS19_CBICA_BGO_1: Image torch.Size([3, 224, 224]), Mask torch.Size([224, 224])\n"
     ]
    },
    {
     "name": "stderr",
     "output_type": "stream",
     "text": [
      "Epoch [5/15]:  54%|█████▍    | 56/104 [00:23<00:19,  2.43it/s, Loss=0.207]"
     ]
    },
    {
     "name": "stdout",
     "output_type": "stream",
     "text": [
      "✅ Loaded BraTS19_CBICA_ABO_1: Image torch.Size([3, 224, 224]), Mask torch.Size([224, 224])\n",
      "✅ Loaded BraTS19_CBICA_ASV_1: Image torch.Size([3, 224, 224]), Mask torch.Size([224, 224])\n"
     ]
    },
    {
     "name": "stderr",
     "output_type": "stream",
     "text": [
      "Epoch [5/15]:  55%|█████▍    | 57/104 [00:23<00:19,  2.45it/s, Loss=0.244]"
     ]
    },
    {
     "name": "stdout",
     "output_type": "stream",
     "text": [
      "✅ Loaded BraTS19_CBICA_AVV_1: Image torch.Size([3, 224, 224]), Mask torch.Size([224, 224])\n",
      "✅ Loaded BraTS19_CBICA_APR_1: Image torch.Size([3, 224, 224]), Mask torch.Size([224, 224])\n"
     ]
    },
    {
     "name": "stderr",
     "output_type": "stream",
     "text": [
      "Epoch [5/15]:  56%|█████▌    | 58/104 [00:23<00:18,  2.43it/s, Loss=0.343]"
     ]
    },
    {
     "name": "stdout",
     "output_type": "stream",
     "text": [
      "✅ Loaded BraTS19_CBICA_ASK_1: Image torch.Size([3, 224, 224]), Mask torch.Size([224, 224])\n",
      "✅ Loaded BraTS19_CBICA_AUR_1: Image torch.Size([3, 224, 224]), Mask torch.Size([224, 224])\n"
     ]
    },
    {
     "name": "stderr",
     "output_type": "stream",
     "text": [
      "Epoch [5/15]:  57%|█████▋    | 59/104 [00:24<00:18,  2.42it/s, Loss=0.314]"
     ]
    },
    {
     "name": "stdout",
     "output_type": "stream",
     "text": [
      "✅ Loaded BraTS19_2013_14_1: Image torch.Size([3, 224, 224]), Mask torch.Size([224, 224])\n",
      "✅ Loaded BraTS19_TCIA03_138_1: Image torch.Size([3, 224, 224]), Mask torch.Size([224, 224])\n"
     ]
    },
    {
     "name": "stderr",
     "output_type": "stream",
     "text": [
      "Epoch [5/15]:  58%|█████▊    | 60/104 [00:24<00:18,  2.42it/s, Loss=0.269]"
     ]
    },
    {
     "name": "stdout",
     "output_type": "stream",
     "text": [
      "✅ Loaded BraTS19_TCIA05_396_1: Image torch.Size([3, 224, 224]), Mask torch.Size([224, 224])\n",
      "✅ Loaded BraTS19_CBICA_BHV_1: Image torch.Size([3, 224, 224]), Mask torch.Size([224, 224])\n"
     ]
    },
    {
     "name": "stderr",
     "output_type": "stream",
     "text": [
      "Epoch [5/15]:  59%|█████▊    | 61/104 [00:25<00:17,  2.44it/s, Loss=0.219]"
     ]
    },
    {
     "name": "stdout",
     "output_type": "stream",
     "text": [
      "✅ Loaded BraTS19_CBICA_ANI_1: Image torch.Size([3, 224, 224]), Mask torch.Size([224, 224])\n",
      "✅ Loaded BraTS19_CBICA_AAL_1: Image torch.Size([3, 224, 224]), Mask torch.Size([224, 224])\n"
     ]
    },
    {
     "name": "stderr",
     "output_type": "stream",
     "text": [
      "Epoch [5/15]:  60%|█████▉    | 62/104 [00:25<00:17,  2.46it/s, Loss=0.251]"
     ]
    },
    {
     "name": "stdout",
     "output_type": "stream",
     "text": [
      "✅ Loaded BraTS19_TCIA02_394_1: Image torch.Size([3, 224, 224]), Mask torch.Size([224, 224])\n",
      "✅ Loaded BraTS19_TCIA01_335_1: Image torch.Size([3, 224, 224]), Mask torch.Size([224, 224])\n"
     ]
    },
    {
     "name": "stderr",
     "output_type": "stream",
     "text": [
      "Epoch [5/15]:  61%|██████    | 63/104 [00:25<00:16,  2.44it/s, Loss=0.196]"
     ]
    },
    {
     "name": "stdout",
     "output_type": "stream",
     "text": [
      "✅ Loaded BraTS19_CBICA_BDK_1: Image torch.Size([3, 224, 224]), Mask torch.Size([224, 224])\n",
      "✅ Loaded BraTS19_TCIA02_455_1: Image torch.Size([3, 224, 224]), Mask torch.Size([224, 224])\n"
     ]
    },
    {
     "name": "stderr",
     "output_type": "stream",
     "text": [
      "Epoch [5/15]:  62%|██████▏   | 64/104 [00:26<00:16,  2.46it/s, Loss=0.317]"
     ]
    },
    {
     "name": "stdout",
     "output_type": "stream",
     "text": [
      "✅ Loaded BraTS19_TCIA01_499_1: Image torch.Size([3, 224, 224]), Mask torch.Size([224, 224])\n",
      "✅ Loaded BraTS19_CBICA_AQU_1: Image torch.Size([3, 224, 224]), Mask torch.Size([224, 224])\n"
     ]
    },
    {
     "name": "stderr",
     "output_type": "stream",
     "text": [
      "Epoch [5/15]:  62%|██████▎   | 65/104 [00:26<00:16,  2.42it/s, Loss=0.341]"
     ]
    },
    {
     "name": "stdout",
     "output_type": "stream",
     "text": [
      "✅ Loaded BraTS19_CBICA_BEM_1: Image torch.Size([3, 224, 224]), Mask torch.Size([224, 224])\n",
      "✅ Loaded BraTS19_TMC_06290_1: Image torch.Size([3, 224, 224]), Mask torch.Size([224, 224])\n"
     ]
    },
    {
     "name": "stderr",
     "output_type": "stream",
     "text": [
      "Epoch [5/15]:  63%|██████▎   | 66/104 [00:27<00:15,  2.41it/s, Loss=0.283]"
     ]
    },
    {
     "name": "stdout",
     "output_type": "stream",
     "text": [
      "✅ Loaded BraTS19_TCIA02_321_1: Image torch.Size([3, 224, 224]), Mask torch.Size([224, 224])\n",
      "✅ Loaded BraTS19_CBICA_AZD_1: Image torch.Size([3, 224, 224]), Mask torch.Size([224, 224])\n"
     ]
    },
    {
     "name": "stderr",
     "output_type": "stream",
     "text": [
      "Epoch [5/15]:  64%|██████▍   | 67/104 [00:27<00:15,  2.40it/s, Loss=0.246]"
     ]
    },
    {
     "name": "stdout",
     "output_type": "stream",
     "text": [
      "✅ Loaded BraTS19_TCIA03_133_1: Image torch.Size([3, 224, 224]), Mask torch.Size([224, 224])\n",
      "✅ Loaded BraTS19_TCIA02_368_1: Image torch.Size([3, 224, 224]), Mask torch.Size([224, 224])\n"
     ]
    },
    {
     "name": "stderr",
     "output_type": "stream",
     "text": [
      "Epoch [5/15]:  65%|██████▌   | 68/104 [00:28<00:14,  2.41it/s, Loss=0.186]"
     ]
    },
    {
     "name": "stdout",
     "output_type": "stream",
     "text": [
      "✅ Loaded BraTS19_TCIA01_448_1: Image torch.Size([3, 224, 224]), Mask torch.Size([224, 224])\n",
      "✅ Loaded BraTS19_CBICA_ANZ_1: Image torch.Size([3, 224, 224]), Mask torch.Size([224, 224])\n"
     ]
    },
    {
     "name": "stderr",
     "output_type": "stream",
     "text": [
      "Epoch [5/15]:  66%|██████▋   | 69/104 [00:28<00:14,  2.43it/s, Loss=0.412]"
     ]
    },
    {
     "name": "stdout",
     "output_type": "stream",
     "text": [
      "✅ Loaded BraTS19_TCIA08_167_1: Image torch.Size([3, 224, 224]), Mask torch.Size([224, 224])\n",
      "✅ Loaded BraTS19_CBICA_AYG_1: Image torch.Size([3, 224, 224]), Mask torch.Size([224, 224])\n"
     ]
    },
    {
     "name": "stderr",
     "output_type": "stream",
     "text": [
      "Epoch [5/15]:  67%|██████▋   | 70/104 [00:28<00:14,  2.42it/s, Loss=0.152]"
     ]
    },
    {
     "name": "stdout",
     "output_type": "stream",
     "text": [
      "✅ Loaded BraTS19_CBICA_AYC_1: Image torch.Size([3, 224, 224]), Mask torch.Size([224, 224])\n",
      "✅ Loaded BraTS19_CBICA_ABM_1: Image torch.Size([3, 224, 224]), Mask torch.Size([224, 224])\n"
     ]
    },
    {
     "name": "stderr",
     "output_type": "stream",
     "text": [
      "Epoch [5/15]:  68%|██████▊   | 71/104 [00:29<00:13,  2.40it/s, Loss=0.139]"
     ]
    },
    {
     "name": "stdout",
     "output_type": "stream",
     "text": [
      "✅ Loaded BraTS19_TCIA04_343_1: Image torch.Size([3, 224, 224]), Mask torch.Size([224, 224])\n",
      "✅ Loaded BraTS19_TCIA01_390_1: Image torch.Size([3, 224, 224]), Mask torch.Size([224, 224])\n"
     ]
    },
    {
     "name": "stderr",
     "output_type": "stream",
     "text": [
      "Epoch [5/15]:  69%|██████▉   | 72/104 [00:29<00:13,  2.41it/s, Loss=0.282]"
     ]
    },
    {
     "name": "stdout",
     "output_type": "stream",
     "text": [
      "✅ Loaded BraTS19_TCIA02_605_1: Image torch.Size([3, 224, 224]), Mask torch.Size([224, 224])\n",
      "✅ Loaded BraTS19_TCIA02_606_1: Image torch.Size([3, 224, 224]), Mask torch.Size([224, 224])\n"
     ]
    },
    {
     "name": "stderr",
     "output_type": "stream",
     "text": [
      "Epoch [5/15]:  70%|███████   | 73/104 [00:30<00:12,  2.41it/s, Loss=0.234]"
     ]
    },
    {
     "name": "stdout",
     "output_type": "stream",
     "text": [
      "✅ Loaded BraTS19_CBICA_AQG_1: Image torch.Size([3, 224, 224]), Mask torch.Size([224, 224])\n",
      "✅ Loaded BraTS19_TCIA02_151_1: Image torch.Size([3, 224, 224]), Mask torch.Size([224, 224])\n"
     ]
    },
    {
     "name": "stderr",
     "output_type": "stream",
     "text": [
      "Epoch [5/15]:  71%|███████   | 74/104 [00:30<00:12,  2.40it/s, Loss=0.186]"
     ]
    },
    {
     "name": "stdout",
     "output_type": "stream",
     "text": [
      "✅ Loaded BraTS19_CBICA_AYW_1: Image torch.Size([3, 224, 224]), Mask torch.Size([224, 224])\n",
      "✅ Loaded BraTS19_CBICA_BCL_1: Image torch.Size([3, 224, 224]), Mask torch.Size([224, 224])\n"
     ]
    },
    {
     "name": "stderr",
     "output_type": "stream",
     "text": [
      "Epoch [5/15]:  72%|███████▏  | 75/104 [00:30<00:12,  2.41it/s, Loss=0.472]"
     ]
    },
    {
     "name": "stdout",
     "output_type": "stream",
     "text": [
      "✅ Loaded BraTS19_TMC_06643_1: Image torch.Size([3, 224, 224]), Mask torch.Size([224, 224])\n",
      "✅ Loaded BraTS19_CBICA_AOC_1: Image torch.Size([3, 224, 224]), Mask torch.Size([224, 224])\n"
     ]
    },
    {
     "name": "stderr",
     "output_type": "stream",
     "text": [
      "Epoch [5/15]:  73%|███████▎  | 76/104 [00:31<00:11,  2.41it/s, Loss=0.2]  "
     ]
    },
    {
     "name": "stdout",
     "output_type": "stream",
     "text": [
      "✅ Loaded BraTS19_CBICA_AYA_1: Image torch.Size([3, 224, 224]), Mask torch.Size([224, 224])\n",
      "✅ Loaded BraTS19_TCIA08_469_1: Image torch.Size([3, 224, 224]), Mask torch.Size([224, 224])\n"
     ]
    },
    {
     "name": "stderr",
     "output_type": "stream",
     "text": [
      "Epoch [5/15]:  74%|███████▍  | 77/104 [00:31<00:11,  2.43it/s, Loss=0.204]"
     ]
    },
    {
     "name": "stdout",
     "output_type": "stream",
     "text": [
      "✅ Loaded BraTS19_TCIA03_121_1: Image torch.Size([3, 224, 224]), Mask torch.Size([224, 224])\n",
      "✅ Loaded BraTS19_TCIA01_378_1: Image torch.Size([3, 224, 224]), Mask torch.Size([224, 224])\n"
     ]
    },
    {
     "name": "stderr",
     "output_type": "stream",
     "text": [
      "Epoch [5/15]:  75%|███████▌  | 78/104 [00:32<00:10,  2.39it/s, Loss=0.249]"
     ]
    },
    {
     "name": "stdout",
     "output_type": "stream",
     "text": [
      "✅ Loaded BraTS19_CBICA_ABB_1: Image torch.Size([3, 224, 224]), Mask torch.Size([224, 224])\n",
      "✅ Loaded BraTS19_CBICA_AQO_1: Image torch.Size([3, 224, 224]), Mask torch.Size([224, 224])\n"
     ]
    },
    {
     "name": "stderr",
     "output_type": "stream",
     "text": [
      "Epoch [5/15]:  76%|███████▌  | 79/104 [00:32<00:10,  2.42it/s, Loss=0.471]"
     ]
    },
    {
     "name": "stdout",
     "output_type": "stream",
     "text": [
      "✅ Loaded BraTS19_CBICA_AXL_1: Image torch.Size([3, 224, 224]), Mask torch.Size([224, 224])\n",
      "✅ Loaded BraTS19_CBICA_BGX_1: Image torch.Size([3, 224, 224]), Mask torch.Size([224, 224])\n"
     ]
    },
    {
     "name": "stderr",
     "output_type": "stream",
     "text": [
      "Epoch [5/15]:  77%|███████▋  | 80/104 [00:32<00:10,  2.39it/s, Loss=0.244]"
     ]
    },
    {
     "name": "stdout",
     "output_type": "stream",
     "text": [
      "✅ Loaded BraTS19_CBICA_BGT_1: Image torch.Size([3, 224, 224]), Mask torch.Size([224, 224])\n",
      "✅ Loaded BraTS19_CBICA_AXO_1: Image torch.Size([3, 224, 224]), Mask torch.Size([224, 224])\n"
     ]
    },
    {
     "name": "stderr",
     "output_type": "stream",
     "text": [
      "Epoch [5/15]:  78%|███████▊  | 81/104 [00:33<00:09,  2.39it/s, Loss=0.286]"
     ]
    },
    {
     "name": "stdout",
     "output_type": "stream",
     "text": [
      "✅ Loaded BraTS19_CBICA_AOP_1: Image torch.Size([3, 224, 224]), Mask torch.Size([224, 224])\n",
      "✅ Loaded BraTS19_CBICA_BFP_1: Image torch.Size([3, 224, 224]), Mask torch.Size([224, 224])\n"
     ]
    },
    {
     "name": "stderr",
     "output_type": "stream",
     "text": [
      "Epoch [5/15]:  79%|███████▉  | 82/104 [00:33<00:09,  2.37it/s, Loss=0.553]"
     ]
    },
    {
     "name": "stdout",
     "output_type": "stream",
     "text": [
      "✅ Loaded BraTS19_TCIA01_186_1: Image torch.Size([3, 224, 224]), Mask torch.Size([224, 224])\n",
      "✅ Loaded BraTS19_CBICA_AQP_1: Image torch.Size([3, 224, 224]), Mask torch.Size([224, 224])\n"
     ]
    },
    {
     "name": "stderr",
     "output_type": "stream",
     "text": [
      "Epoch [5/15]:  80%|███████▉  | 83/104 [00:34<00:08,  2.38it/s, Loss=0.389]"
     ]
    },
    {
     "name": "stdout",
     "output_type": "stream",
     "text": [
      "✅ Loaded BraTS19_TCIA08_162_1: Image torch.Size([3, 224, 224]), Mask torch.Size([224, 224])\n",
      "✅ Loaded BraTS19_TCIA06_247_1: Image torch.Size([3, 224, 224]), Mask torch.Size([224, 224])\n"
     ]
    },
    {
     "name": "stderr",
     "output_type": "stream",
     "text": [
      "Epoch [5/15]:  81%|████████  | 84/104 [00:34<00:08,  2.38it/s, Loss=0.179]"
     ]
    },
    {
     "name": "stdout",
     "output_type": "stream",
     "text": [
      "✅ Loaded BraTS19_TMC_21360_1: Image torch.Size([3, 224, 224]), Mask torch.Size([224, 224])\n",
      "✅ Loaded BraTS19_TCIA02_331_1: Image torch.Size([3, 224, 224]), Mask torch.Size([224, 224])\n"
     ]
    },
    {
     "name": "stderr",
     "output_type": "stream",
     "text": [
      "Epoch [5/15]:  82%|████████▏ | 85/104 [00:35<00:08,  2.36it/s, Loss=0.167]"
     ]
    },
    {
     "name": "stdout",
     "output_type": "stream",
     "text": [
      "✅ Loaded BraTS19_CBICA_ASO_1: Image torch.Size([3, 224, 224]), Mask torch.Size([224, 224])\n",
      "✅ Loaded BraTS19_TCIA02_198_1: Image torch.Size([3, 224, 224]), Mask torch.Size([224, 224])\n"
     ]
    },
    {
     "name": "stderr",
     "output_type": "stream",
     "text": [
      "Epoch [5/15]:  83%|████████▎ | 86/104 [00:35<00:07,  2.40it/s, Loss=0.564]"
     ]
    },
    {
     "name": "stdout",
     "output_type": "stream",
     "text": [
      "✅ Loaded BraTS19_TCIA03_338_1: Image torch.Size([3, 224, 224]), Mask torch.Size([224, 224])\n",
      "✅ Loaded BraTS19_TCIA02_370_1: Image torch.Size([3, 224, 224]), Mask torch.Size([224, 224])\n"
     ]
    },
    {
     "name": "stderr",
     "output_type": "stream",
     "text": [
      "Epoch [5/15]:  84%|████████▎ | 87/104 [00:35<00:06,  2.43it/s, Loss=0.274]"
     ]
    },
    {
     "name": "stdout",
     "output_type": "stream",
     "text": [
      "✅ Loaded BraTS19_TCIA01_221_1: Image torch.Size([3, 224, 224]), Mask torch.Size([224, 224])\n",
      "✅ Loaded BraTS19_CBICA_ATD_1: Image torch.Size([3, 224, 224]), Mask torch.Size([224, 224])\n"
     ]
    },
    {
     "name": "stderr",
     "output_type": "stream",
     "text": [
      "Epoch [5/15]:  85%|████████▍ | 88/104 [00:36<00:06,  2.44it/s, Loss=0.614]"
     ]
    },
    {
     "name": "stdout",
     "output_type": "stream",
     "text": [
      "✅ Loaded BraTS19_TCIA01_412_1: Image torch.Size([3, 224, 224]), Mask torch.Size([224, 224])\n",
      "✅ Loaded BraTS19_CBICA_AQD_1: Image torch.Size([3, 224, 224]), Mask torch.Size([224, 224])\n"
     ]
    },
    {
     "name": "stderr",
     "output_type": "stream",
     "text": [
      "Epoch [5/15]:  86%|████████▌ | 89/104 [00:36<00:06,  2.44it/s, Loss=0.217]"
     ]
    },
    {
     "name": "stdout",
     "output_type": "stream",
     "text": [
      "✅ Loaded BraTS19_2013_18_1: Image torch.Size([3, 224, 224]), Mask torch.Size([224, 224])\n",
      "✅ Loaded BraTS19_TCIA02_607_1: Image torch.Size([3, 224, 224]), Mask torch.Size([224, 224])\n"
     ]
    },
    {
     "name": "stderr",
     "output_type": "stream",
     "text": [
      "Epoch [5/15]:  87%|████████▋ | 90/104 [00:37<00:05,  2.46it/s, Loss=0.295]"
     ]
    },
    {
     "name": "stdout",
     "output_type": "stream",
     "text": [
      "✅ Loaded BraTS19_CBICA_ANV_1: Image torch.Size([3, 224, 224]), Mask torch.Size([224, 224])\n",
      "✅ Loaded BraTS19_CBICA_BHB_1: Image torch.Size([3, 224, 224]), Mask torch.Size([224, 224])\n"
     ]
    },
    {
     "name": "stderr",
     "output_type": "stream",
     "text": [
      "Epoch [5/15]:  88%|████████▊ | 91/104 [00:37<00:05,  2.47it/s, Loss=0.697]"
     ]
    },
    {
     "name": "stdout",
     "output_type": "stream",
     "text": [
      "✅ Loaded BraTS19_CBICA_ALU_1: Image torch.Size([3, 224, 224]), Mask torch.Size([224, 224])\n",
      "✅ Loaded BraTS19_CBICA_AWH_1: Image torch.Size([3, 224, 224]), Mask torch.Size([224, 224])\n"
     ]
    },
    {
     "name": "stderr",
     "output_type": "stream",
     "text": [
      "Epoch [5/15]:  88%|████████▊ | 92/104 [00:37<00:04,  2.45it/s, Loss=0.452]"
     ]
    },
    {
     "name": "stdout",
     "output_type": "stream",
     "text": [
      "✅ Loaded BraTS19_TCIA06_603_1: Image torch.Size([3, 224, 224]), Mask torch.Size([224, 224])\n",
      "✅ Loaded BraTS19_CBICA_AVG_1: Image torch.Size([3, 224, 224]), Mask torch.Size([224, 224])\n"
     ]
    },
    {
     "name": "stderr",
     "output_type": "stream",
     "text": [
      "Epoch [5/15]:  89%|████████▉ | 93/104 [00:38<00:04,  2.46it/s, Loss=0.195]"
     ]
    },
    {
     "name": "stdout",
     "output_type": "stream",
     "text": [
      "✅ Loaded BraTS19_TCIA03_296_1: Image torch.Size([3, 224, 224]), Mask torch.Size([224, 224])\n",
      "✅ Loaded BraTS19_TCIA03_498_1: Image torch.Size([3, 224, 224]), Mask torch.Size([224, 224])\n"
     ]
    },
    {
     "name": "stderr",
     "output_type": "stream",
     "text": [
      "Epoch [5/15]:  90%|█████████ | 94/104 [00:38<00:04,  2.47it/s, Loss=0.217]"
     ]
    },
    {
     "name": "stdout",
     "output_type": "stream",
     "text": [
      "✅ Loaded BraTS19_CBICA_AYI_1: Image torch.Size([3, 224, 224]), Mask torch.Size([224, 224])\n",
      "✅ Loaded BraTS19_TCIA02_168_1: Image torch.Size([3, 224, 224]), Mask torch.Size([224, 224])\n"
     ]
    },
    {
     "name": "stderr",
     "output_type": "stream",
     "text": [
      "Epoch [5/15]:  91%|█████████▏| 95/104 [00:39<00:03,  2.45it/s, Loss=0.155]"
     ]
    },
    {
     "name": "stdout",
     "output_type": "stream",
     "text": [
      "✅ Loaded BraTS19_CBICA_AQY_1: Image torch.Size([3, 224, 224]), Mask torch.Size([224, 224])\n",
      "✅ Loaded BraTS19_CBICA_AOD_1: Image torch.Size([3, 224, 224]), Mask torch.Size([224, 224])\n"
     ]
    },
    {
     "name": "stderr",
     "output_type": "stream",
     "text": [
      "Epoch [5/15]:  92%|█████████▏| 96/104 [00:39<00:03,  2.47it/s, Loss=0.593]"
     ]
    },
    {
     "name": "stdout",
     "output_type": "stream",
     "text": [
      "✅ Loaded BraTS19_CBICA_BHM_1: Image torch.Size([3, 224, 224]), Mask torch.Size([224, 224])\n",
      "✅ Loaded BraTS19_CBICA_AAG_1: Image torch.Size([3, 224, 224]), Mask torch.Size([224, 224])\n"
     ]
    },
    {
     "name": "stderr",
     "output_type": "stream",
     "text": [
      "Epoch [5/15]:  93%|█████████▎| 97/104 [00:39<00:02,  2.45it/s, Loss=0.524]"
     ]
    },
    {
     "name": "stdout",
     "output_type": "stream",
     "text": [
      "✅ Loaded BraTS19_TCIA01_401_1: Image torch.Size([3, 224, 224]), Mask torch.Size([224, 224])\n",
      "✅ Loaded BraTS19_TCIA01_203_1: Image torch.Size([3, 224, 224]), Mask torch.Size([224, 224])\n"
     ]
    },
    {
     "name": "stderr",
     "output_type": "stream",
     "text": [
      "Epoch [5/15]:  94%|█████████▍| 98/104 [00:40<00:02,  2.43it/s, Loss=0.229]"
     ]
    },
    {
     "name": "stdout",
     "output_type": "stream",
     "text": [
      "✅ Loaded BraTS19_2013_21_1: Image torch.Size([3, 224, 224]), Mask torch.Size([224, 224])\n",
      "✅ Loaded BraTS19_TMC_30014_1: Image torch.Size([3, 224, 224]), Mask torch.Size([224, 224])\n"
     ]
    },
    {
     "name": "stderr",
     "output_type": "stream",
     "text": [
      "Epoch [5/15]:  95%|█████████▌| 99/104 [00:40<00:02,  2.42it/s, Loss=0.296]"
     ]
    },
    {
     "name": "stdout",
     "output_type": "stream",
     "text": [
      "✅ Loaded BraTS19_CBICA_ABN_1: Image torch.Size([3, 224, 224]), Mask torch.Size([224, 224])\n",
      "✅ Loaded BraTS19_CBICA_AUA_1: Image torch.Size([3, 224, 224]), Mask torch.Size([224, 224])\n"
     ]
    },
    {
     "name": "stderr",
     "output_type": "stream",
     "text": [
      "Epoch [5/15]:  96%|█████████▌| 100/104 [00:41<00:01,  2.44it/s, Loss=0.26]"
     ]
    },
    {
     "name": "stdout",
     "output_type": "stream",
     "text": [
      "✅ Loaded BraTS19_CBICA_BNR_1: Image torch.Size([3, 224, 224]), Mask torch.Size([224, 224])\n",
      "✅ Loaded BraTS19_CBICA_AXW_1: Image torch.Size([3, 224, 224]), Mask torch.Size([224, 224])\n"
     ]
    },
    {
     "name": "stderr",
     "output_type": "stream",
     "text": [
      "Epoch [5/15]:  97%|█████████▋| 101/104 [00:41<00:01,  2.43it/s, Loss=0.434]"
     ]
    },
    {
     "name": "stdout",
     "output_type": "stream",
     "text": [
      "✅ Loaded BraTS19_CBICA_AVT_1: Image torch.Size([3, 224, 224]), Mask torch.Size([224, 224])\n",
      "✅ Loaded BraTS19_2013_3_1: Image torch.Size([3, 224, 224]), Mask torch.Size([224, 224])\n"
     ]
    },
    {
     "name": "stderr",
     "output_type": "stream",
     "text": [
      "Epoch [5/15]:  98%|█████████▊| 102/104 [00:42<00:00,  2.45it/s, Loss=0.246]"
     ]
    },
    {
     "name": "stdout",
     "output_type": "stream",
     "text": [
      "✅ Loaded BraTS19_2013_5_1: Image torch.Size([3, 224, 224]), Mask torch.Size([224, 224])\n",
      "✅ Loaded BraTS19_TCIA06_165_1: Image torch.Size([3, 224, 224]), Mask torch.Size([224, 224])\n"
     ]
    },
    {
     "name": "stderr",
     "output_type": "stream",
     "text": [
      "                                                                           \r"
     ]
    },
    {
     "name": "stdout",
     "output_type": "stream",
     "text": [
      "✅ Loaded BraTS19_TCIA02_377_1: Image torch.Size([3, 224, 224]), Mask torch.Size([224, 224])\n",
      "\n",
      "✅ Epoch 5: Train Loss: 0.2942\n",
      "⚠️ No improvement for 1 epoch(s)\n"
     ]
    },
    {
     "name": "stderr",
     "output_type": "stream",
     "text": [
      "Epoch [6/15]:   0%|          | 0/104 [00:00<?, ?it/s]"
     ]
    },
    {
     "name": "stdout",
     "output_type": "stream",
     "text": [
      "✅ Loaded BraTS19_TCIA01_221_1: Image torch.Size([3, 224, 224]), Mask torch.Size([224, 224])\n",
      "✅ Loaded BraTS19_TMC_06290_1: Image torch.Size([3, 224, 224]), Mask torch.Size([224, 224])\n"
     ]
    },
    {
     "name": "stderr",
     "output_type": "stream",
     "text": [
      "Epoch [6/15]:   1%|          | 1/104 [00:00<00:42,  2.42it/s, Loss=0.288]"
     ]
    },
    {
     "name": "stdout",
     "output_type": "stream",
     "text": [
      "✅ Loaded BraTS19_CBICA_AWH_1: Image torch.Size([3, 224, 224]), Mask torch.Size([224, 224])\n",
      "✅ Loaded BraTS19_CBICA_ATD_1: Image torch.Size([3, 224, 224]), Mask torch.Size([224, 224])\n"
     ]
    },
    {
     "name": "stderr",
     "output_type": "stream",
     "text": [
      "Epoch [6/15]:   2%|▏         | 2/104 [00:00<00:41,  2.47it/s, Loss=0.56] "
     ]
    },
    {
     "name": "stdout",
     "output_type": "stream",
     "text": [
      "✅ Loaded BraTS19_TCIA01_448_1: Image torch.Size([3, 224, 224]), Mask torch.Size([224, 224])\n",
      "✅ Loaded BraTS19_TCIA05_444_1: Image torch.Size([3, 224, 224]), Mask torch.Size([224, 224])\n"
     ]
    },
    {
     "name": "stderr",
     "output_type": "stream",
     "text": [
      "Epoch [6/15]:   3%|▎         | 3/104 [00:01<00:41,  2.43it/s, Loss=0.237]"
     ]
    },
    {
     "name": "stdout",
     "output_type": "stream",
     "text": [
      "✅ Loaded BraTS19_TCIA01_390_1: Image torch.Size([3, 224, 224]), Mask torch.Size([224, 224])\n",
      "✅ Loaded BraTS19_TCIA02_368_1: Image torch.Size([3, 224, 224]), Mask torch.Size([224, 224])\n"
     ]
    },
    {
     "name": "stderr",
     "output_type": "stream",
     "text": [
      "Epoch [6/15]:   4%|▍         | 4/104 [00:01<00:41,  2.40it/s, Loss=0.252]"
     ]
    },
    {
     "name": "stdout",
     "output_type": "stream",
     "text": [
      "✅ Loaded BraTS19_CBICA_ATX_1: Image torch.Size([3, 224, 224]), Mask torch.Size([224, 224])\n",
      "✅ Loaded BraTS19_TCIA06_372_1: Image torch.Size([3, 224, 224]), Mask torch.Size([224, 224])\n"
     ]
    },
    {
     "name": "stderr",
     "output_type": "stream",
     "text": [
      "Epoch [6/15]:   5%|▍         | 5/104 [00:02<00:40,  2.42it/s, Loss=0.197]"
     ]
    },
    {
     "name": "stdout",
     "output_type": "stream",
     "text": [
      "✅ Loaded BraTS19_CBICA_AYI_1: Image torch.Size([3, 224, 224]), Mask torch.Size([224, 224])\n",
      "✅ Loaded BraTS19_TCIA02_208_1: Image torch.Size([3, 224, 224]), Mask torch.Size([224, 224])\n"
     ]
    },
    {
     "name": "stderr",
     "output_type": "stream",
     "text": [
      "Epoch [6/15]:   6%|▌         | 6/104 [00:02<00:41,  2.38it/s, Loss=0.556]"
     ]
    },
    {
     "name": "stdout",
     "output_type": "stream",
     "text": [
      "✅ Loaded BraTS19_CBICA_AOH_1: Image torch.Size([3, 224, 224]), Mask torch.Size([224, 224])\n",
      "✅ Loaded BraTS19_TCIA04_192_1: Image torch.Size([3, 224, 224]), Mask torch.Size([224, 224])\n"
     ]
    },
    {
     "name": "stderr",
     "output_type": "stream",
     "text": [
      "Epoch [6/15]:   7%|▋         | 7/104 [00:02<00:40,  2.39it/s, Loss=0.625]"
     ]
    },
    {
     "name": "stdout",
     "output_type": "stream",
     "text": [
      "✅ Loaded BraTS19_CBICA_ASG_1: Image torch.Size([3, 224, 224]), Mask torch.Size([224, 224])\n",
      "✅ Loaded BraTS19_TMC_12866_1: Image torch.Size([3, 224, 224]), Mask torch.Size([224, 224])\n"
     ]
    },
    {
     "name": "stderr",
     "output_type": "stream",
     "text": [
      "Epoch [6/15]:   8%|▊         | 8/104 [00:03<00:40,  2.39it/s, Loss=0.224]"
     ]
    },
    {
     "name": "stdout",
     "output_type": "stream",
     "text": [
      "✅ Loaded BraTS19_CBICA_AME_1: Image torch.Size([3, 224, 224]), Mask torch.Size([224, 224])\n",
      "✅ Loaded BraTS19_TCIA02_135_1: Image torch.Size([3, 224, 224]), Mask torch.Size([224, 224])\n"
     ]
    },
    {
     "name": "stderr",
     "output_type": "stream",
     "text": [
      "Epoch [6/15]:   9%|▊         | 9/104 [00:03<00:40,  2.37it/s, Loss=0.375]"
     ]
    },
    {
     "name": "stdout",
     "output_type": "stream",
     "text": [
      "✅ Loaded BraTS19_TMC_06643_1: Image torch.Size([3, 224, 224]), Mask torch.Size([224, 224])\n",
      "✅ Loaded BraTS19_CBICA_AQG_1: Image torch.Size([3, 224, 224]), Mask torch.Size([224, 224])\n"
     ]
    },
    {
     "name": "stderr",
     "output_type": "stream",
     "text": [
      "Epoch [6/15]:  10%|▉         | 10/104 [00:04<00:39,  2.40it/s, Loss=0.216]"
     ]
    },
    {
     "name": "stdout",
     "output_type": "stream",
     "text": [
      "✅ Loaded BraTS19_2013_12_1: Image torch.Size([3, 224, 224]), Mask torch.Size([224, 224])\n",
      "✅ Loaded BraTS19_TCIA06_409_1: Image torch.Size([3, 224, 224]), Mask torch.Size([224, 224])\n"
     ]
    },
    {
     "name": "stderr",
     "output_type": "stream",
     "text": [
      "Epoch [6/15]:  11%|█         | 11/104 [00:04<00:38,  2.40it/s, Loss=0.221]"
     ]
    },
    {
     "name": "stdout",
     "output_type": "stream",
     "text": [
      "✅ Loaded BraTS19_2013_3_1: Image torch.Size([3, 224, 224]), Mask torch.Size([224, 224])\n",
      "✅ Loaded BraTS19_CBICA_AQO_1: Image torch.Size([3, 224, 224]), Mask torch.Size([224, 224])\n"
     ]
    },
    {
     "name": "stderr",
     "output_type": "stream",
     "text": [
      "Epoch [6/15]:  12%|█▏        | 12/104 [00:04<00:38,  2.40it/s, Loss=0.394]"
     ]
    },
    {
     "name": "stdout",
     "output_type": "stream",
     "text": [
      "✅ Loaded BraTS19_TCIA02_168_1: Image torch.Size([3, 224, 224]), Mask torch.Size([224, 224])\n",
      "✅ Loaded BraTS19_TCIA02_274_1: Image torch.Size([3, 224, 224]), Mask torch.Size([224, 224])\n"
     ]
    },
    {
     "name": "stderr",
     "output_type": "stream",
     "text": [
      "Epoch [6/15]:  12%|█▎        | 13/104 [00:05<00:37,  2.40it/s, Loss=0.191]"
     ]
    },
    {
     "name": "stdout",
     "output_type": "stream",
     "text": [
      "✅ Loaded BraTS19_CBICA_AQV_1: Image torch.Size([3, 224, 224]), Mask torch.Size([224, 224])\n",
      "✅ Loaded BraTS19_CBICA_BHB_1: Image torch.Size([3, 224, 224]), Mask torch.Size([224, 224])\n"
     ]
    },
    {
     "name": "stderr",
     "output_type": "stream",
     "text": [
      "Epoch [6/15]:  13%|█▎        | 14/104 [00:05<00:37,  2.43it/s, Loss=0.184]"
     ]
    },
    {
     "name": "stdout",
     "output_type": "stream",
     "text": [
      "✅ Loaded BraTS19_CBICA_ASR_1: Image torch.Size([3, 224, 224]), Mask torch.Size([224, 224])\n",
      "✅ Loaded BraTS19_TCIA03_133_1: Image torch.Size([3, 224, 224]), Mask torch.Size([224, 224])\n"
     ]
    },
    {
     "name": "stderr",
     "output_type": "stream",
     "text": [
      "Epoch [6/15]:  14%|█▍        | 15/104 [00:06<00:37,  2.39it/s, Loss=0.73] "
     ]
    },
    {
     "name": "stdout",
     "output_type": "stream",
     "text": [
      "✅ Loaded BraTS19_CBICA_AYU_1: Image torch.Size([3, 224, 224]), Mask torch.Size([224, 224])\n",
      "✅ Loaded BraTS19_CBICA_ABE_1: Image torch.Size([3, 224, 224]), Mask torch.Size([224, 224])\n"
     ]
    },
    {
     "name": "stderr",
     "output_type": "stream",
     "text": [
      "Epoch [6/15]:  15%|█▌        | 16/104 [00:06<00:36,  2.39it/s, Loss=0.361]"
     ]
    },
    {
     "name": "stdout",
     "output_type": "stream",
     "text": [
      "✅ Loaded BraTS19_CBICA_BCL_1: Image torch.Size([3, 224, 224]), Mask torch.Size([224, 224])\n",
      "✅ Loaded BraTS19_TCIA03_338_1: Image torch.Size([3, 224, 224]), Mask torch.Size([224, 224])\n"
     ]
    },
    {
     "name": "stderr",
     "output_type": "stream",
     "text": [
      "Epoch [6/15]:  16%|█▋        | 17/104 [00:07<00:36,  2.37it/s, Loss=0.521]"
     ]
    },
    {
     "name": "stdout",
     "output_type": "stream",
     "text": [
      "✅ Loaded BraTS19_TCIA03_121_1: Image torch.Size([3, 224, 224]), Mask torch.Size([224, 224])\n",
      "✅ Loaded BraTS19_TCIA06_332_1: Image torch.Size([3, 224, 224]), Mask torch.Size([224, 224])\n"
     ]
    },
    {
     "name": "stderr",
     "output_type": "stream",
     "text": [
      "Epoch [6/15]:  17%|█▋        | 18/104 [00:07<00:36,  2.36it/s, Loss=0.346]"
     ]
    },
    {
     "name": "stdout",
     "output_type": "stream",
     "text": [
      "✅ Loaded BraTS19_CBICA_BFP_1: Image torch.Size([3, 224, 224]), Mask torch.Size([224, 224])\n",
      "✅ Loaded BraTS19_CBICA_AYG_1: Image torch.Size([3, 224, 224]), Mask torch.Size([224, 224])\n"
     ]
    },
    {
     "name": "stderr",
     "output_type": "stream",
     "text": [
      "Epoch [6/15]:  18%|█▊        | 19/104 [00:07<00:35,  2.39it/s, Loss=0.542]"
     ]
    },
    {
     "name": "stdout",
     "output_type": "stream",
     "text": [
      "✅ Loaded BraTS19_CBICA_AUN_1: Image torch.Size([3, 224, 224]), Mask torch.Size([224, 224])\n",
      "✅ Loaded BraTS19_CBICA_AOO_1: Image torch.Size([3, 224, 224]), Mask torch.Size([224, 224])\n"
     ]
    },
    {
     "name": "stderr",
     "output_type": "stream",
     "text": [
      "Epoch [6/15]:  19%|█▉        | 20/104 [00:08<00:34,  2.42it/s, Loss=0.299]"
     ]
    },
    {
     "name": "stdout",
     "output_type": "stream",
     "text": [
      "✅ Loaded BraTS19_TCIA02_491_1: Image torch.Size([3, 224, 224]), Mask torch.Size([224, 224])\n",
      "✅ Loaded BraTS19_TCIA03_265_1: Image torch.Size([3, 224, 224]), Mask torch.Size([224, 224])\n"
     ]
    },
    {
     "name": "stderr",
     "output_type": "stream",
     "text": [
      "Epoch [6/15]:  20%|██        | 21/104 [00:08<00:33,  2.47it/s, Loss=0.258]"
     ]
    },
    {
     "name": "stdout",
     "output_type": "stream",
     "text": [
      "✅ Loaded BraTS19_CBICA_ANV_1: Image torch.Size([3, 224, 224]), Mask torch.Size([224, 224])\n",
      "✅ Loaded BraTS19_CBICA_BDK_1: Image torch.Size([3, 224, 224]), Mask torch.Size([224, 224])\n"
     ]
    },
    {
     "name": "stderr",
     "output_type": "stream",
     "text": [
      "Epoch [6/15]:  21%|██        | 22/104 [00:09<00:33,  2.45it/s, Loss=0.364]"
     ]
    },
    {
     "name": "stdout",
     "output_type": "stream",
     "text": [
      "✅ Loaded BraTS19_TCIA01_411_1: Image torch.Size([3, 224, 224]), Mask torch.Size([224, 224])\n",
      "✅ Loaded BraTS19_TCIA06_247_1: Image torch.Size([3, 224, 224]), Mask torch.Size([224, 224])\n"
     ]
    },
    {
     "name": "stderr",
     "output_type": "stream",
     "text": [
      "Epoch [6/15]:  22%|██▏       | 23/104 [00:09<00:32,  2.46it/s, Loss=0.752]"
     ]
    },
    {
     "name": "stdout",
     "output_type": "stream",
     "text": [
      "✅ Loaded BraTS19_TCIA08_234_1: Image torch.Size([3, 224, 224]), Mask torch.Size([224, 224])\n",
      "✅ Loaded BraTS19_TCIA02_331_1: Image torch.Size([3, 224, 224]), Mask torch.Size([224, 224])\n"
     ]
    },
    {
     "name": "stderr",
     "output_type": "stream",
     "text": [
      "Epoch [6/15]:  23%|██▎       | 24/104 [00:09<00:32,  2.44it/s, Loss=0.202]"
     ]
    },
    {
     "name": "stdout",
     "output_type": "stream",
     "text": [
      "✅ Loaded BraTS19_CBICA_ANI_1: Image torch.Size([3, 224, 224]), Mask torch.Size([224, 224])\n",
      "✅ Loaded BraTS19_CBICA_AXJ_1: Image torch.Size([3, 224, 224]), Mask torch.Size([224, 224])\n"
     ]
    },
    {
     "name": "stderr",
     "output_type": "stream",
     "text": [
      "Epoch [6/15]:  24%|██▍       | 25/104 [00:10<00:32,  2.46it/s, Loss=0.265]"
     ]
    },
    {
     "name": "stdout",
     "output_type": "stream",
     "text": [
      "✅ Loaded BraTS19_CBICA_APR_1: Image torch.Size([3, 224, 224]), Mask torch.Size([224, 224])\n",
      "✅ Loaded BraTS19_TCIA01_131_1: Image torch.Size([3, 224, 224]), Mask torch.Size([224, 224])\n"
     ]
    },
    {
     "name": "stderr",
     "output_type": "stream",
     "text": [
      "Epoch [6/15]:  25%|██▌       | 26/104 [00:10<00:31,  2.46it/s, Loss=0.63] "
     ]
    },
    {
     "name": "stdout",
     "output_type": "stream",
     "text": [
      "✅ Loaded BraTS19_TCIA02_455_1: Image torch.Size([3, 224, 224]), Mask torch.Size([224, 224])\n",
      "✅ Loaded BraTS19_CBICA_ATN_1: Image torch.Size([3, 224, 224]), Mask torch.Size([224, 224])\n"
     ]
    },
    {
     "name": "stderr",
     "output_type": "stream",
     "text": [
      "Epoch [6/15]:  26%|██▌       | 27/104 [00:11<00:31,  2.46it/s, Loss=0.424]"
     ]
    },
    {
     "name": "stdout",
     "output_type": "stream",
     "text": [
      "✅ Loaded BraTS19_TCIA02_179_1: Image torch.Size([3, 224, 224]), Mask torch.Size([224, 224])\n",
      "✅ Loaded BraTS19_CBICA_AAB_1: Image torch.Size([3, 224, 224]), Mask torch.Size([224, 224])\n"
     ]
    },
    {
     "name": "stderr",
     "output_type": "stream",
     "text": [
      "Epoch [6/15]:  27%|██▋       | 28/104 [00:11<00:30,  2.47it/s, Loss=0.434]"
     ]
    },
    {
     "name": "stdout",
     "output_type": "stream",
     "text": [
      "✅ Loaded BraTS19_CBICA_AWI_1: Image torch.Size([3, 224, 224]), Mask torch.Size([224, 224])\n",
      "✅ Loaded BraTS19_2013_18_1: Image torch.Size([3, 224, 224]), Mask torch.Size([224, 224])\n"
     ]
    },
    {
     "name": "stderr",
     "output_type": "stream",
     "text": [
      "Epoch [6/15]:  28%|██▊       | 29/104 [00:11<00:30,  2.45it/s, Loss=0.283]"
     ]
    },
    {
     "name": "stdout",
     "output_type": "stream",
     "text": [
      "✅ Loaded BraTS19_CBICA_BKV_1: Image torch.Size([3, 224, 224]), Mask torch.Size([224, 224])\n",
      "✅ Loaded BraTS19_TCIA02_283_1: Image torch.Size([3, 224, 224]), Mask torch.Size([224, 224])\n"
     ]
    },
    {
     "name": "stderr",
     "output_type": "stream",
     "text": [
      "Epoch [6/15]:  29%|██▉       | 30/104 [00:12<00:30,  2.46it/s, Loss=0.303]"
     ]
    },
    {
     "name": "stdout",
     "output_type": "stream",
     "text": [
      "✅ Loaded BraTS19_CBICA_ABB_1: Image torch.Size([3, 224, 224]), Mask torch.Size([224, 224])\n",
      "✅ Loaded BraTS19_CBICA_ABO_1: Image torch.Size([3, 224, 224]), Mask torch.Size([224, 224])\n"
     ]
    },
    {
     "name": "stderr",
     "output_type": "stream",
     "text": [
      "Epoch [6/15]:  30%|██▉       | 31/104 [00:12<00:29,  2.47it/s, Loss=0.249]"
     ]
    },
    {
     "name": "stdout",
     "output_type": "stream",
     "text": [
      "✅ Loaded BraTS19_TCIA02_226_1: Image torch.Size([3, 224, 224]), Mask torch.Size([224, 224])\n",
      "✅ Loaded BraTS19_TCIA01_190_1: Image torch.Size([3, 224, 224]), Mask torch.Size([224, 224])\n"
     ]
    },
    {
     "name": "stderr",
     "output_type": "stream",
     "text": [
      "Epoch [6/15]:  31%|███       | 32/104 [00:13<00:29,  2.45it/s, Loss=0.222]"
     ]
    },
    {
     "name": "stdout",
     "output_type": "stream",
     "text": [
      "✅ Loaded BraTS19_TCIA02_370_1: Image torch.Size([3, 224, 224]), Mask torch.Size([224, 224])\n",
      "✅ Loaded BraTS19_CBICA_AQP_1: Image torch.Size([3, 224, 224]), Mask torch.Size([224, 224])\n"
     ]
    },
    {
     "name": "stderr",
     "output_type": "stream",
     "text": [
      "Epoch [6/15]:  32%|███▏      | 33/104 [00:13<00:29,  2.44it/s, Loss=0.183]"
     ]
    },
    {
     "name": "stdout",
     "output_type": "stream",
     "text": [
      "✅ Loaded BraTS19_TCIA08_105_1: Image torch.Size([3, 224, 224]), Mask torch.Size([224, 224])\n",
      "✅ Loaded BraTS19_TCIA03_138_1: Image torch.Size([3, 224, 224]), Mask torch.Size([224, 224])\n"
     ]
    },
    {
     "name": "stderr",
     "output_type": "stream",
     "text": [
      "Epoch [6/15]:  33%|███▎      | 34/104 [00:14<00:28,  2.45it/s, Loss=0.336]"
     ]
    },
    {
     "name": "stdout",
     "output_type": "stream",
     "text": [
      "✅ Loaded BraTS19_TCIA01_499_1: Image torch.Size([3, 224, 224]), Mask torch.Size([224, 224])\n",
      "✅ Loaded BraTS19_CBICA_AQU_1: Image torch.Size([3, 224, 224]), Mask torch.Size([224, 224])\n"
     ]
    },
    {
     "name": "stderr",
     "output_type": "stream",
     "text": [
      "Epoch [6/15]:  34%|███▎      | 35/104 [00:14<00:28,  2.41it/s, Loss=0.334]"
     ]
    },
    {
     "name": "stdout",
     "output_type": "stream",
     "text": [
      "✅ Loaded BraTS19_2013_11_1: Image torch.Size([3, 224, 224]), Mask torch.Size([224, 224])\n",
      "✅ Loaded BraTS19_TCIA01_235_1: Image torch.Size([3, 224, 224]), Mask torch.Size([224, 224])\n"
     ]
    },
    {
     "name": "stderr",
     "output_type": "stream",
     "text": [
      "Epoch [6/15]:  35%|███▍      | 36/104 [00:14<00:28,  2.42it/s, Loss=0.356]"
     ]
    },
    {
     "name": "stdout",
     "output_type": "stream",
     "text": [
      "✅ Loaded BraTS19_TCIA01_460_1: Image torch.Size([3, 224, 224]), Mask torch.Size([224, 224])\n",
      "✅ Loaded BraTS19_CBICA_BHV_1: Image torch.Size([3, 224, 224]), Mask torch.Size([224, 224])\n"
     ]
    },
    {
     "name": "stderr",
     "output_type": "stream",
     "text": [
      "Epoch [6/15]:  36%|███▌      | 37/104 [00:15<00:27,  2.43it/s, Loss=0.241]"
     ]
    },
    {
     "name": "stdout",
     "output_type": "stream",
     "text": [
      "✅ Loaded BraTS19_TCIA06_603_1: Image torch.Size([3, 224, 224]), Mask torch.Size([224, 224])\n",
      "✅ Loaded BraTS19_TCIA02_118_1: Image torch.Size([3, 224, 224]), Mask torch.Size([224, 224])\n"
     ]
    },
    {
     "name": "stderr",
     "output_type": "stream",
     "text": [
      "Epoch [6/15]:  37%|███▋      | 38/104 [00:15<00:27,  2.42it/s, Loss=0.276]"
     ]
    },
    {
     "name": "stdout",
     "output_type": "stream",
     "text": [
      "✅ Loaded BraTS19_TCIA01_401_1: Image torch.Size([3, 224, 224]), Mask torch.Size([224, 224])\n",
      "✅ Loaded BraTS19_CBICA_AYA_1: Image torch.Size([3, 224, 224]), Mask torch.Size([224, 224])\n"
     ]
    },
    {
     "name": "stderr",
     "output_type": "stream",
     "text": [
      "Epoch [6/15]:  38%|███▊      | 39/104 [00:16<00:26,  2.41it/s, Loss=0.121]"
     ]
    },
    {
     "name": "stdout",
     "output_type": "stream",
     "text": [
      "✅ Loaded BraTS19_CBICA_BGT_1: Image torch.Size([3, 224, 224]), Mask torch.Size([224, 224])\n",
      "✅ Loaded BraTS19_CBICA_ASW_1: Image torch.Size([3, 224, 224]), Mask torch.Size([224, 224])\n"
     ]
    },
    {
     "name": "stderr",
     "output_type": "stream",
     "text": [
      "Epoch [6/15]:  38%|███▊      | 40/104 [00:16<00:26,  2.41it/s, Loss=0.245]"
     ]
    },
    {
     "name": "stdout",
     "output_type": "stream",
     "text": [
      "✅ Loaded BraTS19_TCIA08_436_1: Image torch.Size([3, 224, 224]), Mask torch.Size([224, 224])\n",
      "✅ Loaded BraTS19_TCIA04_479_1: Image torch.Size([3, 224, 224]), Mask torch.Size([224, 224])\n"
     ]
    },
    {
     "name": "stderr",
     "output_type": "stream",
     "text": [
      "Epoch [6/15]:  39%|███▉      | 41/104 [00:16<00:26,  2.41it/s, Loss=0.203]"
     ]
    },
    {
     "name": "stdout",
     "output_type": "stream",
     "text": [
      "✅ Loaded BraTS19_CBICA_AQZ_1: Image torch.Size([3, 224, 224]), Mask torch.Size([224, 224])\n",
      "✅ Loaded BraTS19_CBICA_AUW_1: Image torch.Size([3, 224, 224]), Mask torch.Size([224, 224])\n"
     ]
    },
    {
     "name": "stderr",
     "output_type": "stream",
     "text": [
      "Epoch [6/15]:  40%|████      | 42/104 [00:17<00:25,  2.41it/s, Loss=0.199]"
     ]
    },
    {
     "name": "stdout",
     "output_type": "stream",
     "text": [
      "✅ Loaded BraTS19_TCIA05_277_1: Image torch.Size([3, 224, 224]), Mask torch.Size([224, 224])\n",
      "✅ Loaded BraTS19_TCIA02_607_1: Image torch.Size([3, 224, 224]), Mask torch.Size([224, 224])\n"
     ]
    },
    {
     "name": "stderr",
     "output_type": "stream",
     "text": [
      "Epoch [6/15]:  41%|████▏     | 43/104 [00:17<00:25,  2.41it/s, Loss=0.221]"
     ]
    },
    {
     "name": "stdout",
     "output_type": "stream",
     "text": [
      "✅ Loaded BraTS19_2013_14_1: Image torch.Size([3, 224, 224]), Mask torch.Size([224, 224])\n",
      "✅ Loaded BraTS19_CBICA_AAG_1: Image torch.Size([3, 224, 224]), Mask torch.Size([224, 224])\n"
     ]
    },
    {
     "name": "stderr",
     "output_type": "stream",
     "text": [
      "Epoch [6/15]:  42%|████▏     | 44/104 [00:18<00:24,  2.40it/s, Loss=0.231]"
     ]
    },
    {
     "name": "stdout",
     "output_type": "stream",
     "text": [
      "✅ Loaded BraTS19_CBICA_AQY_1: Image torch.Size([3, 224, 224]), Mask torch.Size([224, 224])\n",
      "✅ Loaded BraTS19_CBICA_BHQ_1: Image torch.Size([3, 224, 224]), Mask torch.Size([224, 224])\n"
     ]
    },
    {
     "name": "stderr",
     "output_type": "stream",
     "text": [
      "Epoch [6/15]:  43%|████▎     | 45/104 [00:18<00:24,  2.37it/s, Loss=0.551]"
     ]
    },
    {
     "name": "stdout",
     "output_type": "stream",
     "text": [
      "✅ Loaded BraTS19_CBICA_ATP_1: Image torch.Size([3, 224, 224]), Mask torch.Size([224, 224])\n",
      "✅ Loaded BraTS19_TCIA08_218_1: Image torch.Size([3, 224, 224]), Mask torch.Size([224, 224])\n"
     ]
    },
    {
     "name": "stderr",
     "output_type": "stream",
     "text": [
      "Epoch [6/15]:  44%|████▍     | 46/104 [00:19<00:24,  2.38it/s, Loss=0.151]"
     ]
    },
    {
     "name": "stdout",
     "output_type": "stream",
     "text": [
      "✅ Loaded BraTS19_CBICA_AXW_1: Image torch.Size([3, 224, 224]), Mask torch.Size([224, 224])\n",
      "✅ Loaded BraTS19_CBICA_AQQ_1: Image torch.Size([3, 224, 224]), Mask torch.Size([224, 224])\n"
     ]
    },
    {
     "name": "stderr",
     "output_type": "stream",
     "text": [
      "Epoch [6/15]:  45%|████▌     | 47/104 [00:19<00:23,  2.41it/s, Loss=0.259]"
     ]
    },
    {
     "name": "stdout",
     "output_type": "stream",
     "text": [
      "✅ Loaded BraTS19_TCIA08_469_1: Image torch.Size([3, 224, 224]), Mask torch.Size([224, 224])\n",
      "✅ Loaded BraTS19_2013_10_1: Image torch.Size([3, 224, 224]), Mask torch.Size([224, 224])\n"
     ]
    },
    {
     "name": "stderr",
     "output_type": "stream",
     "text": [
      "Epoch [6/15]:  46%|████▌     | 48/104 [00:19<00:22,  2.44it/s, Loss=0.196]"
     ]
    },
    {
     "name": "stdout",
     "output_type": "stream",
     "text": [
      "✅ Loaded BraTS19_CBICA_AVB_1: Image torch.Size([3, 224, 224]), Mask torch.Size([224, 224])\n",
      "✅ Loaded BraTS19_CBICA_AXL_1: Image torch.Size([3, 224, 224]), Mask torch.Size([224, 224])\n"
     ]
    },
    {
     "name": "stderr",
     "output_type": "stream",
     "text": [
      "Epoch [6/15]:  47%|████▋     | 49/104 [00:20<00:22,  2.46it/s, Loss=0.362]"
     ]
    },
    {
     "name": "stdout",
     "output_type": "stream",
     "text": [
      "✅ Loaded BraTS19_TCIA02_322_1: Image torch.Size([3, 224, 224]), Mask torch.Size([224, 224])\n",
      "✅ Loaded BraTS19_CBICA_AAL_1: Image torch.Size([3, 224, 224]), Mask torch.Size([224, 224])\n"
     ]
    },
    {
     "name": "stderr",
     "output_type": "stream",
     "text": [
      "Epoch [6/15]:  48%|████▊     | 50/104 [00:20<00:21,  2.49it/s, Loss=0.375]"
     ]
    },
    {
     "name": "stdout",
     "output_type": "stream",
     "text": [
      "✅ Loaded BraTS19_CBICA_AVV_1: Image torch.Size([3, 224, 224]), Mask torch.Size([224, 224])\n",
      "✅ Loaded BraTS19_2013_26_1: Image torch.Size([3, 224, 224]), Mask torch.Size([224, 224])\n"
     ]
    },
    {
     "name": "stderr",
     "output_type": "stream",
     "text": [
      "Epoch [6/15]:  49%|████▉     | 51/104 [00:21<00:21,  2.50it/s, Loss=0.34] "
     ]
    },
    {
     "name": "stdout",
     "output_type": "stream",
     "text": [
      "✅ Loaded BraTS19_TCIA01_231_1: Image torch.Size([3, 224, 224]), Mask torch.Size([224, 224])\n",
      "✅ Loaded BraTS19_CBICA_BHM_1: Image torch.Size([3, 224, 224]), Mask torch.Size([224, 224])\n"
     ]
    },
    {
     "name": "stderr",
     "output_type": "stream",
     "text": [
      "Epoch [6/15]:  50%|█████     | 52/104 [00:21<00:20,  2.50it/s, Loss=0.234]"
     ]
    },
    {
     "name": "stdout",
     "output_type": "stream",
     "text": [
      "✅ Loaded BraTS19_TMC_21360_1: Image torch.Size([3, 224, 224]), Mask torch.Size([224, 224])\n",
      "✅ Loaded BraTS19_CBICA_AQJ_1: Image torch.Size([3, 224, 224]), Mask torch.Size([224, 224])\n"
     ]
    },
    {
     "name": "stderr",
     "output_type": "stream",
     "text": [
      "Epoch [6/15]:  51%|█████     | 53/104 [00:21<00:20,  2.50it/s, Loss=0.19] "
     ]
    },
    {
     "name": "stdout",
     "output_type": "stream",
     "text": [
      "✅ Loaded BraTS19_CBICA_ATF_1: Image torch.Size([3, 224, 224]), Mask torch.Size([224, 224])\n",
      "✅ Loaded BraTS19_CBICA_AAP_1: Image torch.Size([3, 224, 224]), Mask torch.Size([224, 224])\n"
     ]
    },
    {
     "name": "stderr",
     "output_type": "stream",
     "text": [
      "Epoch [6/15]:  52%|█████▏    | 54/104 [00:22<00:20,  2.49it/s, Loss=0.272]"
     ]
    },
    {
     "name": "stdout",
     "output_type": "stream",
     "text": [
      "✅ Loaded BraTS19_2013_5_1: Image torch.Size([3, 224, 224]), Mask torch.Size([224, 224])\n",
      "✅ Loaded BraTS19_CBICA_AQD_1: Image torch.Size([3, 224, 224]), Mask torch.Size([224, 224])\n"
     ]
    },
    {
     "name": "stderr",
     "output_type": "stream",
     "text": [
      "Epoch [6/15]:  53%|█████▎    | 55/104 [00:22<00:19,  2.47it/s, Loss=0.172]"
     ]
    },
    {
     "name": "stdout",
     "output_type": "stream",
     "text": [
      "✅ Loaded BraTS19_CBICA_AVF_1: Image torch.Size([3, 224, 224]), Mask torch.Size([224, 224])\n",
      "✅ Loaded BraTS19_CBICA_AOD_1: Image torch.Size([3, 224, 224]), Mask torch.Size([224, 224])\n"
     ]
    },
    {
     "name": "stderr",
     "output_type": "stream",
     "text": [
      "Epoch [6/15]:  54%|█████▍    | 56/104 [00:23<00:19,  2.45it/s, Loss=0.267]"
     ]
    },
    {
     "name": "stdout",
     "output_type": "stream",
     "text": [
      "✅ Loaded BraTS19_CBICA_AVT_1: Image torch.Size([3, 224, 224]), Mask torch.Size([224, 224])\n",
      "✅ Loaded BraTS19_CBICA_BHZ_1: Image torch.Size([3, 224, 224]), Mask torch.Size([224, 224])\n"
     ]
    },
    {
     "name": "stderr",
     "output_type": "stream",
     "text": [
      "Epoch [6/15]:  55%|█████▍    | 57/104 [00:23<00:19,  2.45it/s, Loss=0.171]"
     ]
    },
    {
     "name": "stdout",
     "output_type": "stream",
     "text": [
      "✅ Loaded BraTS19_CBICA_AZH_1: Image torch.Size([3, 224, 224]), Mask torch.Size([224, 224])\n",
      "✅ Loaded BraTS19_TCIA02_321_1: Image torch.Size([3, 224, 224]), Mask torch.Size([224, 224])\n"
     ]
    },
    {
     "name": "stderr",
     "output_type": "stream",
     "text": [
      "Epoch [6/15]:  56%|█████▌    | 58/104 [00:23<00:18,  2.45it/s, Loss=0.266]"
     ]
    },
    {
     "name": "stdout",
     "output_type": "stream",
     "text": [
      "✅ Loaded BraTS19_CBICA_BHK_1: Image torch.Size([3, 224, 224]), Mask torch.Size([224, 224])\n",
      "✅ Loaded BraTS19_CBICA_ABM_1: Image torch.Size([3, 224, 224]), Mask torch.Size([224, 224])\n"
     ]
    },
    {
     "name": "stderr",
     "output_type": "stream",
     "text": [
      "Epoch [6/15]:  57%|█████▋    | 59/104 [00:24<00:18,  2.47it/s, Loss=0.352]"
     ]
    },
    {
     "name": "stdout",
     "output_type": "stream",
     "text": [
      "✅ Loaded BraTS19_TCIA03_498_1: Image torch.Size([3, 224, 224]), Mask torch.Size([224, 224])\n",
      "✅ Loaded BraTS19_TCIA01_186_1: Image torch.Size([3, 224, 224]), Mask torch.Size([224, 224])\n"
     ]
    },
    {
     "name": "stderr",
     "output_type": "stream",
     "text": [
      "Epoch [6/15]:  58%|█████▊    | 60/104 [00:24<00:17,  2.48it/s, Loss=0.392]"
     ]
    },
    {
     "name": "stdout",
     "output_type": "stream",
     "text": [
      "✅ Loaded BraTS19_CBICA_AUX_1: Image torch.Size([3, 224, 224]), Mask torch.Size([224, 224])\n",
      "✅ Loaded BraTS19_2013_13_1: Image torch.Size([3, 224, 224]), Mask torch.Size([224, 224])\n"
     ]
    },
    {
     "name": "stderr",
     "output_type": "stream",
     "text": [
      "Epoch [6/15]:  59%|█████▊    | 61/104 [00:25<00:17,  2.45it/s, Loss=0.555]"
     ]
    },
    {
     "name": "stdout",
     "output_type": "stream",
     "text": [
      "✅ Loaded BraTS19_TCIA02_608_1: Image torch.Size([3, 224, 224]), Mask torch.Size([224, 224])\n",
      "✅ Loaded BraTS19_CBICA_AUR_1: Image torch.Size([3, 224, 224]), Mask torch.Size([224, 224])\n"
     ]
    },
    {
     "name": "stderr",
     "output_type": "stream",
     "text": [
      "Epoch [6/15]:  60%|█████▉    | 62/104 [00:25<00:17,  2.47it/s, Loss=0.29] "
     ]
    },
    {
     "name": "stdout",
     "output_type": "stream",
     "text": [
      "✅ Loaded BraTS19_CBICA_AYC_1: Image torch.Size([3, 224, 224]), Mask torch.Size([224, 224])\n",
      "✅ Loaded BraTS19_TCIA01_412_1: Image torch.Size([3, 224, 224]), Mask torch.Size([224, 224])\n"
     ]
    },
    {
     "name": "stderr",
     "output_type": "stream",
     "text": [
      "Epoch [6/15]:  61%|██████    | 63/104 [00:25<00:16,  2.48it/s, Loss=0.207]"
     ]
    },
    {
     "name": "stdout",
     "output_type": "stream",
     "text": [
      "✅ Loaded BraTS19_CBICA_AVJ_1: Image torch.Size([3, 224, 224]), Mask torch.Size([224, 224])\n",
      "✅ Loaded BraTS19_CBICA_AOC_1: Image torch.Size([3, 224, 224]), Mask torch.Size([224, 224])\n"
     ]
    },
    {
     "name": "stderr",
     "output_type": "stream",
     "text": [
      "Epoch [6/15]:  62%|██████▏   | 64/104 [00:26<00:16,  2.45it/s, Loss=0.206]"
     ]
    },
    {
     "name": "stdout",
     "output_type": "stream",
     "text": [
      "✅ Loaded BraTS19_CBICA_AOP_1: Image torch.Size([3, 224, 224]), Mask torch.Size([224, 224])\n",
      "✅ Loaded BraTS19_CBICA_BEM_1: Image torch.Size([3, 224, 224]), Mask torch.Size([224, 224])\n"
     ]
    },
    {
     "name": "stderr",
     "output_type": "stream",
     "text": [
      "Epoch [6/15]:  62%|██████▎   | 65/104 [00:26<00:15,  2.44it/s, Loss=0.28] "
     ]
    },
    {
     "name": "stdout",
     "output_type": "stream",
     "text": [
      "✅ Loaded BraTS19_CBICA_ALU_1: Image torch.Size([3, 224, 224]), Mask torch.Size([224, 224])\n",
      "✅ Loaded BraTS19_CBICA_ABN_1: Image torch.Size([3, 224, 224]), Mask torch.Size([224, 224])\n"
     ]
    },
    {
     "name": "stderr",
     "output_type": "stream",
     "text": [
      "Epoch [6/15]:  63%|██████▎   | 66/104 [00:27<00:15,  2.45it/s, Loss=0.383]"
     ]
    },
    {
     "name": "stdout",
     "output_type": "stream",
     "text": [
      "✅ Loaded BraTS19_TCIA03_199_1: Image torch.Size([3, 224, 224]), Mask torch.Size([224, 224])\n",
      "✅ Loaded BraTS19_TCIA03_257_1: Image torch.Size([3, 224, 224]), Mask torch.Size([224, 224])\n"
     ]
    },
    {
     "name": "stderr",
     "output_type": "stream",
     "text": [
      "Epoch [6/15]:  64%|██████▍   | 67/104 [00:27<00:15,  2.44it/s, Loss=0.267]"
     ]
    },
    {
     "name": "stdout",
     "output_type": "stream",
     "text": [
      "✅ Loaded BraTS19_CBICA_AXO_1: Image torch.Size([3, 224, 224]), Mask torch.Size([224, 224])\n",
      "✅ Loaded BraTS19_TCIA08_406_1: Image torch.Size([3, 224, 224]), Mask torch.Size([224, 224])\n"
     ]
    },
    {
     "name": "stderr",
     "output_type": "stream",
     "text": [
      "Epoch [6/15]:  65%|██████▌   | 68/104 [00:27<00:14,  2.45it/s, Loss=0.279]"
     ]
    },
    {
     "name": "stdout",
     "output_type": "stream",
     "text": [
      "✅ Loaded BraTS19_CBICA_BGX_1: Image torch.Size([3, 224, 224]), Mask torch.Size([224, 224])\n",
      "✅ Loaded BraTS19_TCIA02_314_1: Image torch.Size([3, 224, 224]), Mask torch.Size([224, 224])\n"
     ]
    },
    {
     "name": "stderr",
     "output_type": "stream",
     "text": [
      "Epoch [6/15]:  66%|██████▋   | 69/104 [00:28<00:14,  2.43it/s, Loss=0.172]"
     ]
    },
    {
     "name": "stdout",
     "output_type": "stream",
     "text": [
      "✅ Loaded BraTS19_CBICA_ANG_1: Image torch.Size([3, 224, 224]), Mask torch.Size([224, 224])\n",
      "✅ Loaded BraTS19_CBICA_ARW_1: Image torch.Size([3, 224, 224]), Mask torch.Size([224, 224])\n"
     ]
    },
    {
     "name": "stderr",
     "output_type": "stream",
     "text": [
      "Epoch [6/15]:  67%|██████▋   | 70/104 [00:28<00:14,  2.42it/s, Loss=0.362]"
     ]
    },
    {
     "name": "stdout",
     "output_type": "stream",
     "text": [
      "✅ Loaded BraTS19_TCIA06_211_1: Image torch.Size([3, 224, 224]), Mask torch.Size([224, 224])\n",
      "✅ Loaded BraTS19_CBICA_AMH_1: Image torch.Size([3, 224, 224]), Mask torch.Size([224, 224])\n"
     ]
    },
    {
     "name": "stderr",
     "output_type": "stream",
     "text": [
      "Epoch [6/15]:  68%|██████▊   | 71/104 [00:29<00:13,  2.40it/s, Loss=0.246]"
     ]
    },
    {
     "name": "stdout",
     "output_type": "stream",
     "text": [
      "✅ Loaded BraTS19_2013_19_1: Image torch.Size([3, 224, 224]), Mask torch.Size([224, 224])\n",
      "✅ Loaded BraTS19_TCIA08_319_1: Image torch.Size([3, 224, 224]), Mask torch.Size([224, 224])\n"
     ]
    },
    {
     "name": "stderr",
     "output_type": "stream",
     "text": [
      "Epoch [6/15]:  69%|██████▉   | 72/104 [00:29<00:13,  2.39it/s, Loss=0.227]"
     ]
    },
    {
     "name": "stdout",
     "output_type": "stream",
     "text": [
      "✅ Loaded BraTS19_CBICA_BLJ_1: Image torch.Size([3, 224, 224]), Mask torch.Size([224, 224])\n",
      "✅ Loaded BraTS19_TCIA05_396_1: Image torch.Size([3, 224, 224]), Mask torch.Size([224, 224])\n"
     ]
    },
    {
     "name": "stderr",
     "output_type": "stream",
     "text": [
      "Epoch [6/15]:  70%|███████   | 73/104 [00:30<00:12,  2.40it/s, Loss=0.235]"
     ]
    },
    {
     "name": "stdout",
     "output_type": "stream",
     "text": [
      "✅ Loaded BraTS19_CBICA_APY_1: Image torch.Size([3, 224, 224]), Mask torch.Size([224, 224])\n",
      "✅ Loaded BraTS19_CBICA_AUA_1: Image torch.Size([3, 224, 224]), Mask torch.Size([224, 224])\n"
     ]
    },
    {
     "name": "stderr",
     "output_type": "stream",
     "text": [
      "Epoch [6/15]:  71%|███████   | 74/104 [00:30<00:12,  2.38it/s, Loss=0.239]"
     ]
    },
    {
     "name": "stdout",
     "output_type": "stream",
     "text": [
      "✅ Loaded BraTS19_CBICA_ASK_1: Image torch.Size([3, 224, 224]), Mask torch.Size([224, 224])\n",
      "✅ Loaded BraTS19_TCIA02_605_1: Image torch.Size([3, 224, 224]), Mask torch.Size([224, 224])\n"
     ]
    },
    {
     "name": "stderr",
     "output_type": "stream",
     "text": [
      "Epoch [6/15]:  72%|███████▏  | 75/104 [00:30<00:12,  2.41it/s, Loss=0.213]"
     ]
    },
    {
     "name": "stdout",
     "output_type": "stream",
     "text": [
      "✅ Loaded BraTS19_CBICA_ARF_1: Image torch.Size([3, 224, 224]), Mask torch.Size([224, 224])\n",
      "✅ Loaded BraTS19_TCIA02_300_1: Image torch.Size([3, 224, 224]), Mask torch.Size([224, 224])\n"
     ]
    },
    {
     "name": "stderr",
     "output_type": "stream",
     "text": [
      "Epoch [6/15]:  73%|███████▎  | 76/104 [00:31<00:11,  2.40it/s, Loss=0.163]"
     ]
    },
    {
     "name": "stdout",
     "output_type": "stream",
     "text": [
      "✅ Loaded BraTS19_TCIA01_201_1: Image torch.Size([3, 224, 224]), Mask torch.Size([224, 224])\n",
      "✅ Loaded BraTS19_CBICA_AXM_1: Image torch.Size([3, 224, 224]), Mask torch.Size([224, 224])\n"
     ]
    },
    {
     "name": "stderr",
     "output_type": "stream",
     "text": [
      "Epoch [6/15]:  74%|███████▍  | 77/104 [00:31<00:11,  2.38it/s, Loss=0.279]"
     ]
    },
    {
     "name": "stdout",
     "output_type": "stream",
     "text": [
      "✅ Loaded BraTS19_TCIA02_430_1: Image torch.Size([3, 224, 224]), Mask torch.Size([224, 224])\n",
      "✅ Loaded BraTS19_TCIA02_198_1: Image torch.Size([3, 224, 224]), Mask torch.Size([224, 224])\n"
     ]
    },
    {
     "name": "stderr",
     "output_type": "stream",
     "text": [
      "Epoch [6/15]:  75%|███████▌  | 78/104 [00:32<00:10,  2.41it/s, Loss=0.192]"
     ]
    },
    {
     "name": "stdout",
     "output_type": "stream",
     "text": [
      "✅ Loaded BraTS19_CBICA_AXQ_1: Image torch.Size([3, 224, 224]), Mask torch.Size([224, 224])\n",
      "✅ Loaded BraTS19_TCIA06_184_1: Image torch.Size([3, 224, 224]), Mask torch.Size([224, 224])\n"
     ]
    },
    {
     "name": "stderr",
     "output_type": "stream",
     "text": [
      "Epoch [6/15]:  76%|███████▌  | 79/104 [00:32<00:10,  2.43it/s, Loss=0.246]"
     ]
    },
    {
     "name": "stdout",
     "output_type": "stream",
     "text": [
      "✅ Loaded BraTS19_TCIA06_165_1: Image torch.Size([3, 224, 224]), Mask torch.Size([224, 224])\n",
      "✅ Loaded BraTS19_CBICA_AQN_1: Image torch.Size([3, 224, 224]), Mask torch.Size([224, 224])\n"
     ]
    },
    {
     "name": "stderr",
     "output_type": "stream",
     "text": [
      "Epoch [6/15]:  77%|███████▋  | 80/104 [00:32<00:09,  2.46it/s, Loss=0.191]"
     ]
    },
    {
     "name": "stdout",
     "output_type": "stream",
     "text": [
      "✅ Loaded BraTS19_CBICA_BGR_1: Image torch.Size([3, 224, 224]), Mask torch.Size([224, 224])\n",
      "✅ Loaded BraTS19_CBICA_AVG_1: Image torch.Size([3, 224, 224]), Mask torch.Size([224, 224])\n"
     ]
    },
    {
     "name": "stderr",
     "output_type": "stream",
     "text": [
      "Epoch [6/15]:  78%|███████▊  | 81/104 [00:33<00:09,  2.47it/s, Loss=0.166]"
     ]
    },
    {
     "name": "stdout",
     "output_type": "stream",
     "text": [
      "✅ Loaded BraTS19_CBICA_ABY_1: Image torch.Size([3, 224, 224]), Mask torch.Size([224, 224])\n",
      "✅ Loaded BraTS19_CBICA_ANZ_1: Image torch.Size([3, 224, 224]), Mask torch.Size([224, 224])\n"
     ]
    },
    {
     "name": "stderr",
     "output_type": "stream",
     "text": [
      "Epoch [6/15]:  79%|███████▉  | 82/104 [00:33<00:08,  2.46it/s, Loss=0.354]"
     ]
    },
    {
     "name": "stdout",
     "output_type": "stream",
     "text": [
      "✅ Loaded BraTS19_TCIA02_377_1: Image torch.Size([3, 224, 224]), Mask torch.Size([224, 224])\n",
      "✅ Loaded BraTS19_TCIA01_147_1: Image torch.Size([3, 224, 224]), Mask torch.Size([224, 224])\n"
     ]
    },
    {
     "name": "stderr",
     "output_type": "stream",
     "text": [
      "Epoch [6/15]:  80%|███████▉  | 83/104 [00:34<00:08,  2.49it/s, Loss=0.169]"
     ]
    },
    {
     "name": "stdout",
     "output_type": "stream",
     "text": [
      "✅ Loaded BraTS19_TMC_30014_1: Image torch.Size([3, 224, 224]), Mask torch.Size([224, 224])\n",
      "✅ Loaded BraTS19_CBICA_ASV_1: Image torch.Size([3, 224, 224]), Mask torch.Size([224, 224])\n"
     ]
    },
    {
     "name": "stderr",
     "output_type": "stream",
     "text": [
      "Epoch [6/15]:  81%|████████  | 84/104 [00:34<00:08,  2.43it/s, Loss=0.203]"
     ]
    },
    {
     "name": "stdout",
     "output_type": "stream",
     "text": [
      "✅ Loaded BraTS19_CBICA_AOZ_1: Image torch.Size([3, 224, 224]), Mask torch.Size([224, 224])\n",
      "✅ Loaded BraTS19_TCIA01_150_1: Image torch.Size([3, 224, 224]), Mask torch.Size([224, 224])\n"
     ]
    },
    {
     "name": "stderr",
     "output_type": "stream",
     "text": [
      "Epoch [6/15]:  82%|████████▏ | 85/104 [00:34<00:07,  2.43it/s, Loss=0.339]"
     ]
    },
    {
     "name": "stdout",
     "output_type": "stream",
     "text": [
      "✅ Loaded BraTS19_CBICA_BCF_1: Image torch.Size([3, 224, 224]), Mask torch.Size([224, 224])\n",
      "✅ Loaded BraTS19_CBICA_AYW_1: Image torch.Size([3, 224, 224]), Mask torch.Size([224, 224])\n"
     ]
    },
    {
     "name": "stderr",
     "output_type": "stream",
     "text": [
      "Epoch [6/15]:  83%|████████▎ | 86/104 [00:35<00:07,  2.44it/s, Loss=0.672]"
     ]
    },
    {
     "name": "stdout",
     "output_type": "stream",
     "text": [
      "✅ Loaded BraTS19_TCIA02_151_1: Image torch.Size([3, 224, 224]), Mask torch.Size([224, 224])\n",
      "✅ Loaded BraTS19_CBICA_AUQ_1: Image torch.Size([3, 224, 224]), Mask torch.Size([224, 224])\n"
     ]
    },
    {
     "name": "stderr",
     "output_type": "stream",
     "text": [
      "Epoch [6/15]:  84%|████████▎ | 87/104 [00:35<00:06,  2.46it/s, Loss=0.139]"
     ]
    },
    {
     "name": "stdout",
     "output_type": "stream",
     "text": [
      "✅ Loaded BraTS19_TCIA01_335_1: Image torch.Size([3, 224, 224]), Mask torch.Size([224, 224])\n",
      "✅ Loaded BraTS19_CBICA_BGO_1: Image torch.Size([3, 224, 224]), Mask torch.Size([224, 224])\n"
     ]
    },
    {
     "name": "stderr",
     "output_type": "stream",
     "text": [
      "Epoch [6/15]:  85%|████████▍ | 88/104 [00:36<00:06,  2.44it/s, Loss=0.141]"
     ]
    },
    {
     "name": "stdout",
     "output_type": "stream",
     "text": [
      "✅ Loaded BraTS19_TCIA03_474_1: Image torch.Size([3, 224, 224]), Mask torch.Size([224, 224])\n",
      "✅ Loaded BraTS19_2013_21_1: Image torch.Size([3, 224, 224]), Mask torch.Size([224, 224])\n"
     ]
    },
    {
     "name": "stderr",
     "output_type": "stream",
     "text": [
      "Epoch [6/15]:  86%|████████▌ | 89/104 [00:36<00:06,  2.44it/s, Loss=0.198]"
     ]
    },
    {
     "name": "stdout",
     "output_type": "stream",
     "text": [
      "✅ Loaded BraTS19_CBICA_AWV_1: Image torch.Size([3, 224, 224]), Mask torch.Size([224, 224])\n",
      "✅ Loaded BraTS19_TCIA02_309_1: Image torch.Size([3, 224, 224]), Mask torch.Size([224, 224])\n"
     ]
    },
    {
     "name": "stderr",
     "output_type": "stream",
     "text": [
      "Epoch [6/15]:  87%|████████▋ | 90/104 [00:37<00:05,  2.44it/s, Loss=0.199]"
     ]
    },
    {
     "name": "stdout",
     "output_type": "stream",
     "text": [
      "✅ Loaded BraTS19_CBICA_BIC_1: Image torch.Size([3, 224, 224]), Mask torch.Size([224, 224])\n",
      "✅ Loaded BraTS19_TCIA01_180_1: Image torch.Size([3, 224, 224]), Mask torch.Size([224, 224])\n"
     ]
    },
    {
     "name": "stderr",
     "output_type": "stream",
     "text": [
      "Epoch [6/15]:  88%|████████▊ | 91/104 [00:37<00:05,  2.40it/s, Loss=0.317]"
     ]
    },
    {
     "name": "stdout",
     "output_type": "stream",
     "text": [
      "✅ Loaded BraTS19_CBICA_BNR_1: Image torch.Size([3, 224, 224]), Mask torch.Size([224, 224])\n",
      "✅ Loaded BraTS19_CBICA_AQR_1: Image torch.Size([3, 224, 224]), Mask torch.Size([224, 224])\n"
     ]
    },
    {
     "name": "stderr",
     "output_type": "stream",
     "text": [
      "Epoch [6/15]:  88%|████████▊ | 92/104 [00:37<00:05,  2.40it/s, Loss=0.379]"
     ]
    },
    {
     "name": "stdout",
     "output_type": "stream",
     "text": [
      "✅ Loaded BraTS19_TCIA01_203_1: Image torch.Size([3, 224, 224]), Mask torch.Size([224, 224])\n",
      "✅ Loaded BraTS19_2013_23_1: Image torch.Size([3, 224, 224]), Mask torch.Size([224, 224])\n"
     ]
    },
    {
     "name": "stderr",
     "output_type": "stream",
     "text": [
      "Epoch [6/15]:  89%|████████▉ | 93/104 [00:38<00:04,  2.40it/s, Loss=0.279]"
     ]
    },
    {
     "name": "stdout",
     "output_type": "stream",
     "text": [
      "✅ Loaded BraTS19_TCIA01_378_1: Image torch.Size([3, 224, 224]), Mask torch.Size([224, 224])\n",
      "✅ Loaded BraTS19_CBICA_AZD_1: Image torch.Size([3, 224, 224]), Mask torch.Size([224, 224])\n"
     ]
    },
    {
     "name": "stderr",
     "output_type": "stream",
     "text": [
      "Epoch [6/15]:  90%|█████████ | 94/104 [00:38<00:04,  2.41it/s, Loss=0.298]"
     ]
    },
    {
     "name": "stdout",
     "output_type": "stream",
     "text": [
      "✅ Loaded BraTS19_TCIA03_296_1: Image torch.Size([3, 224, 224]), Mask torch.Size([224, 224])\n",
      "✅ Loaded BraTS19_TCIA08_162_1: Image torch.Size([3, 224, 224]), Mask torch.Size([224, 224])\n"
     ]
    },
    {
     "name": "stderr",
     "output_type": "stream",
     "text": [
      "Epoch [6/15]:  91%|█████████▏| 95/104 [00:39<00:03,  2.40it/s, Loss=0.203]"
     ]
    },
    {
     "name": "stdout",
     "output_type": "stream",
     "text": [
      "✅ Loaded BraTS19_CBICA_ASA_1: Image torch.Size([3, 224, 224]), Mask torch.Size([224, 224])\n",
      "✅ Loaded BraTS19_TCIA02_290_1: Image torch.Size([3, 224, 224]), Mask torch.Size([224, 224])\n"
     ]
    },
    {
     "name": "stderr",
     "output_type": "stream",
     "text": [
      "Epoch [6/15]:  92%|█████████▏| 96/104 [00:39<00:03,  2.38it/s, Loss=0.275]"
     ]
    },
    {
     "name": "stdout",
     "output_type": "stream",
     "text": [
      "✅ Loaded BraTS19_CBICA_ALN_1: Image torch.Size([3, 224, 224]), Mask torch.Size([224, 224])\n",
      "✅ Loaded BraTS19_TCIA08_167_1: Image torch.Size([3, 224, 224]), Mask torch.Size([224, 224])\n"
     ]
    },
    {
     "name": "stderr",
     "output_type": "stream",
     "text": [
      "Epoch [6/15]:  93%|█████████▎| 97/104 [00:39<00:02,  2.38it/s, Loss=0.182]"
     ]
    },
    {
     "name": "stdout",
     "output_type": "stream",
     "text": [
      "✅ Loaded BraTS19_TMC_27374_1: Image torch.Size([3, 224, 224]), Mask torch.Size([224, 224])\n",
      "✅ Loaded BraTS19_CBICA_AWG_1: Image torch.Size([3, 224, 224]), Mask torch.Size([224, 224])\n"
     ]
    },
    {
     "name": "stderr",
     "output_type": "stream",
     "text": [
      "Epoch [6/15]:  94%|█████████▍| 98/104 [00:40<00:02,  2.38it/s, Loss=0.221]"
     ]
    },
    {
     "name": "stdout",
     "output_type": "stream",
     "text": [
      "✅ Loaded BraTS19_CBICA_APK_1: Image torch.Size([3, 224, 224]), Mask torch.Size([224, 224])\n",
      "✅ Loaded BraTS19_2013_17_1: Image torch.Size([3, 224, 224]), Mask torch.Size([224, 224])\n"
     ]
    },
    {
     "name": "stderr",
     "output_type": "stream",
     "text": [
      "Epoch [6/15]:  95%|█████████▌| 99/104 [00:40<00:02,  2.39it/s, Loss=0.197]"
     ]
    },
    {
     "name": "stdout",
     "output_type": "stream",
     "text": [
      "✅ Loaded BraTS19_TCIA04_343_1: Image torch.Size([3, 224, 224]), Mask torch.Size([224, 224])\n",
      "✅ Loaded BraTS19_CBICA_ASU_1: Image torch.Size([3, 224, 224]), Mask torch.Size([224, 224])\n"
     ]
    },
    {
     "name": "stderr",
     "output_type": "stream",
     "text": [
      "Epoch [6/15]:  96%|█████████▌| 100/104 [00:41<00:01,  2.37it/s, Loss=0.578]"
     ]
    },
    {
     "name": "stdout",
     "output_type": "stream",
     "text": [
      "✅ Loaded BraTS19_CBICA_BGN_1: Image torch.Size([3, 224, 224]), Mask torch.Size([224, 224])\n",
      "✅ Loaded BraTS19_CBICA_ASO_1: Image torch.Size([3, 224, 224]), Mask torch.Size([224, 224])\n"
     ]
    },
    {
     "name": "stderr",
     "output_type": "stream",
     "text": [
      "Epoch [6/15]:  97%|█████████▋| 101/104 [00:41<00:01,  2.38it/s, Loss=0.275]"
     ]
    },
    {
     "name": "stdout",
     "output_type": "stream",
     "text": [
      "✅ Loaded BraTS19_TCIA02_606_1: Image torch.Size([3, 224, 224]), Mask torch.Size([224, 224])\n",
      "✅ Loaded BraTS19_CBICA_ANP_1: Image torch.Size([3, 224, 224]), Mask torch.Size([224, 224])\n"
     ]
    },
    {
     "name": "stderr",
     "output_type": "stream",
     "text": [
      "Epoch [6/15]:  98%|█████████▊| 102/104 [00:42<00:00,  2.38it/s, Loss=0.242]"
     ]
    },
    {
     "name": "stdout",
     "output_type": "stream",
     "text": [
      "✅ Loaded BraTS19_CBICA_ARZ_1: Image torch.Size([3, 224, 224]), Mask torch.Size([224, 224])\n",
      "✅ Loaded BraTS19_CBICA_ALX_1: Image torch.Size([3, 224, 224]), Mask torch.Size([224, 224])\n"
     ]
    },
    {
     "name": "stderr",
     "output_type": "stream",
     "text": [
      "                                                                           \r"
     ]
    },
    {
     "name": "stdout",
     "output_type": "stream",
     "text": [
      "✅ Loaded BraTS19_TCIA02_394_1: Image torch.Size([3, 224, 224]), Mask torch.Size([224, 224])\n",
      "\n",
      "✅ Epoch 6: Train Loss: 0.3023\n",
      "⚠️ No improvement for 2 epoch(s)\n"
     ]
    },
    {
     "name": "stderr",
     "output_type": "stream",
     "text": [
      "Epoch [7/15]:   0%|          | 0/104 [00:00<?, ?it/s]"
     ]
    },
    {
     "name": "stdout",
     "output_type": "stream",
     "text": [
      "✅ Loaded BraTS19_TCIA01_499_1: Image torch.Size([3, 224, 224]), Mask torch.Size([224, 224])\n",
      "✅ Loaded BraTS19_CBICA_AYA_1: Image torch.Size([3, 224, 224]), Mask torch.Size([224, 224])\n"
     ]
    },
    {
     "name": "stderr",
     "output_type": "stream",
     "text": [
      "Epoch [7/15]:   1%|          | 1/104 [00:00<00:41,  2.47it/s, Loss=0.583]"
     ]
    },
    {
     "name": "stdout",
     "output_type": "stream",
     "text": [
      "✅ Loaded BraTS19_CBICA_AXL_1: Image torch.Size([3, 224, 224]), Mask torch.Size([224, 224])\n",
      "✅ Loaded BraTS19_CBICA_AWI_1: Image torch.Size([3, 224, 224]), Mask torch.Size([224, 224])\n"
     ]
    },
    {
     "name": "stderr",
     "output_type": "stream",
     "text": [
      "Epoch [7/15]:   2%|▏         | 2/104 [00:00<00:40,  2.55it/s, Loss=0.276]"
     ]
    },
    {
     "name": "stdout",
     "output_type": "stream",
     "text": [
      "✅ Loaded BraTS19_TCIA02_309_1: Image torch.Size([3, 224, 224]), Mask torch.Size([224, 224])\n",
      "✅ Loaded BraTS19_TMC_06290_1: Image torch.Size([3, 224, 224]), Mask torch.Size([224, 224])\n"
     ]
    },
    {
     "name": "stderr",
     "output_type": "stream",
     "text": [
      "Epoch [7/15]:   3%|▎         | 3/104 [00:01<00:40,  2.47it/s, Loss=0.246]"
     ]
    },
    {
     "name": "stdout",
     "output_type": "stream",
     "text": [
      "✅ Loaded BraTS19_CBICA_BHB_1: Image torch.Size([3, 224, 224]), Mask torch.Size([224, 224])\n",
      "✅ Loaded BraTS19_CBICA_BDK_1: Image torch.Size([3, 224, 224]), Mask torch.Size([224, 224])\n"
     ]
    },
    {
     "name": "stderr",
     "output_type": "stream",
     "text": [
      "Epoch [7/15]:   4%|▍         | 4/104 [00:01<00:40,  2.44it/s, Loss=0.265]"
     ]
    },
    {
     "name": "stdout",
     "output_type": "stream",
     "text": [
      "✅ Loaded BraTS19_2013_5_1: Image torch.Size([3, 224, 224]), Mask torch.Size([224, 224])\n",
      "✅ Loaded BraTS19_CBICA_AQG_1: Image torch.Size([3, 224, 224]), Mask torch.Size([224, 224])\n"
     ]
    },
    {
     "name": "stderr",
     "output_type": "stream",
     "text": [
      "Epoch [7/15]:   5%|▍         | 5/104 [00:02<00:40,  2.45it/s, Loss=0.328]"
     ]
    },
    {
     "name": "stdout",
     "output_type": "stream",
     "text": [
      "✅ Loaded BraTS19_TCIA01_221_1: Image torch.Size([3, 224, 224]), Mask torch.Size([224, 224])\n",
      "✅ Loaded BraTS19_TCIA03_199_1: Image torch.Size([3, 224, 224]), Mask torch.Size([224, 224])\n"
     ]
    },
    {
     "name": "stderr",
     "output_type": "stream",
     "text": [
      "Epoch [7/15]:   6%|▌         | 6/104 [00:02<00:39,  2.46it/s, Loss=0.193]"
     ]
    },
    {
     "name": "stdout",
     "output_type": "stream",
     "text": [
      "✅ Loaded BraTS19_TCIA01_401_1: Image torch.Size([3, 224, 224]), Mask torch.Size([224, 224])\n",
      "✅ Loaded BraTS19_TCIA01_131_1: Image torch.Size([3, 224, 224]), Mask torch.Size([224, 224])\n"
     ]
    },
    {
     "name": "stderr",
     "output_type": "stream",
     "text": [
      "Epoch [7/15]:   7%|▋         | 7/104 [00:02<00:39,  2.46it/s, Loss=0.106]"
     ]
    },
    {
     "name": "stdout",
     "output_type": "stream",
     "text": [
      "✅ Loaded BraTS19_CBICA_AVG_1: Image torch.Size([3, 224, 224]), Mask torch.Size([224, 224])\n",
      "✅ Loaded BraTS19_TCIA08_162_1: Image torch.Size([3, 224, 224]), Mask torch.Size([224, 224])\n"
     ]
    },
    {
     "name": "stderr",
     "output_type": "stream",
     "text": [
      "Epoch [7/15]:   8%|▊         | 8/104 [00:03<00:38,  2.47it/s, Loss=0.149]"
     ]
    },
    {
     "name": "stdout",
     "output_type": "stream",
     "text": [
      "✅ Loaded BraTS19_CBICA_ARW_1: Image torch.Size([3, 224, 224]), Mask torch.Size([224, 224])\n",
      "✅ Loaded BraTS19_CBICA_ATF_1: Image torch.Size([3, 224, 224]), Mask torch.Size([224, 224])\n"
     ]
    },
    {
     "name": "stderr",
     "output_type": "stream",
     "text": [
      "Epoch [7/15]:   9%|▊         | 9/104 [00:03<00:38,  2.48it/s, Loss=0.239]"
     ]
    },
    {
     "name": "stdout",
     "output_type": "stream",
     "text": [
      "✅ Loaded BraTS19_TCIA08_406_1: Image torch.Size([3, 224, 224]), Mask torch.Size([224, 224])\n",
      "✅ Loaded BraTS19_CBICA_ABY_1: Image torch.Size([3, 224, 224]), Mask torch.Size([224, 224])\n"
     ]
    },
    {
     "name": "stderr",
     "output_type": "stream",
     "text": [
      "Epoch [7/15]:  10%|▉         | 10/104 [00:04<00:37,  2.49it/s, Loss=0.386]"
     ]
    },
    {
     "name": "stdout",
     "output_type": "stream",
     "text": [
      "✅ Loaded BraTS19_TCIA02_608_1: Image torch.Size([3, 224, 224]), Mask torch.Size([224, 224])\n",
      "✅ Loaded BraTS19_CBICA_BHM_1: Image torch.Size([3, 224, 224]), Mask torch.Size([224, 224])\n"
     ]
    },
    {
     "name": "stderr",
     "output_type": "stream",
     "text": [
      "Epoch [7/15]:  11%|█         | 11/104 [00:04<00:38,  2.39it/s, Loss=0.198]"
     ]
    },
    {
     "name": "stdout",
     "output_type": "stream",
     "text": [
      "✅ Loaded BraTS19_TCIA02_314_1: Image torch.Size([3, 224, 224]), Mask torch.Size([224, 224])\n",
      "✅ Loaded BraTS19_CBICA_BHQ_1: Image torch.Size([3, 224, 224]), Mask torch.Size([224, 224])\n"
     ]
    },
    {
     "name": "stderr",
     "output_type": "stream",
     "text": [
      "Epoch [7/15]:  12%|█▏        | 12/104 [00:04<00:40,  2.29it/s, Loss=0.215]"
     ]
    },
    {
     "name": "stdout",
     "output_type": "stream",
     "text": [
      "✅ Loaded BraTS19_TCIA02_331_1: Image torch.Size([3, 224, 224]), Mask torch.Size([224, 224])\n",
      "✅ Loaded BraTS19_CBICA_AOC_1: Image torch.Size([3, 224, 224]), Mask torch.Size([224, 224])\n"
     ]
    },
    {
     "name": "stderr",
     "output_type": "stream",
     "text": [
      "Epoch [7/15]:  12%|█▎        | 13/104 [00:05<00:40,  2.22it/s, Loss=0.117]"
     ]
    },
    {
     "name": "stdout",
     "output_type": "stream",
     "text": [
      "✅ Loaded BraTS19_TCIA04_192_1: Image torch.Size([3, 224, 224]), Mask torch.Size([224, 224])\n",
      "✅ Loaded BraTS19_CBICA_AQR_1: Image torch.Size([3, 224, 224]), Mask torch.Size([224, 224])\n"
     ]
    },
    {
     "name": "stderr",
     "output_type": "stream",
     "text": [
      "Epoch [7/15]:  13%|█▎        | 14/104 [00:05<00:40,  2.22it/s, Loss=0.33] "
     ]
    },
    {
     "name": "stdout",
     "output_type": "stream",
     "text": [
      "✅ Loaded BraTS19_CBICA_ASA_1: Image torch.Size([3, 224, 224]), Mask torch.Size([224, 224])\n",
      "✅ Loaded BraTS19_TCIA02_118_1: Image torch.Size([3, 224, 224]), Mask torch.Size([224, 224])\n"
     ]
    },
    {
     "name": "stderr",
     "output_type": "stream",
     "text": [
      "Epoch [7/15]:  14%|█▍        | 15/104 [00:06<00:40,  2.22it/s, Loss=0.361]"
     ]
    },
    {
     "name": "stdout",
     "output_type": "stream",
     "text": [
      "✅ Loaded BraTS19_CBICA_ABB_1: Image torch.Size([3, 224, 224]), Mask torch.Size([224, 224])\n",
      "✅ Loaded BraTS19_CBICA_AQY_1: Image torch.Size([3, 224, 224]), Mask torch.Size([224, 224])\n"
     ]
    },
    {
     "name": "stderr",
     "output_type": "stream",
     "text": [
      "Epoch [7/15]:  15%|█▌        | 16/104 [00:06<00:39,  2.22it/s, Loss=0.542]"
     ]
    },
    {
     "name": "stdout",
     "output_type": "stream",
     "text": [
      "✅ Loaded BraTS19_CBICA_AQD_1: Image torch.Size([3, 224, 224]), Mask torch.Size([224, 224])\n",
      "✅ Loaded BraTS19_CBICA_AZH_1: Image torch.Size([3, 224, 224]), Mask torch.Size([224, 224])\n"
     ]
    },
    {
     "name": "stderr",
     "output_type": "stream",
     "text": [
      "Epoch [7/15]:  16%|█▋        | 17/104 [00:07<00:39,  2.22it/s, Loss=0.208]"
     ]
    },
    {
     "name": "stdout",
     "output_type": "stream",
     "text": [
      "✅ Loaded BraTS19_TCIA06_184_1: Image torch.Size([3, 224, 224]), Mask torch.Size([224, 224])\n",
      "✅ Loaded BraTS19_CBICA_BCF_1: Image torch.Size([3, 224, 224]), Mask torch.Size([224, 224])\n"
     ]
    },
    {
     "name": "stderr",
     "output_type": "stream",
     "text": [
      "Epoch [7/15]:  17%|█▋        | 18/104 [00:07<00:39,  2.17it/s, Loss=0.236]"
     ]
    },
    {
     "name": "stdout",
     "output_type": "stream",
     "text": [
      "✅ Loaded BraTS19_CBICA_ATP_1: Image torch.Size([3, 224, 224]), Mask torch.Size([224, 224])\n",
      "✅ Loaded BraTS19_TCIA02_430_1: Image torch.Size([3, 224, 224]), Mask torch.Size([224, 224])\n"
     ]
    },
    {
     "name": "stderr",
     "output_type": "stream",
     "text": [
      "Epoch [7/15]:  18%|█▊        | 19/104 [00:08<00:38,  2.18it/s, Loss=0.22] "
     ]
    },
    {
     "name": "stdout",
     "output_type": "stream",
     "text": [
      "✅ Loaded BraTS19_CBICA_AXW_1: Image torch.Size([3, 224, 224]), Mask torch.Size([224, 224])\n",
      "✅ Loaded BraTS19_CBICA_BHZ_1: Image torch.Size([3, 224, 224]), Mask torch.Size([224, 224])\n"
     ]
    },
    {
     "name": "stderr",
     "output_type": "stream",
     "text": [
      "Epoch [7/15]:  19%|█▉        | 20/104 [00:08<00:39,  2.15it/s, Loss=0.136]"
     ]
    },
    {
     "name": "stdout",
     "output_type": "stream",
     "text": [
      "✅ Loaded BraTS19_CBICA_AWH_1: Image torch.Size([3, 224, 224]), Mask torch.Size([224, 224])\n",
      "✅ Loaded BraTS19_CBICA_BGO_1: Image torch.Size([3, 224, 224]), Mask torch.Size([224, 224])\n"
     ]
    },
    {
     "name": "stderr",
     "output_type": "stream",
     "text": [
      "Epoch [7/15]:  20%|██        | 21/104 [00:09<00:38,  2.15it/s, Loss=0.218]"
     ]
    },
    {
     "name": "stdout",
     "output_type": "stream",
     "text": [
      "✅ Loaded BraTS19_CBICA_AME_1: Image torch.Size([3, 224, 224]), Mask torch.Size([224, 224])\n",
      "✅ Loaded BraTS19_CBICA_BLJ_1: Image torch.Size([3, 224, 224]), Mask torch.Size([224, 224])\n"
     ]
    },
    {
     "name": "stderr",
     "output_type": "stream",
     "text": [
      "Epoch [7/15]:  21%|██        | 22/104 [00:09<00:37,  2.17it/s, Loss=0.488]"
     ]
    },
    {
     "name": "stdout",
     "output_type": "stream",
     "text": [
      "✅ Loaded BraTS19_TCIA03_265_1: Image torch.Size([3, 224, 224]), Mask torch.Size([224, 224])\n",
      "✅ Loaded BraTS19_CBICA_AQQ_1: Image torch.Size([3, 224, 224]), Mask torch.Size([224, 224])\n"
     ]
    },
    {
     "name": "stderr",
     "output_type": "stream",
     "text": [
      "Epoch [7/15]:  22%|██▏       | 23/104 [00:10<00:37,  2.16it/s, Loss=0.304]"
     ]
    },
    {
     "name": "stdout",
     "output_type": "stream",
     "text": [
      "✅ Loaded BraTS19_CBICA_ABO_1: Image torch.Size([3, 224, 224]), Mask torch.Size([224, 224])\n",
      "✅ Loaded BraTS19_CBICA_AQU_1: Image torch.Size([3, 224, 224]), Mask torch.Size([224, 224])\n"
     ]
    },
    {
     "name": "stderr",
     "output_type": "stream",
     "text": [
      "Epoch [7/15]:  23%|██▎       | 24/104 [00:10<00:36,  2.17it/s, Loss=0.329]"
     ]
    },
    {
     "name": "stdout",
     "output_type": "stream",
     "text": [
      "✅ Loaded BraTS19_CBICA_AUW_1: Image torch.Size([3, 224, 224]), Mask torch.Size([224, 224])\n",
      "✅ Loaded BraTS19_TCIA06_247_1: Image torch.Size([3, 224, 224]), Mask torch.Size([224, 224])\n"
     ]
    },
    {
     "name": "stderr",
     "output_type": "stream",
     "text": [
      "Epoch [7/15]:  24%|██▍       | 25/104 [00:10<00:36,  2.17it/s, Loss=0.192]"
     ]
    },
    {
     "name": "stdout",
     "output_type": "stream",
     "text": [
      "✅ Loaded BraTS19_CBICA_AVB_1: Image torch.Size([3, 224, 224]), Mask torch.Size([224, 224])\n",
      "✅ Loaded BraTS19_CBICA_APK_1: Image torch.Size([3, 224, 224]), Mask torch.Size([224, 224])\n"
     ]
    },
    {
     "name": "stderr",
     "output_type": "stream",
     "text": [
      "Epoch [7/15]:  25%|██▌       | 26/104 [00:11<00:36,  2.16it/s, Loss=0.342]"
     ]
    },
    {
     "name": "stdout",
     "output_type": "stream",
     "text": [
      "✅ Loaded BraTS19_CBICA_AQV_1: Image torch.Size([3, 224, 224]), Mask torch.Size([224, 224])\n",
      "✅ Loaded BraTS19_CBICA_ASR_1: Image torch.Size([3, 224, 224]), Mask torch.Size([224, 224])\n"
     ]
    },
    {
     "name": "stderr",
     "output_type": "stream",
     "text": [
      "Epoch [7/15]:  26%|██▌       | 27/104 [00:11<00:35,  2.15it/s, Loss=0.135]"
     ]
    },
    {
     "name": "stdout",
     "output_type": "stream",
     "text": [
      "✅ Loaded BraTS19_TCIA04_479_1: Image torch.Size([3, 224, 224]), Mask torch.Size([224, 224])\n",
      "✅ Loaded BraTS19_TCIA03_138_1: Image torch.Size([3, 224, 224]), Mask torch.Size([224, 224])\n"
     ]
    },
    {
     "name": "stderr",
     "output_type": "stream",
     "text": [
      "Epoch [7/15]:  27%|██▋       | 28/104 [00:12<00:36,  2.11it/s, Loss=0.269]"
     ]
    },
    {
     "name": "stdout",
     "output_type": "stream",
     "text": [
      "✅ Loaded BraTS19_CBICA_ATD_1: Image torch.Size([3, 224, 224]), Mask torch.Size([224, 224])\n",
      "✅ Loaded BraTS19_TCIA03_338_1: Image torch.Size([3, 224, 224]), Mask torch.Size([224, 224])\n"
     ]
    },
    {
     "name": "stderr",
     "output_type": "stream",
     "text": [
      "Epoch [7/15]:  28%|██▊       | 29/104 [00:12<00:35,  2.09it/s, Loss=0.718]"
     ]
    },
    {
     "name": "stdout",
     "output_type": "stream",
     "text": [
      "✅ Loaded BraTS19_TCIA01_378_1: Image torch.Size([3, 224, 224]), Mask torch.Size([224, 224])\n",
      "✅ Loaded BraTS19_2013_3_1: Image torch.Size([3, 224, 224]), Mask torch.Size([224, 224])\n"
     ]
    },
    {
     "name": "stderr",
     "output_type": "stream",
     "text": [
      "Epoch [7/15]:  29%|██▉       | 30/104 [00:13<00:34,  2.12it/s, Loss=0.278]"
     ]
    },
    {
     "name": "stdout",
     "output_type": "stream",
     "text": [
      "✅ Loaded BraTS19_TCIA05_396_1: Image torch.Size([3, 224, 224]), Mask torch.Size([224, 224])\n",
      "✅ Loaded BraTS19_2013_10_1: Image torch.Size([3, 224, 224]), Mask torch.Size([224, 224])\n"
     ]
    },
    {
     "name": "stderr",
     "output_type": "stream",
     "text": [
      "Epoch [7/15]:  30%|██▉       | 31/104 [00:13<00:34,  2.14it/s, Loss=0.166]"
     ]
    },
    {
     "name": "stdout",
     "output_type": "stream",
     "text": [
      "✅ Loaded BraTS19_TCIA02_368_1: Image torch.Size([3, 224, 224]), Mask torch.Size([224, 224])\n",
      "✅ Loaded BraTS19_CBICA_ABM_1: Image torch.Size([3, 224, 224]), Mask torch.Size([224, 224])\n"
     ]
    },
    {
     "name": "stderr",
     "output_type": "stream",
     "text": [
      "Epoch [7/15]:  31%|███       | 32/104 [00:14<00:33,  2.17it/s, Loss=0.195]"
     ]
    },
    {
     "name": "stdout",
     "output_type": "stream",
     "text": [
      "✅ Loaded BraTS19_TCIA02_168_1: Image torch.Size([3, 224, 224]), Mask torch.Size([224, 224])\n",
      "✅ Loaded BraTS19_CBICA_ABE_1: Image torch.Size([3, 224, 224]), Mask torch.Size([224, 224])\n"
     ]
    },
    {
     "name": "stderr",
     "output_type": "stream",
     "text": [
      "Epoch [7/15]:  32%|███▏      | 33/104 [00:14<00:32,  2.16it/s, Loss=0.242]"
     ]
    },
    {
     "name": "stdout",
     "output_type": "stream",
     "text": [
      "✅ Loaded BraTS19_CBICA_AZD_1: Image torch.Size([3, 224, 224]), Mask torch.Size([224, 224])\n",
      "✅ Loaded BraTS19_TCIA02_290_1: Image torch.Size([3, 224, 224]), Mask torch.Size([224, 224])\n"
     ]
    },
    {
     "name": "stderr",
     "output_type": "stream",
     "text": [
      "Epoch [7/15]:  33%|███▎      | 34/104 [00:15<00:32,  2.16it/s, Loss=0.218]"
     ]
    },
    {
     "name": "stdout",
     "output_type": "stream",
     "text": [
      "✅ Loaded BraTS19_CBICA_ASG_1: Image torch.Size([3, 224, 224]), Mask torch.Size([224, 224])\n",
      "✅ Loaded BraTS19_2013_17_1: Image torch.Size([3, 224, 224]), Mask torch.Size([224, 224])\n"
     ]
    },
    {
     "name": "stderr",
     "output_type": "stream",
     "text": [
      "Epoch [7/15]:  34%|███▎      | 35/104 [00:15<00:31,  2.17it/s, Loss=0.244]"
     ]
    },
    {
     "name": "stdout",
     "output_type": "stream",
     "text": [
      "✅ Loaded BraTS19_CBICA_AQZ_1: Image torch.Size([3, 224, 224]), Mask torch.Size([224, 224])\n",
      "✅ Loaded BraTS19_CBICA_BNR_1: Image torch.Size([3, 224, 224]), Mask torch.Size([224, 224])\n"
     ]
    },
    {
     "name": "stderr",
     "output_type": "stream",
     "text": [
      "Epoch [7/15]:  35%|███▍      | 36/104 [00:16<00:31,  2.16it/s, Loss=0.438]"
     ]
    },
    {
     "name": "stdout",
     "output_type": "stream",
     "text": [
      "✅ Loaded BraTS19_TMC_06643_1: Image torch.Size([3, 224, 224]), Mask torch.Size([224, 224])\n",
      "✅ Loaded BraTS19_CBICA_BHV_1: Image torch.Size([3, 224, 224]), Mask torch.Size([224, 224])\n"
     ]
    },
    {
     "name": "stderr",
     "output_type": "stream",
     "text": [
      "Epoch [7/15]:  36%|███▌      | 37/104 [00:16<00:32,  2.09it/s, Loss=0.218]"
     ]
    },
    {
     "name": "stdout",
     "output_type": "stream",
     "text": [
      "✅ Loaded BraTS19_CBICA_AUQ_1: Image torch.Size([3, 224, 224]), Mask torch.Size([224, 224])\n",
      "✅ Loaded BraTS19_CBICA_BHK_1: Image torch.Size([3, 224, 224]), Mask torch.Size([224, 224])\n"
     ]
    },
    {
     "name": "stderr",
     "output_type": "stream",
     "text": [
      "Epoch [7/15]:  37%|███▋      | 38/104 [00:17<00:30,  2.14it/s, Loss=0.213]"
     ]
    },
    {
     "name": "stdout",
     "output_type": "stream",
     "text": [
      "✅ Loaded BraTS19_CBICA_AQP_1: Image torch.Size([3, 224, 224]), Mask torch.Size([224, 224])\n",
      "✅ Loaded BraTS19_CBICA_AVV_1: Image torch.Size([3, 224, 224]), Mask torch.Size([224, 224])\n"
     ]
    },
    {
     "name": "stderr",
     "output_type": "stream",
     "text": [
      "Epoch [7/15]:  38%|███▊      | 39/104 [00:17<00:29,  2.19it/s, Loss=0.347]"
     ]
    },
    {
     "name": "stdout",
     "output_type": "stream",
     "text": [
      "✅ Loaded BraTS19_CBICA_BEM_1: Image torch.Size([3, 224, 224]), Mask torch.Size([224, 224])\n",
      "✅ Loaded BraTS19_CBICA_ALX_1: Image torch.Size([3, 224, 224]), Mask torch.Size([224, 224])\n"
     ]
    },
    {
     "name": "stderr",
     "output_type": "stream",
     "text": [
      "Epoch [7/15]:  38%|███▊      | 40/104 [00:17<00:28,  2.26it/s, Loss=0.267]"
     ]
    },
    {
     "name": "stdout",
     "output_type": "stream",
     "text": [
      "✅ Loaded BraTS19_TCIA02_491_1: Image torch.Size([3, 224, 224]), Mask torch.Size([224, 224])\n",
      "✅ Loaded BraTS19_CBICA_BIC_1: Image torch.Size([3, 224, 224]), Mask torch.Size([224, 224])\n"
     ]
    },
    {
     "name": "stderr",
     "output_type": "stream",
     "text": [
      "Epoch [7/15]:  39%|███▉      | 41/104 [00:18<00:27,  2.32it/s, Loss=0.271]"
     ]
    },
    {
     "name": "stdout",
     "output_type": "stream",
     "text": [
      "✅ Loaded BraTS19_CBICA_AOO_1: Image torch.Size([3, 224, 224]), Mask torch.Size([224, 224])\n",
      "✅ Loaded BraTS19_2013_21_1: Image torch.Size([3, 224, 224]), Mask torch.Size([224, 224])\n"
     ]
    },
    {
     "name": "stderr",
     "output_type": "stream",
     "text": [
      "Epoch [7/15]:  40%|████      | 42/104 [00:18<00:26,  2.38it/s, Loss=0.264]"
     ]
    },
    {
     "name": "stdout",
     "output_type": "stream",
     "text": [
      "✅ Loaded BraTS19_TMC_30014_1: Image torch.Size([3, 224, 224]), Mask torch.Size([224, 224])\n",
      "✅ Loaded BraTS19_TCIA01_186_1: Image torch.Size([3, 224, 224]), Mask torch.Size([224, 224])\n"
     ]
    },
    {
     "name": "stderr",
     "output_type": "stream",
     "text": [
      "Epoch [7/15]:  41%|████▏     | 43/104 [00:19<00:25,  2.42it/s, Loss=0.447]"
     ]
    },
    {
     "name": "stdout",
     "output_type": "stream",
     "text": [
      "✅ Loaded BraTS19_TCIA01_460_1: Image torch.Size([3, 224, 224]), Mask torch.Size([224, 224])\n",
      "✅ Loaded BraTS19_TCIA02_606_1: Image torch.Size([3, 224, 224]), Mask torch.Size([224, 224])\n"
     ]
    },
    {
     "name": "stderr",
     "output_type": "stream",
     "text": [
      "Epoch [7/15]:  42%|████▏     | 44/104 [00:19<00:25,  2.39it/s, Loss=0.228]"
     ]
    },
    {
     "name": "stdout",
     "output_type": "stream",
     "text": [
      "✅ Loaded BraTS19_TCIA08_436_1: Image torch.Size([3, 224, 224]), Mask torch.Size([224, 224])\n",
      "✅ Loaded BraTS19_TCIA02_394_1: Image torch.Size([3, 224, 224]), Mask torch.Size([224, 224])\n"
     ]
    },
    {
     "name": "stderr",
     "output_type": "stream",
     "text": [
      "Epoch [7/15]:  43%|████▎     | 45/104 [00:19<00:24,  2.41it/s, Loss=0.17] "
     ]
    },
    {
     "name": "stdout",
     "output_type": "stream",
     "text": [
      "✅ Loaded BraTS19_TCIA01_412_1: Image torch.Size([3, 224, 224]), Mask torch.Size([224, 224])\n",
      "✅ Loaded BraTS19_TCIA01_147_1: Image torch.Size([3, 224, 224]), Mask torch.Size([224, 224])\n"
     ]
    },
    {
     "name": "stderr",
     "output_type": "stream",
     "text": [
      "Epoch [7/15]:  44%|████▍     | 46/104 [00:20<00:23,  2.43it/s, Loss=0.205]"
     ]
    },
    {
     "name": "stdout",
     "output_type": "stream",
     "text": [
      "✅ Loaded BraTS19_CBICA_AOD_1: Image torch.Size([3, 224, 224]), Mask torch.Size([224, 224])\n",
      "✅ Loaded BraTS19_CBICA_ATN_1: Image torch.Size([3, 224, 224]), Mask torch.Size([224, 224])\n"
     ]
    },
    {
     "name": "stderr",
     "output_type": "stream",
     "text": [
      "Epoch [7/15]:  45%|████▌     | 47/104 [00:20<00:23,  2.45it/s, Loss=0.296]"
     ]
    },
    {
     "name": "stdout",
     "output_type": "stream",
     "text": [
      "✅ Loaded BraTS19_CBICA_BGN_1: Image torch.Size([3, 224, 224]), Mask torch.Size([224, 224])\n",
      "✅ Loaded BraTS19_CBICA_ALN_1: Image torch.Size([3, 224, 224]), Mask torch.Size([224, 224])\n"
     ]
    },
    {
     "name": "stderr",
     "output_type": "stream",
     "text": [
      "Epoch [7/15]:  46%|████▌     | 48/104 [00:21<00:22,  2.45it/s, Loss=0.187]"
     ]
    },
    {
     "name": "stdout",
     "output_type": "stream",
     "text": [
      "✅ Loaded BraTS19_TCIA01_190_1: Image torch.Size([3, 224, 224]), Mask torch.Size([224, 224])\n",
      "✅ Loaded BraTS19_TCIA02_208_1: Image torch.Size([3, 224, 224]), Mask torch.Size([224, 224])\n"
     ]
    },
    {
     "name": "stderr",
     "output_type": "stream",
     "text": [
      "Epoch [7/15]:  47%|████▋     | 49/104 [00:21<00:22,  2.46it/s, Loss=0.408]"
     ]
    },
    {
     "name": "stdout",
     "output_type": "stream",
     "text": [
      "✅ Loaded BraTS19_CBICA_AAB_1: Image torch.Size([3, 224, 224]), Mask torch.Size([224, 224])\n",
      "✅ Loaded BraTS19_TMC_21360_1: Image torch.Size([3, 224, 224]), Mask torch.Size([224, 224])\n"
     ]
    },
    {
     "name": "stderr",
     "output_type": "stream",
     "text": [
      "Epoch [7/15]:  48%|████▊     | 50/104 [00:21<00:22,  2.45it/s, Loss=0.178]"
     ]
    },
    {
     "name": "stdout",
     "output_type": "stream",
     "text": [
      "✅ Loaded BraTS19_CBICA_AOP_1: Image torch.Size([3, 224, 224]), Mask torch.Size([224, 224])\n",
      "✅ Loaded BraTS19_CBICA_ARZ_1: Image torch.Size([3, 224, 224]), Mask torch.Size([224, 224])\n"
     ]
    },
    {
     "name": "stderr",
     "output_type": "stream",
     "text": [
      "Epoch [7/15]:  49%|████▉     | 51/104 [00:22<00:21,  2.46it/s, Loss=0.592]"
     ]
    },
    {
     "name": "stdout",
     "output_type": "stream",
     "text": [
      "✅ Loaded BraTS19_CBICA_ASO_1: Image torch.Size([3, 224, 224]), Mask torch.Size([224, 224])\n",
      "✅ Loaded BraTS19_TCIA01_150_1: Image torch.Size([3, 224, 224]), Mask torch.Size([224, 224])\n"
     ]
    },
    {
     "name": "stderr",
     "output_type": "stream",
     "text": [
      "Epoch [7/15]:  50%|█████     | 52/104 [00:22<00:21,  2.47it/s, Loss=0.357]"
     ]
    },
    {
     "name": "stdout",
     "output_type": "stream",
     "text": [
      "✅ Loaded BraTS19_TCIA02_135_1: Image torch.Size([3, 224, 224]), Mask torch.Size([224, 224])\n",
      "✅ Loaded BraTS19_CBICA_ASW_1: Image torch.Size([3, 224, 224]), Mask torch.Size([224, 224])\n"
     ]
    },
    {
     "name": "stderr",
     "output_type": "stream",
     "text": [
      "Epoch [7/15]:  51%|█████     | 53/104 [00:23<00:20,  2.47it/s, Loss=0.188]"
     ]
    },
    {
     "name": "stdout",
     "output_type": "stream",
     "text": [
      "✅ Loaded BraTS19_CBICA_APR_1: Image torch.Size([3, 224, 224]), Mask torch.Size([224, 224])\n",
      "✅ Loaded BraTS19_CBICA_BCL_1: Image torch.Size([3, 224, 224]), Mask torch.Size([224, 224])\n"
     ]
    },
    {
     "name": "stderr",
     "output_type": "stream",
     "text": [
      "Epoch [7/15]:  52%|█████▏    | 54/104 [00:23<00:20,  2.43it/s, Loss=0.499]"
     ]
    },
    {
     "name": "stdout",
     "output_type": "stream",
     "text": [
      "✅ Loaded BraTS19_CBICA_AQO_1: Image torch.Size([3, 224, 224]), Mask torch.Size([224, 224])\n",
      "✅ Loaded BraTS19_TCIA03_474_1: Image torch.Size([3, 224, 224]), Mask torch.Size([224, 224])\n"
     ]
    },
    {
     "name": "stderr",
     "output_type": "stream",
     "text": [
      "Epoch [7/15]:  53%|█████▎    | 55/104 [00:24<00:20,  2.41it/s, Loss=0.217]"
     ]
    },
    {
     "name": "stdout",
     "output_type": "stream",
     "text": [
      "✅ Loaded BraTS19_CBICA_AUX_1: Image torch.Size([3, 224, 224]), Mask torch.Size([224, 224])\n",
      "✅ Loaded BraTS19_CBICA_ASV_1: Image torch.Size([3, 224, 224]), Mask torch.Size([224, 224])\n"
     ]
    },
    {
     "name": "stderr",
     "output_type": "stream",
     "text": [
      "Epoch [7/15]:  54%|█████▍    | 56/104 [00:24<00:20,  2.39it/s, Loss=0.18] "
     ]
    },
    {
     "name": "stdout",
     "output_type": "stream",
     "text": [
      "✅ Loaded BraTS19_CBICA_AUA_1: Image torch.Size([3, 224, 224]), Mask torch.Size([224, 224])\n",
      "✅ Loaded BraTS19_CBICA_ANI_1: Image torch.Size([3, 224, 224]), Mask torch.Size([224, 224])\n"
     ]
    },
    {
     "name": "stderr",
     "output_type": "stream",
     "text": [
      "Epoch [7/15]:  55%|█████▍    | 57/104 [00:24<00:19,  2.40it/s, Loss=0.235]"
     ]
    },
    {
     "name": "stdout",
     "output_type": "stream",
     "text": [
      "✅ Loaded BraTS19_TCIA02_377_1: Image torch.Size([3, 224, 224]), Mask torch.Size([224, 224])\n",
      "✅ Loaded BraTS19_CBICA_ANV_1: Image torch.Size([3, 224, 224]), Mask torch.Size([224, 224])\n"
     ]
    },
    {
     "name": "stderr",
     "output_type": "stream",
     "text": [
      "Epoch [7/15]:  56%|█████▌    | 58/104 [00:25<00:19,  2.40it/s, Loss=0.139]"
     ]
    },
    {
     "name": "stdout",
     "output_type": "stream",
     "text": [
      "✅ Loaded BraTS19_2013_14_1: Image torch.Size([3, 224, 224]), Mask torch.Size([224, 224])\n",
      "✅ Loaded BraTS19_TCIA02_321_1: Image torch.Size([3, 224, 224]), Mask torch.Size([224, 224])\n"
     ]
    },
    {
     "name": "stderr",
     "output_type": "stream",
     "text": [
      "Epoch [7/15]:  57%|█████▋    | 59/104 [00:25<00:18,  2.41it/s, Loss=0.236]"
     ]
    },
    {
     "name": "stdout",
     "output_type": "stream",
     "text": [
      "✅ Loaded BraTS19_CBICA_ANP_1: Image torch.Size([3, 224, 224]), Mask torch.Size([224, 224])\n",
      "✅ Loaded BraTS19_CBICA_BKV_1: Image torch.Size([3, 224, 224]), Mask torch.Size([224, 224])\n"
     ]
    },
    {
     "name": "stderr",
     "output_type": "stream",
     "text": [
      "Epoch [7/15]:  58%|█████▊    | 60/104 [00:26<00:18,  2.39it/s, Loss=0.438]"
     ]
    },
    {
     "name": "stdout",
     "output_type": "stream",
     "text": [
      "✅ Loaded BraTS19_CBICA_AUN_1: Image torch.Size([3, 224, 224]), Mask torch.Size([224, 224])\n",
      "✅ Loaded BraTS19_CBICA_AMH_1: Image torch.Size([3, 224, 224]), Mask torch.Size([224, 224])\n"
     ]
    },
    {
     "name": "stderr",
     "output_type": "stream",
     "text": [
      "Epoch [7/15]:  59%|█████▊    | 61/104 [00:26<00:17,  2.39it/s, Loss=0.246]"
     ]
    },
    {
     "name": "stdout",
     "output_type": "stream",
     "text": [
      "✅ Loaded BraTS19_TCIA06_603_1: Image torch.Size([3, 224, 224]), Mask torch.Size([224, 224])\n",
      "✅ Loaded BraTS19_TCIA06_409_1: Image torch.Size([3, 224, 224]), Mask torch.Size([224, 224])\n"
     ]
    },
    {
     "name": "stderr",
     "output_type": "stream",
     "text": [
      "Epoch [7/15]:  60%|█████▉    | 62/104 [00:26<00:17,  2.37it/s, Loss=0.201]"
     ]
    },
    {
     "name": "stdout",
     "output_type": "stream",
     "text": [
      "✅ Loaded BraTS19_TCIA08_319_1: Image torch.Size([3, 224, 224]), Mask torch.Size([224, 224])\n",
      "✅ Loaded BraTS19_TCIA08_167_1: Image torch.Size([3, 224, 224]), Mask torch.Size([224, 224])\n"
     ]
    },
    {
     "name": "stderr",
     "output_type": "stream",
     "text": [
      "Epoch [7/15]:  61%|██████    | 63/104 [00:27<00:17,  2.35it/s, Loss=0.184]"
     ]
    },
    {
     "name": "stdout",
     "output_type": "stream",
     "text": [
      "✅ Loaded BraTS19_CBICA_AYI_1: Image torch.Size([3, 224, 224]), Mask torch.Size([224, 224])\n",
      "✅ Loaded BraTS19_CBICA_ABN_1: Image torch.Size([3, 224, 224]), Mask torch.Size([224, 224])\n"
     ]
    },
    {
     "name": "stderr",
     "output_type": "stream",
     "text": [
      "Epoch [7/15]:  62%|██████▏   | 64/104 [00:27<00:16,  2.36it/s, Loss=0.75] "
     ]
    },
    {
     "name": "stdout",
     "output_type": "stream",
     "text": [
      "✅ Loaded BraTS19_CBICA_ANZ_1: Image torch.Size([3, 224, 224]), Mask torch.Size([224, 224])\n",
      "✅ Loaded BraTS19_CBICA_APY_1: Image torch.Size([3, 224, 224]), Mask torch.Size([224, 224])\n"
     ]
    },
    {
     "name": "stderr",
     "output_type": "stream",
     "text": [
      "Epoch [7/15]:  62%|██████▎   | 65/104 [00:28<00:16,  2.39it/s, Loss=0.313]"
     ]
    },
    {
     "name": "stdout",
     "output_type": "stream",
     "text": [
      "✅ Loaded BraTS19_CBICA_AVT_1: Image torch.Size([3, 224, 224]), Mask torch.Size([224, 224])\n",
      "✅ Loaded BraTS19_CBICA_AQJ_1: Image torch.Size([3, 224, 224]), Mask torch.Size([224, 224])\n"
     ]
    },
    {
     "name": "stderr",
     "output_type": "stream",
     "text": [
      "Epoch [7/15]:  63%|██████▎   | 66/104 [00:28<00:15,  2.39it/s, Loss=0.265]"
     ]
    },
    {
     "name": "stdout",
     "output_type": "stream",
     "text": [
      "✅ Loaded BraTS19_TCIA01_180_1: Image torch.Size([3, 224, 224]), Mask torch.Size([224, 224])\n",
      "✅ Loaded BraTS19_2013_26_1: Image torch.Size([3, 224, 224]), Mask torch.Size([224, 224])\n"
     ]
    },
    {
     "name": "stderr",
     "output_type": "stream",
     "text": [
      "Epoch [7/15]:  64%|██████▍   | 67/104 [00:29<00:15,  2.41it/s, Loss=0.315]"
     ]
    },
    {
     "name": "stdout",
     "output_type": "stream",
     "text": [
      "✅ Loaded BraTS19_TCIA03_498_1: Image torch.Size([3, 224, 224]), Mask torch.Size([224, 224])\n",
      "✅ Loaded BraTS19_TCIA02_455_1: Image torch.Size([3, 224, 224]), Mask torch.Size([224, 224])\n"
     ]
    },
    {
     "name": "stderr",
     "output_type": "stream",
     "text": [
      "Epoch [7/15]:  65%|██████▌   | 68/104 [00:29<00:14,  2.42it/s, Loss=0.344]"
     ]
    },
    {
     "name": "stdout",
     "output_type": "stream",
     "text": [
      "✅ Loaded BraTS19_TCIA04_343_1: Image torch.Size([3, 224, 224]), Mask torch.Size([224, 224])\n",
      "✅ Loaded BraTS19_TCIA02_179_1: Image torch.Size([3, 224, 224]), Mask torch.Size([224, 224])\n"
     ]
    },
    {
     "name": "stderr",
     "output_type": "stream",
     "text": [
      "Epoch [7/15]:  66%|██████▋   | 69/104 [00:29<00:14,  2.43it/s, Loss=0.638]"
     ]
    },
    {
     "name": "stdout",
     "output_type": "stream",
     "text": [
      "✅ Loaded BraTS19_CBICA_BFP_1: Image torch.Size([3, 224, 224]), Mask torch.Size([224, 224])\n",
      "✅ Loaded BraTS19_CBICA_AYG_1: Image torch.Size([3, 224, 224]), Mask torch.Size([224, 224])\n"
     ]
    },
    {
     "name": "stderr",
     "output_type": "stream",
     "text": [
      "Epoch [7/15]:  67%|██████▋   | 70/104 [00:30<00:14,  2.41it/s, Loss=0.554]"
     ]
    },
    {
     "name": "stdout",
     "output_type": "stream",
     "text": [
      "✅ Loaded BraTS19_CBICA_AUR_1: Image torch.Size([3, 224, 224]), Mask torch.Size([224, 224])\n",
      "✅ Loaded BraTS19_CBICA_AXM_1: Image torch.Size([3, 224, 224]), Mask torch.Size([224, 224])\n"
     ]
    },
    {
     "name": "stderr",
     "output_type": "stream",
     "text": [
      "Epoch [7/15]:  68%|██████▊   | 71/104 [00:30<00:13,  2.44it/s, Loss=0.342]"
     ]
    },
    {
     "name": "stdout",
     "output_type": "stream",
     "text": [
      "✅ Loaded BraTS19_CBICA_AWG_1: Image torch.Size([3, 224, 224]), Mask torch.Size([224, 224])\n",
      "✅ Loaded BraTS19_TCIA02_607_1: Image torch.Size([3, 224, 224]), Mask torch.Size([224, 224])\n"
     ]
    },
    {
     "name": "stderr",
     "output_type": "stream",
     "text": [
      "Epoch [7/15]:  69%|██████▉   | 72/104 [00:31<00:13,  2.44it/s, Loss=0.229]"
     ]
    },
    {
     "name": "stdout",
     "output_type": "stream",
     "text": [
      "✅ Loaded BraTS19_TCIA03_121_1: Image torch.Size([3, 224, 224]), Mask torch.Size([224, 224])\n",
      "✅ Loaded BraTS19_TCIA01_201_1: Image torch.Size([3, 224, 224]), Mask torch.Size([224, 224])\n"
     ]
    },
    {
     "name": "stderr",
     "output_type": "stream",
     "text": [
      "Epoch [7/15]:  70%|███████   | 73/104 [00:31<00:12,  2.42it/s, Loss=0.357]"
     ]
    },
    {
     "name": "stdout",
     "output_type": "stream",
     "text": [
      "✅ Loaded BraTS19_TCIA02_300_1: Image torch.Size([3, 224, 224]), Mask torch.Size([224, 224])\n",
      "✅ Loaded BraTS19_TMC_27374_1: Image torch.Size([3, 224, 224]), Mask torch.Size([224, 224])\n"
     ]
    },
    {
     "name": "stderr",
     "output_type": "stream",
     "text": [
      "Epoch [7/15]:  71%|███████   | 74/104 [00:31<00:12,  2.41it/s, Loss=0.118]"
     ]
    },
    {
     "name": "stdout",
     "output_type": "stream",
     "text": [
      "✅ Loaded BraTS19_CBICA_ASK_1: Image torch.Size([3, 224, 224]), Mask torch.Size([224, 224])\n",
      "✅ Loaded BraTS19_TCIA08_234_1: Image torch.Size([3, 224, 224]), Mask torch.Size([224, 224])\n"
     ]
    },
    {
     "name": "stderr",
     "output_type": "stream",
     "text": [
      "Epoch [7/15]:  72%|███████▏  | 75/104 [00:32<00:11,  2.42it/s, Loss=0.213]"
     ]
    },
    {
     "name": "stdout",
     "output_type": "stream",
     "text": [
      "✅ Loaded BraTS19_TCIA03_133_1: Image torch.Size([3, 224, 224]), Mask torch.Size([224, 224])\n",
      "✅ Loaded BraTS19_CBICA_AYW_1: Image torch.Size([3, 224, 224]), Mask torch.Size([224, 224])\n"
     ]
    },
    {
     "name": "stderr",
     "output_type": "stream",
     "text": [
      "Epoch [7/15]:  73%|███████▎  | 76/104 [00:32<00:11,  2.42it/s, Loss=0.73] "
     ]
    },
    {
     "name": "stdout",
     "output_type": "stream",
     "text": [
      "✅ Loaded BraTS19_TCIA01_390_1: Image torch.Size([3, 224, 224]), Mask torch.Size([224, 224])\n",
      "✅ Loaded BraTS19_CBICA_AXO_1: Image torch.Size([3, 224, 224]), Mask torch.Size([224, 224])\n"
     ]
    },
    {
     "name": "stderr",
     "output_type": "stream",
     "text": [
      "Epoch [7/15]:  74%|███████▍  | 77/104 [00:33<00:11,  2.42it/s, Loss=0.324]"
     ]
    },
    {
     "name": "stdout",
     "output_type": "stream",
     "text": [
      "✅ Loaded BraTS19_CBICA_ARF_1: Image torch.Size([3, 224, 224]), Mask torch.Size([224, 224])\n",
      "✅ Loaded BraTS19_TCIA02_226_1: Image torch.Size([3, 224, 224]), Mask torch.Size([224, 224])\n"
     ]
    },
    {
     "name": "stderr",
     "output_type": "stream",
     "text": [
      "Epoch [7/15]:  75%|███████▌  | 78/104 [00:33<00:10,  2.44it/s, Loss=0.154]"
     ]
    },
    {
     "name": "stdout",
     "output_type": "stream",
     "text": [
      "✅ Loaded BraTS19_CBICA_AOH_1: Image torch.Size([3, 224, 224]), Mask torch.Size([224, 224])\n",
      "✅ Loaded BraTS19_TCIA03_257_1: Image torch.Size([3, 224, 224]), Mask torch.Size([224, 224])\n"
     ]
    },
    {
     "name": "stderr",
     "output_type": "stream",
     "text": [
      "Epoch [7/15]:  76%|███████▌  | 79/104 [00:34<00:10,  2.42it/s, Loss=0.232]"
     ]
    },
    {
     "name": "stdout",
     "output_type": "stream",
     "text": [
      "✅ Loaded BraTS19_CBICA_AYU_1: Image torch.Size([3, 224, 224]), Mask torch.Size([224, 224])\n",
      "✅ Loaded BraTS19_CBICA_ASU_1: Image torch.Size([3, 224, 224]), Mask torch.Size([224, 224])\n"
     ]
    },
    {
     "name": "stderr",
     "output_type": "stream",
     "text": [
      "Epoch [7/15]:  77%|███████▋  | 80/104 [00:34<00:09,  2.44it/s, Loss=0.419]"
     ]
    },
    {
     "name": "stdout",
     "output_type": "stream",
     "text": [
      "✅ Loaded BraTS19_CBICA_AYC_1: Image torch.Size([3, 224, 224]), Mask torch.Size([224, 224])\n",
      "✅ Loaded BraTS19_CBICA_AAL_1: Image torch.Size([3, 224, 224]), Mask torch.Size([224, 224])\n"
     ]
    },
    {
     "name": "stderr",
     "output_type": "stream",
     "text": [
      "Epoch [7/15]:  78%|███████▊  | 81/104 [00:34<00:09,  2.42it/s, Loss=0.164]"
     ]
    },
    {
     "name": "stdout",
     "output_type": "stream",
     "text": [
      "✅ Loaded BraTS19_CBICA_ALU_1: Image torch.Size([3, 224, 224]), Mask torch.Size([224, 224])\n",
      "✅ Loaded BraTS19_TCIA05_444_1: Image torch.Size([3, 224, 224]), Mask torch.Size([224, 224])\n"
     ]
    },
    {
     "name": "stderr",
     "output_type": "stream",
     "text": [
      "Epoch [7/15]:  79%|███████▉  | 82/104 [00:35<00:09,  2.42it/s, Loss=0.221]"
     ]
    },
    {
     "name": "stdout",
     "output_type": "stream",
     "text": [
      "✅ Loaded BraTS19_2013_12_1: Image torch.Size([3, 224, 224]), Mask torch.Size([224, 224])\n",
      "✅ Loaded BraTS19_2013_23_1: Image torch.Size([3, 224, 224]), Mask torch.Size([224, 224])\n"
     ]
    },
    {
     "name": "stderr",
     "output_type": "stream",
     "text": [
      "Epoch [7/15]:  80%|███████▉  | 83/104 [00:35<00:08,  2.42it/s, Loss=0.258]"
     ]
    },
    {
     "name": "stdout",
     "output_type": "stream",
     "text": [
      "✅ Loaded BraTS19_CBICA_AXJ_1: Image torch.Size([3, 224, 224]), Mask torch.Size([224, 224])\n",
      "✅ Loaded BraTS19_TCIA08_469_1: Image torch.Size([3, 224, 224]), Mask torch.Size([224, 224])\n"
     ]
    },
    {
     "name": "stderr",
     "output_type": "stream",
     "text": [
      "Epoch [7/15]:  81%|████████  | 84/104 [00:36<00:08,  2.42it/s, Loss=0.168]"
     ]
    },
    {
     "name": "stdout",
     "output_type": "stream",
     "text": [
      "✅ Loaded BraTS19_CBICA_AOZ_1: Image torch.Size([3, 224, 224]), Mask torch.Size([224, 224])\n",
      "✅ Loaded BraTS19_TCIA02_605_1: Image torch.Size([3, 224, 224]), Mask torch.Size([224, 224])\n"
     ]
    },
    {
     "name": "stderr",
     "output_type": "stream",
     "text": [
      "Epoch [7/15]:  82%|████████▏ | 85/104 [00:36<00:07,  2.39it/s, Loss=0.27] "
     ]
    },
    {
     "name": "stdout",
     "output_type": "stream",
     "text": [
      "✅ Loaded BraTS19_TCIA01_235_1: Image torch.Size([3, 224, 224]), Mask torch.Size([224, 224])\n",
      "✅ Loaded BraTS19_TCIA02_198_1: Image torch.Size([3, 224, 224]), Mask torch.Size([224, 224])\n"
     ]
    },
    {
     "name": "stderr",
     "output_type": "stream",
     "text": [
      "Epoch [7/15]:  83%|████████▎ | 86/104 [00:36<00:07,  2.41it/s, Loss=0.557]"
     ]
    },
    {
     "name": "stdout",
     "output_type": "stream",
     "text": [
      "✅ Loaded BraTS19_CBICA_AQN_1: Image torch.Size([3, 224, 224]), Mask torch.Size([224, 224])\n",
      "✅ Loaded BraTS19_TCIA02_370_1: Image torch.Size([3, 224, 224]), Mask torch.Size([224, 224])\n"
     ]
    },
    {
     "name": "stderr",
     "output_type": "stream",
     "text": [
      "Epoch [7/15]:  84%|████████▎ | 87/104 [00:37<00:07,  2.38it/s, Loss=0.179]"
     ]
    },
    {
     "name": "stdout",
     "output_type": "stream",
     "text": [
      "✅ Loaded BraTS19_TCIA06_372_1: Image torch.Size([3, 224, 224]), Mask torch.Size([224, 224])\n",
      "✅ Loaded BraTS19_TCIA02_322_1: Image torch.Size([3, 224, 224]), Mask torch.Size([224, 224])\n"
     ]
    },
    {
     "name": "stderr",
     "output_type": "stream",
     "text": [
      "Epoch [7/15]:  85%|████████▍ | 88/104 [00:37<00:06,  2.35it/s, Loss=0.13] "
     ]
    },
    {
     "name": "stdout",
     "output_type": "stream",
     "text": [
      "✅ Loaded BraTS19_CBICA_AWV_1: Image torch.Size([3, 224, 224]), Mask torch.Size([224, 224])\n",
      "✅ Loaded BraTS19_2013_18_1: Image torch.Size([3, 224, 224]), Mask torch.Size([224, 224])\n"
     ]
    },
    {
     "name": "stderr",
     "output_type": "stream",
     "text": [
      "Epoch [7/15]:  86%|████████▌ | 89/104 [00:38<00:06,  2.33it/s, Loss=0.218]"
     ]
    },
    {
     "name": "stdout",
     "output_type": "stream",
     "text": [
      "✅ Loaded BraTS19_TCIA01_203_1: Image torch.Size([3, 224, 224]), Mask torch.Size([224, 224])\n",
      "✅ Loaded BraTS19_CBICA_ANG_1: Image torch.Size([3, 224, 224]), Mask torch.Size([224, 224])\n"
     ]
    },
    {
     "name": "stderr",
     "output_type": "stream",
     "text": [
      "Epoch [7/15]:  87%|████████▋ | 90/104 [00:38<00:05,  2.36it/s, Loss=0.189]"
     ]
    },
    {
     "name": "stdout",
     "output_type": "stream",
     "text": [
      "✅ Loaded BraTS19_CBICA_AAP_1: Image torch.Size([3, 224, 224]), Mask torch.Size([224, 224])\n",
      "✅ Loaded BraTS19_TCIA02_274_1: Image torch.Size([3, 224, 224]), Mask torch.Size([224, 224])\n"
     ]
    },
    {
     "name": "stderr",
     "output_type": "stream",
     "text": [
      "Epoch [7/15]:  88%|████████▊ | 91/104 [00:39<00:05,  2.41it/s, Loss=0.191]"
     ]
    },
    {
     "name": "stdout",
     "output_type": "stream",
     "text": [
      "✅ Loaded BraTS19_TCIA05_277_1: Image torch.Size([3, 224, 224]), Mask torch.Size([224, 224])\n",
      "✅ Loaded BraTS19_TCIA01_335_1: Image torch.Size([3, 224, 224]), Mask torch.Size([224, 224])\n"
     ]
    },
    {
     "name": "stderr",
     "output_type": "stream",
     "text": [
      "Epoch [7/15]:  88%|████████▊ | 92/104 [00:39<00:04,  2.41it/s, Loss=0.181]"
     ]
    },
    {
     "name": "stdout",
     "output_type": "stream",
     "text": [
      "✅ Loaded BraTS19_CBICA_AAG_1: Image torch.Size([3, 224, 224]), Mask torch.Size([224, 224])\n",
      "✅ Loaded BraTS19_TCIA01_448_1: Image torch.Size([3, 224, 224]), Mask torch.Size([224, 224])\n"
     ]
    },
    {
     "name": "stderr",
     "output_type": "stream",
     "text": [
      "Epoch [7/15]:  89%|████████▉ | 93/104 [00:39<00:04,  2.43it/s, Loss=0.57] "
     ]
    },
    {
     "name": "stdout",
     "output_type": "stream",
     "text": [
      "✅ Loaded BraTS19_TCIA03_296_1: Image torch.Size([3, 224, 224]), Mask torch.Size([224, 224])\n",
      "✅ Loaded BraTS19_TCIA02_283_1: Image torch.Size([3, 224, 224]), Mask torch.Size([224, 224])\n"
     ]
    },
    {
     "name": "stderr",
     "output_type": "stream",
     "text": [
      "Epoch [7/15]:  90%|█████████ | 94/104 [00:40<00:04,  2.46it/s, Loss=0.234]"
     ]
    },
    {
     "name": "stdout",
     "output_type": "stream",
     "text": [
      "✅ Loaded BraTS19_TCIA08_105_1: Image torch.Size([3, 224, 224]), Mask torch.Size([224, 224])\n",
      "✅ Loaded BraTS19_CBICA_AVF_1: Image torch.Size([3, 224, 224]), Mask torch.Size([224, 224])\n"
     ]
    },
    {
     "name": "stderr",
     "output_type": "stream",
     "text": [
      "Epoch [7/15]:  91%|█████████▏| 95/104 [00:40<00:03,  2.46it/s, Loss=0.252]"
     ]
    },
    {
     "name": "stdout",
     "output_type": "stream",
     "text": [
      "✅ Loaded BraTS19_TMC_12866_1: Image torch.Size([3, 224, 224]), Mask torch.Size([224, 224])\n",
      "✅ Loaded BraTS19_CBICA_AXQ_1: Image torch.Size([3, 224, 224]), Mask torch.Size([224, 224])\n"
     ]
    },
    {
     "name": "stderr",
     "output_type": "stream",
     "text": [
      "Epoch [7/15]:  92%|█████████▏| 96/104 [00:41<00:03,  2.47it/s, Loss=0.312]"
     ]
    },
    {
     "name": "stdout",
     "output_type": "stream",
     "text": [
      "✅ Loaded BraTS19_2013_13_1: Image torch.Size([3, 224, 224]), Mask torch.Size([224, 224])\n",
      "✅ Loaded BraTS19_TCIA01_231_1: Image torch.Size([3, 224, 224]), Mask torch.Size([224, 224])\n"
     ]
    },
    {
     "name": "stderr",
     "output_type": "stream",
     "text": [
      "Epoch [7/15]:  93%|█████████▎| 97/104 [00:41<00:02,  2.45it/s, Loss=0.199]"
     ]
    },
    {
     "name": "stdout",
     "output_type": "stream",
     "text": [
      "✅ Loaded BraTS19_CBICA_BGR_1: Image torch.Size([3, 224, 224]), Mask torch.Size([224, 224])\n",
      "✅ Loaded BraTS19_TCIA08_218_1: Image torch.Size([3, 224, 224]), Mask torch.Size([224, 224])\n"
     ]
    },
    {
     "name": "stderr",
     "output_type": "stream",
     "text": [
      "Epoch [7/15]:  94%|█████████▍| 98/104 [00:41<00:02,  2.43it/s, Loss=0.144]"
     ]
    },
    {
     "name": "stdout",
     "output_type": "stream",
     "text": [
      "✅ Loaded BraTS19_TCIA06_165_1: Image torch.Size([3, 224, 224]), Mask torch.Size([224, 224])\n",
      "✅ Loaded BraTS19_CBICA_AVJ_1: Image torch.Size([3, 224, 224]), Mask torch.Size([224, 224])\n"
     ]
    },
    {
     "name": "stderr",
     "output_type": "stream",
     "text": [
      "Epoch [7/15]:  95%|█████████▌| 99/104 [00:42<00:02,  2.41it/s, Loss=0.201]"
     ]
    },
    {
     "name": "stdout",
     "output_type": "stream",
     "text": [
      "✅ Loaded BraTS19_TCIA01_411_1: Image torch.Size([3, 224, 224]), Mask torch.Size([224, 224])\n",
      "✅ Loaded BraTS19_CBICA_BGT_1: Image torch.Size([3, 224, 224]), Mask torch.Size([224, 224])\n"
     ]
    },
    {
     "name": "stderr",
     "output_type": "stream",
     "text": [
      "Epoch [7/15]:  96%|█████████▌| 100/104 [00:42<00:01,  2.39it/s, Loss=0.75]"
     ]
    },
    {
     "name": "stdout",
     "output_type": "stream",
     "text": [
      "✅ Loaded BraTS19_CBICA_ATX_1: Image torch.Size([3, 224, 224]), Mask torch.Size([224, 224])\n",
      "✅ Loaded BraTS19_CBICA_BGX_1: Image torch.Size([3, 224, 224]), Mask torch.Size([224, 224])\n"
     ]
    },
    {
     "name": "stderr",
     "output_type": "stream",
     "text": [
      "Epoch [7/15]:  97%|█████████▋| 101/104 [00:43<00:01,  2.40it/s, Loss=0.186]"
     ]
    },
    {
     "name": "stdout",
     "output_type": "stream",
     "text": [
      "✅ Loaded BraTS19_TCIA06_332_1: Image torch.Size([3, 224, 224]), Mask torch.Size([224, 224])\n",
      "✅ Loaded BraTS19_TCIA02_151_1: Image torch.Size([3, 224, 224]), Mask torch.Size([224, 224])\n"
     ]
    },
    {
     "name": "stderr",
     "output_type": "stream",
     "text": [
      "Epoch [7/15]:  98%|█████████▊| 102/104 [00:43<00:00,  2.42it/s, Loss=0.133]"
     ]
    },
    {
     "name": "stdout",
     "output_type": "stream",
     "text": [
      "✅ Loaded BraTS19_2013_11_1: Image torch.Size([3, 224, 224]), Mask torch.Size([224, 224])\n",
      "✅ Loaded BraTS19_TCIA06_211_1: Image torch.Size([3, 224, 224]), Mask torch.Size([224, 224])\n"
     ]
    },
    {
     "name": "stderr",
     "output_type": "stream",
     "text": [
      "                                                                           "
     ]
    },
    {
     "name": "stdout",
     "output_type": "stream",
     "text": [
      "✅ Loaded BraTS19_2013_19_1: Image torch.Size([3, 224, 224]), Mask torch.Size([224, 224])\n",
      "\n",
      "✅ Epoch 7: Train Loss: 0.2894\n",
      "⚠️ No improvement for 3 epoch(s)\n",
      "⏹️ Early stopping triggered at epoch 7\n",
      "🏁 Training complete.\n"
     ]
    },
    {
     "name": "stderr",
     "output_type": "stream",
     "text": [
      "\r"
     ]
    }
   ],
   "source": [
    "optimizer = torch.optim.Adam(model.parameters(), lr=1e-4)\n",
    "train_model_smp(\n",
    "    model=model,\n",
    "    train_loader=train_loader,\n",
    "    optimizer=optimizer,\n",
    "    loss_fn=combined_loss, \n",
    "    device=device,\n",
    "    epochs=15,\n",
    "    patience=3,\n",
    "    save_path=\"preTrained_unet_resnet34_2019_hgg.pth\"\n",
    ")\n"
   ]
  },
  {
   "cell_type": "code",
   "execution_count": null,
   "id": "7fd6b982",
   "metadata": {},
   "outputs": [],
   "source": []
  }
 ],
 "metadata": {
  "kernelspec": {
   "display_name": ".venv",
   "language": "python",
   "name": "python3"
  },
  "language_info": {
   "codemirror_mode": {
    "name": "ipython",
    "version": 3
   },
   "file_extension": ".py",
   "mimetype": "text/x-python",
   "name": "python",
   "nbconvert_exporter": "python",
   "pygments_lexer": "ipython3",
   "version": "3.9.13"
  }
 },
 "nbformat": 4,
 "nbformat_minor": 5
}
