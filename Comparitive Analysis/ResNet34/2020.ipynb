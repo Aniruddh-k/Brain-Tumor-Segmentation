{
 "cells": [
  {
   "cell_type": "code",
   "execution_count": 27,
   "id": "0a92fae6",
   "metadata": {},
   "outputs": [],
   "source": [
    "# Importing Necessary libraries\n",
    "import os\n",
    "import glob\n",
    "import numpy as np\n",
    "import nibabel as nib\n",
    "import matplotlib.pyplot as plt\n",
    "\n",
    "import torch\n",
    "import torch.nn as nn\n",
    "import torch.optim as optim\n",
    "import torch.nn.functional as F\n",
    "from torch.utils.data import Dataset, DataLoader\n",
    "import torchvision.transforms as transforms\n",
    "\n",
    "#Swin Transformer and Model\n",
    "from timm.models.swin_transformer import swin_base_patch4_window7_224 as SwinTransformer\n",
    "from tqdm import tqdm\n",
    "import random\n",
    "import warnings\n",
    "\n",
    "\n",
    "warnings.filterwarnings(\"ignore\")"
   ]
  },
  {
   "cell_type": "code",
   "execution_count": 28,
   "id": "342deb88",
   "metadata": {},
   "outputs": [
    {
     "name": "stdout",
     "output_type": "stream",
     "text": [
      " Volume in drive C is OS\n",
      " Volume Serial Number is BED7-8903\n",
      "\n",
      " Directory of C:\\Users\\Dell\\.cache\\kagglehub\\datasets\\awsaf49\\brats20-dataset-training-validation\\versions\\1\\BraTS2020_TrainingData\\MICCAI_BraTS2020_TrainingData\n",
      "\n",
      "04-04-2025  11:45    <DIR>          .\n",
      "04-04-2025  11:45    <DIR>          ..\n",
      "04-04-2025  11:39    <DIR>          BraTS20_Training_001\n",
      "04-04-2025  11:39    <DIR>          BraTS20_Training_002\n",
      "04-04-2025  11:39    <DIR>          BraTS20_Training_003\n",
      "04-04-2025  11:39    <DIR>          BraTS20_Training_004\n",
      "04-04-2025  11:39    <DIR>          BraTS20_Training_005\n",
      "04-04-2025  11:39    <DIR>          BraTS20_Training_006\n",
      "04-04-2025  11:39    <DIR>          BraTS20_Training_007\n",
      "04-04-2025  11:39    <DIR>          BraTS20_Training_008\n",
      "04-04-2025  11:39    <DIR>          BraTS20_Training_009\n",
      "04-04-2025  11:39    <DIR>          BraTS20_Training_010\n",
      "04-04-2025  11:39    <DIR>          BraTS20_Training_011\n",
      "04-04-2025  11:39    <DIR>          BraTS20_Training_012\n",
      "04-04-2025  11:39    <DIR>          BraTS20_Training_013\n",
      "04-04-2025  11:39    <DIR>          BraTS20_Training_014\n",
      "04-04-2025  11:39    <DIR>          BraTS20_Training_015\n",
      "04-04-2025  11:39    <DIR>          BraTS20_Training_016\n",
      "04-04-2025  11:39    <DIR>          BraTS20_Training_017\n",
      "04-04-2025  11:39    <DIR>          BraTS20_Training_018\n",
      "04-04-2025  11:39    <DIR>          BraTS20_Training_019\n",
      "04-04-2025  11:39    <DIR>          BraTS20_Training_020\n",
      "04-04-2025  11:39    <DIR>          BraTS20_Training_021\n",
      "04-04-2025  11:39    <DIR>          BraTS20_Training_022\n",
      "04-04-2025  11:39    <DIR>          BraTS20_Training_023\n",
      "04-04-2025  11:39    <DIR>          BraTS20_Training_024\n",
      "04-04-2025  11:39    <DIR>          BraTS20_Training_025\n",
      "04-04-2025  11:39    <DIR>          BraTS20_Training_026\n",
      "04-04-2025  11:39    <DIR>          BraTS20_Training_027\n",
      "04-04-2025  11:39    <DIR>          BraTS20_Training_028\n",
      "04-04-2025  11:39    <DIR>          BraTS20_Training_029\n",
      "04-04-2025  11:39    <DIR>          BraTS20_Training_030\n",
      "04-04-2025  11:39    <DIR>          BraTS20_Training_031\n",
      "04-04-2025  11:39    <DIR>          BraTS20_Training_032\n",
      "04-04-2025  11:39    <DIR>          BraTS20_Training_033\n",
      "04-04-2025  11:39    <DIR>          BraTS20_Training_034\n",
      "04-04-2025  11:39    <DIR>          BraTS20_Training_035\n",
      "04-04-2025  11:39    <DIR>          BraTS20_Training_036\n",
      "04-04-2025  11:39    <DIR>          BraTS20_Training_037\n",
      "04-04-2025  11:39    <DIR>          BraTS20_Training_038\n",
      "04-04-2025  11:39    <DIR>          BraTS20_Training_039\n",
      "04-04-2025  11:39    <DIR>          BraTS20_Training_040\n",
      "04-04-2025  11:39    <DIR>          BraTS20_Training_041\n",
      "04-04-2025  11:39    <DIR>          BraTS20_Training_042\n",
      "04-04-2025  11:39    <DIR>          BraTS20_Training_043\n",
      "04-04-2025  11:39    <DIR>          BraTS20_Training_044\n",
      "04-04-2025  11:39    <DIR>          BraTS20_Training_045\n",
      "04-04-2025  11:39    <DIR>          BraTS20_Training_046\n",
      "04-04-2025  11:39    <DIR>          BraTS20_Training_047\n",
      "04-04-2025  11:39    <DIR>          BraTS20_Training_048\n",
      "04-04-2025  11:39    <DIR>          BraTS20_Training_049\n",
      "04-04-2025  11:39    <DIR>          BraTS20_Training_050\n",
      "04-04-2025  11:39    <DIR>          BraTS20_Training_051\n",
      "04-04-2025  11:39    <DIR>          BraTS20_Training_052\n",
      "04-04-2025  11:39    <DIR>          BraTS20_Training_053\n",
      "04-04-2025  11:39    <DIR>          BraTS20_Training_054\n",
      "04-04-2025  11:39    <DIR>          BraTS20_Training_055\n",
      "04-04-2025  11:39    <DIR>          BraTS20_Training_056\n",
      "04-04-2025  11:39    <DIR>          BraTS20_Training_057\n",
      "04-04-2025  11:39    <DIR>          BraTS20_Training_058\n",
      "04-04-2025  11:39    <DIR>          BraTS20_Training_059\n",
      "04-04-2025  11:39    <DIR>          BraTS20_Training_060\n",
      "04-04-2025  11:39    <DIR>          BraTS20_Training_061\n",
      "04-04-2025  11:39    <DIR>          BraTS20_Training_062\n",
      "04-04-2025  11:39    <DIR>          BraTS20_Training_063\n",
      "04-04-2025  11:39    <DIR>          BraTS20_Training_064\n",
      "04-04-2025  11:39    <DIR>          BraTS20_Training_065\n",
      "04-04-2025  11:39    <DIR>          BraTS20_Training_066\n",
      "04-04-2025  11:39    <DIR>          BraTS20_Training_067\n",
      "04-04-2025  11:39    <DIR>          BraTS20_Training_068\n",
      "04-04-2025  11:39    <DIR>          BraTS20_Training_069\n",
      "04-04-2025  11:39    <DIR>          BraTS20_Training_070\n",
      "04-04-2025  11:39    <DIR>          BraTS20_Training_071\n",
      "04-04-2025  11:39    <DIR>          BraTS20_Training_072\n",
      "04-04-2025  11:39    <DIR>          BraTS20_Training_073\n",
      "04-04-2025  11:39    <DIR>          BraTS20_Training_074\n",
      "04-04-2025  11:39    <DIR>          BraTS20_Training_075\n",
      "04-04-2025  11:39    <DIR>          BraTS20_Training_076\n",
      "04-04-2025  11:39    <DIR>          BraTS20_Training_077\n",
      "04-04-2025  11:39    <DIR>          BraTS20_Training_078\n",
      "04-04-2025  11:39    <DIR>          BraTS20_Training_079\n",
      "04-04-2025  11:39    <DIR>          BraTS20_Training_080\n",
      "04-04-2025  11:39    <DIR>          BraTS20_Training_081\n",
      "04-04-2025  11:39    <DIR>          BraTS20_Training_082\n",
      "04-04-2025  11:39    <DIR>          BraTS20_Training_083\n",
      "04-04-2025  11:39    <DIR>          BraTS20_Training_084\n",
      "04-04-2025  11:39    <DIR>          BraTS20_Training_085\n",
      "04-04-2025  11:39    <DIR>          BraTS20_Training_086\n",
      "04-04-2025  11:39    <DIR>          BraTS20_Training_087\n",
      "04-04-2025  11:39    <DIR>          BraTS20_Training_088\n",
      "04-04-2025  11:39    <DIR>          BraTS20_Training_089\n",
      "04-04-2025  11:39    <DIR>          BraTS20_Training_090\n",
      "04-04-2025  11:39    <DIR>          BraTS20_Training_091\n",
      "04-04-2025  11:39    <DIR>          BraTS20_Training_092\n",
      "04-04-2025  11:39    <DIR>          BraTS20_Training_093\n",
      "04-04-2025  11:39    <DIR>          BraTS20_Training_094\n",
      "04-04-2025  11:39    <DIR>          BraTS20_Training_095\n",
      "04-04-2025  11:39    <DIR>          BraTS20_Training_096\n",
      "04-04-2025  11:39    <DIR>          BraTS20_Training_097\n",
      "04-04-2025  11:39    <DIR>          BraTS20_Training_098\n",
      "04-04-2025  11:39    <DIR>          BraTS20_Training_099\n",
      "04-04-2025  11:39    <DIR>          BraTS20_Training_100\n",
      "04-04-2025  11:39    <DIR>          BraTS20_Training_101\n",
      "04-04-2025  11:39    <DIR>          BraTS20_Training_102\n",
      "04-04-2025  11:39    <DIR>          BraTS20_Training_103\n",
      "04-04-2025  11:39    <DIR>          BraTS20_Training_104\n",
      "04-04-2025  11:39    <DIR>          BraTS20_Training_105\n",
      "04-04-2025  11:39    <DIR>          BraTS20_Training_106\n",
      "04-04-2025  11:39    <DIR>          BraTS20_Training_107\n",
      "04-04-2025  11:39    <DIR>          BraTS20_Training_108\n",
      "04-04-2025  11:39    <DIR>          BraTS20_Training_109\n",
      "04-04-2025  11:39    <DIR>          BraTS20_Training_110\n",
      "04-04-2025  11:39    <DIR>          BraTS20_Training_111\n",
      "04-04-2025  11:39    <DIR>          BraTS20_Training_112\n",
      "04-04-2025  11:39    <DIR>          BraTS20_Training_113\n",
      "04-04-2025  11:39    <DIR>          BraTS20_Training_114\n",
      "04-04-2025  11:39    <DIR>          BraTS20_Training_115\n",
      "04-04-2025  11:39    <DIR>          BraTS20_Training_116\n",
      "04-04-2025  11:39    <DIR>          BraTS20_Training_117\n",
      "04-04-2025  11:39    <DIR>          BraTS20_Training_118\n",
      "04-04-2025  11:39    <DIR>          BraTS20_Training_119\n",
      "04-04-2025  11:39    <DIR>          BraTS20_Training_120\n",
      "04-04-2025  11:39    <DIR>          BraTS20_Training_121\n",
      "04-04-2025  11:39    <DIR>          BraTS20_Training_122\n",
      "04-04-2025  11:39    <DIR>          BraTS20_Training_123\n",
      "04-04-2025  11:39    <DIR>          BraTS20_Training_124\n",
      "04-04-2025  11:39    <DIR>          BraTS20_Training_125\n",
      "04-04-2025  11:39    <DIR>          BraTS20_Training_126\n",
      "04-04-2025  11:39    <DIR>          BraTS20_Training_127\n",
      "04-04-2025  11:39    <DIR>          BraTS20_Training_128\n",
      "04-04-2025  11:39    <DIR>          BraTS20_Training_129\n",
      "04-04-2025  11:39    <DIR>          BraTS20_Training_130\n",
      "04-04-2025  11:39    <DIR>          BraTS20_Training_131\n",
      "04-04-2025  11:39    <DIR>          BraTS20_Training_132\n",
      "04-04-2025  11:39    <DIR>          BraTS20_Training_133\n",
      "04-04-2025  11:39    <DIR>          BraTS20_Training_134\n",
      "04-04-2025  11:39    <DIR>          BraTS20_Training_135\n",
      "04-04-2025  11:39    <DIR>          BraTS20_Training_136\n",
      "04-04-2025  11:39    <DIR>          BraTS20_Training_137\n",
      "04-04-2025  11:39    <DIR>          BraTS20_Training_138\n",
      "04-04-2025  11:39    <DIR>          BraTS20_Training_139\n",
      "04-04-2025  11:39    <DIR>          BraTS20_Training_140\n",
      "04-04-2025  11:39    <DIR>          BraTS20_Training_141\n",
      "04-04-2025  11:39    <DIR>          BraTS20_Training_142\n",
      "04-04-2025  11:39    <DIR>          BraTS20_Training_143\n",
      "04-04-2025  11:39    <DIR>          BraTS20_Training_144\n",
      "04-04-2025  11:39    <DIR>          BraTS20_Training_145\n",
      "04-04-2025  11:39    <DIR>          BraTS20_Training_146\n",
      "04-04-2025  11:39    <DIR>          BraTS20_Training_147\n",
      "04-04-2025  11:39    <DIR>          BraTS20_Training_148\n",
      "04-04-2025  11:39    <DIR>          BraTS20_Training_149\n",
      "04-04-2025  11:39    <DIR>          BraTS20_Training_150\n",
      "04-04-2025  11:39    <DIR>          BraTS20_Training_151\n",
      "04-04-2025  11:39    <DIR>          BraTS20_Training_152\n",
      "04-04-2025  11:39    <DIR>          BraTS20_Training_153\n",
      "04-04-2025  11:39    <DIR>          BraTS20_Training_154\n",
      "04-04-2025  11:39    <DIR>          BraTS20_Training_155\n",
      "04-04-2025  11:39    <DIR>          BraTS20_Training_156\n",
      "04-04-2025  11:39    <DIR>          BraTS20_Training_157\n",
      "04-04-2025  11:39    <DIR>          BraTS20_Training_158\n",
      "04-04-2025  11:39    <DIR>          BraTS20_Training_159\n",
      "04-04-2025  11:39    <DIR>          BraTS20_Training_160\n",
      "04-04-2025  11:39    <DIR>          BraTS20_Training_161\n",
      "04-04-2025  11:39    <DIR>          BraTS20_Training_162\n",
      "04-04-2025  11:39    <DIR>          BraTS20_Training_163\n",
      "04-04-2025  11:39    <DIR>          BraTS20_Training_164\n",
      "04-04-2025  11:39    <DIR>          BraTS20_Training_165\n",
      "04-04-2025  11:39    <DIR>          BraTS20_Training_166\n",
      "04-04-2025  11:39    <DIR>          BraTS20_Training_167\n",
      "04-04-2025  11:39    <DIR>          BraTS20_Training_168\n",
      "04-04-2025  11:39    <DIR>          BraTS20_Training_169\n",
      "04-04-2025  11:39    <DIR>          BraTS20_Training_170\n",
      "04-04-2025  11:39    <DIR>          BraTS20_Training_171\n",
      "04-04-2025  11:39    <DIR>          BraTS20_Training_172\n",
      "04-04-2025  11:39    <DIR>          BraTS20_Training_173\n",
      "04-04-2025  11:39    <DIR>          BraTS20_Training_174\n",
      "04-04-2025  11:39    <DIR>          BraTS20_Training_175\n",
      "04-04-2025  11:39    <DIR>          BraTS20_Training_176\n",
      "04-04-2025  11:39    <DIR>          BraTS20_Training_177\n",
      "04-04-2025  11:39    <DIR>          BraTS20_Training_178\n",
      "04-04-2025  11:39    <DIR>          BraTS20_Training_179\n",
      "04-04-2025  11:39    <DIR>          BraTS20_Training_180\n",
      "04-04-2025  11:39    <DIR>          BraTS20_Training_181\n",
      "04-04-2025  11:39    <DIR>          BraTS20_Training_182\n",
      "04-04-2025  11:39    <DIR>          BraTS20_Training_183\n",
      "04-04-2025  11:39    <DIR>          BraTS20_Training_184\n",
      "04-04-2025  11:39    <DIR>          BraTS20_Training_185\n",
      "04-04-2025  11:39    <DIR>          BraTS20_Training_186\n",
      "04-04-2025  11:39    <DIR>          BraTS20_Training_187\n",
      "04-04-2025  11:39    <DIR>          BraTS20_Training_188\n",
      "04-04-2025  11:39    <DIR>          BraTS20_Training_189\n",
      "04-04-2025  11:39    <DIR>          BraTS20_Training_190\n",
      "04-04-2025  11:39    <DIR>          BraTS20_Training_191\n",
      "04-04-2025  11:39    <DIR>          BraTS20_Training_192\n",
      "04-04-2025  11:39    <DIR>          BraTS20_Training_193\n",
      "04-04-2025  11:39    <DIR>          BraTS20_Training_194\n",
      "04-04-2025  11:39    <DIR>          BraTS20_Training_195\n",
      "04-04-2025  11:39    <DIR>          BraTS20_Training_196\n",
      "04-04-2025  11:39    <DIR>          BraTS20_Training_197\n",
      "04-04-2025  11:39    <DIR>          BraTS20_Training_198\n",
      "04-04-2025  11:39    <DIR>          BraTS20_Training_199\n",
      "04-04-2025  11:39    <DIR>          BraTS20_Training_200\n",
      "04-04-2025  11:39    <DIR>          BraTS20_Training_201\n",
      "04-04-2025  11:39    <DIR>          BraTS20_Training_202\n",
      "04-04-2025  11:39    <DIR>          BraTS20_Training_203\n",
      "04-04-2025  11:39    <DIR>          BraTS20_Training_204\n",
      "04-04-2025  11:39    <DIR>          BraTS20_Training_205\n",
      "04-04-2025  11:39    <DIR>          BraTS20_Training_206\n",
      "04-04-2025  11:39    <DIR>          BraTS20_Training_207\n",
      "04-04-2025  11:39    <DIR>          BraTS20_Training_208\n",
      "04-04-2025  11:39    <DIR>          BraTS20_Training_209\n",
      "04-04-2025  11:39    <DIR>          BraTS20_Training_210\n",
      "04-04-2025  11:39    <DIR>          BraTS20_Training_211\n",
      "04-04-2025  11:39    <DIR>          BraTS20_Training_212\n",
      "04-04-2025  11:39    <DIR>          BraTS20_Training_213\n",
      "04-04-2025  11:39    <DIR>          BraTS20_Training_214\n",
      "04-04-2025  11:39    <DIR>          BraTS20_Training_215\n",
      "04-04-2025  11:39    <DIR>          BraTS20_Training_216\n",
      "04-04-2025  11:40    <DIR>          BraTS20_Training_217\n",
      "04-04-2025  11:40    <DIR>          BraTS20_Training_218\n",
      "04-04-2025  11:40    <DIR>          BraTS20_Training_219\n",
      "04-04-2025  11:40    <DIR>          BraTS20_Training_220\n",
      "04-04-2025  11:40    <DIR>          BraTS20_Training_221\n",
      "04-04-2025  11:40    <DIR>          BraTS20_Training_222\n",
      "04-04-2025  11:40    <DIR>          BraTS20_Training_223\n",
      "04-04-2025  11:40    <DIR>          BraTS20_Training_224\n",
      "04-04-2025  11:40    <DIR>          BraTS20_Training_225\n",
      "04-04-2025  11:40    <DIR>          BraTS20_Training_226\n",
      "04-04-2025  11:40    <DIR>          BraTS20_Training_227\n",
      "04-04-2025  11:40    <DIR>          BraTS20_Training_228\n",
      "04-04-2025  11:40    <DIR>          BraTS20_Training_229\n",
      "04-04-2025  11:40    <DIR>          BraTS20_Training_230\n",
      "04-04-2025  11:40    <DIR>          BraTS20_Training_231\n",
      "04-04-2025  11:40    <DIR>          BraTS20_Training_232\n",
      "04-04-2025  11:40    <DIR>          BraTS20_Training_233\n",
      "04-04-2025  11:40    <DIR>          BraTS20_Training_234\n",
      "04-04-2025  11:40    <DIR>          BraTS20_Training_235\n",
      "04-04-2025  11:40    <DIR>          BraTS20_Training_236\n",
      "04-04-2025  11:40    <DIR>          BraTS20_Training_237\n",
      "04-04-2025  11:40    <DIR>          BraTS20_Training_238\n",
      "04-04-2025  11:40    <DIR>          BraTS20_Training_239\n",
      "04-04-2025  11:40    <DIR>          BraTS20_Training_240\n",
      "04-04-2025  11:40    <DIR>          BraTS20_Training_241\n",
      "04-04-2025  11:40    <DIR>          BraTS20_Training_242\n",
      "04-04-2025  11:40    <DIR>          BraTS20_Training_243\n",
      "04-04-2025  11:40    <DIR>          BraTS20_Training_244\n",
      "04-04-2025  11:40    <DIR>          BraTS20_Training_245\n",
      "04-04-2025  11:40    <DIR>          BraTS20_Training_246\n",
      "04-04-2025  11:40    <DIR>          BraTS20_Training_247\n",
      "04-04-2025  11:40    <DIR>          BraTS20_Training_248\n",
      "04-04-2025  11:40    <DIR>          BraTS20_Training_249\n",
      "04-04-2025  11:40    <DIR>          BraTS20_Training_250\n",
      "04-04-2025  11:40    <DIR>          BraTS20_Training_251\n",
      "04-04-2025  11:40    <DIR>          BraTS20_Training_252\n",
      "04-04-2025  11:40    <DIR>          BraTS20_Training_253\n",
      "04-04-2025  11:40    <DIR>          BraTS20_Training_254\n",
      "04-04-2025  11:40    <DIR>          BraTS20_Training_255\n",
      "04-04-2025  11:40    <DIR>          BraTS20_Training_256\n",
      "04-04-2025  11:40    <DIR>          BraTS20_Training_257\n",
      "04-04-2025  11:40    <DIR>          BraTS20_Training_258\n",
      "04-04-2025  11:40    <DIR>          BraTS20_Training_259\n",
      "04-04-2025  11:40    <DIR>          BraTS20_Training_260\n",
      "04-04-2025  11:40    <DIR>          BraTS20_Training_261\n",
      "04-04-2025  11:40    <DIR>          BraTS20_Training_262\n",
      "04-04-2025  11:40    <DIR>          BraTS20_Training_263\n",
      "04-04-2025  11:40    <DIR>          BraTS20_Training_264\n",
      "04-04-2025  11:40    <DIR>          BraTS20_Training_265\n",
      "04-04-2025  11:40    <DIR>          BraTS20_Training_266\n",
      "04-04-2025  11:40    <DIR>          BraTS20_Training_267\n",
      "04-04-2025  11:40    <DIR>          BraTS20_Training_268\n",
      "04-04-2025  11:40    <DIR>          BraTS20_Training_269\n",
      "04-04-2025  11:40    <DIR>          BraTS20_Training_270\n",
      "04-04-2025  11:40    <DIR>          BraTS20_Training_271\n",
      "04-04-2025  11:40    <DIR>          BraTS20_Training_272\n",
      "04-04-2025  11:40    <DIR>          BraTS20_Training_273\n",
      "04-04-2025  11:40    <DIR>          BraTS20_Training_274\n",
      "04-04-2025  11:40    <DIR>          BraTS20_Training_275\n",
      "04-04-2025  11:40    <DIR>          BraTS20_Training_276\n",
      "04-04-2025  11:40    <DIR>          BraTS20_Training_277\n",
      "04-04-2025  11:40    <DIR>          BraTS20_Training_278\n",
      "04-04-2025  11:40    <DIR>          BraTS20_Training_279\n",
      "04-04-2025  11:40    <DIR>          BraTS20_Training_280\n",
      "04-04-2025  11:40    <DIR>          BraTS20_Training_281\n",
      "04-04-2025  11:40    <DIR>          BraTS20_Training_282\n",
      "04-04-2025  11:40    <DIR>          BraTS20_Training_283\n",
      "04-04-2025  11:40    <DIR>          BraTS20_Training_284\n",
      "04-04-2025  11:40    <DIR>          BraTS20_Training_285\n",
      "04-04-2025  11:40    <DIR>          BraTS20_Training_286\n",
      "04-04-2025  11:40    <DIR>          BraTS20_Training_287\n",
      "04-04-2025  11:40    <DIR>          BraTS20_Training_288\n",
      "04-04-2025  11:40    <DIR>          BraTS20_Training_289\n",
      "04-04-2025  11:40    <DIR>          BraTS20_Training_290\n",
      "04-04-2025  11:40    <DIR>          BraTS20_Training_291\n",
      "04-04-2025  11:40    <DIR>          BraTS20_Training_292\n",
      "04-04-2025  11:40    <DIR>          BraTS20_Training_293\n",
      "04-04-2025  11:40    <DIR>          BraTS20_Training_294\n",
      "04-04-2025  11:40    <DIR>          BraTS20_Training_295\n",
      "04-04-2025  11:40    <DIR>          BraTS20_Training_296\n",
      "04-04-2025  11:40    <DIR>          BraTS20_Training_297\n",
      "04-04-2025  11:40    <DIR>          BraTS20_Training_298\n",
      "04-04-2025  11:40    <DIR>          BraTS20_Training_299\n",
      "04-04-2025  11:40    <DIR>          BraTS20_Training_300\n",
      "04-04-2025  11:40    <DIR>          BraTS20_Training_301\n",
      "04-04-2025  11:40    <DIR>          BraTS20_Training_302\n",
      "04-04-2025  11:40    <DIR>          BraTS20_Training_303\n",
      "04-04-2025  11:40    <DIR>          BraTS20_Training_304\n",
      "04-04-2025  11:40    <DIR>          BraTS20_Training_305\n",
      "04-04-2025  11:40    <DIR>          BraTS20_Training_306\n",
      "04-04-2025  11:40    <DIR>          BraTS20_Training_307\n",
      "04-04-2025  11:40    <DIR>          BraTS20_Training_308\n",
      "04-04-2025  11:40    <DIR>          BraTS20_Training_309\n",
      "04-04-2025  11:40    <DIR>          BraTS20_Training_310\n",
      "04-04-2025  11:40    <DIR>          BraTS20_Training_311\n",
      "04-04-2025  11:40    <DIR>          BraTS20_Training_312\n",
      "04-04-2025  11:40    <DIR>          BraTS20_Training_313\n",
      "04-04-2025  11:40    <DIR>          BraTS20_Training_314\n",
      "04-04-2025  11:40    <DIR>          BraTS20_Training_315\n",
      "04-04-2025  11:40    <DIR>          BraTS20_Training_316\n",
      "04-04-2025  11:40    <DIR>          BraTS20_Training_317\n",
      "04-04-2025  11:40    <DIR>          BraTS20_Training_318\n",
      "04-04-2025  11:40    <DIR>          BraTS20_Training_319\n",
      "04-04-2025  11:40    <DIR>          BraTS20_Training_320\n",
      "04-04-2025  11:40    <DIR>          BraTS20_Training_321\n",
      "04-04-2025  11:40    <DIR>          BraTS20_Training_322\n",
      "04-04-2025  11:40    <DIR>          BraTS20_Training_323\n",
      "04-04-2025  11:40    <DIR>          BraTS20_Training_324\n",
      "04-04-2025  11:40    <DIR>          BraTS20_Training_325\n",
      "04-04-2025  11:40    <DIR>          BraTS20_Training_326\n",
      "04-04-2025  11:40    <DIR>          BraTS20_Training_327\n",
      "04-04-2025  11:40    <DIR>          BraTS20_Training_328\n",
      "04-04-2025  11:40    <DIR>          BraTS20_Training_329\n",
      "04-04-2025  11:40    <DIR>          BraTS20_Training_330\n",
      "04-04-2025  11:40    <DIR>          BraTS20_Training_331\n",
      "04-04-2025  11:40    <DIR>          BraTS20_Training_332\n",
      "04-04-2025  11:40    <DIR>          BraTS20_Training_333\n",
      "04-04-2025  11:40    <DIR>          BraTS20_Training_334\n",
      "04-04-2025  11:40    <DIR>          BraTS20_Training_335\n",
      "04-04-2025  11:40    <DIR>          BraTS20_Training_336\n",
      "04-04-2025  11:40    <DIR>          BraTS20_Training_337\n",
      "04-04-2025  11:40    <DIR>          BraTS20_Training_338\n",
      "04-04-2025  11:40    <DIR>          BraTS20_Training_339\n",
      "04-04-2025  11:40    <DIR>          BraTS20_Training_340\n",
      "04-04-2025  11:40    <DIR>          BraTS20_Training_341\n",
      "04-04-2025  11:40    <DIR>          BraTS20_Training_342\n",
      "04-04-2025  11:40    <DIR>          BraTS20_Training_343\n",
      "04-04-2025  11:40    <DIR>          BraTS20_Training_344\n",
      "04-04-2025  11:40    <DIR>          BraTS20_Training_345\n",
      "04-04-2025  11:40    <DIR>          BraTS20_Training_346\n",
      "04-04-2025  11:40    <DIR>          BraTS20_Training_347\n",
      "04-04-2025  11:40    <DIR>          BraTS20_Training_348\n",
      "04-04-2025  11:40    <DIR>          BraTS20_Training_349\n",
      "04-04-2025  11:40    <DIR>          BraTS20_Training_350\n",
      "04-04-2025  11:40    <DIR>          BraTS20_Training_351\n",
      "04-04-2025  11:40    <DIR>          BraTS20_Training_352\n",
      "04-04-2025  11:40    <DIR>          BraTS20_Training_353\n",
      "04-04-2025  11:40    <DIR>          BraTS20_Training_354\n",
      "04-04-2025  11:40    <DIR>          BraTS20_Training_355\n",
      "04-04-2025  11:40    <DIR>          BraTS20_Training_356\n",
      "04-04-2025  11:40    <DIR>          BraTS20_Training_357\n",
      "04-04-2025  11:40    <DIR>          BraTS20_Training_358\n",
      "04-04-2025  11:40    <DIR>          BraTS20_Training_359\n",
      "04-04-2025  11:40    <DIR>          BraTS20_Training_360\n",
      "04-04-2025  11:40    <DIR>          BraTS20_Training_361\n",
      "04-04-2025  11:40    <DIR>          BraTS20_Training_362\n",
      "04-04-2025  11:40    <DIR>          BraTS20_Training_363\n",
      "04-04-2025  11:40    <DIR>          BraTS20_Training_364\n",
      "04-04-2025  11:40    <DIR>          BraTS20_Training_365\n",
      "04-04-2025  11:40    <DIR>          BraTS20_Training_366\n",
      "04-04-2025  11:40    <DIR>          BraTS20_Training_367\n",
      "04-04-2025  11:40    <DIR>          BraTS20_Training_368\n",
      "04-04-2025  11:40    <DIR>          BraTS20_Training_369\n",
      "               0 File(s)              0 bytes\n",
      "             371 Dir(s)  682,575,818,752 bytes free\n"
     ]
    }
   ],
   "source": [
    "ls  C:\\Users\\Dell\\.cache\\kagglehub\\datasets\\awsaf49\\brats20-dataset-training-validation\\versions\\1\\BraTS2020_TrainingData\\MICCAI_BraTS2020_TrainingData"
   ]
  },
  {
   "cell_type": "code",
   "execution_count": 29,
   "id": "4381b6ca",
   "metadata": {},
   "outputs": [
    {
     "name": "stdout",
     "output_type": "stream",
     "text": [
      "🔍 Checking Dataset Path...\n",
      "['BraTS20_Training_001', 'BraTS20_Training_002', 'BraTS20_Training_003', 'BraTS20_Training_004', 'BraTS20_Training_005']\n"
     ]
    }
   ],
   "source": [
    "import os\n",
    "\n",
    "DATASET_PATH = r\"C:\\Users\\Dell\\.cache\\kagglehub\\datasets\\awsaf49\\brats20-dataset-training-validation\\versions\\1\\BraTS2020_TrainingData\\MICCAI_BraTS2020_TrainingData\"\n",
    "\n",
    "\n",
    "print(\"🔍 Checking Dataset Path...\")\n",
    "print(os.listdir(DATASET_PATH)[:5])"
   ]
  },
  {
   "cell_type": "code",
   "execution_count": 30,
   "id": "5a6e3646",
   "metadata": {},
   "outputs": [
    {
     "name": "stdout",
     "output_type": "stream",
     "text": [
      "\n",
      "🔍 Checking BraTS20_Training_001...\n",
      "✅ flair: ['BraTS20_Training_001_flair.nii']\n",
      "✅ t1: ['BraTS20_Training_001_t1.nii', 'BraTS20_Training_001_t1ce.nii']\n",
      "✅ t1ce: ['BraTS20_Training_001_t1ce.nii']\n",
      "✅ t2: ['BraTS20_Training_001_t2.nii']\n",
      "✅ seg: ['BraTS20_Training_001_seg.nii']\n",
      "\n",
      "🔍 Checking BraTS20_Training_002...\n",
      "✅ flair: ['BraTS20_Training_002_flair.nii']\n",
      "✅ t1: ['BraTS20_Training_002_t1.nii', 'BraTS20_Training_002_t1ce.nii']\n",
      "✅ t1ce: ['BraTS20_Training_002_t1ce.nii']\n",
      "✅ t2: ['BraTS20_Training_002_t2.nii']\n",
      "✅ seg: ['BraTS20_Training_002_seg.nii']\n",
      "\n",
      "🔍 Checking BraTS20_Training_003...\n",
      "✅ flair: ['BraTS20_Training_003_flair.nii']\n",
      "✅ t1: ['BraTS20_Training_003_t1.nii', 'BraTS20_Training_003_t1ce.nii']\n",
      "✅ t1ce: ['BraTS20_Training_003_t1ce.nii']\n",
      "✅ t2: ['BraTS20_Training_003_t2.nii']\n",
      "✅ seg: ['BraTS20_Training_003_seg.nii']\n",
      "\n",
      "🔍 Checking BraTS20_Training_004...\n",
      "✅ flair: ['BraTS20_Training_004_flair.nii']\n",
      "✅ t1: ['BraTS20_Training_004_t1.nii', 'BraTS20_Training_004_t1ce.nii']\n",
      "✅ t1ce: ['BraTS20_Training_004_t1ce.nii']\n",
      "✅ t2: ['BraTS20_Training_004_t2.nii']\n",
      "✅ seg: ['BraTS20_Training_004_seg.nii']\n",
      "\n",
      "🔍 Checking BraTS20_Training_005...\n",
      "✅ flair: ['BraTS20_Training_005_flair.nii']\n",
      "✅ t1: ['BraTS20_Training_005_t1.nii', 'BraTS20_Training_005_t1ce.nii']\n",
      "✅ t1ce: ['BraTS20_Training_005_t1ce.nii']\n",
      "✅ t2: ['BraTS20_Training_005_t2.nii']\n",
      "✅ seg: ['BraTS20_Training_005_seg.nii']\n"
     ]
    }
   ],
   "source": [
    "for patient in os.listdir(DATASET_PATH)[:5]:  # Check first 5 patients\n",
    "    patient_path = os.path.join(DATASET_PATH, patient)\n",
    "\n",
    "    print(f\"\\n🔍 Checking {patient}...\")\n",
    "\n",
    "    for mod in [\"flair\", \"t1\", \"t1ce\", \"t2\", \"seg\"]:\n",
    "        files = [f for f in os.listdir(patient_path) if mod in f]\n",
    "        if files:\n",
    "            print(f\"✅ {mod}: {files}\")\n",
    "        else:\n",
    "            print(f\"❌ Missing {mod}!\")"
   ]
  },
  {
   "cell_type": "code",
   "execution_count": 31,
   "id": "f555d844",
   "metadata": {},
   "outputs": [
    {
     "name": "stdout",
     "output_type": "stream",
     "text": [
      "✅ Loading: C:\\Users\\Dell\\.cache\\kagglehub\\datasets\\awsaf49\\brats20-dataset-training-validation\\versions\\1\\BraTS2020_TrainingData\\MICCAI_BraTS2020_TrainingData\\BraTS20_Training_001\\BraTS20_Training_001_flair.nii\n",
      "✅ Loading: C:\\Users\\Dell\\.cache\\kagglehub\\datasets\\awsaf49\\brats20-dataset-training-validation\\versions\\1\\BraTS2020_TrainingData\\MICCAI_BraTS2020_TrainingData\\BraTS20_Training_001\\BraTS20_Training_001_t1.nii\n",
      "✅ Loading: C:\\Users\\Dell\\.cache\\kagglehub\\datasets\\awsaf49\\brats20-dataset-training-validation\\versions\\1\\BraTS2020_TrainingData\\MICCAI_BraTS2020_TrainingData\\BraTS20_Training_001\\BraTS20_Training_001_t1ce.nii\n",
      "✅ Loading: C:\\Users\\Dell\\.cache\\kagglehub\\datasets\\awsaf49\\brats20-dataset-training-validation\\versions\\1\\BraTS2020_TrainingData\\MICCAI_BraTS2020_TrainingData\\BraTS20_Training_001\\BraTS20_Training_001_t2.nii\n",
      "✅ Loading: C:\\Users\\Dell\\.cache\\kagglehub\\datasets\\awsaf49\\brats20-dataset-training-validation\\versions\\1\\BraTS2020_TrainingData\\MICCAI_BraTS2020_TrainingData\\BraTS20_Training_001\\BraTS20_Training_001_seg.nii\n",
      "\n",
      "🧠 **Image Shapes:**\n",
      "Flair: (240, 240, 155), T1: (240, 240, 155), T1ce: (240, 240, 155), T2: (240, 240, 155)\n",
      "Segmentation Mask: (240, 240, 155)\n",
      "\n",
      "📌 **Converted to Tensor:**\n",
      "Image Tensor Shape: torch.Size([4, 240, 240, 155])\n",
      "Mask Tensor Shape: torch.Size([240, 240, 155])\n"
     ]
    }
   ],
   "source": [
    "import nibabel as nib\n",
    "import numpy as np\n",
    "import os\n",
    "import torch\n",
    "\n",
    "\n",
    "PATIENT = \"BraTS20_Training_001\"\n",
    "PATIENT_PATH = os.path.join(DATASET_PATH, PATIENT)\n",
    "\n",
    "# Function to Load NIfTI\n",
    "def load_nii(file_path):\n",
    "    print(f\"✅ Loading: {file_path}\")\n",
    "    return nib.load(file_path).get_fdata()\n",
    "\n",
    "# Load Image Modalities\n",
    "flair = load_nii(os.path.join(PATIENT_PATH, f\"{PATIENT}_flair.nii\"))\n",
    "t1 = load_nii(os.path.join(PATIENT_PATH, f\"{PATIENT}_t1.nii\"))\n",
    "t1ce = load_nii(os.path.join(PATIENT_PATH, f\"{PATIENT}_t1ce.nii\"))\n",
    "t2 = load_nii(os.path.join(PATIENT_PATH, f\"{PATIENT}_t2.nii\"))\n",
    "seg = load_nii(os.path.join(PATIENT_PATH, f\"{PATIENT}_seg.nii\"))\n",
    "\n",
    "print(f\"\\n🧠 **Image Shapes:**\")\n",
    "print(f\"Flair: {flair.shape}, T1: {t1.shape}, T1ce: {t1ce.shape}, T2: {t2.shape}\")\n",
    "print(f\"Segmentation Mask: {seg.shape}\")\n",
    "\n",
    "\n",
    "image = np.stack([flair, t1, t1ce, t2], axis=0)\n",
    "image_tensor = torch.tensor(image, dtype=torch.float32)\n",
    "mask_tensor = torch.tensor(seg, dtype=torch.long)\n",
    "\n",
    "print(f\"\\n📌 **Converted to Tensor:**\")\n",
    "print(f\"Image Tensor Shape: {image_tensor.shape}\")\n",
    "print(f\"Mask Tensor Shape: {mask_tensor.shape}\")\n"
   ]
  },
  {
   "cell_type": "code",
   "execution_count": 32,
   "id": "cc9a78ea",
   "metadata": {},
   "outputs": [],
   "source": [
    "from torch.utils.data import Dataset\n",
    "import os, glob\n",
    "import torch\n",
    "import numpy as np\n",
    "import nibabel as nib\n",
    "import torch.nn.functional as F\n",
    "from torchvision import transforms\n",
    "\n",
    "class BraTSDataset(Dataset):\n",
    "    def __init__(self, dataset_path):\n",
    "        self.dataset_path = dataset_path\n",
    "        self.modalities = [\"flair\", \"t1\", \"t1ce\", \"t2\"]\n",
    "        self.patients = []\n",
    "\n",
    "        # Pretrained model normalization (ImageNet)\n",
    "        self.img_transform = transforms.Normalize(\n",
    "            mean=[0.485, 0.456, 0.406],\n",
    "            std=[0.229, 0.224, 0.225]\n",
    "        )\n",
    "\n",
    "        all_patients = sorted(os.listdir(dataset_path))\n",
    "        for patient in all_patients:\n",
    "            patient_path = os.path.join(dataset_path, patient)\n",
    "            try:\n",
    "                _ = [self.load_nii(patient_path, mod) for mod in self.modalities]\n",
    "                _ = self.load_nii(patient_path, \"seg\")\n",
    "                self.patients.append(patient)\n",
    "            except:\n",
    "                print(f\"⚠️ Skipping {patient} in init due to missing files\")\n",
    "\n",
    "    def __len__(self):\n",
    "        return len(self.patients)\n",
    "\n",
    "    def load_nii(self, patient_folder, modality):\n",
    "        possible_files = glob.glob(os.path.join(patient_folder, f\"*{modality}*.nii*\"))\n",
    "        if not possible_files and modality == \"t1\":\n",
    "            possible_files = glob.glob(os.path.join(patient_folder, f\"*ROI*{modality}*.nii*\"))\n",
    "        if not possible_files:\n",
    "            raise FileNotFoundError(f\"❌ No file found for modality '{modality}' in {patient_folder}\")\n",
    "        possible_files.sort(key=lambda x: x.endswith(\".gz\"), reverse=True)\n",
    "        file_path = possible_files[0]\n",
    "        return nib.load(file_path).get_fdata()\n",
    "\n",
    "    def __getitem__(self, idx):\n",
    "        patient = self.patients[idx]\n",
    "        patient_path = os.path.join(self.dataset_path, patient)\n",
    "\n",
    "        try:\n",
    "            # Only load the first 3 modalities (flair, t1, t2)\n",
    "            images = [self.load_nii(patient_path, mod) for mod in self.modalities[:3]]  # [3, 240, 240, 155]\n",
    "            images = np.stack(images, axis=0)  # [3, 240, 240, 155]\n",
    "\n",
    "            mask = self.load_nii(patient_path, \"seg\")  # [240, 240, 155]\n",
    "            slice_idx = mask.shape[-1] // 2\n",
    "\n",
    "            # Select the slice and create a 3-channel image\n",
    "            image = images[:, :, :, slice_idx]  # [3, 240, 240]\n",
    "            mask = mask[:, :, slice_idx]         # [240, 240]\n",
    "\n",
    "            # Normalize image to [0, 1]\n",
    "            image = image.astype(np.float32)\n",
    "            image = (image - image.min()) / (image.max() - image.min() + 1e-8)\n",
    "\n",
    "            # Convert to torch tensor\n",
    "            image_tensor = torch.tensor(image, dtype=torch.float32)  # [3, 240, 240]\n",
    "            mask_tensor = torch.tensor(mask, dtype=torch.long)       # [240, 240]\n",
    "\n",
    "            # Resize both to 224x224\n",
    "            image_tensor = F.interpolate(image_tensor.unsqueeze(0), size=(224, 224), mode=\"bilinear\", align_corners=False).squeeze(0)\n",
    "            mask_tensor = mask_tensor.unsqueeze(0).unsqueeze(0).float()\n",
    "            mask_tensor = F.interpolate(mask_tensor, size=(224, 224), mode=\"nearest\").squeeze(0).squeeze(0).long()\n",
    "\n",
    "            # Apply normalization for pretrained model\n",
    "            image_tensor = self.img_transform(image_tensor)\n",
    "\n",
    "            print(f\"✅ Loaded {patient}: Image {image_tensor.shape}, Mask {mask_tensor.shape}\")\n",
    "            return image_tensor, mask_tensor\n",
    "\n",
    "        except FileNotFoundError as e:\n",
    "            print(f\"⚠️ Skipping {patient} due to missing files: {e}\")\n",
    "            return None\n",
    "\n",
    "\n",
    "# ➕ Custom collate_fn to skip Nones in batches\n",
    "def skip_none_collate(batch):\n",
    "    batch = [b for b in batch if b is not None]\n",
    "    if len(batch) == 0:\n",
    "        return torch.empty(0), torch.empty(0, dtype=torch.long)\n",
    "    return torch.utils.data.dataloader.default_collate(batch)\n"
   ]
  },
  {
   "cell_type": "code",
   "execution_count": 33,
   "id": "b7db8507",
   "metadata": {},
   "outputs": [
    {
     "name": "stdout",
     "output_type": "stream",
     "text": [
      "✅ Loaded BraTS20_Training_001: Image torch.Size([3, 224, 224]), Mask torch.Size([224, 224])\n",
      "✅ Loaded BraTS20_Training_002: Image torch.Size([3, 224, 224]), Mask torch.Size([224, 224])\n",
      "✅ Loaded BraTS20_Training_003: Image torch.Size([3, 224, 224]), Mask torch.Size([224, 224])\n",
      "✅ Loaded BraTS20_Training_004: Image torch.Size([3, 224, 224]), Mask torch.Size([224, 224])\n",
      "✅ Loaded BraTS20_Training_005: Image torch.Size([3, 224, 224]), Mask torch.Size([224, 224])\n",
      "✅ Loaded BraTS20_Training_006: Image torch.Size([3, 224, 224]), Mask torch.Size([224, 224])\n",
      "✅ Loaded BraTS20_Training_007: Image torch.Size([3, 224, 224]), Mask torch.Size([224, 224])\n",
      "✅ Loaded BraTS20_Training_008: Image torch.Size([3, 224, 224]), Mask torch.Size([224, 224])\n",
      "✅ Loaded BraTS20_Training_009: Image torch.Size([3, 224, 224]), Mask torch.Size([224, 224])\n",
      "✅ Loaded BraTS20_Training_010: Image torch.Size([3, 224, 224]), Mask torch.Size([224, 224])\n",
      "✅ Loaded BraTS20_Training_011: Image torch.Size([3, 224, 224]), Mask torch.Size([224, 224])\n",
      "✅ Loaded BraTS20_Training_012: Image torch.Size([3, 224, 224]), Mask torch.Size([224, 224])\n",
      "✅ Loaded BraTS20_Training_013: Image torch.Size([3, 224, 224]), Mask torch.Size([224, 224])\n",
      "✅ Loaded BraTS20_Training_014: Image torch.Size([3, 224, 224]), Mask torch.Size([224, 224])\n",
      "✅ Loaded BraTS20_Training_015: Image torch.Size([3, 224, 224]), Mask torch.Size([224, 224])\n",
      "✅ Loaded BraTS20_Training_016: Image torch.Size([3, 224, 224]), Mask torch.Size([224, 224])\n",
      "✅ Loaded BraTS20_Training_017: Image torch.Size([3, 224, 224]), Mask torch.Size([224, 224])\n",
      "✅ Loaded BraTS20_Training_018: Image torch.Size([3, 224, 224]), Mask torch.Size([224, 224])\n",
      "✅ Loaded BraTS20_Training_019: Image torch.Size([3, 224, 224]), Mask torch.Size([224, 224])\n",
      "✅ Loaded BraTS20_Training_020: Image torch.Size([3, 224, 224]), Mask torch.Size([224, 224])\n",
      "✅ Loaded BraTS20_Training_021: Image torch.Size([3, 224, 224]), Mask torch.Size([224, 224])\n",
      "✅ Loaded BraTS20_Training_022: Image torch.Size([3, 224, 224]), Mask torch.Size([224, 224])\n",
      "✅ Loaded BraTS20_Training_023: Image torch.Size([3, 224, 224]), Mask torch.Size([224, 224])\n",
      "✅ Loaded BraTS20_Training_024: Image torch.Size([3, 224, 224]), Mask torch.Size([224, 224])\n",
      "✅ Loaded BraTS20_Training_025: Image torch.Size([3, 224, 224]), Mask torch.Size([224, 224])\n",
      "✅ Loaded BraTS20_Training_026: Image torch.Size([3, 224, 224]), Mask torch.Size([224, 224])\n",
      "✅ Loaded BraTS20_Training_027: Image torch.Size([3, 224, 224]), Mask torch.Size([224, 224])\n",
      "✅ Loaded BraTS20_Training_028: Image torch.Size([3, 224, 224]), Mask torch.Size([224, 224])\n",
      "✅ Loaded BraTS20_Training_029: Image torch.Size([3, 224, 224]), Mask torch.Size([224, 224])\n",
      "✅ Loaded BraTS20_Training_030: Image torch.Size([3, 224, 224]), Mask torch.Size([224, 224])\n",
      "✅ Loaded BraTS20_Training_031: Image torch.Size([3, 224, 224]), Mask torch.Size([224, 224])\n",
      "✅ Loaded BraTS20_Training_032: Image torch.Size([3, 224, 224]), Mask torch.Size([224, 224])\n",
      "✅ Loaded BraTS20_Training_033: Image torch.Size([3, 224, 224]), Mask torch.Size([224, 224])\n",
      "✅ Loaded BraTS20_Training_034: Image torch.Size([3, 224, 224]), Mask torch.Size([224, 224])\n",
      "✅ Loaded BraTS20_Training_035: Image torch.Size([3, 224, 224]), Mask torch.Size([224, 224])\n",
      "✅ Loaded BraTS20_Training_036: Image torch.Size([3, 224, 224]), Mask torch.Size([224, 224])\n",
      "✅ Loaded BraTS20_Training_037: Image torch.Size([3, 224, 224]), Mask torch.Size([224, 224])\n",
      "✅ Loaded BraTS20_Training_038: Image torch.Size([3, 224, 224]), Mask torch.Size([224, 224])\n",
      "✅ Loaded BraTS20_Training_039: Image torch.Size([3, 224, 224]), Mask torch.Size([224, 224])\n",
      "✅ Loaded BraTS20_Training_040: Image torch.Size([3, 224, 224]), Mask torch.Size([224, 224])\n",
      "✅ Loaded BraTS20_Training_041: Image torch.Size([3, 224, 224]), Mask torch.Size([224, 224])\n",
      "✅ Loaded BraTS20_Training_042: Image torch.Size([3, 224, 224]), Mask torch.Size([224, 224])\n",
      "✅ Loaded BraTS20_Training_043: Image torch.Size([3, 224, 224]), Mask torch.Size([224, 224])\n",
      "✅ Loaded BraTS20_Training_044: Image torch.Size([3, 224, 224]), Mask torch.Size([224, 224])\n",
      "✅ Loaded BraTS20_Training_045: Image torch.Size([3, 224, 224]), Mask torch.Size([224, 224])\n",
      "✅ Loaded BraTS20_Training_046: Image torch.Size([3, 224, 224]), Mask torch.Size([224, 224])\n",
      "✅ Loaded BraTS20_Training_047: Image torch.Size([3, 224, 224]), Mask torch.Size([224, 224])\n",
      "✅ Loaded BraTS20_Training_048: Image torch.Size([3, 224, 224]), Mask torch.Size([224, 224])\n",
      "✅ Loaded BraTS20_Training_049: Image torch.Size([3, 224, 224]), Mask torch.Size([224, 224])\n",
      "✅ Loaded BraTS20_Training_050: Image torch.Size([3, 224, 224]), Mask torch.Size([224, 224])\n",
      "✅ Loaded BraTS20_Training_051: Image torch.Size([3, 224, 224]), Mask torch.Size([224, 224])\n",
      "✅ Loaded BraTS20_Training_052: Image torch.Size([3, 224, 224]), Mask torch.Size([224, 224])\n",
      "✅ Loaded BraTS20_Training_053: Image torch.Size([3, 224, 224]), Mask torch.Size([224, 224])\n",
      "✅ Loaded BraTS20_Training_054: Image torch.Size([3, 224, 224]), Mask torch.Size([224, 224])\n",
      "✅ Loaded BraTS20_Training_055: Image torch.Size([3, 224, 224]), Mask torch.Size([224, 224])\n",
      "✅ Loaded BraTS20_Training_056: Image torch.Size([3, 224, 224]), Mask torch.Size([224, 224])\n",
      "✅ Loaded BraTS20_Training_057: Image torch.Size([3, 224, 224]), Mask torch.Size([224, 224])\n",
      "✅ Loaded BraTS20_Training_058: Image torch.Size([3, 224, 224]), Mask torch.Size([224, 224])\n",
      "✅ Loaded BraTS20_Training_059: Image torch.Size([3, 224, 224]), Mask torch.Size([224, 224])\n",
      "✅ Loaded BraTS20_Training_060: Image torch.Size([3, 224, 224]), Mask torch.Size([224, 224])\n",
      "✅ Loaded BraTS20_Training_061: Image torch.Size([3, 224, 224]), Mask torch.Size([224, 224])\n",
      "✅ Loaded BraTS20_Training_062: Image torch.Size([3, 224, 224]), Mask torch.Size([224, 224])\n",
      "✅ Loaded BraTS20_Training_063: Image torch.Size([3, 224, 224]), Mask torch.Size([224, 224])\n",
      "✅ Loaded BraTS20_Training_064: Image torch.Size([3, 224, 224]), Mask torch.Size([224, 224])\n",
      "✅ Loaded BraTS20_Training_065: Image torch.Size([3, 224, 224]), Mask torch.Size([224, 224])\n",
      "✅ Loaded BraTS20_Training_066: Image torch.Size([3, 224, 224]), Mask torch.Size([224, 224])\n",
      "✅ Loaded BraTS20_Training_067: Image torch.Size([3, 224, 224]), Mask torch.Size([224, 224])\n",
      "✅ Loaded BraTS20_Training_068: Image torch.Size([3, 224, 224]), Mask torch.Size([224, 224])\n",
      "✅ Loaded BraTS20_Training_069: Image torch.Size([3, 224, 224]), Mask torch.Size([224, 224])\n",
      "✅ Loaded BraTS20_Training_070: Image torch.Size([3, 224, 224]), Mask torch.Size([224, 224])\n",
      "✅ Loaded BraTS20_Training_071: Image torch.Size([3, 224, 224]), Mask torch.Size([224, 224])\n",
      "✅ Loaded BraTS20_Training_072: Image torch.Size([3, 224, 224]), Mask torch.Size([224, 224])\n",
      "✅ Loaded BraTS20_Training_073: Image torch.Size([3, 224, 224]), Mask torch.Size([224, 224])\n",
      "✅ Loaded BraTS20_Training_074: Image torch.Size([3, 224, 224]), Mask torch.Size([224, 224])\n",
      "✅ Loaded BraTS20_Training_075: Image torch.Size([3, 224, 224]), Mask torch.Size([224, 224])\n",
      "✅ Loaded BraTS20_Training_076: Image torch.Size([3, 224, 224]), Mask torch.Size([224, 224])\n",
      "✅ Loaded BraTS20_Training_077: Image torch.Size([3, 224, 224]), Mask torch.Size([224, 224])\n",
      "✅ Loaded BraTS20_Training_078: Image torch.Size([3, 224, 224]), Mask torch.Size([224, 224])\n",
      "✅ Loaded BraTS20_Training_079: Image torch.Size([3, 224, 224]), Mask torch.Size([224, 224])\n",
      "✅ Loaded BraTS20_Training_080: Image torch.Size([3, 224, 224]), Mask torch.Size([224, 224])\n",
      "✅ Loaded BraTS20_Training_081: Image torch.Size([3, 224, 224]), Mask torch.Size([224, 224])\n",
      "✅ Loaded BraTS20_Training_082: Image torch.Size([3, 224, 224]), Mask torch.Size([224, 224])\n",
      "✅ Loaded BraTS20_Training_083: Image torch.Size([3, 224, 224]), Mask torch.Size([224, 224])\n",
      "✅ Loaded BraTS20_Training_084: Image torch.Size([3, 224, 224]), Mask torch.Size([224, 224])\n",
      "✅ Loaded BraTS20_Training_085: Image torch.Size([3, 224, 224]), Mask torch.Size([224, 224])\n",
      "✅ Loaded BraTS20_Training_086: Image torch.Size([3, 224, 224]), Mask torch.Size([224, 224])\n",
      "✅ Loaded BraTS20_Training_087: Image torch.Size([3, 224, 224]), Mask torch.Size([224, 224])\n",
      "✅ Loaded BraTS20_Training_088: Image torch.Size([3, 224, 224]), Mask torch.Size([224, 224])\n",
      "✅ Loaded BraTS20_Training_089: Image torch.Size([3, 224, 224]), Mask torch.Size([224, 224])\n",
      "✅ Loaded BraTS20_Training_090: Image torch.Size([3, 224, 224]), Mask torch.Size([224, 224])\n",
      "✅ Loaded BraTS20_Training_091: Image torch.Size([3, 224, 224]), Mask torch.Size([224, 224])\n",
      "✅ Loaded BraTS20_Training_092: Image torch.Size([3, 224, 224]), Mask torch.Size([224, 224])\n",
      "✅ Loaded BraTS20_Training_093: Image torch.Size([3, 224, 224]), Mask torch.Size([224, 224])\n",
      "✅ Loaded BraTS20_Training_094: Image torch.Size([3, 224, 224]), Mask torch.Size([224, 224])\n",
      "✅ Loaded BraTS20_Training_095: Image torch.Size([3, 224, 224]), Mask torch.Size([224, 224])\n",
      "✅ Loaded BraTS20_Training_096: Image torch.Size([3, 224, 224]), Mask torch.Size([224, 224])\n",
      "✅ Loaded BraTS20_Training_097: Image torch.Size([3, 224, 224]), Mask torch.Size([224, 224])\n",
      "✅ Loaded BraTS20_Training_098: Image torch.Size([3, 224, 224]), Mask torch.Size([224, 224])\n",
      "✅ Loaded BraTS20_Training_099: Image torch.Size([3, 224, 224]), Mask torch.Size([224, 224])\n",
      "✅ Loaded BraTS20_Training_100: Image torch.Size([3, 224, 224]), Mask torch.Size([224, 224])\n",
      "✅ Loaded BraTS20_Training_101: Image torch.Size([3, 224, 224]), Mask torch.Size([224, 224])\n",
      "✅ Loaded BraTS20_Training_102: Image torch.Size([3, 224, 224]), Mask torch.Size([224, 224])\n",
      "✅ Loaded BraTS20_Training_103: Image torch.Size([3, 224, 224]), Mask torch.Size([224, 224])\n",
      "✅ Loaded BraTS20_Training_104: Image torch.Size([3, 224, 224]), Mask torch.Size([224, 224])\n",
      "✅ Loaded BraTS20_Training_105: Image torch.Size([3, 224, 224]), Mask torch.Size([224, 224])\n",
      "✅ Loaded BraTS20_Training_106: Image torch.Size([3, 224, 224]), Mask torch.Size([224, 224])\n",
      "✅ Loaded BraTS20_Training_107: Image torch.Size([3, 224, 224]), Mask torch.Size([224, 224])\n",
      "✅ Loaded BraTS20_Training_108: Image torch.Size([3, 224, 224]), Mask torch.Size([224, 224])\n",
      "✅ Loaded BraTS20_Training_109: Image torch.Size([3, 224, 224]), Mask torch.Size([224, 224])\n",
      "✅ Loaded BraTS20_Training_110: Image torch.Size([3, 224, 224]), Mask torch.Size([224, 224])\n",
      "✅ Loaded BraTS20_Training_111: Image torch.Size([3, 224, 224]), Mask torch.Size([224, 224])\n",
      "✅ Loaded BraTS20_Training_112: Image torch.Size([3, 224, 224]), Mask torch.Size([224, 224])\n",
      "✅ Loaded BraTS20_Training_113: Image torch.Size([3, 224, 224]), Mask torch.Size([224, 224])\n",
      "✅ Loaded BraTS20_Training_114: Image torch.Size([3, 224, 224]), Mask torch.Size([224, 224])\n",
      "✅ Loaded BraTS20_Training_115: Image torch.Size([3, 224, 224]), Mask torch.Size([224, 224])\n",
      "✅ Loaded BraTS20_Training_116: Image torch.Size([3, 224, 224]), Mask torch.Size([224, 224])\n",
      "✅ Loaded BraTS20_Training_117: Image torch.Size([3, 224, 224]), Mask torch.Size([224, 224])\n",
      "✅ Loaded BraTS20_Training_118: Image torch.Size([3, 224, 224]), Mask torch.Size([224, 224])\n",
      "✅ Loaded BraTS20_Training_119: Image torch.Size([3, 224, 224]), Mask torch.Size([224, 224])\n",
      "✅ Loaded BraTS20_Training_120: Image torch.Size([3, 224, 224]), Mask torch.Size([224, 224])\n",
      "✅ Loaded BraTS20_Training_121: Image torch.Size([3, 224, 224]), Mask torch.Size([224, 224])\n",
      "✅ Loaded BraTS20_Training_122: Image torch.Size([3, 224, 224]), Mask torch.Size([224, 224])\n",
      "✅ Loaded BraTS20_Training_123: Image torch.Size([3, 224, 224]), Mask torch.Size([224, 224])\n",
      "✅ Loaded BraTS20_Training_124: Image torch.Size([3, 224, 224]), Mask torch.Size([224, 224])\n",
      "✅ Loaded BraTS20_Training_125: Image torch.Size([3, 224, 224]), Mask torch.Size([224, 224])\n",
      "✅ Loaded BraTS20_Training_126: Image torch.Size([3, 224, 224]), Mask torch.Size([224, 224])\n",
      "✅ Loaded BraTS20_Training_127: Image torch.Size([3, 224, 224]), Mask torch.Size([224, 224])\n",
      "✅ Loaded BraTS20_Training_128: Image torch.Size([3, 224, 224]), Mask torch.Size([224, 224])\n",
      "✅ Loaded BraTS20_Training_129: Image torch.Size([3, 224, 224]), Mask torch.Size([224, 224])\n",
      "✅ Loaded BraTS20_Training_130: Image torch.Size([3, 224, 224]), Mask torch.Size([224, 224])\n",
      "✅ Loaded BraTS20_Training_131: Image torch.Size([3, 224, 224]), Mask torch.Size([224, 224])\n",
      "✅ Loaded BraTS20_Training_132: Image torch.Size([3, 224, 224]), Mask torch.Size([224, 224])\n",
      "✅ Loaded BraTS20_Training_133: Image torch.Size([3, 224, 224]), Mask torch.Size([224, 224])\n",
      "✅ Loaded BraTS20_Training_134: Image torch.Size([3, 224, 224]), Mask torch.Size([224, 224])\n",
      "✅ Loaded BraTS20_Training_135: Image torch.Size([3, 224, 224]), Mask torch.Size([224, 224])\n",
      "✅ Loaded BraTS20_Training_136: Image torch.Size([3, 224, 224]), Mask torch.Size([224, 224])\n",
      "✅ Loaded BraTS20_Training_137: Image torch.Size([3, 224, 224]), Mask torch.Size([224, 224])\n",
      "✅ Loaded BraTS20_Training_138: Image torch.Size([3, 224, 224]), Mask torch.Size([224, 224])\n",
      "✅ Loaded BraTS20_Training_139: Image torch.Size([3, 224, 224]), Mask torch.Size([224, 224])\n",
      "✅ Loaded BraTS20_Training_140: Image torch.Size([3, 224, 224]), Mask torch.Size([224, 224])\n",
      "✅ Loaded BraTS20_Training_141: Image torch.Size([3, 224, 224]), Mask torch.Size([224, 224])\n",
      "✅ Loaded BraTS20_Training_142: Image torch.Size([3, 224, 224]), Mask torch.Size([224, 224])\n",
      "✅ Loaded BraTS20_Training_143: Image torch.Size([3, 224, 224]), Mask torch.Size([224, 224])\n",
      "✅ Loaded BraTS20_Training_144: Image torch.Size([3, 224, 224]), Mask torch.Size([224, 224])\n",
      "✅ Loaded BraTS20_Training_145: Image torch.Size([3, 224, 224]), Mask torch.Size([224, 224])\n",
      "✅ Loaded BraTS20_Training_146: Image torch.Size([3, 224, 224]), Mask torch.Size([224, 224])\n",
      "✅ Loaded BraTS20_Training_147: Image torch.Size([3, 224, 224]), Mask torch.Size([224, 224])\n",
      "✅ Loaded BraTS20_Training_148: Image torch.Size([3, 224, 224]), Mask torch.Size([224, 224])\n",
      "✅ Loaded BraTS20_Training_149: Image torch.Size([3, 224, 224]), Mask torch.Size([224, 224])\n",
      "✅ Loaded BraTS20_Training_150: Image torch.Size([3, 224, 224]), Mask torch.Size([224, 224])\n",
      "✅ Loaded BraTS20_Training_151: Image torch.Size([3, 224, 224]), Mask torch.Size([224, 224])\n",
      "✅ Loaded BraTS20_Training_152: Image torch.Size([3, 224, 224]), Mask torch.Size([224, 224])\n",
      "✅ Loaded BraTS20_Training_153: Image torch.Size([3, 224, 224]), Mask torch.Size([224, 224])\n",
      "✅ Loaded BraTS20_Training_154: Image torch.Size([3, 224, 224]), Mask torch.Size([224, 224])\n",
      "✅ Loaded BraTS20_Training_155: Image torch.Size([3, 224, 224]), Mask torch.Size([224, 224])\n",
      "✅ Loaded BraTS20_Training_156: Image torch.Size([3, 224, 224]), Mask torch.Size([224, 224])\n",
      "✅ Loaded BraTS20_Training_157: Image torch.Size([3, 224, 224]), Mask torch.Size([224, 224])\n",
      "✅ Loaded BraTS20_Training_158: Image torch.Size([3, 224, 224]), Mask torch.Size([224, 224])\n",
      "✅ Loaded BraTS20_Training_159: Image torch.Size([3, 224, 224]), Mask torch.Size([224, 224])\n",
      "✅ Loaded BraTS20_Training_160: Image torch.Size([3, 224, 224]), Mask torch.Size([224, 224])\n",
      "✅ Loaded BraTS20_Training_161: Image torch.Size([3, 224, 224]), Mask torch.Size([224, 224])\n",
      "✅ Loaded BraTS20_Training_162: Image torch.Size([3, 224, 224]), Mask torch.Size([224, 224])\n",
      "✅ Loaded BraTS20_Training_163: Image torch.Size([3, 224, 224]), Mask torch.Size([224, 224])\n",
      "✅ Loaded BraTS20_Training_164: Image torch.Size([3, 224, 224]), Mask torch.Size([224, 224])\n",
      "✅ Loaded BraTS20_Training_165: Image torch.Size([3, 224, 224]), Mask torch.Size([224, 224])\n",
      "✅ Loaded BraTS20_Training_166: Image torch.Size([3, 224, 224]), Mask torch.Size([224, 224])\n",
      "✅ Loaded BraTS20_Training_167: Image torch.Size([3, 224, 224]), Mask torch.Size([224, 224])\n",
      "✅ Loaded BraTS20_Training_168: Image torch.Size([3, 224, 224]), Mask torch.Size([224, 224])\n",
      "✅ Loaded BraTS20_Training_169: Image torch.Size([3, 224, 224]), Mask torch.Size([224, 224])\n",
      "✅ Loaded BraTS20_Training_170: Image torch.Size([3, 224, 224]), Mask torch.Size([224, 224])\n",
      "✅ Loaded BraTS20_Training_171: Image torch.Size([3, 224, 224]), Mask torch.Size([224, 224])\n",
      "✅ Loaded BraTS20_Training_172: Image torch.Size([3, 224, 224]), Mask torch.Size([224, 224])\n",
      "✅ Loaded BraTS20_Training_173: Image torch.Size([3, 224, 224]), Mask torch.Size([224, 224])\n",
      "✅ Loaded BraTS20_Training_174: Image torch.Size([3, 224, 224]), Mask torch.Size([224, 224])\n",
      "✅ Loaded BraTS20_Training_175: Image torch.Size([3, 224, 224]), Mask torch.Size([224, 224])\n",
      "✅ Loaded BraTS20_Training_176: Image torch.Size([3, 224, 224]), Mask torch.Size([224, 224])\n",
      "✅ Loaded BraTS20_Training_177: Image torch.Size([3, 224, 224]), Mask torch.Size([224, 224])\n",
      "✅ Loaded BraTS20_Training_178: Image torch.Size([3, 224, 224]), Mask torch.Size([224, 224])\n",
      "✅ Loaded BraTS20_Training_179: Image torch.Size([3, 224, 224]), Mask torch.Size([224, 224])\n",
      "✅ Loaded BraTS20_Training_180: Image torch.Size([3, 224, 224]), Mask torch.Size([224, 224])\n",
      "✅ Loaded BraTS20_Training_181: Image torch.Size([3, 224, 224]), Mask torch.Size([224, 224])\n",
      "✅ Loaded BraTS20_Training_182: Image torch.Size([3, 224, 224]), Mask torch.Size([224, 224])\n",
      "✅ Loaded BraTS20_Training_183: Image torch.Size([3, 224, 224]), Mask torch.Size([224, 224])\n",
      "✅ Loaded BraTS20_Training_184: Image torch.Size([3, 224, 224]), Mask torch.Size([224, 224])\n",
      "✅ Loaded BraTS20_Training_185: Image torch.Size([3, 224, 224]), Mask torch.Size([224, 224])\n",
      "✅ Loaded BraTS20_Training_186: Image torch.Size([3, 224, 224]), Mask torch.Size([224, 224])\n",
      "✅ Loaded BraTS20_Training_187: Image torch.Size([3, 224, 224]), Mask torch.Size([224, 224])\n",
      "✅ Loaded BraTS20_Training_188: Image torch.Size([3, 224, 224]), Mask torch.Size([224, 224])\n",
      "✅ Loaded BraTS20_Training_189: Image torch.Size([3, 224, 224]), Mask torch.Size([224, 224])\n",
      "✅ Loaded BraTS20_Training_190: Image torch.Size([3, 224, 224]), Mask torch.Size([224, 224])\n",
      "✅ Loaded BraTS20_Training_191: Image torch.Size([3, 224, 224]), Mask torch.Size([224, 224])\n",
      "✅ Loaded BraTS20_Training_192: Image torch.Size([3, 224, 224]), Mask torch.Size([224, 224])\n",
      "✅ Loaded BraTS20_Training_193: Image torch.Size([3, 224, 224]), Mask torch.Size([224, 224])\n",
      "✅ Loaded BraTS20_Training_194: Image torch.Size([3, 224, 224]), Mask torch.Size([224, 224])\n",
      "✅ Loaded BraTS20_Training_195: Image torch.Size([3, 224, 224]), Mask torch.Size([224, 224])\n",
      "✅ Loaded BraTS20_Training_196: Image torch.Size([3, 224, 224]), Mask torch.Size([224, 224])\n",
      "✅ Loaded BraTS20_Training_197: Image torch.Size([3, 224, 224]), Mask torch.Size([224, 224])\n",
      "✅ Loaded BraTS20_Training_198: Image torch.Size([3, 224, 224]), Mask torch.Size([224, 224])\n",
      "✅ Loaded BraTS20_Training_199: Image torch.Size([3, 224, 224]), Mask torch.Size([224, 224])\n",
      "✅ Loaded BraTS20_Training_200: Image torch.Size([3, 224, 224]), Mask torch.Size([224, 224])\n",
      "✅ Loaded BraTS20_Training_201: Image torch.Size([3, 224, 224]), Mask torch.Size([224, 224])\n",
      "✅ Loaded BraTS20_Training_202: Image torch.Size([3, 224, 224]), Mask torch.Size([224, 224])\n",
      "✅ Loaded BraTS20_Training_203: Image torch.Size([3, 224, 224]), Mask torch.Size([224, 224])\n",
      "✅ Loaded BraTS20_Training_204: Image torch.Size([3, 224, 224]), Mask torch.Size([224, 224])\n",
      "✅ Loaded BraTS20_Training_205: Image torch.Size([3, 224, 224]), Mask torch.Size([224, 224])\n",
      "✅ Loaded BraTS20_Training_206: Image torch.Size([3, 224, 224]), Mask torch.Size([224, 224])\n",
      "✅ Loaded BraTS20_Training_207: Image torch.Size([3, 224, 224]), Mask torch.Size([224, 224])\n",
      "✅ Loaded BraTS20_Training_208: Image torch.Size([3, 224, 224]), Mask torch.Size([224, 224])\n",
      "✅ Loaded BraTS20_Training_209: Image torch.Size([3, 224, 224]), Mask torch.Size([224, 224])\n",
      "✅ Loaded BraTS20_Training_210: Image torch.Size([3, 224, 224]), Mask torch.Size([224, 224])\n",
      "✅ Loaded BraTS20_Training_211: Image torch.Size([3, 224, 224]), Mask torch.Size([224, 224])\n",
      "✅ Loaded BraTS20_Training_212: Image torch.Size([3, 224, 224]), Mask torch.Size([224, 224])\n",
      "✅ Loaded BraTS20_Training_213: Image torch.Size([3, 224, 224]), Mask torch.Size([224, 224])\n",
      "✅ Loaded BraTS20_Training_214: Image torch.Size([3, 224, 224]), Mask torch.Size([224, 224])\n",
      "✅ Loaded BraTS20_Training_215: Image torch.Size([3, 224, 224]), Mask torch.Size([224, 224])\n",
      "✅ Loaded BraTS20_Training_216: Image torch.Size([3, 224, 224]), Mask torch.Size([224, 224])\n",
      "✅ Loaded BraTS20_Training_217: Image torch.Size([3, 224, 224]), Mask torch.Size([224, 224])\n",
      "✅ Loaded BraTS20_Training_218: Image torch.Size([3, 224, 224]), Mask torch.Size([224, 224])\n",
      "✅ Loaded BraTS20_Training_219: Image torch.Size([3, 224, 224]), Mask torch.Size([224, 224])\n",
      "✅ Loaded BraTS20_Training_220: Image torch.Size([3, 224, 224]), Mask torch.Size([224, 224])\n",
      "✅ Loaded BraTS20_Training_221: Image torch.Size([3, 224, 224]), Mask torch.Size([224, 224])\n",
      "✅ Loaded BraTS20_Training_222: Image torch.Size([3, 224, 224]), Mask torch.Size([224, 224])\n",
      "✅ Loaded BraTS20_Training_223: Image torch.Size([3, 224, 224]), Mask torch.Size([224, 224])\n",
      "✅ Loaded BraTS20_Training_224: Image torch.Size([3, 224, 224]), Mask torch.Size([224, 224])\n",
      "✅ Loaded BraTS20_Training_225: Image torch.Size([3, 224, 224]), Mask torch.Size([224, 224])\n",
      "✅ Loaded BraTS20_Training_226: Image torch.Size([3, 224, 224]), Mask torch.Size([224, 224])\n",
      "✅ Loaded BraTS20_Training_227: Image torch.Size([3, 224, 224]), Mask torch.Size([224, 224])\n",
      "✅ Loaded BraTS20_Training_228: Image torch.Size([3, 224, 224]), Mask torch.Size([224, 224])\n",
      "✅ Loaded BraTS20_Training_229: Image torch.Size([3, 224, 224]), Mask torch.Size([224, 224])\n",
      "✅ Loaded BraTS20_Training_230: Image torch.Size([3, 224, 224]), Mask torch.Size([224, 224])\n",
      "✅ Loaded BraTS20_Training_231: Image torch.Size([3, 224, 224]), Mask torch.Size([224, 224])\n",
      "✅ Loaded BraTS20_Training_232: Image torch.Size([3, 224, 224]), Mask torch.Size([224, 224])\n",
      "✅ Loaded BraTS20_Training_233: Image torch.Size([3, 224, 224]), Mask torch.Size([224, 224])\n",
      "✅ Loaded BraTS20_Training_234: Image torch.Size([3, 224, 224]), Mask torch.Size([224, 224])\n",
      "✅ Loaded BraTS20_Training_235: Image torch.Size([3, 224, 224]), Mask torch.Size([224, 224])\n",
      "✅ Loaded BraTS20_Training_236: Image torch.Size([3, 224, 224]), Mask torch.Size([224, 224])\n",
      "✅ Loaded BraTS20_Training_237: Image torch.Size([3, 224, 224]), Mask torch.Size([224, 224])\n",
      "✅ Loaded BraTS20_Training_238: Image torch.Size([3, 224, 224]), Mask torch.Size([224, 224])\n",
      "✅ Loaded BraTS20_Training_239: Image torch.Size([3, 224, 224]), Mask torch.Size([224, 224])\n",
      "✅ Loaded BraTS20_Training_240: Image torch.Size([3, 224, 224]), Mask torch.Size([224, 224])\n",
      "✅ Loaded BraTS20_Training_241: Image torch.Size([3, 224, 224]), Mask torch.Size([224, 224])\n",
      "✅ Loaded BraTS20_Training_242: Image torch.Size([3, 224, 224]), Mask torch.Size([224, 224])\n",
      "✅ Loaded BraTS20_Training_243: Image torch.Size([3, 224, 224]), Mask torch.Size([224, 224])\n",
      "✅ Loaded BraTS20_Training_244: Image torch.Size([3, 224, 224]), Mask torch.Size([224, 224])\n",
      "✅ Loaded BraTS20_Training_245: Image torch.Size([3, 224, 224]), Mask torch.Size([224, 224])\n",
      "✅ Loaded BraTS20_Training_246: Image torch.Size([3, 224, 224]), Mask torch.Size([224, 224])\n",
      "✅ Loaded BraTS20_Training_247: Image torch.Size([3, 224, 224]), Mask torch.Size([224, 224])\n",
      "✅ Loaded BraTS20_Training_248: Image torch.Size([3, 224, 224]), Mask torch.Size([224, 224])\n",
      "✅ Loaded BraTS20_Training_249: Image torch.Size([3, 224, 224]), Mask torch.Size([224, 224])\n",
      "✅ Loaded BraTS20_Training_250: Image torch.Size([3, 224, 224]), Mask torch.Size([224, 224])\n",
      "✅ Loaded BraTS20_Training_251: Image torch.Size([3, 224, 224]), Mask torch.Size([224, 224])\n",
      "✅ Loaded BraTS20_Training_252: Image torch.Size([3, 224, 224]), Mask torch.Size([224, 224])\n",
      "✅ Loaded BraTS20_Training_253: Image torch.Size([3, 224, 224]), Mask torch.Size([224, 224])\n",
      "✅ Loaded BraTS20_Training_254: Image torch.Size([3, 224, 224]), Mask torch.Size([224, 224])\n",
      "✅ Loaded BraTS20_Training_255: Image torch.Size([3, 224, 224]), Mask torch.Size([224, 224])\n",
      "✅ Loaded BraTS20_Training_256: Image torch.Size([3, 224, 224]), Mask torch.Size([224, 224])\n",
      "✅ Loaded BraTS20_Training_257: Image torch.Size([3, 224, 224]), Mask torch.Size([224, 224])\n",
      "✅ Loaded BraTS20_Training_258: Image torch.Size([3, 224, 224]), Mask torch.Size([224, 224])\n",
      "✅ Loaded BraTS20_Training_259: Image torch.Size([3, 224, 224]), Mask torch.Size([224, 224])\n",
      "✅ Loaded BraTS20_Training_260: Image torch.Size([3, 224, 224]), Mask torch.Size([224, 224])\n",
      "✅ Loaded BraTS20_Training_261: Image torch.Size([3, 224, 224]), Mask torch.Size([224, 224])\n",
      "✅ Loaded BraTS20_Training_262: Image torch.Size([3, 224, 224]), Mask torch.Size([224, 224])\n",
      "✅ Loaded BraTS20_Training_263: Image torch.Size([3, 224, 224]), Mask torch.Size([224, 224])\n",
      "✅ Loaded BraTS20_Training_264: Image torch.Size([3, 224, 224]), Mask torch.Size([224, 224])\n",
      "✅ Loaded BraTS20_Training_265: Image torch.Size([3, 224, 224]), Mask torch.Size([224, 224])\n",
      "✅ Loaded BraTS20_Training_266: Image torch.Size([3, 224, 224]), Mask torch.Size([224, 224])\n",
      "✅ Loaded BraTS20_Training_267: Image torch.Size([3, 224, 224]), Mask torch.Size([224, 224])\n",
      "✅ Loaded BraTS20_Training_268: Image torch.Size([3, 224, 224]), Mask torch.Size([224, 224])\n",
      "✅ Loaded BraTS20_Training_269: Image torch.Size([3, 224, 224]), Mask torch.Size([224, 224])\n",
      "✅ Loaded BraTS20_Training_270: Image torch.Size([3, 224, 224]), Mask torch.Size([224, 224])\n",
      "✅ Loaded BraTS20_Training_271: Image torch.Size([3, 224, 224]), Mask torch.Size([224, 224])\n",
      "✅ Loaded BraTS20_Training_272: Image torch.Size([3, 224, 224]), Mask torch.Size([224, 224])\n",
      "✅ Loaded BraTS20_Training_273: Image torch.Size([3, 224, 224]), Mask torch.Size([224, 224])\n",
      "✅ Loaded BraTS20_Training_274: Image torch.Size([3, 224, 224]), Mask torch.Size([224, 224])\n",
      "✅ Loaded BraTS20_Training_275: Image torch.Size([3, 224, 224]), Mask torch.Size([224, 224])\n",
      "✅ Loaded BraTS20_Training_276: Image torch.Size([3, 224, 224]), Mask torch.Size([224, 224])\n",
      "✅ Loaded BraTS20_Training_277: Image torch.Size([3, 224, 224]), Mask torch.Size([224, 224])\n",
      "✅ Loaded BraTS20_Training_278: Image torch.Size([3, 224, 224]), Mask torch.Size([224, 224])\n",
      "✅ Loaded BraTS20_Training_279: Image torch.Size([3, 224, 224]), Mask torch.Size([224, 224])\n",
      "✅ Loaded BraTS20_Training_280: Image torch.Size([3, 224, 224]), Mask torch.Size([224, 224])\n",
      "✅ Loaded BraTS20_Training_281: Image torch.Size([3, 224, 224]), Mask torch.Size([224, 224])\n",
      "✅ Loaded BraTS20_Training_282: Image torch.Size([3, 224, 224]), Mask torch.Size([224, 224])\n",
      "✅ Loaded BraTS20_Training_283: Image torch.Size([3, 224, 224]), Mask torch.Size([224, 224])\n",
      "✅ Loaded BraTS20_Training_284: Image torch.Size([3, 224, 224]), Mask torch.Size([224, 224])\n",
      "✅ Loaded BraTS20_Training_285: Image torch.Size([3, 224, 224]), Mask torch.Size([224, 224])\n",
      "✅ Loaded BraTS20_Training_286: Image torch.Size([3, 224, 224]), Mask torch.Size([224, 224])\n",
      "✅ Loaded BraTS20_Training_287: Image torch.Size([3, 224, 224]), Mask torch.Size([224, 224])\n",
      "✅ Loaded BraTS20_Training_288: Image torch.Size([3, 224, 224]), Mask torch.Size([224, 224])\n",
      "✅ Loaded BraTS20_Training_289: Image torch.Size([3, 224, 224]), Mask torch.Size([224, 224])\n",
      "✅ Loaded BraTS20_Training_290: Image torch.Size([3, 224, 224]), Mask torch.Size([224, 224])\n",
      "✅ Loaded BraTS20_Training_291: Image torch.Size([3, 224, 224]), Mask torch.Size([224, 224])\n",
      "✅ Loaded BraTS20_Training_292: Image torch.Size([3, 224, 224]), Mask torch.Size([224, 224])\n",
      "✅ Loaded BraTS20_Training_293: Image torch.Size([3, 224, 224]), Mask torch.Size([224, 224])\n",
      "✅ Loaded BraTS20_Training_294: Image torch.Size([3, 224, 224]), Mask torch.Size([224, 224])\n",
      "✅ Loaded BraTS20_Training_295: Image torch.Size([3, 224, 224]), Mask torch.Size([224, 224])\n",
      "✅ Loaded BraTS20_Training_296: Image torch.Size([3, 224, 224]), Mask torch.Size([224, 224])\n",
      "✅ Loaded BraTS20_Training_297: Image torch.Size([3, 224, 224]), Mask torch.Size([224, 224])\n",
      "✅ Loaded BraTS20_Training_298: Image torch.Size([3, 224, 224]), Mask torch.Size([224, 224])\n",
      "✅ Loaded BraTS20_Training_299: Image torch.Size([3, 224, 224]), Mask torch.Size([224, 224])\n",
      "✅ Loaded BraTS20_Training_300: Image torch.Size([3, 224, 224]), Mask torch.Size([224, 224])\n",
      "✅ Loaded BraTS20_Training_301: Image torch.Size([3, 224, 224]), Mask torch.Size([224, 224])\n",
      "✅ Loaded BraTS20_Training_302: Image torch.Size([3, 224, 224]), Mask torch.Size([224, 224])\n",
      "✅ Loaded BraTS20_Training_303: Image torch.Size([3, 224, 224]), Mask torch.Size([224, 224])\n",
      "✅ Loaded BraTS20_Training_304: Image torch.Size([3, 224, 224]), Mask torch.Size([224, 224])\n",
      "✅ Loaded BraTS20_Training_305: Image torch.Size([3, 224, 224]), Mask torch.Size([224, 224])\n",
      "✅ Loaded BraTS20_Training_306: Image torch.Size([3, 224, 224]), Mask torch.Size([224, 224])\n",
      "✅ Loaded BraTS20_Training_307: Image torch.Size([3, 224, 224]), Mask torch.Size([224, 224])\n",
      "✅ Loaded BraTS20_Training_308: Image torch.Size([3, 224, 224]), Mask torch.Size([224, 224])\n",
      "✅ Loaded BraTS20_Training_309: Image torch.Size([3, 224, 224]), Mask torch.Size([224, 224])\n",
      "✅ Loaded BraTS20_Training_310: Image torch.Size([3, 224, 224]), Mask torch.Size([224, 224])\n",
      "✅ Loaded BraTS20_Training_311: Image torch.Size([3, 224, 224]), Mask torch.Size([224, 224])\n",
      "✅ Loaded BraTS20_Training_312: Image torch.Size([3, 224, 224]), Mask torch.Size([224, 224])\n",
      "✅ Loaded BraTS20_Training_313: Image torch.Size([3, 224, 224]), Mask torch.Size([224, 224])\n",
      "✅ Loaded BraTS20_Training_314: Image torch.Size([3, 224, 224]), Mask torch.Size([224, 224])\n",
      "✅ Loaded BraTS20_Training_315: Image torch.Size([3, 224, 224]), Mask torch.Size([224, 224])\n",
      "✅ Loaded BraTS20_Training_316: Image torch.Size([3, 224, 224]), Mask torch.Size([224, 224])\n",
      "✅ Loaded BraTS20_Training_317: Image torch.Size([3, 224, 224]), Mask torch.Size([224, 224])\n",
      "✅ Loaded BraTS20_Training_318: Image torch.Size([3, 224, 224]), Mask torch.Size([224, 224])\n",
      "✅ Loaded BraTS20_Training_319: Image torch.Size([3, 224, 224]), Mask torch.Size([224, 224])\n",
      "✅ Loaded BraTS20_Training_320: Image torch.Size([3, 224, 224]), Mask torch.Size([224, 224])\n",
      "✅ Loaded BraTS20_Training_321: Image torch.Size([3, 224, 224]), Mask torch.Size([224, 224])\n",
      "✅ Loaded BraTS20_Training_322: Image torch.Size([3, 224, 224]), Mask torch.Size([224, 224])\n",
      "✅ Loaded BraTS20_Training_323: Image torch.Size([3, 224, 224]), Mask torch.Size([224, 224])\n",
      "✅ Loaded BraTS20_Training_324: Image torch.Size([3, 224, 224]), Mask torch.Size([224, 224])\n",
      "✅ Loaded BraTS20_Training_325: Image torch.Size([3, 224, 224]), Mask torch.Size([224, 224])\n",
      "✅ Loaded BraTS20_Training_326: Image torch.Size([3, 224, 224]), Mask torch.Size([224, 224])\n",
      "✅ Loaded BraTS20_Training_327: Image torch.Size([3, 224, 224]), Mask torch.Size([224, 224])\n",
      "✅ Loaded BraTS20_Training_328: Image torch.Size([3, 224, 224]), Mask torch.Size([224, 224])\n",
      "✅ Loaded BraTS20_Training_329: Image torch.Size([3, 224, 224]), Mask torch.Size([224, 224])\n",
      "✅ Loaded BraTS20_Training_330: Image torch.Size([3, 224, 224]), Mask torch.Size([224, 224])\n",
      "✅ Loaded BraTS20_Training_331: Image torch.Size([3, 224, 224]), Mask torch.Size([224, 224])\n",
      "✅ Loaded BraTS20_Training_332: Image torch.Size([3, 224, 224]), Mask torch.Size([224, 224])\n",
      "✅ Loaded BraTS20_Training_333: Image torch.Size([3, 224, 224]), Mask torch.Size([224, 224])\n",
      "✅ Loaded BraTS20_Training_334: Image torch.Size([3, 224, 224]), Mask torch.Size([224, 224])\n",
      "✅ Loaded BraTS20_Training_335: Image torch.Size([3, 224, 224]), Mask torch.Size([224, 224])\n",
      "✅ Loaded BraTS20_Training_336: Image torch.Size([3, 224, 224]), Mask torch.Size([224, 224])\n",
      "✅ Loaded BraTS20_Training_337: Image torch.Size([3, 224, 224]), Mask torch.Size([224, 224])\n",
      "✅ Loaded BraTS20_Training_338: Image torch.Size([3, 224, 224]), Mask torch.Size([224, 224])\n",
      "✅ Loaded BraTS20_Training_339: Image torch.Size([3, 224, 224]), Mask torch.Size([224, 224])\n",
      "✅ Loaded BraTS20_Training_340: Image torch.Size([3, 224, 224]), Mask torch.Size([224, 224])\n",
      "✅ Loaded BraTS20_Training_341: Image torch.Size([3, 224, 224]), Mask torch.Size([224, 224])\n",
      "✅ Loaded BraTS20_Training_342: Image torch.Size([3, 224, 224]), Mask torch.Size([224, 224])\n",
      "✅ Loaded BraTS20_Training_343: Image torch.Size([3, 224, 224]), Mask torch.Size([224, 224])\n",
      "✅ Loaded BraTS20_Training_344: Image torch.Size([3, 224, 224]), Mask torch.Size([224, 224])\n",
      "✅ Loaded BraTS20_Training_345: Image torch.Size([3, 224, 224]), Mask torch.Size([224, 224])\n",
      "✅ Loaded BraTS20_Training_346: Image torch.Size([3, 224, 224]), Mask torch.Size([224, 224])\n",
      "✅ Loaded BraTS20_Training_347: Image torch.Size([3, 224, 224]), Mask torch.Size([224, 224])\n",
      "✅ Loaded BraTS20_Training_348: Image torch.Size([3, 224, 224]), Mask torch.Size([224, 224])\n",
      "✅ Loaded BraTS20_Training_349: Image torch.Size([3, 224, 224]), Mask torch.Size([224, 224])\n",
      "✅ Loaded BraTS20_Training_350: Image torch.Size([3, 224, 224]), Mask torch.Size([224, 224])\n",
      "✅ Loaded BraTS20_Training_351: Image torch.Size([3, 224, 224]), Mask torch.Size([224, 224])\n",
      "✅ Loaded BraTS20_Training_352: Image torch.Size([3, 224, 224]), Mask torch.Size([224, 224])\n",
      "✅ Loaded BraTS20_Training_353: Image torch.Size([3, 224, 224]), Mask torch.Size([224, 224])\n",
      "✅ Loaded BraTS20_Training_354: Image torch.Size([3, 224, 224]), Mask torch.Size([224, 224])\n",
      "✅ Loaded BraTS20_Training_355: Image torch.Size([3, 224, 224]), Mask torch.Size([224, 224])\n",
      "✅ Loaded BraTS20_Training_356: Image torch.Size([3, 224, 224]), Mask torch.Size([224, 224])\n",
      "✅ Loaded BraTS20_Training_357: Image torch.Size([3, 224, 224]), Mask torch.Size([224, 224])\n",
      "✅ Loaded BraTS20_Training_358: Image torch.Size([3, 224, 224]), Mask torch.Size([224, 224])\n",
      "✅ Loaded BraTS20_Training_359: Image torch.Size([3, 224, 224]), Mask torch.Size([224, 224])\n",
      "✅ Loaded BraTS20_Training_360: Image torch.Size([3, 224, 224]), Mask torch.Size([224, 224])\n",
      "✅ Loaded BraTS20_Training_361: Image torch.Size([3, 224, 224]), Mask torch.Size([224, 224])\n",
      "✅ Loaded BraTS20_Training_362: Image torch.Size([3, 224, 224]), Mask torch.Size([224, 224])\n",
      "✅ Loaded BraTS20_Training_363: Image torch.Size([3, 224, 224]), Mask torch.Size([224, 224])\n",
      "✅ Loaded BraTS20_Training_364: Image torch.Size([3, 224, 224]), Mask torch.Size([224, 224])\n",
      "✅ Loaded BraTS20_Training_365: Image torch.Size([3, 224, 224]), Mask torch.Size([224, 224])\n",
      "✅ Loaded BraTS20_Training_366: Image torch.Size([3, 224, 224]), Mask torch.Size([224, 224])\n",
      "✅ Loaded BraTS20_Training_367: Image torch.Size([3, 224, 224]), Mask torch.Size([224, 224])\n",
      "✅ Loaded BraTS20_Training_368: Image torch.Size([3, 224, 224]), Mask torch.Size([224, 224])\n",
      "✅ Loaded BraTS20_Training_369: Image torch.Size([3, 224, 224]), Mask torch.Size([224, 224])\n",
      "✅ Loaded 369 valid patients from BraTS 2020.\n"
     ]
    }
   ],
   "source": [
    "\n",
    "import glob\n",
    "import torch.nn.functional as F\n",
    "\n",
    "# Load Dataset\n",
    "train_dataset = BraTSDataset(DATASET_PATH)\n",
    "\n",
    "valid_samples = [d for d in train_dataset if d is not None]\n",
    "\n",
    "\n",
    "if len(valid_samples) == 0:\n",
    "    raise ValueError(\"❌ No valid samples found. Check dataset paths and file integrity.\")\n",
    "\n",
    "\n",
    "#train_loader = DataLoader(valid_samples, batch_size=2, shuffle=True, num_workers=0)\n",
    "train_loader = DataLoader(valid_samples, batch_size=4, shuffle=True, collate_fn=skip_none_collate, num_workers=0)\n",
    "print(f\"✅ Loaded {len(train_loader.dataset)} valid patients from BraTS 2020.\")"
   ]
  },
  {
   "cell_type": "code",
   "execution_count": 56,
   "id": "52940509",
   "metadata": {},
   "outputs": [],
   "source": [
    "import segmentation_models_pytorch as smp\n",
    "\n",
    "model = smp.Unet(\n",
    "    encoder_name=\"resnet34\",        # pretrained encoder\n",
    "    encoder_weights=\"imagenet\",     # use ImageNet pre-trained weights\n",
    "    in_channels=3,                  # we modified dataset to return 3 channels\n",
    "    classes=4,                      \n",
    ")\n"
   ]
  },
  {
   "cell_type": "code",
   "execution_count": 57,
   "id": "7ddf7be6",
   "metadata": {},
   "outputs": [],
   "source": [
    "import torch\n",
    "import torch.nn as nn\n",
    "import torch.nn.functional as F\n",
    "\n",
    "# Soft Dice Loss\n",
    "class SoftDiceLoss(nn.Module):\n",
    "    def __init__(self, smooth=1e-6):\n",
    "        super(SoftDiceLoss, self).__init__()\n",
    "        self.smooth = smooth\n",
    "\n",
    "    def forward(self, pred, target):\n",
    "        pred = torch.softmax(pred, dim=1)  # Apply softmax to logits\n",
    "        target_one_hot = F.one_hot(target, num_classes=pred.shape[1])  # [B, H, W, C]\n",
    "        target_one_hot = target_one_hot.permute(0, 3, 1, 2).float()     # [B, C, H, W]\n",
    "\n",
    "        dims = (0, 2, 3)  # Batch, Height, Width\n",
    "        intersection = (pred * target_one_hot).sum(dim=dims)\n",
    "        union = pred.sum(dim=dims) + target_one_hot.sum(dim=dims)\n",
    "        dice = (2. * intersection + self.smooth) / (union + self.smooth)\n",
    "        return 1 - dice.mean()\n",
    "\n",
    "# Combined Dice + CrossEntropy loss for SMP models\n",
    "def combined_loss(preds, target):\n",
    "    # If the model only outputs one prediction, adjust the loss function accordingly\n",
    "    dice_loss = SoftDiceLoss()(preds, target)\n",
    "    ce_loss = nn.CrossEntropyLoss(weight=torch.tensor([0.1, 1.0, 1.0, 3.0]).to(preds.device))(preds, target)\n",
    "\n",
    "    total_loss = dice_loss + ce_loss\n",
    "    return total_loss\n"
   ]
  },
  {
   "cell_type": "code",
   "execution_count": 58,
   "id": "96709953",
   "metadata": {},
   "outputs": [
    {
     "name": "stdout",
     "output_type": "stream",
     "text": [
      "✅ Train Set: 150 samples | Val Set: 38 samples\n"
     ]
    }
   ],
   "source": [
    "from torch.utils.data import random_split, DataLoader\n",
    "\n",
    "# Split Dataset into 80% Train, 20% Validation\n",
    "dataset_size = len(train_dataset)\n",
    "train_size = int(0.8 * dataset_size)\n",
    "val_size = dataset_size - train_size\n",
    "train_dataset, val_dataset = random_split(train_dataset, [train_size, val_size])\n",
    "\n",
    "\n",
    "train_loader = DataLoader(train_dataset, batch_size=2, shuffle=True, num_workers=0)\n",
    "val_loader = DataLoader(val_dataset, batch_size=2, shuffle=False, num_workers=0)\n",
    "\n",
    "print(f\"✅ Train Set: {len(train_dataset)} samples | Val Set: {len(val_dataset)} samples\")\n"
   ]
  },
  {
   "cell_type": "code",
   "execution_count": 59,
   "id": "cab3ef46",
   "metadata": {},
   "outputs": [],
   "source": [
    "import torch\n",
    "import torch.nn.functional as F\n",
    "from tqdm import tqdm\n",
    "import copy\n",
    "\n",
    "def train_model_smp(model, train_loader, optimizer, loss_fn, device, epochs=10, patience=3, save_path=\"best_unet_resnet34.pth\"):\n",
    "    best_loss = float('inf')\n",
    "    best_model_wts = copy.deepcopy(model.state_dict())\n",
    "    no_improve_epochs = 0\n",
    "\n",
    "    for epoch in range(epochs):\n",
    "        model.train()\n",
    "        train_loss = 0.0\n",
    "        loop = tqdm(train_loader, desc=f\"Epoch [{epoch+1}/{epochs}]\", leave=False)\n",
    "\n",
    "        for images, masks in loop:\n",
    "            images, masks = images.to(device), masks.to(device)\n",
    "            masks = torch.clamp(masks, 0, 3)  # Ensure valid class range\n",
    "\n",
    "            optimizer.zero_grad()\n",
    "            preds = model(images)  # SMP models directly output logits of shape [B, C, H, W]\n",
    "            loss = loss_fn(preds, masks)\n",
    "\n",
    "            loss.backward()\n",
    "            optimizer.step()\n",
    "\n",
    "            train_loss += loss.item()\n",
    "            loop.set_postfix({\"Loss\": loss.item()})\n",
    "\n",
    "        avg_train_loss = train_loss / len(train_loader)\n",
    "        print(f\"\\n✅ Epoch {epoch+1}: Train Loss: {avg_train_loss:.4f}\")\n",
    "\n",
    "        # Early stopping\n",
    "        if avg_train_loss < best_loss:\n",
    "            best_loss = avg_train_loss\n",
    "            best_model_wts = copy.deepcopy(model.state_dict())\n",
    "            torch.save(best_model_wts, save_path)\n",
    "            print(f\"💾 Saved model at epoch {epoch+1} with train loss {best_loss:.4f}\")\n",
    "            no_improve_epochs = 0\n",
    "        else:\n",
    "            no_improve_epochs += 1\n",
    "            print(f\"⚠️ No improvement for {no_improve_epochs} epoch(s)\")\n",
    "            if no_improve_epochs >= patience:\n",
    "                print(f\"⏹️ Early stopping triggered at epoch {epoch+1}\")\n",
    "                break\n",
    "\n",
    "    model.load_state_dict(best_model_wts)\n",
    "    print(\"🏁 Training complete.\")\n"
   ]
  },
  {
   "cell_type": "code",
   "execution_count": 60,
   "id": "e18dba64",
   "metadata": {},
   "outputs": [],
   "source": [
    "device = torch.device('cpu')"
   ]
  },
  {
   "cell_type": "code",
   "execution_count": 61,
   "id": "81a0e5d6",
   "metadata": {},
   "outputs": [
    {
     "name": "stderr",
     "output_type": "stream",
     "text": [
      "Epoch [1/15]:   0%|          | 0/75 [00:00<?, ?it/s]"
     ]
    },
    {
     "name": "stdout",
     "output_type": "stream",
     "text": [
      "✅ Loaded BraTS20_Training_105: Image torch.Size([3, 224, 224]), Mask torch.Size([224, 224])\n",
      "✅ Loaded BraTS20_Training_297: Image torch.Size([3, 224, 224]), Mask torch.Size([224, 224])\n"
     ]
    },
    {
     "name": "stderr",
     "output_type": "stream",
     "text": [
      "Epoch [1/15]:   1%|▏         | 1/75 [00:02<02:56,  2.38s/it, Loss=2.7]"
     ]
    },
    {
     "name": "stdout",
     "output_type": "stream",
     "text": [
      "✅ Loaded BraTS20_Training_299: Image torch.Size([3, 224, 224]), Mask torch.Size([224, 224])\n",
      "✅ Loaded BraTS20_Training_121: Image torch.Size([3, 224, 224]), Mask torch.Size([224, 224])\n"
     ]
    },
    {
     "name": "stderr",
     "output_type": "stream",
     "text": [
      "Epoch [1/15]:   3%|▎         | 2/75 [00:02<01:33,  1.28s/it, Loss=2.71]"
     ]
    },
    {
     "name": "stdout",
     "output_type": "stream",
     "text": [
      "✅ Loaded BraTS20_Training_312: Image torch.Size([3, 224, 224]), Mask torch.Size([224, 224])\n",
      "✅ Loaded BraTS20_Training_220: Image torch.Size([3, 224, 224]), Mask torch.Size([224, 224])\n"
     ]
    },
    {
     "name": "stderr",
     "output_type": "stream",
     "text": [
      "Epoch [1/15]:   4%|▍         | 3/75 [00:03<01:04,  1.12it/s, Loss=2.59]"
     ]
    },
    {
     "name": "stdout",
     "output_type": "stream",
     "text": [
      "✅ Loaded BraTS20_Training_015: Image torch.Size([3, 224, 224]), Mask torch.Size([224, 224])\n",
      "✅ Loaded BraTS20_Training_188: Image torch.Size([3, 224, 224]), Mask torch.Size([224, 224])\n"
     ]
    },
    {
     "name": "stderr",
     "output_type": "stream",
     "text": [
      "Epoch [1/15]:   5%|▌         | 4/75 [00:03<00:49,  1.43it/s, Loss=2.5] "
     ]
    },
    {
     "name": "stdout",
     "output_type": "stream",
     "text": [
      "✅ Loaded BraTS20_Training_010: Image torch.Size([3, 224, 224]), Mask torch.Size([224, 224])\n",
      "✅ Loaded BraTS20_Training_119: Image torch.Size([3, 224, 224]), Mask torch.Size([224, 224])\n"
     ]
    },
    {
     "name": "stderr",
     "output_type": "stream",
     "text": [
      "Epoch [1/15]:   7%|▋         | 5/75 [00:04<00:41,  1.67it/s, Loss=2.56]"
     ]
    },
    {
     "name": "stdout",
     "output_type": "stream",
     "text": [
      "✅ Loaded BraTS20_Training_322: Image torch.Size([3, 224, 224]), Mask torch.Size([224, 224])\n",
      "✅ Loaded BraTS20_Training_226: Image torch.Size([3, 224, 224]), Mask torch.Size([224, 224])\n"
     ]
    },
    {
     "name": "stderr",
     "output_type": "stream",
     "text": [
      "Epoch [1/15]:   8%|▊         | 6/75 [00:04<00:37,  1.86it/s, Loss=2.58]"
     ]
    },
    {
     "name": "stdout",
     "output_type": "stream",
     "text": [
      "✅ Loaded BraTS20_Training_116: Image torch.Size([3, 224, 224]), Mask torch.Size([224, 224])\n",
      "✅ Loaded BraTS20_Training_021: Image torch.Size([3, 224, 224]), Mask torch.Size([224, 224])\n"
     ]
    },
    {
     "name": "stderr",
     "output_type": "stream",
     "text": [
      "Epoch [1/15]:   9%|▉         | 7/75 [00:04<00:33,  2.01it/s, Loss=2.55]"
     ]
    },
    {
     "name": "stdout",
     "output_type": "stream",
     "text": [
      "✅ Loaded BraTS20_Training_079: Image torch.Size([3, 224, 224]), Mask torch.Size([224, 224])\n",
      "✅ Loaded BraTS20_Training_036: Image torch.Size([3, 224, 224]), Mask torch.Size([224, 224])\n"
     ]
    },
    {
     "name": "stderr",
     "output_type": "stream",
     "text": [
      "Epoch [1/15]:  11%|█         | 8/75 [00:05<00:31,  2.15it/s, Loss=2.54]"
     ]
    },
    {
     "name": "stdout",
     "output_type": "stream",
     "text": [
      "✅ Loaded BraTS20_Training_244: Image torch.Size([3, 224, 224]), Mask torch.Size([224, 224])\n",
      "✅ Loaded BraTS20_Training_069: Image torch.Size([3, 224, 224]), Mask torch.Size([224, 224])\n"
     ]
    },
    {
     "name": "stderr",
     "output_type": "stream",
     "text": [
      "Epoch [1/15]:  12%|█▏        | 9/75 [00:05<00:29,  2.25it/s, Loss=2.46]"
     ]
    },
    {
     "name": "stdout",
     "output_type": "stream",
     "text": [
      "✅ Loaded BraTS20_Training_125: Image torch.Size([3, 224, 224]), Mask torch.Size([224, 224])\n",
      "✅ Loaded BraTS20_Training_197: Image torch.Size([3, 224, 224]), Mask torch.Size([224, 224])\n"
     ]
    },
    {
     "name": "stderr",
     "output_type": "stream",
     "text": [
      "Epoch [1/15]:  13%|█▎        | 10/75 [00:06<00:28,  2.29it/s, Loss=2.3]"
     ]
    },
    {
     "name": "stdout",
     "output_type": "stream",
     "text": [
      "✅ Loaded BraTS20_Training_087: Image torch.Size([3, 224, 224]), Mask torch.Size([224, 224])\n",
      "✅ Loaded BraTS20_Training_245: Image torch.Size([3, 224, 224]), Mask torch.Size([224, 224])\n"
     ]
    },
    {
     "name": "stderr",
     "output_type": "stream",
     "text": [
      "Epoch [1/15]:  15%|█▍        | 11/75 [00:06<00:27,  2.30it/s, Loss=2.32]"
     ]
    },
    {
     "name": "stdout",
     "output_type": "stream",
     "text": [
      "✅ Loaded BraTS20_Training_277: Image torch.Size([3, 224, 224]), Mask torch.Size([224, 224])\n",
      "✅ Loaded BraTS20_Training_077: Image torch.Size([3, 224, 224]), Mask torch.Size([224, 224])\n"
     ]
    },
    {
     "name": "stderr",
     "output_type": "stream",
     "text": [
      "Epoch [1/15]:  16%|█▌        | 12/75 [00:07<00:27,  2.32it/s, Loss=2.46]"
     ]
    },
    {
     "name": "stdout",
     "output_type": "stream",
     "text": [
      "✅ Loaded BraTS20_Training_017: Image torch.Size([3, 224, 224]), Mask torch.Size([224, 224])\n",
      "✅ Loaded BraTS20_Training_143: Image torch.Size([3, 224, 224]), Mask torch.Size([224, 224])\n"
     ]
    },
    {
     "name": "stderr",
     "output_type": "stream",
     "text": [
      "Epoch [1/15]:  17%|█▋        | 13/75 [00:07<00:26,  2.38it/s, Loss=2.25]"
     ]
    },
    {
     "name": "stdout",
     "output_type": "stream",
     "text": [
      "✅ Loaded BraTS20_Training_082: Image torch.Size([3, 224, 224]), Mask torch.Size([224, 224])\n",
      "✅ Loaded BraTS20_Training_239: Image torch.Size([3, 224, 224]), Mask torch.Size([224, 224])\n"
     ]
    },
    {
     "name": "stderr",
     "output_type": "stream",
     "text": [
      "Epoch [1/15]:  19%|█▊        | 14/75 [00:07<00:25,  2.35it/s, Loss=2.48]"
     ]
    },
    {
     "name": "stdout",
     "output_type": "stream",
     "text": [
      "✅ Loaded BraTS20_Training_224: Image torch.Size([3, 224, 224]), Mask torch.Size([224, 224])\n",
      "✅ Loaded BraTS20_Training_248: Image torch.Size([3, 224, 224]), Mask torch.Size([224, 224])\n"
     ]
    },
    {
     "name": "stderr",
     "output_type": "stream",
     "text": [
      "Epoch [1/15]:  20%|██        | 15/75 [00:08<00:25,  2.36it/s, Loss=2.3] "
     ]
    },
    {
     "name": "stdout",
     "output_type": "stream",
     "text": [
      "✅ Loaded BraTS20_Training_165: Image torch.Size([3, 224, 224]), Mask torch.Size([224, 224])\n",
      "✅ Loaded BraTS20_Training_345: Image torch.Size([3, 224, 224]), Mask torch.Size([224, 224])\n"
     ]
    },
    {
     "name": "stderr",
     "output_type": "stream",
     "text": [
      "Epoch [1/15]:  21%|██▏       | 16/75 [00:08<00:24,  2.38it/s, Loss=2.31]"
     ]
    },
    {
     "name": "stdout",
     "output_type": "stream",
     "text": [
      "✅ Loaded BraTS20_Training_096: Image torch.Size([3, 224, 224]), Mask torch.Size([224, 224])\n",
      "✅ Loaded BraTS20_Training_275: Image torch.Size([3, 224, 224]), Mask torch.Size([224, 224])\n"
     ]
    },
    {
     "name": "stderr",
     "output_type": "stream",
     "text": [
      "Epoch [1/15]:  23%|██▎       | 17/75 [00:09<00:24,  2.36it/s, Loss=2.35]"
     ]
    },
    {
     "name": "stdout",
     "output_type": "stream",
     "text": [
      "✅ Loaded BraTS20_Training_148: Image torch.Size([3, 224, 224]), Mask torch.Size([224, 224])\n",
      "✅ Loaded BraTS20_Training_213: Image torch.Size([3, 224, 224]), Mask torch.Size([224, 224])\n"
     ]
    },
    {
     "name": "stderr",
     "output_type": "stream",
     "text": [
      "Epoch [1/15]:  24%|██▍       | 18/75 [00:09<00:24,  2.35it/s, Loss=2.36]"
     ]
    },
    {
     "name": "stdout",
     "output_type": "stream",
     "text": [
      "✅ Loaded BraTS20_Training_267: Image torch.Size([3, 224, 224]), Mask torch.Size([224, 224])\n",
      "✅ Loaded BraTS20_Training_273: Image torch.Size([3, 224, 224]), Mask torch.Size([224, 224])\n"
     ]
    },
    {
     "name": "stderr",
     "output_type": "stream",
     "text": [
      "Epoch [1/15]:  25%|██▌       | 19/75 [00:09<00:23,  2.35it/s, Loss=2.46]"
     ]
    },
    {
     "name": "stdout",
     "output_type": "stream",
     "text": [
      "✅ Loaded BraTS20_Training_259: Image torch.Size([3, 224, 224]), Mask torch.Size([224, 224])\n",
      "✅ Loaded BraTS20_Training_308: Image torch.Size([3, 224, 224]), Mask torch.Size([224, 224])\n"
     ]
    },
    {
     "name": "stderr",
     "output_type": "stream",
     "text": [
      "Epoch [1/15]:  27%|██▋       | 20/75 [00:10<00:23,  2.37it/s, Loss=2.57]"
     ]
    },
    {
     "name": "stdout",
     "output_type": "stream",
     "text": [
      "✅ Loaded BraTS20_Training_124: Image torch.Size([3, 224, 224]), Mask torch.Size([224, 224])\n",
      "✅ Loaded BraTS20_Training_128: Image torch.Size([3, 224, 224]), Mask torch.Size([224, 224])\n"
     ]
    },
    {
     "name": "stderr",
     "output_type": "stream",
     "text": [
      "Epoch [1/15]:  28%|██▊       | 21/75 [00:10<00:22,  2.39it/s, Loss=2.27]"
     ]
    },
    {
     "name": "stdout",
     "output_type": "stream",
     "text": [
      "✅ Loaded BraTS20_Training_294: Image torch.Size([3, 224, 224]), Mask torch.Size([224, 224])\n",
      "✅ Loaded BraTS20_Training_348: Image torch.Size([3, 224, 224]), Mask torch.Size([224, 224])\n"
     ]
    },
    {
     "name": "stderr",
     "output_type": "stream",
     "text": [
      "Epoch [1/15]:  29%|██▉       | 22/75 [00:11<00:22,  2.36it/s, Loss=2.31]"
     ]
    },
    {
     "name": "stdout",
     "output_type": "stream",
     "text": [
      "✅ Loaded BraTS20_Training_261: Image torch.Size([3, 224, 224]), Mask torch.Size([224, 224])\n",
      "✅ Loaded BraTS20_Training_183: Image torch.Size([3, 224, 224]), Mask torch.Size([224, 224])\n"
     ]
    },
    {
     "name": "stderr",
     "output_type": "stream",
     "text": [
      "Epoch [1/15]:  31%|███       | 23/75 [00:11<00:22,  2.35it/s, Loss=2.16]"
     ]
    },
    {
     "name": "stdout",
     "output_type": "stream",
     "text": [
      "✅ Loaded BraTS20_Training_289: Image torch.Size([3, 224, 224]), Mask torch.Size([224, 224])\n",
      "✅ Loaded BraTS20_Training_140: Image torch.Size([3, 224, 224]), Mask torch.Size([224, 224])\n"
     ]
    },
    {
     "name": "stderr",
     "output_type": "stream",
     "text": [
      "Epoch [1/15]:  32%|███▏      | 24/75 [00:12<00:22,  2.31it/s, Loss=2.34]"
     ]
    },
    {
     "name": "stdout",
     "output_type": "stream",
     "text": [
      "✅ Loaded BraTS20_Training_290: Image torch.Size([3, 224, 224]), Mask torch.Size([224, 224])\n",
      "✅ Loaded BraTS20_Training_022: Image torch.Size([3, 224, 224]), Mask torch.Size([224, 224])\n"
     ]
    },
    {
     "name": "stderr",
     "output_type": "stream",
     "text": [
      "Epoch [1/15]:  33%|███▎      | 25/75 [00:12<00:21,  2.31it/s, Loss=2.27]"
     ]
    },
    {
     "name": "stdout",
     "output_type": "stream",
     "text": [
      "✅ Loaded BraTS20_Training_302: Image torch.Size([3, 224, 224]), Mask torch.Size([224, 224])\n",
      "✅ Loaded BraTS20_Training_227: Image torch.Size([3, 224, 224]), Mask torch.Size([224, 224])\n"
     ]
    },
    {
     "name": "stderr",
     "output_type": "stream",
     "text": [
      "Epoch [1/15]:  35%|███▍      | 26/75 [00:12<00:21,  2.33it/s, Loss=2.49]"
     ]
    },
    {
     "name": "stdout",
     "output_type": "stream",
     "text": [
      "✅ Loaded BraTS20_Training_195: Image torch.Size([3, 224, 224]), Mask torch.Size([224, 224])\n",
      "✅ Loaded BraTS20_Training_089: Image torch.Size([3, 224, 224]), Mask torch.Size([224, 224])\n"
     ]
    },
    {
     "name": "stderr",
     "output_type": "stream",
     "text": [
      "Epoch [1/15]:  36%|███▌      | 27/75 [00:13<00:20,  2.34it/s, Loss=2.31]"
     ]
    },
    {
     "name": "stdout",
     "output_type": "stream",
     "text": [
      "✅ Loaded BraTS20_Training_180: Image torch.Size([3, 224, 224]), Mask torch.Size([224, 224])\n",
      "✅ Loaded BraTS20_Training_217: Image torch.Size([3, 224, 224]), Mask torch.Size([224, 224])\n"
     ]
    },
    {
     "name": "stderr",
     "output_type": "stream",
     "text": [
      "Epoch [1/15]:  37%|███▋      | 28/75 [00:13<00:20,  2.34it/s, Loss=2.13]"
     ]
    },
    {
     "name": "stdout",
     "output_type": "stream",
     "text": [
      "✅ Loaded BraTS20_Training_358: Image torch.Size([3, 224, 224]), Mask torch.Size([224, 224])\n",
      "✅ Loaded BraTS20_Training_336: Image torch.Size([3, 224, 224]), Mask torch.Size([224, 224])\n"
     ]
    },
    {
     "name": "stderr",
     "output_type": "stream",
     "text": [
      "Epoch [1/15]:  39%|███▊      | 29/75 [00:14<00:20,  2.27it/s, Loss=2.14]"
     ]
    },
    {
     "name": "stdout",
     "output_type": "stream",
     "text": [
      "✅ Loaded BraTS20_Training_086: Image torch.Size([3, 224, 224]), Mask torch.Size([224, 224])\n",
      "✅ Loaded BraTS20_Training_117: Image torch.Size([3, 224, 224]), Mask torch.Size([224, 224])\n"
     ]
    },
    {
     "name": "stderr",
     "output_type": "stream",
     "text": [
      "Epoch [1/15]:  40%|████      | 30/75 [00:14<00:19,  2.31it/s, Loss=2.19]"
     ]
    },
    {
     "name": "stdout",
     "output_type": "stream",
     "text": [
      "✅ Loaded BraTS20_Training_237: Image torch.Size([3, 224, 224]), Mask torch.Size([224, 224])\n",
      "✅ Loaded BraTS20_Training_186: Image torch.Size([3, 224, 224]), Mask torch.Size([224, 224])\n"
     ]
    },
    {
     "name": "stderr",
     "output_type": "stream",
     "text": [
      "Epoch [1/15]:  41%|████▏     | 31/75 [00:15<00:18,  2.33it/s, Loss=2]   "
     ]
    },
    {
     "name": "stdout",
     "output_type": "stream",
     "text": [
      "✅ Loaded BraTS20_Training_135: Image torch.Size([3, 224, 224]), Mask torch.Size([224, 224])\n",
      "✅ Loaded BraTS20_Training_106: Image torch.Size([3, 224, 224]), Mask torch.Size([224, 224])\n"
     ]
    },
    {
     "name": "stderr",
     "output_type": "stream",
     "text": [
      "Epoch [1/15]:  43%|████▎     | 32/75 [00:15<00:18,  2.36it/s, Loss=2.08]"
     ]
    },
    {
     "name": "stdout",
     "output_type": "stream",
     "text": [
      "✅ Loaded BraTS20_Training_150: Image torch.Size([3, 224, 224]), Mask torch.Size([224, 224])\n",
      "✅ Loaded BraTS20_Training_110: Image torch.Size([3, 224, 224]), Mask torch.Size([224, 224])\n"
     ]
    },
    {
     "name": "stderr",
     "output_type": "stream",
     "text": [
      "Epoch [1/15]:  44%|████▍     | 33/75 [00:15<00:17,  2.38it/s, Loss=2.02]"
     ]
    },
    {
     "name": "stdout",
     "output_type": "stream",
     "text": [
      "✅ Loaded BraTS20_Training_043: Image torch.Size([3, 224, 224]), Mask torch.Size([224, 224])\n",
      "✅ Loaded BraTS20_Training_262: Image torch.Size([3, 224, 224]), Mask torch.Size([224, 224])\n"
     ]
    },
    {
     "name": "stderr",
     "output_type": "stream",
     "text": [
      "Epoch [1/15]:  45%|████▌     | 34/75 [00:16<00:17,  2.38it/s, Loss=2.2] "
     ]
    },
    {
     "name": "stdout",
     "output_type": "stream",
     "text": [
      "✅ Loaded BraTS20_Training_033: Image torch.Size([3, 224, 224]), Mask torch.Size([224, 224])\n",
      "✅ Loaded BraTS20_Training_206: Image torch.Size([3, 224, 224]), Mask torch.Size([224, 224])\n"
     ]
    },
    {
     "name": "stderr",
     "output_type": "stream",
     "text": [
      "Epoch [1/15]:  47%|████▋     | 35/75 [00:16<00:16,  2.36it/s, Loss=2.18]"
     ]
    },
    {
     "name": "stdout",
     "output_type": "stream",
     "text": [
      "✅ Loaded BraTS20_Training_052: Image torch.Size([3, 224, 224]), Mask torch.Size([224, 224])\n",
      "✅ Loaded BraTS20_Training_279: Image torch.Size([3, 224, 224]), Mask torch.Size([224, 224])\n"
     ]
    },
    {
     "name": "stderr",
     "output_type": "stream",
     "text": [
      "Epoch [1/15]:  48%|████▊     | 36/75 [00:17<00:16,  2.37it/s, Loss=2.38]"
     ]
    },
    {
     "name": "stdout",
     "output_type": "stream",
     "text": [
      "✅ Loaded BraTS20_Training_080: Image torch.Size([3, 224, 224]), Mask torch.Size([224, 224])\n",
      "✅ Loaded BraTS20_Training_196: Image torch.Size([3, 224, 224]), Mask torch.Size([224, 224])\n"
     ]
    },
    {
     "name": "stderr",
     "output_type": "stream",
     "text": [
      "Epoch [1/15]:  49%|████▉     | 37/75 [00:17<00:15,  2.40it/s, Loss=2.08]"
     ]
    },
    {
     "name": "stdout",
     "output_type": "stream",
     "text": [
      "✅ Loaded BraTS20_Training_042: Image torch.Size([3, 224, 224]), Mask torch.Size([224, 224])\n",
      "✅ Loaded BraTS20_Training_203: Image torch.Size([3, 224, 224]), Mask torch.Size([224, 224])\n"
     ]
    },
    {
     "name": "stderr",
     "output_type": "stream",
     "text": [
      "Epoch [1/15]:  51%|█████     | 38/75 [00:18<00:15,  2.41it/s, Loss=2.05]"
     ]
    },
    {
     "name": "stdout",
     "output_type": "stream",
     "text": [
      "✅ Loaded BraTS20_Training_123: Image torch.Size([3, 224, 224]), Mask torch.Size([224, 224])\n",
      "✅ Loaded BraTS20_Training_037: Image torch.Size([3, 224, 224]), Mask torch.Size([224, 224])\n"
     ]
    },
    {
     "name": "stderr",
     "output_type": "stream",
     "text": [
      "Epoch [1/15]:  52%|█████▏    | 39/75 [00:18<00:14,  2.43it/s, Loss=1.97]"
     ]
    },
    {
     "name": "stdout",
     "output_type": "stream",
     "text": [
      "✅ Loaded BraTS20_Training_360: Image torch.Size([3, 224, 224]), Mask torch.Size([224, 224])\n",
      "✅ Loaded BraTS20_Training_230: Image torch.Size([3, 224, 224]), Mask torch.Size([224, 224])\n"
     ]
    },
    {
     "name": "stderr",
     "output_type": "stream",
     "text": [
      "Epoch [1/15]:  53%|█████▎    | 40/75 [00:18<00:14,  2.41it/s, Loss=2.13]"
     ]
    },
    {
     "name": "stdout",
     "output_type": "stream",
     "text": [
      "✅ Loaded BraTS20_Training_064: Image torch.Size([3, 224, 224]), Mask torch.Size([224, 224])\n",
      "✅ Loaded BraTS20_Training_253: Image torch.Size([3, 224, 224]), Mask torch.Size([224, 224])\n"
     ]
    },
    {
     "name": "stderr",
     "output_type": "stream",
     "text": [
      "Epoch [1/15]:  55%|█████▍    | 41/75 [00:19<00:13,  2.44it/s, Loss=2.02]"
     ]
    },
    {
     "name": "stdout",
     "output_type": "stream",
     "text": [
      "✅ Loaded BraTS20_Training_072: Image torch.Size([3, 224, 224]), Mask torch.Size([224, 224])\n",
      "✅ Loaded BraTS20_Training_222: Image torch.Size([3, 224, 224]), Mask torch.Size([224, 224])\n"
     ]
    },
    {
     "name": "stderr",
     "output_type": "stream",
     "text": [
      "Epoch [1/15]:  56%|█████▌    | 42/75 [00:19<00:13,  2.43it/s, Loss=2.04]"
     ]
    },
    {
     "name": "stdout",
     "output_type": "stream",
     "text": [
      "✅ Loaded BraTS20_Training_050: Image torch.Size([3, 224, 224]), Mask torch.Size([224, 224])\n",
      "✅ Loaded BraTS20_Training_083: Image torch.Size([3, 224, 224]), Mask torch.Size([224, 224])\n"
     ]
    },
    {
     "name": "stderr",
     "output_type": "stream",
     "text": [
      "Epoch [1/15]:  57%|█████▋    | 43/75 [00:20<00:13,  2.46it/s, Loss=1.99]"
     ]
    },
    {
     "name": "stdout",
     "output_type": "stream",
     "text": [
      "✅ Loaded BraTS20_Training_353: Image torch.Size([3, 224, 224]), Mask torch.Size([224, 224])\n",
      "✅ Loaded BraTS20_Training_099: Image torch.Size([3, 224, 224]), Mask torch.Size([224, 224])\n"
     ]
    },
    {
     "name": "stderr",
     "output_type": "stream",
     "text": [
      "Epoch [1/15]:  59%|█████▊    | 44/75 [00:20<00:12,  2.40it/s, Loss=2.1] "
     ]
    },
    {
     "name": "stdout",
     "output_type": "stream",
     "text": [
      "✅ Loaded BraTS20_Training_034: Image torch.Size([3, 224, 224]), Mask torch.Size([224, 224])\n",
      "✅ Loaded BraTS20_Training_364: Image torch.Size([3, 224, 224]), Mask torch.Size([224, 224])\n"
     ]
    },
    {
     "name": "stderr",
     "output_type": "stream",
     "text": [
      "Epoch [1/15]:  60%|██████    | 45/75 [00:20<00:12,  2.39it/s, Loss=2.08]"
     ]
    },
    {
     "name": "stdout",
     "output_type": "stream",
     "text": [
      "✅ Loaded BraTS20_Training_242: Image torch.Size([3, 224, 224]), Mask torch.Size([224, 224])\n",
      "✅ Loaded BraTS20_Training_326: Image torch.Size([3, 224, 224]), Mask torch.Size([224, 224])\n"
     ]
    },
    {
     "name": "stderr",
     "output_type": "stream",
     "text": [
      "Epoch [1/15]:  61%|██████▏   | 46/75 [00:21<00:12,  2.40it/s, Loss=2.17]"
     ]
    },
    {
     "name": "stdout",
     "output_type": "stream",
     "text": [
      "✅ Loaded BraTS20_Training_315: Image torch.Size([3, 224, 224]), Mask torch.Size([224, 224])\n",
      "✅ Loaded BraTS20_Training_151: Image torch.Size([3, 224, 224]), Mask torch.Size([224, 224])\n"
     ]
    },
    {
     "name": "stderr",
     "output_type": "stream",
     "text": [
      "Epoch [1/15]:  63%|██████▎   | 47/75 [00:21<00:11,  2.38it/s, Loss=2]   "
     ]
    },
    {
     "name": "stdout",
     "output_type": "stream",
     "text": [
      "✅ Loaded BraTS20_Training_282: Image torch.Size([3, 224, 224]), Mask torch.Size([224, 224])\n",
      "✅ Loaded BraTS20_Training_149: Image torch.Size([3, 224, 224]), Mask torch.Size([224, 224])\n"
     ]
    },
    {
     "name": "stderr",
     "output_type": "stream",
     "text": [
      "Epoch [1/15]:  64%|██████▍   | 48/75 [00:22<00:11,  2.39it/s, Loss=2]"
     ]
    },
    {
     "name": "stdout",
     "output_type": "stream",
     "text": [
      "✅ Loaded BraTS20_Training_309: Image torch.Size([3, 224, 224]), Mask torch.Size([224, 224])\n",
      "✅ Loaded BraTS20_Training_225: Image torch.Size([3, 224, 224]), Mask torch.Size([224, 224])\n"
     ]
    },
    {
     "name": "stderr",
     "output_type": "stream",
     "text": [
      "Epoch [1/15]:  65%|██████▌   | 49/75 [00:22<00:10,  2.43it/s, Loss=1.99]"
     ]
    },
    {
     "name": "stdout",
     "output_type": "stream",
     "text": [
      "✅ Loaded BraTS20_Training_155: Image torch.Size([3, 224, 224]), Mask torch.Size([224, 224])\n",
      "✅ Loaded BraTS20_Training_260: Image torch.Size([3, 224, 224]), Mask torch.Size([224, 224])\n"
     ]
    },
    {
     "name": "stderr",
     "output_type": "stream",
     "text": [
      "Epoch [1/15]:  67%|██████▋   | 50/75 [00:23<00:10,  2.41it/s, Loss=2.01]"
     ]
    },
    {
     "name": "stdout",
     "output_type": "stream",
     "text": [
      "✅ Loaded BraTS20_Training_280: Image torch.Size([3, 224, 224]), Mask torch.Size([224, 224])\n",
      "✅ Loaded BraTS20_Training_008: Image torch.Size([3, 224, 224]), Mask torch.Size([224, 224])\n"
     ]
    },
    {
     "name": "stderr",
     "output_type": "stream",
     "text": [
      "Epoch [1/15]:  68%|██████▊   | 51/75 [00:23<00:09,  2.40it/s, Loss=1.97]"
     ]
    },
    {
     "name": "stdout",
     "output_type": "stream",
     "text": [
      "✅ Loaded BraTS20_Training_329: Image torch.Size([3, 224, 224]), Mask torch.Size([224, 224])\n",
      "✅ Loaded BraTS20_Training_023: Image torch.Size([3, 224, 224]), Mask torch.Size([224, 224])\n"
     ]
    },
    {
     "name": "stderr",
     "output_type": "stream",
     "text": [
      "Epoch [1/15]:  69%|██████▉   | 52/75 [00:23<00:09,  2.40it/s, Loss=2.02]"
     ]
    },
    {
     "name": "stdout",
     "output_type": "stream",
     "text": [
      "✅ Loaded BraTS20_Training_271: Image torch.Size([3, 224, 224]), Mask torch.Size([224, 224])\n",
      "✅ Loaded BraTS20_Training_193: Image torch.Size([3, 224, 224]), Mask torch.Size([224, 224])\n"
     ]
    },
    {
     "name": "stderr",
     "output_type": "stream",
     "text": [
      "Epoch [1/15]:  71%|███████   | 53/75 [00:24<00:09,  2.38it/s, Loss=2.01]"
     ]
    },
    {
     "name": "stdout",
     "output_type": "stream",
     "text": [
      "✅ Loaded BraTS20_Training_318: Image torch.Size([3, 224, 224]), Mask torch.Size([224, 224])\n",
      "✅ Loaded BraTS20_Training_369: Image torch.Size([3, 224, 224]), Mask torch.Size([224, 224])\n"
     ]
    },
    {
     "name": "stderr",
     "output_type": "stream",
     "text": [
      "Epoch [1/15]:  72%|███████▏  | 54/75 [00:24<00:08,  2.37it/s, Loss=2.23]"
     ]
    },
    {
     "name": "stdout",
     "output_type": "stream",
     "text": [
      "✅ Loaded BraTS20_Training_120: Image torch.Size([3, 224, 224]), Mask torch.Size([224, 224])\n",
      "✅ Loaded BraTS20_Training_198: Image torch.Size([3, 224, 224]), Mask torch.Size([224, 224])\n"
     ]
    },
    {
     "name": "stderr",
     "output_type": "stream",
     "text": [
      "Epoch [1/15]:  73%|███████▎  | 55/75 [00:25<00:08,  2.36it/s, Loss=1.96]"
     ]
    },
    {
     "name": "stdout",
     "output_type": "stream",
     "text": [
      "✅ Loaded BraTS20_Training_258: Image torch.Size([3, 224, 224]), Mask torch.Size([224, 224])\n",
      "✅ Loaded BraTS20_Training_025: Image torch.Size([3, 224, 224]), Mask torch.Size([224, 224])\n"
     ]
    },
    {
     "name": "stderr",
     "output_type": "stream",
     "text": [
      "Epoch [1/15]:  75%|███████▍  | 56/75 [00:25<00:08,  2.32it/s, Loss=1.95]"
     ]
    },
    {
     "name": "stdout",
     "output_type": "stream",
     "text": [
      "✅ Loaded BraTS20_Training_001: Image torch.Size([3, 224, 224]), Mask torch.Size([224, 224])\n",
      "✅ Loaded BraTS20_Training_145: Image torch.Size([3, 224, 224]), Mask torch.Size([224, 224])\n"
     ]
    },
    {
     "name": "stderr",
     "output_type": "stream",
     "text": [
      "Epoch [1/15]:  76%|███████▌  | 57/75 [00:26<00:07,  2.32it/s, Loss=1.89]"
     ]
    },
    {
     "name": "stdout",
     "output_type": "stream",
     "text": [
      "✅ Loaded BraTS20_Training_201: Image torch.Size([3, 224, 224]), Mask torch.Size([224, 224])\n",
      "✅ Loaded BraTS20_Training_131: Image torch.Size([3, 224, 224]), Mask torch.Size([224, 224])\n"
     ]
    },
    {
     "name": "stderr",
     "output_type": "stream",
     "text": [
      "Epoch [1/15]:  77%|███████▋  | 58/75 [00:26<00:07,  2.34it/s, Loss=1.88]"
     ]
    },
    {
     "name": "stdout",
     "output_type": "stream",
     "text": [
      "✅ Loaded BraTS20_Training_147: Image torch.Size([3, 224, 224]), Mask torch.Size([224, 224])\n",
      "✅ Loaded BraTS20_Training_092: Image torch.Size([3, 224, 224]), Mask torch.Size([224, 224])\n"
     ]
    },
    {
     "name": "stderr",
     "output_type": "stream",
     "text": [
      "Epoch [1/15]:  79%|███████▊  | 59/75 [00:26<00:07,  2.28it/s, Loss=1.94]"
     ]
    },
    {
     "name": "stdout",
     "output_type": "stream",
     "text": [
      "✅ Loaded BraTS20_Training_027: Image torch.Size([3, 224, 224]), Mask torch.Size([224, 224])\n",
      "✅ Loaded BraTS20_Training_166: Image torch.Size([3, 224, 224]), Mask torch.Size([224, 224])\n"
     ]
    },
    {
     "name": "stderr",
     "output_type": "stream",
     "text": [
      "Epoch [1/15]:  80%|████████  | 60/75 [00:27<00:06,  2.24it/s, Loss=1.84]"
     ]
    },
    {
     "name": "stdout",
     "output_type": "stream",
     "text": [
      "✅ Loaded BraTS20_Training_073: Image torch.Size([3, 224, 224]), Mask torch.Size([224, 224])\n",
      "✅ Loaded BraTS20_Training_339: Image torch.Size([3, 224, 224]), Mask torch.Size([224, 224])\n"
     ]
    },
    {
     "name": "stderr",
     "output_type": "stream",
     "text": [
      "Epoch [1/15]:  81%|████████▏ | 61/75 [00:27<00:06,  2.25it/s, Loss=1.86]"
     ]
    },
    {
     "name": "stdout",
     "output_type": "stream",
     "text": [
      "✅ Loaded BraTS20_Training_161: Image torch.Size([3, 224, 224]), Mask torch.Size([224, 224])\n",
      "✅ Loaded BraTS20_Training_129: Image torch.Size([3, 224, 224]), Mask torch.Size([224, 224])\n"
     ]
    },
    {
     "name": "stderr",
     "output_type": "stream",
     "text": [
      "Epoch [1/15]:  83%|████████▎ | 62/75 [00:28<00:05,  2.28it/s, Loss=1.92]"
     ]
    },
    {
     "name": "stdout",
     "output_type": "stream",
     "text": [
      "✅ Loaded BraTS20_Training_233: Image torch.Size([3, 224, 224]), Mask torch.Size([224, 224])\n",
      "✅ Loaded BraTS20_Training_164: Image torch.Size([3, 224, 224]), Mask torch.Size([224, 224])\n"
     ]
    },
    {
     "name": "stderr",
     "output_type": "stream",
     "text": [
      "Epoch [1/15]:  84%|████████▍ | 63/75 [00:28<00:05,  2.29it/s, Loss=1.8] "
     ]
    },
    {
     "name": "stdout",
     "output_type": "stream",
     "text": [
      "✅ Loaded BraTS20_Training_056: Image torch.Size([3, 224, 224]), Mask torch.Size([224, 224])\n",
      "✅ Loaded BraTS20_Training_060: Image torch.Size([3, 224, 224]), Mask torch.Size([224, 224])\n"
     ]
    },
    {
     "name": "stderr",
     "output_type": "stream",
     "text": [
      "Epoch [1/15]:  85%|████████▌ | 64/75 [00:29<00:04,  2.23it/s, Loss=1.85]"
     ]
    },
    {
     "name": "stdout",
     "output_type": "stream",
     "text": [
      "✅ Loaded BraTS20_Training_020: Image torch.Size([3, 224, 224]), Mask torch.Size([224, 224])\n",
      "✅ Loaded BraTS20_Training_250: Image torch.Size([3, 224, 224]), Mask torch.Size([224, 224])\n"
     ]
    },
    {
     "name": "stderr",
     "output_type": "stream",
     "text": [
      "Epoch [1/15]:  87%|████████▋ | 65/75 [00:29<00:04,  2.14it/s, Loss=1.9] "
     ]
    },
    {
     "name": "stdout",
     "output_type": "stream",
     "text": [
      "✅ Loaded BraTS20_Training_024: Image torch.Size([3, 224, 224]), Mask torch.Size([224, 224])\n",
      "✅ Loaded BraTS20_Training_093: Image torch.Size([3, 224, 224]), Mask torch.Size([224, 224])\n"
     ]
    },
    {
     "name": "stderr",
     "output_type": "stream",
     "text": [
      "Epoch [1/15]:  88%|████████▊ | 66/75 [00:30<00:04,  2.14it/s, Loss=1.83]"
     ]
    },
    {
     "name": "stdout",
     "output_type": "stream",
     "text": [
      "✅ Loaded BraTS20_Training_257: Image torch.Size([3, 224, 224]), Mask torch.Size([224, 224])\n",
      "✅ Loaded BraTS20_Training_228: Image torch.Size([3, 224, 224]), Mask torch.Size([224, 224])\n"
     ]
    },
    {
     "name": "stderr",
     "output_type": "stream",
     "text": [
      "Epoch [1/15]:  89%|████████▉ | 67/75 [00:30<00:03,  2.19it/s, Loss=1.83]"
     ]
    },
    {
     "name": "stdout",
     "output_type": "stream",
     "text": [
      "✅ Loaded BraTS20_Training_126: Image torch.Size([3, 224, 224]), Mask torch.Size([224, 224])\n",
      "✅ Loaded BraTS20_Training_032: Image torch.Size([3, 224, 224]), Mask torch.Size([224, 224])\n"
     ]
    },
    {
     "name": "stderr",
     "output_type": "stream",
     "text": [
      "Epoch [1/15]:  91%|█████████ | 68/75 [00:30<00:03,  2.22it/s, Loss=1.8] "
     ]
    },
    {
     "name": "stdout",
     "output_type": "stream",
     "text": [
      "✅ Loaded BraTS20_Training_272: Image torch.Size([3, 224, 224]), Mask torch.Size([224, 224])\n",
      "✅ Loaded BraTS20_Training_061: Image torch.Size([3, 224, 224]), Mask torch.Size([224, 224])\n"
     ]
    },
    {
     "name": "stderr",
     "output_type": "stream",
     "text": [
      "Epoch [1/15]:  92%|█████████▏| 69/75 [00:31<00:02,  2.24it/s, Loss=1.88]"
     ]
    },
    {
     "name": "stdout",
     "output_type": "stream",
     "text": [
      "✅ Loaded BraTS20_Training_332: Image torch.Size([3, 224, 224]), Mask torch.Size([224, 224])\n",
      "✅ Loaded BraTS20_Training_053: Image torch.Size([3, 224, 224]), Mask torch.Size([224, 224])\n"
     ]
    },
    {
     "name": "stderr",
     "output_type": "stream",
     "text": [
      "Epoch [1/15]:  93%|█████████▎| 70/75 [00:31<00:02,  2.32it/s, Loss=1.85]"
     ]
    },
    {
     "name": "stdout",
     "output_type": "stream",
     "text": [
      "✅ Loaded BraTS20_Training_132: Image torch.Size([3, 224, 224]), Mask torch.Size([224, 224])\n",
      "✅ Loaded BraTS20_Training_270: Image torch.Size([3, 224, 224]), Mask torch.Size([224, 224])\n"
     ]
    },
    {
     "name": "stderr",
     "output_type": "stream",
     "text": [
      "Epoch [1/15]:  95%|█████████▍| 71/75 [00:32<00:01,  2.34it/s, Loss=1.67]"
     ]
    },
    {
     "name": "stdout",
     "output_type": "stream",
     "text": [
      "✅ Loaded BraTS20_Training_194: Image torch.Size([3, 224, 224]), Mask torch.Size([224, 224])\n",
      "✅ Loaded BraTS20_Training_058: Image torch.Size([3, 224, 224]), Mask torch.Size([224, 224])\n"
     ]
    },
    {
     "name": "stderr",
     "output_type": "stream",
     "text": [
      "Epoch [1/15]:  96%|█████████▌| 72/75 [00:32<00:01,  2.34it/s, Loss=1.81]"
     ]
    },
    {
     "name": "stdout",
     "output_type": "stream",
     "text": [
      "✅ Loaded BraTS20_Training_019: Image torch.Size([3, 224, 224]), Mask torch.Size([224, 224])\n",
      "✅ Loaded BraTS20_Training_158: Image torch.Size([3, 224, 224]), Mask torch.Size([224, 224])\n"
     ]
    },
    {
     "name": "stderr",
     "output_type": "stream",
     "text": [
      "Epoch [1/15]:  97%|█████████▋| 73/75 [00:33<00:00,  2.33it/s, Loss=1.82]"
     ]
    },
    {
     "name": "stdout",
     "output_type": "stream",
     "text": [
      "✅ Loaded BraTS20_Training_057: Image torch.Size([3, 224, 224]), Mask torch.Size([224, 224])\n",
      "✅ Loaded BraTS20_Training_255: Image torch.Size([3, 224, 224]), Mask torch.Size([224, 224])\n"
     ]
    },
    {
     "name": "stderr",
     "output_type": "stream",
     "text": [
      "Epoch [1/15]:  99%|█████████▊| 74/75 [00:33<00:00,  2.33it/s, Loss=1.75]"
     ]
    },
    {
     "name": "stdout",
     "output_type": "stream",
     "text": [
      "✅ Loaded BraTS20_Training_278: Image torch.Size([3, 224, 224]), Mask torch.Size([224, 224])\n",
      "✅ Loaded BraTS20_Training_268: Image torch.Size([3, 224, 224]), Mask torch.Size([224, 224])\n"
     ]
    },
    {
     "name": "stderr",
     "output_type": "stream",
     "text": [
      "                                                                        \r"
     ]
    },
    {
     "name": "stdout",
     "output_type": "stream",
     "text": [
      "\n",
      "✅ Epoch 1: Train Loss: 2.1424\n",
      "💾 Saved model at epoch 1 with train loss 2.1424\n"
     ]
    },
    {
     "name": "stderr",
     "output_type": "stream",
     "text": [
      "Epoch [2/15]:   0%|          | 0/75 [00:00<?, ?it/s]"
     ]
    },
    {
     "name": "stdout",
     "output_type": "stream",
     "text": [
      "✅ Loaded BraTS20_Training_087: Image torch.Size([3, 224, 224]), Mask torch.Size([224, 224])\n",
      "✅ Loaded BraTS20_Training_033: Image torch.Size([3, 224, 224]), Mask torch.Size([224, 224])\n"
     ]
    },
    {
     "name": "stderr",
     "output_type": "stream",
     "text": [
      "Epoch [2/15]:   1%|▏         | 1/75 [00:00<00:32,  2.26it/s, Loss=1.81]"
     ]
    },
    {
     "name": "stdout",
     "output_type": "stream",
     "text": [
      "✅ Loaded BraTS20_Training_155: Image torch.Size([3, 224, 224]), Mask torch.Size([224, 224])\n",
      "✅ Loaded BraTS20_Training_064: Image torch.Size([3, 224, 224]), Mask torch.Size([224, 224])\n"
     ]
    },
    {
     "name": "stderr",
     "output_type": "stream",
     "text": [
      "Epoch [2/15]:   3%|▎         | 2/75 [00:00<00:31,  2.29it/s, Loss=1.69]"
     ]
    },
    {
     "name": "stdout",
     "output_type": "stream",
     "text": [
      "✅ Loaded BraTS20_Training_224: Image torch.Size([3, 224, 224]), Mask torch.Size([224, 224])\n",
      "✅ Loaded BraTS20_Training_123: Image torch.Size([3, 224, 224]), Mask torch.Size([224, 224])\n"
     ]
    },
    {
     "name": "stderr",
     "output_type": "stream",
     "text": [
      "Epoch [2/15]:   4%|▍         | 3/75 [00:01<00:31,  2.28it/s, Loss=1.73]"
     ]
    },
    {
     "name": "stdout",
     "output_type": "stream",
     "text": [
      "✅ Loaded BraTS20_Training_228: Image torch.Size([3, 224, 224]), Mask torch.Size([224, 224])\n",
      "✅ Loaded BraTS20_Training_121: Image torch.Size([3, 224, 224]), Mask torch.Size([224, 224])\n"
     ]
    },
    {
     "name": "stderr",
     "output_type": "stream",
     "text": [
      "Epoch [2/15]:   5%|▌         | 4/75 [00:01<00:30,  2.31it/s, Loss=1.8] "
     ]
    },
    {
     "name": "stdout",
     "output_type": "stream",
     "text": [
      "✅ Loaded BraTS20_Training_132: Image torch.Size([3, 224, 224]), Mask torch.Size([224, 224])\n",
      "✅ Loaded BraTS20_Training_260: Image torch.Size([3, 224, 224]), Mask torch.Size([224, 224])\n"
     ]
    },
    {
     "name": "stderr",
     "output_type": "stream",
     "text": [
      "Epoch [2/15]:   7%|▋         | 5/75 [00:02<00:30,  2.33it/s, Loss=1.67]"
     ]
    },
    {
     "name": "stdout",
     "output_type": "stream",
     "text": [
      "✅ Loaded BraTS20_Training_206: Image torch.Size([3, 224, 224]), Mask torch.Size([224, 224])\n",
      "✅ Loaded BraTS20_Training_239: Image torch.Size([3, 224, 224]), Mask torch.Size([224, 224])\n"
     ]
    },
    {
     "name": "stderr",
     "output_type": "stream",
     "text": [
      "Epoch [2/15]:   8%|▊         | 6/75 [00:02<00:29,  2.37it/s, Loss=1.78]"
     ]
    },
    {
     "name": "stdout",
     "output_type": "stream",
     "text": [
      "✅ Loaded BraTS20_Training_099: Image torch.Size([3, 224, 224]), Mask torch.Size([224, 224])\n",
      "✅ Loaded BraTS20_Training_220: Image torch.Size([3, 224, 224]), Mask torch.Size([224, 224])\n"
     ]
    },
    {
     "name": "stderr",
     "output_type": "stream",
     "text": [
      "Epoch [2/15]:   9%|▉         | 7/75 [00:02<00:28,  2.40it/s, Loss=1.72]"
     ]
    },
    {
     "name": "stdout",
     "output_type": "stream",
     "text": [
      "✅ Loaded BraTS20_Training_073: Image torch.Size([3, 224, 224]), Mask torch.Size([224, 224])\n",
      "✅ Loaded BraTS20_Training_001: Image torch.Size([3, 224, 224]), Mask torch.Size([224, 224])\n"
     ]
    },
    {
     "name": "stderr",
     "output_type": "stream",
     "text": [
      "Epoch [2/15]:  11%|█         | 8/75 [00:03<00:27,  2.47it/s, Loss=1.66]"
     ]
    },
    {
     "name": "stdout",
     "output_type": "stream",
     "text": [
      "✅ Loaded BraTS20_Training_050: Image torch.Size([3, 224, 224]), Mask torch.Size([224, 224])\n",
      "✅ Loaded BraTS20_Training_326: Image torch.Size([3, 224, 224]), Mask torch.Size([224, 224])\n"
     ]
    },
    {
     "name": "stderr",
     "output_type": "stream",
     "text": [
      "Epoch [2/15]:  12%|█▏        | 9/75 [00:03<00:26,  2.48it/s, Loss=1.78]"
     ]
    },
    {
     "name": "stdout",
     "output_type": "stream",
     "text": [
      "✅ Loaded BraTS20_Training_245: Image torch.Size([3, 224, 224]), Mask torch.Size([224, 224])\n",
      "✅ Loaded BraTS20_Training_032: Image torch.Size([3, 224, 224]), Mask torch.Size([224, 224])\n"
     ]
    },
    {
     "name": "stderr",
     "output_type": "stream",
     "text": [
      "Epoch [2/15]:  13%|█▎        | 10/75 [00:04<00:26,  2.48it/s, Loss=1.59]"
     ]
    },
    {
     "name": "stdout",
     "output_type": "stream",
     "text": [
      "✅ Loaded BraTS20_Training_290: Image torch.Size([3, 224, 224]), Mask torch.Size([224, 224])\n",
      "✅ Loaded BraTS20_Training_315: Image torch.Size([3, 224, 224]), Mask torch.Size([224, 224])\n"
     ]
    },
    {
     "name": "stderr",
     "output_type": "stream",
     "text": [
      "Epoch [2/15]:  15%|█▍        | 11/75 [00:04<00:25,  2.49it/s, Loss=1.76]"
     ]
    },
    {
     "name": "stdout",
     "output_type": "stream",
     "text": [
      "✅ Loaded BraTS20_Training_023: Image torch.Size([3, 224, 224]), Mask torch.Size([224, 224])\n",
      "✅ Loaded BraTS20_Training_230: Image torch.Size([3, 224, 224]), Mask torch.Size([224, 224])\n"
     ]
    },
    {
     "name": "stderr",
     "output_type": "stream",
     "text": [
      "Epoch [2/15]:  16%|█▌        | 12/75 [00:04<00:25,  2.49it/s, Loss=1.73]"
     ]
    },
    {
     "name": "stdout",
     "output_type": "stream",
     "text": [
      "✅ Loaded BraTS20_Training_297: Image torch.Size([3, 224, 224]), Mask torch.Size([224, 224])\n",
      "✅ Loaded BraTS20_Training_270: Image torch.Size([3, 224, 224]), Mask torch.Size([224, 224])\n"
     ]
    },
    {
     "name": "stderr",
     "output_type": "stream",
     "text": [
      "Epoch [2/15]:  17%|█▋        | 13/75 [00:05<00:25,  2.47it/s, Loss=1.64]"
     ]
    },
    {
     "name": "stdout",
     "output_type": "stream",
     "text": [
      "✅ Loaded BraTS20_Training_042: Image torch.Size([3, 224, 224]), Mask torch.Size([224, 224])\n",
      "✅ Loaded BraTS20_Training_020: Image torch.Size([3, 224, 224]), Mask torch.Size([224, 224])\n"
     ]
    },
    {
     "name": "stderr",
     "output_type": "stream",
     "text": [
      "Epoch [2/15]:  19%|█▊        | 14/75 [00:05<00:24,  2.48it/s, Loss=1.7] "
     ]
    },
    {
     "name": "stdout",
     "output_type": "stream",
     "text": [
      "✅ Loaded BraTS20_Training_364: Image torch.Size([3, 224, 224]), Mask torch.Size([224, 224])\n",
      "✅ Loaded BraTS20_Training_025: Image torch.Size([3, 224, 224]), Mask torch.Size([224, 224])\n"
     ]
    },
    {
     "name": "stderr",
     "output_type": "stream",
     "text": [
      "Epoch [2/15]:  20%|██        | 15/75 [00:06<00:24,  2.45it/s, Loss=1.71]"
     ]
    },
    {
     "name": "stdout",
     "output_type": "stream",
     "text": [
      "✅ Loaded BraTS20_Training_015: Image torch.Size([3, 224, 224]), Mask torch.Size([224, 224])\n",
      "✅ Loaded BraTS20_Training_272: Image torch.Size([3, 224, 224]), Mask torch.Size([224, 224])\n"
     ]
    },
    {
     "name": "stderr",
     "output_type": "stream",
     "text": [
      "Epoch [2/15]:  21%|██▏       | 16/75 [00:06<00:23,  2.47it/s, Loss=1.69]"
     ]
    },
    {
     "name": "stdout",
     "output_type": "stream",
     "text": [
      "✅ Loaded BraTS20_Training_129: Image torch.Size([3, 224, 224]), Mask torch.Size([224, 224])\n",
      "✅ Loaded BraTS20_Training_329: Image torch.Size([3, 224, 224]), Mask torch.Size([224, 224])\n"
     ]
    },
    {
     "name": "stderr",
     "output_type": "stream",
     "text": [
      "Epoch [2/15]:  23%|██▎       | 17/75 [00:07<00:23,  2.44it/s, Loss=1.74]"
     ]
    },
    {
     "name": "stdout",
     "output_type": "stream",
     "text": [
      "✅ Loaded BraTS20_Training_339: Image torch.Size([3, 224, 224]), Mask torch.Size([224, 224])\n",
      "✅ Loaded BraTS20_Training_105: Image torch.Size([3, 224, 224]), Mask torch.Size([224, 224])\n"
     ]
    },
    {
     "name": "stderr",
     "output_type": "stream",
     "text": [
      "Epoch [2/15]:  24%|██▍       | 18/75 [00:07<00:23,  2.43it/s, Loss=1.63]"
     ]
    },
    {
     "name": "stdout",
     "output_type": "stream",
     "text": [
      "✅ Loaded BraTS20_Training_318: Image torch.Size([3, 224, 224]), Mask torch.Size([224, 224])\n",
      "✅ Loaded BraTS20_Training_213: Image torch.Size([3, 224, 224]), Mask torch.Size([224, 224])\n"
     ]
    },
    {
     "name": "stderr",
     "output_type": "stream",
     "text": [
      "Epoch [2/15]:  25%|██▌       | 19/75 [00:07<00:22,  2.45it/s, Loss=1.83]"
     ]
    },
    {
     "name": "stdout",
     "output_type": "stream",
     "text": [
      "✅ Loaded BraTS20_Training_096: Image torch.Size([3, 224, 224]), Mask torch.Size([224, 224])\n",
      "✅ Loaded BraTS20_Training_022: Image torch.Size([3, 224, 224]), Mask torch.Size([224, 224])\n"
     ]
    },
    {
     "name": "stderr",
     "output_type": "stream",
     "text": [
      "Epoch [2/15]:  27%|██▋       | 20/75 [00:08<00:22,  2.44it/s, Loss=1.65]"
     ]
    },
    {
     "name": "stdout",
     "output_type": "stream",
     "text": [
      "✅ Loaded BraTS20_Training_267: Image torch.Size([3, 224, 224]), Mask torch.Size([224, 224])\n",
      "✅ Loaded BraTS20_Training_106: Image torch.Size([3, 224, 224]), Mask torch.Size([224, 224])\n"
     ]
    },
    {
     "name": "stderr",
     "output_type": "stream",
     "text": [
      "Epoch [2/15]:  28%|██▊       | 21/75 [00:08<00:22,  2.42it/s, Loss=1.75]"
     ]
    },
    {
     "name": "stdout",
     "output_type": "stream",
     "text": [
      "✅ Loaded BraTS20_Training_072: Image torch.Size([3, 224, 224]), Mask torch.Size([224, 224])\n",
      "✅ Loaded BraTS20_Training_227: Image torch.Size([3, 224, 224]), Mask torch.Size([224, 224])\n"
     ]
    },
    {
     "name": "stderr",
     "output_type": "stream",
     "text": [
      "Epoch [2/15]:  29%|██▉       | 22/75 [00:09<00:22,  2.39it/s, Loss=1.65]"
     ]
    },
    {
     "name": "stdout",
     "output_type": "stream",
     "text": [
      "✅ Loaded BraTS20_Training_131: Image torch.Size([3, 224, 224]), Mask torch.Size([224, 224])\n",
      "✅ Loaded BraTS20_Training_271: Image torch.Size([3, 224, 224]), Mask torch.Size([224, 224])\n"
     ]
    },
    {
     "name": "stderr",
     "output_type": "stream",
     "text": [
      "Epoch [2/15]:  31%|███       | 23/75 [00:09<00:22,  2.36it/s, Loss=1.75]"
     ]
    },
    {
     "name": "stdout",
     "output_type": "stream",
     "text": [
      "✅ Loaded BraTS20_Training_332: Image torch.Size([3, 224, 224]), Mask torch.Size([224, 224])\n",
      "✅ Loaded BraTS20_Training_058: Image torch.Size([3, 224, 224]), Mask torch.Size([224, 224])\n"
     ]
    },
    {
     "name": "stderr",
     "output_type": "stream",
     "text": [
      "Epoch [2/15]:  32%|███▏      | 24/75 [00:09<00:21,  2.35it/s, Loss=1.67]"
     ]
    },
    {
     "name": "stdout",
     "output_type": "stream",
     "text": [
      "✅ Loaded BraTS20_Training_348: Image torch.Size([3, 224, 224]), Mask torch.Size([224, 224])\n",
      "✅ Loaded BraTS20_Training_253: Image torch.Size([3, 224, 224]), Mask torch.Size([224, 224])\n"
     ]
    },
    {
     "name": "stderr",
     "output_type": "stream",
     "text": [
      "Epoch [2/15]:  33%|███▎      | 25/75 [00:10<00:21,  2.31it/s, Loss=1.65]"
     ]
    },
    {
     "name": "stdout",
     "output_type": "stream",
     "text": [
      "✅ Loaded BraTS20_Training_086: Image torch.Size([3, 224, 224]), Mask torch.Size([224, 224])\n",
      "✅ Loaded BraTS20_Training_233: Image torch.Size([3, 224, 224]), Mask torch.Size([224, 224])\n"
     ]
    },
    {
     "name": "stderr",
     "output_type": "stream",
     "text": [
      "Epoch [2/15]:  35%|███▍      | 26/75 [00:10<00:20,  2.34it/s, Loss=1.67]"
     ]
    },
    {
     "name": "stdout",
     "output_type": "stream",
     "text": [
      "✅ Loaded BraTS20_Training_069: Image torch.Size([3, 224, 224]), Mask torch.Size([224, 224])\n",
      "✅ Loaded BraTS20_Training_124: Image torch.Size([3, 224, 224]), Mask torch.Size([224, 224])\n"
     ]
    },
    {
     "name": "stderr",
     "output_type": "stream",
     "text": [
      "Epoch [2/15]:  36%|███▌      | 27/75 [00:11<00:20,  2.35it/s, Loss=1.69]"
     ]
    },
    {
     "name": "stdout",
     "output_type": "stream",
     "text": [
      "✅ Loaded BraTS20_Training_183: Image torch.Size([3, 224, 224]), Mask torch.Size([224, 224])\n",
      "✅ Loaded BraTS20_Training_226: Image torch.Size([3, 224, 224]), Mask torch.Size([224, 224])\n"
     ]
    },
    {
     "name": "stderr",
     "output_type": "stream",
     "text": [
      "Epoch [2/15]:  37%|███▋      | 28/75 [00:11<00:19,  2.37it/s, Loss=1.57]"
     ]
    },
    {
     "name": "stdout",
     "output_type": "stream",
     "text": [
      "✅ Loaded BraTS20_Training_180: Image torch.Size([3, 224, 224]), Mask torch.Size([224, 224])\n",
      "✅ Loaded BraTS20_Training_278: Image torch.Size([3, 224, 224]), Mask torch.Size([224, 224])\n"
     ]
    },
    {
     "name": "stderr",
     "output_type": "stream",
     "text": [
      "Epoch [2/15]:  39%|███▊      | 29/75 [00:12<00:19,  2.40it/s, Loss=1.57]"
     ]
    },
    {
     "name": "stdout",
     "output_type": "stream",
     "text": [
      "✅ Loaded BraTS20_Training_282: Image torch.Size([3, 224, 224]), Mask torch.Size([224, 224])\n",
      "✅ Loaded BraTS20_Training_117: Image torch.Size([3, 224, 224]), Mask torch.Size([224, 224])\n"
     ]
    },
    {
     "name": "stderr",
     "output_type": "stream",
     "text": [
      "Epoch [2/15]:  40%|████      | 30/75 [00:12<00:19,  2.35it/s, Loss=1.63]"
     ]
    },
    {
     "name": "stdout",
     "output_type": "stream",
     "text": [
      "✅ Loaded BraTS20_Training_268: Image torch.Size([3, 224, 224]), Mask torch.Size([224, 224])\n",
      "✅ Loaded BraTS20_Training_262: Image torch.Size([3, 224, 224]), Mask torch.Size([224, 224])\n"
     ]
    },
    {
     "name": "stderr",
     "output_type": "stream",
     "text": [
      "Epoch [2/15]:  41%|████▏     | 31/75 [00:12<00:18,  2.33it/s, Loss=1.66]"
     ]
    },
    {
     "name": "stdout",
     "output_type": "stream",
     "text": [
      "✅ Loaded BraTS20_Training_322: Image torch.Size([3, 224, 224]), Mask torch.Size([224, 224])\n",
      "✅ Loaded BraTS20_Training_273: Image torch.Size([3, 224, 224]), Mask torch.Size([224, 224])\n"
     ]
    },
    {
     "name": "stderr",
     "output_type": "stream",
     "text": [
      "Epoch [2/15]:  43%|████▎     | 32/75 [00:13<00:17,  2.41it/s, Loss=1.7] "
     ]
    },
    {
     "name": "stdout",
     "output_type": "stream",
     "text": [
      "✅ Loaded BraTS20_Training_149: Image torch.Size([3, 224, 224]), Mask torch.Size([224, 224])\n",
      "✅ Loaded BraTS20_Training_019: Image torch.Size([3, 224, 224]), Mask torch.Size([224, 224])\n"
     ]
    },
    {
     "name": "stderr",
     "output_type": "stream",
     "text": [
      "Epoch [2/15]:  44%|████▍     | 33/75 [00:13<00:17,  2.44it/s, Loss=1.67]"
     ]
    },
    {
     "name": "stdout",
     "output_type": "stream",
     "text": [
      "✅ Loaded BraTS20_Training_017: Image torch.Size([3, 224, 224]), Mask torch.Size([224, 224])\n",
      "✅ Loaded BraTS20_Training_093: Image torch.Size([3, 224, 224]), Mask torch.Size([224, 224])\n"
     ]
    },
    {
     "name": "stderr",
     "output_type": "stream",
     "text": [
      "Epoch [2/15]:  45%|████▌     | 34/75 [00:14<00:16,  2.46it/s, Loss=1.57]"
     ]
    },
    {
     "name": "stdout",
     "output_type": "stream",
     "text": [
      "✅ Loaded BraTS20_Training_079: Image torch.Size([3, 224, 224]), Mask torch.Size([224, 224])\n",
      "✅ Loaded BraTS20_Training_092: Image torch.Size([3, 224, 224]), Mask torch.Size([224, 224])\n"
     ]
    },
    {
     "name": "stderr",
     "output_type": "stream",
     "text": [
      "Epoch [2/15]:  47%|████▋     | 35/75 [00:14<00:16,  2.47it/s, Loss=1.53]"
     ]
    },
    {
     "name": "stdout",
     "output_type": "stream",
     "text": [
      "✅ Loaded BraTS20_Training_201: Image torch.Size([3, 224, 224]), Mask torch.Size([224, 224])\n",
      "✅ Loaded BraTS20_Training_036: Image torch.Size([3, 224, 224]), Mask torch.Size([224, 224])\n"
     ]
    },
    {
     "name": "stderr",
     "output_type": "stream",
     "text": [
      "Epoch [2/15]:  48%|████▊     | 36/75 [00:14<00:15,  2.51it/s, Loss=1.51]"
     ]
    },
    {
     "name": "stdout",
     "output_type": "stream",
     "text": [
      "✅ Loaded BraTS20_Training_060: Image torch.Size([3, 224, 224]), Mask torch.Size([224, 224])\n",
      "✅ Loaded BraTS20_Training_052: Image torch.Size([3, 224, 224]), Mask torch.Size([224, 224])\n"
     ]
    },
    {
     "name": "stderr",
     "output_type": "stream",
     "text": [
      "Epoch [2/15]:  49%|████▉     | 37/75 [00:15<00:14,  2.54it/s, Loss=1.57]"
     ]
    },
    {
     "name": "stdout",
     "output_type": "stream",
     "text": [
      "✅ Loaded BraTS20_Training_225: Image torch.Size([3, 224, 224]), Mask torch.Size([224, 224])\n",
      "✅ Loaded BraTS20_Training_279: Image torch.Size([3, 224, 224]), Mask torch.Size([224, 224])\n"
     ]
    },
    {
     "name": "stderr",
     "output_type": "stream",
     "text": [
      "Epoch [2/15]:  51%|█████     | 38/75 [00:15<00:14,  2.53it/s, Loss=1.67]"
     ]
    },
    {
     "name": "stdout",
     "output_type": "stream",
     "text": [
      "✅ Loaded BraTS20_Training_188: Image torch.Size([3, 224, 224]), Mask torch.Size([224, 224])\n",
      "✅ Loaded BraTS20_Training_302: Image torch.Size([3, 224, 224]), Mask torch.Size([224, 224])\n"
     ]
    },
    {
     "name": "stderr",
     "output_type": "stream",
     "text": [
      "Epoch [2/15]:  52%|█████▏    | 39/75 [00:16<00:14,  2.49it/s, Loss=1.69]"
     ]
    },
    {
     "name": "stdout",
     "output_type": "stream",
     "text": [
      "✅ Loaded BraTS20_Training_140: Image torch.Size([3, 224, 224]), Mask torch.Size([224, 224])\n",
      "✅ Loaded BraTS20_Training_021: Image torch.Size([3, 224, 224]), Mask torch.Size([224, 224])\n"
     ]
    },
    {
     "name": "stderr",
     "output_type": "stream",
     "text": [
      "Epoch [2/15]:  53%|█████▎    | 40/75 [00:16<00:13,  2.52it/s, Loss=1.58]"
     ]
    },
    {
     "name": "stdout",
     "output_type": "stream",
     "text": [
      "✅ Loaded BraTS20_Training_119: Image torch.Size([3, 224, 224]), Mask torch.Size([224, 224])\n",
      "✅ Loaded BraTS20_Training_135: Image torch.Size([3, 224, 224]), Mask torch.Size([224, 224])\n"
     ]
    },
    {
     "name": "stderr",
     "output_type": "stream",
     "text": [
      "Epoch [2/15]:  55%|█████▍    | 41/75 [00:16<00:13,  2.52it/s, Loss=1.57]"
     ]
    },
    {
     "name": "stdout",
     "output_type": "stream",
     "text": [
      "✅ Loaded BraTS20_Training_197: Image torch.Size([3, 224, 224]), Mask torch.Size([224, 224])\n",
      "✅ Loaded BraTS20_Training_289: Image torch.Size([3, 224, 224]), Mask torch.Size([224, 224])\n"
     ]
    },
    {
     "name": "stderr",
     "output_type": "stream",
     "text": [
      "Epoch [2/15]:  56%|█████▌    | 42/75 [00:17<00:12,  2.54it/s, Loss=1.55]"
     ]
    },
    {
     "name": "stdout",
     "output_type": "stream",
     "text": [
      "✅ Loaded BraTS20_Training_312: Image torch.Size([3, 224, 224]), Mask torch.Size([224, 224])\n",
      "✅ Loaded BraTS20_Training_258: Image torch.Size([3, 224, 224]), Mask torch.Size([224, 224])\n"
     ]
    },
    {
     "name": "stderr",
     "output_type": "stream",
     "text": [
      "Epoch [2/15]:  57%|█████▋    | 43/75 [00:17<00:12,  2.53it/s, Loss=1.75]"
     ]
    },
    {
     "name": "stdout",
     "output_type": "stream",
     "text": [
      "✅ Loaded BraTS20_Training_198: Image torch.Size([3, 224, 224]), Mask torch.Size([224, 224])\n",
      "✅ Loaded BraTS20_Training_309: Image torch.Size([3, 224, 224]), Mask torch.Size([224, 224])\n"
     ]
    },
    {
     "name": "stderr",
     "output_type": "stream",
     "text": [
      "Epoch [2/15]:  59%|█████▊    | 44/75 [00:18<00:12,  2.52it/s, Loss=1.58]"
     ]
    },
    {
     "name": "stdout",
     "output_type": "stream",
     "text": [
      "✅ Loaded BraTS20_Training_024: Image torch.Size([3, 224, 224]), Mask torch.Size([224, 224])\n",
      "✅ Loaded BraTS20_Training_248: Image torch.Size([3, 224, 224]), Mask torch.Size([224, 224])\n"
     ]
    },
    {
     "name": "stderr",
     "output_type": "stream",
     "text": [
      "Epoch [2/15]:  60%|██████    | 45/75 [00:18<00:11,  2.51it/s, Loss=1.59]"
     ]
    },
    {
     "name": "stdout",
     "output_type": "stream",
     "text": [
      "✅ Loaded BraTS20_Training_110: Image torch.Size([3, 224, 224]), Mask torch.Size([224, 224])\n",
      "✅ Loaded BraTS20_Training_061: Image torch.Size([3, 224, 224]), Mask torch.Size([224, 224])\n"
     ]
    },
    {
     "name": "stderr",
     "output_type": "stream",
     "text": [
      "Epoch [2/15]:  61%|██████▏   | 46/75 [00:18<00:11,  2.51it/s, Loss=1.57]"
     ]
    },
    {
     "name": "stdout",
     "output_type": "stream",
     "text": [
      "✅ Loaded BraTS20_Training_275: Image torch.Size([3, 224, 224]), Mask torch.Size([224, 224])\n",
      "✅ Loaded BraTS20_Training_125: Image torch.Size([3, 224, 224]), Mask torch.Size([224, 224])\n"
     ]
    },
    {
     "name": "stderr",
     "output_type": "stream",
     "text": [
      "Epoch [2/15]:  63%|██████▎   | 47/75 [00:19<00:11,  2.48it/s, Loss=1.58]"
     ]
    },
    {
     "name": "stdout",
     "output_type": "stream",
     "text": [
      "✅ Loaded BraTS20_Training_277: Image torch.Size([3, 224, 224]), Mask torch.Size([224, 224])\n",
      "✅ Loaded BraTS20_Training_259: Image torch.Size([3, 224, 224]), Mask torch.Size([224, 224])\n"
     ]
    },
    {
     "name": "stderr",
     "output_type": "stream",
     "text": [
      "Epoch [2/15]:  64%|██████▍   | 48/75 [00:19<00:10,  2.48it/s, Loss=1.56]"
     ]
    },
    {
     "name": "stdout",
     "output_type": "stream",
     "text": [
      "✅ Loaded BraTS20_Training_308: Image torch.Size([3, 224, 224]), Mask torch.Size([224, 224])\n",
      "✅ Loaded BraTS20_Training_345: Image torch.Size([3, 224, 224]), Mask torch.Size([224, 224])\n"
     ]
    },
    {
     "name": "stderr",
     "output_type": "stream",
     "text": [
      "Epoch [2/15]:  65%|██████▌   | 49/75 [00:20<00:10,  2.49it/s, Loss=1.62]"
     ]
    },
    {
     "name": "stdout",
     "output_type": "stream",
     "text": [
      "✅ Loaded BraTS20_Training_194: Image torch.Size([3, 224, 224]), Mask torch.Size([224, 224])\n",
      "✅ Loaded BraTS20_Training_164: Image torch.Size([3, 224, 224]), Mask torch.Size([224, 224])\n"
     ]
    },
    {
     "name": "stderr",
     "output_type": "stream",
     "text": [
      "Epoch [2/15]:  67%|██████▋   | 50/75 [00:20<00:10,  2.49it/s, Loss=1.46]"
     ]
    },
    {
     "name": "stdout",
     "output_type": "stream",
     "text": [
      "✅ Loaded BraTS20_Training_195: Image torch.Size([3, 224, 224]), Mask torch.Size([224, 224])\n",
      "✅ Loaded BraTS20_Training_196: Image torch.Size([3, 224, 224]), Mask torch.Size([224, 224])\n"
     ]
    },
    {
     "name": "stderr",
     "output_type": "stream",
     "text": [
      "Epoch [2/15]:  68%|██████▊   | 51/75 [00:20<00:09,  2.50it/s, Loss=1.5] "
     ]
    },
    {
     "name": "stdout",
     "output_type": "stream",
     "text": [
      "✅ Loaded BraTS20_Training_010: Image torch.Size([3, 224, 224]), Mask torch.Size([224, 224])\n",
      "✅ Loaded BraTS20_Training_193: Image torch.Size([3, 224, 224]), Mask torch.Size([224, 224])\n"
     ]
    },
    {
     "name": "stderr",
     "output_type": "stream",
     "text": [
      "Epoch [2/15]:  69%|██████▉   | 52/75 [00:21<00:09,  2.53it/s, Loss=1.51]"
     ]
    },
    {
     "name": "stdout",
     "output_type": "stream",
     "text": [
      "✅ Loaded BraTS20_Training_034: Image torch.Size([3, 224, 224]), Mask torch.Size([224, 224])\n",
      "✅ Loaded BraTS20_Training_166: Image torch.Size([3, 224, 224]), Mask torch.Size([224, 224])\n"
     ]
    },
    {
     "name": "stderr",
     "output_type": "stream",
     "text": [
      "Epoch [2/15]:  71%|███████   | 53/75 [00:21<00:08,  2.52it/s, Loss=1.43]"
     ]
    },
    {
     "name": "stdout",
     "output_type": "stream",
     "text": [
      "✅ Loaded BraTS20_Training_043: Image torch.Size([3, 224, 224]), Mask torch.Size([224, 224])\n",
      "✅ Loaded BraTS20_Training_353: Image torch.Size([3, 224, 224]), Mask torch.Size([224, 224])\n"
     ]
    },
    {
     "name": "stderr",
     "output_type": "stream",
     "text": [
      "Epoch [2/15]:  72%|███████▏  | 54/75 [00:22<00:08,  2.49it/s, Loss=1.54]"
     ]
    },
    {
     "name": "stdout",
     "output_type": "stream",
     "text": [
      "✅ Loaded BraTS20_Training_116: Image torch.Size([3, 224, 224]), Mask torch.Size([224, 224])\n",
      "✅ Loaded BraTS20_Training_165: Image torch.Size([3, 224, 224]), Mask torch.Size([224, 224])\n"
     ]
    },
    {
     "name": "stderr",
     "output_type": "stream",
     "text": [
      "Epoch [2/15]:  73%|███████▎  | 55/75 [00:22<00:07,  2.51it/s, Loss=1.48]"
     ]
    },
    {
     "name": "stdout",
     "output_type": "stream",
     "text": [
      "✅ Loaded BraTS20_Training_150: Image torch.Size([3, 224, 224]), Mask torch.Size([224, 224])\n",
      "✅ Loaded BraTS20_Training_145: Image torch.Size([3, 224, 224]), Mask torch.Size([224, 224])\n"
     ]
    },
    {
     "name": "stderr",
     "output_type": "stream",
     "text": [
      "Epoch [2/15]:  75%|███████▍  | 56/75 [00:22<00:07,  2.51it/s, Loss=1.42]"
     ]
    },
    {
     "name": "stdout",
     "output_type": "stream",
     "text": [
      "✅ Loaded BraTS20_Training_027: Image torch.Size([3, 224, 224]), Mask torch.Size([224, 224])\n",
      "✅ Loaded BraTS20_Training_148: Image torch.Size([3, 224, 224]), Mask torch.Size([224, 224])\n"
     ]
    },
    {
     "name": "stderr",
     "output_type": "stream",
     "text": [
      "Epoch [2/15]:  76%|███████▌  | 57/75 [00:23<00:07,  2.51it/s, Loss=1.52]"
     ]
    },
    {
     "name": "stdout",
     "output_type": "stream",
     "text": [
      "✅ Loaded BraTS20_Training_126: Image torch.Size([3, 224, 224]), Mask torch.Size([224, 224])\n",
      "✅ Loaded BraTS20_Training_360: Image torch.Size([3, 224, 224]), Mask torch.Size([224, 224])\n"
     ]
    },
    {
     "name": "stderr",
     "output_type": "stream",
     "text": [
      "Epoch [2/15]:  77%|███████▋  | 58/75 [00:23<00:06,  2.47it/s, Loss=1.5] "
     ]
    },
    {
     "name": "stdout",
     "output_type": "stream",
     "text": [
      "✅ Loaded BraTS20_Training_242: Image torch.Size([3, 224, 224]), Mask torch.Size([224, 224])\n",
      "✅ Loaded BraTS20_Training_161: Image torch.Size([3, 224, 224]), Mask torch.Size([224, 224])\n"
     ]
    },
    {
     "name": "stderr",
     "output_type": "stream",
     "text": [
      "Epoch [2/15]:  79%|███████▊  | 59/75 [00:24<00:06,  2.51it/s, Loss=1.5]"
     ]
    },
    {
     "name": "stdout",
     "output_type": "stream",
     "text": [
      "✅ Loaded BraTS20_Training_057: Image torch.Size([3, 224, 224]), Mask torch.Size([224, 224])\n",
      "✅ Loaded BraTS20_Training_158: Image torch.Size([3, 224, 224]), Mask torch.Size([224, 224])\n"
     ]
    },
    {
     "name": "stderr",
     "output_type": "stream",
     "text": [
      "Epoch [2/15]:  80%|████████  | 60/75 [00:24<00:05,  2.51it/s, Loss=1.5]"
     ]
    },
    {
     "name": "stdout",
     "output_type": "stream",
     "text": [
      "✅ Loaded BraTS20_Training_261: Image torch.Size([3, 224, 224]), Mask torch.Size([224, 224])\n",
      "✅ Loaded BraTS20_Training_077: Image torch.Size([3, 224, 224]), Mask torch.Size([224, 224])\n"
     ]
    },
    {
     "name": "stderr",
     "output_type": "stream",
     "text": [
      "Epoch [2/15]:  81%|████████▏ | 61/75 [00:24<00:05,  2.51it/s, Loss=1.57]"
     ]
    },
    {
     "name": "stdout",
     "output_type": "stream",
     "text": [
      "✅ Loaded BraTS20_Training_255: Image torch.Size([3, 224, 224]), Mask torch.Size([224, 224])\n",
      "✅ Loaded BraTS20_Training_250: Image torch.Size([3, 224, 224]), Mask torch.Size([224, 224])\n"
     ]
    },
    {
     "name": "stderr",
     "output_type": "stream",
     "text": [
      "Epoch [2/15]:  83%|████████▎ | 62/75 [00:25<00:05,  2.53it/s, Loss=1.47]"
     ]
    },
    {
     "name": "stdout",
     "output_type": "stream",
     "text": [
      "✅ Loaded BraTS20_Training_358: Image torch.Size([3, 224, 224]), Mask torch.Size([224, 224])\n",
      "✅ Loaded BraTS20_Training_008: Image torch.Size([3, 224, 224]), Mask torch.Size([224, 224])\n"
     ]
    },
    {
     "name": "stderr",
     "output_type": "stream",
     "text": [
      "Epoch [2/15]:  84%|████████▍ | 63/75 [00:25<00:04,  2.49it/s, Loss=1.45]"
     ]
    },
    {
     "name": "stdout",
     "output_type": "stream",
     "text": [
      "✅ Loaded BraTS20_Training_203: Image torch.Size([3, 224, 224]), Mask torch.Size([224, 224])\n",
      "✅ Loaded BraTS20_Training_120: Image torch.Size([3, 224, 224]), Mask torch.Size([224, 224])\n"
     ]
    },
    {
     "name": "stderr",
     "output_type": "stream",
     "text": [
      "Epoch [2/15]:  85%|████████▌ | 64/75 [00:26<00:04,  2.53it/s, Loss=1.53]"
     ]
    },
    {
     "name": "stdout",
     "output_type": "stream",
     "text": [
      "✅ Loaded BraTS20_Training_257: Image torch.Size([3, 224, 224]), Mask torch.Size([224, 224])\n",
      "✅ Loaded BraTS20_Training_053: Image torch.Size([3, 224, 224]), Mask torch.Size([224, 224])\n"
     ]
    },
    {
     "name": "stderr",
     "output_type": "stream",
     "text": [
      "Epoch [2/15]:  87%|████████▋ | 65/75 [00:26<00:04,  2.50it/s, Loss=1.43]"
     ]
    },
    {
     "name": "stdout",
     "output_type": "stream",
     "text": [
      "✅ Loaded BraTS20_Training_222: Image torch.Size([3, 224, 224]), Mask torch.Size([224, 224])\n",
      "✅ Loaded BraTS20_Training_244: Image torch.Size([3, 224, 224]), Mask torch.Size([224, 224])\n"
     ]
    },
    {
     "name": "stderr",
     "output_type": "stream",
     "text": [
      "Epoch [2/15]:  88%|████████▊ | 66/75 [00:26<00:03,  2.49it/s, Loss=1.52]"
     ]
    },
    {
     "name": "stdout",
     "output_type": "stream",
     "text": [
      "✅ Loaded BraTS20_Training_128: Image torch.Size([3, 224, 224]), Mask torch.Size([224, 224])\n",
      "✅ Loaded BraTS20_Training_056: Image torch.Size([3, 224, 224]), Mask torch.Size([224, 224])\n"
     ]
    },
    {
     "name": "stderr",
     "output_type": "stream",
     "text": [
      "Epoch [2/15]:  89%|████████▉ | 67/75 [00:27<00:03,  2.49it/s, Loss=1.46]"
     ]
    },
    {
     "name": "stdout",
     "output_type": "stream",
     "text": [
      "✅ Loaded BraTS20_Training_336: Image torch.Size([3, 224, 224]), Mask torch.Size([224, 224])\n",
      "✅ Loaded BraTS20_Training_089: Image torch.Size([3, 224, 224]), Mask torch.Size([224, 224])\n"
     ]
    },
    {
     "name": "stderr",
     "output_type": "stream",
     "text": [
      "Epoch [2/15]:  91%|█████████ | 68/75 [00:27<00:02,  2.49it/s, Loss=1.47]"
     ]
    },
    {
     "name": "stdout",
     "output_type": "stream",
     "text": [
      "✅ Loaded BraTS20_Training_151: Image torch.Size([3, 224, 224]), Mask torch.Size([224, 224])\n",
      "✅ Loaded BraTS20_Training_082: Image torch.Size([3, 224, 224]), Mask torch.Size([224, 224])\n"
     ]
    },
    {
     "name": "stderr",
     "output_type": "stream",
     "text": [
      "Epoch [2/15]:  92%|█████████▏| 69/75 [00:28<00:02,  2.50it/s, Loss=1.49]"
     ]
    },
    {
     "name": "stdout",
     "output_type": "stream",
     "text": [
      "✅ Loaded BraTS20_Training_143: Image torch.Size([3, 224, 224]), Mask torch.Size([224, 224])\n",
      "✅ Loaded BraTS20_Training_299: Image torch.Size([3, 224, 224]), Mask torch.Size([224, 224])\n"
     ]
    },
    {
     "name": "stderr",
     "output_type": "stream",
     "text": [
      "Epoch [2/15]:  93%|█████████▎| 70/75 [00:28<00:02,  2.50it/s, Loss=1.66]"
     ]
    },
    {
     "name": "stdout",
     "output_type": "stream",
     "text": [
      "✅ Loaded BraTS20_Training_186: Image torch.Size([3, 224, 224]), Mask torch.Size([224, 224])\n",
      "✅ Loaded BraTS20_Training_147: Image torch.Size([3, 224, 224]), Mask torch.Size([224, 224])\n"
     ]
    },
    {
     "name": "stderr",
     "output_type": "stream",
     "text": [
      "Epoch [2/15]:  95%|█████████▍| 71/75 [00:28<00:01,  2.53it/s, Loss=1.49]"
     ]
    },
    {
     "name": "stdout",
     "output_type": "stream",
     "text": [
      "✅ Loaded BraTS20_Training_083: Image torch.Size([3, 224, 224]), Mask torch.Size([224, 224])\n",
      "✅ Loaded BraTS20_Training_037: Image torch.Size([3, 224, 224]), Mask torch.Size([224, 224])\n"
     ]
    },
    {
     "name": "stderr",
     "output_type": "stream",
     "text": [
      "Epoch [2/15]:  96%|█████████▌| 72/75 [00:29<00:01,  2.52it/s, Loss=1.47]"
     ]
    },
    {
     "name": "stdout",
     "output_type": "stream",
     "text": [
      "✅ Loaded BraTS20_Training_080: Image torch.Size([3, 224, 224]), Mask torch.Size([224, 224])\n",
      "✅ Loaded BraTS20_Training_280: Image torch.Size([3, 224, 224]), Mask torch.Size([224, 224])\n"
     ]
    },
    {
     "name": "stderr",
     "output_type": "stream",
     "text": [
      "Epoch [2/15]:  97%|█████████▋| 73/75 [00:29<00:00,  2.52it/s, Loss=1.47]"
     ]
    },
    {
     "name": "stdout",
     "output_type": "stream",
     "text": [
      "✅ Loaded BraTS20_Training_217: Image torch.Size([3, 224, 224]), Mask torch.Size([224, 224])\n",
      "✅ Loaded BraTS20_Training_294: Image torch.Size([3, 224, 224]), Mask torch.Size([224, 224])\n"
     ]
    },
    {
     "name": "stderr",
     "output_type": "stream",
     "text": [
      "Epoch [2/15]:  99%|█████████▊| 74/75 [00:30<00:00,  2.54it/s, Loss=1.47]"
     ]
    },
    {
     "name": "stdout",
     "output_type": "stream",
     "text": [
      "✅ Loaded BraTS20_Training_237: Image torch.Size([3, 224, 224]), Mask torch.Size([224, 224])\n",
      "✅ Loaded BraTS20_Training_369: Image torch.Size([3, 224, 224]), Mask torch.Size([224, 224])\n"
     ]
    },
    {
     "name": "stderr",
     "output_type": "stream",
     "text": [
      "                                                                        \r"
     ]
    },
    {
     "name": "stdout",
     "output_type": "stream",
     "text": [
      "\n",
      "✅ Epoch 2: Train Loss: 1.6031\n",
      "💾 Saved model at epoch 2 with train loss 1.6031\n"
     ]
    },
    {
     "name": "stderr",
     "output_type": "stream",
     "text": [
      "Epoch [3/15]:   0%|          | 0/75 [00:00<?, ?it/s]"
     ]
    },
    {
     "name": "stdout",
     "output_type": "stream",
     "text": [
      "✅ Loaded BraTS20_Training_052: Image torch.Size([3, 224, 224]), Mask torch.Size([224, 224])\n",
      "✅ Loaded BraTS20_Training_280: Image torch.Size([3, 224, 224]), Mask torch.Size([224, 224])\n"
     ]
    },
    {
     "name": "stderr",
     "output_type": "stream",
     "text": [
      "Epoch [3/15]:   1%|▏         | 1/75 [00:00<00:30,  2.40it/s, Loss=1.42]"
     ]
    },
    {
     "name": "stdout",
     "output_type": "stream",
     "text": [
      "✅ Loaded BraTS20_Training_228: Image torch.Size([3, 224, 224]), Mask torch.Size([224, 224])\n",
      "✅ Loaded BraTS20_Training_203: Image torch.Size([3, 224, 224]), Mask torch.Size([224, 224])\n"
     ]
    },
    {
     "name": "stderr",
     "output_type": "stream",
     "text": [
      "Epoch [3/15]:   3%|▎         | 2/75 [00:00<00:29,  2.46it/s, Loss=1.44]"
     ]
    },
    {
     "name": "stdout",
     "output_type": "stream",
     "text": [
      "✅ Loaded BraTS20_Training_056: Image torch.Size([3, 224, 224]), Mask torch.Size([224, 224])\n",
      "✅ Loaded BraTS20_Training_087: Image torch.Size([3, 224, 224]), Mask torch.Size([224, 224])\n"
     ]
    },
    {
     "name": "stderr",
     "output_type": "stream",
     "text": [
      "Epoch [3/15]:   4%|▍         | 3/75 [00:01<00:29,  2.48it/s, Loss=1.47]"
     ]
    },
    {
     "name": "stdout",
     "output_type": "stream",
     "text": [
      "✅ Loaded BraTS20_Training_129: Image torch.Size([3, 224, 224]), Mask torch.Size([224, 224])\n",
      "✅ Loaded BraTS20_Training_277: Image torch.Size([3, 224, 224]), Mask torch.Size([224, 224])\n"
     ]
    },
    {
     "name": "stderr",
     "output_type": "stream",
     "text": [
      "Epoch [3/15]:   5%|▌         | 4/75 [00:01<00:28,  2.49it/s, Loss=1.47]"
     ]
    },
    {
     "name": "stdout",
     "output_type": "stream",
     "text": [
      "✅ Loaded BraTS20_Training_015: Image torch.Size([3, 224, 224]), Mask torch.Size([224, 224])\n",
      "✅ Loaded BraTS20_Training_010: Image torch.Size([3, 224, 224]), Mask torch.Size([224, 224])\n"
     ]
    },
    {
     "name": "stderr",
     "output_type": "stream",
     "text": [
      "Epoch [3/15]:   7%|▋         | 5/75 [00:02<00:28,  2.49it/s, Loss=1.38]"
     ]
    },
    {
     "name": "stdout",
     "output_type": "stream",
     "text": [
      "✅ Loaded BraTS20_Training_348: Image torch.Size([3, 224, 224]), Mask torch.Size([224, 224])\n",
      "✅ Loaded BraTS20_Training_261: Image torch.Size([3, 224, 224]), Mask torch.Size([224, 224])\n"
     ]
    },
    {
     "name": "stderr",
     "output_type": "stream",
     "text": [
      "Epoch [3/15]:   8%|▊         | 6/75 [00:02<00:28,  2.43it/s, Loss=1.46]"
     ]
    },
    {
     "name": "stdout",
     "output_type": "stream",
     "text": [
      "✅ Loaded BraTS20_Training_193: Image torch.Size([3, 224, 224]), Mask torch.Size([224, 224])\n",
      "✅ Loaded BraTS20_Training_222: Image torch.Size([3, 224, 224]), Mask torch.Size([224, 224])\n"
     ]
    },
    {
     "name": "stderr",
     "output_type": "stream",
     "text": [
      "Epoch [3/15]:   9%|▉         | 7/75 [00:02<00:27,  2.45it/s, Loss=1.37]"
     ]
    },
    {
     "name": "stdout",
     "output_type": "stream",
     "text": [
      "✅ Loaded BraTS20_Training_253: Image torch.Size([3, 224, 224]), Mask torch.Size([224, 224])\n",
      "✅ Loaded BraTS20_Training_197: Image torch.Size([3, 224, 224]), Mask torch.Size([224, 224])\n"
     ]
    },
    {
     "name": "stderr",
     "output_type": "stream",
     "text": [
      "Epoch [3/15]:  11%|█         | 8/75 [00:03<00:27,  2.44it/s, Loss=1.4] "
     ]
    },
    {
     "name": "stdout",
     "output_type": "stream",
     "text": [
      "✅ Loaded BraTS20_Training_165: Image torch.Size([3, 224, 224]), Mask torch.Size([224, 224])\n",
      "✅ Loaded BraTS20_Training_050: Image torch.Size([3, 224, 224]), Mask torch.Size([224, 224])\n"
     ]
    },
    {
     "name": "stderr",
     "output_type": "stream",
     "text": [
      "Epoch [3/15]:  12%|█▏        | 9/75 [00:03<00:26,  2.46it/s, Loss=1.41]"
     ]
    },
    {
     "name": "stdout",
     "output_type": "stream",
     "text": [
      "✅ Loaded BraTS20_Training_022: Image torch.Size([3, 224, 224]), Mask torch.Size([224, 224])\n",
      "✅ Loaded BraTS20_Training_150: Image torch.Size([3, 224, 224]), Mask torch.Size([224, 224])\n"
     ]
    },
    {
     "name": "stderr",
     "output_type": "stream",
     "text": [
      "Epoch [3/15]:  13%|█▎        | 10/75 [00:04<00:26,  2.46it/s, Loss=1.31]"
     ]
    },
    {
     "name": "stdout",
     "output_type": "stream",
     "text": [
      "✅ Loaded BraTS20_Training_158: Image torch.Size([3, 224, 224]), Mask torch.Size([224, 224])\n",
      "✅ Loaded BraTS20_Training_358: Image torch.Size([3, 224, 224]), Mask torch.Size([224, 224])\n"
     ]
    },
    {
     "name": "stderr",
     "output_type": "stream",
     "text": [
      "Epoch [3/15]:  15%|█▍        | 11/75 [00:04<00:26,  2.44it/s, Loss=1.35]"
     ]
    },
    {
     "name": "stdout",
     "output_type": "stream",
     "text": [
      "✅ Loaded BraTS20_Training_143: Image torch.Size([3, 224, 224]), Mask torch.Size([224, 224])\n",
      "✅ Loaded BraTS20_Training_369: Image torch.Size([3, 224, 224]), Mask torch.Size([224, 224])\n"
     ]
    },
    {
     "name": "stderr",
     "output_type": "stream",
     "text": [
      "Epoch [3/15]:  16%|█▌        | 12/75 [00:04<00:26,  2.42it/s, Loss=1.58]"
     ]
    },
    {
     "name": "stdout",
     "output_type": "stream",
     "text": [
      "✅ Loaded BraTS20_Training_332: Image torch.Size([3, 224, 224]), Mask torch.Size([224, 224])\n",
      "✅ Loaded BraTS20_Training_267: Image torch.Size([3, 224, 224]), Mask torch.Size([224, 224])\n"
     ]
    },
    {
     "name": "stderr",
     "output_type": "stream",
     "text": [
      "Epoch [3/15]:  17%|█▋        | 13/75 [00:05<00:25,  2.46it/s, Loss=1.5] "
     ]
    },
    {
     "name": "stdout",
     "output_type": "stream",
     "text": [
      "✅ Loaded BraTS20_Training_116: Image torch.Size([3, 224, 224]), Mask torch.Size([224, 224])\n",
      "✅ Loaded BraTS20_Training_151: Image torch.Size([3, 224, 224]), Mask torch.Size([224, 224])\n"
     ]
    },
    {
     "name": "stderr",
     "output_type": "stream",
     "text": [
      "Epoch [3/15]:  19%|█▊        | 14/75 [00:05<00:25,  2.44it/s, Loss=1.37]"
     ]
    },
    {
     "name": "stdout",
     "output_type": "stream",
     "text": [
      "✅ Loaded BraTS20_Training_164: Image torch.Size([3, 224, 224]), Mask torch.Size([224, 224])\n",
      "✅ Loaded BraTS20_Training_196: Image torch.Size([3, 224, 224]), Mask torch.Size([224, 224])\n"
     ]
    },
    {
     "name": "stderr",
     "output_type": "stream",
     "text": [
      "Epoch [3/15]:  20%|██        | 15/75 [00:06<00:24,  2.43it/s, Loss=1.25]"
     ]
    },
    {
     "name": "stdout",
     "output_type": "stream",
     "text": [
      "✅ Loaded BraTS20_Training_259: Image torch.Size([3, 224, 224]), Mask torch.Size([224, 224])\n",
      "✅ Loaded BraTS20_Training_230: Image torch.Size([3, 224, 224]), Mask torch.Size([224, 224])\n"
     ]
    },
    {
     "name": "stderr",
     "output_type": "stream",
     "text": [
      "Epoch [3/15]:  21%|██▏       | 16/75 [00:06<00:24,  2.42it/s, Loss=1.34]"
     ]
    },
    {
     "name": "stdout",
     "output_type": "stream",
     "text": [
      "✅ Loaded BraTS20_Training_083: Image torch.Size([3, 224, 224]), Mask torch.Size([224, 224])\n",
      "✅ Loaded BraTS20_Training_079: Image torch.Size([3, 224, 224]), Mask torch.Size([224, 224])\n"
     ]
    },
    {
     "name": "stderr",
     "output_type": "stream",
     "text": [
      "Epoch [3/15]:  23%|██▎       | 17/75 [00:06<00:24,  2.41it/s, Loss=1.36]"
     ]
    },
    {
     "name": "stdout",
     "output_type": "stream",
     "text": [
      "✅ Loaded BraTS20_Training_058: Image torch.Size([3, 224, 224]), Mask torch.Size([224, 224])\n",
      "✅ Loaded BraTS20_Training_273: Image torch.Size([3, 224, 224]), Mask torch.Size([224, 224])\n"
     ]
    },
    {
     "name": "stderr",
     "output_type": "stream",
     "text": [
      "Epoch [3/15]:  24%|██▍       | 18/75 [00:07<00:23,  2.41it/s, Loss=1.5] "
     ]
    },
    {
     "name": "stdout",
     "output_type": "stream",
     "text": [
      "✅ Loaded BraTS20_Training_206: Image torch.Size([3, 224, 224]), Mask torch.Size([224, 224])\n",
      "✅ Loaded BraTS20_Training_239: Image torch.Size([3, 224, 224]), Mask torch.Size([224, 224])\n"
     ]
    },
    {
     "name": "stderr",
     "output_type": "stream",
     "text": [
      "Epoch [3/15]:  25%|██▌       | 19/75 [00:07<00:23,  2.43it/s, Loss=1.42]"
     ]
    },
    {
     "name": "stdout",
     "output_type": "stream",
     "text": [
      "✅ Loaded BraTS20_Training_195: Image torch.Size([3, 224, 224]), Mask torch.Size([224, 224])\n",
      "✅ Loaded BraTS20_Training_147: Image torch.Size([3, 224, 224]), Mask torch.Size([224, 224])\n"
     ]
    },
    {
     "name": "stderr",
     "output_type": "stream",
     "text": [
      "Epoch [3/15]:  27%|██▋       | 20/75 [00:08<00:22,  2.42it/s, Loss=1.49]"
     ]
    },
    {
     "name": "stdout",
     "output_type": "stream",
     "text": [
      "✅ Loaded BraTS20_Training_318: Image torch.Size([3, 224, 224]), Mask torch.Size([224, 224])\n",
      "✅ Loaded BraTS20_Training_117: Image torch.Size([3, 224, 224]), Mask torch.Size([224, 224])\n"
     ]
    },
    {
     "name": "stderr",
     "output_type": "stream",
     "text": [
      "Epoch [3/15]:  28%|██▊       | 21/75 [00:08<00:22,  2.45it/s, Loss=1.58]"
     ]
    },
    {
     "name": "stdout",
     "output_type": "stream",
     "text": [
      "✅ Loaded BraTS20_Training_309: Image torch.Size([3, 224, 224]), Mask torch.Size([224, 224])\n",
      "✅ Loaded BraTS20_Training_360: Image torch.Size([3, 224, 224]), Mask torch.Size([224, 224])\n"
     ]
    },
    {
     "name": "stderr",
     "output_type": "stream",
     "text": [
      "Epoch [3/15]:  29%|██▉       | 22/75 [00:09<00:21,  2.43it/s, Loss=1.5] "
     ]
    },
    {
     "name": "stdout",
     "output_type": "stream",
     "text": [
      "✅ Loaded BraTS20_Training_224: Image torch.Size([3, 224, 224]), Mask torch.Size([224, 224])\n",
      "✅ Loaded BraTS20_Training_201: Image torch.Size([3, 224, 224]), Mask torch.Size([224, 224])\n"
     ]
    },
    {
     "name": "stderr",
     "output_type": "stream",
     "text": [
      "Epoch [3/15]:  31%|███       | 23/75 [00:09<00:21,  2.42it/s, Loss=1.39]"
     ]
    },
    {
     "name": "stdout",
     "output_type": "stream",
     "text": [
      "✅ Loaded BraTS20_Training_272: Image torch.Size([3, 224, 224]), Mask torch.Size([224, 224])\n",
      "✅ Loaded BraTS20_Training_032: Image torch.Size([3, 224, 224]), Mask torch.Size([224, 224])\n"
     ]
    },
    {
     "name": "stderr",
     "output_type": "stream",
     "text": [
      "Epoch [3/15]:  32%|███▏      | 24/75 [00:09<00:20,  2.44it/s, Loss=1.38]"
     ]
    },
    {
     "name": "stdout",
     "output_type": "stream",
     "text": [
      "✅ Loaded BraTS20_Training_110: Image torch.Size([3, 224, 224]), Mask torch.Size([224, 224])\n",
      "✅ Loaded BraTS20_Training_345: Image torch.Size([3, 224, 224]), Mask torch.Size([224, 224])\n"
     ]
    },
    {
     "name": "stderr",
     "output_type": "stream",
     "text": [
      "Epoch [3/15]:  33%|███▎      | 25/75 [00:10<00:20,  2.40it/s, Loss=1.36]"
     ]
    },
    {
     "name": "stdout",
     "output_type": "stream",
     "text": [
      "✅ Loaded BraTS20_Training_188: Image torch.Size([3, 224, 224]), Mask torch.Size([224, 224])\n",
      "✅ Loaded BraTS20_Training_299: Image torch.Size([3, 224, 224]), Mask torch.Size([224, 224])\n"
     ]
    },
    {
     "name": "stderr",
     "output_type": "stream",
     "text": [
      "Epoch [3/15]:  35%|███▍      | 26/75 [00:10<00:20,  2.40it/s, Loss=1.39]"
     ]
    },
    {
     "name": "stdout",
     "output_type": "stream",
     "text": [
      "✅ Loaded BraTS20_Training_183: Image torch.Size([3, 224, 224]), Mask torch.Size([224, 224])\n",
      "✅ Loaded BraTS20_Training_275: Image torch.Size([3, 224, 224]), Mask torch.Size([224, 224])\n"
     ]
    },
    {
     "name": "stderr",
     "output_type": "stream",
     "text": [
      "Epoch [3/15]:  36%|███▌      | 27/75 [00:11<00:19,  2.40it/s, Loss=1.3] "
     ]
    },
    {
     "name": "stdout",
     "output_type": "stream",
     "text": [
      "✅ Loaded BraTS20_Training_023: Image torch.Size([3, 224, 224]), Mask torch.Size([224, 224])\n",
      "✅ Loaded BraTS20_Training_105: Image torch.Size([3, 224, 224]), Mask torch.Size([224, 224])\n"
     ]
    },
    {
     "name": "stderr",
     "output_type": "stream",
     "text": [
      "Epoch [3/15]:  37%|███▋      | 28/75 [00:11<00:19,  2.43it/s, Loss=1.38]"
     ]
    },
    {
     "name": "stdout",
     "output_type": "stream",
     "text": [
      "✅ Loaded BraTS20_Training_226: Image torch.Size([3, 224, 224]), Mask torch.Size([224, 224])\n",
      "✅ Loaded BraTS20_Training_198: Image torch.Size([3, 224, 224]), Mask torch.Size([224, 224])\n"
     ]
    },
    {
     "name": "stderr",
     "output_type": "stream",
     "text": [
      "Epoch [3/15]:  39%|███▊      | 29/75 [00:11<00:19,  2.42it/s, Loss=1.35]"
     ]
    },
    {
     "name": "stdout",
     "output_type": "stream",
     "text": [
      "✅ Loaded BraTS20_Training_096: Image torch.Size([3, 224, 224]), Mask torch.Size([224, 224])\n",
      "✅ Loaded BraTS20_Training_027: Image torch.Size([3, 224, 224]), Mask torch.Size([224, 224])\n"
     ]
    },
    {
     "name": "stderr",
     "output_type": "stream",
     "text": [
      "Epoch [3/15]:  40%|████      | 30/75 [00:12<00:18,  2.42it/s, Loss=1.35]"
     ]
    },
    {
     "name": "stdout",
     "output_type": "stream",
     "text": [
      "✅ Loaded BraTS20_Training_064: Image torch.Size([3, 224, 224]), Mask torch.Size([224, 224])\n",
      "✅ Loaded BraTS20_Training_180: Image torch.Size([3, 224, 224]), Mask torch.Size([224, 224])\n"
     ]
    },
    {
     "name": "stderr",
     "output_type": "stream",
     "text": [
      "Epoch [3/15]:  41%|████▏     | 31/75 [00:12<00:18,  2.41it/s, Loss=1.28]"
     ]
    },
    {
     "name": "stdout",
     "output_type": "stream",
     "text": [
      "✅ Loaded BraTS20_Training_217: Image torch.Size([3, 224, 224]), Mask torch.Size([224, 224])\n",
      "✅ Loaded BraTS20_Training_125: Image torch.Size([3, 224, 224]), Mask torch.Size([224, 224])\n"
     ]
    },
    {
     "name": "stderr",
     "output_type": "stream",
     "text": [
      "Epoch [3/15]:  43%|████▎     | 32/75 [00:13<00:17,  2.44it/s, Loss=1.36]"
     ]
    },
    {
     "name": "stdout",
     "output_type": "stream",
     "text": [
      "✅ Loaded BraTS20_Training_099: Image torch.Size([3, 224, 224]), Mask torch.Size([224, 224])\n",
      "✅ Loaded BraTS20_Training_302: Image torch.Size([3, 224, 224]), Mask torch.Size([224, 224])\n"
     ]
    },
    {
     "name": "stderr",
     "output_type": "stream",
     "text": [
      "Epoch [3/15]:  44%|████▍     | 33/75 [00:13<00:17,  2.43it/s, Loss=1.39]"
     ]
    },
    {
     "name": "stdout",
     "output_type": "stream",
     "text": [
      "✅ Loaded BraTS20_Training_329: Image torch.Size([3, 224, 224]), Mask torch.Size([224, 224])\n",
      "✅ Loaded BraTS20_Training_250: Image torch.Size([3, 224, 224]), Mask torch.Size([224, 224])\n"
     ]
    },
    {
     "name": "stderr",
     "output_type": "stream",
     "text": [
      "Epoch [3/15]:  45%|████▌     | 34/75 [00:13<00:16,  2.42it/s, Loss=1.39]"
     ]
    },
    {
     "name": "stdout",
     "output_type": "stream",
     "text": [
      "✅ Loaded BraTS20_Training_025: Image torch.Size([3, 224, 224]), Mask torch.Size([224, 224])\n",
      "✅ Loaded BraTS20_Training_060: Image torch.Size([3, 224, 224]), Mask torch.Size([224, 224])\n"
     ]
    },
    {
     "name": "stderr",
     "output_type": "stream",
     "text": [
      "Epoch [3/15]:  47%|████▋     | 35/75 [00:14<00:16,  2.44it/s, Loss=1.32]"
     ]
    },
    {
     "name": "stdout",
     "output_type": "stream",
     "text": [
      "✅ Loaded BraTS20_Training_061: Image torch.Size([3, 224, 224]), Mask torch.Size([224, 224])\n",
      "✅ Loaded BraTS20_Training_194: Image torch.Size([3, 224, 224]), Mask torch.Size([224, 224])\n"
     ]
    },
    {
     "name": "stderr",
     "output_type": "stream",
     "text": [
      "Epoch [3/15]:  48%|████▊     | 36/75 [00:14<00:16,  2.43it/s, Loss=1.3] "
     ]
    },
    {
     "name": "stdout",
     "output_type": "stream",
     "text": [
      "✅ Loaded BraTS20_Training_308: Image torch.Size([3, 224, 224]), Mask torch.Size([224, 224])\n",
      "✅ Loaded BraTS20_Training_260: Image torch.Size([3, 224, 224]), Mask torch.Size([224, 224])\n"
     ]
    },
    {
     "name": "stderr",
     "output_type": "stream",
     "text": [
      "Epoch [3/15]:  49%|████▉     | 37/75 [00:15<00:15,  2.45it/s, Loss=1.41]"
     ]
    },
    {
     "name": "stdout",
     "output_type": "stream",
     "text": [
      "✅ Loaded BraTS20_Training_073: Image torch.Size([3, 224, 224]), Mask torch.Size([224, 224])\n",
      "✅ Loaded BraTS20_Training_161: Image torch.Size([3, 224, 224]), Mask torch.Size([224, 224])\n"
     ]
    },
    {
     "name": "stderr",
     "output_type": "stream",
     "text": [
      "Epoch [3/15]:  51%|█████     | 38/75 [00:15<00:15,  2.43it/s, Loss=1.38]"
     ]
    },
    {
     "name": "stdout",
     "output_type": "stream",
     "text": [
      "✅ Loaded BraTS20_Training_237: Image torch.Size([3, 224, 224]), Mask torch.Size([224, 224])\n",
      "✅ Loaded BraTS20_Training_149: Image torch.Size([3, 224, 224]), Mask torch.Size([224, 224])\n"
     ]
    },
    {
     "name": "stderr",
     "output_type": "stream",
     "text": [
      "Epoch [3/15]:  52%|█████▏    | 39/75 [00:16<00:14,  2.41it/s, Loss=1.43]"
     ]
    },
    {
     "name": "stdout",
     "output_type": "stream",
     "text": [
      "✅ Loaded BraTS20_Training_213: Image torch.Size([3, 224, 224]), Mask torch.Size([224, 224])\n",
      "✅ Loaded BraTS20_Training_186: Image torch.Size([3, 224, 224]), Mask torch.Size([224, 224])\n"
     ]
    },
    {
     "name": "stderr",
     "output_type": "stream",
     "text": [
      "Epoch [3/15]:  53%|█████▎    | 40/75 [00:16<00:14,  2.42it/s, Loss=1.27]"
     ]
    },
    {
     "name": "stdout",
     "output_type": "stream",
     "text": [
      "✅ Loaded BraTS20_Training_077: Image torch.Size([3, 224, 224]), Mask torch.Size([224, 224])\n",
      "✅ Loaded BraTS20_Training_155: Image torch.Size([3, 224, 224]), Mask torch.Size([224, 224])\n"
     ]
    },
    {
     "name": "stderr",
     "output_type": "stream",
     "text": [
      "Epoch [3/15]:  55%|█████▍    | 41/75 [00:16<00:14,  2.42it/s, Loss=1.28]"
     ]
    },
    {
     "name": "stdout",
     "output_type": "stream",
     "text": [
      "✅ Loaded BraTS20_Training_131: Image torch.Size([3, 224, 224]), Mask torch.Size([224, 224])\n",
      "✅ Loaded BraTS20_Training_220: Image torch.Size([3, 224, 224]), Mask torch.Size([224, 224])\n"
     ]
    },
    {
     "name": "stderr",
     "output_type": "stream",
     "text": [
      "Epoch [3/15]:  56%|█████▌    | 42/75 [00:17<00:13,  2.44it/s, Loss=1.4] "
     ]
    },
    {
     "name": "stdout",
     "output_type": "stream",
     "text": [
      "✅ Loaded BraTS20_Training_270: Image torch.Size([3, 224, 224]), Mask torch.Size([224, 224])\n",
      "✅ Loaded BraTS20_Training_020: Image torch.Size([3, 224, 224]), Mask torch.Size([224, 224])\n"
     ]
    },
    {
     "name": "stderr",
     "output_type": "stream",
     "text": [
      "Epoch [3/15]:  57%|█████▋    | 43/75 [00:17<00:13,  2.43it/s, Loss=1.27]"
     ]
    },
    {
     "name": "stdout",
     "output_type": "stream",
     "text": [
      "✅ Loaded BraTS20_Training_135: Image torch.Size([3, 224, 224]), Mask torch.Size([224, 224])\n",
      "✅ Loaded BraTS20_Training_092: Image torch.Size([3, 224, 224]), Mask torch.Size([224, 224])\n"
     ]
    },
    {
     "name": "stderr",
     "output_type": "stream",
     "text": [
      "Epoch [3/15]:  59%|█████▊    | 44/75 [00:18<00:12,  2.42it/s, Loss=1.34]"
     ]
    },
    {
     "name": "stdout",
     "output_type": "stream",
     "text": [
      "✅ Loaded BraTS20_Training_008: Image torch.Size([3, 224, 224]), Mask torch.Size([224, 224])\n",
      "✅ Loaded BraTS20_Training_258: Image torch.Size([3, 224, 224]), Mask torch.Size([224, 224])\n"
     ]
    },
    {
     "name": "stderr",
     "output_type": "stream",
     "text": [
      "Epoch [3/15]:  60%|██████    | 45/75 [00:18<00:12,  2.41it/s, Loss=1.35]"
     ]
    },
    {
     "name": "stdout",
     "output_type": "stream",
     "text": [
      "✅ Loaded BraTS20_Training_326: Image torch.Size([3, 224, 224]), Mask torch.Size([224, 224])\n",
      "✅ Loaded BraTS20_Training_271: Image torch.Size([3, 224, 224]), Mask torch.Size([224, 224])\n"
     ]
    },
    {
     "name": "stderr",
     "output_type": "stream",
     "text": [
      "Epoch [3/15]:  61%|██████▏   | 46/75 [00:18<00:12,  2.41it/s, Loss=1.45]"
     ]
    },
    {
     "name": "stdout",
     "output_type": "stream",
     "text": [
      "✅ Loaded BraTS20_Training_145: Image torch.Size([3, 224, 224]), Mask torch.Size([224, 224])\n",
      "✅ Loaded BraTS20_Training_364: Image torch.Size([3, 224, 224]), Mask torch.Size([224, 224])\n"
     ]
    },
    {
     "name": "stderr",
     "output_type": "stream",
     "text": [
      "Epoch [3/15]:  63%|██████▎   | 47/75 [00:19<00:11,  2.38it/s, Loss=1.32]"
     ]
    },
    {
     "name": "stdout",
     "output_type": "stream",
     "text": [
      "✅ Loaded BraTS20_Training_124: Image torch.Size([3, 224, 224]), Mask torch.Size([224, 224])\n",
      "✅ Loaded BraTS20_Training_042: Image torch.Size([3, 224, 224]), Mask torch.Size([224, 224])\n"
     ]
    },
    {
     "name": "stderr",
     "output_type": "stream",
     "text": [
      "Epoch [3/15]:  64%|██████▍   | 48/75 [00:19<00:11,  2.38it/s, Loss=1.45]"
     ]
    },
    {
     "name": "stdout",
     "output_type": "stream",
     "text": [
      "✅ Loaded BraTS20_Training_053: Image torch.Size([3, 224, 224]), Mask torch.Size([224, 224])\n",
      "✅ Loaded BraTS20_Training_132: Image torch.Size([3, 224, 224]), Mask torch.Size([224, 224])\n"
     ]
    },
    {
     "name": "stderr",
     "output_type": "stream",
     "text": [
      "Epoch [3/15]:  65%|██████▌   | 49/75 [00:20<00:10,  2.39it/s, Loss=1.25]"
     ]
    },
    {
     "name": "stdout",
     "output_type": "stream",
     "text": [
      "✅ Loaded BraTS20_Training_166: Image torch.Size([3, 224, 224]), Mask torch.Size([224, 224])\n",
      "✅ Loaded BraTS20_Training_278: Image torch.Size([3, 224, 224]), Mask torch.Size([224, 224])\n"
     ]
    },
    {
     "name": "stderr",
     "output_type": "stream",
     "text": [
      "Epoch [3/15]:  67%|██████▋   | 50/75 [00:20<00:10,  2.36it/s, Loss=1.3] "
     ]
    },
    {
     "name": "stdout",
     "output_type": "stream",
     "text": [
      "✅ Loaded BraTS20_Training_248: Image torch.Size([3, 224, 224]), Mask torch.Size([224, 224])\n",
      "✅ Loaded BraTS20_Training_244: Image torch.Size([3, 224, 224]), Mask torch.Size([224, 224])\n"
     ]
    },
    {
     "name": "stderr",
     "output_type": "stream",
     "text": [
      "Epoch [3/15]:  68%|██████▊   | 51/75 [00:21<00:09,  2.40it/s, Loss=1.34]"
     ]
    },
    {
     "name": "stdout",
     "output_type": "stream",
     "text": [
      "✅ Loaded BraTS20_Training_043: Image torch.Size([3, 224, 224]), Mask torch.Size([224, 224])\n",
      "✅ Loaded BraTS20_Training_106: Image torch.Size([3, 224, 224]), Mask torch.Size([224, 224])\n"
     ]
    },
    {
     "name": "stderr",
     "output_type": "stream",
     "text": [
      "Epoch [3/15]:  69%|██████▉   | 52/75 [00:21<00:09,  2.40it/s, Loss=1.22]"
     ]
    },
    {
     "name": "stdout",
     "output_type": "stream",
     "text": [
      "✅ Loaded BraTS20_Training_312: Image torch.Size([3, 224, 224]), Mask torch.Size([224, 224])\n",
      "✅ Loaded BraTS20_Training_140: Image torch.Size([3, 224, 224]), Mask torch.Size([224, 224])\n"
     ]
    },
    {
     "name": "stderr",
     "output_type": "stream",
     "text": [
      "Epoch [3/15]:  71%|███████   | 53/75 [00:21<00:09,  2.40it/s, Loss=1.32]"
     ]
    },
    {
     "name": "stdout",
     "output_type": "stream",
     "text": [
      "✅ Loaded BraTS20_Training_257: Image torch.Size([3, 224, 224]), Mask torch.Size([224, 224])\n",
      "✅ Loaded BraTS20_Training_225: Image torch.Size([3, 224, 224]), Mask torch.Size([224, 224])\n"
     ]
    },
    {
     "name": "stderr",
     "output_type": "stream",
     "text": [
      "Epoch [3/15]:  72%|███████▏  | 54/75 [00:22<00:08,  2.40it/s, Loss=1.3] "
     ]
    },
    {
     "name": "stdout",
     "output_type": "stream",
     "text": [
      "✅ Loaded BraTS20_Training_262: Image torch.Size([3, 224, 224]), Mask torch.Size([224, 224])\n",
      "✅ Loaded BraTS20_Training_268: Image torch.Size([3, 224, 224]), Mask torch.Size([224, 224])\n"
     ]
    },
    {
     "name": "stderr",
     "output_type": "stream",
     "text": [
      "Epoch [3/15]:  73%|███████▎  | 55/75 [00:22<00:08,  2.37it/s, Loss=1.35]"
     ]
    },
    {
     "name": "stdout",
     "output_type": "stream",
     "text": [
      "✅ Loaded BraTS20_Training_119: Image torch.Size([3, 224, 224]), Mask torch.Size([224, 224])\n",
      "✅ Loaded BraTS20_Training_036: Image torch.Size([3, 224, 224]), Mask torch.Size([224, 224])\n"
     ]
    },
    {
     "name": "stderr",
     "output_type": "stream",
     "text": [
      "Epoch [3/15]:  75%|███████▍  | 56/75 [00:23<00:08,  2.36it/s, Loss=1.28]"
     ]
    },
    {
     "name": "stdout",
     "output_type": "stream",
     "text": [
      "✅ Loaded BraTS20_Training_242: Image torch.Size([3, 224, 224]), Mask torch.Size([224, 224])\n",
      "✅ Loaded BraTS20_Training_093: Image torch.Size([3, 224, 224]), Mask torch.Size([224, 224])\n"
     ]
    },
    {
     "name": "stderr",
     "output_type": "stream",
     "text": [
      "Epoch [3/15]:  76%|███████▌  | 57/75 [00:23<00:07,  2.39it/s, Loss=1.28]"
     ]
    },
    {
     "name": "stdout",
     "output_type": "stream",
     "text": [
      "✅ Loaded BraTS20_Training_353: Image torch.Size([3, 224, 224]), Mask torch.Size([224, 224])\n",
      "✅ Loaded BraTS20_Training_126: Image torch.Size([3, 224, 224]), Mask torch.Size([224, 224])\n"
     ]
    },
    {
     "name": "stderr",
     "output_type": "stream",
     "text": [
      "Epoch [3/15]:  77%|███████▋  | 58/75 [00:23<00:07,  2.37it/s, Loss=1.28]"
     ]
    },
    {
     "name": "stdout",
     "output_type": "stream",
     "text": [
      "✅ Loaded BraTS20_Training_315: Image torch.Size([3, 224, 224]), Mask torch.Size([224, 224])\n",
      "✅ Loaded BraTS20_Training_057: Image torch.Size([3, 224, 224]), Mask torch.Size([224, 224])\n"
     ]
    },
    {
     "name": "stderr",
     "output_type": "stream",
     "text": [
      "Epoch [3/15]:  79%|███████▊  | 59/75 [00:24<00:06,  2.40it/s, Loss=1.29]"
     ]
    },
    {
     "name": "stdout",
     "output_type": "stream",
     "text": [
      "✅ Loaded BraTS20_Training_021: Image torch.Size([3, 224, 224]), Mask torch.Size([224, 224])\n",
      "✅ Loaded BraTS20_Training_121: Image torch.Size([3, 224, 224]), Mask torch.Size([224, 224])\n"
     ]
    },
    {
     "name": "stderr",
     "output_type": "stream",
     "text": [
      "Epoch [3/15]:  80%|████████  | 60/75 [00:24<00:06,  2.43it/s, Loss=1.32]"
     ]
    },
    {
     "name": "stdout",
     "output_type": "stream",
     "text": [
      "✅ Loaded BraTS20_Training_255: Image torch.Size([3, 224, 224]), Mask torch.Size([224, 224])\n",
      "✅ Loaded BraTS20_Training_072: Image torch.Size([3, 224, 224]), Mask torch.Size([224, 224])\n"
     ]
    },
    {
     "name": "stderr",
     "output_type": "stream",
     "text": [
      "Epoch [3/15]:  81%|████████▏ | 61/75 [00:25<00:05,  2.45it/s, Loss=1.31]"
     ]
    },
    {
     "name": "stdout",
     "output_type": "stream",
     "text": [
      "✅ Loaded BraTS20_Training_290: Image torch.Size([3, 224, 224]), Mask torch.Size([224, 224])\n",
      "✅ Loaded BraTS20_Training_123: Image torch.Size([3, 224, 224]), Mask torch.Size([224, 224])\n"
     ]
    },
    {
     "name": "stderr",
     "output_type": "stream",
     "text": [
      "Epoch [3/15]:  83%|████████▎ | 62/75 [00:25<00:05,  2.50it/s, Loss=1.27]"
     ]
    },
    {
     "name": "stdout",
     "output_type": "stream",
     "text": [
      "✅ Loaded BraTS20_Training_037: Image torch.Size([3, 224, 224]), Mask torch.Size([224, 224])\n",
      "✅ Loaded BraTS20_Training_282: Image torch.Size([3, 224, 224]), Mask torch.Size([224, 224])\n"
     ]
    },
    {
     "name": "stderr",
     "output_type": "stream",
     "text": [
      "Epoch [3/15]:  84%|████████▍ | 63/75 [00:25<00:04,  2.48it/s, Loss=1.21]"
     ]
    },
    {
     "name": "stdout",
     "output_type": "stream",
     "text": [
      "✅ Loaded BraTS20_Training_245: Image torch.Size([3, 224, 224]), Mask torch.Size([224, 224])\n",
      "✅ Loaded BraTS20_Training_297: Image torch.Size([3, 224, 224]), Mask torch.Size([224, 224])\n"
     ]
    },
    {
     "name": "stderr",
     "output_type": "stream",
     "text": [
      "Epoch [3/15]:  85%|████████▌ | 64/75 [00:26<00:04,  2.51it/s, Loss=1.29]"
     ]
    },
    {
     "name": "stdout",
     "output_type": "stream",
     "text": [
      "✅ Loaded BraTS20_Training_128: Image torch.Size([3, 224, 224]), Mask torch.Size([224, 224])\n",
      "✅ Loaded BraTS20_Training_227: Image torch.Size([3, 224, 224]), Mask torch.Size([224, 224])\n"
     ]
    },
    {
     "name": "stderr",
     "output_type": "stream",
     "text": [
      "Epoch [3/15]:  87%|████████▋ | 65/75 [00:26<00:03,  2.50it/s, Loss=1.27]"
     ]
    },
    {
     "name": "stdout",
     "output_type": "stream",
     "text": [
      "✅ Loaded BraTS20_Training_279: Image torch.Size([3, 224, 224]), Mask torch.Size([224, 224])\n",
      "✅ Loaded BraTS20_Training_019: Image torch.Size([3, 224, 224]), Mask torch.Size([224, 224])\n"
     ]
    },
    {
     "name": "stderr",
     "output_type": "stream",
     "text": [
      "Epoch [3/15]:  88%|████████▊ | 66/75 [00:27<00:03,  2.49it/s, Loss=1.43]"
     ]
    },
    {
     "name": "stdout",
     "output_type": "stream",
     "text": [
      "✅ Loaded BraTS20_Training_082: Image torch.Size([3, 224, 224]), Mask torch.Size([224, 224])\n",
      "✅ Loaded BraTS20_Training_017: Image torch.Size([3, 224, 224]), Mask torch.Size([224, 224])\n"
     ]
    },
    {
     "name": "stderr",
     "output_type": "stream",
     "text": [
      "Epoch [3/15]:  89%|████████▉ | 67/75 [00:27<00:03,  2.54it/s, Loss=1.23]"
     ]
    },
    {
     "name": "stdout",
     "output_type": "stream",
     "text": [
      "✅ Loaded BraTS20_Training_336: Image torch.Size([3, 224, 224]), Mask torch.Size([224, 224])\n",
      "✅ Loaded BraTS20_Training_089: Image torch.Size([3, 224, 224]), Mask torch.Size([224, 224])\n"
     ]
    },
    {
     "name": "stderr",
     "output_type": "stream",
     "text": [
      "Epoch [3/15]:  91%|█████████ | 68/75 [00:27<00:02,  2.46it/s, Loss=1.28]"
     ]
    },
    {
     "name": "stdout",
     "output_type": "stream",
     "text": [
      "✅ Loaded BraTS20_Training_148: Image torch.Size([3, 224, 224]), Mask torch.Size([224, 224])\n",
      "✅ Loaded BraTS20_Training_120: Image torch.Size([3, 224, 224]), Mask torch.Size([224, 224])\n"
     ]
    },
    {
     "name": "stderr",
     "output_type": "stream",
     "text": [
      "Epoch [3/15]:  92%|█████████▏| 69/75 [00:28<00:02,  2.47it/s, Loss=1.24]"
     ]
    },
    {
     "name": "stdout",
     "output_type": "stream",
     "text": [
      "✅ Loaded BraTS20_Training_339: Image torch.Size([3, 224, 224]), Mask torch.Size([224, 224])\n",
      "✅ Loaded BraTS20_Training_024: Image torch.Size([3, 224, 224]), Mask torch.Size([224, 224])\n"
     ]
    },
    {
     "name": "stderr",
     "output_type": "stream",
     "text": [
      "Epoch [3/15]:  93%|█████████▎| 70/75 [00:28<00:02,  2.45it/s, Loss=1.21]"
     ]
    },
    {
     "name": "stdout",
     "output_type": "stream",
     "text": [
      "✅ Loaded BraTS20_Training_033: Image torch.Size([3, 224, 224]), Mask torch.Size([224, 224])\n",
      "✅ Loaded BraTS20_Training_080: Image torch.Size([3, 224, 224]), Mask torch.Size([224, 224])\n"
     ]
    },
    {
     "name": "stderr",
     "output_type": "stream",
     "text": [
      "Epoch [3/15]:  95%|█████████▍| 71/75 [00:29<00:01,  2.47it/s, Loss=1.19]"
     ]
    },
    {
     "name": "stdout",
     "output_type": "stream",
     "text": [
      "✅ Loaded BraTS20_Training_069: Image torch.Size([3, 224, 224]), Mask torch.Size([224, 224])\n",
      "✅ Loaded BraTS20_Training_294: Image torch.Size([3, 224, 224]), Mask torch.Size([224, 224])\n"
     ]
    },
    {
     "name": "stderr",
     "output_type": "stream",
     "text": [
      "Epoch [3/15]:  96%|█████████▌| 72/75 [00:29<00:01,  2.48it/s, Loss=1.29]"
     ]
    },
    {
     "name": "stdout",
     "output_type": "stream",
     "text": [
      "✅ Loaded BraTS20_Training_001: Image torch.Size([3, 224, 224]), Mask torch.Size([224, 224])\n",
      "✅ Loaded BraTS20_Training_034: Image torch.Size([3, 224, 224]), Mask torch.Size([224, 224])\n"
     ]
    },
    {
     "name": "stderr",
     "output_type": "stream",
     "text": [
      "Epoch [3/15]:  97%|█████████▋| 73/75 [00:30<00:00,  2.48it/s, Loss=1.11]"
     ]
    },
    {
     "name": "stdout",
     "output_type": "stream",
     "text": [
      "✅ Loaded BraTS20_Training_289: Image torch.Size([3, 224, 224]), Mask torch.Size([224, 224])\n",
      "✅ Loaded BraTS20_Training_086: Image torch.Size([3, 224, 224]), Mask torch.Size([224, 224])\n"
     ]
    },
    {
     "name": "stderr",
     "output_type": "stream",
     "text": [
      "Epoch [3/15]:  99%|█████████▊| 74/75 [00:30<00:00,  2.50it/s, Loss=1.15]"
     ]
    },
    {
     "name": "stdout",
     "output_type": "stream",
     "text": [
      "✅ Loaded BraTS20_Training_233: Image torch.Size([3, 224, 224]), Mask torch.Size([224, 224])\n",
      "✅ Loaded BraTS20_Training_322: Image torch.Size([3, 224, 224]), Mask torch.Size([224, 224])\n"
     ]
    },
    {
     "name": "stderr",
     "output_type": "stream",
     "text": [
      "                                                                        \r"
     ]
    },
    {
     "name": "stdout",
     "output_type": "stream",
     "text": [
      "\n",
      "✅ Epoch 3: Train Loss: 1.3452\n",
      "💾 Saved model at epoch 3 with train loss 1.3452\n"
     ]
    },
    {
     "name": "stderr",
     "output_type": "stream",
     "text": [
      "Epoch [4/15]:   0%|          | 0/75 [00:00<?, ?it/s]"
     ]
    },
    {
     "name": "stdout",
     "output_type": "stream",
     "text": [
      "✅ Loaded BraTS20_Training_186: Image torch.Size([3, 224, 224]), Mask torch.Size([224, 224])\n",
      "✅ Loaded BraTS20_Training_017: Image torch.Size([3, 224, 224]), Mask torch.Size([224, 224])\n"
     ]
    },
    {
     "name": "stderr",
     "output_type": "stream",
     "text": [
      "Epoch [4/15]:   1%|▏         | 1/75 [00:00<00:30,  2.43it/s, Loss=1.12]"
     ]
    },
    {
     "name": "stdout",
     "output_type": "stream",
     "text": [
      "✅ Loaded BraTS20_Training_117: Image torch.Size([3, 224, 224]), Mask torch.Size([224, 224])\n",
      "✅ Loaded BraTS20_Training_124: Image torch.Size([3, 224, 224]), Mask torch.Size([224, 224])\n"
     ]
    },
    {
     "name": "stderr",
     "output_type": "stream",
     "text": [
      "Epoch [4/15]:   3%|▎         | 2/75 [00:00<00:29,  2.46it/s, Loss=1.17]"
     ]
    },
    {
     "name": "stdout",
     "output_type": "stream",
     "text": [
      "✅ Loaded BraTS20_Training_043: Image torch.Size([3, 224, 224]), Mask torch.Size([224, 224])\n",
      "✅ Loaded BraTS20_Training_083: Image torch.Size([3, 224, 224]), Mask torch.Size([224, 224])\n"
     ]
    },
    {
     "name": "stderr",
     "output_type": "stream",
     "text": [
      "Epoch [4/15]:   4%|▍         | 3/75 [00:01<00:29,  2.48it/s, Loss=1.18]"
     ]
    },
    {
     "name": "stdout",
     "output_type": "stream",
     "text": [
      "✅ Loaded BraTS20_Training_260: Image torch.Size([3, 224, 224]), Mask torch.Size([224, 224])\n",
      "✅ Loaded BraTS20_Training_037: Image torch.Size([3, 224, 224]), Mask torch.Size([224, 224])\n"
     ]
    },
    {
     "name": "stderr",
     "output_type": "stream",
     "text": [
      "Epoch [4/15]:   5%|▌         | 4/75 [00:01<00:28,  2.49it/s, Loss=1.23]"
     ]
    },
    {
     "name": "stdout",
     "output_type": "stream",
     "text": [
      "✅ Loaded BraTS20_Training_010: Image torch.Size([3, 224, 224]), Mask torch.Size([224, 224])\n",
      "✅ Loaded BraTS20_Training_042: Image torch.Size([3, 224, 224]), Mask torch.Size([224, 224])\n"
     ]
    },
    {
     "name": "stderr",
     "output_type": "stream",
     "text": [
      "Epoch [4/15]:   7%|▋         | 5/75 [00:02<00:28,  2.46it/s, Loss=1.25]"
     ]
    },
    {
     "name": "stdout",
     "output_type": "stream",
     "text": [
      "✅ Loaded BraTS20_Training_061: Image torch.Size([3, 224, 224]), Mask torch.Size([224, 224])\n",
      "✅ Loaded BraTS20_Training_196: Image torch.Size([3, 224, 224]), Mask torch.Size([224, 224])\n"
     ]
    },
    {
     "name": "stderr",
     "output_type": "stream",
     "text": [
      "Epoch [4/15]:   8%|▊         | 6/75 [00:02<00:27,  2.50it/s, Loss=1.14]"
     ]
    },
    {
     "name": "stdout",
     "output_type": "stream",
     "text": [
      "✅ Loaded BraTS20_Training_087: Image torch.Size([3, 224, 224]), Mask torch.Size([224, 224])\n",
      "✅ Loaded BraTS20_Training_278: Image torch.Size([3, 224, 224]), Mask torch.Size([224, 224])\n"
     ]
    },
    {
     "name": "stderr",
     "output_type": "stream",
     "text": [
      "Epoch [4/15]:   9%|▉         | 7/75 [00:02<00:27,  2.47it/s, Loss=1.37]"
     ]
    },
    {
     "name": "stdout",
     "output_type": "stream",
     "text": [
      "✅ Loaded BraTS20_Training_358: Image torch.Size([3, 224, 224]), Mask torch.Size([224, 224])\n",
      "✅ Loaded BraTS20_Training_135: Image torch.Size([3, 224, 224]), Mask torch.Size([224, 224])\n"
     ]
    },
    {
     "name": "stderr",
     "output_type": "stream",
     "text": [
      "Epoch [4/15]:  11%|█         | 8/75 [00:03<00:27,  2.45it/s, Loss=1.31]"
     ]
    },
    {
     "name": "stdout",
     "output_type": "stream",
     "text": [
      "✅ Loaded BraTS20_Training_290: Image torch.Size([3, 224, 224]), Mask torch.Size([224, 224])\n",
      "✅ Loaded BraTS20_Training_309: Image torch.Size([3, 224, 224]), Mask torch.Size([224, 224])\n"
     ]
    },
    {
     "name": "stderr",
     "output_type": "stream",
     "text": [
      "Epoch [4/15]:  12%|█▏        | 9/75 [00:03<00:26,  2.50it/s, Loss=1.28]"
     ]
    },
    {
     "name": "stdout",
     "output_type": "stream",
     "text": [
      "✅ Loaded BraTS20_Training_222: Image torch.Size([3, 224, 224]), Mask torch.Size([224, 224])\n",
      "✅ Loaded BraTS20_Training_008: Image torch.Size([3, 224, 224]), Mask torch.Size([224, 224])\n"
     ]
    },
    {
     "name": "stderr",
     "output_type": "stream",
     "text": [
      "Epoch [4/15]:  13%|█▎        | 10/75 [00:04<00:26,  2.46it/s, Loss=1.24]"
     ]
    },
    {
     "name": "stdout",
     "output_type": "stream",
     "text": [
      "✅ Loaded BraTS20_Training_201: Image torch.Size([3, 224, 224]), Mask torch.Size([224, 224])\n",
      "✅ Loaded BraTS20_Training_273: Image torch.Size([3, 224, 224]), Mask torch.Size([224, 224])\n"
     ]
    },
    {
     "name": "stderr",
     "output_type": "stream",
     "text": [
      "Epoch [4/15]:  15%|█▍        | 11/75 [00:04<00:25,  2.48it/s, Loss=1.22]"
     ]
    },
    {
     "name": "stdout",
     "output_type": "stream",
     "text": [
      "✅ Loaded BraTS20_Training_015: Image torch.Size([3, 224, 224]), Mask torch.Size([224, 224])\n",
      "✅ Loaded BraTS20_Training_203: Image torch.Size([3, 224, 224]), Mask torch.Size([224, 224])\n"
     ]
    },
    {
     "name": "stderr",
     "output_type": "stream",
     "text": [
      "Epoch [4/15]:  16%|█▌        | 12/75 [00:04<00:25,  2.48it/s, Loss=1.1] "
     ]
    },
    {
     "name": "stdout",
     "output_type": "stream",
     "text": [
      "✅ Loaded BraTS20_Training_147: Image torch.Size([3, 224, 224]), Mask torch.Size([224, 224])\n",
      "✅ Loaded BraTS20_Training_268: Image torch.Size([3, 224, 224]), Mask torch.Size([224, 224])\n"
     ]
    },
    {
     "name": "stderr",
     "output_type": "stream",
     "text": [
      "Epoch [4/15]:  17%|█▋        | 13/75 [00:05<00:25,  2.46it/s, Loss=1.44]"
     ]
    },
    {
     "name": "stdout",
     "output_type": "stream",
     "text": [
      "✅ Loaded BraTS20_Training_345: Image torch.Size([3, 224, 224]), Mask torch.Size([224, 224])\n",
      "✅ Loaded BraTS20_Training_326: Image torch.Size([3, 224, 224]), Mask torch.Size([224, 224])\n"
     ]
    },
    {
     "name": "stderr",
     "output_type": "stream",
     "text": [
      "Epoch [4/15]:  19%|█▊        | 14/75 [00:05<00:25,  2.44it/s, Loss=1.27]"
     ]
    },
    {
     "name": "stdout",
     "output_type": "stream",
     "text": [
      "✅ Loaded BraTS20_Training_217: Image torch.Size([3, 224, 224]), Mask torch.Size([224, 224])\n",
      "✅ Loaded BraTS20_Training_329: Image torch.Size([3, 224, 224]), Mask torch.Size([224, 224])\n"
     ]
    },
    {
     "name": "stderr",
     "output_type": "stream",
     "text": [
      "Epoch [4/15]:  20%|██        | 15/75 [00:06<00:24,  2.46it/s, Loss=1.24]"
     ]
    },
    {
     "name": "stdout",
     "output_type": "stream",
     "text": [
      "✅ Loaded BraTS20_Training_033: Image torch.Size([3, 224, 224]), Mask torch.Size([224, 224])\n",
      "✅ Loaded BraTS20_Training_092: Image torch.Size([3, 224, 224]), Mask torch.Size([224, 224])\n"
     ]
    },
    {
     "name": "stderr",
     "output_type": "stream",
     "text": [
      "Epoch [4/15]:  21%|██▏       | 16/75 [00:06<00:24,  2.44it/s, Loss=1.14]"
     ]
    },
    {
     "name": "stdout",
     "output_type": "stream",
     "text": [
      "✅ Loaded BraTS20_Training_140: Image torch.Size([3, 224, 224]), Mask torch.Size([224, 224])\n",
      "✅ Loaded BraTS20_Training_110: Image torch.Size([3, 224, 224]), Mask torch.Size([224, 224])\n"
     ]
    },
    {
     "name": "stderr",
     "output_type": "stream",
     "text": [
      "Epoch [4/15]:  23%|██▎       | 17/75 [00:06<00:23,  2.46it/s, Loss=1.24]"
     ]
    },
    {
     "name": "stdout",
     "output_type": "stream",
     "text": [
      "✅ Loaded BraTS20_Training_096: Image torch.Size([3, 224, 224]), Mask torch.Size([224, 224])\n",
      "✅ Loaded BraTS20_Training_052: Image torch.Size([3, 224, 224]), Mask torch.Size([224, 224])\n"
     ]
    },
    {
     "name": "stderr",
     "output_type": "stream",
     "text": [
      "Epoch [4/15]:  24%|██▍       | 18/75 [00:07<00:23,  2.47it/s, Loss=1.19]"
     ]
    },
    {
     "name": "stdout",
     "output_type": "stream",
     "text": [
      "✅ Loaded BraTS20_Training_093: Image torch.Size([3, 224, 224]), Mask torch.Size([224, 224])\n",
      "✅ Loaded BraTS20_Training_126: Image torch.Size([3, 224, 224]), Mask torch.Size([224, 224])\n"
     ]
    },
    {
     "name": "stderr",
     "output_type": "stream",
     "text": [
      "Epoch [4/15]:  25%|██▌       | 19/75 [00:07<00:22,  2.48it/s, Loss=1.18]"
     ]
    },
    {
     "name": "stdout",
     "output_type": "stream",
     "text": [
      "✅ Loaded BraTS20_Training_230: Image torch.Size([3, 224, 224]), Mask torch.Size([224, 224])\n",
      "✅ Loaded BraTS20_Training_279: Image torch.Size([3, 224, 224]), Mask torch.Size([224, 224])\n"
     ]
    },
    {
     "name": "stderr",
     "output_type": "stream",
     "text": [
      "Epoch [4/15]:  27%|██▋       | 20/75 [00:08<00:22,  2.49it/s, Loss=1.23]"
     ]
    },
    {
     "name": "stdout",
     "output_type": "stream",
     "text": [
      "✅ Loaded BraTS20_Training_270: Image torch.Size([3, 224, 224]), Mask torch.Size([224, 224])\n",
      "✅ Loaded BraTS20_Training_225: Image torch.Size([3, 224, 224]), Mask torch.Size([224, 224])\n"
     ]
    },
    {
     "name": "stderr",
     "output_type": "stream",
     "text": [
      "Epoch [4/15]:  28%|██▊       | 21/75 [00:08<00:21,  2.46it/s, Loss=1.2] "
     ]
    },
    {
     "name": "stdout",
     "output_type": "stream",
     "text": [
      "✅ Loaded BraTS20_Training_158: Image torch.Size([3, 224, 224]), Mask torch.Size([224, 224])\n",
      "✅ Loaded BraTS20_Training_165: Image torch.Size([3, 224, 224]), Mask torch.Size([224, 224])\n"
     ]
    },
    {
     "name": "stderr",
     "output_type": "stream",
     "text": [
      "Epoch [4/15]:  29%|██▉       | 22/75 [00:08<00:21,  2.47it/s, Loss=1.16]"
     ]
    },
    {
     "name": "stdout",
     "output_type": "stream",
     "text": [
      "✅ Loaded BraTS20_Training_271: Image torch.Size([3, 224, 224]), Mask torch.Size([224, 224])\n",
      "✅ Loaded BraTS20_Training_353: Image torch.Size([3, 224, 224]), Mask torch.Size([224, 224])\n"
     ]
    },
    {
     "name": "stderr",
     "output_type": "stream",
     "text": [
      "Epoch [4/15]:  31%|███       | 23/75 [00:09<00:21,  2.45it/s, Loss=1.16]"
     ]
    },
    {
     "name": "stdout",
     "output_type": "stream",
     "text": [
      "✅ Loaded BraTS20_Training_019: Image torch.Size([3, 224, 224]), Mask torch.Size([224, 224])\n",
      "✅ Loaded BraTS20_Training_339: Image torch.Size([3, 224, 224]), Mask torch.Size([224, 224])\n"
     ]
    },
    {
     "name": "stderr",
     "output_type": "stream",
     "text": [
      "Epoch [4/15]:  32%|███▏      | 24/75 [00:09<00:20,  2.43it/s, Loss=1.18]"
     ]
    },
    {
     "name": "stdout",
     "output_type": "stream",
     "text": [
      "✅ Loaded BraTS20_Training_131: Image torch.Size([3, 224, 224]), Mask torch.Size([224, 224])\n",
      "✅ Loaded BraTS20_Training_121: Image torch.Size([3, 224, 224]), Mask torch.Size([224, 224])\n"
     ]
    },
    {
     "name": "stderr",
     "output_type": "stream",
     "text": [
      "Epoch [4/15]:  33%|███▎      | 25/75 [00:10<00:20,  2.42it/s, Loss=1.19]"
     ]
    },
    {
     "name": "stdout",
     "output_type": "stream",
     "text": [
      "✅ Loaded BraTS20_Training_129: Image torch.Size([3, 224, 224]), Mask torch.Size([224, 224])\n",
      "✅ Loaded BraTS20_Training_099: Image torch.Size([3, 224, 224]), Mask torch.Size([224, 224])\n"
     ]
    },
    {
     "name": "stderr",
     "output_type": "stream",
     "text": [
      "Epoch [4/15]:  35%|███▍      | 26/75 [00:10<00:20,  2.42it/s, Loss=1.22]"
     ]
    },
    {
     "name": "stdout",
     "output_type": "stream",
     "text": [
      "✅ Loaded BraTS20_Training_024: Image torch.Size([3, 224, 224]), Mask torch.Size([224, 224])\n",
      "✅ Loaded BraTS20_Training_369: Image torch.Size([3, 224, 224]), Mask torch.Size([224, 224])\n"
     ]
    },
    {
     "name": "stderr",
     "output_type": "stream",
     "text": [
      "Epoch [4/15]:  36%|███▌      | 27/75 [00:11<00:19,  2.41it/s, Loss=1.34]"
     ]
    },
    {
     "name": "stdout",
     "output_type": "stream",
     "text": [
      "✅ Loaded BraTS20_Training_188: Image torch.Size([3, 224, 224]), Mask torch.Size([224, 224])\n",
      "✅ Loaded BraTS20_Training_315: Image torch.Size([3, 224, 224]), Mask torch.Size([224, 224])\n"
     ]
    },
    {
     "name": "stderr",
     "output_type": "stream",
     "text": [
      "Epoch [4/15]:  37%|███▋      | 28/75 [00:11<00:19,  2.41it/s, Loss=1.17]"
     ]
    },
    {
     "name": "stdout",
     "output_type": "stream",
     "text": [
      "✅ Loaded BraTS20_Training_151: Image torch.Size([3, 224, 224]), Mask torch.Size([224, 224])\n",
      "✅ Loaded BraTS20_Training_027: Image torch.Size([3, 224, 224]), Mask torch.Size([224, 224])\n"
     ]
    },
    {
     "name": "stderr",
     "output_type": "stream",
     "text": [
      "Epoch [4/15]:  39%|███▊      | 29/75 [00:11<00:18,  2.44it/s, Loss=1.2] "
     ]
    },
    {
     "name": "stdout",
     "output_type": "stream",
     "text": [
      "✅ Loaded BraTS20_Training_056: Image torch.Size([3, 224, 224]), Mask torch.Size([224, 224])\n",
      "✅ Loaded BraTS20_Training_275: Image torch.Size([3, 224, 224]), Mask torch.Size([224, 224])\n"
     ]
    },
    {
     "name": "stderr",
     "output_type": "stream",
     "text": [
      "Epoch [4/15]:  40%|████      | 30/75 [00:12<00:18,  2.40it/s, Loss=1.19]"
     ]
    },
    {
     "name": "stdout",
     "output_type": "stream",
     "text": [
      "✅ Loaded BraTS20_Training_143: Image torch.Size([3, 224, 224]), Mask torch.Size([224, 224])\n",
      "✅ Loaded BraTS20_Training_272: Image torch.Size([3, 224, 224]), Mask torch.Size([224, 224])\n"
     ]
    },
    {
     "name": "stderr",
     "output_type": "stream",
     "text": [
      "Epoch [4/15]:  41%|████▏     | 31/75 [00:12<00:18,  2.43it/s, Loss=1.42]"
     ]
    },
    {
     "name": "stdout",
     "output_type": "stream",
     "text": [
      "✅ Loaded BraTS20_Training_360: Image torch.Size([3, 224, 224]), Mask torch.Size([224, 224])\n",
      "✅ Loaded BraTS20_Training_299: Image torch.Size([3, 224, 224]), Mask torch.Size([224, 224])\n"
     ]
    },
    {
     "name": "stderr",
     "output_type": "stream",
     "text": [
      "Epoch [4/15]:  43%|████▎     | 32/75 [00:13<00:17,  2.42it/s, Loss=1.19]"
     ]
    },
    {
     "name": "stdout",
     "output_type": "stream",
     "text": [
      "✅ Loaded BraTS20_Training_242: Image torch.Size([3, 224, 224]), Mask torch.Size([224, 224])\n",
      "✅ Loaded BraTS20_Training_120: Image torch.Size([3, 224, 224]), Mask torch.Size([224, 224])\n"
     ]
    },
    {
     "name": "stderr",
     "output_type": "stream",
     "text": [
      "Epoch [4/15]:  44%|████▍     | 33/75 [00:13<00:17,  2.43it/s, Loss=1.18]"
     ]
    },
    {
     "name": "stdout",
     "output_type": "stream",
     "text": [
      "✅ Loaded BraTS20_Training_233: Image torch.Size([3, 224, 224]), Mask torch.Size([224, 224])\n",
      "✅ Loaded BraTS20_Training_106: Image torch.Size([3, 224, 224]), Mask torch.Size([224, 224])\n"
     ]
    },
    {
     "name": "stderr",
     "output_type": "stream",
     "text": [
      "Epoch [4/15]:  45%|████▌     | 34/75 [00:13<00:16,  2.46it/s, Loss=1.15]"
     ]
    },
    {
     "name": "stdout",
     "output_type": "stream",
     "text": [
      "✅ Loaded BraTS20_Training_227: Image torch.Size([3, 224, 224]), Mask torch.Size([224, 224])\n",
      "✅ Loaded BraTS20_Training_297: Image torch.Size([3, 224, 224]), Mask torch.Size([224, 224])\n"
     ]
    },
    {
     "name": "stderr",
     "output_type": "stream",
     "text": [
      "Epoch [4/15]:  47%|████▋     | 35/75 [00:14<00:16,  2.44it/s, Loss=1.16]"
     ]
    },
    {
     "name": "stdout",
     "output_type": "stream",
     "text": [
      "✅ Loaded BraTS20_Training_119: Image torch.Size([3, 224, 224]), Mask torch.Size([224, 224])\n",
      "✅ Loaded BraTS20_Training_123: Image torch.Size([3, 224, 224]), Mask torch.Size([224, 224])\n"
     ]
    },
    {
     "name": "stderr",
     "output_type": "stream",
     "text": [
      "Epoch [4/15]:  48%|████▊     | 36/75 [00:14<00:15,  2.45it/s, Loss=1.07]"
     ]
    },
    {
     "name": "stdout",
     "output_type": "stream",
     "text": [
      "✅ Loaded BraTS20_Training_025: Image torch.Size([3, 224, 224]), Mask torch.Size([224, 224])\n",
      "✅ Loaded BraTS20_Training_255: Image torch.Size([3, 224, 224]), Mask torch.Size([224, 224])\n"
     ]
    },
    {
     "name": "stderr",
     "output_type": "stream",
     "text": [
      "Epoch [4/15]:  49%|████▉     | 37/75 [00:15<00:15,  2.45it/s, Loss=1.11]"
     ]
    },
    {
     "name": "stdout",
     "output_type": "stream",
     "text": [
      "✅ Loaded BraTS20_Training_058: Image torch.Size([3, 224, 224]), Mask torch.Size([224, 224])\n",
      "✅ Loaded BraTS20_Training_261: Image torch.Size([3, 224, 224]), Mask torch.Size([224, 224])\n"
     ]
    },
    {
     "name": "stderr",
     "output_type": "stream",
     "text": [
      "Epoch [4/15]:  51%|█████     | 38/75 [00:15<00:15,  2.46it/s, Loss=1.25]"
     ]
    },
    {
     "name": "stdout",
     "output_type": "stream",
     "text": [
      "✅ Loaded BraTS20_Training_224: Image torch.Size([3, 224, 224]), Mask torch.Size([224, 224])\n",
      "✅ Loaded BraTS20_Training_155: Image torch.Size([3, 224, 224]), Mask torch.Size([224, 224])\n"
     ]
    },
    {
     "name": "stderr",
     "output_type": "stream",
     "text": [
      "Epoch [4/15]:  52%|█████▏    | 39/75 [00:15<00:14,  2.44it/s, Loss=1.34]"
     ]
    },
    {
     "name": "stdout",
     "output_type": "stream",
     "text": [
      "✅ Loaded BraTS20_Training_064: Image torch.Size([3, 224, 224]), Mask torch.Size([224, 224])\n",
      "✅ Loaded BraTS20_Training_022: Image torch.Size([3, 224, 224]), Mask torch.Size([224, 224])\n"
     ]
    },
    {
     "name": "stderr",
     "output_type": "stream",
     "text": [
      "Epoch [4/15]:  53%|█████▎    | 40/75 [00:16<00:14,  2.42it/s, Loss=1.14]"
     ]
    },
    {
     "name": "stdout",
     "output_type": "stream",
     "text": [
      "✅ Loaded BraTS20_Training_289: Image torch.Size([3, 224, 224]), Mask torch.Size([224, 224])\n",
      "✅ Loaded BraTS20_Training_086: Image torch.Size([3, 224, 224]), Mask torch.Size([224, 224])\n"
     ]
    },
    {
     "name": "stderr",
     "output_type": "stream",
     "text": [
      "Epoch [4/15]:  55%|█████▍    | 41/75 [00:16<00:13,  2.45it/s, Loss=1.08]"
     ]
    },
    {
     "name": "stdout",
     "output_type": "stream",
     "text": [
      "✅ Loaded BraTS20_Training_244: Image torch.Size([3, 224, 224]), Mask torch.Size([224, 224])\n",
      "✅ Loaded BraTS20_Training_282: Image torch.Size([3, 224, 224]), Mask torch.Size([224, 224])\n"
     ]
    },
    {
     "name": "stderr",
     "output_type": "stream",
     "text": [
      "Epoch [4/15]:  56%|█████▌    | 42/75 [00:17<00:13,  2.44it/s, Loss=1.16]"
     ]
    },
    {
     "name": "stdout",
     "output_type": "stream",
     "text": [
      "✅ Loaded BraTS20_Training_220: Image torch.Size([3, 224, 224]), Mask torch.Size([224, 224])\n",
      "✅ Loaded BraTS20_Training_116: Image torch.Size([3, 224, 224]), Mask torch.Size([224, 224])\n"
     ]
    },
    {
     "name": "stderr",
     "output_type": "stream",
     "text": [
      "Epoch [4/15]:  57%|█████▋    | 43/75 [00:17<00:13,  2.46it/s, Loss=1.15]"
     ]
    },
    {
     "name": "stdout",
     "output_type": "stream",
     "text": [
      "✅ Loaded BraTS20_Training_082: Image torch.Size([3, 224, 224]), Mask torch.Size([224, 224])\n",
      "✅ Loaded BraTS20_Training_336: Image torch.Size([3, 224, 224]), Mask torch.Size([224, 224])\n"
     ]
    },
    {
     "name": "stderr",
     "output_type": "stream",
     "text": [
      "Epoch [4/15]:  59%|█████▊    | 44/75 [00:17<00:12,  2.40it/s, Loss=1.12]"
     ]
    },
    {
     "name": "stdout",
     "output_type": "stream",
     "text": [
      "✅ Loaded BraTS20_Training_050: Image torch.Size([3, 224, 224]), Mask torch.Size([224, 224])\n",
      "✅ Loaded BraTS20_Training_312: Image torch.Size([3, 224, 224]), Mask torch.Size([224, 224])\n"
     ]
    },
    {
     "name": "stderr",
     "output_type": "stream",
     "text": [
      "Epoch [4/15]:  60%|██████    | 45/75 [00:18<00:12,  2.41it/s, Loss=1.17]"
     ]
    },
    {
     "name": "stdout",
     "output_type": "stream",
     "text": [
      "✅ Loaded BraTS20_Training_267: Image torch.Size([3, 224, 224]), Mask torch.Size([224, 224])\n",
      "✅ Loaded BraTS20_Training_089: Image torch.Size([3, 224, 224]), Mask torch.Size([224, 224])\n"
     ]
    },
    {
     "name": "stderr",
     "output_type": "stream",
     "text": [
      "Epoch [4/15]:  61%|██████▏   | 46/75 [00:18<00:11,  2.43it/s, Loss=1.19]"
     ]
    },
    {
     "name": "stdout",
     "output_type": "stream",
     "text": [
      "✅ Loaded BraTS20_Training_145: Image torch.Size([3, 224, 224]), Mask torch.Size([224, 224])\n",
      "✅ Loaded BraTS20_Training_197: Image torch.Size([3, 224, 224]), Mask torch.Size([224, 224])\n"
     ]
    },
    {
     "name": "stderr",
     "output_type": "stream",
     "text": [
      "Epoch [4/15]:  63%|██████▎   | 47/75 [00:19<00:11,  2.42it/s, Loss=1.12]"
     ]
    },
    {
     "name": "stdout",
     "output_type": "stream",
     "text": [
      "✅ Loaded BraTS20_Training_318: Image torch.Size([3, 224, 224]), Mask torch.Size([224, 224])\n",
      "✅ Loaded BraTS20_Training_294: Image torch.Size([3, 224, 224]), Mask torch.Size([224, 224])\n"
     ]
    },
    {
     "name": "stderr",
     "output_type": "stream",
     "text": [
      "Epoch [4/15]:  64%|██████▍   | 48/75 [00:19<00:11,  2.45it/s, Loss=1.24]"
     ]
    },
    {
     "name": "stdout",
     "output_type": "stream",
     "text": [
      "✅ Loaded BraTS20_Training_253: Image torch.Size([3, 224, 224]), Mask torch.Size([224, 224])\n",
      "✅ Loaded BraTS20_Training_079: Image torch.Size([3, 224, 224]), Mask torch.Size([224, 224])\n"
     ]
    },
    {
     "name": "stderr",
     "output_type": "stream",
     "text": [
      "Epoch [4/15]:  65%|██████▌   | 49/75 [00:20<00:10,  2.45it/s, Loss=1.17]"
     ]
    },
    {
     "name": "stdout",
     "output_type": "stream",
     "text": [
      "✅ Loaded BraTS20_Training_237: Image torch.Size([3, 224, 224]), Mask torch.Size([224, 224])\n",
      "✅ Loaded BraTS20_Training_228: Image torch.Size([3, 224, 224]), Mask torch.Size([224, 224])\n"
     ]
    },
    {
     "name": "stderr",
     "output_type": "stream",
     "text": [
      "Epoch [4/15]:  67%|██████▋   | 50/75 [00:20<00:10,  2.45it/s, Loss=1.14]"
     ]
    },
    {
     "name": "stdout",
     "output_type": "stream",
     "text": [
      "✅ Loaded BraTS20_Training_194: Image torch.Size([3, 224, 224]), Mask torch.Size([224, 224])\n",
      "✅ Loaded BraTS20_Training_277: Image torch.Size([3, 224, 224]), Mask torch.Size([224, 224])\n"
     ]
    },
    {
     "name": "stderr",
     "output_type": "stream",
     "text": [
      "Epoch [4/15]:  68%|██████▊   | 51/75 [00:20<00:09,  2.46it/s, Loss=1.12]"
     ]
    },
    {
     "name": "stdout",
     "output_type": "stream",
     "text": [
      "✅ Loaded BraTS20_Training_198: Image torch.Size([3, 224, 224]), Mask torch.Size([224, 224])\n",
      "✅ Loaded BraTS20_Training_258: Image torch.Size([3, 224, 224]), Mask torch.Size([224, 224])\n"
     ]
    },
    {
     "name": "stderr",
     "output_type": "stream",
     "text": [
      "Epoch [4/15]:  69%|██████▉   | 52/75 [00:21<00:09,  2.47it/s, Loss=1.13]"
     ]
    },
    {
     "name": "stdout",
     "output_type": "stream",
     "text": [
      "✅ Loaded BraTS20_Training_148: Image torch.Size([3, 224, 224]), Mask torch.Size([224, 224])\n",
      "✅ Loaded BraTS20_Training_036: Image torch.Size([3, 224, 224]), Mask torch.Size([224, 224])\n"
     ]
    },
    {
     "name": "stderr",
     "output_type": "stream",
     "text": [
      "Epoch [4/15]:  71%|███████   | 53/75 [00:21<00:08,  2.48it/s, Loss=1.14]"
     ]
    },
    {
     "name": "stdout",
     "output_type": "stream",
     "text": [
      "✅ Loaded BraTS20_Training_023: Image torch.Size([3, 224, 224]), Mask torch.Size([224, 224])\n",
      "✅ Loaded BraTS20_Training_213: Image torch.Size([3, 224, 224]), Mask torch.Size([224, 224])\n"
     ]
    },
    {
     "name": "stderr",
     "output_type": "stream",
     "text": [
      "Epoch [4/15]:  72%|███████▏  | 54/75 [00:22<00:08,  2.46it/s, Loss=1.14]"
     ]
    },
    {
     "name": "stdout",
     "output_type": "stream",
     "text": [
      "✅ Loaded BraTS20_Training_245: Image torch.Size([3, 224, 224]), Mask torch.Size([224, 224])\n",
      "✅ Loaded BraTS20_Training_239: Image torch.Size([3, 224, 224]), Mask torch.Size([224, 224])\n"
     ]
    },
    {
     "name": "stderr",
     "output_type": "stream",
     "text": [
      "Epoch [4/15]:  73%|███████▎  | 55/75 [00:22<00:08,  2.46it/s, Loss=1.19]"
     ]
    },
    {
     "name": "stdout",
     "output_type": "stream",
     "text": [
      "✅ Loaded BraTS20_Training_322: Image torch.Size([3, 224, 224]), Mask torch.Size([224, 224])\n",
      "✅ Loaded BraTS20_Training_021: Image torch.Size([3, 224, 224]), Mask torch.Size([224, 224])\n"
     ]
    },
    {
     "name": "stderr",
     "output_type": "stream",
     "text": [
      "Epoch [4/15]:  75%|███████▍  | 56/75 [00:22<00:07,  2.48it/s, Loss=1.15]"
     ]
    },
    {
     "name": "stdout",
     "output_type": "stream",
     "text": [
      "✅ Loaded BraTS20_Training_057: Image torch.Size([3, 224, 224]), Mask torch.Size([224, 224])\n",
      "✅ Loaded BraTS20_Training_072: Image torch.Size([3, 224, 224]), Mask torch.Size([224, 224])\n"
     ]
    },
    {
     "name": "stderr",
     "output_type": "stream",
     "text": [
      "Epoch [4/15]:  76%|███████▌  | 57/75 [00:23<00:07,  2.49it/s, Loss=1.08]"
     ]
    },
    {
     "name": "stdout",
     "output_type": "stream",
     "text": [
      "✅ Loaded BraTS20_Training_077: Image torch.Size([3, 224, 224]), Mask torch.Size([224, 224])\n",
      "✅ Loaded BraTS20_Training_180: Image torch.Size([3, 224, 224]), Mask torch.Size([224, 224])\n"
     ]
    },
    {
     "name": "stderr",
     "output_type": "stream",
     "text": [
      "Epoch [4/15]:  77%|███████▋  | 58/75 [00:23<00:06,  2.46it/s, Loss=1.01]"
     ]
    },
    {
     "name": "stdout",
     "output_type": "stream",
     "text": [
      "✅ Loaded BraTS20_Training_183: Image torch.Size([3, 224, 224]), Mask torch.Size([224, 224])\n",
      "✅ Loaded BraTS20_Training_073: Image torch.Size([3, 224, 224]), Mask torch.Size([224, 224])\n"
     ]
    },
    {
     "name": "stderr",
     "output_type": "stream",
     "text": [
      "Epoch [4/15]:  79%|███████▊  | 59/75 [00:24<00:06,  2.47it/s, Loss=1.06]"
     ]
    },
    {
     "name": "stdout",
     "output_type": "stream",
     "text": [
      "✅ Loaded BraTS20_Training_280: Image torch.Size([3, 224, 224]), Mask torch.Size([224, 224])\n",
      "✅ Loaded BraTS20_Training_053: Image torch.Size([3, 224, 224]), Mask torch.Size([224, 224])\n"
     ]
    },
    {
     "name": "stderr",
     "output_type": "stream",
     "text": [
      "Epoch [4/15]:  80%|████████  | 60/75 [00:24<00:06,  2.45it/s, Loss=1.06]"
     ]
    },
    {
     "name": "stdout",
     "output_type": "stream",
     "text": [
      "✅ Loaded BraTS20_Training_226: Image torch.Size([3, 224, 224]), Mask torch.Size([224, 224])\n",
      "✅ Loaded BraTS20_Training_128: Image torch.Size([3, 224, 224]), Mask torch.Size([224, 224])\n"
     ]
    },
    {
     "name": "stderr",
     "output_type": "stream",
     "text": [
      "Epoch [4/15]:  81%|████████▏ | 61/75 [00:24<00:05,  2.43it/s, Loss=1.13]"
     ]
    },
    {
     "name": "stdout",
     "output_type": "stream",
     "text": [
      "✅ Loaded BraTS20_Training_262: Image torch.Size([3, 224, 224]), Mask torch.Size([224, 224])\n",
      "✅ Loaded BraTS20_Training_060: Image torch.Size([3, 224, 224]), Mask torch.Size([224, 224])\n"
     ]
    },
    {
     "name": "stderr",
     "output_type": "stream",
     "text": [
      "Epoch [4/15]:  83%|████████▎ | 62/75 [00:25<00:05,  2.39it/s, Loss=1.05]"
     ]
    },
    {
     "name": "stdout",
     "output_type": "stream",
     "text": [
      "✅ Loaded BraTS20_Training_161: Image torch.Size([3, 224, 224]), Mask torch.Size([224, 224])\n",
      "✅ Loaded BraTS20_Training_105: Image torch.Size([3, 224, 224]), Mask torch.Size([224, 224])\n"
     ]
    },
    {
     "name": "stderr",
     "output_type": "stream",
     "text": [
      "Epoch [4/15]:  84%|████████▍ | 63/75 [00:25<00:04,  2.40it/s, Loss=1.09]"
     ]
    },
    {
     "name": "stdout",
     "output_type": "stream",
     "text": [
      "✅ Loaded BraTS20_Training_166: Image torch.Size([3, 224, 224]), Mask torch.Size([224, 224])\n",
      "✅ Loaded BraTS20_Training_125: Image torch.Size([3, 224, 224]), Mask torch.Size([224, 224])\n"
     ]
    },
    {
     "name": "stderr",
     "output_type": "stream",
     "text": [
      "Epoch [4/15]:  85%|████████▌ | 64/75 [00:26<00:04,  2.43it/s, Loss=0.994]"
     ]
    },
    {
     "name": "stdout",
     "output_type": "stream",
     "text": [
      "✅ Loaded BraTS20_Training_149: Image torch.Size([3, 224, 224]), Mask torch.Size([224, 224])\n",
      "✅ Loaded BraTS20_Training_020: Image torch.Size([3, 224, 224]), Mask torch.Size([224, 224])\n"
     ]
    },
    {
     "name": "stderr",
     "output_type": "stream",
     "text": [
      "Epoch [4/15]:  87%|████████▋ | 65/75 [00:26<00:04,  2.44it/s, Loss=1.16] "
     ]
    },
    {
     "name": "stdout",
     "output_type": "stream",
     "text": [
      "✅ Loaded BraTS20_Training_164: Image torch.Size([3, 224, 224]), Mask torch.Size([224, 224])\n",
      "✅ Loaded BraTS20_Training_032: Image torch.Size([3, 224, 224]), Mask torch.Size([224, 224])\n"
     ]
    },
    {
     "name": "stderr",
     "output_type": "stream",
     "text": [
      "Epoch [4/15]:  88%|████████▊ | 66/75 [00:26<00:03,  2.43it/s, Loss=1.06]"
     ]
    },
    {
     "name": "stdout",
     "output_type": "stream",
     "text": [
      "✅ Loaded BraTS20_Training_250: Image torch.Size([3, 224, 224]), Mask torch.Size([224, 224])\n",
      "✅ Loaded BraTS20_Training_080: Image torch.Size([3, 224, 224]), Mask torch.Size([224, 224])\n"
     ]
    },
    {
     "name": "stderr",
     "output_type": "stream",
     "text": [
      "Epoch [4/15]:  89%|████████▉ | 67/75 [00:27<00:03,  2.42it/s, Loss=1.07]"
     ]
    },
    {
     "name": "stdout",
     "output_type": "stream",
     "text": [
      "✅ Loaded BraTS20_Training_195: Image torch.Size([3, 224, 224]), Mask torch.Size([224, 224])\n",
      "✅ Loaded BraTS20_Training_034: Image torch.Size([3, 224, 224]), Mask torch.Size([224, 224])\n"
     ]
    },
    {
     "name": "stderr",
     "output_type": "stream",
     "text": [
      "Epoch [4/15]:  91%|█████████ | 68/75 [00:27<00:02,  2.45it/s, Loss=1.12]"
     ]
    },
    {
     "name": "stdout",
     "output_type": "stream",
     "text": [
      "✅ Loaded BraTS20_Training_308: Image torch.Size([3, 224, 224]), Mask torch.Size([224, 224])\n",
      "✅ Loaded BraTS20_Training_332: Image torch.Size([3, 224, 224]), Mask torch.Size([224, 224])\n"
     ]
    },
    {
     "name": "stderr",
     "output_type": "stream",
     "text": [
      "Epoch [4/15]:  92%|█████████▏| 69/75 [00:28<00:02,  2.47it/s, Loss=1.15]"
     ]
    },
    {
     "name": "stdout",
     "output_type": "stream",
     "text": [
      "✅ Loaded BraTS20_Training_193: Image torch.Size([3, 224, 224]), Mask torch.Size([224, 224])\n",
      "✅ Loaded BraTS20_Training_257: Image torch.Size([3, 224, 224]), Mask torch.Size([224, 224])\n"
     ]
    },
    {
     "name": "stderr",
     "output_type": "stream",
     "text": [
      "Epoch [4/15]:  93%|█████████▎| 70/75 [00:28<00:02,  2.45it/s, Loss=0.923]"
     ]
    },
    {
     "name": "stdout",
     "output_type": "stream",
     "text": [
      "✅ Loaded BraTS20_Training_302: Image torch.Size([3, 224, 224]), Mask torch.Size([224, 224])\n",
      "✅ Loaded BraTS20_Training_348: Image torch.Size([3, 224, 224]), Mask torch.Size([224, 224])\n"
     ]
    },
    {
     "name": "stderr",
     "output_type": "stream",
     "text": [
      "Epoch [4/15]:  95%|█████████▍| 71/75 [00:29<00:01,  2.43it/s, Loss=1.29] "
     ]
    },
    {
     "name": "stdout",
     "output_type": "stream",
     "text": [
      "✅ Loaded BraTS20_Training_259: Image torch.Size([3, 224, 224]), Mask torch.Size([224, 224])\n",
      "✅ Loaded BraTS20_Training_248: Image torch.Size([3, 224, 224]), Mask torch.Size([224, 224])\n"
     ]
    },
    {
     "name": "stderr",
     "output_type": "stream",
     "text": [
      "Epoch [4/15]:  96%|█████████▌| 72/75 [00:29<00:01,  2.42it/s, Loss=1.1] "
     ]
    },
    {
     "name": "stdout",
     "output_type": "stream",
     "text": [
      "✅ Loaded BraTS20_Training_206: Image torch.Size([3, 224, 224]), Mask torch.Size([224, 224])\n",
      "✅ Loaded BraTS20_Training_150: Image torch.Size([3, 224, 224]), Mask torch.Size([224, 224])\n"
     ]
    },
    {
     "name": "stderr",
     "output_type": "stream",
     "text": [
      "Epoch [4/15]:  97%|█████████▋| 73/75 [00:29<00:00,  2.42it/s, Loss=0.98]"
     ]
    },
    {
     "name": "stdout",
     "output_type": "stream",
     "text": [
      "✅ Loaded BraTS20_Training_001: Image torch.Size([3, 224, 224]), Mask torch.Size([224, 224])\n",
      "✅ Loaded BraTS20_Training_364: Image torch.Size([3, 224, 224]), Mask torch.Size([224, 224])\n"
     ]
    },
    {
     "name": "stderr",
     "output_type": "stream",
     "text": [
      "Epoch [4/15]:  99%|█████████▊| 74/75 [00:30<00:00,  2.41it/s, Loss=1.05]"
     ]
    },
    {
     "name": "stdout",
     "output_type": "stream",
     "text": [
      "✅ Loaded BraTS20_Training_132: Image torch.Size([3, 224, 224]), Mask torch.Size([224, 224])\n",
      "✅ Loaded BraTS20_Training_069: Image torch.Size([3, 224, 224]), Mask torch.Size([224, 224])\n"
     ]
    },
    {
     "name": "stderr",
     "output_type": "stream",
     "text": [
      "                                                                        \r"
     ]
    },
    {
     "name": "stdout",
     "output_type": "stream",
     "text": [
      "\n",
      "✅ Epoch 4: Train Loss: 1.1649\n",
      "💾 Saved model at epoch 4 with train loss 1.1649\n"
     ]
    },
    {
     "name": "stderr",
     "output_type": "stream",
     "text": [
      "Epoch [5/15]:   0%|          | 0/75 [00:00<?, ?it/s]"
     ]
    },
    {
     "name": "stdout",
     "output_type": "stream",
     "text": [
      "✅ Loaded BraTS20_Training_120: Image torch.Size([3, 224, 224]), Mask torch.Size([224, 224])\n",
      "✅ Loaded BraTS20_Training_278: Image torch.Size([3, 224, 224]), Mask torch.Size([224, 224])\n"
     ]
    },
    {
     "name": "stderr",
     "output_type": "stream",
     "text": [
      "Epoch [5/15]:   1%|▏         | 1/75 [00:00<00:29,  2.51it/s, Loss=1.17]"
     ]
    },
    {
     "name": "stdout",
     "output_type": "stream",
     "text": [
      "✅ Loaded BraTS20_Training_034: Image torch.Size([3, 224, 224]), Mask torch.Size([224, 224])\n",
      "✅ Loaded BraTS20_Training_369: Image torch.Size([3, 224, 224]), Mask torch.Size([224, 224])\n"
     ]
    },
    {
     "name": "stderr",
     "output_type": "stream",
     "text": [
      "Epoch [5/15]:   3%|▎         | 2/75 [00:00<00:31,  2.34it/s, Loss=1.28]"
     ]
    },
    {
     "name": "stdout",
     "output_type": "stream",
     "text": [
      "✅ Loaded BraTS20_Training_193: Image torch.Size([3, 224, 224]), Mask torch.Size([224, 224])\n",
      "✅ Loaded BraTS20_Training_131: Image torch.Size([3, 224, 224]), Mask torch.Size([224, 224])\n"
     ]
    },
    {
     "name": "stderr",
     "output_type": "stream",
     "text": [
      "Epoch [5/15]:   4%|▍         | 3/75 [00:01<00:30,  2.39it/s, Loss=1.04]"
     ]
    },
    {
     "name": "stdout",
     "output_type": "stream",
     "text": [
      "✅ Loaded BraTS20_Training_033: Image torch.Size([3, 224, 224]), Mask torch.Size([224, 224])\n",
      "✅ Loaded BraTS20_Training_253: Image torch.Size([3, 224, 224]), Mask torch.Size([224, 224])\n"
     ]
    },
    {
     "name": "stderr",
     "output_type": "stream",
     "text": [
      "Epoch [5/15]:   5%|▌         | 4/75 [00:01<00:29,  2.45it/s, Loss=1.14]"
     ]
    },
    {
     "name": "stdout",
     "output_type": "stream",
     "text": [
      "✅ Loaded BraTS20_Training_196: Image torch.Size([3, 224, 224]), Mask torch.Size([224, 224])\n",
      "✅ Loaded BraTS20_Training_060: Image torch.Size([3, 224, 224]), Mask torch.Size([224, 224])\n"
     ]
    },
    {
     "name": "stderr",
     "output_type": "stream",
     "text": [
      "Epoch [5/15]:   7%|▋         | 5/75 [00:02<00:28,  2.43it/s, Loss=0.998]"
     ]
    },
    {
     "name": "stdout",
     "output_type": "stream",
     "text": [
      "✅ Loaded BraTS20_Training_271: Image torch.Size([3, 224, 224]), Mask torch.Size([224, 224])\n",
      "✅ Loaded BraTS20_Training_213: Image torch.Size([3, 224, 224]), Mask torch.Size([224, 224])\n"
     ]
    },
    {
     "name": "stderr",
     "output_type": "stream",
     "text": [
      "Epoch [5/15]:   8%|▊         | 6/75 [00:02<00:28,  2.42it/s, Loss=1.05] "
     ]
    },
    {
     "name": "stdout",
     "output_type": "stream",
     "text": [
      "✅ Loaded BraTS20_Training_180: Image torch.Size([3, 224, 224]), Mask torch.Size([224, 224])\n",
      "✅ Loaded BraTS20_Training_032: Image torch.Size([3, 224, 224]), Mask torch.Size([224, 224])\n"
     ]
    },
    {
     "name": "stderr",
     "output_type": "stream",
     "text": [
      "Epoch [5/15]:   9%|▉         | 7/75 [00:02<00:27,  2.45it/s, Loss=0.988]"
     ]
    },
    {
     "name": "stdout",
     "output_type": "stream",
     "text": [
      "✅ Loaded BraTS20_Training_020: Image torch.Size([3, 224, 224]), Mask torch.Size([224, 224])\n",
      "✅ Loaded BraTS20_Training_058: Image torch.Size([3, 224, 224]), Mask torch.Size([224, 224])\n"
     ]
    },
    {
     "name": "stderr",
     "output_type": "stream",
     "text": [
      "Epoch [5/15]:  11%|█         | 8/75 [00:03<00:27,  2.43it/s, Loss=1.04] "
     ]
    },
    {
     "name": "stdout",
     "output_type": "stream",
     "text": [
      "✅ Loaded BraTS20_Training_206: Image torch.Size([3, 224, 224]), Mask torch.Size([224, 224])\n",
      "✅ Loaded BraTS20_Training_239: Image torch.Size([3, 224, 224]), Mask torch.Size([224, 224])\n"
     ]
    },
    {
     "name": "stderr",
     "output_type": "stream",
     "text": [
      "Epoch [5/15]:  12%|█▏        | 9/75 [00:03<00:27,  2.42it/s, Loss=1.09]"
     ]
    },
    {
     "name": "stdout",
     "output_type": "stream",
     "text": [
      "✅ Loaded BraTS20_Training_273: Image torch.Size([3, 224, 224]), Mask torch.Size([224, 224])\n",
      "✅ Loaded BraTS20_Training_195: Image torch.Size([3, 224, 224]), Mask torch.Size([224, 224])\n"
     ]
    },
    {
     "name": "stderr",
     "output_type": "stream",
     "text": [
      "Epoch [5/15]:  13%|█▎        | 10/75 [00:04<00:26,  2.42it/s, Loss=0.997]"
     ]
    },
    {
     "name": "stdout",
     "output_type": "stream",
     "text": [
      "✅ Loaded BraTS20_Training_188: Image torch.Size([3, 224, 224]), Mask torch.Size([224, 224])\n",
      "✅ Loaded BraTS20_Training_275: Image torch.Size([3, 224, 224]), Mask torch.Size([224, 224])\n"
     ]
    },
    {
     "name": "stderr",
     "output_type": "stream",
     "text": [
      "Epoch [5/15]:  15%|█▍        | 11/75 [00:04<00:26,  2.40it/s, Loss=1.06] "
     ]
    },
    {
     "name": "stdout",
     "output_type": "stream",
     "text": [
      "✅ Loaded BraTS20_Training_261: Image torch.Size([3, 224, 224]), Mask torch.Size([224, 224])\n",
      "✅ Loaded BraTS20_Training_326: Image torch.Size([3, 224, 224]), Mask torch.Size([224, 224])\n"
     ]
    },
    {
     "name": "stderr",
     "output_type": "stream",
     "text": [
      "Epoch [5/15]:  16%|█▌        | 12/75 [00:04<00:26,  2.40it/s, Loss=1.2] "
     ]
    },
    {
     "name": "stdout",
     "output_type": "stream",
     "text": [
      "✅ Loaded BraTS20_Training_056: Image torch.Size([3, 224, 224]), Mask torch.Size([224, 224])\n",
      "✅ Loaded BraTS20_Training_027: Image torch.Size([3, 224, 224]), Mask torch.Size([224, 224])\n"
     ]
    },
    {
     "name": "stderr",
     "output_type": "stream",
     "text": [
      "Epoch [5/15]:  17%|█▋        | 13/75 [00:05<00:25,  2.40it/s, Loss=1.07]"
     ]
    },
    {
     "name": "stdout",
     "output_type": "stream",
     "text": [
      "✅ Loaded BraTS20_Training_092: Image torch.Size([3, 224, 224]), Mask torch.Size([224, 224])\n",
      "✅ Loaded BraTS20_Training_226: Image torch.Size([3, 224, 224]), Mask torch.Size([224, 224])\n"
     ]
    },
    {
     "name": "stderr",
     "output_type": "stream",
     "text": [
      "Epoch [5/15]:  19%|█▊        | 14/75 [00:05<00:25,  2.41it/s, Loss=1.09]"
     ]
    },
    {
     "name": "stdout",
     "output_type": "stream",
     "text": [
      "✅ Loaded BraTS20_Training_105: Image torch.Size([3, 224, 224]), Mask torch.Size([224, 224])\n",
      "✅ Loaded BraTS20_Training_129: Image torch.Size([3, 224, 224]), Mask torch.Size([224, 224])\n"
     ]
    },
    {
     "name": "stderr",
     "output_type": "stream",
     "text": [
      "Epoch [5/15]:  20%|██        | 15/75 [00:06<00:25,  2.35it/s, Loss=1.08]"
     ]
    },
    {
     "name": "stdout",
     "output_type": "stream",
     "text": [
      "✅ Loaded BraTS20_Training_089: Image torch.Size([3, 224, 224]), Mask torch.Size([224, 224])\n",
      "✅ Loaded BraTS20_Training_224: Image torch.Size([3, 224, 224]), Mask torch.Size([224, 224])\n"
     ]
    },
    {
     "name": "stderr",
     "output_type": "stream",
     "text": [
      "Epoch [5/15]:  21%|██▏       | 16/75 [00:06<00:24,  2.36it/s, Loss=1.28]"
     ]
    },
    {
     "name": "stdout",
     "output_type": "stream",
     "text": [
      "✅ Loaded BraTS20_Training_083: Image torch.Size([3, 224, 224]), Mask torch.Size([224, 224])\n",
      "✅ Loaded BraTS20_Training_143: Image torch.Size([3, 224, 224]), Mask torch.Size([224, 224])\n"
     ]
    },
    {
     "name": "stderr",
     "output_type": "stream",
     "text": [
      "Epoch [5/15]:  23%|██▎       | 17/75 [00:07<00:24,  2.40it/s, Loss=1.23]"
     ]
    },
    {
     "name": "stdout",
     "output_type": "stream",
     "text": [
      "✅ Loaded BraTS20_Training_289: Image torch.Size([3, 224, 224]), Mask torch.Size([224, 224])\n",
      "✅ Loaded BraTS20_Training_017: Image torch.Size([3, 224, 224]), Mask torch.Size([224, 224])\n"
     ]
    },
    {
     "name": "stderr",
     "output_type": "stream",
     "text": [
      "Epoch [5/15]:  24%|██▍       | 18/75 [00:07<00:23,  2.40it/s, Loss=1.05]"
     ]
    },
    {
     "name": "stdout",
     "output_type": "stream",
     "text": [
      "✅ Loaded BraTS20_Training_225: Image torch.Size([3, 224, 224]), Mask torch.Size([224, 224])\n",
      "✅ Loaded BraTS20_Training_161: Image torch.Size([3, 224, 224]), Mask torch.Size([224, 224])\n"
     ]
    },
    {
     "name": "stderr",
     "output_type": "stream",
     "text": [
      "Epoch [5/15]:  25%|██▌       | 19/75 [00:07<00:23,  2.40it/s, Loss=1.04]"
     ]
    },
    {
     "name": "stdout",
     "output_type": "stream",
     "text": [
      "✅ Loaded BraTS20_Training_132: Image torch.Size([3, 224, 224]), Mask torch.Size([224, 224])\n",
      "✅ Loaded BraTS20_Training_057: Image torch.Size([3, 224, 224]), Mask torch.Size([224, 224])\n"
     ]
    },
    {
     "name": "stderr",
     "output_type": "stream",
     "text": [
      "Epoch [5/15]:  27%|██▋       | 20/75 [00:08<00:22,  2.40it/s, Loss=0.939]"
     ]
    },
    {
     "name": "stdout",
     "output_type": "stream",
     "text": [
      "✅ Loaded BraTS20_Training_150: Image torch.Size([3, 224, 224]), Mask torch.Size([224, 224])\n",
      "✅ Loaded BraTS20_Training_148: Image torch.Size([3, 224, 224]), Mask torch.Size([224, 224])\n"
     ]
    },
    {
     "name": "stderr",
     "output_type": "stream",
     "text": [
      "Epoch [5/15]:  28%|██▊       | 21/75 [00:08<00:22,  2.40it/s, Loss=1.05] "
     ]
    },
    {
     "name": "stdout",
     "output_type": "stream",
     "text": [
      "✅ Loaded BraTS20_Training_329: Image torch.Size([3, 224, 224]), Mask torch.Size([224, 224])\n",
      "✅ Loaded BraTS20_Training_099: Image torch.Size([3, 224, 224]), Mask torch.Size([224, 224])\n"
     ]
    },
    {
     "name": "stderr",
     "output_type": "stream",
     "text": [
      "Epoch [5/15]:  29%|██▉       | 22/75 [00:09<00:22,  2.40it/s, Loss=1.12]"
     ]
    },
    {
     "name": "stdout",
     "output_type": "stream",
     "text": [
      "✅ Loaded BraTS20_Training_072: Image torch.Size([3, 224, 224]), Mask torch.Size([224, 224])\n",
      "✅ Loaded BraTS20_Training_322: Image torch.Size([3, 224, 224]), Mask torch.Size([224, 224])\n"
     ]
    },
    {
     "name": "stderr",
     "output_type": "stream",
     "text": [
      "Epoch [5/15]:  31%|███       | 23/75 [00:09<00:21,  2.37it/s, Loss=1]   "
     ]
    },
    {
     "name": "stdout",
     "output_type": "stream",
     "text": [
      "✅ Loaded BraTS20_Training_262: Image torch.Size([3, 224, 224]), Mask torch.Size([224, 224])\n",
      "✅ Loaded BraTS20_Training_245: Image torch.Size([3, 224, 224]), Mask torch.Size([224, 224])\n"
     ]
    },
    {
     "name": "stderr",
     "output_type": "stream",
     "text": [
      "Epoch [5/15]:  32%|███▏      | 24/75 [00:09<00:21,  2.38it/s, Loss=0.976]"
     ]
    },
    {
     "name": "stdout",
     "output_type": "stream",
     "text": [
      "✅ Loaded BraTS20_Training_080: Image torch.Size([3, 224, 224]), Mask torch.Size([224, 224])\n",
      "✅ Loaded BraTS20_Training_302: Image torch.Size([3, 224, 224]), Mask torch.Size([224, 224])\n"
     ]
    },
    {
     "name": "stderr",
     "output_type": "stream",
     "text": [
      "Epoch [5/15]:  33%|███▎      | 25/75 [00:10<00:20,  2.39it/s, Loss=1.21] "
     ]
    },
    {
     "name": "stdout",
     "output_type": "stream",
     "text": [
      "✅ Loaded BraTS20_Training_297: Image torch.Size([3, 224, 224]), Mask torch.Size([224, 224])\n",
      "✅ Loaded BraTS20_Training_227: Image torch.Size([3, 224, 224]), Mask torch.Size([224, 224])\n"
     ]
    },
    {
     "name": "stderr",
     "output_type": "stream",
     "text": [
      "Epoch [5/15]:  35%|███▍      | 26/75 [00:10<00:20,  2.39it/s, Loss=1.02]"
     ]
    },
    {
     "name": "stdout",
     "output_type": "stream",
     "text": [
      "✅ Loaded BraTS20_Training_290: Image torch.Size([3, 224, 224]), Mask torch.Size([224, 224])\n",
      "✅ Loaded BraTS20_Training_015: Image torch.Size([3, 224, 224]), Mask torch.Size([224, 224])\n"
     ]
    },
    {
     "name": "stderr",
     "output_type": "stream",
     "text": [
      "Epoch [5/15]:  36%|███▌      | 27/75 [00:11<00:20,  2.40it/s, Loss=1.19]"
     ]
    },
    {
     "name": "stdout",
     "output_type": "stream",
     "text": [
      "✅ Loaded BraTS20_Training_360: Image torch.Size([3, 224, 224]), Mask torch.Size([224, 224])\n",
      "✅ Loaded BraTS20_Training_110: Image torch.Size([3, 224, 224]), Mask torch.Size([224, 224])\n"
     ]
    },
    {
     "name": "stderr",
     "output_type": "stream",
     "text": [
      "Epoch [5/15]:  37%|███▋      | 28/75 [00:11<00:19,  2.36it/s, Loss=1.07]"
     ]
    },
    {
     "name": "stdout",
     "output_type": "stream",
     "text": [
      "✅ Loaded BraTS20_Training_203: Image torch.Size([3, 224, 224]), Mask torch.Size([224, 224])\n",
      "✅ Loaded BraTS20_Training_117: Image torch.Size([3, 224, 224]), Mask torch.Size([224, 224])\n"
     ]
    },
    {
     "name": "stderr",
     "output_type": "stream",
     "text": [
      "Epoch [5/15]:  39%|███▊      | 29/75 [00:12<00:19,  2.37it/s, Loss=1.03]"
     ]
    },
    {
     "name": "stdout",
     "output_type": "stream",
     "text": [
      "✅ Loaded BraTS20_Training_315: Image torch.Size([3, 224, 224]), Mask torch.Size([224, 224])\n",
      "✅ Loaded BraTS20_Training_186: Image torch.Size([3, 224, 224]), Mask torch.Size([224, 224])\n"
     ]
    },
    {
     "name": "stderr",
     "output_type": "stream",
     "text": [
      "Epoch [5/15]:  40%|████      | 30/75 [00:12<00:19,  2.36it/s, Loss=0.932]"
     ]
    },
    {
     "name": "stdout",
     "output_type": "stream",
     "text": [
      "✅ Loaded BraTS20_Training_228: Image torch.Size([3, 224, 224]), Mask torch.Size([224, 224])\n",
      "✅ Loaded BraTS20_Training_061: Image torch.Size([3, 224, 224]), Mask torch.Size([224, 224])\n"
     ]
    },
    {
     "name": "stderr",
     "output_type": "stream",
     "text": [
      "Epoch [5/15]:  41%|████▏     | 31/75 [00:12<00:18,  2.37it/s, Loss=1.14] "
     ]
    },
    {
     "name": "stdout",
     "output_type": "stream",
     "text": [
      "✅ Loaded BraTS20_Training_318: Image torch.Size([3, 224, 224]), Mask torch.Size([224, 224])\n",
      "✅ Loaded BraTS20_Training_299: Image torch.Size([3, 224, 224]), Mask torch.Size([224, 224])\n"
     ]
    },
    {
     "name": "stderr",
     "output_type": "stream",
     "text": [
      "Epoch [5/15]:  43%|████▎     | 32/75 [00:13<00:18,  2.37it/s, Loss=1.27]"
     ]
    },
    {
     "name": "stdout",
     "output_type": "stream",
     "text": [
      "✅ Loaded BraTS20_Training_158: Image torch.Size([3, 224, 224]), Mask torch.Size([224, 224])\n",
      "✅ Loaded BraTS20_Training_248: Image torch.Size([3, 224, 224]), Mask torch.Size([224, 224])\n"
     ]
    },
    {
     "name": "stderr",
     "output_type": "stream",
     "text": [
      "Epoch [5/15]:  44%|████▍     | 33/75 [00:13<00:17,  2.38it/s, Loss=1.07]"
     ]
    },
    {
     "name": "stdout",
     "output_type": "stream",
     "text": [
      "✅ Loaded BraTS20_Training_312: Image torch.Size([3, 224, 224]), Mask torch.Size([224, 224])\n",
      "✅ Loaded BraTS20_Training_250: Image torch.Size([3, 224, 224]), Mask torch.Size([224, 224])\n"
     ]
    },
    {
     "name": "stderr",
     "output_type": "stream",
     "text": [
      "Epoch [5/15]:  45%|████▌     | 34/75 [00:14<00:17,  2.39it/s, Loss=1.05]"
     ]
    },
    {
     "name": "stdout",
     "output_type": "stream",
     "text": [
      "✅ Loaded BraTS20_Training_279: Image torch.Size([3, 224, 224]), Mask torch.Size([224, 224])\n",
      "✅ Loaded BraTS20_Training_255: Image torch.Size([3, 224, 224]), Mask torch.Size([224, 224])\n"
     ]
    },
    {
     "name": "stderr",
     "output_type": "stream",
     "text": [
      "Epoch [5/15]:  47%|████▋     | 35/75 [00:14<00:16,  2.37it/s, Loss=1.2] "
     ]
    },
    {
     "name": "stdout",
     "output_type": "stream",
     "text": [
      "✅ Loaded BraTS20_Training_364: Image torch.Size([3, 224, 224]), Mask torch.Size([224, 224])\n",
      "✅ Loaded BraTS20_Training_079: Image torch.Size([3, 224, 224]), Mask torch.Size([224, 224])\n"
     ]
    },
    {
     "name": "stderr",
     "output_type": "stream",
     "text": [
      "Epoch [5/15]:  48%|████▊     | 36/75 [00:15<00:16,  2.33it/s, Loss=1.06]"
     ]
    },
    {
     "name": "stdout",
     "output_type": "stream",
     "text": [
      "✅ Loaded BraTS20_Training_093: Image torch.Size([3, 224, 224]), Mask torch.Size([224, 224])\n",
      "✅ Loaded BraTS20_Training_332: Image torch.Size([3, 224, 224]), Mask torch.Size([224, 224])\n"
     ]
    },
    {
     "name": "stderr",
     "output_type": "stream",
     "text": [
      "Epoch [5/15]:  49%|████▉     | 37/75 [00:15<00:16,  2.37it/s, Loss=1.02]"
     ]
    },
    {
     "name": "stdout",
     "output_type": "stream",
     "text": [
      "✅ Loaded BraTS20_Training_309: Image torch.Size([3, 224, 224]), Mask torch.Size([224, 224])\n",
      "✅ Loaded BraTS20_Training_043: Image torch.Size([3, 224, 224]), Mask torch.Size([224, 224])\n"
     ]
    },
    {
     "name": "stderr",
     "output_type": "stream",
     "text": [
      "Epoch [5/15]:  51%|█████     | 38/75 [00:15<00:15,  2.39it/s, Loss=1.1] "
     ]
    },
    {
     "name": "stdout",
     "output_type": "stream",
     "text": [
      "✅ Loaded BraTS20_Training_237: Image torch.Size([3, 224, 224]), Mask torch.Size([224, 224])\n",
      "✅ Loaded BraTS20_Training_125: Image torch.Size([3, 224, 224]), Mask torch.Size([224, 224])\n"
     ]
    },
    {
     "name": "stderr",
     "output_type": "stream",
     "text": [
      "Epoch [5/15]:  52%|█████▏    | 39/75 [00:16<00:14,  2.41it/s, Loss=1.06]"
     ]
    },
    {
     "name": "stdout",
     "output_type": "stream",
     "text": [
      "✅ Loaded BraTS20_Training_024: Image torch.Size([3, 224, 224]), Mask torch.Size([224, 224])\n",
      "✅ Loaded BraTS20_Training_145: Image torch.Size([3, 224, 224]), Mask torch.Size([224, 224])\n"
     ]
    },
    {
     "name": "stderr",
     "output_type": "stream",
     "text": [
      "Epoch [5/15]:  53%|█████▎    | 40/75 [00:16<00:14,  2.41it/s, Loss=1.02]"
     ]
    },
    {
     "name": "stdout",
     "output_type": "stream",
     "text": [
      "✅ Loaded BraTS20_Training_259: Image torch.Size([3, 224, 224]), Mask torch.Size([224, 224])\n",
      "✅ Loaded BraTS20_Training_082: Image torch.Size([3, 224, 224]), Mask torch.Size([224, 224])\n"
     ]
    },
    {
     "name": "stderr",
     "output_type": "stream",
     "text": [
      "Epoch [5/15]:  55%|█████▍    | 41/75 [00:17<00:13,  2.43it/s, Loss=1.05]"
     ]
    },
    {
     "name": "stdout",
     "output_type": "stream",
     "text": [
      "✅ Loaded BraTS20_Training_197: Image torch.Size([3, 224, 224]), Mask torch.Size([224, 224])\n",
      "✅ Loaded BraTS20_Training_053: Image torch.Size([3, 224, 224]), Mask torch.Size([224, 224])\n"
     ]
    },
    {
     "name": "stderr",
     "output_type": "stream",
     "text": [
      "Epoch [5/15]:  56%|█████▌    | 42/75 [00:17<00:13,  2.43it/s, Loss=1.11]"
     ]
    },
    {
     "name": "stdout",
     "output_type": "stream",
     "text": [
      "✅ Loaded BraTS20_Training_339: Image torch.Size([3, 224, 224]), Mask torch.Size([224, 224])\n",
      "✅ Loaded BraTS20_Training_183: Image torch.Size([3, 224, 224]), Mask torch.Size([224, 224])\n"
     ]
    },
    {
     "name": "stderr",
     "output_type": "stream",
     "text": [
      "Epoch [5/15]:  57%|█████▋    | 43/75 [00:17<00:13,  2.41it/s, Loss=0.986]"
     ]
    },
    {
     "name": "stdout",
     "output_type": "stream",
     "text": [
      "✅ Loaded BraTS20_Training_294: Image torch.Size([3, 224, 224]), Mask torch.Size([224, 224])\n",
      "✅ Loaded BraTS20_Training_116: Image torch.Size([3, 224, 224]), Mask torch.Size([224, 224])\n"
     ]
    },
    {
     "name": "stderr",
     "output_type": "stream",
     "text": [
      "Epoch [5/15]:  59%|█████▊    | 44/75 [00:18<00:12,  2.42it/s, Loss=0.952]"
     ]
    },
    {
     "name": "stdout",
     "output_type": "stream",
     "text": [
      "✅ Loaded BraTS20_Training_277: Image torch.Size([3, 224, 224]), Mask torch.Size([224, 224])\n",
      "✅ Loaded BraTS20_Training_052: Image torch.Size([3, 224, 224]), Mask torch.Size([224, 224])\n"
     ]
    },
    {
     "name": "stderr",
     "output_type": "stream",
     "text": [
      "Epoch [5/15]:  60%|██████    | 45/75 [00:18<00:12,  2.44it/s, Loss=1.03] "
     ]
    },
    {
     "name": "stdout",
     "output_type": "stream",
     "text": [
      "✅ Loaded BraTS20_Training_194: Image torch.Size([3, 224, 224]), Mask torch.Size([224, 224])\n",
      "✅ Loaded BraTS20_Training_257: Image torch.Size([3, 224, 224]), Mask torch.Size([224, 224])\n"
     ]
    },
    {
     "name": "stderr",
     "output_type": "stream",
     "text": [
      "Epoch [5/15]:  61%|██████▏   | 46/75 [00:19<00:12,  2.41it/s, Loss=0.912]"
     ]
    },
    {
     "name": "stdout",
     "output_type": "stream",
     "text": [
      "✅ Loaded BraTS20_Training_128: Image torch.Size([3, 224, 224]), Mask torch.Size([224, 224])\n",
      "✅ Loaded BraTS20_Training_242: Image torch.Size([3, 224, 224]), Mask torch.Size([224, 224])\n"
     ]
    },
    {
     "name": "stderr",
     "output_type": "stream",
     "text": [
      "Epoch [5/15]:  63%|██████▎   | 47/75 [00:19<00:11,  2.42it/s, Loss=1.11] "
     ]
    },
    {
     "name": "stdout",
     "output_type": "stream",
     "text": [
      "✅ Loaded BraTS20_Training_025: Image torch.Size([3, 224, 224]), Mask torch.Size([224, 224])\n",
      "✅ Loaded BraTS20_Training_121: Image torch.Size([3, 224, 224]), Mask torch.Size([224, 224])\n"
     ]
    },
    {
     "name": "stderr",
     "output_type": "stream",
     "text": [
      "Epoch [5/15]:  64%|██████▍   | 48/75 [00:20<00:11,  2.42it/s, Loss=0.927]"
     ]
    },
    {
     "name": "stdout",
     "output_type": "stream",
     "text": [
      "✅ Loaded BraTS20_Training_042: Image torch.Size([3, 224, 224]), Mask torch.Size([224, 224])\n",
      "✅ Loaded BraTS20_Training_268: Image torch.Size([3, 224, 224]), Mask torch.Size([224, 224])\n"
     ]
    },
    {
     "name": "stderr",
     "output_type": "stream",
     "text": [
      "Epoch [5/15]:  65%|██████▌   | 49/75 [00:20<00:10,  2.36it/s, Loss=1.11] "
     ]
    },
    {
     "name": "stdout",
     "output_type": "stream",
     "text": [
      "✅ Loaded BraTS20_Training_021: Image torch.Size([3, 224, 224]), Mask torch.Size([224, 224])\n",
      "✅ Loaded BraTS20_Training_087: Image torch.Size([3, 224, 224]), Mask torch.Size([224, 224])\n"
     ]
    },
    {
     "name": "stderr",
     "output_type": "stream",
     "text": [
      "Epoch [5/15]:  67%|██████▋   | 50/75 [00:20<00:10,  2.39it/s, Loss=1.07]"
     ]
    },
    {
     "name": "stdout",
     "output_type": "stream",
     "text": [
      "✅ Loaded BraTS20_Training_201: Image torch.Size([3, 224, 224]), Mask torch.Size([224, 224])\n",
      "✅ Loaded BraTS20_Training_233: Image torch.Size([3, 224, 224]), Mask torch.Size([224, 224])\n"
     ]
    },
    {
     "name": "stderr",
     "output_type": "stream",
     "text": [
      "Epoch [5/15]:  68%|██████▊   | 51/75 [00:21<00:09,  2.42it/s, Loss=0.953]"
     ]
    },
    {
     "name": "stdout",
     "output_type": "stream",
     "text": [
      "✅ Loaded BraTS20_Training_230: Image torch.Size([3, 224, 224]), Mask torch.Size([224, 224])\n",
      "✅ Loaded BraTS20_Training_096: Image torch.Size([3, 224, 224]), Mask torch.Size([224, 224])\n"
     ]
    },
    {
     "name": "stderr",
     "output_type": "stream",
     "text": [
      "Epoch [5/15]:  69%|██████▉   | 52/75 [00:21<00:09,  2.39it/s, Loss=0.969]"
     ]
    },
    {
     "name": "stdout",
     "output_type": "stream",
     "text": [
      "✅ Loaded BraTS20_Training_124: Image torch.Size([3, 224, 224]), Mask torch.Size([224, 224])\n",
      "✅ Loaded BraTS20_Training_348: Image torch.Size([3, 224, 224]), Mask torch.Size([224, 224])\n"
     ]
    },
    {
     "name": "stderr",
     "output_type": "stream",
     "text": [
      "Epoch [5/15]:  71%|███████   | 53/75 [00:22<00:09,  2.36it/s, Loss=0.963]"
     ]
    },
    {
     "name": "stdout",
     "output_type": "stream",
     "text": [
      "✅ Loaded BraTS20_Training_077: Image torch.Size([3, 224, 224]), Mask torch.Size([224, 224])\n",
      "✅ Loaded BraTS20_Training_217: Image torch.Size([3, 224, 224]), Mask torch.Size([224, 224])\n"
     ]
    },
    {
     "name": "stderr",
     "output_type": "stream",
     "text": [
      "Epoch [5/15]:  72%|███████▏  | 54/75 [00:22<00:08,  2.37it/s, Loss=0.99] "
     ]
    },
    {
     "name": "stdout",
     "output_type": "stream",
     "text": [
      "✅ Loaded BraTS20_Training_345: Image torch.Size([3, 224, 224]), Mask torch.Size([224, 224])\n",
      "✅ Loaded BraTS20_Training_222: Image torch.Size([3, 224, 224]), Mask torch.Size([224, 224])\n"
     ]
    },
    {
     "name": "stderr",
     "output_type": "stream",
     "text": [
      "Epoch [5/15]:  73%|███████▎  | 55/75 [00:22<00:08,  2.35it/s, Loss=1.02]"
     ]
    },
    {
     "name": "stdout",
     "output_type": "stream",
     "text": [
      "✅ Loaded BraTS20_Training_119: Image torch.Size([3, 224, 224]), Mask torch.Size([224, 224])\n",
      "✅ Loaded BraTS20_Training_064: Image torch.Size([3, 224, 224]), Mask torch.Size([224, 224])\n"
     ]
    },
    {
     "name": "stderr",
     "output_type": "stream",
     "text": [
      "Epoch [5/15]:  75%|███████▍  | 56/75 [00:23<00:07,  2.40it/s, Loss=1.01]"
     ]
    },
    {
     "name": "stdout",
     "output_type": "stream",
     "text": [
      "✅ Loaded BraTS20_Training_073: Image torch.Size([3, 224, 224]), Mask torch.Size([224, 224])\n",
      "✅ Loaded BraTS20_Training_037: Image torch.Size([3, 224, 224]), Mask torch.Size([224, 224])\n"
     ]
    },
    {
     "name": "stderr",
     "output_type": "stream",
     "text": [
      "Epoch [5/15]:  76%|███████▌  | 57/75 [00:23<00:07,  2.40it/s, Loss=1.05]"
     ]
    },
    {
     "name": "stdout",
     "output_type": "stream",
     "text": [
      "✅ Loaded BraTS20_Training_353: Image torch.Size([3, 224, 224]), Mask torch.Size([224, 224])\n",
      "✅ Loaded BraTS20_Training_165: Image torch.Size([3, 224, 224]), Mask torch.Size([224, 224])\n"
     ]
    },
    {
     "name": "stderr",
     "output_type": "stream",
     "text": [
      "Epoch [5/15]:  77%|███████▋  | 58/75 [00:24<00:07,  2.40it/s, Loss=0.953]"
     ]
    },
    {
     "name": "stdout",
     "output_type": "stream",
     "text": [
      "✅ Loaded BraTS20_Training_308: Image torch.Size([3, 224, 224]), Mask torch.Size([224, 224])\n",
      "✅ Loaded BraTS20_Training_151: Image torch.Size([3, 224, 224]), Mask torch.Size([224, 224])\n"
     ]
    },
    {
     "name": "stderr",
     "output_type": "stream",
     "text": [
      "Epoch [5/15]:  79%|███████▊  | 59/75 [00:24<00:06,  2.36it/s, Loss=1.21] "
     ]
    },
    {
     "name": "stdout",
     "output_type": "stream",
     "text": [
      "✅ Loaded BraTS20_Training_036: Image torch.Size([3, 224, 224]), Mask torch.Size([224, 224])\n",
      "✅ Loaded BraTS20_Training_280: Image torch.Size([3, 224, 224]), Mask torch.Size([224, 224])\n"
     ]
    },
    {
     "name": "stderr",
     "output_type": "stream",
     "text": [
      "Epoch [5/15]:  80%|████████  | 60/75 [00:25<00:06,  2.38it/s, Loss=0.943]"
     ]
    },
    {
     "name": "stdout",
     "output_type": "stream",
     "text": [
      "✅ Loaded BraTS20_Training_140: Image torch.Size([3, 224, 224]), Mask torch.Size([224, 224])\n",
      "✅ Loaded BraTS20_Training_126: Image torch.Size([3, 224, 224]), Mask torch.Size([224, 224])\n"
     ]
    },
    {
     "name": "stderr",
     "output_type": "stream",
     "text": [
      "Epoch [5/15]:  81%|████████▏ | 61/75 [00:25<00:06,  2.33it/s, Loss=0.998]"
     ]
    },
    {
     "name": "stdout",
     "output_type": "stream",
     "text": [
      "✅ Loaded BraTS20_Training_267: Image torch.Size([3, 224, 224]), Mask torch.Size([224, 224])\n",
      "✅ Loaded BraTS20_Training_155: Image torch.Size([3, 224, 224]), Mask torch.Size([224, 224])\n"
     ]
    },
    {
     "name": "stderr",
     "output_type": "stream",
     "text": [
      "Epoch [5/15]:  83%|████████▎ | 62/75 [00:25<00:05,  2.34it/s, Loss=1.06] "
     ]
    },
    {
     "name": "stdout",
     "output_type": "stream",
     "text": [
      "✅ Loaded BraTS20_Training_164: Image torch.Size([3, 224, 224]), Mask torch.Size([224, 224])\n",
      "✅ Loaded BraTS20_Training_336: Image torch.Size([3, 224, 224]), Mask torch.Size([224, 224])\n"
     ]
    },
    {
     "name": "stderr",
     "output_type": "stream",
     "text": [
      "Epoch [5/15]:  84%|████████▍ | 63/75 [00:26<00:05,  2.34it/s, Loss=0.952]"
     ]
    },
    {
     "name": "stdout",
     "output_type": "stream",
     "text": [
      "✅ Loaded BraTS20_Training_069: Image torch.Size([3, 224, 224]), Mask torch.Size([224, 224])\n",
      "✅ Loaded BraTS20_Training_166: Image torch.Size([3, 224, 224]), Mask torch.Size([224, 224])\n"
     ]
    },
    {
     "name": "stderr",
     "output_type": "stream",
     "text": [
      "Epoch [5/15]:  85%|████████▌ | 64/75 [00:26<00:04,  2.35it/s, Loss=0.87] "
     ]
    },
    {
     "name": "stdout",
     "output_type": "stream",
     "text": [
      "✅ Loaded BraTS20_Training_106: Image torch.Size([3, 224, 224]), Mask torch.Size([224, 224])\n",
      "✅ Loaded BraTS20_Training_272: Image torch.Size([3, 224, 224]), Mask torch.Size([224, 224])\n"
     ]
    },
    {
     "name": "stderr",
     "output_type": "stream",
     "text": [
      "Epoch [5/15]:  87%|████████▋ | 65/75 [00:27<00:04,  2.37it/s, Loss=1.08]"
     ]
    },
    {
     "name": "stdout",
     "output_type": "stream",
     "text": [
      "✅ Loaded BraTS20_Training_022: Image torch.Size([3, 224, 224]), Mask torch.Size([224, 224])\n",
      "✅ Loaded BraTS20_Training_244: Image torch.Size([3, 224, 224]), Mask torch.Size([224, 224])\n"
     ]
    },
    {
     "name": "stderr",
     "output_type": "stream",
     "text": [
      "Epoch [5/15]:  88%|████████▊ | 66/75 [00:27<00:03,  2.38it/s, Loss=0.954]"
     ]
    },
    {
     "name": "stdout",
     "output_type": "stream",
     "text": [
      "✅ Loaded BraTS20_Training_198: Image torch.Size([3, 224, 224]), Mask torch.Size([224, 224])\n",
      "✅ Loaded BraTS20_Training_123: Image torch.Size([3, 224, 224]), Mask torch.Size([224, 224])\n"
     ]
    },
    {
     "name": "stderr",
     "output_type": "stream",
     "text": [
      "Epoch [5/15]:  89%|████████▉ | 67/75 [00:28<00:03,  2.39it/s, Loss=0.941]"
     ]
    },
    {
     "name": "stdout",
     "output_type": "stream",
     "text": [
      "✅ Loaded BraTS20_Training_220: Image torch.Size([3, 224, 224]), Mask torch.Size([224, 224])\n",
      "✅ Loaded BraTS20_Training_050: Image torch.Size([3, 224, 224]), Mask torch.Size([224, 224])\n"
     ]
    },
    {
     "name": "stderr",
     "output_type": "stream",
     "text": [
      "Epoch [5/15]:  91%|█████████ | 68/75 [00:28<00:02,  2.34it/s, Loss=1.09] "
     ]
    },
    {
     "name": "stdout",
     "output_type": "stream",
     "text": [
      "✅ Loaded BraTS20_Training_086: Image torch.Size([3, 224, 224]), Mask torch.Size([224, 224])\n",
      "✅ Loaded BraTS20_Training_147: Image torch.Size([3, 224, 224]), Mask torch.Size([224, 224])\n"
     ]
    },
    {
     "name": "stderr",
     "output_type": "stream",
     "text": [
      "Epoch [5/15]:  92%|█████████▏| 69/75 [00:28<00:02,  2.33it/s, Loss=1.13]"
     ]
    },
    {
     "name": "stdout",
     "output_type": "stream",
     "text": [
      "✅ Loaded BraTS20_Training_358: Image torch.Size([3, 224, 224]), Mask torch.Size([224, 224])\n",
      "✅ Loaded BraTS20_Training_001: Image torch.Size([3, 224, 224]), Mask torch.Size([224, 224])\n"
     ]
    },
    {
     "name": "stderr",
     "output_type": "stream",
     "text": [
      "Epoch [5/15]:  93%|█████████▎| 70/75 [00:29<00:02,  2.35it/s, Loss=0.993]"
     ]
    },
    {
     "name": "stdout",
     "output_type": "stream",
     "text": [
      "✅ Loaded BraTS20_Training_282: Image torch.Size([3, 224, 224]), Mask torch.Size([224, 224])\n",
      "✅ Loaded BraTS20_Training_023: Image torch.Size([3, 224, 224]), Mask torch.Size([224, 224])\n"
     ]
    },
    {
     "name": "stderr",
     "output_type": "stream",
     "text": [
      "Epoch [5/15]:  95%|█████████▍| 71/75 [00:29<00:01,  2.36it/s, Loss=1.01] "
     ]
    },
    {
     "name": "stdout",
     "output_type": "stream",
     "text": [
      "✅ Loaded BraTS20_Training_008: Image torch.Size([3, 224, 224]), Mask torch.Size([224, 224])\n",
      "✅ Loaded BraTS20_Training_010: Image torch.Size([3, 224, 224]), Mask torch.Size([224, 224])\n"
     ]
    },
    {
     "name": "stderr",
     "output_type": "stream",
     "text": [
      "Epoch [5/15]:  96%|█████████▌| 72/75 [00:30<00:01,  2.37it/s, Loss=1.02]"
     ]
    },
    {
     "name": "stdout",
     "output_type": "stream",
     "text": [
      "✅ Loaded BraTS20_Training_135: Image torch.Size([3, 224, 224]), Mask torch.Size([224, 224])\n",
      "✅ Loaded BraTS20_Training_258: Image torch.Size([3, 224, 224]), Mask torch.Size([224, 224])\n"
     ]
    },
    {
     "name": "stderr",
     "output_type": "stream",
     "text": [
      "Epoch [5/15]:  97%|█████████▋| 73/75 [00:30<00:00,  2.36it/s, Loss=0.994]"
     ]
    },
    {
     "name": "stdout",
     "output_type": "stream",
     "text": [
      "✅ Loaded BraTS20_Training_260: Image torch.Size([3, 224, 224]), Mask torch.Size([224, 224])\n",
      "✅ Loaded BraTS20_Training_149: Image torch.Size([3, 224, 224]), Mask torch.Size([224, 224])\n"
     ]
    },
    {
     "name": "stderr",
     "output_type": "stream",
     "text": [
      "Epoch [5/15]:  99%|█████████▊| 74/75 [00:31<00:00,  2.34it/s, Loss=1.31] "
     ]
    },
    {
     "name": "stdout",
     "output_type": "stream",
     "text": [
      "✅ Loaded BraTS20_Training_270: Image torch.Size([3, 224, 224]), Mask torch.Size([224, 224])\n",
      "✅ Loaded BraTS20_Training_019: Image torch.Size([3, 224, 224]), Mask torch.Size([224, 224])\n"
     ]
    },
    {
     "name": "stderr",
     "output_type": "stream",
     "text": [
      "                                                                         \r"
     ]
    },
    {
     "name": "stdout",
     "output_type": "stream",
     "text": [
      "\n",
      "✅ Epoch 5: Train Loss: 1.0537\n",
      "💾 Saved model at epoch 5 with train loss 1.0537\n"
     ]
    },
    {
     "name": "stderr",
     "output_type": "stream",
     "text": [
      "Epoch [6/15]:   0%|          | 0/75 [00:00<?, ?it/s]"
     ]
    },
    {
     "name": "stdout",
     "output_type": "stream",
     "text": [
      "✅ Loaded BraTS20_Training_345: Image torch.Size([3, 224, 224]), Mask torch.Size([224, 224])\n",
      "✅ Loaded BraTS20_Training_213: Image torch.Size([3, 224, 224]), Mask torch.Size([224, 224])\n"
     ]
    },
    {
     "name": "stderr",
     "output_type": "stream",
     "text": [
      "Epoch [6/15]:   1%|▏         | 1/75 [00:00<00:30,  2.39it/s, Loss=1.01]"
     ]
    },
    {
     "name": "stdout",
     "output_type": "stream",
     "text": [
      "✅ Loaded BraTS20_Training_193: Image torch.Size([3, 224, 224]), Mask torch.Size([224, 224])\n",
      "✅ Loaded BraTS20_Training_259: Image torch.Size([3, 224, 224]), Mask torch.Size([224, 224])\n"
     ]
    },
    {
     "name": "stderr",
     "output_type": "stream",
     "text": [
      "Epoch [6/15]:   3%|▎         | 2/75 [00:00<00:31,  2.35it/s, Loss=0.961]"
     ]
    },
    {
     "name": "stdout",
     "output_type": "stream",
     "text": [
      "✅ Loaded BraTS20_Training_020: Image torch.Size([3, 224, 224]), Mask torch.Size([224, 224])\n",
      "✅ Loaded BraTS20_Training_201: Image torch.Size([3, 224, 224]), Mask torch.Size([224, 224])\n"
     ]
    },
    {
     "name": "stderr",
     "output_type": "stream",
     "text": [
      "Epoch [6/15]:   4%|▍         | 3/75 [00:01<00:30,  2.37it/s, Loss=0.892]"
     ]
    },
    {
     "name": "stdout",
     "output_type": "stream",
     "text": [
      "✅ Loaded BraTS20_Training_087: Image torch.Size([3, 224, 224]), Mask torch.Size([224, 224])\n",
      "✅ Loaded BraTS20_Training_253: Image torch.Size([3, 224, 224]), Mask torch.Size([224, 224])\n"
     ]
    },
    {
     "name": "stderr",
     "output_type": "stream",
     "text": [
      "Epoch [6/15]:   5%|▌         | 4/75 [00:01<00:29,  2.41it/s, Loss=1.06] "
     ]
    },
    {
     "name": "stdout",
     "output_type": "stream",
     "text": [
      "✅ Loaded BraTS20_Training_151: Image torch.Size([3, 224, 224]), Mask torch.Size([224, 224])\n",
      "✅ Loaded BraTS20_Training_180: Image torch.Size([3, 224, 224]), Mask torch.Size([224, 224])\n"
     ]
    },
    {
     "name": "stderr",
     "output_type": "stream",
     "text": [
      "Epoch [6/15]:   7%|▋         | 5/75 [00:02<00:29,  2.41it/s, Loss=0.997]"
     ]
    },
    {
     "name": "stdout",
     "output_type": "stream",
     "text": [
      "✅ Loaded BraTS20_Training_302: Image torch.Size([3, 224, 224]), Mask torch.Size([224, 224])\n",
      "✅ Loaded BraTS20_Training_233: Image torch.Size([3, 224, 224]), Mask torch.Size([224, 224])\n"
     ]
    },
    {
     "name": "stderr",
     "output_type": "stream",
     "text": [
      "Epoch [6/15]:   8%|▊         | 6/75 [00:02<00:29,  2.38it/s, Loss=1.04] "
     ]
    },
    {
     "name": "stdout",
     "output_type": "stream",
     "text": [
      "✅ Loaded BraTS20_Training_196: Image torch.Size([3, 224, 224]), Mask torch.Size([224, 224])\n",
      "✅ Loaded BraTS20_Training_092: Image torch.Size([3, 224, 224]), Mask torch.Size([224, 224])\n"
     ]
    },
    {
     "name": "stderr",
     "output_type": "stream",
     "text": [
      "Epoch [6/15]:   9%|▉         | 7/75 [00:02<00:28,  2.41it/s, Loss=0.896]"
     ]
    },
    {
     "name": "stdout",
     "output_type": "stream",
     "text": [
      "✅ Loaded BraTS20_Training_042: Image torch.Size([3, 224, 224]), Mask torch.Size([224, 224])\n",
      "✅ Loaded BraTS20_Training_015: Image torch.Size([3, 224, 224]), Mask torch.Size([224, 224])\n"
     ]
    },
    {
     "name": "stderr",
     "output_type": "stream",
     "text": [
      "Epoch [6/15]:  11%|█         | 8/75 [00:03<00:27,  2.42it/s, Loss=0.926]"
     ]
    },
    {
     "name": "stdout",
     "output_type": "stream",
     "text": [
      "✅ Loaded BraTS20_Training_119: Image torch.Size([3, 224, 224]), Mask torch.Size([224, 224])\n",
      "✅ Loaded BraTS20_Training_270: Image torch.Size([3, 224, 224]), Mask torch.Size([224, 224])\n"
     ]
    },
    {
     "name": "stderr",
     "output_type": "stream",
     "text": [
      "Epoch [6/15]:  12%|█▏        | 9/75 [00:03<00:27,  2.41it/s, Loss=0.885]"
     ]
    },
    {
     "name": "stdout",
     "output_type": "stream",
     "text": [
      "✅ Loaded BraTS20_Training_336: Image torch.Size([3, 224, 224]), Mask torch.Size([224, 224])\n",
      "✅ Loaded BraTS20_Training_326: Image torch.Size([3, 224, 224]), Mask torch.Size([224, 224])\n"
     ]
    },
    {
     "name": "stderr",
     "output_type": "stream",
     "text": [
      "Epoch [6/15]:  13%|█▎        | 10/75 [00:04<00:26,  2.41it/s, Loss=1.18]"
     ]
    },
    {
     "name": "stdout",
     "output_type": "stream",
     "text": [
      "✅ Loaded BraTS20_Training_155: Image torch.Size([3, 224, 224]), Mask torch.Size([224, 224])\n",
      "✅ Loaded BraTS20_Training_099: Image torch.Size([3, 224, 224]), Mask torch.Size([224, 224])\n"
     ]
    },
    {
     "name": "stderr",
     "output_type": "stream",
     "text": [
      "Epoch [6/15]:  15%|█▍        | 11/75 [00:04<00:26,  2.44it/s, Loss=0.847]"
     ]
    },
    {
     "name": "stdout",
     "output_type": "stream",
     "text": [
      "✅ Loaded BraTS20_Training_089: Image torch.Size([3, 224, 224]), Mask torch.Size([224, 224])\n",
      "✅ Loaded BraTS20_Training_056: Image torch.Size([3, 224, 224]), Mask torch.Size([224, 224])\n"
     ]
    },
    {
     "name": "stderr",
     "output_type": "stream",
     "text": [
      "Epoch [6/15]:  16%|█▌        | 12/75 [00:04<00:25,  2.45it/s, Loss=1.06] "
     ]
    },
    {
     "name": "stdout",
     "output_type": "stream",
     "text": [
      "✅ Loaded BraTS20_Training_008: Image torch.Size([3, 224, 224]), Mask torch.Size([224, 224])\n",
      "✅ Loaded BraTS20_Training_121: Image torch.Size([3, 224, 224]), Mask torch.Size([224, 224])\n"
     ]
    },
    {
     "name": "stderr",
     "output_type": "stream",
     "text": [
      "Epoch [6/15]:  17%|█▋        | 13/75 [00:05<00:25,  2.44it/s, Loss=0.854]"
     ]
    },
    {
     "name": "stdout",
     "output_type": "stream",
     "text": [
      "✅ Loaded BraTS20_Training_022: Image torch.Size([3, 224, 224]), Mask torch.Size([224, 224])\n",
      "✅ Loaded BraTS20_Training_057: Image torch.Size([3, 224, 224]), Mask torch.Size([224, 224])\n"
     ]
    },
    {
     "name": "stderr",
     "output_type": "stream",
     "text": [
      "Epoch [6/15]:  19%|█▊        | 14/75 [00:05<00:25,  2.43it/s, Loss=0.983]"
     ]
    },
    {
     "name": "stdout",
     "output_type": "stream",
     "text": [
      "✅ Loaded BraTS20_Training_164: Image torch.Size([3, 224, 224]), Mask torch.Size([224, 224])\n",
      "✅ Loaded BraTS20_Training_147: Image torch.Size([3, 224, 224]), Mask torch.Size([224, 224])\n"
     ]
    },
    {
     "name": "stderr",
     "output_type": "stream",
     "text": [
      "Epoch [6/15]:  20%|██        | 15/75 [00:06<00:24,  2.44it/s, Loss=1.14] "
     ]
    },
    {
     "name": "stdout",
     "output_type": "stream",
     "text": [
      "✅ Loaded BraTS20_Training_250: Image torch.Size([3, 224, 224]), Mask torch.Size([224, 224])\n",
      "✅ Loaded BraTS20_Training_195: Image torch.Size([3, 224, 224]), Mask torch.Size([224, 224])\n"
     ]
    },
    {
     "name": "stderr",
     "output_type": "stream",
     "text": [
      "Epoch [6/15]:  21%|██▏       | 16/75 [00:06<00:23,  2.46it/s, Loss=1.02]"
     ]
    },
    {
     "name": "stdout",
     "output_type": "stream",
     "text": [
      "✅ Loaded BraTS20_Training_308: Image torch.Size([3, 224, 224]), Mask torch.Size([224, 224])\n",
      "✅ Loaded BraTS20_Training_050: Image torch.Size([3, 224, 224]), Mask torch.Size([224, 224])\n"
     ]
    },
    {
     "name": "stderr",
     "output_type": "stream",
     "text": [
      "Epoch [6/15]:  23%|██▎       | 17/75 [00:06<00:23,  2.48it/s, Loss=1.03]"
     ]
    },
    {
     "name": "stdout",
     "output_type": "stream",
     "text": [
      "✅ Loaded BraTS20_Training_010: Image torch.Size([3, 224, 224]), Mask torch.Size([224, 224])\n",
      "✅ Loaded BraTS20_Training_061: Image torch.Size([3, 224, 224]), Mask torch.Size([224, 224])\n"
     ]
    },
    {
     "name": "stderr",
     "output_type": "stream",
     "text": [
      "Epoch [6/15]:  24%|██▍       | 18/75 [00:07<00:23,  2.44it/s, Loss=0.99]"
     ]
    },
    {
     "name": "stdout",
     "output_type": "stream",
     "text": [
      "✅ Loaded BraTS20_Training_072: Image torch.Size([3, 224, 224]), Mask torch.Size([224, 224])\n",
      "✅ Loaded BraTS20_Training_258: Image torch.Size([3, 224, 224]), Mask torch.Size([224, 224])\n"
     ]
    },
    {
     "name": "stderr",
     "output_type": "stream",
     "text": [
      "Epoch [6/15]:  25%|██▌       | 19/75 [00:07<00:22,  2.44it/s, Loss=0.981]"
     ]
    },
    {
     "name": "stdout",
     "output_type": "stream",
     "text": [
      "✅ Loaded BraTS20_Training_348: Image torch.Size([3, 224, 224]), Mask torch.Size([224, 224])\n",
      "✅ Loaded BraTS20_Training_023: Image torch.Size([3, 224, 224]), Mask torch.Size([224, 224])\n"
     ]
    },
    {
     "name": "stderr",
     "output_type": "stream",
     "text": [
      "Epoch [6/15]:  27%|██▋       | 20/75 [00:08<00:22,  2.40it/s, Loss=0.942]"
     ]
    },
    {
     "name": "stdout",
     "output_type": "stream",
     "text": [
      "✅ Loaded BraTS20_Training_282: Image torch.Size([3, 224, 224]), Mask torch.Size([224, 224])\n",
      "✅ Loaded BraTS20_Training_280: Image torch.Size([3, 224, 224]), Mask torch.Size([224, 224])\n"
     ]
    },
    {
     "name": "stderr",
     "output_type": "stream",
     "text": [
      "Epoch [6/15]:  28%|██▊       | 21/75 [00:08<00:22,  2.43it/s, Loss=0.922]"
     ]
    },
    {
     "name": "stdout",
     "output_type": "stream",
     "text": [
      "✅ Loaded BraTS20_Training_165: Image torch.Size([3, 224, 224]), Mask torch.Size([224, 224])\n",
      "✅ Loaded BraTS20_Training_255: Image torch.Size([3, 224, 224]), Mask torch.Size([224, 224])\n"
     ]
    },
    {
     "name": "stderr",
     "output_type": "stream",
     "text": [
      "Epoch [6/15]:  29%|██▉       | 22/75 [00:09<00:21,  2.42it/s, Loss=0.824]"
     ]
    },
    {
     "name": "stdout",
     "output_type": "stream",
     "text": [
      "✅ Loaded BraTS20_Training_186: Image torch.Size([3, 224, 224]), Mask torch.Size([224, 224])\n",
      "✅ Loaded BraTS20_Training_064: Image torch.Size([3, 224, 224]), Mask torch.Size([224, 224])\n"
     ]
    },
    {
     "name": "stderr",
     "output_type": "stream",
     "text": [
      "Epoch [6/15]:  31%|███       | 23/75 [00:09<00:21,  2.44it/s, Loss=0.854]"
     ]
    },
    {
     "name": "stdout",
     "output_type": "stream",
     "text": [
      "✅ Loaded BraTS20_Training_322: Image torch.Size([3, 224, 224]), Mask torch.Size([224, 224])\n",
      "✅ Loaded BraTS20_Training_194: Image torch.Size([3, 224, 224]), Mask torch.Size([224, 224])\n"
     ]
    },
    {
     "name": "stderr",
     "output_type": "stream",
     "text": [
      "Epoch [6/15]:  32%|███▏      | 24/75 [00:09<00:20,  2.43it/s, Loss=0.863]"
     ]
    },
    {
     "name": "stdout",
     "output_type": "stream",
     "text": [
      "✅ Loaded BraTS20_Training_242: Image torch.Size([3, 224, 224]), Mask torch.Size([224, 224])\n",
      "✅ Loaded BraTS20_Training_369: Image torch.Size([3, 224, 224]), Mask torch.Size([224, 224])\n"
     ]
    },
    {
     "name": "stderr",
     "output_type": "stream",
     "text": [
      "Epoch [6/15]:  33%|███▎      | 25/75 [00:10<00:20,  2.39it/s, Loss=0.971]"
     ]
    },
    {
     "name": "stdout",
     "output_type": "stream",
     "text": [
      "✅ Loaded BraTS20_Training_230: Image torch.Size([3, 224, 224]), Mask torch.Size([224, 224])\n",
      "✅ Loaded BraTS20_Training_105: Image torch.Size([3, 224, 224]), Mask torch.Size([224, 224])\n"
     ]
    },
    {
     "name": "stderr",
     "output_type": "stream",
     "text": [
      "Epoch [6/15]:  35%|███▍      | 26/75 [00:10<00:20,  2.42it/s, Loss=0.949]"
     ]
    },
    {
     "name": "stdout",
     "output_type": "stream",
     "text": [
      "✅ Loaded BraTS20_Training_052: Image torch.Size([3, 224, 224]), Mask torch.Size([224, 224])\n",
      "✅ Loaded BraTS20_Training_058: Image torch.Size([3, 224, 224]), Mask torch.Size([224, 224])\n"
     ]
    },
    {
     "name": "stderr",
     "output_type": "stream",
     "text": [
      "Epoch [6/15]:  36%|███▌      | 27/75 [00:11<00:19,  2.45it/s, Loss=0.944]"
     ]
    },
    {
     "name": "stdout",
     "output_type": "stream",
     "text": [
      "✅ Loaded BraTS20_Training_294: Image torch.Size([3, 224, 224]), Mask torch.Size([224, 224])\n",
      "✅ Loaded BraTS20_Training_257: Image torch.Size([3, 224, 224]), Mask torch.Size([224, 224])\n"
     ]
    },
    {
     "name": "stderr",
     "output_type": "stream",
     "text": [
      "Epoch [6/15]:  37%|███▋      | 28/75 [00:11<00:19,  2.43it/s, Loss=0.953]"
     ]
    },
    {
     "name": "stdout",
     "output_type": "stream",
     "text": [
      "✅ Loaded BraTS20_Training_224: Image torch.Size([3, 224, 224]), Mask torch.Size([224, 224])\n",
      "✅ Loaded BraTS20_Training_225: Image torch.Size([3, 224, 224]), Mask torch.Size([224, 224])\n"
     ]
    },
    {
     "name": "stderr",
     "output_type": "stream",
     "text": [
      "Epoch [6/15]:  39%|███▊      | 29/75 [00:11<00:18,  2.45it/s, Loss=1.02] "
     ]
    },
    {
     "name": "stdout",
     "output_type": "stream",
     "text": [
      "✅ Loaded BraTS20_Training_183: Image torch.Size([3, 224, 224]), Mask torch.Size([224, 224])\n",
      "✅ Loaded BraTS20_Training_032: Image torch.Size([3, 224, 224]), Mask torch.Size([224, 224])\n"
     ]
    },
    {
     "name": "stderr",
     "output_type": "stream",
     "text": [
      "Epoch [6/15]:  40%|████      | 30/75 [00:12<00:18,  2.44it/s, Loss=0.786]"
     ]
    },
    {
     "name": "stdout",
     "output_type": "stream",
     "text": [
      "✅ Loaded BraTS20_Training_033: Image torch.Size([3, 224, 224]), Mask torch.Size([224, 224])\n",
      "✅ Loaded BraTS20_Training_150: Image torch.Size([3, 224, 224]), Mask torch.Size([224, 224])\n"
     ]
    },
    {
     "name": "stderr",
     "output_type": "stream",
     "text": [
      "Epoch [6/15]:  41%|████▏     | 31/75 [00:12<00:17,  2.45it/s, Loss=0.88] "
     ]
    },
    {
     "name": "stdout",
     "output_type": "stream",
     "text": [
      "✅ Loaded BraTS20_Training_143: Image torch.Size([3, 224, 224]), Mask torch.Size([224, 224])\n",
      "✅ Loaded BraTS20_Training_272: Image torch.Size([3, 224, 224]), Mask torch.Size([224, 224])\n"
     ]
    },
    {
     "name": "stderr",
     "output_type": "stream",
     "text": [
      "Epoch [6/15]:  43%|████▎     | 32/75 [00:13<00:17,  2.46it/s, Loss=1.18]"
     ]
    },
    {
     "name": "stdout",
     "output_type": "stream",
     "text": [
      "✅ Loaded BraTS20_Training_268: Image torch.Size([3, 224, 224]), Mask torch.Size([224, 224])\n",
      "✅ Loaded BraTS20_Training_277: Image torch.Size([3, 224, 224]), Mask torch.Size([224, 224])\n"
     ]
    },
    {
     "name": "stderr",
     "output_type": "stream",
     "text": [
      "Epoch [6/15]:  44%|████▍     | 33/75 [00:13<00:17,  2.45it/s, Loss=1.08]"
     ]
    },
    {
     "name": "stdout",
     "output_type": "stream",
     "text": [
      "✅ Loaded BraTS20_Training_364: Image torch.Size([3, 224, 224]), Mask torch.Size([224, 224])\n",
      "✅ Loaded BraTS20_Training_203: Image torch.Size([3, 224, 224]), Mask torch.Size([224, 224])\n"
     ]
    },
    {
     "name": "stderr",
     "output_type": "stream",
     "text": [
      "Epoch [6/15]:  45%|████▌     | 34/75 [00:14<00:17,  2.40it/s, Loss=0.975]"
     ]
    },
    {
     "name": "stdout",
     "output_type": "stream",
     "text": [
      "✅ Loaded BraTS20_Training_034: Image torch.Size([3, 224, 224]), Mask torch.Size([224, 224])\n",
      "✅ Loaded BraTS20_Training_297: Image torch.Size([3, 224, 224]), Mask torch.Size([224, 224])\n"
     ]
    },
    {
     "name": "stderr",
     "output_type": "stream",
     "text": [
      "Epoch [6/15]:  47%|████▋     | 35/75 [00:14<00:16,  2.42it/s, Loss=1.03] "
     ]
    },
    {
     "name": "stdout",
     "output_type": "stream",
     "text": [
      "✅ Loaded BraTS20_Training_332: Image torch.Size([3, 224, 224]), Mask torch.Size([224, 224])\n",
      "✅ Loaded BraTS20_Training_024: Image torch.Size([3, 224, 224]), Mask torch.Size([224, 224])\n"
     ]
    },
    {
     "name": "stderr",
     "output_type": "stream",
     "text": [
      "Epoch [6/15]:  48%|████▊     | 36/75 [00:14<00:15,  2.44it/s, Loss=0.881]"
     ]
    },
    {
     "name": "stdout",
     "output_type": "stream",
     "text": [
      "✅ Loaded BraTS20_Training_279: Image torch.Size([3, 224, 224]), Mask torch.Size([224, 224])\n",
      "✅ Loaded BraTS20_Training_128: Image torch.Size([3, 224, 224]), Mask torch.Size([224, 224])\n"
     ]
    },
    {
     "name": "stderr",
     "output_type": "stream",
     "text": [
      "Epoch [6/15]:  49%|████▉     | 37/75 [00:15<00:15,  2.45it/s, Loss=1.05] "
     ]
    },
    {
     "name": "stdout",
     "output_type": "stream",
     "text": [
      "✅ Loaded BraTS20_Training_060: Image torch.Size([3, 224, 224]), Mask torch.Size([224, 224])\n",
      "✅ Loaded BraTS20_Training_126: Image torch.Size([3, 224, 224]), Mask torch.Size([224, 224])\n"
     ]
    },
    {
     "name": "stderr",
     "output_type": "stream",
     "text": [
      "Epoch [6/15]:  51%|█████     | 38/75 [00:15<00:15,  2.46it/s, Loss=0.97]"
     ]
    },
    {
     "name": "stdout",
     "output_type": "stream",
     "text": [
      "✅ Loaded BraTS20_Training_227: Image torch.Size([3, 224, 224]), Mask torch.Size([224, 224])\n",
      "✅ Loaded BraTS20_Training_245: Image torch.Size([3, 224, 224]), Mask torch.Size([224, 224])\n"
     ]
    },
    {
     "name": "stderr",
     "output_type": "stream",
     "text": [
      "Epoch [6/15]:  52%|█████▏    | 39/75 [00:16<00:14,  2.44it/s, Loss=1.21]"
     ]
    },
    {
     "name": "stdout",
     "output_type": "stream",
     "text": [
      "✅ Loaded BraTS20_Training_290: Image torch.Size([3, 224, 224]), Mask torch.Size([224, 224])\n",
      "✅ Loaded BraTS20_Training_025: Image torch.Size([3, 224, 224]), Mask torch.Size([224, 224])\n"
     ]
    },
    {
     "name": "stderr",
     "output_type": "stream",
     "text": [
      "Epoch [6/15]:  53%|█████▎    | 40/75 [00:16<00:14,  2.43it/s, Loss=0.989]"
     ]
    },
    {
     "name": "stdout",
     "output_type": "stream",
     "text": [
      "✅ Loaded BraTS20_Training_129: Image torch.Size([3, 224, 224]), Mask torch.Size([224, 224])\n",
      "✅ Loaded BraTS20_Training_318: Image torch.Size([3, 224, 224]), Mask torch.Size([224, 224])\n"
     ]
    },
    {
     "name": "stderr",
     "output_type": "stream",
     "text": [
      "Epoch [6/15]:  55%|█████▍    | 41/75 [00:16<00:14,  2.41it/s, Loss=1.25] "
     ]
    },
    {
     "name": "stdout",
     "output_type": "stream",
     "text": [
      "✅ Loaded BraTS20_Training_278: Image torch.Size([3, 224, 224]), Mask torch.Size([224, 224])\n",
      "✅ Loaded BraTS20_Training_228: Image torch.Size([3, 224, 224]), Mask torch.Size([224, 224])\n"
     ]
    },
    {
     "name": "stderr",
     "output_type": "stream",
     "text": [
      "Epoch [6/15]:  56%|█████▌    | 42/75 [00:17<00:13,  2.41it/s, Loss=1.16]"
     ]
    },
    {
     "name": "stdout",
     "output_type": "stream",
     "text": [
      "✅ Loaded BraTS20_Training_239: Image torch.Size([3, 224, 224]), Mask torch.Size([224, 224])\n",
      "✅ Loaded BraTS20_Training_226: Image torch.Size([3, 224, 224]), Mask torch.Size([224, 224])\n"
     ]
    },
    {
     "name": "stderr",
     "output_type": "stream",
     "text": [
      "Epoch [6/15]:  57%|█████▋    | 43/75 [00:17<00:13,  2.41it/s, Loss=1.11]"
     ]
    },
    {
     "name": "stdout",
     "output_type": "stream",
     "text": [
      "✅ Loaded BraTS20_Training_244: Image torch.Size([3, 224, 224]), Mask torch.Size([224, 224])\n",
      "✅ Loaded BraTS20_Training_021: Image torch.Size([3, 224, 224]), Mask torch.Size([224, 224])\n"
     ]
    },
    {
     "name": "stderr",
     "output_type": "stream",
     "text": [
      "Epoch [6/15]:  59%|█████▊    | 44/75 [00:18<00:12,  2.42it/s, Loss=0.933]"
     ]
    },
    {
     "name": "stdout",
     "output_type": "stream",
     "text": [
      "✅ Loaded BraTS20_Training_222: Image torch.Size([3, 224, 224]), Mask torch.Size([224, 224])\n",
      "✅ Loaded BraTS20_Training_315: Image torch.Size([3, 224, 224]), Mask torch.Size([224, 224])\n"
     ]
    },
    {
     "name": "stderr",
     "output_type": "stream",
     "text": [
      "Epoch [6/15]:  60%|██████    | 45/75 [00:18<00:12,  2.44it/s, Loss=1.06] "
     ]
    },
    {
     "name": "stdout",
     "output_type": "stream",
     "text": [
      "✅ Loaded BraTS20_Training_197: Image torch.Size([3, 224, 224]), Mask torch.Size([224, 224])\n",
      "✅ Loaded BraTS20_Training_131: Image torch.Size([3, 224, 224]), Mask torch.Size([224, 224])\n"
     ]
    },
    {
     "name": "stderr",
     "output_type": "stream",
     "text": [
      "Epoch [6/15]:  61%|██████▏   | 46/75 [00:18<00:11,  2.45it/s, Loss=0.978]"
     ]
    },
    {
     "name": "stdout",
     "output_type": "stream",
     "text": [
      "✅ Loaded BraTS20_Training_360: Image torch.Size([3, 224, 224]), Mask torch.Size([224, 224])\n",
      "✅ Loaded BraTS20_Training_148: Image torch.Size([3, 224, 224]), Mask torch.Size([224, 224])\n"
     ]
    },
    {
     "name": "stderr",
     "output_type": "stream",
     "text": [
      "Epoch [6/15]:  63%|██████▎   | 47/75 [00:19<00:11,  2.44it/s, Loss=0.982]"
     ]
    },
    {
     "name": "stdout",
     "output_type": "stream",
     "text": [
      "✅ Loaded BraTS20_Training_312: Image torch.Size([3, 224, 224]), Mask torch.Size([224, 224])\n",
      "✅ Loaded BraTS20_Training_329: Image torch.Size([3, 224, 224]), Mask torch.Size([224, 224])\n"
     ]
    },
    {
     "name": "stderr",
     "output_type": "stream",
     "text": [
      "Epoch [6/15]:  64%|██████▍   | 48/75 [00:19<00:11,  2.43it/s, Loss=1.07] "
     ]
    },
    {
     "name": "stdout",
     "output_type": "stream",
     "text": [
      "✅ Loaded BraTS20_Training_096: Image torch.Size([3, 224, 224]), Mask torch.Size([224, 224])\n",
      "✅ Loaded BraTS20_Training_117: Image torch.Size([3, 224, 224]), Mask torch.Size([224, 224])\n"
     ]
    },
    {
     "name": "stderr",
     "output_type": "stream",
     "text": [
      "Epoch [6/15]:  65%|██████▌   | 49/75 [00:20<00:10,  2.45it/s, Loss=0.895]"
     ]
    },
    {
     "name": "stdout",
     "output_type": "stream",
     "text": [
      "✅ Loaded BraTS20_Training_086: Image torch.Size([3, 224, 224]), Mask torch.Size([224, 224])\n",
      "✅ Loaded BraTS20_Training_260: Image torch.Size([3, 224, 224]), Mask torch.Size([224, 224])\n"
     ]
    },
    {
     "name": "stderr",
     "output_type": "stream",
     "text": [
      "Epoch [6/15]:  67%|██████▋   | 50/75 [00:20<00:10,  2.43it/s, Loss=1.05] "
     ]
    },
    {
     "name": "stdout",
     "output_type": "stream",
     "text": [
      "✅ Loaded BraTS20_Training_082: Image torch.Size([3, 224, 224]), Mask torch.Size([224, 224])\n",
      "✅ Loaded BraTS20_Training_161: Image torch.Size([3, 224, 224]), Mask torch.Size([224, 224])\n"
     ]
    },
    {
     "name": "stderr",
     "output_type": "stream",
     "text": [
      "Epoch [6/15]:  68%|██████▊   | 51/75 [00:20<00:09,  2.42it/s, Loss=1.06]"
     ]
    },
    {
     "name": "stdout",
     "output_type": "stream",
     "text": [
      "✅ Loaded BraTS20_Training_080: Image torch.Size([3, 224, 224]), Mask torch.Size([224, 224])\n",
      "✅ Loaded BraTS20_Training_037: Image torch.Size([3, 224, 224]), Mask torch.Size([224, 224])\n"
     ]
    },
    {
     "name": "stderr",
     "output_type": "stream",
     "text": [
      "Epoch [6/15]:  69%|██████▉   | 52/75 [00:21<00:09,  2.39it/s, Loss=0.866]"
     ]
    },
    {
     "name": "stdout",
     "output_type": "stream",
     "text": [
      "✅ Loaded BraTS20_Training_124: Image torch.Size([3, 224, 224]), Mask torch.Size([224, 224])\n",
      "✅ Loaded BraTS20_Training_017: Image torch.Size([3, 224, 224]), Mask torch.Size([224, 224])\n"
     ]
    },
    {
     "name": "stderr",
     "output_type": "stream",
     "text": [
      "Epoch [6/15]:  71%|███████   | 53/75 [00:21<00:09,  2.42it/s, Loss=0.887]"
     ]
    },
    {
     "name": "stdout",
     "output_type": "stream",
     "text": [
      "✅ Loaded BraTS20_Training_339: Image torch.Size([3, 224, 224]), Mask torch.Size([224, 224])\n",
      "✅ Loaded BraTS20_Training_036: Image torch.Size([3, 224, 224]), Mask torch.Size([224, 224])\n"
     ]
    },
    {
     "name": "stderr",
     "output_type": "stream",
     "text": [
      "Epoch [6/15]:  72%|███████▏  | 54/75 [00:22<00:08,  2.39it/s, Loss=0.819]"
     ]
    },
    {
     "name": "stdout",
     "output_type": "stream",
     "text": [
      "✅ Loaded BraTS20_Training_220: Image torch.Size([3, 224, 224]), Mask torch.Size([224, 224])\n",
      "✅ Loaded BraTS20_Training_043: Image torch.Size([3, 224, 224]), Mask torch.Size([224, 224])\n"
     ]
    },
    {
     "name": "stderr",
     "output_type": "stream",
     "text": [
      "Epoch [6/15]:  73%|███████▎  | 55/75 [00:22<00:08,  2.42it/s, Loss=0.948]"
     ]
    },
    {
     "name": "stdout",
     "output_type": "stream",
     "text": [
      "✅ Loaded BraTS20_Training_106: Image torch.Size([3, 224, 224]), Mask torch.Size([224, 224])\n",
      "✅ Loaded BraTS20_Training_261: Image torch.Size([3, 224, 224]), Mask torch.Size([224, 224])\n"
     ]
    },
    {
     "name": "stderr",
     "output_type": "stream",
     "text": [
      "Epoch [6/15]:  75%|███████▍  | 56/75 [00:23<00:07,  2.41it/s, Loss=1.07] "
     ]
    },
    {
     "name": "stdout",
     "output_type": "stream",
     "text": [
      "✅ Loaded BraTS20_Training_120: Image torch.Size([3, 224, 224]), Mask torch.Size([224, 224])\n",
      "✅ Loaded BraTS20_Training_299: Image torch.Size([3, 224, 224]), Mask torch.Size([224, 224])\n"
     ]
    },
    {
     "name": "stderr",
     "output_type": "stream",
     "text": [
      "Epoch [6/15]:  76%|███████▌  | 57/75 [00:23<00:07,  2.44it/s, Loss=0.942]"
     ]
    },
    {
     "name": "stdout",
     "output_type": "stream",
     "text": [
      "✅ Loaded BraTS20_Training_353: Image torch.Size([3, 224, 224]), Mask torch.Size([224, 224])\n",
      "✅ Loaded BraTS20_Training_125: Image torch.Size([3, 224, 224]), Mask torch.Size([224, 224])\n"
     ]
    },
    {
     "name": "stderr",
     "output_type": "stream",
     "text": [
      "Epoch [6/15]:  77%|███████▋  | 58/75 [00:23<00:07,  2.43it/s, Loss=0.918]"
     ]
    },
    {
     "name": "stdout",
     "output_type": "stream",
     "text": [
      "✅ Loaded BraTS20_Training_358: Image torch.Size([3, 224, 224]), Mask torch.Size([224, 224])\n",
      "✅ Loaded BraTS20_Training_027: Image torch.Size([3, 224, 224]), Mask torch.Size([224, 224])\n"
     ]
    },
    {
     "name": "stderr",
     "output_type": "stream",
     "text": [
      "Epoch [6/15]:  79%|███████▊  | 59/75 [00:24<00:06,  2.39it/s, Loss=0.914]"
     ]
    },
    {
     "name": "stdout",
     "output_type": "stream",
     "text": [
      "✅ Loaded BraTS20_Training_001: Image torch.Size([3, 224, 224]), Mask torch.Size([224, 224])\n",
      "✅ Loaded BraTS20_Training_053: Image torch.Size([3, 224, 224]), Mask torch.Size([224, 224])\n"
     ]
    },
    {
     "name": "stderr",
     "output_type": "stream",
     "text": [
      "Epoch [6/15]:  80%|████████  | 60/75 [00:24<00:06,  2.43it/s, Loss=0.802]"
     ]
    },
    {
     "name": "stdout",
     "output_type": "stream",
     "text": [
      "✅ Loaded BraTS20_Training_237: Image torch.Size([3, 224, 224]), Mask torch.Size([224, 224])\n",
      "✅ Loaded BraTS20_Training_273: Image torch.Size([3, 224, 224]), Mask torch.Size([224, 224])\n"
     ]
    },
    {
     "name": "stderr",
     "output_type": "stream",
     "text": [
      "Epoch [6/15]:  81%|████████▏ | 61/75 [00:25<00:05,  2.47it/s, Loss=1.07] "
     ]
    },
    {
     "name": "stdout",
     "output_type": "stream",
     "text": [
      "✅ Loaded BraTS20_Training_149: Image torch.Size([3, 224, 224]), Mask torch.Size([224, 224])\n",
      "✅ Loaded BraTS20_Training_217: Image torch.Size([3, 224, 224]), Mask torch.Size([224, 224])\n"
     ]
    },
    {
     "name": "stderr",
     "output_type": "stream",
     "text": [
      "Epoch [6/15]:  83%|████████▎ | 62/75 [00:25<00:05,  2.46it/s, Loss=1.14]"
     ]
    },
    {
     "name": "stdout",
     "output_type": "stream",
     "text": [
      "✅ Loaded BraTS20_Training_188: Image torch.Size([3, 224, 224]), Mask torch.Size([224, 224])\n",
      "✅ Loaded BraTS20_Training_145: Image torch.Size([3, 224, 224]), Mask torch.Size([224, 224])\n"
     ]
    },
    {
     "name": "stderr",
     "output_type": "stream",
     "text": [
      "Epoch [6/15]:  84%|████████▍ | 63/75 [00:25<00:04,  2.48it/s, Loss=1.02]"
     ]
    },
    {
     "name": "stdout",
     "output_type": "stream",
     "text": [
      "✅ Loaded BraTS20_Training_271: Image torch.Size([3, 224, 224]), Mask torch.Size([224, 224])\n",
      "✅ Loaded BraTS20_Training_069: Image torch.Size([3, 224, 224]), Mask torch.Size([224, 224])\n"
     ]
    },
    {
     "name": "stderr",
     "output_type": "stream",
     "text": [
      "Epoch [6/15]:  85%|████████▌ | 64/75 [00:26<00:04,  2.48it/s, Loss=1.07]"
     ]
    },
    {
     "name": "stdout",
     "output_type": "stream",
     "text": [
      "✅ Loaded BraTS20_Training_123: Image torch.Size([3, 224, 224]), Mask torch.Size([224, 224])\n",
      "✅ Loaded BraTS20_Training_158: Image torch.Size([3, 224, 224]), Mask torch.Size([224, 224])\n"
     ]
    },
    {
     "name": "stderr",
     "output_type": "stream",
     "text": [
      "Epoch [6/15]:  87%|████████▋ | 65/75 [00:26<00:03,  2.50it/s, Loss=0.776]"
     ]
    },
    {
     "name": "stdout",
     "output_type": "stream",
     "text": [
      "✅ Loaded BraTS20_Training_073: Image torch.Size([3, 224, 224]), Mask torch.Size([224, 224])\n",
      "✅ Loaded BraTS20_Training_093: Image torch.Size([3, 224, 224]), Mask torch.Size([224, 224])\n"
     ]
    },
    {
     "name": "stderr",
     "output_type": "stream",
     "text": [
      "Epoch [6/15]:  88%|████████▊ | 66/75 [00:27<00:03,  2.50it/s, Loss=0.844]"
     ]
    },
    {
     "name": "stdout",
     "output_type": "stream",
     "text": [
      "✅ Loaded BraTS20_Training_262: Image torch.Size([3, 224, 224]), Mask torch.Size([224, 224])\n",
      "✅ Loaded BraTS20_Training_198: Image torch.Size([3, 224, 224]), Mask torch.Size([224, 224])\n"
     ]
    },
    {
     "name": "stderr",
     "output_type": "stream",
     "text": [
      "Epoch [6/15]:  89%|████████▉ | 67/75 [00:27<00:03,  2.49it/s, Loss=0.867]"
     ]
    },
    {
     "name": "stdout",
     "output_type": "stream",
     "text": [
      "✅ Loaded BraTS20_Training_135: Image torch.Size([3, 224, 224]), Mask torch.Size([224, 224])\n",
      "✅ Loaded BraTS20_Training_083: Image torch.Size([3, 224, 224]), Mask torch.Size([224, 224])\n"
     ]
    },
    {
     "name": "stderr",
     "output_type": "stream",
     "text": [
      "Epoch [6/15]:  91%|█████████ | 68/75 [00:27<00:02,  2.49it/s, Loss=0.907]"
     ]
    },
    {
     "name": "stdout",
     "output_type": "stream",
     "text": [
      "✅ Loaded BraTS20_Training_019: Image torch.Size([3, 224, 224]), Mask torch.Size([224, 224])\n",
      "✅ Loaded BraTS20_Training_077: Image torch.Size([3, 224, 224]), Mask torch.Size([224, 224])\n"
     ]
    },
    {
     "name": "stderr",
     "output_type": "stream",
     "text": [
      "Epoch [6/15]:  92%|█████████▏| 69/75 [00:28<00:02,  2.49it/s, Loss=0.911]"
     ]
    },
    {
     "name": "stdout",
     "output_type": "stream",
     "text": [
      "✅ Loaded BraTS20_Training_289: Image torch.Size([3, 224, 224]), Mask torch.Size([224, 224])\n",
      "✅ Loaded BraTS20_Training_132: Image torch.Size([3, 224, 224]), Mask torch.Size([224, 224])\n"
     ]
    },
    {
     "name": "stderr",
     "output_type": "stream",
     "text": [
      "Epoch [6/15]:  93%|█████████▎| 70/75 [00:28<00:02,  2.49it/s, Loss=0.831]"
     ]
    },
    {
     "name": "stdout",
     "output_type": "stream",
     "text": [
      "✅ Loaded BraTS20_Training_267: Image torch.Size([3, 224, 224]), Mask torch.Size([224, 224])\n",
      "✅ Loaded BraTS20_Training_206: Image torch.Size([3, 224, 224]), Mask torch.Size([224, 224])\n"
     ]
    },
    {
     "name": "stderr",
     "output_type": "stream",
     "text": [
      "Epoch [6/15]:  95%|█████████▍| 71/75 [00:29<00:01,  2.45it/s, Loss=1.04] "
     ]
    },
    {
     "name": "stdout",
     "output_type": "stream",
     "text": [
      "✅ Loaded BraTS20_Training_110: Image torch.Size([3, 224, 224]), Mask torch.Size([224, 224])\n",
      "✅ Loaded BraTS20_Training_079: Image torch.Size([3, 224, 224]), Mask torch.Size([224, 224])\n"
     ]
    },
    {
     "name": "stderr",
     "output_type": "stream",
     "text": [
      "Epoch [6/15]:  96%|█████████▌| 72/75 [00:29<00:01,  2.48it/s, Loss=0.98]"
     ]
    },
    {
     "name": "stdout",
     "output_type": "stream",
     "text": [
      "✅ Loaded BraTS20_Training_166: Image torch.Size([3, 224, 224]), Mask torch.Size([224, 224])\n",
      "✅ Loaded BraTS20_Training_116: Image torch.Size([3, 224, 224]), Mask torch.Size([224, 224])\n"
     ]
    },
    {
     "name": "stderr",
     "output_type": "stream",
     "text": [
      "Epoch [6/15]:  97%|█████████▋| 73/75 [00:29<00:00,  2.48it/s, Loss=0.715]"
     ]
    },
    {
     "name": "stdout",
     "output_type": "stream",
     "text": [
      "✅ Loaded BraTS20_Training_140: Image torch.Size([3, 224, 224]), Mask torch.Size([224, 224])\n",
      "✅ Loaded BraTS20_Training_248: Image torch.Size([3, 224, 224]), Mask torch.Size([224, 224])\n"
     ]
    },
    {
     "name": "stderr",
     "output_type": "stream",
     "text": [
      "Epoch [6/15]:  99%|█████████▊| 74/75 [00:30<00:00,  2.49it/s, Loss=0.887]"
     ]
    },
    {
     "name": "stdout",
     "output_type": "stream",
     "text": [
      "✅ Loaded BraTS20_Training_275: Image torch.Size([3, 224, 224]), Mask torch.Size([224, 224])\n",
      "✅ Loaded BraTS20_Training_309: Image torch.Size([3, 224, 224]), Mask torch.Size([224, 224])\n"
     ]
    },
    {
     "name": "stderr",
     "output_type": "stream",
     "text": [
      "                                                                         \r"
     ]
    },
    {
     "name": "stdout",
     "output_type": "stream",
     "text": [
      "\n",
      "✅ Epoch 6: Train Loss: 0.9711\n",
      "💾 Saved model at epoch 6 with train loss 0.9711\n"
     ]
    },
    {
     "name": "stderr",
     "output_type": "stream",
     "text": [
      "Epoch [7/15]:   0%|          | 0/75 [00:00<?, ?it/s]"
     ]
    },
    {
     "name": "stdout",
     "output_type": "stream",
     "text": [
      "✅ Loaded BraTS20_Training_056: Image torch.Size([3, 224, 224]), Mask torch.Size([224, 224])\n",
      "✅ Loaded BraTS20_Training_119: Image torch.Size([3, 224, 224]), Mask torch.Size([224, 224])\n"
     ]
    },
    {
     "name": "stderr",
     "output_type": "stream",
     "text": [
      "Epoch [7/15]:   1%|▏         | 1/75 [00:00<00:30,  2.41it/s, Loss=0.973]"
     ]
    },
    {
     "name": "stdout",
     "output_type": "stream",
     "text": [
      "✅ Loaded BraTS20_Training_222: Image torch.Size([3, 224, 224]), Mask torch.Size([224, 224])\n",
      "✅ Loaded BraTS20_Training_024: Image torch.Size([3, 224, 224]), Mask torch.Size([224, 224])\n"
     ]
    },
    {
     "name": "stderr",
     "output_type": "stream",
     "text": [
      "Epoch [7/15]:   3%|▎         | 2/75 [00:00<00:29,  2.46it/s, Loss=0.881]"
     ]
    },
    {
     "name": "stdout",
     "output_type": "stream",
     "text": [
      "✅ Loaded BraTS20_Training_312: Image torch.Size([3, 224, 224]), Mask torch.Size([224, 224])\n",
      "✅ Loaded BraTS20_Training_086: Image torch.Size([3, 224, 224]), Mask torch.Size([224, 224])\n"
     ]
    },
    {
     "name": "stderr",
     "output_type": "stream",
     "text": [
      "Epoch [7/15]:   4%|▍         | 3/75 [00:01<00:29,  2.43it/s, Loss=0.86] "
     ]
    },
    {
     "name": "stdout",
     "output_type": "stream",
     "text": [
      "✅ Loaded BraTS20_Training_339: Image torch.Size([3, 224, 224]), Mask torch.Size([224, 224])\n",
      "✅ Loaded BraTS20_Training_052: Image torch.Size([3, 224, 224]), Mask torch.Size([224, 224])\n"
     ]
    },
    {
     "name": "stderr",
     "output_type": "stream",
     "text": [
      "Epoch [7/15]:   5%|▌         | 4/75 [00:01<00:29,  2.42it/s, Loss=0.714]"
     ]
    },
    {
     "name": "stdout",
     "output_type": "stream",
     "text": [
      "✅ Loaded BraTS20_Training_033: Image torch.Size([3, 224, 224]), Mask torch.Size([224, 224])\n",
      "✅ Loaded BraTS20_Training_318: Image torch.Size([3, 224, 224]), Mask torch.Size([224, 224])\n"
     ]
    },
    {
     "name": "stderr",
     "output_type": "stream",
     "text": [
      "Epoch [7/15]:   7%|▋         | 5/75 [00:02<00:28,  2.44it/s, Loss=0.996]"
     ]
    },
    {
     "name": "stdout",
     "output_type": "stream",
     "text": [
      "✅ Loaded BraTS20_Training_278: Image torch.Size([3, 224, 224]), Mask torch.Size([224, 224])\n",
      "✅ Loaded BraTS20_Training_353: Image torch.Size([3, 224, 224]), Mask torch.Size([224, 224])\n"
     ]
    },
    {
     "name": "stderr",
     "output_type": "stream",
     "text": [
      "Epoch [7/15]:   8%|▊         | 6/75 [00:02<00:28,  2.40it/s, Loss=0.839]"
     ]
    },
    {
     "name": "stdout",
     "output_type": "stream",
     "text": [
      "✅ Loaded BraTS20_Training_290: Image torch.Size([3, 224, 224]), Mask torch.Size([224, 224])\n",
      "✅ Loaded BraTS20_Training_239: Image torch.Size([3, 224, 224]), Mask torch.Size([224, 224])\n"
     ]
    },
    {
     "name": "stderr",
     "output_type": "stream",
     "text": [
      "Epoch [7/15]:   9%|▉         | 7/75 [00:02<00:28,  2.42it/s, Loss=1.06] "
     ]
    },
    {
     "name": "stdout",
     "output_type": "stream",
     "text": [
      "✅ Loaded BraTS20_Training_194: Image torch.Size([3, 224, 224]), Mask torch.Size([224, 224])\n",
      "✅ Loaded BraTS20_Training_096: Image torch.Size([3, 224, 224]), Mask torch.Size([224, 224])\n"
     ]
    },
    {
     "name": "stderr",
     "output_type": "stream",
     "text": [
      "Epoch [7/15]:  11%|█         | 8/75 [00:03<00:27,  2.43it/s, Loss=0.876]"
     ]
    },
    {
     "name": "stdout",
     "output_type": "stream",
     "text": [
      "✅ Loaded BraTS20_Training_348: Image torch.Size([3, 224, 224]), Mask torch.Size([224, 224])\n",
      "✅ Loaded BraTS20_Training_032: Image torch.Size([3, 224, 224]), Mask torch.Size([224, 224])\n"
     ]
    },
    {
     "name": "stderr",
     "output_type": "stream",
     "text": [
      "Epoch [7/15]:  12%|█▏        | 9/75 [00:03<00:27,  2.44it/s, Loss=0.969]"
     ]
    },
    {
     "name": "stdout",
     "output_type": "stream",
     "text": [
      "✅ Loaded BraTS20_Training_165: Image torch.Size([3, 224, 224]), Mask torch.Size([224, 224])\n",
      "✅ Loaded BraTS20_Training_132: Image torch.Size([3, 224, 224]), Mask torch.Size([224, 224])\n"
     ]
    },
    {
     "name": "stderr",
     "output_type": "stream",
     "text": [
      "Epoch [7/15]:  13%|█▎        | 10/75 [00:04<00:26,  2.42it/s, Loss=0.849]"
     ]
    },
    {
     "name": "stdout",
     "output_type": "stream",
     "text": [
      "✅ Loaded BraTS20_Training_135: Image torch.Size([3, 224, 224]), Mask torch.Size([224, 224])\n",
      "✅ Loaded BraTS20_Training_079: Image torch.Size([3, 224, 224]), Mask torch.Size([224, 224])\n"
     ]
    },
    {
     "name": "stderr",
     "output_type": "stream",
     "text": [
      "Epoch [7/15]:  15%|█▍        | 11/75 [00:04<00:26,  2.39it/s, Loss=0.812]"
     ]
    },
    {
     "name": "stdout",
     "output_type": "stream",
     "text": [
      "✅ Loaded BraTS20_Training_010: Image torch.Size([3, 224, 224]), Mask torch.Size([224, 224])\n",
      "✅ Loaded BraTS20_Training_027: Image torch.Size([3, 224, 224]), Mask torch.Size([224, 224])\n"
     ]
    },
    {
     "name": "stderr",
     "output_type": "stream",
     "text": [
      "Epoch [7/15]:  16%|█▌        | 12/75 [00:04<00:26,  2.40it/s, Loss=0.875]"
     ]
    },
    {
     "name": "stdout",
     "output_type": "stream",
     "text": [
      "✅ Loaded BraTS20_Training_116: Image torch.Size([3, 224, 224]), Mask torch.Size([224, 224])\n",
      "✅ Loaded BraTS20_Training_261: Image torch.Size([3, 224, 224]), Mask torch.Size([224, 224])\n"
     ]
    },
    {
     "name": "stderr",
     "output_type": "stream",
     "text": [
      "Epoch [7/15]:  17%|█▋        | 13/75 [00:05<00:26,  2.38it/s, Loss=0.874]"
     ]
    },
    {
     "name": "stdout",
     "output_type": "stream",
     "text": [
      "✅ Loaded BraTS20_Training_058: Image torch.Size([3, 224, 224]), Mask torch.Size([224, 224])\n",
      "✅ Loaded BraTS20_Training_092: Image torch.Size([3, 224, 224]), Mask torch.Size([224, 224])\n"
     ]
    },
    {
     "name": "stderr",
     "output_type": "stream",
     "text": [
      "Epoch [7/15]:  19%|█▊        | 14/75 [00:05<00:25,  2.36it/s, Loss=0.835]"
     ]
    },
    {
     "name": "stdout",
     "output_type": "stream",
     "text": [
      "✅ Loaded BraTS20_Training_020: Image torch.Size([3, 224, 224]), Mask torch.Size([224, 224])\n",
      "✅ Loaded BraTS20_Training_077: Image torch.Size([3, 224, 224]), Mask torch.Size([224, 224])\n"
     ]
    },
    {
     "name": "stderr",
     "output_type": "stream",
     "text": [
      "Epoch [7/15]:  20%|██        | 15/75 [00:06<00:25,  2.39it/s, Loss=0.911]"
     ]
    },
    {
     "name": "stdout",
     "output_type": "stream",
     "text": [
      "✅ Loaded BraTS20_Training_193: Image torch.Size([3, 224, 224]), Mask torch.Size([224, 224])\n",
      "✅ Loaded BraTS20_Training_148: Image torch.Size([3, 224, 224]), Mask torch.Size([224, 224])\n"
     ]
    },
    {
     "name": "stderr",
     "output_type": "stream",
     "text": [
      "Epoch [7/15]:  21%|██▏       | 16/75 [00:06<00:24,  2.40it/s, Loss=0.855]"
     ]
    },
    {
     "name": "stdout",
     "output_type": "stream",
     "text": [
      "✅ Loaded BraTS20_Training_017: Image torch.Size([3, 224, 224]), Mask torch.Size([224, 224])\n",
      "✅ Loaded BraTS20_Training_060: Image torch.Size([3, 224, 224]), Mask torch.Size([224, 224])\n"
     ]
    },
    {
     "name": "stderr",
     "output_type": "stream",
     "text": [
      "Epoch [7/15]:  23%|██▎       | 17/75 [00:07<00:23,  2.42it/s, Loss=0.85] "
     ]
    },
    {
     "name": "stdout",
     "output_type": "stream",
     "text": [
      "✅ Loaded BraTS20_Training_197: Image torch.Size([3, 224, 224]), Mask torch.Size([224, 224])\n",
      "✅ Loaded BraTS20_Training_322: Image torch.Size([3, 224, 224]), Mask torch.Size([224, 224])\n"
     ]
    },
    {
     "name": "stderr",
     "output_type": "stream",
     "text": [
      "Epoch [7/15]:  24%|██▍       | 18/75 [00:07<00:23,  2.42it/s, Loss=0.886]"
     ]
    },
    {
     "name": "stdout",
     "output_type": "stream",
     "text": [
      "✅ Loaded BraTS20_Training_275: Image torch.Size([3, 224, 224]), Mask torch.Size([224, 224])\n",
      "✅ Loaded BraTS20_Training_057: Image torch.Size([3, 224, 224]), Mask torch.Size([224, 224])\n"
     ]
    },
    {
     "name": "stderr",
     "output_type": "stream",
     "text": [
      "Epoch [7/15]:  25%|██▌       | 19/75 [00:07<00:23,  2.40it/s, Loss=0.971]"
     ]
    },
    {
     "name": "stdout",
     "output_type": "stream",
     "text": [
      "✅ Loaded BraTS20_Training_294: Image torch.Size([3, 224, 224]), Mask torch.Size([224, 224])\n",
      "✅ Loaded BraTS20_Training_082: Image torch.Size([3, 224, 224]), Mask torch.Size([224, 224])\n"
     ]
    },
    {
     "name": "stderr",
     "output_type": "stream",
     "text": [
      "Epoch [7/15]:  27%|██▋       | 20/75 [00:08<00:22,  2.41it/s, Loss=0.969]"
     ]
    },
    {
     "name": "stdout",
     "output_type": "stream",
     "text": [
      "✅ Loaded BraTS20_Training_053: Image torch.Size([3, 224, 224]), Mask torch.Size([224, 224])\n",
      "✅ Loaded BraTS20_Training_336: Image torch.Size([3, 224, 224]), Mask torch.Size([224, 224])\n"
     ]
    },
    {
     "name": "stderr",
     "output_type": "stream",
     "text": [
      "Epoch [7/15]:  28%|██▊       | 21/75 [00:08<00:22,  2.37it/s, Loss=0.844]"
     ]
    },
    {
     "name": "stdout",
     "output_type": "stream",
     "text": [
      "✅ Loaded BraTS20_Training_364: Image torch.Size([3, 224, 224]), Mask torch.Size([224, 224])\n",
      "✅ Loaded BraTS20_Training_273: Image torch.Size([3, 224, 224]), Mask torch.Size([224, 224])\n"
     ]
    },
    {
     "name": "stderr",
     "output_type": "stream",
     "text": [
      "Epoch [7/15]:  29%|██▉       | 22/75 [00:09<00:22,  2.36it/s, Loss=1.06] "
     ]
    },
    {
     "name": "stdout",
     "output_type": "stream",
     "text": [
      "✅ Loaded BraTS20_Training_126: Image torch.Size([3, 224, 224]), Mask torch.Size([224, 224])\n",
      "✅ Loaded BraTS20_Training_050: Image torch.Size([3, 224, 224]), Mask torch.Size([224, 224])\n"
     ]
    },
    {
     "name": "stderr",
     "output_type": "stream",
     "text": [
      "Epoch [7/15]:  31%|███       | 23/75 [00:09<00:21,  2.40it/s, Loss=0.974]"
     ]
    },
    {
     "name": "stdout",
     "output_type": "stream",
     "text": [
      "✅ Loaded BraTS20_Training_161: Image torch.Size([3, 224, 224]), Mask torch.Size([224, 224])\n",
      "✅ Loaded BraTS20_Training_196: Image torch.Size([3, 224, 224]), Mask torch.Size([224, 224])\n"
     ]
    },
    {
     "name": "stderr",
     "output_type": "stream",
     "text": [
      "Epoch [7/15]:  32%|███▏      | 24/75 [00:09<00:21,  2.42it/s, Loss=0.915]"
     ]
    },
    {
     "name": "stdout",
     "output_type": "stream",
     "text": [
      "✅ Loaded BraTS20_Training_123: Image torch.Size([3, 224, 224]), Mask torch.Size([224, 224])\n",
      "✅ Loaded BraTS20_Training_308: Image torch.Size([3, 224, 224]), Mask torch.Size([224, 224])\n"
     ]
    },
    {
     "name": "stderr",
     "output_type": "stream",
     "text": [
      "Epoch [7/15]:  33%|███▎      | 25/75 [00:10<00:20,  2.42it/s, Loss=0.838]"
     ]
    },
    {
     "name": "stdout",
     "output_type": "stream",
     "text": [
      "✅ Loaded BraTS20_Training_120: Image torch.Size([3, 224, 224]), Mask torch.Size([224, 224])\n",
      "✅ Loaded BraTS20_Training_332: Image torch.Size([3, 224, 224]), Mask torch.Size([224, 224])\n"
     ]
    },
    {
     "name": "stderr",
     "output_type": "stream",
     "text": [
      "Epoch [7/15]:  35%|███▍      | 26/75 [00:10<00:20,  2.45it/s, Loss=0.918]"
     ]
    },
    {
     "name": "stdout",
     "output_type": "stream",
     "text": [
      "✅ Loaded BraTS20_Training_228: Image torch.Size([3, 224, 224]), Mask torch.Size([224, 224])\n",
      "✅ Loaded BraTS20_Training_093: Image torch.Size([3, 224, 224]), Mask torch.Size([224, 224])\n"
     ]
    },
    {
     "name": "stderr",
     "output_type": "stream",
     "text": [
      "Epoch [7/15]:  36%|███▌      | 27/75 [00:11<00:19,  2.43it/s, Loss=0.846]"
     ]
    },
    {
     "name": "stdout",
     "output_type": "stream",
     "text": [
      "✅ Loaded BraTS20_Training_302: Image torch.Size([3, 224, 224]), Mask torch.Size([224, 224])\n",
      "✅ Loaded BraTS20_Training_106: Image torch.Size([3, 224, 224]), Mask torch.Size([224, 224])\n"
     ]
    },
    {
     "name": "stderr",
     "output_type": "stream",
     "text": [
      "Epoch [7/15]:  37%|███▋      | 28/75 [00:11<00:19,  2.45it/s, Loss=0.939]"
     ]
    },
    {
     "name": "stdout",
     "output_type": "stream",
     "text": [
      "✅ Loaded BraTS20_Training_151: Image torch.Size([3, 224, 224]), Mask torch.Size([224, 224])\n",
      "✅ Loaded BraTS20_Training_369: Image torch.Size([3, 224, 224]), Mask torch.Size([224, 224])\n"
     ]
    },
    {
     "name": "stderr",
     "output_type": "stream",
     "text": [
      "Epoch [7/15]:  39%|███▊      | 29/75 [00:12<00:19,  2.41it/s, Loss=0.876]"
     ]
    },
    {
     "name": "stdout",
     "output_type": "stream",
     "text": [
      "✅ Loaded BraTS20_Training_128: Image torch.Size([3, 224, 224]), Mask torch.Size([224, 224])\n",
      "✅ Loaded BraTS20_Training_233: Image torch.Size([3, 224, 224]), Mask torch.Size([224, 224])\n"
     ]
    },
    {
     "name": "stderr",
     "output_type": "stream",
     "text": [
      "Epoch [7/15]:  40%|████      | 30/75 [00:12<00:18,  2.41it/s, Loss=0.927]"
     ]
    },
    {
     "name": "stdout",
     "output_type": "stream",
     "text": [
      "✅ Loaded BraTS20_Training_345: Image torch.Size([3, 224, 224]), Mask torch.Size([224, 224])\n",
      "✅ Loaded BraTS20_Training_140: Image torch.Size([3, 224, 224]), Mask torch.Size([224, 224])\n"
     ]
    },
    {
     "name": "stderr",
     "output_type": "stream",
     "text": [
      "Epoch [7/15]:  41%|████▏     | 31/75 [00:12<00:18,  2.40it/s, Loss=0.908]"
     ]
    },
    {
     "name": "stdout",
     "output_type": "stream",
     "text": [
      "✅ Loaded BraTS20_Training_262: Image torch.Size([3, 224, 224]), Mask torch.Size([224, 224])\n",
      "✅ Loaded BraTS20_Training_272: Image torch.Size([3, 224, 224]), Mask torch.Size([224, 224])\n"
     ]
    },
    {
     "name": "stderr",
     "output_type": "stream",
     "text": [
      "Epoch [7/15]:  43%|████▎     | 32/75 [00:13<00:18,  2.37it/s, Loss=0.71] "
     ]
    },
    {
     "name": "stdout",
     "output_type": "stream",
     "text": [
      "✅ Loaded BraTS20_Training_064: Image torch.Size([3, 224, 224]), Mask torch.Size([224, 224])\n",
      "✅ Loaded BraTS20_Training_155: Image torch.Size([3, 224, 224]), Mask torch.Size([224, 224])\n"
     ]
    },
    {
     "name": "stderr",
     "output_type": "stream",
     "text": [
      "Epoch [7/15]:  44%|████▍     | 33/75 [00:13<00:17,  2.41it/s, Loss=0.781]"
     ]
    },
    {
     "name": "stdout",
     "output_type": "stream",
     "text": [
      "✅ Loaded BraTS20_Training_021: Image torch.Size([3, 224, 224]), Mask torch.Size([224, 224])\n",
      "✅ Loaded BraTS20_Training_036: Image torch.Size([3, 224, 224]), Mask torch.Size([224, 224])\n"
     ]
    },
    {
     "name": "stderr",
     "output_type": "stream",
     "text": [
      "Epoch [7/15]:  45%|████▌     | 34/75 [00:14<00:16,  2.43it/s, Loss=0.926]"
     ]
    },
    {
     "name": "stdout",
     "output_type": "stream",
     "text": [
      "✅ Loaded BraTS20_Training_250: Image torch.Size([3, 224, 224]), Mask torch.Size([224, 224])\n",
      "✅ Loaded BraTS20_Training_124: Image torch.Size([3, 224, 224]), Mask torch.Size([224, 224])\n"
     ]
    },
    {
     "name": "stderr",
     "output_type": "stream",
     "text": [
      "Epoch [7/15]:  47%|████▋     | 35/75 [00:14<00:16,  2.42it/s, Loss=0.793]"
     ]
    },
    {
     "name": "stdout",
     "output_type": "stream",
     "text": [
      "✅ Loaded BraTS20_Training_015: Image torch.Size([3, 224, 224]), Mask torch.Size([224, 224])\n",
      "✅ Loaded BraTS20_Training_224: Image torch.Size([3, 224, 224]), Mask torch.Size([224, 224])\n"
     ]
    },
    {
     "name": "stderr",
     "output_type": "stream",
     "text": [
      "Epoch [7/15]:  48%|████▊     | 36/75 [00:14<00:16,  2.42it/s, Loss=0.885]"
     ]
    },
    {
     "name": "stdout",
     "output_type": "stream",
     "text": [
      "✅ Loaded BraTS20_Training_110: Image torch.Size([3, 224, 224]), Mask torch.Size([224, 224])\n",
      "✅ Loaded BraTS20_Training_125: Image torch.Size([3, 224, 224]), Mask torch.Size([224, 224])\n"
     ]
    },
    {
     "name": "stderr",
     "output_type": "stream",
     "text": [
      "Epoch [7/15]:  49%|████▉     | 37/75 [00:15<00:15,  2.41it/s, Loss=0.888]"
     ]
    },
    {
     "name": "stdout",
     "output_type": "stream",
     "text": [
      "✅ Loaded BraTS20_Training_225: Image torch.Size([3, 224, 224]), Mask torch.Size([224, 224])\n",
      "✅ Loaded BraTS20_Training_201: Image torch.Size([3, 224, 224]), Mask torch.Size([224, 224])\n"
     ]
    },
    {
     "name": "stderr",
     "output_type": "stream",
     "text": [
      "Epoch [7/15]:  51%|█████     | 38/75 [00:15<00:15,  2.44it/s, Loss=0.864]"
     ]
    },
    {
     "name": "stdout",
     "output_type": "stream",
     "text": [
      "✅ Loaded BraTS20_Training_099: Image torch.Size([3, 224, 224]), Mask torch.Size([224, 224])\n",
      "✅ Loaded BraTS20_Training_089: Image torch.Size([3, 224, 224]), Mask torch.Size([224, 224])\n"
     ]
    },
    {
     "name": "stderr",
     "output_type": "stream",
     "text": [
      "Epoch [7/15]:  52%|█████▏    | 39/75 [00:16<00:14,  2.45it/s, Loss=0.96] "
     ]
    },
    {
     "name": "stdout",
     "output_type": "stream",
     "text": [
      "✅ Loaded BraTS20_Training_297: Image torch.Size([3, 224, 224]), Mask torch.Size([224, 224])\n",
      "✅ Loaded BraTS20_Training_019: Image torch.Size([3, 224, 224]), Mask torch.Size([224, 224])\n"
     ]
    },
    {
     "name": "stderr",
     "output_type": "stream",
     "text": [
      "Epoch [7/15]:  53%|█████▎    | 40/75 [00:16<00:14,  2.47it/s, Loss=0.961]"
     ]
    },
    {
     "name": "stdout",
     "output_type": "stream",
     "text": [
      "✅ Loaded BraTS20_Training_188: Image torch.Size([3, 224, 224]), Mask torch.Size([224, 224])\n",
      "✅ Loaded BraTS20_Training_147: Image torch.Size([3, 224, 224]), Mask torch.Size([224, 224])\n"
     ]
    },
    {
     "name": "stderr",
     "output_type": "stream",
     "text": [
      "Epoch [7/15]:  55%|█████▍    | 41/75 [00:16<00:13,  2.44it/s, Loss=1.1]  "
     ]
    },
    {
     "name": "stdout",
     "output_type": "stream",
     "text": [
      "✅ Loaded BraTS20_Training_183: Image torch.Size([3, 224, 224]), Mask torch.Size([224, 224])\n",
      "✅ Loaded BraTS20_Training_117: Image torch.Size([3, 224, 224]), Mask torch.Size([224, 224])\n"
     ]
    },
    {
     "name": "stderr",
     "output_type": "stream",
     "text": [
      "Epoch [7/15]:  56%|█████▌    | 42/75 [00:17<00:13,  2.44it/s, Loss=0.738]"
     ]
    },
    {
     "name": "stdout",
     "output_type": "stream",
     "text": [
      "✅ Loaded BraTS20_Training_237: Image torch.Size([3, 224, 224]), Mask torch.Size([224, 224])\n",
      "✅ Loaded BraTS20_Training_309: Image torch.Size([3, 224, 224]), Mask torch.Size([224, 224])\n"
     ]
    },
    {
     "name": "stderr",
     "output_type": "stream",
     "text": [
      "Epoch [7/15]:  57%|█████▋    | 43/75 [00:17<00:13,  2.46it/s, Loss=0.922]"
     ]
    },
    {
     "name": "stdout",
     "output_type": "stream",
     "text": [
      "✅ Loaded BraTS20_Training_358: Image torch.Size([3, 224, 224]), Mask torch.Size([224, 224])\n",
      "✅ Loaded BraTS20_Training_034: Image torch.Size([3, 224, 224]), Mask torch.Size([224, 224])\n"
     ]
    },
    {
     "name": "stderr",
     "output_type": "stream",
     "text": [
      "Epoch [7/15]:  59%|█████▊    | 44/75 [00:18<00:12,  2.41it/s, Loss=0.769]"
     ]
    },
    {
     "name": "stdout",
     "output_type": "stream",
     "text": [
      "✅ Loaded BraTS20_Training_260: Image torch.Size([3, 224, 224]), Mask torch.Size([224, 224])\n",
      "✅ Loaded BraTS20_Training_180: Image torch.Size([3, 224, 224]), Mask torch.Size([224, 224])\n"
     ]
    },
    {
     "name": "stderr",
     "output_type": "stream",
     "text": [
      "Epoch [7/15]:  60%|██████    | 45/75 [00:18<00:12,  2.43it/s, Loss=0.849]"
     ]
    },
    {
     "name": "stdout",
     "output_type": "stream",
     "text": [
      "✅ Loaded BraTS20_Training_203: Image torch.Size([3, 224, 224]), Mask torch.Size([224, 224])\n",
      "✅ Loaded BraTS20_Training_329: Image torch.Size([3, 224, 224]), Mask torch.Size([224, 224])\n"
     ]
    },
    {
     "name": "stderr",
     "output_type": "stream",
     "text": [
      "Epoch [7/15]:  61%|██████▏   | 46/75 [00:19<00:11,  2.46it/s, Loss=1.13] "
     ]
    },
    {
     "name": "stdout",
     "output_type": "stream",
     "text": [
      "✅ Loaded BraTS20_Training_131: Image torch.Size([3, 224, 224]), Mask torch.Size([224, 224])\n",
      "✅ Loaded BraTS20_Training_083: Image torch.Size([3, 224, 224]), Mask torch.Size([224, 224])\n"
     ]
    },
    {
     "name": "stderr",
     "output_type": "stream",
     "text": [
      "Epoch [7/15]:  63%|██████▎   | 47/75 [00:19<00:11,  2.46it/s, Loss=0.819]"
     ]
    },
    {
     "name": "stdout",
     "output_type": "stream",
     "text": [
      "✅ Loaded BraTS20_Training_073: Image torch.Size([3, 224, 224]), Mask torch.Size([224, 224])\n",
      "✅ Loaded BraTS20_Training_253: Image torch.Size([3, 224, 224]), Mask torch.Size([224, 224])\n"
     ]
    },
    {
     "name": "stderr",
     "output_type": "stream",
     "text": [
      "Epoch [7/15]:  64%|██████▍   | 48/75 [00:19<00:10,  2.47it/s, Loss=1.09] "
     ]
    },
    {
     "name": "stdout",
     "output_type": "stream",
     "text": [
      "✅ Loaded BraTS20_Training_227: Image torch.Size([3, 224, 224]), Mask torch.Size([224, 224])\n",
      "✅ Loaded BraTS20_Training_258: Image torch.Size([3, 224, 224]), Mask torch.Size([224, 224])\n"
     ]
    },
    {
     "name": "stderr",
     "output_type": "stream",
     "text": [
      "Epoch [7/15]:  65%|██████▌   | 49/75 [00:20<00:10,  2.49it/s, Loss=1.04]"
     ]
    },
    {
     "name": "stdout",
     "output_type": "stream",
     "text": [
      "✅ Loaded BraTS20_Training_242: Image torch.Size([3, 224, 224]), Mask torch.Size([224, 224])\n",
      "✅ Loaded BraTS20_Training_206: Image torch.Size([3, 224, 224]), Mask torch.Size([224, 224])\n"
     ]
    },
    {
     "name": "stderr",
     "output_type": "stream",
     "text": [
      "Epoch [7/15]:  67%|██████▋   | 50/75 [00:20<00:10,  2.49it/s, Loss=0.93]"
     ]
    },
    {
     "name": "stdout",
     "output_type": "stream",
     "text": [
      "✅ Loaded BraTS20_Training_279: Image torch.Size([3, 224, 224]), Mask torch.Size([224, 224])\n",
      "✅ Loaded BraTS20_Training_022: Image torch.Size([3, 224, 224]), Mask torch.Size([224, 224])\n"
     ]
    },
    {
     "name": "stderr",
     "output_type": "stream",
     "text": [
      "Epoch [7/15]:  68%|██████▊   | 51/75 [00:21<00:09,  2.49it/s, Loss=0.89]"
     ]
    },
    {
     "name": "stdout",
     "output_type": "stream",
     "text": [
      "✅ Loaded BraTS20_Training_149: Image torch.Size([3, 224, 224]), Mask torch.Size([224, 224])\n",
      "✅ Loaded BraTS20_Training_037: Image torch.Size([3, 224, 224]), Mask torch.Size([224, 224])\n"
     ]
    },
    {
     "name": "stderr",
     "output_type": "stream",
     "text": [
      "Epoch [7/15]:  69%|██████▉   | 52/75 [00:21<00:09,  2.50it/s, Loss=1.25]"
     ]
    },
    {
     "name": "stdout",
     "output_type": "stream",
     "text": [
      "✅ Loaded BraTS20_Training_008: Image torch.Size([3, 224, 224]), Mask torch.Size([224, 224])\n",
      "✅ Loaded BraTS20_Training_145: Image torch.Size([3, 224, 224]), Mask torch.Size([224, 224])\n"
     ]
    },
    {
     "name": "stderr",
     "output_type": "stream",
     "text": [
      "Epoch [7/15]:  71%|███████   | 53/75 [00:21<00:08,  2.49it/s, Loss=0.932]"
     ]
    },
    {
     "name": "stdout",
     "output_type": "stream",
     "text": [
      "✅ Loaded BraTS20_Training_259: Image torch.Size([3, 224, 224]), Mask torch.Size([224, 224])\n",
      "✅ Loaded BraTS20_Training_043: Image torch.Size([3, 224, 224]), Mask torch.Size([224, 224])\n"
     ]
    },
    {
     "name": "stderr",
     "output_type": "stream",
     "text": [
      "Epoch [7/15]:  72%|███████▏  | 54/75 [00:22<00:08,  2.47it/s, Loss=0.952]"
     ]
    },
    {
     "name": "stdout",
     "output_type": "stream",
     "text": [
      "✅ Loaded BraTS20_Training_150: Image torch.Size([3, 224, 224]), Mask torch.Size([224, 224])\n",
      "✅ Loaded BraTS20_Training_326: Image torch.Size([3, 224, 224]), Mask torch.Size([224, 224])\n"
     ]
    },
    {
     "name": "stderr",
     "output_type": "stream",
     "text": [
      "Epoch [7/15]:  73%|███████▎  | 55/75 [00:22<00:08,  2.46it/s, Loss=0.744]"
     ]
    },
    {
     "name": "stdout",
     "output_type": "stream",
     "text": [
      "✅ Loaded BraTS20_Training_289: Image torch.Size([3, 224, 224]), Mask torch.Size([224, 224])\n",
      "✅ Loaded BraTS20_Training_315: Image torch.Size([3, 224, 224]), Mask torch.Size([224, 224])\n"
     ]
    },
    {
     "name": "stderr",
     "output_type": "stream",
     "text": [
      "Epoch [7/15]:  75%|███████▍  | 56/75 [00:23<00:07,  2.45it/s, Loss=0.734]"
     ]
    },
    {
     "name": "stdout",
     "output_type": "stream",
     "text": [
      "✅ Loaded BraTS20_Training_280: Image torch.Size([3, 224, 224]), Mask torch.Size([224, 224])\n",
      "✅ Loaded BraTS20_Training_271: Image torch.Size([3, 224, 224]), Mask torch.Size([224, 224])\n"
     ]
    },
    {
     "name": "stderr",
     "output_type": "stream",
     "text": [
      "Epoch [7/15]:  76%|███████▌  | 57/75 [00:23<00:07,  2.47it/s, Loss=0.844]"
     ]
    },
    {
     "name": "stdout",
     "output_type": "stream",
     "text": [
      "✅ Loaded BraTS20_Training_217: Image torch.Size([3, 224, 224]), Mask torch.Size([224, 224])\n",
      "✅ Loaded BraTS20_Training_270: Image torch.Size([3, 224, 224]), Mask torch.Size([224, 224])\n"
     ]
    },
    {
     "name": "stderr",
     "output_type": "stream",
     "text": [
      "Epoch [7/15]:  77%|███████▋  | 58/75 [00:23<00:06,  2.45it/s, Loss=0.831]"
     ]
    },
    {
     "name": "stdout",
     "output_type": "stream",
     "text": [
      "✅ Loaded BraTS20_Training_360: Image torch.Size([3, 224, 224]), Mask torch.Size([224, 224])\n",
      "✅ Loaded BraTS20_Training_105: Image torch.Size([3, 224, 224]), Mask torch.Size([224, 224])\n"
     ]
    },
    {
     "name": "stderr",
     "output_type": "stream",
     "text": [
      "Epoch [7/15]:  79%|███████▊  | 59/75 [00:24<00:06,  2.43it/s, Loss=0.951]"
     ]
    },
    {
     "name": "stdout",
     "output_type": "stream",
     "text": [
      "✅ Loaded BraTS20_Training_087: Image torch.Size([3, 224, 224]), Mask torch.Size([224, 224])\n",
      "✅ Loaded BraTS20_Training_121: Image torch.Size([3, 224, 224]), Mask torch.Size([224, 224])\n"
     ]
    },
    {
     "name": "stderr",
     "output_type": "stream",
     "text": [
      "Epoch [7/15]:  80%|████████  | 60/75 [00:24<00:06,  2.43it/s, Loss=0.915]"
     ]
    },
    {
     "name": "stdout",
     "output_type": "stream",
     "text": [
      "✅ Loaded BraTS20_Training_186: Image torch.Size([3, 224, 224]), Mask torch.Size([224, 224])\n",
      "✅ Loaded BraTS20_Training_244: Image torch.Size([3, 224, 224]), Mask torch.Size([224, 224])\n"
     ]
    },
    {
     "name": "stderr",
     "output_type": "stream",
     "text": [
      "Epoch [7/15]:  81%|████████▏ | 61/75 [00:25<00:05,  2.45it/s, Loss=0.859]"
     ]
    },
    {
     "name": "stdout",
     "output_type": "stream",
     "text": [
      "✅ Loaded BraTS20_Training_220: Image torch.Size([3, 224, 224]), Mask torch.Size([224, 224])\n",
      "✅ Loaded BraTS20_Training_255: Image torch.Size([3, 224, 224]), Mask torch.Size([224, 224])\n"
     ]
    },
    {
     "name": "stderr",
     "output_type": "stream",
     "text": [
      "Epoch [7/15]:  83%|████████▎ | 62/75 [00:25<00:05,  2.43it/s, Loss=1.05] "
     ]
    },
    {
     "name": "stdout",
     "output_type": "stream",
     "text": [
      "✅ Loaded BraTS20_Training_080: Image torch.Size([3, 224, 224]), Mask torch.Size([224, 224])\n",
      "✅ Loaded BraTS20_Training_248: Image torch.Size([3, 224, 224]), Mask torch.Size([224, 224])\n"
     ]
    },
    {
     "name": "stderr",
     "output_type": "stream",
     "text": [
      "Epoch [7/15]:  84%|████████▍ | 63/75 [00:25<00:04,  2.45it/s, Loss=0.992]"
     ]
    },
    {
     "name": "stdout",
     "output_type": "stream",
     "text": [
      "✅ Loaded BraTS20_Training_025: Image torch.Size([3, 224, 224]), Mask torch.Size([224, 224])\n",
      "✅ Loaded BraTS20_Training_268: Image torch.Size([3, 224, 224]), Mask torch.Size([224, 224])\n"
     ]
    },
    {
     "name": "stderr",
     "output_type": "stream",
     "text": [
      "Epoch [7/15]:  85%|████████▌ | 64/75 [00:26<00:04,  2.43it/s, Loss=0.968]"
     ]
    },
    {
     "name": "stdout",
     "output_type": "stream",
     "text": [
      "✅ Loaded BraTS20_Training_230: Image torch.Size([3, 224, 224]), Mask torch.Size([224, 224])\n",
      "✅ Loaded BraTS20_Training_061: Image torch.Size([3, 224, 224]), Mask torch.Size([224, 224])\n"
     ]
    },
    {
     "name": "stderr",
     "output_type": "stream",
     "text": [
      "Epoch [7/15]:  87%|████████▋ | 65/75 [00:26<00:04,  2.42it/s, Loss=0.918]"
     ]
    },
    {
     "name": "stdout",
     "output_type": "stream",
     "text": [
      "✅ Loaded BraTS20_Training_282: Image torch.Size([3, 224, 224]), Mask torch.Size([224, 224])\n",
      "✅ Loaded BraTS20_Training_042: Image torch.Size([3, 224, 224]), Mask torch.Size([224, 224])\n"
     ]
    },
    {
     "name": "stderr",
     "output_type": "stream",
     "text": [
      "Epoch [7/15]:  88%|████████▊ | 66/75 [00:27<00:03,  2.42it/s, Loss=0.737]"
     ]
    },
    {
     "name": "stdout",
     "output_type": "stream",
     "text": [
      "✅ Loaded BraTS20_Training_245: Image torch.Size([3, 224, 224]), Mask torch.Size([224, 224])\n",
      "✅ Loaded BraTS20_Training_213: Image torch.Size([3, 224, 224]), Mask torch.Size([224, 224])\n"
     ]
    },
    {
     "name": "stderr",
     "output_type": "stream",
     "text": [
      "Epoch [7/15]:  89%|████████▉ | 67/75 [00:27<00:03,  2.40it/s, Loss=0.801]"
     ]
    },
    {
     "name": "stdout",
     "output_type": "stream",
     "text": [
      "✅ Loaded BraTS20_Training_023: Image torch.Size([3, 224, 224]), Mask torch.Size([224, 224])\n",
      "✅ Loaded BraTS20_Training_069: Image torch.Size([3, 224, 224]), Mask torch.Size([224, 224])\n"
     ]
    },
    {
     "name": "stderr",
     "output_type": "stream",
     "text": [
      "Epoch [7/15]:  91%|█████████ | 68/75 [00:28<00:02,  2.42it/s, Loss=0.885]"
     ]
    },
    {
     "name": "stdout",
     "output_type": "stream",
     "text": [
      "✅ Loaded BraTS20_Training_166: Image torch.Size([3, 224, 224]), Mask torch.Size([224, 224])\n",
      "✅ Loaded BraTS20_Training_267: Image torch.Size([3, 224, 224]), Mask torch.Size([224, 224])\n"
     ]
    },
    {
     "name": "stderr",
     "output_type": "stream",
     "text": [
      "Epoch [7/15]:  92%|█████████▏| 69/75 [00:28<00:02,  2.32it/s, Loss=0.831]"
     ]
    },
    {
     "name": "stdout",
     "output_type": "stream",
     "text": [
      "✅ Loaded BraTS20_Training_129: Image torch.Size([3, 224, 224]), Mask torch.Size([224, 224])\n",
      "✅ Loaded BraTS20_Training_257: Image torch.Size([3, 224, 224]), Mask torch.Size([224, 224])\n"
     ]
    },
    {
     "name": "stderr",
     "output_type": "stream",
     "text": [
      "Epoch [7/15]:  93%|█████████▎| 70/75 [00:28<00:02,  2.31it/s, Loss=0.868]"
     ]
    },
    {
     "name": "stdout",
     "output_type": "stream",
     "text": [
      "✅ Loaded BraTS20_Training_164: Image torch.Size([3, 224, 224]), Mask torch.Size([224, 224])\n",
      "✅ Loaded BraTS20_Training_001: Image torch.Size([3, 224, 224]), Mask torch.Size([224, 224])\n"
     ]
    },
    {
     "name": "stderr",
     "output_type": "stream",
     "text": [
      "Epoch [7/15]:  95%|█████████▍| 71/75 [00:29<00:01,  2.36it/s, Loss=0.85] "
     ]
    },
    {
     "name": "stdout",
     "output_type": "stream",
     "text": [
      "✅ Loaded BraTS20_Training_277: Image torch.Size([3, 224, 224]), Mask torch.Size([224, 224])\n",
      "✅ Loaded BraTS20_Training_226: Image torch.Size([3, 224, 224]), Mask torch.Size([224, 224])\n"
     ]
    },
    {
     "name": "stderr",
     "output_type": "stream",
     "text": [
      "Epoch [7/15]:  96%|█████████▌| 72/75 [00:29<00:01,  2.40it/s, Loss=0.937]"
     ]
    },
    {
     "name": "stdout",
     "output_type": "stream",
     "text": [
      "✅ Loaded BraTS20_Training_072: Image torch.Size([3, 224, 224]), Mask torch.Size([224, 224])\n",
      "✅ Loaded BraTS20_Training_198: Image torch.Size([3, 224, 224]), Mask torch.Size([224, 224])\n"
     ]
    },
    {
     "name": "stderr",
     "output_type": "stream",
     "text": [
      "Epoch [7/15]:  97%|█████████▋| 73/75 [00:30<00:00,  2.42it/s, Loss=0.849]"
     ]
    },
    {
     "name": "stdout",
     "output_type": "stream",
     "text": [
      "✅ Loaded BraTS20_Training_195: Image torch.Size([3, 224, 224]), Mask torch.Size([224, 224])\n",
      "✅ Loaded BraTS20_Training_158: Image torch.Size([3, 224, 224]), Mask torch.Size([224, 224])\n"
     ]
    },
    {
     "name": "stderr",
     "output_type": "stream",
     "text": [
      "Epoch [7/15]:  99%|█████████▊| 74/75 [00:30<00:00,  2.41it/s, Loss=0.91] "
     ]
    },
    {
     "name": "stdout",
     "output_type": "stream",
     "text": [
      "✅ Loaded BraTS20_Training_143: Image torch.Size([3, 224, 224]), Mask torch.Size([224, 224])\n",
      "✅ Loaded BraTS20_Training_299: Image torch.Size([3, 224, 224]), Mask torch.Size([224, 224])\n"
     ]
    },
    {
     "name": "stderr",
     "output_type": "stream",
     "text": [
      "                                                                        \r"
     ]
    },
    {
     "name": "stdout",
     "output_type": "stream",
     "text": [
      "\n",
      "✅ Epoch 7: Train Loss: 0.9016\n",
      "💾 Saved model at epoch 7 with train loss 0.9016\n"
     ]
    },
    {
     "name": "stderr",
     "output_type": "stream",
     "text": [
      "Epoch [8/15]:   0%|          | 0/75 [00:00<?, ?it/s]"
     ]
    },
    {
     "name": "stdout",
     "output_type": "stream",
     "text": [
      "✅ Loaded BraTS20_Training_280: Image torch.Size([3, 224, 224]), Mask torch.Size([224, 224])\n",
      "✅ Loaded BraTS20_Training_318: Image torch.Size([3, 224, 224]), Mask torch.Size([224, 224])\n"
     ]
    },
    {
     "name": "stderr",
     "output_type": "stream",
     "text": [
      "Epoch [8/15]:   1%|▏         | 1/75 [00:00<00:30,  2.39it/s, Loss=1]"
     ]
    },
    {
     "name": "stdout",
     "output_type": "stream",
     "text": [
      "✅ Loaded BraTS20_Training_369: Image torch.Size([3, 224, 224]), Mask torch.Size([224, 224])\n",
      "✅ Loaded BraTS20_Training_206: Image torch.Size([3, 224, 224]), Mask torch.Size([224, 224])\n"
     ]
    },
    {
     "name": "stderr",
     "output_type": "stream",
     "text": [
      "Epoch [8/15]:   3%|▎         | 2/75 [00:00<00:30,  2.41it/s, Loss=0.952]"
     ]
    },
    {
     "name": "stdout",
     "output_type": "stream",
     "text": [
      "✅ Loaded BraTS20_Training_073: Image torch.Size([3, 224, 224]), Mask torch.Size([224, 224])\n",
      "✅ Loaded BraTS20_Training_332: Image torch.Size([3, 224, 224]), Mask torch.Size([224, 224])\n"
     ]
    },
    {
     "name": "stderr",
     "output_type": "stream",
     "text": [
      "Epoch [8/15]:   4%|▍         | 3/75 [00:01<00:29,  2.48it/s, Loss=0.817]"
     ]
    },
    {
     "name": "stdout",
     "output_type": "stream",
     "text": [
      "✅ Loaded BraTS20_Training_129: Image torch.Size([3, 224, 224]), Mask torch.Size([224, 224])\n",
      "✅ Loaded BraTS20_Training_277: Image torch.Size([3, 224, 224]), Mask torch.Size([224, 224])\n"
     ]
    },
    {
     "name": "stderr",
     "output_type": "stream",
     "text": [
      "Epoch [8/15]:   5%|▌         | 4/75 [00:01<00:28,  2.46it/s, Loss=0.889]"
     ]
    },
    {
     "name": "stdout",
     "output_type": "stream",
     "text": [
      "✅ Loaded BraTS20_Training_224: Image torch.Size([3, 224, 224]), Mask torch.Size([224, 224])\n",
      "✅ Loaded BraTS20_Training_151: Image torch.Size([3, 224, 224]), Mask torch.Size([224, 224])\n"
     ]
    },
    {
     "name": "stderr",
     "output_type": "stream",
     "text": [
      "Epoch [8/15]:   7%|▋         | 5/75 [00:02<00:27,  2.51it/s, Loss=0.879]"
     ]
    },
    {
     "name": "stdout",
     "output_type": "stream",
     "text": [
      "✅ Loaded BraTS20_Training_267: Image torch.Size([3, 224, 224]), Mask torch.Size([224, 224])\n",
      "✅ Loaded BraTS20_Training_106: Image torch.Size([3, 224, 224]), Mask torch.Size([224, 224])\n"
     ]
    },
    {
     "name": "stderr",
     "output_type": "stream",
     "text": [
      "Epoch [8/15]:   8%|▊         | 6/75 [00:02<00:27,  2.47it/s, Loss=0.84] "
     ]
    },
    {
     "name": "stdout",
     "output_type": "stream",
     "text": [
      "✅ Loaded BraTS20_Training_021: Image torch.Size([3, 224, 224]), Mask torch.Size([224, 224])\n",
      "✅ Loaded BraTS20_Training_132: Image torch.Size([3, 224, 224]), Mask torch.Size([224, 224])\n"
     ]
    },
    {
     "name": "stderr",
     "output_type": "stream",
     "text": [
      "Epoch [8/15]:   9%|▉         | 7/75 [00:02<00:27,  2.47it/s, Loss=0.713]"
     ]
    },
    {
     "name": "stdout",
     "output_type": "stream",
     "text": [
      "✅ Loaded BraTS20_Training_072: Image torch.Size([3, 224, 224]), Mask torch.Size([224, 224])\n",
      "✅ Loaded BraTS20_Training_036: Image torch.Size([3, 224, 224]), Mask torch.Size([224, 224])\n"
     ]
    },
    {
     "name": "stderr",
     "output_type": "stream",
     "text": [
      "Epoch [8/15]:  11%|█         | 8/75 [00:03<00:26,  2.52it/s, Loss=0.832]"
     ]
    },
    {
     "name": "stdout",
     "output_type": "stream",
     "text": [
      "✅ Loaded BraTS20_Training_279: Image torch.Size([3, 224, 224]), Mask torch.Size([224, 224])\n",
      "✅ Loaded BraTS20_Training_143: Image torch.Size([3, 224, 224]), Mask torch.Size([224, 224])\n"
     ]
    },
    {
     "name": "stderr",
     "output_type": "stream",
     "text": [
      "Epoch [8/15]:  12%|█▏        | 9/75 [00:03<00:26,  2.50it/s, Loss=1.14] "
     ]
    },
    {
     "name": "stdout",
     "output_type": "stream",
     "text": [
      "✅ Loaded BraTS20_Training_258: Image torch.Size([3, 224, 224]), Mask torch.Size([224, 224])\n",
      "✅ Loaded BraTS20_Training_268: Image torch.Size([3, 224, 224]), Mask torch.Size([224, 224])\n"
     ]
    },
    {
     "name": "stderr",
     "output_type": "stream",
     "text": [
      "Epoch [8/15]:  13%|█▎        | 10/75 [00:04<00:26,  2.48it/s, Loss=0.83]"
     ]
    },
    {
     "name": "stdout",
     "output_type": "stream",
     "text": [
      "✅ Loaded BraTS20_Training_057: Image torch.Size([3, 224, 224]), Mask torch.Size([224, 224])\n",
      "✅ Loaded BraTS20_Training_061: Image torch.Size([3, 224, 224]), Mask torch.Size([224, 224])\n"
     ]
    },
    {
     "name": "stderr",
     "output_type": "stream",
     "text": [
      "Epoch [8/15]:  15%|█▍        | 11/75 [00:04<00:25,  2.49it/s, Loss=0.904]"
     ]
    },
    {
     "name": "stdout",
     "output_type": "stream",
     "text": [
      "✅ Loaded BraTS20_Training_155: Image torch.Size([3, 224, 224]), Mask torch.Size([224, 224])\n",
      "✅ Loaded BraTS20_Training_099: Image torch.Size([3, 224, 224]), Mask torch.Size([224, 224])\n"
     ]
    },
    {
     "name": "stderr",
     "output_type": "stream",
     "text": [
      "Epoch [8/15]:  16%|█▌        | 12/75 [00:04<00:25,  2.48it/s, Loss=0.697]"
     ]
    },
    {
     "name": "stdout",
     "output_type": "stream",
     "text": [
      "✅ Loaded BraTS20_Training_166: Image torch.Size([3, 224, 224]), Mask torch.Size([224, 224])\n",
      "✅ Loaded BraTS20_Training_064: Image torch.Size([3, 224, 224]), Mask torch.Size([224, 224])\n"
     ]
    },
    {
     "name": "stderr",
     "output_type": "stream",
     "text": [
      "Epoch [8/15]:  17%|█▋        | 13/75 [00:05<00:24,  2.50it/s, Loss=0.721]"
     ]
    },
    {
     "name": "stdout",
     "output_type": "stream",
     "text": [
      "✅ Loaded BraTS20_Training_248: Image torch.Size([3, 224, 224]), Mask torch.Size([224, 224])\n",
      "✅ Loaded BraTS20_Training_077: Image torch.Size([3, 224, 224]), Mask torch.Size([224, 224])\n"
     ]
    },
    {
     "name": "stderr",
     "output_type": "stream",
     "text": [
      "Epoch [8/15]:  19%|█▊        | 14/75 [00:05<00:24,  2.49it/s, Loss=0.751]"
     ]
    },
    {
     "name": "stdout",
     "output_type": "stream",
     "text": [
      "✅ Loaded BraTS20_Training_105: Image torch.Size([3, 224, 224]), Mask torch.Size([224, 224])\n",
      "✅ Loaded BraTS20_Training_245: Image torch.Size([3, 224, 224]), Mask torch.Size([224, 224])\n"
     ]
    },
    {
     "name": "stderr",
     "output_type": "stream",
     "text": [
      "Epoch [8/15]:  20%|██        | 15/75 [00:06<00:24,  2.46it/s, Loss=0.809]"
     ]
    },
    {
     "name": "stdout",
     "output_type": "stream",
     "text": [
      "✅ Loaded BraTS20_Training_242: Image torch.Size([3, 224, 224]), Mask torch.Size([224, 224])\n",
      "✅ Loaded BraTS20_Training_250: Image torch.Size([3, 224, 224]), Mask torch.Size([224, 224])\n"
     ]
    },
    {
     "name": "stderr",
     "output_type": "stream",
     "text": [
      "Epoch [8/15]:  21%|██▏       | 16/75 [00:06<00:24,  2.45it/s, Loss=0.885]"
     ]
    },
    {
     "name": "stdout",
     "output_type": "stream",
     "text": [
      "✅ Loaded BraTS20_Training_033: Image torch.Size([3, 224, 224]), Mask torch.Size([224, 224])\n",
      "✅ Loaded BraTS20_Training_239: Image torch.Size([3, 224, 224]), Mask torch.Size([224, 224])\n"
     ]
    },
    {
     "name": "stderr",
     "output_type": "stream",
     "text": [
      "Epoch [8/15]:  23%|██▎       | 17/75 [00:06<00:23,  2.46it/s, Loss=0.913]"
     ]
    },
    {
     "name": "stdout",
     "output_type": "stream",
     "text": [
      "✅ Loaded BraTS20_Training_299: Image torch.Size([3, 224, 224]), Mask torch.Size([224, 224])\n",
      "✅ Loaded BraTS20_Training_244: Image torch.Size([3, 224, 224]), Mask torch.Size([224, 224])\n"
     ]
    },
    {
     "name": "stderr",
     "output_type": "stream",
     "text": [
      "Epoch [8/15]:  24%|██▍       | 18/75 [00:07<00:23,  2.45it/s, Loss=0.788]"
     ]
    },
    {
     "name": "stdout",
     "output_type": "stream",
     "text": [
      "✅ Loaded BraTS20_Training_271: Image torch.Size([3, 224, 224]), Mask torch.Size([224, 224])\n",
      "✅ Loaded BraTS20_Training_326: Image torch.Size([3, 224, 224]), Mask torch.Size([224, 224])\n"
     ]
    },
    {
     "name": "stderr",
     "output_type": "stream",
     "text": [
      "Epoch [8/15]:  25%|██▌       | 19/75 [00:07<00:23,  2.43it/s, Loss=0.887]"
     ]
    },
    {
     "name": "stdout",
     "output_type": "stream",
     "text": [
      "✅ Loaded BraTS20_Training_289: Image torch.Size([3, 224, 224]), Mask torch.Size([224, 224])\n",
      "✅ Loaded BraTS20_Training_145: Image torch.Size([3, 224, 224]), Mask torch.Size([224, 224])\n"
     ]
    },
    {
     "name": "stderr",
     "output_type": "stream",
     "text": [
      "Epoch [8/15]:  27%|██▋       | 20/75 [00:08<00:22,  2.45it/s, Loss=0.745]"
     ]
    },
    {
     "name": "stdout",
     "output_type": "stream",
     "text": [
      "✅ Loaded BraTS20_Training_022: Image torch.Size([3, 224, 224]), Mask torch.Size([224, 224])\n",
      "✅ Loaded BraTS20_Training_087: Image torch.Size([3, 224, 224]), Mask torch.Size([224, 224])\n"
     ]
    },
    {
     "name": "stderr",
     "output_type": "stream",
     "text": [
      "Epoch [8/15]:  28%|██▊       | 21/75 [00:08<00:22,  2.43it/s, Loss=0.837]"
     ]
    },
    {
     "name": "stdout",
     "output_type": "stream",
     "text": [
      "✅ Loaded BraTS20_Training_193: Image torch.Size([3, 224, 224]), Mask torch.Size([224, 224])\n",
      "✅ Loaded BraTS20_Training_230: Image torch.Size([3, 224, 224]), Mask torch.Size([224, 224])\n"
     ]
    },
    {
     "name": "stderr",
     "output_type": "stream",
     "text": [
      "Epoch [8/15]:  29%|██▉       | 22/75 [00:08<00:21,  2.45it/s, Loss=0.717]"
     ]
    },
    {
     "name": "stdout",
     "output_type": "stream",
     "text": [
      "✅ Loaded BraTS20_Training_056: Image torch.Size([3, 224, 224]), Mask torch.Size([224, 224])\n",
      "✅ Loaded BraTS20_Training_282: Image torch.Size([3, 224, 224]), Mask torch.Size([224, 224])\n"
     ]
    },
    {
     "name": "stderr",
     "output_type": "stream",
     "text": [
      "Epoch [8/15]:  31%|███       | 23/75 [00:09<00:21,  2.45it/s, Loss=0.722]"
     ]
    },
    {
     "name": "stdout",
     "output_type": "stream",
     "text": [
      "✅ Loaded BraTS20_Training_297: Image torch.Size([3, 224, 224]), Mask torch.Size([224, 224])\n",
      "✅ Loaded BraTS20_Training_149: Image torch.Size([3, 224, 224]), Mask torch.Size([224, 224])\n"
     ]
    },
    {
     "name": "stderr",
     "output_type": "stream",
     "text": [
      "Epoch [8/15]:  32%|███▏      | 24/75 [00:09<00:20,  2.45it/s, Loss=1.01] "
     ]
    },
    {
     "name": "stdout",
     "output_type": "stream",
     "text": [
      "✅ Loaded BraTS20_Training_312: Image torch.Size([3, 224, 224]), Mask torch.Size([224, 224])\n",
      "✅ Loaded BraTS20_Training_345: Image torch.Size([3, 224, 224]), Mask torch.Size([224, 224])\n"
     ]
    },
    {
     "name": "stderr",
     "output_type": "stream",
     "text": [
      "Epoch [8/15]:  33%|███▎      | 25/75 [00:10<00:20,  2.43it/s, Loss=0.875]"
     ]
    },
    {
     "name": "stdout",
     "output_type": "stream",
     "text": [
      "✅ Loaded BraTS20_Training_092: Image torch.Size([3, 224, 224]), Mask torch.Size([224, 224])\n",
      "✅ Loaded BraTS20_Training_188: Image torch.Size([3, 224, 224]), Mask torch.Size([224, 224])\n"
     ]
    },
    {
     "name": "stderr",
     "output_type": "stream",
     "text": [
      "Epoch [8/15]:  35%|███▍      | 26/75 [00:10<00:20,  2.43it/s, Loss=0.794]"
     ]
    },
    {
     "name": "stdout",
     "output_type": "stream",
     "text": [
      "✅ Loaded BraTS20_Training_358: Image torch.Size([3, 224, 224]), Mask torch.Size([224, 224])\n",
      "✅ Loaded BraTS20_Training_329: Image torch.Size([3, 224, 224]), Mask torch.Size([224, 224])\n"
     ]
    },
    {
     "name": "stderr",
     "output_type": "stream",
     "text": [
      "Epoch [8/15]:  36%|███▌      | 27/75 [00:10<00:19,  2.42it/s, Loss=0.79] "
     ]
    },
    {
     "name": "stdout",
     "output_type": "stream",
     "text": [
      "✅ Loaded BraTS20_Training_353: Image torch.Size([3, 224, 224]), Mask torch.Size([224, 224])\n",
      "✅ Loaded BraTS20_Training_198: Image torch.Size([3, 224, 224]), Mask torch.Size([224, 224])\n"
     ]
    },
    {
     "name": "stderr",
     "output_type": "stream",
     "text": [
      "Epoch [8/15]:  37%|███▋      | 28/75 [00:11<00:19,  2.41it/s, Loss=0.909]"
     ]
    },
    {
     "name": "stdout",
     "output_type": "stream",
     "text": [
      "✅ Loaded BraTS20_Training_228: Image torch.Size([3, 224, 224]), Mask torch.Size([224, 224])\n",
      "✅ Loaded BraTS20_Training_260: Image torch.Size([3, 224, 224]), Mask torch.Size([224, 224])\n"
     ]
    },
    {
     "name": "stderr",
     "output_type": "stream",
     "text": [
      "Epoch [8/15]:  39%|███▊      | 29/75 [00:11<00:19,  2.41it/s, Loss=0.915]"
     ]
    },
    {
     "name": "stdout",
     "output_type": "stream",
     "text": [
      "✅ Loaded BraTS20_Training_024: Image torch.Size([3, 224, 224]), Mask torch.Size([224, 224])\n",
      "✅ Loaded BraTS20_Training_308: Image torch.Size([3, 224, 224]), Mask torch.Size([224, 224])\n"
     ]
    },
    {
     "name": "stderr",
     "output_type": "stream",
     "text": [
      "Epoch [8/15]:  40%|████      | 30/75 [00:12<00:18,  2.44it/s, Loss=0.691]"
     ]
    },
    {
     "name": "stdout",
     "output_type": "stream",
     "text": [
      "✅ Loaded BraTS20_Training_125: Image torch.Size([3, 224, 224]), Mask torch.Size([224, 224])\n",
      "✅ Loaded BraTS20_Training_123: Image torch.Size([3, 224, 224]), Mask torch.Size([224, 224])\n"
     ]
    },
    {
     "name": "stderr",
     "output_type": "stream",
     "text": [
      "Epoch [8/15]:  41%|████▏     | 31/75 [00:12<00:18,  2.43it/s, Loss=0.689]"
     ]
    },
    {
     "name": "stdout",
     "output_type": "stream",
     "text": [
      "✅ Loaded BraTS20_Training_060: Image torch.Size([3, 224, 224]), Mask torch.Size([224, 224])\n",
      "✅ Loaded BraTS20_Training_309: Image torch.Size([3, 224, 224]), Mask torch.Size([224, 224])\n"
     ]
    },
    {
     "name": "stderr",
     "output_type": "stream",
     "text": [
      "Epoch [8/15]:  43%|████▎     | 32/75 [00:13<00:17,  2.42it/s, Loss=0.834]"
     ]
    },
    {
     "name": "stdout",
     "output_type": "stream",
     "text": [
      "✅ Loaded BraTS20_Training_053: Image torch.Size([3, 224, 224]), Mask torch.Size([224, 224])\n",
      "✅ Loaded BraTS20_Training_069: Image torch.Size([3, 224, 224]), Mask torch.Size([224, 224])\n"
     ]
    },
    {
     "name": "stderr",
     "output_type": "stream",
     "text": [
      "Epoch [8/15]:  44%|████▍     | 33/75 [00:13<00:17,  2.42it/s, Loss=0.808]"
     ]
    },
    {
     "name": "stdout",
     "output_type": "stream",
     "text": [
      "✅ Loaded BraTS20_Training_227: Image torch.Size([3, 224, 224]), Mask torch.Size([224, 224])\n",
      "✅ Loaded BraTS20_Training_019: Image torch.Size([3, 224, 224]), Mask torch.Size([224, 224])\n"
     ]
    },
    {
     "name": "stderr",
     "output_type": "stream",
     "text": [
      "Epoch [8/15]:  45%|████▌     | 34/75 [00:13<00:16,  2.44it/s, Loss=0.912]"
     ]
    },
    {
     "name": "stdout",
     "output_type": "stream",
     "text": [
      "✅ Loaded BraTS20_Training_096: Image torch.Size([3, 224, 224]), Mask torch.Size([224, 224])\n",
      "✅ Loaded BraTS20_Training_124: Image torch.Size([3, 224, 224]), Mask torch.Size([224, 224])\n"
     ]
    },
    {
     "name": "stderr",
     "output_type": "stream",
     "text": [
      "Epoch [8/15]:  47%|████▋     | 35/75 [00:14<00:16,  2.45it/s, Loss=0.743]"
     ]
    },
    {
     "name": "stdout",
     "output_type": "stream",
     "text": [
      "✅ Loaded BraTS20_Training_034: Image torch.Size([3, 224, 224]), Mask torch.Size([224, 224])\n",
      "✅ Loaded BraTS20_Training_348: Image torch.Size([3, 224, 224]), Mask torch.Size([224, 224])\n"
     ]
    },
    {
     "name": "stderr",
     "output_type": "stream",
     "text": [
      "Epoch [8/15]:  48%|████▊     | 36/75 [00:14<00:16,  2.41it/s, Loss=0.776]"
     ]
    },
    {
     "name": "stdout",
     "output_type": "stream",
     "text": [
      "✅ Loaded BraTS20_Training_032: Image torch.Size([3, 224, 224]), Mask torch.Size([224, 224])\n",
      "✅ Loaded BraTS20_Training_278: Image torch.Size([3, 224, 224]), Mask torch.Size([224, 224])\n"
     ]
    },
    {
     "name": "stderr",
     "output_type": "stream",
     "text": [
      "Epoch [8/15]:  49%|████▉     | 37/75 [00:15<00:15,  2.43it/s, Loss=0.842]"
     ]
    },
    {
     "name": "stdout",
     "output_type": "stream",
     "text": [
      "✅ Loaded BraTS20_Training_226: Image torch.Size([3, 224, 224]), Mask torch.Size([224, 224])\n",
      "✅ Loaded BraTS20_Training_261: Image torch.Size([3, 224, 224]), Mask torch.Size([224, 224])\n"
     ]
    },
    {
     "name": "stderr",
     "output_type": "stream",
     "text": [
      "Epoch [8/15]:  51%|█████     | 38/75 [00:15<00:15,  2.43it/s, Loss=0.798]"
     ]
    },
    {
     "name": "stdout",
     "output_type": "stream",
     "text": [
      "✅ Loaded BraTS20_Training_339: Image torch.Size([3, 224, 224]), Mask torch.Size([224, 224])\n",
      "✅ Loaded BraTS20_Training_275: Image torch.Size([3, 224, 224]), Mask torch.Size([224, 224])\n"
     ]
    },
    {
     "name": "stderr",
     "output_type": "stream",
     "text": [
      "Epoch [8/15]:  52%|█████▏    | 39/75 [00:15<00:14,  2.41it/s, Loss=0.811]"
     ]
    },
    {
     "name": "stdout",
     "output_type": "stream",
     "text": [
      "✅ Loaded BraTS20_Training_195: Image torch.Size([3, 224, 224]), Mask torch.Size([224, 224])\n",
      "✅ Loaded BraTS20_Training_148: Image torch.Size([3, 224, 224]), Mask torch.Size([224, 224])\n"
     ]
    },
    {
     "name": "stderr",
     "output_type": "stream",
     "text": [
      "Epoch [8/15]:  53%|█████▎    | 40/75 [00:16<00:14,  2.41it/s, Loss=0.735]"
     ]
    },
    {
     "name": "stdout",
     "output_type": "stream",
     "text": [
      "✅ Loaded BraTS20_Training_037: Image torch.Size([3, 224, 224]), Mask torch.Size([224, 224])\n",
      "✅ Loaded BraTS20_Training_131: Image torch.Size([3, 224, 224]), Mask torch.Size([224, 224])\n"
     ]
    },
    {
     "name": "stderr",
     "output_type": "stream",
     "text": [
      "Epoch [8/15]:  55%|█████▍    | 41/75 [00:16<00:14,  2.41it/s, Loss=0.925]"
     ]
    },
    {
     "name": "stdout",
     "output_type": "stream",
     "text": [
      "✅ Loaded BraTS20_Training_225: Image torch.Size([3, 224, 224]), Mask torch.Size([224, 224])\n",
      "✅ Loaded BraTS20_Training_262: Image torch.Size([3, 224, 224]), Mask torch.Size([224, 224])\n"
     ]
    },
    {
     "name": "stderr",
     "output_type": "stream",
     "text": [
      "Epoch [8/15]:  56%|█████▌    | 42/75 [00:17<00:13,  2.43it/s, Loss=0.824]"
     ]
    },
    {
     "name": "stdout",
     "output_type": "stream",
     "text": [
      "✅ Loaded BraTS20_Training_294: Image torch.Size([3, 224, 224]), Mask torch.Size([224, 224])\n",
      "✅ Loaded BraTS20_Training_093: Image torch.Size([3, 224, 224]), Mask torch.Size([224, 224])\n"
     ]
    },
    {
     "name": "stderr",
     "output_type": "stream",
     "text": [
      "Epoch [8/15]:  57%|█████▋    | 43/75 [00:17<00:13,  2.41it/s, Loss=0.732]"
     ]
    },
    {
     "name": "stdout",
     "output_type": "stream",
     "text": [
      "✅ Loaded BraTS20_Training_158: Image torch.Size([3, 224, 224]), Mask torch.Size([224, 224])\n",
      "✅ Loaded BraTS20_Training_336: Image torch.Size([3, 224, 224]), Mask torch.Size([224, 224])\n"
     ]
    },
    {
     "name": "stderr",
     "output_type": "stream",
     "text": [
      "Epoch [8/15]:  59%|█████▊    | 44/75 [00:18<00:12,  2.39it/s, Loss=0.691]"
     ]
    },
    {
     "name": "stdout",
     "output_type": "stream",
     "text": [
      "✅ Loaded BraTS20_Training_237: Image torch.Size([3, 224, 224]), Mask torch.Size([224, 224])\n",
      "✅ Loaded BraTS20_Training_150: Image torch.Size([3, 224, 224]), Mask torch.Size([224, 224])\n"
     ]
    },
    {
     "name": "stderr",
     "output_type": "stream",
     "text": [
      "Epoch [8/15]:  60%|██████    | 45/75 [00:18<00:12,  2.39it/s, Loss=0.747]"
     ]
    },
    {
     "name": "stdout",
     "output_type": "stream",
     "text": [
      "✅ Loaded BraTS20_Training_194: Image torch.Size([3, 224, 224]), Mask torch.Size([224, 224])\n",
      "✅ Loaded BraTS20_Training_364: Image torch.Size([3, 224, 224]), Mask torch.Size([224, 224])\n"
     ]
    },
    {
     "name": "stderr",
     "output_type": "stream",
     "text": [
      "Epoch [8/15]:  61%|██████▏   | 46/75 [00:18<00:12,  2.34it/s, Loss=0.66] "
     ]
    },
    {
     "name": "stdout",
     "output_type": "stream",
     "text": [
      "✅ Loaded BraTS20_Training_360: Image torch.Size([3, 224, 224]), Mask torch.Size([224, 224])\n",
      "✅ Loaded BraTS20_Training_302: Image torch.Size([3, 224, 224]), Mask torch.Size([224, 224])\n"
     ]
    },
    {
     "name": "stderr",
     "output_type": "stream",
     "text": [
      "Epoch [8/15]:  63%|██████▎   | 47/75 [00:19<00:11,  2.37it/s, Loss=0.9] "
     ]
    },
    {
     "name": "stdout",
     "output_type": "stream",
     "text": [
      "✅ Loaded BraTS20_Training_082: Image torch.Size([3, 224, 224]), Mask torch.Size([224, 224])\n",
      "✅ Loaded BraTS20_Training_135: Image torch.Size([3, 224, 224]), Mask torch.Size([224, 224])\n"
     ]
    },
    {
     "name": "stderr",
     "output_type": "stream",
     "text": [
      "Epoch [8/15]:  64%|██████▍   | 48/75 [00:19<00:11,  2.40it/s, Loss=0.85]"
     ]
    },
    {
     "name": "stdout",
     "output_type": "stream",
     "text": [
      "✅ Loaded BraTS20_Training_255: Image torch.Size([3, 224, 224]), Mask torch.Size([224, 224])\n",
      "✅ Loaded BraTS20_Training_290: Image torch.Size([3, 224, 224]), Mask torch.Size([224, 224])\n"
     ]
    },
    {
     "name": "stderr",
     "output_type": "stream",
     "text": [
      "Epoch [8/15]:  65%|██████▌   | 49/75 [00:20<00:10,  2.44it/s, Loss=0.812]"
     ]
    },
    {
     "name": "stdout",
     "output_type": "stream",
     "text": [
      "✅ Loaded BraTS20_Training_203: Image torch.Size([3, 224, 224]), Mask torch.Size([224, 224])\n",
      "✅ Loaded BraTS20_Training_315: Image torch.Size([3, 224, 224]), Mask torch.Size([224, 224])\n"
     ]
    },
    {
     "name": "stderr",
     "output_type": "stream",
     "text": [
      "Epoch [8/15]:  67%|██████▋   | 50/75 [00:20<00:10,  2.48it/s, Loss=0.795]"
     ]
    },
    {
     "name": "stdout",
     "output_type": "stream",
     "text": [
      "✅ Loaded BraTS20_Training_089: Image torch.Size([3, 224, 224]), Mask torch.Size([224, 224])\n",
      "✅ Loaded BraTS20_Training_010: Image torch.Size([3, 224, 224]), Mask torch.Size([224, 224])\n"
     ]
    },
    {
     "name": "stderr",
     "output_type": "stream",
     "text": [
      "Epoch [8/15]:  68%|██████▊   | 51/75 [00:20<00:09,  2.48it/s, Loss=0.814]"
     ]
    },
    {
     "name": "stdout",
     "output_type": "stream",
     "text": [
      "✅ Loaded BraTS20_Training_128: Image torch.Size([3, 224, 224]), Mask torch.Size([224, 224])\n",
      "✅ Loaded BraTS20_Training_043: Image torch.Size([3, 224, 224]), Mask torch.Size([224, 224])\n"
     ]
    },
    {
     "name": "stderr",
     "output_type": "stream",
     "text": [
      "Epoch [8/15]:  69%|██████▉   | 52/75 [00:21<00:09,  2.50it/s, Loss=0.801]"
     ]
    },
    {
     "name": "stdout",
     "output_type": "stream",
     "text": [
      "✅ Loaded BraTS20_Training_083: Image torch.Size([3, 224, 224]), Mask torch.Size([224, 224])\n",
      "✅ Loaded BraTS20_Training_322: Image torch.Size([3, 224, 224]), Mask torch.Size([224, 224])\n"
     ]
    },
    {
     "name": "stderr",
     "output_type": "stream",
     "text": [
      "Epoch [8/15]:  71%|███████   | 53/75 [00:21<00:08,  2.49it/s, Loss=0.794]"
     ]
    },
    {
     "name": "stdout",
     "output_type": "stream",
     "text": [
      "✅ Loaded BraTS20_Training_161: Image torch.Size([3, 224, 224]), Mask torch.Size([224, 224])\n",
      "✅ Loaded BraTS20_Training_220: Image torch.Size([3, 224, 224]), Mask torch.Size([224, 224])\n"
     ]
    },
    {
     "name": "stderr",
     "output_type": "stream",
     "text": [
      "Epoch [8/15]:  72%|███████▏  | 54/75 [00:22<00:08,  2.49it/s, Loss=1.19] "
     ]
    },
    {
     "name": "stdout",
     "output_type": "stream",
     "text": [
      "✅ Loaded BraTS20_Training_140: Image torch.Size([3, 224, 224]), Mask torch.Size([224, 224])\n",
      "✅ Loaded BraTS20_Training_025: Image torch.Size([3, 224, 224]), Mask torch.Size([224, 224])\n"
     ]
    },
    {
     "name": "stderr",
     "output_type": "stream",
     "text": [
      "Epoch [8/15]:  73%|███████▎  | 55/75 [00:22<00:08,  2.49it/s, Loss=0.851]"
     ]
    },
    {
     "name": "stdout",
     "output_type": "stream",
     "text": [
      "✅ Loaded BraTS20_Training_213: Image torch.Size([3, 224, 224]), Mask torch.Size([224, 224])\n",
      "✅ Loaded BraTS20_Training_017: Image torch.Size([3, 224, 224]), Mask torch.Size([224, 224])\n"
     ]
    },
    {
     "name": "stderr",
     "output_type": "stream",
     "text": [
      "Epoch [8/15]:  75%|███████▍  | 56/75 [00:22<00:07,  2.49it/s, Loss=0.699]"
     ]
    },
    {
     "name": "stdout",
     "output_type": "stream",
     "text": [
      "✅ Loaded BraTS20_Training_110: Image torch.Size([3, 224, 224]), Mask torch.Size([224, 224])\n",
      "✅ Loaded BraTS20_Training_023: Image torch.Size([3, 224, 224]), Mask torch.Size([224, 224])\n"
     ]
    },
    {
     "name": "stderr",
     "output_type": "stream",
     "text": [
      "Epoch [8/15]:  76%|███████▌  | 57/75 [00:23<00:07,  2.51it/s, Loss=0.881]"
     ]
    },
    {
     "name": "stdout",
     "output_type": "stream",
     "text": [
      "✅ Loaded BraTS20_Training_058: Image torch.Size([3, 224, 224]), Mask torch.Size([224, 224])\n",
      "✅ Loaded BraTS20_Training_119: Image torch.Size([3, 224, 224]), Mask torch.Size([224, 224])\n"
     ]
    },
    {
     "name": "stderr",
     "output_type": "stream",
     "text": [
      "Epoch [8/15]:  77%|███████▋  | 58/75 [00:23<00:06,  2.54it/s, Loss=0.739]"
     ]
    },
    {
     "name": "stdout",
     "output_type": "stream",
     "text": [
      "✅ Loaded BraTS20_Training_042: Image torch.Size([3, 224, 224]), Mask torch.Size([224, 224])\n",
      "✅ Loaded BraTS20_Training_164: Image torch.Size([3, 224, 224]), Mask torch.Size([224, 224])\n"
     ]
    },
    {
     "name": "stderr",
     "output_type": "stream",
     "text": [
      "Epoch [8/15]:  79%|███████▊  | 59/75 [00:24<00:06,  2.50it/s, Loss=0.831]"
     ]
    },
    {
     "name": "stdout",
     "output_type": "stream",
     "text": [
      "✅ Loaded BraTS20_Training_147: Image torch.Size([3, 224, 224]), Mask torch.Size([224, 224])\n",
      "✅ Loaded BraTS20_Training_027: Image torch.Size([3, 224, 224]), Mask torch.Size([224, 224])\n"
     ]
    },
    {
     "name": "stderr",
     "output_type": "stream",
     "text": [
      "Epoch [8/15]:  80%|████████  | 60/75 [00:24<00:06,  2.48it/s, Loss=0.9]  "
     ]
    },
    {
     "name": "stdout",
     "output_type": "stream",
     "text": [
      "✅ Loaded BraTS20_Training_020: Image torch.Size([3, 224, 224]), Mask torch.Size([224, 224])\n",
      "✅ Loaded BraTS20_Training_197: Image torch.Size([3, 224, 224]), Mask torch.Size([224, 224])\n"
     ]
    },
    {
     "name": "stderr",
     "output_type": "stream",
     "text": [
      "Epoch [8/15]:  81%|████████▏ | 61/75 [00:24<00:05,  2.49it/s, Loss=0.825]"
     ]
    },
    {
     "name": "stdout",
     "output_type": "stream",
     "text": [
      "✅ Loaded BraTS20_Training_186: Image torch.Size([3, 224, 224]), Mask torch.Size([224, 224])\n",
      "✅ Loaded BraTS20_Training_183: Image torch.Size([3, 224, 224]), Mask torch.Size([224, 224])\n"
     ]
    },
    {
     "name": "stderr",
     "output_type": "stream",
     "text": [
      "Epoch [8/15]:  83%|████████▎ | 62/75 [00:25<00:05,  2.47it/s, Loss=0.653]"
     ]
    },
    {
     "name": "stdout",
     "output_type": "stream",
     "text": [
      "✅ Loaded BraTS20_Training_272: Image torch.Size([3, 224, 224]), Mask torch.Size([224, 224])\n",
      "✅ Loaded BraTS20_Training_253: Image torch.Size([3, 224, 224]), Mask torch.Size([224, 224])\n"
     ]
    },
    {
     "name": "stderr",
     "output_type": "stream",
     "text": [
      "Epoch [8/15]:  84%|████████▍ | 63/75 [00:25<00:04,  2.46it/s, Loss=0.713]"
     ]
    },
    {
     "name": "stdout",
     "output_type": "stream",
     "text": [
      "✅ Loaded BraTS20_Training_052: Image torch.Size([3, 224, 224]), Mask torch.Size([224, 224])\n",
      "✅ Loaded BraTS20_Training_050: Image torch.Size([3, 224, 224]), Mask torch.Size([224, 224])\n"
     ]
    },
    {
     "name": "stderr",
     "output_type": "stream",
     "text": [
      "Epoch [8/15]:  85%|████████▌ | 64/75 [00:26<00:04,  2.46it/s, Loss=0.756]"
     ]
    },
    {
     "name": "stdout",
     "output_type": "stream",
     "text": [
      "✅ Loaded BraTS20_Training_259: Image torch.Size([3, 224, 224]), Mask torch.Size([224, 224])\n",
      "✅ Loaded BraTS20_Training_086: Image torch.Size([3, 224, 224]), Mask torch.Size([224, 224])\n"
     ]
    },
    {
     "name": "stderr",
     "output_type": "stream",
     "text": [
      "Epoch [8/15]:  87%|████████▋ | 65/75 [00:26<00:04,  2.47it/s, Loss=0.888]"
     ]
    },
    {
     "name": "stdout",
     "output_type": "stream",
     "text": [
      "✅ Loaded BraTS20_Training_080: Image torch.Size([3, 224, 224]), Mask torch.Size([224, 224])\n",
      "✅ Loaded BraTS20_Training_217: Image torch.Size([3, 224, 224]), Mask torch.Size([224, 224])\n"
     ]
    },
    {
     "name": "stderr",
     "output_type": "stream",
     "text": [
      "Epoch [8/15]:  88%|████████▊ | 66/75 [00:26<00:03,  2.48it/s, Loss=0.809]"
     ]
    },
    {
     "name": "stdout",
     "output_type": "stream",
     "text": [
      "✅ Loaded BraTS20_Training_196: Image torch.Size([3, 224, 224]), Mask torch.Size([224, 224])\n",
      "✅ Loaded BraTS20_Training_270: Image torch.Size([3, 224, 224]), Mask torch.Size([224, 224])\n"
     ]
    },
    {
     "name": "stderr",
     "output_type": "stream",
     "text": [
      "Epoch [8/15]:  89%|████████▉ | 67/75 [00:27<00:03,  2.48it/s, Loss=0.612]"
     ]
    },
    {
     "name": "stdout",
     "output_type": "stream",
     "text": [
      "✅ Loaded BraTS20_Training_001: Image torch.Size([3, 224, 224]), Mask torch.Size([224, 224])\n",
      "✅ Loaded BraTS20_Training_222: Image torch.Size([3, 224, 224]), Mask torch.Size([224, 224])\n"
     ]
    },
    {
     "name": "stderr",
     "output_type": "stream",
     "text": [
      "Epoch [8/15]:  91%|█████████ | 68/75 [00:27<00:02,  2.52it/s, Loss=0.801]"
     ]
    },
    {
     "name": "stdout",
     "output_type": "stream",
     "text": [
      "✅ Loaded BraTS20_Training_120: Image torch.Size([3, 224, 224]), Mask torch.Size([224, 224])\n",
      "✅ Loaded BraTS20_Training_079: Image torch.Size([3, 224, 224]), Mask torch.Size([224, 224])\n"
     ]
    },
    {
     "name": "stderr",
     "output_type": "stream",
     "text": [
      "Epoch [8/15]:  92%|█████████▏| 69/75 [00:28<00:02,  2.49it/s, Loss=0.81] "
     ]
    },
    {
     "name": "stdout",
     "output_type": "stream",
     "text": [
      "✅ Loaded BraTS20_Training_015: Image torch.Size([3, 224, 224]), Mask torch.Size([224, 224])\n",
      "✅ Loaded BraTS20_Training_126: Image torch.Size([3, 224, 224]), Mask torch.Size([224, 224])\n"
     ]
    },
    {
     "name": "stderr",
     "output_type": "stream",
     "text": [
      "Epoch [8/15]:  93%|█████████▎| 70/75 [00:28<00:01,  2.51it/s, Loss=0.726]"
     ]
    },
    {
     "name": "stdout",
     "output_type": "stream",
     "text": [
      "✅ Loaded BraTS20_Training_165: Image torch.Size([3, 224, 224]), Mask torch.Size([224, 224])\n",
      "✅ Loaded BraTS20_Training_273: Image torch.Size([3, 224, 224]), Mask torch.Size([224, 224])\n"
     ]
    },
    {
     "name": "stderr",
     "output_type": "stream",
     "text": [
      "Epoch [8/15]:  95%|█████████▍| 71/75 [00:28<00:01,  2.49it/s, Loss=0.706]"
     ]
    },
    {
     "name": "stdout",
     "output_type": "stream",
     "text": [
      "✅ Loaded BraTS20_Training_008: Image torch.Size([3, 224, 224]), Mask torch.Size([224, 224])\n",
      "✅ Loaded BraTS20_Training_116: Image torch.Size([3, 224, 224]), Mask torch.Size([224, 224])\n"
     ]
    },
    {
     "name": "stderr",
     "output_type": "stream",
     "text": [
      "Epoch [8/15]:  96%|█████████▌| 72/75 [00:29<00:01,  2.49it/s, Loss=0.712]"
     ]
    },
    {
     "name": "stdout",
     "output_type": "stream",
     "text": [
      "✅ Loaded BraTS20_Training_180: Image torch.Size([3, 224, 224]), Mask torch.Size([224, 224])\n",
      "✅ Loaded BraTS20_Training_201: Image torch.Size([3, 224, 224]), Mask torch.Size([224, 224])\n"
     ]
    },
    {
     "name": "stderr",
     "output_type": "stream",
     "text": [
      "Epoch [8/15]:  97%|█████████▋| 73/75 [00:29<00:00,  2.49it/s, Loss=0.704]"
     ]
    },
    {
     "name": "stdout",
     "output_type": "stream",
     "text": [
      "✅ Loaded BraTS20_Training_121: Image torch.Size([3, 224, 224]), Mask torch.Size([224, 224])\n",
      "✅ Loaded BraTS20_Training_233: Image torch.Size([3, 224, 224]), Mask torch.Size([224, 224])\n"
     ]
    },
    {
     "name": "stderr",
     "output_type": "stream",
     "text": [
      "Epoch [8/15]:  99%|█████████▊| 74/75 [00:30<00:00,  2.49it/s, Loss=0.615]"
     ]
    },
    {
     "name": "stdout",
     "output_type": "stream",
     "text": [
      "✅ Loaded BraTS20_Training_257: Image torch.Size([3, 224, 224]), Mask torch.Size([224, 224])\n",
      "✅ Loaded BraTS20_Training_117: Image torch.Size([3, 224, 224]), Mask torch.Size([224, 224])\n"
     ]
    },
    {
     "name": "stderr",
     "output_type": "stream",
     "text": [
      "                                                                         \r"
     ]
    },
    {
     "name": "stdout",
     "output_type": "stream",
     "text": [
      "\n",
      "✅ Epoch 8: Train Loss: 0.8093\n",
      "💾 Saved model at epoch 8 with train loss 0.8093\n"
     ]
    },
    {
     "name": "stderr",
     "output_type": "stream",
     "text": [
      "Epoch [9/15]:   0%|          | 0/75 [00:00<?, ?it/s]"
     ]
    },
    {
     "name": "stdout",
     "output_type": "stream",
     "text": [
      "✅ Loaded BraTS20_Training_201: Image torch.Size([3, 224, 224]), Mask torch.Size([224, 224])\n",
      "✅ Loaded BraTS20_Training_022: Image torch.Size([3, 224, 224]), Mask torch.Size([224, 224])\n"
     ]
    },
    {
     "name": "stderr",
     "output_type": "stream",
     "text": [
      "Epoch [9/15]:   1%|▏         | 1/75 [00:00<00:29,  2.50it/s, Loss=0.684]"
     ]
    },
    {
     "name": "stdout",
     "output_type": "stream",
     "text": [
      "✅ Loaded BraTS20_Training_345: Image torch.Size([3, 224, 224]), Mask torch.Size([224, 224])\n",
      "✅ Loaded BraTS20_Training_203: Image torch.Size([3, 224, 224]), Mask torch.Size([224, 224])\n"
     ]
    },
    {
     "name": "stderr",
     "output_type": "stream",
     "text": [
      "Epoch [9/15]:   3%|▎         | 2/75 [00:00<00:29,  2.44it/s, Loss=0.789]"
     ]
    },
    {
     "name": "stdout",
     "output_type": "stream",
     "text": [
      "✅ Loaded BraTS20_Training_037: Image torch.Size([3, 224, 224]), Mask torch.Size([224, 224])\n",
      "✅ Loaded BraTS20_Training_021: Image torch.Size([3, 224, 224]), Mask torch.Size([224, 224])\n"
     ]
    },
    {
     "name": "stderr",
     "output_type": "stream",
     "text": [
      "Epoch [9/15]:   4%|▍         | 3/75 [00:01<00:30,  2.37it/s, Loss=0.633]"
     ]
    },
    {
     "name": "stdout",
     "output_type": "stream",
     "text": [
      "✅ Loaded BraTS20_Training_318: Image torch.Size([3, 224, 224]), Mask torch.Size([224, 224])\n",
      "✅ Loaded BraTS20_Training_255: Image torch.Size([3, 224, 224]), Mask torch.Size([224, 224])\n"
     ]
    },
    {
     "name": "stderr",
     "output_type": "stream",
     "text": [
      "Epoch [9/15]:   5%|▌         | 4/75 [00:01<00:29,  2.40it/s, Loss=1.12] "
     ]
    },
    {
     "name": "stdout",
     "output_type": "stream",
     "text": [
      "✅ Loaded BraTS20_Training_093: Image torch.Size([3, 224, 224]), Mask torch.Size([224, 224])\n",
      "✅ Loaded BraTS20_Training_222: Image torch.Size([3, 224, 224]), Mask torch.Size([224, 224])\n"
     ]
    },
    {
     "name": "stderr",
     "output_type": "stream",
     "text": [
      "Epoch [9/15]:   7%|▋         | 5/75 [00:02<00:28,  2.45it/s, Loss=0.667]"
     ]
    },
    {
     "name": "stdout",
     "output_type": "stream",
     "text": [
      "✅ Loaded BraTS20_Training_239: Image torch.Size([3, 224, 224]), Mask torch.Size([224, 224])\n",
      "✅ Loaded BraTS20_Training_339: Image torch.Size([3, 224, 224]), Mask torch.Size([224, 224])\n"
     ]
    },
    {
     "name": "stderr",
     "output_type": "stream",
     "text": [
      "Epoch [9/15]:   8%|▊         | 6/75 [00:02<00:28,  2.43it/s, Loss=0.683]"
     ]
    },
    {
     "name": "stdout",
     "output_type": "stream",
     "text": [
      "✅ Loaded BraTS20_Training_230: Image torch.Size([3, 224, 224]), Mask torch.Size([224, 224])\n",
      "✅ Loaded BraTS20_Training_226: Image torch.Size([3, 224, 224]), Mask torch.Size([224, 224])\n"
     ]
    },
    {
     "name": "stderr",
     "output_type": "stream",
     "text": [
      "Epoch [9/15]:   9%|▉         | 7/75 [00:02<00:27,  2.43it/s, Loss=0.859]"
     ]
    },
    {
     "name": "stdout",
     "output_type": "stream",
     "text": [
      "✅ Loaded BraTS20_Training_083: Image torch.Size([3, 224, 224]), Mask torch.Size([224, 224])\n",
      "✅ Loaded BraTS20_Training_087: Image torch.Size([3, 224, 224]), Mask torch.Size([224, 224])\n"
     ]
    },
    {
     "name": "stderr",
     "output_type": "stream",
     "text": [
      "Epoch [9/15]:  11%|█         | 8/75 [00:03<00:27,  2.46it/s, Loss=0.744]"
     ]
    },
    {
     "name": "stdout",
     "output_type": "stream",
     "text": [
      "✅ Loaded BraTS20_Training_186: Image torch.Size([3, 224, 224]), Mask torch.Size([224, 224])\n",
      "✅ Loaded BraTS20_Training_072: Image torch.Size([3, 224, 224]), Mask torch.Size([224, 224])\n"
     ]
    },
    {
     "name": "stderr",
     "output_type": "stream",
     "text": [
      "Epoch [9/15]:  12%|█▏        | 9/75 [00:03<00:26,  2.46it/s, Loss=0.699]"
     ]
    },
    {
     "name": "stdout",
     "output_type": "stream",
     "text": [
      "✅ Loaded BraTS20_Training_220: Image torch.Size([3, 224, 224]), Mask torch.Size([224, 224])\n",
      "✅ Loaded BraTS20_Training_145: Image torch.Size([3, 224, 224]), Mask torch.Size([224, 224])\n"
     ]
    },
    {
     "name": "stderr",
     "output_type": "stream",
     "text": [
      "Epoch [9/15]:  13%|█▎        | 10/75 [00:04<00:26,  2.45it/s, Loss=0.848]"
     ]
    },
    {
     "name": "stdout",
     "output_type": "stream",
     "text": [
      "✅ Loaded BraTS20_Training_117: Image torch.Size([3, 224, 224]), Mask torch.Size([224, 224])\n",
      "✅ Loaded BraTS20_Training_282: Image torch.Size([3, 224, 224]), Mask torch.Size([224, 224])\n"
     ]
    },
    {
     "name": "stderr",
     "output_type": "stream",
     "text": [
      "Epoch [9/15]:  15%|█▍        | 11/75 [00:04<00:26,  2.43it/s, Loss=0.711]"
     ]
    },
    {
     "name": "stdout",
     "output_type": "stream",
     "text": [
      "✅ Loaded BraTS20_Training_010: Image torch.Size([3, 224, 224]), Mask torch.Size([224, 224])\n",
      "✅ Loaded BraTS20_Training_299: Image torch.Size([3, 224, 224]), Mask torch.Size([224, 224])\n"
     ]
    },
    {
     "name": "stderr",
     "output_type": "stream",
     "text": [
      "Epoch [9/15]:  16%|█▌        | 12/75 [00:04<00:25,  2.43it/s, Loss=0.705]"
     ]
    },
    {
     "name": "stdout",
     "output_type": "stream",
     "text": [
      "✅ Loaded BraTS20_Training_297: Image torch.Size([3, 224, 224]), Mask torch.Size([224, 224])\n",
      "✅ Loaded BraTS20_Training_126: Image torch.Size([3, 224, 224]), Mask torch.Size([224, 224])\n"
     ]
    },
    {
     "name": "stderr",
     "output_type": "stream",
     "text": [
      "Epoch [9/15]:  17%|█▋        | 13/75 [00:05<00:25,  2.41it/s, Loss=0.83] "
     ]
    },
    {
     "name": "stdout",
     "output_type": "stream",
     "text": [
      "✅ Loaded BraTS20_Training_224: Image torch.Size([3, 224, 224]), Mask torch.Size([224, 224])\n",
      "✅ Loaded BraTS20_Training_150: Image torch.Size([3, 224, 224]), Mask torch.Size([224, 224])\n"
     ]
    },
    {
     "name": "stderr",
     "output_type": "stream",
     "text": [
      "Epoch [9/15]:  19%|█▊        | 14/75 [00:05<00:25,  2.41it/s, Loss=0.639]"
     ]
    },
    {
     "name": "stdout",
     "output_type": "stream",
     "text": [
      "✅ Loaded BraTS20_Training_073: Image torch.Size([3, 224, 224]), Mask torch.Size([224, 224])\n",
      "✅ Loaded BraTS20_Training_270: Image torch.Size([3, 224, 224]), Mask torch.Size([224, 224])\n"
     ]
    },
    {
     "name": "stderr",
     "output_type": "stream",
     "text": [
      "Epoch [9/15]:  20%|██        | 15/75 [00:06<00:25,  2.38it/s, Loss=0.724]"
     ]
    },
    {
     "name": "stdout",
     "output_type": "stream",
     "text": [
      "✅ Loaded BraTS20_Training_267: Image torch.Size([3, 224, 224]), Mask torch.Size([224, 224])\n",
      "✅ Loaded BraTS20_Training_353: Image torch.Size([3, 224, 224]), Mask torch.Size([224, 224])\n"
     ]
    },
    {
     "name": "stderr",
     "output_type": "stream",
     "text": [
      "Epoch [9/15]:  21%|██▏       | 16/75 [00:06<00:25,  2.30it/s, Loss=0.819]"
     ]
    },
    {
     "name": "stdout",
     "output_type": "stream",
     "text": [
      "✅ Loaded BraTS20_Training_280: Image torch.Size([3, 224, 224]), Mask torch.Size([224, 224])\n",
      "✅ Loaded BraTS20_Training_119: Image torch.Size([3, 224, 224]), Mask torch.Size([224, 224])\n"
     ]
    },
    {
     "name": "stderr",
     "output_type": "stream",
     "text": [
      "Epoch [9/15]:  23%|██▎       | 17/75 [00:07<00:24,  2.33it/s, Loss=0.749]"
     ]
    },
    {
     "name": "stdout",
     "output_type": "stream",
     "text": [
      "✅ Loaded BraTS20_Training_217: Image torch.Size([3, 224, 224]), Mask torch.Size([224, 224])\n",
      "✅ Loaded BraTS20_Training_332: Image torch.Size([3, 224, 224]), Mask torch.Size([224, 224])\n"
     ]
    },
    {
     "name": "stderr",
     "output_type": "stream",
     "text": [
      "Epoch [9/15]:  24%|██▍       | 18/75 [00:07<00:24,  2.33it/s, Loss=0.874]"
     ]
    },
    {
     "name": "stdout",
     "output_type": "stream",
     "text": [
      "✅ Loaded BraTS20_Training_089: Image torch.Size([3, 224, 224]), Mask torch.Size([224, 224])\n",
      "✅ Loaded BraTS20_Training_024: Image torch.Size([3, 224, 224]), Mask torch.Size([224, 224])\n"
     ]
    },
    {
     "name": "stderr",
     "output_type": "stream",
     "text": [
      "Epoch [9/15]:  25%|██▌       | 19/75 [00:07<00:23,  2.35it/s, Loss=0.752]"
     ]
    },
    {
     "name": "stdout",
     "output_type": "stream",
     "text": [
      "✅ Loaded BraTS20_Training_196: Image torch.Size([3, 224, 224]), Mask torch.Size([224, 224])\n",
      "✅ Loaded BraTS20_Training_158: Image torch.Size([3, 224, 224]), Mask torch.Size([224, 224])\n"
     ]
    },
    {
     "name": "stderr",
     "output_type": "stream",
     "text": [
      "Epoch [9/15]:  27%|██▋       | 20/75 [00:08<00:23,  2.33it/s, Loss=0.721]"
     ]
    },
    {
     "name": "stdout",
     "output_type": "stream",
     "text": [
      "✅ Loaded BraTS20_Training_253: Image torch.Size([3, 224, 224]), Mask torch.Size([224, 224])\n",
      "✅ Loaded BraTS20_Training_336: Image torch.Size([3, 224, 224]), Mask torch.Size([224, 224])\n"
     ]
    },
    {
     "name": "stderr",
     "output_type": "stream",
     "text": [
      "Epoch [9/15]:  28%|██▊       | 21/75 [00:08<00:23,  2.31it/s, Loss=0.678]"
     ]
    },
    {
     "name": "stdout",
     "output_type": "stream",
     "text": [
      "✅ Loaded BraTS20_Training_132: Image torch.Size([3, 224, 224]), Mask torch.Size([224, 224])\n",
      "✅ Loaded BraTS20_Training_279: Image torch.Size([3, 224, 224]), Mask torch.Size([224, 224])\n"
     ]
    },
    {
     "name": "stderr",
     "output_type": "stream",
     "text": [
      "Epoch [9/15]:  29%|██▉       | 22/75 [00:09<00:22,  2.32it/s, Loss=0.661]"
     ]
    },
    {
     "name": "stdout",
     "output_type": "stream",
     "text": [
      "✅ Loaded BraTS20_Training_322: Image torch.Size([3, 224, 224]), Mask torch.Size([224, 224])\n",
      "✅ Loaded BraTS20_Training_129: Image torch.Size([3, 224, 224]), Mask torch.Size([224, 224])\n"
     ]
    },
    {
     "name": "stderr",
     "output_type": "stream",
     "text": [
      "Epoch [9/15]:  31%|███       | 23/75 [00:09<00:22,  2.36it/s, Loss=0.845]"
     ]
    },
    {
     "name": "stdout",
     "output_type": "stream",
     "text": [
      "✅ Loaded BraTS20_Training_197: Image torch.Size([3, 224, 224]), Mask torch.Size([224, 224])\n",
      "✅ Loaded BraTS20_Training_131: Image torch.Size([3, 224, 224]), Mask torch.Size([224, 224])\n"
     ]
    },
    {
     "name": "stderr",
     "output_type": "stream",
     "text": [
      "Epoch [9/15]:  32%|███▏      | 24/75 [00:10<00:21,  2.42it/s, Loss=0.653]"
     ]
    },
    {
     "name": "stdout",
     "output_type": "stream",
     "text": [
      "✅ Loaded BraTS20_Training_079: Image torch.Size([3, 224, 224]), Mask torch.Size([224, 224])\n",
      "✅ Loaded BraTS20_Training_360: Image torch.Size([3, 224, 224]), Mask torch.Size([224, 224])\n"
     ]
    },
    {
     "name": "stderr",
     "output_type": "stream",
     "text": [
      "Epoch [9/15]:  33%|███▎      | 25/75 [00:10<00:20,  2.40it/s, Loss=0.846]"
     ]
    },
    {
     "name": "stdout",
     "output_type": "stream",
     "text": [
      "✅ Loaded BraTS20_Training_105: Image torch.Size([3, 224, 224]), Mask torch.Size([224, 224])\n",
      "✅ Loaded BraTS20_Training_302: Image torch.Size([3, 224, 224]), Mask torch.Size([224, 224])\n"
     ]
    },
    {
     "name": "stderr",
     "output_type": "stream",
     "text": [
      "Epoch [9/15]:  35%|███▍      | 26/75 [00:10<00:20,  2.44it/s, Loss=0.817]"
     ]
    },
    {
     "name": "stdout",
     "output_type": "stream",
     "text": [
      "✅ Loaded BraTS20_Training_166: Image torch.Size([3, 224, 224]), Mask torch.Size([224, 224])\n",
      "✅ Loaded BraTS20_Training_268: Image torch.Size([3, 224, 224]), Mask torch.Size([224, 224])\n"
     ]
    },
    {
     "name": "stderr",
     "output_type": "stream",
     "text": [
      "Epoch [9/15]:  36%|███▌      | 27/75 [00:11<00:19,  2.43it/s, Loss=0.551]"
     ]
    },
    {
     "name": "stdout",
     "output_type": "stream",
     "text": [
      "✅ Loaded BraTS20_Training_140: Image torch.Size([3, 224, 224]), Mask torch.Size([224, 224])\n",
      "✅ Loaded BraTS20_Training_228: Image torch.Size([3, 224, 224]), Mask torch.Size([224, 224])\n"
     ]
    },
    {
     "name": "stderr",
     "output_type": "stream",
     "text": [
      "Epoch [9/15]:  37%|███▋      | 28/75 [00:11<00:19,  2.43it/s, Loss=0.723]"
     ]
    },
    {
     "name": "stdout",
     "output_type": "stream",
     "text": [
      "✅ Loaded BraTS20_Training_096: Image torch.Size([3, 224, 224]), Mask torch.Size([224, 224])\n",
      "✅ Loaded BraTS20_Training_312: Image torch.Size([3, 224, 224]), Mask torch.Size([224, 224])\n"
     ]
    },
    {
     "name": "stderr",
     "output_type": "stream",
     "text": [
      "Epoch [9/15]:  39%|███▊      | 29/75 [00:12<00:18,  2.44it/s, Loss=0.74] "
     ]
    },
    {
     "name": "stdout",
     "output_type": "stream",
     "text": [
      "✅ Loaded BraTS20_Training_053: Image torch.Size([3, 224, 224]), Mask torch.Size([224, 224])\n",
      "✅ Loaded BraTS20_Training_060: Image torch.Size([3, 224, 224]), Mask torch.Size([224, 224])\n"
     ]
    },
    {
     "name": "stderr",
     "output_type": "stream",
     "text": [
      "Epoch [9/15]:  40%|████      | 30/75 [00:12<00:18,  2.47it/s, Loss=0.643]"
     ]
    },
    {
     "name": "stdout",
     "output_type": "stream",
     "text": [
      "✅ Loaded BraTS20_Training_188: Image torch.Size([3, 224, 224]), Mask torch.Size([224, 224])\n",
      "✅ Loaded BraTS20_Training_106: Image torch.Size([3, 224, 224]), Mask torch.Size([224, 224])\n"
     ]
    },
    {
     "name": "stderr",
     "output_type": "stream",
     "text": [
      "Epoch [9/15]:  41%|████▏     | 31/75 [00:12<00:17,  2.49it/s, Loss=0.737]"
     ]
    },
    {
     "name": "stdout",
     "output_type": "stream",
     "text": [
      "✅ Loaded BraTS20_Training_195: Image torch.Size([3, 224, 224]), Mask torch.Size([224, 224])\n",
      "✅ Loaded BraTS20_Training_194: Image torch.Size([3, 224, 224]), Mask torch.Size([224, 224])\n"
     ]
    },
    {
     "name": "stderr",
     "output_type": "stream",
     "text": [
      "Epoch [9/15]:  43%|████▎     | 32/75 [00:13<00:17,  2.48it/s, Loss=0.584]"
     ]
    },
    {
     "name": "stdout",
     "output_type": "stream",
     "text": [
      "✅ Loaded BraTS20_Training_242: Image torch.Size([3, 224, 224]), Mask torch.Size([224, 224])\n",
      "✅ Loaded BraTS20_Training_290: Image torch.Size([3, 224, 224]), Mask torch.Size([224, 224])\n"
     ]
    },
    {
     "name": "stderr",
     "output_type": "stream",
     "text": [
      "Epoch [9/15]:  44%|████▍     | 33/75 [00:13<00:16,  2.48it/s, Loss=0.749]"
     ]
    },
    {
     "name": "stdout",
     "output_type": "stream",
     "text": [
      "✅ Loaded BraTS20_Training_151: Image torch.Size([3, 224, 224]), Mask torch.Size([224, 224])\n",
      "✅ Loaded BraTS20_Training_082: Image torch.Size([3, 224, 224]), Mask torch.Size([224, 224])\n"
     ]
    },
    {
     "name": "stderr",
     "output_type": "stream",
     "text": [
      "Epoch [9/15]:  45%|████▌     | 34/75 [00:14<00:16,  2.48it/s, Loss=0.694]"
     ]
    },
    {
     "name": "stdout",
     "output_type": "stream",
     "text": [
      "✅ Loaded BraTS20_Training_272: Image torch.Size([3, 224, 224]), Mask torch.Size([224, 224])\n",
      "✅ Loaded BraTS20_Training_244: Image torch.Size([3, 224, 224]), Mask torch.Size([224, 224])\n"
     ]
    },
    {
     "name": "stderr",
     "output_type": "stream",
     "text": [
      "Epoch [9/15]:  47%|████▋     | 35/75 [00:14<00:16,  2.48it/s, Loss=0.692]"
     ]
    },
    {
     "name": "stdout",
     "output_type": "stream",
     "text": [
      "✅ Loaded BraTS20_Training_023: Image torch.Size([3, 224, 224]), Mask torch.Size([224, 224])\n",
      "✅ Loaded BraTS20_Training_149: Image torch.Size([3, 224, 224]), Mask torch.Size([224, 224])\n"
     ]
    },
    {
     "name": "stderr",
     "output_type": "stream",
     "text": [
      "Epoch [9/15]:  48%|████▊     | 36/75 [00:14<00:15,  2.48it/s, Loss=0.818]"
     ]
    },
    {
     "name": "stdout",
     "output_type": "stream",
     "text": [
      "✅ Loaded BraTS20_Training_120: Image torch.Size([3, 224, 224]), Mask torch.Size([224, 224])\n",
      "✅ Loaded BraTS20_Training_008: Image torch.Size([3, 224, 224]), Mask torch.Size([224, 224])\n"
     ]
    },
    {
     "name": "stderr",
     "output_type": "stream",
     "text": [
      "Epoch [9/15]:  49%|████▉     | 37/75 [00:15<00:15,  2.48it/s, Loss=0.775]"
     ]
    },
    {
     "name": "stdout",
     "output_type": "stream",
     "text": [
      "✅ Loaded BraTS20_Training_064: Image torch.Size([3, 224, 224]), Mask torch.Size([224, 224])\n",
      "✅ Loaded BraTS20_Training_164: Image torch.Size([3, 224, 224]), Mask torch.Size([224, 224])\n"
     ]
    },
    {
     "name": "stderr",
     "output_type": "stream",
     "text": [
      "Epoch [9/15]:  51%|█████     | 38/75 [00:15<00:14,  2.48it/s, Loss=0.752]"
     ]
    },
    {
     "name": "stdout",
     "output_type": "stream",
     "text": [
      "✅ Loaded BraTS20_Training_206: Image torch.Size([3, 224, 224]), Mask torch.Size([224, 224])\n",
      "✅ Loaded BraTS20_Training_124: Image torch.Size([3, 224, 224]), Mask torch.Size([224, 224])\n"
     ]
    },
    {
     "name": "stderr",
     "output_type": "stream",
     "text": [
      "Epoch [9/15]:  52%|█████▏    | 39/75 [00:16<00:14,  2.46it/s, Loss=0.755]"
     ]
    },
    {
     "name": "stdout",
     "output_type": "stream",
     "text": [
      "✅ Loaded BraTS20_Training_092: Image torch.Size([3, 224, 224]), Mask torch.Size([224, 224])\n",
      "✅ Loaded BraTS20_Training_277: Image torch.Size([3, 224, 224]), Mask torch.Size([224, 224])\n"
     ]
    },
    {
     "name": "stderr",
     "output_type": "stream",
     "text": [
      "Epoch [9/15]:  53%|█████▎    | 40/75 [00:16<00:14,  2.44it/s, Loss=0.757]"
     ]
    },
    {
     "name": "stdout",
     "output_type": "stream",
     "text": [
      "✅ Loaded BraTS20_Training_271: Image torch.Size([3, 224, 224]), Mask torch.Size([224, 224])\n",
      "✅ Loaded BraTS20_Training_259: Image torch.Size([3, 224, 224]), Mask torch.Size([224, 224])\n"
     ]
    },
    {
     "name": "stderr",
     "output_type": "stream",
     "text": [
      "Epoch [9/15]:  55%|█████▍    | 41/75 [00:16<00:13,  2.45it/s, Loss=0.65] "
     ]
    },
    {
     "name": "stdout",
     "output_type": "stream",
     "text": [
      "✅ Loaded BraTS20_Training_056: Image torch.Size([3, 224, 224]), Mask torch.Size([224, 224])\n",
      "✅ Loaded BraTS20_Training_147: Image torch.Size([3, 224, 224]), Mask torch.Size([224, 224])\n"
     ]
    },
    {
     "name": "stderr",
     "output_type": "stream",
     "text": [
      "Epoch [9/15]:  56%|█████▌    | 42/75 [00:17<00:13,  2.44it/s, Loss=0.938]"
     ]
    },
    {
     "name": "stdout",
     "output_type": "stream",
     "text": [
      "✅ Loaded BraTS20_Training_225: Image torch.Size([3, 224, 224]), Mask torch.Size([224, 224])\n",
      "✅ Loaded BraTS20_Training_294: Image torch.Size([3, 224, 224]), Mask torch.Size([224, 224])\n"
     ]
    },
    {
     "name": "stderr",
     "output_type": "stream",
     "text": [
      "Epoch [9/15]:  57%|█████▋    | 43/75 [00:17<00:12,  2.49it/s, Loss=0.685]"
     ]
    },
    {
     "name": "stdout",
     "output_type": "stream",
     "text": [
      "✅ Loaded BraTS20_Training_121: Image torch.Size([3, 224, 224]), Mask torch.Size([224, 224])\n",
      "✅ Loaded BraTS20_Training_245: Image torch.Size([3, 224, 224]), Mask torch.Size([224, 224])\n"
     ]
    },
    {
     "name": "stderr",
     "output_type": "stream",
     "text": [
      "Epoch [9/15]:  59%|█████▊    | 44/75 [00:18<00:12,  2.48it/s, Loss=0.577]"
     ]
    },
    {
     "name": "stdout",
     "output_type": "stream",
     "text": [
      "✅ Loaded BraTS20_Training_143: Image torch.Size([3, 224, 224]), Mask torch.Size([224, 224])\n",
      "✅ Loaded BraTS20_Training_033: Image torch.Size([3, 224, 224]), Mask torch.Size([224, 224])\n"
     ]
    },
    {
     "name": "stderr",
     "output_type": "stream",
     "text": [
      "Epoch [9/15]:  60%|██████    | 45/75 [00:18<00:12,  2.49it/s, Loss=0.69] "
     ]
    },
    {
     "name": "stdout",
     "output_type": "stream",
     "text": [
      "✅ Loaded BraTS20_Training_180: Image torch.Size([3, 224, 224]), Mask torch.Size([224, 224])\n",
      "✅ Loaded BraTS20_Training_027: Image torch.Size([3, 224, 224]), Mask torch.Size([224, 224])\n"
     ]
    },
    {
     "name": "stderr",
     "output_type": "stream",
     "text": [
      "Epoch [9/15]:  61%|██████▏   | 46/75 [00:18<00:11,  2.49it/s, Loss=0.663]"
     ]
    },
    {
     "name": "stdout",
     "output_type": "stream",
     "text": [
      "✅ Loaded BraTS20_Training_086: Image torch.Size([3, 224, 224]), Mask torch.Size([224, 224])\n",
      "✅ Loaded BraTS20_Training_043: Image torch.Size([3, 224, 224]), Mask torch.Size([224, 224])\n"
     ]
    },
    {
     "name": "stderr",
     "output_type": "stream",
     "text": [
      "Epoch [9/15]:  63%|██████▎   | 47/75 [00:19<00:11,  2.46it/s, Loss=0.875]"
     ]
    },
    {
     "name": "stdout",
     "output_type": "stream",
     "text": [
      "✅ Loaded BraTS20_Training_135: Image torch.Size([3, 224, 224]), Mask torch.Size([224, 224])\n",
      "✅ Loaded BraTS20_Training_183: Image torch.Size([3, 224, 224]), Mask torch.Size([224, 224])\n"
     ]
    },
    {
     "name": "stderr",
     "output_type": "stream",
     "text": [
      "Epoch [9/15]:  64%|██████▍   | 48/75 [00:19<00:10,  2.48it/s, Loss=0.578]"
     ]
    },
    {
     "name": "stdout",
     "output_type": "stream",
     "text": [
      "✅ Loaded BraTS20_Training_128: Image torch.Size([3, 224, 224]), Mask torch.Size([224, 224])\n",
      "✅ Loaded BraTS20_Training_262: Image torch.Size([3, 224, 224]), Mask torch.Size([224, 224])\n"
     ]
    },
    {
     "name": "stderr",
     "output_type": "stream",
     "text": [
      "Epoch [9/15]:  65%|██████▌   | 49/75 [00:20<00:10,  2.46it/s, Loss=0.728]"
     ]
    },
    {
     "name": "stdout",
     "output_type": "stream",
     "text": [
      "✅ Loaded BraTS20_Training_273: Image torch.Size([3, 224, 224]), Mask torch.Size([224, 224])\n",
      "✅ Loaded BraTS20_Training_369: Image torch.Size([3, 224, 224]), Mask torch.Size([224, 224])\n"
     ]
    },
    {
     "name": "stderr",
     "output_type": "stream",
     "text": [
      "Epoch [9/15]:  67%|██████▋   | 50/75 [00:20<00:10,  2.44it/s, Loss=0.819]"
     ]
    },
    {
     "name": "stdout",
     "output_type": "stream",
     "text": [
      "✅ Loaded BraTS20_Training_032: Image torch.Size([3, 224, 224]), Mask torch.Size([224, 224])\n",
      "✅ Loaded BraTS20_Training_250: Image torch.Size([3, 224, 224]), Mask torch.Size([224, 224])\n"
     ]
    },
    {
     "name": "stderr",
     "output_type": "stream",
     "text": [
      "Epoch [9/15]:  68%|██████▊   | 51/75 [00:20<00:09,  2.46it/s, Loss=0.845]"
     ]
    },
    {
     "name": "stdout",
     "output_type": "stream",
     "text": [
      "✅ Loaded BraTS20_Training_052: Image torch.Size([3, 224, 224]), Mask torch.Size([224, 224])\n",
      "✅ Loaded BraTS20_Training_017: Image torch.Size([3, 224, 224]), Mask torch.Size([224, 224])\n"
     ]
    },
    {
     "name": "stderr",
     "output_type": "stream",
     "text": [
      "Epoch [9/15]:  69%|██████▉   | 52/75 [00:21<00:09,  2.46it/s, Loss=0.642]"
     ]
    },
    {
     "name": "stdout",
     "output_type": "stream",
     "text": [
      "✅ Loaded BraTS20_Training_326: Image torch.Size([3, 224, 224]), Mask torch.Size([224, 224])\n",
      "✅ Loaded BraTS20_Training_165: Image torch.Size([3, 224, 224]), Mask torch.Size([224, 224])\n"
     ]
    },
    {
     "name": "stderr",
     "output_type": "stream",
     "text": [
      "Epoch [9/15]:  71%|███████   | 53/75 [00:21<00:09,  2.42it/s, Loss=0.601]"
     ]
    },
    {
     "name": "stdout",
     "output_type": "stream",
     "text": [
      "✅ Loaded BraTS20_Training_364: Image torch.Size([3, 224, 224]), Mask torch.Size([224, 224])\n",
      "✅ Loaded BraTS20_Training_058: Image torch.Size([3, 224, 224]), Mask torch.Size([224, 224])\n"
     ]
    },
    {
     "name": "stderr",
     "output_type": "stream",
     "text": [
      "Epoch [9/15]:  72%|███████▏  | 54/75 [00:22<00:08,  2.41it/s, Loss=0.705]"
     ]
    },
    {
     "name": "stdout",
     "output_type": "stream",
     "text": [
      "✅ Loaded BraTS20_Training_050: Image torch.Size([3, 224, 224]), Mask torch.Size([224, 224])\n",
      "✅ Loaded BraTS20_Training_198: Image torch.Size([3, 224, 224]), Mask torch.Size([224, 224])\n"
     ]
    },
    {
     "name": "stderr",
     "output_type": "stream",
     "text": [
      "Epoch [9/15]:  73%|███████▎  | 55/75 [00:22<00:08,  2.43it/s, Loss=0.751]"
     ]
    },
    {
     "name": "stdout",
     "output_type": "stream",
     "text": [
      "✅ Loaded BraTS20_Training_275: Image torch.Size([3, 224, 224]), Mask torch.Size([224, 224])\n",
      "✅ Loaded BraTS20_Training_020: Image torch.Size([3, 224, 224]), Mask torch.Size([224, 224])\n"
     ]
    },
    {
     "name": "stderr",
     "output_type": "stream",
     "text": [
      "Epoch [9/15]:  75%|███████▍  | 56/75 [00:23<00:07,  2.46it/s, Loss=0.759]"
     ]
    },
    {
     "name": "stdout",
     "output_type": "stream",
     "text": [
      "✅ Loaded BraTS20_Training_001: Image torch.Size([3, 224, 224]), Mask torch.Size([224, 224])\n",
      "✅ Loaded BraTS20_Training_015: Image torch.Size([3, 224, 224]), Mask torch.Size([224, 224])\n"
     ]
    },
    {
     "name": "stderr",
     "output_type": "stream",
     "text": [
      "Epoch [9/15]:  76%|███████▌  | 57/75 [00:23<00:07,  2.48it/s, Loss=0.684]"
     ]
    },
    {
     "name": "stdout",
     "output_type": "stream",
     "text": [
      "✅ Loaded BraTS20_Training_148: Image torch.Size([3, 224, 224]), Mask torch.Size([224, 224])\n",
      "✅ Loaded BraTS20_Training_260: Image torch.Size([3, 224, 224]), Mask torch.Size([224, 224])\n"
     ]
    },
    {
     "name": "stderr",
     "output_type": "stream",
     "text": [
      "Epoch [9/15]:  77%|███████▋  | 58/75 [00:23<00:06,  2.45it/s, Loss=0.774]"
     ]
    },
    {
     "name": "stdout",
     "output_type": "stream",
     "text": [
      "✅ Loaded BraTS20_Training_261: Image torch.Size([3, 224, 224]), Mask torch.Size([224, 224])\n",
      "✅ Loaded BraTS20_Training_213: Image torch.Size([3, 224, 224]), Mask torch.Size([224, 224])\n"
     ]
    },
    {
     "name": "stderr",
     "output_type": "stream",
     "text": [
      "Epoch [9/15]:  79%|███████▊  | 59/75 [00:24<00:06,  2.44it/s, Loss=0.626]"
     ]
    },
    {
     "name": "stdout",
     "output_type": "stream",
     "text": [
      "✅ Loaded BraTS20_Training_080: Image torch.Size([3, 224, 224]), Mask torch.Size([224, 224])\n",
      "✅ Loaded BraTS20_Training_193: Image torch.Size([3, 224, 224]), Mask torch.Size([224, 224])\n"
     ]
    },
    {
     "name": "stderr",
     "output_type": "stream",
     "text": [
      "Epoch [9/15]:  80%|████████  | 60/75 [00:24<00:06,  2.45it/s, Loss=0.652]"
     ]
    },
    {
     "name": "stdout",
     "output_type": "stream",
     "text": [
      "✅ Loaded BraTS20_Training_227: Image torch.Size([3, 224, 224]), Mask torch.Size([224, 224])\n",
      "✅ Loaded BraTS20_Training_257: Image torch.Size([3, 224, 224]), Mask torch.Size([224, 224])\n"
     ]
    },
    {
     "name": "stderr",
     "output_type": "stream",
     "text": [
      "Epoch [9/15]:  81%|████████▏ | 61/75 [00:25<00:05,  2.44it/s, Loss=0.694]"
     ]
    },
    {
     "name": "stdout",
     "output_type": "stream",
     "text": [
      "✅ Loaded BraTS20_Training_329: Image torch.Size([3, 224, 224]), Mask torch.Size([224, 224])\n",
      "✅ Loaded BraTS20_Training_077: Image torch.Size([3, 224, 224]), Mask torch.Size([224, 224])\n"
     ]
    },
    {
     "name": "stderr",
     "output_type": "stream",
     "text": [
      "Epoch [9/15]:  83%|████████▎ | 62/75 [00:25<00:05,  2.42it/s, Loss=0.657]"
     ]
    },
    {
     "name": "stdout",
     "output_type": "stream",
     "text": [
      "✅ Loaded BraTS20_Training_125: Image torch.Size([3, 224, 224]), Mask torch.Size([224, 224])\n",
      "✅ Loaded BraTS20_Training_042: Image torch.Size([3, 224, 224]), Mask torch.Size([224, 224])\n"
     ]
    },
    {
     "name": "stderr",
     "output_type": "stream",
     "text": [
      "Epoch [9/15]:  84%|████████▍ | 63/75 [00:25<00:04,  2.44it/s, Loss=0.534]"
     ]
    },
    {
     "name": "stdout",
     "output_type": "stream",
     "text": [
      "✅ Loaded BraTS20_Training_019: Image torch.Size([3, 224, 224]), Mask torch.Size([224, 224])\n",
      "✅ Loaded BraTS20_Training_233: Image torch.Size([3, 224, 224]), Mask torch.Size([224, 224])\n"
     ]
    },
    {
     "name": "stderr",
     "output_type": "stream",
     "text": [
      "Epoch [9/15]:  85%|████████▌ | 64/75 [00:26<00:04,  2.43it/s, Loss=0.789]"
     ]
    },
    {
     "name": "stdout",
     "output_type": "stream",
     "text": [
      "✅ Loaded BraTS20_Training_110: Image torch.Size([3, 224, 224]), Mask torch.Size([224, 224])\n",
      "✅ Loaded BraTS20_Training_061: Image torch.Size([3, 224, 224]), Mask torch.Size([224, 224])\n"
     ]
    },
    {
     "name": "stderr",
     "output_type": "stream",
     "text": [
      "Epoch [9/15]:  87%|████████▋ | 65/75 [00:26<00:04,  2.42it/s, Loss=0.795]"
     ]
    },
    {
     "name": "stdout",
     "output_type": "stream",
     "text": [
      "✅ Loaded BraTS20_Training_278: Image torch.Size([3, 224, 224]), Mask torch.Size([224, 224])\n",
      "✅ Loaded BraTS20_Training_237: Image torch.Size([3, 224, 224]), Mask torch.Size([224, 224])\n"
     ]
    },
    {
     "name": "stderr",
     "output_type": "stream",
     "text": [
      "Epoch [9/15]:  88%|████████▊ | 66/75 [00:27<00:03,  2.41it/s, Loss=0.725]"
     ]
    },
    {
     "name": "stdout",
     "output_type": "stream",
     "text": [
      "✅ Loaded BraTS20_Training_025: Image torch.Size([3, 224, 224]), Mask torch.Size([224, 224])\n",
      "✅ Loaded BraTS20_Training_099: Image torch.Size([3, 224, 224]), Mask torch.Size([224, 224])\n"
     ]
    },
    {
     "name": "stderr",
     "output_type": "stream",
     "text": [
      "Epoch [9/15]:  89%|████████▉ | 67/75 [00:27<00:03,  2.41it/s, Loss=0.839]"
     ]
    },
    {
     "name": "stdout",
     "output_type": "stream",
     "text": [
      "✅ Loaded BraTS20_Training_289: Image torch.Size([3, 224, 224]), Mask torch.Size([224, 224])\n",
      "✅ Loaded BraTS20_Training_161: Image torch.Size([3, 224, 224]), Mask torch.Size([224, 224])\n"
     ]
    },
    {
     "name": "stderr",
     "output_type": "stream",
     "text": [
      "Epoch [9/15]:  91%|█████████ | 68/75 [00:27<00:02,  2.44it/s, Loss=0.951]"
     ]
    },
    {
     "name": "stdout",
     "output_type": "stream",
     "text": [
      "✅ Loaded BraTS20_Training_309: Image torch.Size([3, 224, 224]), Mask torch.Size([224, 224])\n",
      "✅ Loaded BraTS20_Training_258: Image torch.Size([3, 224, 224]), Mask torch.Size([224, 224])\n"
     ]
    },
    {
     "name": "stderr",
     "output_type": "stream",
     "text": [
      "Epoch [9/15]:  92%|█████████▏| 69/75 [00:28<00:02,  2.40it/s, Loss=0.722]"
     ]
    },
    {
     "name": "stdout",
     "output_type": "stream",
     "text": [
      "✅ Loaded BraTS20_Training_348: Image torch.Size([3, 224, 224]), Mask torch.Size([224, 224])\n",
      "✅ Loaded BraTS20_Training_248: Image torch.Size([3, 224, 224]), Mask torch.Size([224, 224])\n"
     ]
    },
    {
     "name": "stderr",
     "output_type": "stream",
     "text": [
      "Epoch [9/15]:  93%|█████████▎| 70/75 [00:28<00:02,  2.40it/s, Loss=0.741]"
     ]
    },
    {
     "name": "stdout",
     "output_type": "stream",
     "text": [
      "✅ Loaded BraTS20_Training_034: Image torch.Size([3, 224, 224]), Mask torch.Size([224, 224])\n",
      "✅ Loaded BraTS20_Training_057: Image torch.Size([3, 224, 224]), Mask torch.Size([224, 224])\n"
     ]
    },
    {
     "name": "stderr",
     "output_type": "stream",
     "text": [
      "Epoch [9/15]:  95%|█████████▍| 71/75 [00:29<00:01,  2.40it/s, Loss=0.813]"
     ]
    },
    {
     "name": "stdout",
     "output_type": "stream",
     "text": [
      "✅ Loaded BraTS20_Training_308: Image torch.Size([3, 224, 224]), Mask torch.Size([224, 224])\n",
      "✅ Loaded BraTS20_Training_036: Image torch.Size([3, 224, 224]), Mask torch.Size([224, 224])\n"
     ]
    },
    {
     "name": "stderr",
     "output_type": "stream",
     "text": [
      "Epoch [9/15]:  96%|█████████▌| 72/75 [00:29<00:01,  2.41it/s, Loss=0.59] "
     ]
    },
    {
     "name": "stdout",
     "output_type": "stream",
     "text": [
      "✅ Loaded BraTS20_Training_155: Image torch.Size([3, 224, 224]), Mask torch.Size([224, 224])\n",
      "✅ Loaded BraTS20_Training_069: Image torch.Size([3, 224, 224]), Mask torch.Size([224, 224])\n"
     ]
    },
    {
     "name": "stderr",
     "output_type": "stream",
     "text": [
      "Epoch [9/15]:  97%|█████████▋| 73/75 [00:30<00:00,  2.43it/s, Loss=0.641]"
     ]
    },
    {
     "name": "stdout",
     "output_type": "stream",
     "text": [
      "✅ Loaded BraTS20_Training_123: Image torch.Size([3, 224, 224]), Mask torch.Size([224, 224])\n",
      "✅ Loaded BraTS20_Training_116: Image torch.Size([3, 224, 224]), Mask torch.Size([224, 224])\n"
     ]
    },
    {
     "name": "stderr",
     "output_type": "stream",
     "text": [
      "Epoch [9/15]:  99%|█████████▊| 74/75 [00:30<00:00,  2.40it/s, Loss=0.555]"
     ]
    },
    {
     "name": "stdout",
     "output_type": "stream",
     "text": [
      "✅ Loaded BraTS20_Training_358: Image torch.Size([3, 224, 224]), Mask torch.Size([224, 224])\n",
      "✅ Loaded BraTS20_Training_315: Image torch.Size([3, 224, 224]), Mask torch.Size([224, 224])\n"
     ]
    },
    {
     "name": "stderr",
     "output_type": "stream",
     "text": [
      "                                                                         \r"
     ]
    },
    {
     "name": "stdout",
     "output_type": "stream",
     "text": [
      "\n",
      "✅ Epoch 9: Train Loss: 0.7288\n",
      "💾 Saved model at epoch 9 with train loss 0.7288\n"
     ]
    },
    {
     "name": "stderr",
     "output_type": "stream",
     "text": [
      "Epoch [10/15]:   0%|          | 0/75 [00:00<?, ?it/s]"
     ]
    },
    {
     "name": "stdout",
     "output_type": "stream",
     "text": [
      "✅ Loaded BraTS20_Training_021: Image torch.Size([3, 224, 224]), Mask torch.Size([224, 224])\n",
      "✅ Loaded BraTS20_Training_119: Image torch.Size([3, 224, 224]), Mask torch.Size([224, 224])\n"
     ]
    },
    {
     "name": "stderr",
     "output_type": "stream",
     "text": [
      "Epoch [10/15]:   1%|▏         | 1/75 [00:00<00:31,  2.34it/s, Loss=0.846]"
     ]
    },
    {
     "name": "stdout",
     "output_type": "stream",
     "text": [
      "✅ Loaded BraTS20_Training_036: Image torch.Size([3, 224, 224]), Mask torch.Size([224, 224])\n",
      "✅ Loaded BraTS20_Training_332: Image torch.Size([3, 224, 224]), Mask torch.Size([224, 224])\n"
     ]
    },
    {
     "name": "stderr",
     "output_type": "stream",
     "text": [
      "Epoch [10/15]:   3%|▎         | 2/75 [00:00<00:31,  2.35it/s, Loss=0.837]"
     ]
    },
    {
     "name": "stdout",
     "output_type": "stream",
     "text": [
      "✅ Loaded BraTS20_Training_017: Image torch.Size([3, 224, 224]), Mask torch.Size([224, 224])\n",
      "✅ Loaded BraTS20_Training_096: Image torch.Size([3, 224, 224]), Mask torch.Size([224, 224])\n"
     ]
    },
    {
     "name": "stderr",
     "output_type": "stream",
     "text": [
      "Epoch [10/15]:   4%|▍         | 3/75 [00:01<00:31,  2.31it/s, Loss=0.629]"
     ]
    },
    {
     "name": "stdout",
     "output_type": "stream",
     "text": [
      "✅ Loaded BraTS20_Training_037: Image torch.Size([3, 224, 224]), Mask torch.Size([224, 224])\n",
      "✅ Loaded BraTS20_Training_278: Image torch.Size([3, 224, 224]), Mask torch.Size([224, 224])\n"
     ]
    },
    {
     "name": "stderr",
     "output_type": "stream",
     "text": [
      "Epoch [10/15]:   5%|▌         | 4/75 [00:01<00:30,  2.31it/s, Loss=0.648]"
     ]
    },
    {
     "name": "stdout",
     "output_type": "stream",
     "text": [
      "✅ Loaded BraTS20_Training_128: Image torch.Size([3, 224, 224]), Mask torch.Size([224, 224])\n",
      "✅ Loaded BraTS20_Training_052: Image torch.Size([3, 224, 224]), Mask torch.Size([224, 224])\n"
     ]
    },
    {
     "name": "stderr",
     "output_type": "stream",
     "text": [
      "Epoch [10/15]:   7%|▋         | 5/75 [00:02<00:29,  2.34it/s, Loss=0.712]"
     ]
    },
    {
     "name": "stdout",
     "output_type": "stream",
     "text": [
      "✅ Loaded BraTS20_Training_193: Image torch.Size([3, 224, 224]), Mask torch.Size([224, 224])\n",
      "✅ Loaded BraTS20_Training_233: Image torch.Size([3, 224, 224]), Mask torch.Size([224, 224])\n"
     ]
    },
    {
     "name": "stderr",
     "output_type": "stream",
     "text": [
      "Epoch [10/15]:   8%|▊         | 6/75 [00:02<00:29,  2.36it/s, Loss=0.6]  "
     ]
    },
    {
     "name": "stdout",
     "output_type": "stream",
     "text": [
      "✅ Loaded BraTS20_Training_024: Image torch.Size([3, 224, 224]), Mask torch.Size([224, 224])\n",
      "✅ Loaded BraTS20_Training_073: Image torch.Size([3, 224, 224]), Mask torch.Size([224, 224])\n"
     ]
    },
    {
     "name": "stderr",
     "output_type": "stream",
     "text": [
      "Epoch [10/15]:   9%|▉         | 7/75 [00:02<00:28,  2.35it/s, Loss=0.586]"
     ]
    },
    {
     "name": "stdout",
     "output_type": "stream",
     "text": [
      "✅ Loaded BraTS20_Training_126: Image torch.Size([3, 224, 224]), Mask torch.Size([224, 224])\n",
      "✅ Loaded BraTS20_Training_042: Image torch.Size([3, 224, 224]), Mask torch.Size([224, 224])\n"
     ]
    },
    {
     "name": "stderr",
     "output_type": "stream",
     "text": [
      "Epoch [10/15]:  11%|█         | 8/75 [00:03<00:28,  2.35it/s, Loss=0.567]"
     ]
    },
    {
     "name": "stdout",
     "output_type": "stream",
     "text": [
      "✅ Loaded BraTS20_Training_079: Image torch.Size([3, 224, 224]), Mask torch.Size([224, 224])\n",
      "✅ Loaded BraTS20_Training_339: Image torch.Size([3, 224, 224]), Mask torch.Size([224, 224])\n"
     ]
    },
    {
     "name": "stderr",
     "output_type": "stream",
     "text": [
      "Epoch [10/15]:  12%|█▏        | 9/75 [00:03<00:28,  2.35it/s, Loss=0.521]"
     ]
    },
    {
     "name": "stdout",
     "output_type": "stream",
     "text": [
      "✅ Loaded BraTS20_Training_255: Image torch.Size([3, 224, 224]), Mask torch.Size([224, 224])\n",
      "✅ Loaded BraTS20_Training_089: Image torch.Size([3, 224, 224]), Mask torch.Size([224, 224])\n"
     ]
    },
    {
     "name": "stderr",
     "output_type": "stream",
     "text": [
      "Epoch [10/15]:  13%|█▎        | 10/75 [00:04<00:27,  2.35it/s, Loss=0.646]"
     ]
    },
    {
     "name": "stdout",
     "output_type": "stream",
     "text": [
      "✅ Loaded BraTS20_Training_369: Image torch.Size([3, 224, 224]), Mask torch.Size([224, 224])\n",
      "✅ Loaded BraTS20_Training_322: Image torch.Size([3, 224, 224]), Mask torch.Size([224, 224])\n"
     ]
    },
    {
     "name": "stderr",
     "output_type": "stream",
     "text": [
      "Epoch [10/15]:  15%|█▍        | 11/75 [00:04<00:27,  2.34it/s, Loss=0.861]"
     ]
    },
    {
     "name": "stdout",
     "output_type": "stream",
     "text": [
      "✅ Loaded BraTS20_Training_275: Image torch.Size([3, 224, 224]), Mask torch.Size([224, 224])\n",
      "✅ Loaded BraTS20_Training_360: Image torch.Size([3, 224, 224]), Mask torch.Size([224, 224])\n"
     ]
    },
    {
     "name": "stderr",
     "output_type": "stream",
     "text": [
      "Epoch [10/15]:  16%|█▌        | 12/75 [00:05<00:26,  2.35it/s, Loss=0.865]"
     ]
    },
    {
     "name": "stdout",
     "output_type": "stream",
     "text": [
      "✅ Loaded BraTS20_Training_289: Image torch.Size([3, 224, 224]), Mask torch.Size([224, 224])\n",
      "✅ Loaded BraTS20_Training_294: Image torch.Size([3, 224, 224]), Mask torch.Size([224, 224])\n"
     ]
    },
    {
     "name": "stderr",
     "output_type": "stream",
     "text": [
      "Epoch [10/15]:  17%|█▋        | 13/75 [00:05<00:25,  2.39it/s, Loss=0.543]"
     ]
    },
    {
     "name": "stdout",
     "output_type": "stream",
     "text": [
      "✅ Loaded BraTS20_Training_010: Image torch.Size([3, 224, 224]), Mask torch.Size([224, 224])\n",
      "✅ Loaded BraTS20_Training_087: Image torch.Size([3, 224, 224]), Mask torch.Size([224, 224])\n"
     ]
    },
    {
     "name": "stderr",
     "output_type": "stream",
     "text": [
      "Epoch [10/15]:  19%|█▊        | 14/75 [00:05<00:25,  2.44it/s, Loss=0.807]"
     ]
    },
    {
     "name": "stdout",
     "output_type": "stream",
     "text": [
      "✅ Loaded BraTS20_Training_086: Image torch.Size([3, 224, 224]), Mask torch.Size([224, 224])\n",
      "✅ Loaded BraTS20_Training_364: Image torch.Size([3, 224, 224]), Mask torch.Size([224, 224])\n"
     ]
    },
    {
     "name": "stderr",
     "output_type": "stream",
     "text": [
      "Epoch [10/15]:  20%|██        | 15/75 [00:06<00:24,  2.41it/s, Loss=0.708]"
     ]
    },
    {
     "name": "stdout",
     "output_type": "stream",
     "text": [
      "✅ Loaded BraTS20_Training_069: Image torch.Size([3, 224, 224]), Mask torch.Size([224, 224])\n",
      "✅ Loaded BraTS20_Training_149: Image torch.Size([3, 224, 224]), Mask torch.Size([224, 224])\n"
     ]
    },
    {
     "name": "stderr",
     "output_type": "stream",
     "text": [
      "Epoch [10/15]:  21%|██▏       | 16/75 [00:06<00:24,  2.44it/s, Loss=0.911]"
     ]
    },
    {
     "name": "stdout",
     "output_type": "stream",
     "text": [
      "✅ Loaded BraTS20_Training_061: Image torch.Size([3, 224, 224]), Mask torch.Size([224, 224])\n",
      "✅ Loaded BraTS20_Training_228: Image torch.Size([3, 224, 224]), Mask torch.Size([224, 224])\n"
     ]
    },
    {
     "name": "stderr",
     "output_type": "stream",
     "text": [
      "Epoch [10/15]:  23%|██▎       | 17/75 [00:07<00:23,  2.46it/s, Loss=0.703]"
     ]
    },
    {
     "name": "stdout",
     "output_type": "stream",
     "text": [
      "✅ Loaded BraTS20_Training_124: Image torch.Size([3, 224, 224]), Mask torch.Size([224, 224])\n",
      "✅ Loaded BraTS20_Training_056: Image torch.Size([3, 224, 224]), Mask torch.Size([224, 224])\n"
     ]
    },
    {
     "name": "stderr",
     "output_type": "stream",
     "text": [
      "Epoch [10/15]:  24%|██▍       | 18/75 [00:07<00:23,  2.46it/s, Loss=0.533]"
     ]
    },
    {
     "name": "stdout",
     "output_type": "stream",
     "text": [
      "✅ Loaded BraTS20_Training_318: Image torch.Size([3, 224, 224]), Mask torch.Size([224, 224])\n",
      "✅ Loaded BraTS20_Training_194: Image torch.Size([3, 224, 224]), Mask torch.Size([224, 224])\n"
     ]
    },
    {
     "name": "stderr",
     "output_type": "stream",
     "text": [
      "Epoch [10/15]:  25%|██▌       | 19/75 [00:07<00:22,  2.48it/s, Loss=0.849]"
     ]
    },
    {
     "name": "stdout",
     "output_type": "stream",
     "text": [
      "✅ Loaded BraTS20_Training_227: Image torch.Size([3, 224, 224]), Mask torch.Size([224, 224])\n",
      "✅ Loaded BraTS20_Training_358: Image torch.Size([3, 224, 224]), Mask torch.Size([224, 224])\n"
     ]
    },
    {
     "name": "stderr",
     "output_type": "stream",
     "text": [
      "Epoch [10/15]:  27%|██▋       | 20/75 [00:08<00:22,  2.50it/s, Loss=0.688]"
     ]
    },
    {
     "name": "stdout",
     "output_type": "stream",
     "text": [
      "✅ Loaded BraTS20_Training_050: Image torch.Size([3, 224, 224]), Mask torch.Size([224, 224])\n",
      "✅ Loaded BraTS20_Training_032: Image torch.Size([3, 224, 224]), Mask torch.Size([224, 224])\n"
     ]
    },
    {
     "name": "stderr",
     "output_type": "stream",
     "text": [
      "Epoch [10/15]:  28%|██▊       | 21/75 [00:08<00:21,  2.49it/s, Loss=0.908]"
     ]
    },
    {
     "name": "stdout",
     "output_type": "stream",
     "text": [
      "✅ Loaded BraTS20_Training_250: Image torch.Size([3, 224, 224]), Mask torch.Size([224, 224])\n",
      "✅ Loaded BraTS20_Training_230: Image torch.Size([3, 224, 224]), Mask torch.Size([224, 224])\n"
     ]
    },
    {
     "name": "stderr",
     "output_type": "stream",
     "text": [
      "Epoch [10/15]:  29%|██▉       | 22/75 [00:09<00:21,  2.48it/s, Loss=0.756]"
     ]
    },
    {
     "name": "stdout",
     "output_type": "stream",
     "text": [
      "✅ Loaded BraTS20_Training_072: Image torch.Size([3, 224, 224]), Mask torch.Size([224, 224])\n",
      "✅ Loaded BraTS20_Training_027: Image torch.Size([3, 224, 224]), Mask torch.Size([224, 224])\n"
     ]
    },
    {
     "name": "stderr",
     "output_type": "stream",
     "text": [
      "Epoch [10/15]:  31%|███       | 23/75 [00:09<00:20,  2.54it/s, Loss=0.666]"
     ]
    },
    {
     "name": "stdout",
     "output_type": "stream",
     "text": [
      "✅ Loaded BraTS20_Training_260: Image torch.Size([3, 224, 224]), Mask torch.Size([224, 224])\n",
      "✅ Loaded BraTS20_Training_329: Image torch.Size([3, 224, 224]), Mask torch.Size([224, 224])\n"
     ]
    },
    {
     "name": "stderr",
     "output_type": "stream",
     "text": [
      "Epoch [10/15]:  32%|███▏      | 24/75 [00:09<00:20,  2.51it/s, Loss=0.869]"
     ]
    },
    {
     "name": "stdout",
     "output_type": "stream",
     "text": [
      "✅ Loaded BraTS20_Training_270: Image torch.Size([3, 224, 224]), Mask torch.Size([224, 224])\n",
      "✅ Loaded BraTS20_Training_245: Image torch.Size([3, 224, 224]), Mask torch.Size([224, 224])\n"
     ]
    },
    {
     "name": "stderr",
     "output_type": "stream",
     "text": [
      "Epoch [10/15]:  33%|███▎      | 25/75 [00:10<00:19,  2.52it/s, Loss=0.8]  "
     ]
    },
    {
     "name": "stdout",
     "output_type": "stream",
     "text": [
      "✅ Loaded BraTS20_Training_226: Image torch.Size([3, 224, 224]), Mask torch.Size([224, 224])\n",
      "✅ Loaded BraTS20_Training_057: Image torch.Size([3, 224, 224]), Mask torch.Size([224, 224])\n"
     ]
    },
    {
     "name": "stderr",
     "output_type": "stream",
     "text": [
      "Epoch [10/15]:  35%|███▍      | 26/75 [00:10<00:19,  2.48it/s, Loss=0.836]"
     ]
    },
    {
     "name": "stdout",
     "output_type": "stream",
     "text": [
      "✅ Loaded BraTS20_Training_148: Image torch.Size([3, 224, 224]), Mask torch.Size([224, 224])\n",
      "✅ Loaded BraTS20_Training_253: Image torch.Size([3, 224, 224]), Mask torch.Size([224, 224])\n"
     ]
    },
    {
     "name": "stderr",
     "output_type": "stream",
     "text": [
      "Epoch [10/15]:  36%|███▌      | 27/75 [00:11<00:19,  2.49it/s, Loss=0.808]"
     ]
    },
    {
     "name": "stdout",
     "output_type": "stream",
     "text": [
      "✅ Loaded BraTS20_Training_183: Image torch.Size([3, 224, 224]), Mask torch.Size([224, 224])\n",
      "✅ Loaded BraTS20_Training_195: Image torch.Size([3, 224, 224]), Mask torch.Size([224, 224])\n"
     ]
    },
    {
     "name": "stderr",
     "output_type": "stream",
     "text": [
      "Epoch [10/15]:  37%|███▋      | 28/75 [00:11<00:18,  2.49it/s, Loss=0.53] "
     ]
    },
    {
     "name": "stdout",
     "output_type": "stream",
     "text": [
      "✅ Loaded BraTS20_Training_092: Image torch.Size([3, 224, 224]), Mask torch.Size([224, 224])\n",
      "✅ Loaded BraTS20_Training_077: Image torch.Size([3, 224, 224]), Mask torch.Size([224, 224])\n"
     ]
    },
    {
     "name": "stderr",
     "output_type": "stream",
     "text": [
      "Epoch [10/15]:  39%|███▊      | 29/75 [00:11<00:18,  2.47it/s, Loss=0.717]"
     ]
    },
    {
     "name": "stdout",
     "output_type": "stream",
     "text": [
      "✅ Loaded BraTS20_Training_271: Image torch.Size([3, 224, 224]), Mask torch.Size([224, 224])\n",
      "✅ Loaded BraTS20_Training_237: Image torch.Size([3, 224, 224]), Mask torch.Size([224, 224])\n"
     ]
    },
    {
     "name": "stderr",
     "output_type": "stream",
     "text": [
      "Epoch [10/15]:  40%|████      | 30/75 [00:12<00:18,  2.48it/s, Loss=0.681]"
     ]
    },
    {
     "name": "stdout",
     "output_type": "stream",
     "text": [
      "✅ Loaded BraTS20_Training_015: Image torch.Size([3, 224, 224]), Mask torch.Size([224, 224])\n",
      "✅ Loaded BraTS20_Training_302: Image torch.Size([3, 224, 224]), Mask torch.Size([224, 224])\n"
     ]
    },
    {
     "name": "stderr",
     "output_type": "stream",
     "text": [
      "Epoch [10/15]:  41%|████▏     | 31/75 [00:12<00:17,  2.47it/s, Loss=0.583]"
     ]
    },
    {
     "name": "stdout",
     "output_type": "stream",
     "text": [
      "✅ Loaded BraTS20_Training_201: Image torch.Size([3, 224, 224]), Mask torch.Size([224, 224])\n",
      "✅ Loaded BraTS20_Training_279: Image torch.Size([3, 224, 224]), Mask torch.Size([224, 224])\n"
     ]
    },
    {
     "name": "stderr",
     "output_type": "stream",
     "text": [
      "Epoch [10/15]:  43%|████▎     | 32/75 [00:13<00:17,  2.49it/s, Loss=0.575]"
     ]
    },
    {
     "name": "stdout",
     "output_type": "stream",
     "text": [
      "✅ Loaded BraTS20_Training_308: Image torch.Size([3, 224, 224]), Mask torch.Size([224, 224])\n",
      "✅ Loaded BraTS20_Training_268: Image torch.Size([3, 224, 224]), Mask torch.Size([224, 224])\n"
     ]
    },
    {
     "name": "stderr",
     "output_type": "stream",
     "text": [
      "Epoch [10/15]:  44%|████▍     | 33/75 [00:13<00:16,  2.52it/s, Loss=0.825]"
     ]
    },
    {
     "name": "stdout",
     "output_type": "stream",
     "text": [
      "✅ Loaded BraTS20_Training_280: Image torch.Size([3, 224, 224]), Mask torch.Size([224, 224])\n",
      "✅ Loaded BraTS20_Training_083: Image torch.Size([3, 224, 224]), Mask torch.Size([224, 224])\n"
     ]
    },
    {
     "name": "stderr",
     "output_type": "stream",
     "text": [
      "Epoch [10/15]:  45%|████▌     | 34/75 [00:13<00:16,  2.51it/s, Loss=0.75] "
     ]
    },
    {
     "name": "stdout",
     "output_type": "stream",
     "text": [
      "✅ Loaded BraTS20_Training_336: Image torch.Size([3, 224, 224]), Mask torch.Size([224, 224])\n",
      "✅ Loaded BraTS20_Training_053: Image torch.Size([3, 224, 224]), Mask torch.Size([224, 224])\n"
     ]
    },
    {
     "name": "stderr",
     "output_type": "stream",
     "text": [
      "Epoch [10/15]:  47%|████▋     | 35/75 [00:14<00:16,  2.47it/s, Loss=0.548]"
     ]
    },
    {
     "name": "stdout",
     "output_type": "stream",
     "text": [
      "✅ Loaded BraTS20_Training_315: Image torch.Size([3, 224, 224]), Mask torch.Size([224, 224])\n",
      "✅ Loaded BraTS20_Training_217: Image torch.Size([3, 224, 224]), Mask torch.Size([224, 224])\n"
     ]
    },
    {
     "name": "stderr",
     "output_type": "stream",
     "text": [
      "Epoch [10/15]:  48%|████▊     | 36/75 [00:14<00:15,  2.46it/s, Loss=0.852]"
     ]
    },
    {
     "name": "stdout",
     "output_type": "stream",
     "text": [
      "✅ Loaded BraTS20_Training_093: Image torch.Size([3, 224, 224]), Mask torch.Size([224, 224])\n",
      "✅ Loaded BraTS20_Training_140: Image torch.Size([3, 224, 224]), Mask torch.Size([224, 224])\n"
     ]
    },
    {
     "name": "stderr",
     "output_type": "stream",
     "text": [
      "Epoch [10/15]:  49%|████▉     | 37/75 [00:15<00:15,  2.44it/s, Loss=0.644]"
     ]
    },
    {
     "name": "stdout",
     "output_type": "stream",
     "text": [
      "✅ Loaded BraTS20_Training_222: Image torch.Size([3, 224, 224]), Mask torch.Size([224, 224])\n",
      "✅ Loaded BraTS20_Training_225: Image torch.Size([3, 224, 224]), Mask torch.Size([224, 224])\n"
     ]
    },
    {
     "name": "stderr",
     "output_type": "stream",
     "text": [
      "Epoch [10/15]:  51%|█████     | 38/75 [00:15<00:15,  2.46it/s, Loss=0.618]"
     ]
    },
    {
     "name": "stdout",
     "output_type": "stream",
     "text": [
      "✅ Loaded BraTS20_Training_120: Image torch.Size([3, 224, 224]), Mask torch.Size([224, 224])\n",
      "✅ Loaded BraTS20_Training_248: Image torch.Size([3, 224, 224]), Mask torch.Size([224, 224])\n"
     ]
    },
    {
     "name": "stderr",
     "output_type": "stream",
     "text": [
      "Epoch [10/15]:  52%|█████▏    | 39/75 [00:15<00:14,  2.48it/s, Loss=0.623]"
     ]
    },
    {
     "name": "stdout",
     "output_type": "stream",
     "text": [
      "✅ Loaded BraTS20_Training_150: Image torch.Size([3, 224, 224]), Mask torch.Size([224, 224])\n",
      "✅ Loaded BraTS20_Training_151: Image torch.Size([3, 224, 224]), Mask torch.Size([224, 224])\n"
     ]
    },
    {
     "name": "stderr",
     "output_type": "stream",
     "text": [
      "Epoch [10/15]:  53%|█████▎    | 40/75 [00:16<00:14,  2.48it/s, Loss=0.562]"
     ]
    },
    {
     "name": "stdout",
     "output_type": "stream",
     "text": [
      "✅ Loaded BraTS20_Training_166: Image torch.Size([3, 224, 224]), Mask torch.Size([224, 224])\n",
      "✅ Loaded BraTS20_Training_117: Image torch.Size([3, 224, 224]), Mask torch.Size([224, 224])\n"
     ]
    },
    {
     "name": "stderr",
     "output_type": "stream",
     "text": [
      "Epoch [10/15]:  55%|█████▍    | 41/75 [00:16<00:13,  2.50it/s, Loss=0.514]"
     ]
    },
    {
     "name": "stdout",
     "output_type": "stream",
     "text": [
      "✅ Loaded BraTS20_Training_186: Image torch.Size([3, 224, 224]), Mask torch.Size([224, 224])\n",
      "✅ Loaded BraTS20_Training_105: Image torch.Size([3, 224, 224]), Mask torch.Size([224, 224])\n"
     ]
    },
    {
     "name": "stderr",
     "output_type": "stream",
     "text": [
      "Epoch [10/15]:  56%|█████▌    | 42/75 [00:17<00:13,  2.48it/s, Loss=0.558]"
     ]
    },
    {
     "name": "stdout",
     "output_type": "stream",
     "text": [
      "✅ Loaded BraTS20_Training_353: Image torch.Size([3, 224, 224]), Mask torch.Size([224, 224])\n",
      "✅ Loaded BraTS20_Training_064: Image torch.Size([3, 224, 224]), Mask torch.Size([224, 224])\n"
     ]
    },
    {
     "name": "stderr",
     "output_type": "stream",
     "text": [
      "Epoch [10/15]:  57%|█████▋    | 43/75 [00:17<00:13,  2.45it/s, Loss=0.823]"
     ]
    },
    {
     "name": "stdout",
     "output_type": "stream",
     "text": [
      "✅ Loaded BraTS20_Training_155: Image torch.Size([3, 224, 224]), Mask torch.Size([224, 224])\n",
      "✅ Loaded BraTS20_Training_129: Image torch.Size([3, 224, 224]), Mask torch.Size([224, 224])\n"
     ]
    },
    {
     "name": "stderr",
     "output_type": "stream",
     "text": [
      "Epoch [10/15]:  59%|█████▊    | 44/75 [00:18<00:12,  2.41it/s, Loss=0.58] "
     ]
    },
    {
     "name": "stdout",
     "output_type": "stream",
     "text": [
      "✅ Loaded BraTS20_Training_282: Image torch.Size([3, 224, 224]), Mask torch.Size([224, 224])\n",
      "✅ Loaded BraTS20_Training_259: Image torch.Size([3, 224, 224]), Mask torch.Size([224, 224])\n"
     ]
    },
    {
     "name": "stderr",
     "output_type": "stream",
     "text": [
      "Epoch [10/15]:  60%|██████    | 45/75 [00:18<00:12,  2.44it/s, Loss=0.779]"
     ]
    },
    {
     "name": "stdout",
     "output_type": "stream",
     "text": [
      "✅ Loaded BraTS20_Training_267: Image torch.Size([3, 224, 224]), Mask torch.Size([224, 224])\n",
      "✅ Loaded BraTS20_Training_123: Image torch.Size([3, 224, 224]), Mask torch.Size([224, 224])\n"
     ]
    },
    {
     "name": "stderr",
     "output_type": "stream",
     "text": [
      "Epoch [10/15]:  61%|██████▏   | 46/75 [00:18<00:12,  2.41it/s, Loss=0.705]"
     ]
    },
    {
     "name": "stdout",
     "output_type": "stream",
     "text": [
      "✅ Loaded BraTS20_Training_145: Image torch.Size([3, 224, 224]), Mask torch.Size([224, 224])\n",
      "✅ Loaded BraTS20_Training_125: Image torch.Size([3, 224, 224]), Mask torch.Size([224, 224])\n"
     ]
    },
    {
     "name": "stderr",
     "output_type": "stream",
     "text": [
      "Epoch [10/15]:  63%|██████▎   | 47/75 [00:19<00:11,  2.42it/s, Loss=0.76] "
     ]
    },
    {
     "name": "stdout",
     "output_type": "stream",
     "text": [
      "✅ Loaded BraTS20_Training_034: Image torch.Size([3, 224, 224]), Mask torch.Size([224, 224])\n",
      "✅ Loaded BraTS20_Training_224: Image torch.Size([3, 224, 224]), Mask torch.Size([224, 224])\n"
     ]
    },
    {
     "name": "stderr",
     "output_type": "stream",
     "text": [
      "Epoch [10/15]:  64%|██████▍   | 48/75 [00:19<00:11,  2.44it/s, Loss=0.638]"
     ]
    },
    {
     "name": "stdout",
     "output_type": "stream",
     "text": [
      "✅ Loaded BraTS20_Training_312: Image torch.Size([3, 224, 224]), Mask torch.Size([224, 224])\n",
      "✅ Loaded BraTS20_Training_020: Image torch.Size([3, 224, 224]), Mask torch.Size([224, 224])\n"
     ]
    },
    {
     "name": "stderr",
     "output_type": "stream",
     "text": [
      "Epoch [10/15]:  65%|██████▌   | 49/75 [00:20<00:10,  2.43it/s, Loss=0.822]"
     ]
    },
    {
     "name": "stdout",
     "output_type": "stream",
     "text": [
      "✅ Loaded BraTS20_Training_023: Image torch.Size([3, 224, 224]), Mask torch.Size([224, 224])\n",
      "✅ Loaded BraTS20_Training_309: Image torch.Size([3, 224, 224]), Mask torch.Size([224, 224])\n"
     ]
    },
    {
     "name": "stderr",
     "output_type": "stream",
     "text": [
      "Epoch [10/15]:  67%|██████▋   | 50/75 [00:20<00:10,  2.45it/s, Loss=0.663]"
     ]
    },
    {
     "name": "stdout",
     "output_type": "stream",
     "text": [
      "✅ Loaded BraTS20_Training_143: Image torch.Size([3, 224, 224]), Mask torch.Size([224, 224])\n",
      "✅ Loaded BraTS20_Training_082: Image torch.Size([3, 224, 224]), Mask torch.Size([224, 224])\n"
     ]
    },
    {
     "name": "stderr",
     "output_type": "stream",
     "text": [
      "Epoch [10/15]:  68%|██████▊   | 51/75 [00:20<00:09,  2.46it/s, Loss=0.818]"
     ]
    },
    {
     "name": "stdout",
     "output_type": "stream",
     "text": [
      "✅ Loaded BraTS20_Training_345: Image torch.Size([3, 224, 224]), Mask torch.Size([224, 224])\n",
      "✅ Loaded BraTS20_Training_161: Image torch.Size([3, 224, 224]), Mask torch.Size([224, 224])\n"
     ]
    },
    {
     "name": "stderr",
     "output_type": "stream",
     "text": [
      "Epoch [10/15]:  69%|██████▉   | 52/75 [00:21<00:09,  2.41it/s, Loss=0.812]"
     ]
    },
    {
     "name": "stdout",
     "output_type": "stream",
     "text": [
      "✅ Loaded BraTS20_Training_258: Image torch.Size([3, 224, 224]), Mask torch.Size([224, 224])\n",
      "✅ Loaded BraTS20_Training_132: Image torch.Size([3, 224, 224]), Mask torch.Size([224, 224])\n"
     ]
    },
    {
     "name": "stderr",
     "output_type": "stream",
     "text": [
      "Epoch [10/15]:  71%|███████   | 53/75 [00:21<00:09,  2.41it/s, Loss=0.507]"
     ]
    },
    {
     "name": "stdout",
     "output_type": "stream",
     "text": [
      "✅ Loaded BraTS20_Training_220: Image torch.Size([3, 224, 224]), Mask torch.Size([224, 224])\n",
      "✅ Loaded BraTS20_Training_197: Image torch.Size([3, 224, 224]), Mask torch.Size([224, 224])\n"
     ]
    },
    {
     "name": "stderr",
     "output_type": "stream",
     "text": [
      "Epoch [10/15]:  72%|███████▏  | 54/75 [00:22<00:08,  2.41it/s, Loss=0.748]"
     ]
    },
    {
     "name": "stdout",
     "output_type": "stream",
     "text": [
      "✅ Loaded BraTS20_Training_242: Image torch.Size([3, 224, 224]), Mask torch.Size([224, 224])\n",
      "✅ Loaded BraTS20_Training_239: Image torch.Size([3, 224, 224]), Mask torch.Size([224, 224])\n"
     ]
    },
    {
     "name": "stderr",
     "output_type": "stream",
     "text": [
      "Epoch [10/15]:  73%|███████▎  | 55/75 [00:22<00:08,  2.40it/s, Loss=0.793]"
     ]
    },
    {
     "name": "stdout",
     "output_type": "stream",
     "text": [
      "✅ Loaded BraTS20_Training_213: Image torch.Size([3, 224, 224]), Mask torch.Size([224, 224])\n",
      "✅ Loaded BraTS20_Training_273: Image torch.Size([3, 224, 224]), Mask torch.Size([224, 224])\n"
     ]
    },
    {
     "name": "stderr",
     "output_type": "stream",
     "text": [
      "Epoch [10/15]:  75%|███████▍  | 56/75 [00:22<00:07,  2.41it/s, Loss=0.611]"
     ]
    },
    {
     "name": "stdout",
     "output_type": "stream",
     "text": [
      "✅ Loaded BraTS20_Training_244: Image torch.Size([3, 224, 224]), Mask torch.Size([224, 224])\n",
      "✅ Loaded BraTS20_Training_206: Image torch.Size([3, 224, 224]), Mask torch.Size([224, 224])\n"
     ]
    },
    {
     "name": "stderr",
     "output_type": "stream",
     "text": [
      "Epoch [10/15]:  76%|███████▌  | 57/75 [00:23<00:07,  2.43it/s, Loss=0.645]"
     ]
    },
    {
     "name": "stdout",
     "output_type": "stream",
     "text": [
      "✅ Loaded BraTS20_Training_326: Image torch.Size([3, 224, 224]), Mask torch.Size([224, 224])\n",
      "✅ Loaded BraTS20_Training_272: Image torch.Size([3, 224, 224]), Mask torch.Size([224, 224])\n"
     ]
    },
    {
     "name": "stderr",
     "output_type": "stream",
     "text": [
      "Epoch [10/15]:  77%|███████▋  | 58/75 [00:23<00:06,  2.46it/s, Loss=0.755]"
     ]
    },
    {
     "name": "stdout",
     "output_type": "stream",
     "text": [
      "✅ Loaded BraTS20_Training_290: Image torch.Size([3, 224, 224]), Mask torch.Size([224, 224])\n",
      "✅ Loaded BraTS20_Training_180: Image torch.Size([3, 224, 224]), Mask torch.Size([224, 224])\n"
     ]
    },
    {
     "name": "stderr",
     "output_type": "stream",
     "text": [
      "Epoch [10/15]:  79%|███████▊  | 59/75 [00:24<00:06,  2.47it/s, Loss=0.684]"
     ]
    },
    {
     "name": "stdout",
     "output_type": "stream",
     "text": [
      "✅ Loaded BraTS20_Training_060: Image torch.Size([3, 224, 224]), Mask torch.Size([224, 224])\n",
      "✅ Loaded BraTS20_Training_164: Image torch.Size([3, 224, 224]), Mask torch.Size([224, 224])\n"
     ]
    },
    {
     "name": "stderr",
     "output_type": "stream",
     "text": [
      "Epoch [10/15]:  80%|████████  | 60/75 [00:24<00:06,  2.47it/s, Loss=0.669]"
     ]
    },
    {
     "name": "stdout",
     "output_type": "stream",
     "text": [
      "✅ Loaded BraTS20_Training_019: Image torch.Size([3, 224, 224]), Mask torch.Size([224, 224])\n",
      "✅ Loaded BraTS20_Training_261: Image torch.Size([3, 224, 224]), Mask torch.Size([224, 224])\n"
     ]
    },
    {
     "name": "stderr",
     "output_type": "stream",
     "text": [
      "Epoch [10/15]:  81%|████████▏ | 61/75 [00:25<00:05,  2.45it/s, Loss=0.875]"
     ]
    },
    {
     "name": "stdout",
     "output_type": "stream",
     "text": [
      "✅ Loaded BraTS20_Training_158: Image torch.Size([3, 224, 224]), Mask torch.Size([224, 224])\n",
      "✅ Loaded BraTS20_Training_099: Image torch.Size([3, 224, 224]), Mask torch.Size([224, 224])\n"
     ]
    },
    {
     "name": "stderr",
     "output_type": "stream",
     "text": [
      "Epoch [10/15]:  83%|████████▎ | 62/75 [00:25<00:05,  2.43it/s, Loss=0.86] "
     ]
    },
    {
     "name": "stdout",
     "output_type": "stream",
     "text": [
      "✅ Loaded BraTS20_Training_277: Image torch.Size([3, 224, 224]), Mask torch.Size([224, 224])\n",
      "✅ Loaded BraTS20_Training_348: Image torch.Size([3, 224, 224]), Mask torch.Size([224, 224])\n"
     ]
    },
    {
     "name": "stderr",
     "output_type": "stream",
     "text": [
      "Epoch [10/15]:  84%|████████▍ | 63/75 [00:25<00:04,  2.43it/s, Loss=0.695]"
     ]
    },
    {
     "name": "stdout",
     "output_type": "stream",
     "text": [
      "✅ Loaded BraTS20_Training_001: Image torch.Size([3, 224, 224]), Mask torch.Size([224, 224])\n",
      "✅ Loaded BraTS20_Training_198: Image torch.Size([3, 224, 224]), Mask torch.Size([224, 224])\n"
     ]
    },
    {
     "name": "stderr",
     "output_type": "stream",
     "text": [
      "Epoch [10/15]:  85%|████████▌ | 64/75 [00:26<00:04,  2.45it/s, Loss=0.682]"
     ]
    },
    {
     "name": "stdout",
     "output_type": "stream",
     "text": [
      "✅ Loaded BraTS20_Training_106: Image torch.Size([3, 224, 224]), Mask torch.Size([224, 224])\n",
      "✅ Loaded BraTS20_Training_033: Image torch.Size([3, 224, 224]), Mask torch.Size([224, 224])\n"
     ]
    },
    {
     "name": "stderr",
     "output_type": "stream",
     "text": [
      "Epoch [10/15]:  87%|████████▋ | 65/75 [00:26<00:04,  2.47it/s, Loss=0.62] "
     ]
    },
    {
     "name": "stdout",
     "output_type": "stream",
     "text": [
      "✅ Loaded BraTS20_Training_262: Image torch.Size([3, 224, 224]), Mask torch.Size([224, 224])\n",
      "✅ Loaded BraTS20_Training_131: Image torch.Size([3, 224, 224]), Mask torch.Size([224, 224])\n"
     ]
    },
    {
     "name": "stderr",
     "output_type": "stream",
     "text": [
      "Epoch [10/15]:  88%|████████▊ | 66/75 [00:27<00:03,  2.45it/s, Loss=0.713]"
     ]
    },
    {
     "name": "stdout",
     "output_type": "stream",
     "text": [
      "✅ Loaded BraTS20_Training_022: Image torch.Size([3, 224, 224]), Mask torch.Size([224, 224])\n",
      "✅ Loaded BraTS20_Training_188: Image torch.Size([3, 224, 224]), Mask torch.Size([224, 224])\n"
     ]
    },
    {
     "name": "stderr",
     "output_type": "stream",
     "text": [
      "Epoch [10/15]:  89%|████████▉ | 67/75 [00:27<00:03,  2.46it/s, Loss=0.66] "
     ]
    },
    {
     "name": "stdout",
     "output_type": "stream",
     "text": [
      "✅ Loaded BraTS20_Training_058: Image torch.Size([3, 224, 224]), Mask torch.Size([224, 224])\n",
      "✅ Loaded BraTS20_Training_297: Image torch.Size([3, 224, 224]), Mask torch.Size([224, 224])\n"
     ]
    },
    {
     "name": "stderr",
     "output_type": "stream",
     "text": [
      "Epoch [10/15]:  91%|█████████ | 68/75 [00:27<00:02,  2.47it/s, Loss=0.732]"
     ]
    },
    {
     "name": "stdout",
     "output_type": "stream",
     "text": [
      "✅ Loaded BraTS20_Training_008: Image torch.Size([3, 224, 224]), Mask torch.Size([224, 224])\n",
      "✅ Loaded BraTS20_Training_043: Image torch.Size([3, 224, 224]), Mask torch.Size([224, 224])\n"
     ]
    },
    {
     "name": "stderr",
     "output_type": "stream",
     "text": [
      "Epoch [10/15]:  92%|█████████▏| 69/75 [00:28<00:02,  2.45it/s, Loss=0.823]"
     ]
    },
    {
     "name": "stdout",
     "output_type": "stream",
     "text": [
      "✅ Loaded BraTS20_Training_080: Image torch.Size([3, 224, 224]), Mask torch.Size([224, 224])\n",
      "✅ Loaded BraTS20_Training_257: Image torch.Size([3, 224, 224]), Mask torch.Size([224, 224])\n"
     ]
    },
    {
     "name": "stderr",
     "output_type": "stream",
     "text": [
      "Epoch [10/15]:  93%|█████████▎| 70/75 [00:28<00:02,  2.43it/s, Loss=0.629]"
     ]
    },
    {
     "name": "stdout",
     "output_type": "stream",
     "text": [
      "✅ Loaded BraTS20_Training_299: Image torch.Size([3, 224, 224]), Mask torch.Size([224, 224])\n",
      "✅ Loaded BraTS20_Training_116: Image torch.Size([3, 224, 224]), Mask torch.Size([224, 224])\n"
     ]
    },
    {
     "name": "stderr",
     "output_type": "stream",
     "text": [
      "Epoch [10/15]:  95%|█████████▍| 71/75 [00:29<00:01,  2.46it/s, Loss=0.494]"
     ]
    },
    {
     "name": "stdout",
     "output_type": "stream",
     "text": [
      "✅ Loaded BraTS20_Training_147: Image torch.Size([3, 224, 224]), Mask torch.Size([224, 224])\n",
      "✅ Loaded BraTS20_Training_165: Image torch.Size([3, 224, 224]), Mask torch.Size([224, 224])\n"
     ]
    },
    {
     "name": "stderr",
     "output_type": "stream",
     "text": [
      "Epoch [10/15]:  96%|█████████▌| 72/75 [00:29<00:01,  2.41it/s, Loss=0.765]"
     ]
    },
    {
     "name": "stdout",
     "output_type": "stream",
     "text": [
      "✅ Loaded BraTS20_Training_025: Image torch.Size([3, 224, 224]), Mask torch.Size([224, 224])\n",
      "✅ Loaded BraTS20_Training_135: Image torch.Size([3, 224, 224]), Mask torch.Size([224, 224])\n"
     ]
    },
    {
     "name": "stderr",
     "output_type": "stream",
     "text": [
      "Epoch [10/15]:  97%|█████████▋| 73/75 [00:29<00:00,  2.40it/s, Loss=0.618]"
     ]
    },
    {
     "name": "stdout",
     "output_type": "stream",
     "text": [
      "✅ Loaded BraTS20_Training_110: Image torch.Size([3, 224, 224]), Mask torch.Size([224, 224])\n",
      "✅ Loaded BraTS20_Training_203: Image torch.Size([3, 224, 224]), Mask torch.Size([224, 224])\n"
     ]
    },
    {
     "name": "stderr",
     "output_type": "stream",
     "text": [
      "Epoch [10/15]:  99%|█████████▊| 74/75 [00:30<00:00,  2.38it/s, Loss=0.693]"
     ]
    },
    {
     "name": "stdout",
     "output_type": "stream",
     "text": [
      "✅ Loaded BraTS20_Training_121: Image torch.Size([3, 224, 224]), Mask torch.Size([224, 224])\n",
      "✅ Loaded BraTS20_Training_196: Image torch.Size([3, 224, 224]), Mask torch.Size([224, 224])\n"
     ]
    },
    {
     "name": "stderr",
     "output_type": "stream",
     "text": [
      "                                                                          \r"
     ]
    },
    {
     "name": "stdout",
     "output_type": "stream",
     "text": [
      "\n",
      "✅ Epoch 10: Train Loss: 0.6996\n",
      "💾 Saved model at epoch 10 with train loss 0.6996\n"
     ]
    },
    {
     "name": "stderr",
     "output_type": "stream",
     "text": [
      "Epoch [11/15]:   0%|          | 0/75 [00:00<?, ?it/s]"
     ]
    },
    {
     "name": "stdout",
     "output_type": "stream",
     "text": [
      "✅ Loaded BraTS20_Training_022: Image torch.Size([3, 224, 224]), Mask torch.Size([224, 224])\n",
      "✅ Loaded BraTS20_Training_119: Image torch.Size([3, 224, 224]), Mask torch.Size([224, 224])\n"
     ]
    },
    {
     "name": "stderr",
     "output_type": "stream",
     "text": [
      "Epoch [11/15]:   1%|▏         | 1/75 [00:00<00:30,  2.42it/s, Loss=0.774]"
     ]
    },
    {
     "name": "stdout",
     "output_type": "stream",
     "text": [
      "✅ Loaded BraTS20_Training_117: Image torch.Size([3, 224, 224]), Mask torch.Size([224, 224])\n",
      "✅ Loaded BraTS20_Training_297: Image torch.Size([3, 224, 224]), Mask torch.Size([224, 224])\n"
     ]
    },
    {
     "name": "stderr",
     "output_type": "stream",
     "text": [
      "Epoch [11/15]:   3%|▎         | 2/75 [00:00<00:31,  2.34it/s, Loss=0.643]"
     ]
    },
    {
     "name": "stdout",
     "output_type": "stream",
     "text": [
      "✅ Loaded BraTS20_Training_262: Image torch.Size([3, 224, 224]), Mask torch.Size([224, 224])\n",
      "✅ Loaded BraTS20_Training_061: Image torch.Size([3, 224, 224]), Mask torch.Size([224, 224])\n"
     ]
    },
    {
     "name": "stderr",
     "output_type": "stream",
     "text": [
      "Epoch [11/15]:   4%|▍         | 3/75 [00:01<00:30,  2.36it/s, Loss=0.637]"
     ]
    },
    {
     "name": "stdout",
     "output_type": "stream",
     "text": [
      "✅ Loaded BraTS20_Training_052: Image torch.Size([3, 224, 224]), Mask torch.Size([224, 224])\n",
      "✅ Loaded BraTS20_Training_224: Image torch.Size([3, 224, 224]), Mask torch.Size([224, 224])\n"
     ]
    },
    {
     "name": "stderr",
     "output_type": "stream",
     "text": [
      "Epoch [11/15]:   5%|▌         | 4/75 [00:01<00:29,  2.37it/s, Loss=0.639]"
     ]
    },
    {
     "name": "stdout",
     "output_type": "stream",
     "text": [
      "✅ Loaded BraTS20_Training_255: Image torch.Size([3, 224, 224]), Mask torch.Size([224, 224])\n",
      "✅ Loaded BraTS20_Training_105: Image torch.Size([3, 224, 224]), Mask torch.Size([224, 224])\n"
     ]
    },
    {
     "name": "stderr",
     "output_type": "stream",
     "text": [
      "Epoch [11/15]:   7%|▋         | 5/75 [00:02<00:29,  2.35it/s, Loss=0.547]"
     ]
    },
    {
     "name": "stdout",
     "output_type": "stream",
     "text": [
      "✅ Loaded BraTS20_Training_198: Image torch.Size([3, 224, 224]), Mask torch.Size([224, 224])\n",
      "✅ Loaded BraTS20_Training_230: Image torch.Size([3, 224, 224]), Mask torch.Size([224, 224])\n"
     ]
    },
    {
     "name": "stderr",
     "output_type": "stream",
     "text": [
      "Epoch [11/15]:   8%|▊         | 6/75 [00:02<00:32,  2.13it/s, Loss=0.658]"
     ]
    },
    {
     "name": "stdout",
     "output_type": "stream",
     "text": [
      "✅ Loaded BraTS20_Training_158: Image torch.Size([3, 224, 224]), Mask torch.Size([224, 224])\n",
      "✅ Loaded BraTS20_Training_260: Image torch.Size([3, 224, 224]), Mask torch.Size([224, 224])\n"
     ]
    },
    {
     "name": "stderr",
     "output_type": "stream",
     "text": [
      "Epoch [11/15]:   9%|▉         | 7/75 [00:03<00:36,  1.85it/s, Loss=0.83] "
     ]
    },
    {
     "name": "stdout",
     "output_type": "stream",
     "text": [
      "✅ Loaded BraTS20_Training_132: Image torch.Size([3, 224, 224]), Mask torch.Size([224, 224])\n",
      "✅ Loaded BraTS20_Training_186: Image torch.Size([3, 224, 224]), Mask torch.Size([224, 224])\n"
     ]
    },
    {
     "name": "stderr",
     "output_type": "stream",
     "text": [
      "Epoch [11/15]:  11%|█         | 8/75 [00:04<00:39,  1.71it/s, Loss=0.561]"
     ]
    },
    {
     "name": "stdout",
     "output_type": "stream",
     "text": [
      "✅ Loaded BraTS20_Training_348: Image torch.Size([3, 224, 224]), Mask torch.Size([224, 224])\n",
      "✅ Loaded BraTS20_Training_083: Image torch.Size([3, 224, 224]), Mask torch.Size([224, 224])\n"
     ]
    },
    {
     "name": "stderr",
     "output_type": "stream",
     "text": [
      "Epoch [11/15]:  12%|█▏        | 9/75 [00:04<00:40,  1.61it/s, Loss=0.629]"
     ]
    },
    {
     "name": "stdout",
     "output_type": "stream",
     "text": [
      "✅ Loaded BraTS20_Training_027: Image torch.Size([3, 224, 224]), Mask torch.Size([224, 224])\n",
      "✅ Loaded BraTS20_Training_318: Image torch.Size([3, 224, 224]), Mask torch.Size([224, 224])\n"
     ]
    },
    {
     "name": "stderr",
     "output_type": "stream",
     "text": [
      "Epoch [11/15]:  13%|█▎        | 10/75 [00:05<00:41,  1.56it/s, Loss=0.675]"
     ]
    },
    {
     "name": "stdout",
     "output_type": "stream",
     "text": [
      "✅ Loaded BraTS20_Training_222: Image torch.Size([3, 224, 224]), Mask torch.Size([224, 224])\n",
      "✅ Loaded BraTS20_Training_020: Image torch.Size([3, 224, 224]), Mask torch.Size([224, 224])\n"
     ]
    },
    {
     "name": "stderr",
     "output_type": "stream",
     "text": [
      "Epoch [11/15]:  15%|█▍        | 11/75 [00:06<00:41,  1.55it/s, Loss=0.687]"
     ]
    },
    {
     "name": "stdout",
     "output_type": "stream",
     "text": [
      "✅ Loaded BraTS20_Training_309: Image torch.Size([3, 224, 224]), Mask torch.Size([224, 224])\n",
      "✅ Loaded BraTS20_Training_237: Image torch.Size([3, 224, 224]), Mask torch.Size([224, 224])\n"
     ]
    },
    {
     "name": "stderr",
     "output_type": "stream",
     "text": [
      "Epoch [11/15]:  16%|█▌        | 12/75 [00:06<00:40,  1.56it/s, Loss=0.611]"
     ]
    },
    {
     "name": "stdout",
     "output_type": "stream",
     "text": [
      "✅ Loaded BraTS20_Training_010: Image torch.Size([3, 224, 224]), Mask torch.Size([224, 224])\n",
      "✅ Loaded BraTS20_Training_001: Image torch.Size([3, 224, 224]), Mask torch.Size([224, 224])\n"
     ]
    },
    {
     "name": "stderr",
     "output_type": "stream",
     "text": [
      "Epoch [11/15]:  17%|█▋        | 13/75 [00:07<00:39,  1.56it/s, Loss=0.719]"
     ]
    },
    {
     "name": "stdout",
     "output_type": "stream",
     "text": [
      "✅ Loaded BraTS20_Training_161: Image torch.Size([3, 224, 224]), Mask torch.Size([224, 224])\n",
      "✅ Loaded BraTS20_Training_258: Image torch.Size([3, 224, 224]), Mask torch.Size([224, 224])\n"
     ]
    },
    {
     "name": "stderr",
     "output_type": "stream",
     "text": [
      "Epoch [11/15]:  19%|█▊        | 14/75 [00:07<00:38,  1.57it/s, Loss=0.541]"
     ]
    },
    {
     "name": "stdout",
     "output_type": "stream",
     "text": [
      "✅ Loaded BraTS20_Training_148: Image torch.Size([3, 224, 224]), Mask torch.Size([224, 224])\n",
      "✅ Loaded BraTS20_Training_034: Image torch.Size([3, 224, 224]), Mask torch.Size([224, 224])\n"
     ]
    },
    {
     "name": "stderr",
     "output_type": "stream",
     "text": [
      "Epoch [11/15]:  20%|██        | 15/75 [00:08<00:38,  1.57it/s, Loss=0.725]"
     ]
    },
    {
     "name": "stdout",
     "output_type": "stream",
     "text": [
      "✅ Loaded BraTS20_Training_326: Image torch.Size([3, 224, 224]), Mask torch.Size([224, 224])\n",
      "✅ Loaded BraTS20_Training_135: Image torch.Size([3, 224, 224]), Mask torch.Size([224, 224])\n"
     ]
    },
    {
     "name": "stderr",
     "output_type": "stream",
     "text": [
      "Epoch [11/15]:  21%|██▏       | 16/75 [00:09<00:37,  1.56it/s, Loss=0.602]"
     ]
    },
    {
     "name": "stdout",
     "output_type": "stream",
     "text": [
      "✅ Loaded BraTS20_Training_329: Image torch.Size([3, 224, 224]), Mask torch.Size([224, 224])\n",
      "✅ Loaded BraTS20_Training_278: Image torch.Size([3, 224, 224]), Mask torch.Size([224, 224])\n"
     ]
    },
    {
     "name": "stderr",
     "output_type": "stream",
     "text": [
      "Epoch [11/15]:  23%|██▎       | 17/75 [00:09<00:37,  1.55it/s, Loss=0.7]  "
     ]
    },
    {
     "name": "stdout",
     "output_type": "stream",
     "text": [
      "✅ Loaded BraTS20_Training_077: Image torch.Size([3, 224, 224]), Mask torch.Size([224, 224])\n",
      "✅ Loaded BraTS20_Training_217: Image torch.Size([3, 224, 224]), Mask torch.Size([224, 224])\n"
     ]
    },
    {
     "name": "stderr",
     "output_type": "stream",
     "text": [
      "Epoch [11/15]:  24%|██▍       | 18/75 [00:10<00:37,  1.51it/s, Loss=0.746]"
     ]
    },
    {
     "name": "stdout",
     "output_type": "stream",
     "text": [
      "✅ Loaded BraTS20_Training_050: Image torch.Size([3, 224, 224]), Mask torch.Size([224, 224])\n",
      "✅ Loaded BraTS20_Training_294: Image torch.Size([3, 224, 224]), Mask torch.Size([224, 224])\n"
     ]
    },
    {
     "name": "stderr",
     "output_type": "stream",
     "text": [
      "Epoch [11/15]:  25%|██▌       | 19/75 [00:11<00:36,  1.53it/s, Loss=0.698]"
     ]
    },
    {
     "name": "stdout",
     "output_type": "stream",
     "text": [
      "✅ Loaded BraTS20_Training_140: Image torch.Size([3, 224, 224]), Mask torch.Size([224, 224])\n",
      "✅ Loaded BraTS20_Training_220: Image torch.Size([3, 224, 224]), Mask torch.Size([224, 224])\n"
     ]
    },
    {
     "name": "stderr",
     "output_type": "stream",
     "text": [
      "Epoch [11/15]:  27%|██▋       | 20/75 [00:11<00:36,  1.52it/s, Loss=0.703]"
     ]
    },
    {
     "name": "stdout",
     "output_type": "stream",
     "text": [
      "✅ Loaded BraTS20_Training_058: Image torch.Size([3, 224, 224]), Mask torch.Size([224, 224])\n",
      "✅ Loaded BraTS20_Training_123: Image torch.Size([3, 224, 224]), Mask torch.Size([224, 224])\n"
     ]
    },
    {
     "name": "stderr",
     "output_type": "stream",
     "text": [
      "Epoch [11/15]:  28%|██▊       | 21/75 [00:12<00:36,  1.50it/s, Loss=0.541]"
     ]
    },
    {
     "name": "stdout",
     "output_type": "stream",
     "text": [
      "✅ Loaded BraTS20_Training_197: Image torch.Size([3, 224, 224]), Mask torch.Size([224, 224])\n",
      "✅ Loaded BraTS20_Training_164: Image torch.Size([3, 224, 224]), Mask torch.Size([224, 224])\n"
     ]
    },
    {
     "name": "stderr",
     "output_type": "stream",
     "text": [
      "Epoch [11/15]:  29%|██▉       | 22/75 [00:13<00:35,  1.51it/s, Loss=0.753]"
     ]
    },
    {
     "name": "stdout",
     "output_type": "stream",
     "text": [
      "✅ Loaded BraTS20_Training_080: Image torch.Size([3, 224, 224]), Mask torch.Size([224, 224])\n",
      "✅ Loaded BraTS20_Training_270: Image torch.Size([3, 224, 224]), Mask torch.Size([224, 224])\n"
     ]
    },
    {
     "name": "stderr",
     "output_type": "stream",
     "text": [
      "Epoch [11/15]:  31%|███       | 23/75 [00:13<00:34,  1.51it/s, Loss=0.509]"
     ]
    },
    {
     "name": "stdout",
     "output_type": "stream",
     "text": [
      "✅ Loaded BraTS20_Training_086: Image torch.Size([3, 224, 224]), Mask torch.Size([224, 224])\n",
      "✅ Loaded BraTS20_Training_353: Image torch.Size([3, 224, 224]), Mask torch.Size([224, 224])\n"
     ]
    },
    {
     "name": "stderr",
     "output_type": "stream",
     "text": [
      "Epoch [11/15]:  32%|███▏      | 24/75 [00:14<00:33,  1.52it/s, Loss=0.807]"
     ]
    },
    {
     "name": "stdout",
     "output_type": "stream",
     "text": [
      "✅ Loaded BraTS20_Training_116: Image torch.Size([3, 224, 224]), Mask torch.Size([224, 224])\n",
      "✅ Loaded BraTS20_Training_096: Image torch.Size([3, 224, 224]), Mask torch.Size([224, 224])\n"
     ]
    },
    {
     "name": "stderr",
     "output_type": "stream",
     "text": [
      "Epoch [11/15]:  33%|███▎      | 25/75 [00:15<00:32,  1.54it/s, Loss=0.538]"
     ]
    },
    {
     "name": "stdout",
     "output_type": "stream",
     "text": [
      "✅ Loaded BraTS20_Training_128: Image torch.Size([3, 224, 224]), Mask torch.Size([224, 224])\n",
      "✅ Loaded BraTS20_Training_021: Image torch.Size([3, 224, 224]), Mask torch.Size([224, 224])\n"
     ]
    },
    {
     "name": "stderr",
     "output_type": "stream",
     "text": [
      "Epoch [11/15]:  35%|███▍      | 26/75 [00:15<00:31,  1.54it/s, Loss=0.671]"
     ]
    },
    {
     "name": "stdout",
     "output_type": "stream",
     "text": [
      "✅ Loaded BraTS20_Training_155: Image torch.Size([3, 224, 224]), Mask torch.Size([224, 224])\n",
      "✅ Loaded BraTS20_Training_322: Image torch.Size([3, 224, 224]), Mask torch.Size([224, 224])\n"
     ]
    },
    {
     "name": "stderr",
     "output_type": "stream",
     "text": [
      "Epoch [11/15]:  36%|███▌      | 27/75 [00:16<00:31,  1.54it/s, Loss=0.513]"
     ]
    },
    {
     "name": "stdout",
     "output_type": "stream",
     "text": [
      "✅ Loaded BraTS20_Training_336: Image torch.Size([3, 224, 224]), Mask torch.Size([224, 224])\n",
      "✅ Loaded BraTS20_Training_017: Image torch.Size([3, 224, 224]), Mask torch.Size([224, 224])\n"
     ]
    },
    {
     "name": "stderr",
     "output_type": "stream",
     "text": [
      "Epoch [11/15]:  37%|███▋      | 28/75 [00:17<00:29,  1.57it/s, Loss=0.512]"
     ]
    },
    {
     "name": "stdout",
     "output_type": "stream",
     "text": [
      "✅ Loaded BraTS20_Training_275: Image torch.Size([3, 224, 224]), Mask torch.Size([224, 224])\n",
      "✅ Loaded BraTS20_Training_037: Image torch.Size([3, 224, 224]), Mask torch.Size([224, 224])\n"
     ]
    },
    {
     "name": "stderr",
     "output_type": "stream",
     "text": [
      "Epoch [11/15]:  39%|███▊      | 29/75 [00:17<00:28,  1.59it/s, Loss=0.558]"
     ]
    },
    {
     "name": "stdout",
     "output_type": "stream",
     "text": [
      "✅ Loaded BraTS20_Training_089: Image torch.Size([3, 224, 224]), Mask torch.Size([224, 224])\n",
      "✅ Loaded BraTS20_Training_069: Image torch.Size([3, 224, 224]), Mask torch.Size([224, 224])\n"
     ]
    },
    {
     "name": "stderr",
     "output_type": "stream",
     "text": [
      "Epoch [11/15]:  40%|████      | 30/75 [00:18<00:28,  1.60it/s, Loss=0.764]"
     ]
    },
    {
     "name": "stdout",
     "output_type": "stream",
     "text": [
      "✅ Loaded BraTS20_Training_131: Image torch.Size([3, 224, 224]), Mask torch.Size([224, 224])\n",
      "✅ Loaded BraTS20_Training_206: Image torch.Size([3, 224, 224]), Mask torch.Size([224, 224])\n"
     ]
    },
    {
     "name": "stderr",
     "output_type": "stream",
     "text": [
      "Epoch [11/15]:  41%|████▏     | 31/75 [00:18<00:27,  1.60it/s, Loss=0.649]"
     ]
    },
    {
     "name": "stdout",
     "output_type": "stream",
     "text": [
      "✅ Loaded BraTS20_Training_228: Image torch.Size([3, 224, 224]), Mask torch.Size([224, 224])\n",
      "✅ Loaded BraTS20_Training_110: Image torch.Size([3, 224, 224]), Mask torch.Size([224, 224])\n"
     ]
    },
    {
     "name": "stderr",
     "output_type": "stream",
     "text": [
      "Epoch [11/15]:  43%|████▎     | 32/75 [00:19<00:26,  1.61it/s, Loss=0.678]"
     ]
    },
    {
     "name": "stdout",
     "output_type": "stream",
     "text": [
      "✅ Loaded BraTS20_Training_279: Image torch.Size([3, 224, 224]), Mask torch.Size([224, 224])\n",
      "✅ Loaded BraTS20_Training_369: Image torch.Size([3, 224, 224]), Mask torch.Size([224, 224])\n"
     ]
    },
    {
     "name": "stderr",
     "output_type": "stream",
     "text": [
      "Epoch [11/15]:  44%|████▍     | 33/75 [00:20<00:24,  1.71it/s, Loss=0.551]"
     ]
    },
    {
     "name": "stdout",
     "output_type": "stream",
     "text": [
      "✅ Loaded BraTS20_Training_196: Image torch.Size([3, 224, 224]), Mask torch.Size([224, 224])\n",
      "✅ Loaded BraTS20_Training_008: Image torch.Size([3, 224, 224]), Mask torch.Size([224, 224])\n"
     ]
    },
    {
     "name": "stderr",
     "output_type": "stream",
     "text": [
      "Epoch [11/15]:  45%|████▌     | 34/75 [00:20<00:21,  1.89it/s, Loss=0.637]"
     ]
    },
    {
     "name": "stdout",
     "output_type": "stream",
     "text": [
      "✅ Loaded BraTS20_Training_308: Image torch.Size([3, 224, 224]), Mask torch.Size([224, 224])\n",
      "✅ Loaded BraTS20_Training_043: Image torch.Size([3, 224, 224]), Mask torch.Size([224, 224])\n"
     ]
    },
    {
     "name": "stderr",
     "output_type": "stream",
     "text": [
      "Epoch [11/15]:  47%|████▋     | 35/75 [00:20<00:19,  2.04it/s, Loss=0.565]"
     ]
    },
    {
     "name": "stdout",
     "output_type": "stream",
     "text": [
      "✅ Loaded BraTS20_Training_125: Image torch.Size([3, 224, 224]), Mask torch.Size([224, 224])\n",
      "✅ Loaded BraTS20_Training_290: Image torch.Size([3, 224, 224]), Mask torch.Size([224, 224])\n"
     ]
    },
    {
     "name": "stderr",
     "output_type": "stream",
     "text": [
      "Epoch [11/15]:  48%|████▊     | 36/75 [00:21<00:18,  2.16it/s, Loss=0.817]"
     ]
    },
    {
     "name": "stdout",
     "output_type": "stream",
     "text": [
      "✅ Loaded BraTS20_Training_195: Image torch.Size([3, 224, 224]), Mask torch.Size([224, 224])\n",
      "✅ Loaded BraTS20_Training_358: Image torch.Size([3, 224, 224]), Mask torch.Size([224, 224])\n"
     ]
    },
    {
     "name": "stderr",
     "output_type": "stream",
     "text": [
      "Epoch [11/15]:  49%|████▉     | 37/75 [00:21<00:16,  2.25it/s, Loss=0.601]"
     ]
    },
    {
     "name": "stdout",
     "output_type": "stream",
     "text": [
      "✅ Loaded BraTS20_Training_299: Image torch.Size([3, 224, 224]), Mask torch.Size([224, 224])\n",
      "✅ Loaded BraTS20_Training_120: Image torch.Size([3, 224, 224]), Mask torch.Size([224, 224])\n"
     ]
    },
    {
     "name": "stderr",
     "output_type": "stream",
     "text": [
      "Epoch [11/15]:  51%|█████     | 38/75 [00:22<00:15,  2.32it/s, Loss=0.628]"
     ]
    },
    {
     "name": "stdout",
     "output_type": "stream",
     "text": [
      "✅ Loaded BraTS20_Training_227: Image torch.Size([3, 224, 224]), Mask torch.Size([224, 224])\n",
      "✅ Loaded BraTS20_Training_073: Image torch.Size([3, 224, 224]), Mask torch.Size([224, 224])\n"
     ]
    },
    {
     "name": "stderr",
     "output_type": "stream",
     "text": [
      "Epoch [11/15]:  52%|█████▏    | 39/75 [00:22<00:15,  2.37it/s, Loss=0.786]"
     ]
    },
    {
     "name": "stdout",
     "output_type": "stream",
     "text": [
      "✅ Loaded BraTS20_Training_057: Image torch.Size([3, 224, 224]), Mask torch.Size([224, 224])\n",
      "✅ Loaded BraTS20_Training_056: Image torch.Size([3, 224, 224]), Mask torch.Size([224, 224])\n"
     ]
    },
    {
     "name": "stderr",
     "output_type": "stream",
     "text": [
      "Epoch [11/15]:  53%|█████▎    | 40/75 [00:22<00:14,  2.41it/s, Loss=0.843]"
     ]
    },
    {
     "name": "stdout",
     "output_type": "stream",
     "text": [
      "✅ Loaded BraTS20_Training_302: Image torch.Size([3, 224, 224]), Mask torch.Size([224, 224])\n",
      "✅ Loaded BraTS20_Training_165: Image torch.Size([3, 224, 224]), Mask torch.Size([224, 224])\n"
     ]
    },
    {
     "name": "stderr",
     "output_type": "stream",
     "text": [
      "Epoch [11/15]:  55%|█████▍    | 41/75 [00:23<00:13,  2.44it/s, Loss=0.486]"
     ]
    },
    {
     "name": "stdout",
     "output_type": "stream",
     "text": [
      "✅ Loaded BraTS20_Training_180: Image torch.Size([3, 224, 224]), Mask torch.Size([224, 224])\n",
      "✅ Loaded BraTS20_Training_250: Image torch.Size([3, 224, 224]), Mask torch.Size([224, 224])\n"
     ]
    },
    {
     "name": "stderr",
     "output_type": "stream",
     "text": [
      "Epoch [11/15]:  56%|█████▌    | 42/75 [00:23<00:13,  2.46it/s, Loss=0.632]"
     ]
    },
    {
     "name": "stdout",
     "output_type": "stream",
     "text": [
      "✅ Loaded BraTS20_Training_087: Image torch.Size([3, 224, 224]), Mask torch.Size([224, 224])\n",
      "✅ Loaded BraTS20_Training_245: Image torch.Size([3, 224, 224]), Mask torch.Size([224, 224])\n"
     ]
    },
    {
     "name": "stderr",
     "output_type": "stream",
     "text": [
      "Epoch [11/15]:  57%|█████▋    | 43/75 [00:24<00:12,  2.49it/s, Loss=0.517]"
     ]
    },
    {
     "name": "stdout",
     "output_type": "stream",
     "text": [
      "✅ Loaded BraTS20_Training_225: Image torch.Size([3, 224, 224]), Mask torch.Size([224, 224])\n",
      "✅ Loaded BraTS20_Training_019: Image torch.Size([3, 224, 224]), Mask torch.Size([224, 224])\n"
     ]
    },
    {
     "name": "stderr",
     "output_type": "stream",
     "text": [
      "Epoch [11/15]:  59%|█████▊    | 44/75 [00:24<00:12,  2.47it/s, Loss=0.562]"
     ]
    },
    {
     "name": "stdout",
     "output_type": "stream",
     "text": [
      "✅ Loaded BraTS20_Training_093: Image torch.Size([3, 224, 224]), Mask torch.Size([224, 224])\n",
      "✅ Loaded BraTS20_Training_282: Image torch.Size([3, 224, 224]), Mask torch.Size([224, 224])\n"
     ]
    },
    {
     "name": "stderr",
     "output_type": "stream",
     "text": [
      "Epoch [11/15]:  60%|██████    | 45/75 [00:24<00:12,  2.48it/s, Loss=0.713]"
     ]
    },
    {
     "name": "stdout",
     "output_type": "stream",
     "text": [
      "✅ Loaded BraTS20_Training_072: Image torch.Size([3, 224, 224]), Mask torch.Size([224, 224])\n",
      "✅ Loaded BraTS20_Training_261: Image torch.Size([3, 224, 224]), Mask torch.Size([224, 224])\n"
     ]
    },
    {
     "name": "stderr",
     "output_type": "stream",
     "text": [
      "Epoch [11/15]:  61%|██████▏   | 46/75 [00:25<00:11,  2.49it/s, Loss=0.558]"
     ]
    },
    {
     "name": "stdout",
     "output_type": "stream",
     "text": [
      "✅ Loaded BraTS20_Training_036: Image torch.Size([3, 224, 224]), Mask torch.Size([224, 224])\n",
      "✅ Loaded BraTS20_Training_257: Image torch.Size([3, 224, 224]), Mask torch.Size([224, 224])\n"
     ]
    },
    {
     "name": "stderr",
     "output_type": "stream",
     "text": [
      "Epoch [11/15]:  63%|██████▎   | 47/75 [00:25<00:11,  2.51it/s, Loss=0.644]"
     ]
    },
    {
     "name": "stdout",
     "output_type": "stream",
     "text": [
      "✅ Loaded BraTS20_Training_060: Image torch.Size([3, 224, 224]), Mask torch.Size([224, 224])\n",
      "✅ Loaded BraTS20_Training_242: Image torch.Size([3, 224, 224]), Mask torch.Size([224, 224])\n"
     ]
    },
    {
     "name": "stderr",
     "output_type": "stream",
     "text": [
      "Epoch [11/15]:  64%|██████▍   | 48/75 [00:26<00:10,  2.51it/s, Loss=0.607]"
     ]
    },
    {
     "name": "stdout",
     "output_type": "stream",
     "text": [
      "✅ Loaded BraTS20_Training_201: Image torch.Size([3, 224, 224]), Mask torch.Size([224, 224])\n",
      "✅ Loaded BraTS20_Training_233: Image torch.Size([3, 224, 224]), Mask torch.Size([224, 224])\n"
     ]
    },
    {
     "name": "stderr",
     "output_type": "stream",
     "text": [
      "Epoch [11/15]:  65%|██████▌   | 49/75 [00:26<00:10,  2.51it/s, Loss=0.564]"
     ]
    },
    {
     "name": "stdout",
     "output_type": "stream",
     "text": [
      "✅ Loaded BraTS20_Training_194: Image torch.Size([3, 224, 224]), Mask torch.Size([224, 224])\n",
      "✅ Loaded BraTS20_Training_183: Image torch.Size([3, 224, 224]), Mask torch.Size([224, 224])\n"
     ]
    },
    {
     "name": "stderr",
     "output_type": "stream",
     "text": [
      "Epoch [11/15]:  67%|██████▋   | 50/75 [00:26<00:09,  2.51it/s, Loss=0.377]"
     ]
    },
    {
     "name": "stdout",
     "output_type": "stream",
     "text": [
      "✅ Loaded BraTS20_Training_015: Image torch.Size([3, 224, 224]), Mask torch.Size([224, 224])\n",
      "✅ Loaded BraTS20_Training_032: Image torch.Size([3, 224, 224]), Mask torch.Size([224, 224])\n"
     ]
    },
    {
     "name": "stderr",
     "output_type": "stream",
     "text": [
      "Epoch [11/15]:  68%|██████▊   | 51/75 [00:27<00:09,  2.51it/s, Loss=0.625]"
     ]
    },
    {
     "name": "stdout",
     "output_type": "stream",
     "text": [
      "✅ Loaded BraTS20_Training_271: Image torch.Size([3, 224, 224]), Mask torch.Size([224, 224])\n",
      "✅ Loaded BraTS20_Training_149: Image torch.Size([3, 224, 224]), Mask torch.Size([224, 224])\n"
     ]
    },
    {
     "name": "stderr",
     "output_type": "stream",
     "text": [
      "Epoch [11/15]:  69%|██████▉   | 52/75 [00:27<00:09,  2.50it/s, Loss=0.704]"
     ]
    },
    {
     "name": "stdout",
     "output_type": "stream",
     "text": [
      "✅ Loaded BraTS20_Training_150: Image torch.Size([3, 224, 224]), Mask torch.Size([224, 224])\n",
      "✅ Loaded BraTS20_Training_312: Image torch.Size([3, 224, 224]), Mask torch.Size([224, 224])\n"
     ]
    },
    {
     "name": "stderr",
     "output_type": "stream",
     "text": [
      "Epoch [11/15]:  71%|███████   | 53/75 [00:28<00:08,  2.47it/s, Loss=0.49] "
     ]
    },
    {
     "name": "stdout",
     "output_type": "stream",
     "text": [
      "✅ Loaded BraTS20_Training_053: Image torch.Size([3, 224, 224]), Mask torch.Size([224, 224])\n",
      "✅ Loaded BraTS20_Training_092: Image torch.Size([3, 224, 224]), Mask torch.Size([224, 224])\n"
     ]
    },
    {
     "name": "stderr",
     "output_type": "stream",
     "text": [
      "Epoch [11/15]:  72%|███████▏  | 54/75 [00:28<00:08,  2.48it/s, Loss=0.448]"
     ]
    },
    {
     "name": "stdout",
     "output_type": "stream",
     "text": [
      "✅ Loaded BraTS20_Training_064: Image torch.Size([3, 224, 224]), Mask torch.Size([224, 224])\n",
      "✅ Loaded BraTS20_Training_188: Image torch.Size([3, 224, 224]), Mask torch.Size([224, 224])\n"
     ]
    },
    {
     "name": "stderr",
     "output_type": "stream",
     "text": [
      "Epoch [11/15]:  73%|███████▎  | 55/75 [00:28<00:08,  2.48it/s, Loss=0.668]"
     ]
    },
    {
     "name": "stdout",
     "output_type": "stream",
     "text": [
      "✅ Loaded BraTS20_Training_315: Image torch.Size([3, 224, 224]), Mask torch.Size([224, 224])\n",
      "✅ Loaded BraTS20_Training_147: Image torch.Size([3, 224, 224]), Mask torch.Size([224, 224])\n"
     ]
    },
    {
     "name": "stderr",
     "output_type": "stream",
     "text": [
      "Epoch [11/15]:  75%|███████▍  | 56/75 [00:29<00:07,  2.49it/s, Loss=0.763]"
     ]
    },
    {
     "name": "stdout",
     "output_type": "stream",
     "text": [
      "✅ Loaded BraTS20_Training_166: Image torch.Size([3, 224, 224]), Mask torch.Size([224, 224])\n",
      "✅ Loaded BraTS20_Training_033: Image torch.Size([3, 224, 224]), Mask torch.Size([224, 224])\n"
     ]
    },
    {
     "name": "stderr",
     "output_type": "stream",
     "text": [
      "Epoch [11/15]:  76%|███████▌  | 57/75 [00:29<00:07,  2.49it/s, Loss=0.465]"
     ]
    },
    {
     "name": "stdout",
     "output_type": "stream",
     "text": [
      "✅ Loaded BraTS20_Training_143: Image torch.Size([3, 224, 224]), Mask torch.Size([224, 224])\n",
      "✅ Loaded BraTS20_Training_106: Image torch.Size([3, 224, 224]), Mask torch.Size([224, 224])\n"
     ]
    },
    {
     "name": "stderr",
     "output_type": "stream",
     "text": [
      "Epoch [11/15]:  77%|███████▋  | 58/75 [00:30<00:06,  2.50it/s, Loss=0.649]"
     ]
    },
    {
     "name": "stdout",
     "output_type": "stream",
     "text": [
      "✅ Loaded BraTS20_Training_145: Image torch.Size([3, 224, 224]), Mask torch.Size([224, 224])\n",
      "✅ Loaded BraTS20_Training_129: Image torch.Size([3, 224, 224]), Mask torch.Size([224, 224])\n"
     ]
    },
    {
     "name": "stderr",
     "output_type": "stream",
     "text": [
      "Epoch [11/15]:  79%|███████▊  | 59/75 [00:30<00:06,  2.50it/s, Loss=0.749]"
     ]
    },
    {
     "name": "stdout",
     "output_type": "stream",
     "text": [
      "✅ Loaded BraTS20_Training_360: Image torch.Size([3, 224, 224]), Mask torch.Size([224, 224])\n",
      "✅ Loaded BraTS20_Training_273: Image torch.Size([3, 224, 224]), Mask torch.Size([224, 224])\n"
     ]
    },
    {
     "name": "stderr",
     "output_type": "stream",
     "text": [
      "Epoch [11/15]:  80%|████████  | 60/75 [00:30<00:06,  2.47it/s, Loss=0.688]"
     ]
    },
    {
     "name": "stdout",
     "output_type": "stream",
     "text": [
      "✅ Loaded BraTS20_Training_226: Image torch.Size([3, 224, 224]), Mask torch.Size([224, 224])\n",
      "✅ Loaded BraTS20_Training_025: Image torch.Size([3, 224, 224]), Mask torch.Size([224, 224])\n"
     ]
    },
    {
     "name": "stderr",
     "output_type": "stream",
     "text": [
      "Epoch [11/15]:  81%|████████▏ | 61/75 [00:31<00:05,  2.48it/s, Loss=0.864]"
     ]
    },
    {
     "name": "stdout",
     "output_type": "stream",
     "text": [
      "✅ Loaded BraTS20_Training_332: Image torch.Size([3, 224, 224]), Mask torch.Size([224, 224])\n",
      "✅ Loaded BraTS20_Training_289: Image torch.Size([3, 224, 224]), Mask torch.Size([224, 224])\n"
     ]
    },
    {
     "name": "stderr",
     "output_type": "stream",
     "text": [
      "Epoch [11/15]:  83%|████████▎ | 62/75 [00:31<00:05,  2.45it/s, Loss=0.524]"
     ]
    },
    {
     "name": "stdout",
     "output_type": "stream",
     "text": [
      "✅ Loaded BraTS20_Training_259: Image torch.Size([3, 224, 224]), Mask torch.Size([224, 224])\n",
      "✅ Loaded BraTS20_Training_124: Image torch.Size([3, 224, 224]), Mask torch.Size([224, 224])\n"
     ]
    },
    {
     "name": "stderr",
     "output_type": "stream",
     "text": [
      "Epoch [11/15]:  84%|████████▍ | 63/75 [00:32<00:04,  2.47it/s, Loss=0.518]"
     ]
    },
    {
     "name": "stdout",
     "output_type": "stream",
     "text": [
      "✅ Loaded BraTS20_Training_339: Image torch.Size([3, 224, 224]), Mask torch.Size([224, 224])\n",
      "✅ Loaded BraTS20_Training_082: Image torch.Size([3, 224, 224]), Mask torch.Size([224, 224])\n"
     ]
    },
    {
     "name": "stderr",
     "output_type": "stream",
     "text": [
      "Epoch [11/15]:  85%|████████▌ | 64/75 [00:32<00:04,  2.48it/s, Loss=0.493]"
     ]
    },
    {
     "name": "stdout",
     "output_type": "stream",
     "text": [
      "✅ Loaded BraTS20_Training_280: Image torch.Size([3, 224, 224]), Mask torch.Size([224, 224])\n",
      "✅ Loaded BraTS20_Training_277: Image torch.Size([3, 224, 224]), Mask torch.Size([224, 224])\n"
     ]
    },
    {
     "name": "stderr",
     "output_type": "stream",
     "text": [
      "Epoch [11/15]:  87%|████████▋ | 65/75 [00:32<00:04,  2.48it/s, Loss=0.646]"
     ]
    },
    {
     "name": "stdout",
     "output_type": "stream",
     "text": [
      "✅ Loaded BraTS20_Training_024: Image torch.Size([3, 224, 224]), Mask torch.Size([224, 224])\n",
      "✅ Loaded BraTS20_Training_248: Image torch.Size([3, 224, 224]), Mask torch.Size([224, 224])\n"
     ]
    },
    {
     "name": "stderr",
     "output_type": "stream",
     "text": [
      "Epoch [11/15]:  88%|████████▊ | 66/75 [00:33<00:03,  2.49it/s, Loss=0.46] "
     ]
    },
    {
     "name": "stdout",
     "output_type": "stream",
     "text": [
      "✅ Loaded BraTS20_Training_099: Image torch.Size([3, 224, 224]), Mask torch.Size([224, 224])\n",
      "✅ Loaded BraTS20_Training_079: Image torch.Size([3, 224, 224]), Mask torch.Size([224, 224])\n"
     ]
    },
    {
     "name": "stderr",
     "output_type": "stream",
     "text": [
      "Epoch [11/15]:  89%|████████▉ | 67/75 [00:33<00:03,  2.46it/s, Loss=0.839]"
     ]
    },
    {
     "name": "stdout",
     "output_type": "stream",
     "text": [
      "✅ Loaded BraTS20_Training_253: Image torch.Size([3, 224, 224]), Mask torch.Size([224, 224])\n",
      "✅ Loaded BraTS20_Training_239: Image torch.Size([3, 224, 224]), Mask torch.Size([224, 224])\n"
     ]
    },
    {
     "name": "stderr",
     "output_type": "stream",
     "text": [
      "Epoch [11/15]:  91%|█████████ | 68/75 [00:34<00:02,  2.47it/s, Loss=0.741]"
     ]
    },
    {
     "name": "stdout",
     "output_type": "stream",
     "text": [
      "✅ Loaded BraTS20_Training_042: Image torch.Size([3, 224, 224]), Mask torch.Size([224, 224])\n",
      "✅ Loaded BraTS20_Training_345: Image torch.Size([3, 224, 224]), Mask torch.Size([224, 224])\n"
     ]
    },
    {
     "name": "stderr",
     "output_type": "stream",
     "text": [
      "Epoch [11/15]:  92%|█████████▏| 69/75 [00:34<00:02,  2.44it/s, Loss=0.503]"
     ]
    },
    {
     "name": "stdout",
     "output_type": "stream",
     "text": [
      "✅ Loaded BraTS20_Training_203: Image torch.Size([3, 224, 224]), Mask torch.Size([224, 224])\n",
      "✅ Loaded BraTS20_Training_272: Image torch.Size([3, 224, 224]), Mask torch.Size([224, 224])\n"
     ]
    },
    {
     "name": "stderr",
     "output_type": "stream",
     "text": [
      "Epoch [11/15]:  93%|█████████▎| 70/75 [00:34<00:02,  2.47it/s, Loss=0.716]"
     ]
    },
    {
     "name": "stdout",
     "output_type": "stream",
     "text": [
      "✅ Loaded BraTS20_Training_267: Image torch.Size([3, 224, 224]), Mask torch.Size([224, 224])\n",
      "✅ Loaded BraTS20_Training_268: Image torch.Size([3, 224, 224]), Mask torch.Size([224, 224])\n"
     ]
    },
    {
     "name": "stderr",
     "output_type": "stream",
     "text": [
      "Epoch [11/15]:  95%|█████████▍| 71/75 [00:35<00:01,  2.45it/s, Loss=0.774]"
     ]
    },
    {
     "name": "stdout",
     "output_type": "stream",
     "text": [
      "✅ Loaded BraTS20_Training_193: Image torch.Size([3, 224, 224]), Mask torch.Size([224, 224])\n",
      "✅ Loaded BraTS20_Training_213: Image torch.Size([3, 224, 224]), Mask torch.Size([224, 224])\n"
     ]
    },
    {
     "name": "stderr",
     "output_type": "stream",
     "text": [
      "Epoch [11/15]:  96%|█████████▌| 72/75 [00:35<00:01,  2.46it/s, Loss=0.545]"
     ]
    },
    {
     "name": "stdout",
     "output_type": "stream",
     "text": [
      "✅ Loaded BraTS20_Training_244: Image torch.Size([3, 224, 224]), Mask torch.Size([224, 224])\n",
      "✅ Loaded BraTS20_Training_364: Image torch.Size([3, 224, 224]), Mask torch.Size([224, 224])\n"
     ]
    },
    {
     "name": "stderr",
     "output_type": "stream",
     "text": [
      "Epoch [11/15]:  97%|█████████▋| 73/75 [00:36<00:00,  2.45it/s, Loss=0.585]"
     ]
    },
    {
     "name": "stdout",
     "output_type": "stream",
     "text": [
      "✅ Loaded BraTS20_Training_151: Image torch.Size([3, 224, 224]), Mask torch.Size([224, 224])\n",
      "✅ Loaded BraTS20_Training_023: Image torch.Size([3, 224, 224]), Mask torch.Size([224, 224])\n"
     ]
    },
    {
     "name": "stderr",
     "output_type": "stream",
     "text": [
      "Epoch [11/15]:  99%|█████████▊| 74/75 [00:36<00:00,  2.46it/s, Loss=0.495]"
     ]
    },
    {
     "name": "stdout",
     "output_type": "stream",
     "text": [
      "✅ Loaded BraTS20_Training_126: Image torch.Size([3, 224, 224]), Mask torch.Size([224, 224])\n",
      "✅ Loaded BraTS20_Training_121: Image torch.Size([3, 224, 224]), Mask torch.Size([224, 224])\n"
     ]
    },
    {
     "name": "stderr",
     "output_type": "stream",
     "text": [
      "                                                                          \r"
     ]
    },
    {
     "name": "stdout",
     "output_type": "stream",
     "text": [
      "\n",
      "✅ Epoch 11: Train Loss: 0.6307\n",
      "💾 Saved model at epoch 11 with train loss 0.6307\n"
     ]
    },
    {
     "name": "stderr",
     "output_type": "stream",
     "text": [
      "Epoch [12/15]:   0%|          | 0/75 [00:00<?, ?it/s]"
     ]
    },
    {
     "name": "stdout",
     "output_type": "stream",
     "text": [
      "✅ Loaded BraTS20_Training_123: Image torch.Size([3, 224, 224]), Mask torch.Size([224, 224])\n",
      "✅ Loaded BraTS20_Training_308: Image torch.Size([3, 224, 224]), Mask torch.Size([224, 224])\n"
     ]
    },
    {
     "name": "stderr",
     "output_type": "stream",
     "text": [
      "Epoch [12/15]:   1%|▏         | 1/75 [00:00<00:29,  2.50it/s, Loss=0.453]"
     ]
    },
    {
     "name": "stdout",
     "output_type": "stream",
     "text": [
      "✅ Loaded BraTS20_Training_270: Image torch.Size([3, 224, 224]), Mask torch.Size([224, 224])\n",
      "✅ Loaded BraTS20_Training_053: Image torch.Size([3, 224, 224]), Mask torch.Size([224, 224])\n"
     ]
    },
    {
     "name": "stderr",
     "output_type": "stream",
     "text": [
      "Epoch [12/15]:   3%|▎         | 2/75 [00:00<00:29,  2.50it/s, Loss=0.435]"
     ]
    },
    {
     "name": "stdout",
     "output_type": "stream",
     "text": [
      "✅ Loaded BraTS20_Training_149: Image torch.Size([3, 224, 224]), Mask torch.Size([224, 224])\n",
      "✅ Loaded BraTS20_Training_080: Image torch.Size([3, 224, 224]), Mask torch.Size([224, 224])\n"
     ]
    },
    {
     "name": "stderr",
     "output_type": "stream",
     "text": [
      "Epoch [12/15]:   4%|▍         | 3/75 [00:01<00:28,  2.49it/s, Loss=0.701]"
     ]
    },
    {
     "name": "stdout",
     "output_type": "stream",
     "text": [
      "✅ Loaded BraTS20_Training_099: Image torch.Size([3, 224, 224]), Mask torch.Size([224, 224])\n",
      "✅ Loaded BraTS20_Training_128: Image torch.Size([3, 224, 224]), Mask torch.Size([224, 224])\n"
     ]
    },
    {
     "name": "stderr",
     "output_type": "stream",
     "text": [
      "Epoch [12/15]:   5%|▌         | 4/75 [00:01<00:28,  2.50it/s, Loss=0.689]"
     ]
    },
    {
     "name": "stdout",
     "output_type": "stream",
     "text": [
      "✅ Loaded BraTS20_Training_267: Image torch.Size([3, 224, 224]), Mask torch.Size([224, 224])\n",
      "✅ Loaded BraTS20_Training_348: Image torch.Size([3, 224, 224]), Mask torch.Size([224, 224])\n"
     ]
    },
    {
     "name": "stderr",
     "output_type": "stream",
     "text": [
      "Epoch [12/15]:   7%|▋         | 5/75 [00:02<00:28,  2.46it/s, Loss=0.525]"
     ]
    },
    {
     "name": "stdout",
     "output_type": "stream",
     "text": [
      "✅ Loaded BraTS20_Training_258: Image torch.Size([3, 224, 224]), Mask torch.Size([224, 224])\n",
      "✅ Loaded BraTS20_Training_282: Image torch.Size([3, 224, 224]), Mask torch.Size([224, 224])\n"
     ]
    },
    {
     "name": "stderr",
     "output_type": "stream",
     "text": [
      "Epoch [12/15]:   8%|▊         | 6/75 [00:02<00:27,  2.48it/s, Loss=0.413]"
     ]
    },
    {
     "name": "stdout",
     "output_type": "stream",
     "text": [
      "✅ Loaded BraTS20_Training_017: Image torch.Size([3, 224, 224]), Mask torch.Size([224, 224])\n",
      "✅ Loaded BraTS20_Training_329: Image torch.Size([3, 224, 224]), Mask torch.Size([224, 224])\n"
     ]
    },
    {
     "name": "stderr",
     "output_type": "stream",
     "text": [
      "Epoch [12/15]:   9%|▉         | 7/75 [00:02<00:27,  2.48it/s, Loss=0.506]"
     ]
    },
    {
     "name": "stdout",
     "output_type": "stream",
     "text": [
      "✅ Loaded BraTS20_Training_183: Image torch.Size([3, 224, 224]), Mask torch.Size([224, 224])\n",
      "✅ Loaded BraTS20_Training_193: Image torch.Size([3, 224, 224]), Mask torch.Size([224, 224])\n"
     ]
    },
    {
     "name": "stderr",
     "output_type": "stream",
     "text": [
      "Epoch [12/15]:  11%|█         | 8/75 [00:03<00:26,  2.49it/s, Loss=0.504]"
     ]
    },
    {
     "name": "stdout",
     "output_type": "stream",
     "text": [
      "✅ Loaded BraTS20_Training_275: Image torch.Size([3, 224, 224]), Mask torch.Size([224, 224])\n",
      "✅ Loaded BraTS20_Training_072: Image torch.Size([3, 224, 224]), Mask torch.Size([224, 224])\n"
     ]
    },
    {
     "name": "stderr",
     "output_type": "stream",
     "text": [
      "Epoch [12/15]:  12%|█▏        | 9/75 [00:03<00:26,  2.49it/s, Loss=0.798]"
     ]
    },
    {
     "name": "stdout",
     "output_type": "stream",
     "text": [
      "✅ Loaded BraTS20_Training_259: Image torch.Size([3, 224, 224]), Mask torch.Size([224, 224])\n",
      "✅ Loaded BraTS20_Training_358: Image torch.Size([3, 224, 224]), Mask torch.Size([224, 224])\n"
     ]
    },
    {
     "name": "stderr",
     "output_type": "stream",
     "text": [
      "Epoch [12/15]:  13%|█▎        | 10/75 [00:04<00:26,  2.50it/s, Loss=0.6] "
     ]
    },
    {
     "name": "stdout",
     "output_type": "stream",
     "text": [
      "✅ Loaded BraTS20_Training_025: Image torch.Size([3, 224, 224]), Mask torch.Size([224, 224])\n",
      "✅ Loaded BraTS20_Training_132: Image torch.Size([3, 224, 224]), Mask torch.Size([224, 224])\n"
     ]
    },
    {
     "name": "stderr",
     "output_type": "stream",
     "text": [
      "Epoch [12/15]:  15%|█▍        | 11/75 [00:04<00:25,  2.50it/s, Loss=0.599]"
     ]
    },
    {
     "name": "stdout",
     "output_type": "stream",
     "text": [
      "✅ Loaded BraTS20_Training_222: Image torch.Size([3, 224, 224]), Mask torch.Size([224, 224])\n",
      "✅ Loaded BraTS20_Training_194: Image torch.Size([3, 224, 224]), Mask torch.Size([224, 224])\n"
     ]
    },
    {
     "name": "stderr",
     "output_type": "stream",
     "text": [
      "Epoch [12/15]:  16%|█▌        | 12/75 [00:04<00:25,  2.50it/s, Loss=0.455]"
     ]
    },
    {
     "name": "stdout",
     "output_type": "stream",
     "text": [
      "✅ Loaded BraTS20_Training_135: Image torch.Size([3, 224, 224]), Mask torch.Size([224, 224])\n",
      "✅ Loaded BraTS20_Training_203: Image torch.Size([3, 224, 224]), Mask torch.Size([224, 224])\n"
     ]
    },
    {
     "name": "stderr",
     "output_type": "stream",
     "text": [
      "Epoch [12/15]:  17%|█▋        | 13/75 [00:05<00:24,  2.50it/s, Loss=0.572]"
     ]
    },
    {
     "name": "stdout",
     "output_type": "stream",
     "text": [
      "✅ Loaded BraTS20_Training_318: Image torch.Size([3, 224, 224]), Mask torch.Size([224, 224])\n",
      "✅ Loaded BraTS20_Training_290: Image torch.Size([3, 224, 224]), Mask torch.Size([224, 224])\n"
     ]
    },
    {
     "name": "stderr",
     "output_type": "stream",
     "text": [
      "Epoch [12/15]:  19%|█▊        | 14/75 [00:05<00:24,  2.53it/s, Loss=0.813]"
     ]
    },
    {
     "name": "stdout",
     "output_type": "stream",
     "text": [
      "✅ Loaded BraTS20_Training_060: Image torch.Size([3, 224, 224]), Mask torch.Size([224, 224])\n",
      "✅ Loaded BraTS20_Training_237: Image torch.Size([3, 224, 224]), Mask torch.Size([224, 224])\n"
     ]
    },
    {
     "name": "stderr",
     "output_type": "stream",
     "text": [
      "Epoch [12/15]:  20%|██        | 15/75 [00:06<00:23,  2.52it/s, Loss=0.562]"
     ]
    },
    {
     "name": "stdout",
     "output_type": "stream",
     "text": [
      "✅ Loaded BraTS20_Training_145: Image torch.Size([3, 224, 224]), Mask torch.Size([224, 224])\n",
      "✅ Loaded BraTS20_Training_339: Image torch.Size([3, 224, 224]), Mask torch.Size([224, 224])\n"
     ]
    },
    {
     "name": "stderr",
     "output_type": "stream",
     "text": [
      "Epoch [12/15]:  21%|██▏       | 16/75 [00:06<00:23,  2.48it/s, Loss=0.445]"
     ]
    },
    {
     "name": "stdout",
     "output_type": "stream",
     "text": [
      "✅ Loaded BraTS20_Training_082: Image torch.Size([3, 224, 224]), Mask torch.Size([224, 224])\n",
      "✅ Loaded BraTS20_Training_280: Image torch.Size([3, 224, 224]), Mask torch.Size([224, 224])\n"
     ]
    },
    {
     "name": "stderr",
     "output_type": "stream",
     "text": [
      "Epoch [12/15]:  23%|██▎       | 17/75 [00:06<00:23,  2.48it/s, Loss=0.662]"
     ]
    },
    {
     "name": "stdout",
     "output_type": "stream",
     "text": [
      "✅ Loaded BraTS20_Training_195: Image torch.Size([3, 224, 224]), Mask torch.Size([224, 224])\n",
      "✅ Loaded BraTS20_Training_364: Image torch.Size([3, 224, 224]), Mask torch.Size([224, 224])\n"
     ]
    },
    {
     "name": "stderr",
     "output_type": "stream",
     "text": [
      "Epoch [12/15]:  24%|██▍       | 18/75 [00:07<00:23,  2.46it/s, Loss=0.702]"
     ]
    },
    {
     "name": "stdout",
     "output_type": "stream",
     "text": [
      "✅ Loaded BraTS20_Training_250: Image torch.Size([3, 224, 224]), Mask torch.Size([224, 224])\n",
      "✅ Loaded BraTS20_Training_105: Image torch.Size([3, 224, 224]), Mask torch.Size([224, 224])\n"
     ]
    },
    {
     "name": "stderr",
     "output_type": "stream",
     "text": [
      "Epoch [12/15]:  25%|██▌       | 19/75 [00:07<00:22,  2.44it/s, Loss=0.756]"
     ]
    },
    {
     "name": "stdout",
     "output_type": "stream",
     "text": [
      "✅ Loaded BraTS20_Training_052: Image torch.Size([3, 224, 224]), Mask torch.Size([224, 224])\n",
      "✅ Loaded BraTS20_Training_289: Image torch.Size([3, 224, 224]), Mask torch.Size([224, 224])\n"
     ]
    },
    {
     "name": "stderr",
     "output_type": "stream",
     "text": [
      "Epoch [12/15]:  27%|██▋       | 20/75 [00:08<00:22,  2.49it/s, Loss=0.775]"
     ]
    },
    {
     "name": "stdout",
     "output_type": "stream",
     "text": [
      "✅ Loaded BraTS20_Training_058: Image torch.Size([3, 224, 224]), Mask torch.Size([224, 224])\n",
      "✅ Loaded BraTS20_Training_125: Image torch.Size([3, 224, 224]), Mask torch.Size([224, 224])\n"
     ]
    },
    {
     "name": "stderr",
     "output_type": "stream",
     "text": [
      "Epoch [12/15]:  28%|██▊       | 21/75 [00:08<00:21,  2.46it/s, Loss=0.565]"
     ]
    },
    {
     "name": "stdout",
     "output_type": "stream",
     "text": [
      "✅ Loaded BraTS20_Training_019: Image torch.Size([3, 224, 224]), Mask torch.Size([224, 224])\n",
      "✅ Loaded BraTS20_Training_110: Image torch.Size([3, 224, 224]), Mask torch.Size([224, 224])\n"
     ]
    },
    {
     "name": "stderr",
     "output_type": "stream",
     "text": [
      "Epoch [12/15]:  29%|██▉       | 22/75 [00:08<00:21,  2.51it/s, Loss=0.775]"
     ]
    },
    {
     "name": "stdout",
     "output_type": "stream",
     "text": [
      "✅ Loaded BraTS20_Training_034: Image torch.Size([3, 224, 224]), Mask torch.Size([224, 224])\n",
      "✅ Loaded BraTS20_Training_201: Image torch.Size([3, 224, 224]), Mask torch.Size([224, 224])\n"
     ]
    },
    {
     "name": "stderr",
     "output_type": "stream",
     "text": [
      "Epoch [12/15]:  31%|███       | 23/75 [00:09<00:20,  2.50it/s, Loss=0.517]"
     ]
    },
    {
     "name": "stdout",
     "output_type": "stream",
     "text": [
      "✅ Loaded BraTS20_Training_299: Image torch.Size([3, 224, 224]), Mask torch.Size([224, 224])\n",
      "✅ Loaded BraTS20_Training_360: Image torch.Size([3, 224, 224]), Mask torch.Size([224, 224])\n"
     ]
    },
    {
     "name": "stderr",
     "output_type": "stream",
     "text": [
      "Epoch [12/15]:  32%|███▏      | 24/75 [00:09<00:20,  2.44it/s, Loss=0.582]"
     ]
    },
    {
     "name": "stdout",
     "output_type": "stream",
     "text": [
      "✅ Loaded BraTS20_Training_057: Image torch.Size([3, 224, 224]), Mask torch.Size([224, 224])\n",
      "✅ Loaded BraTS20_Training_023: Image torch.Size([3, 224, 224]), Mask torch.Size([224, 224])\n"
     ]
    },
    {
     "name": "stderr",
     "output_type": "stream",
     "text": [
      "Epoch [12/15]:  33%|███▎      | 25/75 [00:10<00:20,  2.49it/s, Loss=0.82] "
     ]
    },
    {
     "name": "stdout",
     "output_type": "stream",
     "text": [
      "✅ Loaded BraTS20_Training_302: Image torch.Size([3, 224, 224]), Mask torch.Size([224, 224])\n",
      "✅ Loaded BraTS20_Training_217: Image torch.Size([3, 224, 224]), Mask torch.Size([224, 224])\n"
     ]
    },
    {
     "name": "stderr",
     "output_type": "stream",
     "text": [
      "Epoch [12/15]:  35%|███▍      | 26/75 [00:10<00:19,  2.49it/s, Loss=0.643]"
     ]
    },
    {
     "name": "stdout",
     "output_type": "stream",
     "text": [
      "✅ Loaded BraTS20_Training_161: Image torch.Size([3, 224, 224]), Mask torch.Size([224, 224])\n",
      "✅ Loaded BraTS20_Training_073: Image torch.Size([3, 224, 224]), Mask torch.Size([224, 224])\n"
     ]
    },
    {
     "name": "stderr",
     "output_type": "stream",
     "text": [
      "Epoch [12/15]:  36%|███▌      | 27/75 [00:10<00:19,  2.50it/s, Loss=0.563]"
     ]
    },
    {
     "name": "stdout",
     "output_type": "stream",
     "text": [
      "✅ Loaded BraTS20_Training_155: Image torch.Size([3, 224, 224]), Mask torch.Size([224, 224])\n",
      "✅ Loaded BraTS20_Training_064: Image torch.Size([3, 224, 224]), Mask torch.Size([224, 224])\n"
     ]
    },
    {
     "name": "stderr",
     "output_type": "stream",
     "text": [
      "Epoch [12/15]:  37%|███▋      | 28/75 [00:11<00:18,  2.50it/s, Loss=0.54] "
     ]
    },
    {
     "name": "stdout",
     "output_type": "stream",
     "text": [
      "✅ Loaded BraTS20_Training_260: Image torch.Size([3, 224, 224]), Mask torch.Size([224, 224])\n",
      "✅ Loaded BraTS20_Training_165: Image torch.Size([3, 224, 224]), Mask torch.Size([224, 224])\n"
     ]
    },
    {
     "name": "stderr",
     "output_type": "stream",
     "text": [
      "Epoch [12/15]:  39%|███▊      | 29/75 [00:11<00:18,  2.49it/s, Loss=0.654]"
     ]
    },
    {
     "name": "stdout",
     "output_type": "stream",
     "text": [
      "✅ Loaded BraTS20_Training_345: Image torch.Size([3, 224, 224]), Mask torch.Size([224, 224])\n",
      "✅ Loaded BraTS20_Training_116: Image torch.Size([3, 224, 224]), Mask torch.Size([224, 224])\n"
     ]
    },
    {
     "name": "stderr",
     "output_type": "stream",
     "text": [
      "Epoch [12/15]:  40%|████      | 30/75 [00:12<00:18,  2.50it/s, Loss=0.653]"
     ]
    },
    {
     "name": "stdout",
     "output_type": "stream",
     "text": [
      "✅ Loaded BraTS20_Training_020: Image torch.Size([3, 224, 224]), Mask torch.Size([224, 224])\n",
      "✅ Loaded BraTS20_Training_262: Image torch.Size([3, 224, 224]), Mask torch.Size([224, 224])\n"
     ]
    },
    {
     "name": "stderr",
     "output_type": "stream",
     "text": [
      "Epoch [12/15]:  41%|████▏     | 31/75 [00:12<00:17,  2.50it/s, Loss=0.694]"
     ]
    },
    {
     "name": "stdout",
     "output_type": "stream",
     "text": [
      "✅ Loaded BraTS20_Training_143: Image torch.Size([3, 224, 224]), Mask torch.Size([224, 224])\n",
      "✅ Loaded BraTS20_Training_297: Image torch.Size([3, 224, 224]), Mask torch.Size([224, 224])\n"
     ]
    },
    {
     "name": "stderr",
     "output_type": "stream",
     "text": [
      "Epoch [12/15]:  43%|████▎     | 32/75 [00:12<00:17,  2.47it/s, Loss=0.811]"
     ]
    },
    {
     "name": "stdout",
     "output_type": "stream",
     "text": [
      "✅ Loaded BraTS20_Training_086: Image torch.Size([3, 224, 224]), Mask torch.Size([224, 224])\n",
      "✅ Loaded BraTS20_Training_279: Image torch.Size([3, 224, 224]), Mask torch.Size([224, 224])\n"
     ]
    },
    {
     "name": "stderr",
     "output_type": "stream",
     "text": [
      "Epoch [12/15]:  44%|████▍     | 33/75 [00:13<00:16,  2.48it/s, Loss=0.613]"
     ]
    },
    {
     "name": "stdout",
     "output_type": "stream",
     "text": [
      "✅ Loaded BraTS20_Training_126: Image torch.Size([3, 224, 224]), Mask torch.Size([224, 224])\n",
      "✅ Loaded BraTS20_Training_037: Image torch.Size([3, 224, 224]), Mask torch.Size([224, 224])\n"
     ]
    },
    {
     "name": "stderr",
     "output_type": "stream",
     "text": [
      "Epoch [12/15]:  45%|████▌     | 34/75 [00:13<00:16,  2.48it/s, Loss=0.553]"
     ]
    },
    {
     "name": "stdout",
     "output_type": "stream",
     "text": [
      "✅ Loaded BraTS20_Training_271: Image torch.Size([3, 224, 224]), Mask torch.Size([224, 224])\n",
      "✅ Loaded BraTS20_Training_277: Image torch.Size([3, 224, 224]), Mask torch.Size([224, 224])\n"
     ]
    },
    {
     "name": "stderr",
     "output_type": "stream",
     "text": [
      "Epoch [12/15]:  47%|████▋     | 35/75 [00:14<00:16,  2.49it/s, Loss=0.497]"
     ]
    },
    {
     "name": "stdout",
     "output_type": "stream",
     "text": [
      "✅ Loaded BraTS20_Training_158: Image torch.Size([3, 224, 224]), Mask torch.Size([224, 224])\n",
      "✅ Loaded BraTS20_Training_083: Image torch.Size([3, 224, 224]), Mask torch.Size([224, 224])\n"
     ]
    },
    {
     "name": "stderr",
     "output_type": "stream",
     "text": [
      "Epoch [12/15]:  48%|████▊     | 36/75 [00:14<00:15,  2.49it/s, Loss=0.696]"
     ]
    },
    {
     "name": "stdout",
     "output_type": "stream",
     "text": [
      "✅ Loaded BraTS20_Training_027: Image torch.Size([3, 224, 224]), Mask torch.Size([224, 224])\n",
      "✅ Loaded BraTS20_Training_043: Image torch.Size([3, 224, 224]), Mask torch.Size([224, 224])\n"
     ]
    },
    {
     "name": "stderr",
     "output_type": "stream",
     "text": [
      "Epoch [12/15]:  49%|████▉     | 37/75 [00:14<00:15,  2.46it/s, Loss=0.583]"
     ]
    },
    {
     "name": "stdout",
     "output_type": "stream",
     "text": [
      "✅ Loaded BraTS20_Training_239: Image torch.Size([3, 224, 224]), Mask torch.Size([224, 224])\n",
      "✅ Loaded BraTS20_Training_245: Image torch.Size([3, 224, 224]), Mask torch.Size([224, 224])\n"
     ]
    },
    {
     "name": "stderr",
     "output_type": "stream",
     "text": [
      "Epoch [12/15]:  51%|█████     | 38/75 [00:15<00:14,  2.50it/s, Loss=0.514]"
     ]
    },
    {
     "name": "stdout",
     "output_type": "stream",
     "text": [
      "✅ Loaded BraTS20_Training_228: Image torch.Size([3, 224, 224]), Mask torch.Size([224, 224])\n",
      "✅ Loaded BraTS20_Training_315: Image torch.Size([3, 224, 224]), Mask torch.Size([224, 224])\n"
     ]
    },
    {
     "name": "stderr",
     "output_type": "stream",
     "text": [
      "Epoch [12/15]:  52%|█████▏    | 39/75 [00:15<00:14,  2.51it/s, Loss=0.744]"
     ]
    },
    {
     "name": "stdout",
     "output_type": "stream",
     "text": [
      "✅ Loaded BraTS20_Training_061: Image torch.Size([3, 224, 224]), Mask torch.Size([224, 224])\n",
      "✅ Loaded BraTS20_Training_322: Image torch.Size([3, 224, 224]), Mask torch.Size([224, 224])\n"
     ]
    },
    {
     "name": "stderr",
     "output_type": "stream",
     "text": [
      "Epoch [12/15]:  53%|█████▎    | 40/75 [00:16<00:13,  2.51it/s, Loss=0.688]"
     ]
    },
    {
     "name": "stdout",
     "output_type": "stream",
     "text": [
      "✅ Loaded BraTS20_Training_294: Image torch.Size([3, 224, 224]), Mask torch.Size([224, 224])\n",
      "✅ Loaded BraTS20_Training_096: Image torch.Size([3, 224, 224]), Mask torch.Size([224, 224])\n"
     ]
    },
    {
     "name": "stderr",
     "output_type": "stream",
     "text": [
      "Epoch [12/15]:  55%|█████▍    | 41/75 [00:16<00:13,  2.50it/s, Loss=0.551]"
     ]
    },
    {
     "name": "stdout",
     "output_type": "stream",
     "text": [
      "✅ Loaded BraTS20_Training_119: Image torch.Size([3, 224, 224]), Mask torch.Size([224, 224])\n",
      "✅ Loaded BraTS20_Training_024: Image torch.Size([3, 224, 224]), Mask torch.Size([224, 224])\n"
     ]
    },
    {
     "name": "stderr",
     "output_type": "stream",
     "text": [
      "Epoch [12/15]:  56%|█████▌    | 42/75 [00:16<00:13,  2.48it/s, Loss=0.575]"
     ]
    },
    {
     "name": "stdout",
     "output_type": "stream",
     "text": [
      "✅ Loaded BraTS20_Training_255: Image torch.Size([3, 224, 224]), Mask torch.Size([224, 224])\n",
      "✅ Loaded BraTS20_Training_120: Image torch.Size([3, 224, 224]), Mask torch.Size([224, 224])\n"
     ]
    },
    {
     "name": "stderr",
     "output_type": "stream",
     "text": [
      "Epoch [12/15]:  57%|█████▋    | 43/75 [00:17<00:13,  2.45it/s, Loss=0.549]"
     ]
    },
    {
     "name": "stdout",
     "output_type": "stream",
     "text": [
      "✅ Loaded BraTS20_Training_336: Image torch.Size([3, 224, 224]), Mask torch.Size([224, 224])\n",
      "✅ Loaded BraTS20_Training_220: Image torch.Size([3, 224, 224]), Mask torch.Size([224, 224])\n"
     ]
    },
    {
     "name": "stderr",
     "output_type": "stream",
     "text": [
      "Epoch [12/15]:  59%|█████▊    | 44/75 [00:17<00:12,  2.46it/s, Loss=0.831]"
     ]
    },
    {
     "name": "stdout",
     "output_type": "stream",
     "text": [
      "✅ Loaded BraTS20_Training_021: Image torch.Size([3, 224, 224]), Mask torch.Size([224, 224])\n",
      "✅ Loaded BraTS20_Training_186: Image torch.Size([3, 224, 224]), Mask torch.Size([224, 224])\n"
     ]
    },
    {
     "name": "stderr",
     "output_type": "stream",
     "text": [
      "Epoch [12/15]:  60%|██████    | 45/75 [00:18<00:12,  2.47it/s, Loss=0.455]"
     ]
    },
    {
     "name": "stdout",
     "output_type": "stream",
     "text": [
      "✅ Loaded BraTS20_Training_151: Image torch.Size([3, 224, 224]), Mask torch.Size([224, 224])\n",
      "✅ Loaded BraTS20_Training_326: Image torch.Size([3, 224, 224]), Mask torch.Size([224, 224])\n"
     ]
    },
    {
     "name": "stderr",
     "output_type": "stream",
     "text": [
      "Epoch [12/15]:  61%|██████▏   | 46/75 [00:18<00:11,  2.48it/s, Loss=0.7]  "
     ]
    },
    {
     "name": "stdout",
     "output_type": "stream",
     "text": [
      "✅ Loaded BraTS20_Training_278: Image torch.Size([3, 224, 224]), Mask torch.Size([224, 224])\n",
      "✅ Loaded BraTS20_Training_196: Image torch.Size([3, 224, 224]), Mask torch.Size([224, 224])\n"
     ]
    },
    {
     "name": "stderr",
     "output_type": "stream",
     "text": [
      "Epoch [12/15]:  63%|██████▎   | 47/75 [00:18<00:11,  2.48it/s, Loss=0.502]"
     ]
    },
    {
     "name": "stdout",
     "output_type": "stream",
     "text": [
      "✅ Loaded BraTS20_Training_309: Image torch.Size([3, 224, 224]), Mask torch.Size([224, 224])\n",
      "✅ Loaded BraTS20_Training_197: Image torch.Size([3, 224, 224]), Mask torch.Size([224, 224])\n"
     ]
    },
    {
     "name": "stderr",
     "output_type": "stream",
     "text": [
      "Epoch [12/15]:  64%|██████▍   | 48/75 [00:19<00:10,  2.49it/s, Loss=0.507]"
     ]
    },
    {
     "name": "stdout",
     "output_type": "stream",
     "text": [
      "✅ Loaded BraTS20_Training_131: Image torch.Size([3, 224, 224]), Mask torch.Size([224, 224])\n",
      "✅ Loaded BraTS20_Training_124: Image torch.Size([3, 224, 224]), Mask torch.Size([224, 224])\n"
     ]
    },
    {
     "name": "stderr",
     "output_type": "stream",
     "text": [
      "Epoch [12/15]:  65%|██████▌   | 49/75 [00:19<00:10,  2.50it/s, Loss=0.427]"
     ]
    },
    {
     "name": "stdout",
     "output_type": "stream",
     "text": [
      "✅ Loaded BraTS20_Training_089: Image torch.Size([3, 224, 224]), Mask torch.Size([224, 224])\n",
      "✅ Loaded BraTS20_Training_213: Image torch.Size([3, 224, 224]), Mask torch.Size([224, 224])\n"
     ]
    },
    {
     "name": "stderr",
     "output_type": "stream",
     "text": [
      "Epoch [12/15]:  67%|██████▋   | 50/75 [00:20<00:10,  2.47it/s, Loss=0.806]"
     ]
    },
    {
     "name": "stdout",
     "output_type": "stream",
     "text": [
      "✅ Loaded BraTS20_Training_106: Image torch.Size([3, 224, 224]), Mask torch.Size([224, 224])\n",
      "✅ Loaded BraTS20_Training_369: Image torch.Size([3, 224, 224]), Mask torch.Size([224, 224])\n"
     ]
    },
    {
     "name": "stderr",
     "output_type": "stream",
     "text": [
      "Epoch [12/15]:  68%|██████▊   | 51/75 [00:20<00:09,  2.42it/s, Loss=0.562]"
     ]
    },
    {
     "name": "stdout",
     "output_type": "stream",
     "text": [
      "✅ Loaded BraTS20_Training_272: Image torch.Size([3, 224, 224]), Mask torch.Size([224, 224])\n",
      "✅ Loaded BraTS20_Training_148: Image torch.Size([3, 224, 224]), Mask torch.Size([224, 224])\n"
     ]
    },
    {
     "name": "stderr",
     "output_type": "stream",
     "text": [
      "Epoch [12/15]:  69%|██████▉   | 52/75 [00:20<00:09,  2.47it/s, Loss=0.549]"
     ]
    },
    {
     "name": "stdout",
     "output_type": "stream",
     "text": [
      "✅ Loaded BraTS20_Training_261: Image torch.Size([3, 224, 224]), Mask torch.Size([224, 224])\n",
      "✅ Loaded BraTS20_Training_022: Image torch.Size([3, 224, 224]), Mask torch.Size([224, 224])\n"
     ]
    },
    {
     "name": "stderr",
     "output_type": "stream",
     "text": [
      "Epoch [12/15]:  71%|███████   | 53/75 [00:21<00:08,  2.48it/s, Loss=0.511]"
     ]
    },
    {
     "name": "stdout",
     "output_type": "stream",
     "text": [
      "✅ Loaded BraTS20_Training_050: Image torch.Size([3, 224, 224]), Mask torch.Size([224, 224])\n",
      "✅ Loaded BraTS20_Training_140: Image torch.Size([3, 224, 224]), Mask torch.Size([224, 224])\n"
     ]
    },
    {
     "name": "stderr",
     "output_type": "stream",
     "text": [
      "Epoch [12/15]:  72%|███████▏  | 54/75 [00:21<00:08,  2.49it/s, Loss=0.647]"
     ]
    },
    {
     "name": "stdout",
     "output_type": "stream",
     "text": [
      "✅ Loaded BraTS20_Training_166: Image torch.Size([3, 224, 224]), Mask torch.Size([224, 224])\n",
      "✅ Loaded BraTS20_Training_056: Image torch.Size([3, 224, 224]), Mask torch.Size([224, 224])\n"
     ]
    },
    {
     "name": "stderr",
     "output_type": "stream",
     "text": [
      "Epoch [12/15]:  73%|███████▎  | 55/75 [00:22<00:08,  2.49it/s, Loss=0.362]"
     ]
    },
    {
     "name": "stdout",
     "output_type": "stream",
     "text": [
      "✅ Loaded BraTS20_Training_093: Image torch.Size([3, 224, 224]), Mask torch.Size([224, 224])\n",
      "✅ Loaded BraTS20_Training_230: Image torch.Size([3, 224, 224]), Mask torch.Size([224, 224])\n"
     ]
    },
    {
     "name": "stderr",
     "output_type": "stream",
     "text": [
      "Epoch [12/15]:  75%|███████▍  | 56/75 [00:22<00:07,  2.49it/s, Loss=0.596]"
     ]
    },
    {
     "name": "stdout",
     "output_type": "stream",
     "text": [
      "✅ Loaded BraTS20_Training_242: Image torch.Size([3, 224, 224]), Mask torch.Size([224, 224])\n",
      "✅ Loaded BraTS20_Training_224: Image torch.Size([3, 224, 224]), Mask torch.Size([224, 224])\n"
     ]
    },
    {
     "name": "stderr",
     "output_type": "stream",
     "text": [
      "Epoch [12/15]:  76%|███████▌  | 57/75 [00:22<00:07,  2.49it/s, Loss=0.448]"
     ]
    },
    {
     "name": "stdout",
     "output_type": "stream",
     "text": [
      "✅ Loaded BraTS20_Training_226: Image torch.Size([3, 224, 224]), Mask torch.Size([224, 224])\n",
      "✅ Loaded BraTS20_Training_129: Image torch.Size([3, 224, 224]), Mask torch.Size([224, 224])\n"
     ]
    },
    {
     "name": "stderr",
     "output_type": "stream",
     "text": [
      "Epoch [12/15]:  77%|███████▋  | 58/75 [00:23<00:06,  2.50it/s, Loss=0.783]"
     ]
    },
    {
     "name": "stdout",
     "output_type": "stream",
     "text": [
      "✅ Loaded BraTS20_Training_121: Image torch.Size([3, 224, 224]), Mask torch.Size([224, 224])\n",
      "✅ Loaded BraTS20_Training_257: Image torch.Size([3, 224, 224]), Mask torch.Size([224, 224])\n"
     ]
    },
    {
     "name": "stderr",
     "output_type": "stream",
     "text": [
      "Epoch [12/15]:  79%|███████▊  | 59/75 [00:23<00:06,  2.49it/s, Loss=0.391]"
     ]
    },
    {
     "name": "stdout",
     "output_type": "stream",
     "text": [
      "✅ Loaded BraTS20_Training_253: Image torch.Size([3, 224, 224]), Mask torch.Size([224, 224])\n",
      "✅ Loaded BraTS20_Training_353: Image torch.Size([3, 224, 224]), Mask torch.Size([224, 224])\n"
     ]
    },
    {
     "name": "stderr",
     "output_type": "stream",
     "text": [
      "Epoch [12/15]:  80%|████████  | 60/75 [00:24<00:06,  2.47it/s, Loss=0.682]"
     ]
    },
    {
     "name": "stdout",
     "output_type": "stream",
     "text": [
      "✅ Loaded BraTS20_Training_248: Image torch.Size([3, 224, 224]), Mask torch.Size([224, 224])\n",
      "✅ Loaded BraTS20_Training_147: Image torch.Size([3, 224, 224]), Mask torch.Size([224, 224])\n"
     ]
    },
    {
     "name": "stderr",
     "output_type": "stream",
     "text": [
      "Epoch [12/15]:  81%|████████▏ | 61/75 [00:24<00:05,  2.47it/s, Loss=0.709]"
     ]
    },
    {
     "name": "stdout",
     "output_type": "stream",
     "text": [
      "✅ Loaded BraTS20_Training_033: Image torch.Size([3, 224, 224]), Mask torch.Size([224, 224])\n",
      "✅ Loaded BraTS20_Training_092: Image torch.Size([3, 224, 224]), Mask torch.Size([224, 224])\n"
     ]
    },
    {
     "name": "stderr",
     "output_type": "stream",
     "text": [
      "Epoch [12/15]:  83%|████████▎ | 62/75 [00:24<00:05,  2.45it/s, Loss=0.552]"
     ]
    },
    {
     "name": "stdout",
     "output_type": "stream",
     "text": [
      "✅ Loaded BraTS20_Training_069: Image torch.Size([3, 224, 224]), Mask torch.Size([224, 224])\n",
      "✅ Loaded BraTS20_Training_312: Image torch.Size([3, 224, 224]), Mask torch.Size([224, 224])\n"
     ]
    },
    {
     "name": "stderr",
     "output_type": "stream",
     "text": [
      "Epoch [12/15]:  84%|████████▍ | 63/75 [00:25<00:04,  2.50it/s, Loss=0.664]"
     ]
    },
    {
     "name": "stdout",
     "output_type": "stream",
     "text": [
      "✅ Loaded BraTS20_Training_244: Image torch.Size([3, 224, 224]), Mask torch.Size([224, 224])\n",
      "✅ Loaded BraTS20_Training_273: Image torch.Size([3, 224, 224]), Mask torch.Size([224, 224])\n"
     ]
    },
    {
     "name": "stderr",
     "output_type": "stream",
     "text": [
      "Epoch [12/15]:  85%|████████▌ | 64/75 [00:25<00:04,  2.50it/s, Loss=0.64] "
     ]
    },
    {
     "name": "stdout",
     "output_type": "stream",
     "text": [
      "✅ Loaded BraTS20_Training_225: Image torch.Size([3, 224, 224]), Mask torch.Size([224, 224])\n",
      "✅ Loaded BraTS20_Training_042: Image torch.Size([3, 224, 224]), Mask torch.Size([224, 224])\n"
     ]
    },
    {
     "name": "stderr",
     "output_type": "stream",
     "text": [
      "Epoch [12/15]:  87%|████████▋ | 65/75 [00:26<00:03,  2.50it/s, Loss=0.388]"
     ]
    },
    {
     "name": "stdout",
     "output_type": "stream",
     "text": [
      "✅ Loaded BraTS20_Training_010: Image torch.Size([3, 224, 224]), Mask torch.Size([224, 224])\n",
      "✅ Loaded BraTS20_Training_117: Image torch.Size([3, 224, 224]), Mask torch.Size([224, 224])\n"
     ]
    },
    {
     "name": "stderr",
     "output_type": "stream",
     "text": [
      "Epoch [12/15]:  88%|████████▊ | 66/75 [00:26<00:03,  2.50it/s, Loss=0.543]"
     ]
    },
    {
     "name": "stdout",
     "output_type": "stream",
     "text": [
      "✅ Loaded BraTS20_Training_150: Image torch.Size([3, 224, 224]), Mask torch.Size([224, 224])\n",
      "✅ Loaded BraTS20_Training_233: Image torch.Size([3, 224, 224]), Mask torch.Size([224, 224])\n"
     ]
    },
    {
     "name": "stderr",
     "output_type": "stream",
     "text": [
      "Epoch [12/15]:  89%|████████▉ | 67/75 [00:26<00:03,  2.50it/s, Loss=0.536]"
     ]
    },
    {
     "name": "stdout",
     "output_type": "stream",
     "text": [
      "✅ Loaded BraTS20_Training_180: Image torch.Size([3, 224, 224]), Mask torch.Size([224, 224])\n",
      "✅ Loaded BraTS20_Training_268: Image torch.Size([3, 224, 224]), Mask torch.Size([224, 224])\n"
     ]
    },
    {
     "name": "stderr",
     "output_type": "stream",
     "text": [
      "Epoch [12/15]:  91%|█████████ | 68/75 [00:27<00:02,  2.50it/s, Loss=0.557]"
     ]
    },
    {
     "name": "stdout",
     "output_type": "stream",
     "text": [
      "✅ Loaded BraTS20_Training_001: Image torch.Size([3, 224, 224]), Mask torch.Size([224, 224])\n",
      "✅ Loaded BraTS20_Training_227: Image torch.Size([3, 224, 224]), Mask torch.Size([224, 224])\n"
     ]
    },
    {
     "name": "stderr",
     "output_type": "stream",
     "text": [
      "Epoch [12/15]:  92%|█████████▏| 69/75 [00:27<00:02,  2.50it/s, Loss=0.632]"
     ]
    },
    {
     "name": "stdout",
     "output_type": "stream",
     "text": [
      "✅ Loaded BraTS20_Training_087: Image torch.Size([3, 224, 224]), Mask torch.Size([224, 224])\n",
      "✅ Loaded BraTS20_Training_164: Image torch.Size([3, 224, 224]), Mask torch.Size([224, 224])\n"
     ]
    },
    {
     "name": "stderr",
     "output_type": "stream",
     "text": [
      "Epoch [12/15]:  93%|█████████▎| 70/75 [00:28<00:02,  2.50it/s, Loss=0.498]"
     ]
    },
    {
     "name": "stdout",
     "output_type": "stream",
     "text": [
      "✅ Loaded BraTS20_Training_032: Image torch.Size([3, 224, 224]), Mask torch.Size([224, 224])\n",
      "✅ Loaded BraTS20_Training_206: Image torch.Size([3, 224, 224]), Mask torch.Size([224, 224])\n"
     ]
    },
    {
     "name": "stderr",
     "output_type": "stream",
     "text": [
      "Epoch [12/15]:  95%|█████████▍| 71/75 [00:28<00:01,  2.52it/s, Loss=0.68] "
     ]
    },
    {
     "name": "stdout",
     "output_type": "stream",
     "text": [
      "✅ Loaded BraTS20_Training_198: Image torch.Size([3, 224, 224]), Mask torch.Size([224, 224])\n",
      "✅ Loaded BraTS20_Training_077: Image torch.Size([3, 224, 224]), Mask torch.Size([224, 224])\n"
     ]
    },
    {
     "name": "stderr",
     "output_type": "stream",
     "text": [
      "Epoch [12/15]:  96%|█████████▌| 72/75 [00:28<00:01,  2.52it/s, Loss=0.632]"
     ]
    },
    {
     "name": "stdout",
     "output_type": "stream",
     "text": [
      "✅ Loaded BraTS20_Training_188: Image torch.Size([3, 224, 224]), Mask torch.Size([224, 224])\n",
      "✅ Loaded BraTS20_Training_015: Image torch.Size([3, 224, 224]), Mask torch.Size([224, 224])\n"
     ]
    },
    {
     "name": "stderr",
     "output_type": "stream",
     "text": [
      "Epoch [12/15]:  97%|█████████▋| 73/75 [00:29<00:00,  2.52it/s, Loss=0.573]"
     ]
    },
    {
     "name": "stdout",
     "output_type": "stream",
     "text": [
      "✅ Loaded BraTS20_Training_332: Image torch.Size([3, 224, 224]), Mask torch.Size([224, 224])\n",
      "✅ Loaded BraTS20_Training_079: Image torch.Size([3, 224, 224]), Mask torch.Size([224, 224])\n"
     ]
    },
    {
     "name": "stderr",
     "output_type": "stream",
     "text": [
      "Epoch [12/15]:  99%|█████████▊| 74/75 [00:29<00:00,  2.51it/s, Loss=0.789]"
     ]
    },
    {
     "name": "stdout",
     "output_type": "stream",
     "text": [
      "✅ Loaded BraTS20_Training_036: Image torch.Size([3, 224, 224]), Mask torch.Size([224, 224])\n",
      "✅ Loaded BraTS20_Training_008: Image torch.Size([3, 224, 224]), Mask torch.Size([224, 224])\n"
     ]
    },
    {
     "name": "stderr",
     "output_type": "stream",
     "text": [
      "                                                                          \r"
     ]
    },
    {
     "name": "stdout",
     "output_type": "stream",
     "text": [
      "\n",
      "✅ Epoch 12: Train Loss: 0.6031\n",
      "💾 Saved model at epoch 12 with train loss 0.6031\n"
     ]
    },
    {
     "name": "stderr",
     "output_type": "stream",
     "text": [
      "Epoch [13/15]:   0%|          | 0/75 [00:00<?, ?it/s]"
     ]
    },
    {
     "name": "stdout",
     "output_type": "stream",
     "text": [
      "✅ Loaded BraTS20_Training_312: Image torch.Size([3, 224, 224]), Mask torch.Size([224, 224])\n",
      "✅ Loaded BraTS20_Training_165: Image torch.Size([3, 224, 224]), Mask torch.Size([224, 224])\n"
     ]
    },
    {
     "name": "stderr",
     "output_type": "stream",
     "text": [
      "Epoch [13/15]:   1%|▏         | 1/75 [00:00<00:29,  2.51it/s, Loss=0.446]"
     ]
    },
    {
     "name": "stdout",
     "output_type": "stream",
     "text": [
      "✅ Loaded BraTS20_Training_057: Image torch.Size([3, 224, 224]), Mask torch.Size([224, 224])\n",
      "✅ Loaded BraTS20_Training_195: Image torch.Size([3, 224, 224]), Mask torch.Size([224, 224])\n"
     ]
    },
    {
     "name": "stderr",
     "output_type": "stream",
     "text": [
      "Epoch [13/15]:   3%|▎         | 2/75 [00:00<00:29,  2.45it/s, Loss=0.804]"
     ]
    },
    {
     "name": "stdout",
     "output_type": "stream",
     "text": [
      "✅ Loaded BraTS20_Training_271: Image torch.Size([3, 224, 224]), Mask torch.Size([224, 224])\n",
      "✅ Loaded BraTS20_Training_227: Image torch.Size([3, 224, 224]), Mask torch.Size([224, 224])\n"
     ]
    },
    {
     "name": "stderr",
     "output_type": "stream",
     "text": [
      "Epoch [13/15]:   4%|▍         | 3/75 [00:01<00:28,  2.50it/s, Loss=0.569]"
     ]
    },
    {
     "name": "stdout",
     "output_type": "stream",
     "text": [
      "✅ Loaded BraTS20_Training_282: Image torch.Size([3, 224, 224]), Mask torch.Size([224, 224])\n",
      "✅ Loaded BraTS20_Training_034: Image torch.Size([3, 224, 224]), Mask torch.Size([224, 224])\n"
     ]
    },
    {
     "name": "stderr",
     "output_type": "stream",
     "text": [
      "Epoch [13/15]:   5%|▌         | 4/75 [00:01<00:28,  2.51it/s, Loss=0.586]"
     ]
    },
    {
     "name": "stdout",
     "output_type": "stream",
     "text": [
      "✅ Loaded BraTS20_Training_117: Image torch.Size([3, 224, 224]), Mask torch.Size([224, 224])\n",
      "✅ Loaded BraTS20_Training_124: Image torch.Size([3, 224, 224]), Mask torch.Size([224, 224])\n"
     ]
    },
    {
     "name": "stderr",
     "output_type": "stream",
     "text": [
      "Epoch [13/15]:   7%|▋         | 5/75 [00:01<00:27,  2.51it/s, Loss=0.379]"
     ]
    },
    {
     "name": "stdout",
     "output_type": "stream",
     "text": [
      "✅ Loaded BraTS20_Training_186: Image torch.Size([3, 224, 224]), Mask torch.Size([224, 224])\n",
      "✅ Loaded BraTS20_Training_196: Image torch.Size([3, 224, 224]), Mask torch.Size([224, 224])\n"
     ]
    },
    {
     "name": "stderr",
     "output_type": "stream",
     "text": [
      "Epoch [13/15]:   8%|▊         | 6/75 [00:02<00:27,  2.51it/s, Loss=0.478]"
     ]
    },
    {
     "name": "stdout",
     "output_type": "stream",
     "text": [
      "✅ Loaded BraTS20_Training_077: Image torch.Size([3, 224, 224]), Mask torch.Size([224, 224])\n",
      "✅ Loaded BraTS20_Training_228: Image torch.Size([3, 224, 224]), Mask torch.Size([224, 224])\n"
     ]
    },
    {
     "name": "stderr",
     "output_type": "stream",
     "text": [
      "Epoch [13/15]:   9%|▉         | 7/75 [00:02<00:26,  2.53it/s, Loss=0.61] "
     ]
    },
    {
     "name": "stdout",
     "output_type": "stream",
     "text": [
      "✅ Loaded BraTS20_Training_180: Image torch.Size([3, 224, 224]), Mask torch.Size([224, 224])\n",
      "✅ Loaded BraTS20_Training_027: Image torch.Size([3, 224, 224]), Mask torch.Size([224, 224])\n"
     ]
    },
    {
     "name": "stderr",
     "output_type": "stream",
     "text": [
      "Epoch [13/15]:  11%|█         | 8/75 [00:03<00:26,  2.53it/s, Loss=0.485]"
     ]
    },
    {
     "name": "stdout",
     "output_type": "stream",
     "text": [
      "✅ Loaded BraTS20_Training_158: Image torch.Size([3, 224, 224]), Mask torch.Size([224, 224])\n",
      "✅ Loaded BraTS20_Training_126: Image torch.Size([3, 224, 224]), Mask torch.Size([224, 224])\n"
     ]
    },
    {
     "name": "stderr",
     "output_type": "stream",
     "text": [
      "Epoch [13/15]:  12%|█▏        | 9/75 [00:03<00:25,  2.55it/s, Loss=0.623]"
     ]
    },
    {
     "name": "stdout",
     "output_type": "stream",
     "text": [
      "✅ Loaded BraTS20_Training_358: Image torch.Size([3, 224, 224]), Mask torch.Size([224, 224])\n",
      "✅ Loaded BraTS20_Training_147: Image torch.Size([3, 224, 224]), Mask torch.Size([224, 224])\n"
     ]
    },
    {
     "name": "stderr",
     "output_type": "stream",
     "text": [
      "Epoch [13/15]:  13%|█▎        | 10/75 [00:03<00:25,  2.51it/s, Loss=0.744]"
     ]
    },
    {
     "name": "stdout",
     "output_type": "stream",
     "text": [
      "✅ Loaded BraTS20_Training_273: Image torch.Size([3, 224, 224]), Mask torch.Size([224, 224])\n",
      "✅ Loaded BraTS20_Training_015: Image torch.Size([3, 224, 224]), Mask torch.Size([224, 224])\n"
     ]
    },
    {
     "name": "stderr",
     "output_type": "stream",
     "text": [
      "Epoch [13/15]:  15%|█▍        | 11/75 [00:04<00:25,  2.50it/s, Loss=0.501]"
     ]
    },
    {
     "name": "stdout",
     "output_type": "stream",
     "text": [
      "✅ Loaded BraTS20_Training_217: Image torch.Size([3, 224, 224]), Mask torch.Size([224, 224])\n",
      "✅ Loaded BraTS20_Training_148: Image torch.Size([3, 224, 224]), Mask torch.Size([224, 224])\n"
     ]
    },
    {
     "name": "stderr",
     "output_type": "stream",
     "text": [
      "Epoch [13/15]:  16%|█▌        | 12/75 [00:04<00:25,  2.49it/s, Loss=0.61] "
     ]
    },
    {
     "name": "stdout",
     "output_type": "stream",
     "text": [
      "✅ Loaded BraTS20_Training_326: Image torch.Size([3, 224, 224]), Mask torch.Size([224, 224])\n",
      "✅ Loaded BraTS20_Training_008: Image torch.Size([3, 224, 224]), Mask torch.Size([224, 224])\n"
     ]
    },
    {
     "name": "stderr",
     "output_type": "stream",
     "text": [
      "Epoch [13/15]:  17%|█▋        | 13/75 [00:05<00:24,  2.50it/s, Loss=0.741]"
     ]
    },
    {
     "name": "stdout",
     "output_type": "stream",
     "text": [
      "✅ Loaded BraTS20_Training_105: Image torch.Size([3, 224, 224]), Mask torch.Size([224, 224])\n",
      "✅ Loaded BraTS20_Training_213: Image torch.Size([3, 224, 224]), Mask torch.Size([224, 224])\n"
     ]
    },
    {
     "name": "stderr",
     "output_type": "stream",
     "text": [
      "Epoch [13/15]:  19%|█▊        | 14/75 [00:05<00:24,  2.47it/s, Loss=0.682]"
     ]
    },
    {
     "name": "stdout",
     "output_type": "stream",
     "text": [
      "✅ Loaded BraTS20_Training_206: Image torch.Size([3, 224, 224]), Mask torch.Size([224, 224])\n",
      "✅ Loaded BraTS20_Training_322: Image torch.Size([3, 224, 224]), Mask torch.Size([224, 224])\n"
     ]
    },
    {
     "name": "stderr",
     "output_type": "stream",
     "text": [
      "Epoch [13/15]:  20%|██        | 15/75 [00:05<00:23,  2.51it/s, Loss=0.658]"
     ]
    },
    {
     "name": "stdout",
     "output_type": "stream",
     "text": [
      "✅ Loaded BraTS20_Training_128: Image torch.Size([3, 224, 224]), Mask torch.Size([224, 224])\n",
      "✅ Loaded BraTS20_Training_125: Image torch.Size([3, 224, 224]), Mask torch.Size([224, 224])\n"
     ]
    },
    {
     "name": "stderr",
     "output_type": "stream",
     "text": [
      "Epoch [13/15]:  21%|██▏       | 16/75 [00:06<00:23,  2.47it/s, Loss=0.662]"
     ]
    },
    {
     "name": "stdout",
     "output_type": "stream",
     "text": [
      "✅ Loaded BraTS20_Training_239: Image torch.Size([3, 224, 224]), Mask torch.Size([224, 224])\n",
      "✅ Loaded BraTS20_Training_083: Image torch.Size([3, 224, 224]), Mask torch.Size([224, 224])\n"
     ]
    },
    {
     "name": "stderr",
     "output_type": "stream",
     "text": [
      "Epoch [13/15]:  23%|██▎       | 17/75 [00:06<00:23,  2.49it/s, Loss=0.625]"
     ]
    },
    {
     "name": "stdout",
     "output_type": "stream",
     "text": [
      "✅ Loaded BraTS20_Training_022: Image torch.Size([3, 224, 224]), Mask torch.Size([224, 224])\n",
      "✅ Loaded BraTS20_Training_233: Image torch.Size([3, 224, 224]), Mask torch.Size([224, 224])\n"
     ]
    },
    {
     "name": "stderr",
     "output_type": "stream",
     "text": [
      "Epoch [13/15]:  24%|██▍       | 18/75 [00:07<00:22,  2.48it/s, Loss=0.705]"
     ]
    },
    {
     "name": "stdout",
     "output_type": "stream",
     "text": [
      "✅ Loaded BraTS20_Training_183: Image torch.Size([3, 224, 224]), Mask torch.Size([224, 224])\n",
      "✅ Loaded BraTS20_Training_096: Image torch.Size([3, 224, 224]), Mask torch.Size([224, 224])\n"
     ]
    },
    {
     "name": "stderr",
     "output_type": "stream",
     "text": [
      "Epoch [13/15]:  25%|██▌       | 19/75 [00:07<00:22,  2.53it/s, Loss=0.412]"
     ]
    },
    {
     "name": "stdout",
     "output_type": "stream",
     "text": [
      "✅ Loaded BraTS20_Training_143: Image torch.Size([3, 224, 224]), Mask torch.Size([224, 224])\n",
      "✅ Loaded BraTS20_Training_036: Image torch.Size([3, 224, 224]), Mask torch.Size([224, 224])\n"
     ]
    },
    {
     "name": "stderr",
     "output_type": "stream",
     "text": [
      "Epoch [13/15]:  27%|██▋       | 20/75 [00:07<00:21,  2.52it/s, Loss=0.539]"
     ]
    },
    {
     "name": "stdout",
     "output_type": "stream",
     "text": [
      "✅ Loaded BraTS20_Training_353: Image torch.Size([3, 224, 224]), Mask torch.Size([224, 224])\n",
      "✅ Loaded BraTS20_Training_069: Image torch.Size([3, 224, 224]), Mask torch.Size([224, 224])\n"
     ]
    },
    {
     "name": "stderr",
     "output_type": "stream",
     "text": [
      "Epoch [13/15]:  28%|██▊       | 21/75 [00:08<00:21,  2.48it/s, Loss=0.724]"
     ]
    },
    {
     "name": "stdout",
     "output_type": "stream",
     "text": [
      "✅ Loaded BraTS20_Training_043: Image torch.Size([3, 224, 224]), Mask torch.Size([224, 224])\n",
      "✅ Loaded BraTS20_Training_024: Image torch.Size([3, 224, 224]), Mask torch.Size([224, 224])\n"
     ]
    },
    {
     "name": "stderr",
     "output_type": "stream",
     "text": [
      "Epoch [13/15]:  29%|██▉       | 22/75 [00:08<00:21,  2.49it/s, Loss=0.556]"
     ]
    },
    {
     "name": "stdout",
     "output_type": "stream",
     "text": [
      "✅ Loaded BraTS20_Training_201: Image torch.Size([3, 224, 224]), Mask torch.Size([224, 224])\n",
      "✅ Loaded BraTS20_Training_309: Image torch.Size([3, 224, 224]), Mask torch.Size([224, 224])\n"
     ]
    },
    {
     "name": "stderr",
     "output_type": "stream",
     "text": [
      "Epoch [13/15]:  31%|███       | 23/75 [00:09<00:20,  2.52it/s, Loss=0.485]"
     ]
    },
    {
     "name": "stdout",
     "output_type": "stream",
     "text": [
      "✅ Loaded BraTS20_Training_037: Image torch.Size([3, 224, 224]), Mask torch.Size([224, 224])\n",
      "✅ Loaded BraTS20_Training_222: Image torch.Size([3, 224, 224]), Mask torch.Size([224, 224])\n"
     ]
    },
    {
     "name": "stderr",
     "output_type": "stream",
     "text": [
      "Epoch [13/15]:  32%|███▏      | 24/75 [00:09<00:20,  2.51it/s, Loss=0.421]"
     ]
    },
    {
     "name": "stdout",
     "output_type": "stream",
     "text": [
      "✅ Loaded BraTS20_Training_270: Image torch.Size([3, 224, 224]), Mask torch.Size([224, 224])\n",
      "✅ Loaded BraTS20_Training_268: Image torch.Size([3, 224, 224]), Mask torch.Size([224, 224])\n"
     ]
    },
    {
     "name": "stderr",
     "output_type": "stream",
     "text": [
      "Epoch [13/15]:  33%|███▎      | 25/75 [00:09<00:20,  2.48it/s, Loss=0.435]"
     ]
    },
    {
     "name": "stdout",
     "output_type": "stream",
     "text": [
      "✅ Loaded BraTS20_Training_297: Image torch.Size([3, 224, 224]), Mask torch.Size([224, 224])\n",
      "✅ Loaded BraTS20_Training_224: Image torch.Size([3, 224, 224]), Mask torch.Size([224, 224])\n"
     ]
    },
    {
     "name": "stderr",
     "output_type": "stream",
     "text": [
      "Epoch [13/15]:  35%|███▍      | 26/75 [00:10<00:19,  2.49it/s, Loss=0.497]"
     ]
    },
    {
     "name": "stdout",
     "output_type": "stream",
     "text": [
      "✅ Loaded BraTS20_Training_289: Image torch.Size([3, 224, 224]), Mask torch.Size([224, 224])\n",
      "✅ Loaded BraTS20_Training_360: Image torch.Size([3, 224, 224]), Mask torch.Size([224, 224])\n"
     ]
    },
    {
     "name": "stderr",
     "output_type": "stream",
     "text": [
      "Epoch [13/15]:  36%|███▌      | 27/75 [00:10<00:19,  2.49it/s, Loss=0.46] "
     ]
    },
    {
     "name": "stdout",
     "output_type": "stream",
     "text": [
      "✅ Loaded BraTS20_Training_121: Image torch.Size([3, 224, 224]), Mask torch.Size([224, 224])\n",
      "✅ Loaded BraTS20_Training_052: Image torch.Size([3, 224, 224]), Mask torch.Size([224, 224])\n"
     ]
    },
    {
     "name": "stderr",
     "output_type": "stream",
     "text": [
      "Epoch [13/15]:  37%|███▋      | 28/75 [00:11<00:18,  2.49it/s, Loss=0.351]"
     ]
    },
    {
     "name": "stdout",
     "output_type": "stream",
     "text": [
      "✅ Loaded BraTS20_Training_087: Image torch.Size([3, 224, 224]), Mask torch.Size([224, 224])\n",
      "✅ Loaded BraTS20_Training_237: Image torch.Size([3, 224, 224]), Mask torch.Size([224, 224])\n"
     ]
    },
    {
     "name": "stderr",
     "output_type": "stream",
     "text": [
      "Epoch [13/15]:  39%|███▊      | 29/75 [00:11<00:18,  2.53it/s, Loss=0.464]"
     ]
    },
    {
     "name": "stdout",
     "output_type": "stream",
     "text": [
      "✅ Loaded BraTS20_Training_086: Image torch.Size([3, 224, 224]), Mask torch.Size([224, 224])\n",
      "✅ Loaded BraTS20_Training_073: Image torch.Size([3, 224, 224]), Mask torch.Size([224, 224])\n"
     ]
    },
    {
     "name": "stderr",
     "output_type": "stream",
     "text": [
      "Epoch [13/15]:  40%|████      | 30/75 [00:11<00:17,  2.52it/s, Loss=0.479]"
     ]
    },
    {
     "name": "stdout",
     "output_type": "stream",
     "text": [
      "✅ Loaded BraTS20_Training_203: Image torch.Size([3, 224, 224]), Mask torch.Size([224, 224])\n",
      "✅ Loaded BraTS20_Training_161: Image torch.Size([3, 224, 224]), Mask torch.Size([224, 224])\n"
     ]
    },
    {
     "name": "stderr",
     "output_type": "stream",
     "text": [
      "Epoch [13/15]:  41%|████▏     | 31/75 [00:12<00:17,  2.51it/s, Loss=0.683]"
     ]
    },
    {
     "name": "stdout",
     "output_type": "stream",
     "text": [
      "✅ Loaded BraTS20_Training_064: Image torch.Size([3, 224, 224]), Mask torch.Size([224, 224])\n",
      "✅ Loaded BraTS20_Training_198: Image torch.Size([3, 224, 224]), Mask torch.Size([224, 224])\n"
     ]
    },
    {
     "name": "stderr",
     "output_type": "stream",
     "text": [
      "Epoch [13/15]:  43%|████▎     | 32/75 [00:12<00:17,  2.51it/s, Loss=0.661]"
     ]
    },
    {
     "name": "stdout",
     "output_type": "stream",
     "text": [
      "✅ Loaded BraTS20_Training_339: Image torch.Size([3, 224, 224]), Mask torch.Size([224, 224])\n",
      "✅ Loaded BraTS20_Training_023: Image torch.Size([3, 224, 224]), Mask torch.Size([224, 224])\n"
     ]
    },
    {
     "name": "stderr",
     "output_type": "stream",
     "text": [
      "Epoch [13/15]:  44%|████▍     | 33/75 [00:13<00:16,  2.51it/s, Loss=0.38] "
     ]
    },
    {
     "name": "stdout",
     "output_type": "stream",
     "text": [
      "✅ Loaded BraTS20_Training_080: Image torch.Size([3, 224, 224]), Mask torch.Size([224, 224])\n",
      "✅ Loaded BraTS20_Training_145: Image torch.Size([3, 224, 224]), Mask torch.Size([224, 224])\n"
     ]
    },
    {
     "name": "stderr",
     "output_type": "stream",
     "text": [
      "Epoch [13/15]:  45%|████▌     | 34/75 [00:13<00:16,  2.50it/s, Loss=0.561]"
     ]
    },
    {
     "name": "stdout",
     "output_type": "stream",
     "text": [
      "✅ Loaded BraTS20_Training_250: Image torch.Size([3, 224, 224]), Mask torch.Size([224, 224])\n",
      "✅ Loaded BraTS20_Training_294: Image torch.Size([3, 224, 224]), Mask torch.Size([224, 224])\n"
     ]
    },
    {
     "name": "stderr",
     "output_type": "stream",
     "text": [
      "Epoch [13/15]:  47%|████▋     | 35/75 [00:13<00:15,  2.50it/s, Loss=0.726]"
     ]
    },
    {
     "name": "stdout",
     "output_type": "stream",
     "text": [
      "✅ Loaded BraTS20_Training_302: Image torch.Size([3, 224, 224]), Mask torch.Size([224, 224])\n",
      "✅ Loaded BraTS20_Training_259: Image torch.Size([3, 224, 224]), Mask torch.Size([224, 224])\n"
     ]
    },
    {
     "name": "stderr",
     "output_type": "stream",
     "text": [
      "Epoch [13/15]:  48%|████▊     | 36/75 [00:14<00:15,  2.51it/s, Loss=0.45] "
     ]
    },
    {
     "name": "stdout",
     "output_type": "stream",
     "text": [
      "✅ Loaded BraTS20_Training_032: Image torch.Size([3, 224, 224]), Mask torch.Size([224, 224])\n",
      "✅ Loaded BraTS20_Training_033: Image torch.Size([3, 224, 224]), Mask torch.Size([224, 224])\n"
     ]
    },
    {
     "name": "stderr",
     "output_type": "stream",
     "text": [
      "Epoch [13/15]:  49%|████▉     | 37/75 [00:14<00:15,  2.50it/s, Loss=0.631]"
     ]
    },
    {
     "name": "stdout",
     "output_type": "stream",
     "text": [
      "✅ Loaded BraTS20_Training_025: Image torch.Size([3, 224, 224]), Mask torch.Size([224, 224])\n",
      "✅ Loaded BraTS20_Training_262: Image torch.Size([3, 224, 224]), Mask torch.Size([224, 224])\n"
     ]
    },
    {
     "name": "stderr",
     "output_type": "stream",
     "text": [
      "Epoch [13/15]:  51%|█████     | 38/75 [00:15<00:14,  2.51it/s, Loss=0.588]"
     ]
    },
    {
     "name": "stdout",
     "output_type": "stream",
     "text": [
      "✅ Loaded BraTS20_Training_164: Image torch.Size([3, 224, 224]), Mask torch.Size([224, 224])\n",
      "✅ Loaded BraTS20_Training_042: Image torch.Size([3, 224, 224]), Mask torch.Size([224, 224])\n"
     ]
    },
    {
     "name": "stderr",
     "output_type": "stream",
     "text": [
      "Epoch [13/15]:  52%|█████▏    | 39/75 [00:15<00:14,  2.49it/s, Loss=0.422]"
     ]
    },
    {
     "name": "stdout",
     "output_type": "stream",
     "text": [
      "✅ Loaded BraTS20_Training_131: Image torch.Size([3, 224, 224]), Mask torch.Size([224, 224])\n",
      "✅ Loaded BraTS20_Training_272: Image torch.Size([3, 224, 224]), Mask torch.Size([224, 224])\n"
     ]
    },
    {
     "name": "stderr",
     "output_type": "stream",
     "text": [
      "Epoch [13/15]:  53%|█████▎    | 40/75 [00:15<00:14,  2.49it/s, Loss=0.418]"
     ]
    },
    {
     "name": "stdout",
     "output_type": "stream",
     "text": [
      "✅ Loaded BraTS20_Training_072: Image torch.Size([3, 224, 224]), Mask torch.Size([224, 224])\n",
      "✅ Loaded BraTS20_Training_149: Image torch.Size([3, 224, 224]), Mask torch.Size([224, 224])\n"
     ]
    },
    {
     "name": "stderr",
     "output_type": "stream",
     "text": [
      "Epoch [13/15]:  55%|█████▍    | 41/75 [00:16<00:13,  2.51it/s, Loss=0.723]"
     ]
    },
    {
     "name": "stdout",
     "output_type": "stream",
     "text": [
      "✅ Loaded BraTS20_Training_197: Image torch.Size([3, 224, 224]), Mask torch.Size([224, 224])\n",
      "✅ Loaded BraTS20_Training_226: Image torch.Size([3, 224, 224]), Mask torch.Size([224, 224])\n"
     ]
    },
    {
     "name": "stderr",
     "output_type": "stream",
     "text": [
      "Epoch [13/15]:  56%|█████▌    | 42/75 [00:16<00:13,  2.47it/s, Loss=0.562]"
     ]
    },
    {
     "name": "stdout",
     "output_type": "stream",
     "text": [
      "✅ Loaded BraTS20_Training_248: Image torch.Size([3, 224, 224]), Mask torch.Size([224, 224])\n",
      "✅ Loaded BraTS20_Training_348: Image torch.Size([3, 224, 224]), Mask torch.Size([224, 224])\n"
     ]
    },
    {
     "name": "stderr",
     "output_type": "stream",
     "text": [
      "Epoch [13/15]:  57%|█████▋    | 43/75 [00:17<00:12,  2.48it/s, Loss=0.392]"
     ]
    },
    {
     "name": "stdout",
     "output_type": "stream",
     "text": [
      "✅ Loaded BraTS20_Training_079: Image torch.Size([3, 224, 224]), Mask torch.Size([224, 224])\n",
      "✅ Loaded BraTS20_Training_119: Image torch.Size([3, 224, 224]), Mask torch.Size([224, 224])\n"
     ]
    },
    {
     "name": "stderr",
     "output_type": "stream",
     "text": [
      "Epoch [13/15]:  59%|█████▊    | 44/75 [00:17<00:12,  2.49it/s, Loss=0.774]"
     ]
    },
    {
     "name": "stdout",
     "output_type": "stream",
     "text": [
      "✅ Loaded BraTS20_Training_089: Image torch.Size([3, 224, 224]), Mask torch.Size([224, 224])\n",
      "✅ Loaded BraTS20_Training_260: Image torch.Size([3, 224, 224]), Mask torch.Size([224, 224])\n"
     ]
    },
    {
     "name": "stderr",
     "output_type": "stream",
     "text": [
      "Epoch [13/15]:  60%|██████    | 45/75 [00:18<00:12,  2.46it/s, Loss=0.683]"
     ]
    },
    {
     "name": "stdout",
     "output_type": "stream",
     "text": [
      "✅ Loaded BraTS20_Training_116: Image torch.Size([3, 224, 224]), Mask torch.Size([224, 224])\n",
      "✅ Loaded BraTS20_Training_369: Image torch.Size([3, 224, 224]), Mask torch.Size([224, 224])\n"
     ]
    },
    {
     "name": "stderr",
     "output_type": "stream",
     "text": [
      "Epoch [13/15]:  61%|██████▏   | 46/75 [00:18<00:11,  2.47it/s, Loss=0.607]"
     ]
    },
    {
     "name": "stdout",
     "output_type": "stream",
     "text": [
      "✅ Loaded BraTS20_Training_140: Image torch.Size([3, 224, 224]), Mask torch.Size([224, 224])\n",
      "✅ Loaded BraTS20_Training_129: Image torch.Size([3, 224, 224]), Mask torch.Size([224, 224])\n"
     ]
    },
    {
     "name": "stderr",
     "output_type": "stream",
     "text": [
      "Epoch [13/15]:  63%|██████▎   | 47/75 [00:18<00:11,  2.45it/s, Loss=0.679]"
     ]
    },
    {
     "name": "stdout",
     "output_type": "stream",
     "text": [
      "✅ Loaded BraTS20_Training_267: Image torch.Size([3, 224, 224]), Mask torch.Size([224, 224])\n",
      "✅ Loaded BraTS20_Training_099: Image torch.Size([3, 224, 224]), Mask torch.Size([224, 224])\n"
     ]
    },
    {
     "name": "stderr",
     "output_type": "stream",
     "text": [
      "Epoch [13/15]:  64%|██████▍   | 48/75 [00:19<00:10,  2.46it/s, Loss=0.682]"
     ]
    },
    {
     "name": "stdout",
     "output_type": "stream",
     "text": [
      "✅ Loaded BraTS20_Training_092: Image torch.Size([3, 224, 224]), Mask torch.Size([224, 224])\n",
      "✅ Loaded BraTS20_Training_110: Image torch.Size([3, 224, 224]), Mask torch.Size([224, 224])\n"
     ]
    },
    {
     "name": "stderr",
     "output_type": "stream",
     "text": [
      "Epoch [13/15]:  65%|██████▌   | 49/75 [00:19<00:10,  2.48it/s, Loss=0.638]"
     ]
    },
    {
     "name": "stdout",
     "output_type": "stream",
     "text": [
      "✅ Loaded BraTS20_Training_280: Image torch.Size([3, 224, 224]), Mask torch.Size([224, 224])\n",
      "✅ Loaded BraTS20_Training_050: Image torch.Size([3, 224, 224]), Mask torch.Size([224, 224])\n"
     ]
    },
    {
     "name": "stderr",
     "output_type": "stream",
     "text": [
      "Epoch [13/15]:  67%|██████▋   | 50/75 [00:20<00:10,  2.45it/s, Loss=0.532]"
     ]
    },
    {
     "name": "stdout",
     "output_type": "stream",
     "text": [
      "✅ Loaded BraTS20_Training_053: Image torch.Size([3, 224, 224]), Mask torch.Size([224, 224])\n",
      "✅ Loaded BraTS20_Training_364: Image torch.Size([3, 224, 224]), Mask torch.Size([224, 224])\n"
     ]
    },
    {
     "name": "stderr",
     "output_type": "stream",
     "text": [
      "Epoch [13/15]:  68%|██████▊   | 51/75 [00:20<00:09,  2.47it/s, Loss=0.523]"
     ]
    },
    {
     "name": "stdout",
     "output_type": "stream",
     "text": [
      "✅ Loaded BraTS20_Training_001: Image torch.Size([3, 224, 224]), Mask torch.Size([224, 224])\n",
      "✅ Loaded BraTS20_Training_308: Image torch.Size([3, 224, 224]), Mask torch.Size([224, 224])\n"
     ]
    },
    {
     "name": "stderr",
     "output_type": "stream",
     "text": [
      "Epoch [13/15]:  69%|██████▉   | 52/75 [00:20<00:09,  2.48it/s, Loss=0.543]"
     ]
    },
    {
     "name": "stdout",
     "output_type": "stream",
     "text": [
      "✅ Loaded BraTS20_Training_082: Image torch.Size([3, 224, 224]), Mask torch.Size([224, 224])\n",
      "✅ Loaded BraTS20_Training_135: Image torch.Size([3, 224, 224]), Mask torch.Size([224, 224])\n"
     ]
    },
    {
     "name": "stderr",
     "output_type": "stream",
     "text": [
      "Epoch [13/15]:  71%|███████   | 53/75 [00:21<00:08,  2.48it/s, Loss=0.521]"
     ]
    },
    {
     "name": "stdout",
     "output_type": "stream",
     "text": [
      "✅ Loaded BraTS20_Training_244: Image torch.Size([3, 224, 224]), Mask torch.Size([224, 224])\n",
      "✅ Loaded BraTS20_Training_318: Image torch.Size([3, 224, 224]), Mask torch.Size([224, 224])\n"
     ]
    },
    {
     "name": "stderr",
     "output_type": "stream",
     "text": [
      "Epoch [13/15]:  72%|███████▏  | 54/75 [00:21<00:08,  2.52it/s, Loss=0.617]"
     ]
    },
    {
     "name": "stdout",
     "output_type": "stream",
     "text": [
      "✅ Loaded BraTS20_Training_056: Image torch.Size([3, 224, 224]), Mask torch.Size([224, 224])\n",
      "✅ Loaded BraTS20_Training_336: Image torch.Size([3, 224, 224]), Mask torch.Size([224, 224])\n"
     ]
    },
    {
     "name": "stderr",
     "output_type": "stream",
     "text": [
      "Epoch [13/15]:  73%|███████▎  | 55/75 [00:22<00:08,  2.48it/s, Loss=0.49] "
     ]
    },
    {
     "name": "stdout",
     "output_type": "stream",
     "text": [
      "✅ Loaded BraTS20_Training_132: Image torch.Size([3, 224, 224]), Mask torch.Size([224, 224])\n",
      "✅ Loaded BraTS20_Training_279: Image torch.Size([3, 224, 224]), Mask torch.Size([224, 224])\n"
     ]
    },
    {
     "name": "stderr",
     "output_type": "stream",
     "text": [
      "Epoch [13/15]:  75%|███████▍  | 56/75 [00:22<00:07,  2.49it/s, Loss=0.395]"
     ]
    },
    {
     "name": "stdout",
     "output_type": "stream",
     "text": [
      "✅ Loaded BraTS20_Training_278: Image torch.Size([3, 224, 224]), Mask torch.Size([224, 224])\n",
      "✅ Loaded BraTS20_Training_010: Image torch.Size([3, 224, 224]), Mask torch.Size([224, 224])\n"
     ]
    },
    {
     "name": "stderr",
     "output_type": "stream",
     "text": [
      "Epoch [13/15]:  76%|███████▌  | 57/75 [00:22<00:07,  2.49it/s, Loss=0.456]"
     ]
    },
    {
     "name": "stdout",
     "output_type": "stream",
     "text": [
      "✅ Loaded BraTS20_Training_245: Image torch.Size([3, 224, 224]), Mask torch.Size([224, 224])\n",
      "✅ Loaded BraTS20_Training_020: Image torch.Size([3, 224, 224]), Mask torch.Size([224, 224])\n"
     ]
    },
    {
     "name": "stderr",
     "output_type": "stream",
     "text": [
      "Epoch [13/15]:  77%|███████▋  | 58/75 [00:23<00:06,  2.49it/s, Loss=0.69] "
     ]
    },
    {
     "name": "stdout",
     "output_type": "stream",
     "text": [
      "✅ Loaded BraTS20_Training_329: Image torch.Size([3, 224, 224]), Mask torch.Size([224, 224])\n",
      "✅ Loaded BraTS20_Training_093: Image torch.Size([3, 224, 224]), Mask torch.Size([224, 224])\n"
     ]
    },
    {
     "name": "stderr",
     "output_type": "stream",
     "text": [
      "Epoch [13/15]:  79%|███████▊  | 59/75 [00:23<00:06,  2.49it/s, Loss=0.438]"
     ]
    },
    {
     "name": "stdout",
     "output_type": "stream",
     "text": [
      "✅ Loaded BraTS20_Training_332: Image torch.Size([3, 224, 224]), Mask torch.Size([224, 224])\n",
      "✅ Loaded BraTS20_Training_261: Image torch.Size([3, 224, 224]), Mask torch.Size([224, 224])\n"
     ]
    },
    {
     "name": "stderr",
     "output_type": "stream",
     "text": [
      "Epoch [13/15]:  80%|████████  | 60/75 [00:24<00:06,  2.50it/s, Loss=0.59] "
     ]
    },
    {
     "name": "stdout",
     "output_type": "stream",
     "text": [
      "✅ Loaded BraTS20_Training_021: Image torch.Size([3, 224, 224]), Mask torch.Size([224, 224])\n",
      "✅ Loaded BraTS20_Training_058: Image torch.Size([3, 224, 224]), Mask torch.Size([224, 224])\n"
     ]
    },
    {
     "name": "stderr",
     "output_type": "stream",
     "text": [
      "Epoch [13/15]:  81%|████████▏ | 61/75 [00:24<00:05,  2.50it/s, Loss=0.529]"
     ]
    },
    {
     "name": "stdout",
     "output_type": "stream",
     "text": [
      "✅ Loaded BraTS20_Training_255: Image torch.Size([3, 224, 224]), Mask torch.Size([224, 224])\n",
      "✅ Loaded BraTS20_Training_194: Image torch.Size([3, 224, 224]), Mask torch.Size([224, 224])\n"
     ]
    },
    {
     "name": "stderr",
     "output_type": "stream",
     "text": [
      "Epoch [13/15]:  83%|████████▎ | 62/75 [00:24<00:05,  2.48it/s, Loss=0.457]"
     ]
    },
    {
     "name": "stdout",
     "output_type": "stream",
     "text": [
      "✅ Loaded BraTS20_Training_258: Image torch.Size([3, 224, 224]), Mask torch.Size([224, 224])\n",
      "✅ Loaded BraTS20_Training_150: Image torch.Size([3, 224, 224]), Mask torch.Size([224, 224])\n"
     ]
    },
    {
     "name": "stderr",
     "output_type": "stream",
     "text": [
      "Epoch [13/15]:  84%|████████▍ | 63/75 [00:25<00:04,  2.51it/s, Loss=0.581]"
     ]
    },
    {
     "name": "stdout",
     "output_type": "stream",
     "text": [
      "✅ Loaded BraTS20_Training_106: Image torch.Size([3, 224, 224]), Mask torch.Size([224, 224])\n",
      "✅ Loaded BraTS20_Training_123: Image torch.Size([3, 224, 224]), Mask torch.Size([224, 224])\n"
     ]
    },
    {
     "name": "stderr",
     "output_type": "stream",
     "text": [
      "Epoch [13/15]:  85%|████████▌ | 64/75 [00:25<00:04,  2.50it/s, Loss=0.402]"
     ]
    },
    {
     "name": "stdout",
     "output_type": "stream",
     "text": [
      "✅ Loaded BraTS20_Training_225: Image torch.Size([3, 224, 224]), Mask torch.Size([224, 224])\n",
      "✅ Loaded BraTS20_Training_060: Image torch.Size([3, 224, 224]), Mask torch.Size([224, 224])\n"
     ]
    },
    {
     "name": "stderr",
     "output_type": "stream",
     "text": [
      "Epoch [13/15]:  87%|████████▋ | 65/75 [00:26<00:04,  2.50it/s, Loss=0.485]"
     ]
    },
    {
     "name": "stdout",
     "output_type": "stream",
     "text": [
      "✅ Loaded BraTS20_Training_193: Image torch.Size([3, 224, 224]), Mask torch.Size([224, 224])\n",
      "✅ Loaded BraTS20_Training_017: Image torch.Size([3, 224, 224]), Mask torch.Size([224, 224])\n"
     ]
    },
    {
     "name": "stderr",
     "output_type": "stream",
     "text": [
      "Epoch [13/15]:  88%|████████▊ | 66/75 [00:26<00:03,  2.51it/s, Loss=0.482]"
     ]
    },
    {
     "name": "stdout",
     "output_type": "stream",
     "text": [
      "✅ Loaded BraTS20_Training_345: Image torch.Size([3, 224, 224]), Mask torch.Size([224, 224])\n",
      "✅ Loaded BraTS20_Training_120: Image torch.Size([3, 224, 224]), Mask torch.Size([224, 224])\n"
     ]
    },
    {
     "name": "stderr",
     "output_type": "stream",
     "text": [
      "Epoch [13/15]:  89%|████████▉ | 67/75 [00:26<00:03,  2.50it/s, Loss=0.558]"
     ]
    },
    {
     "name": "stdout",
     "output_type": "stream",
     "text": [
      "✅ Loaded BraTS20_Training_230: Image torch.Size([3, 224, 224]), Mask torch.Size([224, 224])\n",
      "✅ Loaded BraTS20_Training_290: Image torch.Size([3, 224, 224]), Mask torch.Size([224, 224])\n"
     ]
    },
    {
     "name": "stderr",
     "output_type": "stream",
     "text": [
      "Epoch [13/15]:  91%|█████████ | 68/75 [00:27<00:02,  2.50it/s, Loss=0.745]"
     ]
    },
    {
     "name": "stdout",
     "output_type": "stream",
     "text": [
      "✅ Loaded BraTS20_Training_188: Image torch.Size([3, 224, 224]), Mask torch.Size([224, 224])\n",
      "✅ Loaded BraTS20_Training_275: Image torch.Size([3, 224, 224]), Mask torch.Size([224, 224])\n"
     ]
    },
    {
     "name": "stderr",
     "output_type": "stream",
     "text": [
      "Epoch [13/15]:  92%|█████████▏| 69/75 [00:27<00:02,  2.53it/s, Loss=0.585]"
     ]
    },
    {
     "name": "stdout",
     "output_type": "stream",
     "text": [
      "✅ Loaded BraTS20_Training_151: Image torch.Size([3, 224, 224]), Mask torch.Size([224, 224])\n",
      "✅ Loaded BraTS20_Training_277: Image torch.Size([3, 224, 224]), Mask torch.Size([224, 224])\n"
     ]
    },
    {
     "name": "stderr",
     "output_type": "stream",
     "text": [
      "Epoch [13/15]:  93%|█████████▎| 70/75 [00:28<00:01,  2.52it/s, Loss=0.457]"
     ]
    },
    {
     "name": "stdout",
     "output_type": "stream",
     "text": [
      "✅ Loaded BraTS20_Training_257: Image torch.Size([3, 224, 224]), Mask torch.Size([224, 224])\n",
      "✅ Loaded BraTS20_Training_242: Image torch.Size([3, 224, 224]), Mask torch.Size([224, 224])\n"
     ]
    },
    {
     "name": "stderr",
     "output_type": "stream",
     "text": [
      "Epoch [13/15]:  95%|█████████▍| 71/75 [00:28<00:01,  2.52it/s, Loss=0.519]"
     ]
    },
    {
     "name": "stdout",
     "output_type": "stream",
     "text": [
      "✅ Loaded BraTS20_Training_166: Image torch.Size([3, 224, 224]), Mask torch.Size([224, 224])\n",
      "✅ Loaded BraTS20_Training_220: Image torch.Size([3, 224, 224]), Mask torch.Size([224, 224])\n"
     ]
    },
    {
     "name": "stderr",
     "output_type": "stream",
     "text": [
      "Epoch [13/15]:  96%|█████████▌| 72/75 [00:28<00:01,  2.50it/s, Loss=0.519]"
     ]
    },
    {
     "name": "stdout",
     "output_type": "stream",
     "text": [
      "✅ Loaded BraTS20_Training_155: Image torch.Size([3, 224, 224]), Mask torch.Size([224, 224])\n",
      "✅ Loaded BraTS20_Training_299: Image torch.Size([3, 224, 224]), Mask torch.Size([224, 224])\n"
     ]
    },
    {
     "name": "stderr",
     "output_type": "stream",
     "text": [
      "Epoch [13/15]:  97%|█████████▋| 73/75 [00:29<00:00,  2.51it/s, Loss=0.426]"
     ]
    },
    {
     "name": "stdout",
     "output_type": "stream",
     "text": [
      "✅ Loaded BraTS20_Training_253: Image torch.Size([3, 224, 224]), Mask torch.Size([224, 224])\n",
      "✅ Loaded BraTS20_Training_019: Image torch.Size([3, 224, 224]), Mask torch.Size([224, 224])\n"
     ]
    },
    {
     "name": "stderr",
     "output_type": "stream",
     "text": [
      "Epoch [13/15]:  99%|█████████▊| 74/75 [00:29<00:00,  2.51it/s, Loss=0.66] "
     ]
    },
    {
     "name": "stdout",
     "output_type": "stream",
     "text": [
      "✅ Loaded BraTS20_Training_061: Image torch.Size([3, 224, 224]), Mask torch.Size([224, 224])\n",
      "✅ Loaded BraTS20_Training_315: Image torch.Size([3, 224, 224]), Mask torch.Size([224, 224])\n"
     ]
    },
    {
     "name": "stderr",
     "output_type": "stream",
     "text": [
      "                                                                          \r"
     ]
    },
    {
     "name": "stdout",
     "output_type": "stream",
     "text": [
      "\n",
      "✅ Epoch 13: Train Loss: 0.5581\n",
      "💾 Saved model at epoch 13 with train loss 0.5581\n"
     ]
    },
    {
     "name": "stderr",
     "output_type": "stream",
     "text": [
      "Epoch [14/15]:   0%|          | 0/75 [00:00<?, ?it/s]"
     ]
    },
    {
     "name": "stdout",
     "output_type": "stream",
     "text": [
      "✅ Loaded BraTS20_Training_092: Image torch.Size([3, 224, 224]), Mask torch.Size([224, 224])\n",
      "✅ Loaded BraTS20_Training_072: Image torch.Size([3, 224, 224]), Mask torch.Size([224, 224])\n"
     ]
    },
    {
     "name": "stderr",
     "output_type": "stream",
     "text": [
      "Epoch [14/15]:   1%|▏         | 1/75 [00:00<00:28,  2.60it/s, Loss=0.557]"
     ]
    },
    {
     "name": "stdout",
     "output_type": "stream",
     "text": [
      "✅ Loaded BraTS20_Training_201: Image torch.Size([3, 224, 224]), Mask torch.Size([224, 224])\n",
      "✅ Loaded BraTS20_Training_369: Image torch.Size([3, 224, 224]), Mask torch.Size([224, 224])\n"
     ]
    },
    {
     "name": "stderr",
     "output_type": "stream",
     "text": [
      "Epoch [14/15]:   3%|▎         | 2/75 [00:00<00:29,  2.48it/s, Loss=0.492]"
     ]
    },
    {
     "name": "stdout",
     "output_type": "stream",
     "text": [
      "✅ Loaded BraTS20_Training_080: Image torch.Size([3, 224, 224]), Mask torch.Size([224, 224])\n",
      "✅ Loaded BraTS20_Training_148: Image torch.Size([3, 224, 224]), Mask torch.Size([224, 224])\n"
     ]
    },
    {
     "name": "stderr",
     "output_type": "stream",
     "text": [
      "Epoch [14/15]:   4%|▍         | 3/75 [00:01<00:29,  2.48it/s, Loss=0.649]"
     ]
    },
    {
     "name": "stdout",
     "output_type": "stream",
     "text": [
      "✅ Loaded BraTS20_Training_360: Image torch.Size([3, 224, 224]), Mask torch.Size([224, 224])\n",
      "✅ Loaded BraTS20_Training_158: Image torch.Size([3, 224, 224]), Mask torch.Size([224, 224])\n"
     ]
    },
    {
     "name": "stderr",
     "output_type": "stream",
     "text": [
      "Epoch [14/15]:   5%|▌         | 4/75 [00:01<00:28,  2.45it/s, Loss=0.796]"
     ]
    },
    {
     "name": "stdout",
     "output_type": "stream",
     "text": [
      "✅ Loaded BraTS20_Training_079: Image torch.Size([3, 224, 224]), Mask torch.Size([224, 224])\n",
      "✅ Loaded BraTS20_Training_299: Image torch.Size([3, 224, 224]), Mask torch.Size([224, 224])\n"
     ]
    },
    {
     "name": "stderr",
     "output_type": "stream",
     "text": [
      "Epoch [14/15]:   7%|▋         | 5/75 [00:02<00:28,  2.46it/s, Loss=0.558]"
     ]
    },
    {
     "name": "stdout",
     "output_type": "stream",
     "text": [
      "✅ Loaded BraTS20_Training_336: Image torch.Size([3, 224, 224]), Mask torch.Size([224, 224])\n",
      "✅ Loaded BraTS20_Training_120: Image torch.Size([3, 224, 224]), Mask torch.Size([224, 224])\n"
     ]
    },
    {
     "name": "stderr",
     "output_type": "stream",
     "text": [
      "Epoch [14/15]:   8%|▊         | 6/75 [00:02<00:28,  2.44it/s, Loss=0.485]"
     ]
    },
    {
     "name": "stdout",
     "output_type": "stream",
     "text": [
      "✅ Loaded BraTS20_Training_042: Image torch.Size([3, 224, 224]), Mask torch.Size([224, 224])\n",
      "✅ Loaded BraTS20_Training_024: Image torch.Size([3, 224, 224]), Mask torch.Size([224, 224])\n"
     ]
    },
    {
     "name": "stderr",
     "output_type": "stream",
     "text": [
      "Epoch [14/15]:   9%|▉         | 7/75 [00:02<00:27,  2.47it/s, Loss=0.347]"
     ]
    },
    {
     "name": "stdout",
     "output_type": "stream",
     "text": [
      "✅ Loaded BraTS20_Training_183: Image torch.Size([3, 224, 224]), Mask torch.Size([224, 224])\n",
      "✅ Loaded BraTS20_Training_261: Image torch.Size([3, 224, 224]), Mask torch.Size([224, 224])\n"
     ]
    },
    {
     "name": "stderr",
     "output_type": "stream",
     "text": [
      "Epoch [14/15]:  11%|█         | 8/75 [00:03<00:27,  2.48it/s, Loss=0.559]"
     ]
    },
    {
     "name": "stdout",
     "output_type": "stream",
     "text": [
      "✅ Loaded BraTS20_Training_213: Image torch.Size([3, 224, 224]), Mask torch.Size([224, 224])\n",
      "✅ Loaded BraTS20_Training_161: Image torch.Size([3, 224, 224]), Mask torch.Size([224, 224])\n"
     ]
    },
    {
     "name": "stderr",
     "output_type": "stream",
     "text": [
      "Epoch [14/15]:  12%|█▏        | 9/75 [00:03<00:26,  2.49it/s, Loss=0.643]"
     ]
    },
    {
     "name": "stdout",
     "output_type": "stream",
     "text": [
      "✅ Loaded BraTS20_Training_217: Image torch.Size([3, 224, 224]), Mask torch.Size([224, 224])\n",
      "✅ Loaded BraTS20_Training_255: Image torch.Size([3, 224, 224]), Mask torch.Size([224, 224])\n"
     ]
    },
    {
     "name": "stderr",
     "output_type": "stream",
     "text": [
      "Epoch [14/15]:  13%|█▎        | 10/75 [00:04<00:26,  2.49it/s, Loss=0.412]"
     ]
    },
    {
     "name": "stdout",
     "output_type": "stream",
     "text": [
      "✅ Loaded BraTS20_Training_089: Image torch.Size([3, 224, 224]), Mask torch.Size([224, 224])\n",
      "✅ Loaded BraTS20_Training_001: Image torch.Size([3, 224, 224]), Mask torch.Size([224, 224])\n"
     ]
    },
    {
     "name": "stderr",
     "output_type": "stream",
     "text": [
      "Epoch [14/15]:  15%|█▍        | 11/75 [00:04<00:25,  2.49it/s, Loss=0.687]"
     ]
    },
    {
     "name": "stdout",
     "output_type": "stream",
     "text": [
      "✅ Loaded BraTS20_Training_195: Image torch.Size([3, 224, 224]), Mask torch.Size([224, 224])\n",
      "✅ Loaded BraTS20_Training_119: Image torch.Size([3, 224, 224]), Mask torch.Size([224, 224])\n"
     ]
    },
    {
     "name": "stderr",
     "output_type": "stream",
     "text": [
      "Epoch [14/15]:  16%|█▌        | 12/75 [00:04<00:25,  2.49it/s, Loss=0.787]"
     ]
    },
    {
     "name": "stdout",
     "output_type": "stream",
     "text": [
      "✅ Loaded BraTS20_Training_279: Image torch.Size([3, 224, 224]), Mask torch.Size([224, 224])\n",
      "✅ Loaded BraTS20_Training_010: Image torch.Size([3, 224, 224]), Mask torch.Size([224, 224])\n"
     ]
    },
    {
     "name": "stderr",
     "output_type": "stream",
     "text": [
      "Epoch [14/15]:  17%|█▋        | 13/75 [00:05<00:24,  2.50it/s, Loss=0.538]"
     ]
    },
    {
     "name": "stdout",
     "output_type": "stream",
     "text": [
      "✅ Loaded BraTS20_Training_224: Image torch.Size([3, 224, 224]), Mask torch.Size([224, 224])\n",
      "✅ Loaded BraTS20_Training_282: Image torch.Size([3, 224, 224]), Mask torch.Size([224, 224])\n"
     ]
    },
    {
     "name": "stderr",
     "output_type": "stream",
     "text": [
      "Epoch [14/15]:  19%|█▊        | 14/75 [00:05<00:24,  2.50it/s, Loss=0.312]"
     ]
    },
    {
     "name": "stdout",
     "output_type": "stream",
     "text": [
      "✅ Loaded BraTS20_Training_126: Image torch.Size([3, 224, 224]), Mask torch.Size([224, 224])\n",
      "✅ Loaded BraTS20_Training_106: Image torch.Size([3, 224, 224]), Mask torch.Size([224, 224])\n"
     ]
    },
    {
     "name": "stderr",
     "output_type": "stream",
     "text": [
      "Epoch [14/15]:  20%|██        | 15/75 [00:06<00:24,  2.49it/s, Loss=0.537]"
     ]
    },
    {
     "name": "stdout",
     "output_type": "stream",
     "text": [
      "✅ Loaded BraTS20_Training_027: Image torch.Size([3, 224, 224]), Mask torch.Size([224, 224])\n",
      "✅ Loaded BraTS20_Training_032: Image torch.Size([3, 224, 224]), Mask torch.Size([224, 224])\n"
     ]
    },
    {
     "name": "stderr",
     "output_type": "stream",
     "text": [
      "Epoch [14/15]:  21%|██▏       | 16/75 [00:06<00:23,  2.50it/s, Loss=0.527]"
     ]
    },
    {
     "name": "stdout",
     "output_type": "stream",
     "text": [
      "✅ Loaded BraTS20_Training_124: Image torch.Size([3, 224, 224]), Mask torch.Size([224, 224])\n",
      "✅ Loaded BraTS20_Training_151: Image torch.Size([3, 224, 224]), Mask torch.Size([224, 224])\n"
     ]
    },
    {
     "name": "stderr",
     "output_type": "stream",
     "text": [
      "Epoch [14/15]:  23%|██▎       | 17/75 [00:06<00:23,  2.50it/s, Loss=0.35] "
     ]
    },
    {
     "name": "stdout",
     "output_type": "stream",
     "text": [
      "✅ Loaded BraTS20_Training_121: Image torch.Size([3, 224, 224]), Mask torch.Size([224, 224])\n",
      "✅ Loaded BraTS20_Training_198: Image torch.Size([3, 224, 224]), Mask torch.Size([224, 224])\n"
     ]
    },
    {
     "name": "stderr",
     "output_type": "stream",
     "text": [
      "Epoch [14/15]:  24%|██▍       | 18/75 [00:07<00:22,  2.50it/s, Loss=0.375]"
     ]
    },
    {
     "name": "stdout",
     "output_type": "stream",
     "text": [
      "✅ Loaded BraTS20_Training_222: Image torch.Size([3, 224, 224]), Mask torch.Size([224, 224])\n",
      "✅ Loaded BraTS20_Training_194: Image torch.Size([3, 224, 224]), Mask torch.Size([224, 224])\n"
     ]
    },
    {
     "name": "stderr",
     "output_type": "stream",
     "text": [
      "Epoch [14/15]:  25%|██▌       | 19/75 [00:07<00:22,  2.47it/s, Loss=0.345]"
     ]
    },
    {
     "name": "stdout",
     "output_type": "stream",
     "text": [
      "✅ Loaded BraTS20_Training_036: Image torch.Size([3, 224, 224]), Mask torch.Size([224, 224])\n",
      "✅ Loaded BraTS20_Training_060: Image torch.Size([3, 224, 224]), Mask torch.Size([224, 224])\n"
     ]
    },
    {
     "name": "stderr",
     "output_type": "stream",
     "text": [
      "Epoch [14/15]:  27%|██▋       | 20/75 [00:08<00:22,  2.48it/s, Loss=0.448]"
     ]
    },
    {
     "name": "stdout",
     "output_type": "stream",
     "text": [
      "✅ Loaded BraTS20_Training_353: Image torch.Size([3, 224, 224]), Mask torch.Size([224, 224])\n",
      "✅ Loaded BraTS20_Training_278: Image torch.Size([3, 224, 224]), Mask torch.Size([224, 224])\n"
     ]
    },
    {
     "name": "stderr",
     "output_type": "stream",
     "text": [
      "Epoch [14/15]:  28%|██▊       | 21/75 [00:08<00:21,  2.47it/s, Loss=0.477]"
     ]
    },
    {
     "name": "stdout",
     "output_type": "stream",
     "text": [
      "✅ Loaded BraTS20_Training_034: Image torch.Size([3, 224, 224]), Mask torch.Size([224, 224])\n",
      "✅ Loaded BraTS20_Training_110: Image torch.Size([3, 224, 224]), Mask torch.Size([224, 224])\n"
     ]
    },
    {
     "name": "stderr",
     "output_type": "stream",
     "text": [
      "Epoch [14/15]:  29%|██▉       | 22/75 [00:08<00:21,  2.49it/s, Loss=0.695]"
     ]
    },
    {
     "name": "stdout",
     "output_type": "stream",
     "text": [
      "✅ Loaded BraTS20_Training_149: Image torch.Size([3, 224, 224]), Mask torch.Size([224, 224])\n",
      "✅ Loaded BraTS20_Training_339: Image torch.Size([3, 224, 224]), Mask torch.Size([224, 224])\n"
     ]
    },
    {
     "name": "stderr",
     "output_type": "stream",
     "text": [
      "Epoch [14/15]:  31%|███       | 23/75 [00:09<00:21,  2.46it/s, Loss=0.582]"
     ]
    },
    {
     "name": "stdout",
     "output_type": "stream",
     "text": [
      "✅ Loaded BraTS20_Training_056: Image torch.Size([3, 224, 224]), Mask torch.Size([224, 224])\n",
      "✅ Loaded BraTS20_Training_093: Image torch.Size([3, 224, 224]), Mask torch.Size([224, 224])\n"
     ]
    },
    {
     "name": "stderr",
     "output_type": "stream",
     "text": [
      "Epoch [14/15]:  32%|███▏      | 24/75 [00:09<00:20,  2.47it/s, Loss=0.588]"
     ]
    },
    {
     "name": "stdout",
     "output_type": "stream",
     "text": [
      "✅ Loaded BraTS20_Training_228: Image torch.Size([3, 224, 224]), Mask torch.Size([224, 224])\n",
      "✅ Loaded BraTS20_Training_017: Image torch.Size([3, 224, 224]), Mask torch.Size([224, 224])\n"
     ]
    },
    {
     "name": "stderr",
     "output_type": "stream",
     "text": [
      "Epoch [14/15]:  33%|███▎      | 25/75 [00:10<00:20,  2.45it/s, Loss=0.471]"
     ]
    },
    {
     "name": "stdout",
     "output_type": "stream",
     "text": [
      "✅ Loaded BraTS20_Training_315: Image torch.Size([3, 224, 224]), Mask torch.Size([224, 224])\n",
      "✅ Loaded BraTS20_Training_123: Image torch.Size([3, 224, 224]), Mask torch.Size([224, 224])\n"
     ]
    },
    {
     "name": "stderr",
     "output_type": "stream",
     "text": [
      "Epoch [14/15]:  35%|███▍      | 26/75 [00:10<00:19,  2.50it/s, Loss=0.349]"
     ]
    },
    {
     "name": "stdout",
     "output_type": "stream",
     "text": [
      "✅ Loaded BraTS20_Training_096: Image torch.Size([3, 224, 224]), Mask torch.Size([224, 224])\n",
      "✅ Loaded BraTS20_Training_268: Image torch.Size([3, 224, 224]), Mask torch.Size([224, 224])\n"
     ]
    },
    {
     "name": "stderr",
     "output_type": "stream",
     "text": [
      "Epoch [14/15]:  36%|███▌      | 27/75 [00:10<00:19,  2.46it/s, Loss=0.451]"
     ]
    },
    {
     "name": "stdout",
     "output_type": "stream",
     "text": [
      "✅ Loaded BraTS20_Training_196: Image torch.Size([3, 224, 224]), Mask torch.Size([224, 224])\n",
      "✅ Loaded BraTS20_Training_318: Image torch.Size([3, 224, 224]), Mask torch.Size([224, 224])\n"
     ]
    },
    {
     "name": "stderr",
     "output_type": "stream",
     "text": [
      "Epoch [14/15]:  37%|███▋      | 28/75 [00:11<00:19,  2.47it/s, Loss=0.55] "
     ]
    },
    {
     "name": "stdout",
     "output_type": "stream",
     "text": [
      "✅ Loaded BraTS20_Training_289: Image torch.Size([3, 224, 224]), Mask torch.Size([224, 224])\n",
      "✅ Loaded BraTS20_Training_206: Image torch.Size([3, 224, 224]), Mask torch.Size([224, 224])\n"
     ]
    },
    {
     "name": "stderr",
     "output_type": "stream",
     "text": [
      "Epoch [14/15]:  39%|███▊      | 29/75 [00:11<00:18,  2.46it/s, Loss=0.451]"
     ]
    },
    {
     "name": "stdout",
     "output_type": "stream",
     "text": [
      "✅ Loaded BraTS20_Training_037: Image torch.Size([3, 224, 224]), Mask torch.Size([224, 224])\n",
      "✅ Loaded BraTS20_Training_058: Image torch.Size([3, 224, 224]), Mask torch.Size([224, 224])\n"
     ]
    },
    {
     "name": "stderr",
     "output_type": "stream",
     "text": [
      "Epoch [14/15]:  40%|████      | 30/75 [00:12<00:18,  2.49it/s, Loss=0.519]"
     ]
    },
    {
     "name": "stdout",
     "output_type": "stream",
     "text": [
      "✅ Loaded BraTS20_Training_165: Image torch.Size([3, 224, 224]), Mask torch.Size([224, 224])\n",
      "✅ Loaded BraTS20_Training_326: Image torch.Size([3, 224, 224]), Mask torch.Size([224, 224])\n"
     ]
    },
    {
     "name": "stderr",
     "output_type": "stream",
     "text": [
      "Epoch [14/15]:  41%|████▏     | 31/75 [00:12<00:17,  2.49it/s, Loss=0.383]"
     ]
    },
    {
     "name": "stdout",
     "output_type": "stream",
     "text": [
      "✅ Loaded BraTS20_Training_147: Image torch.Size([3, 224, 224]), Mask torch.Size([224, 224])\n",
      "✅ Loaded BraTS20_Training_197: Image torch.Size([3, 224, 224]), Mask torch.Size([224, 224])\n"
     ]
    },
    {
     "name": "stderr",
     "output_type": "stream",
     "text": [
      "Epoch [14/15]:  43%|████▎     | 32/75 [00:12<00:17,  2.47it/s, Loss=0.593]"
     ]
    },
    {
     "name": "stdout",
     "output_type": "stream",
     "text": [
      "✅ Loaded BraTS20_Training_345: Image torch.Size([3, 224, 224]), Mask torch.Size([224, 224])\n",
      "✅ Loaded BraTS20_Training_271: Image torch.Size([3, 224, 224]), Mask torch.Size([224, 224])\n"
     ]
    },
    {
     "name": "stderr",
     "output_type": "stream",
     "text": [
      "Epoch [14/15]:  44%|████▍     | 33/75 [00:13<00:17,  2.45it/s, Loss=0.48] "
     ]
    },
    {
     "name": "stdout",
     "output_type": "stream",
     "text": [
      "✅ Loaded BraTS20_Training_019: Image torch.Size([3, 224, 224]), Mask torch.Size([224, 224])\n",
      "✅ Loaded BraTS20_Training_233: Image torch.Size([3, 224, 224]), Mask torch.Size([224, 224])\n"
     ]
    },
    {
     "name": "stderr",
     "output_type": "stream",
     "text": [
      "Epoch [14/15]:  45%|████▌     | 34/75 [00:13<00:16,  2.47it/s, Loss=0.628]"
     ]
    },
    {
     "name": "stdout",
     "output_type": "stream",
     "text": [
      "✅ Loaded BraTS20_Training_164: Image torch.Size([3, 224, 224]), Mask torch.Size([224, 224])\n",
      "✅ Loaded BraTS20_Training_227: Image torch.Size([3, 224, 224]), Mask torch.Size([224, 224])\n"
     ]
    },
    {
     "name": "stderr",
     "output_type": "stream",
     "text": [
      "Epoch [14/15]:  47%|████▋     | 35/75 [00:14<00:15,  2.51it/s, Loss=0.638]"
     ]
    },
    {
     "name": "stdout",
     "output_type": "stream",
     "text": [
      "✅ Loaded BraTS20_Training_193: Image torch.Size([3, 224, 224]), Mask torch.Size([224, 224])\n",
      "✅ Loaded BraTS20_Training_083: Image torch.Size([3, 224, 224]), Mask torch.Size([224, 224])\n"
     ]
    },
    {
     "name": "stderr",
     "output_type": "stream",
     "text": [
      "Epoch [14/15]:  48%|████▊     | 36/75 [00:14<00:15,  2.47it/s, Loss=0.475]"
     ]
    },
    {
     "name": "stdout",
     "output_type": "stream",
     "text": [
      "✅ Loaded BraTS20_Training_050: Image torch.Size([3, 224, 224]), Mask torch.Size([224, 224])\n",
      "✅ Loaded BraTS20_Training_312: Image torch.Size([3, 224, 224]), Mask torch.Size([224, 224])\n"
     ]
    },
    {
     "name": "stderr",
     "output_type": "stream",
     "text": [
      "Epoch [14/15]:  49%|████▉     | 37/75 [00:14<00:15,  2.51it/s, Loss=0.553]"
     ]
    },
    {
     "name": "stdout",
     "output_type": "stream",
     "text": [
      "✅ Loaded BraTS20_Training_099: Image torch.Size([3, 224, 224]), Mask torch.Size([224, 224])\n",
      "✅ Loaded BraTS20_Training_258: Image torch.Size([3, 224, 224]), Mask torch.Size([224, 224])\n"
     ]
    },
    {
     "name": "stderr",
     "output_type": "stream",
     "text": [
      "Epoch [14/15]:  51%|█████     | 38/75 [00:15<00:15,  2.46it/s, Loss=0.416]"
     ]
    },
    {
     "name": "stdout",
     "output_type": "stream",
     "text": [
      "✅ Loaded BraTS20_Training_129: Image torch.Size([3, 224, 224]), Mask torch.Size([224, 224])\n",
      "✅ Loaded BraTS20_Training_275: Image torch.Size([3, 224, 224]), Mask torch.Size([224, 224])\n"
     ]
    },
    {
     "name": "stderr",
     "output_type": "stream",
     "text": [
      "Epoch [14/15]:  52%|█████▏    | 39/75 [00:15<00:14,  2.46it/s, Loss=0.755]"
     ]
    },
    {
     "name": "stdout",
     "output_type": "stream",
     "text": [
      "✅ Loaded BraTS20_Training_230: Image torch.Size([3, 224, 224]), Mask torch.Size([224, 224])\n",
      "✅ Loaded BraTS20_Training_077: Image torch.Size([3, 224, 224]), Mask torch.Size([224, 224])\n"
     ]
    },
    {
     "name": "stderr",
     "output_type": "stream",
     "text": [
      "Epoch [14/15]:  53%|█████▎    | 40/75 [00:16<00:14,  2.48it/s, Loss=0.629]"
     ]
    },
    {
     "name": "stdout",
     "output_type": "stream",
     "text": [
      "✅ Loaded BraTS20_Training_244: Image torch.Size([3, 224, 224]), Mask torch.Size([224, 224])\n",
      "✅ Loaded BraTS20_Training_053: Image torch.Size([3, 224, 224]), Mask torch.Size([224, 224])\n"
     ]
    },
    {
     "name": "stderr",
     "output_type": "stream",
     "text": [
      "Epoch [14/15]:  55%|█████▍    | 41/75 [00:16<00:13,  2.48it/s, Loss=0.42] "
     ]
    },
    {
     "name": "stdout",
     "output_type": "stream",
     "text": [
      "✅ Loaded BraTS20_Training_226: Image torch.Size([3, 224, 224]), Mask torch.Size([224, 224])\n",
      "✅ Loaded BraTS20_Training_131: Image torch.Size([3, 224, 224]), Mask torch.Size([224, 224])\n"
     ]
    },
    {
     "name": "stderr",
     "output_type": "stream",
     "text": [
      "Epoch [14/15]:  56%|█████▌    | 42/75 [00:16<00:13,  2.49it/s, Loss=0.667]"
     ]
    },
    {
     "name": "stdout",
     "output_type": "stream",
     "text": [
      "✅ Loaded BraTS20_Training_105: Image torch.Size([3, 224, 224]), Mask torch.Size([224, 224])\n",
      "✅ Loaded BraTS20_Training_180: Image torch.Size([3, 224, 224]), Mask torch.Size([224, 224])\n"
     ]
    },
    {
     "name": "stderr",
     "output_type": "stream",
     "text": [
      "Epoch [14/15]:  57%|█████▋    | 43/75 [00:17<00:12,  2.49it/s, Loss=0.451]"
     ]
    },
    {
     "name": "stdout",
     "output_type": "stream",
     "text": [
      "✅ Loaded BraTS20_Training_329: Image torch.Size([3, 224, 224]), Mask torch.Size([224, 224])\n",
      "✅ Loaded BraTS20_Training_242: Image torch.Size([3, 224, 224]), Mask torch.Size([224, 224])\n"
     ]
    },
    {
     "name": "stderr",
     "output_type": "stream",
     "text": [
      "Epoch [14/15]:  59%|█████▊    | 44/75 [00:17<00:12,  2.50it/s, Loss=0.57] "
     ]
    },
    {
     "name": "stdout",
     "output_type": "stream",
     "text": [
      "✅ Loaded BraTS20_Training_332: Image torch.Size([3, 224, 224]), Mask torch.Size([224, 224])\n",
      "✅ Loaded BraTS20_Training_302: Image torch.Size([3, 224, 224]), Mask torch.Size([224, 224])\n"
     ]
    },
    {
     "name": "stderr",
     "output_type": "stream",
     "text": [
      "Epoch [14/15]:  60%|██████    | 45/75 [00:18<00:12,  2.48it/s, Loss=0.716]"
     ]
    },
    {
     "name": "stdout",
     "output_type": "stream",
     "text": [
      "✅ Loaded BraTS20_Training_052: Image torch.Size([3, 224, 224]), Mask torch.Size([224, 224])\n",
      "✅ Loaded BraTS20_Training_308: Image torch.Size([3, 224, 224]), Mask torch.Size([224, 224])\n"
     ]
    },
    {
     "name": "stderr",
     "output_type": "stream",
     "text": [
      "Epoch [14/15]:  61%|██████▏   | 46/75 [00:18<00:11,  2.50it/s, Loss=0.429]"
     ]
    },
    {
     "name": "stdout",
     "output_type": "stream",
     "text": [
      "✅ Loaded BraTS20_Training_135: Image torch.Size([3, 224, 224]), Mask torch.Size([224, 224])\n",
      "✅ Loaded BraTS20_Training_259: Image torch.Size([3, 224, 224]), Mask torch.Size([224, 224])\n"
     ]
    },
    {
     "name": "stderr",
     "output_type": "stream",
     "text": [
      "Epoch [14/15]:  63%|██████▎   | 47/75 [00:18<00:11,  2.46it/s, Loss=0.453]"
     ]
    },
    {
     "name": "stdout",
     "output_type": "stream",
     "text": [
      "✅ Loaded BraTS20_Training_033: Image torch.Size([3, 224, 224]), Mask torch.Size([224, 224])\n",
      "✅ Loaded BraTS20_Training_290: Image torch.Size([3, 224, 224]), Mask torch.Size([224, 224])\n"
     ]
    },
    {
     "name": "stderr",
     "output_type": "stream",
     "text": [
      "Epoch [14/15]:  64%|██████▍   | 48/75 [00:19<00:10,  2.50it/s, Loss=0.753]"
     ]
    },
    {
     "name": "stdout",
     "output_type": "stream",
     "text": [
      "✅ Loaded BraTS20_Training_073: Image torch.Size([3, 224, 224]), Mask torch.Size([224, 224])\n",
      "✅ Loaded BraTS20_Training_022: Image torch.Size([3, 224, 224]), Mask torch.Size([224, 224])\n"
     ]
    },
    {
     "name": "stderr",
     "output_type": "stream",
     "text": [
      "Epoch [14/15]:  65%|██████▌   | 49/75 [00:19<00:10,  2.50it/s, Loss=0.412]"
     ]
    },
    {
     "name": "stdout",
     "output_type": "stream",
     "text": [
      "✅ Loaded BraTS20_Training_125: Image torch.Size([3, 224, 224]), Mask torch.Size([224, 224])\n",
      "✅ Loaded BraTS20_Training_364: Image torch.Size([3, 224, 224]), Mask torch.Size([224, 224])\n"
     ]
    },
    {
     "name": "stderr",
     "output_type": "stream",
     "text": [
      "Epoch [14/15]:  67%|██████▋   | 50/75 [00:20<00:10,  2.48it/s, Loss=0.697]"
     ]
    },
    {
     "name": "stdout",
     "output_type": "stream",
     "text": [
      "✅ Loaded BraTS20_Training_043: Image torch.Size([3, 224, 224]), Mask torch.Size([224, 224])\n",
      "✅ Loaded BraTS20_Training_069: Image torch.Size([3, 224, 224]), Mask torch.Size([224, 224])\n"
     ]
    },
    {
     "name": "stderr",
     "output_type": "stream",
     "text": [
      "Epoch [14/15]:  68%|██████▊   | 51/75 [00:20<00:09,  2.49it/s, Loss=0.733]"
     ]
    },
    {
     "name": "stdout",
     "output_type": "stream",
     "text": [
      "✅ Loaded BraTS20_Training_250: Image torch.Size([3, 224, 224]), Mask torch.Size([224, 224])\n",
      "✅ Loaded BraTS20_Training_272: Image torch.Size([3, 224, 224]), Mask torch.Size([224, 224])\n"
     ]
    },
    {
     "name": "stderr",
     "output_type": "stream",
     "text": [
      "Epoch [14/15]:  69%|██████▉   | 52/75 [00:20<00:09,  2.46it/s, Loss=0.447]"
     ]
    },
    {
     "name": "stdout",
     "output_type": "stream",
     "text": [
      "✅ Loaded BraTS20_Training_150: Image torch.Size([3, 224, 224]), Mask torch.Size([224, 224])\n",
      "✅ Loaded BraTS20_Training_270: Image torch.Size([3, 224, 224]), Mask torch.Size([224, 224])\n"
     ]
    },
    {
     "name": "stderr",
     "output_type": "stream",
     "text": [
      "Epoch [14/15]:  71%|███████   | 53/75 [00:21<00:09,  2.44it/s, Loss=0.524]"
     ]
    },
    {
     "name": "stdout",
     "output_type": "stream",
     "text": [
      "✅ Loaded BraTS20_Training_267: Image torch.Size([3, 224, 224]), Mask torch.Size([224, 224])\n",
      "✅ Loaded BraTS20_Training_145: Image torch.Size([3, 224, 224]), Mask torch.Size([224, 224])\n"
     ]
    },
    {
     "name": "stderr",
     "output_type": "stream",
     "text": [
      "Epoch [14/15]:  72%|███████▏  | 54/75 [00:21<00:08,  2.43it/s, Loss=0.453]"
     ]
    },
    {
     "name": "stdout",
     "output_type": "stream",
     "text": [
      "✅ Loaded BraTS20_Training_155: Image torch.Size([3, 224, 224]), Mask torch.Size([224, 224])\n",
      "✅ Loaded BraTS20_Training_253: Image torch.Size([3, 224, 224]), Mask torch.Size([224, 224])\n"
     ]
    },
    {
     "name": "stderr",
     "output_type": "stream",
     "text": [
      "Epoch [14/15]:  73%|███████▎  | 55/75 [00:22<00:08,  2.45it/s, Loss=0.379]"
     ]
    },
    {
     "name": "stdout",
     "output_type": "stream",
     "text": [
      "✅ Loaded BraTS20_Training_239: Image torch.Size([3, 224, 224]), Mask torch.Size([224, 224])\n",
      "✅ Loaded BraTS20_Training_166: Image torch.Size([3, 224, 224]), Mask torch.Size([224, 224])\n"
     ]
    },
    {
     "name": "stderr",
     "output_type": "stream",
     "text": [
      "Epoch [14/15]:  75%|███████▍  | 56/75 [00:22<00:07,  2.49it/s, Loss=0.323]"
     ]
    },
    {
     "name": "stdout",
     "output_type": "stream",
     "text": [
      "✅ Loaded BraTS20_Training_140: Image torch.Size([3, 224, 224]), Mask torch.Size([224, 224])\n",
      "✅ Loaded BraTS20_Training_128: Image torch.Size([3, 224, 224]), Mask torch.Size([224, 224])\n"
     ]
    },
    {
     "name": "stderr",
     "output_type": "stream",
     "text": [
      "Epoch [14/15]:  76%|███████▌  | 57/75 [00:23<00:07,  2.47it/s, Loss=0.643]"
     ]
    },
    {
     "name": "stdout",
     "output_type": "stream",
     "text": [
      "✅ Loaded BraTS20_Training_262: Image torch.Size([3, 224, 224]), Mask torch.Size([224, 224])\n",
      "✅ Loaded BraTS20_Training_186: Image torch.Size([3, 224, 224]), Mask torch.Size([224, 224])\n"
     ]
    },
    {
     "name": "stderr",
     "output_type": "stream",
     "text": [
      "Epoch [14/15]:  77%|███████▋  | 58/75 [00:23<00:06,  2.47it/s, Loss=0.409]"
     ]
    },
    {
     "name": "stdout",
     "output_type": "stream",
     "text": [
      "✅ Loaded BraTS20_Training_086: Image torch.Size([3, 224, 224]), Mask torch.Size([224, 224])\n",
      "✅ Loaded BraTS20_Training_117: Image torch.Size([3, 224, 224]), Mask torch.Size([224, 224])\n"
     ]
    },
    {
     "name": "stderr",
     "output_type": "stream",
     "text": [
      "Epoch [14/15]:  79%|███████▊  | 59/75 [00:23<00:06,  2.48it/s, Loss=0.421]"
     ]
    },
    {
     "name": "stdout",
     "output_type": "stream",
     "text": [
      "✅ Loaded BraTS20_Training_064: Image torch.Size([3, 224, 224]), Mask torch.Size([224, 224])\n",
      "✅ Loaded BraTS20_Training_237: Image torch.Size([3, 224, 224]), Mask torch.Size([224, 224])\n"
     ]
    },
    {
     "name": "stderr",
     "output_type": "stream",
     "text": [
      "Epoch [14/15]:  80%|████████  | 60/75 [00:24<00:06,  2.48it/s, Loss=0.484]"
     ]
    },
    {
     "name": "stdout",
     "output_type": "stream",
     "text": [
      "✅ Loaded BraTS20_Training_322: Image torch.Size([3, 224, 224]), Mask torch.Size([224, 224])\n",
      "✅ Loaded BraTS20_Training_020: Image torch.Size([3, 224, 224]), Mask torch.Size([224, 224])\n"
     ]
    },
    {
     "name": "stderr",
     "output_type": "stream",
     "text": [
      "Epoch [14/15]:  81%|████████▏ | 61/75 [00:24<00:05,  2.48it/s, Loss=0.657]"
     ]
    },
    {
     "name": "stdout",
     "output_type": "stream",
     "text": [
      "✅ Loaded BraTS20_Training_245: Image torch.Size([3, 224, 224]), Mask torch.Size([224, 224])\n",
      "✅ Loaded BraTS20_Training_025: Image torch.Size([3, 224, 224]), Mask torch.Size([224, 224])\n"
     ]
    },
    {
     "name": "stderr",
     "output_type": "stream",
     "text": [
      "Epoch [14/15]:  83%|████████▎ | 62/75 [00:25<00:05,  2.49it/s, Loss=0.502]"
     ]
    },
    {
     "name": "stdout",
     "output_type": "stream",
     "text": [
      "✅ Loaded BraTS20_Training_082: Image torch.Size([3, 224, 224]), Mask torch.Size([224, 224])\n",
      "✅ Loaded BraTS20_Training_280: Image torch.Size([3, 224, 224]), Mask torch.Size([224, 224])\n"
     ]
    },
    {
     "name": "stderr",
     "output_type": "stream",
     "text": [
      "Epoch [14/15]:  84%|████████▍ | 63/75 [00:25<00:04,  2.51it/s, Loss=0.596]"
     ]
    },
    {
     "name": "stdout",
     "output_type": "stream",
     "text": [
      "✅ Loaded BraTS20_Training_188: Image torch.Size([3, 224, 224]), Mask torch.Size([224, 224])\n",
      "✅ Loaded BraTS20_Training_008: Image torch.Size([3, 224, 224]), Mask torch.Size([224, 224])\n"
     ]
    },
    {
     "name": "stderr",
     "output_type": "stream",
     "text": [
      "Epoch [14/15]:  85%|████████▌ | 64/75 [00:25<00:04,  2.50it/s, Loss=0.573]"
     ]
    },
    {
     "name": "stdout",
     "output_type": "stream",
     "text": [
      "✅ Loaded BraTS20_Training_015: Image torch.Size([3, 224, 224]), Mask torch.Size([224, 224])\n",
      "✅ Loaded BraTS20_Training_061: Image torch.Size([3, 224, 224]), Mask torch.Size([224, 224])\n"
     ]
    },
    {
     "name": "stderr",
     "output_type": "stream",
     "text": [
      "Epoch [14/15]:  87%|████████▋ | 65/75 [00:26<00:04,  2.50it/s, Loss=0.508]"
     ]
    },
    {
     "name": "stdout",
     "output_type": "stream",
     "text": [
      "✅ Loaded BraTS20_Training_225: Image torch.Size([3, 224, 224]), Mask torch.Size([224, 224])\n",
      "✅ Loaded BraTS20_Training_348: Image torch.Size([3, 224, 224]), Mask torch.Size([224, 224])\n"
     ]
    },
    {
     "name": "stderr",
     "output_type": "stream",
     "text": [
      "Epoch [14/15]:  88%|████████▊ | 66/75 [00:26<00:03,  2.47it/s, Loss=0.489]"
     ]
    },
    {
     "name": "stdout",
     "output_type": "stream",
     "text": [
      "✅ Loaded BraTS20_Training_057: Image torch.Size([3, 224, 224]), Mask torch.Size([224, 224])\n",
      "✅ Loaded BraTS20_Training_132: Image torch.Size([3, 224, 224]), Mask torch.Size([224, 224])\n"
     ]
    },
    {
     "name": "stderr",
     "output_type": "stream",
     "text": [
      "Epoch [14/15]:  89%|████████▉ | 67/75 [00:27<00:03,  2.49it/s, Loss=0.458]"
     ]
    },
    {
     "name": "stdout",
     "output_type": "stream",
     "text": [
      "✅ Loaded BraTS20_Training_087: Image torch.Size([3, 224, 224]), Mask torch.Size([224, 224])\n",
      "✅ Loaded BraTS20_Training_297: Image torch.Size([3, 224, 224]), Mask torch.Size([224, 224])\n"
     ]
    },
    {
     "name": "stderr",
     "output_type": "stream",
     "text": [
      "Epoch [14/15]:  91%|█████████ | 68/75 [00:27<00:02,  2.49it/s, Loss=0.731]"
     ]
    },
    {
     "name": "stdout",
     "output_type": "stream",
     "text": [
      "✅ Loaded BraTS20_Training_021: Image torch.Size([3, 224, 224]), Mask torch.Size([224, 224])\n",
      "✅ Loaded BraTS20_Training_294: Image torch.Size([3, 224, 224]), Mask torch.Size([224, 224])\n"
     ]
    },
    {
     "name": "stderr",
     "output_type": "stream",
     "text": [
      "Epoch [14/15]:  92%|█████████▏| 69/75 [00:27<00:02,  2.51it/s, Loss=0.714]"
     ]
    },
    {
     "name": "stdout",
     "output_type": "stream",
     "text": [
      "✅ Loaded BraTS20_Training_260: Image torch.Size([3, 224, 224]), Mask torch.Size([224, 224])\n",
      "✅ Loaded BraTS20_Training_257: Image torch.Size([3, 224, 224]), Mask torch.Size([224, 224])\n"
     ]
    },
    {
     "name": "stderr",
     "output_type": "stream",
     "text": [
      "Epoch [14/15]:  93%|█████████▎| 70/75 [00:28<00:02,  2.49it/s, Loss=0.541]"
     ]
    },
    {
     "name": "stdout",
     "output_type": "stream",
     "text": [
      "✅ Loaded BraTS20_Training_023: Image torch.Size([3, 224, 224]), Mask torch.Size([224, 224])\n",
      "✅ Loaded BraTS20_Training_248: Image torch.Size([3, 224, 224]), Mask torch.Size([224, 224])\n"
     ]
    },
    {
     "name": "stderr",
     "output_type": "stream",
     "text": [
      "Epoch [14/15]:  95%|█████████▍| 71/75 [00:28<00:01,  2.48it/s, Loss=0.45] "
     ]
    },
    {
     "name": "stdout",
     "output_type": "stream",
     "text": [
      "✅ Loaded BraTS20_Training_116: Image torch.Size([3, 224, 224]), Mask torch.Size([224, 224])\n",
      "✅ Loaded BraTS20_Training_203: Image torch.Size([3, 224, 224]), Mask torch.Size([224, 224])\n"
     ]
    },
    {
     "name": "stderr",
     "output_type": "stream",
     "text": [
      "Epoch [14/15]:  96%|█████████▌| 72/75 [00:29<00:01,  2.49it/s, Loss=0.623]"
     ]
    },
    {
     "name": "stdout",
     "output_type": "stream",
     "text": [
      "✅ Loaded BraTS20_Training_143: Image torch.Size([3, 224, 224]), Mask torch.Size([224, 224])\n",
      "✅ Loaded BraTS20_Training_277: Image torch.Size([3, 224, 224]), Mask torch.Size([224, 224])\n"
     ]
    },
    {
     "name": "stderr",
     "output_type": "stream",
     "text": [
      "Epoch [14/15]:  97%|█████████▋| 73/75 [00:29<00:00,  2.44it/s, Loss=0.424]"
     ]
    },
    {
     "name": "stdout",
     "output_type": "stream",
     "text": [
      "✅ Loaded BraTS20_Training_220: Image torch.Size([3, 224, 224]), Mask torch.Size([224, 224])\n",
      "✅ Loaded BraTS20_Training_358: Image torch.Size([3, 224, 224]), Mask torch.Size([224, 224])\n"
     ]
    },
    {
     "name": "stderr",
     "output_type": "stream",
     "text": [
      "Epoch [14/15]:  99%|█████████▊| 74/75 [00:29<00:00,  2.43it/s, Loss=0.515]"
     ]
    },
    {
     "name": "stdout",
     "output_type": "stream",
     "text": [
      "✅ Loaded BraTS20_Training_309: Image torch.Size([3, 224, 224]), Mask torch.Size([224, 224])\n",
      "✅ Loaded BraTS20_Training_273: Image torch.Size([3, 224, 224]), Mask torch.Size([224, 224])\n"
     ]
    },
    {
     "name": "stderr",
     "output_type": "stream",
     "text": [
      "                                                                          \r"
     ]
    },
    {
     "name": "stdout",
     "output_type": "stream",
     "text": [
      "\n",
      "✅ Epoch 14: Train Loss: 0.5314\n",
      "💾 Saved model at epoch 14 with train loss 0.5314\n"
     ]
    },
    {
     "name": "stderr",
     "output_type": "stream",
     "text": [
      "Epoch [15/15]:   0%|          | 0/75 [00:00<?, ?it/s]"
     ]
    },
    {
     "name": "stdout",
     "output_type": "stream",
     "text": [
      "✅ Loaded BraTS20_Training_332: Image torch.Size([3, 224, 224]), Mask torch.Size([224, 224])\n",
      "✅ Loaded BraTS20_Training_242: Image torch.Size([3, 224, 224]), Mask torch.Size([224, 224])\n"
     ]
    },
    {
     "name": "stderr",
     "output_type": "stream",
     "text": [
      "Epoch [15/15]:   1%|▏         | 1/75 [00:00<00:29,  2.50it/s, Loss=0.794]"
     ]
    },
    {
     "name": "stdout",
     "output_type": "stream",
     "text": [
      "✅ Loaded BraTS20_Training_290: Image torch.Size([3, 224, 224]), Mask torch.Size([224, 224])\n",
      "✅ Loaded BraTS20_Training_348: Image torch.Size([3, 224, 224]), Mask torch.Size([224, 224])\n"
     ]
    },
    {
     "name": "stderr",
     "output_type": "stream",
     "text": [
      "Epoch [15/15]:   3%|▎         | 2/75 [00:00<00:29,  2.50it/s, Loss=0.457]"
     ]
    },
    {
     "name": "stdout",
     "output_type": "stream",
     "text": [
      "✅ Loaded BraTS20_Training_087: Image torch.Size([3, 224, 224]), Mask torch.Size([224, 224])\n",
      "✅ Loaded BraTS20_Training_262: Image torch.Size([3, 224, 224]), Mask torch.Size([224, 224])\n"
     ]
    },
    {
     "name": "stderr",
     "output_type": "stream",
     "text": [
      "Epoch [15/15]:   4%|▍         | 3/75 [00:01<00:28,  2.50it/s, Loss=0.554]"
     ]
    },
    {
     "name": "stdout",
     "output_type": "stream",
     "text": [
      "✅ Loaded BraTS20_Training_261: Image torch.Size([3, 224, 224]), Mask torch.Size([224, 224])\n",
      "✅ Loaded BraTS20_Training_213: Image torch.Size([3, 224, 224]), Mask torch.Size([224, 224])\n"
     ]
    },
    {
     "name": "stderr",
     "output_type": "stream",
     "text": [
      "Epoch [15/15]:   5%|▌         | 4/75 [00:01<00:28,  2.50it/s, Loss=0.439]"
     ]
    },
    {
     "name": "stdout",
     "output_type": "stream",
     "text": [
      "✅ Loaded BraTS20_Training_143: Image torch.Size([3, 224, 224]), Mask torch.Size([224, 224])\n",
      "✅ Loaded BraTS20_Training_239: Image torch.Size([3, 224, 224]), Mask torch.Size([224, 224])\n"
     ]
    },
    {
     "name": "stderr",
     "output_type": "stream",
     "text": [
      "Epoch [15/15]:   7%|▋         | 5/75 [00:01<00:27,  2.50it/s, Loss=0.481]"
     ]
    },
    {
     "name": "stdout",
     "output_type": "stream",
     "text": [
      "✅ Loaded BraTS20_Training_225: Image torch.Size([3, 224, 224]), Mask torch.Size([224, 224])\n",
      "✅ Loaded BraTS20_Training_248: Image torch.Size([3, 224, 224]), Mask torch.Size([224, 224])\n"
     ]
    },
    {
     "name": "stderr",
     "output_type": "stream",
     "text": [
      "Epoch [15/15]:   8%|▊         | 6/75 [00:02<00:27,  2.49it/s, Loss=0.408]"
     ]
    },
    {
     "name": "stdout",
     "output_type": "stream",
     "text": [
      "✅ Loaded BraTS20_Training_001: Image torch.Size([3, 224, 224]), Mask torch.Size([224, 224])\n",
      "✅ Loaded BraTS20_Training_024: Image torch.Size([3, 224, 224]), Mask torch.Size([224, 224])\n"
     ]
    },
    {
     "name": "stderr",
     "output_type": "stream",
     "text": [
      "Epoch [15/15]:   9%|▉         | 7/75 [00:02<00:27,  2.50it/s, Loss=0.538]"
     ]
    },
    {
     "name": "stdout",
     "output_type": "stream",
     "text": [
      "✅ Loaded BraTS20_Training_105: Image torch.Size([3, 224, 224]), Mask torch.Size([224, 224])\n",
      "✅ Loaded BraTS20_Training_217: Image torch.Size([3, 224, 224]), Mask torch.Size([224, 224])\n"
     ]
    },
    {
     "name": "stderr",
     "output_type": "stream",
     "text": [
      "Epoch [15/15]:  11%|█         | 8/75 [00:03<00:26,  2.49it/s, Loss=0.78] "
     ]
    },
    {
     "name": "stdout",
     "output_type": "stream",
     "text": [
      "✅ Loaded BraTS20_Training_158: Image torch.Size([3, 224, 224]), Mask torch.Size([224, 224])\n",
      "✅ Loaded BraTS20_Training_080: Image torch.Size([3, 224, 224]), Mask torch.Size([224, 224])\n"
     ]
    },
    {
     "name": "stderr",
     "output_type": "stream",
     "text": [
      "Epoch [15/15]:  12%|█▏        | 9/75 [00:03<00:26,  2.47it/s, Loss=0.556]"
     ]
    },
    {
     "name": "stdout",
     "output_type": "stream",
     "text": [
      "✅ Loaded BraTS20_Training_259: Image torch.Size([3, 224, 224]), Mask torch.Size([224, 224])\n",
      "✅ Loaded BraTS20_Training_198: Image torch.Size([3, 224, 224]), Mask torch.Size([224, 224])\n"
     ]
    },
    {
     "name": "stderr",
     "output_type": "stream",
     "text": [
      "Epoch [15/15]:  13%|█▎        | 10/75 [00:04<00:26,  2.45it/s, Loss=0.466]"
     ]
    },
    {
     "name": "stdout",
     "output_type": "stream",
     "text": [
      "✅ Loaded BraTS20_Training_237: Image torch.Size([3, 224, 224]), Mask torch.Size([224, 224])\n",
      "✅ Loaded BraTS20_Training_036: Image torch.Size([3, 224, 224]), Mask torch.Size([224, 224])\n"
     ]
    },
    {
     "name": "stderr",
     "output_type": "stream",
     "text": [
      "Epoch [15/15]:  15%|█▍        | 11/75 [00:04<00:25,  2.50it/s, Loss=0.419]"
     ]
    },
    {
     "name": "stdout",
     "output_type": "stream",
     "text": [
      "✅ Loaded BraTS20_Training_064: Image torch.Size([3, 224, 224]), Mask torch.Size([224, 224])\n",
      "✅ Loaded BraTS20_Training_072: Image torch.Size([3, 224, 224]), Mask torch.Size([224, 224])\n"
     ]
    },
    {
     "name": "stderr",
     "output_type": "stream",
     "text": [
      "Epoch [15/15]:  16%|█▌        | 12/75 [00:04<00:25,  2.50it/s, Loss=0.584]"
     ]
    },
    {
     "name": "stdout",
     "output_type": "stream",
     "text": [
      "✅ Loaded BraTS20_Training_135: Image torch.Size([3, 224, 224]), Mask torch.Size([224, 224])\n",
      "✅ Loaded BraTS20_Training_273: Image torch.Size([3, 224, 224]), Mask torch.Size([224, 224])\n"
     ]
    },
    {
     "name": "stderr",
     "output_type": "stream",
     "text": [
      "Epoch [15/15]:  17%|█▋        | 13/75 [00:05<00:24,  2.49it/s, Loss=0.477]"
     ]
    },
    {
     "name": "stdout",
     "output_type": "stream",
     "text": [
      "✅ Loaded BraTS20_Training_309: Image torch.Size([3, 224, 224]), Mask torch.Size([224, 224])\n",
      "✅ Loaded BraTS20_Training_053: Image torch.Size([3, 224, 224]), Mask torch.Size([224, 224])\n"
     ]
    },
    {
     "name": "stderr",
     "output_type": "stream",
     "text": [
      "Epoch [15/15]:  19%|█▊        | 14/75 [00:05<00:24,  2.50it/s, Loss=0.403]"
     ]
    },
    {
     "name": "stdout",
     "output_type": "stream",
     "text": [
      "✅ Loaded BraTS20_Training_244: Image torch.Size([3, 224, 224]), Mask torch.Size([224, 224])\n",
      "✅ Loaded BraTS20_Training_188: Image torch.Size([3, 224, 224]), Mask torch.Size([224, 224])\n"
     ]
    },
    {
     "name": "stderr",
     "output_type": "stream",
     "text": [
      "Epoch [15/15]:  20%|██        | 15/75 [00:06<00:23,  2.50it/s, Loss=0.446]"
     ]
    },
    {
     "name": "stdout",
     "output_type": "stream",
     "text": [
      "✅ Loaded BraTS20_Training_318: Image torch.Size([3, 224, 224]), Mask torch.Size([224, 224])\n",
      "✅ Loaded BraTS20_Training_255: Image torch.Size([3, 224, 224]), Mask torch.Size([224, 224])\n"
     ]
    },
    {
     "name": "stderr",
     "output_type": "stream",
     "text": [
      "Epoch [15/15]:  21%|██▏       | 16/75 [00:06<00:23,  2.50it/s, Loss=0.523]"
     ]
    },
    {
     "name": "stdout",
     "output_type": "stream",
     "text": [
      "✅ Loaded BraTS20_Training_117: Image torch.Size([3, 224, 224]), Mask torch.Size([224, 224])\n",
      "✅ Loaded BraTS20_Training_096: Image torch.Size([3, 224, 224]), Mask torch.Size([224, 224])\n"
     ]
    },
    {
     "name": "stderr",
     "output_type": "stream",
     "text": [
      "Epoch [15/15]:  23%|██▎       | 17/75 [00:06<00:23,  2.50it/s, Loss=0.359]"
     ]
    },
    {
     "name": "stdout",
     "output_type": "stream",
     "text": [
      "✅ Loaded BraTS20_Training_186: Image torch.Size([3, 224, 224]), Mask torch.Size([224, 224])\n",
      "✅ Loaded BraTS20_Training_227: Image torch.Size([3, 224, 224]), Mask torch.Size([224, 224])\n"
     ]
    },
    {
     "name": "stderr",
     "output_type": "stream",
     "text": [
      "Epoch [15/15]:  24%|██▍       | 18/75 [00:07<00:23,  2.47it/s, Loss=0.391]"
     ]
    },
    {
     "name": "stdout",
     "output_type": "stream",
     "text": [
      "✅ Loaded BraTS20_Training_119: Image torch.Size([3, 224, 224]), Mask torch.Size([224, 224])\n",
      "✅ Loaded BraTS20_Training_289: Image torch.Size([3, 224, 224]), Mask torch.Size([224, 224])\n"
     ]
    },
    {
     "name": "stderr",
     "output_type": "stream",
     "text": [
      "Epoch [15/15]:  25%|██▌       | 19/75 [00:07<00:22,  2.47it/s, Loss=0.437]"
     ]
    },
    {
     "name": "stdout",
     "output_type": "stream",
     "text": [
      "✅ Loaded BraTS20_Training_032: Image torch.Size([3, 224, 224]), Mask torch.Size([224, 224])\n",
      "✅ Loaded BraTS20_Training_369: Image torch.Size([3, 224, 224]), Mask torch.Size([224, 224])\n"
     ]
    },
    {
     "name": "stderr",
     "output_type": "stream",
     "text": [
      "Epoch [15/15]:  27%|██▋       | 20/75 [00:08<00:22,  2.48it/s, Loss=0.474]"
     ]
    },
    {
     "name": "stdout",
     "output_type": "stream",
     "text": [
      "✅ Loaded BraTS20_Training_052: Image torch.Size([3, 224, 224]), Mask torch.Size([224, 224])\n",
      "✅ Loaded BraTS20_Training_050: Image torch.Size([3, 224, 224]), Mask torch.Size([224, 224])\n"
     ]
    },
    {
     "name": "stderr",
     "output_type": "stream",
     "text": [
      "Epoch [15/15]:  28%|██▊       | 21/75 [00:08<00:21,  2.49it/s, Loss=0.459]"
     ]
    },
    {
     "name": "stdout",
     "output_type": "stream",
     "text": [
      "✅ Loaded BraTS20_Training_069: Image torch.Size([3, 224, 224]), Mask torch.Size([224, 224])\n",
      "✅ Loaded BraTS20_Training_277: Image torch.Size([3, 224, 224]), Mask torch.Size([224, 224])\n"
     ]
    },
    {
     "name": "stderr",
     "output_type": "stream",
     "text": [
      "Epoch [15/15]:  29%|██▉       | 22/75 [00:08<00:21,  2.49it/s, Loss=0.757]"
     ]
    },
    {
     "name": "stdout",
     "output_type": "stream",
     "text": [
      "✅ Loaded BraTS20_Training_196: Image torch.Size([3, 224, 224]), Mask torch.Size([224, 224])\n",
      "✅ Loaded BraTS20_Training_057: Image torch.Size([3, 224, 224]), Mask torch.Size([224, 224])\n"
     ]
    },
    {
     "name": "stderr",
     "output_type": "stream",
     "text": [
      "Epoch [15/15]:  31%|███       | 23/75 [00:09<00:20,  2.50it/s, Loss=0.608]"
     ]
    },
    {
     "name": "stdout",
     "output_type": "stream",
     "text": [
      "✅ Loaded BraTS20_Training_061: Image torch.Size([3, 224, 224]), Mask torch.Size([224, 224])\n",
      "✅ Loaded BraTS20_Training_116: Image torch.Size([3, 224, 224]), Mask torch.Size([224, 224])\n"
     ]
    },
    {
     "name": "stderr",
     "output_type": "stream",
     "text": [
      "Epoch [15/15]:  32%|███▏      | 24/75 [00:09<00:20,  2.50it/s, Loss=0.464]"
     ]
    },
    {
     "name": "stdout",
     "output_type": "stream",
     "text": [
      "✅ Loaded BraTS20_Training_008: Image torch.Size([3, 224, 224]), Mask torch.Size([224, 224])\n",
      "✅ Loaded BraTS20_Training_056: Image torch.Size([3, 224, 224]), Mask torch.Size([224, 224])\n"
     ]
    },
    {
     "name": "stderr",
     "output_type": "stream",
     "text": [
      "Epoch [15/15]:  33%|███▎      | 25/75 [00:10<00:20,  2.50it/s, Loss=0.716]"
     ]
    },
    {
     "name": "stdout",
     "output_type": "stream",
     "text": [
      "✅ Loaded BraTS20_Training_083: Image torch.Size([3, 224, 224]), Mask torch.Size([224, 224])\n",
      "✅ Loaded BraTS20_Training_312: Image torch.Size([3, 224, 224]), Mask torch.Size([224, 224])\n"
     ]
    },
    {
     "name": "stderr",
     "output_type": "stream",
     "text": [
      "Epoch [15/15]:  35%|███▍      | 26/75 [00:10<00:19,  2.49it/s, Loss=0.424]"
     ]
    },
    {
     "name": "stdout",
     "output_type": "stream",
     "text": [
      "✅ Loaded BraTS20_Training_033: Image torch.Size([3, 224, 224]), Mask torch.Size([224, 224])\n",
      "✅ Loaded BraTS20_Training_131: Image torch.Size([3, 224, 224]), Mask torch.Size([224, 224])\n"
     ]
    },
    {
     "name": "stderr",
     "output_type": "stream",
     "text": [
      "Epoch [15/15]:  36%|███▌      | 27/75 [00:10<00:19,  2.50it/s, Loss=0.576]"
     ]
    },
    {
     "name": "stdout",
     "output_type": "stream",
     "text": [
      "✅ Loaded BraTS20_Training_297: Image torch.Size([3, 224, 224]), Mask torch.Size([224, 224])\n",
      "✅ Loaded BraTS20_Training_345: Image torch.Size([3, 224, 224]), Mask torch.Size([224, 224])\n"
     ]
    },
    {
     "name": "stderr",
     "output_type": "stream",
     "text": [
      "Epoch [15/15]:  37%|███▋      | 28/75 [00:11<00:19,  2.46it/s, Loss=0.717]"
     ]
    },
    {
     "name": "stdout",
     "output_type": "stream",
     "text": [
      "✅ Loaded BraTS20_Training_183: Image torch.Size([3, 224, 224]), Mask torch.Size([224, 224])\n",
      "✅ Loaded BraTS20_Training_315: Image torch.Size([3, 224, 224]), Mask torch.Size([224, 224])\n"
     ]
    },
    {
     "name": "stderr",
     "output_type": "stream",
     "text": [
      "Epoch [15/15]:  39%|███▊      | 29/75 [00:11<00:18,  2.45it/s, Loss=0.291]"
     ]
    },
    {
     "name": "stdout",
     "output_type": "stream",
     "text": [
      "✅ Loaded BraTS20_Training_015: Image torch.Size([3, 224, 224]), Mask torch.Size([224, 224])\n",
      "✅ Loaded BraTS20_Training_194: Image torch.Size([3, 224, 224]), Mask torch.Size([224, 224])\n"
     ]
    },
    {
     "name": "stderr",
     "output_type": "stream",
     "text": [
      "Epoch [15/15]:  40%|████      | 30/75 [00:12<00:18,  2.49it/s, Loss=0.368]"
     ]
    },
    {
     "name": "stdout",
     "output_type": "stream",
     "text": [
      "✅ Loaded BraTS20_Training_140: Image torch.Size([3, 224, 224]), Mask torch.Size([224, 224])\n",
      "✅ Loaded BraTS20_Training_271: Image torch.Size([3, 224, 224]), Mask torch.Size([224, 224])\n"
     ]
    },
    {
     "name": "stderr",
     "output_type": "stream",
     "text": [
      "Epoch [15/15]:  41%|████▏     | 31/75 [00:12<00:17,  2.47it/s, Loss=0.421]"
     ]
    },
    {
     "name": "stdout",
     "output_type": "stream",
     "text": [
      "✅ Loaded BraTS20_Training_021: Image torch.Size([3, 224, 224]), Mask torch.Size([224, 224])\n",
      "✅ Loaded BraTS20_Training_193: Image torch.Size([3, 224, 224]), Mask torch.Size([224, 224])\n"
     ]
    },
    {
     "name": "stderr",
     "output_type": "stream",
     "text": [
      "Epoch [15/15]:  43%|████▎     | 32/75 [00:12<00:17,  2.47it/s, Loss=0.407]"
     ]
    },
    {
     "name": "stdout",
     "output_type": "stream",
     "text": [
      "✅ Loaded BraTS20_Training_124: Image torch.Size([3, 224, 224]), Mask torch.Size([224, 224])\n",
      "✅ Loaded BraTS20_Training_339: Image torch.Size([3, 224, 224]), Mask torch.Size([224, 224])\n"
     ]
    },
    {
     "name": "stderr",
     "output_type": "stream",
     "text": [
      "Epoch [15/15]:  44%|████▍     | 33/75 [00:13<00:17,  2.46it/s, Loss=0.354]"
     ]
    },
    {
     "name": "stdout",
     "output_type": "stream",
     "text": [
      "✅ Loaded BraTS20_Training_129: Image torch.Size([3, 224, 224]), Mask torch.Size([224, 224])\n",
      "✅ Loaded BraTS20_Training_329: Image torch.Size([3, 224, 224]), Mask torch.Size([224, 224])\n"
     ]
    },
    {
     "name": "stderr",
     "output_type": "stream",
     "text": [
      "Epoch [15/15]:  45%|████▌     | 34/75 [00:13<00:16,  2.46it/s, Loss=0.467]"
     ]
    },
    {
     "name": "stdout",
     "output_type": "stream",
     "text": [
      "✅ Loaded BraTS20_Training_201: Image torch.Size([3, 224, 224]), Mask torch.Size([224, 224])\n",
      "✅ Loaded BraTS20_Training_082: Image torch.Size([3, 224, 224]), Mask torch.Size([224, 224])\n"
     ]
    },
    {
     "name": "stderr",
     "output_type": "stream",
     "text": [
      "Epoch [15/15]:  47%|████▋     | 35/75 [00:14<00:16,  2.45it/s, Loss=0.466]"
     ]
    },
    {
     "name": "stdout",
     "output_type": "stream",
     "text": [
      "✅ Loaded BraTS20_Training_023: Image torch.Size([3, 224, 224]), Mask torch.Size([224, 224])\n",
      "✅ Loaded BraTS20_Training_364: Image torch.Size([3, 224, 224]), Mask torch.Size([224, 224])\n"
     ]
    },
    {
     "name": "stderr",
     "output_type": "stream",
     "text": [
      "Epoch [15/15]:  48%|████▊     | 36/75 [00:14<00:15,  2.46it/s, Loss=0.669]"
     ]
    },
    {
     "name": "stdout",
     "output_type": "stream",
     "text": [
      "✅ Loaded BraTS20_Training_058: Image torch.Size([3, 224, 224]), Mask torch.Size([224, 224])\n",
      "✅ Loaded BraTS20_Training_326: Image torch.Size([3, 224, 224]), Mask torch.Size([224, 224])\n"
     ]
    },
    {
     "name": "stderr",
     "output_type": "stream",
     "text": [
      "Epoch [15/15]:  49%|████▉     | 37/75 [00:14<00:15,  2.47it/s, Loss=0.582]"
     ]
    },
    {
     "name": "stdout",
     "output_type": "stream",
     "text": [
      "✅ Loaded BraTS20_Training_197: Image torch.Size([3, 224, 224]), Mask torch.Size([224, 224])\n",
      "✅ Loaded BraTS20_Training_294: Image torch.Size([3, 224, 224]), Mask torch.Size([224, 224])\n"
     ]
    },
    {
     "name": "stderr",
     "output_type": "stream",
     "text": [
      "Epoch [15/15]:  51%|█████     | 38/75 [00:15<00:15,  2.46it/s, Loss=0.401]"
     ]
    },
    {
     "name": "stdout",
     "output_type": "stream",
     "text": [
      "✅ Loaded BraTS20_Training_302: Image torch.Size([3, 224, 224]), Mask torch.Size([224, 224])\n",
      "✅ Loaded BraTS20_Training_123: Image torch.Size([3, 224, 224]), Mask torch.Size([224, 224])\n"
     ]
    },
    {
     "name": "stderr",
     "output_type": "stream",
     "text": [
      "Epoch [15/15]:  52%|█████▏    | 39/75 [00:15<00:14,  2.47it/s, Loss=0.332]"
     ]
    },
    {
     "name": "stdout",
     "output_type": "stream",
     "text": [
      "✅ Loaded BraTS20_Training_226: Image torch.Size([3, 224, 224]), Mask torch.Size([224, 224])\n",
      "✅ Loaded BraTS20_Training_099: Image torch.Size([3, 224, 224]), Mask torch.Size([224, 224])\n"
     ]
    },
    {
     "name": "stderr",
     "output_type": "stream",
     "text": [
      "Epoch [15/15]:  53%|█████▎    | 40/75 [00:16<00:13,  2.50it/s, Loss=0.789]"
     ]
    },
    {
     "name": "stdout",
     "output_type": "stream",
     "text": [
      "✅ Loaded BraTS20_Training_233: Image torch.Size([3, 224, 224]), Mask torch.Size([224, 224])\n",
      "✅ Loaded BraTS20_Training_267: Image torch.Size([3, 224, 224]), Mask torch.Size([224, 224])\n"
     ]
    },
    {
     "name": "stderr",
     "output_type": "stream",
     "text": [
      "Epoch [15/15]:  55%|█████▍    | 41/75 [00:16<00:13,  2.51it/s, Loss=0.524]"
     ]
    },
    {
     "name": "stdout",
     "output_type": "stream",
     "text": [
      "✅ Loaded BraTS20_Training_147: Image torch.Size([3, 224, 224]), Mask torch.Size([224, 224])\n",
      "✅ Loaded BraTS20_Training_034: Image torch.Size([3, 224, 224]), Mask torch.Size([224, 224])\n"
     ]
    },
    {
     "name": "stderr",
     "output_type": "stream",
     "text": [
      "Epoch [15/15]:  56%|█████▌    | 42/75 [00:16<00:13,  2.48it/s, Loss=0.669]"
     ]
    },
    {
     "name": "stdout",
     "output_type": "stream",
     "text": [
      "✅ Loaded BraTS20_Training_228: Image torch.Size([3, 224, 224]), Mask torch.Size([224, 224])\n",
      "✅ Loaded BraTS20_Training_161: Image torch.Size([3, 224, 224]), Mask torch.Size([224, 224])\n"
     ]
    },
    {
     "name": "stderr",
     "output_type": "stream",
     "text": [
      "Epoch [15/15]:  57%|█████▋    | 43/75 [00:17<00:12,  2.49it/s, Loss=0.665]"
     ]
    },
    {
     "name": "stdout",
     "output_type": "stream",
     "text": [
      "✅ Loaded BraTS20_Training_322: Image torch.Size([3, 224, 224]), Mask torch.Size([224, 224])\n",
      "✅ Loaded BraTS20_Training_145: Image torch.Size([3, 224, 224]), Mask torch.Size([224, 224])\n"
     ]
    },
    {
     "name": "stderr",
     "output_type": "stream",
     "text": [
      "Epoch [15/15]:  59%|█████▊    | 44/75 [00:17<00:12,  2.51it/s, Loss=0.778]"
     ]
    },
    {
     "name": "stdout",
     "output_type": "stream",
     "text": [
      "✅ Loaded BraTS20_Training_253: Image torch.Size([3, 224, 224]), Mask torch.Size([224, 224])\n",
      "✅ Loaded BraTS20_Training_010: Image torch.Size([3, 224, 224]), Mask torch.Size([224, 224])\n"
     ]
    },
    {
     "name": "stderr",
     "output_type": "stream",
     "text": [
      "Epoch [15/15]:  60%|██████    | 45/75 [00:18<00:11,  2.52it/s, Loss=0.548]"
     ]
    },
    {
     "name": "stdout",
     "output_type": "stream",
     "text": [
      "✅ Loaded BraTS20_Training_106: Image torch.Size([3, 224, 224]), Mask torch.Size([224, 224])\n",
      "✅ Loaded BraTS20_Training_245: Image torch.Size([3, 224, 224]), Mask torch.Size([224, 224])\n"
     ]
    },
    {
     "name": "stderr",
     "output_type": "stream",
     "text": [
      "Epoch [15/15]:  61%|██████▏   | 46/75 [00:18<00:11,  2.50it/s, Loss=0.552]"
     ]
    },
    {
     "name": "stdout",
     "output_type": "stream",
     "text": [
      "✅ Loaded BraTS20_Training_019: Image torch.Size([3, 224, 224]), Mask torch.Size([224, 224])\n",
      "✅ Loaded BraTS20_Training_086: Image torch.Size([3, 224, 224]), Mask torch.Size([224, 224])\n"
     ]
    },
    {
     "name": "stderr",
     "output_type": "stream",
     "text": [
      "Epoch [15/15]:  63%|██████▎   | 47/75 [00:18<00:11,  2.51it/s, Loss=0.684]"
     ]
    },
    {
     "name": "stdout",
     "output_type": "stream",
     "text": [
      "✅ Loaded BraTS20_Training_077: Image torch.Size([3, 224, 224]), Mask torch.Size([224, 224])\n",
      "✅ Loaded BraTS20_Training_017: Image torch.Size([3, 224, 224]), Mask torch.Size([224, 224])\n"
     ]
    },
    {
     "name": "stderr",
     "output_type": "stream",
     "text": [
      "Epoch [15/15]:  64%|██████▍   | 48/75 [00:19<00:10,  2.51it/s, Loss=0.45] "
     ]
    },
    {
     "name": "stdout",
     "output_type": "stream",
     "text": [
      "✅ Loaded BraTS20_Training_150: Image torch.Size([3, 224, 224]), Mask torch.Size([224, 224])\n",
      "✅ Loaded BraTS20_Training_257: Image torch.Size([3, 224, 224]), Mask torch.Size([224, 224])\n"
     ]
    },
    {
     "name": "stderr",
     "output_type": "stream",
     "text": [
      "Epoch [15/15]:  65%|██████▌   | 49/75 [00:19<00:10,  2.51it/s, Loss=0.541]"
     ]
    },
    {
     "name": "stdout",
     "output_type": "stream",
     "text": [
      "✅ Loaded BraTS20_Training_149: Image torch.Size([3, 224, 224]), Mask torch.Size([224, 224])\n",
      "✅ Loaded BraTS20_Training_275: Image torch.Size([3, 224, 224]), Mask torch.Size([224, 224])\n"
     ]
    },
    {
     "name": "stderr",
     "output_type": "stream",
     "text": [
      "Epoch [15/15]:  67%|██████▋   | 50/75 [00:20<00:09,  2.50it/s, Loss=0.497]"
     ]
    },
    {
     "name": "stdout",
     "output_type": "stream",
     "text": [
      "✅ Loaded BraTS20_Training_020: Image torch.Size([3, 224, 224]), Mask torch.Size([224, 224])\n",
      "✅ Loaded BraTS20_Training_360: Image torch.Size([3, 224, 224]), Mask torch.Size([224, 224])\n"
     ]
    },
    {
     "name": "stderr",
     "output_type": "stream",
     "text": [
      "Epoch [15/15]:  68%|██████▊   | 51/75 [00:20<00:09,  2.47it/s, Loss=0.607]"
     ]
    },
    {
     "name": "stdout",
     "output_type": "stream",
     "text": [
      "✅ Loaded BraTS20_Training_222: Image torch.Size([3, 224, 224]), Mask torch.Size([224, 224])\n",
      "✅ Loaded BraTS20_Training_279: Image torch.Size([3, 224, 224]), Mask torch.Size([224, 224])\n"
     ]
    },
    {
     "name": "stderr",
     "output_type": "stream",
     "text": [
      "Epoch [15/15]:  69%|██████▉   | 52/75 [00:20<00:09,  2.48it/s, Loss=0.549]"
     ]
    },
    {
     "name": "stdout",
     "output_type": "stream",
     "text": [
      "✅ Loaded BraTS20_Training_073: Image torch.Size([3, 224, 224]), Mask torch.Size([224, 224])\n",
      "✅ Loaded BraTS20_Training_258: Image torch.Size([3, 224, 224]), Mask torch.Size([224, 224])\n"
     ]
    },
    {
     "name": "stderr",
     "output_type": "stream",
     "text": [
      "Epoch [15/15]:  71%|███████   | 53/75 [00:21<00:08,  2.49it/s, Loss=0.417]"
     ]
    },
    {
     "name": "stdout",
     "output_type": "stream",
     "text": [
      "✅ Loaded BraTS20_Training_206: Image torch.Size([3, 224, 224]), Mask torch.Size([224, 224])\n",
      "✅ Loaded BraTS20_Training_270: Image torch.Size([3, 224, 224]), Mask torch.Size([224, 224])\n"
     ]
    },
    {
     "name": "stderr",
     "output_type": "stream",
     "text": [
      "Epoch [15/15]:  72%|███████▏  | 54/75 [00:21<00:08,  2.46it/s, Loss=0.366]"
     ]
    },
    {
     "name": "stdout",
     "output_type": "stream",
     "text": [
      "✅ Loaded BraTS20_Training_282: Image torch.Size([3, 224, 224]), Mask torch.Size([224, 224])\n",
      "✅ Loaded BraTS20_Training_155: Image torch.Size([3, 224, 224]), Mask torch.Size([224, 224])\n"
     ]
    },
    {
     "name": "stderr",
     "output_type": "stream",
     "text": [
      "Epoch [15/15]:  73%|███████▎  | 55/75 [00:22<00:08,  2.46it/s, Loss=0.346]"
     ]
    },
    {
     "name": "stdout",
     "output_type": "stream",
     "text": [
      "✅ Loaded BraTS20_Training_126: Image torch.Size([3, 224, 224]), Mask torch.Size([224, 224])\n",
      "✅ Loaded BraTS20_Training_358: Image torch.Size([3, 224, 224]), Mask torch.Size([224, 224])\n"
     ]
    },
    {
     "name": "stderr",
     "output_type": "stream",
     "text": [
      "Epoch [15/15]:  75%|███████▍  | 56/75 [00:22<00:07,  2.45it/s, Loss=0.47] "
     ]
    },
    {
     "name": "stdout",
     "output_type": "stream",
     "text": [
      "✅ Loaded BraTS20_Training_230: Image torch.Size([3, 224, 224]), Mask torch.Size([224, 224])\n",
      "✅ Loaded BraTS20_Training_164: Image torch.Size([3, 224, 224]), Mask torch.Size([224, 224])\n"
     ]
    },
    {
     "name": "stderr",
     "output_type": "stream",
     "text": [
      "Epoch [15/15]:  76%|███████▌  | 57/75 [00:22<00:07,  2.47it/s, Loss=0.42]"
     ]
    },
    {
     "name": "stdout",
     "output_type": "stream",
     "text": [
      "✅ Loaded BraTS20_Training_022: Image torch.Size([3, 224, 224]), Mask torch.Size([224, 224])\n",
      "✅ Loaded BraTS20_Training_260: Image torch.Size([3, 224, 224]), Mask torch.Size([224, 224])\n"
     ]
    },
    {
     "name": "stderr",
     "output_type": "stream",
     "text": [
      "Epoch [15/15]:  77%|███████▋  | 58/75 [00:23<00:06,  2.47it/s, Loss=0.622]"
     ]
    },
    {
     "name": "stdout",
     "output_type": "stream",
     "text": [
      "✅ Loaded BraTS20_Training_299: Image torch.Size([3, 224, 224]), Mask torch.Size([224, 224])\n",
      "✅ Loaded BraTS20_Training_166: Image torch.Size([3, 224, 224]), Mask torch.Size([224, 224])\n"
     ]
    },
    {
     "name": "stderr",
     "output_type": "stream",
     "text": [
      "Epoch [15/15]:  79%|███████▊  | 59/75 [00:23<00:06,  2.49it/s, Loss=0.429]"
     ]
    },
    {
     "name": "stdout",
     "output_type": "stream",
     "text": [
      "✅ Loaded BraTS20_Training_093: Image torch.Size([3, 224, 224]), Mask torch.Size([224, 224])\n",
      "✅ Loaded BraTS20_Training_203: Image torch.Size([3, 224, 224]), Mask torch.Size([224, 224])\n"
     ]
    },
    {
     "name": "stderr",
     "output_type": "stream",
     "text": [
      "Epoch [15/15]:  80%|████████  | 60/75 [00:24<00:06,  2.49it/s, Loss=0.662]"
     ]
    },
    {
     "name": "stdout",
     "output_type": "stream",
     "text": [
      "✅ Loaded BraTS20_Training_132: Image torch.Size([3, 224, 224]), Mask torch.Size([224, 224])\n",
      "✅ Loaded BraTS20_Training_043: Image torch.Size([3, 224, 224]), Mask torch.Size([224, 224])\n"
     ]
    },
    {
     "name": "stderr",
     "output_type": "stream",
     "text": [
      "Epoch [15/15]:  81%|████████▏ | 61/75 [00:24<00:05,  2.52it/s, Loss=0.446]"
     ]
    },
    {
     "name": "stdout",
     "output_type": "stream",
     "text": [
      "✅ Loaded BraTS20_Training_121: Image torch.Size([3, 224, 224]), Mask torch.Size([224, 224])\n",
      "✅ Loaded BraTS20_Training_060: Image torch.Size([3, 224, 224]), Mask torch.Size([224, 224])\n"
     ]
    },
    {
     "name": "stderr",
     "output_type": "stream",
     "text": [
      "Epoch [15/15]:  83%|████████▎ | 62/75 [00:24<00:05,  2.51it/s, Loss=0.359]"
     ]
    },
    {
     "name": "stdout",
     "output_type": "stream",
     "text": [
      "✅ Loaded BraTS20_Training_165: Image torch.Size([3, 224, 224]), Mask torch.Size([224, 224])\n",
      "✅ Loaded BraTS20_Training_151: Image torch.Size([3, 224, 224]), Mask torch.Size([224, 224])\n"
     ]
    },
    {
     "name": "stderr",
     "output_type": "stream",
     "text": [
      "Epoch [15/15]:  84%|████████▍ | 63/75 [00:25<00:04,  2.52it/s, Loss=0.299]"
     ]
    },
    {
     "name": "stdout",
     "output_type": "stream",
     "text": [
      "✅ Loaded BraTS20_Training_120: Image torch.Size([3, 224, 224]), Mask torch.Size([224, 224])\n",
      "✅ Loaded BraTS20_Training_110: Image torch.Size([3, 224, 224]), Mask torch.Size([224, 224])\n"
     ]
    },
    {
     "name": "stderr",
     "output_type": "stream",
     "text": [
      "Epoch [15/15]:  85%|████████▌ | 64/75 [00:25<00:04,  2.51it/s, Loss=0.522]"
     ]
    },
    {
     "name": "stdout",
     "output_type": "stream",
     "text": [
      "✅ Loaded BraTS20_Training_092: Image torch.Size([3, 224, 224]), Mask torch.Size([224, 224])\n",
      "✅ Loaded BraTS20_Training_128: Image torch.Size([3, 224, 224]), Mask torch.Size([224, 224])\n"
     ]
    },
    {
     "name": "stderr",
     "output_type": "stream",
     "text": [
      "Epoch [15/15]:  87%|████████▋ | 65/75 [00:26<00:03,  2.50it/s, Loss=0.507]"
     ]
    },
    {
     "name": "stdout",
     "output_type": "stream",
     "text": [
      "✅ Loaded BraTS20_Training_027: Image torch.Size([3, 224, 224]), Mask torch.Size([224, 224])\n",
      "✅ Loaded BraTS20_Training_353: Image torch.Size([3, 224, 224]), Mask torch.Size([224, 224])\n"
     ]
    },
    {
     "name": "stderr",
     "output_type": "stream",
     "text": [
      "Epoch [15/15]:  88%|████████▊ | 66/75 [00:26<00:03,  2.46it/s, Loss=0.426]"
     ]
    },
    {
     "name": "stdout",
     "output_type": "stream",
     "text": [
      "✅ Loaded BraTS20_Training_079: Image torch.Size([3, 224, 224]), Mask torch.Size([224, 224])\n",
      "✅ Loaded BraTS20_Training_025: Image torch.Size([3, 224, 224]), Mask torch.Size([224, 224])\n"
     ]
    },
    {
     "name": "stderr",
     "output_type": "stream",
     "text": [
      "Epoch [15/15]:  89%|████████▉ | 67/75 [00:26<00:03,  2.48it/s, Loss=0.751]"
     ]
    },
    {
     "name": "stdout",
     "output_type": "stream",
     "text": [
      "✅ Loaded BraTS20_Training_336: Image torch.Size([3, 224, 224]), Mask torch.Size([224, 224])\n",
      "✅ Loaded BraTS20_Training_180: Image torch.Size([3, 224, 224]), Mask torch.Size([224, 224])\n"
     ]
    },
    {
     "name": "stderr",
     "output_type": "stream",
     "text": [
      "Epoch [15/15]:  91%|█████████ | 68/75 [00:27<00:02,  2.46it/s, Loss=0.407]"
     ]
    },
    {
     "name": "stdout",
     "output_type": "stream",
     "text": [
      "✅ Loaded BraTS20_Training_042: Image torch.Size([3, 224, 224]), Mask torch.Size([224, 224])\n",
      "✅ Loaded BraTS20_Training_280: Image torch.Size([3, 224, 224]), Mask torch.Size([224, 224])\n"
     ]
    },
    {
     "name": "stderr",
     "output_type": "stream",
     "text": [
      "Epoch [15/15]:  92%|█████████▏| 69/75 [00:27<00:02,  2.47it/s, Loss=0.299]"
     ]
    },
    {
     "name": "stdout",
     "output_type": "stream",
     "text": [
      "✅ Loaded BraTS20_Training_220: Image torch.Size([3, 224, 224]), Mask torch.Size([224, 224])\n",
      "✅ Loaded BraTS20_Training_272: Image torch.Size([3, 224, 224]), Mask torch.Size([224, 224])\n"
     ]
    },
    {
     "name": "stderr",
     "output_type": "stream",
     "text": [
      "Epoch [15/15]:  93%|█████████▎| 70/75 [00:28<00:02,  2.48it/s, Loss=0.476]"
     ]
    },
    {
     "name": "stdout",
     "output_type": "stream",
     "text": [
      "✅ Loaded BraTS20_Training_195: Image torch.Size([3, 224, 224]), Mask torch.Size([224, 224])\n",
      "✅ Loaded BraTS20_Training_148: Image torch.Size([3, 224, 224]), Mask torch.Size([224, 224])\n"
     ]
    },
    {
     "name": "stderr",
     "output_type": "stream",
     "text": [
      "Epoch [15/15]:  95%|█████████▍| 71/75 [00:28<00:01,  2.49it/s, Loss=0.624]"
     ]
    },
    {
     "name": "stdout",
     "output_type": "stream",
     "text": [
      "✅ Loaded BraTS20_Training_278: Image torch.Size([3, 224, 224]), Mask torch.Size([224, 224])\n",
      "✅ Loaded BraTS20_Training_125: Image torch.Size([3, 224, 224]), Mask torch.Size([224, 224])\n"
     ]
    },
    {
     "name": "stderr",
     "output_type": "stream",
     "text": [
      "Epoch [15/15]:  96%|█████████▌| 72/75 [00:28<00:01,  2.49it/s, Loss=0.496]"
     ]
    },
    {
     "name": "stdout",
     "output_type": "stream",
     "text": [
      "✅ Loaded BraTS20_Training_308: Image torch.Size([3, 224, 224]), Mask torch.Size([224, 224])\n",
      "✅ Loaded BraTS20_Training_250: Image torch.Size([3, 224, 224]), Mask torch.Size([224, 224])\n"
     ]
    },
    {
     "name": "stderr",
     "output_type": "stream",
     "text": [
      "Epoch [15/15]:  97%|█████████▋| 73/75 [00:29<00:00,  2.46it/s, Loss=0.477]"
     ]
    },
    {
     "name": "stdout",
     "output_type": "stream",
     "text": [
      "✅ Loaded BraTS20_Training_224: Image torch.Size([3, 224, 224]), Mask torch.Size([224, 224])\n",
      "✅ Loaded BraTS20_Training_089: Image torch.Size([3, 224, 224]), Mask torch.Size([224, 224])\n"
     ]
    },
    {
     "name": "stderr",
     "output_type": "stream",
     "text": [
      "Epoch [15/15]:  99%|█████████▊| 74/75 [00:29<00:00,  2.51it/s, Loss=0.333]"
     ]
    },
    {
     "name": "stdout",
     "output_type": "stream",
     "text": [
      "✅ Loaded BraTS20_Training_268: Image torch.Size([3, 224, 224]), Mask torch.Size([224, 224])\n",
      "✅ Loaded BraTS20_Training_037: Image torch.Size([3, 224, 224]), Mask torch.Size([224, 224])\n"
     ]
    },
    {
     "name": "stderr",
     "output_type": "stream",
     "text": [
      "                                                                          "
     ]
    },
    {
     "name": "stdout",
     "output_type": "stream",
     "text": [
      "\n",
      "✅ Epoch 15: Train Loss: 0.5047\n",
      "💾 Saved model at epoch 15 with train loss 0.5047\n",
      "🏁 Training complete.\n"
     ]
    },
    {
     "name": "stderr",
     "output_type": "stream",
     "text": [
      "\r"
     ]
    }
   ],
   "source": [
    "optimizer = torch.optim.Adam(model.parameters(), lr=1e-4)\n",
    "train_model_smp(\n",
    "    model=model,\n",
    "    train_loader=train_loader,\n",
    "    optimizer=optimizer,\n",
    "    loss_fn=combined_loss,  # your defined function\n",
    "    device=device,\n",
    "    epochs=15,\n",
    "    patience=3,\n",
    "    save_path=\"preTrained_unet_resnet34.pth\"\n",
    ")\n"
   ]
  },
  {
   "cell_type": "code",
   "execution_count": 63,
   "id": "908861ce",
   "metadata": {},
   "outputs": [
    {
     "name": "stdout",
     "output_type": "stream",
     "text": [
      "✅ Fine-tuning complete. Model saved.\n"
     ]
    }
   ],
   "source": [
    "torch.save(model.state_dict(), \"2020_pretrained_resNet34.pth\")\n",
    "print(\"✅ Fine-tuning complete. Model saved.\")"
   ]
  },
  {
   "cell_type": "code",
   "execution_count": null,
   "id": "33bc7764",
   "metadata": {},
   "outputs": [],
   "source": []
  }
 ],
 "metadata": {
  "kernelspec": {
   "display_name": ".venv",
   "language": "python",
   "name": "python3"
  },
  "language_info": {
   "codemirror_mode": {
    "name": "ipython",
    "version": 3
   },
   "file_extension": ".py",
   "mimetype": "text/x-python",
   "name": "python",
   "nbconvert_exporter": "python",
   "pygments_lexer": "ipython3",
   "version": "3.9.13"
  }
 },
 "nbformat": 4,
 "nbformat_minor": 5
}
