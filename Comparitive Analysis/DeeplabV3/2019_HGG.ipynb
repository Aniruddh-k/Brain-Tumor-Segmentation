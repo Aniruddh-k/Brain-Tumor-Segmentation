{
 "cells": [
  {
   "cell_type": "code",
   "execution_count": 2,
   "id": "b784f4d8",
   "metadata": {},
   "outputs": [
    {
     "name": "stdout",
     "output_type": "stream",
     "text": [
      "🔍 Checking Dataset Path...\n",
      "['BraTS19_2013_10_1', 'BraTS19_2013_11_1', 'BraTS19_2013_12_1', 'BraTS19_2013_13_1', 'BraTS19_2013_14_1']\n"
     ]
    }
   ],
   "source": [
    "import os\n",
    "\n",
    "DATASET_PATH = r\"C:\\Users\\Dell\\.cache\\kagglehub\\datasets\\aryashah2k\\brain-tumor-segmentation-brats-2019\\versions\\1\\MICCAI_BraTS_2019_Data_Training\\HGG\"\n",
    "\n",
    "\n",
    "print(\"🔍 Checking Dataset Path...\")\n",
    "print(os.listdir(DATASET_PATH)[:5])"
   ]
  },
  {
   "cell_type": "code",
   "execution_count": 3,
   "id": "9c96f098",
   "metadata": {},
   "outputs": [],
   "source": [
    "from torch.utils.data import Dataset\n",
    "import os, glob\n",
    "import torch\n",
    "import numpy as np\n",
    "import nibabel as nib\n",
    "import torch.nn.functional as F\n",
    "from torchvision import transforms\n",
    "\n",
    "class BraTSDataset(Dataset):\n",
    "    def __init__(self, dataset_path):\n",
    "        self.dataset_path = dataset_path\n",
    "        self.modalities = [\"flair\", \"t1\", \"t1ce\", \"t2\"]\n",
    "        self.patients = []\n",
    "\n",
    "        # Pretrained model normalization (ImageNet)\n",
    "        self.img_transform = transforms.Normalize(\n",
    "            mean=[0.485, 0.456, 0.406],\n",
    "            std=[0.229, 0.224, 0.225]\n",
    "        )\n",
    "\n",
    "        all_patients = sorted(os.listdir(dataset_path))\n",
    "        for patient in all_patients:\n",
    "            patient_path = os.path.join(dataset_path, patient)\n",
    "            try:\n",
    "                _ = [self.load_nii(patient_path, mod) for mod in self.modalities]\n",
    "                _ = self.load_nii(patient_path, \"seg\")\n",
    "                self.patients.append(patient)\n",
    "            except:\n",
    "                print(f\"⚠️ Skipping {patient} in init due to missing files\")\n",
    "\n",
    "    def __len__(self):\n",
    "        return len(self.patients)\n",
    "\n",
    "    def load_nii(self, patient_folder, modality):\n",
    "        possible_files = glob.glob(os.path.join(patient_folder, f\"*{modality}*.nii*\"))\n",
    "        if not possible_files and modality == \"t1\":\n",
    "            possible_files = glob.glob(os.path.join(patient_folder, f\"*ROI*{modality}*.nii*\"))\n",
    "        if not possible_files:\n",
    "            raise FileNotFoundError(f\"❌ No file found for modality '{modality}' in {patient_folder}\")\n",
    "        possible_files.sort(key=lambda x: x.endswith(\".gz\"), reverse=True)\n",
    "        file_path = possible_files[0]\n",
    "        return nib.load(file_path).get_fdata()\n",
    "\n",
    "    def __getitem__(self, idx):\n",
    "        patient = self.patients[idx]\n",
    "        patient_path = os.path.join(self.dataset_path, patient)\n",
    "\n",
    "        try:\n",
    "            # Only load the first 3 modalities (flair, t1, t2)\n",
    "            images = [self.load_nii(patient_path, mod) for mod in self.modalities[:3]]  # [3, 240, 240, 155]\n",
    "            images = np.stack(images, axis=0)  # [3, 240, 240, 155]\n",
    "\n",
    "            mask = self.load_nii(patient_path, \"seg\")  # [240, 240, 155]\n",
    "            slice_idx = mask.shape[-1] // 2\n",
    "\n",
    "            # Select the slice and create a 3-channel image\n",
    "            image = images[:, :, :, slice_idx]  # [3, 240, 240]\n",
    "            mask = mask[:, :, slice_idx]         # [240, 240]\n",
    "\n",
    "            # Normalize image to [0, 1]\n",
    "            image = image.astype(np.float32)\n",
    "            image = (image - image.min()) / (image.max() - image.min() + 1e-8)\n",
    "\n",
    "            # Convert to torch tensor\n",
    "            image_tensor = torch.tensor(image, dtype=torch.float32)  # [3, 240, 240]\n",
    "            mask_tensor = torch.tensor(mask, dtype=torch.long)       # [240, 240]\n",
    "\n",
    "            # Resize both to 224x224\n",
    "            image_tensor = F.interpolate(image_tensor.unsqueeze(0), size=(224, 224), mode=\"bilinear\", align_corners=False).squeeze(0)\n",
    "            mask_tensor = mask_tensor.unsqueeze(0).unsqueeze(0).float()\n",
    "            mask_tensor = F.interpolate(mask_tensor, size=(224, 224), mode=\"nearest\").squeeze(0).squeeze(0).long()\n",
    "\n",
    "            # Apply normalization for pretrained model\n",
    "            image_tensor = self.img_transform(image_tensor)\n",
    "\n",
    "            print(f\"✅ Loaded {patient}: Image {image_tensor.shape}, Mask {mask_tensor.shape}\")\n",
    "            return image_tensor, mask_tensor\n",
    "\n",
    "        except FileNotFoundError as e:\n",
    "            print(f\"⚠️ Skipping {patient} due to missing files: {e}\")\n",
    "            return None\n",
    "\n",
    "\n",
    "# ➕ Custom collate_fn to skip Nones in batches\n",
    "def skip_none_collate(batch):\n",
    "    batch = [b for b in batch if b is not None]\n",
    "    if len(batch) == 0:\n",
    "        return torch.empty(0), torch.empty(0, dtype=torch.long)\n",
    "    return torch.utils.data.dataloader.default_collate(batch)\n"
   ]
  },
  {
   "cell_type": "code",
   "execution_count": 4,
   "id": "1bfeae18",
   "metadata": {},
   "outputs": [],
   "source": [
    "from torch.utils.data import Dataset, DataLoader"
   ]
  },
  {
   "cell_type": "code",
   "execution_count": 5,
   "id": "11d29b40",
   "metadata": {},
   "outputs": [
    {
     "name": "stdout",
     "output_type": "stream",
     "text": [
      "✅ Loaded BraTS19_2013_10_1: Image torch.Size([3, 224, 224]), Mask torch.Size([224, 224])\n",
      "✅ Loaded BraTS19_2013_11_1: Image torch.Size([3, 224, 224]), Mask torch.Size([224, 224])\n",
      "✅ Loaded BraTS19_2013_12_1: Image torch.Size([3, 224, 224]), Mask torch.Size([224, 224])\n",
      "✅ Loaded BraTS19_2013_13_1: Image torch.Size([3, 224, 224]), Mask torch.Size([224, 224])\n",
      "✅ Loaded BraTS19_2013_14_1: Image torch.Size([3, 224, 224]), Mask torch.Size([224, 224])\n",
      "✅ Loaded BraTS19_2013_17_1: Image torch.Size([3, 224, 224]), Mask torch.Size([224, 224])\n",
      "✅ Loaded BraTS19_2013_18_1: Image torch.Size([3, 224, 224]), Mask torch.Size([224, 224])\n",
      "✅ Loaded BraTS19_2013_19_1: Image torch.Size([3, 224, 224]), Mask torch.Size([224, 224])\n",
      "✅ Loaded BraTS19_2013_20_1: Image torch.Size([3, 224, 224]), Mask torch.Size([224, 224])\n",
      "✅ Loaded BraTS19_2013_21_1: Image torch.Size([3, 224, 224]), Mask torch.Size([224, 224])\n",
      "✅ Loaded BraTS19_2013_22_1: Image torch.Size([3, 224, 224]), Mask torch.Size([224, 224])\n",
      "✅ Loaded BraTS19_2013_23_1: Image torch.Size([3, 224, 224]), Mask torch.Size([224, 224])\n",
      "✅ Loaded BraTS19_2013_25_1: Image torch.Size([3, 224, 224]), Mask torch.Size([224, 224])\n",
      "✅ Loaded BraTS19_2013_26_1: Image torch.Size([3, 224, 224]), Mask torch.Size([224, 224])\n",
      "✅ Loaded BraTS19_2013_27_1: Image torch.Size([3, 224, 224]), Mask torch.Size([224, 224])\n",
      "✅ Loaded BraTS19_2013_2_1: Image torch.Size([3, 224, 224]), Mask torch.Size([224, 224])\n",
      "✅ Loaded BraTS19_2013_3_1: Image torch.Size([3, 224, 224]), Mask torch.Size([224, 224])\n",
      "✅ Loaded BraTS19_2013_4_1: Image torch.Size([3, 224, 224]), Mask torch.Size([224, 224])\n",
      "✅ Loaded BraTS19_2013_5_1: Image torch.Size([3, 224, 224]), Mask torch.Size([224, 224])\n",
      "✅ Loaded BraTS19_2013_7_1: Image torch.Size([3, 224, 224]), Mask torch.Size([224, 224])\n",
      "✅ Loaded BraTS19_CBICA_AAB_1: Image torch.Size([3, 224, 224]), Mask torch.Size([224, 224])\n",
      "✅ Loaded BraTS19_CBICA_AAG_1: Image torch.Size([3, 224, 224]), Mask torch.Size([224, 224])\n",
      "✅ Loaded BraTS19_CBICA_AAL_1: Image torch.Size([3, 224, 224]), Mask torch.Size([224, 224])\n",
      "✅ Loaded BraTS19_CBICA_AAP_1: Image torch.Size([3, 224, 224]), Mask torch.Size([224, 224])\n",
      "✅ Loaded BraTS19_CBICA_ABB_1: Image torch.Size([3, 224, 224]), Mask torch.Size([224, 224])\n",
      "✅ Loaded BraTS19_CBICA_ABE_1: Image torch.Size([3, 224, 224]), Mask torch.Size([224, 224])\n",
      "✅ Loaded BraTS19_CBICA_ABM_1: Image torch.Size([3, 224, 224]), Mask torch.Size([224, 224])\n",
      "✅ Loaded BraTS19_CBICA_ABN_1: Image torch.Size([3, 224, 224]), Mask torch.Size([224, 224])\n",
      "✅ Loaded BraTS19_CBICA_ABO_1: Image torch.Size([3, 224, 224]), Mask torch.Size([224, 224])\n",
      "✅ Loaded BraTS19_CBICA_ABY_1: Image torch.Size([3, 224, 224]), Mask torch.Size([224, 224])\n",
      "✅ Loaded BraTS19_CBICA_ALN_1: Image torch.Size([3, 224, 224]), Mask torch.Size([224, 224])\n",
      "✅ Loaded BraTS19_CBICA_ALU_1: Image torch.Size([3, 224, 224]), Mask torch.Size([224, 224])\n",
      "✅ Loaded BraTS19_CBICA_ALX_1: Image torch.Size([3, 224, 224]), Mask torch.Size([224, 224])\n",
      "✅ Loaded BraTS19_CBICA_AME_1: Image torch.Size([3, 224, 224]), Mask torch.Size([224, 224])\n",
      "✅ Loaded BraTS19_CBICA_AMH_1: Image torch.Size([3, 224, 224]), Mask torch.Size([224, 224])\n",
      "✅ Loaded BraTS19_CBICA_ANG_1: Image torch.Size([3, 224, 224]), Mask torch.Size([224, 224])\n",
      "✅ Loaded BraTS19_CBICA_ANI_1: Image torch.Size([3, 224, 224]), Mask torch.Size([224, 224])\n",
      "✅ Loaded BraTS19_CBICA_ANP_1: Image torch.Size([3, 224, 224]), Mask torch.Size([224, 224])\n",
      "✅ Loaded BraTS19_CBICA_ANV_1: Image torch.Size([3, 224, 224]), Mask torch.Size([224, 224])\n",
      "✅ Loaded BraTS19_CBICA_ANZ_1: Image torch.Size([3, 224, 224]), Mask torch.Size([224, 224])\n",
      "✅ Loaded BraTS19_CBICA_AOC_1: Image torch.Size([3, 224, 224]), Mask torch.Size([224, 224])\n",
      "✅ Loaded BraTS19_CBICA_AOD_1: Image torch.Size([3, 224, 224]), Mask torch.Size([224, 224])\n",
      "✅ Loaded BraTS19_CBICA_AOH_1: Image torch.Size([3, 224, 224]), Mask torch.Size([224, 224])\n",
      "✅ Loaded BraTS19_CBICA_AOO_1: Image torch.Size([3, 224, 224]), Mask torch.Size([224, 224])\n",
      "✅ Loaded BraTS19_CBICA_AOP_1: Image torch.Size([3, 224, 224]), Mask torch.Size([224, 224])\n",
      "✅ Loaded BraTS19_CBICA_AOS_1: Image torch.Size([3, 224, 224]), Mask torch.Size([224, 224])\n",
      "✅ Loaded BraTS19_CBICA_AOZ_1: Image torch.Size([3, 224, 224]), Mask torch.Size([224, 224])\n",
      "✅ Loaded BraTS19_CBICA_APK_1: Image torch.Size([3, 224, 224]), Mask torch.Size([224, 224])\n",
      "✅ Loaded BraTS19_CBICA_APR_1: Image torch.Size([3, 224, 224]), Mask torch.Size([224, 224])\n",
      "✅ Loaded BraTS19_CBICA_APY_1: Image torch.Size([3, 224, 224]), Mask torch.Size([224, 224])\n",
      "✅ Loaded BraTS19_CBICA_APZ_1: Image torch.Size([3, 224, 224]), Mask torch.Size([224, 224])\n",
      "✅ Loaded BraTS19_CBICA_AQA_1: Image torch.Size([3, 224, 224]), Mask torch.Size([224, 224])\n",
      "✅ Loaded BraTS19_CBICA_AQD_1: Image torch.Size([3, 224, 224]), Mask torch.Size([224, 224])\n",
      "✅ Loaded BraTS19_CBICA_AQG_1: Image torch.Size([3, 224, 224]), Mask torch.Size([224, 224])\n",
      "✅ Loaded BraTS19_CBICA_AQJ_1: Image torch.Size([3, 224, 224]), Mask torch.Size([224, 224])\n",
      "✅ Loaded BraTS19_CBICA_AQN_1: Image torch.Size([3, 224, 224]), Mask torch.Size([224, 224])\n",
      "✅ Loaded BraTS19_CBICA_AQO_1: Image torch.Size([3, 224, 224]), Mask torch.Size([224, 224])\n",
      "✅ Loaded BraTS19_CBICA_AQP_1: Image torch.Size([3, 224, 224]), Mask torch.Size([224, 224])\n",
      "✅ Loaded BraTS19_CBICA_AQQ_1: Image torch.Size([3, 224, 224]), Mask torch.Size([224, 224])\n",
      "✅ Loaded BraTS19_CBICA_AQR_1: Image torch.Size([3, 224, 224]), Mask torch.Size([224, 224])\n",
      "✅ Loaded BraTS19_CBICA_AQT_1: Image torch.Size([3, 224, 224]), Mask torch.Size([224, 224])\n",
      "✅ Loaded BraTS19_CBICA_AQU_1: Image torch.Size([3, 224, 224]), Mask torch.Size([224, 224])\n",
      "✅ Loaded BraTS19_CBICA_AQV_1: Image torch.Size([3, 224, 224]), Mask torch.Size([224, 224])\n",
      "✅ Loaded BraTS19_CBICA_AQY_1: Image torch.Size([3, 224, 224]), Mask torch.Size([224, 224])\n",
      "✅ Loaded BraTS19_CBICA_AQZ_1: Image torch.Size([3, 224, 224]), Mask torch.Size([224, 224])\n",
      "✅ Loaded BraTS19_CBICA_ARF_1: Image torch.Size([3, 224, 224]), Mask torch.Size([224, 224])\n",
      "✅ Loaded BraTS19_CBICA_ARW_1: Image torch.Size([3, 224, 224]), Mask torch.Size([224, 224])\n",
      "✅ Loaded BraTS19_CBICA_ARZ_1: Image torch.Size([3, 224, 224]), Mask torch.Size([224, 224])\n",
      "✅ Loaded BraTS19_CBICA_ASA_1: Image torch.Size([3, 224, 224]), Mask torch.Size([224, 224])\n",
      "✅ Loaded BraTS19_CBICA_ASE_1: Image torch.Size([3, 224, 224]), Mask torch.Size([224, 224])\n",
      "✅ Loaded BraTS19_CBICA_ASF_1: Image torch.Size([3, 224, 224]), Mask torch.Size([224, 224])\n",
      "✅ Loaded BraTS19_CBICA_ASG_1: Image torch.Size([3, 224, 224]), Mask torch.Size([224, 224])\n",
      "✅ Loaded BraTS19_CBICA_ASH_1: Image torch.Size([3, 224, 224]), Mask torch.Size([224, 224])\n",
      "✅ Loaded BraTS19_CBICA_ASK_1: Image torch.Size([3, 224, 224]), Mask torch.Size([224, 224])\n",
      "✅ Loaded BraTS19_CBICA_ASN_1: Image torch.Size([3, 224, 224]), Mask torch.Size([224, 224])\n",
      "✅ Loaded BraTS19_CBICA_ASO_1: Image torch.Size([3, 224, 224]), Mask torch.Size([224, 224])\n",
      "✅ Loaded BraTS19_CBICA_ASR_1: Image torch.Size([3, 224, 224]), Mask torch.Size([224, 224])\n",
      "✅ Loaded BraTS19_CBICA_ASU_1: Image torch.Size([3, 224, 224]), Mask torch.Size([224, 224])\n",
      "✅ Loaded BraTS19_CBICA_ASV_1: Image torch.Size([3, 224, 224]), Mask torch.Size([224, 224])\n",
      "✅ Loaded BraTS19_CBICA_ASW_1: Image torch.Size([3, 224, 224]), Mask torch.Size([224, 224])\n",
      "✅ Loaded BraTS19_CBICA_ASY_1: Image torch.Size([3, 224, 224]), Mask torch.Size([224, 224])\n",
      "✅ Loaded BraTS19_CBICA_ATB_1: Image torch.Size([3, 224, 224]), Mask torch.Size([224, 224])\n",
      "✅ Loaded BraTS19_CBICA_ATD_1: Image torch.Size([3, 224, 224]), Mask torch.Size([224, 224])\n",
      "✅ Loaded BraTS19_CBICA_ATF_1: Image torch.Size([3, 224, 224]), Mask torch.Size([224, 224])\n",
      "✅ Loaded BraTS19_CBICA_ATN_1: Image torch.Size([3, 224, 224]), Mask torch.Size([224, 224])\n",
      "✅ Loaded BraTS19_CBICA_ATP_1: Image torch.Size([3, 224, 224]), Mask torch.Size([224, 224])\n",
      "✅ Loaded BraTS19_CBICA_ATV_1: Image torch.Size([3, 224, 224]), Mask torch.Size([224, 224])\n",
      "✅ Loaded BraTS19_CBICA_ATX_1: Image torch.Size([3, 224, 224]), Mask torch.Size([224, 224])\n",
      "✅ Loaded BraTS19_CBICA_AUA_1: Image torch.Size([3, 224, 224]), Mask torch.Size([224, 224])\n",
      "✅ Loaded BraTS19_CBICA_AUN_1: Image torch.Size([3, 224, 224]), Mask torch.Size([224, 224])\n",
      "✅ Loaded BraTS19_CBICA_AUQ_1: Image torch.Size([3, 224, 224]), Mask torch.Size([224, 224])\n",
      "✅ Loaded BraTS19_CBICA_AUR_1: Image torch.Size([3, 224, 224]), Mask torch.Size([224, 224])\n",
      "✅ Loaded BraTS19_CBICA_AUW_1: Image torch.Size([3, 224, 224]), Mask torch.Size([224, 224])\n",
      "✅ Loaded BraTS19_CBICA_AUX_1: Image torch.Size([3, 224, 224]), Mask torch.Size([224, 224])\n",
      "✅ Loaded BraTS19_CBICA_AVB_1: Image torch.Size([3, 224, 224]), Mask torch.Size([224, 224])\n",
      "✅ Loaded BraTS19_CBICA_AVF_1: Image torch.Size([3, 224, 224]), Mask torch.Size([224, 224])\n",
      "✅ Loaded BraTS19_CBICA_AVG_1: Image torch.Size([3, 224, 224]), Mask torch.Size([224, 224])\n",
      "✅ Loaded BraTS19_CBICA_AVJ_1: Image torch.Size([3, 224, 224]), Mask torch.Size([224, 224])\n",
      "✅ Loaded BraTS19_CBICA_AVT_1: Image torch.Size([3, 224, 224]), Mask torch.Size([224, 224])\n",
      "✅ Loaded BraTS19_CBICA_AVV_1: Image torch.Size([3, 224, 224]), Mask torch.Size([224, 224])\n",
      "✅ Loaded BraTS19_CBICA_AWG_1: Image torch.Size([3, 224, 224]), Mask torch.Size([224, 224])\n",
      "✅ Loaded BraTS19_CBICA_AWH_1: Image torch.Size([3, 224, 224]), Mask torch.Size([224, 224])\n",
      "✅ Loaded BraTS19_CBICA_AWI_1: Image torch.Size([3, 224, 224]), Mask torch.Size([224, 224])\n",
      "✅ Loaded BraTS19_CBICA_AWV_1: Image torch.Size([3, 224, 224]), Mask torch.Size([224, 224])\n",
      "✅ Loaded BraTS19_CBICA_AWX_1: Image torch.Size([3, 224, 224]), Mask torch.Size([224, 224])\n",
      "✅ Loaded BraTS19_CBICA_AXJ_1: Image torch.Size([3, 224, 224]), Mask torch.Size([224, 224])\n",
      "✅ Loaded BraTS19_CBICA_AXL_1: Image torch.Size([3, 224, 224]), Mask torch.Size([224, 224])\n",
      "✅ Loaded BraTS19_CBICA_AXM_1: Image torch.Size([3, 224, 224]), Mask torch.Size([224, 224])\n",
      "✅ Loaded BraTS19_CBICA_AXN_1: Image torch.Size([3, 224, 224]), Mask torch.Size([224, 224])\n",
      "✅ Loaded BraTS19_CBICA_AXO_1: Image torch.Size([3, 224, 224]), Mask torch.Size([224, 224])\n",
      "✅ Loaded BraTS19_CBICA_AXQ_1: Image torch.Size([3, 224, 224]), Mask torch.Size([224, 224])\n",
      "✅ Loaded BraTS19_CBICA_AXW_1: Image torch.Size([3, 224, 224]), Mask torch.Size([224, 224])\n",
      "✅ Loaded BraTS19_CBICA_AYA_1: Image torch.Size([3, 224, 224]), Mask torch.Size([224, 224])\n",
      "✅ Loaded BraTS19_CBICA_AYC_1: Image torch.Size([3, 224, 224]), Mask torch.Size([224, 224])\n",
      "✅ Loaded BraTS19_CBICA_AYG_1: Image torch.Size([3, 224, 224]), Mask torch.Size([224, 224])\n",
      "✅ Loaded BraTS19_CBICA_AYI_1: Image torch.Size([3, 224, 224]), Mask torch.Size([224, 224])\n",
      "✅ Loaded BraTS19_CBICA_AYU_1: Image torch.Size([3, 224, 224]), Mask torch.Size([224, 224])\n",
      "✅ Loaded BraTS19_CBICA_AYW_1: Image torch.Size([3, 224, 224]), Mask torch.Size([224, 224])\n",
      "✅ Loaded BraTS19_CBICA_AZD_1: Image torch.Size([3, 224, 224]), Mask torch.Size([224, 224])\n",
      "✅ Loaded BraTS19_CBICA_AZH_1: Image torch.Size([3, 224, 224]), Mask torch.Size([224, 224])\n",
      "✅ Loaded BraTS19_CBICA_BAN_1: Image torch.Size([3, 224, 224]), Mask torch.Size([224, 224])\n",
      "✅ Loaded BraTS19_CBICA_BAP_1: Image torch.Size([3, 224, 224]), Mask torch.Size([224, 224])\n",
      "✅ Loaded BraTS19_CBICA_BAX_1: Image torch.Size([3, 224, 224]), Mask torch.Size([224, 224])\n",
      "✅ Loaded BraTS19_CBICA_BBG_1: Image torch.Size([3, 224, 224]), Mask torch.Size([224, 224])\n",
      "✅ Loaded BraTS19_CBICA_BCF_1: Image torch.Size([3, 224, 224]), Mask torch.Size([224, 224])\n",
      "✅ Loaded BraTS19_CBICA_BCL_1: Image torch.Size([3, 224, 224]), Mask torch.Size([224, 224])\n",
      "✅ Loaded BraTS19_CBICA_BDK_1: Image torch.Size([3, 224, 224]), Mask torch.Size([224, 224])\n",
      "✅ Loaded BraTS19_CBICA_BEM_1: Image torch.Size([3, 224, 224]), Mask torch.Size([224, 224])\n",
      "✅ Loaded BraTS19_CBICA_BFB_1: Image torch.Size([3, 224, 224]), Mask torch.Size([224, 224])\n",
      "✅ Loaded BraTS19_CBICA_BFP_1: Image torch.Size([3, 224, 224]), Mask torch.Size([224, 224])\n",
      "✅ Loaded BraTS19_CBICA_BGE_1: Image torch.Size([3, 224, 224]), Mask torch.Size([224, 224])\n",
      "✅ Loaded BraTS19_CBICA_BGG_1: Image torch.Size([3, 224, 224]), Mask torch.Size([224, 224])\n",
      "✅ Loaded BraTS19_CBICA_BGN_1: Image torch.Size([3, 224, 224]), Mask torch.Size([224, 224])\n",
      "✅ Loaded BraTS19_CBICA_BGO_1: Image torch.Size([3, 224, 224]), Mask torch.Size([224, 224])\n",
      "✅ Loaded BraTS19_CBICA_BGR_1: Image torch.Size([3, 224, 224]), Mask torch.Size([224, 224])\n",
      "✅ Loaded BraTS19_CBICA_BGT_1: Image torch.Size([3, 224, 224]), Mask torch.Size([224, 224])\n",
      "✅ Loaded BraTS19_CBICA_BGW_1: Image torch.Size([3, 224, 224]), Mask torch.Size([224, 224])\n",
      "✅ Loaded BraTS19_CBICA_BGX_1: Image torch.Size([3, 224, 224]), Mask torch.Size([224, 224])\n",
      "✅ Loaded BraTS19_CBICA_BHB_1: Image torch.Size([3, 224, 224]), Mask torch.Size([224, 224])\n",
      "✅ Loaded BraTS19_CBICA_BHK_1: Image torch.Size([3, 224, 224]), Mask torch.Size([224, 224])\n",
      "✅ Loaded BraTS19_CBICA_BHM_1: Image torch.Size([3, 224, 224]), Mask torch.Size([224, 224])\n",
      "✅ Loaded BraTS19_CBICA_BHQ_1: Image torch.Size([3, 224, 224]), Mask torch.Size([224, 224])\n",
      "✅ Loaded BraTS19_CBICA_BHV_1: Image torch.Size([3, 224, 224]), Mask torch.Size([224, 224])\n",
      "✅ Loaded BraTS19_CBICA_BHZ_1: Image torch.Size([3, 224, 224]), Mask torch.Size([224, 224])\n",
      "✅ Loaded BraTS19_CBICA_BIC_1: Image torch.Size([3, 224, 224]), Mask torch.Size([224, 224])\n",
      "✅ Loaded BraTS19_CBICA_BJY_1: Image torch.Size([3, 224, 224]), Mask torch.Size([224, 224])\n",
      "✅ Loaded BraTS19_CBICA_BKV_1: Image torch.Size([3, 224, 224]), Mask torch.Size([224, 224])\n",
      "✅ Loaded BraTS19_CBICA_BLJ_1: Image torch.Size([3, 224, 224]), Mask torch.Size([224, 224])\n",
      "✅ Loaded BraTS19_CBICA_BNR_1: Image torch.Size([3, 224, 224]), Mask torch.Size([224, 224])\n",
      "✅ Loaded BraTS19_TCIA01_131_1: Image torch.Size([3, 224, 224]), Mask torch.Size([224, 224])\n",
      "✅ Loaded BraTS19_TCIA01_147_1: Image torch.Size([3, 224, 224]), Mask torch.Size([224, 224])\n",
      "✅ Loaded BraTS19_TCIA01_150_1: Image torch.Size([3, 224, 224]), Mask torch.Size([224, 224])\n",
      "✅ Loaded BraTS19_TCIA01_180_1: Image torch.Size([3, 224, 224]), Mask torch.Size([224, 224])\n",
      "✅ Loaded BraTS19_TCIA01_186_1: Image torch.Size([3, 224, 224]), Mask torch.Size([224, 224])\n",
      "✅ Loaded BraTS19_TCIA01_190_1: Image torch.Size([3, 224, 224]), Mask torch.Size([224, 224])\n",
      "✅ Loaded BraTS19_TCIA01_201_1: Image torch.Size([3, 224, 224]), Mask torch.Size([224, 224])\n",
      "✅ Loaded BraTS19_TCIA01_203_1: Image torch.Size([3, 224, 224]), Mask torch.Size([224, 224])\n",
      "✅ Loaded BraTS19_TCIA01_221_1: Image torch.Size([3, 224, 224]), Mask torch.Size([224, 224])\n",
      "✅ Loaded BraTS19_TCIA01_231_1: Image torch.Size([3, 224, 224]), Mask torch.Size([224, 224])\n",
      "✅ Loaded BraTS19_TCIA01_235_1: Image torch.Size([3, 224, 224]), Mask torch.Size([224, 224])\n",
      "✅ Loaded BraTS19_TCIA01_335_1: Image torch.Size([3, 224, 224]), Mask torch.Size([224, 224])\n",
      "✅ Loaded BraTS19_TCIA01_378_1: Image torch.Size([3, 224, 224]), Mask torch.Size([224, 224])\n",
      "✅ Loaded BraTS19_TCIA01_390_1: Image torch.Size([3, 224, 224]), Mask torch.Size([224, 224])\n",
      "✅ Loaded BraTS19_TCIA01_401_1: Image torch.Size([3, 224, 224]), Mask torch.Size([224, 224])\n",
      "✅ Loaded BraTS19_TCIA01_411_1: Image torch.Size([3, 224, 224]), Mask torch.Size([224, 224])\n",
      "✅ Loaded BraTS19_TCIA01_412_1: Image torch.Size([3, 224, 224]), Mask torch.Size([224, 224])\n",
      "✅ Loaded BraTS19_TCIA01_425_1: Image torch.Size([3, 224, 224]), Mask torch.Size([224, 224])\n",
      "✅ Loaded BraTS19_TCIA01_429_1: Image torch.Size([3, 224, 224]), Mask torch.Size([224, 224])\n",
      "✅ Loaded BraTS19_TCIA01_448_1: Image torch.Size([3, 224, 224]), Mask torch.Size([224, 224])\n",
      "✅ Loaded BraTS19_TCIA01_460_1: Image torch.Size([3, 224, 224]), Mask torch.Size([224, 224])\n",
      "✅ Loaded BraTS19_TCIA01_499_1: Image torch.Size([3, 224, 224]), Mask torch.Size([224, 224])\n",
      "✅ Loaded BraTS19_TCIA02_117_1: Image torch.Size([3, 224, 224]), Mask torch.Size([224, 224])\n",
      "✅ Loaded BraTS19_TCIA02_118_1: Image torch.Size([3, 224, 224]), Mask torch.Size([224, 224])\n",
      "✅ Loaded BraTS19_TCIA02_135_1: Image torch.Size([3, 224, 224]), Mask torch.Size([224, 224])\n",
      "✅ Loaded BraTS19_TCIA02_151_1: Image torch.Size([3, 224, 224]), Mask torch.Size([224, 224])\n",
      "✅ Loaded BraTS19_TCIA02_168_1: Image torch.Size([3, 224, 224]), Mask torch.Size([224, 224])\n",
      "✅ Loaded BraTS19_TCIA02_171_1: Image torch.Size([3, 224, 224]), Mask torch.Size([224, 224])\n",
      "✅ Loaded BraTS19_TCIA02_179_1: Image torch.Size([3, 224, 224]), Mask torch.Size([224, 224])\n",
      "✅ Loaded BraTS19_TCIA02_198_1: Image torch.Size([3, 224, 224]), Mask torch.Size([224, 224])\n",
      "✅ Loaded BraTS19_TCIA02_208_1: Image torch.Size([3, 224, 224]), Mask torch.Size([224, 224])\n",
      "✅ Loaded BraTS19_TCIA02_222_1: Image torch.Size([3, 224, 224]), Mask torch.Size([224, 224])\n",
      "✅ Loaded BraTS19_TCIA02_226_1: Image torch.Size([3, 224, 224]), Mask torch.Size([224, 224])\n",
      "✅ Loaded BraTS19_TCIA02_274_1: Image torch.Size([3, 224, 224]), Mask torch.Size([224, 224])\n",
      "✅ Loaded BraTS19_TCIA02_283_1: Image torch.Size([3, 224, 224]), Mask torch.Size([224, 224])\n",
      "✅ Loaded BraTS19_TCIA02_290_1: Image torch.Size([3, 224, 224]), Mask torch.Size([224, 224])\n",
      "✅ Loaded BraTS19_TCIA02_300_1: Image torch.Size([3, 224, 224]), Mask torch.Size([224, 224])\n",
      "✅ Loaded BraTS19_TCIA02_309_1: Image torch.Size([3, 224, 224]), Mask torch.Size([224, 224])\n",
      "✅ Loaded BraTS19_TCIA02_314_1: Image torch.Size([3, 224, 224]), Mask torch.Size([224, 224])\n",
      "✅ Loaded BraTS19_TCIA02_321_1: Image torch.Size([3, 224, 224]), Mask torch.Size([224, 224])\n",
      "✅ Loaded BraTS19_TCIA02_322_1: Image torch.Size([3, 224, 224]), Mask torch.Size([224, 224])\n",
      "✅ Loaded BraTS19_TCIA02_331_1: Image torch.Size([3, 224, 224]), Mask torch.Size([224, 224])\n",
      "✅ Loaded BraTS19_TCIA02_368_1: Image torch.Size([3, 224, 224]), Mask torch.Size([224, 224])\n",
      "✅ Loaded BraTS19_TCIA02_370_1: Image torch.Size([3, 224, 224]), Mask torch.Size([224, 224])\n",
      "✅ Loaded BraTS19_TCIA02_374_1: Image torch.Size([3, 224, 224]), Mask torch.Size([224, 224])\n",
      "✅ Loaded BraTS19_TCIA02_377_1: Image torch.Size([3, 224, 224]), Mask torch.Size([224, 224])\n",
      "✅ Loaded BraTS19_TCIA02_394_1: Image torch.Size([3, 224, 224]), Mask torch.Size([224, 224])\n",
      "✅ Loaded BraTS19_TCIA02_430_1: Image torch.Size([3, 224, 224]), Mask torch.Size([224, 224])\n",
      "✅ Loaded BraTS19_TCIA02_455_1: Image torch.Size([3, 224, 224]), Mask torch.Size([224, 224])\n",
      "✅ Loaded BraTS19_TCIA02_471_1: Image torch.Size([3, 224, 224]), Mask torch.Size([224, 224])\n",
      "✅ Loaded BraTS19_TCIA02_473_1: Image torch.Size([3, 224, 224]), Mask torch.Size([224, 224])\n",
      "✅ Loaded BraTS19_TCIA02_491_1: Image torch.Size([3, 224, 224]), Mask torch.Size([224, 224])\n",
      "✅ Loaded BraTS19_TCIA02_605_1: Image torch.Size([3, 224, 224]), Mask torch.Size([224, 224])\n",
      "✅ Loaded BraTS19_TCIA02_606_1: Image torch.Size([3, 224, 224]), Mask torch.Size([224, 224])\n",
      "✅ Loaded BraTS19_TCIA02_607_1: Image torch.Size([3, 224, 224]), Mask torch.Size([224, 224])\n",
      "✅ Loaded BraTS19_TCIA02_608_1: Image torch.Size([3, 224, 224]), Mask torch.Size([224, 224])\n",
      "✅ Loaded BraTS19_TCIA03_121_1: Image torch.Size([3, 224, 224]), Mask torch.Size([224, 224])\n",
      "✅ Loaded BraTS19_TCIA03_133_1: Image torch.Size([3, 224, 224]), Mask torch.Size([224, 224])\n",
      "✅ Loaded BraTS19_TCIA03_138_1: Image torch.Size([3, 224, 224]), Mask torch.Size([224, 224])\n",
      "✅ Loaded BraTS19_TCIA03_199_1: Image torch.Size([3, 224, 224]), Mask torch.Size([224, 224])\n",
      "✅ Loaded BraTS19_TCIA03_257_1: Image torch.Size([3, 224, 224]), Mask torch.Size([224, 224])\n",
      "✅ Loaded BraTS19_TCIA03_265_1: Image torch.Size([3, 224, 224]), Mask torch.Size([224, 224])\n",
      "✅ Loaded BraTS19_TCIA03_296_1: Image torch.Size([3, 224, 224]), Mask torch.Size([224, 224])\n",
      "✅ Loaded BraTS19_TCIA03_338_1: Image torch.Size([3, 224, 224]), Mask torch.Size([224, 224])\n",
      "✅ Loaded BraTS19_TCIA03_375_1: Image torch.Size([3, 224, 224]), Mask torch.Size([224, 224])\n",
      "✅ Loaded BraTS19_TCIA03_419_1: Image torch.Size([3, 224, 224]), Mask torch.Size([224, 224])\n",
      "✅ Loaded BraTS19_TCIA03_474_1: Image torch.Size([3, 224, 224]), Mask torch.Size([224, 224])\n",
      "✅ Loaded BraTS19_TCIA03_498_1: Image torch.Size([3, 224, 224]), Mask torch.Size([224, 224])\n",
      "✅ Loaded BraTS19_TCIA04_111_1: Image torch.Size([3, 224, 224]), Mask torch.Size([224, 224])\n",
      "✅ Loaded BraTS19_TCIA04_149_1: Image torch.Size([3, 224, 224]), Mask torch.Size([224, 224])\n",
      "✅ Loaded BraTS19_TCIA04_192_1: Image torch.Size([3, 224, 224]), Mask torch.Size([224, 224])\n",
      "✅ Loaded BraTS19_TCIA04_328_1: Image torch.Size([3, 224, 224]), Mask torch.Size([224, 224])\n",
      "✅ Loaded BraTS19_TCIA04_343_1: Image torch.Size([3, 224, 224]), Mask torch.Size([224, 224])\n",
      "✅ Loaded BraTS19_TCIA04_361_1: Image torch.Size([3, 224, 224]), Mask torch.Size([224, 224])\n",
      "✅ Loaded BraTS19_TCIA04_437_1: Image torch.Size([3, 224, 224]), Mask torch.Size([224, 224])\n",
      "✅ Loaded BraTS19_TCIA04_479_1: Image torch.Size([3, 224, 224]), Mask torch.Size([224, 224])\n",
      "✅ Loaded BraTS19_TCIA05_277_1: Image torch.Size([3, 224, 224]), Mask torch.Size([224, 224])\n",
      "✅ Loaded BraTS19_TCIA05_396_1: Image torch.Size([3, 224, 224]), Mask torch.Size([224, 224])\n",
      "✅ Loaded BraTS19_TCIA05_444_1: Image torch.Size([3, 224, 224]), Mask torch.Size([224, 224])\n",
      "✅ Loaded BraTS19_TCIA05_478_1: Image torch.Size([3, 224, 224]), Mask torch.Size([224, 224])\n",
      "✅ Loaded BraTS19_TCIA06_165_1: Image torch.Size([3, 224, 224]), Mask torch.Size([224, 224])\n",
      "✅ Loaded BraTS19_TCIA06_184_1: Image torch.Size([3, 224, 224]), Mask torch.Size([224, 224])\n",
      "✅ Loaded BraTS19_TCIA06_211_1: Image torch.Size([3, 224, 224]), Mask torch.Size([224, 224])\n",
      "✅ Loaded BraTS19_TCIA06_247_1: Image torch.Size([3, 224, 224]), Mask torch.Size([224, 224])\n",
      "✅ Loaded BraTS19_TCIA06_332_1: Image torch.Size([3, 224, 224]), Mask torch.Size([224, 224])\n",
      "✅ Loaded BraTS19_TCIA06_372_1: Image torch.Size([3, 224, 224]), Mask torch.Size([224, 224])\n",
      "✅ Loaded BraTS19_TCIA06_409_1: Image torch.Size([3, 224, 224]), Mask torch.Size([224, 224])\n",
      "✅ Loaded BraTS19_TCIA06_603_1: Image torch.Size([3, 224, 224]), Mask torch.Size([224, 224])\n",
      "✅ Loaded BraTS19_TCIA08_105_1: Image torch.Size([3, 224, 224]), Mask torch.Size([224, 224])\n",
      "✅ Loaded BraTS19_TCIA08_113_1: Image torch.Size([3, 224, 224]), Mask torch.Size([224, 224])\n",
      "✅ Loaded BraTS19_TCIA08_162_1: Image torch.Size([3, 224, 224]), Mask torch.Size([224, 224])\n",
      "✅ Loaded BraTS19_TCIA08_167_1: Image torch.Size([3, 224, 224]), Mask torch.Size([224, 224])\n",
      "✅ Loaded BraTS19_TCIA08_205_1: Image torch.Size([3, 224, 224]), Mask torch.Size([224, 224])\n",
      "✅ Loaded BraTS19_TCIA08_218_1: Image torch.Size([3, 224, 224]), Mask torch.Size([224, 224])\n",
      "✅ Loaded BraTS19_TCIA08_234_1: Image torch.Size([3, 224, 224]), Mask torch.Size([224, 224])\n",
      "✅ Loaded BraTS19_TCIA08_242_1: Image torch.Size([3, 224, 224]), Mask torch.Size([224, 224])\n",
      "✅ Loaded BraTS19_TCIA08_278_1: Image torch.Size([3, 224, 224]), Mask torch.Size([224, 224])\n",
      "✅ Loaded BraTS19_TCIA08_280_1: Image torch.Size([3, 224, 224]), Mask torch.Size([224, 224])\n",
      "✅ Loaded BraTS19_TCIA08_319_1: Image torch.Size([3, 224, 224]), Mask torch.Size([224, 224])\n",
      "✅ Loaded BraTS19_TCIA08_406_1: Image torch.Size([3, 224, 224]), Mask torch.Size([224, 224])\n",
      "✅ Loaded BraTS19_TCIA08_436_1: Image torch.Size([3, 224, 224]), Mask torch.Size([224, 224])\n",
      "✅ Loaded BraTS19_TCIA08_469_1: Image torch.Size([3, 224, 224]), Mask torch.Size([224, 224])\n",
      "✅ Loaded BraTS19_TMC_06290_1: Image torch.Size([3, 224, 224]), Mask torch.Size([224, 224])\n",
      "✅ Loaded BraTS19_TMC_06643_1: Image torch.Size([3, 224, 224]), Mask torch.Size([224, 224])\n",
      "✅ Loaded BraTS19_TMC_11964_1: Image torch.Size([3, 224, 224]), Mask torch.Size([224, 224])\n",
      "✅ Loaded BraTS19_TMC_12866_1: Image torch.Size([3, 224, 224]), Mask torch.Size([224, 224])\n",
      "✅ Loaded BraTS19_TMC_15477_1: Image torch.Size([3, 224, 224]), Mask torch.Size([224, 224])\n",
      "✅ Loaded BraTS19_TMC_21360_1: Image torch.Size([3, 224, 224]), Mask torch.Size([224, 224])\n",
      "✅ Loaded BraTS19_TMC_27374_1: Image torch.Size([3, 224, 224]), Mask torch.Size([224, 224])\n",
      "✅ Loaded BraTS19_TMC_30014_1: Image torch.Size([3, 224, 224]), Mask torch.Size([224, 224])\n",
      "✅ Loaded 259 valid patients from BraTS 2019(HGG).\n"
     ]
    }
   ],
   "source": [
    "import glob\n",
    "import torch.nn.functional as F\n",
    "\n",
    "# Load Dataset\n",
    "train_dataset = BraTSDataset(DATASET_PATH)\n",
    "\n",
    "valid_samples = [d for d in train_dataset if d is not None]\n",
    "\n",
    "if len(valid_samples) == 0:\n",
    "    raise ValueError(\"❌ No valid samples found. Check dataset paths and file integrity.\")\n",
    "\n",
    "\n",
    "#train_loader = DataLoader(valid_samples, batch_size=2, shuffle=True, num_workers=0)\n",
    "train_loader = DataLoader(valid_samples, batch_size=4, shuffle=True, collate_fn=skip_none_collate, num_workers=0)\n",
    "print(f\"✅ Loaded {len(train_loader.dataset)} valid patients from BraTS 2019(HGG).\")"
   ]
  },
  {
   "cell_type": "code",
   "execution_count": 6,
   "id": "4fd87651",
   "metadata": {},
   "outputs": [],
   "source": [
    "device = torch.device('cpu')\n",
    "import torch.nn as nn"
   ]
  },
  {
   "cell_type": "code",
   "execution_count": 7,
   "id": "ff760c03",
   "metadata": {},
   "outputs": [
    {
     "name": "stderr",
     "output_type": "stream",
     "text": [
      "c:\\Users\\Dell\\Desktop\\Group_4_sem_6_AIML\\.venv\\lib\\site-packages\\tqdm\\auto.py:21: TqdmWarning: IProgress not found. Please update jupyter and ipywidgets. See https://ipywidgets.readthedocs.io/en/stable/user_install.html\n",
      "  from .autonotebook import tqdm as notebook_tqdm\n"
     ]
    }
   ],
   "source": [
    "def convert_bn_to_gn(model, default_num_groups=32):\n",
    "    for name, module in model.named_children():\n",
    "        if isinstance(module, nn.BatchNorm2d):\n",
    "            num_channels = module.num_features\n",
    "            # Find the largest divisor of num_channels not exceeding default_num_groups\n",
    "            num_groups = min(default_num_groups, num_channels)\n",
    "            while num_channels % num_groups != 0:\n",
    "                num_groups -= 1\n",
    "            gn = nn.GroupNorm(num_groups=num_groups, num_channels=num_channels)\n",
    "            setattr(model, name, gn)\n",
    "        else:\n",
    "            convert_bn_to_gn(module, default_num_groups)\n",
    "\n",
    "\n",
    "import segmentation_models_pytorch as smp\n",
    "\n",
    "# Create DeepLabV3+ model with ResNet50 encoder\n",
    "model = smp.DeepLabV3Plus(\n",
    "    encoder_name=\"resnet50\",        # Choose encoder\n",
    "    encoder_weights=\"imagenet\",     # Use ImageNet pre-trained weights\n",
    "    in_channels=3,                  \n",
    "    classes=4                       \n",
    ")\n",
    "convert_bn_to_gn(model)"
   ]
  },
  {
   "cell_type": "code",
   "execution_count": 9,
   "id": "fcbea97d",
   "metadata": {},
   "outputs": [
    {
     "name": "stdout",
     "output_type": "stream",
     "text": [
      "✅ Loaded pretrained weights from 2018(LGG) dataset\n"
     ]
    }
   ],
   "source": [
    "model.load_state_dict(torch.load(r\"C:\\Users\\Dell\\Desktop\\Group_4_sem_6_AIML\\comparativeAnalysisModel\\DeepLabV3 + ResNet50\\saved_models\\2018_lgg_deeplabv3_resNet50.pth\"))\n",
    "print(\"✅ Loaded pretrained weights from 2018(LGG) dataset\")"
   ]
  },
  {
   "cell_type": "code",
   "execution_count": 10,
   "id": "b654cc0d",
   "metadata": {},
   "outputs": [
    {
     "name": "stdout",
     "output_type": "stream",
     "text": [
      "✅ Train Set: 207 samples | Val Set: 52 samples\n"
     ]
    }
   ],
   "source": [
    "from torch.utils.data import random_split, DataLoader\n",
    "\n",
    "# Split Dataset into 80% Train, 20% Validation\n",
    "dataset_size = len(train_dataset)\n",
    "train_size = int(0.8 * dataset_size)\n",
    "val_size = dataset_size - train_size\n",
    "train_dataset, val_dataset = random_split(train_dataset, [train_size, val_size])\n",
    "\n",
    "\n",
    "train_loader = DataLoader(train_dataset, batch_size=2, shuffle=True, num_workers=0)\n",
    "val_loader = DataLoader(val_dataset, batch_size=2, shuffle=False, num_workers=0)\n",
    "\n",
    "print(f\"✅ Train Set: {len(train_dataset)} samples | Val Set: {len(val_dataset)} samples\")\n"
   ]
  },
  {
   "cell_type": "code",
   "execution_count": 11,
   "id": "743c783f",
   "metadata": {},
   "outputs": [],
   "source": [
    "import torch\n",
    "import torch.nn as nn\n",
    "import torch.nn.functional as F\n",
    "\n",
    "# Soft Dice Loss\n",
    "class SoftDiceLoss(nn.Module):\n",
    "    def __init__(self, smooth=1e-6):\n",
    "        super(SoftDiceLoss, self).__init__()\n",
    "        self.smooth = smooth\n",
    "\n",
    "    def forward(self, pred, target):\n",
    "        pred = torch.softmax(pred, dim=1)  # Apply softmax to logits\n",
    "        target_one_hot = F.one_hot(target, num_classes=pred.shape[1])  # [B, H, W, C]\n",
    "        target_one_hot = target_one_hot.permute(0, 3, 1, 2).float()     # [B, C, H, W]\n",
    "\n",
    "        dims = (0, 2, 3)  # Batch, Height, Width\n",
    "        intersection = (pred * target_one_hot).sum(dim=dims)\n",
    "        union = pred.sum(dim=dims) + target_one_hot.sum(dim=dims)\n",
    "        dice = (2. * intersection + self.smooth) / (union + self.smooth)\n",
    "        return 1 - dice.mean()\n",
    "\n",
    "# Combined Dice + CrossEntropy loss for SMP models\n",
    "def combined_loss(preds, target):\n",
    "    # If the model only outputs one prediction, adjust the loss function accordingly\n",
    "    dice_loss = SoftDiceLoss()(preds, target)\n",
    "    ce_loss = nn.CrossEntropyLoss(weight=torch.tensor([0.1, 1.0, 1.0, 3.0]).to(preds.device))(preds, target)\n",
    "\n",
    "    total_loss = dice_loss + ce_loss\n",
    "    return total_loss\n"
   ]
  },
  {
   "cell_type": "code",
   "execution_count": 12,
   "id": "8461e39d",
   "metadata": {},
   "outputs": [],
   "source": [
    "import torch\n",
    "import torch.nn.functional as F\n",
    "from tqdm import tqdm\n",
    "import copy\n",
    "\n",
    "def train_model_deeplab(model, train_loader, optimizer, loss_fn, device, epochs=10, patience=3, save_path=\"best_deeplabv3.pth\"):\n",
    "    best_loss = float('inf')\n",
    "    best_model_wts = copy.deepcopy(model.state_dict())\n",
    "    no_improve_epochs = 0\n",
    "\n",
    "    for epoch in range(epochs):\n",
    "        model.train()\n",
    "        train_loss = 0.0\n",
    "        loop = tqdm(train_loader, desc=f\"Epoch [{epoch+1}/{epochs}]\", leave=False)\n",
    "\n",
    "        for images, masks in loop:\n",
    "            images, masks = images.to(device), masks.to(device)\n",
    "            masks = torch.clamp(masks, 0, 3)  # Ensure valid class range\n",
    "\n",
    "            optimizer.zero_grad()\n",
    "\n",
    "            preds = model(images)  # SMP-style output [B, C, H, W]\n",
    "            loss = loss_fn(preds, masks)\n",
    "\n",
    "            loss.backward()\n",
    "            optimizer.step()\n",
    "\n",
    "            train_loss += loss.item()\n",
    "            loop.set_postfix({\"Loss\": loss.item()})\n",
    "\n",
    "        avg_train_loss = train_loss / len(train_loader)\n",
    "        print(f\"\\n✅ Epoch {epoch+1}: Train Loss: {avg_train_loss:.4f}\")\n",
    "\n",
    "        if avg_train_loss < best_loss:\n",
    "            best_loss = avg_train_loss\n",
    "            best_model_wts = copy.deepcopy(model.state_dict())\n",
    "            torch.save(best_model_wts, save_path)\n",
    "            print(f\"💾 Saved model at epoch {epoch+1} with train loss {best_loss:.4f}\")\n",
    "            no_improve_epochs = 0\n",
    "        else:\n",
    "            no_improve_epochs += 1\n",
    "            print(f\"⚠️ No improvement for {no_improve_epochs} epoch(s)\")\n",
    "            if no_improve_epochs >= patience:\n",
    "                print(f\"⏹️ Early stopping triggered at epoch {epoch+1}\")\n",
    "                break\n",
    "\n",
    "    model.load_state_dict(best_model_wts)\n",
    "    print(\"🏁 Training complete.\")\n"
   ]
  },
  {
   "cell_type": "code",
   "execution_count": 13,
   "id": "fa486136",
   "metadata": {},
   "outputs": [
    {
     "name": "stderr",
     "output_type": "stream",
     "text": [
      "Epoch [1/15]:   0%|          | 0/104 [00:00<?, ?it/s]"
     ]
    },
    {
     "name": "stdout",
     "output_type": "stream",
     "text": [
      "✅ Loaded BraTS19_TCIA02_455_1: Image torch.Size([3, 224, 224]), Mask torch.Size([224, 224])\n",
      "✅ Loaded BraTS19_CBICA_ATN_1: Image torch.Size([3, 224, 224]), Mask torch.Size([224, 224])\n"
     ]
    },
    {
     "name": "stderr",
     "output_type": "stream",
     "text": [
      "Epoch [1/15]:   1%|          | 1/104 [00:00<01:21,  1.27it/s, Loss=0.54]"
     ]
    },
    {
     "name": "stdout",
     "output_type": "stream",
     "text": [
      "✅ Loaded BraTS19_CBICA_ATD_1: Image torch.Size([3, 224, 224]), Mask torch.Size([224, 224])\n",
      "✅ Loaded BraTS19_CBICA_ASA_1: Image torch.Size([3, 224, 224]), Mask torch.Size([224, 224])\n"
     ]
    },
    {
     "name": "stderr",
     "output_type": "stream",
     "text": [
      "Epoch [1/15]:   2%|▏         | 2/104 [00:01<01:11,  1.42it/s, Loss=0.491]"
     ]
    },
    {
     "name": "stdout",
     "output_type": "stream",
     "text": [
      "✅ Loaded BraTS19_TCIA01_378_1: Image torch.Size([3, 224, 224]), Mask torch.Size([224, 224])\n",
      "✅ Loaded BraTS19_TCIA02_171_1: Image torch.Size([3, 224, 224]), Mask torch.Size([224, 224])\n"
     ]
    },
    {
     "name": "stderr",
     "output_type": "stream",
     "text": [
      "Epoch [1/15]:   3%|▎         | 3/104 [00:01<01:04,  1.57it/s, Loss=0.42] "
     ]
    },
    {
     "name": "stdout",
     "output_type": "stream",
     "text": [
      "✅ Loaded BraTS19_CBICA_AQO_1: Image torch.Size([3, 224, 224]), Mask torch.Size([224, 224])\n",
      "✅ Loaded BraTS19_CBICA_BFB_1: Image torch.Size([3, 224, 224]), Mask torch.Size([224, 224])\n"
     ]
    },
    {
     "name": "stderr",
     "output_type": "stream",
     "text": [
      "Epoch [1/15]:   4%|▍         | 4/104 [00:02<00:59,  1.68it/s, Loss=0.587]"
     ]
    },
    {
     "name": "stdout",
     "output_type": "stream",
     "text": [
      "✅ Loaded BraTS19_CBICA_AOZ_1: Image torch.Size([3, 224, 224]), Mask torch.Size([224, 224])\n",
      "✅ Loaded BraTS19_CBICA_AOO_1: Image torch.Size([3, 224, 224]), Mask torch.Size([224, 224])\n"
     ]
    },
    {
     "name": "stderr",
     "output_type": "stream",
     "text": [
      "Epoch [1/15]:   5%|▍         | 5/104 [00:03<00:56,  1.76it/s, Loss=0.498]"
     ]
    },
    {
     "name": "stdout",
     "output_type": "stream",
     "text": [
      "✅ Loaded BraTS19_TCIA03_257_1: Image torch.Size([3, 224, 224]), Mask torch.Size([224, 224])\n",
      "✅ Loaded BraTS19_CBICA_AOS_1: Image torch.Size([3, 224, 224]), Mask torch.Size([224, 224])\n"
     ]
    },
    {
     "name": "stderr",
     "output_type": "stream",
     "text": [
      "Epoch [1/15]:   6%|▌         | 6/104 [00:03<00:54,  1.81it/s, Loss=0.713]"
     ]
    },
    {
     "name": "stdout",
     "output_type": "stream",
     "text": [
      "✅ Loaded BraTS19_CBICA_AUW_1: Image torch.Size([3, 224, 224]), Mask torch.Size([224, 224])\n",
      "✅ Loaded BraTS19_CBICA_AYC_1: Image torch.Size([3, 224, 224]), Mask torch.Size([224, 224])\n"
     ]
    },
    {
     "name": "stderr",
     "output_type": "stream",
     "text": [
      "Epoch [1/15]:   7%|▋         | 7/104 [00:04<00:52,  1.83it/s, Loss=0.346]"
     ]
    },
    {
     "name": "stdout",
     "output_type": "stream",
     "text": [
      "✅ Loaded BraTS19_TCIA02_118_1: Image torch.Size([3, 224, 224]), Mask torch.Size([224, 224])\n",
      "✅ Loaded BraTS19_TCIA02_608_1: Image torch.Size([3, 224, 224]), Mask torch.Size([224, 224])\n"
     ]
    },
    {
     "name": "stderr",
     "output_type": "stream",
     "text": [
      "Epoch [1/15]:   8%|▊         | 8/104 [00:04<00:51,  1.85it/s, Loss=0.473]"
     ]
    },
    {
     "name": "stdout",
     "output_type": "stream",
     "text": [
      "✅ Loaded BraTS19_CBICA_AXL_1: Image torch.Size([3, 224, 224]), Mask torch.Size([224, 224])\n",
      "✅ Loaded BraTS19_CBICA_BEM_1: Image torch.Size([3, 224, 224]), Mask torch.Size([224, 224])\n"
     ]
    },
    {
     "name": "stderr",
     "output_type": "stream",
     "text": [
      "Epoch [1/15]:   9%|▊         | 9/104 [00:05<00:50,  1.87it/s, Loss=0.548]"
     ]
    },
    {
     "name": "stdout",
     "output_type": "stream",
     "text": [
      "✅ Loaded BraTS19_CBICA_ASH_1: Image torch.Size([3, 224, 224]), Mask torch.Size([224, 224])\n",
      "✅ Loaded BraTS19_TCIA06_603_1: Image torch.Size([3, 224, 224]), Mask torch.Size([224, 224])\n"
     ]
    },
    {
     "name": "stderr",
     "output_type": "stream",
     "text": [
      "Epoch [1/15]:  10%|▉         | 10/104 [00:05<00:50,  1.88it/s, Loss=0.339]"
     ]
    },
    {
     "name": "stdout",
     "output_type": "stream",
     "text": [
      "✅ Loaded BraTS19_TCIA02_179_1: Image torch.Size([3, 224, 224]), Mask torch.Size([224, 224])\n",
      "✅ Loaded BraTS19_CBICA_AXO_1: Image torch.Size([3, 224, 224]), Mask torch.Size([224, 224])\n"
     ]
    },
    {
     "name": "stderr",
     "output_type": "stream",
     "text": [
      "Epoch [1/15]:  11%|█         | 11/104 [00:06<00:49,  1.88it/s, Loss=0.505]"
     ]
    },
    {
     "name": "stdout",
     "output_type": "stream",
     "text": [
      "✅ Loaded BraTS19_TCIA08_105_1: Image torch.Size([3, 224, 224]), Mask torch.Size([224, 224])\n",
      "✅ Loaded BraTS19_TCIA02_394_1: Image torch.Size([3, 224, 224]), Mask torch.Size([224, 224])\n"
     ]
    },
    {
     "name": "stderr",
     "output_type": "stream",
     "text": [
      "Epoch [1/15]:  12%|█▏        | 12/104 [00:06<00:48,  1.88it/s, Loss=0.421]"
     ]
    },
    {
     "name": "stdout",
     "output_type": "stream",
     "text": [
      "✅ Loaded BraTS19_TCIA02_377_1: Image torch.Size([3, 224, 224]), Mask torch.Size([224, 224])\n",
      "✅ Loaded BraTS19_TCIA08_113_1: Image torch.Size([3, 224, 224]), Mask torch.Size([224, 224])\n"
     ]
    },
    {
     "name": "stderr",
     "output_type": "stream",
     "text": [
      "Epoch [1/15]:  12%|█▎        | 13/104 [00:07<00:47,  1.90it/s, Loss=0.348]"
     ]
    },
    {
     "name": "stdout",
     "output_type": "stream",
     "text": [
      "✅ Loaded BraTS19_TCIA02_321_1: Image torch.Size([3, 224, 224]), Mask torch.Size([224, 224])\n",
      "✅ Loaded BraTS19_TCIA05_396_1: Image torch.Size([3, 224, 224]), Mask torch.Size([224, 224])\n"
     ]
    },
    {
     "name": "stderr",
     "output_type": "stream",
     "text": [
      "Epoch [1/15]:  13%|█▎        | 14/104 [00:07<00:47,  1.90it/s, Loss=0.402]"
     ]
    },
    {
     "name": "stdout",
     "output_type": "stream",
     "text": [
      "✅ Loaded BraTS19_CBICA_BIC_1: Image torch.Size([3, 224, 224]), Mask torch.Size([224, 224])\n",
      "✅ Loaded BraTS19_CBICA_AQT_1: Image torch.Size([3, 224, 224]), Mask torch.Size([224, 224])\n"
     ]
    },
    {
     "name": "stderr",
     "output_type": "stream",
     "text": [
      "Epoch [1/15]:  14%|█▍        | 15/104 [00:08<00:46,  1.90it/s, Loss=0.451]"
     ]
    },
    {
     "name": "stdout",
     "output_type": "stream",
     "text": [
      "✅ Loaded BraTS19_TCIA01_235_1: Image torch.Size([3, 224, 224]), Mask torch.Size([224, 224])\n",
      "✅ Loaded BraTS19_CBICA_ABB_1: Image torch.Size([3, 224, 224]), Mask torch.Size([224, 224])\n"
     ]
    },
    {
     "name": "stderr",
     "output_type": "stream",
     "text": [
      "Epoch [1/15]:  15%|█▌        | 16/104 [00:08<00:46,  1.90it/s, Loss=0.587]"
     ]
    },
    {
     "name": "stdout",
     "output_type": "stream",
     "text": [
      "✅ Loaded BraTS19_TCIA06_211_1: Image torch.Size([3, 224, 224]), Mask torch.Size([224, 224])\n",
      "✅ Loaded BraTS19_TCIA01_180_1: Image torch.Size([3, 224, 224]), Mask torch.Size([224, 224])\n"
     ]
    },
    {
     "name": "stderr",
     "output_type": "stream",
     "text": [
      "Epoch [1/15]:  16%|█▋        | 17/104 [00:09<00:45,  1.89it/s, Loss=0.45] "
     ]
    },
    {
     "name": "stdout",
     "output_type": "stream",
     "text": [
      "✅ Loaded BraTS19_CBICA_AXJ_1: Image torch.Size([3, 224, 224]), Mask torch.Size([224, 224])\n",
      "✅ Loaded BraTS19_TCIA08_218_1: Image torch.Size([3, 224, 224]), Mask torch.Size([224, 224])\n"
     ]
    },
    {
     "name": "stderr",
     "output_type": "stream",
     "text": [
      "Epoch [1/15]:  17%|█▋        | 18/104 [00:09<00:45,  1.90it/s, Loss=0.226]"
     ]
    },
    {
     "name": "stdout",
     "output_type": "stream",
     "text": [
      "✅ Loaded BraTS19_TCIA02_135_1: Image torch.Size([3, 224, 224]), Mask torch.Size([224, 224])\n",
      "✅ Loaded BraTS19_CBICA_AZH_1: Image torch.Size([3, 224, 224]), Mask torch.Size([224, 224])\n"
     ]
    },
    {
     "name": "stderr",
     "output_type": "stream",
     "text": [
      "Epoch [1/15]:  18%|█▊        | 19/104 [00:10<00:44,  1.91it/s, Loss=0.411]"
     ]
    },
    {
     "name": "stdout",
     "output_type": "stream",
     "text": [
      "✅ Loaded BraTS19_CBICA_AAL_1: Image torch.Size([3, 224, 224]), Mask torch.Size([224, 224])\n",
      "✅ Loaded BraTS19_TCIA05_444_1: Image torch.Size([3, 224, 224]), Mask torch.Size([224, 224])\n"
     ]
    },
    {
     "name": "stderr",
     "output_type": "stream",
     "text": [
      "Epoch [1/15]:  19%|█▉        | 20/104 [00:10<00:44,  1.87it/s, Loss=0.761]"
     ]
    },
    {
     "name": "stdout",
     "output_type": "stream",
     "text": [
      "✅ Loaded BraTS19_CBICA_APZ_1: Image torch.Size([3, 224, 224]), Mask torch.Size([224, 224])\n",
      "✅ Loaded BraTS19_TCIA06_409_1: Image torch.Size([3, 224, 224]), Mask torch.Size([224, 224])\n"
     ]
    },
    {
     "name": "stderr",
     "output_type": "stream",
     "text": [
      "Epoch [1/15]:  20%|██        | 21/104 [00:11<00:44,  1.87it/s, Loss=0.379]"
     ]
    },
    {
     "name": "stdout",
     "output_type": "stream",
     "text": [
      "✅ Loaded BraTS19_TCIA04_328_1: Image torch.Size([3, 224, 224]), Mask torch.Size([224, 224])\n",
      "✅ Loaded BraTS19_TCIA03_419_1: Image torch.Size([3, 224, 224]), Mask torch.Size([224, 224])\n"
     ]
    },
    {
     "name": "stderr",
     "output_type": "stream",
     "text": [
      "Epoch [1/15]:  21%|██        | 22/104 [00:12<00:43,  1.87it/s, Loss=0.396]"
     ]
    },
    {
     "name": "stdout",
     "output_type": "stream",
     "text": [
      "✅ Loaded BraTS19_TCIA01_335_1: Image torch.Size([3, 224, 224]), Mask torch.Size([224, 224])\n",
      "✅ Loaded BraTS19_TCIA01_460_1: Image torch.Size([3, 224, 224]), Mask torch.Size([224, 224])\n"
     ]
    },
    {
     "name": "stderr",
     "output_type": "stream",
     "text": [
      "Epoch [1/15]:  22%|██▏       | 23/104 [00:12<00:42,  1.90it/s, Loss=0.437]"
     ]
    },
    {
     "name": "stdout",
     "output_type": "stream",
     "text": [
      "✅ Loaded BraTS19_CBICA_AQP_1: Image torch.Size([3, 224, 224]), Mask torch.Size([224, 224])\n",
      "✅ Loaded BraTS19_TCIA01_411_1: Image torch.Size([3, 224, 224]), Mask torch.Size([224, 224])\n"
     ]
    },
    {
     "name": "stderr",
     "output_type": "stream",
     "text": [
      "Epoch [1/15]:  23%|██▎       | 24/104 [00:13<00:41,  1.93it/s, Loss=0.554]"
     ]
    },
    {
     "name": "stdout",
     "output_type": "stream",
     "text": [
      "✅ Loaded BraTS19_2013_20_1: Image torch.Size([3, 224, 224]), Mask torch.Size([224, 224])\n",
      "✅ Loaded BraTS19_CBICA_BGT_1: Image torch.Size([3, 224, 224]), Mask torch.Size([224, 224])\n"
     ]
    },
    {
     "name": "stderr",
     "output_type": "stream",
     "text": [
      "Epoch [1/15]:  24%|██▍       | 25/104 [00:13<00:40,  1.94it/s, Loss=0.358]"
     ]
    },
    {
     "name": "stdout",
     "output_type": "stream",
     "text": [
      "✅ Loaded BraTS19_CBICA_ARZ_1: Image torch.Size([3, 224, 224]), Mask torch.Size([224, 224])\n",
      "✅ Loaded BraTS19_TCIA01_448_1: Image torch.Size([3, 224, 224]), Mask torch.Size([224, 224])\n"
     ]
    },
    {
     "name": "stderr",
     "output_type": "stream",
     "text": [
      "Epoch [1/15]:  25%|██▌       | 26/104 [00:14<00:40,  1.94it/s, Loss=0.611]"
     ]
    },
    {
     "name": "stdout",
     "output_type": "stream",
     "text": [
      "✅ Loaded BraTS19_TCIA04_361_1: Image torch.Size([3, 224, 224]), Mask torch.Size([224, 224])\n",
      "✅ Loaded BraTS19_CBICA_BHZ_1: Image torch.Size([3, 224, 224]), Mask torch.Size([224, 224])\n"
     ]
    },
    {
     "name": "stderr",
     "output_type": "stream",
     "text": [
      "Epoch [1/15]:  26%|██▌       | 27/104 [00:14<00:39,  1.95it/s, Loss=0.415]"
     ]
    },
    {
     "name": "stdout",
     "output_type": "stream",
     "text": [
      "✅ Loaded BraTS19_CBICA_AWI_1: Image torch.Size([3, 224, 224]), Mask torch.Size([224, 224])\n",
      "✅ Loaded BraTS19_TCIA01_131_1: Image torch.Size([3, 224, 224]), Mask torch.Size([224, 224])\n"
     ]
    },
    {
     "name": "stderr",
     "output_type": "stream",
     "text": [
      "Epoch [1/15]:  27%|██▋       | 28/104 [00:15<00:39,  1.95it/s, Loss=0.644]"
     ]
    },
    {
     "name": "stdout",
     "output_type": "stream",
     "text": [
      "✅ Loaded BraTS19_CBICA_AUA_1: Image torch.Size([3, 224, 224]), Mask torch.Size([224, 224])\n",
      "✅ Loaded BraTS19_2013_27_1: Image torch.Size([3, 224, 224]), Mask torch.Size([224, 224])\n"
     ]
    },
    {
     "name": "stderr",
     "output_type": "stream",
     "text": [
      "Epoch [1/15]:  28%|██▊       | 29/104 [00:15<00:38,  1.95it/s, Loss=0.367]"
     ]
    },
    {
     "name": "stdout",
     "output_type": "stream",
     "text": [
      "✅ Loaded BraTS19_2013_13_1: Image torch.Size([3, 224, 224]), Mask torch.Size([224, 224])\n",
      "✅ Loaded BraTS19_TCIA02_368_1: Image torch.Size([3, 224, 224]), Mask torch.Size([224, 224])\n"
     ]
    },
    {
     "name": "stderr",
     "output_type": "stream",
     "text": [
      "Epoch [1/15]:  29%|██▉       | 30/104 [00:16<00:38,  1.94it/s, Loss=0.33] "
     ]
    },
    {
     "name": "stdout",
     "output_type": "stream",
     "text": [
      "✅ Loaded BraTS19_TCIA08_469_1: Image torch.Size([3, 224, 224]), Mask torch.Size([224, 224])\n",
      "✅ Loaded BraTS19_TCIA08_280_1: Image torch.Size([3, 224, 224]), Mask torch.Size([224, 224])\n"
     ]
    },
    {
     "name": "stderr",
     "output_type": "stream",
     "text": [
      "Epoch [1/15]:  30%|██▉       | 31/104 [00:16<00:37,  1.93it/s, Loss=0.754]"
     ]
    },
    {
     "name": "stdout",
     "output_type": "stream",
     "text": [
      "✅ Loaded BraTS19_2013_2_1: Image torch.Size([3, 224, 224]), Mask torch.Size([224, 224])\n",
      "✅ Loaded BraTS19_CBICA_BAX_1: Image torch.Size([3, 224, 224]), Mask torch.Size([224, 224])\n"
     ]
    },
    {
     "name": "stderr",
     "output_type": "stream",
     "text": [
      "Epoch [1/15]:  31%|███       | 32/104 [00:17<00:37,  1.93it/s, Loss=0.616]"
     ]
    },
    {
     "name": "stdout",
     "output_type": "stream",
     "text": [
      "✅ Loaded BraTS19_TCIA04_111_1: Image torch.Size([3, 224, 224]), Mask torch.Size([224, 224])\n",
      "✅ Loaded BraTS19_TCIA06_332_1: Image torch.Size([3, 224, 224]), Mask torch.Size([224, 224])\n"
     ]
    },
    {
     "name": "stderr",
     "output_type": "stream",
     "text": [
      "Epoch [1/15]:  32%|███▏      | 33/104 [00:17<00:36,  1.94it/s, Loss=0.602]"
     ]
    },
    {
     "name": "stdout",
     "output_type": "stream",
     "text": [
      "✅ Loaded BraTS19_TCIA01_390_1: Image torch.Size([3, 224, 224]), Mask torch.Size([224, 224])\n",
      "✅ Loaded BraTS19_TCIA08_205_1: Image torch.Size([3, 224, 224]), Mask torch.Size([224, 224])\n"
     ]
    },
    {
     "name": "stderr",
     "output_type": "stream",
     "text": [
      "Epoch [1/15]:  33%|███▎      | 34/104 [00:18<00:36,  1.93it/s, Loss=0.462]"
     ]
    },
    {
     "name": "stdout",
     "output_type": "stream",
     "text": [
      "✅ Loaded BraTS19_CBICA_ASN_1: Image torch.Size([3, 224, 224]), Mask torch.Size([224, 224])\n",
      "✅ Loaded BraTS19_CBICA_BGG_1: Image torch.Size([3, 224, 224]), Mask torch.Size([224, 224])\n"
     ]
    },
    {
     "name": "stderr",
     "output_type": "stream",
     "text": [
      "Epoch [1/15]:  34%|███▎      | 35/104 [00:18<00:35,  1.93it/s, Loss=0.571]"
     ]
    },
    {
     "name": "stdout",
     "output_type": "stream",
     "text": [
      "✅ Loaded BraTS19_CBICA_AQN_1: Image torch.Size([3, 224, 224]), Mask torch.Size([224, 224])\n",
      "✅ Loaded BraTS19_CBICA_ASU_1: Image torch.Size([3, 224, 224]), Mask torch.Size([224, 224])\n"
     ]
    },
    {
     "name": "stderr",
     "output_type": "stream",
     "text": [
      "Epoch [1/15]:  35%|███▍      | 36/104 [00:19<00:35,  1.94it/s, Loss=0.556]"
     ]
    },
    {
     "name": "stdout",
     "output_type": "stream",
     "text": [
      "✅ Loaded BraTS19_TCIA02_290_1: Image torch.Size([3, 224, 224]), Mask torch.Size([224, 224])\n",
      "✅ Loaded BraTS19_CBICA_BGX_1: Image torch.Size([3, 224, 224]), Mask torch.Size([224, 224])\n"
     ]
    },
    {
     "name": "stderr",
     "output_type": "stream",
     "text": [
      "Epoch [1/15]:  36%|███▌      | 37/104 [00:19<00:34,  1.95it/s, Loss=0.4]  "
     ]
    },
    {
     "name": "stdout",
     "output_type": "stream",
     "text": [
      "✅ Loaded BraTS19_CBICA_AAG_1: Image torch.Size([3, 224, 224]), Mask torch.Size([224, 224])\n",
      "✅ Loaded BraTS19_CBICA_AVV_1: Image torch.Size([3, 224, 224]), Mask torch.Size([224, 224])\n"
     ]
    },
    {
     "name": "stderr",
     "output_type": "stream",
     "text": [
      "Epoch [1/15]:  37%|███▋      | 38/104 [00:20<00:34,  1.93it/s, Loss=0.446]"
     ]
    },
    {
     "name": "stdout",
     "output_type": "stream",
     "text": [
      "✅ Loaded BraTS19_CBICA_ALX_1: Image torch.Size([3, 224, 224]), Mask torch.Size([224, 224])\n",
      "✅ Loaded BraTS19_CBICA_BGW_1: Image torch.Size([3, 224, 224]), Mask torch.Size([224, 224])\n"
     ]
    },
    {
     "name": "stderr",
     "output_type": "stream",
     "text": [
      "Epoch [1/15]:  38%|███▊      | 39/104 [00:20<00:33,  1.95it/s, Loss=0.416]"
     ]
    },
    {
     "name": "stdout",
     "output_type": "stream",
     "text": [
      "✅ Loaded BraTS19_CBICA_BBG_1: Image torch.Size([3, 224, 224]), Mask torch.Size([224, 224])\n",
      "✅ Loaded BraTS19_TCIA01_190_1: Image torch.Size([3, 224, 224]), Mask torch.Size([224, 224])\n"
     ]
    },
    {
     "name": "stderr",
     "output_type": "stream",
     "text": [
      "Epoch [1/15]:  38%|███▊      | 40/104 [00:21<00:32,  1.95it/s, Loss=0.404]"
     ]
    },
    {
     "name": "stdout",
     "output_type": "stream",
     "text": [
      "✅ Loaded BraTS19_TCIA04_479_1: Image torch.Size([3, 224, 224]), Mask torch.Size([224, 224])\n",
      "✅ Loaded BraTS19_CBICA_AAP_1: Image torch.Size([3, 224, 224]), Mask torch.Size([224, 224])\n"
     ]
    },
    {
     "name": "stderr",
     "output_type": "stream",
     "text": [
      "Epoch [1/15]:  39%|███▉      | 41/104 [00:21<00:32,  1.94it/s, Loss=0.273]"
     ]
    },
    {
     "name": "stdout",
     "output_type": "stream",
     "text": [
      "✅ Loaded BraTS19_TCIA03_121_1: Image torch.Size([3, 224, 224]), Mask torch.Size([224, 224])\n",
      "✅ Loaded BraTS19_CBICA_ANG_1: Image torch.Size([3, 224, 224]), Mask torch.Size([224, 224])\n"
     ]
    },
    {
     "name": "stderr",
     "output_type": "stream",
     "text": [
      "Epoch [1/15]:  40%|████      | 42/104 [00:22<00:31,  1.94it/s, Loss=0.469]"
     ]
    },
    {
     "name": "stdout",
     "output_type": "stream",
     "text": [
      "✅ Loaded BraTS19_CBICA_ABE_1: Image torch.Size([3, 224, 224]), Mask torch.Size([224, 224])\n",
      "✅ Loaded BraTS19_CBICA_AVJ_1: Image torch.Size([3, 224, 224]), Mask torch.Size([224, 224])\n"
     ]
    },
    {
     "name": "stderr",
     "output_type": "stream",
     "text": [
      "Epoch [1/15]:  41%|████▏     | 43/104 [00:22<00:31,  1.93it/s, Loss=0.379]"
     ]
    },
    {
     "name": "stdout",
     "output_type": "stream",
     "text": [
      "✅ Loaded BraTS19_TCIA02_314_1: Image torch.Size([3, 224, 224]), Mask torch.Size([224, 224])\n",
      "✅ Loaded BraTS19_CBICA_ALN_1: Image torch.Size([3, 224, 224]), Mask torch.Size([224, 224])\n"
     ]
    },
    {
     "name": "stderr",
     "output_type": "stream",
     "text": [
      "Epoch [1/15]:  42%|████▏     | 44/104 [00:23<00:30,  1.94it/s, Loss=0.436]"
     ]
    },
    {
     "name": "stdout",
     "output_type": "stream",
     "text": [
      "✅ Loaded BraTS19_TMC_21360_1: Image torch.Size([3, 224, 224]), Mask torch.Size([224, 224])\n",
      "✅ Loaded BraTS19_TCIA01_147_1: Image torch.Size([3, 224, 224]), Mask torch.Size([224, 224])\n"
     ]
    },
    {
     "name": "stderr",
     "output_type": "stream",
     "text": [
      "Epoch [1/15]:  43%|████▎     | 45/104 [00:23<00:30,  1.94it/s, Loss=0.279]"
     ]
    },
    {
     "name": "stdout",
     "output_type": "stream",
     "text": [
      "✅ Loaded BraTS19_CBICA_ASV_1: Image torch.Size([3, 224, 224]), Mask torch.Size([224, 224])\n",
      "✅ Loaded BraTS19_CBICA_AQU_1: Image torch.Size([3, 224, 224]), Mask torch.Size([224, 224])\n"
     ]
    },
    {
     "name": "stderr",
     "output_type": "stream",
     "text": [
      "Epoch [1/15]:  44%|████▍     | 46/104 [00:24<00:30,  1.93it/s, Loss=0.433]"
     ]
    },
    {
     "name": "stdout",
     "output_type": "stream",
     "text": [
      "✅ Loaded BraTS19_CBICA_ASY_1: Image torch.Size([3, 224, 224]), Mask torch.Size([224, 224])\n",
      "✅ Loaded BraTS19_CBICA_BLJ_1: Image torch.Size([3, 224, 224]), Mask torch.Size([224, 224])\n"
     ]
    },
    {
     "name": "stderr",
     "output_type": "stream",
     "text": [
      "Epoch [1/15]:  45%|████▌     | 47/104 [00:24<00:29,  1.94it/s, Loss=0.436]"
     ]
    },
    {
     "name": "stdout",
     "output_type": "stream",
     "text": [
      "✅ Loaded BraTS19_CBICA_ASK_1: Image torch.Size([3, 224, 224]), Mask torch.Size([224, 224])\n",
      "✅ Loaded BraTS19_CBICA_AUR_1: Image torch.Size([3, 224, 224]), Mask torch.Size([224, 224])\n"
     ]
    },
    {
     "name": "stderr",
     "output_type": "stream",
     "text": [
      "Epoch [1/15]:  46%|████▌     | 48/104 [00:25<00:28,  1.96it/s, Loss=0.575]"
     ]
    },
    {
     "name": "stdout",
     "output_type": "stream",
     "text": [
      "✅ Loaded BraTS19_CBICA_AME_1: Image torch.Size([3, 224, 224]), Mask torch.Size([224, 224])\n",
      "✅ Loaded BraTS19_TCIA02_374_1: Image torch.Size([3, 224, 224]), Mask torch.Size([224, 224])\n"
     ]
    },
    {
     "name": "stderr",
     "output_type": "stream",
     "text": [
      "Epoch [1/15]:  47%|████▋     | 49/104 [00:25<00:28,  1.95it/s, Loss=0.338]"
     ]
    },
    {
     "name": "stdout",
     "output_type": "stream",
     "text": [
      "✅ Loaded BraTS19_TCIA08_162_1: Image torch.Size([3, 224, 224]), Mask torch.Size([224, 224])\n",
      "✅ Loaded BraTS19_2013_4_1: Image torch.Size([3, 224, 224]), Mask torch.Size([224, 224])\n"
     ]
    },
    {
     "name": "stderr",
     "output_type": "stream",
     "text": [
      "Epoch [1/15]:  48%|████▊     | 50/104 [00:26<00:27,  1.95it/s, Loss=0.281]"
     ]
    },
    {
     "name": "stdout",
     "output_type": "stream",
     "text": [
      "✅ Loaded BraTS19_CBICA_BGN_1: Image torch.Size([3, 224, 224]), Mask torch.Size([224, 224])\n",
      "✅ Loaded BraTS19_TCIA02_322_1: Image torch.Size([3, 224, 224]), Mask torch.Size([224, 224])\n"
     ]
    },
    {
     "name": "stderr",
     "output_type": "stream",
     "text": [
      "Epoch [1/15]:  49%|████▉     | 51/104 [00:26<00:27,  1.94it/s, Loss=0.37] "
     ]
    },
    {
     "name": "stdout",
     "output_type": "stream",
     "text": [
      "✅ Loaded BraTS19_TCIA02_117_1: Image torch.Size([3, 224, 224]), Mask torch.Size([224, 224])\n",
      "✅ Loaded BraTS19_2013_25_1: Image torch.Size([3, 224, 224]), Mask torch.Size([224, 224])\n"
     ]
    },
    {
     "name": "stderr",
     "output_type": "stream",
     "text": [
      "Epoch [1/15]:  50%|█████     | 52/104 [00:27<00:26,  1.94it/s, Loss=0.452]"
     ]
    },
    {
     "name": "stdout",
     "output_type": "stream",
     "text": [
      "✅ Loaded BraTS19_CBICA_ATV_1: Image torch.Size([3, 224, 224]), Mask torch.Size([224, 224])\n",
      "✅ Loaded BraTS19_TCIA02_222_1: Image torch.Size([3, 224, 224]), Mask torch.Size([224, 224])\n"
     ]
    },
    {
     "name": "stderr",
     "output_type": "stream",
     "text": [
      "Epoch [1/15]:  51%|█████     | 53/104 [00:27<00:26,  1.96it/s, Loss=0.346]"
     ]
    },
    {
     "name": "stdout",
     "output_type": "stream",
     "text": [
      "✅ Loaded BraTS19_TCIA08_406_1: Image torch.Size([3, 224, 224]), Mask torch.Size([224, 224])\n",
      "✅ Loaded BraTS19_TCIA01_412_1: Image torch.Size([3, 224, 224]), Mask torch.Size([224, 224])\n"
     ]
    },
    {
     "name": "stderr",
     "output_type": "stream",
     "text": [
      "Epoch [1/15]:  52%|█████▏    | 54/104 [00:28<00:25,  1.95it/s, Loss=0.377]"
     ]
    },
    {
     "name": "stdout",
     "output_type": "stream",
     "text": [
      "✅ Loaded BraTS19_CBICA_ASG_1: Image torch.Size([3, 224, 224]), Mask torch.Size([224, 224])\n",
      "✅ Loaded BraTS19_CBICA_AQG_1: Image torch.Size([3, 224, 224]), Mask torch.Size([224, 224])\n"
     ]
    },
    {
     "name": "stderr",
     "output_type": "stream",
     "text": [
      "Epoch [1/15]:  53%|█████▎    | 55/104 [00:29<00:25,  1.95it/s, Loss=0.369]"
     ]
    },
    {
     "name": "stdout",
     "output_type": "stream",
     "text": [
      "✅ Loaded BraTS19_CBICA_BKV_1: Image torch.Size([3, 224, 224]), Mask torch.Size([224, 224])\n",
      "✅ Loaded BraTS19_TCIA06_184_1: Image torch.Size([3, 224, 224]), Mask torch.Size([224, 224])\n"
     ]
    },
    {
     "name": "stderr",
     "output_type": "stream",
     "text": [
      "Epoch [1/15]:  54%|█████▍    | 56/104 [00:29<00:24,  1.95it/s, Loss=0.372]"
     ]
    },
    {
     "name": "stdout",
     "output_type": "stream",
     "text": [
      "✅ Loaded BraTS19_TCIA03_375_1: Image torch.Size([3, 224, 224]), Mask torch.Size([224, 224])\n",
      "✅ Loaded BraTS19_CBICA_ANZ_1: Image torch.Size([3, 224, 224]), Mask torch.Size([224, 224])\n"
     ]
    },
    {
     "name": "stderr",
     "output_type": "stream",
     "text": [
      "Epoch [1/15]:  55%|█████▍    | 57/104 [00:30<00:24,  1.94it/s, Loss=0.583]"
     ]
    },
    {
     "name": "stdout",
     "output_type": "stream",
     "text": [
      "✅ Loaded BraTS19_TCIA02_491_1: Image torch.Size([3, 224, 224]), Mask torch.Size([224, 224])\n",
      "✅ Loaded BraTS19_CBICA_AVT_1: Image torch.Size([3, 224, 224]), Mask torch.Size([224, 224])\n"
     ]
    },
    {
     "name": "stderr",
     "output_type": "stream",
     "text": [
      "Epoch [1/15]:  56%|█████▌    | 58/104 [00:30<00:23,  1.92it/s, Loss=0.468]"
     ]
    },
    {
     "name": "stdout",
     "output_type": "stream",
     "text": [
      "✅ Loaded BraTS19_CBICA_ARF_1: Image torch.Size([3, 224, 224]), Mask torch.Size([224, 224])\n",
      "✅ Loaded BraTS19_CBICA_ALU_1: Image torch.Size([3, 224, 224]), Mask torch.Size([224, 224])\n"
     ]
    },
    {
     "name": "stderr",
     "output_type": "stream",
     "text": [
      "Epoch [1/15]:  57%|█████▋    | 59/104 [00:31<00:23,  1.95it/s, Loss=0.342]"
     ]
    },
    {
     "name": "stdout",
     "output_type": "stream",
     "text": [
      "✅ Loaded BraTS19_CBICA_AQD_1: Image torch.Size([3, 224, 224]), Mask torch.Size([224, 224])\n",
      "✅ Loaded BraTS19_CBICA_APK_1: Image torch.Size([3, 224, 224]), Mask torch.Size([224, 224])\n"
     ]
    },
    {
     "name": "stderr",
     "output_type": "stream",
     "text": [
      "Epoch [1/15]:  58%|█████▊    | 60/104 [00:31<00:23,  1.89it/s, Loss=0.265]"
     ]
    },
    {
     "name": "stdout",
     "output_type": "stream",
     "text": [
      "✅ Loaded BraTS19_CBICA_AYI_1: Image torch.Size([3, 224, 224]), Mask torch.Size([224, 224])\n",
      "✅ Loaded BraTS19_TCIA04_343_1: Image torch.Size([3, 224, 224]), Mask torch.Size([224, 224])\n"
     ]
    },
    {
     "name": "stderr",
     "output_type": "stream",
     "text": [
      "Epoch [1/15]:  59%|█████▊    | 61/104 [00:32<00:23,  1.86it/s, Loss=0.644]"
     ]
    },
    {
     "name": "stdout",
     "output_type": "stream",
     "text": [
      "✅ Loaded BraTS19_CBICA_AUQ_1: Image torch.Size([3, 224, 224]), Mask torch.Size([224, 224])\n",
      "✅ Loaded BraTS19_CBICA_ANP_1: Image torch.Size([3, 224, 224]), Mask torch.Size([224, 224])\n"
     ]
    },
    {
     "name": "stderr",
     "output_type": "stream",
     "text": [
      "Epoch [1/15]:  60%|█████▉    | 62/104 [00:32<00:22,  1.85it/s, Loss=0.423]"
     ]
    },
    {
     "name": "stdout",
     "output_type": "stream",
     "text": [
      "✅ Loaded BraTS19_CBICA_BFP_1: Image torch.Size([3, 224, 224]), Mask torch.Size([224, 224])\n",
      "✅ Loaded BraTS19_TCIA02_198_1: Image torch.Size([3, 224, 224]), Mask torch.Size([224, 224])\n"
     ]
    },
    {
     "name": "stderr",
     "output_type": "stream",
     "text": [
      "Epoch [1/15]:  61%|██████    | 63/104 [00:33<00:21,  1.87it/s, Loss=0.563]"
     ]
    },
    {
     "name": "stdout",
     "output_type": "stream",
     "text": [
      "✅ Loaded BraTS19_CBICA_BNR_1: Image torch.Size([3, 224, 224]), Mask torch.Size([224, 224])\n",
      "✅ Loaded BraTS19_TCIA01_499_1: Image torch.Size([3, 224, 224]), Mask torch.Size([224, 224])\n"
     ]
    },
    {
     "name": "stderr",
     "output_type": "stream",
     "text": [
      "Epoch [1/15]:  62%|██████▏   | 64/104 [00:33<00:21,  1.89it/s, Loss=0.583]"
     ]
    },
    {
     "name": "stdout",
     "output_type": "stream",
     "text": [
      "✅ Loaded BraTS19_TCIA05_478_1: Image torch.Size([3, 224, 224]), Mask torch.Size([224, 224])\n",
      "✅ Loaded BraTS19_CBICA_AYW_1: Image torch.Size([3, 224, 224]), Mask torch.Size([224, 224])\n"
     ]
    },
    {
     "name": "stderr",
     "output_type": "stream",
     "text": [
      "Epoch [1/15]:  62%|██████▎   | 65/104 [00:34<00:20,  1.90it/s, Loss=0.3]  "
     ]
    },
    {
     "name": "stdout",
     "output_type": "stream",
     "text": [
      "✅ Loaded BraTS19_CBICA_BHV_1: Image torch.Size([3, 224, 224]), Mask torch.Size([224, 224])\n",
      "✅ Loaded BraTS19_TCIA01_186_1: Image torch.Size([3, 224, 224]), Mask torch.Size([224, 224])\n"
     ]
    },
    {
     "name": "stderr",
     "output_type": "stream",
     "text": [
      "Epoch [1/15]:  63%|██████▎   | 66/104 [00:34<00:19,  1.93it/s, Loss=0.425]"
     ]
    },
    {
     "name": "stdout",
     "output_type": "stream",
     "text": [
      "✅ Loaded BraTS19_TCIA02_274_1: Image torch.Size([3, 224, 224]), Mask torch.Size([224, 224])\n",
      "✅ Loaded BraTS19_TCIA04_149_1: Image torch.Size([3, 224, 224]), Mask torch.Size([224, 224])\n"
     ]
    },
    {
     "name": "stderr",
     "output_type": "stream",
     "text": [
      "Epoch [1/15]:  64%|██████▍   | 67/104 [00:35<00:19,  1.93it/s, Loss=0.344]"
     ]
    },
    {
     "name": "stdout",
     "output_type": "stream",
     "text": [
      "✅ Loaded BraTS19_TCIA02_151_1: Image torch.Size([3, 224, 224]), Mask torch.Size([224, 224])\n",
      "✅ Loaded BraTS19_CBICA_AQR_1: Image torch.Size([3, 224, 224]), Mask torch.Size([224, 224])\n"
     ]
    },
    {
     "name": "stderr",
     "output_type": "stream",
     "text": [
      "Epoch [1/15]:  65%|██████▌   | 68/104 [00:35<00:18,  1.96it/s, Loss=0.169]"
     ]
    },
    {
     "name": "stdout",
     "output_type": "stream",
     "text": [
      "✅ Loaded BraTS19_TCIA02_605_1: Image torch.Size([3, 224, 224]), Mask torch.Size([224, 224])\n",
      "✅ Loaded BraTS19_TMC_12866_1: Image torch.Size([3, 224, 224]), Mask torch.Size([224, 224])\n"
     ]
    },
    {
     "name": "stderr",
     "output_type": "stream",
     "text": [
      "Epoch [1/15]:  66%|██████▋   | 69/104 [00:36<00:17,  1.95it/s, Loss=0.487]"
     ]
    },
    {
     "name": "stdout",
     "output_type": "stream",
     "text": [
      "✅ Loaded BraTS19_CBICA_BAP_1: Image torch.Size([3, 224, 224]), Mask torch.Size([224, 224])\n",
      "✅ Loaded BraTS19_2013_10_1: Image torch.Size([3, 224, 224]), Mask torch.Size([224, 224])\n"
     ]
    },
    {
     "name": "stderr",
     "output_type": "stream",
     "text": [
      "Epoch [1/15]:  67%|██████▋   | 70/104 [00:36<00:17,  1.96it/s, Loss=0.201]"
     ]
    },
    {
     "name": "stdout",
     "output_type": "stream",
     "text": [
      "✅ Loaded BraTS19_TCIA01_429_1: Image torch.Size([3, 224, 224]), Mask torch.Size([224, 224])\n",
      "✅ Loaded BraTS19_CBICA_AUN_1: Image torch.Size([3, 224, 224]), Mask torch.Size([224, 224])\n"
     ]
    },
    {
     "name": "stderr",
     "output_type": "stream",
     "text": [
      "Epoch [1/15]:  68%|██████▊   | 71/104 [00:37<00:16,  1.97it/s, Loss=0.278]"
     ]
    },
    {
     "name": "stdout",
     "output_type": "stream",
     "text": [
      "✅ Loaded BraTS19_CBICA_AVB_1: Image torch.Size([3, 224, 224]), Mask torch.Size([224, 224])\n",
      "✅ Loaded BraTS19_CBICA_ASE_1: Image torch.Size([3, 224, 224]), Mask torch.Size([224, 224])\n"
     ]
    },
    {
     "name": "stderr",
     "output_type": "stream",
     "text": [
      "Epoch [1/15]:  69%|██████▉   | 72/104 [00:37<00:16,  1.96it/s, Loss=0.783]"
     ]
    },
    {
     "name": "stdout",
     "output_type": "stream",
     "text": [
      "✅ Loaded BraTS19_TCIA02_309_1: Image torch.Size([3, 224, 224]), Mask torch.Size([224, 224])\n",
      "✅ Loaded BraTS19_TCIA02_331_1: Image torch.Size([3, 224, 224]), Mask torch.Size([224, 224])\n"
     ]
    },
    {
     "name": "stderr",
     "output_type": "stream",
     "text": [
      "Epoch [1/15]:  70%|███████   | 73/104 [00:38<00:15,  1.98it/s, Loss=0.315]"
     ]
    },
    {
     "name": "stdout",
     "output_type": "stream",
     "text": [
      "✅ Loaded BraTS19_TCIA03_498_1: Image torch.Size([3, 224, 224]), Mask torch.Size([224, 224])\n",
      "✅ Loaded BraTS19_CBICA_AQV_1: Image torch.Size([3, 224, 224]), Mask torch.Size([224, 224])\n"
     ]
    },
    {
     "name": "stderr",
     "output_type": "stream",
     "text": [
      "Epoch [1/15]:  71%|███████   | 74/104 [00:38<00:15,  1.98it/s, Loss=0.381]"
     ]
    },
    {
     "name": "stdout",
     "output_type": "stream",
     "text": [
      "✅ Loaded BraTS19_TCIA02_226_1: Image torch.Size([3, 224, 224]), Mask torch.Size([224, 224])\n",
      "✅ Loaded BraTS19_2013_18_1: Image torch.Size([3, 224, 224]), Mask torch.Size([224, 224])\n"
     ]
    },
    {
     "name": "stderr",
     "output_type": "stream",
     "text": [
      "Epoch [1/15]:  72%|███████▏  | 75/104 [00:39<00:14,  1.97it/s, Loss=0.401]"
     ]
    },
    {
     "name": "stdout",
     "output_type": "stream",
     "text": [
      "✅ Loaded BraTS19_2013_7_1: Image torch.Size([3, 224, 224]), Mask torch.Size([224, 224])\n",
      "✅ Loaded BraTS19_TCIA03_474_1: Image torch.Size([3, 224, 224]), Mask torch.Size([224, 224])\n"
     ]
    },
    {
     "name": "stderr",
     "output_type": "stream",
     "text": [
      "Epoch [1/15]:  73%|███████▎  | 76/104 [00:39<00:14,  1.98it/s, Loss=0.239]"
     ]
    },
    {
     "name": "stdout",
     "output_type": "stream",
     "text": [
      "✅ Loaded BraTS19_CBICA_AQY_1: Image torch.Size([3, 224, 224]), Mask torch.Size([224, 224])\n",
      "✅ Loaded BraTS19_CBICA_AXW_1: Image torch.Size([3, 224, 224]), Mask torch.Size([224, 224])\n"
     ]
    },
    {
     "name": "stderr",
     "output_type": "stream",
     "text": [
      "Epoch [1/15]:  74%|███████▍  | 77/104 [00:40<00:13,  1.98it/s, Loss=0.404]"
     ]
    },
    {
     "name": "stdout",
     "output_type": "stream",
     "text": [
      "✅ Loaded BraTS19_TCIA02_607_1: Image torch.Size([3, 224, 224]), Mask torch.Size([224, 224])\n",
      "✅ Loaded BraTS19_TCIA04_192_1: Image torch.Size([3, 224, 224]), Mask torch.Size([224, 224])\n"
     ]
    },
    {
     "name": "stderr",
     "output_type": "stream",
     "text": [
      "Epoch [1/15]:  75%|███████▌  | 78/104 [00:40<00:13,  1.98it/s, Loss=0.368]"
     ]
    },
    {
     "name": "stdout",
     "output_type": "stream",
     "text": [
      "✅ Loaded BraTS19_CBICA_AWH_1: Image torch.Size([3, 224, 224]), Mask torch.Size([224, 224])\n",
      "✅ Loaded BraTS19_CBICA_AWG_1: Image torch.Size([3, 224, 224]), Mask torch.Size([224, 224])\n"
     ]
    },
    {
     "name": "stderr",
     "output_type": "stream",
     "text": [
      "Epoch [1/15]:  76%|███████▌  | 79/104 [00:41<00:12,  1.99it/s, Loss=0.452]"
     ]
    },
    {
     "name": "stdout",
     "output_type": "stream",
     "text": [
      "✅ Loaded BraTS19_CBICA_AAB_1: Image torch.Size([3, 224, 224]), Mask torch.Size([224, 224])\n",
      "✅ Loaded BraTS19_CBICA_ATB_1: Image torch.Size([3, 224, 224]), Mask torch.Size([224, 224])\n"
     ]
    },
    {
     "name": "stderr",
     "output_type": "stream",
     "text": [
      "Epoch [1/15]:  77%|███████▋  | 80/104 [00:41<00:12,  1.99it/s, Loss=0.436]"
     ]
    },
    {
     "name": "stdout",
     "output_type": "stream",
     "text": [
      "✅ Loaded BraTS19_2013_3_1: Image torch.Size([3, 224, 224]), Mask torch.Size([224, 224])\n",
      "✅ Loaded BraTS19_TCIA02_283_1: Image torch.Size([3, 224, 224]), Mask torch.Size([224, 224])\n"
     ]
    },
    {
     "name": "stderr",
     "output_type": "stream",
     "text": [
      "Epoch [1/15]:  78%|███████▊  | 81/104 [00:42<00:11,  1.98it/s, Loss=0.427]"
     ]
    },
    {
     "name": "stdout",
     "output_type": "stream",
     "text": [
      "✅ Loaded BraTS19_TCIA03_338_1: Image torch.Size([3, 224, 224]), Mask torch.Size([224, 224])\n",
      "✅ Loaded BraTS19_CBICA_AYA_1: Image torch.Size([3, 224, 224]), Mask torch.Size([224, 224])\n"
     ]
    },
    {
     "name": "stderr",
     "output_type": "stream",
     "text": [
      "Epoch [1/15]:  79%|███████▉  | 82/104 [00:42<00:11,  1.97it/s, Loss=0.669]"
     ]
    },
    {
     "name": "stdout",
     "output_type": "stream",
     "text": [
      "✅ Loaded BraTS19_TCIA03_138_1: Image torch.Size([3, 224, 224]), Mask torch.Size([224, 224])\n",
      "✅ Loaded BraTS19_CBICA_AQA_1: Image torch.Size([3, 224, 224]), Mask torch.Size([224, 224])\n"
     ]
    },
    {
     "name": "stderr",
     "output_type": "stream",
     "text": [
      "Epoch [1/15]:  80%|███████▉  | 83/104 [00:43<00:10,  1.94it/s, Loss=0.531]"
     ]
    },
    {
     "name": "stdout",
     "output_type": "stream",
     "text": [
      "✅ Loaded BraTS19_CBICA_BJY_1: Image torch.Size([3, 224, 224]), Mask torch.Size([224, 224])\n",
      "✅ Loaded BraTS19_CBICA_AVG_1: Image torch.Size([3, 224, 224]), Mask torch.Size([224, 224])\n"
     ]
    },
    {
     "name": "stderr",
     "output_type": "stream",
     "text": [
      "Epoch [1/15]:  81%|████████  | 84/104 [00:43<00:10,  1.92it/s, Loss=0.467]"
     ]
    },
    {
     "name": "stdout",
     "output_type": "stream",
     "text": [
      "✅ Loaded BraTS19_TCIA02_168_1: Image torch.Size([3, 224, 224]), Mask torch.Size([224, 224])\n",
      "✅ Loaded BraTS19_CBICA_BAN_1: Image torch.Size([3, 224, 224]), Mask torch.Size([224, 224])\n"
     ]
    },
    {
     "name": "stderr",
     "output_type": "stream",
     "text": [
      "Epoch [1/15]:  82%|████████▏ | 85/104 [00:44<00:09,  1.90it/s, Loss=0.426]"
     ]
    },
    {
     "name": "stdout",
     "output_type": "stream",
     "text": [
      "✅ Loaded BraTS19_2013_11_1: Image torch.Size([3, 224, 224]), Mask torch.Size([224, 224])\n",
      "✅ Loaded BraTS19_CBICA_AYU_1: Image torch.Size([3, 224, 224]), Mask torch.Size([224, 224])\n"
     ]
    },
    {
     "name": "stderr",
     "output_type": "stream",
     "text": [
      "Epoch [1/15]:  83%|████████▎ | 86/104 [00:45<00:09,  1.86it/s, Loss=0.745]"
     ]
    },
    {
     "name": "stdout",
     "output_type": "stream",
     "text": [
      "✅ Loaded BraTS19_2013_21_1: Image torch.Size([3, 224, 224]), Mask torch.Size([224, 224])\n",
      "✅ Loaded BraTS19_TCIA02_430_1: Image torch.Size([3, 224, 224]), Mask torch.Size([224, 224])\n"
     ]
    },
    {
     "name": "stderr",
     "output_type": "stream",
     "text": [
      "Epoch [1/15]:  84%|████████▎ | 87/104 [00:45<00:09,  1.88it/s, Loss=0.376]"
     ]
    },
    {
     "name": "stdout",
     "output_type": "stream",
     "text": [
      "✅ Loaded BraTS19_TCIA01_221_1: Image torch.Size([3, 224, 224]), Mask torch.Size([224, 224])\n",
      "✅ Loaded BraTS19_TCIA03_296_1: Image torch.Size([3, 224, 224]), Mask torch.Size([224, 224])\n"
     ]
    },
    {
     "name": "stderr",
     "output_type": "stream",
     "text": [
      "Epoch [1/15]:  85%|████████▍ | 88/104 [00:46<00:08,  1.88it/s, Loss=0.387]"
     ]
    },
    {
     "name": "stdout",
     "output_type": "stream",
     "text": [
      "✅ Loaded BraTS19_CBICA_BHB_1: Image torch.Size([3, 224, 224]), Mask torch.Size([224, 224])\n",
      "✅ Loaded BraTS19_CBICA_BCF_1: Image torch.Size([3, 224, 224]), Mask torch.Size([224, 224])\n"
     ]
    },
    {
     "name": "stderr",
     "output_type": "stream",
     "text": [
      "Epoch [1/15]:  86%|████████▌ | 89/104 [00:46<00:08,  1.86it/s, Loss=0.752]"
     ]
    },
    {
     "name": "stdout",
     "output_type": "stream",
     "text": [
      "✅ Loaded BraTS19_TCIA02_473_1: Image torch.Size([3, 224, 224]), Mask torch.Size([224, 224])\n",
      "✅ Loaded BraTS19_CBICA_AXM_1: Image torch.Size([3, 224, 224]), Mask torch.Size([224, 224])\n"
     ]
    },
    {
     "name": "stderr",
     "output_type": "stream",
     "text": [
      "Epoch [1/15]:  87%|████████▋ | 90/104 [00:47<00:07,  1.87it/s, Loss=0.263]"
     ]
    },
    {
     "name": "stdout",
     "output_type": "stream",
     "text": [
      "✅ Loaded BraTS19_2013_12_1: Image torch.Size([3, 224, 224]), Mask torch.Size([224, 224])\n",
      "✅ Loaded BraTS19_CBICA_BGE_1: Image torch.Size([3, 224, 224]), Mask torch.Size([224, 224])\n"
     ]
    },
    {
     "name": "stderr",
     "output_type": "stream",
     "text": [
      "Epoch [1/15]:  88%|████████▊ | 91/104 [00:47<00:06,  1.87it/s, Loss=0.39] "
     ]
    },
    {
     "name": "stdout",
     "output_type": "stream",
     "text": [
      "✅ Loaded BraTS19_CBICA_BHQ_1: Image torch.Size([3, 224, 224]), Mask torch.Size([224, 224])\n",
      "✅ Loaded BraTS19_CBICA_AXQ_1: Image torch.Size([3, 224, 224]), Mask torch.Size([224, 224])\n"
     ]
    },
    {
     "name": "stderr",
     "output_type": "stream",
     "text": [
      "Epoch [1/15]:  88%|████████▊ | 92/104 [00:48<00:06,  1.86it/s, Loss=0.617]"
     ]
    },
    {
     "name": "stdout",
     "output_type": "stream",
     "text": [
      "✅ Loaded BraTS19_TCIA08_167_1: Image torch.Size([3, 224, 224]), Mask torch.Size([224, 224])\n",
      "✅ Loaded BraTS19_TCIA01_150_1: Image torch.Size([3, 224, 224]), Mask torch.Size([224, 224])\n"
     ]
    },
    {
     "name": "stderr",
     "output_type": "stream",
     "text": [
      "Epoch [1/15]:  89%|████████▉ | 93/104 [00:48<00:05,  1.85it/s, Loss=0.246]"
     ]
    },
    {
     "name": "stdout",
     "output_type": "stream",
     "text": [
      "✅ Loaded BraTS19_TMC_15477_1: Image torch.Size([3, 224, 224]), Mask torch.Size([224, 224])\n",
      "✅ Loaded BraTS19_2013_26_1: Image torch.Size([3, 224, 224]), Mask torch.Size([224, 224])\n"
     ]
    },
    {
     "name": "stderr",
     "output_type": "stream",
     "text": [
      "Epoch [1/15]:  90%|█████████ | 94/104 [00:49<00:05,  1.80it/s, Loss=0.761]"
     ]
    },
    {
     "name": "stdout",
     "output_type": "stream",
     "text": [
      "✅ Loaded BraTS19_TMC_30014_1: Image torch.Size([3, 224, 224]), Mask torch.Size([224, 224])\n",
      "✅ Loaded BraTS19_TCIA04_437_1: Image torch.Size([3, 224, 224]), Mask torch.Size([224, 224])\n"
     ]
    },
    {
     "name": "stderr",
     "output_type": "stream",
     "text": [
      "Epoch [1/15]:  91%|█████████▏| 95/104 [00:49<00:04,  1.84it/s, Loss=0.476]"
     ]
    },
    {
     "name": "stdout",
     "output_type": "stream",
     "text": [
      "✅ Loaded BraTS19_TCIA03_199_1: Image torch.Size([3, 224, 224]), Mask torch.Size([224, 224])\n",
      "✅ Loaded BraTS19_CBICA_AOC_1: Image torch.Size([3, 224, 224]), Mask torch.Size([224, 224])\n"
     ]
    },
    {
     "name": "stderr",
     "output_type": "stream",
     "text": [
      "Epoch [1/15]:  92%|█████████▏| 96/104 [00:50<00:04,  1.84it/s, Loss=0.188]"
     ]
    },
    {
     "name": "stdout",
     "output_type": "stream",
     "text": [
      "✅ Loaded BraTS19_2013_19_1: Image torch.Size([3, 224, 224]), Mask torch.Size([224, 224])\n",
      "✅ Loaded BraTS19_CBICA_AQJ_1: Image torch.Size([3, 224, 224]), Mask torch.Size([224, 224])\n"
     ]
    },
    {
     "name": "stderr",
     "output_type": "stream",
     "text": [
      "Epoch [1/15]:  93%|█████████▎| 97/104 [00:51<00:03,  1.84it/s, Loss=0.377]"
     ]
    },
    {
     "name": "stdout",
     "output_type": "stream",
     "text": [
      "✅ Loaded BraTS19_TCIA01_425_1: Image torch.Size([3, 224, 224]), Mask torch.Size([224, 224])\n",
      "✅ Loaded BraTS19_TMC_11964_1: Image torch.Size([3, 224, 224]), Mask torch.Size([224, 224])\n"
     ]
    },
    {
     "name": "stderr",
     "output_type": "stream",
     "text": [
      "Epoch [1/15]:  94%|█████████▍| 98/104 [00:51<00:03,  1.85it/s, Loss=0.305]"
     ]
    },
    {
     "name": "stdout",
     "output_type": "stream",
     "text": [
      "✅ Loaded BraTS19_TCIA02_300_1: Image torch.Size([3, 224, 224]), Mask torch.Size([224, 224])\n",
      "✅ Loaded BraTS19_CBICA_APR_1: Image torch.Size([3, 224, 224]), Mask torch.Size([224, 224])\n"
     ]
    },
    {
     "name": "stderr",
     "output_type": "stream",
     "text": [
      "Epoch [1/15]:  95%|█████████▌| 99/104 [00:52<00:02,  1.87it/s, Loss=0.225]"
     ]
    },
    {
     "name": "stdout",
     "output_type": "stream",
     "text": [
      "✅ Loaded BraTS19_CBICA_AMH_1: Image torch.Size([3, 224, 224]), Mask torch.Size([224, 224])\n",
      "✅ Loaded BraTS19_TCIA06_165_1: Image torch.Size([3, 224, 224]), Mask torch.Size([224, 224])\n"
     ]
    },
    {
     "name": "stderr",
     "output_type": "stream",
     "text": [
      "Epoch [1/15]:  96%|█████████▌| 100/104 [00:52<00:02,  1.88it/s, Loss=0.522]"
     ]
    },
    {
     "name": "stdout",
     "output_type": "stream",
     "text": [
      "✅ Loaded BraTS19_TCIA01_201_1: Image torch.Size([3, 224, 224]), Mask torch.Size([224, 224])\n",
      "✅ Loaded BraTS19_CBICA_AQZ_1: Image torch.Size([3, 224, 224]), Mask torch.Size([224, 224])\n"
     ]
    },
    {
     "name": "stderr",
     "output_type": "stream",
     "text": [
      "Epoch [1/15]:  97%|█████████▋| 101/104 [00:53<00:01,  1.89it/s, Loss=0.392]"
     ]
    },
    {
     "name": "stdout",
     "output_type": "stream",
     "text": [
      "✅ Loaded BraTS19_2013_5_1: Image torch.Size([3, 224, 224]), Mask torch.Size([224, 224])\n",
      "✅ Loaded BraTS19_CBICA_ABY_1: Image torch.Size([3, 224, 224]), Mask torch.Size([224, 224])\n"
     ]
    },
    {
     "name": "stderr",
     "output_type": "stream",
     "text": [
      "Epoch [1/15]:  98%|█████████▊| 102/104 [00:53<00:01,  1.89it/s, Loss=0.434]"
     ]
    },
    {
     "name": "stdout",
     "output_type": "stream",
     "text": [
      "✅ Loaded BraTS19_CBICA_ATX_1: Image torch.Size([3, 224, 224]), Mask torch.Size([224, 224])\n",
      "✅ Loaded BraTS19_TCIA08_234_1: Image torch.Size([3, 224, 224]), Mask torch.Size([224, 224])\n"
     ]
    },
    {
     "name": "stderr",
     "output_type": "stream",
     "text": [
      "Epoch [1/15]:  99%|█████████▉| 103/104 [00:54<00:00,  1.86it/s, Loss=0.332]"
     ]
    },
    {
     "name": "stdout",
     "output_type": "stream",
     "text": [
      "✅ Loaded BraTS19_CBICA_ATP_1: Image torch.Size([3, 224, 224]), Mask torch.Size([224, 224])\n"
     ]
    },
    {
     "name": "stderr",
     "output_type": "stream",
     "text": [
      "                                                                           \r"
     ]
    },
    {
     "name": "stdout",
     "output_type": "stream",
     "text": [
      "\n",
      "✅ Epoch 1: Train Loss: 0.4446\n",
      "💾 Saved model at epoch 1 with train loss 0.4446\n"
     ]
    },
    {
     "name": "stderr",
     "output_type": "stream",
     "text": [
      "Epoch [2/15]:   0%|          | 0/104 [00:00<?, ?it/s]"
     ]
    },
    {
     "name": "stdout",
     "output_type": "stream",
     "text": [
      "✅ Loaded BraTS19_2013_13_1: Image torch.Size([3, 224, 224]), Mask torch.Size([224, 224])\n",
      "✅ Loaded BraTS19_TCIA06_409_1: Image torch.Size([3, 224, 224]), Mask torch.Size([224, 224])\n"
     ]
    },
    {
     "name": "stderr",
     "output_type": "stream",
     "text": [
      "Epoch [2/15]:   1%|          | 1/104 [00:00<00:56,  1.82it/s, Loss=0.508]"
     ]
    },
    {
     "name": "stdout",
     "output_type": "stream",
     "text": [
      "✅ Loaded BraTS19_TCIA01_190_1: Image torch.Size([3, 224, 224]), Mask torch.Size([224, 224])\n",
      "✅ Loaded BraTS19_CBICA_AXO_1: Image torch.Size([3, 224, 224]), Mask torch.Size([224, 224])\n"
     ]
    },
    {
     "name": "stderr",
     "output_type": "stream",
     "text": [
      "Epoch [2/15]:   2%|▏         | 2/104 [00:01<00:55,  1.85it/s, Loss=0.55] "
     ]
    },
    {
     "name": "stdout",
     "output_type": "stream",
     "text": [
      "✅ Loaded BraTS19_CBICA_AOS_1: Image torch.Size([3, 224, 224]), Mask torch.Size([224, 224])\n",
      "✅ Loaded BraTS19_CBICA_AQP_1: Image torch.Size([3, 224, 224]), Mask torch.Size([224, 224])\n"
     ]
    },
    {
     "name": "stderr",
     "output_type": "stream",
     "text": [
      "Epoch [2/15]:   3%|▎         | 3/104 [00:01<00:55,  1.84it/s, Loss=0.364]"
     ]
    },
    {
     "name": "stdout",
     "output_type": "stream",
     "text": [
      "✅ Loaded BraTS19_2013_19_1: Image torch.Size([3, 224, 224]), Mask torch.Size([224, 224])\n",
      "✅ Loaded BraTS19_2013_26_1: Image torch.Size([3, 224, 224]), Mask torch.Size([224, 224])\n"
     ]
    },
    {
     "name": "stderr",
     "output_type": "stream",
     "text": [
      "Epoch [2/15]:   4%|▍         | 4/104 [00:02<00:54,  1.85it/s, Loss=0.282]"
     ]
    },
    {
     "name": "stdout",
     "output_type": "stream",
     "text": [
      "✅ Loaded BraTS19_TCIA08_469_1: Image torch.Size([3, 224, 224]), Mask torch.Size([224, 224])\n",
      "✅ Loaded BraTS19_TCIA04_437_1: Image torch.Size([3, 224, 224]), Mask torch.Size([224, 224])\n"
     ]
    },
    {
     "name": "stderr",
     "output_type": "stream",
     "text": [
      "Epoch [2/15]:   5%|▍         | 5/104 [00:02<00:53,  1.86it/s, Loss=0.464]"
     ]
    },
    {
     "name": "stdout",
     "output_type": "stream",
     "text": [
      "✅ Loaded BraTS19_CBICA_APK_1: Image torch.Size([3, 224, 224]), Mask torch.Size([224, 224])\n",
      "✅ Loaded BraTS19_CBICA_AAG_1: Image torch.Size([3, 224, 224]), Mask torch.Size([224, 224])\n"
     ]
    },
    {
     "name": "stderr",
     "output_type": "stream",
     "text": [
      "Epoch [2/15]:   6%|▌         | 6/104 [00:03<00:54,  1.79it/s, Loss=0.329]"
     ]
    },
    {
     "name": "stdout",
     "output_type": "stream",
     "text": [
      "✅ Loaded BraTS19_TCIA01_460_1: Image torch.Size([3, 224, 224]), Mask torch.Size([224, 224])\n",
      "✅ Loaded BraTS19_CBICA_AQJ_1: Image torch.Size([3, 224, 224]), Mask torch.Size([224, 224])\n"
     ]
    },
    {
     "name": "stderr",
     "output_type": "stream",
     "text": [
      "Epoch [2/15]:   7%|▋         | 7/104 [00:03<00:52,  1.85it/s, Loss=0.404]"
     ]
    },
    {
     "name": "stdout",
     "output_type": "stream",
     "text": [
      "✅ Loaded BraTS19_CBICA_BGE_1: Image torch.Size([3, 224, 224]), Mask torch.Size([224, 224])\n",
      "✅ Loaded BraTS19_CBICA_ATX_1: Image torch.Size([3, 224, 224]), Mask torch.Size([224, 224])\n"
     ]
    },
    {
     "name": "stderr",
     "output_type": "stream",
     "text": [
      "Epoch [2/15]:   8%|▊         | 8/104 [00:04<00:50,  1.92it/s, Loss=0.36] "
     ]
    },
    {
     "name": "stdout",
     "output_type": "stream",
     "text": [
      "✅ Loaded BraTS19_TCIA01_425_1: Image torch.Size([3, 224, 224]), Mask torch.Size([224, 224])\n",
      "✅ Loaded BraTS19_CBICA_AUW_1: Image torch.Size([3, 224, 224]), Mask torch.Size([224, 224])\n"
     ]
    },
    {
     "name": "stderr",
     "output_type": "stream",
     "text": [
      "Epoch [2/15]:   9%|▊         | 9/104 [00:04<00:49,  1.93it/s, Loss=0.281]"
     ]
    },
    {
     "name": "stdout",
     "output_type": "stream",
     "text": [
      "✅ Loaded BraTS19_TCIA06_603_1: Image torch.Size([3, 224, 224]), Mask torch.Size([224, 224])\n",
      "✅ Loaded BraTS19_TCIA08_406_1: Image torch.Size([3, 224, 224]), Mask torch.Size([224, 224])\n"
     ]
    },
    {
     "name": "stderr",
     "output_type": "stream",
     "text": [
      "Epoch [2/15]:  10%|▉         | 10/104 [00:05<00:48,  1.93it/s, Loss=0.295]"
     ]
    },
    {
     "name": "stdout",
     "output_type": "stream",
     "text": [
      "✅ Loaded BraTS19_TCIA03_138_1: Image torch.Size([3, 224, 224]), Mask torch.Size([224, 224])\n",
      "✅ Loaded BraTS19_CBICA_AUR_1: Image torch.Size([3, 224, 224]), Mask torch.Size([224, 224])\n"
     ]
    },
    {
     "name": "stderr",
     "output_type": "stream",
     "text": [
      "Epoch [2/15]:  11%|█         | 11/104 [00:05<00:49,  1.89it/s, Loss=0.708]"
     ]
    },
    {
     "name": "stdout",
     "output_type": "stream",
     "text": [
      "✅ Loaded BraTS19_CBICA_BHV_1: Image torch.Size([3, 224, 224]), Mask torch.Size([224, 224])\n",
      "✅ Loaded BraTS19_TMC_21360_1: Image torch.Size([3, 224, 224]), Mask torch.Size([224, 224])\n"
     ]
    },
    {
     "name": "stderr",
     "output_type": "stream",
     "text": [
      "Epoch [2/15]:  12%|█▏        | 12/104 [00:06<00:49,  1.87it/s, Loss=0.363]"
     ]
    },
    {
     "name": "stdout",
     "output_type": "stream",
     "text": [
      "✅ Loaded BraTS19_CBICA_BFB_1: Image torch.Size([3, 224, 224]), Mask torch.Size([224, 224])\n",
      "✅ Loaded BraTS19_CBICA_AQU_1: Image torch.Size([3, 224, 224]), Mask torch.Size([224, 224])\n"
     ]
    },
    {
     "name": "stderr",
     "output_type": "stream",
     "text": [
      "Epoch [2/15]:  12%|█▎        | 13/104 [00:06<00:47,  1.91it/s, Loss=0.456]"
     ]
    },
    {
     "name": "stdout",
     "output_type": "stream",
     "text": [
      "✅ Loaded BraTS19_CBICA_BLJ_1: Image torch.Size([3, 224, 224]), Mask torch.Size([224, 224])\n",
      "✅ Loaded BraTS19_CBICA_ASA_1: Image torch.Size([3, 224, 224]), Mask torch.Size([224, 224])\n"
     ]
    },
    {
     "name": "stderr",
     "output_type": "stream",
     "text": [
      "Epoch [2/15]:  13%|█▎        | 14/104 [00:07<00:46,  1.92it/s, Loss=0.427]"
     ]
    },
    {
     "name": "stdout",
     "output_type": "stream",
     "text": [
      "✅ Loaded BraTS19_TCIA08_113_1: Image torch.Size([3, 224, 224]), Mask torch.Size([224, 224])\n",
      "✅ Loaded BraTS19_CBICA_ASK_1: Image torch.Size([3, 224, 224]), Mask torch.Size([224, 224])\n"
     ]
    },
    {
     "name": "stderr",
     "output_type": "stream",
     "text": [
      "Epoch [2/15]:  14%|█▍        | 15/104 [00:07<00:45,  1.94it/s, Loss=0.398]"
     ]
    },
    {
     "name": "stdout",
     "output_type": "stream",
     "text": [
      "✅ Loaded BraTS19_TCIA02_314_1: Image torch.Size([3, 224, 224]), Mask torch.Size([224, 224])\n",
      "✅ Loaded BraTS19_TCIA01_499_1: Image torch.Size([3, 224, 224]), Mask torch.Size([224, 224])\n"
     ]
    },
    {
     "name": "stderr",
     "output_type": "stream",
     "text": [
      "Epoch [2/15]:  15%|█▌        | 16/104 [00:08<00:45,  1.95it/s, Loss=0.451]"
     ]
    },
    {
     "name": "stdout",
     "output_type": "stream",
     "text": [
      "✅ Loaded BraTS19_TCIA08_280_1: Image torch.Size([3, 224, 224]), Mask torch.Size([224, 224])\n",
      "✅ Loaded BraTS19_CBICA_ABB_1: Image torch.Size([3, 224, 224]), Mask torch.Size([224, 224])\n"
     ]
    },
    {
     "name": "stderr",
     "output_type": "stream",
     "text": [
      "Epoch [2/15]:  16%|█▋        | 17/104 [00:08<00:44,  1.96it/s, Loss=0.75] "
     ]
    },
    {
     "name": "stdout",
     "output_type": "stream",
     "text": [
      "✅ Loaded BraTS19_CBICA_AUN_1: Image torch.Size([3, 224, 224]), Mask torch.Size([224, 224])\n",
      "✅ Loaded BraTS19_CBICA_ARZ_1: Image torch.Size([3, 224, 224]), Mask torch.Size([224, 224])\n"
     ]
    },
    {
     "name": "stderr",
     "output_type": "stream",
     "text": [
      "Epoch [2/15]:  17%|█▋        | 18/104 [00:09<00:43,  1.98it/s, Loss=0.333]"
     ]
    },
    {
     "name": "stdout",
     "output_type": "stream",
     "text": [
      "✅ Loaded BraTS19_TCIA02_283_1: Image torch.Size([3, 224, 224]), Mask torch.Size([224, 224])\n",
      "✅ Loaded BraTS19_CBICA_BNR_1: Image torch.Size([3, 224, 224]), Mask torch.Size([224, 224])\n"
     ]
    },
    {
     "name": "stderr",
     "output_type": "stream",
     "text": [
      "Epoch [2/15]:  18%|█▊        | 19/104 [00:09<00:43,  1.97it/s, Loss=0.456]"
     ]
    },
    {
     "name": "stdout",
     "output_type": "stream",
     "text": [
      "✅ Loaded BraTS19_TCIA02_321_1: Image torch.Size([3, 224, 224]), Mask torch.Size([224, 224])\n",
      "✅ Loaded BraTS19_CBICA_AXM_1: Image torch.Size([3, 224, 224]), Mask torch.Size([224, 224])\n"
     ]
    },
    {
     "name": "stderr",
     "output_type": "stream",
     "text": [
      "Epoch [2/15]:  19%|█▉        | 20/104 [00:10<00:43,  1.94it/s, Loss=0.277]"
     ]
    },
    {
     "name": "stdout",
     "output_type": "stream",
     "text": [
      "✅ Loaded BraTS19_TCIA04_328_1: Image torch.Size([3, 224, 224]), Mask torch.Size([224, 224])\n",
      "✅ Loaded BraTS19_TCIA03_296_1: Image torch.Size([3, 224, 224]), Mask torch.Size([224, 224])\n"
     ]
    },
    {
     "name": "stderr",
     "output_type": "stream",
     "text": [
      "Epoch [2/15]:  20%|██        | 21/104 [00:11<00:43,  1.90it/s, Loss=0.324]"
     ]
    },
    {
     "name": "stdout",
     "output_type": "stream",
     "text": [
      "✅ Loaded BraTS19_TCIA08_167_1: Image torch.Size([3, 224, 224]), Mask torch.Size([224, 224])\n",
      "✅ Loaded BraTS19_CBICA_ANP_1: Image torch.Size([3, 224, 224]), Mask torch.Size([224, 224])\n"
     ]
    },
    {
     "name": "stderr",
     "output_type": "stream",
     "text": [
      "Epoch [2/15]:  21%|██        | 22/104 [00:11<00:42,  1.91it/s, Loss=0.241]"
     ]
    },
    {
     "name": "stdout",
     "output_type": "stream",
     "text": [
      "✅ Loaded BraTS19_CBICA_ATV_1: Image torch.Size([3, 224, 224]), Mask torch.Size([224, 224])\n",
      "✅ Loaded BraTS19_CBICA_AQA_1: Image torch.Size([3, 224, 224]), Mask torch.Size([224, 224])\n"
     ]
    },
    {
     "name": "stderr",
     "output_type": "stream",
     "text": [
      "Epoch [2/15]:  22%|██▏       | 23/104 [00:12<00:42,  1.92it/s, Loss=0.273]"
     ]
    },
    {
     "name": "stdout",
     "output_type": "stream",
     "text": [
      "✅ Loaded BraTS19_CBICA_BGG_1: Image torch.Size([3, 224, 224]), Mask torch.Size([224, 224])\n",
      "✅ Loaded BraTS19_TCIA01_335_1: Image torch.Size([3, 224, 224]), Mask torch.Size([224, 224])\n"
     ]
    },
    {
     "name": "stderr",
     "output_type": "stream",
     "text": [
      "Epoch [2/15]:  23%|██▎       | 24/104 [00:12<00:41,  1.91it/s, Loss=0.322]"
     ]
    },
    {
     "name": "stdout",
     "output_type": "stream",
     "text": [
      "✅ Loaded BraTS19_CBICA_BAN_1: Image torch.Size([3, 224, 224]), Mask torch.Size([224, 224])\n",
      "✅ Loaded BraTS19_TCIA02_331_1: Image torch.Size([3, 224, 224]), Mask torch.Size([224, 224])\n"
     ]
    },
    {
     "name": "stderr",
     "output_type": "stream",
     "text": [
      "Epoch [2/15]:  24%|██▍       | 25/104 [00:13<00:41,  1.92it/s, Loss=0.398]"
     ]
    },
    {
     "name": "stdout",
     "output_type": "stream",
     "text": [
      "✅ Loaded BraTS19_TCIA02_226_1: Image torch.Size([3, 224, 224]), Mask torch.Size([224, 224])\n",
      "✅ Loaded BraTS19_CBICA_ARF_1: Image torch.Size([3, 224, 224]), Mask torch.Size([224, 224])\n"
     ]
    },
    {
     "name": "stderr",
     "output_type": "stream",
     "text": [
      "Epoch [2/15]:  25%|██▌       | 26/104 [00:13<00:40,  1.92it/s, Loss=0.274]"
     ]
    },
    {
     "name": "stdout",
     "output_type": "stream",
     "text": [
      "✅ Loaded BraTS19_TCIA08_205_1: Image torch.Size([3, 224, 224]), Mask torch.Size([224, 224])\n",
      "✅ Loaded BraTS19_CBICA_AXQ_1: Image torch.Size([3, 224, 224]), Mask torch.Size([224, 224])\n"
     ]
    },
    {
     "name": "stderr",
     "output_type": "stream",
     "text": [
      "Epoch [2/15]:  26%|██▌       | 27/104 [00:14<00:40,  1.91it/s, Loss=0.374]"
     ]
    },
    {
     "name": "stdout",
     "output_type": "stream",
     "text": [
      "✅ Loaded BraTS19_CBICA_ASN_1: Image torch.Size([3, 224, 224]), Mask torch.Size([224, 224])\n",
      "✅ Loaded BraTS19_CBICA_AXW_1: Image torch.Size([3, 224, 224]), Mask torch.Size([224, 224])\n"
     ]
    },
    {
     "name": "stderr",
     "output_type": "stream",
     "text": [
      "Epoch [2/15]:  27%|██▋       | 28/104 [00:14<00:40,  1.90it/s, Loss=0.365]"
     ]
    },
    {
     "name": "stdout",
     "output_type": "stream",
     "text": [
      "✅ Loaded BraTS19_TCIA02_368_1: Image torch.Size([3, 224, 224]), Mask torch.Size([224, 224])\n",
      "✅ Loaded BraTS19_TCIA04_361_1: Image torch.Size([3, 224, 224]), Mask torch.Size([224, 224])\n"
     ]
    },
    {
     "name": "stderr",
     "output_type": "stream",
     "text": [
      "Epoch [2/15]:  28%|██▊       | 29/104 [00:15<00:38,  1.92it/s, Loss=0.393]"
     ]
    },
    {
     "name": "stdout",
     "output_type": "stream",
     "text": [
      "✅ Loaded BraTS19_CBICA_ASV_1: Image torch.Size([3, 224, 224]), Mask torch.Size([224, 224])\n",
      "✅ Loaded BraTS19_CBICA_AWH_1: Image torch.Size([3, 224, 224]), Mask torch.Size([224, 224])\n"
     ]
    },
    {
     "name": "stderr",
     "output_type": "stream",
     "text": [
      "Epoch [2/15]:  29%|██▉       | 30/104 [00:15<00:38,  1.91it/s, Loss=0.367]"
     ]
    },
    {
     "name": "stdout",
     "output_type": "stream",
     "text": [
      "✅ Loaded BraTS19_CBICA_BHZ_1: Image torch.Size([3, 224, 224]), Mask torch.Size([224, 224])\n",
      "✅ Loaded BraTS19_TMC_12866_1: Image torch.Size([3, 224, 224]), Mask torch.Size([224, 224])\n"
     ]
    },
    {
     "name": "stderr",
     "output_type": "stream",
     "text": [
      "Epoch [2/15]:  30%|██▉       | 31/104 [00:16<00:37,  1.92it/s, Loss=0.241]"
     ]
    },
    {
     "name": "stdout",
     "output_type": "stream",
     "text": [
      "✅ Loaded BraTS19_CBICA_BFP_1: Image torch.Size([3, 224, 224]), Mask torch.Size([224, 224])\n",
      "✅ Loaded BraTS19_TCIA01_147_1: Image torch.Size([3, 224, 224]), Mask torch.Size([224, 224])\n"
     ]
    },
    {
     "name": "stderr",
     "output_type": "stream",
     "text": [
      "Epoch [2/15]:  31%|███       | 32/104 [00:16<00:38,  1.86it/s, Loss=0.215]"
     ]
    },
    {
     "name": "stdout",
     "output_type": "stream",
     "text": [
      "✅ Loaded BraTS19_CBICA_AMH_1: Image torch.Size([3, 224, 224]), Mask torch.Size([224, 224])\n",
      "✅ Loaded BraTS19_CBICA_AQG_1: Image torch.Size([3, 224, 224]), Mask torch.Size([224, 224])\n"
     ]
    },
    {
     "name": "stderr",
     "output_type": "stream",
     "text": [
      "Epoch [2/15]:  32%|███▏      | 33/104 [00:17<00:38,  1.86it/s, Loss=0.398]"
     ]
    },
    {
     "name": "stdout",
     "output_type": "stream",
     "text": [
      "✅ Loaded BraTS19_CBICA_AYU_1: Image torch.Size([3, 224, 224]), Mask torch.Size([224, 224])\n",
      "✅ Loaded BraTS19_TCIA06_165_1: Image torch.Size([3, 224, 224]), Mask torch.Size([224, 224])\n"
     ]
    },
    {
     "name": "stderr",
     "output_type": "stream",
     "text": [
      "Epoch [2/15]:  33%|███▎      | 34/104 [00:17<00:37,  1.88it/s, Loss=0.387]"
     ]
    },
    {
     "name": "stdout",
     "output_type": "stream",
     "text": [
      "✅ Loaded BraTS19_CBICA_ANZ_1: Image torch.Size([3, 224, 224]), Mask torch.Size([224, 224])\n",
      "✅ Loaded BraTS19_CBICA_AOC_1: Image torch.Size([3, 224, 224]), Mask torch.Size([224, 224])\n"
     ]
    },
    {
     "name": "stderr",
     "output_type": "stream",
     "text": [
      "Epoch [2/15]:  34%|███▎      | 35/104 [00:18<00:36,  1.90it/s, Loss=0.319]"
     ]
    },
    {
     "name": "stdout",
     "output_type": "stream",
     "text": [
      "✅ Loaded BraTS19_CBICA_AQD_1: Image torch.Size([3, 224, 224]), Mask torch.Size([224, 224])\n",
      "✅ Loaded BraTS19_TCIA01_201_1: Image torch.Size([3, 224, 224]), Mask torch.Size([224, 224])\n"
     ]
    },
    {
     "name": "stderr",
     "output_type": "stream",
     "text": [
      "Epoch [2/15]:  35%|███▍      | 36/104 [00:18<00:35,  1.90it/s, Loss=0.37] "
     ]
    },
    {
     "name": "stdout",
     "output_type": "stream",
     "text": [
      "✅ Loaded BraTS19_TCIA03_338_1: Image torch.Size([3, 224, 224]), Mask torch.Size([224, 224])\n",
      "✅ Loaded BraTS19_TCIA01_411_1: Image torch.Size([3, 224, 224]), Mask torch.Size([224, 224])\n"
     ]
    },
    {
     "name": "stderr",
     "output_type": "stream",
     "text": [
      "Epoch [2/15]:  36%|███▌      | 37/104 [00:19<00:34,  1.92it/s, Loss=0.752]"
     ]
    },
    {
     "name": "stdout",
     "output_type": "stream",
     "text": [
      "✅ Loaded BraTS19_CBICA_AQV_1: Image torch.Size([3, 224, 224]), Mask torch.Size([224, 224])\n",
      "✅ Loaded BraTS19_CBICA_BEM_1: Image torch.Size([3, 224, 224]), Mask torch.Size([224, 224])\n"
     ]
    },
    {
     "name": "stderr",
     "output_type": "stream",
     "text": [
      "Epoch [2/15]:  37%|███▋      | 38/104 [00:19<00:34,  1.92it/s, Loss=0.36] "
     ]
    },
    {
     "name": "stdout",
     "output_type": "stream",
     "text": [
      "✅ Loaded BraTS19_TCIA02_309_1: Image torch.Size([3, 224, 224]), Mask torch.Size([224, 224])\n",
      "✅ Loaded BraTS19_2013_4_1: Image torch.Size([3, 224, 224]), Mask torch.Size([224, 224])\n"
     ]
    },
    {
     "name": "stderr",
     "output_type": "stream",
     "text": [
      "Epoch [2/15]:  38%|███▊      | 39/104 [00:20<00:33,  1.92it/s, Loss=0.385]"
     ]
    },
    {
     "name": "stdout",
     "output_type": "stream",
     "text": [
      "✅ Loaded BraTS19_CBICA_AZH_1: Image torch.Size([3, 224, 224]), Mask torch.Size([224, 224])\n",
      "✅ Loaded BraTS19_TCIA01_448_1: Image torch.Size([3, 224, 224]), Mask torch.Size([224, 224])\n"
     ]
    },
    {
     "name": "stderr",
     "output_type": "stream",
     "text": [
      "Epoch [2/15]:  38%|███▊      | 40/104 [00:20<00:33,  1.92it/s, Loss=0.423]"
     ]
    },
    {
     "name": "stdout",
     "output_type": "stream",
     "text": [
      "✅ Loaded BraTS19_TCIA05_444_1: Image torch.Size([3, 224, 224]), Mask torch.Size([224, 224])\n",
      "✅ Loaded BraTS19_TCIA01_180_1: Image torch.Size([3, 224, 224]), Mask torch.Size([224, 224])\n"
     ]
    },
    {
     "name": "stderr",
     "output_type": "stream",
     "text": [
      "Epoch [2/15]:  39%|███▉      | 41/104 [00:21<00:32,  1.93it/s, Loss=0.479]"
     ]
    },
    {
     "name": "stdout",
     "output_type": "stream",
     "text": [
      "✅ Loaded BraTS19_TCIA08_234_1: Image torch.Size([3, 224, 224]), Mask torch.Size([224, 224])\n",
      "✅ Loaded BraTS19_2013_12_1: Image torch.Size([3, 224, 224]), Mask torch.Size([224, 224])\n"
     ]
    },
    {
     "name": "stderr",
     "output_type": "stream",
     "text": [
      "Epoch [2/15]:  40%|████      | 42/104 [00:22<00:32,  1.93it/s, Loss=0.318]"
     ]
    },
    {
     "name": "stdout",
     "output_type": "stream",
     "text": [
      "✅ Loaded BraTS19_CBICA_ATD_1: Image torch.Size([3, 224, 224]), Mask torch.Size([224, 224])\n",
      "✅ Loaded BraTS19_TCIA02_607_1: Image torch.Size([3, 224, 224]), Mask torch.Size([224, 224])\n"
     ]
    },
    {
     "name": "stderr",
     "output_type": "stream",
     "text": [
      "Epoch [2/15]:  41%|████▏     | 43/104 [00:22<00:31,  1.93it/s, Loss=0.491]"
     ]
    },
    {
     "name": "stdout",
     "output_type": "stream",
     "text": [
      "✅ Loaded BraTS19_CBICA_AQT_1: Image torch.Size([3, 224, 224]), Mask torch.Size([224, 224])\n",
      "✅ Loaded BraTS19_TCIA02_171_1: Image torch.Size([3, 224, 224]), Mask torch.Size([224, 224])\n"
     ]
    },
    {
     "name": "stderr",
     "output_type": "stream",
     "text": [
      "Epoch [2/15]:  42%|████▏     | 44/104 [00:23<00:31,  1.93it/s, Loss=0.324]"
     ]
    },
    {
     "name": "stdout",
     "output_type": "stream",
     "text": [
      "✅ Loaded BraTS19_TCIA06_332_1: Image torch.Size([3, 224, 224]), Mask torch.Size([224, 224])\n",
      "✅ Loaded BraTS19_TCIA08_218_1: Image torch.Size([3, 224, 224]), Mask torch.Size([224, 224])\n"
     ]
    },
    {
     "name": "stderr",
     "output_type": "stream",
     "text": [
      "Epoch [2/15]:  43%|████▎     | 45/104 [00:23<00:30,  1.96it/s, Loss=0.196]"
     ]
    },
    {
     "name": "stdout",
     "output_type": "stream",
     "text": [
      "✅ Loaded BraTS19_TCIA02_605_1: Image torch.Size([3, 224, 224]), Mask torch.Size([224, 224])\n",
      "✅ Loaded BraTS19_CBICA_AQO_1: Image torch.Size([3, 224, 224]), Mask torch.Size([224, 224])\n"
     ]
    },
    {
     "name": "stderr",
     "output_type": "stream",
     "text": [
      "Epoch [2/15]:  44%|████▍     | 46/104 [00:24<00:29,  1.95it/s, Loss=0.584]"
     ]
    },
    {
     "name": "stdout",
     "output_type": "stream",
     "text": [
      "✅ Loaded BraTS19_2013_7_1: Image torch.Size([3, 224, 224]), Mask torch.Size([224, 224])\n",
      "✅ Loaded BraTS19_TCIA05_396_1: Image torch.Size([3, 224, 224]), Mask torch.Size([224, 224])\n"
     ]
    },
    {
     "name": "stderr",
     "output_type": "stream",
     "text": [
      "Epoch [2/15]:  45%|████▌     | 47/104 [00:24<00:29,  1.95it/s, Loss=0.239]"
     ]
    },
    {
     "name": "stdout",
     "output_type": "stream",
     "text": [
      "✅ Loaded BraTS19_2013_27_1: Image torch.Size([3, 224, 224]), Mask torch.Size([224, 224])\n",
      "✅ Loaded BraTS19_CBICA_ALX_1: Image torch.Size([3, 224, 224]), Mask torch.Size([224, 224])\n"
     ]
    },
    {
     "name": "stderr",
     "output_type": "stream",
     "text": [
      "Epoch [2/15]:  46%|████▌     | 48/104 [00:25<00:28,  1.94it/s, Loss=0.325]"
     ]
    },
    {
     "name": "stdout",
     "output_type": "stream",
     "text": [
      "✅ Loaded BraTS19_CBICA_BHB_1: Image torch.Size([3, 224, 224]), Mask torch.Size([224, 224])\n",
      "✅ Loaded BraTS19_CBICA_ASY_1: Image torch.Size([3, 224, 224]), Mask torch.Size([224, 224])\n"
     ]
    },
    {
     "name": "stderr",
     "output_type": "stream",
     "text": [
      "Epoch [2/15]:  47%|████▋     | 49/104 [00:25<00:28,  1.96it/s, Loss=0.312]"
     ]
    },
    {
     "name": "stdout",
     "output_type": "stream",
     "text": [
      "✅ Loaded BraTS19_CBICA_ASU_1: Image torch.Size([3, 224, 224]), Mask torch.Size([224, 224])\n",
      "✅ Loaded BraTS19_TCIA06_184_1: Image torch.Size([3, 224, 224]), Mask torch.Size([224, 224])\n"
     ]
    },
    {
     "name": "stderr",
     "output_type": "stream",
     "text": [
      "Epoch [2/15]:  48%|████▊     | 50/104 [00:26<00:27,  1.93it/s, Loss=0.267]"
     ]
    },
    {
     "name": "stdout",
     "output_type": "stream",
     "text": [
      "✅ Loaded BraTS19_CBICA_AQY_1: Image torch.Size([3, 224, 224]), Mask torch.Size([224, 224])\n",
      "✅ Loaded BraTS19_CBICA_ASE_1: Image torch.Size([3, 224, 224]), Mask torch.Size([224, 224])\n"
     ]
    },
    {
     "name": "stderr",
     "output_type": "stream",
     "text": [
      "Epoch [2/15]:  49%|████▉     | 51/104 [00:26<00:27,  1.95it/s, Loss=0.566]"
     ]
    },
    {
     "name": "stdout",
     "output_type": "stream",
     "text": [
      "✅ Loaded BraTS19_TCIA04_149_1: Image torch.Size([3, 224, 224]), Mask torch.Size([224, 224])\n",
      "✅ Loaded BraTS19_TCIA03_199_1: Image torch.Size([3, 224, 224]), Mask torch.Size([224, 224])\n"
     ]
    },
    {
     "name": "stderr",
     "output_type": "stream",
     "text": [
      "Epoch [2/15]:  50%|█████     | 52/104 [00:27<00:26,  1.95it/s, Loss=0.313]"
     ]
    },
    {
     "name": "stdout",
     "output_type": "stream",
     "text": [
      "✅ Loaded BraTS19_CBICA_BBG_1: Image torch.Size([3, 224, 224]), Mask torch.Size([224, 224])\n",
      "✅ Loaded BraTS19_CBICA_AUA_1: Image torch.Size([3, 224, 224]), Mask torch.Size([224, 224])\n"
     ]
    },
    {
     "name": "stderr",
     "output_type": "stream",
     "text": [
      "Epoch [2/15]:  51%|█████     | 53/104 [00:27<00:26,  1.95it/s, Loss=0.331]"
     ]
    },
    {
     "name": "stdout",
     "output_type": "stream",
     "text": [
      "✅ Loaded BraTS19_TCIA02_377_1: Image torch.Size([3, 224, 224]), Mask torch.Size([224, 224])\n",
      "✅ Loaded BraTS19_CBICA_BKV_1: Image torch.Size([3, 224, 224]), Mask torch.Size([224, 224])\n"
     ]
    },
    {
     "name": "stderr",
     "output_type": "stream",
     "text": [
      "Epoch [2/15]:  52%|█████▏    | 54/104 [00:28<00:26,  1.91it/s, Loss=0.235]"
     ]
    },
    {
     "name": "stdout",
     "output_type": "stream",
     "text": [
      "✅ Loaded BraTS19_TCIA02_455_1: Image torch.Size([3, 224, 224]), Mask torch.Size([224, 224])\n",
      "✅ Loaded BraTS19_CBICA_AUQ_1: Image torch.Size([3, 224, 224]), Mask torch.Size([224, 224])\n"
     ]
    },
    {
     "name": "stderr",
     "output_type": "stream",
     "text": [
      "Epoch [2/15]:  53%|█████▎    | 55/104 [00:28<00:25,  1.94it/s, Loss=0.352]"
     ]
    },
    {
     "name": "stdout",
     "output_type": "stream",
     "text": [
      "✅ Loaded BraTS19_TCIA02_473_1: Image torch.Size([3, 224, 224]), Mask torch.Size([224, 224])\n",
      "✅ Loaded BraTS19_CBICA_AAL_1: Image torch.Size([3, 224, 224]), Mask torch.Size([224, 224])\n"
     ]
    },
    {
     "name": "stderr",
     "output_type": "stream",
     "text": [
      "Epoch [2/15]:  54%|█████▍    | 56/104 [00:29<00:25,  1.91it/s, Loss=0.417]"
     ]
    },
    {
     "name": "stdout",
     "output_type": "stream",
     "text": [
      "✅ Loaded BraTS19_CBICA_ALU_1: Image torch.Size([3, 224, 224]), Mask torch.Size([224, 224])\n",
      "✅ Loaded BraTS19_2013_5_1: Image torch.Size([3, 224, 224]), Mask torch.Size([224, 224])\n"
     ]
    },
    {
     "name": "stderr",
     "output_type": "stream",
     "text": [
      "Epoch [2/15]:  55%|█████▍    | 57/104 [00:29<00:24,  1.92it/s, Loss=0.37] "
     ]
    },
    {
     "name": "stdout",
     "output_type": "stream",
     "text": [
      "✅ Loaded BraTS19_CBICA_APZ_1: Image torch.Size([3, 224, 224]), Mask torch.Size([224, 224])\n",
      "✅ Loaded BraTS19_CBICA_AQR_1: Image torch.Size([3, 224, 224]), Mask torch.Size([224, 224])\n"
     ]
    },
    {
     "name": "stderr",
     "output_type": "stream",
     "text": [
      "Epoch [2/15]:  56%|█████▌    | 58/104 [00:30<00:23,  1.93it/s, Loss=0.26]"
     ]
    },
    {
     "name": "stdout",
     "output_type": "stream",
     "text": [
      "✅ Loaded BraTS19_CBICA_BGW_1: Image torch.Size([3, 224, 224]), Mask torch.Size([224, 224])\n",
      "✅ Loaded BraTS19_TCIA02_608_1: Image torch.Size([3, 224, 224]), Mask torch.Size([224, 224])\n"
     ]
    },
    {
     "name": "stderr",
     "output_type": "stream",
     "text": [
      "Epoch [2/15]:  57%|█████▋    | 59/104 [00:30<00:23,  1.93it/s, Loss=0.345]"
     ]
    },
    {
     "name": "stdout",
     "output_type": "stream",
     "text": [
      "✅ Loaded BraTS19_TCIA01_131_1: Image torch.Size([3, 224, 224]), Mask torch.Size([224, 224])\n",
      "✅ Loaded BraTS19_CBICA_AWG_1: Image torch.Size([3, 224, 224]), Mask torch.Size([224, 224])\n"
     ]
    },
    {
     "name": "stderr",
     "output_type": "stream",
     "text": [
      "Epoch [2/15]:  58%|█████▊    | 60/104 [00:31<00:22,  1.93it/s, Loss=0.326]"
     ]
    },
    {
     "name": "stdout",
     "output_type": "stream",
     "text": [
      "✅ Loaded BraTS19_TMC_30014_1: Image torch.Size([3, 224, 224]), Mask torch.Size([224, 224])\n",
      "✅ Loaded BraTS19_TCIA02_135_1: Image torch.Size([3, 224, 224]), Mask torch.Size([224, 224])\n"
     ]
    },
    {
     "name": "stderr",
     "output_type": "stream",
     "text": [
      "Epoch [2/15]:  59%|█████▊    | 61/104 [00:31<00:22,  1.92it/s, Loss=0.403]"
     ]
    },
    {
     "name": "stdout",
     "output_type": "stream",
     "text": [
      "✅ Loaded BraTS19_CBICA_AOO_1: Image torch.Size([3, 224, 224]), Mask torch.Size([224, 224])\n",
      "✅ Loaded BraTS19_CBICA_AME_1: Image torch.Size([3, 224, 224]), Mask torch.Size([224, 224])\n"
     ]
    },
    {
     "name": "stderr",
     "output_type": "stream",
     "text": [
      "Epoch [2/15]:  60%|█████▉    | 62/104 [00:32<00:21,  1.93it/s, Loss=0.386]"
     ]
    },
    {
     "name": "stdout",
     "output_type": "stream",
     "text": [
      "✅ Loaded BraTS19_TCIA08_105_1: Image torch.Size([3, 224, 224]), Mask torch.Size([224, 224])\n",
      "✅ Loaded BraTS19_CBICA_BGT_1: Image torch.Size([3, 224, 224]), Mask torch.Size([224, 224])\n"
     ]
    },
    {
     "name": "stderr",
     "output_type": "stream",
     "text": [
      "Epoch [2/15]:  61%|██████    | 63/104 [00:32<00:21,  1.92it/s, Loss=0.366]"
     ]
    },
    {
     "name": "stdout",
     "output_type": "stream",
     "text": [
      "✅ Loaded BraTS19_CBICA_ABY_1: Image torch.Size([3, 224, 224]), Mask torch.Size([224, 224])\n",
      "✅ Loaded BraTS19_2013_25_1: Image torch.Size([3, 224, 224]), Mask torch.Size([224, 224])\n"
     ]
    },
    {
     "name": "stderr",
     "output_type": "stream",
     "text": [
      "Epoch [2/15]:  62%|██████▏   | 64/104 [00:33<00:20,  1.91it/s, Loss=0.438]"
     ]
    },
    {
     "name": "stdout",
     "output_type": "stream",
     "text": [
      "✅ Loaded BraTS19_CBICA_BAP_1: Image torch.Size([3, 224, 224]), Mask torch.Size([224, 224])\n",
      "✅ Loaded BraTS19_TCIA01_429_1: Image torch.Size([3, 224, 224]), Mask torch.Size([224, 224])\n"
     ]
    },
    {
     "name": "stderr",
     "output_type": "stream",
     "text": [
      "Epoch [2/15]:  62%|██████▎   | 65/104 [00:33<00:20,  1.91it/s, Loss=0.233]"
     ]
    },
    {
     "name": "stdout",
     "output_type": "stream",
     "text": [
      "✅ Loaded BraTS19_CBICA_AVB_1: Image torch.Size([3, 224, 224]), Mask torch.Size([224, 224])\n",
      "✅ Loaded BraTS19_CBICA_ASG_1: Image torch.Size([3, 224, 224]), Mask torch.Size([224, 224])\n"
     ]
    },
    {
     "name": "stderr",
     "output_type": "stream",
     "text": [
      "Epoch [2/15]:  63%|██████▎   | 66/104 [00:34<00:20,  1.90it/s, Loss=0.31] "
     ]
    },
    {
     "name": "stdout",
     "output_type": "stream",
     "text": [
      "✅ Loaded BraTS19_CBICA_ANG_1: Image torch.Size([3, 224, 224]), Mask torch.Size([224, 224])\n",
      "✅ Loaded BraTS19_CBICA_BGN_1: Image torch.Size([3, 224, 224]), Mask torch.Size([224, 224])\n"
     ]
    },
    {
     "name": "stderr",
     "output_type": "stream",
     "text": [
      "Epoch [2/15]:  64%|██████▍   | 67/104 [00:34<00:19,  1.91it/s, Loss=0.245]"
     ]
    },
    {
     "name": "stdout",
     "output_type": "stream",
     "text": [
      "✅ Loaded BraTS19_CBICA_AVT_1: Image torch.Size([3, 224, 224]), Mask torch.Size([224, 224])\n",
      "✅ Loaded BraTS19_2013_21_1: Image torch.Size([3, 224, 224]), Mask torch.Size([224, 224])\n"
     ]
    },
    {
     "name": "stderr",
     "output_type": "stream",
     "text": [
      "Epoch [2/15]:  65%|██████▌   | 68/104 [00:35<00:18,  1.91it/s, Loss=0.364]"
     ]
    },
    {
     "name": "stdout",
     "output_type": "stream",
     "text": [
      "✅ Loaded BraTS19_CBICA_AYC_1: Image torch.Size([3, 224, 224]), Mask torch.Size([224, 224])\n",
      "✅ Loaded BraTS19_CBICA_AXJ_1: Image torch.Size([3, 224, 224]), Mask torch.Size([224, 224])\n"
     ]
    },
    {
     "name": "stderr",
     "output_type": "stream",
     "text": [
      "Epoch [2/15]:  66%|██████▋   | 69/104 [00:36<00:18,  1.90it/s, Loss=0.244]"
     ]
    },
    {
     "name": "stdout",
     "output_type": "stream",
     "text": [
      "✅ Loaded BraTS19_TCIA02_117_1: Image torch.Size([3, 224, 224]), Mask torch.Size([224, 224])\n",
      "✅ Loaded BraTS19_TCIA06_211_1: Image torch.Size([3, 224, 224]), Mask torch.Size([224, 224])\n"
     ]
    },
    {
     "name": "stderr",
     "output_type": "stream",
     "text": [
      "Epoch [2/15]:  67%|██████▋   | 70/104 [00:36<00:17,  1.91it/s, Loss=0.442]"
     ]
    },
    {
     "name": "stdout",
     "output_type": "stream",
     "text": [
      "✅ Loaded BraTS19_2013_18_1: Image torch.Size([3, 224, 224]), Mask torch.Size([224, 224])\n",
      "✅ Loaded BraTS19_CBICA_BGX_1: Image torch.Size([3, 224, 224]), Mask torch.Size([224, 224])\n"
     ]
    },
    {
     "name": "stderr",
     "output_type": "stream",
     "text": [
      "Epoch [2/15]:  68%|██████▊   | 71/104 [00:37<00:17,  1.91it/s, Loss=0.285]"
     ]
    },
    {
     "name": "stdout",
     "output_type": "stream",
     "text": [
      "✅ Loaded BraTS19_TCIA02_151_1: Image torch.Size([3, 224, 224]), Mask torch.Size([224, 224])\n",
      "✅ Loaded BraTS19_TCIA02_198_1: Image torch.Size([3, 224, 224]), Mask torch.Size([224, 224])\n"
     ]
    },
    {
     "name": "stderr",
     "output_type": "stream",
     "text": [
      "Epoch [2/15]:  69%|██████▉   | 72/104 [00:37<00:16,  1.91it/s, Loss=0.136]"
     ]
    },
    {
     "name": "stdout",
     "output_type": "stream",
     "text": [
      "✅ Loaded BraTS19_CBICA_AVG_1: Image torch.Size([3, 224, 224]), Mask torch.Size([224, 224])\n",
      "✅ Loaded BraTS19_CBICA_BIC_1: Image torch.Size([3, 224, 224]), Mask torch.Size([224, 224])\n"
     ]
    },
    {
     "name": "stderr",
     "output_type": "stream",
     "text": [
      "Epoch [2/15]:  70%|███████   | 73/104 [00:38<00:16,  1.89it/s, Loss=0.537]"
     ]
    },
    {
     "name": "stdout",
     "output_type": "stream",
     "text": [
      "✅ Loaded BraTS19_CBICA_AYA_1: Image torch.Size([3, 224, 224]), Mask torch.Size([224, 224])\n",
      "✅ Loaded BraTS19_CBICA_AAB_1: Image torch.Size([3, 224, 224]), Mask torch.Size([224, 224])\n"
     ]
    },
    {
     "name": "stderr",
     "output_type": "stream",
     "text": [
      "Epoch [2/15]:  71%|███████   | 74/104 [00:38<00:15,  1.90it/s, Loss=0.451]"
     ]
    },
    {
     "name": "stdout",
     "output_type": "stream",
     "text": [
      "✅ Loaded BraTS19_TCIA03_419_1: Image torch.Size([3, 224, 224]), Mask torch.Size([224, 224])\n",
      "✅ Loaded BraTS19_2013_11_1: Image torch.Size([3, 224, 224]), Mask torch.Size([224, 224])\n"
     ]
    },
    {
     "name": "stderr",
     "output_type": "stream",
     "text": [
      "Epoch [2/15]:  72%|███████▏  | 75/104 [00:39<00:15,  1.89it/s, Loss=0.456]"
     ]
    },
    {
     "name": "stdout",
     "output_type": "stream",
     "text": [
      "✅ Loaded BraTS19_CBICA_ATP_1: Image torch.Size([3, 224, 224]), Mask torch.Size([224, 224])\n",
      "✅ Loaded BraTS19_TCIA01_221_1: Image torch.Size([3, 224, 224]), Mask torch.Size([224, 224])\n"
     ]
    },
    {
     "name": "stderr",
     "output_type": "stream",
     "text": [
      "Epoch [2/15]:  73%|███████▎  | 76/104 [00:39<00:14,  1.88it/s, Loss=0.629]"
     ]
    },
    {
     "name": "stdout",
     "output_type": "stream",
     "text": [
      "✅ Loaded BraTS19_CBICA_AXL_1: Image torch.Size([3, 224, 224]), Mask torch.Size([224, 224])\n",
      "✅ Loaded BraTS19_CBICA_ALN_1: Image torch.Size([3, 224, 224]), Mask torch.Size([224, 224])\n"
     ]
    },
    {
     "name": "stderr",
     "output_type": "stream",
     "text": [
      "Epoch [2/15]:  74%|███████▍  | 77/104 [00:40<00:14,  1.90it/s, Loss=0.4]  "
     ]
    },
    {
     "name": "stdout",
     "output_type": "stream",
     "text": [
      "✅ Loaded BraTS19_CBICA_ATN_1: Image torch.Size([3, 224, 224]), Mask torch.Size([224, 224])\n",
      "✅ Loaded BraTS19_2013_2_1: Image torch.Size([3, 224, 224]), Mask torch.Size([224, 224])\n"
     ]
    },
    {
     "name": "stderr",
     "output_type": "stream",
     "text": [
      "Epoch [2/15]:  75%|███████▌  | 78/104 [00:40<00:13,  1.87it/s, Loss=0.476]"
     ]
    },
    {
     "name": "stdout",
     "output_type": "stream",
     "text": [
      "✅ Loaded BraTS19_TCIA01_235_1: Image torch.Size([3, 224, 224]), Mask torch.Size([224, 224])\n",
      "✅ Loaded BraTS19_TCIA04_111_1: Image torch.Size([3, 224, 224]), Mask torch.Size([224, 224])\n"
     ]
    },
    {
     "name": "stderr",
     "output_type": "stream",
     "text": [
      "Epoch [2/15]:  76%|███████▌  | 79/104 [00:41<00:13,  1.90it/s, Loss=0.568]"
     ]
    },
    {
     "name": "stdout",
     "output_type": "stream",
     "text": [
      "✅ Loaded BraTS19_TCIA03_257_1: Image torch.Size([3, 224, 224]), Mask torch.Size([224, 224])\n",
      "✅ Loaded BraTS19_CBICA_ATB_1: Image torch.Size([3, 224, 224]), Mask torch.Size([224, 224])\n"
     ]
    },
    {
     "name": "stderr",
     "output_type": "stream",
     "text": [
      "Epoch [2/15]:  77%|███████▋  | 80/104 [00:41<00:12,  1.91it/s, Loss=0.332]"
     ]
    },
    {
     "name": "stdout",
     "output_type": "stream",
     "text": [
      "✅ Loaded BraTS19_CBICA_AQN_1: Image torch.Size([3, 224, 224]), Mask torch.Size([224, 224])\n",
      "✅ Loaded BraTS19_CBICA_AQZ_1: Image torch.Size([3, 224, 224]), Mask torch.Size([224, 224])\n"
     ]
    },
    {
     "name": "stderr",
     "output_type": "stream",
     "text": [
      "Epoch [2/15]:  78%|███████▊  | 81/104 [00:42<00:12,  1.91it/s, Loss=0.54] "
     ]
    },
    {
     "name": "stdout",
     "output_type": "stream",
     "text": [
      "✅ Loaded BraTS19_TCIA02_274_1: Image torch.Size([3, 224, 224]), Mask torch.Size([224, 224])\n",
      "✅ Loaded BraTS19_TMC_15477_1: Image torch.Size([3, 224, 224]), Mask torch.Size([224, 224])\n"
     ]
    },
    {
     "name": "stderr",
     "output_type": "stream",
     "text": [
      "Epoch [2/15]:  79%|███████▉  | 82/104 [00:42<00:11,  1.92it/s, Loss=0.218]"
     ]
    },
    {
     "name": "stdout",
     "output_type": "stream",
     "text": [
      "✅ Loaded BraTS19_TCIA02_222_1: Image torch.Size([3, 224, 224]), Mask torch.Size([224, 224])\n",
      "✅ Loaded BraTS19_TCIA01_390_1: Image torch.Size([3, 224, 224]), Mask torch.Size([224, 224])\n"
     ]
    },
    {
     "name": "stderr",
     "output_type": "stream",
     "text": [
      "Epoch [2/15]:  80%|███████▉  | 83/104 [00:43<00:10,  1.93it/s, Loss=0.344]"
     ]
    },
    {
     "name": "stdout",
     "output_type": "stream",
     "text": [
      "✅ Loaded BraTS19_TCIA01_186_1: Image torch.Size([3, 224, 224]), Mask torch.Size([224, 224])\n",
      "✅ Loaded BraTS19_TCIA02_168_1: Image torch.Size([3, 224, 224]), Mask torch.Size([224, 224])\n"
     ]
    },
    {
     "name": "stderr",
     "output_type": "stream",
     "text": [
      "Epoch [2/15]:  81%|████████  | 84/104 [00:43<00:10,  1.92it/s, Loss=0.42] "
     ]
    },
    {
     "name": "stdout",
     "output_type": "stream",
     "text": [
      "✅ Loaded BraTS19_TCIA01_150_1: Image torch.Size([3, 224, 224]), Mask torch.Size([224, 224])\n",
      "✅ Loaded BraTS19_CBICA_ASH_1: Image torch.Size([3, 224, 224]), Mask torch.Size([224, 224])\n"
     ]
    },
    {
     "name": "stderr",
     "output_type": "stream",
     "text": [
      "Epoch [2/15]:  82%|████████▏ | 85/104 [00:44<00:09,  1.94it/s, Loss=0.299]"
     ]
    },
    {
     "name": "stdout",
     "output_type": "stream",
     "text": [
      "✅ Loaded BraTS19_TCIA02_374_1: Image torch.Size([3, 224, 224]), Mask torch.Size([224, 224])\n",
      "✅ Loaded BraTS19_TCIA03_474_1: Image torch.Size([3, 224, 224]), Mask torch.Size([224, 224])\n"
     ]
    },
    {
     "name": "stderr",
     "output_type": "stream",
     "text": [
      "Epoch [2/15]:  83%|████████▎ | 86/104 [00:44<00:09,  1.95it/s, Loss=0.295]"
     ]
    },
    {
     "name": "stdout",
     "output_type": "stream",
     "text": [
      "✅ Loaded BraTS19_TMC_11964_1: Image torch.Size([3, 224, 224]), Mask torch.Size([224, 224])\n",
      "✅ Loaded BraTS19_TCIA03_121_1: Image torch.Size([3, 224, 224]), Mask torch.Size([224, 224])\n"
     ]
    },
    {
     "name": "stderr",
     "output_type": "stream",
     "text": [
      "Epoch [2/15]:  84%|████████▎ | 87/104 [00:45<00:08,  1.95it/s, Loss=0.328]"
     ]
    },
    {
     "name": "stdout",
     "output_type": "stream",
     "text": [
      "✅ Loaded BraTS19_CBICA_AYI_1: Image torch.Size([3, 224, 224]), Mask torch.Size([224, 224])\n",
      "✅ Loaded BraTS19_2013_3_1: Image torch.Size([3, 224, 224]), Mask torch.Size([224, 224])\n"
     ]
    },
    {
     "name": "stderr",
     "output_type": "stream",
     "text": [
      "Epoch [2/15]:  85%|████████▍ | 88/104 [00:45<00:08,  1.94it/s, Loss=0.381]"
     ]
    },
    {
     "name": "stdout",
     "output_type": "stream",
     "text": [
      "✅ Loaded BraTS19_CBICA_AOZ_1: Image torch.Size([3, 224, 224]), Mask torch.Size([224, 224])\n",
      "✅ Loaded BraTS19_TCIA04_343_1: Image torch.Size([3, 224, 224]), Mask torch.Size([224, 224])\n"
     ]
    },
    {
     "name": "stderr",
     "output_type": "stream",
     "text": [
      "Epoch [2/15]:  86%|████████▌ | 89/104 [00:46<00:07,  1.96it/s, Loss=0.396]"
     ]
    },
    {
     "name": "stdout",
     "output_type": "stream",
     "text": [
      "✅ Loaded BraTS19_TCIA02_290_1: Image torch.Size([3, 224, 224]), Mask torch.Size([224, 224])\n",
      "✅ Loaded BraTS19_TCIA03_498_1: Image torch.Size([3, 224, 224]), Mask torch.Size([224, 224])\n"
     ]
    },
    {
     "name": "stderr",
     "output_type": "stream",
     "text": [
      "Epoch [2/15]:  87%|████████▋ | 90/104 [00:46<00:07,  1.95it/s, Loss=0.354]"
     ]
    },
    {
     "name": "stdout",
     "output_type": "stream",
     "text": [
      "✅ Loaded BraTS19_TCIA02_179_1: Image torch.Size([3, 224, 224]), Mask torch.Size([224, 224])\n",
      "✅ Loaded BraTS19_CBICA_BAX_1: Image torch.Size([3, 224, 224]), Mask torch.Size([224, 224])\n"
     ]
    },
    {
     "name": "stderr",
     "output_type": "stream",
     "text": [
      "Epoch [2/15]:  88%|████████▊ | 91/104 [00:47<00:06,  1.97it/s, Loss=0.557]"
     ]
    },
    {
     "name": "stdout",
     "output_type": "stream",
     "text": [
      "✅ Loaded BraTS19_TCIA01_412_1: Image torch.Size([3, 224, 224]), Mask torch.Size([224, 224])\n",
      "✅ Loaded BraTS19_CBICA_APR_1: Image torch.Size([3, 224, 224]), Mask torch.Size([224, 224])\n"
     ]
    },
    {
     "name": "stderr",
     "output_type": "stream",
     "text": [
      "Epoch [2/15]:  88%|████████▊ | 92/104 [00:47<00:06,  1.95it/s, Loss=0.288]"
     ]
    },
    {
     "name": "stdout",
     "output_type": "stream",
     "text": [
      "✅ Loaded BraTS19_CBICA_AYW_1: Image torch.Size([3, 224, 224]), Mask torch.Size([224, 224])\n",
      "✅ Loaded BraTS19_CBICA_AAP_1: Image torch.Size([3, 224, 224]), Mask torch.Size([224, 224])\n"
     ]
    },
    {
     "name": "stderr",
     "output_type": "stream",
     "text": [
      "Epoch [2/15]:  89%|████████▉ | 93/104 [00:48<00:05,  1.96it/s, Loss=0.24] "
     ]
    },
    {
     "name": "stdout",
     "output_type": "stream",
     "text": [
      "✅ Loaded BraTS19_CBICA_AVV_1: Image torch.Size([3, 224, 224]), Mask torch.Size([224, 224])\n",
      "✅ Loaded BraTS19_CBICA_BCF_1: Image torch.Size([3, 224, 224]), Mask torch.Size([224, 224])\n"
     ]
    },
    {
     "name": "stderr",
     "output_type": "stream",
     "text": [
      "Epoch [2/15]:  90%|█████████ | 94/104 [00:48<00:05,  1.97it/s, Loss=0.367]"
     ]
    },
    {
     "name": "stdout",
     "output_type": "stream",
     "text": [
      "✅ Loaded BraTS19_TCIA04_479_1: Image torch.Size([3, 224, 224]), Mask torch.Size([224, 224])\n",
      "✅ Loaded BraTS19_CBICA_AWI_1: Image torch.Size([3, 224, 224]), Mask torch.Size([224, 224])\n"
     ]
    },
    {
     "name": "stderr",
     "output_type": "stream",
     "text": [
      "Epoch [2/15]:  91%|█████████▏| 95/104 [00:49<00:04,  1.96it/s, Loss=0.566]"
     ]
    },
    {
     "name": "stdout",
     "output_type": "stream",
     "text": [
      "✅ Loaded BraTS19_CBICA_ABE_1: Image torch.Size([3, 224, 224]), Mask torch.Size([224, 224])\n",
      "✅ Loaded BraTS19_TCIA02_118_1: Image torch.Size([3, 224, 224]), Mask torch.Size([224, 224])\n"
     ]
    },
    {
     "name": "stderr",
     "output_type": "stream",
     "text": [
      "Epoch [2/15]:  92%|█████████▏| 96/104 [00:50<00:04,  1.95it/s, Loss=0.523]"
     ]
    },
    {
     "name": "stdout",
     "output_type": "stream",
     "text": [
      "✅ Loaded BraTS19_TCIA02_322_1: Image torch.Size([3, 224, 224]), Mask torch.Size([224, 224])\n",
      "✅ Loaded BraTS19_TCIA02_491_1: Image torch.Size([3, 224, 224]), Mask torch.Size([224, 224])\n"
     ]
    },
    {
     "name": "stderr",
     "output_type": "stream",
     "text": [
      "Epoch [2/15]:  93%|█████████▎| 97/104 [00:50<00:03,  1.93it/s, Loss=0.41] "
     ]
    },
    {
     "name": "stdout",
     "output_type": "stream",
     "text": [
      "✅ Loaded BraTS19_CBICA_BJY_1: Image torch.Size([3, 224, 224]), Mask torch.Size([224, 224])\n",
      "✅ Loaded BraTS19_TCIA08_162_1: Image torch.Size([3, 224, 224]), Mask torch.Size([224, 224])\n"
     ]
    },
    {
     "name": "stderr",
     "output_type": "stream",
     "text": [
      "Epoch [2/15]:  94%|█████████▍| 98/104 [00:51<00:03,  1.95it/s, Loss=0.306]"
     ]
    },
    {
     "name": "stdout",
     "output_type": "stream",
     "text": [
      "✅ Loaded BraTS19_TCIA02_430_1: Image torch.Size([3, 224, 224]), Mask torch.Size([224, 224])\n",
      "✅ Loaded BraTS19_TCIA02_394_1: Image torch.Size([3, 224, 224]), Mask torch.Size([224, 224])\n"
     ]
    },
    {
     "name": "stderr",
     "output_type": "stream",
     "text": [
      "Epoch [2/15]:  95%|█████████▌| 99/104 [00:51<00:02,  1.90it/s, Loss=0.27] "
     ]
    },
    {
     "name": "stdout",
     "output_type": "stream",
     "text": [
      "✅ Loaded BraTS19_TCIA04_192_1: Image torch.Size([3, 224, 224]), Mask torch.Size([224, 224])\n",
      "✅ Loaded BraTS19_CBICA_AVJ_1: Image torch.Size([3, 224, 224]), Mask torch.Size([224, 224])\n"
     ]
    },
    {
     "name": "stderr",
     "output_type": "stream",
     "text": [
      "Epoch [2/15]:  96%|█████████▌| 100/104 [00:52<00:02,  1.89it/s, Loss=0.305]"
     ]
    },
    {
     "name": "stdout",
     "output_type": "stream",
     "text": [
      "✅ Loaded BraTS19_TCIA05_478_1: Image torch.Size([3, 224, 224]), Mask torch.Size([224, 224])\n",
      "✅ Loaded BraTS19_CBICA_BHQ_1: Image torch.Size([3, 224, 224]), Mask torch.Size([224, 224])\n"
     ]
    },
    {
     "name": "stderr",
     "output_type": "stream",
     "text": [
      "Epoch [2/15]:  97%|█████████▋| 101/104 [00:52<00:01,  1.90it/s, Loss=0.261]"
     ]
    },
    {
     "name": "stdout",
     "output_type": "stream",
     "text": [
      "✅ Loaded BraTS19_TCIA03_375_1: Image torch.Size([3, 224, 224]), Mask torch.Size([224, 224])\n",
      "✅ Loaded BraTS19_TCIA02_300_1: Image torch.Size([3, 224, 224]), Mask torch.Size([224, 224])\n"
     ]
    },
    {
     "name": "stderr",
     "output_type": "stream",
     "text": [
      "Epoch [2/15]:  98%|█████████▊| 102/104 [00:53<00:01,  1.90it/s, Loss=0.158]"
     ]
    },
    {
     "name": "stdout",
     "output_type": "stream",
     "text": [
      "✅ Loaded BraTS19_TCIA01_378_1: Image torch.Size([3, 224, 224]), Mask torch.Size([224, 224])\n",
      "✅ Loaded BraTS19_2013_10_1: Image torch.Size([3, 224, 224]), Mask torch.Size([224, 224])\n"
     ]
    },
    {
     "name": "stderr",
     "output_type": "stream",
     "text": [
      "Epoch [2/15]:  99%|█████████▉| 103/104 [00:53<00:00,  1.93it/s, Loss=0.268]"
     ]
    },
    {
     "name": "stdout",
     "output_type": "stream",
     "text": [
      "✅ Loaded BraTS19_2013_20_1: Image torch.Size([3, 224, 224]), Mask torch.Size([224, 224])\n"
     ]
    },
    {
     "name": "stderr",
     "output_type": "stream",
     "text": [
      "                                                                           \r"
     ]
    },
    {
     "name": "stdout",
     "output_type": "stream",
     "text": [
      "\n",
      "✅ Epoch 2: Train Loss: 0.3742\n",
      "💾 Saved model at epoch 2 with train loss 0.3742\n"
     ]
    },
    {
     "name": "stderr",
     "output_type": "stream",
     "text": [
      "Epoch [3/15]:   0%|          | 0/104 [00:00<?, ?it/s]"
     ]
    },
    {
     "name": "stdout",
     "output_type": "stream",
     "text": [
      "✅ Loaded BraTS19_TCIA03_121_1: Image torch.Size([3, 224, 224]), Mask torch.Size([224, 224])\n",
      "✅ Loaded BraTS19_CBICA_AVB_1: Image torch.Size([3, 224, 224]), Mask torch.Size([224, 224])\n"
     ]
    },
    {
     "name": "stderr",
     "output_type": "stream",
     "text": [
      "Epoch [3/15]:   1%|          | 1/104 [00:00<00:52,  1.95it/s, Loss=0.392]"
     ]
    },
    {
     "name": "stdout",
     "output_type": "stream",
     "text": [
      "✅ Loaded BraTS19_TMC_21360_1: Image torch.Size([3, 224, 224]), Mask torch.Size([224, 224])\n",
      "✅ Loaded BraTS19_TCIA06_211_1: Image torch.Size([3, 224, 224]), Mask torch.Size([224, 224])\n"
     ]
    },
    {
     "name": "stderr",
     "output_type": "stream",
     "text": [
      "Epoch [3/15]:   2%|▏         | 2/104 [00:01<00:53,  1.91it/s, Loss=0.272]"
     ]
    },
    {
     "name": "stdout",
     "output_type": "stream",
     "text": [
      "✅ Loaded BraTS19_CBICA_AUR_1: Image torch.Size([3, 224, 224]), Mask torch.Size([224, 224])\n",
      "✅ Loaded BraTS19_TCIA02_198_1: Image torch.Size([3, 224, 224]), Mask torch.Size([224, 224])\n"
     ]
    },
    {
     "name": "stderr",
     "output_type": "stream",
     "text": [
      "Epoch [3/15]:   3%|▎         | 3/104 [00:01<00:54,  1.86it/s, Loss=0.504]"
     ]
    },
    {
     "name": "stdout",
     "output_type": "stream",
     "text": [
      "✅ Loaded BraTS19_CBICA_AYI_1: Image torch.Size([3, 224, 224]), Mask torch.Size([224, 224])\n",
      "✅ Loaded BraTS19_CBICA_AXM_1: Image torch.Size([3, 224, 224]), Mask torch.Size([224, 224])\n"
     ]
    },
    {
     "name": "stderr",
     "output_type": "stream",
     "text": [
      "Epoch [3/15]:   4%|▍         | 4/104 [00:02<00:52,  1.89it/s, Loss=0.232]"
     ]
    },
    {
     "name": "stdout",
     "output_type": "stream",
     "text": [
      "✅ Loaded BraTS19_CBICA_ALU_1: Image torch.Size([3, 224, 224]), Mask torch.Size([224, 224])\n",
      "✅ Loaded BraTS19_CBICA_AWH_1: Image torch.Size([3, 224, 224]), Mask torch.Size([224, 224])\n"
     ]
    },
    {
     "name": "stderr",
     "output_type": "stream",
     "text": [
      "Epoch [3/15]:   5%|▍         | 5/104 [00:02<00:52,  1.89it/s, Loss=0.456]"
     ]
    },
    {
     "name": "stdout",
     "output_type": "stream",
     "text": [
      "✅ Loaded BraTS19_CBICA_ASN_1: Image torch.Size([3, 224, 224]), Mask torch.Size([224, 224])\n",
      "✅ Loaded BraTS19_CBICA_AVG_1: Image torch.Size([3, 224, 224]), Mask torch.Size([224, 224])\n"
     ]
    },
    {
     "name": "stderr",
     "output_type": "stream",
     "text": [
      "Epoch [3/15]:   6%|▌         | 6/104 [00:03<00:52,  1.88it/s, Loss=0.389]"
     ]
    },
    {
     "name": "stdout",
     "output_type": "stream",
     "text": [
      "✅ Loaded BraTS19_2013_21_1: Image torch.Size([3, 224, 224]), Mask torch.Size([224, 224])\n",
      "✅ Loaded BraTS19_2013_2_1: Image torch.Size([3, 224, 224]), Mask torch.Size([224, 224])\n"
     ]
    },
    {
     "name": "stderr",
     "output_type": "stream",
     "text": [
      "Epoch [3/15]:   7%|▋         | 7/104 [00:03<00:51,  1.87it/s, Loss=0.254]"
     ]
    },
    {
     "name": "stdout",
     "output_type": "stream",
     "text": [
      "✅ Loaded BraTS19_TCIA01_335_1: Image torch.Size([3, 224, 224]), Mask torch.Size([224, 224])\n",
      "✅ Loaded BraTS19_CBICA_AYA_1: Image torch.Size([3, 224, 224]), Mask torch.Size([224, 224])\n"
     ]
    },
    {
     "name": "stderr",
     "output_type": "stream",
     "text": [
      "Epoch [3/15]:   8%|▊         | 8/104 [00:04<00:50,  1.89it/s, Loss=0.252]"
     ]
    },
    {
     "name": "stdout",
     "output_type": "stream",
     "text": [
      "✅ Loaded BraTS19_TCIA01_425_1: Image torch.Size([3, 224, 224]), Mask torch.Size([224, 224])\n",
      "✅ Loaded BraTS19_TCIA01_378_1: Image torch.Size([3, 224, 224]), Mask torch.Size([224, 224])\n"
     ]
    },
    {
     "name": "stderr",
     "output_type": "stream",
     "text": [
      "Epoch [3/15]:   9%|▊         | 9/104 [00:04<00:49,  1.91it/s, Loss=0.344]"
     ]
    },
    {
     "name": "stdout",
     "output_type": "stream",
     "text": [
      "✅ Loaded BraTS19_2013_25_1: Image torch.Size([3, 224, 224]), Mask torch.Size([224, 224])\n",
      "✅ Loaded BraTS19_TCIA02_135_1: Image torch.Size([3, 224, 224]), Mask torch.Size([224, 224])\n"
     ]
    },
    {
     "name": "stderr",
     "output_type": "stream",
     "text": [
      "Epoch [3/15]:  10%|▉         | 10/104 [00:05<00:48,  1.92it/s, Loss=0.351]"
     ]
    },
    {
     "name": "stdout",
     "output_type": "stream",
     "text": [
      "✅ Loaded BraTS19_CBICA_ARF_1: Image torch.Size([3, 224, 224]), Mask torch.Size([224, 224])\n",
      "✅ Loaded BraTS19_TCIA01_429_1: Image torch.Size([3, 224, 224]), Mask torch.Size([224, 224])\n"
     ]
    },
    {
     "name": "stderr",
     "output_type": "stream",
     "text": [
      "Epoch [3/15]:  11%|█         | 11/104 [00:05<00:48,  1.92it/s, Loss=0.241]"
     ]
    },
    {
     "name": "stdout",
     "output_type": "stream",
     "text": [
      "✅ Loaded BraTS19_TMC_12866_1: Image torch.Size([3, 224, 224]), Mask torch.Size([224, 224])\n",
      "✅ Loaded BraTS19_TCIA03_338_1: Image torch.Size([3, 224, 224]), Mask torch.Size([224, 224])\n"
     ]
    },
    {
     "name": "stderr",
     "output_type": "stream",
     "text": [
      "Epoch [3/15]:  12%|█▏        | 12/104 [00:06<00:48,  1.90it/s, Loss=0.33] "
     ]
    },
    {
     "name": "stdout",
     "output_type": "stream",
     "text": [
      "✅ Loaded BraTS19_TCIA02_290_1: Image torch.Size([3, 224, 224]), Mask torch.Size([224, 224])\n",
      "✅ Loaded BraTS19_CBICA_BGG_1: Image torch.Size([3, 224, 224]), Mask torch.Size([224, 224])\n"
     ]
    },
    {
     "name": "stderr",
     "output_type": "stream",
     "text": [
      "Epoch [3/15]:  12%|█▎        | 13/104 [00:06<00:48,  1.89it/s, Loss=0.272]"
     ]
    },
    {
     "name": "stdout",
     "output_type": "stream",
     "text": [
      "✅ Loaded BraTS19_CBICA_ASV_1: Image torch.Size([3, 224, 224]), Mask torch.Size([224, 224])\n",
      "✅ Loaded BraTS19_CBICA_ATP_1: Image torch.Size([3, 224, 224]), Mask torch.Size([224, 224])\n"
     ]
    },
    {
     "name": "stderr",
     "output_type": "stream",
     "text": [
      "Epoch [3/15]:  13%|█▎        | 14/104 [00:07<00:47,  1.90it/s, Loss=0.25] "
     ]
    },
    {
     "name": "stdout",
     "output_type": "stream",
     "text": [
      "✅ Loaded BraTS19_TMC_11964_1: Image torch.Size([3, 224, 224]), Mask torch.Size([224, 224])\n",
      "✅ Loaded BraTS19_CBICA_AQJ_1: Image torch.Size([3, 224, 224]), Mask torch.Size([224, 224])\n"
     ]
    },
    {
     "name": "stderr",
     "output_type": "stream",
     "text": [
      "Epoch [3/15]:  14%|█▍        | 15/104 [00:07<00:46,  1.90it/s, Loss=0.329]"
     ]
    },
    {
     "name": "stdout",
     "output_type": "stream",
     "text": [
      "✅ Loaded BraTS19_CBICA_ASG_1: Image torch.Size([3, 224, 224]), Mask torch.Size([224, 224])\n",
      "✅ Loaded BraTS19_CBICA_AQN_1: Image torch.Size([3, 224, 224]), Mask torch.Size([224, 224])\n"
     ]
    },
    {
     "name": "stderr",
     "output_type": "stream",
     "text": [
      "Epoch [3/15]:  15%|█▌        | 16/104 [00:08<00:46,  1.89it/s, Loss=0.297]"
     ]
    },
    {
     "name": "stdout",
     "output_type": "stream",
     "text": [
      "✅ Loaded BraTS19_TCIA02_377_1: Image torch.Size([3, 224, 224]), Mask torch.Size([224, 224])\n",
      "✅ Loaded BraTS19_CBICA_ATB_1: Image torch.Size([3, 224, 224]), Mask torch.Size([224, 224])\n"
     ]
    },
    {
     "name": "stderr",
     "output_type": "stream",
     "text": [
      "Epoch [3/15]:  16%|█▋        | 17/104 [00:08<00:45,  1.90it/s, Loss=0.252]"
     ]
    },
    {
     "name": "stdout",
     "output_type": "stream",
     "text": [
      "✅ Loaded BraTS19_CBICA_ASE_1: Image torch.Size([3, 224, 224]), Mask torch.Size([224, 224])\n",
      "✅ Loaded BraTS19_TCIA08_162_1: Image torch.Size([3, 224, 224]), Mask torch.Size([224, 224])\n"
     ]
    },
    {
     "name": "stderr",
     "output_type": "stream",
     "text": [
      "Epoch [3/15]:  17%|█▋        | 18/104 [00:09<00:45,  1.91it/s, Loss=0.321]"
     ]
    },
    {
     "name": "stdout",
     "output_type": "stream",
     "text": [
      "✅ Loaded BraTS19_TCIA02_394_1: Image torch.Size([3, 224, 224]), Mask torch.Size([224, 224])\n",
      "✅ Loaded BraTS19_TCIA02_368_1: Image torch.Size([3, 224, 224]), Mask torch.Size([224, 224])\n"
     ]
    },
    {
     "name": "stderr",
     "output_type": "stream",
     "text": [
      "Epoch [3/15]:  18%|█▊        | 19/104 [00:10<00:44,  1.90it/s, Loss=0.274]"
     ]
    },
    {
     "name": "stdout",
     "output_type": "stream",
     "text": [
      "✅ Loaded BraTS19_CBICA_AOZ_1: Image torch.Size([3, 224, 224]), Mask torch.Size([224, 224])\n",
      "✅ Loaded BraTS19_CBICA_BGN_1: Image torch.Size([3, 224, 224]), Mask torch.Size([224, 224])\n"
     ]
    },
    {
     "name": "stderr",
     "output_type": "stream",
     "text": [
      "Epoch [3/15]:  19%|█▉        | 20/104 [00:10<00:45,  1.85it/s, Loss=0.366]"
     ]
    },
    {
     "name": "stdout",
     "output_type": "stream",
     "text": [
      "✅ Loaded BraTS19_CBICA_AYW_1: Image torch.Size([3, 224, 224]), Mask torch.Size([224, 224])\n",
      "✅ Loaded BraTS19_CBICA_AYC_1: Image torch.Size([3, 224, 224]), Mask torch.Size([224, 224])\n"
     ]
    },
    {
     "name": "stderr",
     "output_type": "stream",
     "text": [
      "Epoch [3/15]:  20%|██        | 21/104 [00:11<00:45,  1.84it/s, Loss=0.222]"
     ]
    },
    {
     "name": "stdout",
     "output_type": "stream",
     "text": [
      "✅ Loaded BraTS19_TCIA01_150_1: Image torch.Size([3, 224, 224]), Mask torch.Size([224, 224])\n",
      "✅ Loaded BraTS19_TCIA01_235_1: Image torch.Size([3, 224, 224]), Mask torch.Size([224, 224])\n"
     ]
    },
    {
     "name": "stderr",
     "output_type": "stream",
     "text": [
      "Epoch [3/15]:  21%|██        | 22/104 [00:11<00:44,  1.86it/s, Loss=0.287]"
     ]
    },
    {
     "name": "stdout",
     "output_type": "stream",
     "text": [
      "✅ Loaded BraTS19_CBICA_BJY_1: Image torch.Size([3, 224, 224]), Mask torch.Size([224, 224])\n",
      "✅ Loaded BraTS19_TCIA08_234_1: Image torch.Size([3, 224, 224]), Mask torch.Size([224, 224])\n"
     ]
    },
    {
     "name": "stderr",
     "output_type": "stream",
     "text": [
      "Epoch [3/15]:  22%|██▏       | 23/104 [00:12<00:42,  1.90it/s, Loss=0.38] "
     ]
    },
    {
     "name": "stdout",
     "output_type": "stream",
     "text": [
      "✅ Loaded BraTS19_CBICA_BKV_1: Image torch.Size([3, 224, 224]), Mask torch.Size([224, 224])\n",
      "✅ Loaded BraTS19_CBICA_AQD_1: Image torch.Size([3, 224, 224]), Mask torch.Size([224, 224])\n"
     ]
    },
    {
     "name": "stderr",
     "output_type": "stream",
     "text": [
      "Epoch [3/15]:  23%|██▎       | 24/104 [00:12<00:42,  1.90it/s, Loss=0.217]"
     ]
    },
    {
     "name": "stdout",
     "output_type": "stream",
     "text": [
      "✅ Loaded BraTS19_CBICA_AAB_1: Image torch.Size([3, 224, 224]), Mask torch.Size([224, 224])\n",
      "✅ Loaded BraTS19_CBICA_AQA_1: Image torch.Size([3, 224, 224]), Mask torch.Size([224, 224])\n"
     ]
    },
    {
     "name": "stderr",
     "output_type": "stream",
     "text": [
      "Epoch [3/15]:  24%|██▍       | 25/104 [00:13<00:41,  1.90it/s, Loss=0.377]"
     ]
    },
    {
     "name": "stdout",
     "output_type": "stream",
     "text": [
      "✅ Loaded BraTS19_TCIA02_321_1: Image torch.Size([3, 224, 224]), Mask torch.Size([224, 224])\n",
      "✅ Loaded BraTS19_2013_10_1: Image torch.Size([3, 224, 224]), Mask torch.Size([224, 224])\n"
     ]
    },
    {
     "name": "stderr",
     "output_type": "stream",
     "text": [
      "Epoch [3/15]:  25%|██▌       | 26/104 [00:13<00:40,  1.91it/s, Loss=0.216]"
     ]
    },
    {
     "name": "stdout",
     "output_type": "stream",
     "text": [
      "✅ Loaded BraTS19_TMC_30014_1: Image torch.Size([3, 224, 224]), Mask torch.Size([224, 224])\n",
      "✅ Loaded BraTS19_CBICA_AYU_1: Image torch.Size([3, 224, 224]), Mask torch.Size([224, 224])\n"
     ]
    },
    {
     "name": "stderr",
     "output_type": "stream",
     "text": [
      "Epoch [3/15]:  26%|██▌       | 27/104 [00:14<00:40,  1.90it/s, Loss=0.542]"
     ]
    },
    {
     "name": "stdout",
     "output_type": "stream",
     "text": [
      "✅ Loaded BraTS19_CBICA_AOS_1: Image torch.Size([3, 224, 224]), Mask torch.Size([224, 224])\n",
      "✅ Loaded BraTS19_CBICA_BAX_1: Image torch.Size([3, 224, 224]), Mask torch.Size([224, 224])\n"
     ]
    },
    {
     "name": "stderr",
     "output_type": "stream",
     "text": [
      "Epoch [3/15]:  27%|██▋       | 28/104 [00:14<00:40,  1.89it/s, Loss=0.322]"
     ]
    },
    {
     "name": "stdout",
     "output_type": "stream",
     "text": [
      "✅ Loaded BraTS19_CBICA_AUN_1: Image torch.Size([3, 224, 224]), Mask torch.Size([224, 224])\n",
      "✅ Loaded BraTS19_TCIA02_605_1: Image torch.Size([3, 224, 224]), Mask torch.Size([224, 224])\n"
     ]
    },
    {
     "name": "stderr",
     "output_type": "stream",
     "text": [
      "Epoch [3/15]:  28%|██▊       | 29/104 [00:15<00:39,  1.89it/s, Loss=0.315]"
     ]
    },
    {
     "name": "stdout",
     "output_type": "stream",
     "text": [
      "✅ Loaded BraTS19_2013_18_1: Image torch.Size([3, 224, 224]), Mask torch.Size([224, 224])\n",
      "✅ Loaded BraTS19_2013_20_1: Image torch.Size([3, 224, 224]), Mask torch.Size([224, 224])\n"
     ]
    },
    {
     "name": "stderr",
     "output_type": "stream",
     "text": [
      "Epoch [3/15]:  29%|██▉       | 30/104 [00:15<00:38,  1.90it/s, Loss=0.299]"
     ]
    },
    {
     "name": "stdout",
     "output_type": "stream",
     "text": [
      "✅ Loaded BraTS19_TCIA04_437_1: Image torch.Size([3, 224, 224]), Mask torch.Size([224, 224])\n",
      "✅ Loaded BraTS19_TCIA04_149_1: Image torch.Size([3, 224, 224]), Mask torch.Size([224, 224])\n"
     ]
    },
    {
     "name": "stderr",
     "output_type": "stream",
     "text": [
      "Epoch [3/15]:  30%|██▉       | 31/104 [00:16<00:38,  1.89it/s, Loss=0.483]"
     ]
    },
    {
     "name": "stdout",
     "output_type": "stream",
     "text": [
      "✅ Loaded BraTS19_CBICA_ALX_1: Image torch.Size([3, 224, 224]), Mask torch.Size([224, 224])\n",
      "✅ Loaded BraTS19_CBICA_AOO_1: Image torch.Size([3, 224, 224]), Mask torch.Size([224, 224])\n"
     ]
    },
    {
     "name": "stderr",
     "output_type": "stream",
     "text": [
      "Epoch [3/15]:  31%|███       | 32/104 [00:16<00:37,  1.91it/s, Loss=0.348]"
     ]
    },
    {
     "name": "stdout",
     "output_type": "stream",
     "text": [
      "✅ Loaded BraTS19_CBICA_BLJ_1: Image torch.Size([3, 224, 224]), Mask torch.Size([224, 224])\n",
      "✅ Loaded BraTS19_CBICA_BGX_1: Image torch.Size([3, 224, 224]), Mask torch.Size([224, 224])\n"
     ]
    },
    {
     "name": "stderr",
     "output_type": "stream",
     "text": [
      "Epoch [3/15]:  32%|███▏      | 33/104 [00:17<00:37,  1.91it/s, Loss=0.259]"
     ]
    },
    {
     "name": "stdout",
     "output_type": "stream",
     "text": [
      "✅ Loaded BraTS19_TCIA01_147_1: Image torch.Size([3, 224, 224]), Mask torch.Size([224, 224])\n",
      "✅ Loaded BraTS19_TCIA08_218_1: Image torch.Size([3, 224, 224]), Mask torch.Size([224, 224])\n"
     ]
    },
    {
     "name": "stderr",
     "output_type": "stream",
     "text": [
      "Epoch [3/15]:  33%|███▎      | 34/104 [00:17<00:37,  1.87it/s, Loss=0.195]"
     ]
    },
    {
     "name": "stdout",
     "output_type": "stream",
     "text": [
      "✅ Loaded BraTS19_CBICA_ASU_1: Image torch.Size([3, 224, 224]), Mask torch.Size([224, 224])\n",
      "✅ Loaded BraTS19_TCIA08_280_1: Image torch.Size([3, 224, 224]), Mask torch.Size([224, 224])\n"
     ]
    },
    {
     "name": "stderr",
     "output_type": "stream",
     "text": [
      "Epoch [3/15]:  34%|███▎      | 35/104 [00:18<00:36,  1.88it/s, Loss=0.546]"
     ]
    },
    {
     "name": "stdout",
     "output_type": "stream",
     "text": [
      "✅ Loaded BraTS19_CBICA_APR_1: Image torch.Size([3, 224, 224]), Mask torch.Size([224, 224])\n",
      "✅ Loaded BraTS19_TCIA05_396_1: Image torch.Size([3, 224, 224]), Mask torch.Size([224, 224])\n"
     ]
    },
    {
     "name": "stderr",
     "output_type": "stream",
     "text": [
      "Epoch [3/15]:  35%|███▍      | 36/104 [00:19<00:35,  1.91it/s, Loss=0.235]"
     ]
    },
    {
     "name": "stdout",
     "output_type": "stream",
     "text": [
      "✅ Loaded BraTS19_CBICA_BIC_1: Image torch.Size([3, 224, 224]), Mask torch.Size([224, 224])\n",
      "✅ Loaded BraTS19_CBICA_BHB_1: Image torch.Size([3, 224, 224]), Mask torch.Size([224, 224])\n"
     ]
    },
    {
     "name": "stderr",
     "output_type": "stream",
     "text": [
      "Epoch [3/15]:  36%|███▌      | 37/104 [00:19<00:34,  1.94it/s, Loss=0.515]"
     ]
    },
    {
     "name": "stdout",
     "output_type": "stream",
     "text": [
      "✅ Loaded BraTS19_CBICA_AQV_1: Image torch.Size([3, 224, 224]), Mask torch.Size([224, 224])\n",
      "✅ Loaded BraTS19_CBICA_APZ_1: Image torch.Size([3, 224, 224]), Mask torch.Size([224, 224])\n"
     ]
    },
    {
     "name": "stderr",
     "output_type": "stream",
     "text": [
      "Epoch [3/15]:  37%|███▋      | 38/104 [00:20<00:33,  1.96it/s, Loss=0.284]"
     ]
    },
    {
     "name": "stdout",
     "output_type": "stream",
     "text": [
      "✅ Loaded BraTS19_TCIA04_479_1: Image torch.Size([3, 224, 224]), Mask torch.Size([224, 224])\n",
      "✅ Loaded BraTS19_CBICA_AAL_1: Image torch.Size([3, 224, 224]), Mask torch.Size([224, 224])\n"
     ]
    },
    {
     "name": "stderr",
     "output_type": "stream",
     "text": [
      "Epoch [3/15]:  38%|███▊      | 39/104 [00:20<00:33,  1.97it/s, Loss=0.404]"
     ]
    },
    {
     "name": "stdout",
     "output_type": "stream",
     "text": [
      "✅ Loaded BraTS19_TCIA08_205_1: Image torch.Size([3, 224, 224]), Mask torch.Size([224, 224])\n",
      "✅ Loaded BraTS19_2013_3_1: Image torch.Size([3, 224, 224]), Mask torch.Size([224, 224])\n"
     ]
    },
    {
     "name": "stderr",
     "output_type": "stream",
     "text": [
      "Epoch [3/15]:  38%|███▊      | 40/104 [00:21<00:32,  1.98it/s, Loss=0.342]"
     ]
    },
    {
     "name": "stdout",
     "output_type": "stream",
     "text": [
      "✅ Loaded BraTS19_TCIA02_491_1: Image torch.Size([3, 224, 224]), Mask torch.Size([224, 224])\n",
      "✅ Loaded BraTS19_CBICA_BFP_1: Image torch.Size([3, 224, 224]), Mask torch.Size([224, 224])\n"
     ]
    },
    {
     "name": "stderr",
     "output_type": "stream",
     "text": [
      "Epoch [3/15]:  39%|███▉      | 41/104 [00:21<00:31,  1.98it/s, Loss=0.361]"
     ]
    },
    {
     "name": "stdout",
     "output_type": "stream",
     "text": [
      "✅ Loaded BraTS19_CBICA_AXQ_1: Image torch.Size([3, 224, 224]), Mask torch.Size([224, 224])\n",
      "✅ Loaded BraTS19_TCIA01_390_1: Image torch.Size([3, 224, 224]), Mask torch.Size([224, 224])\n"
     ]
    },
    {
     "name": "stderr",
     "output_type": "stream",
     "text": [
      "Epoch [3/15]:  40%|████      | 42/104 [00:21<00:30,  2.01it/s, Loss=0.285]"
     ]
    },
    {
     "name": "stdout",
     "output_type": "stream",
     "text": [
      "✅ Loaded BraTS19_TCIA01_448_1: Image torch.Size([3, 224, 224]), Mask torch.Size([224, 224])\n",
      "✅ Loaded BraTS19_TCIA03_375_1: Image torch.Size([3, 224, 224]), Mask torch.Size([224, 224])\n"
     ]
    },
    {
     "name": "stderr",
     "output_type": "stream",
     "text": [
      "Epoch [3/15]:  41%|████▏     | 43/104 [00:22<00:30,  2.00it/s, Loss=0.561]"
     ]
    },
    {
     "name": "stdout",
     "output_type": "stream",
     "text": [
      "✅ Loaded BraTS19_CBICA_AWI_1: Image torch.Size([3, 224, 224]), Mask torch.Size([224, 224])\n",
      "✅ Loaded BraTS19_TMC_15477_1: Image torch.Size([3, 224, 224]), Mask torch.Size([224, 224])\n"
     ]
    },
    {
     "name": "stderr",
     "output_type": "stream",
     "text": [
      "Epoch [3/15]:  42%|████▏     | 44/104 [00:22<00:29,  2.02it/s, Loss=0.571]"
     ]
    },
    {
     "name": "stdout",
     "output_type": "stream",
     "text": [
      "✅ Loaded BraTS19_CBICA_AXW_1: Image torch.Size([3, 224, 224]), Mask torch.Size([224, 224])\n",
      "✅ Loaded BraTS19_CBICA_AQZ_1: Image torch.Size([3, 224, 224]), Mask torch.Size([224, 224])\n"
     ]
    },
    {
     "name": "stderr",
     "output_type": "stream",
     "text": [
      "Epoch [3/15]:  43%|████▎     | 45/104 [00:23<00:29,  2.02it/s, Loss=0.399]"
     ]
    },
    {
     "name": "stdout",
     "output_type": "stream",
     "text": [
      "✅ Loaded BraTS19_TCIA06_332_1: Image torch.Size([3, 224, 224]), Mask torch.Size([224, 224])\n",
      "✅ Loaded BraTS19_TCIA03_199_1: Image torch.Size([3, 224, 224]), Mask torch.Size([224, 224])\n"
     ]
    },
    {
     "name": "stderr",
     "output_type": "stream",
     "text": [
      "Epoch [3/15]:  44%|████▍     | 46/104 [00:23<00:28,  2.01it/s, Loss=0.295]"
     ]
    },
    {
     "name": "stdout",
     "output_type": "stream",
     "text": [
      "✅ Loaded BraTS19_TCIA01_460_1: Image torch.Size([3, 224, 224]), Mask torch.Size([224, 224])\n",
      "✅ Loaded BraTS19_CBICA_AQR_1: Image torch.Size([3, 224, 224]), Mask torch.Size([224, 224])\n"
     ]
    },
    {
     "name": "stderr",
     "output_type": "stream",
     "text": [
      "Epoch [3/15]:  45%|████▌     | 47/104 [00:24<00:28,  2.03it/s, Loss=0.282]"
     ]
    },
    {
     "name": "stdout",
     "output_type": "stream",
     "text": [
      "✅ Loaded BraTS19_TCIA02_117_1: Image torch.Size([3, 224, 224]), Mask torch.Size([224, 224])\n",
      "✅ Loaded BraTS19_TCIA02_179_1: Image torch.Size([3, 224, 224]), Mask torch.Size([224, 224])\n"
     ]
    },
    {
     "name": "stderr",
     "output_type": "stream",
     "text": [
      "Epoch [3/15]:  46%|████▌     | 48/104 [00:24<00:27,  2.02it/s, Loss=0.433]"
     ]
    },
    {
     "name": "stdout",
     "output_type": "stream",
     "text": [
      "✅ Loaded BraTS19_TCIA03_498_1: Image torch.Size([3, 224, 224]), Mask torch.Size([224, 224])\n",
      "✅ Loaded BraTS19_2013_19_1: Image torch.Size([3, 224, 224]), Mask torch.Size([224, 224])\n"
     ]
    },
    {
     "name": "stderr",
     "output_type": "stream",
     "text": [
      "Epoch [3/15]:  47%|████▋     | 49/104 [00:25<00:27,  2.01it/s, Loss=0.299]"
     ]
    },
    {
     "name": "stdout",
     "output_type": "stream",
     "text": [
      "✅ Loaded BraTS19_TCIA08_167_1: Image torch.Size([3, 224, 224]), Mask torch.Size([224, 224])\n",
      "✅ Loaded BraTS19_TCIA03_296_1: Image torch.Size([3, 224, 224]), Mask torch.Size([224, 224])\n"
     ]
    },
    {
     "name": "stderr",
     "output_type": "stream",
     "text": [
      "Epoch [3/15]:  48%|████▊     | 50/104 [00:25<00:26,  2.03it/s, Loss=0.299]"
     ]
    },
    {
     "name": "stdout",
     "output_type": "stream",
     "text": [
      "✅ Loaded BraTS19_CBICA_BGE_1: Image torch.Size([3, 224, 224]), Mask torch.Size([224, 224])\n",
      "✅ Loaded BraTS19_CBICA_AOC_1: Image torch.Size([3, 224, 224]), Mask torch.Size([224, 224])\n"
     ]
    },
    {
     "name": "stderr",
     "output_type": "stream",
     "text": [
      "Epoch [3/15]:  49%|████▉     | 51/104 [00:26<00:26,  2.00it/s, Loss=0.315]"
     ]
    },
    {
     "name": "stdout",
     "output_type": "stream",
     "text": [
      "✅ Loaded BraTS19_TCIA05_478_1: Image torch.Size([3, 224, 224]), Mask torch.Size([224, 224])\n",
      "✅ Loaded BraTS19_TCIA02_430_1: Image torch.Size([3, 224, 224]), Mask torch.Size([224, 224])\n"
     ]
    },
    {
     "name": "stderr",
     "output_type": "stream",
     "text": [
      "Epoch [3/15]:  50%|█████     | 52/104 [00:26<00:25,  2.00it/s, Loss=0.244]"
     ]
    },
    {
     "name": "stdout",
     "output_type": "stream",
     "text": [
      "✅ Loaded BraTS19_CBICA_ASH_1: Image torch.Size([3, 224, 224]), Mask torch.Size([224, 224])\n",
      "✅ Loaded BraTS19_TCIA03_257_1: Image torch.Size([3, 224, 224]), Mask torch.Size([224, 224])\n"
     ]
    },
    {
     "name": "stderr",
     "output_type": "stream",
     "text": [
      "Epoch [3/15]:  51%|█████     | 53/104 [00:27<00:25,  2.00it/s, Loss=0.298]"
     ]
    },
    {
     "name": "stdout",
     "output_type": "stream",
     "text": [
      "✅ Loaded BraTS19_CBICA_ABE_1: Image torch.Size([3, 224, 224]), Mask torch.Size([224, 224])\n",
      "✅ Loaded BraTS19_TCIA02_473_1: Image torch.Size([3, 224, 224]), Mask torch.Size([224, 224])\n"
     ]
    },
    {
     "name": "stderr",
     "output_type": "stream",
     "text": [
      "Epoch [3/15]:  52%|█████▏    | 54/104 [00:27<00:25,  2.00it/s, Loss=0.283]"
     ]
    },
    {
     "name": "stdout",
     "output_type": "stream",
     "text": [
      "✅ Loaded BraTS19_CBICA_AXJ_1: Image torch.Size([3, 224, 224]), Mask torch.Size([224, 224])\n",
      "✅ Loaded BraTS19_CBICA_ABY_1: Image torch.Size([3, 224, 224]), Mask torch.Size([224, 224])\n"
     ]
    },
    {
     "name": "stderr",
     "output_type": "stream",
     "text": [
      "Epoch [3/15]:  53%|█████▎    | 55/104 [00:28<00:24,  2.02it/s, Loss=0.389]"
     ]
    },
    {
     "name": "stdout",
     "output_type": "stream",
     "text": [
      "✅ Loaded BraTS19_CBICA_ASA_1: Image torch.Size([3, 224, 224]), Mask torch.Size([224, 224])\n",
      "✅ Loaded BraTS19_TCIA06_409_1: Image torch.Size([3, 224, 224]), Mask torch.Size([224, 224])\n"
     ]
    },
    {
     "name": "stderr",
     "output_type": "stream",
     "text": [
      "Epoch [3/15]:  54%|█████▍    | 56/104 [00:28<00:23,  2.01it/s, Loss=0.411]"
     ]
    },
    {
     "name": "stdout",
     "output_type": "stream",
     "text": [
      "✅ Loaded BraTS19_CBICA_ATD_1: Image torch.Size([3, 224, 224]), Mask torch.Size([224, 224])\n",
      "✅ Loaded BraTS19_TCIA02_300_1: Image torch.Size([3, 224, 224]), Mask torch.Size([224, 224])\n"
     ]
    },
    {
     "name": "stderr",
     "output_type": "stream",
     "text": [
      "Epoch [3/15]:  55%|█████▍    | 57/104 [00:29<00:23,  1.99it/s, Loss=0.207]"
     ]
    },
    {
     "name": "stdout",
     "output_type": "stream",
     "text": [
      "✅ Loaded BraTS19_CBICA_AZH_1: Image torch.Size([3, 224, 224]), Mask torch.Size([224, 224])\n",
      "✅ Loaded BraTS19_CBICA_AXO_1: Image torch.Size([3, 224, 224]), Mask torch.Size([224, 224])\n"
     ]
    },
    {
     "name": "stderr",
     "output_type": "stream",
     "text": [
      "Epoch [3/15]:  56%|█████▌    | 58/104 [00:29<00:23,  1.99it/s, Loss=0.347]"
     ]
    },
    {
     "name": "stdout",
     "output_type": "stream",
     "text": [
      "✅ Loaded BraTS19_2013_11_1: Image torch.Size([3, 224, 224]), Mask torch.Size([224, 224])\n",
      "✅ Loaded BraTS19_TCIA02_171_1: Image torch.Size([3, 224, 224]), Mask torch.Size([224, 224])\n"
     ]
    },
    {
     "name": "stderr",
     "output_type": "stream",
     "text": [
      "Epoch [3/15]:  57%|█████▋    | 59/104 [00:30<00:22,  2.00it/s, Loss=0.488]"
     ]
    },
    {
     "name": "stdout",
     "output_type": "stream",
     "text": [
      "✅ Loaded BraTS19_TCIA06_165_1: Image torch.Size([3, 224, 224]), Mask torch.Size([224, 224])\n",
      "✅ Loaded BraTS19_CBICA_AVJ_1: Image torch.Size([3, 224, 224]), Mask torch.Size([224, 224])\n"
     ]
    },
    {
     "name": "stderr",
     "output_type": "stream",
     "text": [
      "Epoch [3/15]:  58%|█████▊    | 60/104 [00:30<00:22,  2.00it/s, Loss=0.322]"
     ]
    },
    {
     "name": "stdout",
     "output_type": "stream",
     "text": [
      "✅ Loaded BraTS19_TCIA05_444_1: Image torch.Size([3, 224, 224]), Mask torch.Size([224, 224])\n",
      "✅ Loaded BraTS19_TCIA01_412_1: Image torch.Size([3, 224, 224]), Mask torch.Size([224, 224])\n"
     ]
    },
    {
     "name": "stderr",
     "output_type": "stream",
     "text": [
      "Epoch [3/15]:  59%|█████▊    | 61/104 [00:31<00:21,  2.00it/s, Loss=0.34] "
     ]
    },
    {
     "name": "stdout",
     "output_type": "stream",
     "text": [
      "✅ Loaded BraTS19_CBICA_AUW_1: Image torch.Size([3, 224, 224]), Mask torch.Size([224, 224])\n",
      "✅ Loaded BraTS19_TCIA02_607_1: Image torch.Size([3, 224, 224]), Mask torch.Size([224, 224])\n"
     ]
    },
    {
     "name": "stderr",
     "output_type": "stream",
     "text": [
      "Epoch [3/15]:  60%|█████▉    | 62/104 [00:31<00:20,  2.02it/s, Loss=0.256]"
     ]
    },
    {
     "name": "stdout",
     "output_type": "stream",
     "text": [
      "✅ Loaded BraTS19_TCIA06_184_1: Image torch.Size([3, 224, 224]), Mask torch.Size([224, 224])\n",
      "✅ Loaded BraTS19_TCIA02_331_1: Image torch.Size([3, 224, 224]), Mask torch.Size([224, 224])\n"
     ]
    },
    {
     "name": "stderr",
     "output_type": "stream",
     "text": [
      "Epoch [3/15]:  61%|██████    | 63/104 [00:32<00:20,  2.01it/s, Loss=0.261]"
     ]
    },
    {
     "name": "stdout",
     "output_type": "stream",
     "text": [
      "✅ Loaded BraTS19_TCIA08_105_1: Image torch.Size([3, 224, 224]), Mask torch.Size([224, 224])\n",
      "✅ Loaded BraTS19_TCIA03_474_1: Image torch.Size([3, 224, 224]), Mask torch.Size([224, 224])\n"
     ]
    },
    {
     "name": "stderr",
     "output_type": "stream",
     "text": [
      "Epoch [3/15]:  62%|██████▏   | 64/104 [00:32<00:19,  2.01it/s, Loss=0.293]"
     ]
    },
    {
     "name": "stdout",
     "output_type": "stream",
     "text": [
      "✅ Loaded BraTS19_TCIA02_374_1: Image torch.Size([3, 224, 224]), Mask torch.Size([224, 224])\n",
      "✅ Loaded BraTS19_CBICA_APK_1: Image torch.Size([3, 224, 224]), Mask torch.Size([224, 224])\n"
     ]
    },
    {
     "name": "stderr",
     "output_type": "stream",
     "text": [
      "Epoch [3/15]:  62%|██████▎   | 65/104 [00:33<00:19,  2.01it/s, Loss=0.273]"
     ]
    },
    {
     "name": "stdout",
     "output_type": "stream",
     "text": [
      "✅ Loaded BraTS19_TCIA02_314_1: Image torch.Size([3, 224, 224]), Mask torch.Size([224, 224])\n",
      "✅ Loaded BraTS19_CBICA_BGW_1: Image torch.Size([3, 224, 224]), Mask torch.Size([224, 224])\n"
     ]
    },
    {
     "name": "stderr",
     "output_type": "stream",
     "text": [
      "Epoch [3/15]:  63%|██████▎   | 66/104 [00:33<00:18,  2.00it/s, Loss=0.409]"
     ]
    },
    {
     "name": "stdout",
     "output_type": "stream",
     "text": [
      "✅ Loaded BraTS19_TCIA04_343_1: Image torch.Size([3, 224, 224]), Mask torch.Size([224, 224])\n",
      "✅ Loaded BraTS19_CBICA_AXL_1: Image torch.Size([3, 224, 224]), Mask torch.Size([224, 224])\n"
     ]
    },
    {
     "name": "stderr",
     "output_type": "stream",
     "text": [
      "Epoch [3/15]:  64%|██████▍   | 67/104 [00:34<00:18,  2.02it/s, Loss=0.392]"
     ]
    },
    {
     "name": "stdout",
     "output_type": "stream",
     "text": [
      "✅ Loaded BraTS19_TCIA01_499_1: Image torch.Size([3, 224, 224]), Mask torch.Size([224, 224])\n",
      "✅ Loaded BraTS19_CBICA_AAG_1: Image torch.Size([3, 224, 224]), Mask torch.Size([224, 224])\n"
     ]
    },
    {
     "name": "stderr",
     "output_type": "stream",
     "text": [
      "Epoch [3/15]:  65%|██████▌   | 68/104 [00:34<00:17,  2.02it/s, Loss=0.616]"
     ]
    },
    {
     "name": "stdout",
     "output_type": "stream",
     "text": [
      "✅ Loaded BraTS19_TCIA02_222_1: Image torch.Size([3, 224, 224]), Mask torch.Size([224, 224])\n",
      "✅ Loaded BraTS19_CBICA_BGT_1: Image torch.Size([3, 224, 224]), Mask torch.Size([224, 224])\n"
     ]
    },
    {
     "name": "stderr",
     "output_type": "stream",
     "text": [
      "Epoch [3/15]:  66%|██████▋   | 69/104 [00:35<00:17,  2.03it/s, Loss=0.292]"
     ]
    },
    {
     "name": "stdout",
     "output_type": "stream",
     "text": [
      "✅ Loaded BraTS19_TCIA02_151_1: Image torch.Size([3, 224, 224]), Mask torch.Size([224, 224])\n",
      "✅ Loaded BraTS19_CBICA_BCF_1: Image torch.Size([3, 224, 224]), Mask torch.Size([224, 224])\n"
     ]
    },
    {
     "name": "stderr",
     "output_type": "stream",
     "text": [
      "Epoch [3/15]:  67%|██████▋   | 70/104 [00:35<00:17,  1.99it/s, Loss=0.106]"
     ]
    },
    {
     "name": "stdout",
     "output_type": "stream",
     "text": [
      "✅ Loaded BraTS19_TCIA08_406_1: Image torch.Size([3, 224, 224]), Mask torch.Size([224, 224])\n",
      "✅ Loaded BraTS19_TCIA08_113_1: Image torch.Size([3, 224, 224]), Mask torch.Size([224, 224])\n"
     ]
    },
    {
     "name": "stderr",
     "output_type": "stream",
     "text": [
      "Epoch [3/15]:  68%|██████▊   | 71/104 [00:36<00:16,  2.00it/s, Loss=0.573]"
     ]
    },
    {
     "name": "stdout",
     "output_type": "stream",
     "text": [
      "✅ Loaded BraTS19_CBICA_ATV_1: Image torch.Size([3, 224, 224]), Mask torch.Size([224, 224])\n",
      "✅ Loaded BraTS19_CBICA_BHZ_1: Image torch.Size([3, 224, 224]), Mask torch.Size([224, 224])\n"
     ]
    },
    {
     "name": "stderr",
     "output_type": "stream",
     "text": [
      "Epoch [3/15]:  69%|██████▉   | 72/104 [00:36<00:16,  1.96it/s, Loss=0.28] "
     ]
    },
    {
     "name": "stdout",
     "output_type": "stream",
     "text": [
      "✅ Loaded BraTS19_CBICA_ATN_1: Image torch.Size([3, 224, 224]), Mask torch.Size([224, 224])\n",
      "✅ Loaded BraTS19_CBICA_AAP_1: Image torch.Size([3, 224, 224]), Mask torch.Size([224, 224])\n"
     ]
    },
    {
     "name": "stderr",
     "output_type": "stream",
     "text": [
      "Epoch [3/15]:  70%|███████   | 73/104 [00:37<00:15,  1.98it/s, Loss=0.336]"
     ]
    },
    {
     "name": "stdout",
     "output_type": "stream",
     "text": [
      "✅ Loaded BraTS19_CBICA_AMH_1: Image torch.Size([3, 224, 224]), Mask torch.Size([224, 224])\n",
      "✅ Loaded BraTS19_CBICA_ASK_1: Image torch.Size([3, 224, 224]), Mask torch.Size([224, 224])\n"
     ]
    },
    {
     "name": "stderr",
     "output_type": "stream",
     "text": [
      "Epoch [3/15]:  71%|███████   | 74/104 [00:37<00:15,  1.97it/s, Loss=0.403]"
     ]
    },
    {
     "name": "stdout",
     "output_type": "stream",
     "text": [
      "✅ Loaded BraTS19_TCIA02_309_1: Image torch.Size([3, 224, 224]), Mask torch.Size([224, 224])\n",
      "✅ Loaded BraTS19_TCIA02_168_1: Image torch.Size([3, 224, 224]), Mask torch.Size([224, 224])\n"
     ]
    },
    {
     "name": "stderr",
     "output_type": "stream",
     "text": [
      "Epoch [3/15]:  72%|███████▏  | 75/104 [00:38<00:14,  1.98it/s, Loss=0.356]"
     ]
    },
    {
     "name": "stdout",
     "output_type": "stream",
     "text": [
      "✅ Loaded BraTS19_CBICA_ABB_1: Image torch.Size([3, 224, 224]), Mask torch.Size([224, 224])\n",
      "✅ Loaded BraTS19_CBICA_BAP_1: Image torch.Size([3, 224, 224]), Mask torch.Size([224, 224])\n"
     ]
    },
    {
     "name": "stderr",
     "output_type": "stream",
     "text": [
      "Epoch [3/15]:  73%|███████▎  | 76/104 [00:38<00:14,  1.97it/s, Loss=0.426]"
     ]
    },
    {
     "name": "stdout",
     "output_type": "stream",
     "text": [
      "✅ Loaded BraTS19_2013_7_1: Image torch.Size([3, 224, 224]), Mask torch.Size([224, 224])\n",
      "✅ Loaded BraTS19_TCIA02_283_1: Image torch.Size([3, 224, 224]), Mask torch.Size([224, 224])\n"
     ]
    },
    {
     "name": "stderr",
     "output_type": "stream",
     "text": [
      "Epoch [3/15]:  74%|███████▍  | 77/104 [00:39<00:13,  1.96it/s, Loss=0.377]"
     ]
    },
    {
     "name": "stdout",
     "output_type": "stream",
     "text": [
      "✅ Loaded BraTS19_TCIA02_608_1: Image torch.Size([3, 224, 224]), Mask torch.Size([224, 224])\n",
      "✅ Loaded BraTS19_CBICA_AQO_1: Image torch.Size([3, 224, 224]), Mask torch.Size([224, 224])\n"
     ]
    },
    {
     "name": "stderr",
     "output_type": "stream",
     "text": [
      "Epoch [3/15]:  75%|███████▌  | 78/104 [00:39<00:13,  1.97it/s, Loss=0.256]"
     ]
    },
    {
     "name": "stdout",
     "output_type": "stream",
     "text": [
      "✅ Loaded BraTS19_TCIA01_201_1: Image torch.Size([3, 224, 224]), Mask torch.Size([224, 224])\n",
      "✅ Loaded BraTS19_CBICA_BHQ_1: Image torch.Size([3, 224, 224]), Mask torch.Size([224, 224])\n"
     ]
    },
    {
     "name": "stderr",
     "output_type": "stream",
     "text": [
      "Epoch [3/15]:  76%|███████▌  | 79/104 [00:40<00:12,  1.96it/s, Loss=0.354]"
     ]
    },
    {
     "name": "stdout",
     "output_type": "stream",
     "text": [
      "✅ Loaded BraTS19_TCIA01_411_1: Image torch.Size([3, 224, 224]), Mask torch.Size([224, 224])\n",
      "✅ Loaded BraTS19_2013_27_1: Image torch.Size([3, 224, 224]), Mask torch.Size([224, 224])\n"
     ]
    },
    {
     "name": "stderr",
     "output_type": "stream",
     "text": [
      "Epoch [3/15]:  77%|███████▋  | 80/104 [00:41<00:12,  1.96it/s, Loss=0.542]"
     ]
    },
    {
     "name": "stdout",
     "output_type": "stream",
     "text": [
      "✅ Loaded BraTS19_2013_12_1: Image torch.Size([3, 224, 224]), Mask torch.Size([224, 224])\n",
      "✅ Loaded BraTS19_CBICA_AUA_1: Image torch.Size([3, 224, 224]), Mask torch.Size([224, 224])\n"
     ]
    },
    {
     "name": "stderr",
     "output_type": "stream",
     "text": [
      "Epoch [3/15]:  78%|███████▊  | 81/104 [00:41<00:11,  1.95it/s, Loss=0.377]"
     ]
    },
    {
     "name": "stdout",
     "output_type": "stream",
     "text": [
      "✅ Loaded BraTS19_CBICA_AVV_1: Image torch.Size([3, 224, 224]), Mask torch.Size([224, 224])\n",
      "✅ Loaded BraTS19_TCIA01_180_1: Image torch.Size([3, 224, 224]), Mask torch.Size([224, 224])\n"
     ]
    },
    {
     "name": "stderr",
     "output_type": "stream",
     "text": [
      "Epoch [3/15]:  79%|███████▉  | 82/104 [00:42<00:11,  1.96it/s, Loss=0.362]"
     ]
    },
    {
     "name": "stdout",
     "output_type": "stream",
     "text": [
      "✅ Loaded BraTS19_TCIA04_111_1: Image torch.Size([3, 224, 224]), Mask torch.Size([224, 224])\n",
      "✅ Loaded BraTS19_TCIA01_131_1: Image torch.Size([3, 224, 224]), Mask torch.Size([224, 224])\n"
     ]
    },
    {
     "name": "stderr",
     "output_type": "stream",
     "text": [
      "Epoch [3/15]:  80%|███████▉  | 83/104 [00:42<00:10,  1.96it/s, Loss=0.563]"
     ]
    },
    {
     "name": "stdout",
     "output_type": "stream",
     "text": [
      "✅ Loaded BraTS19_CBICA_ANG_1: Image torch.Size([3, 224, 224]), Mask torch.Size([224, 224])\n",
      "✅ Loaded BraTS19_CBICA_AME_1: Image torch.Size([3, 224, 224]), Mask torch.Size([224, 224])\n"
     ]
    },
    {
     "name": "stderr",
     "output_type": "stream",
     "text": [
      "Epoch [3/15]:  81%|████████  | 84/104 [00:43<00:10,  1.95it/s, Loss=0.427]"
     ]
    },
    {
     "name": "stdout",
     "output_type": "stream",
     "text": [
      "✅ Loaded BraTS19_CBICA_BAN_1: Image torch.Size([3, 224, 224]), Mask torch.Size([224, 224])\n",
      "✅ Loaded BraTS19_CBICA_BHV_1: Image torch.Size([3, 224, 224]), Mask torch.Size([224, 224])\n"
     ]
    },
    {
     "name": "stderr",
     "output_type": "stream",
     "text": [
      "Epoch [3/15]:  82%|████████▏ | 85/104 [00:43<00:09,  1.93it/s, Loss=0.37] "
     ]
    },
    {
     "name": "stdout",
     "output_type": "stream",
     "text": [
      "✅ Loaded BraTS19_TCIA06_603_1: Image torch.Size([3, 224, 224]), Mask torch.Size([224, 224])\n",
      "✅ Loaded BraTS19_TCIA01_186_1: Image torch.Size([3, 224, 224]), Mask torch.Size([224, 224])\n"
     ]
    },
    {
     "name": "stderr",
     "output_type": "stream",
     "text": [
      "Epoch [3/15]:  83%|████████▎ | 86/104 [00:44<00:09,  1.93it/s, Loss=0.328]"
     ]
    },
    {
     "name": "stdout",
     "output_type": "stream",
     "text": [
      "✅ Loaded BraTS19_CBICA_ALN_1: Image torch.Size([3, 224, 224]), Mask torch.Size([224, 224])\n",
      "✅ Loaded BraTS19_CBICA_AQY_1: Image torch.Size([3, 224, 224]), Mask torch.Size([224, 224])\n"
     ]
    },
    {
     "name": "stderr",
     "output_type": "stream",
     "text": [
      "Epoch [3/15]:  84%|████████▎ | 87/104 [00:44<00:08,  1.91it/s, Loss=0.276]"
     ]
    },
    {
     "name": "stdout",
     "output_type": "stream",
     "text": [
      "✅ Loaded BraTS19_TCIA02_118_1: Image torch.Size([3, 224, 224]), Mask torch.Size([224, 224])\n",
      "✅ Loaded BraTS19_CBICA_ANZ_1: Image torch.Size([3, 224, 224]), Mask torch.Size([224, 224])\n"
     ]
    },
    {
     "name": "stderr",
     "output_type": "stream",
     "text": [
      "Epoch [3/15]:  85%|████████▍ | 88/104 [00:45<00:08,  1.92it/s, Loss=0.491]"
     ]
    },
    {
     "name": "stdout",
     "output_type": "stream",
     "text": [
      "✅ Loaded BraTS19_TCIA02_322_1: Image torch.Size([3, 224, 224]), Mask torch.Size([224, 224])\n",
      "✅ Loaded BraTS19_CBICA_BBG_1: Image torch.Size([3, 224, 224]), Mask torch.Size([224, 224])\n"
     ]
    },
    {
     "name": "stderr",
     "output_type": "stream",
     "text": [
      "Epoch [3/15]:  86%|████████▌ | 89/104 [00:45<00:07,  1.94it/s, Loss=0.246]"
     ]
    },
    {
     "name": "stdout",
     "output_type": "stream",
     "text": [
      "✅ Loaded BraTS19_CBICA_AWG_1: Image torch.Size([3, 224, 224]), Mask torch.Size([224, 224])\n",
      "✅ Loaded BraTS19_CBICA_AQG_1: Image torch.Size([3, 224, 224]), Mask torch.Size([224, 224])\n"
     ]
    },
    {
     "name": "stderr",
     "output_type": "stream",
     "text": [
      "Epoch [3/15]:  87%|████████▋ | 90/104 [00:46<00:07,  1.96it/s, Loss=0.345]"
     ]
    },
    {
     "name": "stdout",
     "output_type": "stream",
     "text": [
      "✅ Loaded BraTS19_CBICA_BNR_1: Image torch.Size([3, 224, 224]), Mask torch.Size([224, 224])\n",
      "✅ Loaded BraTS19_TCIA03_419_1: Image torch.Size([3, 224, 224]), Mask torch.Size([224, 224])\n"
     ]
    },
    {
     "name": "stderr",
     "output_type": "stream",
     "text": [
      "Epoch [3/15]:  88%|████████▊ | 91/104 [00:46<00:06,  1.97it/s, Loss=0.281]"
     ]
    },
    {
     "name": "stdout",
     "output_type": "stream",
     "text": [
      "✅ Loaded BraTS19_TCIA03_138_1: Image torch.Size([3, 224, 224]), Mask torch.Size([224, 224])\n",
      "✅ Loaded BraTS19_CBICA_AQP_1: Image torch.Size([3, 224, 224]), Mask torch.Size([224, 224])\n"
     ]
    },
    {
     "name": "stderr",
     "output_type": "stream",
     "text": [
      "Epoch [3/15]:  88%|████████▊ | 92/104 [00:47<00:06,  1.98it/s, Loss=0.521]"
     ]
    },
    {
     "name": "stdout",
     "output_type": "stream",
     "text": [
      "✅ Loaded BraTS19_CBICA_AQT_1: Image torch.Size([3, 224, 224]), Mask torch.Size([224, 224])\n",
      "✅ Loaded BraTS19_TCIA04_192_1: Image torch.Size([3, 224, 224]), Mask torch.Size([224, 224])\n"
     ]
    },
    {
     "name": "stderr",
     "output_type": "stream",
     "text": [
      "Epoch [3/15]:  89%|████████▉ | 93/104 [00:47<00:05,  1.99it/s, Loss=0.35] "
     ]
    },
    {
     "name": "stdout",
     "output_type": "stream",
     "text": [
      "✅ Loaded BraTS19_TCIA01_190_1: Image torch.Size([3, 224, 224]), Mask torch.Size([224, 224])\n",
      "✅ Loaded BraTS19_2013_13_1: Image torch.Size([3, 224, 224]), Mask torch.Size([224, 224])\n"
     ]
    },
    {
     "name": "stderr",
     "output_type": "stream",
     "text": [
      "Epoch [3/15]:  90%|█████████ | 94/104 [00:48<00:05,  1.97it/s, Loss=0.581]"
     ]
    },
    {
     "name": "stdout",
     "output_type": "stream",
     "text": [
      "✅ Loaded BraTS19_2013_4_1: Image torch.Size([3, 224, 224]), Mask torch.Size([224, 224])\n",
      "✅ Loaded BraTS19_TCIA02_274_1: Image torch.Size([3, 224, 224]), Mask torch.Size([224, 224])\n"
     ]
    },
    {
     "name": "stderr",
     "output_type": "stream",
     "text": [
      "Epoch [3/15]:  91%|█████████▏| 95/104 [00:48<00:04,  1.98it/s, Loss=0.244]"
     ]
    },
    {
     "name": "stdout",
     "output_type": "stream",
     "text": [
      "✅ Loaded BraTS19_TCIA04_328_1: Image torch.Size([3, 224, 224]), Mask torch.Size([224, 224])\n",
      "✅ Loaded BraTS19_2013_26_1: Image torch.Size([3, 224, 224]), Mask torch.Size([224, 224])\n"
     ]
    },
    {
     "name": "stderr",
     "output_type": "stream",
     "text": [
      "Epoch [3/15]:  92%|█████████▏| 96/104 [00:49<00:04,  1.99it/s, Loss=0.578]"
     ]
    },
    {
     "name": "stdout",
     "output_type": "stream",
     "text": [
      "✅ Loaded BraTS19_TCIA02_455_1: Image torch.Size([3, 224, 224]), Mask torch.Size([224, 224])\n",
      "✅ Loaded BraTS19_CBICA_AUQ_1: Image torch.Size([3, 224, 224]), Mask torch.Size([224, 224])\n"
     ]
    },
    {
     "name": "stderr",
     "output_type": "stream",
     "text": [
      "Epoch [3/15]:  93%|█████████▎| 97/104 [00:49<00:03,  1.97it/s, Loss=0.367]"
     ]
    },
    {
     "name": "stdout",
     "output_type": "stream",
     "text": [
      "✅ Loaded BraTS19_CBICA_ANP_1: Image torch.Size([3, 224, 224]), Mask torch.Size([224, 224])\n",
      "✅ Loaded BraTS19_CBICA_ATX_1: Image torch.Size([3, 224, 224]), Mask torch.Size([224, 224])\n"
     ]
    },
    {
     "name": "stderr",
     "output_type": "stream",
     "text": [
      "Epoch [3/15]:  94%|█████████▍| 98/104 [00:50<00:03,  1.97it/s, Loss=0.326]"
     ]
    },
    {
     "name": "stdout",
     "output_type": "stream",
     "text": [
      "✅ Loaded BraTS19_TCIA02_226_1: Image torch.Size([3, 224, 224]), Mask torch.Size([224, 224])\n",
      "✅ Loaded BraTS19_TCIA04_361_1: Image torch.Size([3, 224, 224]), Mask torch.Size([224, 224])\n"
     ]
    },
    {
     "name": "stderr",
     "output_type": "stream",
     "text": [
      "Epoch [3/15]:  95%|█████████▌| 99/104 [00:50<00:02,  1.98it/s, Loss=0.392]"
     ]
    },
    {
     "name": "stdout",
     "output_type": "stream",
     "text": [
      "✅ Loaded BraTS19_CBICA_BFB_1: Image torch.Size([3, 224, 224]), Mask torch.Size([224, 224])\n",
      "✅ Loaded BraTS19_CBICA_BEM_1: Image torch.Size([3, 224, 224]), Mask torch.Size([224, 224])\n"
     ]
    },
    {
     "name": "stderr",
     "output_type": "stream",
     "text": [
      "Epoch [3/15]:  96%|█████████▌| 100/104 [00:51<00:02,  1.98it/s, Loss=0.435]"
     ]
    },
    {
     "name": "stdout",
     "output_type": "stream",
     "text": [
      "✅ Loaded BraTS19_CBICA_AQU_1: Image torch.Size([3, 224, 224]), Mask torch.Size([224, 224])\n",
      "✅ Loaded BraTS19_CBICA_ASY_1: Image torch.Size([3, 224, 224]), Mask torch.Size([224, 224])\n"
     ]
    },
    {
     "name": "stderr",
     "output_type": "stream",
     "text": [
      "Epoch [3/15]:  97%|█████████▋| 101/104 [00:51<00:01,  1.98it/s, Loss=0.436]"
     ]
    },
    {
     "name": "stdout",
     "output_type": "stream",
     "text": [
      "✅ Loaded BraTS19_CBICA_AVT_1: Image torch.Size([3, 224, 224]), Mask torch.Size([224, 224])\n",
      "✅ Loaded BraTS19_TCIA01_221_1: Image torch.Size([3, 224, 224]), Mask torch.Size([224, 224])\n"
     ]
    },
    {
     "name": "stderr",
     "output_type": "stream",
     "text": [
      "Epoch [3/15]:  98%|█████████▊| 102/104 [00:52<00:01,  1.96it/s, Loss=0.337]"
     ]
    },
    {
     "name": "stdout",
     "output_type": "stream",
     "text": [
      "✅ Loaded BraTS19_CBICA_ARZ_1: Image torch.Size([3, 224, 224]), Mask torch.Size([224, 224])\n",
      "✅ Loaded BraTS19_2013_5_1: Image torch.Size([3, 224, 224]), Mask torch.Size([224, 224])\n"
     ]
    },
    {
     "name": "stderr",
     "output_type": "stream",
     "text": [
      "Epoch [3/15]:  99%|█████████▉| 103/104 [00:52<00:00,  1.95it/s, Loss=0.388]"
     ]
    },
    {
     "name": "stdout",
     "output_type": "stream",
     "text": [
      "✅ Loaded BraTS19_TCIA08_469_1: Image torch.Size([3, 224, 224]), Mask torch.Size([224, 224])\n"
     ]
    },
    {
     "name": "stderr",
     "output_type": "stream",
     "text": [
      "                                                                           \r"
     ]
    },
    {
     "name": "stdout",
     "output_type": "stream",
     "text": [
      "\n",
      "✅ Epoch 3: Train Loss: 0.3558\n",
      "💾 Saved model at epoch 3 with train loss 0.3558\n"
     ]
    },
    {
     "name": "stderr",
     "output_type": "stream",
     "text": [
      "Epoch [4/15]:   0%|          | 0/104 [00:00<?, ?it/s]"
     ]
    },
    {
     "name": "stdout",
     "output_type": "stream",
     "text": [
      "✅ Loaded BraTS19_TCIA02_491_1: Image torch.Size([3, 224, 224]), Mask torch.Size([224, 224])\n",
      "✅ Loaded BraTS19_CBICA_ASE_1: Image torch.Size([3, 224, 224]), Mask torch.Size([224, 224])\n"
     ]
    },
    {
     "name": "stderr",
     "output_type": "stream",
     "text": [
      "Epoch [4/15]:   1%|          | 1/104 [00:00<00:55,  1.87it/s, Loss=0.385]"
     ]
    },
    {
     "name": "stdout",
     "output_type": "stream",
     "text": [
      "✅ Loaded BraTS19_CBICA_APR_1: Image torch.Size([3, 224, 224]), Mask torch.Size([224, 224])\n",
      "✅ Loaded BraTS19_TCIA02_368_1: Image torch.Size([3, 224, 224]), Mask torch.Size([224, 224])\n"
     ]
    },
    {
     "name": "stderr",
     "output_type": "stream",
     "text": [
      "Epoch [4/15]:   2%|▏         | 2/104 [00:01<00:54,  1.87it/s, Loss=0.284]"
     ]
    },
    {
     "name": "stdout",
     "output_type": "stream",
     "text": [
      "✅ Loaded BraTS19_TCIA01_150_1: Image torch.Size([3, 224, 224]), Mask torch.Size([224, 224])\n",
      "✅ Loaded BraTS19_CBICA_BHQ_1: Image torch.Size([3, 224, 224]), Mask torch.Size([224, 224])\n"
     ]
    },
    {
     "name": "stderr",
     "output_type": "stream",
     "text": [
      "Epoch [4/15]:   3%|▎         | 3/104 [00:01<00:53,  1.90it/s, Loss=0.319]"
     ]
    },
    {
     "name": "stdout",
     "output_type": "stream",
     "text": [
      "✅ Loaded BraTS19_CBICA_AUA_1: Image torch.Size([3, 224, 224]), Mask torch.Size([224, 224])\n",
      "✅ Loaded BraTS19_CBICA_AWI_1: Image torch.Size([3, 224, 224]), Mask torch.Size([224, 224])\n"
     ]
    },
    {
     "name": "stderr",
     "output_type": "stream",
     "text": [
      "Epoch [4/15]:   4%|▍         | 4/104 [00:02<00:52,  1.91it/s, Loss=0.326]"
     ]
    },
    {
     "name": "stdout",
     "output_type": "stream",
     "text": [
      "✅ Loaded BraTS19_TCIA01_412_1: Image torch.Size([3, 224, 224]), Mask torch.Size([224, 224])\n",
      "✅ Loaded BraTS19_TCIA02_605_1: Image torch.Size([3, 224, 224]), Mask torch.Size([224, 224])\n"
     ]
    },
    {
     "name": "stderr",
     "output_type": "stream",
     "text": [
      "Epoch [4/15]:   5%|▍         | 5/104 [00:02<00:51,  1.91it/s, Loss=0.275]"
     ]
    },
    {
     "name": "stdout",
     "output_type": "stream",
     "text": [
      "✅ Loaded BraTS19_CBICA_AYC_1: Image torch.Size([3, 224, 224]), Mask torch.Size([224, 224])\n",
      "✅ Loaded BraTS19_TCIA01_460_1: Image torch.Size([3, 224, 224]), Mask torch.Size([224, 224])\n"
     ]
    },
    {
     "name": "stderr",
     "output_type": "stream",
     "text": [
      "Epoch [4/15]:   6%|▌         | 6/104 [00:03<00:50,  1.93it/s, Loss=0.299]"
     ]
    },
    {
     "name": "stdout",
     "output_type": "stream",
     "text": [
      "✅ Loaded BraTS19_CBICA_AQV_1: Image torch.Size([3, 224, 224]), Mask torch.Size([224, 224])\n",
      "✅ Loaded BraTS19_CBICA_AWG_1: Image torch.Size([3, 224, 224]), Mask torch.Size([224, 224])\n"
     ]
    },
    {
     "name": "stderr",
     "output_type": "stream",
     "text": [
      "Epoch [4/15]:   7%|▋         | 7/104 [00:03<00:49,  1.94it/s, Loss=0.314]"
     ]
    },
    {
     "name": "stdout",
     "output_type": "stream",
     "text": [
      "✅ Loaded BraTS19_TCIA01_390_1: Image torch.Size([3, 224, 224]), Mask torch.Size([224, 224])\n",
      "✅ Loaded BraTS19_CBICA_ASG_1: Image torch.Size([3, 224, 224]), Mask torch.Size([224, 224])\n"
     ]
    },
    {
     "name": "stderr",
     "output_type": "stream",
     "text": [
      "Epoch [4/15]:   8%|▊         | 8/104 [00:04<00:49,  1.95it/s, Loss=0.372]"
     ]
    },
    {
     "name": "stdout",
     "output_type": "stream",
     "text": [
      "✅ Loaded BraTS19_2013_20_1: Image torch.Size([3, 224, 224]), Mask torch.Size([224, 224])\n",
      "✅ Loaded BraTS19_TCIA01_147_1: Image torch.Size([3, 224, 224]), Mask torch.Size([224, 224])\n"
     ]
    },
    {
     "name": "stderr",
     "output_type": "stream",
     "text": [
      "Epoch [4/15]:   9%|▊         | 9/104 [00:04<00:49,  1.92it/s, Loss=0.313]"
     ]
    },
    {
     "name": "stdout",
     "output_type": "stream",
     "text": [
      "✅ Loaded BraTS19_CBICA_ASH_1: Image torch.Size([3, 224, 224]), Mask torch.Size([224, 224])\n",
      "✅ Loaded BraTS19_2013_25_1: Image torch.Size([3, 224, 224]), Mask torch.Size([224, 224])\n"
     ]
    },
    {
     "name": "stderr",
     "output_type": "stream",
     "text": [
      "Epoch [4/15]:  10%|▉         | 10/104 [00:05<00:49,  1.89it/s, Loss=0.75]"
     ]
    },
    {
     "name": "stdout",
     "output_type": "stream",
     "text": [
      "✅ Loaded BraTS19_2013_10_1: Image torch.Size([3, 224, 224]), Mask torch.Size([224, 224])\n",
      "✅ Loaded BraTS19_CBICA_AQR_1: Image torch.Size([3, 224, 224]), Mask torch.Size([224, 224])\n"
     ]
    },
    {
     "name": "stderr",
     "output_type": "stream",
     "text": [
      "Epoch [4/15]:  11%|█         | 11/104 [00:05<00:49,  1.87it/s, Loss=0.171]"
     ]
    },
    {
     "name": "stdout",
     "output_type": "stream",
     "text": [
      "✅ Loaded BraTS19_TCIA01_235_1: Image torch.Size([3, 224, 224]), Mask torch.Size([224, 224])\n",
      "✅ Loaded BraTS19_CBICA_AAL_1: Image torch.Size([3, 224, 224]), Mask torch.Size([224, 224])\n"
     ]
    },
    {
     "name": "stderr",
     "output_type": "stream",
     "text": [
      "Epoch [4/15]:  12%|█▏        | 12/104 [00:06<00:48,  1.89it/s, Loss=0.391]"
     ]
    },
    {
     "name": "stdout",
     "output_type": "stream",
     "text": [
      "✅ Loaded BraTS19_TCIA06_184_1: Image torch.Size([3, 224, 224]), Mask torch.Size([224, 224])\n",
      "✅ Loaded BraTS19_CBICA_AYI_1: Image torch.Size([3, 224, 224]), Mask torch.Size([224, 224])\n"
     ]
    },
    {
     "name": "stderr",
     "output_type": "stream",
     "text": [
      "Epoch [4/15]:  12%|█▎        | 13/104 [00:06<00:48,  1.87it/s, Loss=0.3]  "
     ]
    },
    {
     "name": "stdout",
     "output_type": "stream",
     "text": [
      "✅ Loaded BraTS19_CBICA_APK_1: Image torch.Size([3, 224, 224]), Mask torch.Size([224, 224])\n",
      "✅ Loaded BraTS19_CBICA_AQN_1: Image torch.Size([3, 224, 224]), Mask torch.Size([224, 224])\n"
     ]
    },
    {
     "name": "stderr",
     "output_type": "stream",
     "text": [
      "Epoch [4/15]:  13%|█▎        | 14/104 [00:07<00:48,  1.87it/s, Loss=0.402]"
     ]
    },
    {
     "name": "stdout",
     "output_type": "stream",
     "text": [
      "✅ Loaded BraTS19_CBICA_AQU_1: Image torch.Size([3, 224, 224]), Mask torch.Size([224, 224])\n",
      "✅ Loaded BraTS19_CBICA_APZ_1: Image torch.Size([3, 224, 224]), Mask torch.Size([224, 224])\n"
     ]
    },
    {
     "name": "stderr",
     "output_type": "stream",
     "text": [
      "Epoch [4/15]:  14%|█▍        | 15/104 [00:07<00:47,  1.87it/s, Loss=0.433]"
     ]
    },
    {
     "name": "stdout",
     "output_type": "stream",
     "text": [
      "✅ Loaded BraTS19_TMC_11964_1: Image torch.Size([3, 224, 224]), Mask torch.Size([224, 224])\n",
      "✅ Loaded BraTS19_TCIA06_409_1: Image torch.Size([3, 224, 224]), Mask torch.Size([224, 224])\n"
     ]
    },
    {
     "name": "stderr",
     "output_type": "stream",
     "text": [
      "Epoch [4/15]:  15%|█▌        | 16/104 [00:08<00:47,  1.84it/s, Loss=0.288]"
     ]
    },
    {
     "name": "stdout",
     "output_type": "stream",
     "text": [
      "✅ Loaded BraTS19_CBICA_BAP_1: Image torch.Size([3, 224, 224]), Mask torch.Size([224, 224])\n",
      "✅ Loaded BraTS19_TCIA01_131_1: Image torch.Size([3, 224, 224]), Mask torch.Size([224, 224])\n"
     ]
    },
    {
     "name": "stderr",
     "output_type": "stream",
     "text": [
      "Epoch [4/15]:  16%|█▋        | 17/104 [00:09<00:46,  1.86it/s, Loss=0.376]"
     ]
    },
    {
     "name": "stdout",
     "output_type": "stream",
     "text": [
      "✅ Loaded BraTS19_TCIA02_455_1: Image torch.Size([3, 224, 224]), Mask torch.Size([224, 224])\n",
      "✅ Loaded BraTS19_TCIA05_444_1: Image torch.Size([3, 224, 224]), Mask torch.Size([224, 224])\n"
     ]
    },
    {
     "name": "stderr",
     "output_type": "stream",
     "text": [
      "Epoch [4/15]:  17%|█▋        | 18/104 [00:09<00:46,  1.84it/s, Loss=0.335]"
     ]
    },
    {
     "name": "stdout",
     "output_type": "stream",
     "text": [
      "✅ Loaded BraTS19_CBICA_BCF_1: Image torch.Size([3, 224, 224]), Mask torch.Size([224, 224])\n",
      "✅ Loaded BraTS19_TCIA01_180_1: Image torch.Size([3, 224, 224]), Mask torch.Size([224, 224])\n"
     ]
    },
    {
     "name": "stderr",
     "output_type": "stream",
     "text": [
      "Epoch [4/15]:  18%|█▊        | 19/104 [00:10<00:47,  1.81it/s, Loss=0.368]"
     ]
    },
    {
     "name": "stdout",
     "output_type": "stream",
     "text": [
      "✅ Loaded BraTS19_2013_13_1: Image torch.Size([3, 224, 224]), Mask torch.Size([224, 224])\n",
      "✅ Loaded BraTS19_CBICA_ATD_1: Image torch.Size([3, 224, 224]), Mask torch.Size([224, 224])\n"
     ]
    },
    {
     "name": "stderr",
     "output_type": "stream",
     "text": [
      "Epoch [4/15]:  19%|█▉        | 20/104 [00:10<00:46,  1.81it/s, Loss=0.587]"
     ]
    },
    {
     "name": "stdout",
     "output_type": "stream",
     "text": [
      "✅ Loaded BraTS19_CBICA_AME_1: Image torch.Size([3, 224, 224]), Mask torch.Size([224, 224])\n",
      "✅ Loaded BraTS19_TCIA02_274_1: Image torch.Size([3, 224, 224]), Mask torch.Size([224, 224])\n"
     ]
    },
    {
     "name": "stderr",
     "output_type": "stream",
     "text": [
      "Epoch [4/15]:  20%|██        | 21/104 [00:11<00:45,  1.83it/s, Loss=0.231]"
     ]
    },
    {
     "name": "stdout",
     "output_type": "stream",
     "text": [
      "✅ Loaded BraTS19_CBICA_ANP_1: Image torch.Size([3, 224, 224]), Mask torch.Size([224, 224])\n",
      "✅ Loaded BraTS19_CBICA_ARZ_1: Image torch.Size([3, 224, 224]), Mask torch.Size([224, 224])\n"
     ]
    },
    {
     "name": "stderr",
     "output_type": "stream",
     "text": [
      "Epoch [4/15]:  21%|██        | 22/104 [00:11<00:44,  1.85it/s, Loss=0.499]"
     ]
    },
    {
     "name": "stdout",
     "output_type": "stream",
     "text": [
      "✅ Loaded BraTS19_CBICA_AVB_1: Image torch.Size([3, 224, 224]), Mask torch.Size([224, 224])\n",
      "✅ Loaded BraTS19_TCIA04_437_1: Image torch.Size([3, 224, 224]), Mask torch.Size([224, 224])\n"
     ]
    },
    {
     "name": "stderr",
     "output_type": "stream",
     "text": [
      "Epoch [4/15]:  22%|██▏       | 23/104 [00:12<00:43,  1.84it/s, Loss=0.358]"
     ]
    },
    {
     "name": "stdout",
     "output_type": "stream",
     "text": [
      "✅ Loaded BraTS19_TCIA06_165_1: Image torch.Size([3, 224, 224]), Mask torch.Size([224, 224])\n",
      "✅ Loaded BraTS19_TCIA02_322_1: Image torch.Size([3, 224, 224]), Mask torch.Size([224, 224])\n"
     ]
    },
    {
     "name": "stderr",
     "output_type": "stream",
     "text": [
      "Epoch [4/15]:  23%|██▎       | 24/104 [00:12<00:43,  1.85it/s, Loss=0.258]"
     ]
    },
    {
     "name": "stdout",
     "output_type": "stream",
     "text": [
      "✅ Loaded BraTS19_TCIA08_218_1: Image torch.Size([3, 224, 224]), Mask torch.Size([224, 224])\n",
      "✅ Loaded BraTS19_CBICA_AXJ_1: Image torch.Size([3, 224, 224]), Mask torch.Size([224, 224])\n"
     ]
    },
    {
     "name": "stderr",
     "output_type": "stream",
     "text": [
      "Epoch [4/15]:  24%|██▍       | 25/104 [00:13<00:42,  1.87it/s, Loss=0.2]  "
     ]
    },
    {
     "name": "stdout",
     "output_type": "stream",
     "text": [
      "✅ Loaded BraTS19_TCIA03_419_1: Image torch.Size([3, 224, 224]), Mask torch.Size([224, 224])\n",
      "✅ Loaded BraTS19_TCIA04_479_1: Image torch.Size([3, 224, 224]), Mask torch.Size([224, 224])\n"
     ]
    },
    {
     "name": "stderr",
     "output_type": "stream",
     "text": [
      "Epoch [4/15]:  25%|██▌       | 26/104 [00:13<00:41,  1.86it/s, Loss=0.232]"
     ]
    },
    {
     "name": "stdout",
     "output_type": "stream",
     "text": [
      "✅ Loaded BraTS19_2013_3_1: Image torch.Size([3, 224, 224]), Mask torch.Size([224, 224])\n",
      "✅ Loaded BraTS19_CBICA_AVJ_1: Image torch.Size([3, 224, 224]), Mask torch.Size([224, 224])\n"
     ]
    },
    {
     "name": "stderr",
     "output_type": "stream",
     "text": [
      "Epoch [4/15]:  26%|██▌       | 27/104 [00:14<00:41,  1.88it/s, Loss=0.331]"
     ]
    },
    {
     "name": "stdout",
     "output_type": "stream",
     "text": [
      "✅ Loaded BraTS19_TCIA05_396_1: Image torch.Size([3, 224, 224]), Mask torch.Size([224, 224])\n",
      "✅ Loaded BraTS19_2013_19_1: Image torch.Size([3, 224, 224]), Mask torch.Size([224, 224])\n"
     ]
    },
    {
     "name": "stderr",
     "output_type": "stream",
     "text": [
      "Epoch [4/15]:  27%|██▋       | 28/104 [00:14<00:41,  1.85it/s, Loss=0.287]"
     ]
    },
    {
     "name": "stdout",
     "output_type": "stream",
     "text": [
      "✅ Loaded BraTS19_TCIA02_198_1: Image torch.Size([3, 224, 224]), Mask torch.Size([224, 224])\n",
      "✅ Loaded BraTS19_CBICA_ASA_1: Image torch.Size([3, 224, 224]), Mask torch.Size([224, 224])\n"
     ]
    },
    {
     "name": "stderr",
     "output_type": "stream",
     "text": [
      "Epoch [4/15]:  28%|██▊       | 29/104 [00:15<00:40,  1.86it/s, Loss=0.327]"
     ]
    },
    {
     "name": "stdout",
     "output_type": "stream",
     "text": [
      "✅ Loaded BraTS19_TCIA04_328_1: Image torch.Size([3, 224, 224]), Mask torch.Size([224, 224])\n",
      "✅ Loaded BraTS19_TCIA02_321_1: Image torch.Size([3, 224, 224]), Mask torch.Size([224, 224])\n"
     ]
    },
    {
     "name": "stderr",
     "output_type": "stream",
     "text": [
      "Epoch [4/15]:  29%|██▉       | 30/104 [00:16<00:41,  1.80it/s, Loss=0.26] "
     ]
    },
    {
     "name": "stdout",
     "output_type": "stream",
     "text": [
      "✅ Loaded BraTS19_CBICA_ATP_1: Image torch.Size([3, 224, 224]), Mask torch.Size([224, 224])\n",
      "✅ Loaded BraTS19_CBICA_AAG_1: Image torch.Size([3, 224, 224]), Mask torch.Size([224, 224])\n"
     ]
    },
    {
     "name": "stderr",
     "output_type": "stream",
     "text": [
      "Epoch [4/15]:  30%|██▉       | 31/104 [00:16<00:40,  1.80it/s, Loss=0.597]"
     ]
    },
    {
     "name": "stdout",
     "output_type": "stream",
     "text": [
      "✅ Loaded BraTS19_TMC_15477_1: Image torch.Size([3, 224, 224]), Mask torch.Size([224, 224])\n",
      "✅ Loaded BraTS19_TCIA03_257_1: Image torch.Size([3, 224, 224]), Mask torch.Size([224, 224])\n"
     ]
    },
    {
     "name": "stderr",
     "output_type": "stream",
     "text": [
      "Epoch [4/15]:  31%|███       | 32/104 [00:17<00:38,  1.85it/s, Loss=0.293]"
     ]
    },
    {
     "name": "stdout",
     "output_type": "stream",
     "text": [
      "✅ Loaded BraTS19_CBICA_ANZ_1: Image torch.Size([3, 224, 224]), Mask torch.Size([224, 224])\n",
      "✅ Loaded BraTS19_2013_2_1: Image torch.Size([3, 224, 224]), Mask torch.Size([224, 224])\n"
     ]
    },
    {
     "name": "stderr",
     "output_type": "stream",
     "text": [
      "Epoch [4/15]:  32%|███▏      | 33/104 [00:17<00:37,  1.89it/s, Loss=0.623]"
     ]
    },
    {
     "name": "stdout",
     "output_type": "stream",
     "text": [
      "✅ Loaded BraTS19_TCIA08_167_1: Image torch.Size([3, 224, 224]), Mask torch.Size([224, 224])\n",
      "✅ Loaded BraTS19_CBICA_ABE_1: Image torch.Size([3, 224, 224]), Mask torch.Size([224, 224])\n"
     ]
    },
    {
     "name": "stderr",
     "output_type": "stream",
     "text": [
      "Epoch [4/15]:  33%|███▎      | 34/104 [00:18<00:36,  1.91it/s, Loss=0.266]"
     ]
    },
    {
     "name": "stdout",
     "output_type": "stream",
     "text": [
      "✅ Loaded BraTS19_TCIA08_234_1: Image torch.Size([3, 224, 224]), Mask torch.Size([224, 224])\n",
      "✅ Loaded BraTS19_CBICA_BHZ_1: Image torch.Size([3, 224, 224]), Mask torch.Size([224, 224])\n"
     ]
    },
    {
     "name": "stderr",
     "output_type": "stream",
     "text": [
      "Epoch [4/15]:  34%|███▎      | 35/104 [00:18<00:35,  1.93it/s, Loss=0.195]"
     ]
    },
    {
     "name": "stdout",
     "output_type": "stream",
     "text": [
      "✅ Loaded BraTS19_TCIA04_192_1: Image torch.Size([3, 224, 224]), Mask torch.Size([224, 224])\n",
      "✅ Loaded BraTS19_2013_18_1: Image torch.Size([3, 224, 224]), Mask torch.Size([224, 224])\n"
     ]
    },
    {
     "name": "stderr",
     "output_type": "stream",
     "text": [
      "Epoch [4/15]:  35%|███▍      | 36/104 [00:19<00:35,  1.89it/s, Loss=0.321]"
     ]
    },
    {
     "name": "stdout",
     "output_type": "stream",
     "text": [
      "✅ Loaded BraTS19_CBICA_AAP_1: Image torch.Size([3, 224, 224]), Mask torch.Size([224, 224])\n",
      "✅ Loaded BraTS19_CBICA_BHV_1: Image torch.Size([3, 224, 224]), Mask torch.Size([224, 224])\n"
     ]
    },
    {
     "name": "stderr",
     "output_type": "stream",
     "text": [
      "Epoch [4/15]:  36%|███▌      | 37/104 [00:19<00:35,  1.91it/s, Loss=0.279]"
     ]
    },
    {
     "name": "stdout",
     "output_type": "stream",
     "text": [
      "✅ Loaded BraTS19_TCIA04_149_1: Image torch.Size([3, 224, 224]), Mask torch.Size([224, 224])\n",
      "✅ Loaded BraTS19_TCIA02_171_1: Image torch.Size([3, 224, 224]), Mask torch.Size([224, 224])\n"
     ]
    },
    {
     "name": "stderr",
     "output_type": "stream",
     "text": [
      "Epoch [4/15]:  37%|███▋      | 38/104 [00:20<00:33,  1.94it/s, Loss=0.445]"
     ]
    },
    {
     "name": "stdout",
     "output_type": "stream",
     "text": [
      "✅ Loaded BraTS19_TMC_12866_1: Image torch.Size([3, 224, 224]), Mask torch.Size([224, 224])\n",
      "✅ Loaded BraTS19_CBICA_AXL_1: Image torch.Size([3, 224, 224]), Mask torch.Size([224, 224])\n"
     ]
    },
    {
     "name": "stderr",
     "output_type": "stream",
     "text": [
      "Epoch [4/15]:  38%|███▊      | 39/104 [00:20<00:33,  1.93it/s, Loss=0.279]"
     ]
    },
    {
     "name": "stdout",
     "output_type": "stream",
     "text": [
      "✅ Loaded BraTS19_CBICA_AWH_1: Image torch.Size([3, 224, 224]), Mask torch.Size([224, 224])\n",
      "✅ Loaded BraTS19_CBICA_ASK_1: Image torch.Size([3, 224, 224]), Mask torch.Size([224, 224])\n"
     ]
    },
    {
     "name": "stderr",
     "output_type": "stream",
     "text": [
      "Epoch [4/15]:  38%|███▊      | 40/104 [00:21<00:32,  1.95it/s, Loss=0.41] "
     ]
    },
    {
     "name": "stdout",
     "output_type": "stream",
     "text": [
      "✅ Loaded BraTS19_CBICA_AAB_1: Image torch.Size([3, 224, 224]), Mask torch.Size([224, 224])\n",
      "✅ Loaded BraTS19_CBICA_AQD_1: Image torch.Size([3, 224, 224]), Mask torch.Size([224, 224])\n"
     ]
    },
    {
     "name": "stderr",
     "output_type": "stream",
     "text": [
      "Epoch [4/15]:  39%|███▉      | 41/104 [00:21<00:32,  1.97it/s, Loss=0.301]"
     ]
    },
    {
     "name": "stdout",
     "output_type": "stream",
     "text": [
      "✅ Loaded BraTS19_TCIA02_394_1: Image torch.Size([3, 224, 224]), Mask torch.Size([224, 224])\n",
      "✅ Loaded BraTS19_CBICA_AUN_1: Image torch.Size([3, 224, 224]), Mask torch.Size([224, 224])\n"
     ]
    },
    {
     "name": "stderr",
     "output_type": "stream",
     "text": [
      "Epoch [4/15]:  40%|████      | 42/104 [00:22<00:31,  1.96it/s, Loss=0.284]"
     ]
    },
    {
     "name": "stdout",
     "output_type": "stream",
     "text": [
      "✅ Loaded BraTS19_2013_27_1: Image torch.Size([3, 224, 224]), Mask torch.Size([224, 224])\n",
      "✅ Loaded BraTS19_2013_26_1: Image torch.Size([3, 224, 224]), Mask torch.Size([224, 224])\n"
     ]
    },
    {
     "name": "stderr",
     "output_type": "stream",
     "text": [
      "Epoch [4/15]:  41%|████▏     | 43/104 [00:22<00:31,  1.94it/s, Loss=0.549]"
     ]
    },
    {
     "name": "stdout",
     "output_type": "stream",
     "text": [
      "✅ Loaded BraTS19_TCIA02_290_1: Image torch.Size([3, 224, 224]), Mask torch.Size([224, 224])\n",
      "✅ Loaded BraTS19_TCIA03_199_1: Image torch.Size([3, 224, 224]), Mask torch.Size([224, 224])\n"
     ]
    },
    {
     "name": "stderr",
     "output_type": "stream",
     "text": [
      "Epoch [4/15]:  42%|████▏     | 44/104 [00:23<00:30,  1.95it/s, Loss=0.248]"
     ]
    },
    {
     "name": "stdout",
     "output_type": "stream",
     "text": [
      "✅ Loaded BraTS19_TCIA02_331_1: Image torch.Size([3, 224, 224]), Mask torch.Size([224, 224])\n",
      "✅ Loaded BraTS19_TCIA01_221_1: Image torch.Size([3, 224, 224]), Mask torch.Size([224, 224])\n"
     ]
    },
    {
     "name": "stderr",
     "output_type": "stream",
     "text": [
      "Epoch [4/15]:  43%|████▎     | 45/104 [00:23<00:30,  1.96it/s, Loss=0.271]"
     ]
    },
    {
     "name": "stdout",
     "output_type": "stream",
     "text": [
      "✅ Loaded BraTS19_TCIA08_205_1: Image torch.Size([3, 224, 224]), Mask torch.Size([224, 224])\n",
      "✅ Loaded BraTS19_CBICA_ASV_1: Image torch.Size([3, 224, 224]), Mask torch.Size([224, 224])\n"
     ]
    },
    {
     "name": "stderr",
     "output_type": "stream",
     "text": [
      "Epoch [4/15]:  44%|████▍     | 46/104 [00:24<00:29,  1.95it/s, Loss=0.322]"
     ]
    },
    {
     "name": "stdout",
     "output_type": "stream",
     "text": [
      "✅ Loaded BraTS19_CBICA_ATN_1: Image torch.Size([3, 224, 224]), Mask torch.Size([224, 224])\n",
      "✅ Loaded BraTS19_TCIA02_168_1: Image torch.Size([3, 224, 224]), Mask torch.Size([224, 224])\n"
     ]
    },
    {
     "name": "stderr",
     "output_type": "stream",
     "text": [
      "Epoch [4/15]:  45%|████▌     | 47/104 [00:24<00:29,  1.93it/s, Loss=0.331]"
     ]
    },
    {
     "name": "stdout",
     "output_type": "stream",
     "text": [
      "✅ Loaded BraTS19_TCIA08_113_1: Image torch.Size([3, 224, 224]), Mask torch.Size([224, 224])\n",
      "✅ Loaded BraTS19_TCIA08_406_1: Image torch.Size([3, 224, 224]), Mask torch.Size([224, 224])\n"
     ]
    },
    {
     "name": "stderr",
     "output_type": "stream",
     "text": [
      "Epoch [4/15]:  46%|████▌     | 48/104 [00:25<00:29,  1.91it/s, Loss=0.565]"
     ]
    },
    {
     "name": "stdout",
     "output_type": "stream",
     "text": [
      "✅ Loaded BraTS19_CBICA_BNR_1: Image torch.Size([3, 224, 224]), Mask torch.Size([224, 224])\n",
      "✅ Loaded BraTS19_TMC_30014_1: Image torch.Size([3, 224, 224]), Mask torch.Size([224, 224])\n"
     ]
    },
    {
     "name": "stderr",
     "output_type": "stream",
     "text": [
      "Epoch [4/15]:  47%|████▋     | 49/104 [00:25<00:29,  1.87it/s, Loss=0.495]"
     ]
    },
    {
     "name": "stdout",
     "output_type": "stream",
     "text": [
      "✅ Loaded BraTS19_CBICA_ABY_1: Image torch.Size([3, 224, 224]), Mask torch.Size([224, 224])\n",
      "✅ Loaded BraTS19_TCIA02_118_1: Image torch.Size([3, 224, 224]), Mask torch.Size([224, 224])\n"
     ]
    },
    {
     "name": "stderr",
     "output_type": "stream",
     "text": [
      "Epoch [4/15]:  48%|████▊     | 50/104 [00:26<00:28,  1.91it/s, Loss=0.486]"
     ]
    },
    {
     "name": "stdout",
     "output_type": "stream",
     "text": [
      "✅ Loaded BraTS19_CBICA_BKV_1: Image torch.Size([3, 224, 224]), Mask torch.Size([224, 224])\n",
      "✅ Loaded BraTS19_CBICA_ANG_1: Image torch.Size([3, 224, 224]), Mask torch.Size([224, 224])\n"
     ]
    },
    {
     "name": "stderr",
     "output_type": "stream",
     "text": [
      "Epoch [4/15]:  49%|████▉     | 51/104 [00:26<00:27,  1.91it/s, Loss=0.368]"
     ]
    },
    {
     "name": "stdout",
     "output_type": "stream",
     "text": [
      "✅ Loaded BraTS19_CBICA_BGE_1: Image torch.Size([3, 224, 224]), Mask torch.Size([224, 224])\n",
      "✅ Loaded BraTS19_CBICA_ATX_1: Image torch.Size([3, 224, 224]), Mask torch.Size([224, 224])\n"
     ]
    },
    {
     "name": "stderr",
     "output_type": "stream",
     "text": [
      "Epoch [4/15]:  50%|█████     | 52/104 [00:27<00:27,  1.92it/s, Loss=0.355]"
     ]
    },
    {
     "name": "stdout",
     "output_type": "stream",
     "text": [
      "✅ Loaded BraTS19_TCIA01_378_1: Image torch.Size([3, 224, 224]), Mask torch.Size([224, 224])\n",
      "✅ Loaded BraTS19_CBICA_AYU_1: Image torch.Size([3, 224, 224]), Mask torch.Size([224, 224])\n"
     ]
    },
    {
     "name": "stderr",
     "output_type": "stream",
     "text": [
      "Epoch [4/15]:  51%|█████     | 53/104 [00:28<00:26,  1.92it/s, Loss=0.344]"
     ]
    },
    {
     "name": "stdout",
     "output_type": "stream",
     "text": [
      "✅ Loaded BraTS19_TCIA08_162_1: Image torch.Size([3, 224, 224]), Mask torch.Size([224, 224])\n",
      "✅ Loaded BraTS19_TCIA03_138_1: Image torch.Size([3, 224, 224]), Mask torch.Size([224, 224])\n"
     ]
    },
    {
     "name": "stderr",
     "output_type": "stream",
     "text": [
      "Epoch [4/15]:  52%|█████▏    | 54/104 [00:28<00:25,  1.93it/s, Loss=0.361]"
     ]
    },
    {
     "name": "stdout",
     "output_type": "stream",
     "text": [
      "✅ Loaded BraTS19_CBICA_BGT_1: Image torch.Size([3, 224, 224]), Mask torch.Size([224, 224])\n",
      "✅ Loaded BraTS19_CBICA_AVV_1: Image torch.Size([3, 224, 224]), Mask torch.Size([224, 224])\n"
     ]
    },
    {
     "name": "stderr",
     "output_type": "stream",
     "text": [
      "Epoch [4/15]:  53%|█████▎    | 55/104 [00:29<00:25,  1.93it/s, Loss=0.354]"
     ]
    },
    {
     "name": "stdout",
     "output_type": "stream",
     "text": [
      "✅ Loaded BraTS19_TCIA02_309_1: Image torch.Size([3, 224, 224]), Mask torch.Size([224, 224])\n",
      "✅ Loaded BraTS19_CBICA_BGG_1: Image torch.Size([3, 224, 224]), Mask torch.Size([224, 224])\n"
     ]
    },
    {
     "name": "stderr",
     "output_type": "stream",
     "text": [
      "Epoch [4/15]:  54%|█████▍    | 56/104 [00:29<00:25,  1.91it/s, Loss=0.323]"
     ]
    },
    {
     "name": "stdout",
     "output_type": "stream",
     "text": [
      "✅ Loaded BraTS19_CBICA_ARF_1: Image torch.Size([3, 224, 224]), Mask torch.Size([224, 224])\n",
      "✅ Loaded BraTS19_TCIA01_499_1: Image torch.Size([3, 224, 224]), Mask torch.Size([224, 224])\n"
     ]
    },
    {
     "name": "stderr",
     "output_type": "stream",
     "text": [
      "Epoch [4/15]:  55%|█████▍    | 57/104 [00:30<00:24,  1.92it/s, Loss=0.305]"
     ]
    },
    {
     "name": "stdout",
     "output_type": "stream",
     "text": [
      "✅ Loaded BraTS19_TMC_21360_1: Image torch.Size([3, 224, 224]), Mask torch.Size([224, 224])\n",
      "✅ Loaded BraTS19_CBICA_BAX_1: Image torch.Size([3, 224, 224]), Mask torch.Size([224, 224])\n"
     ]
    },
    {
     "name": "stderr",
     "output_type": "stream",
     "text": [
      "Epoch [4/15]:  56%|█████▌    | 58/104 [00:30<00:23,  1.94it/s, Loss=0.242]"
     ]
    },
    {
     "name": "stdout",
     "output_type": "stream",
     "text": [
      "✅ Loaded BraTS19_CBICA_AQJ_1: Image torch.Size([3, 224, 224]), Mask torch.Size([224, 224])\n",
      "✅ Loaded BraTS19_CBICA_AXQ_1: Image torch.Size([3, 224, 224]), Mask torch.Size([224, 224])\n"
     ]
    },
    {
     "name": "stderr",
     "output_type": "stream",
     "text": [
      "Epoch [4/15]:  57%|█████▋    | 59/104 [00:31<00:23,  1.94it/s, Loss=0.36] "
     ]
    },
    {
     "name": "stdout",
     "output_type": "stream",
     "text": [
      "✅ Loaded BraTS19_TCIA04_111_1: Image torch.Size([3, 224, 224]), Mask torch.Size([224, 224])\n",
      "✅ Loaded BraTS19_TCIA01_425_1: Image torch.Size([3, 224, 224]), Mask torch.Size([224, 224])\n"
     ]
    },
    {
     "name": "stderr",
     "output_type": "stream",
     "text": [
      "Epoch [4/15]:  58%|█████▊    | 60/104 [00:31<00:22,  1.96it/s, Loss=0.556]"
     ]
    },
    {
     "name": "stdout",
     "output_type": "stream",
     "text": [
      "✅ Loaded BraTS19_CBICA_BGN_1: Image torch.Size([3, 224, 224]), Mask torch.Size([224, 224])\n",
      "✅ Loaded BraTS19_CBICA_AOC_1: Image torch.Size([3, 224, 224]), Mask torch.Size([224, 224])\n"
     ]
    },
    {
     "name": "stderr",
     "output_type": "stream",
     "text": [
      "Epoch [4/15]:  59%|█████▊    | 61/104 [00:32<00:21,  1.96it/s, Loss=0.181]"
     ]
    },
    {
     "name": "stdout",
     "output_type": "stream",
     "text": [
      "✅ Loaded BraTS19_TCIA02_151_1: Image torch.Size([3, 224, 224]), Mask torch.Size([224, 224])\n",
      "✅ Loaded BraTS19_TCIA02_222_1: Image torch.Size([3, 224, 224]), Mask torch.Size([224, 224])\n"
     ]
    },
    {
     "name": "stderr",
     "output_type": "stream",
     "text": [
      "Epoch [4/15]:  60%|█████▉    | 62/104 [00:32<00:21,  1.97it/s, Loss=0.262]"
     ]
    },
    {
     "name": "stdout",
     "output_type": "stream",
     "text": [
      "✅ Loaded BraTS19_CBICA_AOS_1: Image torch.Size([3, 224, 224]), Mask torch.Size([224, 224])\n",
      "✅ Loaded BraTS19_CBICA_AUW_1: Image torch.Size([3, 224, 224]), Mask torch.Size([224, 224])\n"
     ]
    },
    {
     "name": "stderr",
     "output_type": "stream",
     "text": [
      "Epoch [4/15]:  61%|██████    | 63/104 [00:33<00:20,  1.96it/s, Loss=0.268]"
     ]
    },
    {
     "name": "stdout",
     "output_type": "stream",
     "text": [
      "✅ Loaded BraTS19_CBICA_ALN_1: Image torch.Size([3, 224, 224]), Mask torch.Size([224, 224])\n",
      "✅ Loaded BraTS19_TCIA04_361_1: Image torch.Size([3, 224, 224]), Mask torch.Size([224, 224])\n"
     ]
    },
    {
     "name": "stderr",
     "output_type": "stream",
     "text": [
      "Epoch [4/15]:  62%|██████▏   | 64/104 [00:33<00:20,  1.93it/s, Loss=0.359]"
     ]
    },
    {
     "name": "stdout",
     "output_type": "stream",
     "text": [
      "✅ Loaded BraTS19_2013_4_1: Image torch.Size([3, 224, 224]), Mask torch.Size([224, 224])\n",
      "✅ Loaded BraTS19_CBICA_ATB_1: Image torch.Size([3, 224, 224]), Mask torch.Size([224, 224])\n"
     ]
    },
    {
     "name": "stderr",
     "output_type": "stream",
     "text": [
      "Epoch [4/15]:  62%|██████▎   | 65/104 [00:34<00:20,  1.93it/s, Loss=0.454]"
     ]
    },
    {
     "name": "stdout",
     "output_type": "stream",
     "text": [
      "✅ Loaded BraTS19_TCIA08_280_1: Image torch.Size([3, 224, 224]), Mask torch.Size([224, 224])\n",
      "✅ Loaded BraTS19_TCIA06_332_1: Image torch.Size([3, 224, 224]), Mask torch.Size([224, 224])\n"
     ]
    },
    {
     "name": "stderr",
     "output_type": "stream",
     "text": [
      "Epoch [4/15]:  63%|██████▎   | 66/104 [00:34<00:19,  1.93it/s, Loss=0.577]"
     ]
    },
    {
     "name": "stdout",
     "output_type": "stream",
     "text": [
      "✅ Loaded BraTS19_CBICA_ALX_1: Image torch.Size([3, 224, 224]), Mask torch.Size([224, 224])\n",
      "✅ Loaded BraTS19_CBICA_AUR_1: Image torch.Size([3, 224, 224]), Mask torch.Size([224, 224])\n"
     ]
    },
    {
     "name": "stderr",
     "output_type": "stream",
     "text": [
      "Epoch [4/15]:  64%|██████▍   | 67/104 [00:35<00:19,  1.93it/s, Loss=0.507]"
     ]
    },
    {
     "name": "stdout",
     "output_type": "stream",
     "text": [
      "✅ Loaded BraTS19_CBICA_BHB_1: Image torch.Size([3, 224, 224]), Mask torch.Size([224, 224])\n",
      "✅ Loaded BraTS19_TCIA02_135_1: Image torch.Size([3, 224, 224]), Mask torch.Size([224, 224])\n"
     ]
    },
    {
     "name": "stderr",
     "output_type": "stream",
     "text": [
      "Epoch [4/15]:  65%|██████▌   | 68/104 [00:35<00:18,  1.93it/s, Loss=0.37] "
     ]
    },
    {
     "name": "stdout",
     "output_type": "stream",
     "text": [
      "✅ Loaded BraTS19_CBICA_AQO_1: Image torch.Size([3, 224, 224]), Mask torch.Size([224, 224])\n",
      "✅ Loaded BraTS19_TCIA02_473_1: Image torch.Size([3, 224, 224]), Mask torch.Size([224, 224])\n"
     ]
    },
    {
     "name": "stderr",
     "output_type": "stream",
     "text": [
      "Epoch [4/15]:  66%|██████▋   | 69/104 [00:36<00:18,  1.93it/s, Loss=0.384]"
     ]
    },
    {
     "name": "stdout",
     "output_type": "stream",
     "text": [
      "✅ Loaded BraTS19_TCIA02_226_1: Image torch.Size([3, 224, 224]), Mask torch.Size([224, 224])\n",
      "✅ Loaded BraTS19_TCIA05_478_1: Image torch.Size([3, 224, 224]), Mask torch.Size([224, 224])\n"
     ]
    },
    {
     "name": "stderr",
     "output_type": "stream",
     "text": [
      "Epoch [4/15]:  67%|██████▋   | 70/104 [00:36<00:17,  1.92it/s, Loss=0.265]"
     ]
    },
    {
     "name": "stdout",
     "output_type": "stream",
     "text": [
      "✅ Loaded BraTS19_TCIA02_283_1: Image torch.Size([3, 224, 224]), Mask torch.Size([224, 224])\n",
      "✅ Loaded BraTS19_CBICA_AXW_1: Image torch.Size([3, 224, 224]), Mask torch.Size([224, 224])\n"
     ]
    },
    {
     "name": "stderr",
     "output_type": "stream",
     "text": [
      "Epoch [4/15]:  68%|██████▊   | 71/104 [00:37<00:17,  1.92it/s, Loss=0.408]"
     ]
    },
    {
     "name": "stdout",
     "output_type": "stream",
     "text": [
      "✅ Loaded BraTS19_CBICA_BJY_1: Image torch.Size([3, 224, 224]), Mask torch.Size([224, 224])\n",
      "✅ Loaded BraTS19_CBICA_AVG_1: Image torch.Size([3, 224, 224]), Mask torch.Size([224, 224])\n"
     ]
    },
    {
     "name": "stderr",
     "output_type": "stream",
     "text": [
      "Epoch [4/15]:  69%|██████▉   | 72/104 [00:37<00:16,  1.92it/s, Loss=0.428]"
     ]
    },
    {
     "name": "stdout",
     "output_type": "stream",
     "text": [
      "✅ Loaded BraTS19_TCIA01_411_1: Image torch.Size([3, 224, 224]), Mask torch.Size([224, 224])\n",
      "✅ Loaded BraTS19_CBICA_ALU_1: Image torch.Size([3, 224, 224]), Mask torch.Size([224, 224])\n"
     ]
    },
    {
     "name": "stderr",
     "output_type": "stream",
     "text": [
      "Epoch [4/15]:  70%|███████   | 73/104 [00:38<00:16,  1.92it/s, Loss=0.369]"
     ]
    },
    {
     "name": "stdout",
     "output_type": "stream",
     "text": [
      "✅ Loaded BraTS19_CBICA_AQG_1: Image torch.Size([3, 224, 224]), Mask torch.Size([224, 224])\n",
      "✅ Loaded BraTS19_2013_7_1: Image torch.Size([3, 224, 224]), Mask torch.Size([224, 224])\n"
     ]
    },
    {
     "name": "stderr",
     "output_type": "stream",
     "text": [
      "Epoch [4/15]:  71%|███████   | 74/104 [00:38<00:15,  1.92it/s, Loss=0.38] "
     ]
    },
    {
     "name": "stdout",
     "output_type": "stream",
     "text": [
      "✅ Loaded BraTS19_TCIA01_201_1: Image torch.Size([3, 224, 224]), Mask torch.Size([224, 224])\n",
      "✅ Loaded BraTS19_CBICA_BFP_1: Image torch.Size([3, 224, 224]), Mask torch.Size([224, 224])\n"
     ]
    },
    {
     "name": "stderr",
     "output_type": "stream",
     "text": [
      "Epoch [4/15]:  72%|███████▏  | 75/104 [00:39<00:15,  1.91it/s, Loss=0.346]"
     ]
    },
    {
     "name": "stdout",
     "output_type": "stream",
     "text": [
      "✅ Loaded BraTS19_CBICA_BLJ_1: Image torch.Size([3, 224, 224]), Mask torch.Size([224, 224])\n",
      "✅ Loaded BraTS19_CBICA_ATV_1: Image torch.Size([3, 224, 224]), Mask torch.Size([224, 224])\n"
     ]
    },
    {
     "name": "stderr",
     "output_type": "stream",
     "text": [
      "Epoch [4/15]:  73%|███████▎  | 76/104 [00:39<00:14,  1.91it/s, Loss=0.288]"
     ]
    },
    {
     "name": "stdout",
     "output_type": "stream",
     "text": [
      "✅ Loaded BraTS19_TCIA01_429_1: Image torch.Size([3, 224, 224]), Mask torch.Size([224, 224])\n",
      "✅ Loaded BraTS19_2013_21_1: Image torch.Size([3, 224, 224]), Mask torch.Size([224, 224])\n"
     ]
    },
    {
     "name": "stderr",
     "output_type": "stream",
     "text": [
      "Epoch [4/15]:  74%|███████▍  | 77/104 [00:40<00:14,  1.89it/s, Loss=0.28] "
     ]
    },
    {
     "name": "stdout",
     "output_type": "stream",
     "text": [
      "✅ Loaded BraTS19_TCIA02_608_1: Image torch.Size([3, 224, 224]), Mask torch.Size([224, 224])\n",
      "✅ Loaded BraTS19_TCIA02_377_1: Image torch.Size([3, 224, 224]), Mask torch.Size([224, 224])\n"
     ]
    },
    {
     "name": "stderr",
     "output_type": "stream",
     "text": [
      "Epoch [4/15]:  75%|███████▌  | 78/104 [00:40<00:13,  1.91it/s, Loss=0.279]"
     ]
    },
    {
     "name": "stdout",
     "output_type": "stream",
     "text": [
      "✅ Loaded BraTS19_CBICA_AYA_1: Image torch.Size([3, 224, 224]), Mask torch.Size([224, 224])\n",
      "✅ Loaded BraTS19_TCIA08_469_1: Image torch.Size([3, 224, 224]), Mask torch.Size([224, 224])\n"
     ]
    },
    {
     "name": "stderr",
     "output_type": "stream",
     "text": [
      "Epoch [4/15]:  76%|███████▌  | 79/104 [00:41<00:13,  1.92it/s, Loss=0.364]"
     ]
    },
    {
     "name": "stdout",
     "output_type": "stream",
     "text": [
      "✅ Loaded BraTS19_CBICA_AVT_1: Image torch.Size([3, 224, 224]), Mask torch.Size([224, 224])\n",
      "✅ Loaded BraTS19_CBICA_ASU_1: Image torch.Size([3, 224, 224]), Mask torch.Size([224, 224])\n"
     ]
    },
    {
     "name": "stderr",
     "output_type": "stream",
     "text": [
      "Epoch [4/15]:  77%|███████▋  | 80/104 [00:42<00:12,  1.92it/s, Loss=0.273]"
     ]
    },
    {
     "name": "stdout",
     "output_type": "stream",
     "text": [
      "✅ Loaded BraTS19_CBICA_AQP_1: Image torch.Size([3, 224, 224]), Mask torch.Size([224, 224])\n",
      "✅ Loaded BraTS19_CBICA_AYW_1: Image torch.Size([3, 224, 224]), Mask torch.Size([224, 224])\n"
     ]
    },
    {
     "name": "stderr",
     "output_type": "stream",
     "text": [
      "Epoch [4/15]:  78%|███████▊  | 81/104 [00:42<00:11,  1.93it/s, Loss=0.568]"
     ]
    },
    {
     "name": "stdout",
     "output_type": "stream",
     "text": [
      "✅ Loaded BraTS19_TCIA01_190_1: Image torch.Size([3, 224, 224]), Mask torch.Size([224, 224])\n",
      "✅ Loaded BraTS19_CBICA_BBG_1: Image torch.Size([3, 224, 224]), Mask torch.Size([224, 224])\n"
     ]
    },
    {
     "name": "stderr",
     "output_type": "stream",
     "text": [
      "Epoch [4/15]:  79%|███████▉  | 82/104 [00:43<00:11,  1.91it/s, Loss=0.289]"
     ]
    },
    {
     "name": "stdout",
     "output_type": "stream",
     "text": [
      "✅ Loaded BraTS19_TCIA03_375_1: Image torch.Size([3, 224, 224]), Mask torch.Size([224, 224])\n",
      "✅ Loaded BraTS19_CBICA_ASY_1: Image torch.Size([3, 224, 224]), Mask torch.Size([224, 224])\n"
     ]
    },
    {
     "name": "stderr",
     "output_type": "stream",
     "text": [
      "Epoch [4/15]:  80%|███████▉  | 83/104 [00:43<00:10,  1.94it/s, Loss=0.351]"
     ]
    },
    {
     "name": "stdout",
     "output_type": "stream",
     "text": [
      "✅ Loaded BraTS19_CBICA_ASN_1: Image torch.Size([3, 224, 224]), Mask torch.Size([224, 224])\n",
      "✅ Loaded BraTS19_CBICA_AUQ_1: Image torch.Size([3, 224, 224]), Mask torch.Size([224, 224])\n"
     ]
    },
    {
     "name": "stderr",
     "output_type": "stream",
     "text": [
      "Epoch [4/15]:  81%|████████  | 84/104 [00:44<00:10,  1.94it/s, Loss=0.409]"
     ]
    },
    {
     "name": "stdout",
     "output_type": "stream",
     "text": [
      "✅ Loaded BraTS19_2013_11_1: Image torch.Size([3, 224, 224]), Mask torch.Size([224, 224])\n",
      "✅ Loaded BraTS19_CBICA_AOO_1: Image torch.Size([3, 224, 224]), Mask torch.Size([224, 224])\n"
     ]
    },
    {
     "name": "stderr",
     "output_type": "stream",
     "text": [
      "Epoch [4/15]:  82%|████████▏ | 85/104 [00:44<00:09,  1.91it/s, Loss=0.55] "
     ]
    },
    {
     "name": "stdout",
     "output_type": "stream",
     "text": [
      "✅ Loaded BraTS19_CBICA_AXO_1: Image torch.Size([3, 224, 224]), Mask torch.Size([224, 224])\n",
      "✅ Loaded BraTS19_TCIA02_374_1: Image torch.Size([3, 224, 224]), Mask torch.Size([224, 224])\n"
     ]
    },
    {
     "name": "stderr",
     "output_type": "stream",
     "text": [
      "Epoch [4/15]:  83%|████████▎ | 86/104 [00:45<00:09,  1.91it/s, Loss=0.336]"
     ]
    },
    {
     "name": "stdout",
     "output_type": "stream",
     "text": [
      "✅ Loaded BraTS19_TCIA03_498_1: Image torch.Size([3, 224, 224]), Mask torch.Size([224, 224])\n",
      "✅ Loaded BraTS19_CBICA_AQZ_1: Image torch.Size([3, 224, 224]), Mask torch.Size([224, 224])\n"
     ]
    },
    {
     "name": "stderr",
     "output_type": "stream",
     "text": [
      "Epoch [4/15]:  84%|████████▎ | 87/104 [00:45<00:08,  1.90it/s, Loss=0.37] "
     ]
    },
    {
     "name": "stdout",
     "output_type": "stream",
     "text": [
      "✅ Loaded BraTS19_CBICA_AQA_1: Image torch.Size([3, 224, 224]), Mask torch.Size([224, 224])\n",
      "✅ Loaded BraTS19_TCIA02_300_1: Image torch.Size([3, 224, 224]), Mask torch.Size([224, 224])\n"
     ]
    },
    {
     "name": "stderr",
     "output_type": "stream",
     "text": [
      "Epoch [4/15]:  85%|████████▍ | 88/104 [00:46<00:08,  1.90it/s, Loss=0.192]"
     ]
    },
    {
     "name": "stdout",
     "output_type": "stream",
     "text": [
      "✅ Loaded BraTS19_TCIA02_607_1: Image torch.Size([3, 224, 224]), Mask torch.Size([224, 224])\n",
      "✅ Loaded BraTS19_CBICA_AZH_1: Image torch.Size([3, 224, 224]), Mask torch.Size([224, 224])\n"
     ]
    },
    {
     "name": "stderr",
     "output_type": "stream",
     "text": [
      "Epoch [4/15]:  86%|████████▌ | 89/104 [00:46<00:07,  1.92it/s, Loss=0.392]"
     ]
    },
    {
     "name": "stdout",
     "output_type": "stream",
     "text": [
      "✅ Loaded BraTS19_TCIA04_343_1: Image torch.Size([3, 224, 224]), Mask torch.Size([224, 224])\n",
      "✅ Loaded BraTS19_TCIA01_186_1: Image torch.Size([3, 224, 224]), Mask torch.Size([224, 224])\n"
     ]
    },
    {
     "name": "stderr",
     "output_type": "stream",
     "text": [
      "Epoch [4/15]:  87%|████████▋ | 90/104 [00:47<00:07,  1.90it/s, Loss=0.473]"
     ]
    },
    {
     "name": "stdout",
     "output_type": "stream",
     "text": [
      "✅ Loaded BraTS19_CBICA_BGW_1: Image torch.Size([3, 224, 224]), Mask torch.Size([224, 224])\n",
      "✅ Loaded BraTS19_TCIA02_430_1: Image torch.Size([3, 224, 224]), Mask torch.Size([224, 224])\n"
     ]
    },
    {
     "name": "stderr",
     "output_type": "stream",
     "text": [
      "Epoch [4/15]:  88%|████████▊ | 91/104 [00:47<00:06,  1.90it/s, Loss=0.337]"
     ]
    },
    {
     "name": "stdout",
     "output_type": "stream",
     "text": [
      "✅ Loaded BraTS19_CBICA_AXM_1: Image torch.Size([3, 224, 224]), Mask torch.Size([224, 224])\n",
      "✅ Loaded BraTS19_CBICA_AMH_1: Image torch.Size([3, 224, 224]), Mask torch.Size([224, 224])\n"
     ]
    },
    {
     "name": "stderr",
     "output_type": "stream",
     "text": [
      "Epoch [4/15]:  88%|████████▊ | 92/104 [00:48<00:06,  1.91it/s, Loss=0.323]"
     ]
    },
    {
     "name": "stdout",
     "output_type": "stream",
     "text": [
      "✅ Loaded BraTS19_CBICA_BFB_1: Image torch.Size([3, 224, 224]), Mask torch.Size([224, 224])\n",
      "✅ Loaded BraTS19_CBICA_AQT_1: Image torch.Size([3, 224, 224]), Mask torch.Size([224, 224])\n"
     ]
    },
    {
     "name": "stderr",
     "output_type": "stream",
     "text": [
      "Epoch [4/15]:  89%|████████▉ | 93/104 [00:48<00:05,  1.91it/s, Loss=0.327]"
     ]
    },
    {
     "name": "stdout",
     "output_type": "stream",
     "text": [
      "✅ Loaded BraTS19_2013_12_1: Image torch.Size([3, 224, 224]), Mask torch.Size([224, 224])\n",
      "✅ Loaded BraTS19_TCIA01_335_1: Image torch.Size([3, 224, 224]), Mask torch.Size([224, 224])\n"
     ]
    },
    {
     "name": "stderr",
     "output_type": "stream",
     "text": [
      "Epoch [4/15]:  90%|█████████ | 94/104 [00:49<00:05,  1.92it/s, Loss=0.288]"
     ]
    },
    {
     "name": "stdout",
     "output_type": "stream",
     "text": [
      "✅ Loaded BraTS19_TCIA03_121_1: Image torch.Size([3, 224, 224]), Mask torch.Size([224, 224])\n",
      "✅ Loaded BraTS19_TCIA02_314_1: Image torch.Size([3, 224, 224]), Mask torch.Size([224, 224])\n"
     ]
    },
    {
     "name": "stderr",
     "output_type": "stream",
     "text": [
      "Epoch [4/15]:  91%|█████████▏| 95/104 [00:49<00:04,  1.85it/s, Loss=0.363]"
     ]
    },
    {
     "name": "stdout",
     "output_type": "stream",
     "text": [
      "✅ Loaded BraTS19_TCIA01_448_1: Image torch.Size([3, 224, 224]), Mask torch.Size([224, 224])\n",
      "✅ Loaded BraTS19_CBICA_AOZ_1: Image torch.Size([3, 224, 224]), Mask torch.Size([224, 224])\n"
     ]
    },
    {
     "name": "stderr",
     "output_type": "stream",
     "text": [
      "Epoch [4/15]:  92%|█████████▏| 96/104 [00:50<00:04,  1.85it/s, Loss=0.362]"
     ]
    },
    {
     "name": "stdout",
     "output_type": "stream",
     "text": [
      "✅ Loaded BraTS19_TCIA02_117_1: Image torch.Size([3, 224, 224]), Mask torch.Size([224, 224])\n",
      "✅ Loaded BraTS19_TCIA03_296_1: Image torch.Size([3, 224, 224]), Mask torch.Size([224, 224])\n"
     ]
    },
    {
     "name": "stderr",
     "output_type": "stream",
     "text": [
      "Epoch [4/15]:  93%|█████████▎| 97/104 [00:51<00:03,  1.85it/s, Loss=0.336]"
     ]
    },
    {
     "name": "stdout",
     "output_type": "stream",
     "text": [
      "✅ Loaded BraTS19_TCIA08_105_1: Image torch.Size([3, 224, 224]), Mask torch.Size([224, 224])\n",
      "✅ Loaded BraTS19_CBICA_AQY_1: Image torch.Size([3, 224, 224]), Mask torch.Size([224, 224])\n"
     ]
    },
    {
     "name": "stderr",
     "output_type": "stream",
     "text": [
      "Epoch [4/15]:  94%|█████████▍| 98/104 [00:51<00:03,  1.89it/s, Loss=0.303]"
     ]
    },
    {
     "name": "stdout",
     "output_type": "stream",
     "text": [
      "✅ Loaded BraTS19_TCIA06_211_1: Image torch.Size([3, 224, 224]), Mask torch.Size([224, 224])\n",
      "✅ Loaded BraTS19_CBICA_BGX_1: Image torch.Size([3, 224, 224]), Mask torch.Size([224, 224])\n"
     ]
    },
    {
     "name": "stderr",
     "output_type": "stream",
     "text": [
      "Epoch [4/15]:  95%|█████████▌| 99/104 [00:52<00:02,  1.91it/s, Loss=0.27] "
     ]
    },
    {
     "name": "stdout",
     "output_type": "stream",
     "text": [
      "✅ Loaded BraTS19_CBICA_BAN_1: Image torch.Size([3, 224, 224]), Mask torch.Size([224, 224])\n",
      "✅ Loaded BraTS19_CBICA_ABB_1: Image torch.Size([3, 224, 224]), Mask torch.Size([224, 224])\n"
     ]
    },
    {
     "name": "stderr",
     "output_type": "stream",
     "text": [
      "Epoch [4/15]:  96%|█████████▌| 100/104 [00:52<00:02,  1.91it/s, Loss=0.345]"
     ]
    },
    {
     "name": "stdout",
     "output_type": "stream",
     "text": [
      "✅ Loaded BraTS19_CBICA_BIC_1: Image torch.Size([3, 224, 224]), Mask torch.Size([224, 224])\n",
      "✅ Loaded BraTS19_TCIA03_338_1: Image torch.Size([3, 224, 224]), Mask torch.Size([224, 224])\n"
     ]
    },
    {
     "name": "stderr",
     "output_type": "stream",
     "text": [
      "Epoch [4/15]:  97%|█████████▋| 101/104 [00:53<00:01,  1.92it/s, Loss=0.496]"
     ]
    },
    {
     "name": "stdout",
     "output_type": "stream",
     "text": [
      "✅ Loaded BraTS19_CBICA_BEM_1: Image torch.Size([3, 224, 224]), Mask torch.Size([224, 224])\n",
      "✅ Loaded BraTS19_TCIA03_474_1: Image torch.Size([3, 224, 224]), Mask torch.Size([224, 224])\n"
     ]
    },
    {
     "name": "stderr",
     "output_type": "stream",
     "text": [
      "Epoch [4/15]:  98%|█████████▊| 102/104 [00:53<00:01,  1.93it/s, Loss=0.317]"
     ]
    },
    {
     "name": "stdout",
     "output_type": "stream",
     "text": [
      "✅ Loaded BraTS19_TCIA06_603_1: Image torch.Size([3, 224, 224]), Mask torch.Size([224, 224])\n",
      "✅ Loaded BraTS19_TCIA02_179_1: Image torch.Size([3, 224, 224]), Mask torch.Size([224, 224])\n"
     ]
    },
    {
     "name": "stderr",
     "output_type": "stream",
     "text": [
      "Epoch [4/15]:  99%|█████████▉| 103/104 [00:54<00:00,  1.93it/s, Loss=0.27] "
     ]
    },
    {
     "name": "stdout",
     "output_type": "stream",
     "text": [
      "✅ Loaded BraTS19_2013_5_1: Image torch.Size([3, 224, 224]), Mask torch.Size([224, 224])\n"
     ]
    },
    {
     "name": "stderr",
     "output_type": "stream",
     "text": [
      "                                                                           \r"
     ]
    },
    {
     "name": "stdout",
     "output_type": "stream",
     "text": [
      "\n",
      "✅ Epoch 4: Train Loss: 0.3562\n",
      "⚠️ No improvement for 1 epoch(s)\n"
     ]
    },
    {
     "name": "stderr",
     "output_type": "stream",
     "text": [
      "Epoch [5/15]:   0%|          | 0/104 [00:00<?, ?it/s]"
     ]
    },
    {
     "name": "stdout",
     "output_type": "stream",
     "text": [
      "✅ Loaded BraTS19_TCIA05_444_1: Image torch.Size([3, 224, 224]), Mask torch.Size([224, 224])\n",
      "✅ Loaded BraTS19_CBICA_AVB_1: Image torch.Size([3, 224, 224]), Mask torch.Size([224, 224])\n"
     ]
    },
    {
     "name": "stderr",
     "output_type": "stream",
     "text": [
      "Epoch [5/15]:   1%|          | 1/104 [00:00<00:53,  1.94it/s, Loss=0.291]"
     ]
    },
    {
     "name": "stdout",
     "output_type": "stream",
     "text": [
      "✅ Loaded BraTS19_CBICA_BCF_1: Image torch.Size([3, 224, 224]), Mask torch.Size([224, 224])\n",
      "✅ Loaded BraTS19_CBICA_ALN_1: Image torch.Size([3, 224, 224]), Mask torch.Size([224, 224])\n"
     ]
    },
    {
     "name": "stderr",
     "output_type": "stream",
     "text": [
      "Epoch [5/15]:   2%|▏         | 2/104 [00:01<00:52,  1.94it/s, Loss=0.27] "
     ]
    },
    {
     "name": "stdout",
     "output_type": "stream",
     "text": [
      "✅ Loaded BraTS19_TCIA02_168_1: Image torch.Size([3, 224, 224]), Mask torch.Size([224, 224])\n",
      "✅ Loaded BraTS19_CBICA_BAX_1: Image torch.Size([3, 224, 224]), Mask torch.Size([224, 224])\n"
     ]
    },
    {
     "name": "stderr",
     "output_type": "stream",
     "text": [
      "Epoch [5/15]:   3%|▎         | 3/104 [00:01<00:51,  1.96it/s, Loss=0.307]"
     ]
    },
    {
     "name": "stdout",
     "output_type": "stream",
     "text": [
      "✅ Loaded BraTS19_TCIA06_409_1: Image torch.Size([3, 224, 224]), Mask torch.Size([224, 224])\n",
      "✅ Loaded BraTS19_CBICA_ASA_1: Image torch.Size([3, 224, 224]), Mask torch.Size([224, 224])\n"
     ]
    },
    {
     "name": "stderr",
     "output_type": "stream",
     "text": [
      "Epoch [5/15]:   4%|▍         | 4/104 [00:02<00:51,  1.95it/s, Loss=0.388]"
     ]
    },
    {
     "name": "stdout",
     "output_type": "stream",
     "text": [
      "✅ Loaded BraTS19_TCIA01_131_1: Image torch.Size([3, 224, 224]), Mask torch.Size([224, 224])\n",
      "✅ Loaded BraTS19_2013_27_1: Image torch.Size([3, 224, 224]), Mask torch.Size([224, 224])\n"
     ]
    },
    {
     "name": "stderr",
     "output_type": "stream",
     "text": [
      "Epoch [5/15]:   5%|▍         | 5/104 [00:02<00:50,  1.94it/s, Loss=0.544]"
     ]
    },
    {
     "name": "stdout",
     "output_type": "stream",
     "text": [
      "✅ Loaded BraTS19_TCIA01_499_1: Image torch.Size([3, 224, 224]), Mask torch.Size([224, 224])\n",
      "✅ Loaded BraTS19_CBICA_AYA_1: Image torch.Size([3, 224, 224]), Mask torch.Size([224, 224])\n"
     ]
    },
    {
     "name": "stderr",
     "output_type": "stream",
     "text": [
      "Epoch [5/15]:   6%|▌         | 6/104 [00:03<00:50,  1.95it/s, Loss=0.612]"
     ]
    },
    {
     "name": "stdout",
     "output_type": "stream",
     "text": [
      "✅ Loaded BraTS19_TCIA06_603_1: Image torch.Size([3, 224, 224]), Mask torch.Size([224, 224])\n",
      "✅ Loaded BraTS19_TCIA02_374_1: Image torch.Size([3, 224, 224]), Mask torch.Size([224, 224])\n"
     ]
    },
    {
     "name": "stderr",
     "output_type": "stream",
     "text": [
      "Epoch [5/15]:   7%|▋         | 7/104 [00:03<00:49,  1.94it/s, Loss=0.303]"
     ]
    },
    {
     "name": "stdout",
     "output_type": "stream",
     "text": [
      "✅ Loaded BraTS19_CBICA_BIC_1: Image torch.Size([3, 224, 224]), Mask torch.Size([224, 224])\n",
      "✅ Loaded BraTS19_TMC_12866_1: Image torch.Size([3, 224, 224]), Mask torch.Size([224, 224])\n"
     ]
    },
    {
     "name": "stderr",
     "output_type": "stream",
     "text": [
      "Epoch [5/15]:   8%|▊         | 8/104 [00:04<00:49,  1.94it/s, Loss=0.383]"
     ]
    },
    {
     "name": "stdout",
     "output_type": "stream",
     "text": [
      "✅ Loaded BraTS19_CBICA_BGN_1: Image torch.Size([3, 224, 224]), Mask torch.Size([224, 224])\n",
      "✅ Loaded BraTS19_CBICA_ARZ_1: Image torch.Size([3, 224, 224]), Mask torch.Size([224, 224])\n"
     ]
    },
    {
     "name": "stderr",
     "output_type": "stream",
     "text": [
      "Epoch [5/15]:   9%|▊         | 9/104 [00:04<00:48,  1.94it/s, Loss=0.379]"
     ]
    },
    {
     "name": "stdout",
     "output_type": "stream",
     "text": [
      "✅ Loaded BraTS19_CBICA_BFB_1: Image torch.Size([3, 224, 224]), Mask torch.Size([224, 224])\n",
      "✅ Loaded BraTS19_CBICA_BAP_1: Image torch.Size([3, 224, 224]), Mask torch.Size([224, 224])\n"
     ]
    },
    {
     "name": "stderr",
     "output_type": "stream",
     "text": [
      "Epoch [5/15]:  10%|▉         | 10/104 [00:05<00:48,  1.92it/s, Loss=0.359]"
     ]
    },
    {
     "name": "stdout",
     "output_type": "stream",
     "text": [
      "✅ Loaded BraTS19_TCIA08_469_1: Image torch.Size([3, 224, 224]), Mask torch.Size([224, 224])\n",
      "✅ Loaded BraTS19_CBICA_AWG_1: Image torch.Size([3, 224, 224]), Mask torch.Size([224, 224])\n"
     ]
    },
    {
     "name": "stderr",
     "output_type": "stream",
     "text": [
      "Epoch [5/15]:  11%|█         | 11/104 [00:05<00:48,  1.92it/s, Loss=0.368]"
     ]
    },
    {
     "name": "stdout",
     "output_type": "stream",
     "text": [
      "✅ Loaded BraTS19_TCIA04_437_1: Image torch.Size([3, 224, 224]), Mask torch.Size([224, 224])\n",
      "✅ Loaded BraTS19_CBICA_AUA_1: Image torch.Size([3, 224, 224]), Mask torch.Size([224, 224])\n"
     ]
    },
    {
     "name": "stderr",
     "output_type": "stream",
     "text": [
      "Epoch [5/15]:  12%|█▏        | 12/104 [00:06<00:47,  1.92it/s, Loss=0.303]"
     ]
    },
    {
     "name": "stdout",
     "output_type": "stream",
     "text": [
      "✅ Loaded BraTS19_TCIA01_235_1: Image torch.Size([3, 224, 224]), Mask torch.Size([224, 224])\n",
      "✅ Loaded BraTS19_TCIA04_111_1: Image torch.Size([3, 224, 224]), Mask torch.Size([224, 224])\n"
     ]
    },
    {
     "name": "stderr",
     "output_type": "stream",
     "text": [
      "Epoch [5/15]:  12%|█▎        | 13/104 [00:06<00:47,  1.93it/s, Loss=0.57] "
     ]
    },
    {
     "name": "stdout",
     "output_type": "stream",
     "text": [
      "✅ Loaded BraTS19_CBICA_BGE_1: Image torch.Size([3, 224, 224]), Mask torch.Size([224, 224])\n",
      "✅ Loaded BraTS19_TCIA01_425_1: Image torch.Size([3, 224, 224]), Mask torch.Size([224, 224])\n"
     ]
    },
    {
     "name": "stderr",
     "output_type": "stream",
     "text": [
      "Epoch [5/15]:  13%|█▎        | 14/104 [00:07<00:47,  1.91it/s, Loss=0.255]"
     ]
    },
    {
     "name": "stdout",
     "output_type": "stream",
     "text": [
      "✅ Loaded BraTS19_TMC_30014_1: Image torch.Size([3, 224, 224]), Mask torch.Size([224, 224])\n",
      "✅ Loaded BraTS19_TCIA03_199_1: Image torch.Size([3, 224, 224]), Mask torch.Size([224, 224])\n"
     ]
    },
    {
     "name": "stderr",
     "output_type": "stream",
     "text": [
      "Epoch [5/15]:  14%|█▍        | 15/104 [00:07<00:46,  1.90it/s, Loss=0.255]"
     ]
    },
    {
     "name": "stdout",
     "output_type": "stream",
     "text": [
      "✅ Loaded BraTS19_CBICA_AUR_1: Image torch.Size([3, 224, 224]), Mask torch.Size([224, 224])\n",
      "✅ Loaded BraTS19_CBICA_AOC_1: Image torch.Size([3, 224, 224]), Mask torch.Size([224, 224])\n"
     ]
    },
    {
     "name": "stderr",
     "output_type": "stream",
     "text": [
      "Epoch [5/15]:  15%|█▌        | 16/104 [00:08<00:46,  1.91it/s, Loss=0.461]"
     ]
    },
    {
     "name": "stdout",
     "output_type": "stream",
     "text": [
      "✅ Loaded BraTS19_TCIA08_167_1: Image torch.Size([3, 224, 224]), Mask torch.Size([224, 224])\n",
      "✅ Loaded BraTS19_TCIA04_343_1: Image torch.Size([3, 224, 224]), Mask torch.Size([224, 224])\n"
     ]
    },
    {
     "name": "stderr",
     "output_type": "stream",
     "text": [
      "Epoch [5/15]:  16%|█▋        | 17/104 [00:08<00:44,  1.94it/s, Loss=0.27] "
     ]
    },
    {
     "name": "stdout",
     "output_type": "stream",
     "text": [
      "✅ Loaded BraTS19_CBICA_BHV_1: Image torch.Size([3, 224, 224]), Mask torch.Size([224, 224])\n",
      "✅ Loaded BraTS19_CBICA_AYW_1: Image torch.Size([3, 224, 224]), Mask torch.Size([224, 224])\n"
     ]
    },
    {
     "name": "stderr",
     "output_type": "stream",
     "text": [
      "Epoch [5/15]:  17%|█▋        | 18/104 [00:09<00:44,  1.94it/s, Loss=0.27]"
     ]
    },
    {
     "name": "stdout",
     "output_type": "stream",
     "text": [
      "✅ Loaded BraTS19_CBICA_AQJ_1: Image torch.Size([3, 224, 224]), Mask torch.Size([224, 224])\n",
      "✅ Loaded BraTS19_TCIA02_179_1: Image torch.Size([3, 224, 224]), Mask torch.Size([224, 224])\n"
     ]
    },
    {
     "name": "stderr",
     "output_type": "stream",
     "text": [
      "Epoch [5/15]:  18%|█▊        | 19/104 [00:09<00:43,  1.94it/s, Loss=0.372]"
     ]
    },
    {
     "name": "stdout",
     "output_type": "stream",
     "text": [
      "✅ Loaded BraTS19_TCIA03_121_1: Image torch.Size([3, 224, 224]), Mask torch.Size([224, 224])\n",
      "✅ Loaded BraTS19_CBICA_APZ_1: Image torch.Size([3, 224, 224]), Mask torch.Size([224, 224])\n"
     ]
    },
    {
     "name": "stderr",
     "output_type": "stream",
     "text": [
      "Epoch [5/15]:  19%|█▉        | 20/104 [00:10<00:42,  1.95it/s, Loss=0.277]"
     ]
    },
    {
     "name": "stdout",
     "output_type": "stream",
     "text": [
      "✅ Loaded BraTS19_TCIA01_190_1: Image torch.Size([3, 224, 224]), Mask torch.Size([224, 224])\n",
      "✅ Loaded BraTS19_CBICA_AQY_1: Image torch.Size([3, 224, 224]), Mask torch.Size([224, 224])\n"
     ]
    },
    {
     "name": "stderr",
     "output_type": "stream",
     "text": [
      "Epoch [5/15]:  20%|██        | 21/104 [00:10<00:42,  1.95it/s, Loss=0.46] "
     ]
    },
    {
     "name": "stdout",
     "output_type": "stream",
     "text": [
      "✅ Loaded BraTS19_TCIA03_257_1: Image torch.Size([3, 224, 224]), Mask torch.Size([224, 224])\n",
      "✅ Loaded BraTS19_TCIA02_607_1: Image torch.Size([3, 224, 224]), Mask torch.Size([224, 224])\n"
     ]
    },
    {
     "name": "stderr",
     "output_type": "stream",
     "text": [
      "Epoch [5/15]:  21%|██        | 22/104 [00:11<00:42,  1.94it/s, Loss=0.296]"
     ]
    },
    {
     "name": "stdout",
     "output_type": "stream",
     "text": [
      "✅ Loaded BraTS19_TCIA02_331_1: Image torch.Size([3, 224, 224]), Mask torch.Size([224, 224])\n",
      "✅ Loaded BraTS19_CBICA_ABB_1: Image torch.Size([3, 224, 224]), Mask torch.Size([224, 224])\n"
     ]
    },
    {
     "name": "stderr",
     "output_type": "stream",
     "text": [
      "Epoch [5/15]:  22%|██▏       | 23/104 [00:11<00:41,  1.94it/s, Loss=0.244]"
     ]
    },
    {
     "name": "stdout",
     "output_type": "stream",
     "text": [
      "✅ Loaded BraTS19_TCIA01_412_1: Image torch.Size([3, 224, 224]), Mask torch.Size([224, 224])\n",
      "✅ Loaded BraTS19_TCIA03_338_1: Image torch.Size([3, 224, 224]), Mask torch.Size([224, 224])\n"
     ]
    },
    {
     "name": "stderr",
     "output_type": "stream",
     "text": [
      "Epoch [5/15]:  23%|██▎       | 24/104 [00:12<00:41,  1.92it/s, Loss=0.264]"
     ]
    },
    {
     "name": "stdout",
     "output_type": "stream",
     "text": [
      "✅ Loaded BraTS19_2013_13_1: Image torch.Size([3, 224, 224]), Mask torch.Size([224, 224])\n",
      "✅ Loaded BraTS19_CBICA_ABY_1: Image torch.Size([3, 224, 224]), Mask torch.Size([224, 224])\n"
     ]
    },
    {
     "name": "stderr",
     "output_type": "stream",
     "text": [
      "Epoch [5/15]:  24%|██▍       | 25/104 [00:12<00:41,  1.93it/s, Loss=0.399]"
     ]
    },
    {
     "name": "stdout",
     "output_type": "stream",
     "text": [
      "✅ Loaded BraTS19_TCIA01_448_1: Image torch.Size([3, 224, 224]), Mask torch.Size([224, 224])\n",
      "✅ Loaded BraTS19_TCIA01_221_1: Image torch.Size([3, 224, 224]), Mask torch.Size([224, 224])\n"
     ]
    },
    {
     "name": "stderr",
     "output_type": "stream",
     "text": [
      "Epoch [5/15]:  25%|██▌       | 26/104 [00:13<00:40,  1.94it/s, Loss=0.587]"
     ]
    },
    {
     "name": "stdout",
     "output_type": "stream",
     "text": [
      "✅ Loaded BraTS19_TCIA01_429_1: Image torch.Size([3, 224, 224]), Mask torch.Size([224, 224])\n",
      "✅ Loaded BraTS19_CBICA_APR_1: Image torch.Size([3, 224, 224]), Mask torch.Size([224, 224])\n"
     ]
    },
    {
     "name": "stderr",
     "output_type": "stream",
     "text": [
      "Epoch [5/15]:  26%|██▌       | 27/104 [00:13<00:39,  1.94it/s, Loss=0.204]"
     ]
    },
    {
     "name": "stdout",
     "output_type": "stream",
     "text": [
      "✅ Loaded BraTS19_CBICA_AQZ_1: Image torch.Size([3, 224, 224]), Mask torch.Size([224, 224])\n",
      "✅ Loaded BraTS19_CBICA_AME_1: Image torch.Size([3, 224, 224]), Mask torch.Size([224, 224])\n"
     ]
    },
    {
     "name": "stderr",
     "output_type": "stream",
     "text": [
      "Epoch [5/15]:  27%|██▋       | 28/104 [00:14<00:38,  1.96it/s, Loss=0.549]"
     ]
    },
    {
     "name": "stdout",
     "output_type": "stream",
     "text": [
      "✅ Loaded BraTS19_TCIA02_151_1: Image torch.Size([3, 224, 224]), Mask torch.Size([224, 224])\n",
      "✅ Loaded BraTS19_TCIA05_396_1: Image torch.Size([3, 224, 224]), Mask torch.Size([224, 224])\n"
     ]
    },
    {
     "name": "stderr",
     "output_type": "stream",
     "text": [
      "Epoch [5/15]:  28%|██▊       | 29/104 [00:14<00:38,  1.95it/s, Loss=0.206]"
     ]
    },
    {
     "name": "stdout",
     "output_type": "stream",
     "text": [
      "✅ Loaded BraTS19_TMC_15477_1: Image torch.Size([3, 224, 224]), Mask torch.Size([224, 224])\n",
      "✅ Loaded BraTS19_2013_3_1: Image torch.Size([3, 224, 224]), Mask torch.Size([224, 224])\n"
     ]
    },
    {
     "name": "stderr",
     "output_type": "stream",
     "text": [
      "Epoch [5/15]:  29%|██▉       | 30/104 [00:15<00:38,  1.93it/s, Loss=0.402]"
     ]
    },
    {
     "name": "stdout",
     "output_type": "stream",
     "text": [
      "✅ Loaded BraTS19_TCIA03_474_1: Image torch.Size([3, 224, 224]), Mask torch.Size([224, 224])\n",
      "✅ Loaded BraTS19_TCIA06_184_1: Image torch.Size([3, 224, 224]), Mask torch.Size([224, 224])\n"
     ]
    },
    {
     "name": "stderr",
     "output_type": "stream",
     "text": [
      "Epoch [5/15]:  30%|██▉       | 31/104 [00:16<00:39,  1.86it/s, Loss=0.223]"
     ]
    },
    {
     "name": "stdout",
     "output_type": "stream",
     "text": [
      "✅ Loaded BraTS19_TCIA02_608_1: Image torch.Size([3, 224, 224]), Mask torch.Size([224, 224])\n",
      "✅ Loaded BraTS19_TCIA02_290_1: Image torch.Size([3, 224, 224]), Mask torch.Size([224, 224])\n"
     ]
    },
    {
     "name": "stderr",
     "output_type": "stream",
     "text": [
      "Epoch [5/15]:  31%|███       | 32/104 [00:16<00:40,  1.77it/s, Loss=0.291]"
     ]
    },
    {
     "name": "stdout",
     "output_type": "stream",
     "text": [
      "✅ Loaded BraTS19_CBICA_AUQ_1: Image torch.Size([3, 224, 224]), Mask torch.Size([224, 224])\n",
      "✅ Loaded BraTS19_2013_18_1: Image torch.Size([3, 224, 224]), Mask torch.Size([224, 224])\n"
     ]
    },
    {
     "name": "stderr",
     "output_type": "stream",
     "text": [
      "Epoch [5/15]:  32%|███▏      | 33/104 [00:17<00:39,  1.80it/s, Loss=0.301]"
     ]
    },
    {
     "name": "stdout",
     "output_type": "stream",
     "text": [
      "✅ Loaded BraTS19_CBICA_AUW_1: Image torch.Size([3, 224, 224]), Mask torch.Size([224, 224])\n",
      "✅ Loaded BraTS19_2013_7_1: Image torch.Size([3, 224, 224]), Mask torch.Size([224, 224])\n"
     ]
    },
    {
     "name": "stderr",
     "output_type": "stream",
     "text": [
      "Epoch [5/15]:  33%|███▎      | 34/104 [00:17<00:37,  1.85it/s, Loss=0.247]"
     ]
    },
    {
     "name": "stdout",
     "output_type": "stream",
     "text": [
      "✅ Loaded BraTS19_TCIA01_390_1: Image torch.Size([3, 224, 224]), Mask torch.Size([224, 224])\n",
      "✅ Loaded BraTS19_TCIA02_314_1: Image torch.Size([3, 224, 224]), Mask torch.Size([224, 224])\n"
     ]
    },
    {
     "name": "stderr",
     "output_type": "stream",
     "text": [
      "Epoch [5/15]:  34%|███▎      | 35/104 [00:18<00:36,  1.89it/s, Loss=0.339]"
     ]
    },
    {
     "name": "stdout",
     "output_type": "stream",
     "text": [
      "✅ Loaded BraTS19_CBICA_ANG_1: Image torch.Size([3, 224, 224]), Mask torch.Size([224, 224])\n",
      "✅ Loaded BraTS19_CBICA_ASH_1: Image torch.Size([3, 224, 224]), Mask torch.Size([224, 224])\n"
     ]
    },
    {
     "name": "stderr",
     "output_type": "stream",
     "text": [
      "Epoch [5/15]:  35%|███▍      | 36/104 [00:18<00:35,  1.93it/s, Loss=0.447]"
     ]
    },
    {
     "name": "stdout",
     "output_type": "stream",
     "text": [
      "✅ Loaded BraTS19_TCIA01_460_1: Image torch.Size([3, 224, 224]), Mask torch.Size([224, 224])\n",
      "✅ Loaded BraTS19_TCIA01_147_1: Image torch.Size([3, 224, 224]), Mask torch.Size([224, 224])\n"
     ]
    },
    {
     "name": "stderr",
     "output_type": "stream",
     "text": [
      "Epoch [5/15]:  36%|███▌      | 37/104 [00:19<00:34,  1.92it/s, Loss=0.315]"
     ]
    },
    {
     "name": "stdout",
     "output_type": "stream",
     "text": [
      "✅ Loaded BraTS19_TCIA04_361_1: Image torch.Size([3, 224, 224]), Mask torch.Size([224, 224])\n",
      "✅ Loaded BraTS19_CBICA_AXL_1: Image torch.Size([3, 224, 224]), Mask torch.Size([224, 224])\n"
     ]
    },
    {
     "name": "stderr",
     "output_type": "stream",
     "text": [
      "Epoch [5/15]:  37%|███▋      | 38/104 [00:19<00:33,  1.95it/s, Loss=0.343]"
     ]
    },
    {
     "name": "stdout",
     "output_type": "stream",
     "text": [
      "✅ Loaded BraTS19_2013_11_1: Image torch.Size([3, 224, 224]), Mask torch.Size([224, 224])\n",
      "✅ Loaded BraTS19_TCIA01_335_1: Image torch.Size([3, 224, 224]), Mask torch.Size([224, 224])\n"
     ]
    },
    {
     "name": "stderr",
     "output_type": "stream",
     "text": [
      "Epoch [5/15]:  38%|███▊      | 39/104 [00:20<00:33,  1.95it/s, Loss=0.437]"
     ]
    },
    {
     "name": "stdout",
     "output_type": "stream",
     "text": [
      "✅ Loaded BraTS19_CBICA_ASV_1: Image torch.Size([3, 224, 224]), Mask torch.Size([224, 224])\n",
      "✅ Loaded BraTS19_CBICA_AQR_1: Image torch.Size([3, 224, 224]), Mask torch.Size([224, 224])\n"
     ]
    },
    {
     "name": "stderr",
     "output_type": "stream",
     "text": [
      "Epoch [5/15]:  38%|███▊      | 40/104 [00:20<00:32,  1.95it/s, Loss=0.26] "
     ]
    },
    {
     "name": "stdout",
     "output_type": "stream",
     "text": [
      "✅ Loaded BraTS19_CBICA_BAN_1: Image torch.Size([3, 224, 224]), Mask torch.Size([224, 224])\n",
      "✅ Loaded BraTS19_TCIA04_328_1: Image torch.Size([3, 224, 224]), Mask torch.Size([224, 224])\n"
     ]
    },
    {
     "name": "stderr",
     "output_type": "stream",
     "text": [
      "Epoch [5/15]:  39%|███▉      | 41/104 [00:21<00:32,  1.95it/s, Loss=0.348]"
     ]
    },
    {
     "name": "stdout",
     "output_type": "stream",
     "text": [
      "✅ Loaded BraTS19_CBICA_AQP_1: Image torch.Size([3, 224, 224]), Mask torch.Size([224, 224])\n",
      "✅ Loaded BraTS19_CBICA_ATX_1: Image torch.Size([3, 224, 224]), Mask torch.Size([224, 224])\n"
     ]
    },
    {
     "name": "stderr",
     "output_type": "stream",
     "text": [
      "Epoch [5/15]:  40%|████      | 42/104 [00:21<00:31,  1.95it/s, Loss=0.33] "
     ]
    },
    {
     "name": "stdout",
     "output_type": "stream",
     "text": [
      "✅ Loaded BraTS19_CBICA_BJY_1: Image torch.Size([3, 224, 224]), Mask torch.Size([224, 224])\n",
      "✅ Loaded BraTS19_CBICA_BGT_1: Image torch.Size([3, 224, 224]), Mask torch.Size([224, 224])\n"
     ]
    },
    {
     "name": "stderr",
     "output_type": "stream",
     "text": [
      "Epoch [5/15]:  41%|████▏     | 43/104 [00:22<00:30,  1.97it/s, Loss=0.4] "
     ]
    },
    {
     "name": "stdout",
     "output_type": "stream",
     "text": [
      "✅ Loaded BraTS19_TCIA08_218_1: Image torch.Size([3, 224, 224]), Mask torch.Size([224, 224])\n",
      "✅ Loaded BraTS19_CBICA_ABE_1: Image torch.Size([3, 224, 224]), Mask torch.Size([224, 224])\n"
     ]
    },
    {
     "name": "stderr",
     "output_type": "stream",
     "text": [
      "Epoch [5/15]:  42%|████▏     | 44/104 [00:22<00:30,  1.99it/s, Loss=0.26]"
     ]
    },
    {
     "name": "stdout",
     "output_type": "stream",
     "text": [
      "✅ Loaded BraTS19_CBICA_AWI_1: Image torch.Size([3, 224, 224]), Mask torch.Size([224, 224])\n",
      "✅ Loaded BraTS19_TCIA06_165_1: Image torch.Size([3, 224, 224]), Mask torch.Size([224, 224])\n"
     ]
    },
    {
     "name": "stderr",
     "output_type": "stream",
     "text": [
      "Epoch [5/15]:  43%|████▎     | 45/104 [00:23<00:29,  1.98it/s, Loss=0.275]"
     ]
    },
    {
     "name": "stdout",
     "output_type": "stream",
     "text": [
      "✅ Loaded BraTS19_TCIA02_605_1: Image torch.Size([3, 224, 224]), Mask torch.Size([224, 224])\n",
      "✅ Loaded BraTS19_TCIA05_478_1: Image torch.Size([3, 224, 224]), Mask torch.Size([224, 224])\n"
     ]
    },
    {
     "name": "stderr",
     "output_type": "stream",
     "text": [
      "Epoch [5/15]:  44%|████▍     | 46/104 [00:23<00:29,  1.96it/s, Loss=0.214]"
     ]
    },
    {
     "name": "stdout",
     "output_type": "stream",
     "text": [
      "✅ Loaded BraTS19_CBICA_ATB_1: Image torch.Size([3, 224, 224]), Mask torch.Size([224, 224])\n",
      "✅ Loaded BraTS19_CBICA_ASK_1: Image torch.Size([3, 224, 224]), Mask torch.Size([224, 224])\n"
     ]
    },
    {
     "name": "stderr",
     "output_type": "stream",
     "text": [
      "Epoch [5/15]:  45%|████▌     | 47/104 [00:24<00:28,  1.98it/s, Loss=0.308]"
     ]
    },
    {
     "name": "stdout",
     "output_type": "stream",
     "text": [
      "✅ Loaded BraTS19_TMC_21360_1: Image torch.Size([3, 224, 224]), Mask torch.Size([224, 224])\n",
      "✅ Loaded BraTS19_CBICA_AOZ_1: Image torch.Size([3, 224, 224]), Mask torch.Size([224, 224])\n"
     ]
    },
    {
     "name": "stderr",
     "output_type": "stream",
     "text": [
      "Epoch [5/15]:  46%|████▌     | 48/104 [00:24<00:28,  1.96it/s, Loss=0.251]"
     ]
    },
    {
     "name": "stdout",
     "output_type": "stream",
     "text": [
      "✅ Loaded BraTS19_TCIA03_498_1: Image torch.Size([3, 224, 224]), Mask torch.Size([224, 224])\n",
      "✅ Loaded BraTS19_TCIA02_274_1: Image torch.Size([3, 224, 224]), Mask torch.Size([224, 224])\n"
     ]
    },
    {
     "name": "stderr",
     "output_type": "stream",
     "text": [
      "Epoch [5/15]:  47%|████▋     | 49/104 [00:25<00:27,  1.97it/s, Loss=0.26] "
     ]
    },
    {
     "name": "stdout",
     "output_type": "stream",
     "text": [
      "✅ Loaded BraTS19_TCIA08_105_1: Image torch.Size([3, 224, 224]), Mask torch.Size([224, 224])\n",
      "✅ Loaded BraTS19_TCIA02_322_1: Image torch.Size([3, 224, 224]), Mask torch.Size([224, 224])\n"
     ]
    },
    {
     "name": "stderr",
     "output_type": "stream",
     "text": [
      "Epoch [5/15]:  48%|████▊     | 50/104 [00:25<00:27,  1.98it/s, Loss=0.375]"
     ]
    },
    {
     "name": "stdout",
     "output_type": "stream",
     "text": [
      "✅ Loaded BraTS19_2013_19_1: Image torch.Size([3, 224, 224]), Mask torch.Size([224, 224])\n",
      "✅ Loaded BraTS19_CBICA_AAL_1: Image torch.Size([3, 224, 224]), Mask torch.Size([224, 224])\n"
     ]
    },
    {
     "name": "stderr",
     "output_type": "stream",
     "text": [
      "Epoch [5/15]:  49%|████▉     | 51/104 [00:26<00:26,  1.97it/s, Loss=0.301]"
     ]
    },
    {
     "name": "stdout",
     "output_type": "stream",
     "text": [
      "✅ Loaded BraTS19_TCIA02_455_1: Image torch.Size([3, 224, 224]), Mask torch.Size([224, 224])\n",
      "✅ Loaded BraTS19_TCIA08_205_1: Image torch.Size([3, 224, 224]), Mask torch.Size([224, 224])\n"
     ]
    },
    {
     "name": "stderr",
     "output_type": "stream",
     "text": [
      "Epoch [5/15]:  50%|█████     | 52/104 [00:26<00:26,  1.98it/s, Loss=0.34] "
     ]
    },
    {
     "name": "stdout",
     "output_type": "stream",
     "text": [
      "✅ Loaded BraTS19_CBICA_BNR_1: Image torch.Size([3, 224, 224]), Mask torch.Size([224, 224])\n",
      "✅ Loaded BraTS19_TCIA02_430_1: Image torch.Size([3, 224, 224]), Mask torch.Size([224, 224])\n"
     ]
    },
    {
     "name": "stderr",
     "output_type": "stream",
     "text": [
      "Epoch [5/15]:  51%|█████     | 53/104 [00:27<00:26,  1.96it/s, Loss=0.331]"
     ]
    },
    {
     "name": "stdout",
     "output_type": "stream",
     "text": [
      "✅ Loaded BraTS19_TCIA03_296_1: Image torch.Size([3, 224, 224]), Mask torch.Size([224, 224])\n",
      "✅ Loaded BraTS19_CBICA_AYU_1: Image torch.Size([3, 224, 224]), Mask torch.Size([224, 224])\n"
     ]
    },
    {
     "name": "stderr",
     "output_type": "stream",
     "text": [
      "Epoch [5/15]:  52%|█████▏    | 54/104 [00:27<00:25,  1.96it/s, Loss=0.306]"
     ]
    },
    {
     "name": "stdout",
     "output_type": "stream",
     "text": [
      "✅ Loaded BraTS19_TCIA03_419_1: Image torch.Size([3, 224, 224]), Mask torch.Size([224, 224])\n",
      "✅ Loaded BraTS19_TCIA02_321_1: Image torch.Size([3, 224, 224]), Mask torch.Size([224, 224])\n"
     ]
    },
    {
     "name": "stderr",
     "output_type": "stream",
     "text": [
      "Epoch [5/15]:  53%|█████▎    | 55/104 [00:28<00:24,  1.97it/s, Loss=0.239]"
     ]
    },
    {
     "name": "stdout",
     "output_type": "stream",
     "text": [
      "✅ Loaded BraTS19_CBICA_ALU_1: Image torch.Size([3, 224, 224]), Mask torch.Size([224, 224])\n",
      "✅ Loaded BraTS19_2013_10_1: Image torch.Size([3, 224, 224]), Mask torch.Size([224, 224])\n"
     ]
    },
    {
     "name": "stderr",
     "output_type": "stream",
     "text": [
      "Epoch [5/15]:  54%|█████▍    | 56/104 [00:28<00:24,  1.96it/s, Loss=0.207]"
     ]
    },
    {
     "name": "stdout",
     "output_type": "stream",
     "text": [
      "✅ Loaded BraTS19_2013_12_1: Image torch.Size([3, 224, 224]), Mask torch.Size([224, 224])\n",
      "✅ Loaded BraTS19_CBICA_AAB_1: Image torch.Size([3, 224, 224]), Mask torch.Size([224, 224])\n"
     ]
    },
    {
     "name": "stderr",
     "output_type": "stream",
     "text": [
      "Epoch [5/15]:  55%|█████▍    | 57/104 [00:29<00:24,  1.95it/s, Loss=0.333]"
     ]
    },
    {
     "name": "stdout",
     "output_type": "stream",
     "text": [
      "✅ Loaded BraTS19_CBICA_AOS_1: Image torch.Size([3, 224, 224]), Mask torch.Size([224, 224])\n",
      "✅ Loaded BraTS19_TCIA02_473_1: Image torch.Size([3, 224, 224]), Mask torch.Size([224, 224])\n"
     ]
    },
    {
     "name": "stderr",
     "output_type": "stream",
     "text": [
      "Epoch [5/15]:  56%|█████▌    | 58/104 [00:29<00:23,  1.95it/s, Loss=0.333]"
     ]
    },
    {
     "name": "stdout",
     "output_type": "stream",
     "text": [
      "✅ Loaded BraTS19_CBICA_AQG_1: Image torch.Size([3, 224, 224]), Mask torch.Size([224, 224])\n",
      "✅ Loaded BraTS19_TCIA06_211_1: Image torch.Size([3, 224, 224]), Mask torch.Size([224, 224])\n"
     ]
    },
    {
     "name": "stderr",
     "output_type": "stream",
     "text": [
      "Epoch [5/15]:  57%|█████▋    | 59/104 [00:30<00:22,  1.96it/s, Loss=0.395]"
     ]
    },
    {
     "name": "stdout",
     "output_type": "stream",
     "text": [
      "✅ Loaded BraTS19_CBICA_AZH_1: Image torch.Size([3, 224, 224]), Mask torch.Size([224, 224])\n",
      "✅ Loaded BraTS19_CBICA_ASN_1: Image torch.Size([3, 224, 224]), Mask torch.Size([224, 224])\n"
     ]
    },
    {
     "name": "stderr",
     "output_type": "stream",
     "text": [
      "Epoch [5/15]:  58%|█████▊    | 60/104 [00:30<00:22,  1.95it/s, Loss=0.357]"
     ]
    },
    {
     "name": "stdout",
     "output_type": "stream",
     "text": [
      "✅ Loaded BraTS19_CBICA_AUN_1: Image torch.Size([3, 224, 224]), Mask torch.Size([224, 224])\n",
      "✅ Loaded BraTS19_CBICA_APK_1: Image torch.Size([3, 224, 224]), Mask torch.Size([224, 224])\n"
     ]
    },
    {
     "name": "stderr",
     "output_type": "stream",
     "text": [
      "Epoch [5/15]:  59%|█████▊    | 61/104 [00:31<00:21,  1.97it/s, Loss=0.331]"
     ]
    },
    {
     "name": "stdout",
     "output_type": "stream",
     "text": [
      "✅ Loaded BraTS19_2013_26_1: Image torch.Size([3, 224, 224]), Mask torch.Size([224, 224])\n",
      "✅ Loaded BraTS19_TCIA08_113_1: Image torch.Size([3, 224, 224]), Mask torch.Size([224, 224])\n"
     ]
    },
    {
     "name": "stderr",
     "output_type": "stream",
     "text": [
      "Epoch [5/15]:  60%|█████▉    | 62/104 [00:31<00:21,  1.97it/s, Loss=0.541]"
     ]
    },
    {
     "name": "stdout",
     "output_type": "stream",
     "text": [
      "✅ Loaded BraTS19_CBICA_AVJ_1: Image torch.Size([3, 224, 224]), Mask torch.Size([224, 224])\n",
      "✅ Loaded BraTS19_CBICA_AYI_1: Image torch.Size([3, 224, 224]), Mask torch.Size([224, 224])\n"
     ]
    },
    {
     "name": "stderr",
     "output_type": "stream",
     "text": [
      "Epoch [5/15]:  61%|██████    | 63/104 [00:32<00:20,  1.97it/s, Loss=0.3]  "
     ]
    },
    {
     "name": "stdout",
     "output_type": "stream",
     "text": [
      "✅ Loaded BraTS19_TCIA08_406_1: Image torch.Size([3, 224, 224]), Mask torch.Size([224, 224])\n",
      "✅ Loaded BraTS19_TCIA02_309_1: Image torch.Size([3, 224, 224]), Mask torch.Size([224, 224])\n"
     ]
    },
    {
     "name": "stderr",
     "output_type": "stream",
     "text": [
      "Epoch [5/15]:  62%|██████▏   | 64/104 [00:32<00:20,  1.97it/s, Loss=0.34]"
     ]
    },
    {
     "name": "stdout",
     "output_type": "stream",
     "text": [
      "✅ Loaded BraTS19_CBICA_BBG_1: Image torch.Size([3, 224, 224]), Mask torch.Size([224, 224])\n",
      "✅ Loaded BraTS19_CBICA_AXJ_1: Image torch.Size([3, 224, 224]), Mask torch.Size([224, 224])\n"
     ]
    },
    {
     "name": "stderr",
     "output_type": "stream",
     "text": [
      "Epoch [5/15]:  62%|██████▎   | 65/104 [00:33<00:19,  1.97it/s, Loss=0.246]"
     ]
    },
    {
     "name": "stdout",
     "output_type": "stream",
     "text": [
      "✅ Loaded BraTS19_CBICA_BHB_1: Image torch.Size([3, 224, 224]), Mask torch.Size([224, 224])\n",
      "✅ Loaded BraTS19_TCIA02_394_1: Image torch.Size([3, 224, 224]), Mask torch.Size([224, 224])\n"
     ]
    },
    {
     "name": "stderr",
     "output_type": "stream",
     "text": [
      "Epoch [5/15]:  63%|██████▎   | 66/104 [00:34<00:19,  1.96it/s, Loss=0.75] "
     ]
    },
    {
     "name": "stdout",
     "output_type": "stream",
     "text": [
      "✅ Loaded BraTS19_TCIA08_234_1: Image torch.Size([3, 224, 224]), Mask torch.Size([224, 224])\n",
      "✅ Loaded BraTS19_CBICA_AXW_1: Image torch.Size([3, 224, 224]), Mask torch.Size([224, 224])\n"
     ]
    },
    {
     "name": "stderr",
     "output_type": "stream",
     "text": [
      "Epoch [5/15]:  64%|██████▍   | 67/104 [00:34<00:18,  1.97it/s, Loss=0.331]"
     ]
    },
    {
     "name": "stdout",
     "output_type": "stream",
     "text": [
      "✅ Loaded BraTS19_CBICA_ALX_1: Image torch.Size([3, 224, 224]), Mask torch.Size([224, 224])\n",
      "✅ Loaded BraTS19_CBICA_ARF_1: Image torch.Size([3, 224, 224]), Mask torch.Size([224, 224])\n"
     ]
    },
    {
     "name": "stderr",
     "output_type": "stream",
     "text": [
      "Epoch [5/15]:  65%|██████▌   | 68/104 [00:35<00:18,  1.97it/s, Loss=0.314]"
     ]
    },
    {
     "name": "stdout",
     "output_type": "stream",
     "text": [
      "✅ Loaded BraTS19_TCIA02_198_1: Image torch.Size([3, 224, 224]), Mask torch.Size([224, 224])\n",
      "✅ Loaded BraTS19_TCIA02_135_1: Image torch.Size([3, 224, 224]), Mask torch.Size([224, 224])\n"
     ]
    },
    {
     "name": "stderr",
     "output_type": "stream",
     "text": [
      "Epoch [5/15]:  66%|██████▋   | 69/104 [00:35<00:17,  1.97it/s, Loss=0.356]"
     ]
    },
    {
     "name": "stdout",
     "output_type": "stream",
     "text": [
      "✅ Loaded BraTS19_2013_2_1: Image torch.Size([3, 224, 224]), Mask torch.Size([224, 224])\n",
      "✅ Loaded BraTS19_TCIA01_180_1: Image torch.Size([3, 224, 224]), Mask torch.Size([224, 224])\n"
     ]
    },
    {
     "name": "stderr",
     "output_type": "stream",
     "text": [
      "Epoch [5/15]:  67%|██████▋   | 70/104 [00:36<00:17,  1.96it/s, Loss=0.376]"
     ]
    },
    {
     "name": "stdout",
     "output_type": "stream",
     "text": [
      "✅ Loaded BraTS19_TCIA06_332_1: Image torch.Size([3, 224, 224]), Mask torch.Size([224, 224])\n",
      "✅ Loaded BraTS19_CBICA_AWH_1: Image torch.Size([3, 224, 224]), Mask torch.Size([224, 224])\n"
     ]
    },
    {
     "name": "stderr",
     "output_type": "stream",
     "text": [
      "Epoch [5/15]:  68%|██████▊   | 71/104 [00:36<00:16,  1.97it/s, Loss=0.659]"
     ]
    },
    {
     "name": "stdout",
     "output_type": "stream",
     "text": [
      "✅ Loaded BraTS19_TCIA01_150_1: Image torch.Size([3, 224, 224]), Mask torch.Size([224, 224])\n",
      "✅ Loaded BraTS19_CBICA_ANZ_1: Image torch.Size([3, 224, 224]), Mask torch.Size([224, 224])\n"
     ]
    },
    {
     "name": "stderr",
     "output_type": "stream",
     "text": [
      "Epoch [5/15]:  69%|██████▉   | 72/104 [00:37<00:16,  1.98it/s, Loss=0.362]"
     ]
    },
    {
     "name": "stdout",
     "output_type": "stream",
     "text": [
      "✅ Loaded BraTS19_2013_5_1: Image torch.Size([3, 224, 224]), Mask torch.Size([224, 224])\n",
      "✅ Loaded BraTS19_CBICA_ASE_1: Image torch.Size([3, 224, 224]), Mask torch.Size([224, 224])\n"
     ]
    },
    {
     "name": "stderr",
     "output_type": "stream",
     "text": [
      "Epoch [5/15]:  70%|███████   | 73/104 [00:37<00:15,  1.98it/s, Loss=0.357]"
     ]
    },
    {
     "name": "stdout",
     "output_type": "stream",
     "text": [
      "✅ Loaded BraTS19_CBICA_ANP_1: Image torch.Size([3, 224, 224]), Mask torch.Size([224, 224])\n",
      "✅ Loaded BraTS19_CBICA_ASY_1: Image torch.Size([3, 224, 224]), Mask torch.Size([224, 224])\n"
     ]
    },
    {
     "name": "stderr",
     "output_type": "stream",
     "text": [
      "Epoch [5/15]:  71%|███████   | 74/104 [00:38<00:15,  1.99it/s, Loss=0.349]"
     ]
    },
    {
     "name": "stdout",
     "output_type": "stream",
     "text": [
      "✅ Loaded BraTS19_2013_25_1: Image torch.Size([3, 224, 224]), Mask torch.Size([224, 224])\n",
      "✅ Loaded BraTS19_CBICA_AXQ_1: Image torch.Size([3, 224, 224]), Mask torch.Size([224, 224])\n"
     ]
    },
    {
     "name": "stderr",
     "output_type": "stream",
     "text": [
      "Epoch [5/15]:  72%|███████▏  | 75/104 [00:38<00:14,  2.00it/s, Loss=0.577]"
     ]
    },
    {
     "name": "stdout",
     "output_type": "stream",
     "text": [
      "✅ Loaded BraTS19_CBICA_AYC_1: Image torch.Size([3, 224, 224]), Mask torch.Size([224, 224])\n",
      "✅ Loaded BraTS19_TCIA02_368_1: Image torch.Size([3, 224, 224]), Mask torch.Size([224, 224])\n"
     ]
    },
    {
     "name": "stderr",
     "output_type": "stream",
     "text": [
      "Epoch [5/15]:  73%|███████▎  | 76/104 [00:39<00:14,  1.98it/s, Loss=0.295]"
     ]
    },
    {
     "name": "stdout",
     "output_type": "stream",
     "text": [
      "✅ Loaded BraTS19_TCIA02_491_1: Image torch.Size([3, 224, 224]), Mask torch.Size([224, 224])\n",
      "✅ Loaded BraTS19_CBICA_BEM_1: Image torch.Size([3, 224, 224]), Mask torch.Size([224, 224])\n"
     ]
    },
    {
     "name": "stderr",
     "output_type": "stream",
     "text": [
      "Epoch [5/15]:  74%|███████▍  | 77/104 [00:39<00:13,  1.98it/s, Loss=0.373]"
     ]
    },
    {
     "name": "stdout",
     "output_type": "stream",
     "text": [
      "✅ Loaded BraTS19_TCIA03_375_1: Image torch.Size([3, 224, 224]), Mask torch.Size([224, 224])\n",
      "✅ Loaded BraTS19_CBICA_AAP_1: Image torch.Size([3, 224, 224]), Mask torch.Size([224, 224])\n"
     ]
    },
    {
     "name": "stderr",
     "output_type": "stream",
     "text": [
      "Epoch [5/15]:  75%|███████▌  | 78/104 [00:40<00:13,  1.98it/s, Loss=0.243]"
     ]
    },
    {
     "name": "stdout",
     "output_type": "stream",
     "text": [
      "✅ Loaded BraTS19_CBICA_AAG_1: Image torch.Size([3, 224, 224]), Mask torch.Size([224, 224])\n",
      "✅ Loaded BraTS19_CBICA_BGW_1: Image torch.Size([3, 224, 224]), Mask torch.Size([224, 224])\n"
     ]
    },
    {
     "name": "stderr",
     "output_type": "stream",
     "text": [
      "Epoch [5/15]:  76%|███████▌  | 79/104 [00:40<00:12,  1.98it/s, Loss=0.334]"
     ]
    },
    {
     "name": "stdout",
     "output_type": "stream",
     "text": [
      "✅ Loaded BraTS19_TCIA02_300_1: Image torch.Size([3, 224, 224]), Mask torch.Size([224, 224])\n",
      "✅ Loaded BraTS19_TCIA01_411_1: Image torch.Size([3, 224, 224]), Mask torch.Size([224, 224])\n"
     ]
    },
    {
     "name": "stderr",
     "output_type": "stream",
     "text": [
      "Epoch [5/15]:  77%|███████▋  | 80/104 [00:41<00:12,  1.98it/s, Loss=0.171]"
     ]
    },
    {
     "name": "stdout",
     "output_type": "stream",
     "text": [
      "✅ Loaded BraTS19_TCIA02_377_1: Image torch.Size([3, 224, 224]), Mask torch.Size([224, 224])\n",
      "✅ Loaded BraTS19_TCIA02_222_1: Image torch.Size([3, 224, 224]), Mask torch.Size([224, 224])\n"
     ]
    },
    {
     "name": "stderr",
     "output_type": "stream",
     "text": [
      "Epoch [5/15]:  78%|███████▊  | 81/104 [00:41<00:11,  1.99it/s, Loss=0.274]"
     ]
    },
    {
     "name": "stdout",
     "output_type": "stream",
     "text": [
      "✅ Loaded BraTS19_CBICA_ATN_1: Image torch.Size([3, 224, 224]), Mask torch.Size([224, 224])\n",
      "✅ Loaded BraTS19_CBICA_ATD_1: Image torch.Size([3, 224, 224]), Mask torch.Size([224, 224])\n"
     ]
    },
    {
     "name": "stderr",
     "output_type": "stream",
     "text": [
      "Epoch [5/15]:  79%|███████▉  | 82/104 [00:42<00:11,  1.99it/s, Loss=0.444]"
     ]
    },
    {
     "name": "stdout",
     "output_type": "stream",
     "text": [
      "✅ Loaded BraTS19_CBICA_AXO_1: Image torch.Size([3, 224, 224]), Mask torch.Size([224, 224])\n",
      "✅ Loaded BraTS19_TCIA02_117_1: Image torch.Size([3, 224, 224]), Mask torch.Size([224, 224])\n"
     ]
    },
    {
     "name": "stderr",
     "output_type": "stream",
     "text": [
      "Epoch [5/15]:  80%|███████▉  | 83/104 [00:42<00:10,  1.95it/s, Loss=0.351]"
     ]
    },
    {
     "name": "stdout",
     "output_type": "stream",
     "text": [
      "✅ Loaded BraTS19_TCIA03_138_1: Image torch.Size([3, 224, 224]), Mask torch.Size([224, 224])\n",
      "✅ Loaded BraTS19_2013_20_1: Image torch.Size([3, 224, 224]), Mask torch.Size([224, 224])\n"
     ]
    },
    {
     "name": "stderr",
     "output_type": "stream",
     "text": [
      "Epoch [5/15]:  81%|████████  | 84/104 [00:43<00:10,  1.91it/s, Loss=0.454]"
     ]
    },
    {
     "name": "stdout",
     "output_type": "stream",
     "text": [
      "✅ Loaded BraTS19_TCIA02_171_1: Image torch.Size([3, 224, 224]), Mask torch.Size([224, 224])\n",
      "✅ Loaded BraTS19_TCIA08_162_1: Image torch.Size([3, 224, 224]), Mask torch.Size([224, 224])\n"
     ]
    },
    {
     "name": "stderr",
     "output_type": "stream",
     "text": [
      "Epoch [5/15]:  82%|████████▏ | 85/104 [00:43<00:09,  1.91it/s, Loss=0.187]"
     ]
    },
    {
     "name": "stdout",
     "output_type": "stream",
     "text": [
      "✅ Loaded BraTS19_CBICA_BHZ_1: Image torch.Size([3, 224, 224]), Mask torch.Size([224, 224])\n",
      "✅ Loaded BraTS19_CBICA_AQU_1: Image torch.Size([3, 224, 224]), Mask torch.Size([224, 224])\n"
     ]
    },
    {
     "name": "stderr",
     "output_type": "stream",
     "text": [
      "Epoch [5/15]:  83%|████████▎ | 86/104 [00:44<00:09,  1.95it/s, Loss=0.341]"
     ]
    },
    {
     "name": "stdout",
     "output_type": "stream",
     "text": [
      "✅ Loaded BraTS19_CBICA_BHQ_1: Image torch.Size([3, 224, 224]), Mask torch.Size([224, 224])\n",
      "✅ Loaded BraTS19_CBICA_AMH_1: Image torch.Size([3, 224, 224]), Mask torch.Size([224, 224])\n"
     ]
    },
    {
     "name": "stderr",
     "output_type": "stream",
     "text": [
      "Epoch [5/15]:  84%|████████▎ | 87/104 [00:44<00:08,  1.96it/s, Loss=0.354]"
     ]
    },
    {
     "name": "stdout",
     "output_type": "stream",
     "text": [
      "✅ Loaded BraTS19_CBICA_AQA_1: Image torch.Size([3, 224, 224]), Mask torch.Size([224, 224])\n",
      "✅ Loaded BraTS19_CBICA_AOO_1: Image torch.Size([3, 224, 224]), Mask torch.Size([224, 224])\n"
     ]
    },
    {
     "name": "stderr",
     "output_type": "stream",
     "text": [
      "Epoch [5/15]:  85%|████████▍ | 88/104 [00:45<00:08,  1.97it/s, Loss=0.51] "
     ]
    },
    {
     "name": "stdout",
     "output_type": "stream",
     "text": [
      "✅ Loaded BraTS19_CBICA_ATV_1: Image torch.Size([3, 224, 224]), Mask torch.Size([224, 224])\n",
      "✅ Loaded BraTS19_TCIA01_186_1: Image torch.Size([3, 224, 224]), Mask torch.Size([224, 224])\n"
     ]
    },
    {
     "name": "stderr",
     "output_type": "stream",
     "text": [
      "Epoch [5/15]:  86%|████████▌ | 89/104 [00:45<00:07,  1.99it/s, Loss=0.287]"
     ]
    },
    {
     "name": "stdout",
     "output_type": "stream",
     "text": [
      "✅ Loaded BraTS19_CBICA_BGG_1: Image torch.Size([3, 224, 224]), Mask torch.Size([224, 224])\n",
      "✅ Loaded BraTS19_TCIA08_280_1: Image torch.Size([3, 224, 224]), Mask torch.Size([224, 224])\n"
     ]
    },
    {
     "name": "stderr",
     "output_type": "stream",
     "text": [
      "Epoch [5/15]:  87%|████████▋ | 90/104 [00:46<00:07,  1.99it/s, Loss=0.617]"
     ]
    },
    {
     "name": "stdout",
     "output_type": "stream",
     "text": [
      "✅ Loaded BraTS19_CBICA_ASU_1: Image torch.Size([3, 224, 224]), Mask torch.Size([224, 224])\n",
      "✅ Loaded BraTS19_CBICA_BGX_1: Image torch.Size([3, 224, 224]), Mask torch.Size([224, 224])\n"
     ]
    },
    {
     "name": "stderr",
     "output_type": "stream",
     "text": [
      "Epoch [5/15]:  88%|████████▊ | 91/104 [00:46<00:06,  1.99it/s, Loss=0.222]"
     ]
    },
    {
     "name": "stdout",
     "output_type": "stream",
     "text": [
      "✅ Loaded BraTS19_CBICA_BLJ_1: Image torch.Size([3, 224, 224]), Mask torch.Size([224, 224])\n",
      "✅ Loaded BraTS19_CBICA_AVT_1: Image torch.Size([3, 224, 224]), Mask torch.Size([224, 224])\n"
     ]
    },
    {
     "name": "stderr",
     "output_type": "stream",
     "text": [
      "Epoch [5/15]:  88%|████████▊ | 92/104 [00:47<00:06,  1.99it/s, Loss=0.35] "
     ]
    },
    {
     "name": "stdout",
     "output_type": "stream",
     "text": [
      "✅ Loaded BraTS19_CBICA_AVV_1: Image torch.Size([3, 224, 224]), Mask torch.Size([224, 224])\n",
      "✅ Loaded BraTS19_CBICA_BFP_1: Image torch.Size([3, 224, 224]), Mask torch.Size([224, 224])\n"
     ]
    },
    {
     "name": "stderr",
     "output_type": "stream",
     "text": [
      "Epoch [5/15]:  89%|████████▉ | 93/104 [00:47<00:05,  2.00it/s, Loss=0.365]"
     ]
    },
    {
     "name": "stdout",
     "output_type": "stream",
     "text": [
      "✅ Loaded BraTS19_CBICA_AQT_1: Image torch.Size([3, 224, 224]), Mask torch.Size([224, 224])\n",
      "✅ Loaded BraTS19_TCIA02_283_1: Image torch.Size([3, 224, 224]), Mask torch.Size([224, 224])\n"
     ]
    },
    {
     "name": "stderr",
     "output_type": "stream",
     "text": [
      "Epoch [5/15]:  90%|█████████ | 94/104 [00:48<00:05,  1.98it/s, Loss=0.358]"
     ]
    },
    {
     "name": "stdout",
     "output_type": "stream",
     "text": [
      "✅ Loaded BraTS19_CBICA_BKV_1: Image torch.Size([3, 224, 224]), Mask torch.Size([224, 224])\n",
      "✅ Loaded BraTS19_CBICA_AQO_1: Image torch.Size([3, 224, 224]), Mask torch.Size([224, 224])\n"
     ]
    },
    {
     "name": "stderr",
     "output_type": "stream",
     "text": [
      "Epoch [5/15]:  91%|█████████▏| 95/104 [00:48<00:04,  1.98it/s, Loss=0.45] "
     ]
    },
    {
     "name": "stdout",
     "output_type": "stream",
     "text": [
      "✅ Loaded BraTS19_TCIA04_149_1: Image torch.Size([3, 224, 224]), Mask torch.Size([224, 224])\n",
      "✅ Loaded BraTS19_TCIA04_479_1: Image torch.Size([3, 224, 224]), Mask torch.Size([224, 224])\n"
     ]
    },
    {
     "name": "stderr",
     "output_type": "stream",
     "text": [
      "Epoch [5/15]:  92%|█████████▏| 96/104 [00:49<00:04,  1.99it/s, Loss=0.53]"
     ]
    },
    {
     "name": "stdout",
     "output_type": "stream",
     "text": [
      "✅ Loaded BraTS19_CBICA_AVG_1: Image torch.Size([3, 224, 224]), Mask torch.Size([224, 224])\n",
      "✅ Loaded BraTS19_TCIA01_201_1: Image torch.Size([3, 224, 224]), Mask torch.Size([224, 224])\n"
     ]
    },
    {
     "name": "stderr",
     "output_type": "stream",
     "text": [
      "Epoch [5/15]:  93%|█████████▎| 97/104 [00:49<00:03,  2.00it/s, Loss=0.349]"
     ]
    },
    {
     "name": "stdout",
     "output_type": "stream",
     "text": [
      "✅ Loaded BraTS19_CBICA_AQV_1: Image torch.Size([3, 224, 224]), Mask torch.Size([224, 224])\n",
      "✅ Loaded BraTS19_TCIA02_118_1: Image torch.Size([3, 224, 224]), Mask torch.Size([224, 224])\n"
     ]
    },
    {
     "name": "stderr",
     "output_type": "stream",
     "text": [
      "Epoch [5/15]:  94%|█████████▍| 98/104 [00:50<00:02,  2.02it/s, Loss=0.442]"
     ]
    },
    {
     "name": "stdout",
     "output_type": "stream",
     "text": [
      "✅ Loaded BraTS19_TCIA01_378_1: Image torch.Size([3, 224, 224]), Mask torch.Size([224, 224])\n",
      "✅ Loaded BraTS19_TCIA04_192_1: Image torch.Size([3, 224, 224]), Mask torch.Size([224, 224])\n"
     ]
    },
    {
     "name": "stderr",
     "output_type": "stream",
     "text": [
      "Epoch [5/15]:  95%|█████████▌| 99/104 [00:50<00:02,  1.99it/s, Loss=0.349]"
     ]
    },
    {
     "name": "stdout",
     "output_type": "stream",
     "text": [
      "✅ Loaded BraTS19_CBICA_AQN_1: Image torch.Size([3, 224, 224]), Mask torch.Size([224, 224])\n",
      "✅ Loaded BraTS19_2013_4_1: Image torch.Size([3, 224, 224]), Mask torch.Size([224, 224])\n"
     ]
    },
    {
     "name": "stderr",
     "output_type": "stream",
     "text": [
      "Epoch [5/15]:  96%|█████████▌| 100/104 [00:51<00:02,  1.97it/s, Loss=0.568]"
     ]
    },
    {
     "name": "stdout",
     "output_type": "stream",
     "text": [
      "✅ Loaded BraTS19_TCIA02_226_1: Image torch.Size([3, 224, 224]), Mask torch.Size([224, 224])\n",
      "✅ Loaded BraTS19_TMC_11964_1: Image torch.Size([3, 224, 224]), Mask torch.Size([224, 224])\n"
     ]
    },
    {
     "name": "stderr",
     "output_type": "stream",
     "text": [
      "Epoch [5/15]:  97%|█████████▋| 101/104 [00:51<00:01,  1.96it/s, Loss=0.29] "
     ]
    },
    {
     "name": "stdout",
     "output_type": "stream",
     "text": [
      "✅ Loaded BraTS19_CBICA_AQD_1: Image torch.Size([3, 224, 224]), Mask torch.Size([224, 224])\n",
      "✅ Loaded BraTS19_CBICA_ATP_1: Image torch.Size([3, 224, 224]), Mask torch.Size([224, 224])\n"
     ]
    },
    {
     "name": "stderr",
     "output_type": "stream",
     "text": [
      "Epoch [5/15]:  98%|█████████▊| 102/104 [00:52<00:01,  1.97it/s, Loss=0.233]"
     ]
    },
    {
     "name": "stdout",
     "output_type": "stream",
     "text": [
      "✅ Loaded BraTS19_2013_21_1: Image torch.Size([3, 224, 224]), Mask torch.Size([224, 224])\n",
      "✅ Loaded BraTS19_CBICA_ASG_1: Image torch.Size([3, 224, 224]), Mask torch.Size([224, 224])\n"
     ]
    },
    {
     "name": "stderr",
     "output_type": "stream",
     "text": [
      "Epoch [5/15]:  99%|█████████▉| 103/104 [00:52<00:00,  1.98it/s, Loss=0.319]"
     ]
    },
    {
     "name": "stdout",
     "output_type": "stream",
     "text": [
      "✅ Loaded BraTS19_CBICA_AXM_1: Image torch.Size([3, 224, 224]), Mask torch.Size([224, 224])\n"
     ]
    },
    {
     "name": "stderr",
     "output_type": "stream",
     "text": [
      "                                                                           \r"
     ]
    },
    {
     "name": "stdout",
     "output_type": "stream",
     "text": [
      "\n",
      "✅ Epoch 5: Train Loss: 0.3530\n",
      "💾 Saved model at epoch 5 with train loss 0.3530\n"
     ]
    },
    {
     "name": "stderr",
     "output_type": "stream",
     "text": [
      "Epoch [6/15]:   0%|          | 0/104 [00:00<?, ?it/s]"
     ]
    },
    {
     "name": "stdout",
     "output_type": "stream",
     "text": [
      "✅ Loaded BraTS19_TCIA01_378_1: Image torch.Size([3, 224, 224]), Mask torch.Size([224, 224])\n",
      "✅ Loaded BraTS19_TCIA03_257_1: Image torch.Size([3, 224, 224]), Mask torch.Size([224, 224])\n"
     ]
    },
    {
     "name": "stderr",
     "output_type": "stream",
     "text": [
      "Epoch [6/15]:   1%|          | 1/104 [00:00<00:53,  1.94it/s, Loss=0.34]"
     ]
    },
    {
     "name": "stdout",
     "output_type": "stream",
     "text": [
      "✅ Loaded BraTS19_TCIA04_361_1: Image torch.Size([3, 224, 224]), Mask torch.Size([224, 224])\n",
      "✅ Loaded BraTS19_CBICA_ATN_1: Image torch.Size([3, 224, 224]), Mask torch.Size([224, 224])\n"
     ]
    },
    {
     "name": "stderr",
     "output_type": "stream",
     "text": [
      "Epoch [6/15]:   2%|▏         | 2/104 [00:01<00:51,  1.97it/s, Loss=0.357]"
     ]
    },
    {
     "name": "stdout",
     "output_type": "stream",
     "text": [
      "✅ Loaded BraTS19_TCIA02_455_1: Image torch.Size([3, 224, 224]), Mask torch.Size([224, 224])\n",
      "✅ Loaded BraTS19_TMC_30014_1: Image torch.Size([3, 224, 224]), Mask torch.Size([224, 224])\n"
     ]
    },
    {
     "name": "stderr",
     "output_type": "stream",
     "text": [
      "Epoch [6/15]:   3%|▎         | 3/104 [00:01<00:51,  1.98it/s, Loss=0.667]"
     ]
    },
    {
     "name": "stdout",
     "output_type": "stream",
     "text": [
      "✅ Loaded BraTS19_TCIA02_473_1: Image torch.Size([3, 224, 224]), Mask torch.Size([224, 224])\n",
      "✅ Loaded BraTS19_CBICA_AUW_1: Image torch.Size([3, 224, 224]), Mask torch.Size([224, 224])\n"
     ]
    },
    {
     "name": "stderr",
     "output_type": "stream",
     "text": [
      "Epoch [6/15]:   4%|▍         | 4/104 [00:02<00:51,  1.94it/s, Loss=0.292]"
     ]
    },
    {
     "name": "stdout",
     "output_type": "stream",
     "text": [
      "✅ Loaded BraTS19_TCIA02_321_1: Image torch.Size([3, 224, 224]), Mask torch.Size([224, 224])\n",
      "✅ Loaded BraTS19_2013_5_1: Image torch.Size([3, 224, 224]), Mask torch.Size([224, 224])\n"
     ]
    },
    {
     "name": "stderr",
     "output_type": "stream",
     "text": [
      "Epoch [6/15]:   5%|▍         | 5/104 [00:02<00:50,  1.97it/s, Loss=0.282]"
     ]
    },
    {
     "name": "stdout",
     "output_type": "stream",
     "text": [
      "✅ Loaded BraTS19_TCIA08_113_1: Image torch.Size([3, 224, 224]), Mask torch.Size([224, 224])\n",
      "✅ Loaded BraTS19_CBICA_AYI_1: Image torch.Size([3, 224, 224]), Mask torch.Size([224, 224])\n"
     ]
    },
    {
     "name": "stderr",
     "output_type": "stream",
     "text": [
      "Epoch [6/15]:   6%|▌         | 6/104 [00:03<00:49,  1.98it/s, Loss=0.529]"
     ]
    },
    {
     "name": "stdout",
     "output_type": "stream",
     "text": [
      "✅ Loaded BraTS19_CBICA_ASE_1: Image torch.Size([3, 224, 224]), Mask torch.Size([224, 224])\n",
      "✅ Loaded BraTS19_TCIA02_607_1: Image torch.Size([3, 224, 224]), Mask torch.Size([224, 224])\n"
     ]
    },
    {
     "name": "stderr",
     "output_type": "stream",
     "text": [
      "Epoch [6/15]:   7%|▋         | 7/104 [00:03<00:48,  1.98it/s, Loss=0.461]"
     ]
    },
    {
     "name": "stdout",
     "output_type": "stream",
     "text": [
      "✅ Loaded BraTS19_TCIA01_448_1: Image torch.Size([3, 224, 224]), Mask torch.Size([224, 224])\n",
      "✅ Loaded BraTS19_CBICA_APR_1: Image torch.Size([3, 224, 224]), Mask torch.Size([224, 224])\n"
     ]
    },
    {
     "name": "stderr",
     "output_type": "stream",
     "text": [
      "Epoch [6/15]:   8%|▊         | 8/104 [00:04<00:48,  1.99it/s, Loss=0.568]"
     ]
    },
    {
     "name": "stdout",
     "output_type": "stream",
     "text": [
      "✅ Loaded BraTS19_TCIA01_425_1: Image torch.Size([3, 224, 224]), Mask torch.Size([224, 224])\n",
      "✅ Loaded BraTS19_TCIA06_211_1: Image torch.Size([3, 224, 224]), Mask torch.Size([224, 224])\n"
     ]
    },
    {
     "name": "stderr",
     "output_type": "stream",
     "text": [
      "Epoch [6/15]:   9%|▊         | 9/104 [00:04<00:47,  1.99it/s, Loss=0.37] "
     ]
    },
    {
     "name": "stdout",
     "output_type": "stream",
     "text": [
      "✅ Loaded BraTS19_CBICA_BFB_1: Image torch.Size([3, 224, 224]), Mask torch.Size([224, 224])\n",
      "✅ Loaded BraTS19_CBICA_ASU_1: Image torch.Size([3, 224, 224]), Mask torch.Size([224, 224])\n"
     ]
    },
    {
     "name": "stderr",
     "output_type": "stream",
     "text": [
      "Epoch [6/15]:  10%|▉         | 10/104 [00:05<00:47,  1.99it/s, Loss=0.547]"
     ]
    },
    {
     "name": "stdout",
     "output_type": "stream",
     "text": [
      "✅ Loaded BraTS19_CBICA_AXO_1: Image torch.Size([3, 224, 224]), Mask torch.Size([224, 224])\n",
      "✅ Loaded BraTS19_CBICA_BNR_1: Image torch.Size([3, 224, 224]), Mask torch.Size([224, 224])\n"
     ]
    },
    {
     "name": "stderr",
     "output_type": "stream",
     "text": [
      "Epoch [6/15]:  11%|█         | 11/104 [00:05<00:46,  2.00it/s, Loss=0.361]"
     ]
    },
    {
     "name": "stdout",
     "output_type": "stream",
     "text": [
      "✅ Loaded BraTS19_CBICA_AXJ_1: Image torch.Size([3, 224, 224]), Mask torch.Size([224, 224])\n",
      "✅ Loaded BraTS19_CBICA_AYA_1: Image torch.Size([3, 224, 224]), Mask torch.Size([224, 224])\n"
     ]
    },
    {
     "name": "stderr",
     "output_type": "stream",
     "text": [
      "Epoch [6/15]:  12%|█▏        | 12/104 [00:06<00:46,  1.99it/s, Loss=0.564]"
     ]
    },
    {
     "name": "stdout",
     "output_type": "stream",
     "text": [
      "✅ Loaded BraTS19_TCIA08_162_1: Image torch.Size([3, 224, 224]), Mask torch.Size([224, 224])\n",
      "✅ Loaded BraTS19_CBICA_BGG_1: Image torch.Size([3, 224, 224]), Mask torch.Size([224, 224])\n"
     ]
    },
    {
     "name": "stderr",
     "output_type": "stream",
     "text": [
      "Epoch [6/15]:  12%|█▎        | 13/104 [00:06<00:45,  2.00it/s, Loss=0.241]"
     ]
    },
    {
     "name": "stdout",
     "output_type": "stream",
     "text": [
      "✅ Loaded BraTS19_CBICA_BLJ_1: Image torch.Size([3, 224, 224]), Mask torch.Size([224, 224])\n",
      "✅ Loaded BraTS19_CBICA_AQA_1: Image torch.Size([3, 224, 224]), Mask torch.Size([224, 224])\n"
     ]
    },
    {
     "name": "stderr",
     "output_type": "stream",
     "text": [
      "Epoch [6/15]:  13%|█▎        | 14/104 [00:07<00:46,  1.93it/s, Loss=0.558]"
     ]
    },
    {
     "name": "stdout",
     "output_type": "stream",
     "text": [
      "✅ Loaded BraTS19_TCIA02_374_1: Image torch.Size([3, 224, 224]), Mask torch.Size([224, 224])\n",
      "✅ Loaded BraTS19_CBICA_AQU_1: Image torch.Size([3, 224, 224]), Mask torch.Size([224, 224])\n"
     ]
    },
    {
     "name": "stderr",
     "output_type": "stream",
     "text": [
      "Epoch [6/15]:  14%|█▍        | 15/104 [00:07<00:46,  1.93it/s, Loss=0.376]"
     ]
    },
    {
     "name": "stdout",
     "output_type": "stream",
     "text": [
      "✅ Loaded BraTS19_2013_27_1: Image torch.Size([3, 224, 224]), Mask torch.Size([224, 224])\n",
      "✅ Loaded BraTS19_CBICA_AXL_1: Image torch.Size([3, 224, 224]), Mask torch.Size([224, 224])\n"
     ]
    },
    {
     "name": "stderr",
     "output_type": "stream",
     "text": [
      "Epoch [6/15]:  15%|█▌        | 16/104 [00:08<00:45,  1.94it/s, Loss=0.267]"
     ]
    },
    {
     "name": "stdout",
     "output_type": "stream",
     "text": [
      "✅ Loaded BraTS19_TCIA01_411_1: Image torch.Size([3, 224, 224]), Mask torch.Size([224, 224])\n",
      "✅ Loaded BraTS19_TCIA03_121_1: Image torch.Size([3, 224, 224]), Mask torch.Size([224, 224])\n"
     ]
    },
    {
     "name": "stderr",
     "output_type": "stream",
     "text": [
      "Epoch [6/15]:  16%|█▋        | 17/104 [00:08<00:44,  1.96it/s, Loss=0.377]"
     ]
    },
    {
     "name": "stdout",
     "output_type": "stream",
     "text": [
      "✅ Loaded BraTS19_TCIA02_605_1: Image torch.Size([3, 224, 224]), Mask torch.Size([224, 224])\n",
      "✅ Loaded BraTS19_CBICA_AAP_1: Image torch.Size([3, 224, 224]), Mask torch.Size([224, 224])\n"
     ]
    },
    {
     "name": "stderr",
     "output_type": "stream",
     "text": [
      "Epoch [6/15]:  17%|█▋        | 18/104 [00:09<00:43,  1.97it/s, Loss=0.242]"
     ]
    },
    {
     "name": "stdout",
     "output_type": "stream",
     "text": [
      "✅ Loaded BraTS19_TCIA01_131_1: Image torch.Size([3, 224, 224]), Mask torch.Size([224, 224])\n",
      "✅ Loaded BraTS19_CBICA_BGT_1: Image torch.Size([3, 224, 224]), Mask torch.Size([224, 224])\n"
     ]
    },
    {
     "name": "stderr",
     "output_type": "stream",
     "text": [
      "Epoch [6/15]:  18%|█▊        | 19/104 [00:09<00:42,  1.98it/s, Loss=0.559]"
     ]
    },
    {
     "name": "stdout",
     "output_type": "stream",
     "text": [
      "✅ Loaded BraTS19_CBICA_ABY_1: Image torch.Size([3, 224, 224]), Mask torch.Size([224, 224])\n",
      "✅ Loaded BraTS19_CBICA_AQT_1: Image torch.Size([3, 224, 224]), Mask torch.Size([224, 224])\n"
     ]
    },
    {
     "name": "stderr",
     "output_type": "stream",
     "text": [
      "Epoch [6/15]:  19%|█▉        | 20/104 [00:10<00:42,  1.99it/s, Loss=0.352]"
     ]
    },
    {
     "name": "stdout",
     "output_type": "stream",
     "text": [
      "✅ Loaded BraTS19_CBICA_AUN_1: Image torch.Size([3, 224, 224]), Mask torch.Size([224, 224])\n",
      "✅ Loaded BraTS19_TCIA02_309_1: Image torch.Size([3, 224, 224]), Mask torch.Size([224, 224])\n"
     ]
    },
    {
     "name": "stderr",
     "output_type": "stream",
     "text": [
      "Epoch [6/15]:  20%|██        | 21/104 [00:10<00:41,  1.99it/s, Loss=0.333]"
     ]
    },
    {
     "name": "stdout",
     "output_type": "stream",
     "text": [
      "✅ Loaded BraTS19_CBICA_ALN_1: Image torch.Size([3, 224, 224]), Mask torch.Size([224, 224])\n",
      "✅ Loaded BraTS19_CBICA_ATX_1: Image torch.Size([3, 224, 224]), Mask torch.Size([224, 224])\n"
     ]
    },
    {
     "name": "stderr",
     "output_type": "stream",
     "text": [
      "Epoch [6/15]:  21%|██        | 22/104 [00:11<00:41,  1.97it/s, Loss=0.319]"
     ]
    },
    {
     "name": "stdout",
     "output_type": "stream",
     "text": [
      "✅ Loaded BraTS19_CBICA_ATV_1: Image torch.Size([3, 224, 224]), Mask torch.Size([224, 224])\n",
      "✅ Loaded BraTS19_CBICA_AOO_1: Image torch.Size([3, 224, 224]), Mask torch.Size([224, 224])\n"
     ]
    },
    {
     "name": "stderr",
     "output_type": "stream",
     "text": [
      "Epoch [6/15]:  22%|██▏       | 23/104 [00:11<00:40,  1.98it/s, Loss=0.297]"
     ]
    },
    {
     "name": "stdout",
     "output_type": "stream",
     "text": [
      "✅ Loaded BraTS19_TCIA03_138_1: Image torch.Size([3, 224, 224]), Mask torch.Size([224, 224])\n",
      "✅ Loaded BraTS19_TCIA04_149_1: Image torch.Size([3, 224, 224]), Mask torch.Size([224, 224])\n"
     ]
    },
    {
     "name": "stderr",
     "output_type": "stream",
     "text": [
      "Epoch [6/15]:  23%|██▎       | 24/104 [00:12<00:39,  2.01it/s, Loss=0.475]"
     ]
    },
    {
     "name": "stdout",
     "output_type": "stream",
     "text": [
      "✅ Loaded BraTS19_CBICA_BHB_1: Image torch.Size([3, 224, 224]), Mask torch.Size([224, 224])\n",
      "✅ Loaded BraTS19_TCIA08_105_1: Image torch.Size([3, 224, 224]), Mask torch.Size([224, 224])\n"
     ]
    },
    {
     "name": "stderr",
     "output_type": "stream",
     "text": [
      "Epoch [6/15]:  24%|██▍       | 25/104 [00:12<00:39,  2.01it/s, Loss=0.336]"
     ]
    },
    {
     "name": "stdout",
     "output_type": "stream",
     "text": [
      "✅ Loaded BraTS19_2013_7_1: Image torch.Size([3, 224, 224]), Mask torch.Size([224, 224])\n",
      "✅ Loaded BraTS19_CBICA_AQZ_1: Image torch.Size([3, 224, 224]), Mask torch.Size([224, 224])\n"
     ]
    },
    {
     "name": "stderr",
     "output_type": "stream",
     "text": [
      "Epoch [6/15]:  25%|██▌       | 26/104 [00:13<00:38,  2.00it/s, Loss=0.538]"
     ]
    },
    {
     "name": "stdout",
     "output_type": "stream",
     "text": [
      "✅ Loaded BraTS19_TCIA02_151_1: Image torch.Size([3, 224, 224]), Mask torch.Size([224, 224])\n",
      "✅ Loaded BraTS19_2013_21_1: Image torch.Size([3, 224, 224]), Mask torch.Size([224, 224])\n"
     ]
    },
    {
     "name": "stderr",
     "output_type": "stream",
     "text": [
      "Epoch [6/15]:  26%|██▌       | 27/104 [00:13<00:38,  1.98it/s, Loss=0.243]"
     ]
    },
    {
     "name": "stdout",
     "output_type": "stream",
     "text": [
      "✅ Loaded BraTS19_CBICA_AXW_1: Image torch.Size([3, 224, 224]), Mask torch.Size([224, 224])\n",
      "✅ Loaded BraTS19_TCIA02_222_1: Image torch.Size([3, 224, 224]), Mask torch.Size([224, 224])\n"
     ]
    },
    {
     "name": "stderr",
     "output_type": "stream",
     "text": [
      "Epoch [6/15]:  27%|██▋       | 28/104 [00:14<00:37,  2.01it/s, Loss=0.255]"
     ]
    },
    {
     "name": "stdout",
     "output_type": "stream",
     "text": [
      "✅ Loaded BraTS19_CBICA_AVV_1: Image torch.Size([3, 224, 224]), Mask torch.Size([224, 224])\n",
      "✅ Loaded BraTS19_TCIA08_406_1: Image torch.Size([3, 224, 224]), Mask torch.Size([224, 224])\n"
     ]
    },
    {
     "name": "stderr",
     "output_type": "stream",
     "text": [
      "Epoch [6/15]:  28%|██▊       | 29/104 [00:14<00:37,  2.01it/s, Loss=0.379]"
     ]
    },
    {
     "name": "stdout",
     "output_type": "stream",
     "text": [
      "✅ Loaded BraTS19_CBICA_AXM_1: Image torch.Size([3, 224, 224]), Mask torch.Size([224, 224])\n",
      "✅ Loaded BraTS19_CBICA_ASH_1: Image torch.Size([3, 224, 224]), Mask torch.Size([224, 224])\n"
     ]
    },
    {
     "name": "stderr",
     "output_type": "stream",
     "text": [
      "Epoch [6/15]:  29%|██▉       | 30/104 [00:15<00:37,  2.00it/s, Loss=0.231]"
     ]
    },
    {
     "name": "stdout",
     "output_type": "stream",
     "text": [
      "✅ Loaded BraTS19_2013_3_1: Image torch.Size([3, 224, 224]), Mask torch.Size([224, 224])\n",
      "✅ Loaded BraTS19_CBICA_AWI_1: Image torch.Size([3, 224, 224]), Mask torch.Size([224, 224])\n"
     ]
    },
    {
     "name": "stderr",
     "output_type": "stream",
     "text": [
      "Epoch [6/15]:  30%|██▉       | 31/104 [00:15<00:36,  2.01it/s, Loss=0.355]"
     ]
    },
    {
     "name": "stdout",
     "output_type": "stream",
     "text": [
      "✅ Loaded BraTS19_TCIA01_186_1: Image torch.Size([3, 224, 224]), Mask torch.Size([224, 224])\n",
      "✅ Loaded BraTS19_CBICA_AWG_1: Image torch.Size([3, 224, 224]), Mask torch.Size([224, 224])\n"
     ]
    },
    {
     "name": "stderr",
     "output_type": "stream",
     "text": [
      "Epoch [6/15]:  31%|███       | 32/104 [00:16<00:35,  2.02it/s, Loss=0.319]"
     ]
    },
    {
     "name": "stdout",
     "output_type": "stream",
     "text": [
      "✅ Loaded BraTS19_CBICA_BIC_1: Image torch.Size([3, 224, 224]), Mask torch.Size([224, 224])\n",
      "✅ Loaded BraTS19_2013_13_1: Image torch.Size([3, 224, 224]), Mask torch.Size([224, 224])\n"
     ]
    },
    {
     "name": "stderr",
     "output_type": "stream",
     "text": [
      "Epoch [6/15]:  32%|███▏      | 33/104 [00:16<00:35,  2.00it/s, Loss=0.517]"
     ]
    },
    {
     "name": "stdout",
     "output_type": "stream",
     "text": [
      "✅ Loaded BraTS19_TCIA01_335_1: Image torch.Size([3, 224, 224]), Mask torch.Size([224, 224])\n",
      "✅ Loaded BraTS19_2013_4_1: Image torch.Size([3, 224, 224]), Mask torch.Size([224, 224])\n"
     ]
    },
    {
     "name": "stderr",
     "output_type": "stream",
     "text": [
      "Epoch [6/15]:  33%|███▎      | 34/104 [00:17<00:35,  2.00it/s, Loss=0.209]"
     ]
    },
    {
     "name": "stdout",
     "output_type": "stream",
     "text": [
      "✅ Loaded BraTS19_CBICA_BFP_1: Image torch.Size([3, 224, 224]), Mask torch.Size([224, 224])\n",
      "✅ Loaded BraTS19_CBICA_AOC_1: Image torch.Size([3, 224, 224]), Mask torch.Size([224, 224])\n"
     ]
    },
    {
     "name": "stderr",
     "output_type": "stream",
     "text": [
      "Epoch [6/15]:  34%|███▎      | 35/104 [00:17<00:34,  1.98it/s, Loss=0.212]"
     ]
    },
    {
     "name": "stdout",
     "output_type": "stream",
     "text": [
      "✅ Loaded BraTS19_TCIA02_394_1: Image torch.Size([3, 224, 224]), Mask torch.Size([224, 224])\n",
      "✅ Loaded BraTS19_TCIA02_198_1: Image torch.Size([3, 224, 224]), Mask torch.Size([224, 224])\n"
     ]
    },
    {
     "name": "stderr",
     "output_type": "stream",
     "text": [
      "Epoch [6/15]:  35%|███▍      | 36/104 [00:18<00:33,  2.00it/s, Loss=0.545]"
     ]
    },
    {
     "name": "stdout",
     "output_type": "stream",
     "text": [
      "✅ Loaded BraTS19_TCIA08_167_1: Image torch.Size([3, 224, 224]), Mask torch.Size([224, 224])\n",
      "✅ Loaded BraTS19_TCIA03_498_1: Image torch.Size([3, 224, 224]), Mask torch.Size([224, 224])\n"
     ]
    },
    {
     "name": "stderr",
     "output_type": "stream",
     "text": [
      "Epoch [6/15]:  36%|███▌      | 37/104 [00:18<00:33,  2.00it/s, Loss=0.257]"
     ]
    },
    {
     "name": "stdout",
     "output_type": "stream",
     "text": [
      "✅ Loaded BraTS19_TCIA06_603_1: Image torch.Size([3, 224, 224]), Mask torch.Size([224, 224])\n",
      "✅ Loaded BraTS19_TCIA02_430_1: Image torch.Size([3, 224, 224]), Mask torch.Size([224, 224])\n"
     ]
    },
    {
     "name": "stderr",
     "output_type": "stream",
     "text": [
      "Epoch [6/15]:  37%|███▋      | 38/104 [00:19<00:32,  2.00it/s, Loss=0.25] "
     ]
    },
    {
     "name": "stdout",
     "output_type": "stream",
     "text": [
      "✅ Loaded BraTS19_CBICA_ALU_1: Image torch.Size([3, 224, 224]), Mask torch.Size([224, 224])\n",
      "✅ Loaded BraTS19_TCIA05_396_1: Image torch.Size([3, 224, 224]), Mask torch.Size([224, 224])\n"
     ]
    },
    {
     "name": "stderr",
     "output_type": "stream",
     "text": [
      "Epoch [6/15]:  38%|███▊      | 39/104 [00:19<00:32,  2.00it/s, Loss=0.278]"
     ]
    },
    {
     "name": "stdout",
     "output_type": "stream",
     "text": [
      "✅ Loaded BraTS19_TCIA02_179_1: Image torch.Size([3, 224, 224]), Mask torch.Size([224, 224])\n",
      "✅ Loaded BraTS19_TCIA02_290_1: Image torch.Size([3, 224, 224]), Mask torch.Size([224, 224])\n"
     ]
    },
    {
     "name": "stderr",
     "output_type": "stream",
     "text": [
      "Epoch [6/15]:  38%|███▊      | 40/104 [00:20<00:32,  1.98it/s, Loss=0.274]"
     ]
    },
    {
     "name": "stdout",
     "output_type": "stream",
     "text": [
      "✅ Loaded BraTS19_TCIA02_322_1: Image torch.Size([3, 224, 224]), Mask torch.Size([224, 224])\n",
      "✅ Loaded BraTS19_CBICA_BGX_1: Image torch.Size([3, 224, 224]), Mask torch.Size([224, 224])\n"
     ]
    },
    {
     "name": "stderr",
     "output_type": "stream",
     "text": [
      "Epoch [6/15]:  39%|███▉      | 41/104 [00:20<00:31,  1.99it/s, Loss=0.208]"
     ]
    },
    {
     "name": "stdout",
     "output_type": "stream",
     "text": [
      "✅ Loaded BraTS19_TCIA03_419_1: Image torch.Size([3, 224, 224]), Mask torch.Size([224, 224])\n",
      "✅ Loaded BraTS19_CBICA_APZ_1: Image torch.Size([3, 224, 224]), Mask torch.Size([224, 224])\n"
     ]
    },
    {
     "name": "stderr",
     "output_type": "stream",
     "text": [
      "Epoch [6/15]:  40%|████      | 42/104 [00:21<00:31,  1.98it/s, Loss=0.247]"
     ]
    },
    {
     "name": "stdout",
     "output_type": "stream",
     "text": [
      "✅ Loaded BraTS19_2013_19_1: Image torch.Size([3, 224, 224]), Mask torch.Size([224, 224])\n",
      "✅ Loaded BraTS19_TCIA04_111_1: Image torch.Size([3, 224, 224]), Mask torch.Size([224, 224])\n"
     ]
    },
    {
     "name": "stderr",
     "output_type": "stream",
     "text": [
      "Epoch [6/15]:  41%|████▏     | 43/104 [00:21<00:31,  1.96it/s, Loss=0.24] "
     ]
    },
    {
     "name": "stdout",
     "output_type": "stream",
     "text": [
      "✅ Loaded BraTS19_2013_26_1: Image torch.Size([3, 224, 224]), Mask torch.Size([224, 224])\n",
      "✅ Loaded BraTS19_CBICA_ABE_1: Image torch.Size([3, 224, 224]), Mask torch.Size([224, 224])\n"
     ]
    },
    {
     "name": "stderr",
     "output_type": "stream",
     "text": [
      "Epoch [6/15]:  42%|████▏     | 44/104 [00:22<00:30,  1.98it/s, Loss=0.237]"
     ]
    },
    {
     "name": "stdout",
     "output_type": "stream",
     "text": [
      "✅ Loaded BraTS19_CBICA_ATB_1: Image torch.Size([3, 224, 224]), Mask torch.Size([224, 224])\n",
      "✅ Loaded BraTS19_CBICA_ATP_1: Image torch.Size([3, 224, 224]), Mask torch.Size([224, 224])\n"
     ]
    },
    {
     "name": "stderr",
     "output_type": "stream",
     "text": [
      "Epoch [6/15]:  43%|████▎     | 45/104 [00:22<00:29,  1.97it/s, Loss=0.395]"
     ]
    },
    {
     "name": "stdout",
     "output_type": "stream",
     "text": [
      "✅ Loaded BraTS19_TCIA04_192_1: Image torch.Size([3, 224, 224]), Mask torch.Size([224, 224])\n",
      "✅ Loaded BraTS19_CBICA_ANZ_1: Image torch.Size([3, 224, 224]), Mask torch.Size([224, 224])\n"
     ]
    },
    {
     "name": "stderr",
     "output_type": "stream",
     "text": [
      "Epoch [6/15]:  44%|████▍     | 46/104 [00:23<00:29,  1.96it/s, Loss=0.585]"
     ]
    },
    {
     "name": "stdout",
     "output_type": "stream",
     "text": [
      "✅ Loaded BraTS19_CBICA_AZH_1: Image torch.Size([3, 224, 224]), Mask torch.Size([224, 224])\n",
      "✅ Loaded BraTS19_TCIA06_409_1: Image torch.Size([3, 224, 224]), Mask torch.Size([224, 224])\n"
     ]
    },
    {
     "name": "stderr",
     "output_type": "stream",
     "text": [
      "Epoch [6/15]:  45%|████▌     | 47/104 [00:23<00:28,  1.99it/s, Loss=0.286]"
     ]
    },
    {
     "name": "stdout",
     "output_type": "stream",
     "text": [
      "✅ Loaded BraTS19_2013_20_1: Image torch.Size([3, 224, 224]), Mask torch.Size([224, 224])\n",
      "✅ Loaded BraTS19_TMC_12866_1: Image torch.Size([3, 224, 224]), Mask torch.Size([224, 224])\n"
     ]
    },
    {
     "name": "stderr",
     "output_type": "stream",
     "text": [
      "Epoch [6/15]:  46%|████▌     | 48/104 [00:24<00:28,  1.97it/s, Loss=0.259]"
     ]
    },
    {
     "name": "stdout",
     "output_type": "stream",
     "text": [
      "✅ Loaded BraTS19_CBICA_ASK_1: Image torch.Size([3, 224, 224]), Mask torch.Size([224, 224])\n",
      "✅ Loaded BraTS19_TCIA02_314_1: Image torch.Size([3, 224, 224]), Mask torch.Size([224, 224])\n"
     ]
    },
    {
     "name": "stderr",
     "output_type": "stream",
     "text": [
      "Epoch [6/15]:  47%|████▋     | 49/104 [00:24<00:27,  1.97it/s, Loss=0.331]"
     ]
    },
    {
     "name": "stdout",
     "output_type": "stream",
     "text": [
      "✅ Loaded BraTS19_CBICA_BCF_1: Image torch.Size([3, 224, 224]), Mask torch.Size([224, 224])\n",
      "✅ Loaded BraTS19_CBICA_AYC_1: Image torch.Size([3, 224, 224]), Mask torch.Size([224, 224])\n"
     ]
    },
    {
     "name": "stderr",
     "output_type": "stream",
     "text": [
      "Epoch [6/15]:  48%|████▊     | 50/104 [00:25<00:27,  1.97it/s, Loss=0.189]"
     ]
    },
    {
     "name": "stdout",
     "output_type": "stream",
     "text": [
      "✅ Loaded BraTS19_CBICA_AVJ_1: Image torch.Size([3, 224, 224]), Mask torch.Size([224, 224])\n",
      "✅ Loaded BraTS19_TCIA01_190_1: Image torch.Size([3, 224, 224]), Mask torch.Size([224, 224])\n"
     ]
    },
    {
     "name": "stderr",
     "output_type": "stream",
     "text": [
      "Epoch [6/15]:  49%|████▉     | 51/104 [00:25<00:26,  1.97it/s, Loss=0.351]"
     ]
    },
    {
     "name": "stdout",
     "output_type": "stream",
     "text": [
      "✅ Loaded BraTS19_TCIA01_180_1: Image torch.Size([3, 224, 224]), Mask torch.Size([224, 224])\n",
      "✅ Loaded BraTS19_CBICA_ASY_1: Image torch.Size([3, 224, 224]), Mask torch.Size([224, 224])\n"
     ]
    },
    {
     "name": "stderr",
     "output_type": "stream",
     "text": [
      "Epoch [6/15]:  50%|█████     | 52/104 [00:26<00:26,  1.97it/s, Loss=0.329]"
     ]
    },
    {
     "name": "stdout",
     "output_type": "stream",
     "text": [
      "✅ Loaded BraTS19_TCIA04_479_1: Image torch.Size([3, 224, 224]), Mask torch.Size([224, 224])\n",
      "✅ Loaded BraTS19_CBICA_ASV_1: Image torch.Size([3, 224, 224]), Mask torch.Size([224, 224])\n"
     ]
    },
    {
     "name": "stderr",
     "output_type": "stream",
     "text": [
      "Epoch [6/15]:  51%|█████     | 53/104 [00:26<00:25,  1.98it/s, Loss=0.227]"
     ]
    },
    {
     "name": "stdout",
     "output_type": "stream",
     "text": [
      "✅ Loaded BraTS19_CBICA_ANG_1: Image torch.Size([3, 224, 224]), Mask torch.Size([224, 224])\n",
      "✅ Loaded BraTS19_TCIA03_474_1: Image torch.Size([3, 224, 224]), Mask torch.Size([224, 224])\n"
     ]
    },
    {
     "name": "stderr",
     "output_type": "stream",
     "text": [
      "Epoch [6/15]:  52%|█████▏    | 54/104 [00:27<00:25,  1.97it/s, Loss=0.253]"
     ]
    },
    {
     "name": "stdout",
     "output_type": "stream",
     "text": [
      "✅ Loaded BraTS19_CBICA_AOZ_1: Image torch.Size([3, 224, 224]), Mask torch.Size([224, 224])\n",
      "✅ Loaded BraTS19_2013_25_1: Image torch.Size([3, 224, 224]), Mask torch.Size([224, 224])\n"
     ]
    },
    {
     "name": "stderr",
     "output_type": "stream",
     "text": [
      "Epoch [6/15]:  53%|█████▎    | 55/104 [00:27<00:24,  1.96it/s, Loss=0.317]"
     ]
    },
    {
     "name": "stdout",
     "output_type": "stream",
     "text": [
      "✅ Loaded BraTS19_TCIA08_205_1: Image torch.Size([3, 224, 224]), Mask torch.Size([224, 224])\n",
      "✅ Loaded BraTS19_TCIA02_226_1: Image torch.Size([3, 224, 224]), Mask torch.Size([224, 224])\n"
     ]
    },
    {
     "name": "stderr",
     "output_type": "stream",
     "text": [
      "Epoch [6/15]:  54%|█████▍    | 56/104 [00:28<00:24,  1.97it/s, Loss=0.272]"
     ]
    },
    {
     "name": "stdout",
     "output_type": "stream",
     "text": [
      "✅ Loaded BraTS19_TCIA02_300_1: Image torch.Size([3, 224, 224]), Mask torch.Size([224, 224])\n",
      "✅ Loaded BraTS19_TCIA02_171_1: Image torch.Size([3, 224, 224]), Mask torch.Size([224, 224])\n"
     ]
    },
    {
     "name": "stderr",
     "output_type": "stream",
     "text": [
      "Epoch [6/15]:  55%|█████▍    | 57/104 [00:28<00:23,  1.96it/s, Loss=0.135]"
     ]
    },
    {
     "name": "stdout",
     "output_type": "stream",
     "text": [
      "✅ Loaded BraTS19_CBICA_AYU_1: Image torch.Size([3, 224, 224]), Mask torch.Size([224, 224])\n",
      "✅ Loaded BraTS19_TCIA02_331_1: Image torch.Size([3, 224, 224]), Mask torch.Size([224, 224])\n"
     ]
    },
    {
     "name": "stderr",
     "output_type": "stream",
     "text": [
      "Epoch [6/15]:  56%|█████▌    | 58/104 [00:29<00:23,  1.97it/s, Loss=0.25] "
     ]
    },
    {
     "name": "stdout",
     "output_type": "stream",
     "text": [
      "✅ Loaded BraTS19_CBICA_BJY_1: Image torch.Size([3, 224, 224]), Mask torch.Size([224, 224])\n",
      "✅ Loaded BraTS19_TCIA03_199_1: Image torch.Size([3, 224, 224]), Mask torch.Size([224, 224])\n"
     ]
    },
    {
     "name": "stderr",
     "output_type": "stream",
     "text": [
      "Epoch [6/15]:  57%|█████▋    | 59/104 [00:29<00:22,  1.96it/s, Loss=0.311]"
     ]
    },
    {
     "name": "stdout",
     "output_type": "stream",
     "text": [
      "✅ Loaded BraTS19_TMC_11964_1: Image torch.Size([3, 224, 224]), Mask torch.Size([224, 224])\n",
      "✅ Loaded BraTS19_CBICA_AVT_1: Image torch.Size([3, 224, 224]), Mask torch.Size([224, 224])\n"
     ]
    },
    {
     "name": "stderr",
     "output_type": "stream",
     "text": [
      "Epoch [6/15]:  58%|█████▊    | 60/104 [00:30<00:22,  1.95it/s, Loss=0.239]"
     ]
    },
    {
     "name": "stdout",
     "output_type": "stream",
     "text": [
      "✅ Loaded BraTS19_CBICA_AQY_1: Image torch.Size([3, 224, 224]), Mask torch.Size([224, 224])\n",
      "✅ Loaded BraTS19_TCIA05_478_1: Image torch.Size([3, 224, 224]), Mask torch.Size([224, 224])\n"
     ]
    },
    {
     "name": "stderr",
     "output_type": "stream",
     "text": [
      "Epoch [6/15]:  59%|█████▊    | 61/104 [00:30<00:21,  1.97it/s, Loss=0.222]"
     ]
    },
    {
     "name": "stdout",
     "output_type": "stream",
     "text": [
      "✅ Loaded BraTS19_TCIA06_332_1: Image torch.Size([3, 224, 224]), Mask torch.Size([224, 224])\n",
      "✅ Loaded BraTS19_TCIA03_338_1: Image torch.Size([3, 224, 224]), Mask torch.Size([224, 224])\n"
     ]
    },
    {
     "name": "stderr",
     "output_type": "stream",
     "text": [
      "Epoch [6/15]:  60%|█████▉    | 62/104 [00:31<00:21,  1.94it/s, Loss=0.57] "
     ]
    },
    {
     "name": "stdout",
     "output_type": "stream",
     "text": [
      "✅ Loaded BraTS19_2013_2_1: Image torch.Size([3, 224, 224]), Mask torch.Size([224, 224])\n",
      "✅ Loaded BraTS19_TCIA01_460_1: Image torch.Size([3, 224, 224]), Mask torch.Size([224, 224])\n"
     ]
    },
    {
     "name": "stderr",
     "output_type": "stream",
     "text": [
      "Epoch [6/15]:  61%|██████    | 63/104 [00:31<00:21,  1.95it/s, Loss=0.28]"
     ]
    },
    {
     "name": "stdout",
     "output_type": "stream",
     "text": [
      "✅ Loaded BraTS19_CBICA_AAL_1: Image torch.Size([3, 224, 224]), Mask torch.Size([224, 224])\n",
      "✅ Loaded BraTS19_CBICA_BHZ_1: Image torch.Size([3, 224, 224]), Mask torch.Size([224, 224])\n"
     ]
    },
    {
     "name": "stderr",
     "output_type": "stream",
     "text": [
      "Epoch [6/15]:  62%|██████▏   | 64/104 [00:32<00:20,  1.95it/s, Loss=0.199]"
     ]
    },
    {
     "name": "stdout",
     "output_type": "stream",
     "text": [
      "✅ Loaded BraTS19_TCIA01_147_1: Image torch.Size([3, 224, 224]), Mask torch.Size([224, 224])\n",
      "✅ Loaded BraTS19_TCIA02_118_1: Image torch.Size([3, 224, 224]), Mask torch.Size([224, 224])\n"
     ]
    },
    {
     "name": "stderr",
     "output_type": "stream",
     "text": [
      "Epoch [6/15]:  62%|██████▎   | 65/104 [00:32<00:19,  1.96it/s, Loss=0.39] "
     ]
    },
    {
     "name": "stdout",
     "output_type": "stream",
     "text": [
      "✅ Loaded BraTS19_TCIA02_377_1: Image torch.Size([3, 224, 224]), Mask torch.Size([224, 224])\n",
      "✅ Loaded BraTS19_TCIA08_234_1: Image torch.Size([3, 224, 224]), Mask torch.Size([224, 224])\n"
     ]
    },
    {
     "name": "stderr",
     "output_type": "stream",
     "text": [
      "Epoch [6/15]:  63%|██████▎   | 66/104 [00:33<00:19,  1.98it/s, Loss=0.257]"
     ]
    },
    {
     "name": "stdout",
     "output_type": "stream",
     "text": [
      "✅ Loaded BraTS19_CBICA_AAB_1: Image torch.Size([3, 224, 224]), Mask torch.Size([224, 224])\n",
      "✅ Loaded BraTS19_CBICA_BEM_1: Image torch.Size([3, 224, 224]), Mask torch.Size([224, 224])\n"
     ]
    },
    {
     "name": "stderr",
     "output_type": "stream",
     "text": [
      "Epoch [6/15]:  64%|██████▍   | 67/104 [00:33<00:18,  1.98it/s, Loss=0.399]"
     ]
    },
    {
     "name": "stdout",
     "output_type": "stream",
     "text": [
      "✅ Loaded BraTS19_CBICA_APK_1: Image torch.Size([3, 224, 224]), Mask torch.Size([224, 224])\n",
      "✅ Loaded BraTS19_CBICA_BAX_1: Image torch.Size([3, 224, 224]), Mask torch.Size([224, 224])\n"
     ]
    },
    {
     "name": "stderr",
     "output_type": "stream",
     "text": [
      "Epoch [6/15]:  65%|██████▌   | 68/104 [00:34<00:18,  1.97it/s, Loss=0.337]"
     ]
    },
    {
     "name": "stdout",
     "output_type": "stream",
     "text": [
      "✅ Loaded BraTS19_2013_18_1: Image torch.Size([3, 224, 224]), Mask torch.Size([224, 224])\n",
      "✅ Loaded BraTS19_CBICA_AWH_1: Image torch.Size([3, 224, 224]), Mask torch.Size([224, 224])\n"
     ]
    },
    {
     "name": "stderr",
     "output_type": "stream",
     "text": [
      "Epoch [6/15]:  66%|██████▋   | 69/104 [00:34<00:18,  1.88it/s, Loss=0.378]"
     ]
    },
    {
     "name": "stdout",
     "output_type": "stream",
     "text": [
      "✅ Loaded BraTS19_CBICA_AUA_1: Image torch.Size([3, 224, 224]), Mask torch.Size([224, 224])\n",
      "✅ Loaded BraTS19_2013_10_1: Image torch.Size([3, 224, 224]), Mask torch.Size([224, 224])\n"
     ]
    },
    {
     "name": "stderr",
     "output_type": "stream",
     "text": [
      "Epoch [6/15]:  67%|██████▋   | 70/104 [00:35<00:18,  1.82it/s, Loss=0.257]"
     ]
    },
    {
     "name": "stdout",
     "output_type": "stream",
     "text": [
      "✅ Loaded BraTS19_TCIA02_274_1: Image torch.Size([3, 224, 224]), Mask torch.Size([224, 224])\n",
      "✅ Loaded BraTS19_TCIA08_280_1: Image torch.Size([3, 224, 224]), Mask torch.Size([224, 224])\n"
     ]
    },
    {
     "name": "stderr",
     "output_type": "stream",
     "text": [
      "Epoch [6/15]:  68%|██████▊   | 71/104 [00:36<00:18,  1.77it/s, Loss=0.185]"
     ]
    },
    {
     "name": "stdout",
     "output_type": "stream",
     "text": [
      "✅ Loaded BraTS19_CBICA_ALX_1: Image torch.Size([3, 224, 224]), Mask torch.Size([224, 224])\n",
      "✅ Loaded BraTS19_CBICA_AQP_1: Image torch.Size([3, 224, 224]), Mask torch.Size([224, 224])\n"
     ]
    },
    {
     "name": "stderr",
     "output_type": "stream",
     "text": [
      "Epoch [6/15]:  69%|██████▉   | 72/104 [00:36<00:18,  1.72it/s, Loss=0.291]"
     ]
    },
    {
     "name": "stdout",
     "output_type": "stream",
     "text": [
      "✅ Loaded BraTS19_CBICA_AUQ_1: Image torch.Size([3, 224, 224]), Mask torch.Size([224, 224])\n",
      "✅ Loaded BraTS19_TCIA02_368_1: Image torch.Size([3, 224, 224]), Mask torch.Size([224, 224])\n"
     ]
    },
    {
     "name": "stderr",
     "output_type": "stream",
     "text": [
      "Epoch [6/15]:  70%|███████   | 73/104 [00:37<00:18,  1.70it/s, Loss=0.352]"
     ]
    },
    {
     "name": "stdout",
     "output_type": "stream",
     "text": [
      "✅ Loaded BraTS19_CBICA_BGE_1: Image torch.Size([3, 224, 224]), Mask torch.Size([224, 224])\n",
      "✅ Loaded BraTS19_TCIA02_168_1: Image torch.Size([3, 224, 224]), Mask torch.Size([224, 224])\n"
     ]
    },
    {
     "name": "stderr",
     "output_type": "stream",
     "text": [
      "Epoch [6/15]:  71%|███████   | 74/104 [00:38<00:18,  1.66it/s, Loss=0.235]"
     ]
    },
    {
     "name": "stdout",
     "output_type": "stream",
     "text": [
      "✅ Loaded BraTS19_CBICA_AQO_1: Image torch.Size([3, 224, 224]), Mask torch.Size([224, 224])\n",
      "✅ Loaded BraTS19_TCIA08_218_1: Image torch.Size([3, 224, 224]), Mask torch.Size([224, 224])\n"
     ]
    },
    {
     "name": "stderr",
     "output_type": "stream",
     "text": [
      "Epoch [6/15]:  72%|███████▏  | 75/104 [00:38<00:17,  1.68it/s, Loss=0.198]"
     ]
    },
    {
     "name": "stdout",
     "output_type": "stream",
     "text": [
      "✅ Loaded BraTS19_CBICA_AMH_1: Image torch.Size([3, 224, 224]), Mask torch.Size([224, 224])\n",
      "✅ Loaded BraTS19_TCIA01_201_1: Image torch.Size([3, 224, 224]), Mask torch.Size([224, 224])\n"
     ]
    },
    {
     "name": "stderr",
     "output_type": "stream",
     "text": [
      "Epoch [6/15]:  73%|███████▎  | 76/104 [00:39<00:17,  1.63it/s, Loss=0.396]"
     ]
    },
    {
     "name": "stdout",
     "output_type": "stream",
     "text": [
      "✅ Loaded BraTS19_TCIA01_390_1: Image torch.Size([3, 224, 224]), Mask torch.Size([224, 224])\n",
      "✅ Loaded BraTS19_CBICA_AVG_1: Image torch.Size([3, 224, 224]), Mask torch.Size([224, 224])\n"
     ]
    },
    {
     "name": "stderr",
     "output_type": "stream",
     "text": [
      "Epoch [6/15]:  74%|███████▍  | 77/104 [00:39<00:16,  1.63it/s, Loss=0.296]"
     ]
    },
    {
     "name": "stdout",
     "output_type": "stream",
     "text": [
      "✅ Loaded BraTS19_CBICA_AYW_1: Image torch.Size([3, 224, 224]), Mask torch.Size([224, 224])\n",
      "✅ Loaded BraTS19_CBICA_AOS_1: Image torch.Size([3, 224, 224]), Mask torch.Size([224, 224])\n"
     ]
    },
    {
     "name": "stderr",
     "output_type": "stream",
     "text": [
      "Epoch [6/15]:  75%|███████▌  | 78/104 [00:40<00:15,  1.64it/s, Loss=0.322]"
     ]
    },
    {
     "name": "stdout",
     "output_type": "stream",
     "text": [
      "✅ Loaded BraTS19_TCIA06_165_1: Image torch.Size([3, 224, 224]), Mask torch.Size([224, 224])\n",
      "✅ Loaded BraTS19_CBICA_ANP_1: Image torch.Size([3, 224, 224]), Mask torch.Size([224, 224])\n"
     ]
    },
    {
     "name": "stderr",
     "output_type": "stream",
     "text": [
      "Epoch [6/15]:  76%|███████▌  | 79/104 [00:41<00:15,  1.64it/s, Loss=0.294]"
     ]
    },
    {
     "name": "stdout",
     "output_type": "stream",
     "text": [
      "✅ Loaded BraTS19_CBICA_AXQ_1: Image torch.Size([3, 224, 224]), Mask torch.Size([224, 224])\n",
      "✅ Loaded BraTS19_CBICA_AUR_1: Image torch.Size([3, 224, 224]), Mask torch.Size([224, 224])\n"
     ]
    },
    {
     "name": "stderr",
     "output_type": "stream",
     "text": [
      "Epoch [6/15]:  77%|███████▋  | 80/104 [00:41<00:14,  1.65it/s, Loss=0.5]  "
     ]
    },
    {
     "name": "stdout",
     "output_type": "stream",
     "text": [
      "✅ Loaded BraTS19_CBICA_ATD_1: Image torch.Size([3, 224, 224]), Mask torch.Size([224, 224])\n",
      "✅ Loaded BraTS19_CBICA_ASG_1: Image torch.Size([3, 224, 224]), Mask torch.Size([224, 224])\n"
     ]
    },
    {
     "name": "stderr",
     "output_type": "stream",
     "text": [
      "Epoch [6/15]:  78%|███████▊  | 81/104 [00:42<00:13,  1.65it/s, Loss=0.309]"
     ]
    },
    {
     "name": "stdout",
     "output_type": "stream",
     "text": [
      "✅ Loaded BraTS19_CBICA_BAP_1: Image torch.Size([3, 224, 224]), Mask torch.Size([224, 224])\n",
      "✅ Loaded BraTS19_TCIA01_221_1: Image torch.Size([3, 224, 224]), Mask torch.Size([224, 224])\n"
     ]
    },
    {
     "name": "stderr",
     "output_type": "stream",
     "text": [
      "Epoch [6/15]:  79%|███████▉  | 82/104 [00:42<00:13,  1.64it/s, Loss=0.364]"
     ]
    },
    {
     "name": "stdout",
     "output_type": "stream",
     "text": [
      "✅ Loaded BraTS19_CBICA_AQV_1: Image torch.Size([3, 224, 224]), Mask torch.Size([224, 224])\n",
      "✅ Loaded BraTS19_2013_11_1: Image torch.Size([3, 224, 224]), Mask torch.Size([224, 224])\n"
     ]
    },
    {
     "name": "stderr",
     "output_type": "stream",
     "text": [
      "Epoch [6/15]:  80%|███████▉  | 83/104 [00:43<00:12,  1.62it/s, Loss=0.405]"
     ]
    },
    {
     "name": "stdout",
     "output_type": "stream",
     "text": [
      "✅ Loaded BraTS19_CBICA_ARZ_1: Image torch.Size([3, 224, 224]), Mask torch.Size([224, 224])\n",
      "✅ Loaded BraTS19_TCIA06_184_1: Image torch.Size([3, 224, 224]), Mask torch.Size([224, 224])\n"
     ]
    },
    {
     "name": "stderr",
     "output_type": "stream",
     "text": [
      "Epoch [6/15]:  81%|████████  | 84/104 [00:44<00:12,  1.63it/s, Loss=0.332]"
     ]
    },
    {
     "name": "stdout",
     "output_type": "stream",
     "text": [
      "✅ Loaded BraTS19_TCIA01_235_1: Image torch.Size([3, 224, 224]), Mask torch.Size([224, 224])\n",
      "✅ Loaded BraTS19_TCIA05_444_1: Image torch.Size([3, 224, 224]), Mask torch.Size([224, 224])\n"
     ]
    },
    {
     "name": "stderr",
     "output_type": "stream",
     "text": [
      "Epoch [6/15]:  82%|████████▏ | 85/104 [00:44<00:11,  1.65it/s, Loss=0.304]"
     ]
    },
    {
     "name": "stdout",
     "output_type": "stream",
     "text": [
      "✅ Loaded BraTS19_CBICA_AQD_1: Image torch.Size([3, 224, 224]), Mask torch.Size([224, 224])\n",
      "✅ Loaded BraTS19_2013_12_1: Image torch.Size([3, 224, 224]), Mask torch.Size([224, 224])\n"
     ]
    },
    {
     "name": "stderr",
     "output_type": "stream",
     "text": [
      "Epoch [6/15]:  83%|████████▎ | 86/104 [00:45<00:10,  1.64it/s, Loss=0.324]"
     ]
    },
    {
     "name": "stdout",
     "output_type": "stream",
     "text": [
      "✅ Loaded BraTS19_CBICA_AQJ_1: Image torch.Size([3, 224, 224]), Mask torch.Size([224, 224])\n",
      "✅ Loaded BraTS19_CBICA_BBG_1: Image torch.Size([3, 224, 224]), Mask torch.Size([224, 224])\n"
     ]
    },
    {
     "name": "stderr",
     "output_type": "stream",
     "text": [
      "Epoch [6/15]:  84%|████████▎ | 87/104 [00:46<00:10,  1.61it/s, Loss=0.317]"
     ]
    },
    {
     "name": "stdout",
     "output_type": "stream",
     "text": [
      "✅ Loaded BraTS19_TCIA02_283_1: Image torch.Size([3, 224, 224]), Mask torch.Size([224, 224])\n",
      "✅ Loaded BraTS19_TMC_21360_1: Image torch.Size([3, 224, 224]), Mask torch.Size([224, 224])\n"
     ]
    },
    {
     "name": "stderr",
     "output_type": "stream",
     "text": [
      "Epoch [6/15]:  85%|████████▍ | 88/104 [00:46<00:09,  1.61it/s, Loss=0.286]"
     ]
    },
    {
     "name": "stdout",
     "output_type": "stream",
     "text": [
      "✅ Loaded BraTS19_CBICA_ARF_1: Image torch.Size([3, 224, 224]), Mask torch.Size([224, 224])\n",
      "✅ Loaded BraTS19_TCIA01_150_1: Image torch.Size([3, 224, 224]), Mask torch.Size([224, 224])\n"
     ]
    },
    {
     "name": "stderr",
     "output_type": "stream",
     "text": [
      "Epoch [6/15]:  86%|████████▌ | 89/104 [00:47<00:09,  1.60it/s, Loss=0.194]"
     ]
    },
    {
     "name": "stdout",
     "output_type": "stream",
     "text": [
      "✅ Loaded BraTS19_TCIA04_343_1: Image torch.Size([3, 224, 224]), Mask torch.Size([224, 224])\n",
      "✅ Loaded BraTS19_TCIA01_429_1: Image torch.Size([3, 224, 224]), Mask torch.Size([224, 224])\n"
     ]
    },
    {
     "name": "stderr",
     "output_type": "stream",
     "text": [
      "Epoch [6/15]:  87%|████████▋ | 90/104 [00:47<00:08,  1.63it/s, Loss=0.222]"
     ]
    },
    {
     "name": "stdout",
     "output_type": "stream",
     "text": [
      "✅ Loaded BraTS19_CBICA_AAG_1: Image torch.Size([3, 224, 224]), Mask torch.Size([224, 224])\n",
      "✅ Loaded BraTS19_TCIA02_135_1: Image torch.Size([3, 224, 224]), Mask torch.Size([224, 224])\n"
     ]
    },
    {
     "name": "stderr",
     "output_type": "stream",
     "text": [
      "Epoch [6/15]:  88%|████████▊ | 91/104 [00:48<00:07,  1.66it/s, Loss=0.379]"
     ]
    },
    {
     "name": "stdout",
     "output_type": "stream",
     "text": [
      "✅ Loaded BraTS19_CBICA_BKV_1: Image torch.Size([3, 224, 224]), Mask torch.Size([224, 224])\n",
      "✅ Loaded BraTS19_TCIA04_437_1: Image torch.Size([3, 224, 224]), Mask torch.Size([224, 224])\n"
     ]
    },
    {
     "name": "stderr",
     "output_type": "stream",
     "text": [
      "Epoch [6/15]:  88%|████████▊ | 92/104 [00:49<00:07,  1.65it/s, Loss=0.356]"
     ]
    },
    {
     "name": "stdout",
     "output_type": "stream",
     "text": [
      "✅ Loaded BraTS19_CBICA_AQR_1: Image torch.Size([3, 224, 224]), Mask torch.Size([224, 224])\n",
      "✅ Loaded BraTS19_CBICA_BHV_1: Image torch.Size([3, 224, 224]), Mask torch.Size([224, 224])\n"
     ]
    },
    {
     "name": "stderr",
     "output_type": "stream",
     "text": [
      "Epoch [6/15]:  89%|████████▉ | 93/104 [00:49<00:06,  1.65it/s, Loss=0.244]"
     ]
    },
    {
     "name": "stdout",
     "output_type": "stream",
     "text": [
      "✅ Loaded BraTS19_CBICA_BGW_1: Image torch.Size([3, 224, 224]), Mask torch.Size([224, 224])\n",
      "✅ Loaded BraTS19_CBICA_BAN_1: Image torch.Size([3, 224, 224]), Mask torch.Size([224, 224])\n"
     ]
    },
    {
     "name": "stderr",
     "output_type": "stream",
     "text": [
      "Epoch [6/15]:  90%|█████████ | 94/104 [00:50<00:06,  1.65it/s, Loss=0.346]"
     ]
    },
    {
     "name": "stdout",
     "output_type": "stream",
     "text": [
      "✅ Loaded BraTS19_CBICA_AVB_1: Image torch.Size([3, 224, 224]), Mask torch.Size([224, 224])\n",
      "✅ Loaded BraTS19_CBICA_AQG_1: Image torch.Size([3, 224, 224]), Mask torch.Size([224, 224])\n"
     ]
    },
    {
     "name": "stderr",
     "output_type": "stream",
     "text": [
      "Epoch [6/15]:  91%|█████████▏| 95/104 [00:50<00:05,  1.63it/s, Loss=0.404]"
     ]
    },
    {
     "name": "stdout",
     "output_type": "stream",
     "text": [
      "✅ Loaded BraTS19_TCIA02_117_1: Image torch.Size([3, 224, 224]), Mask torch.Size([224, 224])\n",
      "✅ Loaded BraTS19_CBICA_ASA_1: Image torch.Size([3, 224, 224]), Mask torch.Size([224, 224])\n"
     ]
    },
    {
     "name": "stderr",
     "output_type": "stream",
     "text": [
      "Epoch [6/15]:  92%|█████████▏| 96/104 [00:51<00:04,  1.64it/s, Loss=0.366]"
     ]
    },
    {
     "name": "stdout",
     "output_type": "stream",
     "text": [
      "✅ Loaded BraTS19_TCIA08_469_1: Image torch.Size([3, 224, 224]), Mask torch.Size([224, 224])\n",
      "✅ Loaded BraTS19_TCIA02_491_1: Image torch.Size([3, 224, 224]), Mask torch.Size([224, 224])\n"
     ]
    },
    {
     "name": "stderr",
     "output_type": "stream",
     "text": [
      "Epoch [6/15]:  93%|█████████▎| 97/104 [00:52<00:04,  1.62it/s, Loss=0.395]"
     ]
    },
    {
     "name": "stdout",
     "output_type": "stream",
     "text": [
      "✅ Loaded BraTS19_TCIA01_412_1: Image torch.Size([3, 224, 224]), Mask torch.Size([224, 224])\n",
      "✅ Loaded BraTS19_CBICA_ASN_1: Image torch.Size([3, 224, 224]), Mask torch.Size([224, 224])\n"
     ]
    },
    {
     "name": "stderr",
     "output_type": "stream",
     "text": [
      "Epoch [6/15]:  94%|█████████▍| 98/104 [00:52<00:03,  1.64it/s, Loss=0.391]"
     ]
    },
    {
     "name": "stdout",
     "output_type": "stream",
     "text": [
      "✅ Loaded BraTS19_CBICA_BGN_1: Image torch.Size([3, 224, 224]), Mask torch.Size([224, 224])\n",
      "✅ Loaded BraTS19_TCIA03_296_1: Image torch.Size([3, 224, 224]), Mask torch.Size([224, 224])\n"
     ]
    },
    {
     "name": "stderr",
     "output_type": "stream",
     "text": [
      "Epoch [6/15]:  95%|█████████▌| 99/104 [00:53<00:03,  1.64it/s, Loss=0.302]"
     ]
    },
    {
     "name": "stdout",
     "output_type": "stream",
     "text": [
      "✅ Loaded BraTS19_TCIA04_328_1: Image torch.Size([3, 224, 224]), Mask torch.Size([224, 224])\n",
      "✅ Loaded BraTS19_TCIA02_608_1: Image torch.Size([3, 224, 224]), Mask torch.Size([224, 224])\n"
     ]
    },
    {
     "name": "stderr",
     "output_type": "stream",
     "text": [
      "Epoch [6/15]:  96%|█████████▌| 100/104 [00:53<00:02,  1.65it/s, Loss=0.35]"
     ]
    },
    {
     "name": "stdout",
     "output_type": "stream",
     "text": [
      "✅ Loaded BraTS19_TCIA03_375_1: Image torch.Size([3, 224, 224]), Mask torch.Size([224, 224])\n",
      "✅ Loaded BraTS19_TMC_15477_1: Image torch.Size([3, 224, 224]), Mask torch.Size([224, 224])\n"
     ]
    },
    {
     "name": "stderr",
     "output_type": "stream",
     "text": [
      "Epoch [6/15]:  97%|█████████▋| 101/104 [00:54<00:01,  1.64it/s, Loss=0.545]"
     ]
    },
    {
     "name": "stdout",
     "output_type": "stream",
     "text": [
      "✅ Loaded BraTS19_CBICA_ABB_1: Image torch.Size([3, 224, 224]), Mask torch.Size([224, 224])\n",
      "✅ Loaded BraTS19_TCIA01_499_1: Image torch.Size([3, 224, 224]), Mask torch.Size([224, 224])\n"
     ]
    },
    {
     "name": "stderr",
     "output_type": "stream",
     "text": [
      "Epoch [6/15]:  98%|█████████▊| 102/104 [00:55<00:01,  1.63it/s, Loss=0.731]"
     ]
    },
    {
     "name": "stdout",
     "output_type": "stream",
     "text": [
      "✅ Loaded BraTS19_CBICA_BHQ_1: Image torch.Size([3, 224, 224]), Mask torch.Size([224, 224])\n",
      "✅ Loaded BraTS19_CBICA_AME_1: Image torch.Size([3, 224, 224]), Mask torch.Size([224, 224])\n"
     ]
    },
    {
     "name": "stderr",
     "output_type": "stream",
     "text": [
      "Epoch [6/15]:  99%|█████████▉| 103/104 [00:55<00:00,  1.66it/s, Loss=0.57] "
     ]
    },
    {
     "name": "stdout",
     "output_type": "stream",
     "text": [
      "✅ Loaded BraTS19_CBICA_AQN_1: Image torch.Size([3, 224, 224]), Mask torch.Size([224, 224])\n"
     ]
    },
    {
     "name": "stderr",
     "output_type": "stream",
     "text": [
      "                                                                           \r"
     ]
    },
    {
     "name": "stdout",
     "output_type": "stream",
     "text": [
      "\n",
      "✅ Epoch 6: Train Loss: 0.3475\n",
      "💾 Saved model at epoch 6 with train loss 0.3475\n"
     ]
    },
    {
     "name": "stderr",
     "output_type": "stream",
     "text": [
      "Epoch [7/15]:   0%|          | 0/104 [00:00<?, ?it/s]"
     ]
    },
    {
     "name": "stdout",
     "output_type": "stream",
     "text": [
      "✅ Loaded BraTS19_CBICA_ATN_1: Image torch.Size([3, 224, 224]), Mask torch.Size([224, 224])\n",
      "✅ Loaded BraTS19_TCIA02_377_1: Image torch.Size([3, 224, 224]), Mask torch.Size([224, 224])\n"
     ]
    },
    {
     "name": "stderr",
     "output_type": "stream",
     "text": [
      "Epoch [7/15]:   1%|          | 1/104 [00:00<00:58,  1.77it/s, Loss=0.298]"
     ]
    },
    {
     "name": "stdout",
     "output_type": "stream",
     "text": [
      "✅ Loaded BraTS19_CBICA_ABB_1: Image torch.Size([3, 224, 224]), Mask torch.Size([224, 224])\n",
      "✅ Loaded BraTS19_TCIA03_138_1: Image torch.Size([3, 224, 224]), Mask torch.Size([224, 224])\n"
     ]
    },
    {
     "name": "stderr",
     "output_type": "stream",
     "text": [
      "Epoch [7/15]:   2%|▏         | 2/104 [00:01<01:00,  1.68it/s, Loss=0.487]"
     ]
    },
    {
     "name": "stdout",
     "output_type": "stream",
     "text": [
      "✅ Loaded BraTS19_TCIA02_607_1: Image torch.Size([3, 224, 224]), Mask torch.Size([224, 224])\n",
      "✅ Loaded BraTS19_TCIA02_171_1: Image torch.Size([3, 224, 224]), Mask torch.Size([224, 224])\n"
     ]
    },
    {
     "name": "stderr",
     "output_type": "stream",
     "text": [
      "Epoch [7/15]:   3%|▎         | 3/104 [00:01<01:01,  1.63it/s, Loss=0.375]"
     ]
    },
    {
     "name": "stdout",
     "output_type": "stream",
     "text": [
      "✅ Loaded BraTS19_CBICA_BGX_1: Image torch.Size([3, 224, 224]), Mask torch.Size([224, 224])\n",
      "✅ Loaded BraTS19_2013_4_1: Image torch.Size([3, 224, 224]), Mask torch.Size([224, 224])\n"
     ]
    },
    {
     "name": "stderr",
     "output_type": "stream",
     "text": [
      "Epoch [7/15]:   4%|▍         | 4/104 [00:02<01:00,  1.65it/s, Loss=0.306]"
     ]
    },
    {
     "name": "stdout",
     "output_type": "stream",
     "text": [
      "✅ Loaded BraTS19_TMC_11964_1: Image torch.Size([3, 224, 224]), Mask torch.Size([224, 224])\n",
      "✅ Loaded BraTS19_2013_7_1: Image torch.Size([3, 224, 224]), Mask torch.Size([224, 224])\n"
     ]
    },
    {
     "name": "stderr",
     "output_type": "stream",
     "text": [
      "Epoch [7/15]:   5%|▍         | 5/104 [00:03<01:00,  1.64it/s, Loss=0.226]"
     ]
    },
    {
     "name": "stdout",
     "output_type": "stream",
     "text": [
      "✅ Loaded BraTS19_CBICA_AVV_1: Image torch.Size([3, 224, 224]), Mask torch.Size([224, 224])\n",
      "✅ Loaded BraTS19_TCIA08_234_1: Image torch.Size([3, 224, 224]), Mask torch.Size([224, 224])\n"
     ]
    },
    {
     "name": "stderr",
     "output_type": "stream",
     "text": [
      "Epoch [7/15]:   6%|▌         | 6/104 [00:03<00:58,  1.66it/s, Loss=0.304]"
     ]
    },
    {
     "name": "stdout",
     "output_type": "stream",
     "text": [
      "✅ Loaded BraTS19_TCIA08_113_1: Image torch.Size([3, 224, 224]), Mask torch.Size([224, 224])\n",
      "✅ Loaded BraTS19_TCIA04_111_1: Image torch.Size([3, 224, 224]), Mask torch.Size([224, 224])\n"
     ]
    },
    {
     "name": "stderr",
     "output_type": "stream",
     "text": [
      "Epoch [7/15]:   7%|▋         | 7/104 [00:04<00:58,  1.66it/s, Loss=0.576]"
     ]
    },
    {
     "name": "stdout",
     "output_type": "stream",
     "text": [
      "✅ Loaded BraTS19_CBICA_AQO_1: Image torch.Size([3, 224, 224]), Mask torch.Size([224, 224])\n",
      "✅ Loaded BraTS19_CBICA_ATV_1: Image torch.Size([3, 224, 224]), Mask torch.Size([224, 224])\n"
     ]
    },
    {
     "name": "stderr",
     "output_type": "stream",
     "text": [
      "Epoch [7/15]:   8%|▊         | 8/104 [00:04<00:58,  1.65it/s, Loss=0.269]"
     ]
    },
    {
     "name": "stdout",
     "output_type": "stream",
     "text": [
      "✅ Loaded BraTS19_CBICA_AAP_1: Image torch.Size([3, 224, 224]), Mask torch.Size([224, 224])\n",
      "✅ Loaded BraTS19_CBICA_AQN_1: Image torch.Size([3, 224, 224]), Mask torch.Size([224, 224])\n"
     ]
    },
    {
     "name": "stderr",
     "output_type": "stream",
     "text": [
      "Epoch [7/15]:   9%|▊         | 9/104 [00:05<00:56,  1.67it/s, Loss=0.232]"
     ]
    },
    {
     "name": "stdout",
     "output_type": "stream",
     "text": [
      "✅ Loaded BraTS19_TCIA01_390_1: Image torch.Size([3, 224, 224]), Mask torch.Size([224, 224])\n",
      "✅ Loaded BraTS19_TCIA02_179_1: Image torch.Size([3, 224, 224]), Mask torch.Size([224, 224])\n"
     ]
    },
    {
     "name": "stderr",
     "output_type": "stream",
     "text": [
      "Epoch [7/15]:  10%|▉         | 10/104 [00:06<00:56,  1.65it/s, Loss=0.316]"
     ]
    },
    {
     "name": "stdout",
     "output_type": "stream",
     "text": [
      "✅ Loaded BraTS19_CBICA_AYA_1: Image torch.Size([3, 224, 224]), Mask torch.Size([224, 224])\n",
      "✅ Loaded BraTS19_TCIA01_235_1: Image torch.Size([3, 224, 224]), Mask torch.Size([224, 224])\n"
     ]
    },
    {
     "name": "stderr",
     "output_type": "stream",
     "text": [
      "Epoch [7/15]:  11%|█         | 11/104 [00:06<00:56,  1.65it/s, Loss=0.581]"
     ]
    },
    {
     "name": "stdout",
     "output_type": "stream",
     "text": [
      "✅ Loaded BraTS19_TCIA02_608_1: Image torch.Size([3, 224, 224]), Mask torch.Size([224, 224])\n",
      "✅ Loaded BraTS19_2013_12_1: Image torch.Size([3, 224, 224]), Mask torch.Size([224, 224])\n"
     ]
    },
    {
     "name": "stderr",
     "output_type": "stream",
     "text": [
      "Epoch [7/15]:  12%|█▏        | 12/104 [00:07<00:57,  1.61it/s, Loss=0.373]"
     ]
    },
    {
     "name": "stdout",
     "output_type": "stream",
     "text": [
      "✅ Loaded BraTS19_CBICA_AVB_1: Image torch.Size([3, 224, 224]), Mask torch.Size([224, 224])\n",
      "✅ Loaded BraTS19_TCIA01_499_1: Image torch.Size([3, 224, 224]), Mask torch.Size([224, 224])\n"
     ]
    },
    {
     "name": "stderr",
     "output_type": "stream",
     "text": [
      "Epoch [7/15]:  12%|█▎        | 13/104 [00:07<00:56,  1.62it/s, Loss=0.73] "
     ]
    },
    {
     "name": "stdout",
     "output_type": "stream",
     "text": [
      "✅ Loaded BraTS19_2013_21_1: Image torch.Size([3, 224, 224]), Mask torch.Size([224, 224])\n",
      "✅ Loaded BraTS19_2013_26_1: Image torch.Size([3, 224, 224]), Mask torch.Size([224, 224])\n"
     ]
    },
    {
     "name": "stderr",
     "output_type": "stream",
     "text": [
      "Epoch [7/15]:  13%|█▎        | 14/104 [00:08<00:56,  1.60it/s, Loss=0.25]"
     ]
    },
    {
     "name": "stdout",
     "output_type": "stream",
     "text": [
      "✅ Loaded BraTS19_TCIA04_479_1: Image torch.Size([3, 224, 224]), Mask torch.Size([224, 224])\n",
      "✅ Loaded BraTS19_TCIA01_150_1: Image torch.Size([3, 224, 224]), Mask torch.Size([224, 224])\n"
     ]
    },
    {
     "name": "stderr",
     "output_type": "stream",
     "text": [
      "Epoch [7/15]:  14%|█▍        | 15/104 [00:09<00:55,  1.60it/s, Loss=0.274]"
     ]
    },
    {
     "name": "stdout",
     "output_type": "stream",
     "text": [
      "✅ Loaded BraTS19_CBICA_AUR_1: Image torch.Size([3, 224, 224]), Mask torch.Size([224, 224])\n",
      "✅ Loaded BraTS19_CBICA_ASH_1: Image torch.Size([3, 224, 224]), Mask torch.Size([224, 224])\n"
     ]
    },
    {
     "name": "stderr",
     "output_type": "stream",
     "text": [
      "Epoch [7/15]:  15%|█▌        | 16/104 [00:09<00:54,  1.60it/s, Loss=0.498]"
     ]
    },
    {
     "name": "stdout",
     "output_type": "stream",
     "text": [
      "✅ Loaded BraTS19_TCIA03_121_1: Image torch.Size([3, 224, 224]), Mask torch.Size([224, 224])\n",
      "✅ Loaded BraTS19_CBICA_BAN_1: Image torch.Size([3, 224, 224]), Mask torch.Size([224, 224])\n"
     ]
    },
    {
     "name": "stderr",
     "output_type": "stream",
     "text": [
      "Epoch [7/15]:  16%|█▋        | 17/104 [00:10<00:53,  1.62it/s, Loss=0.368]"
     ]
    },
    {
     "name": "stdout",
     "output_type": "stream",
     "text": [
      "✅ Loaded BraTS19_TCIA02_368_1: Image torch.Size([3, 224, 224]), Mask torch.Size([224, 224])\n",
      "✅ Loaded BraTS19_TMC_21360_1: Image torch.Size([3, 224, 224]), Mask torch.Size([224, 224])\n"
     ]
    },
    {
     "name": "stderr",
     "output_type": "stream",
     "text": [
      "Epoch [7/15]:  17%|█▋        | 18/104 [00:10<00:52,  1.63it/s, Loss=0.297]"
     ]
    },
    {
     "name": "stdout",
     "output_type": "stream",
     "text": [
      "✅ Loaded BraTS19_CBICA_AUQ_1: Image torch.Size([3, 224, 224]), Mask torch.Size([224, 224])\n",
      "✅ Loaded BraTS19_CBICA_ASA_1: Image torch.Size([3, 224, 224]), Mask torch.Size([224, 224])\n"
     ]
    },
    {
     "name": "stderr",
     "output_type": "stream",
     "text": [
      "Epoch [7/15]:  18%|█▊        | 19/104 [00:11<00:51,  1.66it/s, Loss=0.34] "
     ]
    },
    {
     "name": "stdout",
     "output_type": "stream",
     "text": [
      "✅ Loaded BraTS19_CBICA_AQD_1: Image torch.Size([3, 224, 224]), Mask torch.Size([224, 224])\n",
      "✅ Loaded BraTS19_TCIA04_361_1: Image torch.Size([3, 224, 224]), Mask torch.Size([224, 224])\n"
     ]
    },
    {
     "name": "stderr",
     "output_type": "stream",
     "text": [
      "Epoch [7/15]:  19%|█▉        | 20/104 [00:12<00:50,  1.66it/s, Loss=0.324]"
     ]
    },
    {
     "name": "stdout",
     "output_type": "stream",
     "text": [
      "✅ Loaded BraTS19_CBICA_AMH_1: Image torch.Size([3, 224, 224]), Mask torch.Size([224, 224])\n",
      "✅ Loaded BraTS19_CBICA_AQU_1: Image torch.Size([3, 224, 224]), Mask torch.Size([224, 224])\n"
     ]
    },
    {
     "name": "stderr",
     "output_type": "stream",
     "text": [
      "Epoch [7/15]:  20%|██        | 21/104 [00:12<00:49,  1.66it/s, Loss=0.407]"
     ]
    },
    {
     "name": "stdout",
     "output_type": "stream",
     "text": [
      "✅ Loaded BraTS19_TCIA01_221_1: Image torch.Size([3, 224, 224]), Mask torch.Size([224, 224])\n",
      "✅ Loaded BraTS19_TCIA02_473_1: Image torch.Size([3, 224, 224]), Mask torch.Size([224, 224])\n"
     ]
    },
    {
     "name": "stderr",
     "output_type": "stream",
     "text": [
      "Epoch [7/15]:  21%|██        | 22/104 [00:13<00:49,  1.65it/s, Loss=0.405]"
     ]
    },
    {
     "name": "stdout",
     "output_type": "stream",
     "text": [
      "✅ Loaded BraTS19_TCIA02_430_1: Image torch.Size([3, 224, 224]), Mask torch.Size([224, 224])\n",
      "✅ Loaded BraTS19_TCIA06_409_1: Image torch.Size([3, 224, 224]), Mask torch.Size([224, 224])\n"
     ]
    },
    {
     "name": "stderr",
     "output_type": "stream",
     "text": [
      "Epoch [7/15]:  22%|██▏       | 23/104 [00:13<00:48,  1.66it/s, Loss=0.277]"
     ]
    },
    {
     "name": "stdout",
     "output_type": "stream",
     "text": [
      "✅ Loaded BraTS19_TCIA04_328_1: Image torch.Size([3, 224, 224]), Mask torch.Size([224, 224])\n",
      "✅ Loaded BraTS19_TCIA04_149_1: Image torch.Size([3, 224, 224]), Mask torch.Size([224, 224])\n"
     ]
    },
    {
     "name": "stderr",
     "output_type": "stream",
     "text": [
      "Epoch [7/15]:  23%|██▎       | 24/104 [00:14<00:47,  1.67it/s, Loss=0.502]"
     ]
    },
    {
     "name": "stdout",
     "output_type": "stream",
     "text": [
      "✅ Loaded BraTS19_CBICA_AYU_1: Image torch.Size([3, 224, 224]), Mask torch.Size([224, 224])\n",
      "✅ Loaded BraTS19_CBICA_BGG_1: Image torch.Size([3, 224, 224]), Mask torch.Size([224, 224])\n"
     ]
    },
    {
     "name": "stderr",
     "output_type": "stream",
     "text": [
      "Epoch [7/15]:  24%|██▍       | 25/104 [00:15<00:47,  1.66it/s, Loss=0.467]"
     ]
    },
    {
     "name": "stdout",
     "output_type": "stream",
     "text": [
      "✅ Loaded BraTS19_CBICA_AQG_1: Image torch.Size([3, 224, 224]), Mask torch.Size([224, 224])\n",
      "✅ Loaded BraTS19_CBICA_AQZ_1: Image torch.Size([3, 224, 224]), Mask torch.Size([224, 224])\n"
     ]
    },
    {
     "name": "stderr",
     "output_type": "stream",
     "text": [
      "Epoch [7/15]:  25%|██▌       | 26/104 [00:15<00:47,  1.65it/s, Loss=0.49] "
     ]
    },
    {
     "name": "stdout",
     "output_type": "stream",
     "text": [
      "✅ Loaded BraTS19_TCIA02_226_1: Image torch.Size([3, 224, 224]), Mask torch.Size([224, 224])\n",
      "✅ Loaded BraTS19_2013_18_1: Image torch.Size([3, 224, 224]), Mask torch.Size([224, 224])\n"
     ]
    },
    {
     "name": "stderr",
     "output_type": "stream",
     "text": [
      "Epoch [7/15]:  26%|██▌       | 27/104 [00:16<00:47,  1.64it/s, Loss=0.347]"
     ]
    },
    {
     "name": "stdout",
     "output_type": "stream",
     "text": [
      "✅ Loaded BraTS19_CBICA_AXW_1: Image torch.Size([3, 224, 224]), Mask torch.Size([224, 224])\n",
      "✅ Loaded BraTS19_TCIA02_300_1: Image torch.Size([3, 224, 224]), Mask torch.Size([224, 224])\n"
     ]
    },
    {
     "name": "stderr",
     "output_type": "stream",
     "text": [
      "Epoch [7/15]:  27%|██▋       | 28/104 [00:17<00:46,  1.65it/s, Loss=0.163]"
     ]
    },
    {
     "name": "stdout",
     "output_type": "stream",
     "text": [
      "✅ Loaded BraTS19_CBICA_BAX_1: Image torch.Size([3, 224, 224]), Mask torch.Size([224, 224])\n",
      "✅ Loaded BraTS19_TCIA06_211_1: Image torch.Size([3, 224, 224]), Mask torch.Size([224, 224])\n"
     ]
    },
    {
     "name": "stderr",
     "output_type": "stream",
     "text": [
      "Epoch [7/15]:  28%|██▊       | 29/104 [00:17<00:45,  1.65it/s, Loss=0.392]"
     ]
    },
    {
     "name": "stdout",
     "output_type": "stream",
     "text": [
      "✅ Loaded BraTS19_CBICA_AYC_1: Image torch.Size([3, 224, 224]), Mask torch.Size([224, 224])\n",
      "✅ Loaded BraTS19_CBICA_ARF_1: Image torch.Size([3, 224, 224]), Mask torch.Size([224, 224])\n"
     ]
    },
    {
     "name": "stderr",
     "output_type": "stream",
     "text": [
      "Epoch [7/15]:  29%|██▉       | 30/104 [00:18<00:44,  1.65it/s, Loss=0.28] "
     ]
    },
    {
     "name": "stdout",
     "output_type": "stream",
     "text": [
      "✅ Loaded BraTS19_TCIA04_192_1: Image torch.Size([3, 224, 224]), Mask torch.Size([224, 224])\n",
      "✅ Loaded BraTS19_CBICA_ABE_1: Image torch.Size([3, 224, 224]), Mask torch.Size([224, 224])\n"
     ]
    },
    {
     "name": "stderr",
     "output_type": "stream",
     "text": [
      "Epoch [7/15]:  30%|██▉       | 31/104 [00:18<00:43,  1.67it/s, Loss=0.257]"
     ]
    },
    {
     "name": "stdout",
     "output_type": "stream",
     "text": [
      "✅ Loaded BraTS19_TCIA04_343_1: Image torch.Size([3, 224, 224]), Mask torch.Size([224, 224])\n",
      "✅ Loaded BraTS19_CBICA_ATB_1: Image torch.Size([3, 224, 224]), Mask torch.Size([224, 224])\n"
     ]
    },
    {
     "name": "stderr",
     "output_type": "stream",
     "text": [
      "Epoch [7/15]:  31%|███       | 32/104 [00:19<00:42,  1.68it/s, Loss=0.442]"
     ]
    },
    {
     "name": "stdout",
     "output_type": "stream",
     "text": [
      "✅ Loaded BraTS19_CBICA_AXJ_1: Image torch.Size([3, 224, 224]), Mask torch.Size([224, 224])\n",
      "✅ Loaded BraTS19_TCIA03_474_1: Image torch.Size([3, 224, 224]), Mask torch.Size([224, 224])\n"
     ]
    },
    {
     "name": "stderr",
     "output_type": "stream",
     "text": [
      "Epoch [7/15]:  32%|███▏      | 33/104 [00:20<00:42,  1.66it/s, Loss=0.242]"
     ]
    },
    {
     "name": "stdout",
     "output_type": "stream",
     "text": [
      "✅ Loaded BraTS19_TCIA03_419_1: Image torch.Size([3, 224, 224]), Mask torch.Size([224, 224])\n",
      "✅ Loaded BraTS19_CBICA_BNR_1: Image torch.Size([3, 224, 224]), Mask torch.Size([224, 224])\n"
     ]
    },
    {
     "name": "stderr",
     "output_type": "stream",
     "text": [
      "Epoch [7/15]:  33%|███▎      | 34/104 [00:20<00:41,  1.68it/s, Loss=0.237]"
     ]
    },
    {
     "name": "stdout",
     "output_type": "stream",
     "text": [
      "✅ Loaded BraTS19_TCIA02_309_1: Image torch.Size([3, 224, 224]), Mask torch.Size([224, 224])\n",
      "✅ Loaded BraTS19_TCIA02_455_1: Image torch.Size([3, 224, 224]), Mask torch.Size([224, 224])\n"
     ]
    },
    {
     "name": "stderr",
     "output_type": "stream",
     "text": [
      "Epoch [7/15]:  34%|███▎      | 35/104 [00:21<00:40,  1.70it/s, Loss=0.331]"
     ]
    },
    {
     "name": "stdout",
     "output_type": "stream",
     "text": [
      "✅ Loaded BraTS19_CBICA_AVT_1: Image torch.Size([3, 224, 224]), Mask torch.Size([224, 224])\n",
      "✅ Loaded BraTS19_CBICA_BHZ_1: Image torch.Size([3, 224, 224]), Mask torch.Size([224, 224])\n"
     ]
    },
    {
     "name": "stderr",
     "output_type": "stream",
     "text": [
      "Epoch [7/15]:  35%|███▍      | 36/104 [00:21<00:40,  1.68it/s, Loss=0.23] "
     ]
    },
    {
     "name": "stdout",
     "output_type": "stream",
     "text": [
      "✅ Loaded BraTS19_CBICA_BFP_1: Image torch.Size([3, 224, 224]), Mask torch.Size([224, 224])\n",
      "✅ Loaded BraTS19_CBICA_BGN_1: Image torch.Size([3, 224, 224]), Mask torch.Size([224, 224])\n"
     ]
    },
    {
     "name": "stderr",
     "output_type": "stream",
     "text": [
      "Epoch [7/15]:  36%|███▌      | 37/104 [00:22<00:40,  1.66it/s, Loss=0.344]"
     ]
    },
    {
     "name": "stdout",
     "output_type": "stream",
     "text": [
      "✅ Loaded BraTS19_TCIA01_186_1: Image torch.Size([3, 224, 224]), Mask torch.Size([224, 224])\n",
      "✅ Loaded BraTS19_2013_20_1: Image torch.Size([3, 224, 224]), Mask torch.Size([224, 224])\n"
     ]
    },
    {
     "name": "stderr",
     "output_type": "stream",
     "text": [
      "Epoch [7/15]:  37%|███▋      | 38/104 [00:23<00:39,  1.66it/s, Loss=0.32] "
     ]
    },
    {
     "name": "stdout",
     "output_type": "stream",
     "text": [
      "✅ Loaded BraTS19_TCIA02_168_1: Image torch.Size([3, 224, 224]), Mask torch.Size([224, 224])\n",
      "✅ Loaded BraTS19_CBICA_ASG_1: Image torch.Size([3, 224, 224]), Mask torch.Size([224, 224])\n"
     ]
    },
    {
     "name": "stderr",
     "output_type": "stream",
     "text": [
      "Epoch [7/15]:  38%|███▊      | 39/104 [00:23<00:38,  1.68it/s, Loss=0.282]"
     ]
    },
    {
     "name": "stdout",
     "output_type": "stream",
     "text": [
      "✅ Loaded BraTS19_TMC_30014_1: Image torch.Size([3, 224, 224]), Mask torch.Size([224, 224])\n",
      "✅ Loaded BraTS19_TCIA01_180_1: Image torch.Size([3, 224, 224]), Mask torch.Size([224, 224])\n"
     ]
    },
    {
     "name": "stderr",
     "output_type": "stream",
     "text": [
      "Epoch [7/15]:  38%|███▊      | 40/104 [00:24<00:38,  1.66it/s, Loss=0.381]"
     ]
    },
    {
     "name": "stdout",
     "output_type": "stream",
     "text": [
      "✅ Loaded BraTS19_CBICA_BGT_1: Image torch.Size([3, 224, 224]), Mask torch.Size([224, 224])\n",
      "✅ Loaded BraTS19_CBICA_AVJ_1: Image torch.Size([3, 224, 224]), Mask torch.Size([224, 224])\n"
     ]
    },
    {
     "name": "stderr",
     "output_type": "stream",
     "text": [
      "Epoch [7/15]:  39%|███▉      | 41/104 [00:24<00:37,  1.68it/s, Loss=0.299]"
     ]
    },
    {
     "name": "stdout",
     "output_type": "stream",
     "text": [
      "✅ Loaded BraTS19_TCIA02_117_1: Image torch.Size([3, 224, 224]), Mask torch.Size([224, 224])\n",
      "✅ Loaded BraTS19_CBICA_BLJ_1: Image torch.Size([3, 224, 224]), Mask torch.Size([224, 224])\n"
     ]
    },
    {
     "name": "stderr",
     "output_type": "stream",
     "text": [
      "Epoch [7/15]:  40%|████      | 42/104 [00:25<00:37,  1.66it/s, Loss=0.428]"
     ]
    },
    {
     "name": "stdout",
     "output_type": "stream",
     "text": [
      "✅ Loaded BraTS19_TCIA02_331_1: Image torch.Size([3, 224, 224]), Mask torch.Size([224, 224])\n",
      "✅ Loaded BraTS19_TCIA05_396_1: Image torch.Size([3, 224, 224]), Mask torch.Size([224, 224])\n"
     ]
    },
    {
     "name": "stderr",
     "output_type": "stream",
     "text": [
      "Epoch [7/15]:  41%|████▏     | 43/104 [00:26<00:36,  1.65it/s, Loss=0.253]"
     ]
    },
    {
     "name": "stdout",
     "output_type": "stream",
     "text": [
      "✅ Loaded BraTS19_CBICA_AWH_1: Image torch.Size([3, 224, 224]), Mask torch.Size([224, 224])\n",
      "✅ Loaded BraTS19_CBICA_BHV_1: Image torch.Size([3, 224, 224]), Mask torch.Size([224, 224])\n"
     ]
    },
    {
     "name": "stderr",
     "output_type": "stream",
     "text": [
      "Epoch [7/15]:  42%|████▏     | 44/104 [00:26<00:36,  1.65it/s, Loss=0.383]"
     ]
    },
    {
     "name": "stdout",
     "output_type": "stream",
     "text": [
      "✅ Loaded BraTS19_TCIA08_167_1: Image torch.Size([3, 224, 224]), Mask torch.Size([224, 224])\n",
      "✅ Loaded BraTS19_CBICA_ASY_1: Image torch.Size([3, 224, 224]), Mask torch.Size([224, 224])\n"
     ]
    },
    {
     "name": "stderr",
     "output_type": "stream",
     "text": [
      "Epoch [7/15]:  43%|████▎     | 45/104 [00:27<00:35,  1.66it/s, Loss=0.241]"
     ]
    },
    {
     "name": "stdout",
     "output_type": "stream",
     "text": [
      "✅ Loaded BraTS19_CBICA_AWI_1: Image torch.Size([3, 224, 224]), Mask torch.Size([224, 224])\n",
      "✅ Loaded BraTS19_CBICA_ASE_1: Image torch.Size([3, 224, 224]), Mask torch.Size([224, 224])\n"
     ]
    },
    {
     "name": "stderr",
     "output_type": "stream",
     "text": [
      "Epoch [7/15]:  44%|████▍     | 46/104 [00:27<00:34,  1.68it/s, Loss=0.596]"
     ]
    },
    {
     "name": "stdout",
     "output_type": "stream",
     "text": [
      "✅ Loaded BraTS19_2013_5_1: Image torch.Size([3, 224, 224]), Mask torch.Size([224, 224])\n",
      "✅ Loaded BraTS19_TCIA01_147_1: Image torch.Size([3, 224, 224]), Mask torch.Size([224, 224])\n"
     ]
    },
    {
     "name": "stderr",
     "output_type": "stream",
     "text": [
      "Epoch [7/15]:  45%|████▌     | 47/104 [00:28<00:34,  1.66it/s, Loss=0.223]"
     ]
    },
    {
     "name": "stdout",
     "output_type": "stream",
     "text": [
      "✅ Loaded BraTS19_CBICA_AUA_1: Image torch.Size([3, 224, 224]), Mask torch.Size([224, 224])\n",
      "✅ Loaded BraTS19_CBICA_AOZ_1: Image torch.Size([3, 224, 224]), Mask torch.Size([224, 224])\n"
     ]
    },
    {
     "name": "stderr",
     "output_type": "stream",
     "text": [
      "Epoch [7/15]:  46%|████▌     | 48/104 [00:29<00:33,  1.66it/s, Loss=0.294]"
     ]
    },
    {
     "name": "stdout",
     "output_type": "stream",
     "text": [
      "✅ Loaded BraTS19_TCIA03_257_1: Image torch.Size([3, 224, 224]), Mask torch.Size([224, 224])\n",
      "✅ Loaded BraTS19_CBICA_AZH_1: Image torch.Size([3, 224, 224]), Mask torch.Size([224, 224])\n"
     ]
    },
    {
     "name": "stderr",
     "output_type": "stream",
     "text": [
      "Epoch [7/15]:  47%|████▋     | 49/104 [00:29<00:32,  1.69it/s, Loss=0.28] "
     ]
    },
    {
     "name": "stdout",
     "output_type": "stream",
     "text": [
      "✅ Loaded BraTS19_TMC_12866_1: Image torch.Size([3, 224, 224]), Mask torch.Size([224, 224])\n",
      "✅ Loaded BraTS19_TCIA04_437_1: Image torch.Size([3, 224, 224]), Mask torch.Size([224, 224])\n"
     ]
    },
    {
     "name": "stderr",
     "output_type": "stream",
     "text": [
      "Epoch [7/15]:  48%|████▊     | 50/104 [00:30<00:31,  1.70it/s, Loss=0.369]"
     ]
    },
    {
     "name": "stdout",
     "output_type": "stream",
     "text": [
      "✅ Loaded BraTS19_CBICA_BHB_1: Image torch.Size([3, 224, 224]), Mask torch.Size([224, 224])\n",
      "✅ Loaded BraTS19_CBICA_BGW_1: Image torch.Size([3, 224, 224]), Mask torch.Size([224, 224])\n"
     ]
    },
    {
     "name": "stderr",
     "output_type": "stream",
     "text": [
      "Epoch [7/15]:  49%|████▉     | 51/104 [00:30<00:31,  1.70it/s, Loss=0.339]"
     ]
    },
    {
     "name": "stdout",
     "output_type": "stream",
     "text": [
      "✅ Loaded BraTS19_2013_13_1: Image torch.Size([3, 224, 224]), Mask torch.Size([224, 224])\n",
      "✅ Loaded BraTS19_CBICA_AAG_1: Image torch.Size([3, 224, 224]), Mask torch.Size([224, 224])\n"
     ]
    },
    {
     "name": "stderr",
     "output_type": "stream",
     "text": [
      "Epoch [7/15]:  50%|█████     | 52/104 [00:31<00:30,  1.69it/s, Loss=0.57] "
     ]
    },
    {
     "name": "stdout",
     "output_type": "stream",
     "text": [
      "✅ Loaded BraTS19_TCIA08_280_1: Image torch.Size([3, 224, 224]), Mask torch.Size([224, 224])\n",
      "✅ Loaded BraTS19_TCIA02_290_1: Image torch.Size([3, 224, 224]), Mask torch.Size([224, 224])\n"
     ]
    },
    {
     "name": "stderr",
     "output_type": "stream",
     "text": [
      "Epoch [7/15]:  51%|█████     | 53/104 [00:31<00:30,  1.68it/s, Loss=0.245]"
     ]
    },
    {
     "name": "stdout",
     "output_type": "stream",
     "text": [
      "✅ Loaded BraTS19_CBICA_AXQ_1: Image torch.Size([3, 224, 224]), Mask torch.Size([224, 224])\n",
      "✅ Loaded BraTS19_CBICA_BFB_1: Image torch.Size([3, 224, 224]), Mask torch.Size([224, 224])\n"
     ]
    },
    {
     "name": "stderr",
     "output_type": "stream",
     "text": [
      "Epoch [7/15]:  52%|█████▏    | 54/104 [00:32<00:30,  1.65it/s, Loss=0.553]"
     ]
    },
    {
     "name": "stdout",
     "output_type": "stream",
     "text": [
      "✅ Loaded BraTS19_CBICA_AXL_1: Image torch.Size([3, 224, 224]), Mask torch.Size([224, 224])\n",
      "✅ Loaded BraTS19_TCIA01_429_1: Image torch.Size([3, 224, 224]), Mask torch.Size([224, 224])\n"
     ]
    },
    {
     "name": "stderr",
     "output_type": "stream",
     "text": [
      "Epoch [7/15]:  53%|█████▎    | 55/104 [00:33<00:29,  1.67it/s, Loss=0.298]"
     ]
    },
    {
     "name": "stdout",
     "output_type": "stream",
     "text": [
      "✅ Loaded BraTS19_CBICA_AUW_1: Image torch.Size([3, 224, 224]), Mask torch.Size([224, 224])\n",
      "✅ Loaded BraTS19_TCIA02_274_1: Image torch.Size([3, 224, 224]), Mask torch.Size([224, 224])\n"
     ]
    },
    {
     "name": "stderr",
     "output_type": "stream",
     "text": [
      "Epoch [7/15]:  54%|█████▍    | 56/104 [00:33<00:29,  1.63it/s, Loss=0.277]"
     ]
    },
    {
     "name": "stdout",
     "output_type": "stream",
     "text": [
      "✅ Loaded BraTS19_2013_25_1: Image torch.Size([3, 224, 224]), Mask torch.Size([224, 224])\n",
      "✅ Loaded BraTS19_CBICA_APR_1: Image torch.Size([3, 224, 224]), Mask torch.Size([224, 224])\n"
     ]
    },
    {
     "name": "stderr",
     "output_type": "stream",
     "text": [
      "Epoch [7/15]:  55%|█████▍    | 57/104 [00:34<00:28,  1.63it/s, Loss=0.707]"
     ]
    },
    {
     "name": "stdout",
     "output_type": "stream",
     "text": [
      "✅ Loaded BraTS19_CBICA_ANG_1: Image torch.Size([3, 224, 224]), Mask torch.Size([224, 224])\n",
      "✅ Loaded BraTS19_TCIA06_603_1: Image torch.Size([3, 224, 224]), Mask torch.Size([224, 224])\n"
     ]
    },
    {
     "name": "stderr",
     "output_type": "stream",
     "text": [
      "Epoch [7/15]:  56%|█████▌    | 58/104 [00:35<00:28,  1.62it/s, Loss=0.258]"
     ]
    },
    {
     "name": "stdout",
     "output_type": "stream",
     "text": [
      "✅ Loaded BraTS19_TCIA02_118_1: Image torch.Size([3, 224, 224]), Mask torch.Size([224, 224])\n",
      "✅ Loaded BraTS19_CBICA_ALX_1: Image torch.Size([3, 224, 224]), Mask torch.Size([224, 224])\n"
     ]
    },
    {
     "name": "stderr",
     "output_type": "stream",
     "text": [
      "Epoch [7/15]:  57%|█████▋    | 59/104 [00:35<00:27,  1.62it/s, Loss=0.425]"
     ]
    },
    {
     "name": "stdout",
     "output_type": "stream",
     "text": [
      "✅ Loaded BraTS19_CBICA_AAL_1: Image torch.Size([3, 224, 224]), Mask torch.Size([224, 224])\n",
      "✅ Loaded BraTS19_TCIA02_198_1: Image torch.Size([3, 224, 224]), Mask torch.Size([224, 224])\n"
     ]
    },
    {
     "name": "stderr",
     "output_type": "stream",
     "text": [
      "Epoch [7/15]:  58%|█████▊    | 60/104 [00:36<00:26,  1.64it/s, Loss=0.381]"
     ]
    },
    {
     "name": "stdout",
     "output_type": "stream",
     "text": [
      "✅ Loaded BraTS19_CBICA_AQT_1: Image torch.Size([3, 224, 224]), Mask torch.Size([224, 224])\n",
      "✅ Loaded BraTS19_TCIA01_448_1: Image torch.Size([3, 224, 224]), Mask torch.Size([224, 224])\n"
     ]
    },
    {
     "name": "stderr",
     "output_type": "stream",
     "text": [
      "Epoch [7/15]:  59%|█████▊    | 61/104 [00:36<00:26,  1.64it/s, Loss=0.3]  "
     ]
    },
    {
     "name": "stdout",
     "output_type": "stream",
     "text": [
      "✅ Loaded BraTS19_CBICA_AQA_1: Image torch.Size([3, 224, 224]), Mask torch.Size([224, 224])\n",
      "✅ Loaded BraTS19_TCIA06_165_1: Image torch.Size([3, 224, 224]), Mask torch.Size([224, 224])\n"
     ]
    },
    {
     "name": "stderr",
     "output_type": "stream",
     "text": [
      "Epoch [7/15]:  60%|█████▉    | 62/104 [00:37<00:25,  1.67it/s, Loss=0.244]"
     ]
    },
    {
     "name": "stdout",
     "output_type": "stream",
     "text": [
      "✅ Loaded BraTS19_TCIA02_605_1: Image torch.Size([3, 224, 224]), Mask torch.Size([224, 224])\n",
      "✅ Loaded BraTS19_CBICA_ALU_1: Image torch.Size([3, 224, 224]), Mask torch.Size([224, 224])\n"
     ]
    },
    {
     "name": "stderr",
     "output_type": "stream",
     "text": [
      "Epoch [7/15]:  61%|██████    | 63/104 [00:38<00:24,  1.66it/s, Loss=0.357]"
     ]
    },
    {
     "name": "stdout",
     "output_type": "stream",
     "text": [
      "✅ Loaded BraTS19_CBICA_AWG_1: Image torch.Size([3, 224, 224]), Mask torch.Size([224, 224])\n",
      "✅ Loaded BraTS19_CBICA_AVG_1: Image torch.Size([3, 224, 224]), Mask torch.Size([224, 224])\n"
     ]
    },
    {
     "name": "stderr",
     "output_type": "stream",
     "text": [
      "Epoch [7/15]:  62%|██████▏   | 64/104 [00:38<00:24,  1.66it/s, Loss=0.323]"
     ]
    },
    {
     "name": "stdout",
     "output_type": "stream",
     "text": [
      "✅ Loaded BraTS19_TCIA01_460_1: Image torch.Size([3, 224, 224]), Mask torch.Size([224, 224])\n",
      "✅ Loaded BraTS19_TCIA03_375_1: Image torch.Size([3, 224, 224]), Mask torch.Size([224, 224])\n"
     ]
    },
    {
     "name": "stderr",
     "output_type": "stream",
     "text": [
      "Epoch [7/15]:  62%|██████▎   | 65/104 [00:39<00:23,  1.65it/s, Loss=0.252]"
     ]
    },
    {
     "name": "stdout",
     "output_type": "stream",
     "text": [
      "✅ Loaded BraTS19_2013_3_1: Image torch.Size([3, 224, 224]), Mask torch.Size([224, 224])\n",
      "✅ Loaded BraTS19_2013_11_1: Image torch.Size([3, 224, 224]), Mask torch.Size([224, 224])\n"
     ]
    },
    {
     "name": "stderr",
     "output_type": "stream",
     "text": [
      "Epoch [7/15]:  63%|██████▎   | 66/104 [00:39<00:22,  1.66it/s, Loss=0.403]"
     ]
    },
    {
     "name": "stdout",
     "output_type": "stream",
     "text": [
      "✅ Loaded BraTS19_TCIA02_314_1: Image torch.Size([3, 224, 224]), Mask torch.Size([224, 224])\n",
      "✅ Loaded BraTS19_TCIA05_444_1: Image torch.Size([3, 224, 224]), Mask torch.Size([224, 224])\n"
     ]
    },
    {
     "name": "stderr",
     "output_type": "stream",
     "text": [
      "Epoch [7/15]:  64%|██████▍   | 67/104 [00:40<00:22,  1.65it/s, Loss=0.321]"
     ]
    },
    {
     "name": "stdout",
     "output_type": "stream",
     "text": [
      "✅ Loaded BraTS19_TCIA08_406_1: Image torch.Size([3, 224, 224]), Mask torch.Size([224, 224])\n",
      "✅ Loaded BraTS19_CBICA_ASV_1: Image torch.Size([3, 224, 224]), Mask torch.Size([224, 224])\n"
     ]
    },
    {
     "name": "stderr",
     "output_type": "stream",
     "text": [
      "Epoch [7/15]:  65%|██████▌   | 68/104 [00:41<00:21,  1.66it/s, Loss=0.258]"
     ]
    },
    {
     "name": "stdout",
     "output_type": "stream",
     "text": [
      "✅ Loaded BraTS19_TCIA02_394_1: Image torch.Size([3, 224, 224]), Mask torch.Size([224, 224])\n",
      "✅ Loaded BraTS19_CBICA_ASK_1: Image torch.Size([3, 224, 224]), Mask torch.Size([224, 224])\n"
     ]
    },
    {
     "name": "stderr",
     "output_type": "stream",
     "text": [
      "Epoch [7/15]:  66%|██████▋   | 69/104 [00:41<00:21,  1.65it/s, Loss=0.29] "
     ]
    },
    {
     "name": "stdout",
     "output_type": "stream",
     "text": [
      "✅ Loaded BraTS19_CBICA_AQR_1: Image torch.Size([3, 224, 224]), Mask torch.Size([224, 224])\n",
      "✅ Loaded BraTS19_CBICA_AYI_1: Image torch.Size([3, 224, 224]), Mask torch.Size([224, 224])\n"
     ]
    },
    {
     "name": "stderr",
     "output_type": "stream",
     "text": [
      "Epoch [7/15]:  67%|██████▋   | 70/104 [00:42<00:20,  1.63it/s, Loss=0.428]"
     ]
    },
    {
     "name": "stdout",
     "output_type": "stream",
     "text": [
      "✅ Loaded BraTS19_TCIA08_162_1: Image torch.Size([3, 224, 224]), Mask torch.Size([224, 224])\n",
      "✅ Loaded BraTS19_CBICA_ASU_1: Image torch.Size([3, 224, 224]), Mask torch.Size([224, 224])\n"
     ]
    },
    {
     "name": "stderr",
     "output_type": "stream",
     "text": [
      "Epoch [7/15]:  68%|██████▊   | 71/104 [00:42<00:20,  1.63it/s, Loss=0.183]"
     ]
    },
    {
     "name": "stdout",
     "output_type": "stream",
     "text": [
      "✅ Loaded BraTS19_TCIA01_335_1: Image torch.Size([3, 224, 224]), Mask torch.Size([224, 224])\n",
      "✅ Loaded BraTS19_CBICA_AQP_1: Image torch.Size([3, 224, 224]), Mask torch.Size([224, 224])\n"
     ]
    },
    {
     "name": "stderr",
     "output_type": "stream",
     "text": [
      "Epoch [7/15]:  69%|██████▉   | 72/104 [00:43<00:19,  1.63it/s, Loss=0.227]"
     ]
    },
    {
     "name": "stdout",
     "output_type": "stream",
     "text": [
      "✅ Loaded BraTS19_CBICA_AME_1: Image torch.Size([3, 224, 224]), Mask torch.Size([224, 224])\n",
      "✅ Loaded BraTS19_CBICA_BHQ_1: Image torch.Size([3, 224, 224]), Mask torch.Size([224, 224])\n"
     ]
    },
    {
     "name": "stderr",
     "output_type": "stream",
     "text": [
      "Epoch [7/15]:  70%|███████   | 73/104 [00:44<00:19,  1.63it/s, Loss=0.58] "
     ]
    },
    {
     "name": "stdout",
     "output_type": "stream",
     "text": [
      "✅ Loaded BraTS19_TCIA06_184_1: Image torch.Size([3, 224, 224]), Mask torch.Size([224, 224])\n",
      "✅ Loaded BraTS19_CBICA_APZ_1: Image torch.Size([3, 224, 224]), Mask torch.Size([224, 224])\n"
     ]
    },
    {
     "name": "stderr",
     "output_type": "stream",
     "text": [
      "Epoch [7/15]:  71%|███████   | 74/104 [00:44<00:18,  1.65it/s, Loss=0.318]"
     ]
    },
    {
     "name": "stdout",
     "output_type": "stream",
     "text": [
      "✅ Loaded BraTS19_CBICA_AQY_1: Image torch.Size([3, 224, 224]), Mask torch.Size([224, 224])\n",
      "✅ Loaded BraTS19_CBICA_ABY_1: Image torch.Size([3, 224, 224]), Mask torch.Size([224, 224])\n"
     ]
    },
    {
     "name": "stderr",
     "output_type": "stream",
     "text": [
      "Epoch [7/15]:  72%|███████▏  | 75/104 [00:45<00:17,  1.66it/s, Loss=0.383]"
     ]
    },
    {
     "name": "stdout",
     "output_type": "stream",
     "text": [
      "✅ Loaded BraTS19_CBICA_AQJ_1: Image torch.Size([3, 224, 224]), Mask torch.Size([224, 224])\n",
      "✅ Loaded BraTS19_TCIA01_411_1: Image torch.Size([3, 224, 224]), Mask torch.Size([224, 224])\n"
     ]
    },
    {
     "name": "stderr",
     "output_type": "stream",
     "text": [
      "Epoch [7/15]:  73%|███████▎  | 76/104 [00:45<00:17,  1.63it/s, Loss=0.319]"
     ]
    },
    {
     "name": "stdout",
     "output_type": "stream",
     "text": [
      "✅ Loaded BraTS19_TCIA01_412_1: Image torch.Size([3, 224, 224]), Mask torch.Size([224, 224])\n",
      "✅ Loaded BraTS19_CBICA_ARZ_1: Image torch.Size([3, 224, 224]), Mask torch.Size([224, 224])\n"
     ]
    },
    {
     "name": "stderr",
     "output_type": "stream",
     "text": [
      "Epoch [7/15]:  74%|███████▍  | 77/104 [00:46<00:16,  1.65it/s, Loss=0.262]"
     ]
    },
    {
     "name": "stdout",
     "output_type": "stream",
     "text": [
      "✅ Loaded BraTS19_TCIA08_105_1: Image torch.Size([3, 224, 224]), Mask torch.Size([224, 224])\n",
      "✅ Loaded BraTS19_CBICA_AOS_1: Image torch.Size([3, 224, 224]), Mask torch.Size([224, 224])\n"
     ]
    },
    {
     "name": "stderr",
     "output_type": "stream",
     "text": [
      "Epoch [7/15]:  75%|███████▌  | 78/104 [00:47<00:15,  1.64it/s, Loss=0.296]"
     ]
    },
    {
     "name": "stdout",
     "output_type": "stream",
     "text": [
      "✅ Loaded BraTS19_TCIA06_332_1: Image torch.Size([3, 224, 224]), Mask torch.Size([224, 224])\n",
      "✅ Loaded BraTS19_TCIA03_199_1: Image torch.Size([3, 224, 224]), Mask torch.Size([224, 224])\n"
     ]
    },
    {
     "name": "stderr",
     "output_type": "stream",
     "text": [
      "Epoch [7/15]:  76%|███████▌  | 79/104 [00:47<00:15,  1.64it/s, Loss=0.289]"
     ]
    },
    {
     "name": "stdout",
     "output_type": "stream",
     "text": [
      "✅ Loaded BraTS19_TCIA02_322_1: Image torch.Size([3, 224, 224]), Mask torch.Size([224, 224])\n",
      "✅ Loaded BraTS19_TCIA02_491_1: Image torch.Size([3, 224, 224]), Mask torch.Size([224, 224])\n"
     ]
    },
    {
     "name": "stderr",
     "output_type": "stream",
     "text": [
      "Epoch [7/15]:  77%|███████▋  | 80/104 [00:48<00:14,  1.65it/s, Loss=0.357]"
     ]
    },
    {
     "name": "stdout",
     "output_type": "stream",
     "text": [
      "✅ Loaded BraTS19_CBICA_ALN_1: Image torch.Size([3, 224, 224]), Mask torch.Size([224, 224])\n",
      "✅ Loaded BraTS19_CBICA_AUN_1: Image torch.Size([3, 224, 224]), Mask torch.Size([224, 224])\n"
     ]
    },
    {
     "name": "stderr",
     "output_type": "stream",
     "text": [
      "Epoch [7/15]:  78%|███████▊  | 81/104 [00:49<00:14,  1.62it/s, Loss=0.317]"
     ]
    },
    {
     "name": "stdout",
     "output_type": "stream",
     "text": [
      "✅ Loaded BraTS19_TCIA02_283_1: Image torch.Size([3, 224, 224]), Mask torch.Size([224, 224])\n",
      "✅ Loaded BraTS19_2013_10_1: Image torch.Size([3, 224, 224]), Mask torch.Size([224, 224])\n"
     ]
    },
    {
     "name": "stderr",
     "output_type": "stream",
     "text": [
      "Epoch [7/15]:  79%|███████▉  | 82/104 [00:49<00:13,  1.61it/s, Loss=0.196]"
     ]
    },
    {
     "name": "stdout",
     "output_type": "stream",
     "text": [
      "✅ Loaded BraTS19_TCIA08_469_1: Image torch.Size([3, 224, 224]), Mask torch.Size([224, 224])\n",
      "✅ Loaded BraTS19_TCIA01_425_1: Image torch.Size([3, 224, 224]), Mask torch.Size([224, 224])\n"
     ]
    },
    {
     "name": "stderr",
     "output_type": "stream",
     "text": [
      "Epoch [7/15]:  80%|███████▉  | 83/104 [00:50<00:12,  1.64it/s, Loss=0.298]"
     ]
    },
    {
     "name": "stdout",
     "output_type": "stream",
     "text": [
      "✅ Loaded BraTS19_CBICA_BIC_1: Image torch.Size([3, 224, 224]), Mask torch.Size([224, 224])\n",
      "✅ Loaded BraTS19_CBICA_BBG_1: Image torch.Size([3, 224, 224]), Mask torch.Size([224, 224])\n"
     ]
    },
    {
     "name": "stderr",
     "output_type": "stream",
     "text": [
      "Epoch [7/15]:  81%|████████  | 84/104 [00:50<00:12,  1.63it/s, Loss=0.248]"
     ]
    },
    {
     "name": "stdout",
     "output_type": "stream",
     "text": [
      "✅ Loaded BraTS19_TCIA01_131_1: Image torch.Size([3, 224, 224]), Mask torch.Size([224, 224])\n",
      "✅ Loaded BraTS19_TCIA02_222_1: Image torch.Size([3, 224, 224]), Mask torch.Size([224, 224])\n"
     ]
    },
    {
     "name": "stderr",
     "output_type": "stream",
     "text": [
      "Epoch [7/15]:  82%|████████▏ | 85/104 [00:51<00:11,  1.65it/s, Loss=0.28] "
     ]
    },
    {
     "name": "stdout",
     "output_type": "stream",
     "text": [
      "✅ Loaded BraTS19_CBICA_AYW_1: Image torch.Size([3, 224, 224]), Mask torch.Size([224, 224])\n",
      "✅ Loaded BraTS19_CBICA_ATP_1: Image torch.Size([3, 224, 224]), Mask torch.Size([224, 224])\n"
     ]
    },
    {
     "name": "stderr",
     "output_type": "stream",
     "text": [
      "Epoch [7/15]:  83%|████████▎ | 86/104 [00:52<00:11,  1.63it/s, Loss=0.593]"
     ]
    },
    {
     "name": "stdout",
     "output_type": "stream",
     "text": [
      "✅ Loaded BraTS19_CBICA_BKV_1: Image torch.Size([3, 224, 224]), Mask torch.Size([224, 224])\n",
      "✅ Loaded BraTS19_CBICA_ANP_1: Image torch.Size([3, 224, 224]), Mask torch.Size([224, 224])\n"
     ]
    },
    {
     "name": "stderr",
     "output_type": "stream",
     "text": [
      "Epoch [7/15]:  84%|████████▎ | 87/104 [00:52<00:10,  1.62it/s, Loss=0.439]"
     ]
    },
    {
     "name": "stdout",
     "output_type": "stream",
     "text": [
      "✅ Loaded BraTS19_TCIA05_478_1: Image torch.Size([3, 224, 224]), Mask torch.Size([224, 224])\n",
      "✅ Loaded BraTS19_CBICA_AOO_1: Image torch.Size([3, 224, 224]), Mask torch.Size([224, 224])\n"
     ]
    },
    {
     "name": "stderr",
     "output_type": "stream",
     "text": [
      "Epoch [7/15]:  85%|████████▍ | 88/104 [00:53<00:09,  1.62it/s, Loss=0.284]"
     ]
    },
    {
     "name": "stdout",
     "output_type": "stream",
     "text": [
      "✅ Loaded BraTS19_CBICA_ASN_1: Image torch.Size([3, 224, 224]), Mask torch.Size([224, 224])\n",
      "✅ Loaded BraTS19_TCIA03_296_1: Image torch.Size([3, 224, 224]), Mask torch.Size([224, 224])\n"
     ]
    },
    {
     "name": "stderr",
     "output_type": "stream",
     "text": [
      "Epoch [7/15]:  86%|████████▌ | 89/104 [00:53<00:09,  1.63it/s, Loss=0.404]"
     ]
    },
    {
     "name": "stdout",
     "output_type": "stream",
     "text": [
      "✅ Loaded BraTS19_CBICA_BAP_1: Image torch.Size([3, 224, 224]), Mask torch.Size([224, 224])\n",
      "✅ Loaded BraTS19_TCIA03_338_1: Image torch.Size([3, 224, 224]), Mask torch.Size([224, 224])\n"
     ]
    },
    {
     "name": "stderr",
     "output_type": "stream",
     "text": [
      "Epoch [7/15]:  87%|████████▋ | 90/104 [00:54<00:08,  1.63it/s, Loss=0.411]"
     ]
    },
    {
     "name": "stdout",
     "output_type": "stream",
     "text": [
      "✅ Loaded BraTS19_TCIA01_201_1: Image torch.Size([3, 224, 224]), Mask torch.Size([224, 224])\n",
      "✅ Loaded BraTS19_TCIA02_135_1: Image torch.Size([3, 224, 224]), Mask torch.Size([224, 224])\n"
     ]
    },
    {
     "name": "stderr",
     "output_type": "stream",
     "text": [
      "Epoch [7/15]:  88%|████████▊ | 91/104 [00:55<00:07,  1.64it/s, Loss=0.363]"
     ]
    },
    {
     "name": "stdout",
     "output_type": "stream",
     "text": [
      "✅ Loaded BraTS19_TMC_15477_1: Image torch.Size([3, 224, 224]), Mask torch.Size([224, 224])\n",
      "✅ Loaded BraTS19_CBICA_BGE_1: Image torch.Size([3, 224, 224]), Mask torch.Size([224, 224])\n"
     ]
    },
    {
     "name": "stderr",
     "output_type": "stream",
     "text": [
      "Epoch [7/15]:  88%|████████▊ | 92/104 [00:55<00:07,  1.62it/s, Loss=0.306]"
     ]
    },
    {
     "name": "stdout",
     "output_type": "stream",
     "text": [
      "✅ Loaded BraTS19_TCIA08_205_1: Image torch.Size([3, 224, 224]), Mask torch.Size([224, 224])\n",
      "✅ Loaded BraTS19_CBICA_ATX_1: Image torch.Size([3, 224, 224]), Mask torch.Size([224, 224])\n"
     ]
    },
    {
     "name": "stderr",
     "output_type": "stream",
     "text": [
      "Epoch [7/15]:  89%|████████▉ | 93/104 [00:56<00:06,  1.63it/s, Loss=0.325]"
     ]
    },
    {
     "name": "stdout",
     "output_type": "stream",
     "text": [
      "✅ Loaded BraTS19_CBICA_AQV_1: Image torch.Size([3, 224, 224]), Mask torch.Size([224, 224])\n",
      "✅ Loaded BraTS19_CBICA_APK_1: Image torch.Size([3, 224, 224]), Mask torch.Size([224, 224])\n"
     ]
    },
    {
     "name": "stderr",
     "output_type": "stream",
     "text": [
      "Epoch [7/15]:  90%|█████████ | 94/104 [00:56<00:06,  1.65it/s, Loss=0.209]"
     ]
    },
    {
     "name": "stdout",
     "output_type": "stream",
     "text": [
      "✅ Loaded BraTS19_2013_2_1: Image torch.Size([3, 224, 224]), Mask torch.Size([224, 224])\n",
      "✅ Loaded BraTS19_TCIA08_218_1: Image torch.Size([3, 224, 224]), Mask torch.Size([224, 224])\n"
     ]
    },
    {
     "name": "stderr",
     "output_type": "stream",
     "text": [
      "Epoch [7/15]:  91%|█████████▏| 95/104 [00:57<00:05,  1.67it/s, Loss=0.167]"
     ]
    },
    {
     "name": "stdout",
     "output_type": "stream",
     "text": [
      "✅ Loaded BraTS19_TCIA01_190_1: Image torch.Size([3, 224, 224]), Mask torch.Size([224, 224])\n",
      "✅ Loaded BraTS19_CBICA_ANZ_1: Image torch.Size([3, 224, 224]), Mask torch.Size([224, 224])\n"
     ]
    },
    {
     "name": "stderr",
     "output_type": "stream",
     "text": [
      "Epoch [7/15]:  92%|█████████▏| 96/104 [00:58<00:04,  1.65it/s, Loss=0.579]"
     ]
    },
    {
     "name": "stdout",
     "output_type": "stream",
     "text": [
      "✅ Loaded BraTS19_TCIA01_378_1: Image torch.Size([3, 224, 224]), Mask torch.Size([224, 224])\n",
      "✅ Loaded BraTS19_TCIA02_151_1: Image torch.Size([3, 224, 224]), Mask torch.Size([224, 224])\n"
     ]
    },
    {
     "name": "stderr",
     "output_type": "stream",
     "text": [
      "Epoch [7/15]:  93%|█████████▎| 97/104 [00:58<00:04,  1.65it/s, Loss=0.277]"
     ]
    },
    {
     "name": "stdout",
     "output_type": "stream",
     "text": [
      "✅ Loaded BraTS19_CBICA_BCF_1: Image torch.Size([3, 224, 224]), Mask torch.Size([224, 224])\n",
      "✅ Loaded BraTS19_CBICA_AAB_1: Image torch.Size([3, 224, 224]), Mask torch.Size([224, 224])\n"
     ]
    },
    {
     "name": "stderr",
     "output_type": "stream",
     "text": [
      "Epoch [7/15]:  94%|█████████▍| 98/104 [00:59<00:03,  1.64it/s, Loss=0.416]"
     ]
    },
    {
     "name": "stdout",
     "output_type": "stream",
     "text": [
      "✅ Loaded BraTS19_CBICA_ATD_1: Image torch.Size([3, 224, 224]), Mask torch.Size([224, 224])\n",
      "✅ Loaded BraTS19_2013_19_1: Image torch.Size([3, 224, 224]), Mask torch.Size([224, 224])\n"
     ]
    },
    {
     "name": "stderr",
     "output_type": "stream",
     "text": [
      "Epoch [7/15]:  95%|█████████▌| 99/104 [01:00<00:03,  1.62it/s, Loss=0.344]"
     ]
    },
    {
     "name": "stdout",
     "output_type": "stream",
     "text": [
      "✅ Loaded BraTS19_TCIA02_374_1: Image torch.Size([3, 224, 224]), Mask torch.Size([224, 224])\n",
      "✅ Loaded BraTS19_CBICA_AOC_1: Image torch.Size([3, 224, 224]), Mask torch.Size([224, 224])\n"
     ]
    },
    {
     "name": "stderr",
     "output_type": "stream",
     "text": [
      "Epoch [7/15]:  96%|█████████▌| 100/104 [01:00<00:02,  1.64it/s, Loss=0.269]"
     ]
    },
    {
     "name": "stdout",
     "output_type": "stream",
     "text": [
      "✅ Loaded BraTS19_CBICA_AXM_1: Image torch.Size([3, 224, 224]), Mask torch.Size([224, 224])\n",
      "✅ Loaded BraTS19_CBICA_AXO_1: Image torch.Size([3, 224, 224]), Mask torch.Size([224, 224])\n"
     ]
    },
    {
     "name": "stderr",
     "output_type": "stream",
     "text": [
      "Epoch [7/15]:  97%|█████████▋| 101/104 [01:01<00:01,  1.65it/s, Loss=0.358]"
     ]
    },
    {
     "name": "stdout",
     "output_type": "stream",
     "text": [
      "✅ Loaded BraTS19_CBICA_BEM_1: Image torch.Size([3, 224, 224]), Mask torch.Size([224, 224])\n",
      "✅ Loaded BraTS19_2013_27_1: Image torch.Size([3, 224, 224]), Mask torch.Size([224, 224])\n"
     ]
    },
    {
     "name": "stderr",
     "output_type": "stream",
     "text": [
      "Epoch [7/15]:  98%|█████████▊| 102/104 [01:01<00:01,  1.62it/s, Loss=0.422]"
     ]
    },
    {
     "name": "stdout",
     "output_type": "stream",
     "text": [
      "✅ Loaded BraTS19_TCIA03_498_1: Image torch.Size([3, 224, 224]), Mask torch.Size([224, 224])\n",
      "✅ Loaded BraTS19_TCIA02_321_1: Image torch.Size([3, 224, 224]), Mask torch.Size([224, 224])\n"
     ]
    },
    {
     "name": "stderr",
     "output_type": "stream",
     "text": [
      "Epoch [7/15]:  99%|█████████▉| 103/104 [01:02<00:00,  1.61it/s, Loss=0.303]"
     ]
    },
    {
     "name": "stdout",
     "output_type": "stream",
     "text": [
      "✅ Loaded BraTS19_CBICA_BJY_1: Image torch.Size([3, 224, 224]), Mask torch.Size([224, 224])\n"
     ]
    },
    {
     "name": "stderr",
     "output_type": "stream",
     "text": [
      "                                                                           \r"
     ]
    },
    {
     "name": "stdout",
     "output_type": "stream",
     "text": [
      "\n",
      "✅ Epoch 7: Train Loss: 0.3486\n",
      "⚠️ No improvement for 1 epoch(s)\n"
     ]
    },
    {
     "name": "stderr",
     "output_type": "stream",
     "text": [
      "Epoch [8/15]:   0%|          | 0/104 [00:00<?, ?it/s]"
     ]
    },
    {
     "name": "stdout",
     "output_type": "stream",
     "text": [
      "✅ Loaded BraTS19_CBICA_BCF_1: Image torch.Size([3, 224, 224]), Mask torch.Size([224, 224])\n",
      "✅ Loaded BraTS19_TCIA03_338_1: Image torch.Size([3, 224, 224]), Mask torch.Size([224, 224])\n"
     ]
    },
    {
     "name": "stderr",
     "output_type": "stream",
     "text": [
      "Epoch [8/15]:   1%|          | 1/104 [00:00<01:03,  1.63it/s, Loss=0.75]"
     ]
    },
    {
     "name": "stdout",
     "output_type": "stream",
     "text": [
      "✅ Loaded BraTS19_CBICA_ARZ_1: Image torch.Size([3, 224, 224]), Mask torch.Size([224, 224])\n",
      "✅ Loaded BraTS19_CBICA_AUA_1: Image torch.Size([3, 224, 224]), Mask torch.Size([224, 224])\n"
     ]
    },
    {
     "name": "stderr",
     "output_type": "stream",
     "text": [
      "Epoch [8/15]:   2%|▏         | 2/104 [00:01<01:04,  1.58it/s, Loss=0.315]"
     ]
    },
    {
     "name": "stdout",
     "output_type": "stream",
     "text": [
      "✅ Loaded BraTS19_CBICA_AXM_1: Image torch.Size([3, 224, 224]), Mask torch.Size([224, 224])\n",
      "✅ Loaded BraTS19_TCIA02_290_1: Image torch.Size([3, 224, 224]), Mask torch.Size([224, 224])\n"
     ]
    },
    {
     "name": "stderr",
     "output_type": "stream",
     "text": [
      "Epoch [8/15]:   3%|▎         | 3/104 [00:01<01:04,  1.58it/s, Loss=0.278]"
     ]
    },
    {
     "name": "stdout",
     "output_type": "stream",
     "text": [
      "✅ Loaded BraTS19_CBICA_ATD_1: Image torch.Size([3, 224, 224]), Mask torch.Size([224, 224])\n",
      "✅ Loaded BraTS19_CBICA_BHB_1: Image torch.Size([3, 224, 224]), Mask torch.Size([224, 224])\n"
     ]
    },
    {
     "name": "stderr",
     "output_type": "stream",
     "text": [
      "Epoch [8/15]:   4%|▍         | 4/104 [00:02<01:01,  1.63it/s, Loss=0.787]"
     ]
    },
    {
     "name": "stdout",
     "output_type": "stream",
     "text": [
      "✅ Loaded BraTS19_TCIA02_198_1: Image torch.Size([3, 224, 224]), Mask torch.Size([224, 224])\n",
      "✅ Loaded BraTS19_CBICA_AQN_1: Image torch.Size([3, 224, 224]), Mask torch.Size([224, 224])\n"
     ]
    },
    {
     "name": "stderr",
     "output_type": "stream",
     "text": [
      "Epoch [8/15]:   5%|▍         | 5/104 [00:03<00:59,  1.66it/s, Loss=0.542]"
     ]
    },
    {
     "name": "stdout",
     "output_type": "stream",
     "text": [
      "✅ Loaded BraTS19_TCIA02_309_1: Image torch.Size([3, 224, 224]), Mask torch.Size([224, 224])\n",
      "✅ Loaded BraTS19_TCIA06_211_1: Image torch.Size([3, 224, 224]), Mask torch.Size([224, 224])\n"
     ]
    },
    {
     "name": "stderr",
     "output_type": "stream",
     "text": [
      "Epoch [8/15]:   6%|▌         | 6/104 [00:03<00:59,  1.64it/s, Loss=0.401]"
     ]
    },
    {
     "name": "stdout",
     "output_type": "stream",
     "text": [
      "✅ Loaded BraTS19_TCIA06_603_1: Image torch.Size([3, 224, 224]), Mask torch.Size([224, 224])\n",
      "✅ Loaded BraTS19_CBICA_BKV_1: Image torch.Size([3, 224, 224]), Mask torch.Size([224, 224])\n"
     ]
    },
    {
     "name": "stderr",
     "output_type": "stream",
     "text": [
      "Epoch [8/15]:   7%|▋         | 7/104 [00:04<00:58,  1.67it/s, Loss=0.236]"
     ]
    },
    {
     "name": "stdout",
     "output_type": "stream",
     "text": [
      "✅ Loaded BraTS19_TCIA02_321_1: Image torch.Size([3, 224, 224]), Mask torch.Size([224, 224])\n",
      "✅ Loaded BraTS19_TCIA01_190_1: Image torch.Size([3, 224, 224]), Mask torch.Size([224, 224])\n"
     ]
    },
    {
     "name": "stderr",
     "output_type": "stream",
     "text": [
      "Epoch [8/15]:   8%|▊         | 8/104 [00:04<00:57,  1.68it/s, Loss=0.317]"
     ]
    },
    {
     "name": "stdout",
     "output_type": "stream",
     "text": [
      "✅ Loaded BraTS19_CBICA_AQU_1: Image torch.Size([3, 224, 224]), Mask torch.Size([224, 224])\n",
      "✅ Loaded BraTS19_CBICA_AYI_1: Image torch.Size([3, 224, 224]), Mask torch.Size([224, 224])\n"
     ]
    },
    {
     "name": "stderr",
     "output_type": "stream",
     "text": [
      "Epoch [8/15]:   9%|▊         | 9/104 [00:05<00:57,  1.65it/s, Loss=0.434]"
     ]
    },
    {
     "name": "stdout",
     "output_type": "stream",
     "text": [
      "✅ Loaded BraTS19_CBICA_AQO_1: Image torch.Size([3, 224, 224]), Mask torch.Size([224, 224])\n",
      "✅ Loaded BraTS19_CBICA_AQP_1: Image torch.Size([3, 224, 224]), Mask torch.Size([224, 224])\n"
     ]
    },
    {
     "name": "stderr",
     "output_type": "stream",
     "text": [
      "Epoch [8/15]:  10%|▉         | 10/104 [00:06<00:57,  1.64it/s, Loss=0.539]"
     ]
    },
    {
     "name": "stdout",
     "output_type": "stream",
     "text": [
      "✅ Loaded BraTS19_TCIA02_300_1: Image torch.Size([3, 224, 224]), Mask torch.Size([224, 224])\n",
      "✅ Loaded BraTS19_TCIA03_121_1: Image torch.Size([3, 224, 224]), Mask torch.Size([224, 224])\n"
     ]
    },
    {
     "name": "stderr",
     "output_type": "stream",
     "text": [
      "Epoch [8/15]:  11%|█         | 11/104 [00:06<00:56,  1.65it/s, Loss=0.579]"
     ]
    },
    {
     "name": "stdout",
     "output_type": "stream",
     "text": [
      "✅ Loaded BraTS19_CBICA_AOC_1: Image torch.Size([3, 224, 224]), Mask torch.Size([224, 224])\n",
      "✅ Loaded BraTS19_CBICA_AVJ_1: Image torch.Size([3, 224, 224]), Mask torch.Size([224, 224])\n"
     ]
    },
    {
     "name": "stderr",
     "output_type": "stream",
     "text": [
      "Epoch [8/15]:  12%|█▏        | 12/104 [00:07<00:56,  1.64it/s, Loss=0.303]"
     ]
    },
    {
     "name": "stdout",
     "output_type": "stream",
     "text": [
      "✅ Loaded BraTS19_CBICA_ASG_1: Image torch.Size([3, 224, 224]), Mask torch.Size([224, 224])\n",
      "✅ Loaded BraTS19_TCIA02_283_1: Image torch.Size([3, 224, 224]), Mask torch.Size([224, 224])\n"
     ]
    },
    {
     "name": "stderr",
     "output_type": "stream",
     "text": [
      "Epoch [8/15]:  12%|█▎        | 13/104 [00:07<00:55,  1.64it/s, Loss=0.353]"
     ]
    },
    {
     "name": "stdout",
     "output_type": "stream",
     "text": [
      "✅ Loaded BraTS19_CBICA_APK_1: Image torch.Size([3, 224, 224]), Mask torch.Size([224, 224])\n",
      "✅ Loaded BraTS19_2013_11_1: Image torch.Size([3, 224, 224]), Mask torch.Size([224, 224])\n"
     ]
    },
    {
     "name": "stderr",
     "output_type": "stream",
     "text": [
      "Epoch [8/15]:  13%|█▎        | 14/104 [00:08<00:55,  1.62it/s, Loss=0.391]"
     ]
    },
    {
     "name": "stdout",
     "output_type": "stream",
     "text": [
      "✅ Loaded BraTS19_CBICA_BBG_1: Image torch.Size([3, 224, 224]), Mask torch.Size([224, 224])\n",
      "✅ Loaded BraTS19_TCIA05_396_1: Image torch.Size([3, 224, 224]), Mask torch.Size([224, 224])\n"
     ]
    },
    {
     "name": "stderr",
     "output_type": "stream",
     "text": [
      "Epoch [8/15]:  14%|█▍        | 15/104 [00:09<00:53,  1.67it/s, Loss=0.302]"
     ]
    },
    {
     "name": "stdout",
     "output_type": "stream",
     "text": [
      "✅ Loaded BraTS19_TMC_30014_1: Image torch.Size([3, 224, 224]), Mask torch.Size([224, 224])\n",
      "✅ Loaded BraTS19_CBICA_ABE_1: Image torch.Size([3, 224, 224]), Mask torch.Size([224, 224])\n"
     ]
    },
    {
     "name": "stderr",
     "output_type": "stream",
     "text": [
      "Epoch [8/15]:  15%|█▌        | 16/104 [00:09<00:53,  1.64it/s, Loss=0.427]"
     ]
    },
    {
     "name": "stdout",
     "output_type": "stream",
     "text": [
      "✅ Loaded BraTS19_CBICA_ASY_1: Image torch.Size([3, 224, 224]), Mask torch.Size([224, 224])\n",
      "✅ Loaded BraTS19_CBICA_AAB_1: Image torch.Size([3, 224, 224]), Mask torch.Size([224, 224])\n"
     ]
    },
    {
     "name": "stderr",
     "output_type": "stream",
     "text": [
      "Epoch [8/15]:  16%|█▋        | 17/104 [00:10<00:52,  1.65it/s, Loss=0.451]"
     ]
    },
    {
     "name": "stdout",
     "output_type": "stream",
     "text": [
      "✅ Loaded BraTS19_TCIA02_118_1: Image torch.Size([3, 224, 224]), Mask torch.Size([224, 224])\n",
      "✅ Loaded BraTS19_TMC_11964_1: Image torch.Size([3, 224, 224]), Mask torch.Size([224, 224])\n"
     ]
    },
    {
     "name": "stderr",
     "output_type": "stream",
     "text": [
      "Epoch [8/15]:  17%|█▋        | 18/104 [00:10<00:52,  1.65it/s, Loss=0.407]"
     ]
    },
    {
     "name": "stdout",
     "output_type": "stream",
     "text": [
      "✅ Loaded BraTS19_TCIA01_180_1: Image torch.Size([3, 224, 224]), Mask torch.Size([224, 224])\n",
      "✅ Loaded BraTS19_CBICA_BGE_1: Image torch.Size([3, 224, 224]), Mask torch.Size([224, 224])\n"
     ]
    },
    {
     "name": "stderr",
     "output_type": "stream",
     "text": [
      "Epoch [8/15]:  18%|█▊        | 19/104 [00:11<00:52,  1.63it/s, Loss=0.39] "
     ]
    },
    {
     "name": "stdout",
     "output_type": "stream",
     "text": [
      "✅ Loaded BraTS19_TCIA06_409_1: Image torch.Size([3, 224, 224]), Mask torch.Size([224, 224])\n",
      "✅ Loaded BraTS19_TCIA01_150_1: Image torch.Size([3, 224, 224]), Mask torch.Size([224, 224])\n"
     ]
    },
    {
     "name": "stderr",
     "output_type": "stream",
     "text": [
      "Epoch [8/15]:  19%|█▉        | 20/104 [00:12<00:51,  1.63it/s, Loss=0.255]"
     ]
    },
    {
     "name": "stdout",
     "output_type": "stream",
     "text": [
      "✅ Loaded BraTS19_2013_12_1: Image torch.Size([3, 224, 224]), Mask torch.Size([224, 224])\n",
      "✅ Loaded BraTS19_CBICA_AQD_1: Image torch.Size([3, 224, 224]), Mask torch.Size([224, 224])\n"
     ]
    },
    {
     "name": "stderr",
     "output_type": "stream",
     "text": [
      "Epoch [8/15]:  20%|██        | 21/104 [00:12<00:50,  1.66it/s, Loss=0.312]"
     ]
    },
    {
     "name": "stdout",
     "output_type": "stream",
     "text": [
      "✅ Loaded BraTS19_TCIA08_205_1: Image torch.Size([3, 224, 224]), Mask torch.Size([224, 224])\n",
      "✅ Loaded BraTS19_TCIA04_479_1: Image torch.Size([3, 224, 224]), Mask torch.Size([224, 224])\n"
     ]
    },
    {
     "name": "stderr",
     "output_type": "stream",
     "text": [
      "Epoch [8/15]:  21%|██        | 22/104 [00:13<00:49,  1.66it/s, Loss=0.257]"
     ]
    },
    {
     "name": "stdout",
     "output_type": "stream",
     "text": [
      "✅ Loaded BraTS19_CBICA_APR_1: Image torch.Size([3, 224, 224]), Mask torch.Size([224, 224])\n",
      "✅ Loaded BraTS19_CBICA_AAG_1: Image torch.Size([3, 224, 224]), Mask torch.Size([224, 224])\n"
     ]
    },
    {
     "name": "stderr",
     "output_type": "stream",
     "text": [
      "Epoch [8/15]:  22%|██▏       | 23/104 [00:13<00:48,  1.66it/s, Loss=0.616]"
     ]
    },
    {
     "name": "stdout",
     "output_type": "stream",
     "text": [
      "✅ Loaded BraTS19_CBICA_ABY_1: Image torch.Size([3, 224, 224]), Mask torch.Size([224, 224])\n",
      "✅ Loaded BraTS19_TCIA01_378_1: Image torch.Size([3, 224, 224]), Mask torch.Size([224, 224])\n"
     ]
    },
    {
     "name": "stderr",
     "output_type": "stream",
     "text": [
      "Epoch [8/15]:  23%|██▎       | 24/104 [00:14<00:48,  1.65it/s, Loss=0.396]"
     ]
    },
    {
     "name": "stdout",
     "output_type": "stream",
     "text": [
      "✅ Loaded BraTS19_TCIA01_411_1: Image torch.Size([3, 224, 224]), Mask torch.Size([224, 224])\n",
      "✅ Loaded BraTS19_CBICA_AXL_1: Image torch.Size([3, 224, 224]), Mask torch.Size([224, 224])\n"
     ]
    },
    {
     "name": "stderr",
     "output_type": "stream",
     "text": [
      "Epoch [8/15]:  24%|██▍       | 25/104 [00:15<00:47,  1.67it/s, Loss=0.475]"
     ]
    },
    {
     "name": "stdout",
     "output_type": "stream",
     "text": [
      "✅ Loaded BraTS19_TCIA08_406_1: Image torch.Size([3, 224, 224]), Mask torch.Size([224, 224])\n",
      "✅ Loaded BraTS19_TCIA08_162_1: Image torch.Size([3, 224, 224]), Mask torch.Size([224, 224])\n"
     ]
    },
    {
     "name": "stderr",
     "output_type": "stream",
     "text": [
      "Epoch [8/15]:  25%|██▌       | 26/104 [00:15<00:46,  1.67it/s, Loss=0.219]"
     ]
    },
    {
     "name": "stdout",
     "output_type": "stream",
     "text": [
      "✅ Loaded BraTS19_TCIA03_375_1: Image torch.Size([3, 224, 224]), Mask torch.Size([224, 224])\n",
      "✅ Loaded BraTS19_CBICA_AWH_1: Image torch.Size([3, 224, 224]), Mask torch.Size([224, 224])\n"
     ]
    },
    {
     "name": "stderr",
     "output_type": "stream",
     "text": [
      "Epoch [8/15]:  26%|██▌       | 27/104 [00:16<00:46,  1.65it/s, Loss=0.634]"
     ]
    },
    {
     "name": "stdout",
     "output_type": "stream",
     "text": [
      "✅ Loaded BraTS19_2013_21_1: Image torch.Size([3, 224, 224]), Mask torch.Size([224, 224])\n",
      "✅ Loaded BraTS19_TCIA08_113_1: Image torch.Size([3, 224, 224]), Mask torch.Size([224, 224])\n"
     ]
    },
    {
     "name": "stderr",
     "output_type": "stream",
     "text": [
      "Epoch [8/15]:  27%|██▋       | 28/104 [00:16<00:45,  1.66it/s, Loss=0.231]"
     ]
    },
    {
     "name": "stdout",
     "output_type": "stream",
     "text": [
      "✅ Loaded BraTS19_CBICA_AQG_1: Image torch.Size([3, 224, 224]), Mask torch.Size([224, 224])\n",
      "✅ Loaded BraTS19_TCIA02_117_1: Image torch.Size([3, 224, 224]), Mask torch.Size([224, 224])\n"
     ]
    },
    {
     "name": "stderr",
     "output_type": "stream",
     "text": [
      "Epoch [8/15]:  28%|██▊       | 29/104 [00:17<00:45,  1.63it/s, Loss=0.375]"
     ]
    },
    {
     "name": "stdout",
     "output_type": "stream",
     "text": [
      "✅ Loaded BraTS19_CBICA_AOS_1: Image torch.Size([3, 224, 224]), Mask torch.Size([224, 224])\n",
      "✅ Loaded BraTS19_CBICA_AWG_1: Image torch.Size([3, 224, 224]), Mask torch.Size([224, 224])\n"
     ]
    },
    {
     "name": "stderr",
     "output_type": "stream",
     "text": [
      "Epoch [8/15]:  29%|██▉       | 30/104 [00:18<00:45,  1.63it/s, Loss=0.288]"
     ]
    },
    {
     "name": "stdout",
     "output_type": "stream",
     "text": [
      "✅ Loaded BraTS19_CBICA_ALX_1: Image torch.Size([3, 224, 224]), Mask torch.Size([224, 224])\n",
      "✅ Loaded BraTS19_CBICA_AOO_1: Image torch.Size([3, 224, 224]), Mask torch.Size([224, 224])\n"
     ]
    },
    {
     "name": "stderr",
     "output_type": "stream",
     "text": [
      "Epoch [8/15]:  30%|██▉       | 31/104 [00:18<00:44,  1.63it/s, Loss=0.319]"
     ]
    },
    {
     "name": "stdout",
     "output_type": "stream",
     "text": [
      "✅ Loaded BraTS19_TMC_21360_1: Image torch.Size([3, 224, 224]), Mask torch.Size([224, 224])\n",
      "✅ Loaded BraTS19_TCIA03_138_1: Image torch.Size([3, 224, 224]), Mask torch.Size([224, 224])\n"
     ]
    },
    {
     "name": "stderr",
     "output_type": "stream",
     "text": [
      "Epoch [8/15]:  31%|███       | 32/104 [00:19<00:44,  1.62it/s, Loss=0.407]"
     ]
    },
    {
     "name": "stdout",
     "output_type": "stream",
     "text": [
      "✅ Loaded BraTS19_TCIA02_151_1: Image torch.Size([3, 224, 224]), Mask torch.Size([224, 224])\n",
      "✅ Loaded BraTS19_CBICA_AVB_1: Image torch.Size([3, 224, 224]), Mask torch.Size([224, 224])\n"
     ]
    },
    {
     "name": "stderr",
     "output_type": "stream",
     "text": [
      "Epoch [8/15]:  32%|███▏      | 33/104 [00:20<00:43,  1.62it/s, Loss=0.128]"
     ]
    },
    {
     "name": "stdout",
     "output_type": "stream",
     "text": [
      "✅ Loaded BraTS19_TMC_15477_1: Image torch.Size([3, 224, 224]), Mask torch.Size([224, 224])\n",
      "✅ Loaded BraTS19_CBICA_AUQ_1: Image torch.Size([3, 224, 224]), Mask torch.Size([224, 224])\n"
     ]
    },
    {
     "name": "stderr",
     "output_type": "stream",
     "text": [
      "Epoch [8/15]:  33%|███▎      | 34/104 [00:20<00:43,  1.61it/s, Loss=0.366]"
     ]
    },
    {
     "name": "stdout",
     "output_type": "stream",
     "text": [
      "✅ Loaded BraTS19_CBICA_ASE_1: Image torch.Size([3, 224, 224]), Mask torch.Size([224, 224])\n",
      "✅ Loaded BraTS19_CBICA_AVV_1: Image torch.Size([3, 224, 224]), Mask torch.Size([224, 224])\n"
     ]
    },
    {
     "name": "stderr",
     "output_type": "stream",
     "text": [
      "Epoch [8/15]:  34%|███▎      | 35/104 [00:21<00:42,  1.64it/s, Loss=0.386]"
     ]
    },
    {
     "name": "stdout",
     "output_type": "stream",
     "text": [
      "✅ Loaded BraTS19_TCIA02_179_1: Image torch.Size([3, 224, 224]), Mask torch.Size([224, 224])\n",
      "✅ Loaded BraTS19_CBICA_ATP_1: Image torch.Size([3, 224, 224]), Mask torch.Size([224, 224])\n"
     ]
    },
    {
     "name": "stderr",
     "output_type": "stream",
     "text": [
      "Epoch [8/15]:  35%|███▍      | 36/104 [00:21<00:42,  1.62it/s, Loss=0.661]"
     ]
    },
    {
     "name": "stdout",
     "output_type": "stream",
     "text": [
      "✅ Loaded BraTS19_TCIA01_499_1: Image torch.Size([3, 224, 224]), Mask torch.Size([224, 224])\n",
      "✅ Loaded BraTS19_TCIA08_105_1: Image torch.Size([3, 224, 224]), Mask torch.Size([224, 224])\n"
     ]
    },
    {
     "name": "stderr",
     "output_type": "stream",
     "text": [
      "Epoch [8/15]:  36%|███▌      | 37/104 [00:22<00:41,  1.60it/s, Loss=0.354]"
     ]
    },
    {
     "name": "stdout",
     "output_type": "stream",
     "text": [
      "✅ Loaded BraTS19_TCIA02_168_1: Image torch.Size([3, 224, 224]), Mask torch.Size([224, 224])\n",
      "✅ Loaded BraTS19_CBICA_AYW_1: Image torch.Size([3, 224, 224]), Mask torch.Size([224, 224])\n"
     ]
    },
    {
     "name": "stderr",
     "output_type": "stream",
     "text": [
      "Epoch [8/15]:  37%|███▋      | 38/104 [00:23<00:40,  1.63it/s, Loss=0.312]"
     ]
    },
    {
     "name": "stdout",
     "output_type": "stream",
     "text": [
      "✅ Loaded BraTS19_CBICA_AUW_1: Image torch.Size([3, 224, 224]), Mask torch.Size([224, 224])\n",
      "✅ Loaded BraTS19_CBICA_BHZ_1: Image torch.Size([3, 224, 224]), Mask torch.Size([224, 224])\n"
     ]
    },
    {
     "name": "stderr",
     "output_type": "stream",
     "text": [
      "Epoch [8/15]:  38%|███▊      | 39/104 [00:23<00:39,  1.63it/s, Loss=0.26] "
     ]
    },
    {
     "name": "stdout",
     "output_type": "stream",
     "text": [
      "✅ Loaded BraTS19_TCIA02_274_1: Image torch.Size([3, 224, 224]), Mask torch.Size([224, 224])\n",
      "✅ Loaded BraTS19_CBICA_AVG_1: Image torch.Size([3, 224, 224]), Mask torch.Size([224, 224])\n"
     ]
    },
    {
     "name": "stderr",
     "output_type": "stream",
     "text": [
      "Epoch [8/15]:  38%|███▊      | 40/104 [00:24<00:39,  1.64it/s, Loss=0.228]"
     ]
    },
    {
     "name": "stdout",
     "output_type": "stream",
     "text": [
      "✅ Loaded BraTS19_CBICA_ANZ_1: Image torch.Size([3, 224, 224]), Mask torch.Size([224, 224])\n",
      "✅ Loaded BraTS19_TCIA02_605_1: Image torch.Size([3, 224, 224]), Mask torch.Size([224, 224])\n"
     ]
    },
    {
     "name": "stderr",
     "output_type": "stream",
     "text": [
      "Epoch [8/15]:  39%|███▉      | 41/104 [00:25<00:38,  1.64it/s, Loss=0.502]"
     ]
    },
    {
     "name": "stdout",
     "output_type": "stream",
     "text": [
      "✅ Loaded BraTS19_TCIA01_448_1: Image torch.Size([3, 224, 224]), Mask torch.Size([224, 224])\n",
      "✅ Loaded BraTS19_TCIA02_430_1: Image torch.Size([3, 224, 224]), Mask torch.Size([224, 224])\n"
     ]
    },
    {
     "name": "stderr",
     "output_type": "stream",
     "text": [
      "Epoch [8/15]:  40%|████      | 42/104 [00:25<00:37,  1.64it/s, Loss=0.31] "
     ]
    },
    {
     "name": "stdout",
     "output_type": "stream",
     "text": [
      "✅ Loaded BraTS19_CBICA_BFP_1: Image torch.Size([3, 224, 224]), Mask torch.Size([224, 224])\n",
      "✅ Loaded BraTS19_TCIA05_478_1: Image torch.Size([3, 224, 224]), Mask torch.Size([224, 224])\n"
     ]
    },
    {
     "name": "stderr",
     "output_type": "stream",
     "text": [
      "Epoch [8/15]:  41%|████▏     | 43/104 [00:26<00:36,  1.68it/s, Loss=0.277]"
     ]
    },
    {
     "name": "stdout",
     "output_type": "stream",
     "text": [
      "✅ Loaded BraTS19_CBICA_ATN_1: Image torch.Size([3, 224, 224]), Mask torch.Size([224, 224])\n",
      "✅ Loaded BraTS19_CBICA_ASV_1: Image torch.Size([3, 224, 224]), Mask torch.Size([224, 224])\n"
     ]
    },
    {
     "name": "stderr",
     "output_type": "stream",
     "text": [
      "Epoch [8/15]:  42%|████▏     | 44/104 [00:26<00:35,  1.70it/s, Loss=0.305]"
     ]
    },
    {
     "name": "stdout",
     "output_type": "stream",
     "text": [
      "✅ Loaded BraTS19_TCIA02_491_1: Image torch.Size([3, 224, 224]), Mask torch.Size([224, 224])\n",
      "✅ Loaded BraTS19_TCIA06_165_1: Image torch.Size([3, 224, 224]), Mask torch.Size([224, 224])\n"
     ]
    },
    {
     "name": "stderr",
     "output_type": "stream",
     "text": [
      "Epoch [8/15]:  43%|████▎     | 45/104 [00:27<00:35,  1.65it/s, Loss=0.295]"
     ]
    },
    {
     "name": "stdout",
     "output_type": "stream",
     "text": [
      "✅ Loaded BraTS19_2013_5_1: Image torch.Size([3, 224, 224]), Mask torch.Size([224, 224])\n",
      "✅ Loaded BraTS19_CBICA_BGW_1: Image torch.Size([3, 224, 224]), Mask torch.Size([224, 224])\n"
     ]
    },
    {
     "name": "stderr",
     "output_type": "stream",
     "text": [
      "Epoch [8/15]:  44%|████▍     | 46/104 [00:28<00:35,  1.64it/s, Loss=0.281]"
     ]
    },
    {
     "name": "stdout",
     "output_type": "stream",
     "text": [
      "✅ Loaded BraTS19_CBICA_BGN_1: Image torch.Size([3, 224, 224]), Mask torch.Size([224, 224])\n",
      "✅ Loaded BraTS19_TMC_12866_1: Image torch.Size([3, 224, 224]), Mask torch.Size([224, 224])\n"
     ]
    },
    {
     "name": "stderr",
     "output_type": "stream",
     "text": [
      "Epoch [8/15]:  45%|████▌     | 47/104 [00:28<00:34,  1.63it/s, Loss=0.369]"
     ]
    },
    {
     "name": "stdout",
     "output_type": "stream",
     "text": [
      "✅ Loaded BraTS19_TCIA02_135_1: Image torch.Size([3, 224, 224]), Mask torch.Size([224, 224])\n",
      "✅ Loaded BraTS19_TCIA02_322_1: Image torch.Size([3, 224, 224]), Mask torch.Size([224, 224])\n"
     ]
    },
    {
     "name": "stderr",
     "output_type": "stream",
     "text": [
      "Epoch [8/15]:  46%|████▌     | 48/104 [00:29<00:34,  1.63it/s, Loss=0.342]"
     ]
    },
    {
     "name": "stdout",
     "output_type": "stream",
     "text": [
      "✅ Loaded BraTS19_TCIA08_469_1: Image torch.Size([3, 224, 224]), Mask torch.Size([224, 224])\n",
      "✅ Loaded BraTS19_CBICA_AQY_1: Image torch.Size([3, 224, 224]), Mask torch.Size([224, 224])\n"
     ]
    },
    {
     "name": "stderr",
     "output_type": "stream",
     "text": [
      "Epoch [8/15]:  47%|████▋     | 49/104 [00:29<00:33,  1.65it/s, Loss=0.281]"
     ]
    },
    {
     "name": "stdout",
     "output_type": "stream",
     "text": [
      "✅ Loaded BraTS19_TCIA03_257_1: Image torch.Size([3, 224, 224]), Mask torch.Size([224, 224])\n",
      "✅ Loaded BraTS19_TCIA01_186_1: Image torch.Size([3, 224, 224]), Mask torch.Size([224, 224])\n"
     ]
    },
    {
     "name": "stderr",
     "output_type": "stream",
     "text": [
      "Epoch [8/15]:  48%|████▊     | 50/104 [00:30<00:32,  1.66it/s, Loss=0.363]"
     ]
    },
    {
     "name": "stdout",
     "output_type": "stream",
     "text": [
      "✅ Loaded BraTS19_CBICA_BGG_1: Image torch.Size([3, 224, 224]), Mask torch.Size([224, 224])\n",
      "✅ Loaded BraTS19_CBICA_BEM_1: Image torch.Size([3, 224, 224]), Mask torch.Size([224, 224])\n"
     ]
    },
    {
     "name": "stderr",
     "output_type": "stream",
     "text": [
      "Epoch [8/15]:  49%|████▉     | 51/104 [00:31<00:31,  1.66it/s, Loss=0.42] "
     ]
    },
    {
     "name": "stdout",
     "output_type": "stream",
     "text": [
      "✅ Loaded BraTS19_CBICA_AAP_1: Image torch.Size([3, 224, 224]), Mask torch.Size([224, 224])\n",
      "✅ Loaded BraTS19_TCIA01_429_1: Image torch.Size([3, 224, 224]), Mask torch.Size([224, 224])\n"
     ]
    },
    {
     "name": "stderr",
     "output_type": "stream",
     "text": [
      "Epoch [8/15]:  50%|█████     | 52/104 [00:31<00:31,  1.65it/s, Loss=0.244]"
     ]
    },
    {
     "name": "stdout",
     "output_type": "stream",
     "text": [
      "✅ Loaded BraTS19_2013_13_1: Image torch.Size([3, 224, 224]), Mask torch.Size([224, 224])\n",
      "✅ Loaded BraTS19_TCIA08_218_1: Image torch.Size([3, 224, 224]), Mask torch.Size([224, 224])\n"
     ]
    },
    {
     "name": "stderr",
     "output_type": "stream",
     "text": [
      "Epoch [8/15]:  51%|█████     | 53/104 [00:32<00:30,  1.65it/s, Loss=0.157]"
     ]
    },
    {
     "name": "stdout",
     "output_type": "stream",
     "text": [
      "✅ Loaded BraTS19_TCIA02_374_1: Image torch.Size([3, 224, 224]), Mask torch.Size([224, 224])\n",
      "✅ Loaded BraTS19_CBICA_AWI_1: Image torch.Size([3, 224, 224]), Mask torch.Size([224, 224])\n"
     ]
    },
    {
     "name": "stderr",
     "output_type": "stream",
     "text": [
      "Epoch [8/15]:  52%|█████▏    | 54/104 [00:32<00:30,  1.64it/s, Loss=0.275]"
     ]
    },
    {
     "name": "stdout",
     "output_type": "stream",
     "text": [
      "✅ Loaded BraTS19_CBICA_BNR_1: Image torch.Size([3, 224, 224]), Mask torch.Size([224, 224])\n",
      "✅ Loaded BraTS19_CBICA_AYC_1: Image torch.Size([3, 224, 224]), Mask torch.Size([224, 224])\n"
     ]
    },
    {
     "name": "stderr",
     "output_type": "stream",
     "text": [
      "Epoch [8/15]:  53%|█████▎    | 55/104 [00:33<00:30,  1.62it/s, Loss=0.244]"
     ]
    },
    {
     "name": "stdout",
     "output_type": "stream",
     "text": [
      "✅ Loaded BraTS19_TCIA08_167_1: Image torch.Size([3, 224, 224]), Mask torch.Size([224, 224])\n",
      "✅ Loaded BraTS19_CBICA_AQJ_1: Image torch.Size([3, 224, 224]), Mask torch.Size([224, 224])\n"
     ]
    },
    {
     "name": "stderr",
     "output_type": "stream",
     "text": [
      "Epoch [8/15]:  54%|█████▍    | 56/104 [00:34<00:29,  1.65it/s, Loss=0.31] "
     ]
    },
    {
     "name": "stdout",
     "output_type": "stream",
     "text": [
      "✅ Loaded BraTS19_TCIA01_412_1: Image torch.Size([3, 224, 224]), Mask torch.Size([224, 224])\n",
      "✅ Loaded BraTS19_CBICA_BIC_1: Image torch.Size([3, 224, 224]), Mask torch.Size([224, 224])\n"
     ]
    },
    {
     "name": "stderr",
     "output_type": "stream",
     "text": [
      "Epoch [8/15]:  55%|█████▍    | 57/104 [00:34<00:28,  1.64it/s, Loss=0.261]"
     ]
    },
    {
     "name": "stdout",
     "output_type": "stream",
     "text": [
      "✅ Loaded BraTS19_CBICA_ASH_1: Image torch.Size([3, 224, 224]), Mask torch.Size([224, 224])\n",
      "✅ Loaded BraTS19_CBICA_BHQ_1: Image torch.Size([3, 224, 224]), Mask torch.Size([224, 224])\n"
     ]
    },
    {
     "name": "stderr",
     "output_type": "stream",
     "text": [
      "Epoch [8/15]:  56%|█████▌    | 58/104 [00:35<00:27,  1.66it/s, Loss=0.568]"
     ]
    },
    {
     "name": "stdout",
     "output_type": "stream",
     "text": [
      "✅ Loaded BraTS19_TCIA05_444_1: Image torch.Size([3, 224, 224]), Mask torch.Size([224, 224])\n",
      "✅ Loaded BraTS19_2013_2_1: Image torch.Size([3, 224, 224]), Mask torch.Size([224, 224])\n"
     ]
    },
    {
     "name": "stderr",
     "output_type": "stream",
     "text": [
      "Epoch [8/15]:  57%|█████▋    | 59/104 [00:35<00:27,  1.67it/s, Loss=0.318]"
     ]
    },
    {
     "name": "stdout",
     "output_type": "stream",
     "text": [
      "✅ Loaded BraTS19_CBICA_AQT_1: Image torch.Size([3, 224, 224]), Mask torch.Size([224, 224])\n",
      "✅ Loaded BraTS19_CBICA_BAX_1: Image torch.Size([3, 224, 224]), Mask torch.Size([224, 224])\n"
     ]
    },
    {
     "name": "stderr",
     "output_type": "stream",
     "text": [
      "Epoch [8/15]:  58%|█████▊    | 60/104 [00:36<00:26,  1.66it/s, Loss=0.309]"
     ]
    },
    {
     "name": "stdout",
     "output_type": "stream",
     "text": [
      "✅ Loaded BraTS19_CBICA_BAP_1: Image torch.Size([3, 224, 224]), Mask torch.Size([224, 224])\n",
      "✅ Loaded BraTS19_CBICA_BFB_1: Image torch.Size([3, 224, 224]), Mask torch.Size([224, 224])\n"
     ]
    },
    {
     "name": "stderr",
     "output_type": "stream",
     "text": [
      "Epoch [8/15]:  59%|█████▊    | 61/104 [00:37<00:26,  1.64it/s, Loss=0.346]"
     ]
    },
    {
     "name": "stdout",
     "output_type": "stream",
     "text": [
      "✅ Loaded BraTS19_2013_19_1: Image torch.Size([3, 224, 224]), Mask torch.Size([224, 224])\n",
      "✅ Loaded BraTS19_CBICA_AQZ_1: Image torch.Size([3, 224, 224]), Mask torch.Size([224, 224])\n"
     ]
    },
    {
     "name": "stderr",
     "output_type": "stream",
     "text": [
      "Epoch [8/15]:  60%|█████▉    | 62/104 [00:37<00:25,  1.63it/s, Loss=0.226]"
     ]
    },
    {
     "name": "stdout",
     "output_type": "stream",
     "text": [
      "✅ Loaded BraTS19_CBICA_AZH_1: Image torch.Size([3, 224, 224]), Mask torch.Size([224, 224])\n",
      "✅ Loaded BraTS19_2013_20_1: Image torch.Size([3, 224, 224]), Mask torch.Size([224, 224])\n"
     ]
    },
    {
     "name": "stderr",
     "output_type": "stream",
     "text": [
      "Epoch [8/15]:  61%|██████    | 63/104 [00:38<00:24,  1.64it/s, Loss=0.299]"
     ]
    },
    {
     "name": "stdout",
     "output_type": "stream",
     "text": [
      "✅ Loaded BraTS19_2013_4_1: Image torch.Size([3, 224, 224]), Mask torch.Size([224, 224])\n",
      "✅ Loaded BraTS19_TCIA01_460_1: Image torch.Size([3, 224, 224]), Mask torch.Size([224, 224])\n"
     ]
    },
    {
     "name": "stderr",
     "output_type": "stream",
     "text": [
      "Epoch [8/15]:  62%|██████▏   | 64/104 [00:38<00:24,  1.62it/s, Loss=0.28] "
     ]
    },
    {
     "name": "stdout",
     "output_type": "stream",
     "text": [
      "✅ Loaded BraTS19_TCIA01_390_1: Image torch.Size([3, 224, 224]), Mask torch.Size([224, 224])\n",
      "✅ Loaded BraTS19_TCIA01_221_1: Image torch.Size([3, 224, 224]), Mask torch.Size([224, 224])\n"
     ]
    },
    {
     "name": "stderr",
     "output_type": "stream",
     "text": [
      "Epoch [8/15]:  62%|██████▎   | 65/104 [00:39<00:23,  1.64it/s, Loss=0.286]"
     ]
    },
    {
     "name": "stdout",
     "output_type": "stream",
     "text": [
      "✅ Loaded BraTS19_CBICA_BGX_1: Image torch.Size([3, 224, 224]), Mask torch.Size([224, 224])\n",
      "✅ Loaded BraTS19_CBICA_BGT_1: Image torch.Size([3, 224, 224]), Mask torch.Size([224, 224])\n"
     ]
    },
    {
     "name": "stderr",
     "output_type": "stream",
     "text": [
      "Epoch [8/15]:  63%|██████▎   | 66/104 [00:40<00:23,  1.64it/s, Loss=0.21] "
     ]
    },
    {
     "name": "stdout",
     "output_type": "stream",
     "text": [
      "✅ Loaded BraTS19_CBICA_ANG_1: Image torch.Size([3, 224, 224]), Mask torch.Size([224, 224])\n",
      "✅ Loaded BraTS19_TCIA02_608_1: Image torch.Size([3, 224, 224]), Mask torch.Size([224, 224])\n"
     ]
    },
    {
     "name": "stderr",
     "output_type": "stream",
     "text": [
      "Epoch [8/15]:  64%|██████▍   | 67/104 [00:40<00:22,  1.64it/s, Loss=0.269]"
     ]
    },
    {
     "name": "stdout",
     "output_type": "stream",
     "text": [
      "✅ Loaded BraTS19_CBICA_AME_1: Image torch.Size([3, 224, 224]), Mask torch.Size([224, 224])\n",
      "✅ Loaded BraTS19_TCIA02_455_1: Image torch.Size([3, 224, 224]), Mask torch.Size([224, 224])\n"
     ]
    },
    {
     "name": "stderr",
     "output_type": "stream",
     "text": [
      "Epoch [8/15]:  65%|██████▌   | 68/104 [00:41<00:22,  1.63it/s, Loss=0.56] "
     ]
    },
    {
     "name": "stdout",
     "output_type": "stream",
     "text": [
      "✅ Loaded BraTS19_TCIA04_437_1: Image torch.Size([3, 224, 224]), Mask torch.Size([224, 224])\n",
      "✅ Loaded BraTS19_TCIA02_226_1: Image torch.Size([3, 224, 224]), Mask torch.Size([224, 224])\n"
     ]
    },
    {
     "name": "stderr",
     "output_type": "stream",
     "text": [
      "Epoch [8/15]:  66%|██████▋   | 69/104 [00:41<00:21,  1.66it/s, Loss=0.357]"
     ]
    },
    {
     "name": "stdout",
     "output_type": "stream",
     "text": [
      "✅ Loaded BraTS19_2013_10_1: Image torch.Size([3, 224, 224]), Mask torch.Size([224, 224])\n",
      "✅ Loaded BraTS19_TCIA02_368_1: Image torch.Size([3, 224, 224]), Mask torch.Size([224, 224])\n"
     ]
    },
    {
     "name": "stderr",
     "output_type": "stream",
     "text": [
      "Epoch [8/15]:  67%|██████▋   | 70/104 [00:42<00:20,  1.64it/s, Loss=0.262]"
     ]
    },
    {
     "name": "stdout",
     "output_type": "stream",
     "text": [
      "✅ Loaded BraTS19_TCIA02_314_1: Image torch.Size([3, 224, 224]), Mask torch.Size([224, 224])\n",
      "✅ Loaded BraTS19_CBICA_ATV_1: Image torch.Size([3, 224, 224]), Mask torch.Size([224, 224])\n"
     ]
    },
    {
     "name": "stderr",
     "output_type": "stream",
     "text": [
      "Epoch [8/15]:  68%|██████▊   | 71/104 [00:43<00:20,  1.64it/s, Loss=0.311]"
     ]
    },
    {
     "name": "stdout",
     "output_type": "stream",
     "text": [
      "✅ Loaded BraTS19_CBICA_AUN_1: Image torch.Size([3, 224, 224]), Mask torch.Size([224, 224])\n",
      "✅ Loaded BraTS19_CBICA_AXW_1: Image torch.Size([3, 224, 224]), Mask torch.Size([224, 224])\n"
     ]
    },
    {
     "name": "stderr",
     "output_type": "stream",
     "text": [
      "Epoch [8/15]:  69%|██████▉   | 72/104 [00:43<00:19,  1.62it/s, Loss=0.291]"
     ]
    },
    {
     "name": "stdout",
     "output_type": "stream",
     "text": [
      "✅ Loaded BraTS19_TCIA04_111_1: Image torch.Size([3, 224, 224]), Mask torch.Size([224, 224])\n",
      "✅ Loaded BraTS19_TCIA02_331_1: Image torch.Size([3, 224, 224]), Mask torch.Size([224, 224])\n"
     ]
    },
    {
     "name": "stderr",
     "output_type": "stream",
     "text": [
      "Epoch [8/15]:  70%|███████   | 73/104 [00:44<00:19,  1.62it/s, Loss=0.248]"
     ]
    },
    {
     "name": "stdout",
     "output_type": "stream",
     "text": [
      "✅ Loaded BraTS19_CBICA_AQV_1: Image torch.Size([3, 224, 224]), Mask torch.Size([224, 224])\n",
      "✅ Loaded BraTS19_TCIA01_147_1: Image torch.Size([3, 224, 224]), Mask torch.Size([224, 224])\n"
     ]
    },
    {
     "name": "stderr",
     "output_type": "stream",
     "text": [
      "Epoch [8/15]:  71%|███████   | 74/104 [00:45<00:18,  1.61it/s, Loss=0.191]"
     ]
    },
    {
     "name": "stdout",
     "output_type": "stream",
     "text": [
      "✅ Loaded BraTS19_CBICA_ASK_1: Image torch.Size([3, 224, 224]), Mask torch.Size([224, 224])\n",
      "✅ Loaded BraTS19_TCIA04_343_1: Image torch.Size([3, 224, 224]), Mask torch.Size([224, 224])\n"
     ]
    },
    {
     "name": "stderr",
     "output_type": "stream",
     "text": [
      "Epoch [8/15]:  72%|███████▏  | 75/104 [00:45<00:17,  1.65it/s, Loss=0.342]"
     ]
    },
    {
     "name": "stdout",
     "output_type": "stream",
     "text": [
      "✅ Loaded BraTS19_TCIA04_192_1: Image torch.Size([3, 224, 224]), Mask torch.Size([224, 224])\n",
      "✅ Loaded BraTS19_TCIA01_131_1: Image torch.Size([3, 224, 224]), Mask torch.Size([224, 224])\n"
     ]
    },
    {
     "name": "stderr",
     "output_type": "stream",
     "text": [
      "Epoch [8/15]:  73%|███████▎  | 76/104 [00:46<00:17,  1.63it/s, Loss=0.563]"
     ]
    },
    {
     "name": "stdout",
     "output_type": "stream",
     "text": [
      "✅ Loaded BraTS19_CBICA_ATX_1: Image torch.Size([3, 224, 224]), Mask torch.Size([224, 224])\n",
      "✅ Loaded BraTS19_CBICA_BHV_1: Image torch.Size([3, 224, 224]), Mask torch.Size([224, 224])\n"
     ]
    },
    {
     "name": "stderr",
     "output_type": "stream",
     "text": [
      "Epoch [8/15]:  74%|███████▍  | 77/104 [00:46<00:16,  1.62it/s, Loss=0.304]"
     ]
    },
    {
     "name": "stdout",
     "output_type": "stream",
     "text": [
      "✅ Loaded BraTS19_TCIA06_184_1: Image torch.Size([3, 224, 224]), Mask torch.Size([224, 224])\n",
      "✅ Loaded BraTS19_CBICA_AMH_1: Image torch.Size([3, 224, 224]), Mask torch.Size([224, 224])\n"
     ]
    },
    {
     "name": "stderr",
     "output_type": "stream",
     "text": [
      "Epoch [8/15]:  75%|███████▌  | 78/104 [00:47<00:16,  1.62it/s, Loss=0.354]"
     ]
    },
    {
     "name": "stdout",
     "output_type": "stream",
     "text": [
      "✅ Loaded BraTS19_TCIA08_234_1: Image torch.Size([3, 224, 224]), Mask torch.Size([224, 224])\n",
      "✅ Loaded BraTS19_TCIA01_425_1: Image torch.Size([3, 224, 224]), Mask torch.Size([224, 224])\n"
     ]
    },
    {
     "name": "stderr",
     "output_type": "stream",
     "text": [
      "Epoch [8/15]:  76%|███████▌  | 79/104 [00:48<00:15,  1.62it/s, Loss=0.269]"
     ]
    },
    {
     "name": "stdout",
     "output_type": "stream",
     "text": [
      "✅ Loaded BraTS19_TCIA01_201_1: Image torch.Size([3, 224, 224]), Mask torch.Size([224, 224])\n",
      "✅ Loaded BraTS19_2013_25_1: Image torch.Size([3, 224, 224]), Mask torch.Size([224, 224])\n"
     ]
    },
    {
     "name": "stderr",
     "output_type": "stream",
     "text": [
      "Epoch [8/15]:  77%|███████▋  | 80/104 [00:48<00:14,  1.65it/s, Loss=0.335]"
     ]
    },
    {
     "name": "stdout",
     "output_type": "stream",
     "text": [
      "✅ Loaded BraTS19_CBICA_AAL_1: Image torch.Size([3, 224, 224]), Mask torch.Size([224, 224])\n",
      "✅ Loaded BraTS19_TCIA04_149_1: Image torch.Size([3, 224, 224]), Mask torch.Size([224, 224])\n"
     ]
    },
    {
     "name": "stderr",
     "output_type": "stream",
     "text": [
      "Epoch [8/15]:  78%|███████▊  | 81/104 [00:49<00:13,  1.68it/s, Loss=0.454]"
     ]
    },
    {
     "name": "stdout",
     "output_type": "stream",
     "text": [
      "✅ Loaded BraTS19_TCIA06_332_1: Image torch.Size([3, 224, 224]), Mask torch.Size([224, 224])\n",
      "✅ Loaded BraTS19_TCIA02_171_1: Image torch.Size([3, 224, 224]), Mask torch.Size([224, 224])\n"
     ]
    },
    {
     "name": "stderr",
     "output_type": "stream",
     "text": [
      "Epoch [8/15]:  79%|███████▉  | 82/104 [00:49<00:13,  1.68it/s, Loss=0.571]"
     ]
    },
    {
     "name": "stdout",
     "output_type": "stream",
     "text": [
      "✅ Loaded BraTS19_CBICA_ASN_1: Image torch.Size([3, 224, 224]), Mask torch.Size([224, 224])\n",
      "✅ Loaded BraTS19_CBICA_ASA_1: Image torch.Size([3, 224, 224]), Mask torch.Size([224, 224])\n"
     ]
    },
    {
     "name": "stderr",
     "output_type": "stream",
     "text": [
      "Epoch [8/15]:  80%|███████▉  | 83/104 [00:50<00:12,  1.66it/s, Loss=0.451]"
     ]
    },
    {
     "name": "stdout",
     "output_type": "stream",
     "text": [
      "✅ Loaded BraTS19_TCIA02_607_1: Image torch.Size([3, 224, 224]), Mask torch.Size([224, 224])\n",
      "✅ Loaded BraTS19_CBICA_AQA_1: Image torch.Size([3, 224, 224]), Mask torch.Size([224, 224])\n"
     ]
    },
    {
     "name": "stderr",
     "output_type": "stream",
     "text": [
      "Epoch [8/15]:  81%|████████  | 84/104 [00:51<00:12,  1.66it/s, Loss=0.376]"
     ]
    },
    {
     "name": "stdout",
     "output_type": "stream",
     "text": [
      "✅ Loaded BraTS19_2013_18_1: Image torch.Size([3, 224, 224]), Mask torch.Size([224, 224])\n",
      "✅ Loaded BraTS19_TCIA02_377_1: Image torch.Size([3, 224, 224]), Mask torch.Size([224, 224])\n"
     ]
    },
    {
     "name": "stderr",
     "output_type": "stream",
     "text": [
      "Epoch [8/15]:  82%|████████▏ | 85/104 [00:51<00:11,  1.67it/s, Loss=0.312]"
     ]
    },
    {
     "name": "stdout",
     "output_type": "stream",
     "text": [
      "✅ Loaded BraTS19_2013_26_1: Image torch.Size([3, 224, 224]), Mask torch.Size([224, 224])\n",
      "✅ Loaded BraTS19_CBICA_AYA_1: Image torch.Size([3, 224, 224]), Mask torch.Size([224, 224])\n"
     ]
    },
    {
     "name": "stderr",
     "output_type": "stream",
     "text": [
      "Epoch [8/15]:  83%|████████▎ | 86/104 [00:52<00:10,  1.66it/s, Loss=0.584]"
     ]
    },
    {
     "name": "stdout",
     "output_type": "stream",
     "text": [
      "✅ Loaded BraTS19_TCIA02_222_1: Image torch.Size([3, 224, 224]), Mask torch.Size([224, 224])\n",
      "✅ Loaded BraTS19_CBICA_ANP_1: Image torch.Size([3, 224, 224]), Mask torch.Size([224, 224])\n"
     ]
    },
    {
     "name": "stderr",
     "output_type": "stream",
     "text": [
      "Epoch [8/15]:  84%|████████▎ | 87/104 [00:52<00:10,  1.61it/s, Loss=0.274]"
     ]
    },
    {
     "name": "stdout",
     "output_type": "stream",
     "text": [
      "✅ Loaded BraTS19_TCIA03_498_1: Image torch.Size([3, 224, 224]), Mask torch.Size([224, 224])\n",
      "✅ Loaded BraTS19_TCIA03_199_1: Image torch.Size([3, 224, 224]), Mask torch.Size([224, 224])\n"
     ]
    },
    {
     "name": "stderr",
     "output_type": "stream",
     "text": [
      "Epoch [8/15]:  85%|████████▍ | 88/104 [00:53<00:09,  1.60it/s, Loss=0.438]"
     ]
    },
    {
     "name": "stdout",
     "output_type": "stream",
     "text": [
      "✅ Loaded BraTS19_2013_27_1: Image torch.Size([3, 224, 224]), Mask torch.Size([224, 224])\n",
      "✅ Loaded BraTS19_2013_3_1: Image torch.Size([3, 224, 224]), Mask torch.Size([224, 224])\n"
     ]
    },
    {
     "name": "stderr",
     "output_type": "stream",
     "text": [
      "Epoch [8/15]:  86%|████████▌ | 89/104 [00:54<00:09,  1.63it/s, Loss=0.466]"
     ]
    },
    {
     "name": "stdout",
     "output_type": "stream",
     "text": [
      "✅ Loaded BraTS19_CBICA_APZ_1: Image torch.Size([3, 224, 224]), Mask torch.Size([224, 224])\n",
      "✅ Loaded BraTS19_TCIA08_280_1: Image torch.Size([3, 224, 224]), Mask torch.Size([224, 224])\n"
     ]
    },
    {
     "name": "stderr",
     "output_type": "stream",
     "text": [
      "Epoch [8/15]:  87%|████████▋ | 90/104 [00:54<00:08,  1.66it/s, Loss=0.25] "
     ]
    },
    {
     "name": "stdout",
     "output_type": "stream",
     "text": [
      "✅ Loaded BraTS19_CBICA_ALU_1: Image torch.Size([3, 224, 224]), Mask torch.Size([224, 224])\n",
      "✅ Loaded BraTS19_CBICA_AXJ_1: Image torch.Size([3, 224, 224]), Mask torch.Size([224, 224])\n"
     ]
    },
    {
     "name": "stderr",
     "output_type": "stream",
     "text": [
      "Epoch [8/15]:  88%|████████▊ | 91/104 [00:55<00:07,  1.66it/s, Loss=0.337]"
     ]
    },
    {
     "name": "stdout",
     "output_type": "stream",
     "text": [
      "✅ Loaded BraTS19_CBICA_AXQ_1: Image torch.Size([3, 224, 224]), Mask torch.Size([224, 224])\n",
      "✅ Loaded BraTS19_TCIA02_394_1: Image torch.Size([3, 224, 224]), Mask torch.Size([224, 224])\n"
     ]
    },
    {
     "name": "stderr",
     "output_type": "stream",
     "text": [
      "Epoch [8/15]:  88%|████████▊ | 92/104 [00:55<00:07,  1.66it/s, Loss=0.552]"
     ]
    },
    {
     "name": "stdout",
     "output_type": "stream",
     "text": [
      "✅ Loaded BraTS19_CBICA_BAN_1: Image torch.Size([3, 224, 224]), Mask torch.Size([224, 224])\n",
      "✅ Loaded BraTS19_TCIA03_296_1: Image torch.Size([3, 224, 224]), Mask torch.Size([224, 224])\n"
     ]
    },
    {
     "name": "stderr",
     "output_type": "stream",
     "text": [
      "Epoch [8/15]:  89%|████████▉ | 93/104 [00:56<00:06,  1.64it/s, Loss=0.338]"
     ]
    },
    {
     "name": "stdout",
     "output_type": "stream",
     "text": [
      "✅ Loaded BraTS19_CBICA_AYU_1: Image torch.Size([3, 224, 224]), Mask torch.Size([224, 224])\n",
      "✅ Loaded BraTS19_TCIA04_361_1: Image torch.Size([3, 224, 224]), Mask torch.Size([224, 224])\n"
     ]
    },
    {
     "name": "stderr",
     "output_type": "stream",
     "text": [
      "Epoch [8/15]:  90%|█████████ | 94/104 [00:57<00:06,  1.62it/s, Loss=0.348]"
     ]
    },
    {
     "name": "stdout",
     "output_type": "stream",
     "text": [
      "✅ Loaded BraTS19_CBICA_ATB_1: Image torch.Size([3, 224, 224]), Mask torch.Size([224, 224])\n",
      "✅ Loaded BraTS19_CBICA_AQR_1: Image torch.Size([3, 224, 224]), Mask torch.Size([224, 224])\n"
     ]
    },
    {
     "name": "stderr",
     "output_type": "stream",
     "text": [
      "Epoch [8/15]:  91%|█████████▏| 95/104 [00:57<00:05,  1.63it/s, Loss=0.399]"
     ]
    },
    {
     "name": "stdout",
     "output_type": "stream",
     "text": [
      "✅ Loaded BraTS19_CBICA_BJY_1: Image torch.Size([3, 224, 224]), Mask torch.Size([224, 224])\n",
      "✅ Loaded BraTS19_CBICA_AXO_1: Image torch.Size([3, 224, 224]), Mask torch.Size([224, 224])\n"
     ]
    },
    {
     "name": "stderr",
     "output_type": "stream",
     "text": [
      "Epoch [8/15]:  92%|█████████▏| 96/104 [00:58<00:04,  1.63it/s, Loss=0.384]"
     ]
    },
    {
     "name": "stdout",
     "output_type": "stream",
     "text": [
      "✅ Loaded BraTS19_CBICA_AOZ_1: Image torch.Size([3, 224, 224]), Mask torch.Size([224, 224])\n",
      "✅ Loaded BraTS19_TCIA03_474_1: Image torch.Size([3, 224, 224]), Mask torch.Size([224, 224])\n"
     ]
    },
    {
     "name": "stderr",
     "output_type": "stream",
     "text": [
      "Epoch [8/15]:  93%|█████████▎| 97/104 [00:59<00:04,  1.64it/s, Loss=0.265]"
     ]
    },
    {
     "name": "stdout",
     "output_type": "stream",
     "text": [
      "✅ Loaded BraTS19_CBICA_ASU_1: Image torch.Size([3, 224, 224]), Mask torch.Size([224, 224])\n",
      "✅ Loaded BraTS19_TCIA03_419_1: Image torch.Size([3, 224, 224]), Mask torch.Size([224, 224])\n"
     ]
    },
    {
     "name": "stderr",
     "output_type": "stream",
     "text": [
      "Epoch [8/15]:  94%|█████████▍| 98/104 [00:59<00:03,  1.65it/s, Loss=0.202]"
     ]
    },
    {
     "name": "stdout",
     "output_type": "stream",
     "text": [
      "✅ Loaded BraTS19_CBICA_ARF_1: Image torch.Size([3, 224, 224]), Mask torch.Size([224, 224])\n",
      "✅ Loaded BraTS19_CBICA_ALN_1: Image torch.Size([3, 224, 224]), Mask torch.Size([224, 224])\n"
     ]
    },
    {
     "name": "stderr",
     "output_type": "stream",
     "text": [
      "Epoch [8/15]:  95%|█████████▌| 99/104 [01:00<00:02,  1.67it/s, Loss=0.266]"
     ]
    },
    {
     "name": "stdout",
     "output_type": "stream",
     "text": [
      "✅ Loaded BraTS19_CBICA_AVT_1: Image torch.Size([3, 224, 224]), Mask torch.Size([224, 224])\n",
      "✅ Loaded BraTS19_TCIA02_473_1: Image torch.Size([3, 224, 224]), Mask torch.Size([224, 224])\n"
     ]
    },
    {
     "name": "stderr",
     "output_type": "stream",
     "text": [
      "Epoch [8/15]:  96%|█████████▌| 100/104 [01:00<00:02,  1.68it/s, Loss=0.257]"
     ]
    },
    {
     "name": "stdout",
     "output_type": "stream",
     "text": [
      "✅ Loaded BraTS19_TCIA01_235_1: Image torch.Size([3, 224, 224]), Mask torch.Size([224, 224])\n",
      "✅ Loaded BraTS19_2013_7_1: Image torch.Size([3, 224, 224]), Mask torch.Size([224, 224])\n"
     ]
    },
    {
     "name": "stderr",
     "output_type": "stream",
     "text": [
      "Epoch [8/15]:  97%|█████████▋| 101/104 [01:01<00:01,  1.66it/s, Loss=0.562]"
     ]
    },
    {
     "name": "stdout",
     "output_type": "stream",
     "text": [
      "✅ Loaded BraTS19_TCIA04_328_1: Image torch.Size([3, 224, 224]), Mask torch.Size([224, 224])\n",
      "✅ Loaded BraTS19_CBICA_AUR_1: Image torch.Size([3, 224, 224]), Mask torch.Size([224, 224])\n"
     ]
    },
    {
     "name": "stderr",
     "output_type": "stream",
     "text": [
      "Epoch [8/15]:  98%|█████████▊| 102/104 [01:02<00:01,  1.65it/s, Loss=0.464]"
     ]
    },
    {
     "name": "stdout",
     "output_type": "stream",
     "text": [
      "✅ Loaded BraTS19_TCIA01_335_1: Image torch.Size([3, 224, 224]), Mask torch.Size([224, 224])\n",
      "✅ Loaded BraTS19_CBICA_BLJ_1: Image torch.Size([3, 224, 224]), Mask torch.Size([224, 224])\n"
     ]
    },
    {
     "name": "stderr",
     "output_type": "stream",
     "text": [
      "Epoch [8/15]:  99%|█████████▉| 103/104 [01:02<00:00,  1.63it/s, Loss=0.229]"
     ]
    },
    {
     "name": "stdout",
     "output_type": "stream",
     "text": [
      "✅ Loaded BraTS19_CBICA_ABB_1: Image torch.Size([3, 224, 224]), Mask torch.Size([224, 224])\n"
     ]
    },
    {
     "name": "stderr",
     "output_type": "stream",
     "text": [
      "                                                                           \r"
     ]
    },
    {
     "name": "stdout",
     "output_type": "stream",
     "text": [
      "\n",
      "✅ Epoch 8: Train Loss: 0.3648\n",
      "⚠️ No improvement for 2 epoch(s)\n"
     ]
    },
    {
     "name": "stderr",
     "output_type": "stream",
     "text": [
      "Epoch [9/15]:   0%|          | 0/104 [00:00<?, ?it/s]"
     ]
    },
    {
     "name": "stdout",
     "output_type": "stream",
     "text": [
      "✅ Loaded BraTS19_TCIA08_105_1: Image torch.Size([3, 224, 224]), Mask torch.Size([224, 224])\n",
      "✅ Loaded BraTS19_TCIA02_607_1: Image torch.Size([3, 224, 224]), Mask torch.Size([224, 224])\n"
     ]
    },
    {
     "name": "stderr",
     "output_type": "stream",
     "text": [
      "Epoch [9/15]:   1%|          | 1/104 [00:00<01:01,  1.67it/s, Loss=0.329]"
     ]
    },
    {
     "name": "stdout",
     "output_type": "stream",
     "text": [
      "✅ Loaded BraTS19_TCIA01_499_1: Image torch.Size([3, 224, 224]), Mask torch.Size([224, 224])\n",
      "✅ Loaded BraTS19_TCIA06_165_1: Image torch.Size([3, 224, 224]), Mask torch.Size([224, 224])\n"
     ]
    },
    {
     "name": "stderr",
     "output_type": "stream",
     "text": [
      "Epoch [9/15]:   2%|▏         | 2/104 [00:01<01:00,  1.70it/s, Loss=0.251]"
     ]
    },
    {
     "name": "stdout",
     "output_type": "stream",
     "text": [
      "✅ Loaded BraTS19_CBICA_BGT_1: Image torch.Size([3, 224, 224]), Mask torch.Size([224, 224])\n",
      "✅ Loaded BraTS19_TCIA03_121_1: Image torch.Size([3, 224, 224]), Mask torch.Size([224, 224])\n"
     ]
    },
    {
     "name": "stderr",
     "output_type": "stream",
     "text": [
      "Epoch [9/15]:   3%|▎         | 3/104 [00:01<01:00,  1.66it/s, Loss=0.37] "
     ]
    },
    {
     "name": "stdout",
     "output_type": "stream",
     "text": [
      "✅ Loaded BraTS19_CBICA_AVT_1: Image torch.Size([3, 224, 224]), Mask torch.Size([224, 224])\n",
      "✅ Loaded BraTS19_CBICA_AXW_1: Image torch.Size([3, 224, 224]), Mask torch.Size([224, 224])\n"
     ]
    },
    {
     "name": "stderr",
     "output_type": "stream",
     "text": [
      "Epoch [9/15]:   4%|▍         | 4/104 [00:02<01:00,  1.65it/s, Loss=0.232]"
     ]
    },
    {
     "name": "stdout",
     "output_type": "stream",
     "text": [
      "✅ Loaded BraTS19_CBICA_AVB_1: Image torch.Size([3, 224, 224]), Mask torch.Size([224, 224])\n",
      "✅ Loaded BraTS19_CBICA_AXL_1: Image torch.Size([3, 224, 224]), Mask torch.Size([224, 224])\n"
     ]
    },
    {
     "name": "stderr",
     "output_type": "stream",
     "text": [
      "Epoch [9/15]:   5%|▍         | 5/104 [00:03<01:00,  1.64it/s, Loss=0.411]"
     ]
    },
    {
     "name": "stdout",
     "output_type": "stream",
     "text": [
      "✅ Loaded BraTS19_TCIA02_368_1: Image torch.Size([3, 224, 224]), Mask torch.Size([224, 224])\n",
      "✅ Loaded BraTS19_TCIA02_283_1: Image torch.Size([3, 224, 224]), Mask torch.Size([224, 224])\n"
     ]
    },
    {
     "name": "stderr",
     "output_type": "stream",
     "text": [
      "Epoch [9/15]:   6%|▌         | 6/104 [00:03<01:00,  1.63it/s, Loss=0.309]"
     ]
    },
    {
     "name": "stdout",
     "output_type": "stream",
     "text": [
      "✅ Loaded BraTS19_CBICA_ABB_1: Image torch.Size([3, 224, 224]), Mask torch.Size([224, 224])\n",
      "✅ Loaded BraTS19_CBICA_AOC_1: Image torch.Size([3, 224, 224]), Mask torch.Size([224, 224])\n"
     ]
    },
    {
     "name": "stderr",
     "output_type": "stream",
     "text": [
      "Epoch [9/15]:   7%|▋         | 7/104 [00:04<01:00,  1.61it/s, Loss=0.257]"
     ]
    },
    {
     "name": "stdout",
     "output_type": "stream",
     "text": [
      "✅ Loaded BraTS19_TCIA01_378_1: Image torch.Size([3, 224, 224]), Mask torch.Size([224, 224])\n",
      "✅ Loaded BraTS19_CBICA_AYC_1: Image torch.Size([3, 224, 224]), Mask torch.Size([224, 224])\n"
     ]
    },
    {
     "name": "stderr",
     "output_type": "stream",
     "text": [
      "Epoch [9/15]:   8%|▊         | 8/104 [00:04<00:59,  1.62it/s, Loss=0.24] "
     ]
    },
    {
     "name": "stdout",
     "output_type": "stream",
     "text": [
      "✅ Loaded BraTS19_TCIA02_179_1: Image torch.Size([3, 224, 224]), Mask torch.Size([224, 224])\n",
      "✅ Loaded BraTS19_TCIA01_335_1: Image torch.Size([3, 224, 224]), Mask torch.Size([224, 224])\n"
     ]
    },
    {
     "name": "stderr",
     "output_type": "stream",
     "text": [
      "Epoch [9/15]:   9%|▊         | 9/104 [00:05<00:57,  1.66it/s, Loss=0.222]"
     ]
    },
    {
     "name": "stdout",
     "output_type": "stream",
     "text": [
      "✅ Loaded BraTS19_TCIA01_390_1: Image torch.Size([3, 224, 224]), Mask torch.Size([224, 224])\n",
      "✅ Loaded BraTS19_CBICA_AXO_1: Image torch.Size([3, 224, 224]), Mask torch.Size([224, 224])\n"
     ]
    },
    {
     "name": "stderr",
     "output_type": "stream",
     "text": [
      "Epoch [9/15]:  10%|▉         | 10/104 [00:06<00:57,  1.64it/s, Loss=0.382]"
     ]
    },
    {
     "name": "stdout",
     "output_type": "stream",
     "text": [
      "✅ Loaded BraTS19_CBICA_BGG_1: Image torch.Size([3, 224, 224]), Mask torch.Size([224, 224])\n",
      "✅ Loaded BraTS19_2013_20_1: Image torch.Size([3, 224, 224]), Mask torch.Size([224, 224])\n"
     ]
    },
    {
     "name": "stderr",
     "output_type": "stream",
     "text": [
      "Epoch [9/15]:  11%|█         | 11/104 [00:06<00:57,  1.62it/s, Loss=0.292]"
     ]
    },
    {
     "name": "stdout",
     "output_type": "stream",
     "text": [
      "✅ Loaded BraTS19_2013_13_1: Image torch.Size([3, 224, 224]), Mask torch.Size([224, 224])\n",
      "✅ Loaded BraTS19_CBICA_BCF_1: Image torch.Size([3, 224, 224]), Mask torch.Size([224, 224])\n"
     ]
    },
    {
     "name": "stderr",
     "output_type": "stream",
     "text": [
      "Epoch [9/15]:  12%|█▏        | 12/104 [00:07<00:57,  1.60it/s, Loss=0.549]"
     ]
    },
    {
     "name": "stdout",
     "output_type": "stream",
     "text": [
      "✅ Loaded BraTS19_TMC_30014_1: Image torch.Size([3, 224, 224]), Mask torch.Size([224, 224])\n",
      "✅ Loaded BraTS19_CBICA_AUQ_1: Image torch.Size([3, 224, 224]), Mask torch.Size([224, 224])\n"
     ]
    },
    {
     "name": "stderr",
     "output_type": "stream",
     "text": [
      "Epoch [9/15]:  12%|█▎        | 13/104 [00:07<00:56,  1.60it/s, Loss=0.341]"
     ]
    },
    {
     "name": "stdout",
     "output_type": "stream",
     "text": [
      "✅ Loaded BraTS19_CBICA_ARZ_1: Image torch.Size([3, 224, 224]), Mask torch.Size([224, 224])\n",
      "✅ Loaded BraTS19_TCIA01_429_1: Image torch.Size([3, 224, 224]), Mask torch.Size([224, 224])\n"
     ]
    },
    {
     "name": "stderr",
     "output_type": "stream",
     "text": [
      "Epoch [9/15]:  13%|█▎        | 14/104 [00:08<00:56,  1.60it/s, Loss=0.198]"
     ]
    },
    {
     "name": "stdout",
     "output_type": "stream",
     "text": [
      "✅ Loaded BraTS19_TMC_21360_1: Image torch.Size([3, 224, 224]), Mask torch.Size([224, 224])\n",
      "✅ Loaded BraTS19_TCIA08_406_1: Image torch.Size([3, 224, 224]), Mask torch.Size([224, 224])\n"
     ]
    },
    {
     "name": "stderr",
     "output_type": "stream",
     "text": [
      "Epoch [9/15]:  14%|█▍        | 15/104 [00:09<00:54,  1.63it/s, Loss=0.231]"
     ]
    },
    {
     "name": "stdout",
     "output_type": "stream",
     "text": [
      "✅ Loaded BraTS19_CBICA_BHQ_1: Image torch.Size([3, 224, 224]), Mask torch.Size([224, 224])\n",
      "✅ Loaded BraTS19_CBICA_AXQ_1: Image torch.Size([3, 224, 224]), Mask torch.Size([224, 224])\n"
     ]
    },
    {
     "name": "stderr",
     "output_type": "stream",
     "text": [
      "Epoch [9/15]:  15%|█▌        | 16/104 [00:09<00:52,  1.66it/s, Loss=0.563]"
     ]
    },
    {
     "name": "stdout",
     "output_type": "stream",
     "text": [
      "✅ Loaded BraTS19_CBICA_AQU_1: Image torch.Size([3, 224, 224]), Mask torch.Size([224, 224])\n",
      "✅ Loaded BraTS19_2013_26_1: Image torch.Size([3, 224, 224]), Mask torch.Size([224, 224])\n"
     ]
    },
    {
     "name": "stderr",
     "output_type": "stream",
     "text": [
      "Epoch [9/15]:  16%|█▋        | 17/104 [00:10<00:52,  1.66it/s, Loss=0.4]  "
     ]
    },
    {
     "name": "stdout",
     "output_type": "stream",
     "text": [
      "✅ Loaded BraTS19_TCIA08_205_1: Image torch.Size([3, 224, 224]), Mask torch.Size([224, 224])\n",
      "✅ Loaded BraTS19_2013_11_1: Image torch.Size([3, 224, 224]), Mask torch.Size([224, 224])\n"
     ]
    },
    {
     "name": "stderr",
     "output_type": "stream",
     "text": [
      "Epoch [9/15]:  17%|█▋        | 18/104 [00:10<00:51,  1.66it/s, Loss=0.517]"
     ]
    },
    {
     "name": "stdout",
     "output_type": "stream",
     "text": [
      "✅ Loaded BraTS19_TCIA05_396_1: Image torch.Size([3, 224, 224]), Mask torch.Size([224, 224])\n",
      "✅ Loaded BraTS19_TCIA08_113_1: Image torch.Size([3, 224, 224]), Mask torch.Size([224, 224])\n"
     ]
    },
    {
     "name": "stderr",
     "output_type": "stream",
     "text": [
      "Epoch [9/15]:  18%|█▊        | 19/104 [00:11<00:50,  1.68it/s, Loss=0.269]"
     ]
    },
    {
     "name": "stdout",
     "output_type": "stream",
     "text": [
      "✅ Loaded BraTS19_CBICA_ATP_1: Image torch.Size([3, 224, 224]), Mask torch.Size([224, 224])\n",
      "✅ Loaded BraTS19_TCIA02_430_1: Image torch.Size([3, 224, 224]), Mask torch.Size([224, 224])\n"
     ]
    },
    {
     "name": "stderr",
     "output_type": "stream",
     "text": [
      "Epoch [9/15]:  19%|█▉        | 20/104 [00:12<00:50,  1.66it/s, Loss=0.264]"
     ]
    },
    {
     "name": "stdout",
     "output_type": "stream",
     "text": [
      "✅ Loaded BraTS19_CBICA_AXJ_1: Image torch.Size([3, 224, 224]), Mask torch.Size([224, 224])\n",
      "✅ Loaded BraTS19_TCIA02_331_1: Image torch.Size([3, 224, 224]), Mask torch.Size([224, 224])\n"
     ]
    },
    {
     "name": "stderr",
     "output_type": "stream",
     "text": [
      "Epoch [9/15]:  20%|██        | 21/104 [00:12<00:50,  1.66it/s, Loss=0.254]"
     ]
    },
    {
     "name": "stdout",
     "output_type": "stream",
     "text": [
      "✅ Loaded BraTS19_CBICA_AWI_1: Image torch.Size([3, 224, 224]), Mask torch.Size([224, 224])\n",
      "✅ Loaded BraTS19_2013_19_1: Image torch.Size([3, 224, 224]), Mask torch.Size([224, 224])\n"
     ]
    },
    {
     "name": "stderr",
     "output_type": "stream",
     "text": [
      "Epoch [9/15]:  21%|██        | 22/104 [00:13<00:49,  1.65it/s, Loss=0.271]"
     ]
    },
    {
     "name": "stdout",
     "output_type": "stream",
     "text": [
      "✅ Loaded BraTS19_TCIA02_314_1: Image torch.Size([3, 224, 224]), Mask torch.Size([224, 224])\n",
      "✅ Loaded BraTS19_TCIA01_411_1: Image torch.Size([3, 224, 224]), Mask torch.Size([224, 224])\n"
     ]
    },
    {
     "name": "stderr",
     "output_type": "stream",
     "text": [
      "Epoch [9/15]:  22%|██▏       | 23/104 [00:13<00:48,  1.67it/s, Loss=0.306]"
     ]
    },
    {
     "name": "stdout",
     "output_type": "stream",
     "text": [
      "✅ Loaded BraTS19_CBICA_BBG_1: Image torch.Size([3, 224, 224]), Mask torch.Size([224, 224])\n",
      "✅ Loaded BraTS19_CBICA_AOS_1: Image torch.Size([3, 224, 224]), Mask torch.Size([224, 224])\n"
     ]
    },
    {
     "name": "stderr",
     "output_type": "stream",
     "text": [
      "Epoch [9/15]:  23%|██▎       | 24/104 [00:14<00:47,  1.67it/s, Loss=0.25] "
     ]
    },
    {
     "name": "stdout",
     "output_type": "stream",
     "text": [
      "✅ Loaded BraTS19_CBICA_AAB_1: Image torch.Size([3, 224, 224]), Mask torch.Size([224, 224])\n",
      "✅ Loaded BraTS19_CBICA_ARF_1: Image torch.Size([3, 224, 224]), Mask torch.Size([224, 224])\n"
     ]
    },
    {
     "name": "stderr",
     "output_type": "stream",
     "text": [
      "Epoch [9/15]:  24%|██▍       | 25/104 [00:15<00:46,  1.68it/s, Loss=0.223]"
     ]
    },
    {
     "name": "stdout",
     "output_type": "stream",
     "text": [
      "✅ Loaded BraTS19_TCIA01_221_1: Image torch.Size([3, 224, 224]), Mask torch.Size([224, 224])\n",
      "✅ Loaded BraTS19_TCIA03_199_1: Image torch.Size([3, 224, 224]), Mask torch.Size([224, 224])\n"
     ]
    },
    {
     "name": "stderr",
     "output_type": "stream",
     "text": [
      "Epoch [9/15]:  25%|██▌       | 26/104 [00:15<00:45,  1.71it/s, Loss=0.239]"
     ]
    },
    {
     "name": "stdout",
     "output_type": "stream",
     "text": [
      "✅ Loaded BraTS19_CBICA_ASN_1: Image torch.Size([3, 224, 224]), Mask torch.Size([224, 224])\n",
      "✅ Loaded BraTS19_CBICA_ATV_1: Image torch.Size([3, 224, 224]), Mask torch.Size([224, 224])\n"
     ]
    },
    {
     "name": "stderr",
     "output_type": "stream",
     "text": [
      "Epoch [9/15]:  26%|██▌       | 27/104 [00:16<00:45,  1.69it/s, Loss=0.396]"
     ]
    },
    {
     "name": "stdout",
     "output_type": "stream",
     "text": [
      "✅ Loaded BraTS19_CBICA_BAX_1: Image torch.Size([3, 224, 224]), Mask torch.Size([224, 224])\n",
      "✅ Loaded BraTS19_TCIA01_180_1: Image torch.Size([3, 224, 224]), Mask torch.Size([224, 224])\n"
     ]
    },
    {
     "name": "stderr",
     "output_type": "stream",
     "text": [
      "Epoch [9/15]:  27%|██▋       | 28/104 [00:16<00:45,  1.69it/s, Loss=0.344]"
     ]
    },
    {
     "name": "stdout",
     "output_type": "stream",
     "text": [
      "✅ Loaded BraTS19_TCIA06_211_1: Image torch.Size([3, 224, 224]), Mask torch.Size([224, 224])\n",
      "✅ Loaded BraTS19_CBICA_AUR_1: Image torch.Size([3, 224, 224]), Mask torch.Size([224, 224])\n"
     ]
    },
    {
     "name": "stderr",
     "output_type": "stream",
     "text": [
      "Epoch [9/15]:  28%|██▊       | 29/104 [00:17<00:44,  1.69it/s, Loss=0.399]"
     ]
    },
    {
     "name": "stdout",
     "output_type": "stream",
     "text": [
      "✅ Loaded BraTS19_TCIA08_234_1: Image torch.Size([3, 224, 224]), Mask torch.Size([224, 224])\n",
      "✅ Loaded BraTS19_CBICA_BHV_1: Image torch.Size([3, 224, 224]), Mask torch.Size([224, 224])\n"
     ]
    },
    {
     "name": "stderr",
     "output_type": "stream",
     "text": [
      "Epoch [9/15]:  29%|██▉       | 30/104 [00:18<00:44,  1.68it/s, Loss=0.243]"
     ]
    },
    {
     "name": "stdout",
     "output_type": "stream",
     "text": [
      "✅ Loaded BraTS19_TCIA02_473_1: Image torch.Size([3, 224, 224]), Mask torch.Size([224, 224])\n",
      "✅ Loaded BraTS19_TCIA02_374_1: Image torch.Size([3, 224, 224]), Mask torch.Size([224, 224])\n"
     ]
    },
    {
     "name": "stderr",
     "output_type": "stream",
     "text": [
      "Epoch [9/15]:  30%|██▉       | 31/104 [00:18<00:43,  1.67it/s, Loss=0.295]"
     ]
    },
    {
     "name": "stdout",
     "output_type": "stream",
     "text": [
      "✅ Loaded BraTS19_CBICA_BGE_1: Image torch.Size([3, 224, 224]), Mask torch.Size([224, 224])\n",
      "✅ Loaded BraTS19_2013_3_1: Image torch.Size([3, 224, 224]), Mask torch.Size([224, 224])\n"
     ]
    },
    {
     "name": "stderr",
     "output_type": "stream",
     "text": [
      "Epoch [9/15]:  31%|███       | 32/104 [00:19<00:43,  1.66it/s, Loss=0.458]"
     ]
    },
    {
     "name": "stdout",
     "output_type": "stream",
     "text": [
      "✅ Loaded BraTS19_CBICA_ABY_1: Image torch.Size([3, 224, 224]), Mask torch.Size([224, 224])\n",
      "✅ Loaded BraTS19_TCIA02_321_1: Image torch.Size([3, 224, 224]), Mask torch.Size([224, 224])\n"
     ]
    },
    {
     "name": "stderr",
     "output_type": "stream",
     "text": [
      "Epoch [9/15]:  32%|███▏      | 33/104 [00:19<00:43,  1.64it/s, Loss=0.306]"
     ]
    },
    {
     "name": "stdout",
     "output_type": "stream",
     "text": [
      "✅ Loaded BraTS19_TCIA04_192_1: Image torch.Size([3, 224, 224]), Mask torch.Size([224, 224])\n",
      "✅ Loaded BraTS19_CBICA_BAN_1: Image torch.Size([3, 224, 224]), Mask torch.Size([224, 224])\n"
     ]
    },
    {
     "name": "stderr",
     "output_type": "stream",
     "text": [
      "Epoch [9/15]:  33%|███▎      | 34/104 [00:20<00:42,  1.64it/s, Loss=0.306]"
     ]
    },
    {
     "name": "stdout",
     "output_type": "stream",
     "text": [
      "✅ Loaded BraTS19_CBICA_AYI_1: Image torch.Size([3, 224, 224]), Mask torch.Size([224, 224])\n",
      "✅ Loaded BraTS19_TMC_15477_1: Image torch.Size([3, 224, 224]), Mask torch.Size([224, 224])\n"
     ]
    },
    {
     "name": "stderr",
     "output_type": "stream",
     "text": [
      "Epoch [9/15]:  34%|███▎      | 35/104 [00:21<00:42,  1.64it/s, Loss=0.76] "
     ]
    },
    {
     "name": "stdout",
     "output_type": "stream",
     "text": [
      "✅ Loaded BraTS19_TCIA01_190_1: Image torch.Size([3, 224, 224]), Mask torch.Size([224, 224])\n",
      "✅ Loaded BraTS19_CBICA_AUN_1: Image torch.Size([3, 224, 224]), Mask torch.Size([224, 224])\n"
     ]
    },
    {
     "name": "stderr",
     "output_type": "stream",
     "text": [
      "Epoch [9/15]:  35%|███▍      | 36/104 [00:21<00:41,  1.64it/s, Loss=0.34]"
     ]
    },
    {
     "name": "stdout",
     "output_type": "stream",
     "text": [
      "✅ Loaded BraTS19_CBICA_AAG_1: Image torch.Size([3, 224, 224]), Mask torch.Size([224, 224])\n",
      "✅ Loaded BraTS19_TCIA02_322_1: Image torch.Size([3, 224, 224]), Mask torch.Size([224, 224])\n"
     ]
    },
    {
     "name": "stderr",
     "output_type": "stream",
     "text": [
      "Epoch [9/15]:  36%|███▌      | 37/104 [00:22<00:40,  1.65it/s, Loss=0.571]"
     ]
    },
    {
     "name": "stdout",
     "output_type": "stream",
     "text": [
      "✅ Loaded BraTS19_2013_27_1: Image torch.Size([3, 224, 224]), Mask torch.Size([224, 224])\n",
      "✅ Loaded BraTS19_CBICA_AYW_1: Image torch.Size([3, 224, 224]), Mask torch.Size([224, 224])\n"
     ]
    },
    {
     "name": "stderr",
     "output_type": "stream",
     "text": [
      "Epoch [9/15]:  37%|███▋      | 38/104 [00:22<00:39,  1.67it/s, Loss=0.548]"
     ]
    },
    {
     "name": "stdout",
     "output_type": "stream",
     "text": [
      "✅ Loaded BraTS19_2013_4_1: Image torch.Size([3, 224, 224]), Mask torch.Size([224, 224])\n",
      "✅ Loaded BraTS19_TCIA01_425_1: Image torch.Size([3, 224, 224]), Mask torch.Size([224, 224])\n"
     ]
    },
    {
     "name": "stderr",
     "output_type": "stream",
     "text": [
      "Epoch [9/15]:  38%|███▊      | 39/104 [00:23<00:39,  1.64it/s, Loss=0.576]"
     ]
    },
    {
     "name": "stdout",
     "output_type": "stream",
     "text": [
      "✅ Loaded BraTS19_TCIA02_394_1: Image torch.Size([3, 224, 224]), Mask torch.Size([224, 224])\n",
      "✅ Loaded BraTS19_TCIA01_460_1: Image torch.Size([3, 224, 224]), Mask torch.Size([224, 224])\n"
     ]
    },
    {
     "name": "stderr",
     "output_type": "stream",
     "text": [
      "Epoch [9/15]:  38%|███▊      | 40/104 [00:24<00:38,  1.65it/s, Loss=0.309]"
     ]
    },
    {
     "name": "stdout",
     "output_type": "stream",
     "text": [
      "✅ Loaded BraTS19_CBICA_AQJ_1: Image torch.Size([3, 224, 224]), Mask torch.Size([224, 224])\n",
      "✅ Loaded BraTS19_CBICA_AQN_1: Image torch.Size([3, 224, 224]), Mask torch.Size([224, 224])\n"
     ]
    },
    {
     "name": "stderr",
     "output_type": "stream",
     "text": [
      "Epoch [9/15]:  39%|███▉      | 41/104 [00:24<00:37,  1.67it/s, Loss=0.299]"
     ]
    },
    {
     "name": "stdout",
     "output_type": "stream",
     "text": [
      "✅ Loaded BraTS19_TCIA02_274_1: Image torch.Size([3, 224, 224]), Mask torch.Size([224, 224])\n",
      "✅ Loaded BraTS19_TCIA02_117_1: Image torch.Size([3, 224, 224]), Mask torch.Size([224, 224])\n"
     ]
    },
    {
     "name": "stderr",
     "output_type": "stream",
     "text": [
      "Epoch [9/15]:  40%|████      | 42/104 [00:25<00:37,  1.67it/s, Loss=0.237]"
     ]
    },
    {
     "name": "stdout",
     "output_type": "stream",
     "text": [
      "✅ Loaded BraTS19_CBICA_BFP_1: Image torch.Size([3, 224, 224]), Mask torch.Size([224, 224])\n",
      "✅ Loaded BraTS19_2013_7_1: Image torch.Size([3, 224, 224]), Mask torch.Size([224, 224])\n"
     ]
    },
    {
     "name": "stderr",
     "output_type": "stream",
     "text": [
      "Epoch [9/15]:  41%|████▏     | 43/104 [00:26<00:36,  1.65it/s, Loss=0.547]"
     ]
    },
    {
     "name": "stdout",
     "output_type": "stream",
     "text": [
      "✅ Loaded BraTS19_CBICA_AWG_1: Image torch.Size([3, 224, 224]), Mask torch.Size([224, 224])\n",
      "✅ Loaded BraTS19_CBICA_ALX_1: Image torch.Size([3, 224, 224]), Mask torch.Size([224, 224])\n"
     ]
    },
    {
     "name": "stderr",
     "output_type": "stream",
     "text": [
      "Epoch [9/15]:  42%|████▏     | 44/104 [00:26<00:35,  1.67it/s, Loss=0.341]"
     ]
    },
    {
     "name": "stdout",
     "output_type": "stream",
     "text": [
      "✅ Loaded BraTS19_CBICA_BGW_1: Image torch.Size([3, 224, 224]), Mask torch.Size([224, 224])\n",
      "✅ Loaded BraTS19_CBICA_ATB_1: Image torch.Size([3, 224, 224]), Mask torch.Size([224, 224])\n"
     ]
    },
    {
     "name": "stderr",
     "output_type": "stream",
     "text": [
      "Epoch [9/15]:  43%|████▎     | 45/104 [00:27<00:35,  1.66it/s, Loss=0.293]"
     ]
    },
    {
     "name": "stdout",
     "output_type": "stream",
     "text": [
      "✅ Loaded BraTS19_TCIA06_184_1: Image torch.Size([3, 224, 224]), Mask torch.Size([224, 224])\n",
      "✅ Loaded BraTS19_CBICA_AQG_1: Image torch.Size([3, 224, 224]), Mask torch.Size([224, 224])\n"
     ]
    },
    {
     "name": "stderr",
     "output_type": "stream",
     "text": [
      "Epoch [9/15]:  44%|████▍     | 46/104 [00:27<00:35,  1.65it/s, Loss=0.563]"
     ]
    },
    {
     "name": "stdout",
     "output_type": "stream",
     "text": [
      "✅ Loaded BraTS19_CBICA_AXM_1: Image torch.Size([3, 224, 224]), Mask torch.Size([224, 224])\n",
      "✅ Loaded BraTS19_CBICA_BKV_1: Image torch.Size([3, 224, 224]), Mask torch.Size([224, 224])\n"
     ]
    },
    {
     "name": "stderr",
     "output_type": "stream",
     "text": [
      "Epoch [9/15]:  45%|████▌     | 47/104 [00:28<00:34,  1.68it/s, Loss=0.205]"
     ]
    },
    {
     "name": "stdout",
     "output_type": "stream",
     "text": [
      "✅ Loaded BraTS19_CBICA_BGX_1: Image torch.Size([3, 224, 224]), Mask torch.Size([224, 224])\n",
      "✅ Loaded BraTS19_CBICA_AUW_1: Image torch.Size([3, 224, 224]), Mask torch.Size([224, 224])\n"
     ]
    },
    {
     "name": "stderr",
     "output_type": "stream",
     "text": [
      "Epoch [9/15]:  46%|████▌     | 48/104 [00:29<00:33,  1.66it/s, Loss=0.26] "
     ]
    },
    {
     "name": "stdout",
     "output_type": "stream",
     "text": [
      "✅ Loaded BraTS19_CBICA_ATN_1: Image torch.Size([3, 224, 224]), Mask torch.Size([224, 224])\n",
      "✅ Loaded BraTS19_CBICA_ATX_1: Image torch.Size([3, 224, 224]), Mask torch.Size([224, 224])\n"
     ]
    },
    {
     "name": "stderr",
     "output_type": "stream",
     "text": [
      "Epoch [9/15]:  47%|████▋     | 49/104 [00:29<00:32,  1.70it/s, Loss=0.371]"
     ]
    },
    {
     "name": "stdout",
     "output_type": "stream",
     "text": [
      "✅ Loaded BraTS19_2013_2_1: Image torch.Size([3, 224, 224]), Mask torch.Size([224, 224])\n",
      "✅ Loaded BraTS19_CBICA_BGN_1: Image torch.Size([3, 224, 224]), Mask torch.Size([224, 224])\n"
     ]
    },
    {
     "name": "stderr",
     "output_type": "stream",
     "text": [
      "Epoch [9/15]:  48%|████▊     | 50/104 [00:30<00:32,  1.66it/s, Loss=0.391]"
     ]
    },
    {
     "name": "stdout",
     "output_type": "stream",
     "text": [
      "✅ Loaded BraTS19_TCIA02_377_1: Image torch.Size([3, 224, 224]), Mask torch.Size([224, 224])\n",
      "✅ Loaded BraTS19_CBICA_AVG_1: Image torch.Size([3, 224, 224]), Mask torch.Size([224, 224])\n"
     ]
    },
    {
     "name": "stderr",
     "output_type": "stream",
     "text": [
      "Epoch [9/15]:  49%|████▉     | 51/104 [00:30<00:32,  1.64it/s, Loss=0.225]"
     ]
    },
    {
     "name": "stdout",
     "output_type": "stream",
     "text": [
      "✅ Loaded BraTS19_TCIA04_328_1: Image torch.Size([3, 224, 224]), Mask torch.Size([224, 224])\n",
      "✅ Loaded BraTS19_TCIA08_469_1: Image torch.Size([3, 224, 224]), Mask torch.Size([224, 224])\n"
     ]
    },
    {
     "name": "stderr",
     "output_type": "stream",
     "text": [
      "Epoch [9/15]:  50%|█████     | 52/104 [00:31<00:31,  1.64it/s, Loss=0.301]"
     ]
    },
    {
     "name": "stdout",
     "output_type": "stream",
     "text": [
      "✅ Loaded BraTS19_CBICA_ABE_1: Image torch.Size([3, 224, 224]), Mask torch.Size([224, 224])\n",
      "✅ Loaded BraTS19_CBICA_ASG_1: Image torch.Size([3, 224, 224]), Mask torch.Size([224, 224])\n"
     ]
    },
    {
     "name": "stderr",
     "output_type": "stream",
     "text": [
      "Epoch [9/15]:  51%|█████     | 53/104 [00:32<00:31,  1.64it/s, Loss=0.31] "
     ]
    },
    {
     "name": "stdout",
     "output_type": "stream",
     "text": [
      "✅ Loaded BraTS19_TCIA03_138_1: Image torch.Size([3, 224, 224]), Mask torch.Size([224, 224])\n",
      "✅ Loaded BraTS19_CBICA_AVV_1: Image torch.Size([3, 224, 224]), Mask torch.Size([224, 224])\n"
     ]
    },
    {
     "name": "stderr",
     "output_type": "stream",
     "text": [
      "Epoch [9/15]:  52%|█████▏    | 54/104 [00:32<00:30,  1.66it/s, Loss=0.385]"
     ]
    },
    {
     "name": "stdout",
     "output_type": "stream",
     "text": [
      "✅ Loaded BraTS19_CBICA_AQR_1: Image torch.Size([3, 224, 224]), Mask torch.Size([224, 224])\n",
      "✅ Loaded BraTS19_TCIA01_201_1: Image torch.Size([3, 224, 224]), Mask torch.Size([224, 224])\n"
     ]
    },
    {
     "name": "stderr",
     "output_type": "stream",
     "text": [
      "Epoch [9/15]:  53%|█████▎    | 55/104 [00:33<00:29,  1.64it/s, Loss=0.316]"
     ]
    },
    {
     "name": "stdout",
     "output_type": "stream",
     "text": [
      "✅ Loaded BraTS19_TCIA02_151_1: Image torch.Size([3, 224, 224]), Mask torch.Size([224, 224])\n",
      "✅ Loaded BraTS19_CBICA_BHZ_1: Image torch.Size([3, 224, 224]), Mask torch.Size([224, 224])\n"
     ]
    },
    {
     "name": "stderr",
     "output_type": "stream",
     "text": [
      "Epoch [9/15]:  54%|█████▍    | 56/104 [00:33<00:29,  1.63it/s, Loss=0.191]"
     ]
    },
    {
     "name": "stdout",
     "output_type": "stream",
     "text": [
      "✅ Loaded BraTS19_CBICA_AQY_1: Image torch.Size([3, 224, 224]), Mask torch.Size([224, 224])\n",
      "✅ Loaded BraTS19_TCIA04_361_1: Image torch.Size([3, 224, 224]), Mask torch.Size([224, 224])\n"
     ]
    },
    {
     "name": "stderr",
     "output_type": "stream",
     "text": [
      "Epoch [9/15]:  55%|█████▍    | 57/104 [00:34<00:28,  1.64it/s, Loss=0.349]"
     ]
    },
    {
     "name": "stdout",
     "output_type": "stream",
     "text": [
      "✅ Loaded BraTS19_2013_18_1: Image torch.Size([3, 224, 224]), Mask torch.Size([224, 224])\n",
      "✅ Loaded BraTS19_TCIA02_290_1: Image torch.Size([3, 224, 224]), Mask torch.Size([224, 224])\n"
     ]
    },
    {
     "name": "stderr",
     "output_type": "stream",
     "text": [
      "Epoch [9/15]:  56%|█████▌    | 58/104 [00:35<00:27,  1.65it/s, Loss=0.287]"
     ]
    },
    {
     "name": "stdout",
     "output_type": "stream",
     "text": [
      "✅ Loaded BraTS19_TCIA06_603_1: Image torch.Size([3, 224, 224]), Mask torch.Size([224, 224])\n",
      "✅ Loaded BraTS19_TCIA03_296_1: Image torch.Size([3, 224, 224]), Mask torch.Size([224, 224])\n"
     ]
    },
    {
     "name": "stderr",
     "output_type": "stream",
     "text": [
      "Epoch [9/15]:  57%|█████▋    | 59/104 [00:35<00:27,  1.64it/s, Loss=0.278]"
     ]
    },
    {
     "name": "stdout",
     "output_type": "stream",
     "text": [
      "✅ Loaded BraTS19_CBICA_AQT_1: Image torch.Size([3, 224, 224]), Mask torch.Size([224, 224])\n",
      "✅ Loaded BraTS19_TCIA04_111_1: Image torch.Size([3, 224, 224]), Mask torch.Size([224, 224])\n"
     ]
    },
    {
     "name": "stderr",
     "output_type": "stream",
     "text": [
      "Epoch [9/15]:  58%|█████▊    | 60/104 [00:36<00:27,  1.62it/s, Loss=0.291]"
     ]
    },
    {
     "name": "stdout",
     "output_type": "stream",
     "text": [
      "✅ Loaded BraTS19_CBICA_AOZ_1: Image torch.Size([3, 224, 224]), Mask torch.Size([224, 224])\n",
      "✅ Loaded BraTS19_CBICA_AAP_1: Image torch.Size([3, 224, 224]), Mask torch.Size([224, 224])\n"
     ]
    },
    {
     "name": "stderr",
     "output_type": "stream",
     "text": [
      "Epoch [9/15]:  59%|█████▊    | 61/104 [00:36<00:26,  1.65it/s, Loss=0.252]"
     ]
    },
    {
     "name": "stdout",
     "output_type": "stream",
     "text": [
      "✅ Loaded BraTS19_CBICA_ATD_1: Image torch.Size([3, 224, 224]), Mask torch.Size([224, 224])\n",
      "✅ Loaded BraTS19_CBICA_APZ_1: Image torch.Size([3, 224, 224]), Mask torch.Size([224, 224])\n"
     ]
    },
    {
     "name": "stderr",
     "output_type": "stream",
     "text": [
      "Epoch [9/15]:  60%|█████▉    | 62/104 [00:37<00:25,  1.64it/s, Loss=0.307]"
     ]
    },
    {
     "name": "stdout",
     "output_type": "stream",
     "text": [
      "✅ Loaded BraTS19_CBICA_AQV_1: Image torch.Size([3, 224, 224]), Mask torch.Size([224, 224])\n",
      "✅ Loaded BraTS19_CBICA_BIC_1: Image torch.Size([3, 224, 224]), Mask torch.Size([224, 224])\n"
     ]
    },
    {
     "name": "stderr",
     "output_type": "stream",
     "text": [
      "Epoch [9/15]:  61%|██████    | 63/104 [00:38<00:25,  1.63it/s, Loss=0.224]"
     ]
    },
    {
     "name": "stdout",
     "output_type": "stream",
     "text": [
      "✅ Loaded BraTS19_TCIA03_498_1: Image torch.Size([3, 224, 224]), Mask torch.Size([224, 224])\n",
      "✅ Loaded BraTS19_CBICA_BLJ_1: Image torch.Size([3, 224, 224]), Mask torch.Size([224, 224])\n"
     ]
    },
    {
     "name": "stderr",
     "output_type": "stream",
     "text": [
      "Epoch [9/15]:  62%|██████▏   | 64/104 [00:38<00:24,  1.64it/s, Loss=0.41] "
     ]
    },
    {
     "name": "stdout",
     "output_type": "stream",
     "text": [
      "✅ Loaded BraTS19_TCIA03_375_1: Image torch.Size([3, 224, 224]), Mask torch.Size([224, 224])\n",
      "✅ Loaded BraTS19_TCIA05_444_1: Image torch.Size([3, 224, 224]), Mask torch.Size([224, 224])\n"
     ]
    },
    {
     "name": "stderr",
     "output_type": "stream",
     "text": [
      "Epoch [9/15]:  62%|██████▎   | 65/104 [00:39<00:23,  1.65it/s, Loss=0.258]"
     ]
    },
    {
     "name": "stdout",
     "output_type": "stream",
     "text": [
      "✅ Loaded BraTS19_CBICA_AUA_1: Image torch.Size([3, 224, 224]), Mask torch.Size([224, 224])\n",
      "✅ Loaded BraTS19_TCIA08_167_1: Image torch.Size([3, 224, 224]), Mask torch.Size([224, 224])\n"
     ]
    },
    {
     "name": "stderr",
     "output_type": "stream",
     "text": [
      "Epoch [9/15]:  63%|██████▎   | 66/104 [00:39<00:23,  1.64it/s, Loss=0.297]"
     ]
    },
    {
     "name": "stdout",
     "output_type": "stream",
     "text": [
      "✅ Loaded BraTS19_TCIA01_186_1: Image torch.Size([3, 224, 224]), Mask torch.Size([224, 224])\n",
      "✅ Loaded BraTS19_TCIA02_198_1: Image torch.Size([3, 224, 224]), Mask torch.Size([224, 224])\n"
     ]
    },
    {
     "name": "stderr",
     "output_type": "stream",
     "text": [
      "Epoch [9/15]:  64%|██████▍   | 67/104 [00:40<00:22,  1.65it/s, Loss=0.416]"
     ]
    },
    {
     "name": "stdout",
     "output_type": "stream",
     "text": [
      "✅ Loaded BraTS19_CBICA_AME_1: Image torch.Size([3, 224, 224]), Mask torch.Size([224, 224])\n",
      "✅ Loaded BraTS19_TCIA01_147_1: Image torch.Size([3, 224, 224]), Mask torch.Size([224, 224])\n"
     ]
    },
    {
     "name": "stderr",
     "output_type": "stream",
     "text": [
      "Epoch [9/15]:  65%|██████▌   | 68/104 [00:41<00:22,  1.63it/s, Loss=0.194]"
     ]
    },
    {
     "name": "stdout",
     "output_type": "stream",
     "text": [
      "✅ Loaded BraTS19_CBICA_ASK_1: Image torch.Size([3, 224, 224]), Mask torch.Size([224, 224])\n",
      "✅ Loaded BraTS19_TCIA02_168_1: Image torch.Size([3, 224, 224]), Mask torch.Size([224, 224])\n"
     ]
    },
    {
     "name": "stderr",
     "output_type": "stream",
     "text": [
      "Epoch [9/15]:  66%|██████▋   | 69/104 [00:41<00:21,  1.64it/s, Loss=0.292]"
     ]
    },
    {
     "name": "stdout",
     "output_type": "stream",
     "text": [
      "✅ Loaded BraTS19_TCIA02_300_1: Image torch.Size([3, 224, 224]), Mask torch.Size([224, 224])\n",
      "✅ Loaded BraTS19_CBICA_AVJ_1: Image torch.Size([3, 224, 224]), Mask torch.Size([224, 224])\n"
     ]
    },
    {
     "name": "stderr",
     "output_type": "stream",
     "text": [
      "Epoch [9/15]:  67%|██████▋   | 70/104 [00:42<00:20,  1.66it/s, Loss=0.229]"
     ]
    },
    {
     "name": "stdout",
     "output_type": "stream",
     "text": [
      "✅ Loaded BraTS19_CBICA_AOO_1: Image torch.Size([3, 224, 224]), Mask torch.Size([224, 224])\n",
      "✅ Loaded BraTS19_TCIA08_280_1: Image torch.Size([3, 224, 224]), Mask torch.Size([224, 224])\n"
     ]
    },
    {
     "name": "stderr",
     "output_type": "stream",
     "text": [
      "Epoch [9/15]:  68%|██████▊   | 71/104 [00:42<00:19,  1.66it/s, Loss=0.473]"
     ]
    },
    {
     "name": "stdout",
     "output_type": "stream",
     "text": [
      "✅ Loaded BraTS19_TCIA02_135_1: Image torch.Size([3, 224, 224]), Mask torch.Size([224, 224])\n",
      "✅ Loaded BraTS19_TCIA03_419_1: Image torch.Size([3, 224, 224]), Mask torch.Size([224, 224])\n"
     ]
    },
    {
     "name": "stderr",
     "output_type": "stream",
     "text": [
      "Epoch [9/15]:  69%|██████▉   | 72/104 [00:43<00:19,  1.64it/s, Loss=0.193]"
     ]
    },
    {
     "name": "stdout",
     "output_type": "stream",
     "text": [
      "✅ Loaded BraTS19_CBICA_APR_1: Image torch.Size([3, 224, 224]), Mask torch.Size([224, 224])\n",
      "✅ Loaded BraTS19_TMC_11964_1: Image torch.Size([3, 224, 224]), Mask torch.Size([224, 224])\n"
     ]
    },
    {
     "name": "stderr",
     "output_type": "stream",
     "text": [
      "Epoch [9/15]:  70%|███████   | 73/104 [00:44<00:18,  1.66it/s, Loss=0.229]"
     ]
    },
    {
     "name": "stdout",
     "output_type": "stream",
     "text": [
      "✅ Loaded BraTS19_CBICA_AWH_1: Image torch.Size([3, 224, 224]), Mask torch.Size([224, 224])\n",
      "✅ Loaded BraTS19_TMC_12866_1: Image torch.Size([3, 224, 224]), Mask torch.Size([224, 224])\n"
     ]
    },
    {
     "name": "stderr",
     "output_type": "stream",
     "text": [
      "Epoch [9/15]:  71%|███████   | 74/104 [00:44<00:18,  1.65it/s, Loss=0.451]"
     ]
    },
    {
     "name": "stdout",
     "output_type": "stream",
     "text": [
      "✅ Loaded BraTS19_TCIA02_222_1: Image torch.Size([3, 224, 224]), Mask torch.Size([224, 224])\n",
      "✅ Loaded BraTS19_TCIA03_257_1: Image torch.Size([3, 224, 224]), Mask torch.Size([224, 224])\n"
     ]
    },
    {
     "name": "stderr",
     "output_type": "stream",
     "text": [
      "Epoch [9/15]:  72%|███████▏  | 75/104 [00:45<00:17,  1.66it/s, Loss=0.325]"
     ]
    },
    {
     "name": "stdout",
     "output_type": "stream",
     "text": [
      "✅ Loaded BraTS19_2013_5_1: Image torch.Size([3, 224, 224]), Mask torch.Size([224, 224])\n",
      "✅ Loaded BraTS19_TCIA02_608_1: Image torch.Size([3, 224, 224]), Mask torch.Size([224, 224])\n"
     ]
    },
    {
     "name": "stderr",
     "output_type": "stream",
     "text": [
      "Epoch [9/15]:  73%|███████▎  | 76/104 [00:45<00:16,  1.67it/s, Loss=0.221]"
     ]
    },
    {
     "name": "stdout",
     "output_type": "stream",
     "text": [
      "✅ Loaded BraTS19_TCIA02_118_1: Image torch.Size([3, 224, 224]), Mask torch.Size([224, 224])\n",
      "✅ Loaded BraTS19_CBICA_BFB_1: Image torch.Size([3, 224, 224]), Mask torch.Size([224, 224])\n"
     ]
    },
    {
     "name": "stderr",
     "output_type": "stream",
     "text": [
      "Epoch [9/15]:  74%|███████▍  | 77/104 [00:46<00:16,  1.68it/s, Loss=0.409]"
     ]
    },
    {
     "name": "stdout",
     "output_type": "stream",
     "text": [
      "✅ Loaded BraTS19_2013_25_1: Image torch.Size([3, 224, 224]), Mask torch.Size([224, 224])\n",
      "✅ Loaded BraTS19_CBICA_BHB_1: Image torch.Size([3, 224, 224]), Mask torch.Size([224, 224])\n"
     ]
    },
    {
     "name": "stderr",
     "output_type": "stream",
     "text": [
      "Epoch [9/15]:  75%|███████▌  | 78/104 [00:47<00:15,  1.68it/s, Loss=0.75] "
     ]
    },
    {
     "name": "stdout",
     "output_type": "stream",
     "text": [
      "✅ Loaded BraTS19_CBICA_ANP_1: Image torch.Size([3, 224, 224]), Mask torch.Size([224, 224])\n",
      "✅ Loaded BraTS19_TCIA04_343_1: Image torch.Size([3, 224, 224]), Mask torch.Size([224, 224])\n"
     ]
    },
    {
     "name": "stderr",
     "output_type": "stream",
     "text": [
      "Epoch [9/15]:  76%|███████▌  | 79/104 [00:47<00:15,  1.66it/s, Loss=0.511]"
     ]
    },
    {
     "name": "stdout",
     "output_type": "stream",
     "text": [
      "✅ Loaded BraTS19_CBICA_AQO_1: Image torch.Size([3, 224, 224]), Mask torch.Size([224, 224])\n",
      "✅ Loaded BraTS19_CBICA_AQP_1: Image torch.Size([3, 224, 224]), Mask torch.Size([224, 224])\n"
     ]
    },
    {
     "name": "stderr",
     "output_type": "stream",
     "text": [
      "Epoch [9/15]:  77%|███████▋  | 80/104 [00:48<00:14,  1.65it/s, Loss=0.542]"
     ]
    },
    {
     "name": "stdout",
     "output_type": "stream",
     "text": [
      "✅ Loaded BraTS19_2013_10_1: Image torch.Size([3, 224, 224]), Mask torch.Size([224, 224])\n",
      "✅ Loaded BraTS19_CBICA_AMH_1: Image torch.Size([3, 224, 224]), Mask torch.Size([224, 224])\n"
     ]
    },
    {
     "name": "stderr",
     "output_type": "stream",
     "text": [
      "Epoch [9/15]:  78%|███████▊  | 81/104 [00:49<00:14,  1.63it/s, Loss=0.276]"
     ]
    },
    {
     "name": "stdout",
     "output_type": "stream",
     "text": [
      "✅ Loaded BraTS19_CBICA_AYU_1: Image torch.Size([3, 224, 224]), Mask torch.Size([224, 224])\n",
      "✅ Loaded BraTS19_CBICA_ANG_1: Image torch.Size([3, 224, 224]), Mask torch.Size([224, 224])\n"
     ]
    },
    {
     "name": "stderr",
     "output_type": "stream",
     "text": [
      "Epoch [9/15]:  79%|███████▉  | 82/104 [00:49<00:13,  1.65it/s, Loss=0.434]"
     ]
    },
    {
     "name": "stdout",
     "output_type": "stream",
     "text": [
      "✅ Loaded BraTS19_TCIA08_218_1: Image torch.Size([3, 224, 224]), Mask torch.Size([224, 224])\n",
      "✅ Loaded BraTS19_CBICA_BAP_1: Image torch.Size([3, 224, 224]), Mask torch.Size([224, 224])\n"
     ]
    },
    {
     "name": "stderr",
     "output_type": "stream",
     "text": [
      "Epoch [9/15]:  80%|███████▉  | 83/104 [00:50<00:12,  1.65it/s, Loss=0.173]"
     ]
    },
    {
     "name": "stdout",
     "output_type": "stream",
     "text": [
      "✅ Loaded BraTS19_CBICA_APK_1: Image torch.Size([3, 224, 224]), Mask torch.Size([224, 224])\n",
      "✅ Loaded BraTS19_TCIA01_235_1: Image torch.Size([3, 224, 224]), Mask torch.Size([224, 224])\n"
     ]
    },
    {
     "name": "stderr",
     "output_type": "stream",
     "text": [
      "Epoch [9/15]:  81%|████████  | 84/104 [00:50<00:12,  1.65it/s, Loss=0.28] "
     ]
    },
    {
     "name": "stdout",
     "output_type": "stream",
     "text": [
      "✅ Loaded BraTS19_CBICA_ASE_1: Image torch.Size([3, 224, 224]), Mask torch.Size([224, 224])\n",
      "✅ Loaded BraTS19_CBICA_BJY_1: Image torch.Size([3, 224, 224]), Mask torch.Size([224, 224])\n"
     ]
    },
    {
     "name": "stderr",
     "output_type": "stream",
     "text": [
      "Epoch [9/15]:  82%|████████▏ | 85/104 [00:51<00:11,  1.65it/s, Loss=0.385]"
     ]
    },
    {
     "name": "stdout",
     "output_type": "stream",
     "text": [
      "✅ Loaded BraTS19_CBICA_ANZ_1: Image torch.Size([3, 224, 224]), Mask torch.Size([224, 224])\n",
      "✅ Loaded BraTS19_CBICA_AYA_1: Image torch.Size([3, 224, 224]), Mask torch.Size([224, 224])\n"
     ]
    },
    {
     "name": "stderr",
     "output_type": "stream",
     "text": [
      "Epoch [9/15]:  83%|████████▎ | 86/104 [00:52<00:10,  1.65it/s, Loss=0.51] "
     ]
    },
    {
     "name": "stdout",
     "output_type": "stream",
     "text": [
      "✅ Loaded BraTS19_TCIA05_478_1: Image torch.Size([3, 224, 224]), Mask torch.Size([224, 224])\n",
      "✅ Loaded BraTS19_CBICA_BEM_1: Image torch.Size([3, 224, 224]), Mask torch.Size([224, 224])\n"
     ]
    },
    {
     "name": "stderr",
     "output_type": "stream",
     "text": [
      "Epoch [9/15]:  84%|████████▎ | 87/104 [00:52<00:10,  1.65it/s, Loss=0.273]"
     ]
    },
    {
     "name": "stdout",
     "output_type": "stream",
     "text": [
      "✅ Loaded BraTS19_TCIA01_412_1: Image torch.Size([3, 224, 224]), Mask torch.Size([224, 224])\n",
      "✅ Loaded BraTS19_TCIA02_455_1: Image torch.Size([3, 224, 224]), Mask torch.Size([224, 224])\n"
     ]
    },
    {
     "name": "stderr",
     "output_type": "stream",
     "text": [
      "Epoch [9/15]:  85%|████████▍ | 88/104 [00:53<00:09,  1.64it/s, Loss=0.247]"
     ]
    },
    {
     "name": "stdout",
     "output_type": "stream",
     "text": [
      "✅ Loaded BraTS19_TCIA01_131_1: Image torch.Size([3, 224, 224]), Mask torch.Size([224, 224])\n",
      "✅ Loaded BraTS19_CBICA_AZH_1: Image torch.Size([3, 224, 224]), Mask torch.Size([224, 224])\n"
     ]
    },
    {
     "name": "stderr",
     "output_type": "stream",
     "text": [
      "Epoch [9/15]:  86%|████████▌ | 89/104 [00:53<00:09,  1.64it/s, Loss=0.359]"
     ]
    },
    {
     "name": "stdout",
     "output_type": "stream",
     "text": [
      "✅ Loaded BraTS19_CBICA_ASV_1: Image torch.Size([3, 224, 224]), Mask torch.Size([224, 224])\n",
      "✅ Loaded BraTS19_CBICA_AQD_1: Image torch.Size([3, 224, 224]), Mask torch.Size([224, 224])\n"
     ]
    },
    {
     "name": "stderr",
     "output_type": "stream",
     "text": [
      "Epoch [9/15]:  87%|████████▋ | 90/104 [00:54<00:08,  1.62it/s, Loss=0.257]"
     ]
    },
    {
     "name": "stdout",
     "output_type": "stream",
     "text": [
      "✅ Loaded BraTS19_TCIA04_479_1: Image torch.Size([3, 224, 224]), Mask torch.Size([224, 224])\n",
      "✅ Loaded BraTS19_CBICA_ASH_1: Image torch.Size([3, 224, 224]), Mask torch.Size([224, 224])\n"
     ]
    },
    {
     "name": "stderr",
     "output_type": "stream",
     "text": [
      "Epoch [9/15]:  88%|████████▊ | 91/104 [00:55<00:08,  1.61it/s, Loss=0.75] "
     ]
    },
    {
     "name": "stdout",
     "output_type": "stream",
     "text": [
      "✅ Loaded BraTS19_TCIA04_149_1: Image torch.Size([3, 224, 224]), Mask torch.Size([224, 224])\n",
      "✅ Loaded BraTS19_TCIA02_226_1: Image torch.Size([3, 224, 224]), Mask torch.Size([224, 224])\n"
     ]
    },
    {
     "name": "stderr",
     "output_type": "stream",
     "text": [
      "Epoch [9/15]:  88%|████████▊ | 92/104 [00:55<00:07,  1.61it/s, Loss=0.408]"
     ]
    },
    {
     "name": "stdout",
     "output_type": "stream",
     "text": [
      "✅ Loaded BraTS19_TCIA01_448_1: Image torch.Size([3, 224, 224]), Mask torch.Size([224, 224])\n",
      "✅ Loaded BraTS19_TCIA01_150_1: Image torch.Size([3, 224, 224]), Mask torch.Size([224, 224])\n"
     ]
    },
    {
     "name": "stderr",
     "output_type": "stream",
     "text": [
      "Epoch [9/15]:  89%|████████▉ | 93/104 [00:56<00:06,  1.64it/s, Loss=0.331]"
     ]
    },
    {
     "name": "stdout",
     "output_type": "stream",
     "text": [
      "✅ Loaded BraTS19_2013_12_1: Image torch.Size([3, 224, 224]), Mask torch.Size([224, 224])\n",
      "✅ Loaded BraTS19_2013_21_1: Image torch.Size([3, 224, 224]), Mask torch.Size([224, 224])\n"
     ]
    },
    {
     "name": "stderr",
     "output_type": "stream",
     "text": [
      "Epoch [9/15]:  90%|█████████ | 94/104 [00:56<00:06,  1.64it/s, Loss=0.289]"
     ]
    },
    {
     "name": "stdout",
     "output_type": "stream",
     "text": [
      "✅ Loaded BraTS19_TCIA02_171_1: Image torch.Size([3, 224, 224]), Mask torch.Size([224, 224])\n",
      "✅ Loaded BraTS19_TCIA08_162_1: Image torch.Size([3, 224, 224]), Mask torch.Size([224, 224])\n"
     ]
    },
    {
     "name": "stderr",
     "output_type": "stream",
     "text": [
      "Epoch [9/15]:  91%|█████████▏| 95/104 [00:57<00:05,  1.66it/s, Loss=0.167]"
     ]
    },
    {
     "name": "stdout",
     "output_type": "stream",
     "text": [
      "✅ Loaded BraTS19_CBICA_ASU_1: Image torch.Size([3, 224, 224]), Mask torch.Size([224, 224])\n",
      "✅ Loaded BraTS19_TCIA06_332_1: Image torch.Size([3, 224, 224]), Mask torch.Size([224, 224])\n"
     ]
    },
    {
     "name": "stderr",
     "output_type": "stream",
     "text": [
      "Epoch [9/15]:  92%|█████████▏| 96/104 [00:58<00:04,  1.66it/s, Loss=0.567]"
     ]
    },
    {
     "name": "stdout",
     "output_type": "stream",
     "text": [
      "✅ Loaded BraTS19_TCIA04_437_1: Image torch.Size([3, 224, 224]), Mask torch.Size([224, 224])\n",
      "✅ Loaded BraTS19_TCIA02_309_1: Image torch.Size([3, 224, 224]), Mask torch.Size([224, 224])\n"
     ]
    },
    {
     "name": "stderr",
     "output_type": "stream",
     "text": [
      "Epoch [9/15]:  93%|█████████▎| 97/104 [00:58<00:04,  1.67it/s, Loss=0.371]"
     ]
    },
    {
     "name": "stdout",
     "output_type": "stream",
     "text": [
      "✅ Loaded BraTS19_TCIA03_338_1: Image torch.Size([3, 224, 224]), Mask torch.Size([224, 224])\n",
      "✅ Loaded BraTS19_TCIA02_491_1: Image torch.Size([3, 224, 224]), Mask torch.Size([224, 224])\n"
     ]
    },
    {
     "name": "stderr",
     "output_type": "stream",
     "text": [
      "Epoch [9/15]:  94%|█████████▍| 98/104 [00:59<00:03,  1.69it/s, Loss=0.355]"
     ]
    },
    {
     "name": "stdout",
     "output_type": "stream",
     "text": [
      "✅ Loaded BraTS19_CBICA_ASA_1: Image torch.Size([3, 224, 224]), Mask torch.Size([224, 224])\n",
      "✅ Loaded BraTS19_CBICA_ALN_1: Image torch.Size([3, 224, 224]), Mask torch.Size([224, 224])\n"
     ]
    },
    {
     "name": "stderr",
     "output_type": "stream",
     "text": [
      "Epoch [9/15]:  95%|█████████▌| 99/104 [00:59<00:02,  1.68it/s, Loss=0.357]"
     ]
    },
    {
     "name": "stdout",
     "output_type": "stream",
     "text": [
      "✅ Loaded BraTS19_CBICA_BNR_1: Image torch.Size([3, 224, 224]), Mask torch.Size([224, 224])\n",
      "✅ Loaded BraTS19_TCIA06_409_1: Image torch.Size([3, 224, 224]), Mask torch.Size([224, 224])\n"
     ]
    },
    {
     "name": "stderr",
     "output_type": "stream",
     "text": [
      "Epoch [9/15]:  96%|█████████▌| 100/104 [01:00<00:02,  1.68it/s, Loss=0.345]"
     ]
    },
    {
     "name": "stdout",
     "output_type": "stream",
     "text": [
      "✅ Loaded BraTS19_TCIA03_474_1: Image torch.Size([3, 224, 224]), Mask torch.Size([224, 224])\n",
      "✅ Loaded BraTS19_CBICA_AQZ_1: Image torch.Size([3, 224, 224]), Mask torch.Size([224, 224])\n"
     ]
    },
    {
     "name": "stderr",
     "output_type": "stream",
     "text": [
      "Epoch [9/15]:  97%|█████████▋| 101/104 [01:01<00:01,  1.66it/s, Loss=0.187]"
     ]
    },
    {
     "name": "stdout",
     "output_type": "stream",
     "text": [
      "✅ Loaded BraTS19_CBICA_AQA_1: Image torch.Size([3, 224, 224]), Mask torch.Size([224, 224])\n",
      "✅ Loaded BraTS19_TCIA02_605_1: Image torch.Size([3, 224, 224]), Mask torch.Size([224, 224])\n"
     ]
    },
    {
     "name": "stderr",
     "output_type": "stream",
     "text": [
      "Epoch [9/15]:  98%|█████████▊| 102/104 [01:01<00:01,  1.68it/s, Loss=0.561]"
     ]
    },
    {
     "name": "stdout",
     "output_type": "stream",
     "text": [
      "✅ Loaded BraTS19_CBICA_AAL_1: Image torch.Size([3, 224, 224]), Mask torch.Size([224, 224])\n",
      "✅ Loaded BraTS19_CBICA_ALU_1: Image torch.Size([3, 224, 224]), Mask torch.Size([224, 224])\n"
     ]
    },
    {
     "name": "stderr",
     "output_type": "stream",
     "text": [
      "Epoch [9/15]:  99%|█████████▉| 103/104 [01:02<00:00,  1.67it/s, Loss=0.383]"
     ]
    },
    {
     "name": "stdout",
     "output_type": "stream",
     "text": [
      "✅ Loaded BraTS19_CBICA_ASY_1: Image torch.Size([3, 224, 224]), Mask torch.Size([224, 224])\n"
     ]
    },
    {
     "name": "stderr",
     "output_type": "stream",
     "text": [
      "                                                                           \r"
     ]
    },
    {
     "name": "stdout",
     "output_type": "stream",
     "text": [
      "\n",
      "✅ Epoch 9: Train Loss: 0.3467\n",
      "💾 Saved model at epoch 9 with train loss 0.3467\n"
     ]
    },
    {
     "name": "stderr",
     "output_type": "stream",
     "text": [
      "Epoch [10/15]:   0%|          | 0/104 [00:00<?, ?it/s]"
     ]
    },
    {
     "name": "stdout",
     "output_type": "stream",
     "text": [
      "✅ Loaded BraTS19_TCIA04_361_1: Image torch.Size([3, 224, 224]), Mask torch.Size([224, 224])\n",
      "✅ Loaded BraTS19_CBICA_AYU_1: Image torch.Size([3, 224, 224]), Mask torch.Size([224, 224])\n"
     ]
    },
    {
     "name": "stderr",
     "output_type": "stream",
     "text": [
      "Epoch [10/15]:   1%|          | 1/104 [00:00<01:02,  1.66it/s, Loss=0.331]"
     ]
    },
    {
     "name": "stdout",
     "output_type": "stream",
     "text": [
      "✅ Loaded BraTS19_CBICA_ATN_1: Image torch.Size([3, 224, 224]), Mask torch.Size([224, 224])\n",
      "✅ Loaded BraTS19_CBICA_AME_1: Image torch.Size([3, 224, 224]), Mask torch.Size([224, 224])\n"
     ]
    },
    {
     "name": "stderr",
     "output_type": "stream",
     "text": [
      "Epoch [10/15]:   2%|▏         | 2/104 [00:01<01:02,  1.64it/s, Loss=0.309]"
     ]
    },
    {
     "name": "stdout",
     "output_type": "stream",
     "text": [
      "✅ Loaded BraTS19_TCIA02_368_1: Image torch.Size([3, 224, 224]), Mask torch.Size([224, 224])\n",
      "✅ Loaded BraTS19_CBICA_BGG_1: Image torch.Size([3, 224, 224]), Mask torch.Size([224, 224])\n"
     ]
    },
    {
     "name": "stderr",
     "output_type": "stream",
     "text": [
      "Epoch [10/15]:   3%|▎         | 3/104 [00:01<01:00,  1.67it/s, Loss=0.275]"
     ]
    },
    {
     "name": "stdout",
     "output_type": "stream",
     "text": [
      "✅ Loaded BraTS19_TCIA02_274_1: Image torch.Size([3, 224, 224]), Mask torch.Size([224, 224])\n",
      "✅ Loaded BraTS19_CBICA_ALX_1: Image torch.Size([3, 224, 224]), Mask torch.Size([224, 224])\n"
     ]
    },
    {
     "name": "stderr",
     "output_type": "stream",
     "text": [
      "Epoch [10/15]:   4%|▍         | 4/104 [00:02<01:00,  1.66it/s, Loss=0.255]"
     ]
    },
    {
     "name": "stdout",
     "output_type": "stream",
     "text": [
      "✅ Loaded BraTS19_CBICA_AQY_1: Image torch.Size([3, 224, 224]), Mask torch.Size([224, 224])\n",
      "✅ Loaded BraTS19_TCIA02_117_1: Image torch.Size([3, 224, 224]), Mask torch.Size([224, 224])\n"
     ]
    },
    {
     "name": "stderr",
     "output_type": "stream",
     "text": [
      "Epoch [10/15]:   5%|▍         | 5/104 [00:03<00:59,  1.67it/s, Loss=0.378]"
     ]
    },
    {
     "name": "stdout",
     "output_type": "stream",
     "text": [
      "✅ Loaded BraTS19_TCIA02_168_1: Image torch.Size([3, 224, 224]), Mask torch.Size([224, 224])\n",
      "✅ Loaded BraTS19_TCIA03_498_1: Image torch.Size([3, 224, 224]), Mask torch.Size([224, 224])\n"
     ]
    },
    {
     "name": "stderr",
     "output_type": "stream",
     "text": [
      "Epoch [10/15]:   6%|▌         | 6/104 [00:03<00:59,  1.65it/s, Loss=0.285]"
     ]
    },
    {
     "name": "stdout",
     "output_type": "stream",
     "text": [
      "✅ Loaded BraTS19_CBICA_BGE_1: Image torch.Size([3, 224, 224]), Mask torch.Size([224, 224])\n",
      "✅ Loaded BraTS19_CBICA_ASG_1: Image torch.Size([3, 224, 224]), Mask torch.Size([224, 224])\n"
     ]
    },
    {
     "name": "stderr",
     "output_type": "stream",
     "text": [
      "Epoch [10/15]:   7%|▋         | 7/104 [00:04<00:58,  1.65it/s, Loss=0.322]"
     ]
    },
    {
     "name": "stdout",
     "output_type": "stream",
     "text": [
      "✅ Loaded BraTS19_TCIA02_377_1: Image torch.Size([3, 224, 224]), Mask torch.Size([224, 224])\n",
      "✅ Loaded BraTS19_TCIA05_478_1: Image torch.Size([3, 224, 224]), Mask torch.Size([224, 224])\n"
     ]
    },
    {
     "name": "stderr",
     "output_type": "stream",
     "text": [
      "Epoch [10/15]:   8%|▊         | 8/104 [00:04<00:58,  1.64it/s, Loss=0.205]"
     ]
    },
    {
     "name": "stdout",
     "output_type": "stream",
     "text": [
      "✅ Loaded BraTS19_2013_25_1: Image torch.Size([3, 224, 224]), Mask torch.Size([224, 224])\n",
      "✅ Loaded BraTS19_CBICA_ANP_1: Image torch.Size([3, 224, 224]), Mask torch.Size([224, 224])\n"
     ]
    },
    {
     "name": "stderr",
     "output_type": "stream",
     "text": [
      "Epoch [10/15]:   9%|▊         | 9/104 [00:05<00:57,  1.66it/s, Loss=0.472]"
     ]
    },
    {
     "name": "stdout",
     "output_type": "stream",
     "text": [
      "✅ Loaded BraTS19_CBICA_AAL_1: Image torch.Size([3, 224, 224]), Mask torch.Size([224, 224])\n",
      "✅ Loaded BraTS19_CBICA_ASH_1: Image torch.Size([3, 224, 224]), Mask torch.Size([224, 224])\n"
     ]
    },
    {
     "name": "stderr",
     "output_type": "stream",
     "text": [
      "Epoch [10/15]:  10%|▉         | 10/104 [00:06<00:57,  1.63it/s, Loss=0.398]"
     ]
    },
    {
     "name": "stdout",
     "output_type": "stream",
     "text": [
      "✅ Loaded BraTS19_CBICA_AQU_1: Image torch.Size([3, 224, 224]), Mask torch.Size([224, 224])\n",
      "✅ Loaded BraTS19_TCIA01_390_1: Image torch.Size([3, 224, 224]), Mask torch.Size([224, 224])\n"
     ]
    },
    {
     "name": "stderr",
     "output_type": "stream",
     "text": [
      "Epoch [10/15]:  11%|█         | 11/104 [00:06<00:56,  1.65it/s, Loss=0.365]"
     ]
    },
    {
     "name": "stdout",
     "output_type": "stream",
     "text": [
      "✅ Loaded BraTS19_TCIA01_131_1: Image torch.Size([3, 224, 224]), Mask torch.Size([224, 224])\n",
      "✅ Loaded BraTS19_CBICA_ASK_1: Image torch.Size([3, 224, 224]), Mask torch.Size([224, 224])\n"
     ]
    },
    {
     "name": "stderr",
     "output_type": "stream",
     "text": [
      "Epoch [10/15]:  12%|█▏        | 12/104 [00:07<00:55,  1.65it/s, Loss=0.298]"
     ]
    },
    {
     "name": "stdout",
     "output_type": "stream",
     "text": [
      "✅ Loaded BraTS19_TCIA01_425_1: Image torch.Size([3, 224, 224]), Mask torch.Size([224, 224])\n",
      "✅ Loaded BraTS19_CBICA_ASV_1: Image torch.Size([3, 224, 224]), Mask torch.Size([224, 224])\n"
     ]
    },
    {
     "name": "stderr",
     "output_type": "stream",
     "text": [
      "Epoch [10/15]:  12%|█▎        | 13/104 [00:07<00:54,  1.66it/s, Loss=0.232]"
     ]
    },
    {
     "name": "stdout",
     "output_type": "stream",
     "text": [
      "✅ Loaded BraTS19_TMC_11964_1: Image torch.Size([3, 224, 224]), Mask torch.Size([224, 224])\n",
      "✅ Loaded BraTS19_CBICA_BGX_1: Image torch.Size([3, 224, 224]), Mask torch.Size([224, 224])\n"
     ]
    },
    {
     "name": "stderr",
     "output_type": "stream",
     "text": [
      "Epoch [10/15]:  13%|█▎        | 14/104 [00:08<00:54,  1.65it/s, Loss=0.232]"
     ]
    },
    {
     "name": "stdout",
     "output_type": "stream",
     "text": [
      "✅ Loaded BraTS19_CBICA_AQO_1: Image torch.Size([3, 224, 224]), Mask torch.Size([224, 224])\n",
      "✅ Loaded BraTS19_CBICA_AVV_1: Image torch.Size([3, 224, 224]), Mask torch.Size([224, 224])\n"
     ]
    },
    {
     "name": "stderr",
     "output_type": "stream",
     "text": [
      "Epoch [10/15]:  14%|█▍        | 15/104 [00:09<00:53,  1.65it/s, Loss=0.37] "
     ]
    },
    {
     "name": "stdout",
     "output_type": "stream",
     "text": [
      "✅ Loaded BraTS19_TCIA08_406_1: Image torch.Size([3, 224, 224]), Mask torch.Size([224, 224])\n",
      "✅ Loaded BraTS19_CBICA_AZH_1: Image torch.Size([3, 224, 224]), Mask torch.Size([224, 224])\n"
     ]
    },
    {
     "name": "stderr",
     "output_type": "stream",
     "text": [
      "Epoch [10/15]:  15%|█▌        | 16/104 [00:09<00:53,  1.64it/s, Loss=0.359]"
     ]
    },
    {
     "name": "stdout",
     "output_type": "stream",
     "text": [
      "✅ Loaded BraTS19_TCIA08_105_1: Image torch.Size([3, 224, 224]), Mask torch.Size([224, 224])\n",
      "✅ Loaded BraTS19_2013_26_1: Image torch.Size([3, 224, 224]), Mask torch.Size([224, 224])\n"
     ]
    },
    {
     "name": "stderr",
     "output_type": "stream",
     "text": [
      "Epoch [10/15]:  16%|█▋        | 17/104 [00:10<00:53,  1.64it/s, Loss=0.32] "
     ]
    },
    {
     "name": "stdout",
     "output_type": "stream",
     "text": [
      "✅ Loaded BraTS19_TCIA05_396_1: Image torch.Size([3, 224, 224]), Mask torch.Size([224, 224])\n",
      "✅ Loaded BraTS19_CBICA_AAP_1: Image torch.Size([3, 224, 224]), Mask torch.Size([224, 224])\n"
     ]
    },
    {
     "name": "stderr",
     "output_type": "stream",
     "text": [
      "Epoch [10/15]:  17%|█▋        | 18/104 [00:10<00:51,  1.66it/s, Loss=0.26]"
     ]
    },
    {
     "name": "stdout",
     "output_type": "stream",
     "text": [
      "✅ Loaded BraTS19_CBICA_AQG_1: Image torch.Size([3, 224, 224]), Mask torch.Size([224, 224])\n",
      "✅ Loaded BraTS19_TCIA02_290_1: Image torch.Size([3, 224, 224]), Mask torch.Size([224, 224])\n"
     ]
    },
    {
     "name": "stderr",
     "output_type": "stream",
     "text": [
      "Epoch [10/15]:  18%|█▊        | 19/104 [00:11<00:51,  1.66it/s, Loss=0.295]"
     ]
    },
    {
     "name": "stdout",
     "output_type": "stream",
     "text": [
      "✅ Loaded BraTS19_TCIA03_375_1: Image torch.Size([3, 224, 224]), Mask torch.Size([224, 224])\n",
      "✅ Loaded BraTS19_CBICA_ANG_1: Image torch.Size([3, 224, 224]), Mask torch.Size([224, 224])\n"
     ]
    },
    {
     "name": "stderr",
     "output_type": "stream",
     "text": [
      "Epoch [10/15]:  19%|█▉        | 20/104 [00:12<00:51,  1.64it/s, Loss=0.372]"
     ]
    },
    {
     "name": "stdout",
     "output_type": "stream",
     "text": [
      "✅ Loaded BraTS19_CBICA_ATP_1: Image torch.Size([3, 224, 224]), Mask torch.Size([224, 224])\n",
      "✅ Loaded BraTS19_CBICA_AYW_1: Image torch.Size([3, 224, 224]), Mask torch.Size([224, 224])\n"
     ]
    },
    {
     "name": "stderr",
     "output_type": "stream",
     "text": [
      "Epoch [10/15]:  20%|██        | 21/104 [00:12<00:49,  1.67it/s, Loss=0.59] "
     ]
    },
    {
     "name": "stdout",
     "output_type": "stream",
     "text": [
      "✅ Loaded BraTS19_CBICA_ATD_1: Image torch.Size([3, 224, 224]), Mask torch.Size([224, 224])\n",
      "✅ Loaded BraTS19_TCIA04_343_1: Image torch.Size([3, 224, 224]), Mask torch.Size([224, 224])\n"
     ]
    },
    {
     "name": "stderr",
     "output_type": "stream",
     "text": [
      "Epoch [10/15]:  21%|██        | 22/104 [00:13<00:49,  1.67it/s, Loss=0.665]"
     ]
    },
    {
     "name": "stdout",
     "output_type": "stream",
     "text": [
      "✅ Loaded BraTS19_2013_13_1: Image torch.Size([3, 224, 224]), Mask torch.Size([224, 224])\n",
      "✅ Loaded BraTS19_CBICA_AQV_1: Image torch.Size([3, 224, 224]), Mask torch.Size([224, 224])\n"
     ]
    },
    {
     "name": "stderr",
     "output_type": "stream",
     "text": [
      "Epoch [10/15]:  22%|██▏       | 23/104 [00:13<00:48,  1.67it/s, Loss=0.18] "
     ]
    },
    {
     "name": "stdout",
     "output_type": "stream",
     "text": [
      "✅ Loaded BraTS19_CBICA_AUR_1: Image torch.Size([3, 224, 224]), Mask torch.Size([224, 224])\n",
      "✅ Loaded BraTS19_TMC_15477_1: Image torch.Size([3, 224, 224]), Mask torch.Size([224, 224])\n"
     ]
    },
    {
     "name": "stderr",
     "output_type": "stream",
     "text": [
      "Epoch [10/15]:  23%|██▎       | 24/104 [00:14<00:47,  1.67it/s, Loss=0.505]"
     ]
    },
    {
     "name": "stdout",
     "output_type": "stream",
     "text": [
      "✅ Loaded BraTS19_TCIA08_162_1: Image torch.Size([3, 224, 224]), Mask torch.Size([224, 224])\n",
      "✅ Loaded BraTS19_TCIA02_314_1: Image torch.Size([3, 224, 224]), Mask torch.Size([224, 224])\n"
     ]
    },
    {
     "name": "stderr",
     "output_type": "stream",
     "text": [
      "Epoch [10/15]:  24%|██▍       | 25/104 [00:15<00:47,  1.67it/s, Loss=0.279]"
     ]
    },
    {
     "name": "stdout",
     "output_type": "stream",
     "text": [
      "✅ Loaded BraTS19_TCIA08_280_1: Image torch.Size([3, 224, 224]), Mask torch.Size([224, 224])\n",
      "✅ Loaded BraTS19_TCIA03_138_1: Image torch.Size([3, 224, 224]), Mask torch.Size([224, 224])\n"
     ]
    },
    {
     "name": "stderr",
     "output_type": "stream",
     "text": [
      "Epoch [10/15]:  25%|██▌       | 26/104 [00:15<00:47,  1.64it/s, Loss=0.396]"
     ]
    },
    {
     "name": "stdout",
     "output_type": "stream",
     "text": [
      "✅ Loaded BraTS19_2013_21_1: Image torch.Size([3, 224, 224]), Mask torch.Size([224, 224])\n",
      "✅ Loaded BraTS19_CBICA_BGN_1: Image torch.Size([3, 224, 224]), Mask torch.Size([224, 224])\n"
     ]
    },
    {
     "name": "stderr",
     "output_type": "stream",
     "text": [
      "Epoch [10/15]:  26%|██▌       | 27/104 [00:16<00:47,  1.64it/s, Loss=0.212]"
     ]
    },
    {
     "name": "stdout",
     "output_type": "stream",
     "text": [
      "✅ Loaded BraTS19_CBICA_AQN_1: Image torch.Size([3, 224, 224]), Mask torch.Size([224, 224])\n",
      "✅ Loaded BraTS19_CBICA_BFB_1: Image torch.Size([3, 224, 224]), Mask torch.Size([224, 224])\n"
     ]
    },
    {
     "name": "stderr",
     "output_type": "stream",
     "text": [
      "Epoch [10/15]:  27%|██▋       | 28/104 [00:16<00:46,  1.64it/s, Loss=0.551]"
     ]
    },
    {
     "name": "stdout",
     "output_type": "stream",
     "text": [
      "✅ Loaded BraTS19_TMC_12866_1: Image torch.Size([3, 224, 224]), Mask torch.Size([224, 224])\n",
      "✅ Loaded BraTS19_TCIA02_118_1: Image torch.Size([3, 224, 224]), Mask torch.Size([224, 224])\n"
     ]
    },
    {
     "name": "stderr",
     "output_type": "stream",
     "text": [
      "Epoch [10/15]:  28%|██▊       | 29/104 [00:17<00:45,  1.65it/s, Loss=0.353]"
     ]
    },
    {
     "name": "stdout",
     "output_type": "stream",
     "text": [
      "✅ Loaded BraTS19_CBICA_AVJ_1: Image torch.Size([3, 224, 224]), Mask torch.Size([224, 224])\n",
      "✅ Loaded BraTS19_TCIA02_179_1: Image torch.Size([3, 224, 224]), Mask torch.Size([224, 224])\n"
     ]
    },
    {
     "name": "stderr",
     "output_type": "stream",
     "text": [
      "Epoch [10/15]:  29%|██▉       | 30/104 [00:18<00:45,  1.64it/s, Loss=0.27] "
     ]
    },
    {
     "name": "stdout",
     "output_type": "stream",
     "text": [
      "✅ Loaded BraTS19_TCIA04_328_1: Image torch.Size([3, 224, 224]), Mask torch.Size([224, 224])\n",
      "✅ Loaded BraTS19_CBICA_BBG_1: Image torch.Size([3, 224, 224]), Mask torch.Size([224, 224])\n"
     ]
    },
    {
     "name": "stderr",
     "output_type": "stream",
     "text": [
      "Epoch [10/15]:  30%|██▉       | 31/104 [00:18<00:44,  1.64it/s, Loss=0.218]"
     ]
    },
    {
     "name": "stdout",
     "output_type": "stream",
     "text": [
      "✅ Loaded BraTS19_TMC_30014_1: Image torch.Size([3, 224, 224]), Mask torch.Size([224, 224])\n",
      "✅ Loaded BraTS19_TCIA06_165_1: Image torch.Size([3, 224, 224]), Mask torch.Size([224, 224])\n"
     ]
    },
    {
     "name": "stderr",
     "output_type": "stream",
     "text": [
      "Epoch [10/15]:  31%|███       | 32/104 [00:19<00:43,  1.65it/s, Loss=0.234]"
     ]
    },
    {
     "name": "stdout",
     "output_type": "stream",
     "text": [
      "✅ Loaded BraTS19_CBICA_AQJ_1: Image torch.Size([3, 224, 224]), Mask torch.Size([224, 224])\n",
      "✅ Loaded BraTS19_TCIA01_499_1: Image torch.Size([3, 224, 224]), Mask torch.Size([224, 224])\n"
     ]
    },
    {
     "name": "stderr",
     "output_type": "stream",
     "text": [
      "Epoch [10/15]:  32%|███▏      | 33/104 [00:19<00:43,  1.65it/s, Loss=0.324]"
     ]
    },
    {
     "name": "stdout",
     "output_type": "stream",
     "text": [
      "✅ Loaded BraTS19_CBICA_AQT_1: Image torch.Size([3, 224, 224]), Mask torch.Size([224, 224])\n",
      "✅ Loaded BraTS19_TCIA01_378_1: Image torch.Size([3, 224, 224]), Mask torch.Size([224, 224])\n"
     ]
    },
    {
     "name": "stderr",
     "output_type": "stream",
     "text": [
      "Epoch [10/15]:  33%|███▎      | 34/104 [00:20<00:42,  1.64it/s, Loss=0.312]"
     ]
    },
    {
     "name": "stdout",
     "output_type": "stream",
     "text": [
      "✅ Loaded BraTS19_TCIA05_444_1: Image torch.Size([3, 224, 224]), Mask torch.Size([224, 224])\n",
      "✅ Loaded BraTS19_CBICA_AYI_1: Image torch.Size([3, 224, 224]), Mask torch.Size([224, 224])\n"
     ]
    },
    {
     "name": "stderr",
     "output_type": "stream",
     "text": [
      "Epoch [10/15]:  34%|███▎      | 35/104 [00:21<00:41,  1.65it/s, Loss=0.249]"
     ]
    },
    {
     "name": "stdout",
     "output_type": "stream",
     "text": [
      "✅ Loaded BraTS19_2013_10_1: Image torch.Size([3, 224, 224]), Mask torch.Size([224, 224])\n",
      "✅ Loaded BraTS19_TCIA02_608_1: Image torch.Size([3, 224, 224]), Mask torch.Size([224, 224])\n"
     ]
    },
    {
     "name": "stderr",
     "output_type": "stream",
     "text": [
      "Epoch [10/15]:  35%|███▍      | 36/104 [00:21<00:40,  1.67it/s, Loss=0.21] "
     ]
    },
    {
     "name": "stdout",
     "output_type": "stream",
     "text": [
      "✅ Loaded BraTS19_CBICA_AQZ_1: Image torch.Size([3, 224, 224]), Mask torch.Size([224, 224])\n",
      "✅ Loaded BraTS19_TCIA06_184_1: Image torch.Size([3, 224, 224]), Mask torch.Size([224, 224])\n"
     ]
    },
    {
     "name": "stderr",
     "output_type": "stream",
     "text": [
      "Epoch [10/15]:  36%|███▌      | 37/104 [00:22<00:40,  1.64it/s, Loss=0.21]"
     ]
    },
    {
     "name": "stdout",
     "output_type": "stream",
     "text": [
      "✅ Loaded BraTS19_TCIA04_149_1: Image torch.Size([3, 224, 224]), Mask torch.Size([224, 224])\n",
      "✅ Loaded BraTS19_2013_2_1: Image torch.Size([3, 224, 224]), Mask torch.Size([224, 224])\n"
     ]
    },
    {
     "name": "stderr",
     "output_type": "stream",
     "text": [
      "Epoch [10/15]:  37%|███▋      | 38/104 [00:23<00:40,  1.63it/s, Loss=0.443]"
     ]
    },
    {
     "name": "stdout",
     "output_type": "stream",
     "text": [
      "✅ Loaded BraTS19_CBICA_ABB_1: Image torch.Size([3, 224, 224]), Mask torch.Size([224, 224])\n",
      "✅ Loaded BraTS19_TCIA04_479_1: Image torch.Size([3, 224, 224]), Mask torch.Size([224, 224])\n"
     ]
    },
    {
     "name": "stderr",
     "output_type": "stream",
     "text": [
      "Epoch [10/15]:  38%|███▊      | 39/104 [00:23<00:39,  1.64it/s, Loss=0.75] "
     ]
    },
    {
     "name": "stdout",
     "output_type": "stream",
     "text": [
      "✅ Loaded BraTS19_CBICA_AMH_1: Image torch.Size([3, 224, 224]), Mask torch.Size([224, 224])\n",
      "✅ Loaded BraTS19_TCIA06_332_1: Image torch.Size([3, 224, 224]), Mask torch.Size([224, 224])\n"
     ]
    },
    {
     "name": "stderr",
     "output_type": "stream",
     "text": [
      "Epoch [10/15]:  38%|███▊      | 40/104 [00:24<00:38,  1.66it/s, Loss=0.313]"
     ]
    },
    {
     "name": "stdout",
     "output_type": "stream",
     "text": [
      "✅ Loaded BraTS19_CBICA_ASE_1: Image torch.Size([3, 224, 224]), Mask torch.Size([224, 224])\n",
      "✅ Loaded BraTS19_TCIA01_190_1: Image torch.Size([3, 224, 224]), Mask torch.Size([224, 224])\n"
     ]
    },
    {
     "name": "stderr",
     "output_type": "stream",
     "text": [
      "Epoch [10/15]:  39%|███▉      | 41/104 [00:24<00:38,  1.65it/s, Loss=0.554]"
     ]
    },
    {
     "name": "stdout",
     "output_type": "stream",
     "text": [
      "✅ Loaded BraTS19_TCIA01_460_1: Image torch.Size([3, 224, 224]), Mask torch.Size([224, 224])\n",
      "✅ Loaded BraTS19_TCIA02_331_1: Image torch.Size([3, 224, 224]), Mask torch.Size([224, 224])\n"
     ]
    },
    {
     "name": "stderr",
     "output_type": "stream",
     "text": [
      "Epoch [10/15]:  40%|████      | 42/104 [00:25<00:37,  1.66it/s, Loss=0.243]"
     ]
    },
    {
     "name": "stdout",
     "output_type": "stream",
     "text": [
      "✅ Loaded BraTS19_TCIA01_411_1: Image torch.Size([3, 224, 224]), Mask torch.Size([224, 224])\n",
      "✅ Loaded BraTS19_CBICA_AXQ_1: Image torch.Size([3, 224, 224]), Mask torch.Size([224, 224])\n"
     ]
    },
    {
     "name": "stderr",
     "output_type": "stream",
     "text": [
      "Epoch [10/15]:  41%|████▏     | 43/104 [00:26<00:36,  1.66it/s, Loss=0.543]"
     ]
    },
    {
     "name": "stdout",
     "output_type": "stream",
     "text": [
      "✅ Loaded BraTS19_TCIA03_257_1: Image torch.Size([3, 224, 224]), Mask torch.Size([224, 224])\n",
      "✅ Loaded BraTS19_CBICA_BIC_1: Image torch.Size([3, 224, 224]), Mask torch.Size([224, 224])\n"
     ]
    },
    {
     "name": "stderr",
     "output_type": "stream",
     "text": [
      "Epoch [10/15]:  42%|████▏     | 44/104 [00:26<00:36,  1.65it/s, Loss=0.328]"
     ]
    },
    {
     "name": "stdout",
     "output_type": "stream",
     "text": [
      "✅ Loaded BraTS19_TCIA02_321_1: Image torch.Size([3, 224, 224]), Mask torch.Size([224, 224])\n",
      "✅ Loaded BraTS19_TCIA02_283_1: Image torch.Size([3, 224, 224]), Mask torch.Size([224, 224])\n"
     ]
    },
    {
     "name": "stderr",
     "output_type": "stream",
     "text": [
      "Epoch [10/15]:  43%|████▎     | 45/104 [00:27<00:35,  1.67it/s, Loss=0.289]"
     ]
    },
    {
     "name": "stdout",
     "output_type": "stream",
     "text": [
      "✅ Loaded BraTS19_TCIA04_192_1: Image torch.Size([3, 224, 224]), Mask torch.Size([224, 224])\n",
      "✅ Loaded BraTS19_TCIA03_199_1: Image torch.Size([3, 224, 224]), Mask torch.Size([224, 224])\n"
     ]
    },
    {
     "name": "stderr",
     "output_type": "stream",
     "text": [
      "Epoch [10/15]:  44%|████▍     | 46/104 [00:27<00:34,  1.67it/s, Loss=0.228]"
     ]
    },
    {
     "name": "stdout",
     "output_type": "stream",
     "text": [
      "✅ Loaded BraTS19_CBICA_BLJ_1: Image torch.Size([3, 224, 224]), Mask torch.Size([224, 224])\n",
      "✅ Loaded BraTS19_CBICA_AQA_1: Image torch.Size([3, 224, 224]), Mask torch.Size([224, 224])\n"
     ]
    },
    {
     "name": "stderr",
     "output_type": "stream",
     "text": [
      "Epoch [10/15]:  45%|████▌     | 47/104 [00:28<00:34,  1.67it/s, Loss=0.512]"
     ]
    },
    {
     "name": "stdout",
     "output_type": "stream",
     "text": [
      "✅ Loaded BraTS19_CBICA_BAN_1: Image torch.Size([3, 224, 224]), Mask torch.Size([224, 224])\n",
      "✅ Loaded BraTS19_CBICA_AQP_1: Image torch.Size([3, 224, 224]), Mask torch.Size([224, 224])\n"
     ]
    },
    {
     "name": "stderr",
     "output_type": "stream",
     "text": [
      "Epoch [10/15]:  46%|████▌     | 48/104 [00:29<00:34,  1.65it/s, Loss=0.298]"
     ]
    },
    {
     "name": "stdout",
     "output_type": "stream",
     "text": [
      "✅ Loaded BraTS19_CBICA_ASN_1: Image torch.Size([3, 224, 224]), Mask torch.Size([224, 224])\n",
      "✅ Loaded BraTS19_CBICA_ASY_1: Image torch.Size([3, 224, 224]), Mask torch.Size([224, 224])\n"
     ]
    },
    {
     "name": "stderr",
     "output_type": "stream",
     "text": [
      "Epoch [10/15]:  47%|████▋     | 49/104 [00:29<00:33,  1.62it/s, Loss=0.353]"
     ]
    },
    {
     "name": "stdout",
     "output_type": "stream",
     "text": [
      "✅ Loaded BraTS19_2013_20_1: Image torch.Size([3, 224, 224]), Mask torch.Size([224, 224])\n",
      "✅ Loaded BraTS19_TCIA01_448_1: Image torch.Size([3, 224, 224]), Mask torch.Size([224, 224])\n"
     ]
    },
    {
     "name": "stderr",
     "output_type": "stream",
     "text": [
      "Epoch [10/15]:  48%|████▊     | 50/104 [00:30<00:33,  1.62it/s, Loss=0.264]"
     ]
    },
    {
     "name": "stdout",
     "output_type": "stream",
     "text": [
      "✅ Loaded BraTS19_CBICA_AVG_1: Image torch.Size([3, 224, 224]), Mask torch.Size([224, 224])\n",
      "✅ Loaded BraTS19_CBICA_AXW_1: Image torch.Size([3, 224, 224]), Mask torch.Size([224, 224])\n"
     ]
    },
    {
     "name": "stderr",
     "output_type": "stream",
     "text": [
      "Epoch [10/15]:  49%|████▉     | 51/104 [00:30<00:32,  1.63it/s, Loss=0.4]  "
     ]
    },
    {
     "name": "stdout",
     "output_type": "stream",
     "text": [
      "✅ Loaded BraTS19_CBICA_AQR_1: Image torch.Size([3, 224, 224]), Mask torch.Size([224, 224])\n",
      "✅ Loaded BraTS19_TCIA02_374_1: Image torch.Size([3, 224, 224]), Mask torch.Size([224, 224])\n"
     ]
    },
    {
     "name": "stderr",
     "output_type": "stream",
     "text": [
      "Epoch [10/15]:  50%|█████     | 52/104 [00:31<00:31,  1.64it/s, Loss=0.262]"
     ]
    },
    {
     "name": "stdout",
     "output_type": "stream",
     "text": [
      "✅ Loaded BraTS19_CBICA_AWI_1: Image torch.Size([3, 224, 224]), Mask torch.Size([224, 224])\n",
      "✅ Loaded BraTS19_CBICA_AVB_1: Image torch.Size([3, 224, 224]), Mask torch.Size([224, 224])\n"
     ]
    },
    {
     "name": "stderr",
     "output_type": "stream",
     "text": [
      "Epoch [10/15]:  51%|█████     | 53/104 [00:32<00:31,  1.64it/s, Loss=0.555]"
     ]
    },
    {
     "name": "stdout",
     "output_type": "stream",
     "text": [
      "✅ Loaded BraTS19_TCIA04_437_1: Image torch.Size([3, 224, 224]), Mask torch.Size([224, 224])\n",
      "✅ Loaded BraTS19_CBICA_ALN_1: Image torch.Size([3, 224, 224]), Mask torch.Size([224, 224])\n"
     ]
    },
    {
     "name": "stderr",
     "output_type": "stream",
     "text": [
      "Epoch [10/15]:  52%|█████▏    | 54/104 [00:32<00:30,  1.65it/s, Loss=0.283]"
     ]
    },
    {
     "name": "stdout",
     "output_type": "stream",
     "text": [
      "✅ Loaded BraTS19_CBICA_BKV_1: Image torch.Size([3, 224, 224]), Mask torch.Size([224, 224])\n",
      "✅ Loaded BraTS19_TCIA02_222_1: Image torch.Size([3, 224, 224]), Mask torch.Size([224, 224])\n"
     ]
    },
    {
     "name": "stderr",
     "output_type": "stream",
     "text": [
      "Epoch [10/15]:  53%|█████▎    | 55/104 [00:33<00:29,  1.65it/s, Loss=0.235]"
     ]
    },
    {
     "name": "stdout",
     "output_type": "stream",
     "text": [
      "✅ Loaded BraTS19_TCIA02_309_1: Image torch.Size([3, 224, 224]), Mask torch.Size([224, 224])\n",
      "✅ Loaded BraTS19_TCIA08_205_1: Image torch.Size([3, 224, 224]), Mask torch.Size([224, 224])\n"
     ]
    },
    {
     "name": "stderr",
     "output_type": "stream",
     "text": [
      "Epoch [10/15]:  54%|█████▍    | 56/104 [00:33<00:28,  1.66it/s, Loss=0.272]"
     ]
    },
    {
     "name": "stdout",
     "output_type": "stream",
     "text": [
      "✅ Loaded BraTS19_TCIA01_147_1: Image torch.Size([3, 224, 224]), Mask torch.Size([224, 224])\n",
      "✅ Loaded BraTS19_CBICA_APZ_1: Image torch.Size([3, 224, 224]), Mask torch.Size([224, 224])\n"
     ]
    },
    {
     "name": "stderr",
     "output_type": "stream",
     "text": [
      "Epoch [10/15]:  55%|█████▍    | 57/104 [00:34<00:28,  1.67it/s, Loss=0.23] "
     ]
    },
    {
     "name": "stdout",
     "output_type": "stream",
     "text": [
      "✅ Loaded BraTS19_TCIA08_469_1: Image torch.Size([3, 224, 224]), Mask torch.Size([224, 224])\n",
      "✅ Loaded BraTS19_CBICA_AWH_1: Image torch.Size([3, 224, 224]), Mask torch.Size([224, 224])\n"
     ]
    },
    {
     "name": "stderr",
     "output_type": "stream",
     "text": [
      "Epoch [10/15]:  56%|█████▌    | 58/104 [00:35<00:27,  1.69it/s, Loss=0.315]"
     ]
    },
    {
     "name": "stdout",
     "output_type": "stream",
     "text": [
      "✅ Loaded BraTS19_CBICA_AYA_1: Image torch.Size([3, 224, 224]), Mask torch.Size([224, 224])\n",
      "✅ Loaded BraTS19_TCIA01_201_1: Image torch.Size([3, 224, 224]), Mask torch.Size([224, 224])\n"
     ]
    },
    {
     "name": "stderr",
     "output_type": "stream",
     "text": [
      "Epoch [10/15]:  57%|█████▋    | 59/104 [00:35<00:26,  1.68it/s, Loss=0.337]"
     ]
    },
    {
     "name": "stdout",
     "output_type": "stream",
     "text": [
      "✅ Loaded BraTS19_CBICA_AXL_1: Image torch.Size([3, 224, 224]), Mask torch.Size([224, 224])\n",
      "✅ Loaded BraTS19_TCIA03_474_1: Image torch.Size([3, 224, 224]), Mask torch.Size([224, 224])\n"
     ]
    },
    {
     "name": "stderr",
     "output_type": "stream",
     "text": [
      "Epoch [10/15]:  58%|█████▊    | 60/104 [00:36<00:26,  1.69it/s, Loss=0.291]"
     ]
    },
    {
     "name": "stdout",
     "output_type": "stream",
     "text": [
      "✅ Loaded BraTS19_CBICA_BHZ_1: Image torch.Size([3, 224, 224]), Mask torch.Size([224, 224])\n",
      "✅ Loaded BraTS19_CBICA_AAG_1: Image torch.Size([3, 224, 224]), Mask torch.Size([224, 224])\n"
     ]
    },
    {
     "name": "stderr",
     "output_type": "stream",
     "text": [
      "Epoch [10/15]:  59%|█████▊    | 61/104 [00:36<00:26,  1.65it/s, Loss=0.177]"
     ]
    },
    {
     "name": "stdout",
     "output_type": "stream",
     "text": [
      "✅ Loaded BraTS19_CBICA_ASA_1: Image torch.Size([3, 224, 224]), Mask torch.Size([224, 224])\n",
      "✅ Loaded BraTS19_2013_18_1: Image torch.Size([3, 224, 224]), Mask torch.Size([224, 224])\n"
     ]
    },
    {
     "name": "stderr",
     "output_type": "stream",
     "text": [
      "Epoch [10/15]:  60%|█████▉    | 62/104 [00:37<00:25,  1.65it/s, Loss=0.325]"
     ]
    },
    {
     "name": "stdout",
     "output_type": "stream",
     "text": [
      "✅ Loaded BraTS19_TCIA02_198_1: Image torch.Size([3, 224, 224]), Mask torch.Size([224, 224])\n",
      "✅ Loaded BraTS19_CBICA_ARZ_1: Image torch.Size([3, 224, 224]), Mask torch.Size([224, 224])\n"
     ]
    },
    {
     "name": "stderr",
     "output_type": "stream",
     "text": [
      "Epoch [10/15]:  61%|██████    | 63/104 [00:38<00:24,  1.64it/s, Loss=0.575]"
     ]
    },
    {
     "name": "stdout",
     "output_type": "stream",
     "text": [
      "✅ Loaded BraTS19_CBICA_ALU_1: Image torch.Size([3, 224, 224]), Mask torch.Size([224, 224])\n",
      "✅ Loaded BraTS19_CBICA_AOC_1: Image torch.Size([3, 224, 224]), Mask torch.Size([224, 224])\n"
     ]
    },
    {
     "name": "stderr",
     "output_type": "stream",
     "text": [
      "Epoch [10/15]:  62%|██████▏   | 64/104 [00:38<00:24,  1.65it/s, Loss=0.217]"
     ]
    },
    {
     "name": "stdout",
     "output_type": "stream",
     "text": [
      "✅ Loaded BraTS19_TCIA08_218_1: Image torch.Size([3, 224, 224]), Mask torch.Size([224, 224])\n",
      "✅ Loaded BraTS19_CBICA_BCF_1: Image torch.Size([3, 224, 224]), Mask torch.Size([224, 224])\n"
     ]
    },
    {
     "name": "stderr",
     "output_type": "stream",
     "text": [
      "Epoch [10/15]:  62%|██████▎   | 65/104 [00:39<00:23,  1.67it/s, Loss=0.142]"
     ]
    },
    {
     "name": "stdout",
     "output_type": "stream",
     "text": [
      "✅ Loaded BraTS19_CBICA_AOZ_1: Image torch.Size([3, 224, 224]), Mask torch.Size([224, 224])\n",
      "✅ Loaded BraTS19_TCIA01_412_1: Image torch.Size([3, 224, 224]), Mask torch.Size([224, 224])\n"
     ]
    },
    {
     "name": "stderr",
     "output_type": "stream",
     "text": [
      "Epoch [10/15]:  63%|██████▎   | 66/104 [00:39<00:23,  1.63it/s, Loss=0.233]"
     ]
    },
    {
     "name": "stdout",
     "output_type": "stream",
     "text": [
      "✅ Loaded BraTS19_TCIA02_300_1: Image torch.Size([3, 224, 224]), Mask torch.Size([224, 224])\n",
      "✅ Loaded BraTS19_2013_27_1: Image torch.Size([3, 224, 224]), Mask torch.Size([224, 224])\n"
     ]
    },
    {
     "name": "stderr",
     "output_type": "stream",
     "text": [
      "Epoch [10/15]:  64%|██████▍   | 67/104 [00:40<00:22,  1.63it/s, Loss=0.131]"
     ]
    },
    {
     "name": "stdout",
     "output_type": "stream",
     "text": [
      "✅ Loaded BraTS19_2013_3_1: Image torch.Size([3, 224, 224]), Mask torch.Size([224, 224])\n",
      "✅ Loaded BraTS19_TCIA02_394_1: Image torch.Size([3, 224, 224]), Mask torch.Size([224, 224])\n"
     ]
    },
    {
     "name": "stderr",
     "output_type": "stream",
     "text": [
      "Epoch [10/15]:  65%|██████▌   | 68/104 [00:41<00:21,  1.65it/s, Loss=0.371]"
     ]
    },
    {
     "name": "stdout",
     "output_type": "stream",
     "text": [
      "✅ Loaded BraTS19_CBICA_AUQ_1: Image torch.Size([3, 224, 224]), Mask torch.Size([224, 224])\n",
      "✅ Loaded BraTS19_CBICA_BHB_1: Image torch.Size([3, 224, 224]), Mask torch.Size([224, 224])\n"
     ]
    },
    {
     "name": "stderr",
     "output_type": "stream",
     "text": [
      "Epoch [10/15]:  66%|██████▋   | 69/104 [00:41<00:21,  1.63it/s, Loss=0.295]"
     ]
    },
    {
     "name": "stdout",
     "output_type": "stream",
     "text": [
      "✅ Loaded BraTS19_TCIA02_322_1: Image torch.Size([3, 224, 224]), Mask torch.Size([224, 224])\n",
      "✅ Loaded BraTS19_TCIA06_603_1: Image torch.Size([3, 224, 224]), Mask torch.Size([224, 224])\n"
     ]
    },
    {
     "name": "stderr",
     "output_type": "stream",
     "text": [
      "Epoch [10/15]:  67%|██████▋   | 70/104 [00:42<00:20,  1.67it/s, Loss=0.213]"
     ]
    },
    {
     "name": "stdout",
     "output_type": "stream",
     "text": [
      "✅ Loaded BraTS19_CBICA_BGW_1: Image torch.Size([3, 224, 224]), Mask torch.Size([224, 224])\n",
      "✅ Loaded BraTS19_CBICA_BHQ_1: Image torch.Size([3, 224, 224]), Mask torch.Size([224, 224])\n"
     ]
    },
    {
     "name": "stderr",
     "output_type": "stream",
     "text": [
      "Epoch [10/15]:  68%|██████▊   | 71/104 [00:42<00:19,  1.66it/s, Loss=0.276]"
     ]
    },
    {
     "name": "stdout",
     "output_type": "stream",
     "text": [
      "✅ Loaded BraTS19_CBICA_APR_1: Image torch.Size([3, 224, 224]), Mask torch.Size([224, 224])\n",
      "✅ Loaded BraTS19_TCIA02_430_1: Image torch.Size([3, 224, 224]), Mask torch.Size([224, 224])\n"
     ]
    },
    {
     "name": "stderr",
     "output_type": "stream",
     "text": [
      "Epoch [10/15]:  69%|██████▉   | 72/104 [00:43<00:19,  1.67it/s, Loss=0.298]"
     ]
    },
    {
     "name": "stdout",
     "output_type": "stream",
     "text": [
      "✅ Loaded BraTS19_CBICA_BEM_1: Image torch.Size([3, 224, 224]), Mask torch.Size([224, 224])\n",
      "✅ Loaded BraTS19_CBICA_AWG_1: Image torch.Size([3, 224, 224]), Mask torch.Size([224, 224])\n"
     ]
    },
    {
     "name": "stderr",
     "output_type": "stream",
     "text": [
      "Epoch [10/15]:  70%|███████   | 73/104 [00:44<00:18,  1.65it/s, Loss=0.34] "
     ]
    },
    {
     "name": "stdout",
     "output_type": "stream",
     "text": [
      "✅ Loaded BraTS19_TCIA03_296_1: Image torch.Size([3, 224, 224]), Mask torch.Size([224, 224])\n",
      "✅ Loaded BraTS19_CBICA_ABE_1: Image torch.Size([3, 224, 224]), Mask torch.Size([224, 224])\n"
     ]
    },
    {
     "name": "stderr",
     "output_type": "stream",
     "text": [
      "Epoch [10/15]:  71%|███████   | 74/104 [00:44<00:17,  1.67it/s, Loss=0.298]"
     ]
    },
    {
     "name": "stdout",
     "output_type": "stream",
     "text": [
      "✅ Loaded BraTS19_TCIA01_235_1: Image torch.Size([3, 224, 224]), Mask torch.Size([224, 224])\n",
      "✅ Loaded BraTS19_CBICA_BJY_1: Image torch.Size([3, 224, 224]), Mask torch.Size([224, 224])\n"
     ]
    },
    {
     "name": "stderr",
     "output_type": "stream",
     "text": [
      "Epoch [10/15]:  72%|███████▏  | 75/104 [00:45<00:17,  1.68it/s, Loss=0.327]"
     ]
    },
    {
     "name": "stdout",
     "output_type": "stream",
     "text": [
      "✅ Loaded BraTS19_TCIA08_234_1: Image torch.Size([3, 224, 224]), Mask torch.Size([224, 224])\n",
      "✅ Loaded BraTS19_CBICA_ATV_1: Image torch.Size([3, 224, 224]), Mask torch.Size([224, 224])\n"
     ]
    },
    {
     "name": "stderr",
     "output_type": "stream",
     "text": [
      "Epoch [10/15]:  73%|███████▎  | 76/104 [00:45<00:16,  1.68it/s, Loss=0.257]"
     ]
    },
    {
     "name": "stdout",
     "output_type": "stream",
     "text": [
      "✅ Loaded BraTS19_TCIA02_607_1: Image torch.Size([3, 224, 224]), Mask torch.Size([224, 224])\n",
      "✅ Loaded BraTS19_CBICA_AUW_1: Image torch.Size([3, 224, 224]), Mask torch.Size([224, 224])\n"
     ]
    },
    {
     "name": "stderr",
     "output_type": "stream",
     "text": [
      "Epoch [10/15]:  74%|███████▍  | 77/104 [00:46<00:16,  1.66it/s, Loss=0.242]"
     ]
    },
    {
     "name": "stdout",
     "output_type": "stream",
     "text": [
      "✅ Loaded BraTS19_TCIA01_221_1: Image torch.Size([3, 224, 224]), Mask torch.Size([224, 224])\n",
      "✅ Loaded BraTS19_CBICA_AUN_1: Image torch.Size([3, 224, 224]), Mask torch.Size([224, 224])\n"
     ]
    },
    {
     "name": "stderr",
     "output_type": "stream",
     "text": [
      "Epoch [10/15]:  75%|███████▌  | 78/104 [00:47<00:15,  1.67it/s, Loss=0.34] "
     ]
    },
    {
     "name": "stdout",
     "output_type": "stream",
     "text": [
      "✅ Loaded BraTS19_TCIA04_111_1: Image torch.Size([3, 224, 224]), Mask torch.Size([224, 224])\n",
      "✅ Loaded BraTS19_TCIA01_429_1: Image torch.Size([3, 224, 224]), Mask torch.Size([224, 224])\n"
     ]
    },
    {
     "name": "stderr",
     "output_type": "stream",
     "text": [
      "Epoch [10/15]:  76%|███████▌  | 79/104 [00:47<00:15,  1.65it/s, Loss=0.173]"
     ]
    },
    {
     "name": "stdout",
     "output_type": "stream",
     "text": [
      "✅ Loaded BraTS19_TCIA01_180_1: Image torch.Size([3, 224, 224]), Mask torch.Size([224, 224])\n",
      "✅ Loaded BraTS19_CBICA_BAX_1: Image torch.Size([3, 224, 224]), Mask torch.Size([224, 224])\n"
     ]
    },
    {
     "name": "stderr",
     "output_type": "stream",
     "text": [
      "Epoch [10/15]:  77%|███████▋  | 80/104 [00:48<00:14,  1.66it/s, Loss=0.326]"
     ]
    },
    {
     "name": "stdout",
     "output_type": "stream",
     "text": [
      "✅ Loaded BraTS19_CBICA_BNR_1: Image torch.Size([3, 224, 224]), Mask torch.Size([224, 224])\n",
      "✅ Loaded BraTS19_TCIA08_113_1: Image torch.Size([3, 224, 224]), Mask torch.Size([224, 224])\n"
     ]
    },
    {
     "name": "stderr",
     "output_type": "stream",
     "text": [
      "Epoch [10/15]:  78%|███████▊  | 81/104 [00:48<00:13,  1.68it/s, Loss=0.426]"
     ]
    },
    {
     "name": "stdout",
     "output_type": "stream",
     "text": [
      "✅ Loaded BraTS19_CBICA_ANZ_1: Image torch.Size([3, 224, 224]), Mask torch.Size([224, 224])\n",
      "✅ Loaded BraTS19_TCIA06_409_1: Image torch.Size([3, 224, 224]), Mask torch.Size([224, 224])\n"
     ]
    },
    {
     "name": "stderr",
     "output_type": "stream",
     "text": [
      "Epoch [10/15]:  79%|███████▉  | 82/104 [00:49<00:13,  1.66it/s, Loss=0.373]"
     ]
    },
    {
     "name": "stdout",
     "output_type": "stream",
     "text": [
      "✅ Loaded BraTS19_CBICA_AXJ_1: Image torch.Size([3, 224, 224]), Mask torch.Size([224, 224])\n",
      "✅ Loaded BraTS19_CBICA_ATX_1: Image torch.Size([3, 224, 224]), Mask torch.Size([224, 224])\n"
     ]
    },
    {
     "name": "stderr",
     "output_type": "stream",
     "text": [
      "Epoch [10/15]:  80%|███████▉  | 83/104 [00:50<00:12,  1.64it/s, Loss=0.258]"
     ]
    },
    {
     "name": "stdout",
     "output_type": "stream",
     "text": [
      "✅ Loaded BraTS19_CBICA_BFP_1: Image torch.Size([3, 224, 224]), Mask torch.Size([224, 224])\n",
      "✅ Loaded BraTS19_CBICA_AXM_1: Image torch.Size([3, 224, 224]), Mask torch.Size([224, 224])\n"
     ]
    },
    {
     "name": "stderr",
     "output_type": "stream",
     "text": [
      "Epoch [10/15]:  81%|████████  | 84/104 [00:50<00:12,  1.64it/s, Loss=0.212]"
     ]
    },
    {
     "name": "stdout",
     "output_type": "stream",
     "text": [
      "✅ Loaded BraTS19_CBICA_ATB_1: Image torch.Size([3, 224, 224]), Mask torch.Size([224, 224])\n",
      "✅ Loaded BraTS19_2013_4_1: Image torch.Size([3, 224, 224]), Mask torch.Size([224, 224])\n"
     ]
    },
    {
     "name": "stderr",
     "output_type": "stream",
     "text": [
      "Epoch [10/15]:  82%|████████▏ | 85/104 [00:51<00:11,  1.65it/s, Loss=0.377]"
     ]
    },
    {
     "name": "stdout",
     "output_type": "stream",
     "text": [
      "✅ Loaded BraTS19_CBICA_AQD_1: Image torch.Size([3, 224, 224]), Mask torch.Size([224, 224])\n",
      "✅ Loaded BraTS19_TCIA01_150_1: Image torch.Size([3, 224, 224]), Mask torch.Size([224, 224])\n"
     ]
    },
    {
     "name": "stderr",
     "output_type": "stream",
     "text": [
      "Epoch [10/15]:  83%|████████▎ | 86/104 [00:52<00:10,  1.64it/s, Loss=0.258]"
     ]
    },
    {
     "name": "stdout",
     "output_type": "stream",
     "text": [
      "✅ Loaded BraTS19_TCIA03_338_1: Image torch.Size([3, 224, 224]), Mask torch.Size([224, 224])\n",
      "✅ Loaded BraTS19_TCIA02_605_1: Image torch.Size([3, 224, 224]), Mask torch.Size([224, 224])\n"
     ]
    },
    {
     "name": "stderr",
     "output_type": "stream",
     "text": [
      "Epoch [10/15]:  84%|████████▎ | 87/104 [00:52<00:10,  1.65it/s, Loss=0.58] "
     ]
    },
    {
     "name": "stdout",
     "output_type": "stream",
     "text": [
      "✅ Loaded BraTS19_TCIA02_491_1: Image torch.Size([3, 224, 224]), Mask torch.Size([224, 224])\n",
      "✅ Loaded BraTS19_CBICA_BHV_1: Image torch.Size([3, 224, 224]), Mask torch.Size([224, 224])\n"
     ]
    },
    {
     "name": "stderr",
     "output_type": "stream",
     "text": [
      "Epoch [10/15]:  85%|████████▍ | 88/104 [00:53<00:09,  1.67it/s, Loss=0.286]"
     ]
    },
    {
     "name": "stdout",
     "output_type": "stream",
     "text": [
      "✅ Loaded BraTS19_2013_5_1: Image torch.Size([3, 224, 224]), Mask torch.Size([224, 224])\n",
      "✅ Loaded BraTS19_2013_11_1: Image torch.Size([3, 224, 224]), Mask torch.Size([224, 224])\n"
     ]
    },
    {
     "name": "stderr",
     "output_type": "stream",
     "text": [
      "Epoch [10/15]:  86%|████████▌ | 89/104 [00:53<00:09,  1.64it/s, Loss=0.412]"
     ]
    },
    {
     "name": "stdout",
     "output_type": "stream",
     "text": [
      "✅ Loaded BraTS19_TCIA02_226_1: Image torch.Size([3, 224, 224]), Mask torch.Size([224, 224])\n",
      "✅ Loaded BraTS19_TCIA08_167_1: Image torch.Size([3, 224, 224]), Mask torch.Size([224, 224])\n"
     ]
    },
    {
     "name": "stderr",
     "output_type": "stream",
     "text": [
      "Epoch [10/15]:  87%|████████▋ | 90/104 [00:54<00:08,  1.65it/s, Loss=0.235]"
     ]
    },
    {
     "name": "stdout",
     "output_type": "stream",
     "text": [
      "✅ Loaded BraTS19_CBICA_ARF_1: Image torch.Size([3, 224, 224]), Mask torch.Size([224, 224])\n",
      "✅ Loaded BraTS19_CBICA_ABY_1: Image torch.Size([3, 224, 224]), Mask torch.Size([224, 224])\n"
     ]
    },
    {
     "name": "stderr",
     "output_type": "stream",
     "text": [
      "Epoch [10/15]:  88%|████████▊ | 91/104 [00:55<00:07,  1.63it/s, Loss=0.261]"
     ]
    },
    {
     "name": "stdout",
     "output_type": "stream",
     "text": [
      "✅ Loaded BraTS19_CBICA_AVT_1: Image torch.Size([3, 224, 224]), Mask torch.Size([224, 224])\n",
      "✅ Loaded BraTS19_TCIA02_473_1: Image torch.Size([3, 224, 224]), Mask torch.Size([224, 224])\n"
     ]
    },
    {
     "name": "stderr",
     "output_type": "stream",
     "text": [
      "Epoch [10/15]:  88%|████████▊ | 92/104 [00:55<00:07,  1.62it/s, Loss=0.25] "
     ]
    },
    {
     "name": "stdout",
     "output_type": "stream",
     "text": [
      "✅ Loaded BraTS19_TCIA03_419_1: Image torch.Size([3, 224, 224]), Mask torch.Size([224, 224])\n",
      "✅ Loaded BraTS19_TMC_21360_1: Image torch.Size([3, 224, 224]), Mask torch.Size([224, 224])\n"
     ]
    },
    {
     "name": "stderr",
     "output_type": "stream",
     "text": [
      "Epoch [10/15]:  89%|████████▉ | 93/104 [00:56<00:06,  1.63it/s, Loss=0.215]"
     ]
    },
    {
     "name": "stdout",
     "output_type": "stream",
     "text": [
      "✅ Loaded BraTS19_TCIA01_335_1: Image torch.Size([3, 224, 224]), Mask torch.Size([224, 224])\n",
      "✅ Loaded BraTS19_TCIA03_121_1: Image torch.Size([3, 224, 224]), Mask torch.Size([224, 224])\n"
     ]
    },
    {
     "name": "stderr",
     "output_type": "stream",
     "text": [
      "Epoch [10/15]:  90%|█████████ | 94/104 [00:56<00:06,  1.60it/s, Loss=0.235]"
     ]
    },
    {
     "name": "stdout",
     "output_type": "stream",
     "text": [
      "✅ Loaded BraTS19_CBICA_ASU_1: Image torch.Size([3, 224, 224]), Mask torch.Size([224, 224])\n",
      "✅ Loaded BraTS19_2013_7_1: Image torch.Size([3, 224, 224]), Mask torch.Size([224, 224])\n"
     ]
    },
    {
     "name": "stderr",
     "output_type": "stream",
     "text": [
      "Epoch [10/15]:  91%|█████████▏| 95/104 [00:57<00:05,  1.60it/s, Loss=0.535]"
     ]
    },
    {
     "name": "stdout",
     "output_type": "stream",
     "text": [
      "✅ Loaded BraTS19_TCIA02_151_1: Image torch.Size([3, 224, 224]), Mask torch.Size([224, 224])\n",
      "✅ Loaded BraTS19_TCIA02_455_1: Image torch.Size([3, 224, 224]), Mask torch.Size([224, 224])\n"
     ]
    },
    {
     "name": "stderr",
     "output_type": "stream",
     "text": [
      "Epoch [10/15]:  92%|█████████▏| 96/104 [00:58<00:04,  1.61it/s, Loss=0.0983]"
     ]
    },
    {
     "name": "stdout",
     "output_type": "stream",
     "text": [
      "✅ Loaded BraTS19_CBICA_AOO_1: Image torch.Size([3, 224, 224]), Mask torch.Size([224, 224])\n",
      "✅ Loaded BraTS19_CBICA_AYC_1: Image torch.Size([3, 224, 224]), Mask torch.Size([224, 224])\n"
     ]
    },
    {
     "name": "stderr",
     "output_type": "stream",
     "text": [
      "Epoch [10/15]:  93%|█████████▎| 97/104 [00:58<00:04,  1.64it/s, Loss=0.242] "
     ]
    },
    {
     "name": "stdout",
     "output_type": "stream",
     "text": [
      "✅ Loaded BraTS19_CBICA_BAP_1: Image torch.Size([3, 224, 224]), Mask torch.Size([224, 224])\n",
      "✅ Loaded BraTS19_CBICA_BGT_1: Image torch.Size([3, 224, 224]), Mask torch.Size([224, 224])\n"
     ]
    },
    {
     "name": "stderr",
     "output_type": "stream",
     "text": [
      "Epoch [10/15]:  94%|█████████▍| 98/104 [00:59<00:03,  1.65it/s, Loss=0.375]"
     ]
    },
    {
     "name": "stdout",
     "output_type": "stream",
     "text": [
      "✅ Loaded BraTS19_CBICA_AAB_1: Image torch.Size([3, 224, 224]), Mask torch.Size([224, 224])\n",
      "✅ Loaded BraTS19_2013_19_1: Image torch.Size([3, 224, 224]), Mask torch.Size([224, 224])\n"
     ]
    },
    {
     "name": "stderr",
     "output_type": "stream",
     "text": [
      "Epoch [10/15]:  95%|█████████▌| 99/104 [00:59<00:03,  1.65it/s, Loss=0.294]"
     ]
    },
    {
     "name": "stdout",
     "output_type": "stream",
     "text": [
      "✅ Loaded BraTS19_TCIA02_135_1: Image torch.Size([3, 224, 224]), Mask torch.Size([224, 224])\n",
      "✅ Loaded BraTS19_TCIA06_211_1: Image torch.Size([3, 224, 224]), Mask torch.Size([224, 224])\n"
     ]
    },
    {
     "name": "stderr",
     "output_type": "stream",
     "text": [
      "Epoch [10/15]:  96%|█████████▌| 100/104 [01:00<00:02,  1.64it/s, Loss=0.371]"
     ]
    },
    {
     "name": "stdout",
     "output_type": "stream",
     "text": [
      "✅ Loaded BraTS19_CBICA_AXO_1: Image torch.Size([3, 224, 224]), Mask torch.Size([224, 224])\n",
      "✅ Loaded BraTS19_TCIA01_186_1: Image torch.Size([3, 224, 224]), Mask torch.Size([224, 224])\n"
     ]
    },
    {
     "name": "stderr",
     "output_type": "stream",
     "text": [
      "Epoch [10/15]:  97%|█████████▋| 101/104 [01:01<00:01,  1.64it/s, Loss=0.34] "
     ]
    },
    {
     "name": "stdout",
     "output_type": "stream",
     "text": [
      "✅ Loaded BraTS19_CBICA_AUA_1: Image torch.Size([3, 224, 224]), Mask torch.Size([224, 224])\n",
      "✅ Loaded BraTS19_CBICA_AOS_1: Image torch.Size([3, 224, 224]), Mask torch.Size([224, 224])\n"
     ]
    },
    {
     "name": "stderr",
     "output_type": "stream",
     "text": [
      "Epoch [10/15]:  98%|█████████▊| 102/104 [01:01<00:01,  1.64it/s, Loss=0.291]"
     ]
    },
    {
     "name": "stdout",
     "output_type": "stream",
     "text": [
      "✅ Loaded BraTS19_CBICA_APK_1: Image torch.Size([3, 224, 224]), Mask torch.Size([224, 224])\n",
      "✅ Loaded BraTS19_TCIA02_171_1: Image torch.Size([3, 224, 224]), Mask torch.Size([224, 224])\n"
     ]
    },
    {
     "name": "stderr",
     "output_type": "stream",
     "text": [
      "Epoch [10/15]:  99%|█████████▉| 103/104 [01:02<00:00,  1.64it/s, Loss=0.245]"
     ]
    },
    {
     "name": "stdout",
     "output_type": "stream",
     "text": [
      "✅ Loaded BraTS19_2013_12_1: Image torch.Size([3, 224, 224]), Mask torch.Size([224, 224])\n"
     ]
    },
    {
     "name": "stderr",
     "output_type": "stream",
     "text": [
      "                                                                            \r"
     ]
    },
    {
     "name": "stdout",
     "output_type": "stream",
     "text": [
      "\n",
      "✅ Epoch 10: Train Loss: 0.3216\n",
      "💾 Saved model at epoch 10 with train loss 0.3216\n"
     ]
    },
    {
     "name": "stderr",
     "output_type": "stream",
     "text": [
      "Epoch [11/15]:   0%|          | 0/104 [00:00<?, ?it/s]"
     ]
    },
    {
     "name": "stdout",
     "output_type": "stream",
     "text": [
      "✅ Loaded BraTS19_CBICA_ATV_1: Image torch.Size([3, 224, 224]), Mask torch.Size([224, 224])\n",
      "✅ Loaded BraTS19_TCIA08_280_1: Image torch.Size([3, 224, 224]), Mask torch.Size([224, 224])\n"
     ]
    },
    {
     "name": "stderr",
     "output_type": "stream",
     "text": [
      "Epoch [11/15]:   1%|          | 1/104 [00:00<00:58,  1.76it/s, Loss=0.238]"
     ]
    },
    {
     "name": "stdout",
     "output_type": "stream",
     "text": [
      "✅ Loaded BraTS19_CBICA_BIC_1: Image torch.Size([3, 224, 224]), Mask torch.Size([224, 224])\n",
      "✅ Loaded BraTS19_CBICA_AVG_1: Image torch.Size([3, 224, 224]), Mask torch.Size([224, 224])\n"
     ]
    },
    {
     "name": "stderr",
     "output_type": "stream",
     "text": [
      "Epoch [11/15]:   2%|▏         | 2/104 [00:01<01:01,  1.67it/s, Loss=0.525]"
     ]
    },
    {
     "name": "stdout",
     "output_type": "stream",
     "text": [
      "✅ Loaded BraTS19_CBICA_BHQ_1: Image torch.Size([3, 224, 224]), Mask torch.Size([224, 224])\n",
      "✅ Loaded BraTS19_CBICA_ANG_1: Image torch.Size([3, 224, 224]), Mask torch.Size([224, 224])\n"
     ]
    },
    {
     "name": "stderr",
     "output_type": "stream",
     "text": [
      "Epoch [11/15]:   3%|▎         | 3/104 [00:01<01:01,  1.63it/s, Loss=0.396]"
     ]
    },
    {
     "name": "stdout",
     "output_type": "stream",
     "text": [
      "✅ Loaded BraTS19_TCIA02_300_1: Image torch.Size([3, 224, 224]), Mask torch.Size([224, 224])\n",
      "✅ Loaded BraTS19_CBICA_AQN_1: Image torch.Size([3, 224, 224]), Mask torch.Size([224, 224])\n"
     ]
    },
    {
     "name": "stderr",
     "output_type": "stream",
     "text": [
      "Epoch [11/15]:   4%|▍         | 4/104 [00:02<01:01,  1.63it/s, Loss=0.16] "
     ]
    },
    {
     "name": "stdout",
     "output_type": "stream",
     "text": [
      "✅ Loaded BraTS19_CBICA_AUN_1: Image torch.Size([3, 224, 224]), Mask torch.Size([224, 224])\n",
      "✅ Loaded BraTS19_TCIA02_331_1: Image torch.Size([3, 224, 224]), Mask torch.Size([224, 224])\n"
     ]
    },
    {
     "name": "stderr",
     "output_type": "stream",
     "text": [
      "Epoch [11/15]:   5%|▍         | 5/104 [00:03<01:00,  1.64it/s, Loss=0.284]"
     ]
    },
    {
     "name": "stdout",
     "output_type": "stream",
     "text": [
      "✅ Loaded BraTS19_CBICA_AVB_1: Image torch.Size([3, 224, 224]), Mask torch.Size([224, 224])\n",
      "✅ Loaded BraTS19_CBICA_ALX_1: Image torch.Size([3, 224, 224]), Mask torch.Size([224, 224])\n"
     ]
    },
    {
     "name": "stderr",
     "output_type": "stream",
     "text": [
      "Epoch [11/15]:   6%|▌         | 6/104 [00:03<00:58,  1.68it/s, Loss=0.272]"
     ]
    },
    {
     "name": "stdout",
     "output_type": "stream",
     "text": [
      "✅ Loaded BraTS19_CBICA_AAB_1: Image torch.Size([3, 224, 224]), Mask torch.Size([224, 224])\n",
      "✅ Loaded BraTS19_2013_19_1: Image torch.Size([3, 224, 224]), Mask torch.Size([224, 224])\n"
     ]
    },
    {
     "name": "stderr",
     "output_type": "stream",
     "text": [
      "Epoch [11/15]:   7%|▋         | 7/104 [00:04<00:57,  1.68it/s, Loss=0.23] "
     ]
    },
    {
     "name": "stdout",
     "output_type": "stream",
     "text": [
      "✅ Loaded BraTS19_CBICA_AWI_1: Image torch.Size([3, 224, 224]), Mask torch.Size([224, 224])\n",
      "✅ Loaded BraTS19_2013_10_1: Image torch.Size([3, 224, 224]), Mask torch.Size([224, 224])\n"
     ]
    },
    {
     "name": "stderr",
     "output_type": "stream",
     "text": [
      "Epoch [11/15]:   8%|▊         | 8/104 [00:04<00:56,  1.70it/s, Loss=0.142]"
     ]
    },
    {
     "name": "stdout",
     "output_type": "stream",
     "text": [
      "✅ Loaded BraTS19_TCIA02_608_1: Image torch.Size([3, 224, 224]), Mask torch.Size([224, 224])\n",
      "✅ Loaded BraTS19_CBICA_ASU_1: Image torch.Size([3, 224, 224]), Mask torch.Size([224, 224])\n"
     ]
    },
    {
     "name": "stderr",
     "output_type": "stream",
     "text": [
      "Epoch [11/15]:   9%|▊         | 9/104 [00:05<00:56,  1.69it/s, Loss=0.208]"
     ]
    },
    {
     "name": "stdout",
     "output_type": "stream",
     "text": [
      "✅ Loaded BraTS19_CBICA_BKV_1: Image torch.Size([3, 224, 224]), Mask torch.Size([224, 224])\n",
      "✅ Loaded BraTS19_2013_2_1: Image torch.Size([3, 224, 224]), Mask torch.Size([224, 224])\n"
     ]
    },
    {
     "name": "stderr",
     "output_type": "stream",
     "text": [
      "Epoch [11/15]:  10%|▉         | 10/104 [00:05<00:55,  1.68it/s, Loss=0.388]"
     ]
    },
    {
     "name": "stdout",
     "output_type": "stream",
     "text": [
      "✅ Loaded BraTS19_TCIA01_390_1: Image torch.Size([3, 224, 224]), Mask torch.Size([224, 224])\n",
      "✅ Loaded BraTS19_TCIA08_218_1: Image torch.Size([3, 224, 224]), Mask torch.Size([224, 224])\n"
     ]
    },
    {
     "name": "stderr",
     "output_type": "stream",
     "text": [
      "Epoch [11/15]:  11%|█         | 11/104 [00:06<00:55,  1.66it/s, Loss=0.224]"
     ]
    },
    {
     "name": "stdout",
     "output_type": "stream",
     "text": [
      "✅ Loaded BraTS19_2013_27_1: Image torch.Size([3, 224, 224]), Mask torch.Size([224, 224])\n",
      "✅ Loaded BraTS19_CBICA_BLJ_1: Image torch.Size([3, 224, 224]), Mask torch.Size([224, 224])\n"
     ]
    },
    {
     "name": "stderr",
     "output_type": "stream",
     "text": [
      "Epoch [11/15]:  12%|█▏        | 12/104 [00:07<00:56,  1.63it/s, Loss=0.446]"
     ]
    },
    {
     "name": "stdout",
     "output_type": "stream",
     "text": [
      "✅ Loaded BraTS19_CBICA_APR_1: Image torch.Size([3, 224, 224]), Mask torch.Size([224, 224])\n",
      "✅ Loaded BraTS19_CBICA_BGT_1: Image torch.Size([3, 224, 224]), Mask torch.Size([224, 224])\n"
     ]
    },
    {
     "name": "stderr",
     "output_type": "stream",
     "text": [
      "Epoch [11/15]:  12%|█▎        | 13/104 [00:07<00:54,  1.68it/s, Loss=0.644]"
     ]
    },
    {
     "name": "stdout",
     "output_type": "stream",
     "text": [
      "✅ Loaded BraTS19_CBICA_ASH_1: Image torch.Size([3, 224, 224]), Mask torch.Size([224, 224])\n",
      "✅ Loaded BraTS19_CBICA_BEM_1: Image torch.Size([3, 224, 224]), Mask torch.Size([224, 224])\n"
     ]
    },
    {
     "name": "stderr",
     "output_type": "stream",
     "text": [
      "Epoch [11/15]:  13%|█▎        | 14/104 [00:08<00:53,  1.69it/s, Loss=0.335]"
     ]
    },
    {
     "name": "stdout",
     "output_type": "stream",
     "text": [
      "✅ Loaded BraTS19_CBICA_ALU_1: Image torch.Size([3, 224, 224]), Mask torch.Size([224, 224])\n",
      "✅ Loaded BraTS19_CBICA_AQR_1: Image torch.Size([3, 224, 224]), Mask torch.Size([224, 224])\n"
     ]
    },
    {
     "name": "stderr",
     "output_type": "stream",
     "text": [
      "Epoch [11/15]:  14%|█▍        | 15/104 [00:08<00:52,  1.68it/s, Loss=0.381]"
     ]
    },
    {
     "name": "stdout",
     "output_type": "stream",
     "text": [
      "✅ Loaded BraTS19_CBICA_BHZ_1: Image torch.Size([3, 224, 224]), Mask torch.Size([224, 224])\n",
      "✅ Loaded BraTS19_CBICA_ANP_1: Image torch.Size([3, 224, 224]), Mask torch.Size([224, 224])\n"
     ]
    },
    {
     "name": "stderr",
     "output_type": "stream",
     "text": [
      "Epoch [11/15]:  15%|█▌        | 16/104 [00:09<00:52,  1.69it/s, Loss=0.198]"
     ]
    },
    {
     "name": "stdout",
     "output_type": "stream",
     "text": [
      "✅ Loaded BraTS19_TCIA03_199_1: Image torch.Size([3, 224, 224]), Mask torch.Size([224, 224])\n",
      "✅ Loaded BraTS19_TCIA02_377_1: Image torch.Size([3, 224, 224]), Mask torch.Size([224, 224])\n"
     ]
    },
    {
     "name": "stderr",
     "output_type": "stream",
     "text": [
      "Epoch [11/15]:  16%|█▋        | 17/104 [00:10<00:51,  1.70it/s, Loss=0.245]"
     ]
    },
    {
     "name": "stdout",
     "output_type": "stream",
     "text": [
      "✅ Loaded BraTS19_TCIA01_411_1: Image torch.Size([3, 224, 224]), Mask torch.Size([224, 224])\n",
      "✅ Loaded BraTS19_CBICA_AQZ_1: Image torch.Size([3, 224, 224]), Mask torch.Size([224, 224])\n"
     ]
    },
    {
     "name": "stderr",
     "output_type": "stream",
     "text": [
      "Epoch [11/15]:  17%|█▋        | 18/104 [00:10<00:50,  1.69it/s, Loss=0.533]"
     ]
    },
    {
     "name": "stdout",
     "output_type": "stream",
     "text": [
      "✅ Loaded BraTS19_CBICA_AAP_1: Image torch.Size([3, 224, 224]), Mask torch.Size([224, 224])\n",
      "✅ Loaded BraTS19_TCIA06_603_1: Image torch.Size([3, 224, 224]), Mask torch.Size([224, 224])\n"
     ]
    },
    {
     "name": "stderr",
     "output_type": "stream",
     "text": [
      "Epoch [11/15]:  18%|█▊        | 19/104 [00:11<00:50,  1.69it/s, Loss=0.247]"
     ]
    },
    {
     "name": "stdout",
     "output_type": "stream",
     "text": [
      "✅ Loaded BraTS19_CBICA_ATB_1: Image torch.Size([3, 224, 224]), Mask torch.Size([224, 224])\n",
      "✅ Loaded BraTS19_TCIA05_444_1: Image torch.Size([3, 224, 224]), Mask torch.Size([224, 224])\n"
     ]
    },
    {
     "name": "stderr",
     "output_type": "stream",
     "text": [
      "Epoch [11/15]:  19%|█▉        | 20/104 [00:11<00:50,  1.68it/s, Loss=0.271]"
     ]
    },
    {
     "name": "stdout",
     "output_type": "stream",
     "text": [
      "✅ Loaded BraTS19_TCIA06_332_1: Image torch.Size([3, 224, 224]), Mask torch.Size([224, 224])\n",
      "✅ Loaded BraTS19_TCIA02_430_1: Image torch.Size([3, 224, 224]), Mask torch.Size([224, 224])\n"
     ]
    },
    {
     "name": "stderr",
     "output_type": "stream",
     "text": [
      "Epoch [11/15]:  20%|██        | 21/104 [00:12<00:49,  1.69it/s, Loss=0.264]"
     ]
    },
    {
     "name": "stdout",
     "output_type": "stream",
     "text": [
      "✅ Loaded BraTS19_CBICA_ABY_1: Image torch.Size([3, 224, 224]), Mask torch.Size([224, 224])\n",
      "✅ Loaded BraTS19_TCIA03_375_1: Image torch.Size([3, 224, 224]), Mask torch.Size([224, 224])\n"
     ]
    },
    {
     "name": "stderr",
     "output_type": "stream",
     "text": [
      "Epoch [11/15]:  21%|██        | 22/104 [00:13<00:49,  1.67it/s, Loss=0.384]"
     ]
    },
    {
     "name": "stdout",
     "output_type": "stream",
     "text": [
      "✅ Loaded BraTS19_CBICA_ARF_1: Image torch.Size([3, 224, 224]), Mask torch.Size([224, 224])\n",
      "✅ Loaded BraTS19_CBICA_BBG_1: Image torch.Size([3, 224, 224]), Mask torch.Size([224, 224])\n"
     ]
    },
    {
     "name": "stderr",
     "output_type": "stream",
     "text": [
      "Epoch [11/15]:  22%|██▏       | 23/104 [00:13<00:48,  1.68it/s, Loss=0.236]"
     ]
    },
    {
     "name": "stdout",
     "output_type": "stream",
     "text": [
      "✅ Loaded BraTS19_CBICA_BCF_1: Image torch.Size([3, 224, 224]), Mask torch.Size([224, 224])\n",
      "✅ Loaded BraTS19_CBICA_ANZ_1: Image torch.Size([3, 224, 224]), Mask torch.Size([224, 224])\n"
     ]
    },
    {
     "name": "stderr",
     "output_type": "stream",
     "text": [
      "Epoch [11/15]:  23%|██▎       | 24/104 [00:14<00:47,  1.68it/s, Loss=0.523]"
     ]
    },
    {
     "name": "stdout",
     "output_type": "stream",
     "text": [
      "✅ Loaded BraTS19_TCIA06_184_1: Image torch.Size([3, 224, 224]), Mask torch.Size([224, 224])\n",
      "✅ Loaded BraTS19_CBICA_AQO_1: Image torch.Size([3, 224, 224]), Mask torch.Size([224, 224])\n"
     ]
    },
    {
     "name": "stderr",
     "output_type": "stream",
     "text": [
      "Epoch [11/15]:  24%|██▍       | 25/104 [00:14<00:47,  1.67it/s, Loss=0.239]"
     ]
    },
    {
     "name": "stdout",
     "output_type": "stream",
     "text": [
      "✅ Loaded BraTS19_2013_3_1: Image torch.Size([3, 224, 224]), Mask torch.Size([224, 224])\n",
      "✅ Loaded BraTS19_CBICA_AQD_1: Image torch.Size([3, 224, 224]), Mask torch.Size([224, 224])\n"
     ]
    },
    {
     "name": "stderr",
     "output_type": "stream",
     "text": [
      "Epoch [11/15]:  25%|██▌       | 26/104 [00:15<00:46,  1.67it/s, Loss=0.235]"
     ]
    },
    {
     "name": "stdout",
     "output_type": "stream",
     "text": [
      "✅ Loaded BraTS19_TCIA02_151_1: Image torch.Size([3, 224, 224]), Mask torch.Size([224, 224])\n",
      "✅ Loaded BraTS19_CBICA_AYW_1: Image torch.Size([3, 224, 224]), Mask torch.Size([224, 224])\n"
     ]
    },
    {
     "name": "stderr",
     "output_type": "stream",
     "text": [
      "Epoch [11/15]:  26%|██▌       | 27/104 [00:16<00:46,  1.66it/s, Loss=0.104]"
     ]
    },
    {
     "name": "stdout",
     "output_type": "stream",
     "text": [
      "✅ Loaded BraTS19_CBICA_AOZ_1: Image torch.Size([3, 224, 224]), Mask torch.Size([224, 224])\n",
      "✅ Loaded BraTS19_TCIA08_406_1: Image torch.Size([3, 224, 224]), Mask torch.Size([224, 224])\n"
     ]
    },
    {
     "name": "stderr",
     "output_type": "stream",
     "text": [
      "Epoch [11/15]:  27%|██▋       | 28/104 [00:16<00:45,  1.67it/s, Loss=0.331]"
     ]
    },
    {
     "name": "stdout",
     "output_type": "stream",
     "text": [
      "✅ Loaded BraTS19_TCIA02_290_1: Image torch.Size([3, 224, 224]), Mask torch.Size([224, 224])\n",
      "✅ Loaded BraTS19_CBICA_AQT_1: Image torch.Size([3, 224, 224]), Mask torch.Size([224, 224])\n"
     ]
    },
    {
     "name": "stderr",
     "output_type": "stream",
     "text": [
      "Epoch [11/15]:  28%|██▊       | 29/104 [00:17<00:44,  1.67it/s, Loss=0.325]"
     ]
    },
    {
     "name": "stdout",
     "output_type": "stream",
     "text": [
      "✅ Loaded BraTS19_TCIA01_412_1: Image torch.Size([3, 224, 224]), Mask torch.Size([224, 224])\n",
      "✅ Loaded BraTS19_CBICA_AYU_1: Image torch.Size([3, 224, 224]), Mask torch.Size([224, 224])\n"
     ]
    },
    {
     "name": "stderr",
     "output_type": "stream",
     "text": [
      "Epoch [11/15]:  29%|██▉       | 30/104 [00:17<00:44,  1.67it/s, Loss=0.243]"
     ]
    },
    {
     "name": "stdout",
     "output_type": "stream",
     "text": [
      "✅ Loaded BraTS19_2013_18_1: Image torch.Size([3, 224, 224]), Mask torch.Size([224, 224])\n",
      "✅ Loaded BraTS19_CBICA_AXJ_1: Image torch.Size([3, 224, 224]), Mask torch.Size([224, 224])\n"
     ]
    },
    {
     "name": "stderr",
     "output_type": "stream",
     "text": [
      "Epoch [11/15]:  30%|██▉       | 31/104 [00:18<00:43,  1.67it/s, Loss=0.286]"
     ]
    },
    {
     "name": "stdout",
     "output_type": "stream",
     "text": [
      "✅ Loaded BraTS19_TCIA02_168_1: Image torch.Size([3, 224, 224]), Mask torch.Size([224, 224])\n",
      "✅ Loaded BraTS19_TCIA05_478_1: Image torch.Size([3, 224, 224]), Mask torch.Size([224, 224])\n"
     ]
    },
    {
     "name": "stderr",
     "output_type": "stream",
     "text": [
      "Epoch [11/15]:  31%|███       | 32/104 [00:19<00:43,  1.66it/s, Loss=0.216]"
     ]
    },
    {
     "name": "stdout",
     "output_type": "stream",
     "text": [
      "✅ Loaded BraTS19_TCIA06_211_1: Image torch.Size([3, 224, 224]), Mask torch.Size([224, 224])\n",
      "✅ Loaded BraTS19_TCIA02_455_1: Image torch.Size([3, 224, 224]), Mask torch.Size([224, 224])\n"
     ]
    },
    {
     "name": "stderr",
     "output_type": "stream",
     "text": [
      "Epoch [11/15]:  32%|███▏      | 33/104 [00:19<00:43,  1.64it/s, Loss=0.356]"
     ]
    },
    {
     "name": "stdout",
     "output_type": "stream",
     "text": [
      "✅ Loaded BraTS19_TCIA08_205_1: Image torch.Size([3, 224, 224]), Mask torch.Size([224, 224])\n",
      "✅ Loaded BraTS19_TMC_30014_1: Image torch.Size([3, 224, 224]), Mask torch.Size([224, 224])\n"
     ]
    },
    {
     "name": "stderr",
     "output_type": "stream",
     "text": [
      "Epoch [11/15]:  33%|███▎      | 34/104 [00:20<00:43,  1.63it/s, Loss=0.244]"
     ]
    },
    {
     "name": "stdout",
     "output_type": "stream",
     "text": [
      "✅ Loaded BraTS19_2013_25_1: Image torch.Size([3, 224, 224]), Mask torch.Size([224, 224])\n",
      "✅ Loaded BraTS19_TCIA02_283_1: Image torch.Size([3, 224, 224]), Mask torch.Size([224, 224])\n"
     ]
    },
    {
     "name": "stderr",
     "output_type": "stream",
     "text": [
      "Epoch [11/15]:  34%|███▎      | 35/104 [00:20<00:42,  1.64it/s, Loss=0.313]"
     ]
    },
    {
     "name": "stdout",
     "output_type": "stream",
     "text": [
      "✅ Loaded BraTS19_2013_7_1: Image torch.Size([3, 224, 224]), Mask torch.Size([224, 224])\n",
      "✅ Loaded BraTS19_TCIA04_361_1: Image torch.Size([3, 224, 224]), Mask torch.Size([224, 224])\n"
     ]
    },
    {
     "name": "stderr",
     "output_type": "stream",
     "text": [
      "Epoch [11/15]:  35%|███▍      | 36/104 [00:21<00:41,  1.63it/s, Loss=0.294]"
     ]
    },
    {
     "name": "stdout",
     "output_type": "stream",
     "text": [
      "✅ Loaded BraTS19_CBICA_AME_1: Image torch.Size([3, 224, 224]), Mask torch.Size([224, 224])\n",
      "✅ Loaded BraTS19_TCIA01_460_1: Image torch.Size([3, 224, 224]), Mask torch.Size([224, 224])\n"
     ]
    },
    {
     "name": "stderr",
     "output_type": "stream",
     "text": [
      "Epoch [11/15]:  36%|███▌      | 37/104 [00:22<00:41,  1.63it/s, Loss=0.215]"
     ]
    },
    {
     "name": "stdout",
     "output_type": "stream",
     "text": [
      "✅ Loaded BraTS19_CBICA_ASN_1: Image torch.Size([3, 224, 224]), Mask torch.Size([224, 224])\n",
      "✅ Loaded BraTS19_CBICA_AWG_1: Image torch.Size([3, 224, 224]), Mask torch.Size([224, 224])\n"
     ]
    },
    {
     "name": "stderr",
     "output_type": "stream",
     "text": [
      "Epoch [11/15]:  37%|███▋      | 38/104 [00:22<00:39,  1.65it/s, Loss=0.387]"
     ]
    },
    {
     "name": "stdout",
     "output_type": "stream",
     "text": [
      "✅ Loaded BraTS19_TCIA08_113_1: Image torch.Size([3, 224, 224]), Mask torch.Size([224, 224])\n",
      "✅ Loaded BraTS19_TCIA03_138_1: Image torch.Size([3, 224, 224]), Mask torch.Size([224, 224])\n"
     ]
    },
    {
     "name": "stderr",
     "output_type": "stream",
     "text": [
      "Epoch [11/15]:  38%|███▊      | 39/104 [00:23<00:39,  1.65it/s, Loss=0.368]"
     ]
    },
    {
     "name": "stdout",
     "output_type": "stream",
     "text": [
      "✅ Loaded BraTS19_TCIA02_222_1: Image torch.Size([3, 224, 224]), Mask torch.Size([224, 224])\n",
      "✅ Loaded BraTS19_TCIA02_314_1: Image torch.Size([3, 224, 224]), Mask torch.Size([224, 224])\n"
     ]
    },
    {
     "name": "stderr",
     "output_type": "stream",
     "text": [
      "Epoch [11/15]:  38%|███▊      | 40/104 [00:24<00:39,  1.64it/s, Loss=0.291]"
     ]
    },
    {
     "name": "stdout",
     "output_type": "stream",
     "text": [
      "✅ Loaded BraTS19_CBICA_AMH_1: Image torch.Size([3, 224, 224]), Mask torch.Size([224, 224])\n",
      "✅ Loaded BraTS19_CBICA_AXQ_1: Image torch.Size([3, 224, 224]), Mask torch.Size([224, 224])\n"
     ]
    },
    {
     "name": "stderr",
     "output_type": "stream",
     "text": [
      "Epoch [11/15]:  39%|███▉      | 41/104 [00:24<00:38,  1.63it/s, Loss=0.319]"
     ]
    },
    {
     "name": "stdout",
     "output_type": "stream",
     "text": [
      "✅ Loaded BraTS19_CBICA_AQV_1: Image torch.Size([3, 224, 224]), Mask torch.Size([224, 224])\n",
      "✅ Loaded BraTS19_CBICA_AWH_1: Image torch.Size([3, 224, 224]), Mask torch.Size([224, 224])\n"
     ]
    },
    {
     "name": "stderr",
     "output_type": "stream",
     "text": [
      "Epoch [11/15]:  40%|████      | 42/104 [00:25<00:38,  1.63it/s, Loss=0.24] "
     ]
    },
    {
     "name": "stdout",
     "output_type": "stream",
     "text": [
      "✅ Loaded BraTS19_TCIA02_321_1: Image torch.Size([3, 224, 224]), Mask torch.Size([224, 224])\n",
      "✅ Loaded BraTS19_2013_5_1: Image torch.Size([3, 224, 224]), Mask torch.Size([224, 224])\n"
     ]
    },
    {
     "name": "stderr",
     "output_type": "stream",
     "text": [
      "Epoch [11/15]:  41%|████▏     | 43/104 [00:25<00:36,  1.65it/s, Loss=0.267]"
     ]
    },
    {
     "name": "stdout",
     "output_type": "stream",
     "text": [
      "✅ Loaded BraTS19_CBICA_BGX_1: Image torch.Size([3, 224, 224]), Mask torch.Size([224, 224])\n",
      "✅ Loaded BraTS19_CBICA_AXW_1: Image torch.Size([3, 224, 224]), Mask torch.Size([224, 224])\n"
     ]
    },
    {
     "name": "stderr",
     "output_type": "stream",
     "text": [
      "Epoch [11/15]:  42%|████▏     | 44/104 [00:26<00:36,  1.62it/s, Loss=0.208]"
     ]
    },
    {
     "name": "stdout",
     "output_type": "stream",
     "text": [
      "✅ Loaded BraTS19_CBICA_BGE_1: Image torch.Size([3, 224, 224]), Mask torch.Size([224, 224])\n",
      "✅ Loaded BraTS19_CBICA_AXO_1: Image torch.Size([3, 224, 224]), Mask torch.Size([224, 224])\n"
     ]
    },
    {
     "name": "stderr",
     "output_type": "stream",
     "text": [
      "Epoch [11/15]:  43%|████▎     | 45/104 [00:27<00:36,  1.60it/s, Loss=0.343]"
     ]
    },
    {
     "name": "stdout",
     "output_type": "stream",
     "text": [
      "✅ Loaded BraTS19_CBICA_ATN_1: Image torch.Size([3, 224, 224]), Mask torch.Size([224, 224])\n",
      "✅ Loaded BraTS19_2013_26_1: Image torch.Size([3, 224, 224]), Mask torch.Size([224, 224])\n"
     ]
    },
    {
     "name": "stderr",
     "output_type": "stream",
     "text": [
      "Epoch [11/15]:  44%|████▍     | 46/104 [00:27<00:35,  1.62it/s, Loss=0.344]"
     ]
    },
    {
     "name": "stdout",
     "output_type": "stream",
     "text": [
      "✅ Loaded BraTS19_TCIA02_198_1: Image torch.Size([3, 224, 224]), Mask torch.Size([224, 224])\n",
      "✅ Loaded BraTS19_TCIA02_368_1: Image torch.Size([3, 224, 224]), Mask torch.Size([224, 224])\n"
     ]
    },
    {
     "name": "stderr",
     "output_type": "stream",
     "text": [
      "Epoch [11/15]:  45%|████▌     | 47/104 [00:28<00:34,  1.63it/s, Loss=0.254]"
     ]
    },
    {
     "name": "stdout",
     "output_type": "stream",
     "text": [
      "✅ Loaded BraTS19_CBICA_ABE_1: Image torch.Size([3, 224, 224]), Mask torch.Size([224, 224])\n",
      "✅ Loaded BraTS19_TCIA02_322_1: Image torch.Size([3, 224, 224]), Mask torch.Size([224, 224])\n"
     ]
    },
    {
     "name": "stderr",
     "output_type": "stream",
     "text": [
      "Epoch [11/15]:  46%|████▌     | 48/104 [00:28<00:34,  1.64it/s, Loss=0.234]"
     ]
    },
    {
     "name": "stdout",
     "output_type": "stream",
     "text": [
      "✅ Loaded BraTS19_TCIA04_328_1: Image torch.Size([3, 224, 224]), Mask torch.Size([224, 224])\n",
      "✅ Loaded BraTS19_CBICA_AUR_1: Image torch.Size([3, 224, 224]), Mask torch.Size([224, 224])\n"
     ]
    },
    {
     "name": "stderr",
     "output_type": "stream",
     "text": [
      "Epoch [11/15]:  47%|████▋     | 49/104 [00:29<00:33,  1.66it/s, Loss=0.427]"
     ]
    },
    {
     "name": "stdout",
     "output_type": "stream",
     "text": [
      "✅ Loaded BraTS19_CBICA_BHB_1: Image torch.Size([3, 224, 224]), Mask torch.Size([224, 224])\n",
      "✅ Loaded BraTS19_CBICA_BGG_1: Image torch.Size([3, 224, 224]), Mask torch.Size([224, 224])\n"
     ]
    },
    {
     "name": "stderr",
     "output_type": "stream",
     "text": [
      "Epoch [11/15]:  48%|████▊     | 50/104 [00:30<00:31,  1.74it/s, Loss=0.595]"
     ]
    },
    {
     "name": "stdout",
     "output_type": "stream",
     "text": [
      "✅ Loaded BraTS19_TCIA08_469_1: Image torch.Size([3, 224, 224]), Mask torch.Size([224, 224])\n",
      "✅ Loaded BraTS19_CBICA_AXM_1: Image torch.Size([3, 224, 224]), Mask torch.Size([224, 224])\n"
     ]
    },
    {
     "name": "stderr",
     "output_type": "stream",
     "text": [
      "Epoch [11/15]:  49%|████▉     | 51/104 [00:30<00:29,  1.79it/s, Loss=0.289]"
     ]
    },
    {
     "name": "stdout",
     "output_type": "stream",
     "text": [
      "✅ Loaded BraTS19_CBICA_AUW_1: Image torch.Size([3, 224, 224]), Mask torch.Size([224, 224])\n",
      "✅ Loaded BraTS19_TCIA03_498_1: Image torch.Size([3, 224, 224]), Mask torch.Size([224, 224])\n"
     ]
    },
    {
     "name": "stderr",
     "output_type": "stream",
     "text": [
      "Epoch [11/15]:  50%|█████     | 52/104 [00:31<00:28,  1.85it/s, Loss=0.255]"
     ]
    },
    {
     "name": "stdout",
     "output_type": "stream",
     "text": [
      "✅ Loaded BraTS19_CBICA_AAL_1: Image torch.Size([3, 224, 224]), Mask torch.Size([224, 224])\n",
      "✅ Loaded BraTS19_TMC_21360_1: Image torch.Size([3, 224, 224]), Mask torch.Size([224, 224])\n"
     ]
    },
    {
     "name": "stderr",
     "output_type": "stream",
     "text": [
      "Epoch [11/15]:  51%|█████     | 53/104 [00:31<00:26,  1.89it/s, Loss=0.259]"
     ]
    },
    {
     "name": "stdout",
     "output_type": "stream",
     "text": [
      "✅ Loaded BraTS19_TCIA01_150_1: Image torch.Size([3, 224, 224]), Mask torch.Size([224, 224])\n",
      "✅ Loaded BraTS19_TCIA01_378_1: Image torch.Size([3, 224, 224]), Mask torch.Size([224, 224])\n"
     ]
    },
    {
     "name": "stderr",
     "output_type": "stream",
     "text": [
      "Epoch [11/15]:  52%|█████▏    | 54/104 [00:32<00:26,  1.90it/s, Loss=0.268]"
     ]
    },
    {
     "name": "stdout",
     "output_type": "stream",
     "text": [
      "✅ Loaded BraTS19_CBICA_APK_1: Image torch.Size([3, 224, 224]), Mask torch.Size([224, 224])\n",
      "✅ Loaded BraTS19_CBICA_ASY_1: Image torch.Size([3, 224, 224]), Mask torch.Size([224, 224])\n"
     ]
    },
    {
     "name": "stderr",
     "output_type": "stream",
     "text": [
      "Epoch [11/15]:  53%|█████▎    | 55/104 [00:32<00:25,  1.93it/s, Loss=0.316]"
     ]
    },
    {
     "name": "stdout",
     "output_type": "stream",
     "text": [
      "✅ Loaded BraTS19_CBICA_BFP_1: Image torch.Size([3, 224, 224]), Mask torch.Size([224, 224])\n",
      "✅ Loaded BraTS19_CBICA_ABB_1: Image torch.Size([3, 224, 224]), Mask torch.Size([224, 224])\n"
     ]
    },
    {
     "name": "stderr",
     "output_type": "stream",
     "text": [
      "Epoch [11/15]:  54%|█████▍    | 56/104 [00:33<00:24,  1.95it/s, Loss=0.548]"
     ]
    },
    {
     "name": "stdout",
     "output_type": "stream",
     "text": [
      "✅ Loaded BraTS19_TMC_11964_1: Image torch.Size([3, 224, 224]), Mask torch.Size([224, 224])\n",
      "✅ Loaded BraTS19_TCIA01_147_1: Image torch.Size([3, 224, 224]), Mask torch.Size([224, 224])\n"
     ]
    },
    {
     "name": "stderr",
     "output_type": "stream",
     "text": [
      "Epoch [11/15]:  55%|█████▍    | 57/104 [00:33<00:24,  1.95it/s, Loss=0.218]"
     ]
    },
    {
     "name": "stdout",
     "output_type": "stream",
     "text": [
      "✅ Loaded BraTS19_TCIA04_149_1: Image torch.Size([3, 224, 224]), Mask torch.Size([224, 224])\n",
      "✅ Loaded BraTS19_CBICA_ARZ_1: Image torch.Size([3, 224, 224]), Mask torch.Size([224, 224])\n"
     ]
    },
    {
     "name": "stderr",
     "output_type": "stream",
     "text": [
      "Epoch [11/15]:  56%|█████▌    | 58/104 [00:34<00:23,  1.96it/s, Loss=0.466]"
     ]
    },
    {
     "name": "stdout",
     "output_type": "stream",
     "text": [
      "✅ Loaded BraTS19_TCIA02_171_1: Image torch.Size([3, 224, 224]), Mask torch.Size([224, 224])\n",
      "✅ Loaded BraTS19_TCIA02_607_1: Image torch.Size([3, 224, 224]), Mask torch.Size([224, 224])\n"
     ]
    },
    {
     "name": "stderr",
     "output_type": "stream",
     "text": [
      "Epoch [11/15]:  57%|█████▋    | 59/104 [00:34<00:22,  1.97it/s, Loss=0.332]"
     ]
    },
    {
     "name": "stdout",
     "output_type": "stream",
     "text": [
      "✅ Loaded BraTS19_TCIA06_165_1: Image torch.Size([3, 224, 224]), Mask torch.Size([224, 224])\n",
      "✅ Loaded BraTS19_TCIA08_234_1: Image torch.Size([3, 224, 224]), Mask torch.Size([224, 224])\n"
     ]
    },
    {
     "name": "stderr",
     "output_type": "stream",
     "text": [
      "Epoch [11/15]:  58%|█████▊    | 60/104 [00:35<00:22,  1.98it/s, Loss=0.249]"
     ]
    },
    {
     "name": "stdout",
     "output_type": "stream",
     "text": [
      "✅ Loaded BraTS19_CBICA_BGW_1: Image torch.Size([3, 224, 224]), Mask torch.Size([224, 224])\n",
      "✅ Loaded BraTS19_CBICA_BNR_1: Image torch.Size([3, 224, 224]), Mask torch.Size([224, 224])\n"
     ]
    },
    {
     "name": "stderr",
     "output_type": "stream",
     "text": [
      "Epoch [11/15]:  59%|█████▊    | 61/104 [00:35<00:21,  1.97it/s, Loss=0.274]"
     ]
    },
    {
     "name": "stdout",
     "output_type": "stream",
     "text": [
      "✅ Loaded BraTS19_TCIA02_491_1: Image torch.Size([3, 224, 224]), Mask torch.Size([224, 224])\n",
      "✅ Loaded BraTS19_TCIA01_425_1: Image torch.Size([3, 224, 224]), Mask torch.Size([224, 224])\n"
     ]
    },
    {
     "name": "stderr",
     "output_type": "stream",
     "text": [
      "Epoch [11/15]:  60%|█████▉    | 62/104 [00:36<00:21,  1.98it/s, Loss=0.341]"
     ]
    },
    {
     "name": "stdout",
     "output_type": "stream",
     "text": [
      "✅ Loaded BraTS19_CBICA_AVT_1: Image torch.Size([3, 224, 224]), Mask torch.Size([224, 224])\n",
      "✅ Loaded BraTS19_2013_21_1: Image torch.Size([3, 224, 224]), Mask torch.Size([224, 224])\n"
     ]
    },
    {
     "name": "stderr",
     "output_type": "stream",
     "text": [
      "Epoch [11/15]:  61%|██████    | 63/104 [00:36<00:20,  1.97it/s, Loss=0.25] "
     ]
    },
    {
     "name": "stdout",
     "output_type": "stream",
     "text": [
      "✅ Loaded BraTS19_CBICA_ATX_1: Image torch.Size([3, 224, 224]), Mask torch.Size([224, 224])\n",
      "✅ Loaded BraTS19_CBICA_ASA_1: Image torch.Size([3, 224, 224]), Mask torch.Size([224, 224])\n"
     ]
    },
    {
     "name": "stderr",
     "output_type": "stream",
     "text": [
      "Epoch [11/15]:  62%|██████▏   | 64/104 [00:37<00:20,  1.98it/s, Loss=0.375]"
     ]
    },
    {
     "name": "stdout",
     "output_type": "stream",
     "text": [
      "✅ Loaded BraTS19_CBICA_BFB_1: Image torch.Size([3, 224, 224]), Mask torch.Size([224, 224])\n",
      "✅ Loaded BraTS19_TCIA01_448_1: Image torch.Size([3, 224, 224]), Mask torch.Size([224, 224])\n"
     ]
    },
    {
     "name": "stderr",
     "output_type": "stream",
     "text": [
      "Epoch [11/15]:  62%|██████▎   | 65/104 [00:37<00:19,  1.98it/s, Loss=0.555]"
     ]
    },
    {
     "name": "stdout",
     "output_type": "stream",
     "text": [
      "✅ Loaded BraTS19_TCIA02_179_1: Image torch.Size([3, 224, 224]), Mask torch.Size([224, 224])\n",
      "✅ Loaded BraTS19_CBICA_AQG_1: Image torch.Size([3, 224, 224]), Mask torch.Size([224, 224])\n"
     ]
    },
    {
     "name": "stderr",
     "output_type": "stream",
     "text": [
      "Epoch [11/15]:  63%|██████▎   | 66/104 [00:38<00:19,  1.97it/s, Loss=0.517]"
     ]
    },
    {
     "name": "stdout",
     "output_type": "stream",
     "text": [
      "✅ Loaded BraTS19_TCIA02_374_1: Image torch.Size([3, 224, 224]), Mask torch.Size([224, 224])\n",
      "✅ Loaded BraTS19_CBICA_BHV_1: Image torch.Size([3, 224, 224]), Mask torch.Size([224, 224])\n"
     ]
    },
    {
     "name": "stderr",
     "output_type": "stream",
     "text": [
      "Epoch [11/15]:  64%|██████▍   | 67/104 [00:38<00:18,  1.97it/s, Loss=0.269]"
     ]
    },
    {
     "name": "stdout",
     "output_type": "stream",
     "text": [
      "✅ Loaded BraTS19_CBICA_ASE_1: Image torch.Size([3, 224, 224]), Mask torch.Size([224, 224])\n",
      "✅ Loaded BraTS19_TCIA02_226_1: Image torch.Size([3, 224, 224]), Mask torch.Size([224, 224])\n"
     ]
    },
    {
     "name": "stderr",
     "output_type": "stream",
     "text": [
      "Epoch [11/15]:  65%|██████▌   | 68/104 [00:39<00:18,  1.99it/s, Loss=0.324]"
     ]
    },
    {
     "name": "stdout",
     "output_type": "stream",
     "text": [
      "✅ Loaded BraTS19_2013_13_1: Image torch.Size([3, 224, 224]), Mask torch.Size([224, 224])\n",
      "✅ Loaded BraTS19_TCIA02_309_1: Image torch.Size([3, 224, 224]), Mask torch.Size([224, 224])\n"
     ]
    },
    {
     "name": "stderr",
     "output_type": "stream",
     "text": [
      "Epoch [11/15]:  66%|██████▋   | 69/104 [00:39<00:17,  1.97it/s, Loss=0.282]"
     ]
    },
    {
     "name": "stdout",
     "output_type": "stream",
     "text": [
      "✅ Loaded BraTS19_TCIA03_296_1: Image torch.Size([3, 224, 224]), Mask torch.Size([224, 224])\n",
      "✅ Loaded BraTS19_TCIA04_343_1: Image torch.Size([3, 224, 224]), Mask torch.Size([224, 224])\n"
     ]
    },
    {
     "name": "stderr",
     "output_type": "stream",
     "text": [
      "Epoch [11/15]:  67%|██████▋   | 70/104 [00:40<00:17,  1.98it/s, Loss=0.302]"
     ]
    },
    {
     "name": "stdout",
     "output_type": "stream",
     "text": [
      "✅ Loaded BraTS19_TCIA04_479_1: Image torch.Size([3, 224, 224]), Mask torch.Size([224, 224])\n",
      "✅ Loaded BraTS19_CBICA_AQA_1: Image torch.Size([3, 224, 224]), Mask torch.Size([224, 224])\n"
     ]
    },
    {
     "name": "stderr",
     "output_type": "stream",
     "text": [
      "Epoch [11/15]:  68%|██████▊   | 71/104 [00:40<00:16,  1.98it/s, Loss=0.75] "
     ]
    },
    {
     "name": "stdout",
     "output_type": "stream",
     "text": [
      "✅ Loaded BraTS19_CBICA_AVV_1: Image torch.Size([3, 224, 224]), Mask torch.Size([224, 224])\n",
      "✅ Loaded BraTS19_TCIA01_190_1: Image torch.Size([3, 224, 224]), Mask torch.Size([224, 224])\n"
     ]
    },
    {
     "name": "stderr",
     "output_type": "stream",
     "text": [
      "Epoch [11/15]:  69%|██████▉   | 72/104 [00:41<00:16,  1.97it/s, Loss=0.404]"
     ]
    },
    {
     "name": "stdout",
     "output_type": "stream",
     "text": [
      "✅ Loaded BraTS19_TCIA01_335_1: Image torch.Size([3, 224, 224]), Mask torch.Size([224, 224])\n",
      "✅ Loaded BraTS19_TMC_15477_1: Image torch.Size([3, 224, 224]), Mask torch.Size([224, 224])\n"
     ]
    },
    {
     "name": "stderr",
     "output_type": "stream",
     "text": [
      "Epoch [11/15]:  70%|███████   | 73/104 [00:41<00:15,  1.98it/s, Loss=0.228]"
     ]
    },
    {
     "name": "stdout",
     "output_type": "stream",
     "text": [
      "✅ Loaded BraTS19_CBICA_AAG_1: Image torch.Size([3, 224, 224]), Mask torch.Size([224, 224])\n",
      "✅ Loaded BraTS19_TCIA03_419_1: Image torch.Size([3, 224, 224]), Mask torch.Size([224, 224])\n"
     ]
    },
    {
     "name": "stderr",
     "output_type": "stream",
     "text": [
      "Epoch [11/15]:  71%|███████   | 74/104 [00:42<00:15,  1.99it/s, Loss=0.191]"
     ]
    },
    {
     "name": "stdout",
     "output_type": "stream",
     "text": [
      "✅ Loaded BraTS19_TCIA03_474_1: Image torch.Size([3, 224, 224]), Mask torch.Size([224, 224])\n",
      "✅ Loaded BraTS19_2013_20_1: Image torch.Size([3, 224, 224]), Mask torch.Size([224, 224])\n"
     ]
    },
    {
     "name": "stderr",
     "output_type": "stream",
     "text": [
      "Epoch [11/15]:  72%|███████▏  | 75/104 [00:42<00:14,  1.97it/s, Loss=0.247]"
     ]
    },
    {
     "name": "stdout",
     "output_type": "stream",
     "text": [
      "✅ Loaded BraTS19_CBICA_ALN_1: Image torch.Size([3, 224, 224]), Mask torch.Size([224, 224])\n",
      "✅ Loaded BraTS19_CBICA_AUQ_1: Image torch.Size([3, 224, 224]), Mask torch.Size([224, 224])\n"
     ]
    },
    {
     "name": "stderr",
     "output_type": "stream",
     "text": [
      "Epoch [11/15]:  73%|███████▎  | 76/104 [00:43<00:14,  1.98it/s, Loss=0.302]"
     ]
    },
    {
     "name": "stdout",
     "output_type": "stream",
     "text": [
      "✅ Loaded BraTS19_CBICA_AQJ_1: Image torch.Size([3, 224, 224]), Mask torch.Size([224, 224])\n",
      "✅ Loaded BraTS19_CBICA_ASG_1: Image torch.Size([3, 224, 224]), Mask torch.Size([224, 224])\n"
     ]
    },
    {
     "name": "stderr",
     "output_type": "stream",
     "text": [
      "Epoch [11/15]:  74%|███████▍  | 77/104 [00:43<00:13,  1.97it/s, Loss=0.331]"
     ]
    },
    {
     "name": "stdout",
     "output_type": "stream",
     "text": [
      "✅ Loaded BraTS19_CBICA_AYA_1: Image torch.Size([3, 224, 224]), Mask torch.Size([224, 224])\n",
      "✅ Loaded BraTS19_TCIA06_409_1: Image torch.Size([3, 224, 224]), Mask torch.Size([224, 224])\n"
     ]
    },
    {
     "name": "stderr",
     "output_type": "stream",
     "text": [
      "Epoch [11/15]:  75%|███████▌  | 78/104 [00:44<00:13,  1.96it/s, Loss=0.347]"
     ]
    },
    {
     "name": "stdout",
     "output_type": "stream",
     "text": [
      "✅ Loaded BraTS19_TCIA01_429_1: Image torch.Size([3, 224, 224]), Mask torch.Size([224, 224])\n",
      "✅ Loaded BraTS19_TCIA01_499_1: Image torch.Size([3, 224, 224]), Mask torch.Size([224, 224])\n"
     ]
    },
    {
     "name": "stderr",
     "output_type": "stream",
     "text": [
      "Epoch [11/15]:  76%|███████▌  | 79/104 [00:44<00:12,  1.97it/s, Loss=0.199]"
     ]
    },
    {
     "name": "stdout",
     "output_type": "stream",
     "text": [
      "✅ Loaded BraTS19_CBICA_AVJ_1: Image torch.Size([3, 224, 224]), Mask torch.Size([224, 224])\n",
      "✅ Loaded BraTS19_TCIA02_135_1: Image torch.Size([3, 224, 224]), Mask torch.Size([224, 224])\n"
     ]
    },
    {
     "name": "stderr",
     "output_type": "stream",
     "text": [
      "Epoch [11/15]:  77%|███████▋  | 80/104 [00:45<00:12,  1.96it/s, Loss=0.224]"
     ]
    },
    {
     "name": "stdout",
     "output_type": "stream",
     "text": [
      "✅ Loaded BraTS19_TCIA01_186_1: Image torch.Size([3, 224, 224]), Mask torch.Size([224, 224])\n",
      "✅ Loaded BraTS19_CBICA_ATP_1: Image torch.Size([3, 224, 224]), Mask torch.Size([224, 224])\n"
     ]
    },
    {
     "name": "stderr",
     "output_type": "stream",
     "text": [
      "Epoch [11/15]:  78%|███████▊  | 81/104 [00:45<00:11,  1.97it/s, Loss=0.435]"
     ]
    },
    {
     "name": "stdout",
     "output_type": "stream",
     "text": [
      "✅ Loaded BraTS19_CBICA_AXL_1: Image torch.Size([3, 224, 224]), Mask torch.Size([224, 224])\n",
      "✅ Loaded BraTS19_TCIA02_605_1: Image torch.Size([3, 224, 224]), Mask torch.Size([224, 224])\n"
     ]
    },
    {
     "name": "stderr",
     "output_type": "stream",
     "text": [
      "Epoch [11/15]:  79%|███████▉  | 82/104 [00:46<00:11,  1.98it/s, Loss=0.342]"
     ]
    },
    {
     "name": "stdout",
     "output_type": "stream",
     "text": [
      "✅ Loaded BraTS19_CBICA_BGN_1: Image torch.Size([3, 224, 224]), Mask torch.Size([224, 224])\n",
      "✅ Loaded BraTS19_TCIA03_257_1: Image torch.Size([3, 224, 224]), Mask torch.Size([224, 224])\n"
     ]
    },
    {
     "name": "stderr",
     "output_type": "stream",
     "text": [
      "Epoch [11/15]:  80%|███████▉  | 83/104 [00:46<00:10,  1.98it/s, Loss=0.254]"
     ]
    },
    {
     "name": "stdout",
     "output_type": "stream",
     "text": [
      "✅ Loaded BraTS19_TCIA01_221_1: Image torch.Size([3, 224, 224]), Mask torch.Size([224, 224])\n",
      "✅ Loaded BraTS19_CBICA_BJY_1: Image torch.Size([3, 224, 224]), Mask torch.Size([224, 224])\n"
     ]
    },
    {
     "name": "stderr",
     "output_type": "stream",
     "text": [
      "Epoch [11/15]:  81%|████████  | 84/104 [00:47<00:10,  1.98it/s, Loss=0.368]"
     ]
    },
    {
     "name": "stdout",
     "output_type": "stream",
     "text": [
      "✅ Loaded BraTS19_CBICA_BAP_1: Image torch.Size([3, 224, 224]), Mask torch.Size([224, 224])\n",
      "✅ Loaded BraTS19_CBICA_AOO_1: Image torch.Size([3, 224, 224]), Mask torch.Size([224, 224])\n"
     ]
    },
    {
     "name": "stderr",
     "output_type": "stream",
     "text": [
      "Epoch [11/15]:  82%|████████▏ | 85/104 [00:47<00:09,  1.98it/s, Loss=0.367]"
     ]
    },
    {
     "name": "stdout",
     "output_type": "stream",
     "text": [
      "✅ Loaded BraTS19_CBICA_AQU_1: Image torch.Size([3, 224, 224]), Mask torch.Size([224, 224])\n",
      "✅ Loaded BraTS19_CBICA_AYC_1: Image torch.Size([3, 224, 224]), Mask torch.Size([224, 224])\n"
     ]
    },
    {
     "name": "stderr",
     "output_type": "stream",
     "text": [
      "Epoch [11/15]:  83%|████████▎ | 86/104 [00:48<00:09,  1.98it/s, Loss=0.318]"
     ]
    },
    {
     "name": "stdout",
     "output_type": "stream",
     "text": [
      "✅ Loaded BraTS19_TCIA05_396_1: Image torch.Size([3, 224, 224]), Mask torch.Size([224, 224])\n",
      "✅ Loaded BraTS19_TCIA02_274_1: Image torch.Size([3, 224, 224]), Mask torch.Size([224, 224])\n"
     ]
    },
    {
     "name": "stderr",
     "output_type": "stream",
     "text": [
      "Epoch [11/15]:  84%|████████▎ | 87/104 [00:48<00:08,  1.99it/s, Loss=0.221]"
     ]
    },
    {
     "name": "stdout",
     "output_type": "stream",
     "text": [
      "✅ Loaded BraTS19_TCIA01_131_1: Image torch.Size([3, 224, 224]), Mask torch.Size([224, 224])\n",
      "✅ Loaded BraTS19_CBICA_AUA_1: Image torch.Size([3, 224, 224]), Mask torch.Size([224, 224])\n"
     ]
    },
    {
     "name": "stderr",
     "output_type": "stream",
     "text": [
      "Epoch [11/15]:  85%|████████▍ | 88/104 [00:49<00:08,  1.97it/s, Loss=0.29] "
     ]
    },
    {
     "name": "stdout",
     "output_type": "stream",
     "text": [
      "✅ Loaded BraTS19_2013_4_1: Image torch.Size([3, 224, 224]), Mask torch.Size([224, 224])\n",
      "✅ Loaded BraTS19_CBICA_AZH_1: Image torch.Size([3, 224, 224]), Mask torch.Size([224, 224])\n"
     ]
    },
    {
     "name": "stderr",
     "output_type": "stream",
     "text": [
      "Epoch [11/15]:  86%|████████▌ | 89/104 [00:49<00:07,  1.96it/s, Loss=0.395]"
     ]
    },
    {
     "name": "stdout",
     "output_type": "stream",
     "text": [
      "✅ Loaded BraTS19_TCIA03_338_1: Image torch.Size([3, 224, 224]), Mask torch.Size([224, 224])\n",
      "✅ Loaded BraTS19_TMC_12866_1: Image torch.Size([3, 224, 224]), Mask torch.Size([224, 224])\n"
     ]
    },
    {
     "name": "stderr",
     "output_type": "stream",
     "text": [
      "Epoch [11/15]:  87%|████████▋ | 90/104 [00:50<00:07,  1.97it/s, Loss=0.328]"
     ]
    },
    {
     "name": "stdout",
     "output_type": "stream",
     "text": [
      "✅ Loaded BraTS19_TCIA04_437_1: Image torch.Size([3, 224, 224]), Mask torch.Size([224, 224])\n",
      "✅ Loaded BraTS19_TCIA02_394_1: Image torch.Size([3, 224, 224]), Mask torch.Size([224, 224])\n"
     ]
    },
    {
     "name": "stderr",
     "output_type": "stream",
     "text": [
      "Epoch [11/15]:  88%|████████▊ | 91/104 [00:50<00:06,  1.98it/s, Loss=0.358]"
     ]
    },
    {
     "name": "stdout",
     "output_type": "stream",
     "text": [
      "✅ Loaded BraTS19_CBICA_ASK_1: Image torch.Size([3, 224, 224]), Mask torch.Size([224, 224])\n",
      "✅ Loaded BraTS19_CBICA_ASV_1: Image torch.Size([3, 224, 224]), Mask torch.Size([224, 224])\n"
     ]
    },
    {
     "name": "stderr",
     "output_type": "stream",
     "text": [
      "Epoch [11/15]:  88%|████████▊ | 92/104 [00:51<00:06,  1.99it/s, Loss=0.276]"
     ]
    },
    {
     "name": "stdout",
     "output_type": "stream",
     "text": [
      "✅ Loaded BraTS19_TCIA01_201_1: Image torch.Size([3, 224, 224]), Mask torch.Size([224, 224])\n",
      "✅ Loaded BraTS19_TCIA01_180_1: Image torch.Size([3, 224, 224]), Mask torch.Size([224, 224])\n"
     ]
    },
    {
     "name": "stderr",
     "output_type": "stream",
     "text": [
      "Epoch [11/15]:  89%|████████▉ | 93/104 [00:51<00:05,  1.99it/s, Loss=0.355]"
     ]
    },
    {
     "name": "stdout",
     "output_type": "stream",
     "text": [
      "✅ Loaded BraTS19_TCIA04_111_1: Image torch.Size([3, 224, 224]), Mask torch.Size([224, 224])\n",
      "✅ Loaded BraTS19_TCIA02_473_1: Image torch.Size([3, 224, 224]), Mask torch.Size([224, 224])\n"
     ]
    },
    {
     "name": "stderr",
     "output_type": "stream",
     "text": [
      "Epoch [11/15]:  90%|█████████ | 94/104 [00:52<00:05,  1.96it/s, Loss=0.394]"
     ]
    },
    {
     "name": "stdout",
     "output_type": "stream",
     "text": [
      "✅ Loaded BraTS19_CBICA_APZ_1: Image torch.Size([3, 224, 224]), Mask torch.Size([224, 224])\n",
      "✅ Loaded BraTS19_CBICA_BAX_1: Image torch.Size([3, 224, 224]), Mask torch.Size([224, 224])\n"
     ]
    },
    {
     "name": "stderr",
     "output_type": "stream",
     "text": [
      "Epoch [11/15]:  91%|█████████▏| 95/104 [00:52<00:04,  1.91it/s, Loss=0.234]"
     ]
    },
    {
     "name": "stdout",
     "output_type": "stream",
     "text": [
      "✅ Loaded BraTS19_TCIA08_162_1: Image torch.Size([3, 224, 224]), Mask torch.Size([224, 224])\n",
      "✅ Loaded BraTS19_CBICA_AOC_1: Image torch.Size([3, 224, 224]), Mask torch.Size([224, 224])\n"
     ]
    },
    {
     "name": "stderr",
     "output_type": "stream",
     "text": [
      "Epoch [11/15]:  92%|█████████▏| 96/104 [00:53<00:04,  1.89it/s, Loss=0.285]"
     ]
    },
    {
     "name": "stdout",
     "output_type": "stream",
     "text": [
      "✅ Loaded BraTS19_2013_11_1: Image torch.Size([3, 224, 224]), Mask torch.Size([224, 224])\n",
      "✅ Loaded BraTS19_CBICA_AYI_1: Image torch.Size([3, 224, 224]), Mask torch.Size([224, 224])\n"
     ]
    },
    {
     "name": "stderr",
     "output_type": "stream",
     "text": [
      "Epoch [11/15]:  93%|█████████▎| 97/104 [00:53<00:03,  1.91it/s, Loss=0.541]"
     ]
    },
    {
     "name": "stdout",
     "output_type": "stream",
     "text": [
      "✅ Loaded BraTS19_TCIA08_105_1: Image torch.Size([3, 224, 224]), Mask torch.Size([224, 224])\n",
      "✅ Loaded BraTS19_TCIA04_192_1: Image torch.Size([3, 224, 224]), Mask torch.Size([224, 224])\n"
     ]
    },
    {
     "name": "stderr",
     "output_type": "stream",
     "text": [
      "Epoch [11/15]:  94%|█████████▍| 98/104 [00:54<00:03,  1.94it/s, Loss=0.312]"
     ]
    },
    {
     "name": "stdout",
     "output_type": "stream",
     "text": [
      "✅ Loaded BraTS19_CBICA_ATD_1: Image torch.Size([3, 224, 224]), Mask torch.Size([224, 224])\n",
      "✅ Loaded BraTS19_CBICA_AQP_1: Image torch.Size([3, 224, 224]), Mask torch.Size([224, 224])\n"
     ]
    },
    {
     "name": "stderr",
     "output_type": "stream",
     "text": [
      "Epoch [11/15]:  95%|█████████▌| 99/104 [00:54<00:02,  1.95it/s, Loss=0.584]"
     ]
    },
    {
     "name": "stdout",
     "output_type": "stream",
     "text": [
      "✅ Loaded BraTS19_TCIA03_121_1: Image torch.Size([3, 224, 224]), Mask torch.Size([224, 224])\n",
      "✅ Loaded BraTS19_TCIA02_118_1: Image torch.Size([3, 224, 224]), Mask torch.Size([224, 224])\n"
     ]
    },
    {
     "name": "stderr",
     "output_type": "stream",
     "text": [
      "Epoch [11/15]:  96%|█████████▌| 100/104 [00:55<00:02,  1.95it/s, Loss=0.395]"
     ]
    },
    {
     "name": "stdout",
     "output_type": "stream",
     "text": [
      "✅ Loaded BraTS19_CBICA_BAN_1: Image torch.Size([3, 224, 224]), Mask torch.Size([224, 224])\n",
      "✅ Loaded BraTS19_2013_12_1: Image torch.Size([3, 224, 224]), Mask torch.Size([224, 224])\n"
     ]
    },
    {
     "name": "stderr",
     "output_type": "stream",
     "text": [
      "Epoch [11/15]:  97%|█████████▋| 101/104 [00:55<00:01,  1.95it/s, Loss=0.301]"
     ]
    },
    {
     "name": "stdout",
     "output_type": "stream",
     "text": [
      "✅ Loaded BraTS19_CBICA_AOS_1: Image torch.Size([3, 224, 224]), Mask torch.Size([224, 224])\n",
      "✅ Loaded BraTS19_CBICA_AQY_1: Image torch.Size([3, 224, 224]), Mask torch.Size([224, 224])\n"
     ]
    },
    {
     "name": "stderr",
     "output_type": "stream",
     "text": [
      "Epoch [11/15]:  98%|█████████▊| 102/104 [00:56<00:01,  1.94it/s, Loss=0.342]"
     ]
    },
    {
     "name": "stdout",
     "output_type": "stream",
     "text": [
      "✅ Loaded BraTS19_TCIA08_167_1: Image torch.Size([3, 224, 224]), Mask torch.Size([224, 224])\n",
      "✅ Loaded BraTS19_TCIA02_117_1: Image torch.Size([3, 224, 224]), Mask torch.Size([224, 224])\n"
     ]
    },
    {
     "name": "stderr",
     "output_type": "stream",
     "text": [
      "Epoch [11/15]:  99%|█████████▉| 103/104 [00:56<00:00,  1.96it/s, Loss=0.237]"
     ]
    },
    {
     "name": "stdout",
     "output_type": "stream",
     "text": [
      "✅ Loaded BraTS19_TCIA01_235_1: Image torch.Size([3, 224, 224]), Mask torch.Size([224, 224])\n"
     ]
    },
    {
     "name": "stderr",
     "output_type": "stream",
     "text": [
      "                                                                            \r"
     ]
    },
    {
     "name": "stdout",
     "output_type": "stream",
     "text": [
      "\n",
      "✅ Epoch 11: Train Loss: 0.3256\n",
      "⚠️ No improvement for 1 epoch(s)\n"
     ]
    },
    {
     "name": "stderr",
     "output_type": "stream",
     "text": [
      "Epoch [12/15]:   0%|          | 0/104 [00:00<?, ?it/s]"
     ]
    },
    {
     "name": "stdout",
     "output_type": "stream",
     "text": [
      "✅ Loaded BraTS19_CBICA_BAN_1: Image torch.Size([3, 224, 224]), Mask torch.Size([224, 224])\n",
      "✅ Loaded BraTS19_2013_5_1: Image torch.Size([3, 224, 224]), Mask torch.Size([224, 224])\n"
     ]
    },
    {
     "name": "stderr",
     "output_type": "stream",
     "text": [
      "Epoch [12/15]:   1%|          | 1/104 [00:00<00:52,  1.96it/s, Loss=0.288]"
     ]
    },
    {
     "name": "stdout",
     "output_type": "stream",
     "text": [
      "✅ Loaded BraTS19_2013_2_1: Image torch.Size([3, 224, 224]), Mask torch.Size([224, 224])\n",
      "✅ Loaded BraTS19_CBICA_ASE_1: Image torch.Size([3, 224, 224]), Mask torch.Size([224, 224])\n"
     ]
    },
    {
     "name": "stderr",
     "output_type": "stream",
     "text": [
      "Epoch [12/15]:   2%|▏         | 2/104 [00:01<00:51,  1.97it/s, Loss=0.591]"
     ]
    },
    {
     "name": "stdout",
     "output_type": "stream",
     "text": [
      "✅ Loaded BraTS19_TCIA01_411_1: Image torch.Size([3, 224, 224]), Mask torch.Size([224, 224])\n",
      "✅ Loaded BraTS19_CBICA_APZ_1: Image torch.Size([3, 224, 224]), Mask torch.Size([224, 224])\n"
     ]
    },
    {
     "name": "stderr",
     "output_type": "stream",
     "text": [
      "Epoch [12/15]:   3%|▎         | 3/104 [00:01<00:50,  1.98it/s, Loss=0.216]"
     ]
    },
    {
     "name": "stdout",
     "output_type": "stream",
     "text": [
      "✅ Loaded BraTS19_2013_12_1: Image torch.Size([3, 224, 224]), Mask torch.Size([224, 224])\n",
      "✅ Loaded BraTS19_CBICA_AXM_1: Image torch.Size([3, 224, 224]), Mask torch.Size([224, 224])\n"
     ]
    },
    {
     "name": "stderr",
     "output_type": "stream",
     "text": [
      "Epoch [12/15]:   4%|▍         | 4/104 [00:02<00:50,  1.97it/s, Loss=0.265]"
     ]
    },
    {
     "name": "stdout",
     "output_type": "stream",
     "text": [
      "✅ Loaded BraTS19_TCIA02_226_1: Image torch.Size([3, 224, 224]), Mask torch.Size([224, 224])\n",
      "✅ Loaded BraTS19_CBICA_AUW_1: Image torch.Size([3, 224, 224]), Mask torch.Size([224, 224])\n"
     ]
    },
    {
     "name": "stderr",
     "output_type": "stream",
     "text": [
      "Epoch [12/15]:   5%|▍         | 5/104 [00:02<00:49,  1.98it/s, Loss=0.224]"
     ]
    },
    {
     "name": "stdout",
     "output_type": "stream",
     "text": [
      "✅ Loaded BraTS19_2013_10_1: Image torch.Size([3, 224, 224]), Mask torch.Size([224, 224])\n",
      "✅ Loaded BraTS19_2013_4_1: Image torch.Size([3, 224, 224]), Mask torch.Size([224, 224])\n"
     ]
    },
    {
     "name": "stderr",
     "output_type": "stream",
     "text": [
      "Epoch [12/15]:   6%|▌         | 6/104 [00:03<00:49,  1.96it/s, Loss=1.03] "
     ]
    },
    {
     "name": "stdout",
     "output_type": "stream",
     "text": [
      "✅ Loaded BraTS19_CBICA_ANZ_1: Image torch.Size([3, 224, 224]), Mask torch.Size([224, 224])\n",
      "✅ Loaded BraTS19_TCIA02_321_1: Image torch.Size([3, 224, 224]), Mask torch.Size([224, 224])\n"
     ]
    },
    {
     "name": "stderr",
     "output_type": "stream",
     "text": [
      "Epoch [12/15]:   7%|▋         | 7/104 [00:03<00:49,  1.97it/s, Loss=0.265]"
     ]
    },
    {
     "name": "stdout",
     "output_type": "stream",
     "text": [
      "✅ Loaded BraTS19_CBICA_AAL_1: Image torch.Size([3, 224, 224]), Mask torch.Size([224, 224])\n",
      "✅ Loaded BraTS19_TCIA02_377_1: Image torch.Size([3, 224, 224]), Mask torch.Size([224, 224])\n"
     ]
    },
    {
     "name": "stderr",
     "output_type": "stream",
     "text": [
      "Epoch [12/15]:   8%|▊         | 8/104 [00:04<00:48,  1.96it/s, Loss=0.256]"
     ]
    },
    {
     "name": "stdout",
     "output_type": "stream",
     "text": [
      "✅ Loaded BraTS19_TCIA02_179_1: Image torch.Size([3, 224, 224]), Mask torch.Size([224, 224])\n",
      "✅ Loaded BraTS19_CBICA_BGE_1: Image torch.Size([3, 224, 224]), Mask torch.Size([224, 224])\n"
     ]
    },
    {
     "name": "stderr",
     "output_type": "stream",
     "text": [
      "Epoch [12/15]:   9%|▊         | 9/104 [00:04<00:48,  1.98it/s, Loss=0.252]"
     ]
    },
    {
     "name": "stdout",
     "output_type": "stream",
     "text": [
      "✅ Loaded BraTS19_CBICA_BGT_1: Image torch.Size([3, 224, 224]), Mask torch.Size([224, 224])\n",
      "✅ Loaded BraTS19_CBICA_ALN_1: Image torch.Size([3, 224, 224]), Mask torch.Size([224, 224])\n"
     ]
    },
    {
     "name": "stderr",
     "output_type": "stream",
     "text": [
      "Epoch [12/15]:  10%|▉         | 10/104 [00:05<00:47,  1.98it/s, Loss=0.26]"
     ]
    },
    {
     "name": "stdout",
     "output_type": "stream",
     "text": [
      "✅ Loaded BraTS19_TCIA02_374_1: Image torch.Size([3, 224, 224]), Mask torch.Size([224, 224])\n",
      "✅ Loaded BraTS19_CBICA_AUQ_1: Image torch.Size([3, 224, 224]), Mask torch.Size([224, 224])\n"
     ]
    },
    {
     "name": "stderr",
     "output_type": "stream",
     "text": [
      "Epoch [12/15]:  11%|█         | 11/104 [00:05<00:46,  2.00it/s, Loss=0.29]"
     ]
    },
    {
     "name": "stdout",
     "output_type": "stream",
     "text": [
      "✅ Loaded BraTS19_TCIA03_419_1: Image torch.Size([3, 224, 224]), Mask torch.Size([224, 224])\n",
      "✅ Loaded BraTS19_TCIA04_192_1: Image torch.Size([3, 224, 224]), Mask torch.Size([224, 224])\n"
     ]
    },
    {
     "name": "stderr",
     "output_type": "stream",
     "text": [
      "Epoch [12/15]:  12%|█▏        | 12/104 [00:06<00:46,  1.99it/s, Loss=0.218]"
     ]
    },
    {
     "name": "stdout",
     "output_type": "stream",
     "text": [
      "✅ Loaded BraTS19_CBICA_AQY_1: Image torch.Size([3, 224, 224]), Mask torch.Size([224, 224])\n",
      "✅ Loaded BraTS19_CBICA_ATD_1: Image torch.Size([3, 224, 224]), Mask torch.Size([224, 224])\n"
     ]
    },
    {
     "name": "stderr",
     "output_type": "stream",
     "text": [
      "Epoch [12/15]:  12%|█▎        | 13/104 [00:06<00:45,  1.99it/s, Loss=0.562]"
     ]
    },
    {
     "name": "stdout",
     "output_type": "stream",
     "text": [
      "✅ Loaded BraTS19_TCIA01_412_1: Image torch.Size([3, 224, 224]), Mask torch.Size([224, 224])\n",
      "✅ Loaded BraTS19_CBICA_ASN_1: Image torch.Size([3, 224, 224]), Mask torch.Size([224, 224])\n"
     ]
    },
    {
     "name": "stderr",
     "output_type": "stream",
     "text": [
      "Epoch [12/15]:  13%|█▎        | 14/104 [00:07<00:45,  1.99it/s, Loss=0.37] "
     ]
    },
    {
     "name": "stdout",
     "output_type": "stream",
     "text": [
      "✅ Loaded BraTS19_TCIA03_296_1: Image torch.Size([3, 224, 224]), Mask torch.Size([224, 224])\n",
      "✅ Loaded BraTS19_TCIA04_149_1: Image torch.Size([3, 224, 224]), Mask torch.Size([224, 224])\n"
     ]
    },
    {
     "name": "stderr",
     "output_type": "stream",
     "text": [
      "Epoch [12/15]:  14%|█▍        | 15/104 [00:07<00:45,  1.98it/s, Loss=0.293]"
     ]
    },
    {
     "name": "stdout",
     "output_type": "stream",
     "text": [
      "✅ Loaded BraTS19_TCIA06_409_1: Image torch.Size([3, 224, 224]), Mask torch.Size([224, 224])\n",
      "✅ Loaded BraTS19_CBICA_ARZ_1: Image torch.Size([3, 224, 224]), Mask torch.Size([224, 224])\n"
     ]
    },
    {
     "name": "stderr",
     "output_type": "stream",
     "text": [
      "Epoch [12/15]:  15%|█▌        | 16/104 [00:08<00:44,  1.98it/s, Loss=0.316]"
     ]
    },
    {
     "name": "stdout",
     "output_type": "stream",
     "text": [
      "✅ Loaded BraTS19_TMC_11964_1: Image torch.Size([3, 224, 224]), Mask torch.Size([224, 224])\n",
      "✅ Loaded BraTS19_CBICA_AQJ_1: Image torch.Size([3, 224, 224]), Mask torch.Size([224, 224])\n"
     ]
    },
    {
     "name": "stderr",
     "output_type": "stream",
     "text": [
      "Epoch [12/15]:  16%|█▋        | 17/104 [00:08<00:44,  1.95it/s, Loss=0.264]"
     ]
    },
    {
     "name": "stdout",
     "output_type": "stream",
     "text": [
      "✅ Loaded BraTS19_2013_18_1: Image torch.Size([3, 224, 224]), Mask torch.Size([224, 224])\n",
      "✅ Loaded BraTS19_CBICA_AQT_1: Image torch.Size([3, 224, 224]), Mask torch.Size([224, 224])\n"
     ]
    },
    {
     "name": "stderr",
     "output_type": "stream",
     "text": [
      "Epoch [12/15]:  17%|█▋        | 18/104 [00:09<00:44,  1.94it/s, Loss=0.3]  "
     ]
    },
    {
     "name": "stdout",
     "output_type": "stream",
     "text": [
      "✅ Loaded BraTS19_CBICA_ATX_1: Image torch.Size([3, 224, 224]), Mask torch.Size([224, 224])\n",
      "✅ Loaded BraTS19_CBICA_ALX_1: Image torch.Size([3, 224, 224]), Mask torch.Size([224, 224])\n"
     ]
    },
    {
     "name": "stderr",
     "output_type": "stream",
     "text": [
      "Epoch [12/15]:  18%|█▊        | 19/104 [00:09<00:43,  1.97it/s, Loss=0.312]"
     ]
    },
    {
     "name": "stdout",
     "output_type": "stream",
     "text": [
      "✅ Loaded BraTS19_CBICA_AYA_1: Image torch.Size([3, 224, 224]), Mask torch.Size([224, 224])\n",
      "✅ Loaded BraTS19_CBICA_ASY_1: Image torch.Size([3, 224, 224]), Mask torch.Size([224, 224])\n"
     ]
    },
    {
     "name": "stderr",
     "output_type": "stream",
     "text": [
      "Epoch [12/15]:  19%|█▉        | 20/104 [00:10<00:42,  1.97it/s, Loss=0.326]"
     ]
    },
    {
     "name": "stdout",
     "output_type": "stream",
     "text": [
      "✅ Loaded BraTS19_TCIA01_190_1: Image torch.Size([3, 224, 224]), Mask torch.Size([224, 224])\n",
      "✅ Loaded BraTS19_TCIA04_328_1: Image torch.Size([3, 224, 224]), Mask torch.Size([224, 224])\n"
     ]
    },
    {
     "name": "stderr",
     "output_type": "stream",
     "text": [
      "Epoch [12/15]:  20%|██        | 21/104 [00:10<00:41,  1.98it/s, Loss=0.458]"
     ]
    },
    {
     "name": "stdout",
     "output_type": "stream",
     "text": [
      "✅ Loaded BraTS19_CBICA_BAP_1: Image torch.Size([3, 224, 224]), Mask torch.Size([224, 224])\n",
      "✅ Loaded BraTS19_CBICA_ASU_1: Image torch.Size([3, 224, 224]), Mask torch.Size([224, 224])\n"
     ]
    },
    {
     "name": "stderr",
     "output_type": "stream",
     "text": [
      "Epoch [12/15]:  21%|██        | 22/104 [00:11<00:41,  1.99it/s, Loss=0.335]"
     ]
    },
    {
     "name": "stdout",
     "output_type": "stream",
     "text": [
      "✅ Loaded BraTS19_TCIA02_222_1: Image torch.Size([3, 224, 224]), Mask torch.Size([224, 224])\n",
      "✅ Loaded BraTS19_TCIA02_322_1: Image torch.Size([3, 224, 224]), Mask torch.Size([224, 224])\n"
     ]
    },
    {
     "name": "stderr",
     "output_type": "stream",
     "text": [
      "Epoch [12/15]:  22%|██▏       | 23/104 [00:11<00:40,  1.99it/s, Loss=0.228]"
     ]
    },
    {
     "name": "stdout",
     "output_type": "stream",
     "text": [
      "✅ Loaded BraTS19_TCIA02_473_1: Image torch.Size([3, 224, 224]), Mask torch.Size([224, 224])\n",
      "✅ Loaded BraTS19_TCIA06_184_1: Image torch.Size([3, 224, 224]), Mask torch.Size([224, 224])\n"
     ]
    },
    {
     "name": "stderr",
     "output_type": "stream",
     "text": [
      "Epoch [12/15]:  23%|██▎       | 24/104 [00:12<00:41,  1.94it/s, Loss=0.23] "
     ]
    },
    {
     "name": "stdout",
     "output_type": "stream",
     "text": [
      "✅ Loaded BraTS19_TCIA02_135_1: Image torch.Size([3, 224, 224]), Mask torch.Size([224, 224])\n",
      "✅ Loaded BraTS19_2013_21_1: Image torch.Size([3, 224, 224]), Mask torch.Size([224, 224])\n"
     ]
    },
    {
     "name": "stderr",
     "output_type": "stream",
     "text": [
      "Epoch [12/15]:  24%|██▍       | 25/104 [00:12<00:41,  1.91it/s, Loss=0.223]"
     ]
    },
    {
     "name": "stdout",
     "output_type": "stream",
     "text": [
      "✅ Loaded BraTS19_2013_13_1: Image torch.Size([3, 224, 224]), Mask torch.Size([224, 224])\n",
      "✅ Loaded BraTS19_CBICA_AYW_1: Image torch.Size([3, 224, 224]), Mask torch.Size([224, 224])\n"
     ]
    },
    {
     "name": "stderr",
     "output_type": "stream",
     "text": [
      "Epoch [12/15]:  25%|██▌       | 26/104 [00:13<00:41,  1.90it/s, Loss=0.557]"
     ]
    },
    {
     "name": "stdout",
     "output_type": "stream",
     "text": [
      "✅ Loaded BraTS19_TCIA01_378_1: Image torch.Size([3, 224, 224]), Mask torch.Size([224, 224])\n",
      "✅ Loaded BraTS19_TCIA02_171_1: Image torch.Size([3, 224, 224]), Mask torch.Size([224, 224])\n"
     ]
    },
    {
     "name": "stderr",
     "output_type": "stream",
     "text": [
      "Epoch [12/15]:  26%|██▌       | 27/104 [00:13<00:39,  1.94it/s, Loss=0.292]"
     ]
    },
    {
     "name": "stdout",
     "output_type": "stream",
     "text": [
      "✅ Loaded BraTS19_CBICA_AQP_1: Image torch.Size([3, 224, 224]), Mask torch.Size([224, 224])\n",
      "✅ Loaded BraTS19_CBICA_ARF_1: Image torch.Size([3, 224, 224]), Mask torch.Size([224, 224])\n"
     ]
    },
    {
     "name": "stderr",
     "output_type": "stream",
     "text": [
      "Epoch [12/15]:  27%|██▋       | 28/104 [00:14<00:39,  1.93it/s, Loss=0.231]"
     ]
    },
    {
     "name": "stdout",
     "output_type": "stream",
     "text": [
      "✅ Loaded BraTS19_CBICA_APR_1: Image torch.Size([3, 224, 224]), Mask torch.Size([224, 224])\n",
      "✅ Loaded BraTS19_CBICA_AWI_1: Image torch.Size([3, 224, 224]), Mask torch.Size([224, 224])\n"
     ]
    },
    {
     "name": "stderr",
     "output_type": "stream",
     "text": [
      "Epoch [12/15]:  28%|██▊       | 29/104 [00:14<00:38,  1.95it/s, Loss=0.598]"
     ]
    },
    {
     "name": "stdout",
     "output_type": "stream",
     "text": [
      "✅ Loaded BraTS19_CBICA_ATP_1: Image torch.Size([3, 224, 224]), Mask torch.Size([224, 224])\n",
      "✅ Loaded BraTS19_TCIA08_205_1: Image torch.Size([3, 224, 224]), Mask torch.Size([224, 224])\n"
     ]
    },
    {
     "name": "stderr",
     "output_type": "stream",
     "text": [
      "Epoch [12/15]:  29%|██▉       | 30/104 [00:15<00:37,  1.97it/s, Loss=0.294]"
     ]
    },
    {
     "name": "stdout",
     "output_type": "stream",
     "text": [
      "✅ Loaded BraTS19_TCIA08_234_1: Image torch.Size([3, 224, 224]), Mask torch.Size([224, 224])\n",
      "✅ Loaded BraTS19_TCIA08_469_1: Image torch.Size([3, 224, 224]), Mask torch.Size([224, 224])\n"
     ]
    },
    {
     "name": "stderr",
     "output_type": "stream",
     "text": [
      "Epoch [12/15]:  30%|██▉       | 31/104 [00:15<00:37,  1.96it/s, Loss=0.281]"
     ]
    },
    {
     "name": "stdout",
     "output_type": "stream",
     "text": [
      "✅ Loaded BraTS19_CBICA_AYU_1: Image torch.Size([3, 224, 224]), Mask torch.Size([224, 224])\n",
      "✅ Loaded BraTS19_TCIA04_111_1: Image torch.Size([3, 224, 224]), Mask torch.Size([224, 224])\n"
     ]
    },
    {
     "name": "stderr",
     "output_type": "stream",
     "text": [
      "Epoch [12/15]:  31%|███       | 32/104 [00:16<00:36,  1.97it/s, Loss=0.497]"
     ]
    },
    {
     "name": "stdout",
     "output_type": "stream",
     "text": [
      "✅ Loaded BraTS19_CBICA_AUN_1: Image torch.Size([3, 224, 224]), Mask torch.Size([224, 224])\n",
      "✅ Loaded BraTS19_TCIA03_338_1: Image torch.Size([3, 224, 224]), Mask torch.Size([224, 224])\n"
     ]
    },
    {
     "name": "stderr",
     "output_type": "stream",
     "text": [
      "Epoch [12/15]:  32%|███▏      | 33/104 [00:16<00:35,  1.98it/s, Loss=0.293]"
     ]
    },
    {
     "name": "stdout",
     "output_type": "stream",
     "text": [
      "✅ Loaded BraTS19_TCIA02_283_1: Image torch.Size([3, 224, 224]), Mask torch.Size([224, 224])\n",
      "✅ Loaded BraTS19_TCIA01_147_1: Image torch.Size([3, 224, 224]), Mask torch.Size([224, 224])\n"
     ]
    },
    {
     "name": "stderr",
     "output_type": "stream",
     "text": [
      "Epoch [12/15]:  33%|███▎      | 34/104 [00:17<00:34,  2.00it/s, Loss=0.248]"
     ]
    },
    {
     "name": "stdout",
     "output_type": "stream",
     "text": [
      "✅ Loaded BraTS19_CBICA_ATV_1: Image torch.Size([3, 224, 224]), Mask torch.Size([224, 224])\n",
      "✅ Loaded BraTS19_TCIA02_168_1: Image torch.Size([3, 224, 224]), Mask torch.Size([224, 224])\n"
     ]
    },
    {
     "name": "stderr",
     "output_type": "stream",
     "text": [
      "Epoch [12/15]:  34%|███▎      | 35/104 [00:17<00:34,  2.00it/s, Loss=0.262]"
     ]
    },
    {
     "name": "stdout",
     "output_type": "stream",
     "text": [
      "✅ Loaded BraTS19_TCIA01_429_1: Image torch.Size([3, 224, 224]), Mask torch.Size([224, 224])\n",
      "✅ Loaded BraTS19_CBICA_BGG_1: Image torch.Size([3, 224, 224]), Mask torch.Size([224, 224])\n"
     ]
    },
    {
     "name": "stderr",
     "output_type": "stream",
     "text": [
      "Epoch [12/15]:  35%|███▍      | 36/104 [00:18<00:34,  1.98it/s, Loss=0.191]"
     ]
    },
    {
     "name": "stdout",
     "output_type": "stream",
     "text": [
      "✅ Loaded BraTS19_CBICA_ANP_1: Image torch.Size([3, 224, 224]), Mask torch.Size([224, 224])\n",
      "✅ Loaded BraTS19_TCIA06_332_1: Image torch.Size([3, 224, 224]), Mask torch.Size([224, 224])\n"
     ]
    },
    {
     "name": "stderr",
     "output_type": "stream",
     "text": [
      "Epoch [12/15]:  36%|███▌      | 37/104 [00:18<00:33,  1.99it/s, Loss=0.494]"
     ]
    },
    {
     "name": "stdout",
     "output_type": "stream",
     "text": [
      "✅ Loaded BraTS19_CBICA_BEM_1: Image torch.Size([3, 224, 224]), Mask torch.Size([224, 224])\n",
      "✅ Loaded BraTS19_CBICA_AYC_1: Image torch.Size([3, 224, 224]), Mask torch.Size([224, 224])\n"
     ]
    },
    {
     "name": "stderr",
     "output_type": "stream",
     "text": [
      "Epoch [12/15]:  37%|███▋      | 38/104 [00:19<00:33,  1.98it/s, Loss=0.249]"
     ]
    },
    {
     "name": "stdout",
     "output_type": "stream",
     "text": [
      "✅ Loaded BraTS19_CBICA_BNR_1: Image torch.Size([3, 224, 224]), Mask torch.Size([224, 224])\n",
      "✅ Loaded BraTS19_CBICA_AUR_1: Image torch.Size([3, 224, 224]), Mask torch.Size([224, 224])\n"
     ]
    },
    {
     "name": "stderr",
     "output_type": "stream",
     "text": [
      "Epoch [12/15]:  38%|███▊      | 39/104 [00:19<00:32,  1.98it/s, Loss=0.446]"
     ]
    },
    {
     "name": "stdout",
     "output_type": "stream",
     "text": [
      "✅ Loaded BraTS19_TCIA02_314_1: Image torch.Size([3, 224, 224]), Mask torch.Size([224, 224])\n",
      "✅ Loaded BraTS19_CBICA_AWH_1: Image torch.Size([3, 224, 224]), Mask torch.Size([224, 224])\n"
     ]
    },
    {
     "name": "stderr",
     "output_type": "stream",
     "text": [
      "Epoch [12/15]:  38%|███▊      | 40/104 [00:20<00:32,  1.97it/s, Loss=0.361]"
     ]
    },
    {
     "name": "stdout",
     "output_type": "stream",
     "text": [
      "✅ Loaded BraTS19_CBICA_AQR_1: Image torch.Size([3, 224, 224]), Mask torch.Size([224, 224])\n",
      "✅ Loaded BraTS19_CBICA_AQZ_1: Image torch.Size([3, 224, 224]), Mask torch.Size([224, 224])\n"
     ]
    },
    {
     "name": "stderr",
     "output_type": "stream",
     "text": [
      "Epoch [12/15]:  39%|███▉      | 41/104 [00:20<00:31,  1.98it/s, Loss=0.334]"
     ]
    },
    {
     "name": "stdout",
     "output_type": "stream",
     "text": [
      "✅ Loaded BraTS19_TCIA01_335_1: Image torch.Size([3, 224, 224]), Mask torch.Size([224, 224])\n",
      "✅ Loaded BraTS19_TCIA01_186_1: Image torch.Size([3, 224, 224]), Mask torch.Size([224, 224])\n"
     ]
    },
    {
     "name": "stderr",
     "output_type": "stream",
     "text": [
      "Epoch [12/15]:  40%|████      | 42/104 [00:21<00:31,  1.99it/s, Loss=0.229]"
     ]
    },
    {
     "name": "stdout",
     "output_type": "stream",
     "text": [
      "✅ Loaded BraTS19_TMC_21360_1: Image torch.Size([3, 224, 224]), Mask torch.Size([224, 224])\n",
      "✅ Loaded BraTS19_2013_11_1: Image torch.Size([3, 224, 224]), Mask torch.Size([224, 224])\n"
     ]
    },
    {
     "name": "stderr",
     "output_type": "stream",
     "text": [
      "Epoch [12/15]:  41%|████▏     | 43/104 [00:21<00:30,  2.01it/s, Loss=0.476]"
     ]
    },
    {
     "name": "stdout",
     "output_type": "stream",
     "text": [
      "✅ Loaded BraTS19_TCIA02_300_1: Image torch.Size([3, 224, 224]), Mask torch.Size([224, 224])\n",
      "✅ Loaded BraTS19_CBICA_ABY_1: Image torch.Size([3, 224, 224]), Mask torch.Size([224, 224])\n"
     ]
    },
    {
     "name": "stderr",
     "output_type": "stream",
     "text": [
      "Epoch [12/15]:  42%|████▏     | 44/104 [00:22<00:30,  1.98it/s, Loss=0.202]"
     ]
    },
    {
     "name": "stdout",
     "output_type": "stream",
     "text": [
      "✅ Loaded BraTS19_CBICA_AMH_1: Image torch.Size([3, 224, 224]), Mask torch.Size([224, 224])\n",
      "✅ Loaded BraTS19_TCIA04_343_1: Image torch.Size([3, 224, 224]), Mask torch.Size([224, 224])\n"
     ]
    },
    {
     "name": "stderr",
     "output_type": "stream",
     "text": [
      "Epoch [12/15]:  43%|████▎     | 45/104 [00:22<00:29,  1.99it/s, Loss=0.311]"
     ]
    },
    {
     "name": "stdout",
     "output_type": "stream",
     "text": [
      "✅ Loaded BraTS19_CBICA_BHB_1: Image torch.Size([3, 224, 224]), Mask torch.Size([224, 224])\n",
      "✅ Loaded BraTS19_CBICA_AXL_1: Image torch.Size([3, 224, 224]), Mask torch.Size([224, 224])\n"
     ]
    },
    {
     "name": "stderr",
     "output_type": "stream",
     "text": [
      "Epoch [12/15]:  44%|████▍     | 46/104 [00:23<00:29,  1.98it/s, Loss=0.391]"
     ]
    },
    {
     "name": "stdout",
     "output_type": "stream",
     "text": [
      "✅ Loaded BraTS19_TCIA01_235_1: Image torch.Size([3, 224, 224]), Mask torch.Size([224, 224])\n",
      "✅ Loaded BraTS19_TCIA05_444_1: Image torch.Size([3, 224, 224]), Mask torch.Size([224, 224])\n"
     ]
    },
    {
     "name": "stderr",
     "output_type": "stream",
     "text": [
      "Epoch [12/15]:  45%|████▌     | 47/104 [00:23<00:28,  1.98it/s, Loss=0.225]"
     ]
    },
    {
     "name": "stdout",
     "output_type": "stream",
     "text": [
      "✅ Loaded BraTS19_TMC_30014_1: Image torch.Size([3, 224, 224]), Mask torch.Size([224, 224])\n",
      "✅ Loaded BraTS19_TCIA02_118_1: Image torch.Size([3, 224, 224]), Mask torch.Size([224, 224])\n"
     ]
    },
    {
     "name": "stderr",
     "output_type": "stream",
     "text": [
      "Epoch [12/15]:  46%|████▌     | 48/104 [00:24<00:28,  1.97it/s, Loss=0.405]"
     ]
    },
    {
     "name": "stdout",
     "output_type": "stream",
     "text": [
      "✅ Loaded BraTS19_CBICA_AVB_1: Image torch.Size([3, 224, 224]), Mask torch.Size([224, 224])\n",
      "✅ Loaded BraTS19_TCIA03_199_1: Image torch.Size([3, 224, 224]), Mask torch.Size([224, 224])\n"
     ]
    },
    {
     "name": "stderr",
     "output_type": "stream",
     "text": [
      "Epoch [12/15]:  47%|████▋     | 49/104 [00:24<00:28,  1.96it/s, Loss=0.27] "
     ]
    },
    {
     "name": "stdout",
     "output_type": "stream",
     "text": [
      "✅ Loaded BraTS19_CBICA_ASA_1: Image torch.Size([3, 224, 224]), Mask torch.Size([224, 224])\n",
      "✅ Loaded BraTS19_TCIA02_394_1: Image torch.Size([3, 224, 224]), Mask torch.Size([224, 224])\n"
     ]
    },
    {
     "name": "stderr",
     "output_type": "stream",
     "text": [
      "Epoch [12/15]:  48%|████▊     | 50/104 [00:25<00:27,  1.99it/s, Loss=0.33]"
     ]
    },
    {
     "name": "stdout",
     "output_type": "stream",
     "text": [
      "✅ Loaded BraTS19_CBICA_BGW_1: Image torch.Size([3, 224, 224]), Mask torch.Size([224, 224])\n",
      "✅ Loaded BraTS19_TCIA06_165_1: Image torch.Size([3, 224, 224]), Mask torch.Size([224, 224])\n"
     ]
    },
    {
     "name": "stderr",
     "output_type": "stream",
     "text": [
      "Epoch [12/15]:  49%|████▉     | 51/104 [00:25<00:26,  1.98it/s, Loss=0.234]"
     ]
    },
    {
     "name": "stdout",
     "output_type": "stream",
     "text": [
      "✅ Loaded BraTS19_CBICA_ANG_1: Image torch.Size([3, 224, 224]), Mask torch.Size([224, 224])\n",
      "✅ Loaded BraTS19_CBICA_AAG_1: Image torch.Size([3, 224, 224]), Mask torch.Size([224, 224])\n"
     ]
    },
    {
     "name": "stderr",
     "output_type": "stream",
     "text": [
      "Epoch [12/15]:  50%|█████     | 52/104 [00:26<00:26,  1.97it/s, Loss=0.38] "
     ]
    },
    {
     "name": "stdout",
     "output_type": "stream",
     "text": [
      "✅ Loaded BraTS19_CBICA_BFP_1: Image torch.Size([3, 224, 224]), Mask torch.Size([224, 224])\n",
      "✅ Loaded BraTS19_CBICA_ASH_1: Image torch.Size([3, 224, 224]), Mask torch.Size([224, 224])\n"
     ]
    },
    {
     "name": "stderr",
     "output_type": "stream",
     "text": [
      "Epoch [12/15]:  51%|█████     | 53/104 [00:26<00:25,  1.97it/s, Loss=0.543]"
     ]
    },
    {
     "name": "stdout",
     "output_type": "stream",
     "text": [
      "✅ Loaded BraTS19_TCIA02_368_1: Image torch.Size([3, 224, 224]), Mask torch.Size([224, 224])\n",
      "✅ Loaded BraTS19_CBICA_AUA_1: Image torch.Size([3, 224, 224]), Mask torch.Size([224, 224])\n"
     ]
    },
    {
     "name": "stderr",
     "output_type": "stream",
     "text": [
      "Epoch [12/15]:  52%|█████▏    | 54/104 [00:27<00:25,  1.96it/s, Loss=0.287]"
     ]
    },
    {
     "name": "stdout",
     "output_type": "stream",
     "text": [
      "✅ Loaded BraTS19_CBICA_AXW_1: Image torch.Size([3, 224, 224]), Mask torch.Size([224, 224])\n",
      "✅ Loaded BraTS19_CBICA_BJY_1: Image torch.Size([3, 224, 224]), Mask torch.Size([224, 224])\n"
     ]
    },
    {
     "name": "stderr",
     "output_type": "stream",
     "text": [
      "Epoch [12/15]:  53%|█████▎    | 55/104 [00:27<00:24,  1.97it/s, Loss=0.315]"
     ]
    },
    {
     "name": "stdout",
     "output_type": "stream",
     "text": [
      "✅ Loaded BraTS19_CBICA_AXJ_1: Image torch.Size([3, 224, 224]), Mask torch.Size([224, 224])\n",
      "✅ Loaded BraTS19_TCIA08_162_1: Image torch.Size([3, 224, 224]), Mask torch.Size([224, 224])\n"
     ]
    },
    {
     "name": "stderr",
     "output_type": "stream",
     "text": [
      "Epoch [12/15]:  54%|█████▍    | 56/104 [00:28<00:24,  1.98it/s, Loss=0.154]"
     ]
    },
    {
     "name": "stdout",
     "output_type": "stream",
     "text": [
      "✅ Loaded BraTS19_CBICA_AOS_1: Image torch.Size([3, 224, 224]), Mask torch.Size([224, 224])\n",
      "✅ Loaded BraTS19_TCIA03_474_1: Image torch.Size([3, 224, 224]), Mask torch.Size([224, 224])\n"
     ]
    },
    {
     "name": "stderr",
     "output_type": "stream",
     "text": [
      "Epoch [12/15]:  55%|█████▍    | 57/104 [00:28<00:23,  1.98it/s, Loss=0.261]"
     ]
    },
    {
     "name": "stdout",
     "output_type": "stream",
     "text": [
      "✅ Loaded BraTS19_CBICA_AZH_1: Image torch.Size([3, 224, 224]), Mask torch.Size([224, 224])\n",
      "✅ Loaded BraTS19_CBICA_ASK_1: Image torch.Size([3, 224, 224]), Mask torch.Size([224, 224])\n"
     ]
    },
    {
     "name": "stderr",
     "output_type": "stream",
     "text": [
      "Epoch [12/15]:  56%|█████▌    | 58/104 [00:29<00:23,  1.97it/s, Loss=0.305]"
     ]
    },
    {
     "name": "stdout",
     "output_type": "stream",
     "text": [
      "✅ Loaded BraTS19_TCIA04_361_1: Image torch.Size([3, 224, 224]), Mask torch.Size([224, 224])\n",
      "✅ Loaded BraTS19_TCIA08_406_1: Image torch.Size([3, 224, 224]), Mask torch.Size([224, 224])\n"
     ]
    },
    {
     "name": "stderr",
     "output_type": "stream",
     "text": [
      "Epoch [12/15]:  57%|█████▋    | 59/104 [00:29<00:22,  1.98it/s, Loss=0.381]"
     ]
    },
    {
     "name": "stdout",
     "output_type": "stream",
     "text": [
      "✅ Loaded BraTS19_TCIA01_390_1: Image torch.Size([3, 224, 224]), Mask torch.Size([224, 224])\n",
      "✅ Loaded BraTS19_TCIA06_211_1: Image torch.Size([3, 224, 224]), Mask torch.Size([224, 224])\n"
     ]
    },
    {
     "name": "stderr",
     "output_type": "stream",
     "text": [
      "Epoch [12/15]:  58%|█████▊    | 60/104 [00:30<00:21,  2.00it/s, Loss=0.236]"
     ]
    },
    {
     "name": "stdout",
     "output_type": "stream",
     "text": [
      "✅ Loaded BraTS19_CBICA_BFB_1: Image torch.Size([3, 224, 224]), Mask torch.Size([224, 224])\n",
      "✅ Loaded BraTS19_CBICA_AVG_1: Image torch.Size([3, 224, 224]), Mask torch.Size([224, 224])\n"
     ]
    },
    {
     "name": "stderr",
     "output_type": "stream",
     "text": [
      "Epoch [12/15]:  59%|█████▊    | 61/104 [00:30<00:21,  1.96it/s, Loss=0.583]"
     ]
    },
    {
     "name": "stdout",
     "output_type": "stream",
     "text": [
      "✅ Loaded BraTS19_TCIA04_479_1: Image torch.Size([3, 224, 224]), Mask torch.Size([224, 224])\n",
      "✅ Loaded BraTS19_CBICA_AME_1: Image torch.Size([3, 224, 224]), Mask torch.Size([224, 224])\n"
     ]
    },
    {
     "name": "stderr",
     "output_type": "stream",
     "text": [
      "Epoch [12/15]:  60%|█████▉    | 62/104 [00:31<00:21,  1.95it/s, Loss=0.546]"
     ]
    },
    {
     "name": "stdout",
     "output_type": "stream",
     "text": [
      "✅ Loaded BraTS19_2013_7_1: Image torch.Size([3, 224, 224]), Mask torch.Size([224, 224])\n",
      "✅ Loaded BraTS19_CBICA_AXO_1: Image torch.Size([3, 224, 224]), Mask torch.Size([224, 224])\n"
     ]
    },
    {
     "name": "stderr",
     "output_type": "stream",
     "text": [
      "Epoch [12/15]:  61%|██████    | 63/104 [00:31<00:20,  1.97it/s, Loss=0.333]"
     ]
    },
    {
     "name": "stdout",
     "output_type": "stream",
     "text": [
      "✅ Loaded BraTS19_2013_3_1: Image torch.Size([3, 224, 224]), Mask torch.Size([224, 224])\n",
      "✅ Loaded BraTS19_2013_19_1: Image torch.Size([3, 224, 224]), Mask torch.Size([224, 224])\n"
     ]
    },
    {
     "name": "stderr",
     "output_type": "stream",
     "text": [
      "Epoch [12/15]:  62%|██████▏   | 64/104 [00:32<00:20,  1.98it/s, Loss=0.272]"
     ]
    },
    {
     "name": "stdout",
     "output_type": "stream",
     "text": [
      "✅ Loaded BraTS19_TCIA03_498_1: Image torch.Size([3, 224, 224]), Mask torch.Size([224, 224])\n",
      "✅ Loaded BraTS19_CBICA_AVT_1: Image torch.Size([3, 224, 224]), Mask torch.Size([224, 224])\n"
     ]
    },
    {
     "name": "stderr",
     "output_type": "stream",
     "text": [
      "Epoch [12/15]:  62%|██████▎   | 65/104 [00:32<00:19,  1.98it/s, Loss=0.248]"
     ]
    },
    {
     "name": "stdout",
     "output_type": "stream",
     "text": [
      "✅ Loaded BraTS19_CBICA_AQG_1: Image torch.Size([3, 224, 224]), Mask torch.Size([224, 224])\n",
      "✅ Loaded BraTS19_TCIA05_396_1: Image torch.Size([3, 224, 224]), Mask torch.Size([224, 224])\n"
     ]
    },
    {
     "name": "stderr",
     "output_type": "stream",
     "text": [
      "Epoch [12/15]:  63%|██████▎   | 66/104 [00:33<00:19,  1.99it/s, Loss=0.308]"
     ]
    },
    {
     "name": "stdout",
     "output_type": "stream",
     "text": [
      "✅ Loaded BraTS19_TCIA03_121_1: Image torch.Size([3, 224, 224]), Mask torch.Size([224, 224])\n",
      "✅ Loaded BraTS19_CBICA_AVJ_1: Image torch.Size([3, 224, 224]), Mask torch.Size([224, 224])\n"
     ]
    },
    {
     "name": "stderr",
     "output_type": "stream",
     "text": [
      "Epoch [12/15]:  64%|██████▍   | 67/104 [00:33<00:18,  1.99it/s, Loss=0.301]"
     ]
    },
    {
     "name": "stdout",
     "output_type": "stream",
     "text": [
      "✅ Loaded BraTS19_TCIA01_425_1: Image torch.Size([3, 224, 224]), Mask torch.Size([224, 224])\n",
      "✅ Loaded BraTS19_TCIA02_455_1: Image torch.Size([3, 224, 224]), Mask torch.Size([224, 224])\n"
     ]
    },
    {
     "name": "stderr",
     "output_type": "stream",
     "text": [
      "Epoch [12/15]:  65%|██████▌   | 68/104 [00:34<00:18,  1.98it/s, Loss=0.751]"
     ]
    },
    {
     "name": "stdout",
     "output_type": "stream",
     "text": [
      "✅ Loaded BraTS19_TCIA02_607_1: Image torch.Size([3, 224, 224]), Mask torch.Size([224, 224])\n",
      "✅ Loaded BraTS19_CBICA_AYI_1: Image torch.Size([3, 224, 224]), Mask torch.Size([224, 224])\n"
     ]
    },
    {
     "name": "stderr",
     "output_type": "stream",
     "text": [
      "Epoch [12/15]:  66%|██████▋   | 69/104 [00:34<00:17,  1.98it/s, Loss=0.366]"
     ]
    },
    {
     "name": "stdout",
     "output_type": "stream",
     "text": [
      "✅ Loaded BraTS19_TCIA03_375_1: Image torch.Size([3, 224, 224]), Mask torch.Size([224, 224])\n",
      "✅ Loaded BraTS19_CBICA_BLJ_1: Image torch.Size([3, 224, 224]), Mask torch.Size([224, 224])\n"
     ]
    },
    {
     "name": "stderr",
     "output_type": "stream",
     "text": [
      "Epoch [12/15]:  67%|██████▋   | 70/104 [00:35<00:17,  1.98it/s, Loss=0.488]"
     ]
    },
    {
     "name": "stdout",
     "output_type": "stream",
     "text": [
      "✅ Loaded BraTS19_CBICA_AOZ_1: Image torch.Size([3, 224, 224]), Mask torch.Size([224, 224])\n",
      "✅ Loaded BraTS19_TCIA05_478_1: Image torch.Size([3, 224, 224]), Mask torch.Size([224, 224])\n"
     ]
    },
    {
     "name": "stderr",
     "output_type": "stream",
     "text": [
      "Epoch [12/15]:  68%|██████▊   | 71/104 [00:35<00:16,  1.99it/s, Loss=0.219]"
     ]
    },
    {
     "name": "stdout",
     "output_type": "stream",
     "text": [
      "✅ Loaded BraTS19_CBICA_BKV_1: Image torch.Size([3, 224, 224]), Mask torch.Size([224, 224])\n",
      "✅ Loaded BraTS19_CBICA_ASG_1: Image torch.Size([3, 224, 224]), Mask torch.Size([224, 224])\n"
     ]
    },
    {
     "name": "stderr",
     "output_type": "stream",
     "text": [
      "Epoch [12/15]:  69%|██████▉   | 72/104 [00:36<00:16,  2.00it/s, Loss=0.3]  "
     ]
    },
    {
     "name": "stdout",
     "output_type": "stream",
     "text": [
      "✅ Loaded BraTS19_2013_25_1: Image torch.Size([3, 224, 224]), Mask torch.Size([224, 224])\n",
      "✅ Loaded BraTS19_CBICA_AOC_1: Image torch.Size([3, 224, 224]), Mask torch.Size([224, 224])\n"
     ]
    },
    {
     "name": "stderr",
     "output_type": "stream",
     "text": [
      "Epoch [12/15]:  70%|███████   | 73/104 [00:36<00:15,  2.00it/s, Loss=0.274]"
     ]
    },
    {
     "name": "stdout",
     "output_type": "stream",
     "text": [
      "✅ Loaded BraTS19_CBICA_AAB_1: Image torch.Size([3, 224, 224]), Mask torch.Size([224, 224])\n",
      "✅ Loaded BraTS19_CBICA_BGX_1: Image torch.Size([3, 224, 224]), Mask torch.Size([224, 224])\n"
     ]
    },
    {
     "name": "stderr",
     "output_type": "stream",
     "text": [
      "Epoch [12/15]:  71%|███████   | 74/104 [00:37<00:15,  1.98it/s, Loss=0.232]"
     ]
    },
    {
     "name": "stdout",
     "output_type": "stream",
     "text": [
      "✅ Loaded BraTS19_TCIA02_491_1: Image torch.Size([3, 224, 224]), Mask torch.Size([224, 224])\n",
      "✅ Loaded BraTS19_2013_26_1: Image torch.Size([3, 224, 224]), Mask torch.Size([224, 224])\n"
     ]
    },
    {
     "name": "stderr",
     "output_type": "stream",
     "text": [
      "Epoch [12/15]:  72%|███████▏  | 75/104 [00:37<00:14,  1.98it/s, Loss=0.348]"
     ]
    },
    {
     "name": "stdout",
     "output_type": "stream",
     "text": [
      "✅ Loaded BraTS19_2013_20_1: Image torch.Size([3, 224, 224]), Mask torch.Size([224, 224])\n",
      "✅ Loaded BraTS19_CBICA_AOO_1: Image torch.Size([3, 224, 224]), Mask torch.Size([224, 224])\n"
     ]
    },
    {
     "name": "stderr",
     "output_type": "stream",
     "text": [
      "Epoch [12/15]:  73%|███████▎  | 76/104 [00:38<00:14,  1.99it/s, Loss=0.305]"
     ]
    },
    {
     "name": "stdout",
     "output_type": "stream",
     "text": [
      "✅ Loaded BraTS19_TCIA01_448_1: Image torch.Size([3, 224, 224]), Mask torch.Size([224, 224])\n",
      "✅ Loaded BraTS19_TCIA02_608_1: Image torch.Size([3, 224, 224]), Mask torch.Size([224, 224])\n"
     ]
    },
    {
     "name": "stderr",
     "output_type": "stream",
     "text": [
      "Epoch [12/15]:  74%|███████▍  | 77/104 [00:38<00:13,  2.00it/s, Loss=0.212]"
     ]
    },
    {
     "name": "stdout",
     "output_type": "stream",
     "text": [
      "✅ Loaded BraTS19_TCIA08_280_1: Image torch.Size([3, 224, 224]), Mask torch.Size([224, 224])\n",
      "✅ Loaded BraTS19_TCIA08_113_1: Image torch.Size([3, 224, 224]), Mask torch.Size([224, 224])\n"
     ]
    },
    {
     "name": "stderr",
     "output_type": "stream",
     "text": [
      "Epoch [12/15]:  75%|███████▌  | 78/104 [00:39<00:13,  1.98it/s, Loss=0.539]"
     ]
    },
    {
     "name": "stdout",
     "output_type": "stream",
     "text": [
      "✅ Loaded BraTS19_TCIA02_331_1: Image torch.Size([3, 224, 224]), Mask torch.Size([224, 224])\n",
      "✅ Loaded BraTS19_TCIA02_290_1: Image torch.Size([3, 224, 224]), Mask torch.Size([224, 224])\n"
     ]
    },
    {
     "name": "stderr",
     "output_type": "stream",
     "text": [
      "Epoch [12/15]:  76%|███████▌  | 79/104 [00:39<00:12,  1.98it/s, Loss=0.228]"
     ]
    },
    {
     "name": "stdout",
     "output_type": "stream",
     "text": [
      "✅ Loaded BraTS19_CBICA_ASV_1: Image torch.Size([3, 224, 224]), Mask torch.Size([224, 224])\n",
      "✅ Loaded BraTS19_TCIA01_131_1: Image torch.Size([3, 224, 224]), Mask torch.Size([224, 224])\n"
     ]
    },
    {
     "name": "stderr",
     "output_type": "stream",
     "text": [
      "Epoch [12/15]:  77%|███████▋  | 80/104 [00:40<00:12,  1.94it/s, Loss=0.24] "
     ]
    },
    {
     "name": "stdout",
     "output_type": "stream",
     "text": [
      "✅ Loaded BraTS19_CBICA_ATN_1: Image torch.Size([3, 224, 224]), Mask torch.Size([224, 224])\n",
      "✅ Loaded BraTS19_CBICA_AQN_1: Image torch.Size([3, 224, 224]), Mask torch.Size([224, 224])\n"
     ]
    },
    {
     "name": "stderr",
     "output_type": "stream",
     "text": [
      "Epoch [12/15]:  78%|███████▊  | 81/104 [00:41<00:11,  1.95it/s, Loss=0.359]"
     ]
    },
    {
     "name": "stdout",
     "output_type": "stream",
     "text": [
      "✅ Loaded BraTS19_CBICA_BHZ_1: Image torch.Size([3, 224, 224]), Mask torch.Size([224, 224])\n",
      "✅ Loaded BraTS19_TCIA01_180_1: Image torch.Size([3, 224, 224]), Mask torch.Size([224, 224])\n"
     ]
    },
    {
     "name": "stderr",
     "output_type": "stream",
     "text": [
      "Epoch [12/15]:  79%|███████▉  | 82/104 [00:41<00:11,  1.95it/s, Loss=0.321]"
     ]
    },
    {
     "name": "stdout",
     "output_type": "stream",
     "text": [
      "✅ Loaded BraTS19_TCIA03_257_1: Image torch.Size([3, 224, 224]), Mask torch.Size([224, 224])\n",
      "✅ Loaded BraTS19_CBICA_ABB_1: Image torch.Size([3, 224, 224]), Mask torch.Size([224, 224])\n"
     ]
    },
    {
     "name": "stderr",
     "output_type": "stream",
     "text": [
      "Epoch [12/15]:  80%|███████▉  | 83/104 [00:42<00:10,  1.96it/s, Loss=0.337]"
     ]
    },
    {
     "name": "stdout",
     "output_type": "stream",
     "text": [
      "✅ Loaded BraTS19_TCIA01_201_1: Image torch.Size([3, 224, 224]), Mask torch.Size([224, 224])\n",
      "✅ Loaded BraTS19_CBICA_AVV_1: Image torch.Size([3, 224, 224]), Mask torch.Size([224, 224])\n"
     ]
    },
    {
     "name": "stderr",
     "output_type": "stream",
     "text": [
      "Epoch [12/15]:  81%|████████  | 84/104 [00:42<00:10,  1.97it/s, Loss=0.313]"
     ]
    },
    {
     "name": "stdout",
     "output_type": "stream",
     "text": [
      "✅ Loaded BraTS19_TCIA01_221_1: Image torch.Size([3, 224, 224]), Mask torch.Size([224, 224])\n",
      "✅ Loaded BraTS19_TMC_12866_1: Image torch.Size([3, 224, 224]), Mask torch.Size([224, 224])\n"
     ]
    },
    {
     "name": "stderr",
     "output_type": "stream",
     "text": [
      "Epoch [12/15]:  82%|████████▏ | 85/104 [00:43<00:09,  1.98it/s, Loss=0.366]"
     ]
    },
    {
     "name": "stdout",
     "output_type": "stream",
     "text": [
      "✅ Loaded BraTS19_TCIA02_430_1: Image torch.Size([3, 224, 224]), Mask torch.Size([224, 224])\n",
      "✅ Loaded BraTS19_CBICA_BIC_1: Image torch.Size([3, 224, 224]), Mask torch.Size([224, 224])\n"
     ]
    },
    {
     "name": "stderr",
     "output_type": "stream",
     "text": [
      "Epoch [12/15]:  83%|████████▎ | 86/104 [00:43<00:09,  1.98it/s, Loss=0.318]"
     ]
    },
    {
     "name": "stdout",
     "output_type": "stream",
     "text": [
      "✅ Loaded BraTS19_TCIA02_274_1: Image torch.Size([3, 224, 224]), Mask torch.Size([224, 224])\n",
      "✅ Loaded BraTS19_TCIA02_198_1: Image torch.Size([3, 224, 224]), Mask torch.Size([224, 224])\n"
     ]
    },
    {
     "name": "stderr",
     "output_type": "stream",
     "text": [
      "Epoch [12/15]:  84%|████████▎ | 87/104 [00:44<00:08,  1.99it/s, Loss=0.209]"
     ]
    },
    {
     "name": "stdout",
     "output_type": "stream",
     "text": [
      "✅ Loaded BraTS19_CBICA_AQU_1: Image torch.Size([3, 224, 224]), Mask torch.Size([224, 224])\n",
      "✅ Loaded BraTS19_CBICA_BAX_1: Image torch.Size([3, 224, 224]), Mask torch.Size([224, 224])\n"
     ]
    },
    {
     "name": "stderr",
     "output_type": "stream",
     "text": [
      "Epoch [12/15]:  85%|████████▍ | 88/104 [00:44<00:08,  1.94it/s, Loss=0.413]"
     ]
    },
    {
     "name": "stdout",
     "output_type": "stream",
     "text": [
      "✅ Loaded BraTS19_CBICA_BHQ_1: Image torch.Size([3, 224, 224]), Mask torch.Size([224, 224])\n",
      "✅ Loaded BraTS19_CBICA_BGN_1: Image torch.Size([3, 224, 224]), Mask torch.Size([224, 224])\n"
     ]
    },
    {
     "name": "stderr",
     "output_type": "stream",
     "text": [
      "Epoch [12/15]:  86%|████████▌ | 89/104 [00:45<00:07,  1.96it/s, Loss=0.348]"
     ]
    },
    {
     "name": "stdout",
     "output_type": "stream",
     "text": [
      "✅ Loaded BraTS19_TCIA02_309_1: Image torch.Size([3, 224, 224]), Mask torch.Size([224, 224])\n",
      "✅ Loaded BraTS19_CBICA_AXQ_1: Image torch.Size([3, 224, 224]), Mask torch.Size([224, 224])\n"
     ]
    },
    {
     "name": "stderr",
     "output_type": "stream",
     "text": [
      "Epoch [12/15]:  87%|████████▋ | 90/104 [00:45<00:07,  1.97it/s, Loss=0.271]"
     ]
    },
    {
     "name": "stdout",
     "output_type": "stream",
     "text": [
      "✅ Loaded BraTS19_TCIA02_117_1: Image torch.Size([3, 224, 224]), Mask torch.Size([224, 224])\n",
      "✅ Loaded BraTS19_CBICA_BHV_1: Image torch.Size([3, 224, 224]), Mask torch.Size([224, 224])\n"
     ]
    },
    {
     "name": "stderr",
     "output_type": "stream",
     "text": [
      "Epoch [12/15]:  88%|████████▊ | 91/104 [00:46<00:06,  1.98it/s, Loss=0.266]"
     ]
    },
    {
     "name": "stdout",
     "output_type": "stream",
     "text": [
      "✅ Loaded BraTS19_CBICA_BCF_1: Image torch.Size([3, 224, 224]), Mask torch.Size([224, 224])\n",
      "✅ Loaded BraTS19_CBICA_APK_1: Image torch.Size([3, 224, 224]), Mask torch.Size([224, 224])\n"
     ]
    },
    {
     "name": "stderr",
     "output_type": "stream",
     "text": [
      "Epoch [12/15]:  88%|████████▊ | 92/104 [00:46<00:06,  1.97it/s, Loss=0.303]"
     ]
    },
    {
     "name": "stdout",
     "output_type": "stream",
     "text": [
      "✅ Loaded BraTS19_CBICA_ABE_1: Image torch.Size([3, 224, 224]), Mask torch.Size([224, 224])\n",
      "✅ Loaded BraTS19_TCIA01_460_1: Image torch.Size([3, 224, 224]), Mask torch.Size([224, 224])\n"
     ]
    },
    {
     "name": "stderr",
     "output_type": "stream",
     "text": [
      "Epoch [12/15]:  89%|████████▉ | 93/104 [00:47<00:05,  1.98it/s, Loss=0.271]"
     ]
    },
    {
     "name": "stdout",
     "output_type": "stream",
     "text": [
      "✅ Loaded BraTS19_CBICA_ALU_1: Image torch.Size([3, 224, 224]), Mask torch.Size([224, 224])\n",
      "✅ Loaded BraTS19_CBICA_AQV_1: Image torch.Size([3, 224, 224]), Mask torch.Size([224, 224])\n"
     ]
    },
    {
     "name": "stderr",
     "output_type": "stream",
     "text": [
      "Epoch [12/15]:  90%|█████████ | 94/104 [00:47<00:05,  1.98it/s, Loss=0.212]"
     ]
    },
    {
     "name": "stdout",
     "output_type": "stream",
     "text": [
      "✅ Loaded BraTS19_TCIA08_105_1: Image torch.Size([3, 224, 224]), Mask torch.Size([224, 224])\n",
      "✅ Loaded BraTS19_TCIA02_605_1: Image torch.Size([3, 224, 224]), Mask torch.Size([224, 224])\n"
     ]
    },
    {
     "name": "stderr",
     "output_type": "stream",
     "text": [
      "Epoch [12/15]:  91%|█████████▏| 95/104 [00:48<00:04,  1.99it/s, Loss=0.341]"
     ]
    },
    {
     "name": "stdout",
     "output_type": "stream",
     "text": [
      "✅ Loaded BraTS19_CBICA_AAP_1: Image torch.Size([3, 224, 224]), Mask torch.Size([224, 224])\n",
      "✅ Loaded BraTS19_TCIA08_218_1: Image torch.Size([3, 224, 224]), Mask torch.Size([224, 224])\n"
     ]
    },
    {
     "name": "stderr",
     "output_type": "stream",
     "text": [
      "Epoch [12/15]:  92%|█████████▏| 96/104 [00:48<00:04,  1.99it/s, Loss=0.229]"
     ]
    },
    {
     "name": "stdout",
     "output_type": "stream",
     "text": [
      "✅ Loaded BraTS19_TCIA01_499_1: Image torch.Size([3, 224, 224]), Mask torch.Size([224, 224])\n",
      "✅ Loaded BraTS19_CBICA_AQA_1: Image torch.Size([3, 224, 224]), Mask torch.Size([224, 224])\n"
     ]
    },
    {
     "name": "stderr",
     "output_type": "stream",
     "text": [
      "Epoch [12/15]:  93%|█████████▎| 97/104 [00:49<00:03,  1.99it/s, Loss=0.686]"
     ]
    },
    {
     "name": "stdout",
     "output_type": "stream",
     "text": [
      "✅ Loaded BraTS19_2013_27_1: Image torch.Size([3, 224, 224]), Mask torch.Size([224, 224])\n",
      "✅ Loaded BraTS19_CBICA_AWG_1: Image torch.Size([3, 224, 224]), Mask torch.Size([224, 224])\n"
     ]
    },
    {
     "name": "stderr",
     "output_type": "stream",
     "text": [
      "Epoch [12/15]:  94%|█████████▍| 98/104 [00:49<00:03,  1.99it/s, Loss=0.278]"
     ]
    },
    {
     "name": "stdout",
     "output_type": "stream",
     "text": [
      "✅ Loaded BraTS19_TCIA02_151_1: Image torch.Size([3, 224, 224]), Mask torch.Size([224, 224])\n",
      "✅ Loaded BraTS19_CBICA_AQO_1: Image torch.Size([3, 224, 224]), Mask torch.Size([224, 224])\n"
     ]
    },
    {
     "name": "stderr",
     "output_type": "stream",
     "text": [
      "Epoch [12/15]:  95%|█████████▌| 99/104 [00:50<00:02,  1.97it/s, Loss=0.131]"
     ]
    },
    {
     "name": "stdout",
     "output_type": "stream",
     "text": [
      "✅ Loaded BraTS19_TCIA01_150_1: Image torch.Size([3, 224, 224]), Mask torch.Size([224, 224])\n",
      "✅ Loaded BraTS19_TCIA06_603_1: Image torch.Size([3, 224, 224]), Mask torch.Size([224, 224])\n"
     ]
    },
    {
     "name": "stderr",
     "output_type": "stream",
     "text": [
      "Epoch [12/15]:  96%|█████████▌| 100/104 [00:50<00:02,  1.96it/s, Loss=0.212]"
     ]
    },
    {
     "name": "stdout",
     "output_type": "stream",
     "text": [
      "✅ Loaded BraTS19_TMC_15477_1: Image torch.Size([3, 224, 224]), Mask torch.Size([224, 224])\n",
      "✅ Loaded BraTS19_CBICA_ATB_1: Image torch.Size([3, 224, 224]), Mask torch.Size([224, 224])\n"
     ]
    },
    {
     "name": "stderr",
     "output_type": "stream",
     "text": [
      "Epoch [12/15]:  97%|█████████▋| 101/104 [00:51<00:01,  1.98it/s, Loss=0.428]"
     ]
    },
    {
     "name": "stdout",
     "output_type": "stream",
     "text": [
      "✅ Loaded BraTS19_TCIA03_138_1: Image torch.Size([3, 224, 224]), Mask torch.Size([224, 224])\n",
      "✅ Loaded BraTS19_CBICA_AQD_1: Image torch.Size([3, 224, 224]), Mask torch.Size([224, 224])\n"
     ]
    },
    {
     "name": "stderr",
     "output_type": "stream",
     "text": [
      "Epoch [12/15]:  98%|█████████▊| 102/104 [00:51<00:01,  1.97it/s, Loss=0.42] "
     ]
    },
    {
     "name": "stdout",
     "output_type": "stream",
     "text": [
      "✅ Loaded BraTS19_TCIA04_437_1: Image torch.Size([3, 224, 224]), Mask torch.Size([224, 224])\n",
      "✅ Loaded BraTS19_CBICA_BBG_1: Image torch.Size([3, 224, 224]), Mask torch.Size([224, 224])\n"
     ]
    },
    {
     "name": "stderr",
     "output_type": "stream",
     "text": [
      "Epoch [12/15]:  99%|█████████▉| 103/104 [00:52<00:00,  1.97it/s, Loss=0.231]"
     ]
    },
    {
     "name": "stdout",
     "output_type": "stream",
     "text": [
      "✅ Loaded BraTS19_TCIA08_167_1: Image torch.Size([3, 224, 224]), Mask torch.Size([224, 224])\n"
     ]
    },
    {
     "name": "stderr",
     "output_type": "stream",
     "text": [
      "                                                                            \r"
     ]
    },
    {
     "name": "stdout",
     "output_type": "stream",
     "text": [
      "\n",
      "✅ Epoch 12: Train Loss: 0.3321\n",
      "⚠️ No improvement for 2 epoch(s)\n"
     ]
    },
    {
     "name": "stderr",
     "output_type": "stream",
     "text": [
      "Epoch [13/15]:   0%|          | 0/104 [00:00<?, ?it/s]"
     ]
    },
    {
     "name": "stdout",
     "output_type": "stream",
     "text": [
      "✅ Loaded BraTS19_TCIA02_117_1: Image torch.Size([3, 224, 224]), Mask torch.Size([224, 224])\n",
      "✅ Loaded BraTS19_TCIA02_473_1: Image torch.Size([3, 224, 224]), Mask torch.Size([224, 224])\n"
     ]
    },
    {
     "name": "stderr",
     "output_type": "stream",
     "text": [
      "Epoch [13/15]:   1%|          | 1/104 [00:00<00:50,  2.02it/s, Loss=0.406]"
     ]
    },
    {
     "name": "stdout",
     "output_type": "stream",
     "text": [
      "✅ Loaded BraTS19_CBICA_BKV_1: Image torch.Size([3, 224, 224]), Mask torch.Size([224, 224])\n",
      "✅ Loaded BraTS19_CBICA_AXQ_1: Image torch.Size([3, 224, 224]), Mask torch.Size([224, 224])\n"
     ]
    },
    {
     "name": "stderr",
     "output_type": "stream",
     "text": [
      "Epoch [13/15]:   2%|▏         | 2/104 [00:00<00:50,  2.01it/s, Loss=0.356]"
     ]
    },
    {
     "name": "stdout",
     "output_type": "stream",
     "text": [
      "✅ Loaded BraTS19_CBICA_BAN_1: Image torch.Size([3, 224, 224]), Mask torch.Size([224, 224])\n",
      "✅ Loaded BraTS19_CBICA_AQA_1: Image torch.Size([3, 224, 224]), Mask torch.Size([224, 224])\n"
     ]
    },
    {
     "name": "stderr",
     "output_type": "stream",
     "text": [
      "Epoch [13/15]:   3%|▎         | 3/104 [00:01<00:50,  2.00it/s, Loss=0.333]"
     ]
    },
    {
     "name": "stdout",
     "output_type": "stream",
     "text": [
      "✅ Loaded BraTS19_TCIA01_499_1: Image torch.Size([3, 224, 224]), Mask torch.Size([224, 224])\n",
      "✅ Loaded BraTS19_TCIA08_469_1: Image torch.Size([3, 224, 224]), Mask torch.Size([224, 224])\n"
     ]
    },
    {
     "name": "stderr",
     "output_type": "stream",
     "text": [
      "Epoch [13/15]:   4%|▍         | 4/104 [00:01<00:49,  2.01it/s, Loss=0.311]"
     ]
    },
    {
     "name": "stdout",
     "output_type": "stream",
     "text": [
      "✅ Loaded BraTS19_CBICA_APK_1: Image torch.Size([3, 224, 224]), Mask torch.Size([224, 224])\n",
      "✅ Loaded BraTS19_CBICA_ASU_1: Image torch.Size([3, 224, 224]), Mask torch.Size([224, 224])\n"
     ]
    },
    {
     "name": "stderr",
     "output_type": "stream",
     "text": [
      "Epoch [13/15]:   5%|▍         | 5/104 [00:02<00:49,  2.00it/s, Loss=0.226]"
     ]
    },
    {
     "name": "stdout",
     "output_type": "stream",
     "text": [
      "✅ Loaded BraTS19_TCIA01_412_1: Image torch.Size([3, 224, 224]), Mask torch.Size([224, 224])\n",
      "✅ Loaded BraTS19_CBICA_BGT_1: Image torch.Size([3, 224, 224]), Mask torch.Size([224, 224])\n"
     ]
    },
    {
     "name": "stderr",
     "output_type": "stream",
     "text": [
      "Epoch [13/15]:   6%|▌         | 6/104 [00:03<00:50,  1.96it/s, Loss=0.268]"
     ]
    },
    {
     "name": "stdout",
     "output_type": "stream",
     "text": [
      "✅ Loaded BraTS19_TCIA04_328_1: Image torch.Size([3, 224, 224]), Mask torch.Size([224, 224])\n",
      "✅ Loaded BraTS19_CBICA_BIC_1: Image torch.Size([3, 224, 224]), Mask torch.Size([224, 224])\n"
     ]
    },
    {
     "name": "stderr",
     "output_type": "stream",
     "text": [
      "Epoch [13/15]:   7%|▋         | 7/104 [00:03<00:48,  1.99it/s, Loss=0.501]"
     ]
    },
    {
     "name": "stdout",
     "output_type": "stream",
     "text": [
      "✅ Loaded BraTS19_TCIA05_396_1: Image torch.Size([3, 224, 224]), Mask torch.Size([224, 224])\n",
      "✅ Loaded BraTS19_TCIA04_111_1: Image torch.Size([3, 224, 224]), Mask torch.Size([224, 224])\n"
     ]
    },
    {
     "name": "stderr",
     "output_type": "stream",
     "text": [
      "Epoch [13/15]:   8%|▊         | 8/104 [00:04<00:48,  1.99it/s, Loss=0.241]"
     ]
    },
    {
     "name": "stdout",
     "output_type": "stream",
     "text": [
      "✅ Loaded BraTS19_2013_12_1: Image torch.Size([3, 224, 224]), Mask torch.Size([224, 224])\n",
      "✅ Loaded BraTS19_TCIA08_162_1: Image torch.Size([3, 224, 224]), Mask torch.Size([224, 224])\n"
     ]
    },
    {
     "name": "stderr",
     "output_type": "stream",
     "text": [
      "Epoch [13/15]:   9%|▊         | 9/104 [00:04<00:48,  1.97it/s, Loss=0.303]"
     ]
    },
    {
     "name": "stdout",
     "output_type": "stream",
     "text": [
      "✅ Loaded BraTS19_CBICA_AMH_1: Image torch.Size([3, 224, 224]), Mask torch.Size([224, 224])\n",
      "✅ Loaded BraTS19_CBICA_AQZ_1: Image torch.Size([3, 224, 224]), Mask torch.Size([224, 224])\n"
     ]
    },
    {
     "name": "stderr",
     "output_type": "stream",
     "text": [
      "Epoch [13/15]:  10%|▉         | 10/104 [00:05<00:46,  2.00it/s, Loss=0.301]"
     ]
    },
    {
     "name": "stdout",
     "output_type": "stream",
     "text": [
      "✅ Loaded BraTS19_TCIA02_455_1: Image torch.Size([3, 224, 224]), Mask torch.Size([224, 224])\n",
      "✅ Loaded BraTS19_TCIA02_368_1: Image torch.Size([3, 224, 224]), Mask torch.Size([224, 224])\n"
     ]
    },
    {
     "name": "stderr",
     "output_type": "stream",
     "text": [
      "Epoch [13/15]:  11%|█         | 11/104 [00:05<00:46,  1.98it/s, Loss=0.288]"
     ]
    },
    {
     "name": "stdout",
     "output_type": "stream",
     "text": [
      "✅ Loaded BraTS19_TCIA08_218_1: Image torch.Size([3, 224, 224]), Mask torch.Size([224, 224])\n",
      "✅ Loaded BraTS19_CBICA_BGG_1: Image torch.Size([3, 224, 224]), Mask torch.Size([224, 224])\n"
     ]
    },
    {
     "name": "stderr",
     "output_type": "stream",
     "text": [
      "Epoch [13/15]:  12%|█▏        | 12/104 [00:06<00:46,  1.99it/s, Loss=0.147]"
     ]
    },
    {
     "name": "stdout",
     "output_type": "stream",
     "text": [
      "✅ Loaded BraTS19_TCIA03_419_1: Image torch.Size([3, 224, 224]), Mask torch.Size([224, 224])\n",
      "✅ Loaded BraTS19_CBICA_ASN_1: Image torch.Size([3, 224, 224]), Mask torch.Size([224, 224])\n"
     ]
    },
    {
     "name": "stderr",
     "output_type": "stream",
     "text": [
      "Epoch [13/15]:  12%|█▎        | 13/104 [00:06<00:45,  1.99it/s, Loss=0.326]"
     ]
    },
    {
     "name": "stdout",
     "output_type": "stream",
     "text": [
      "✅ Loaded BraTS19_CBICA_ANG_1: Image torch.Size([3, 224, 224]), Mask torch.Size([224, 224])\n",
      "✅ Loaded BraTS19_CBICA_BHV_1: Image torch.Size([3, 224, 224]), Mask torch.Size([224, 224])\n"
     ]
    },
    {
     "name": "stderr",
     "output_type": "stream",
     "text": [
      "Epoch [13/15]:  13%|█▎        | 14/104 [00:07<00:45,  2.00it/s, Loss=0.23] "
     ]
    },
    {
     "name": "stdout",
     "output_type": "stream",
     "text": [
      "✅ Loaded BraTS19_TCIA02_171_1: Image torch.Size([3, 224, 224]), Mask torch.Size([224, 224])\n",
      "✅ Loaded BraTS19_TCIA01_186_1: Image torch.Size([3, 224, 224]), Mask torch.Size([224, 224])\n"
     ]
    },
    {
     "name": "stderr",
     "output_type": "stream",
     "text": [
      "Epoch [13/15]:  14%|█▍        | 15/104 [00:07<00:44,  1.99it/s, Loss=0.399]"
     ]
    },
    {
     "name": "stdout",
     "output_type": "stream",
     "text": [
      "✅ Loaded BraTS19_2013_13_1: Image torch.Size([3, 224, 224]), Mask torch.Size([224, 224])\n",
      "✅ Loaded BraTS19_TCIA06_211_1: Image torch.Size([3, 224, 224]), Mask torch.Size([224, 224])\n"
     ]
    },
    {
     "name": "stderr",
     "output_type": "stream",
     "text": [
      "Epoch [13/15]:  15%|█▌        | 16/104 [00:08<00:44,  1.99it/s, Loss=0.357]"
     ]
    },
    {
     "name": "stdout",
     "output_type": "stream",
     "text": [
      "✅ Loaded BraTS19_TCIA08_167_1: Image torch.Size([3, 224, 224]), Mask torch.Size([224, 224])\n",
      "✅ Loaded BraTS19_CBICA_AAB_1: Image torch.Size([3, 224, 224]), Mask torch.Size([224, 224])\n"
     ]
    },
    {
     "name": "stderr",
     "output_type": "stream",
     "text": [
      "Epoch [13/15]:  16%|█▋        | 17/104 [00:08<00:43,  2.00it/s, Loss=0.29] "
     ]
    },
    {
     "name": "stdout",
     "output_type": "stream",
     "text": [
      "✅ Loaded BraTS19_TCIA01_150_1: Image torch.Size([3, 224, 224]), Mask torch.Size([224, 224])\n",
      "✅ Loaded BraTS19_2013_7_1: Image torch.Size([3, 224, 224]), Mask torch.Size([224, 224])\n"
     ]
    },
    {
     "name": "stderr",
     "output_type": "stream",
     "text": [
      "Epoch [13/15]:  17%|█▋        | 18/104 [00:09<00:43,  2.00it/s, Loss=0.252]"
     ]
    },
    {
     "name": "stdout",
     "output_type": "stream",
     "text": [
      "✅ Loaded BraTS19_CBICA_AYU_1: Image torch.Size([3, 224, 224]), Mask torch.Size([224, 224])\n",
      "✅ Loaded BraTS19_TCIA06_184_1: Image torch.Size([3, 224, 224]), Mask torch.Size([224, 224])\n"
     ]
    },
    {
     "name": "stderr",
     "output_type": "stream",
     "text": [
      "Epoch [13/15]:  18%|█▊        | 19/104 [00:09<00:42,  2.00it/s, Loss=0.255]"
     ]
    },
    {
     "name": "stdout",
     "output_type": "stream",
     "text": [
      "✅ Loaded BraTS19_CBICA_BHB_1: Image torch.Size([3, 224, 224]), Mask torch.Size([224, 224])\n",
      "✅ Loaded BraTS19_TCIA06_332_1: Image torch.Size([3, 224, 224]), Mask torch.Size([224, 224])\n"
     ]
    },
    {
     "name": "stderr",
     "output_type": "stream",
     "text": [
      "Epoch [13/15]:  19%|█▉        | 20/104 [00:10<00:42,  1.98it/s, Loss=0.572]"
     ]
    },
    {
     "name": "stdout",
     "output_type": "stream",
     "text": [
      "✅ Loaded BraTS19_CBICA_AXM_1: Image torch.Size([3, 224, 224]), Mask torch.Size([224, 224])\n",
      "✅ Loaded BraTS19_CBICA_AOZ_1: Image torch.Size([3, 224, 224]), Mask torch.Size([224, 224])\n"
     ]
    },
    {
     "name": "stderr",
     "output_type": "stream",
     "text": [
      "Epoch [13/15]:  20%|██        | 21/104 [00:10<00:42,  1.97it/s, Loss=0.202]"
     ]
    },
    {
     "name": "stdout",
     "output_type": "stream",
     "text": [
      "✅ Loaded BraTS19_TCIA03_138_1: Image torch.Size([3, 224, 224]), Mask torch.Size([224, 224])\n",
      "✅ Loaded BraTS19_2013_21_1: Image torch.Size([3, 224, 224]), Mask torch.Size([224, 224])\n"
     ]
    },
    {
     "name": "stderr",
     "output_type": "stream",
     "text": [
      "Epoch [13/15]:  21%|██        | 22/104 [00:11<00:41,  1.96it/s, Loss=0.356]"
     ]
    },
    {
     "name": "stdout",
     "output_type": "stream",
     "text": [
      "✅ Loaded BraTS19_TCIA03_257_1: Image torch.Size([3, 224, 224]), Mask torch.Size([224, 224])\n",
      "✅ Loaded BraTS19_TCIA05_444_1: Image torch.Size([3, 224, 224]), Mask torch.Size([224, 224])\n"
     ]
    },
    {
     "name": "stderr",
     "output_type": "stream",
     "text": [
      "Epoch [13/15]:  22%|██▏       | 23/104 [00:11<00:41,  1.97it/s, Loss=0.346]"
     ]
    },
    {
     "name": "stdout",
     "output_type": "stream",
     "text": [
      "✅ Loaded BraTS19_TCIA02_168_1: Image torch.Size([3, 224, 224]), Mask torch.Size([224, 224])\n",
      "✅ Loaded BraTS19_CBICA_AVJ_1: Image torch.Size([3, 224, 224]), Mask torch.Size([224, 224])\n"
     ]
    },
    {
     "name": "stderr",
     "output_type": "stream",
     "text": [
      "Epoch [13/15]:  23%|██▎       | 24/104 [00:12<00:40,  1.96it/s, Loss=0.261]"
     ]
    },
    {
     "name": "stdout",
     "output_type": "stream",
     "text": [
      "✅ Loaded BraTS19_TCIA03_375_1: Image torch.Size([3, 224, 224]), Mask torch.Size([224, 224])\n",
      "✅ Loaded BraTS19_CBICA_AQY_1: Image torch.Size([3, 224, 224]), Mask torch.Size([224, 224])\n"
     ]
    },
    {
     "name": "stderr",
     "output_type": "stream",
     "text": [
      "Epoch [13/15]:  24%|██▍       | 25/104 [00:12<00:40,  1.97it/s, Loss=0.549]"
     ]
    },
    {
     "name": "stdout",
     "output_type": "stream",
     "text": [
      "✅ Loaded BraTS19_2013_3_1: Image torch.Size([3, 224, 224]), Mask torch.Size([224, 224])\n",
      "✅ Loaded BraTS19_CBICA_ASE_1: Image torch.Size([3, 224, 224]), Mask torch.Size([224, 224])\n"
     ]
    },
    {
     "name": "stderr",
     "output_type": "stream",
     "text": [
      "Epoch [13/15]:  25%|██▌       | 26/104 [00:13<00:39,  1.98it/s, Loss=0.393]"
     ]
    },
    {
     "name": "stdout",
     "output_type": "stream",
     "text": [
      "✅ Loaded BraTS19_CBICA_AYC_1: Image torch.Size([3, 224, 224]), Mask torch.Size([224, 224])\n",
      "✅ Loaded BraTS19_TCIA02_430_1: Image torch.Size([3, 224, 224]), Mask torch.Size([224, 224])\n"
     ]
    },
    {
     "name": "stderr",
     "output_type": "stream",
     "text": [
      "Epoch [13/15]:  26%|██▌       | 27/104 [00:13<00:38,  1.99it/s, Loss=0.249]"
     ]
    },
    {
     "name": "stdout",
     "output_type": "stream",
     "text": [
      "✅ Loaded BraTS19_CBICA_AQO_1: Image torch.Size([3, 224, 224]), Mask torch.Size([224, 224])\n",
      "✅ Loaded BraTS19_CBICA_AUR_1: Image torch.Size([3, 224, 224]), Mask torch.Size([224, 224])\n"
     ]
    },
    {
     "name": "stderr",
     "output_type": "stream",
     "text": [
      "Epoch [13/15]:  27%|██▋       | 28/104 [00:14<00:38,  1.99it/s, Loss=0.416]"
     ]
    },
    {
     "name": "stdout",
     "output_type": "stream",
     "text": [
      "✅ Loaded BraTS19_CBICA_ASG_1: Image torch.Size([3, 224, 224]), Mask torch.Size([224, 224])\n",
      "✅ Loaded BraTS19_TCIA08_205_1: Image torch.Size([3, 224, 224]), Mask torch.Size([224, 224])\n"
     ]
    },
    {
     "name": "stderr",
     "output_type": "stream",
     "text": [
      "Epoch [13/15]:  28%|██▊       | 29/104 [00:14<00:38,  1.97it/s, Loss=0.347]"
     ]
    },
    {
     "name": "stdout",
     "output_type": "stream",
     "text": [
      "✅ Loaded BraTS19_TCIA02_198_1: Image torch.Size([3, 224, 224]), Mask torch.Size([224, 224])\n",
      "✅ Loaded BraTS19_CBICA_ANZ_1: Image torch.Size([3, 224, 224]), Mask torch.Size([224, 224])\n"
     ]
    },
    {
     "name": "stderr",
     "output_type": "stream",
     "text": [
      "Epoch [13/15]:  29%|██▉       | 30/104 [00:15<00:37,  1.97it/s, Loss=0.455]"
     ]
    },
    {
     "name": "stdout",
     "output_type": "stream",
     "text": [
      "✅ Loaded BraTS19_CBICA_APR_1: Image torch.Size([3, 224, 224]), Mask torch.Size([224, 224])\n",
      "✅ Loaded BraTS19_TCIA02_321_1: Image torch.Size([3, 224, 224]), Mask torch.Size([224, 224])\n"
     ]
    },
    {
     "name": "stderr",
     "output_type": "stream",
     "text": [
      "Epoch [13/15]:  30%|██▉       | 31/104 [00:15<00:37,  1.97it/s, Loss=0.267]"
     ]
    },
    {
     "name": "stdout",
     "output_type": "stream",
     "text": [
      "✅ Loaded BraTS19_TCIA02_309_1: Image torch.Size([3, 224, 224]), Mask torch.Size([224, 224])\n",
      "✅ Loaded BraTS19_TCIA06_603_1: Image torch.Size([3, 224, 224]), Mask torch.Size([224, 224])\n"
     ]
    },
    {
     "name": "stderr",
     "output_type": "stream",
     "text": [
      "Epoch [13/15]:  31%|███       | 32/104 [00:16<00:36,  1.96it/s, Loss=0.249]"
     ]
    },
    {
     "name": "stdout",
     "output_type": "stream",
     "text": [
      "✅ Loaded BraTS19_2013_11_1: Image torch.Size([3, 224, 224]), Mask torch.Size([224, 224])\n",
      "✅ Loaded BraTS19_CBICA_AXJ_1: Image torch.Size([3, 224, 224]), Mask torch.Size([224, 224])\n"
     ]
    },
    {
     "name": "stderr",
     "output_type": "stream",
     "text": [
      "Epoch [13/15]:  32%|███▏      | 33/104 [00:16<00:36,  1.96it/s, Loss=0.418]"
     ]
    },
    {
     "name": "stdout",
     "output_type": "stream",
     "text": [
      "✅ Loaded BraTS19_TCIA01_425_1: Image torch.Size([3, 224, 224]), Mask torch.Size([224, 224])\n",
      "✅ Loaded BraTS19_CBICA_AUQ_1: Image torch.Size([3, 224, 224]), Mask torch.Size([224, 224])\n"
     ]
    },
    {
     "name": "stderr",
     "output_type": "stream",
     "text": [
      "Epoch [13/15]:  33%|███▎      | 34/104 [00:17<00:35,  1.96it/s, Loss=0.31] "
     ]
    },
    {
     "name": "stdout",
     "output_type": "stream",
     "text": [
      "✅ Loaded BraTS19_TCIA08_113_1: Image torch.Size([3, 224, 224]), Mask torch.Size([224, 224])\n",
      "✅ Loaded BraTS19_TMC_15477_1: Image torch.Size([3, 224, 224]), Mask torch.Size([224, 224])\n"
     ]
    },
    {
     "name": "stderr",
     "output_type": "stream",
     "text": [
      "Epoch [13/15]:  34%|███▎      | 35/104 [00:17<00:35,  1.96it/s, Loss=0.544]"
     ]
    },
    {
     "name": "stdout",
     "output_type": "stream",
     "text": [
      "✅ Loaded BraTS19_CBICA_BEM_1: Image torch.Size([3, 224, 224]), Mask torch.Size([224, 224])\n",
      "✅ Loaded BraTS19_CBICA_ATP_1: Image torch.Size([3, 224, 224]), Mask torch.Size([224, 224])\n"
     ]
    },
    {
     "name": "stderr",
     "output_type": "stream",
     "text": [
      "Epoch [13/15]:  35%|███▍      | 36/104 [00:18<00:34,  1.96it/s, Loss=0.375]"
     ]
    },
    {
     "name": "stdout",
     "output_type": "stream",
     "text": [
      "✅ Loaded BraTS19_CBICA_AAG_1: Image torch.Size([3, 224, 224]), Mask torch.Size([224, 224])\n",
      "✅ Loaded BraTS19_CBICA_AZH_1: Image torch.Size([3, 224, 224]), Mask torch.Size([224, 224])\n"
     ]
    },
    {
     "name": "stderr",
     "output_type": "stream",
     "text": [
      "Epoch [13/15]:  36%|███▌      | 37/104 [00:18<00:33,  1.98it/s, Loss=0.354]"
     ]
    },
    {
     "name": "stdout",
     "output_type": "stream",
     "text": [
      "✅ Loaded BraTS19_TCIA02_151_1: Image torch.Size([3, 224, 224]), Mask torch.Size([224, 224])\n",
      "✅ Loaded BraTS19_CBICA_BHZ_1: Image torch.Size([3, 224, 224]), Mask torch.Size([224, 224])\n"
     ]
    },
    {
     "name": "stderr",
     "output_type": "stream",
     "text": [
      "Epoch [13/15]:  37%|███▋      | 38/104 [00:19<00:33,  1.96it/s, Loss=0.161]"
     ]
    },
    {
     "name": "stdout",
     "output_type": "stream",
     "text": [
      "✅ Loaded BraTS19_TCIA02_608_1: Image torch.Size([3, 224, 224]), Mask torch.Size([224, 224])\n",
      "✅ Loaded BraTS19_TCIA02_274_1: Image torch.Size([3, 224, 224]), Mask torch.Size([224, 224])\n"
     ]
    },
    {
     "name": "stderr",
     "output_type": "stream",
     "text": [
      "Epoch [13/15]:  38%|███▊      | 39/104 [00:19<00:32,  1.98it/s, Loss=0.246]"
     ]
    },
    {
     "name": "stdout",
     "output_type": "stream",
     "text": [
      "✅ Loaded BraTS19_TCIA04_437_1: Image torch.Size([3, 224, 224]), Mask torch.Size([224, 224])\n",
      "✅ Loaded BraTS19_CBICA_ASH_1: Image torch.Size([3, 224, 224]), Mask torch.Size([224, 224])\n"
     ]
    },
    {
     "name": "stderr",
     "output_type": "stream",
     "text": [
      "Epoch [13/15]:  38%|███▊      | 40/104 [00:20<00:32,  1.98it/s, Loss=0.349]"
     ]
    },
    {
     "name": "stdout",
     "output_type": "stream",
     "text": [
      "✅ Loaded BraTS19_TCIA02_331_1: Image torch.Size([3, 224, 224]), Mask torch.Size([224, 224])\n",
      "✅ Loaded BraTS19_CBICA_AQD_1: Image torch.Size([3, 224, 224]), Mask torch.Size([224, 224])\n"
     ]
    },
    {
     "name": "stderr",
     "output_type": "stream",
     "text": [
      "Epoch [13/15]:  39%|███▉      | 41/104 [00:20<00:31,  1.99it/s, Loss=0.218]"
     ]
    },
    {
     "name": "stdout",
     "output_type": "stream",
     "text": [
      "✅ Loaded BraTS19_CBICA_AVT_1: Image torch.Size([3, 224, 224]), Mask torch.Size([224, 224])\n",
      "✅ Loaded BraTS19_TCIA01_378_1: Image torch.Size([3, 224, 224]), Mask torch.Size([224, 224])\n"
     ]
    },
    {
     "name": "stderr",
     "output_type": "stream",
     "text": [
      "Epoch [13/15]:  40%|████      | 42/104 [00:21<00:31,  1.99it/s, Loss=0.272]"
     ]
    },
    {
     "name": "stdout",
     "output_type": "stream",
     "text": [
      "✅ Loaded BraTS19_TMC_21360_1: Image torch.Size([3, 224, 224]), Mask torch.Size([224, 224])\n",
      "✅ Loaded BraTS19_CBICA_ABB_1: Image torch.Size([3, 224, 224]), Mask torch.Size([224, 224])\n"
     ]
    },
    {
     "name": "stderr",
     "output_type": "stream",
     "text": [
      "Epoch [13/15]:  41%|████▏     | 43/104 [00:21<00:30,  1.99it/s, Loss=0.212]"
     ]
    },
    {
     "name": "stdout",
     "output_type": "stream",
     "text": [
      "✅ Loaded BraTS19_TCIA03_498_1: Image torch.Size([3, 224, 224]), Mask torch.Size([224, 224])\n",
      "✅ Loaded BraTS19_CBICA_AVG_1: Image torch.Size([3, 224, 224]), Mask torch.Size([224, 224])\n"
     ]
    },
    {
     "name": "stderr",
     "output_type": "stream",
     "text": [
      "Epoch [13/15]:  42%|████▏     | 44/104 [00:22<00:30,  1.99it/s, Loss=0.359]"
     ]
    },
    {
     "name": "stdout",
     "output_type": "stream",
     "text": [
      "✅ Loaded BraTS19_CBICA_ALU_1: Image torch.Size([3, 224, 224]), Mask torch.Size([224, 224])\n",
      "✅ Loaded BraTS19_CBICA_BGN_1: Image torch.Size([3, 224, 224]), Mask torch.Size([224, 224])\n"
     ]
    },
    {
     "name": "stderr",
     "output_type": "stream",
     "text": [
      "Epoch [13/15]:  43%|████▎     | 45/104 [00:22<00:29,  2.00it/s, Loss=0.331]"
     ]
    },
    {
     "name": "stdout",
     "output_type": "stream",
     "text": [
      "✅ Loaded BraTS19_CBICA_AUN_1: Image torch.Size([3, 224, 224]), Mask torch.Size([224, 224])\n",
      "✅ Loaded BraTS19_CBICA_ATX_1: Image torch.Size([3, 224, 224]), Mask torch.Size([224, 224])\n"
     ]
    },
    {
     "name": "stderr",
     "output_type": "stream",
     "text": [
      "Epoch [13/15]:  44%|████▍     | 46/104 [00:23<00:29,  2.00it/s, Loss=0.29] "
     ]
    },
    {
     "name": "stdout",
     "output_type": "stream",
     "text": [
      "✅ Loaded BraTS19_CBICA_AXO_1: Image torch.Size([3, 224, 224]), Mask torch.Size([224, 224])\n",
      "✅ Loaded BraTS19_TCIA02_135_1: Image torch.Size([3, 224, 224]), Mask torch.Size([224, 224])\n"
     ]
    },
    {
     "name": "stderr",
     "output_type": "stream",
     "text": [
      "Epoch [13/15]:  45%|████▌     | 47/104 [00:23<00:28,  1.98it/s, Loss=0.284]"
     ]
    },
    {
     "name": "stdout",
     "output_type": "stream",
     "text": [
      "✅ Loaded BraTS19_CBICA_AQN_1: Image torch.Size([3, 224, 224]), Mask torch.Size([224, 224])\n",
      "✅ Loaded BraTS19_TCIA02_300_1: Image torch.Size([3, 224, 224]), Mask torch.Size([224, 224])\n"
     ]
    },
    {
     "name": "stderr",
     "output_type": "stream",
     "text": [
      "Epoch [13/15]:  46%|████▌     | 48/104 [00:24<00:28,  1.99it/s, Loss=0.165]"
     ]
    },
    {
     "name": "stdout",
     "output_type": "stream",
     "text": [
      "✅ Loaded BraTS19_CBICA_AQT_1: Image torch.Size([3, 224, 224]), Mask torch.Size([224, 224])\n",
      "✅ Loaded BraTS19_TCIA06_165_1: Image torch.Size([3, 224, 224]), Mask torch.Size([224, 224])\n"
     ]
    },
    {
     "name": "stderr",
     "output_type": "stream",
     "text": [
      "Epoch [13/15]:  47%|████▋     | 49/104 [00:24<00:27,  2.00it/s, Loss=0.269]"
     ]
    },
    {
     "name": "stdout",
     "output_type": "stream",
     "text": [
      "✅ Loaded BraTS19_CBICA_BAX_1: Image torch.Size([3, 224, 224]), Mask torch.Size([224, 224])\n",
      "✅ Loaded BraTS19_2013_2_1: Image torch.Size([3, 224, 224]), Mask torch.Size([224, 224])\n"
     ]
    },
    {
     "name": "stderr",
     "output_type": "stream",
     "text": [
      "Epoch [13/15]:  48%|████▊     | 50/104 [00:25<00:27,  1.99it/s, Loss=0.569]"
     ]
    },
    {
     "name": "stdout",
     "output_type": "stream",
     "text": [
      "✅ Loaded BraTS19_CBICA_ASY_1: Image torch.Size([3, 224, 224]), Mask torch.Size([224, 224])\n",
      "✅ Loaded BraTS19_CBICA_ASK_1: Image torch.Size([3, 224, 224]), Mask torch.Size([224, 224])\n"
     ]
    },
    {
     "name": "stderr",
     "output_type": "stream",
     "text": [
      "Epoch [13/15]:  49%|████▉     | 51/104 [00:25<00:26,  1.99it/s, Loss=0.322]"
     ]
    },
    {
     "name": "stdout",
     "output_type": "stream",
     "text": [
      "✅ Loaded BraTS19_CBICA_ATV_1: Image torch.Size([3, 224, 224]), Mask torch.Size([224, 224])\n",
      "✅ Loaded BraTS19_CBICA_AYA_1: Image torch.Size([3, 224, 224]), Mask torch.Size([224, 224])\n"
     ]
    },
    {
     "name": "stderr",
     "output_type": "stream",
     "text": [
      "Epoch [13/15]:  50%|█████     | 52/104 [00:26<00:26,  1.99it/s, Loss=0.24] "
     ]
    },
    {
     "name": "stdout",
     "output_type": "stream",
     "text": [
      "✅ Loaded BraTS19_TCIA05_478_1: Image torch.Size([3, 224, 224]), Mask torch.Size([224, 224])\n",
      "✅ Loaded BraTS19_CBICA_AWG_1: Image torch.Size([3, 224, 224]), Mask torch.Size([224, 224])\n"
     ]
    },
    {
     "name": "stderr",
     "output_type": "stream",
     "text": [
      "Epoch [13/15]:  51%|█████     | 53/104 [00:26<00:25,  2.00it/s, Loss=0.272]"
     ]
    },
    {
     "name": "stdout",
     "output_type": "stream",
     "text": [
      "✅ Loaded BraTS19_CBICA_AYI_1: Image torch.Size([3, 224, 224]), Mask torch.Size([224, 224])\n",
      "✅ Loaded BraTS19_TCIA02_283_1: Image torch.Size([3, 224, 224]), Mask torch.Size([224, 224])\n"
     ]
    },
    {
     "name": "stderr",
     "output_type": "stream",
     "text": [
      "Epoch [13/15]:  52%|█████▏    | 54/104 [00:27<00:25,  2.00it/s, Loss=0.262]"
     ]
    },
    {
     "name": "stdout",
     "output_type": "stream",
     "text": [
      "✅ Loaded BraTS19_2013_25_1: Image torch.Size([3, 224, 224]), Mask torch.Size([224, 224])\n",
      "✅ Loaded BraTS19_TCIA02_491_1: Image torch.Size([3, 224, 224]), Mask torch.Size([224, 224])\n"
     ]
    },
    {
     "name": "stderr",
     "output_type": "stream",
     "text": [
      "Epoch [13/15]:  53%|█████▎    | 55/104 [00:27<00:24,  2.00it/s, Loss=0.335]"
     ]
    },
    {
     "name": "stdout",
     "output_type": "stream",
     "text": [
      "✅ Loaded BraTS19_TCIA03_338_1: Image torch.Size([3, 224, 224]), Mask torch.Size([224, 224])\n",
      "✅ Loaded BraTS19_TCIA01_201_1: Image torch.Size([3, 224, 224]), Mask torch.Size([224, 224])\n"
     ]
    },
    {
     "name": "stderr",
     "output_type": "stream",
     "text": [
      "Epoch [13/15]:  54%|█████▍    | 56/104 [00:28<00:24,  2.00it/s, Loss=0.292]"
     ]
    },
    {
     "name": "stdout",
     "output_type": "stream",
     "text": [
      "✅ Loaded BraTS19_2013_5_1: Image torch.Size([3, 224, 224]), Mask torch.Size([224, 224])\n",
      "✅ Loaded BraTS19_TCIA02_377_1: Image torch.Size([3, 224, 224]), Mask torch.Size([224, 224])\n"
     ]
    },
    {
     "name": "stderr",
     "output_type": "stream",
     "text": [
      "Epoch [13/15]:  55%|█████▍    | 57/104 [00:28<00:23,  2.00it/s, Loss=0.206]"
     ]
    },
    {
     "name": "stdout",
     "output_type": "stream",
     "text": [
      "✅ Loaded BraTS19_TCIA02_290_1: Image torch.Size([3, 224, 224]), Mask torch.Size([224, 224])\n",
      "✅ Loaded BraTS19_TCIA02_118_1: Image torch.Size([3, 224, 224]), Mask torch.Size([224, 224])\n"
     ]
    },
    {
     "name": "stderr",
     "output_type": "stream",
     "text": [
      "Epoch [13/15]:  56%|█████▌    | 58/104 [00:29<00:23,  1.98it/s, Loss=0.395]"
     ]
    },
    {
     "name": "stdout",
     "output_type": "stream",
     "text": [
      "✅ Loaded BraTS19_CBICA_ANP_1: Image torch.Size([3, 224, 224]), Mask torch.Size([224, 224])\n",
      "✅ Loaded BraTS19_TCIA01_390_1: Image torch.Size([3, 224, 224]), Mask torch.Size([224, 224])\n"
     ]
    },
    {
     "name": "stderr",
     "output_type": "stream",
     "text": [
      "Epoch [13/15]:  57%|█████▋    | 59/104 [00:29<00:22,  1.97it/s, Loss=0.278]"
     ]
    },
    {
     "name": "stdout",
     "output_type": "stream",
     "text": [
      "✅ Loaded BraTS19_CBICA_BFP_1: Image torch.Size([3, 224, 224]), Mask torch.Size([224, 224])\n",
      "✅ Loaded BraTS19_TCIA02_607_1: Image torch.Size([3, 224, 224]), Mask torch.Size([224, 224])\n"
     ]
    },
    {
     "name": "stderr",
     "output_type": "stream",
     "text": [
      "Epoch [13/15]:  58%|█████▊    | 60/104 [00:30<00:22,  1.96it/s, Loss=0.338]"
     ]
    },
    {
     "name": "stdout",
     "output_type": "stream",
     "text": [
      "✅ Loaded BraTS19_TCIA02_222_1: Image torch.Size([3, 224, 224]), Mask torch.Size([224, 224])\n",
      "✅ Loaded BraTS19_CBICA_AXW_1: Image torch.Size([3, 224, 224]), Mask torch.Size([224, 224])\n"
     ]
    },
    {
     "name": "stderr",
     "output_type": "stream",
     "text": [
      "Epoch [13/15]:  59%|█████▊    | 61/104 [00:30<00:22,  1.95it/s, Loss=0.239]"
     ]
    },
    {
     "name": "stdout",
     "output_type": "stream",
     "text": [
      "✅ Loaded BraTS19_CBICA_AVB_1: Image torch.Size([3, 224, 224]), Mask torch.Size([224, 224])\n",
      "✅ Loaded BraTS19_CBICA_AYW_1: Image torch.Size([3, 224, 224]), Mask torch.Size([224, 224])\n"
     ]
    },
    {
     "name": "stderr",
     "output_type": "stream",
     "text": [
      "Epoch [13/15]:  60%|█████▉    | 62/104 [00:31<00:21,  1.96it/s, Loss=0.62] "
     ]
    },
    {
     "name": "stdout",
     "output_type": "stream",
     "text": [
      "✅ Loaded BraTS19_CBICA_ATD_1: Image torch.Size([3, 224, 224]), Mask torch.Size([224, 224])\n",
      "✅ Loaded BraTS19_TCIA02_179_1: Image torch.Size([3, 224, 224]), Mask torch.Size([224, 224])\n"
     ]
    },
    {
     "name": "stderr",
     "output_type": "stream",
     "text": [
      "Epoch [13/15]:  61%|██████    | 63/104 [00:31<00:20,  2.00it/s, Loss=0.526]"
     ]
    },
    {
     "name": "stdout",
     "output_type": "stream",
     "text": [
      "✅ Loaded BraTS19_CBICA_AQV_1: Image torch.Size([3, 224, 224]), Mask torch.Size([224, 224])\n",
      "✅ Loaded BraTS19_TCIA01_131_1: Image torch.Size([3, 224, 224]), Mask torch.Size([224, 224])\n"
     ]
    },
    {
     "name": "stderr",
     "output_type": "stream",
     "text": [
      "Epoch [13/15]:  62%|██████▏   | 64/104 [00:32<00:19,  2.00it/s, Loss=0.168]"
     ]
    },
    {
     "name": "stdout",
     "output_type": "stream",
     "text": [
      "✅ Loaded BraTS19_CBICA_BGE_1: Image torch.Size([3, 224, 224]), Mask torch.Size([224, 224])\n",
      "✅ Loaded BraTS19_TCIA02_605_1: Image torch.Size([3, 224, 224]), Mask torch.Size([224, 224])\n"
     ]
    },
    {
     "name": "stderr",
     "output_type": "stream",
     "text": [
      "Epoch [13/15]:  62%|██████▎   | 65/104 [00:32<00:19,  1.98it/s, Loss=0.221]"
     ]
    },
    {
     "name": "stdout",
     "output_type": "stream",
     "text": [
      "✅ Loaded BraTS19_CBICA_AOO_1: Image torch.Size([3, 224, 224]), Mask torch.Size([224, 224])\n",
      "✅ Loaded BraTS19_TCIA08_406_1: Image torch.Size([3, 224, 224]), Mask torch.Size([224, 224])\n"
     ]
    },
    {
     "name": "stderr",
     "output_type": "stream",
     "text": [
      "Epoch [13/15]:  63%|██████▎   | 66/104 [00:33<00:19,  1.99it/s, Loss=0.308]"
     ]
    },
    {
     "name": "stdout",
     "output_type": "stream",
     "text": [
      "✅ Loaded BraTS19_TCIA01_180_1: Image torch.Size([3, 224, 224]), Mask torch.Size([224, 224])\n",
      "✅ Loaded BraTS19_CBICA_AAP_1: Image torch.Size([3, 224, 224]), Mask torch.Size([224, 224])\n"
     ]
    },
    {
     "name": "stderr",
     "output_type": "stream",
     "text": [
      "Epoch [13/15]:  64%|██████▍   | 67/104 [00:33<00:18,  1.99it/s, Loss=0.325]"
     ]
    },
    {
     "name": "stdout",
     "output_type": "stream",
     "text": [
      "✅ Loaded BraTS19_CBICA_AOS_1: Image torch.Size([3, 224, 224]), Mask torch.Size([224, 224])\n",
      "✅ Loaded BraTS19_TCIA03_199_1: Image torch.Size([3, 224, 224]), Mask torch.Size([224, 224])\n"
     ]
    },
    {
     "name": "stderr",
     "output_type": "stream",
     "text": [
      "Epoch [13/15]:  65%|██████▌   | 68/104 [00:34<00:18,  1.99it/s, Loss=0.279]"
     ]
    },
    {
     "name": "stdout",
     "output_type": "stream",
     "text": [
      "✅ Loaded BraTS19_2013_19_1: Image torch.Size([3, 224, 224]), Mask torch.Size([224, 224])\n",
      "✅ Loaded BraTS19_TCIA01_190_1: Image torch.Size([3, 224, 224]), Mask torch.Size([224, 224])\n"
     ]
    },
    {
     "name": "stderr",
     "output_type": "stream",
     "text": [
      "Epoch [13/15]:  66%|██████▋   | 69/104 [00:34<00:17,  1.97it/s, Loss=0.302]"
     ]
    },
    {
     "name": "stdout",
     "output_type": "stream",
     "text": [
      "✅ Loaded BraTS19_CBICA_ALX_1: Image torch.Size([3, 224, 224]), Mask torch.Size([224, 224])\n",
      "✅ Loaded BraTS19_CBICA_BNR_1: Image torch.Size([3, 224, 224]), Mask torch.Size([224, 224])\n"
     ]
    },
    {
     "name": "stderr",
     "output_type": "stream",
     "text": [
      "Epoch [13/15]:  67%|██████▋   | 70/104 [00:35<00:17,  1.99it/s, Loss=0.288]"
     ]
    },
    {
     "name": "stdout",
     "output_type": "stream",
     "text": [
      "✅ Loaded BraTS19_TCIA01_147_1: Image torch.Size([3, 224, 224]), Mask torch.Size([224, 224])\n",
      "✅ Loaded BraTS19_CBICA_APZ_1: Image torch.Size([3, 224, 224]), Mask torch.Size([224, 224])\n"
     ]
    },
    {
     "name": "stderr",
     "output_type": "stream",
     "text": [
      "Epoch [13/15]:  68%|██████▊   | 71/104 [00:35<00:16,  1.99it/s, Loss=0.227]"
     ]
    },
    {
     "name": "stdout",
     "output_type": "stream",
     "text": [
      "✅ Loaded BraTS19_CBICA_BAP_1: Image torch.Size([3, 224, 224]), Mask torch.Size([224, 224])\n",
      "✅ Loaded BraTS19_CBICA_AVV_1: Image torch.Size([3, 224, 224]), Mask torch.Size([224, 224])\n"
     ]
    },
    {
     "name": "stderr",
     "output_type": "stream",
     "text": [
      "Epoch [13/15]:  69%|██████▉   | 72/104 [00:36<00:16,  1.99it/s, Loss=0.321]"
     ]
    },
    {
     "name": "stdout",
     "output_type": "stream",
     "text": [
      "✅ Loaded BraTS19_CBICA_AQP_1: Image torch.Size([3, 224, 224]), Mask torch.Size([224, 224])\n",
      "✅ Loaded BraTS19_TCIA06_409_1: Image torch.Size([3, 224, 224]), Mask torch.Size([224, 224])\n"
     ]
    },
    {
     "name": "stderr",
     "output_type": "stream",
     "text": [
      "Epoch [13/15]:  70%|███████   | 73/104 [00:36<00:15,  1.99it/s, Loss=0.305]"
     ]
    },
    {
     "name": "stdout",
     "output_type": "stream",
     "text": [
      "✅ Loaded BraTS19_CBICA_ABE_1: Image torch.Size([3, 224, 224]), Mask torch.Size([224, 224])\n",
      "✅ Loaded BraTS19_CBICA_AQU_1: Image torch.Size([3, 224, 224]), Mask torch.Size([224, 224])\n"
     ]
    },
    {
     "name": "stderr",
     "output_type": "stream",
     "text": [
      "Epoch [13/15]:  71%|███████   | 74/104 [00:37<00:15,  1.99it/s, Loss=0.374]"
     ]
    },
    {
     "name": "stdout",
     "output_type": "stream",
     "text": [
      "✅ Loaded BraTS19_CBICA_AQJ_1: Image torch.Size([3, 224, 224]), Mask torch.Size([224, 224])\n",
      "✅ Loaded BraTS19_CBICA_AME_1: Image torch.Size([3, 224, 224]), Mask torch.Size([224, 224])\n"
     ]
    },
    {
     "name": "stderr",
     "output_type": "stream",
     "text": [
      "Epoch [13/15]:  72%|███████▏  | 75/104 [00:37<00:14,  1.98it/s, Loss=0.262]"
     ]
    },
    {
     "name": "stdout",
     "output_type": "stream",
     "text": [
      "✅ Loaded BraTS19_CBICA_AQR_1: Image torch.Size([3, 224, 224]), Mask torch.Size([224, 224])\n",
      "✅ Loaded BraTS19_TCIA01_448_1: Image torch.Size([3, 224, 224]), Mask torch.Size([224, 224])\n"
     ]
    },
    {
     "name": "stderr",
     "output_type": "stream",
     "text": [
      "Epoch [13/15]:  73%|███████▎  | 76/104 [00:38<00:14,  1.96it/s, Loss=0.351]"
     ]
    },
    {
     "name": "stdout",
     "output_type": "stream",
     "text": [
      "✅ Loaded BraTS19_CBICA_BHQ_1: Image torch.Size([3, 224, 224]), Mask torch.Size([224, 224])\n",
      "✅ Loaded BraTS19_TCIA02_374_1: Image torch.Size([3, 224, 224]), Mask torch.Size([224, 224])\n"
     ]
    },
    {
     "name": "stderr",
     "output_type": "stream",
     "text": [
      "Epoch [13/15]:  74%|███████▍  | 77/104 [00:38<00:13,  1.97it/s, Loss=0.244]"
     ]
    },
    {
     "name": "stdout",
     "output_type": "stream",
     "text": [
      "✅ Loaded BraTS19_CBICA_BGW_1: Image torch.Size([3, 224, 224]), Mask torch.Size([224, 224])\n",
      "✅ Loaded BraTS19_TMC_11964_1: Image torch.Size([3, 224, 224]), Mask torch.Size([224, 224])\n"
     ]
    },
    {
     "name": "stderr",
     "output_type": "stream",
     "text": [
      "Epoch [13/15]:  75%|███████▌  | 78/104 [00:39<00:13,  1.95it/s, Loss=0.237]"
     ]
    },
    {
     "name": "stdout",
     "output_type": "stream",
     "text": [
      "✅ Loaded BraTS19_CBICA_ARZ_1: Image torch.Size([3, 224, 224]), Mask torch.Size([224, 224])\n",
      "✅ Loaded BraTS19_TCIA08_105_1: Image torch.Size([3, 224, 224]), Mask torch.Size([224, 224])\n"
     ]
    },
    {
     "name": "stderr",
     "output_type": "stream",
     "text": [
      "Epoch [13/15]:  76%|███████▌  | 79/104 [00:39<00:12,  1.95it/s, Loss=0.333]"
     ]
    },
    {
     "name": "stdout",
     "output_type": "stream",
     "text": [
      "✅ Loaded BraTS19_TCIA03_474_1: Image torch.Size([3, 224, 224]), Mask torch.Size([224, 224])\n",
      "✅ Loaded BraTS19_CBICA_BJY_1: Image torch.Size([3, 224, 224]), Mask torch.Size([224, 224])\n"
     ]
    },
    {
     "name": "stderr",
     "output_type": "stream",
     "text": [
      "Epoch [13/15]:  77%|███████▋  | 80/104 [00:40<00:12,  1.98it/s, Loss=0.25] "
     ]
    },
    {
     "name": "stdout",
     "output_type": "stream",
     "text": [
      "✅ Loaded BraTS19_2013_27_1: Image torch.Size([3, 224, 224]), Mask torch.Size([224, 224])\n",
      "✅ Loaded BraTS19_CBICA_ATB_1: Image torch.Size([3, 224, 224]), Mask torch.Size([224, 224])\n"
     ]
    },
    {
     "name": "stderr",
     "output_type": "stream",
     "text": [
      "Epoch [13/15]:  78%|███████▊  | 81/104 [00:40<00:11,  1.96it/s, Loss=0.361]"
     ]
    },
    {
     "name": "stdout",
     "output_type": "stream",
     "text": [
      "✅ Loaded BraTS19_TCIA03_121_1: Image torch.Size([3, 224, 224]), Mask torch.Size([224, 224])\n",
      "✅ Loaded BraTS19_TCIA01_235_1: Image torch.Size([3, 224, 224]), Mask torch.Size([224, 224])\n"
     ]
    },
    {
     "name": "stderr",
     "output_type": "stream",
     "text": [
      "Epoch [13/15]:  79%|███████▉  | 82/104 [00:41<00:11,  1.95it/s, Loss=0.418]"
     ]
    },
    {
     "name": "stdout",
     "output_type": "stream",
     "text": [
      "✅ Loaded BraTS19_CBICA_AUW_1: Image torch.Size([3, 224, 224]), Mask torch.Size([224, 224])\n",
      "✅ Loaded BraTS19_TCIA02_314_1: Image torch.Size([3, 224, 224]), Mask torch.Size([224, 224])\n"
     ]
    },
    {
     "name": "stderr",
     "output_type": "stream",
     "text": [
      "Epoch [13/15]:  80%|███████▉  | 83/104 [00:41<00:10,  1.93it/s, Loss=0.297]"
     ]
    },
    {
     "name": "stdout",
     "output_type": "stream",
     "text": [
      "✅ Loaded BraTS19_CBICA_AXL_1: Image torch.Size([3, 224, 224]), Mask torch.Size([224, 224])\n",
      "✅ Loaded BraTS19_2013_26_1: Image torch.Size([3, 224, 224]), Mask torch.Size([224, 224])\n"
     ]
    },
    {
     "name": "stderr",
     "output_type": "stream",
     "text": [
      "Epoch [13/15]:  81%|████████  | 84/104 [00:42<00:10,  1.95it/s, Loss=0.381]"
     ]
    },
    {
     "name": "stdout",
     "output_type": "stream",
     "text": [
      "✅ Loaded BraTS19_CBICA_ALN_1: Image torch.Size([3, 224, 224]), Mask torch.Size([224, 224])\n",
      "✅ Loaded BraTS19_CBICA_AWH_1: Image torch.Size([3, 224, 224]), Mask torch.Size([224, 224])\n"
     ]
    },
    {
     "name": "stderr",
     "output_type": "stream",
     "text": [
      "Epoch [13/15]:  82%|████████▏ | 85/104 [00:42<00:09,  1.95it/s, Loss=0.346]"
     ]
    },
    {
     "name": "stdout",
     "output_type": "stream",
     "text": [
      "✅ Loaded BraTS19_TCIA02_226_1: Image torch.Size([3, 224, 224]), Mask torch.Size([224, 224])\n",
      "✅ Loaded BraTS19_TCIA08_234_1: Image torch.Size([3, 224, 224]), Mask torch.Size([224, 224])\n"
     ]
    },
    {
     "name": "stderr",
     "output_type": "stream",
     "text": [
      "Epoch [13/15]:  83%|████████▎ | 86/104 [00:43<00:09,  1.96it/s, Loss=0.309]"
     ]
    },
    {
     "name": "stdout",
     "output_type": "stream",
     "text": [
      "✅ Loaded BraTS19_TCIA01_221_1: Image torch.Size([3, 224, 224]), Mask torch.Size([224, 224])\n",
      "✅ Loaded BraTS19_TCIA04_343_1: Image torch.Size([3, 224, 224]), Mask torch.Size([224, 224])\n"
     ]
    },
    {
     "name": "stderr",
     "output_type": "stream",
     "text": [
      "Epoch [13/15]:  84%|████████▎ | 87/104 [00:43<00:08,  1.94it/s, Loss=0.613]"
     ]
    },
    {
     "name": "stdout",
     "output_type": "stream",
     "text": [
      "✅ Loaded BraTS19_TCIA01_411_1: Image torch.Size([3, 224, 224]), Mask torch.Size([224, 224])\n",
      "✅ Loaded BraTS19_CBICA_AAL_1: Image torch.Size([3, 224, 224]), Mask torch.Size([224, 224])\n"
     ]
    },
    {
     "name": "stderr",
     "output_type": "stream",
     "text": [
      "Epoch [13/15]:  85%|████████▍ | 88/104 [00:44<00:08,  1.95it/s, Loss=0.393]"
     ]
    },
    {
     "name": "stdout",
     "output_type": "stream",
     "text": [
      "✅ Loaded BraTS19_CBICA_ARF_1: Image torch.Size([3, 224, 224]), Mask torch.Size([224, 224])\n",
      "✅ Loaded BraTS19_TCIA04_361_1: Image torch.Size([3, 224, 224]), Mask torch.Size([224, 224])\n"
     ]
    },
    {
     "name": "stderr",
     "output_type": "stream",
     "text": [
      "Epoch [13/15]:  86%|████████▌ | 89/104 [00:44<00:07,  1.95it/s, Loss=0.255]"
     ]
    },
    {
     "name": "stdout",
     "output_type": "stream",
     "text": [
      "✅ Loaded BraTS19_CBICA_ABY_1: Image torch.Size([3, 224, 224]), Mask torch.Size([224, 224])\n",
      "✅ Loaded BraTS19_CBICA_BLJ_1: Image torch.Size([3, 224, 224]), Mask torch.Size([224, 224])\n"
     ]
    },
    {
     "name": "stderr",
     "output_type": "stream",
     "text": [
      "Epoch [13/15]:  87%|████████▋ | 90/104 [00:45<00:07,  1.94it/s, Loss=0.415]"
     ]
    },
    {
     "name": "stdout",
     "output_type": "stream",
     "text": [
      "✅ Loaded BraTS19_CBICA_AQG_1: Image torch.Size([3, 224, 224]), Mask torch.Size([224, 224])\n",
      "✅ Loaded BraTS19_TCIA01_429_1: Image torch.Size([3, 224, 224]), Mask torch.Size([224, 224])\n"
     ]
    },
    {
     "name": "stderr",
     "output_type": "stream",
     "text": [
      "Epoch [13/15]:  88%|████████▊ | 91/104 [00:46<00:06,  1.92it/s, Loss=0.216]"
     ]
    },
    {
     "name": "stdout",
     "output_type": "stream",
     "text": [
      "✅ Loaded BraTS19_CBICA_ATN_1: Image torch.Size([3, 224, 224]), Mask torch.Size([224, 224])\n",
      "✅ Loaded BraTS19_CBICA_AOC_1: Image torch.Size([3, 224, 224]), Mask torch.Size([224, 224])\n"
     ]
    },
    {
     "name": "stderr",
     "output_type": "stream",
     "text": [
      "Epoch [13/15]:  88%|████████▊ | 92/104 [00:46<00:06,  1.92it/s, Loss=0.28] "
     ]
    },
    {
     "name": "stdout",
     "output_type": "stream",
     "text": [
      "✅ Loaded BraTS19_CBICA_BGX_1: Image torch.Size([3, 224, 224]), Mask torch.Size([224, 224])\n",
      "✅ Loaded BraTS19_TCIA04_149_1: Image torch.Size([3, 224, 224]), Mask torch.Size([224, 224])\n"
     ]
    },
    {
     "name": "stderr",
     "output_type": "stream",
     "text": [
      "Epoch [13/15]:  89%|████████▉ | 93/104 [00:47<00:05,  1.94it/s, Loss=0.231]"
     ]
    },
    {
     "name": "stdout",
     "output_type": "stream",
     "text": [
      "✅ Loaded BraTS19_2013_10_1: Image torch.Size([3, 224, 224]), Mask torch.Size([224, 224])\n",
      "✅ Loaded BraTS19_TCIA02_394_1: Image torch.Size([3, 224, 224]), Mask torch.Size([224, 224])\n"
     ]
    },
    {
     "name": "stderr",
     "output_type": "stream",
     "text": [
      "Epoch [13/15]:  90%|█████████ | 94/104 [00:47<00:05,  1.95it/s, Loss=0.141]"
     ]
    },
    {
     "name": "stdout",
     "output_type": "stream",
     "text": [
      "✅ Loaded BraTS19_CBICA_AUA_1: Image torch.Size([3, 224, 224]), Mask torch.Size([224, 224])\n",
      "✅ Loaded BraTS19_2013_18_1: Image torch.Size([3, 224, 224]), Mask torch.Size([224, 224])\n"
     ]
    },
    {
     "name": "stderr",
     "output_type": "stream",
     "text": [
      "Epoch [13/15]:  91%|█████████▏| 95/104 [00:48<00:04,  1.95it/s, Loss=0.284]"
     ]
    },
    {
     "name": "stdout",
     "output_type": "stream",
     "text": [
      "✅ Loaded BraTS19_CBICA_BBG_1: Image torch.Size([3, 224, 224]), Mask torch.Size([224, 224])\n",
      "✅ Loaded BraTS19_CBICA_ASV_1: Image torch.Size([3, 224, 224]), Mask torch.Size([224, 224])\n"
     ]
    },
    {
     "name": "stderr",
     "output_type": "stream",
     "text": [
      "Epoch [13/15]:  92%|█████████▏| 96/104 [00:48<00:04,  1.95it/s, Loss=0.251]"
     ]
    },
    {
     "name": "stdout",
     "output_type": "stream",
     "text": [
      "✅ Loaded BraTS19_TCIA03_296_1: Image torch.Size([3, 224, 224]), Mask torch.Size([224, 224])\n",
      "✅ Loaded BraTS19_TCIA04_479_1: Image torch.Size([3, 224, 224]), Mask torch.Size([224, 224])\n"
     ]
    },
    {
     "name": "stderr",
     "output_type": "stream",
     "text": [
      "Epoch [13/15]:  93%|█████████▎| 97/104 [00:49<00:03,  1.96it/s, Loss=0.249]"
     ]
    },
    {
     "name": "stdout",
     "output_type": "stream",
     "text": [
      "✅ Loaded BraTS19_TCIA02_322_1: Image torch.Size([3, 224, 224]), Mask torch.Size([224, 224])\n",
      "✅ Loaded BraTS19_CBICA_BCF_1: Image torch.Size([3, 224, 224]), Mask torch.Size([224, 224])\n"
     ]
    },
    {
     "name": "stderr",
     "output_type": "stream",
     "text": [
      "Epoch [13/15]:  94%|█████████▍| 98/104 [00:49<00:03,  1.97it/s, Loss=0.75] "
     ]
    },
    {
     "name": "stdout",
     "output_type": "stream",
     "text": [
      "✅ Loaded BraTS19_TCIA01_335_1: Image torch.Size([3, 224, 224]), Mask torch.Size([224, 224])\n",
      "✅ Loaded BraTS19_TMC_30014_1: Image torch.Size([3, 224, 224]), Mask torch.Size([224, 224])\n"
     ]
    },
    {
     "name": "stderr",
     "output_type": "stream",
     "text": [
      "Epoch [13/15]:  95%|█████████▌| 99/104 [00:50<00:02,  1.96it/s, Loss=0.183]"
     ]
    },
    {
     "name": "stdout",
     "output_type": "stream",
     "text": [
      "✅ Loaded BraTS19_CBICA_AWI_1: Image torch.Size([3, 224, 224]), Mask torch.Size([224, 224])\n",
      "✅ Loaded BraTS19_TCIA08_280_1: Image torch.Size([3, 224, 224]), Mask torch.Size([224, 224])\n"
     ]
    },
    {
     "name": "stderr",
     "output_type": "stream",
     "text": [
      "Epoch [13/15]:  96%|█████████▌| 100/104 [00:50<00:02,  1.97it/s, Loss=0.548]"
     ]
    },
    {
     "name": "stdout",
     "output_type": "stream",
     "text": [
      "✅ Loaded BraTS19_TMC_12866_1: Image torch.Size([3, 224, 224]), Mask torch.Size([224, 224])\n",
      "✅ Loaded BraTS19_TCIA01_460_1: Image torch.Size([3, 224, 224]), Mask torch.Size([224, 224])\n"
     ]
    },
    {
     "name": "stderr",
     "output_type": "stream",
     "text": [
      "Epoch [13/15]:  97%|█████████▋| 101/104 [00:51<00:01,  1.97it/s, Loss=0.224]"
     ]
    },
    {
     "name": "stdout",
     "output_type": "stream",
     "text": [
      "✅ Loaded BraTS19_CBICA_BFB_1: Image torch.Size([3, 224, 224]), Mask torch.Size([224, 224])\n",
      "✅ Loaded BraTS19_2013_4_1: Image torch.Size([3, 224, 224]), Mask torch.Size([224, 224])\n"
     ]
    },
    {
     "name": "stderr",
     "output_type": "stream",
     "text": [
      "Epoch [13/15]:  98%|█████████▊| 102/104 [00:51<00:01,  1.97it/s, Loss=0.602]"
     ]
    },
    {
     "name": "stdout",
     "output_type": "stream",
     "text": [
      "✅ Loaded BraTS19_2013_20_1: Image torch.Size([3, 224, 224]), Mask torch.Size([224, 224])\n",
      "✅ Loaded BraTS19_CBICA_ASA_1: Image torch.Size([3, 224, 224]), Mask torch.Size([224, 224])\n"
     ]
    },
    {
     "name": "stderr",
     "output_type": "stream",
     "text": [
      "Epoch [13/15]:  99%|█████████▉| 103/104 [00:52<00:00,  2.00it/s, Loss=0.357]"
     ]
    },
    {
     "name": "stdout",
     "output_type": "stream",
     "text": [
      "✅ Loaded BraTS19_TCIA04_192_1: Image torch.Size([3, 224, 224]), Mask torch.Size([224, 224])\n"
     ]
    },
    {
     "name": "stderr",
     "output_type": "stream",
     "text": [
      "                                                                            "
     ]
    },
    {
     "name": "stdout",
     "output_type": "stream",
     "text": [
      "\n",
      "✅ Epoch 13: Train Loss: 0.3265\n",
      "⚠️ No improvement for 3 epoch(s)\n",
      "⏹️ Early stopping triggered at epoch 13\n",
      "🏁 Training complete.\n"
     ]
    },
    {
     "name": "stderr",
     "output_type": "stream",
     "text": [
      "\r"
     ]
    }
   ],
   "source": [
    "optimizer = torch.optim.Adam(model.parameters(), lr=1e-4)\n",
    "train_model_deeplab(\n",
    "    model=model,\n",
    "    train_loader=train_loader,\n",
    "    optimizer=optimizer,\n",
    "    loss_fn=combined_loss, \n",
    "    device=device,\n",
    "    epochs=15,\n",
    "    patience=3,\n",
    "    save_path=\"2019_hgg_deeplabv3_resNet50.pth\"\n",
    ")"
   ]
  },
  {
   "cell_type": "code",
   "execution_count": null,
   "id": "b37a89e1",
   "metadata": {},
   "outputs": [],
   "source": []
  }
 ],
 "metadata": {
  "kernelspec": {
   "display_name": ".venv",
   "language": "python",
   "name": "python3"
  },
  "language_info": {
   "codemirror_mode": {
    "name": "ipython",
    "version": 3
   },
   "file_extension": ".py",
   "mimetype": "text/x-python",
   "name": "python",
   "nbconvert_exporter": "python",
   "pygments_lexer": "ipython3",
   "version": "3.9.13"
  }
 },
 "nbformat": 4,
 "nbformat_minor": 5
}
